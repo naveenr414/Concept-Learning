{
 "cells": [
  {
   "cell_type": "code",
   "execution_count": 1,
   "id": "f23c7aa0",
   "metadata": {},
   "outputs": [],
   "source": [
    "%load_ext autoreload\n",
    "%autoreload 2"
   ]
  },
  {
   "cell_type": "code",
   "execution_count": 2,
   "id": "e88c9a98",
   "metadata": {},
   "outputs": [],
   "source": [
    "import os\n",
    "os.chdir('../')"
   ]
  },
  {
   "cell_type": "code",
   "execution_count": 3,
   "id": "4eb08d53",
   "metadata": {},
   "outputs": [],
   "source": [
    "import numpy as np\n",
    "import os\n",
    "import torch\n",
    "from torch import nn\n",
    "from torch.utils.data import DataLoader\n",
    "import pytorch_lightning as pl\n",
    "from torch.utils.data import TensorDataset, DataLoader\n",
    "from torch_geometric.data import DataLoader, Dataset\n",
    "from copy import deepcopy\n",
    "import random\n",
    "import pickle\n",
    "import matplotlib.pyplot as plt\n",
    "from torch.utils.data import DataLoader, Subset, random_split\n",
    "import glob\n",
    "from PIL import Image\n",
    "from collections import Counter\n",
    "import torch_geometric\n",
    "from torch_geometric.nn import MessagePassing\n",
    "from torch_geometric.utils import add_self_loops, degree\n",
    "import torch.nn.functional as F\n",
    "from torch.nn import Linear, ReLU, BatchNorm1d, Module, Sequential\n",
    "from torch_geometric.nn import global_mean_pool, global_max_pool, global_sort_pool, global_add_pool\n",
    "from torch_scatter import scatter\n",
    "from torch_geometric.data import Data\n",
    "from torch_geometric.utils import to_undirected\n",
    "from sklearn.metrics.pairwise import cosine_similarity\n",
    "from sklearn.linear_model import LogisticRegression\n",
    "from sklearn.metrics import accuracy_score, f1_score\n",
    "import wandb"
   ]
  },
  {
   "cell_type": "code",
   "execution_count": 4,
   "id": "c9d549ab",
   "metadata": {},
   "outputs": [],
   "source": [
    "from experiments import hierarchy\n",
    "from experiments.cbm_models import *\n",
    "from experiments.dataset import *"
   ]
  },
  {
   "cell_type": "markdown",
   "id": "59af9232",
   "metadata": {},
   "source": [
    "## Load Hierarchies in "
   ]
  },
  {
   "cell_type": "code",
   "execution_count": 5,
   "id": "a21a4157",
   "metadata": {},
   "outputs": [],
   "source": [
    "mnist_hierarchy = hierarchy.Hierarchy()\n",
    "mnist_hierarchy.from_array(np.array(np.load(open(\"results/hierarchies/label_mnist.npy\",\"rb\"))),hierarchy.mnist_attributes)\n",
    "mnist_groups = hierarchy.traverse_hierarchy(mnist_hierarchy.root_split)\n",
    "mnist_groups_idx = [[hierarchy.mnist_attributes.index(j) for j in group] for group in mnist_groups]"
   ]
  },
  {
   "cell_type": "code",
   "execution_count": 6,
   "id": "c1f5be11",
   "metadata": {},
   "outputs": [],
   "source": [
    "cub_hierarchy = hierarchy.Hierarchy()\n",
    "cub_hierarchy.from_array(np.array(np.load(open(\"results/hierarchies/label_cub.npy\",\"rb\"))),hierarchy.cub_attributes)\n",
    "cub_groups = hierarchy.traverse_hierarchy(cub_hierarchy.root_split)\n",
    "cub_groups_idx = [[hierarchy.cub_attributes.index(j) for j in group] for group in cub_groups]"
   ]
  },
  {
   "cell_type": "markdown",
   "id": "0330621d",
   "metadata": {},
   "source": [
    "## Load Data"
   ]
  },
  {
   "cell_type": "code",
   "execution_count": 7,
   "id": "ce86fb43",
   "metadata": {},
   "outputs": [],
   "source": [
    "cub_train_independent, cub_val_independent = load_cub_independent()\n",
    "cub_train_sequential, cub_val_sequential = load_cub_sequential()"
   ]
  },
  {
   "cell_type": "code",
   "execution_count": 8,
   "id": "9a8f7f9b",
   "metadata": {},
   "outputs": [],
   "source": [
    "cub_train_cem, cub_val_cem = load_cub_cem()"
   ]
  },
  {
   "cell_type": "code",
   "execution_count": 9,
   "id": "e8cc6f34",
   "metadata": {},
   "outputs": [],
   "source": [
    "cub_related_labels = get_related_scores(np.load(open(\"concept_vectors/labels_43.npy\",\"rb\")))\n",
    "embedding_matrix = np.load(open(\"concept_vectors/labels_43.npy\",\"rb\"))\n",
    "sim_matrix = cosine_similarity(embedding_matrix)"
   ]
  },
  {
   "cell_type": "code",
   "execution_count": 10,
   "id": "90e0b522",
   "metadata": {},
   "outputs": [],
   "source": [
    "edge_attr, edge_index = get_attr_index(cub_groups,hierarchy.cub_attributes,sim_matrix,use_random=False)"
   ]
  },
  {
   "cell_type": "code",
   "execution_count": 11,
   "id": "059d9113",
   "metadata": {},
   "outputs": [
    {
     "name": "stderr",
     "output_type": "stream",
     "text": [
      "/rds/user/njr61/hpc-work/anaconda3/envs/gnn/lib/python3.9/site-packages/torch_geometric/deprecation.py:13: UserWarning: 'data.DataLoader' is deprecated, use 'loader.DataLoader' instead\n",
      "  warnings.warn(out)\n"
     ]
    }
   ],
   "source": [
    "cub_train_independent_graph = tensor_to_graph(cub_train_independent,edge_attr,edge_index)\n",
    "cub_val_independent_graph = tensor_to_graph(cub_val_independent,edge_attr,edge_index)\n",
    "cub_train_sequential_graph = tensor_to_graph(cub_train_sequential,edge_attr,edge_index)\n",
    "cub_val_sequential_graph = tensor_to_graph(cub_val_sequential,edge_attr,edge_index)\n",
    "cub_train_cem_graph = tensor_to_graph(cub_train_cem,edge_attr,edge_index)\n",
    "cub_val_cem_graph = tensor_to_graph(cub_val_cem,edge_attr,edge_index)"
   ]
  },
  {
   "cell_type": "code",
   "execution_count": 12,
   "id": "9ff26451",
   "metadata": {},
   "outputs": [],
   "source": [
    "x,y,c = next(iter(cub_train_independent))\n",
    "bottleneck_size = c.shape[0]\n",
    "output_classes = 10 if bottleneck_size == 21 else 200"
   ]
  },
  {
   "cell_type": "markdown",
   "id": "a5a3744a",
   "metadata": {},
   "source": [
    "## Evaluate Models"
   ]
  },
  {
   "cell_type": "code",
   "execution_count": 37,
   "id": "06fca119",
   "metadata": {},
   "outputs": [],
   "source": [
    "scores_by_model_type = {}\n",
    "bottleneck_size = 112\n",
    "output_classes = 200"
   ]
  },
  {
   "cell_type": "code",
   "execution_count": 107,
   "id": "f3042b57",
   "metadata": {},
   "outputs": [
    {
     "name": "stdout",
     "output_type": "stream",
     "text": [
      "Finished!\n",
      "Score for gnn, 0.6606320142745972 +- 0.14176370203495026\n",
      "Finished!\n",
      "Score for gnn_basic, 0.739497184753418 +- 0.04796473681926727\n"
     ]
    },
    {
     "name": "stderr",
     "output_type": "stream",
     "text": [
      "GPU available: False, used: False\n",
      "TPU available: False, using: 0 TPU cores\n",
      "IPU available: False, using: 0 IPUs\n",
      "HPU available: False, using: 0 HPUs\n",
      "\n",
      "  | Name    | Type    | Params\n",
      "------------------------------------\n",
      "0 | relu    | ReLU    | 0     \n",
      "1 | softmax | Softmax | 0     \n",
      "2 | sigmoid | Sigmoid | 0     \n",
      "3 | fc      | Linear  | 6.4 K \n",
      "------------------------------------\n",
      "6.4 K     Trainable params\n",
      "0         Non-trainable params\n",
      "6.4 K     Total params\n",
      "0.026     Total estimated model params size (MB)\n",
      "`Trainer.fit` stopped: `max_epochs=5` reached.\n",
      "GPU available: False, used: False\n",
      "TPU available: False, using: 0 TPU cores\n",
      "IPU available: False, using: 0 IPUs\n",
      "HPU available: False, using: 0 HPUs\n",
      "\n",
      "  | Name    | Type    | Params\n",
      "------------------------------------\n",
      "0 | relu    | ReLU    | 0     \n",
      "1 | softmax | Softmax | 0     \n",
      "2 | sigmoid | Sigmoid | 0     \n",
      "3 | fc      | Linear  | 6.4 K \n",
      "------------------------------------\n",
      "6.4 K     Trainable params\n",
      "0         Non-trainable params\n",
      "6.4 K     Total params\n",
      "0.026     Total estimated model params size (MB)\n",
      "`Trainer.fit` stopped: `max_epochs=5` reached.\n",
      "GPU available: False, used: False\n",
      "TPU available: False, using: 0 TPU cores\n",
      "IPU available: False, using: 0 IPUs\n",
      "HPU available: False, using: 0 HPUs\n",
      "\n",
      "  | Name    | Type    | Params\n",
      "------------------------------------\n",
      "0 | relu    | ReLU    | 0     \n",
      "1 | softmax | Softmax | 0     \n",
      "2 | sigmoid | Sigmoid | 0     \n",
      "3 | fc      | Linear  | 6.4 K \n",
      "------------------------------------\n",
      "6.4 K     Trainable params\n",
      "0         Non-trainable params\n",
      "6.4 K     Total params\n",
      "0.026     Total estimated model params size (MB)\n",
      "`Trainer.fit` stopped: `max_epochs=5` reached.\n",
      "GPU available: False, used: False\n",
      "TPU available: False, using: 0 TPU cores\n",
      "IPU available: False, using: 0 IPUs\n",
      "HPU available: False, using: 0 HPUs\n",
      "\n",
      "  | Name    | Type    | Params\n",
      "------------------------------------\n",
      "0 | relu    | ReLU    | 0     \n",
      "1 | softmax | Softmax | 0     \n",
      "2 | sigmoid | Sigmoid | 0     \n",
      "3 | fc      | Linear  | 6.4 K \n",
      "------------------------------------\n",
      "6.4 K     Trainable params\n",
      "0         Non-trainable params\n",
      "6.4 K     Total params\n",
      "0.026     Total estimated model params size (MB)\n",
      "`Trainer.fit` stopped: `max_epochs=5` reached.\n",
      "GPU available: False, used: False\n",
      "TPU available: False, using: 0 TPU cores\n",
      "IPU available: False, using: 0 IPUs\n",
      "HPU available: False, using: 0 HPUs\n",
      "\n",
      "  | Name    | Type    | Params\n",
      "------------------------------------\n",
      "0 | relu    | ReLU    | 0     \n",
      "1 | softmax | Softmax | 0     \n",
      "2 | sigmoid | Sigmoid | 0     \n",
      "3 | fc      | Linear  | 6.4 K \n",
      "------------------------------------\n",
      "6.4 K     Trainable params\n",
      "0         Non-trainable params\n",
      "6.4 K     Total params\n",
      "0.026     Total estimated model params size (MB)\n",
      "`Trainer.fit` stopped: `max_epochs=5` reached.\n",
      "GPU available: False, used: False\n",
      "TPU available: False, using: 0 TPU cores\n",
      "IPU available: False, using: 0 IPUs\n",
      "HPU available: False, using: 0 HPUs\n",
      "\n",
      "  | Name    | Type    | Params\n",
      "------------------------------------\n",
      "0 | relu    | ReLU    | 0     \n",
      "1 | softmax | Softmax | 0     \n",
      "2 | sigmoid | Sigmoid | 0     \n",
      "3 | fc      | Linear  | 6.4 K \n",
      "------------------------------------\n",
      "6.4 K     Trainable params\n",
      "0         Non-trainable params\n",
      "6.4 K     Total params\n",
      "0.026     Total estimated model params size (MB)\n",
      "`Trainer.fit` stopped: `max_epochs=5` reached.\n",
      "GPU available: False, used: False\n",
      "TPU available: False, using: 0 TPU cores\n",
      "IPU available: False, using: 0 IPUs\n",
      "HPU available: False, using: 0 HPUs\n",
      "\n",
      "  | Name    | Type    | Params\n",
      "------------------------------------\n",
      "0 | relu    | ReLU    | 0     \n",
      "1 | softmax | Softmax | 0     \n",
      "2 | sigmoid | Sigmoid | 0     \n",
      "3 | fc      | Linear  | 6.4 K \n",
      "------------------------------------\n",
      "6.4 K     Trainable params\n",
      "0         Non-trainable params\n",
      "6.4 K     Total params\n",
      "0.026     Total estimated model params size (MB)\n",
      "`Trainer.fit` stopped: `max_epochs=5` reached.\n",
      "GPU available: False, used: False\n",
      "TPU available: False, using: 0 TPU cores\n",
      "IPU available: False, using: 0 IPUs\n",
      "HPU available: False, using: 0 HPUs\n",
      "\n",
      "  | Name    | Type    | Params\n",
      "------------------------------------\n",
      "0 | relu    | ReLU    | 0     \n",
      "1 | softmax | Softmax | 0     \n",
      "2 | sigmoid | Sigmoid | 0     \n",
      "3 | fc      | Linear  | 6.4 K \n",
      "------------------------------------\n",
      "6.4 K     Trainable params\n",
      "0         Non-trainable params\n",
      "6.4 K     Total params\n",
      "0.026     Total estimated model params size (MB)\n"
     ]
    },
    {
     "name": "stdout",
     "output_type": "stream",
     "text": [
      "Finished!\n"
     ]
    },
    {
     "name": "stderr",
     "output_type": "stream",
     "text": [
      "`Trainer.fit` stopped: `max_epochs=20` reached.\n",
      "GPU available: False, used: False\n",
      "TPU available: False, using: 0 TPU cores\n",
      "IPU available: False, using: 0 IPUs\n",
      "HPU available: False, using: 0 HPUs\n",
      "\n",
      "  | Name    | Type    | Params\n",
      "------------------------------------\n",
      "0 | relu    | ReLU    | 0     \n",
      "1 | softmax | Softmax | 0     \n",
      "2 | sigmoid | Sigmoid | 0     \n",
      "3 | fc      | Linear  | 6.4 K \n",
      "------------------------------------\n",
      "6.4 K     Trainable params\n",
      "0         Non-trainable params\n",
      "6.4 K     Total params\n",
      "0.026     Total estimated model params size (MB)\n",
      "`Trainer.fit` stopped: `max_epochs=20` reached.\n",
      "GPU available: False, used: False\n",
      "TPU available: False, using: 0 TPU cores\n",
      "IPU available: False, using: 0 IPUs\n",
      "HPU available: False, using: 0 HPUs\n",
      "\n",
      "  | Name    | Type    | Params\n",
      "------------------------------------\n",
      "0 | relu    | ReLU    | 0     \n",
      "1 | softmax | Softmax | 0     \n",
      "2 | sigmoid | Sigmoid | 0     \n",
      "3 | fc      | Linear  | 6.4 K \n",
      "------------------------------------\n",
      "6.4 K     Trainable params\n",
      "0         Non-trainable params\n",
      "6.4 K     Total params\n",
      "0.026     Total estimated model params size (MB)\n",
      "`Trainer.fit` stopped: `max_epochs=20` reached.\n",
      "GPU available: False, used: False\n",
      "TPU available: False, using: 0 TPU cores\n",
      "IPU available: False, using: 0 IPUs\n",
      "HPU available: False, using: 0 HPUs\n",
      "\n",
      "  | Name    | Type    | Params\n",
      "------------------------------------\n",
      "0 | relu    | ReLU    | 0     \n",
      "1 | softmax | Softmax | 0     \n",
      "2 | sigmoid | Sigmoid | 0     \n",
      "3 | fc      | Linear  | 6.4 K \n",
      "------------------------------------\n",
      "6.4 K     Trainable params\n",
      "0         Non-trainable params\n",
      "6.4 K     Total params\n",
      "0.026     Total estimated model params size (MB)\n",
      "`Trainer.fit` stopped: `max_epochs=20` reached.\n",
      "GPU available: False, used: False\n",
      "TPU available: False, using: 0 TPU cores\n",
      "IPU available: False, using: 0 IPUs\n",
      "HPU available: False, using: 0 HPUs\n",
      "\n",
      "  | Name    | Type    | Params\n",
      "------------------------------------\n",
      "0 | relu    | ReLU    | 0     \n",
      "1 | softmax | Softmax | 0     \n",
      "2 | sigmoid | Sigmoid | 0     \n",
      "3 | fc      | Linear  | 6.4 K \n",
      "------------------------------------\n",
      "6.4 K     Trainable params\n",
      "0         Non-trainable params\n",
      "6.4 K     Total params\n",
      "0.026     Total estimated model params size (MB)\n",
      "`Trainer.fit` stopped: `max_epochs=20` reached.\n",
      "GPU available: False, used: False\n",
      "TPU available: False, using: 0 TPU cores\n",
      "IPU available: False, using: 0 IPUs\n",
      "HPU available: False, using: 0 HPUs\n",
      "\n",
      "  | Name    | Type    | Params\n",
      "------------------------------------\n",
      "0 | relu    | ReLU    | 0     \n",
      "1 | softmax | Softmax | 0     \n",
      "2 | sigmoid | Sigmoid | 0     \n",
      "3 | fc      | Linear  | 6.4 K \n",
      "------------------------------------\n",
      "6.4 K     Trainable params\n",
      "0         Non-trainable params\n",
      "6.4 K     Total params\n",
      "0.026     Total estimated model params size (MB)\n",
      "`Trainer.fit` stopped: `max_epochs=20` reached.\n",
      "GPU available: False, used: False\n",
      "TPU available: False, using: 0 TPU cores\n",
      "IPU available: False, using: 0 IPUs\n",
      "HPU available: False, using: 0 HPUs\n",
      "\n",
      "  | Name    | Type    | Params\n",
      "------------------------------------\n",
      "0 | relu    | ReLU    | 0     \n",
      "1 | softmax | Softmax | 0     \n",
      "2 | sigmoid | Sigmoid | 0     \n",
      "3 | fc      | Linear  | 6.4 K \n",
      "------------------------------------\n",
      "6.4 K     Trainable params\n",
      "0         Non-trainable params\n",
      "6.4 K     Total params\n",
      "0.026     Total estimated model params size (MB)\n",
      "`Trainer.fit` stopped: `max_epochs=20` reached.\n",
      "GPU available: False, used: False\n",
      "TPU available: False, using: 0 TPU cores\n",
      "IPU available: False, using: 0 IPUs\n",
      "HPU available: False, using: 0 HPUs\n",
      "\n",
      "  | Name    | Type    | Params\n",
      "------------------------------------\n",
      "0 | relu    | ReLU    | 0     \n",
      "1 | softmax | Softmax | 0     \n",
      "2 | sigmoid | Sigmoid | 0     \n",
      "3 | fc      | Linear  | 6.4 K \n",
      "------------------------------------\n",
      "6.4 K     Trainable params\n",
      "0         Non-trainable params\n",
      "6.4 K     Total params\n",
      "0.026     Total estimated model params size (MB)\n",
      "`Trainer.fit` stopped: `max_epochs=20` reached.\n",
      "GPU available: False, used: False\n",
      "TPU available: False, using: 0 TPU cores\n",
      "IPU available: False, using: 0 IPUs\n",
      "HPU available: False, using: 0 HPUs\n",
      "\n",
      "  | Name    | Type    | Params\n",
      "------------------------------------\n",
      "0 | relu    | ReLU    | 0     \n",
      "1 | softmax | Softmax | 0     \n",
      "2 | sigmoid | Sigmoid | 0     \n",
      "3 | fc      | Linear  | 6.4 K \n",
      "------------------------------------\n",
      "6.4 K     Trainable params\n",
      "0         Non-trainable params\n",
      "6.4 K     Total params\n",
      "0.026     Total estimated model params size (MB)\n",
      "`Trainer.fit` stopped: `max_epochs=20` reached.\n",
      "GPU available: False, used: False\n",
      "TPU available: False, using: 0 TPU cores\n",
      "IPU available: False, using: 0 IPUs\n",
      "HPU available: False, using: 0 HPUs\n",
      "\n",
      "  | Name    | Type    | Params\n",
      "------------------------------------\n",
      "0 | relu    | ReLU    | 0     \n",
      "1 | softmax | Softmax | 0     \n",
      "2 | sigmoid | Sigmoid | 0     \n",
      "3 | fc      | Linear  | 6.4 K \n",
      "------------------------------------\n",
      "6.4 K     Trainable params\n",
      "0         Non-trainable params\n",
      "6.4 K     Total params\n",
      "0.026     Total estimated model params size (MB)\n",
      "`Trainer.fit` stopped: `max_epochs=20` reached.\n",
      "GPU available: False, used: False\n",
      "TPU available: False, using: 0 TPU cores\n",
      "IPU available: False, using: 0 IPUs\n",
      "HPU available: False, using: 0 HPUs\n",
      "\n",
      "  | Name    | Type       | Params\n",
      "---------------------------------------\n",
      "0 | relu    | ReLU       | 0     \n",
      "1 | softmax | Softmax    | 0     \n",
      "2 | sigmoid | Sigmoid    | 0     \n",
      "3 | fc      | Sequential | 1.1 K \n",
      "---------------------------------------\n",
      "1.1 K     Trainable params\n",
      "0         Non-trainable params\n",
      "1.1 K     Total params\n",
      "0.005     Total estimated model params size (MB)\n"
     ]
    },
    {
     "name": "stdout",
     "output_type": "stream",
     "text": [
      "Score for mlp_bool, 0.009599332325160503 +- 0.005514870362340228\n"
     ]
    },
    {
     "name": "stderr",
     "output_type": "stream",
     "text": [
      "`Trainer.fit` stopped: `max_epochs=5` reached.\n",
      "GPU available: False, used: False\n",
      "TPU available: False, using: 0 TPU cores\n",
      "IPU available: False, using: 0 IPUs\n",
      "HPU available: False, using: 0 HPUs\n",
      "\n",
      "  | Name    | Type       | Params\n",
      "---------------------------------------\n",
      "0 | relu    | ReLU       | 0     \n",
      "1 | softmax | Softmax    | 0     \n",
      "2 | sigmoid | Sigmoid    | 0     \n",
      "3 | fc      | Sequential | 1.1 K \n",
      "---------------------------------------\n",
      "1.1 K     Trainable params\n",
      "0         Non-trainable params\n",
      "1.1 K     Total params\n",
      "0.005     Total estimated model params size (MB)\n",
      "`Trainer.fit` stopped: `max_epochs=5` reached.\n",
      "GPU available: False, used: False\n",
      "TPU available: False, using: 0 TPU cores\n",
      "IPU available: False, using: 0 IPUs\n",
      "HPU available: False, using: 0 HPUs\n",
      "\n",
      "  | Name    | Type       | Params\n",
      "---------------------------------------\n",
      "0 | relu    | ReLU       | 0     \n",
      "1 | softmax | Softmax    | 0     \n",
      "2 | sigmoid | Sigmoid    | 0     \n",
      "3 | fc      | Sequential | 1.1 K \n",
      "---------------------------------------\n",
      "1.1 K     Trainable params\n",
      "0         Non-trainable params\n",
      "1.1 K     Total params\n",
      "0.005     Total estimated model params size (MB)\n",
      "`Trainer.fit` stopped: `max_epochs=5` reached.\n",
      "GPU available: False, used: False\n",
      "TPU available: False, using: 0 TPU cores\n",
      "IPU available: False, using: 0 IPUs\n",
      "HPU available: False, using: 0 HPUs\n",
      "\n",
      "  | Name    | Type       | Params\n",
      "---------------------------------------\n",
      "0 | relu    | ReLU       | 0     \n",
      "1 | softmax | Softmax    | 0     \n",
      "2 | sigmoid | Sigmoid    | 0     \n",
      "3 | fc      | Sequential | 1.1 K \n",
      "---------------------------------------\n",
      "1.1 K     Trainable params\n",
      "0         Non-trainable params\n",
      "1.1 K     Total params\n",
      "0.005     Total estimated model params size (MB)\n",
      "`Trainer.fit` stopped: `max_epochs=5` reached.\n",
      "GPU available: False, used: False\n",
      "TPU available: False, using: 0 TPU cores\n",
      "IPU available: False, using: 0 IPUs\n",
      "HPU available: False, using: 0 HPUs\n",
      "\n",
      "  | Name    | Type       | Params\n",
      "---------------------------------------\n",
      "0 | relu    | ReLU       | 0     \n",
      "1 | softmax | Softmax    | 0     \n",
      "2 | sigmoid | Sigmoid    | 0     \n",
      "3 | fc      | Sequential | 1.1 K \n",
      "---------------------------------------\n",
      "1.1 K     Trainable params\n",
      "0         Non-trainable params\n",
      "1.1 K     Total params\n",
      "0.005     Total estimated model params size (MB)\n",
      "`Trainer.fit` stopped: `max_epochs=5` reached.\n",
      "GPU available: False, used: False\n",
      "TPU available: False, using: 0 TPU cores\n",
      "IPU available: False, using: 0 IPUs\n",
      "HPU available: False, using: 0 HPUs\n",
      "\n",
      "  | Name    | Type       | Params\n",
      "---------------------------------------\n",
      "0 | relu    | ReLU       | 0     \n",
      "1 | softmax | Softmax    | 0     \n",
      "2 | sigmoid | Sigmoid    | 0     \n",
      "3 | fc      | Sequential | 1.1 K \n",
      "---------------------------------------\n",
      "1.1 K     Trainable params\n",
      "0         Non-trainable params\n",
      "1.1 K     Total params\n",
      "0.005     Total estimated model params size (MB)\n",
      "`Trainer.fit` stopped: `max_epochs=5` reached.\n",
      "GPU available: False, used: False\n",
      "TPU available: False, using: 0 TPU cores\n",
      "IPU available: False, using: 0 IPUs\n",
      "HPU available: False, using: 0 HPUs\n",
      "\n",
      "  | Name    | Type       | Params\n",
      "---------------------------------------\n",
      "0 | relu    | ReLU       | 0     \n",
      "1 | softmax | Softmax    | 0     \n",
      "2 | sigmoid | Sigmoid    | 0     \n",
      "3 | fc      | Sequential | 1.1 K \n",
      "---------------------------------------\n",
      "1.1 K     Trainable params\n",
      "0         Non-trainable params\n",
      "1.1 K     Total params\n",
      "0.005     Total estimated model params size (MB)\n",
      "`Trainer.fit` stopped: `max_epochs=5` reached.\n",
      "GPU available: False, used: False\n",
      "TPU available: False, using: 0 TPU cores\n",
      "IPU available: False, using: 0 IPUs\n",
      "HPU available: False, using: 0 HPUs\n",
      "\n",
      "  | Name    | Type       | Params\n",
      "---------------------------------------\n",
      "0 | relu    | ReLU       | 0     \n",
      "1 | softmax | Softmax    | 0     \n",
      "2 | sigmoid | Sigmoid    | 0     \n",
      "3 | fc      | Sequential | 1.1 K \n",
      "---------------------------------------\n",
      "1.1 K     Trainable params\n",
      "0         Non-trainable params\n",
      "1.1 K     Total params\n",
      "0.005     Total estimated model params size (MB)\n"
     ]
    },
    {
     "name": "stdout",
     "output_type": "stream",
     "text": [
      "Finished!\n"
     ]
    },
    {
     "name": "stderr",
     "output_type": "stream",
     "text": [
      "`Trainer.fit` stopped: `max_epochs=20` reached.\n",
      "GPU available: False, used: False\n",
      "TPU available: False, using: 0 TPU cores\n",
      "IPU available: False, using: 0 IPUs\n",
      "HPU available: False, using: 0 HPUs\n",
      "\n",
      "  | Name    | Type       | Params\n",
      "---------------------------------------\n",
      "0 | relu    | ReLU       | 0     \n",
      "1 | softmax | Softmax    | 0     \n",
      "2 | sigmoid | Sigmoid    | 0     \n",
      "3 | fc      | Sequential | 1.1 K \n",
      "---------------------------------------\n",
      "1.1 K     Trainable params\n",
      "0         Non-trainable params\n",
      "1.1 K     Total params\n",
      "0.005     Total estimated model params size (MB)\n",
      "`Trainer.fit` stopped: `max_epochs=20` reached.\n",
      "GPU available: False, used: False\n",
      "TPU available: False, using: 0 TPU cores\n",
      "IPU available: False, using: 0 IPUs\n",
      "HPU available: False, using: 0 HPUs\n",
      "\n",
      "  | Name    | Type       | Params\n",
      "---------------------------------------\n",
      "0 | relu    | ReLU       | 0     \n",
      "1 | softmax | Softmax    | 0     \n",
      "2 | sigmoid | Sigmoid    | 0     \n",
      "3 | fc      | Sequential | 1.1 K \n",
      "---------------------------------------\n",
      "1.1 K     Trainable params\n",
      "0         Non-trainable params\n",
      "1.1 K     Total params\n",
      "0.005     Total estimated model params size (MB)\n",
      "`Trainer.fit` stopped: `max_epochs=20` reached.\n",
      "GPU available: False, used: False\n",
      "TPU available: False, using: 0 TPU cores\n",
      "IPU available: False, using: 0 IPUs\n",
      "HPU available: False, using: 0 HPUs\n",
      "\n",
      "  | Name    | Type       | Params\n",
      "---------------------------------------\n",
      "0 | relu    | ReLU       | 0     \n",
      "1 | softmax | Softmax    | 0     \n",
      "2 | sigmoid | Sigmoid    | 0     \n",
      "3 | fc      | Sequential | 1.1 K \n",
      "---------------------------------------\n",
      "1.1 K     Trainable params\n",
      "0         Non-trainable params\n",
      "1.1 K     Total params\n",
      "0.005     Total estimated model params size (MB)\n",
      "`Trainer.fit` stopped: `max_epochs=20` reached.\n",
      "GPU available: False, used: False\n",
      "TPU available: False, using: 0 TPU cores\n",
      "IPU available: False, using: 0 IPUs\n",
      "HPU available: False, using: 0 HPUs\n",
      "\n",
      "  | Name    | Type       | Params\n",
      "---------------------------------------\n",
      "0 | relu    | ReLU       | 0     \n",
      "1 | softmax | Softmax    | 0     \n",
      "2 | sigmoid | Sigmoid    | 0     \n",
      "3 | fc      | Sequential | 1.1 K \n",
      "---------------------------------------\n",
      "1.1 K     Trainable params\n",
      "0         Non-trainable params\n",
      "1.1 K     Total params\n",
      "0.005     Total estimated model params size (MB)\n",
      "`Trainer.fit` stopped: `max_epochs=20` reached.\n",
      "GPU available: False, used: False\n",
      "TPU available: False, using: 0 TPU cores\n",
      "IPU available: False, using: 0 IPUs\n",
      "HPU available: False, using: 0 HPUs\n",
      "\n",
      "  | Name    | Type       | Params\n",
      "---------------------------------------\n",
      "0 | relu    | ReLU       | 0     \n",
      "1 | softmax | Softmax    | 0     \n",
      "2 | sigmoid | Sigmoid    | 0     \n",
      "3 | fc      | Sequential | 1.1 K \n",
      "---------------------------------------\n",
      "1.1 K     Trainable params\n",
      "0         Non-trainable params\n",
      "1.1 K     Total params\n",
      "0.005     Total estimated model params size (MB)\n",
      "`Trainer.fit` stopped: `max_epochs=20` reached.\n",
      "GPU available: False, used: False\n",
      "TPU available: False, using: 0 TPU cores\n",
      "IPU available: False, using: 0 IPUs\n",
      "HPU available: False, using: 0 HPUs\n",
      "\n",
      "  | Name    | Type       | Params\n",
      "---------------------------------------\n",
      "0 | relu    | ReLU       | 0     \n",
      "1 | softmax | Softmax    | 0     \n",
      "2 | sigmoid | Sigmoid    | 0     \n",
      "3 | fc      | Sequential | 1.1 K \n",
      "---------------------------------------\n",
      "1.1 K     Trainable params\n",
      "0         Non-trainable params\n",
      "1.1 K     Total params\n",
      "0.005     Total estimated model params size (MB)\n",
      "`Trainer.fit` stopped: `max_epochs=20` reached.\n",
      "GPU available: False, used: False\n",
      "TPU available: False, using: 0 TPU cores\n",
      "IPU available: False, using: 0 IPUs\n",
      "HPU available: False, using: 0 HPUs\n",
      "\n",
      "  | Name    | Type       | Params\n",
      "---------------------------------------\n",
      "0 | relu    | ReLU       | 0     \n",
      "1 | softmax | Softmax    | 0     \n",
      "2 | sigmoid | Sigmoid    | 0     \n",
      "3 | fc      | Sequential | 1.1 K \n",
      "---------------------------------------\n",
      "1.1 K     Trainable params\n",
      "0         Non-trainable params\n",
      "1.1 K     Total params\n",
      "0.005     Total estimated model params size (MB)\n",
      "`Trainer.fit` stopped: `max_epochs=20` reached.\n",
      "GPU available: False, used: False\n",
      "TPU available: False, using: 0 TPU cores\n",
      "IPU available: False, using: 0 IPUs\n",
      "HPU available: False, using: 0 HPUs\n",
      "\n",
      "  | Name    | Type       | Params\n",
      "---------------------------------------\n",
      "0 | relu    | ReLU       | 0     \n",
      "1 | softmax | Softmax    | 0     \n",
      "2 | sigmoid | Sigmoid    | 0     \n",
      "3 | fc      | Sequential | 1.1 K \n",
      "---------------------------------------\n",
      "1.1 K     Trainable params\n",
      "0         Non-trainable params\n",
      "1.1 K     Total params\n",
      "0.005     Total estimated model params size (MB)\n",
      "`Trainer.fit` stopped: `max_epochs=20` reached.\n",
      "GPU available: False, used: False\n",
      "TPU available: False, using: 0 TPU cores\n",
      "IPU available: False, using: 0 IPUs\n",
      "HPU available: False, using: 0 HPUs\n",
      "\n",
      "  | Name    | Type       | Params\n",
      "---------------------------------------\n",
      "0 | relu    | ReLU       | 0     \n",
      "1 | softmax | Softmax    | 0     \n",
      "2 | sigmoid | Sigmoid    | 0     \n",
      "3 | fc      | Sequential | 1.1 K \n",
      "---------------------------------------\n",
      "1.1 K     Trainable params\n",
      "0         Non-trainable params\n",
      "1.1 K     Total params\n",
      "0.005     Total estimated model params size (MB)\n",
      "`Trainer.fit` stopped: `max_epochs=20` reached.\n",
      "GPU available: False, used: False\n",
      "TPU available: False, using: 0 TPU cores\n",
      "IPU available: False, using: 0 IPUs\n",
      "HPU available: False, using: 0 HPUs\n",
      "\n",
      "  | Name    | Type    | Params\n",
      "------------------------------------\n",
      "0 | relu    | ReLU    | 0     \n",
      "1 | softmax | Softmax | 0     \n",
      "2 | sigmoid | Sigmoid | 0     \n",
      "3 | fc      | Linear  | 22.6 K\n",
      "------------------------------------\n",
      "22.6 K    Trainable params\n",
      "0         Non-trainable params\n",
      "22.6 K    Total params\n",
      "0.090     Total estimated model params size (MB)\n"
     ]
    },
    {
     "name": "stdout",
     "output_type": "stream",
     "text": [
      "Score for mlp_group, 0.029883137531578542 +- 0.0802880019780189\n"
     ]
    },
    {
     "name": "stderr",
     "output_type": "stream",
     "text": [
      "`Trainer.fit` stopped: `max_epochs=5` reached.\n",
      "GPU available: False, used: False\n",
      "TPU available: False, using: 0 TPU cores\n",
      "IPU available: False, using: 0 IPUs\n",
      "HPU available: False, using: 0 HPUs\n",
      "\n",
      "  | Name    | Type    | Params\n",
      "------------------------------------\n",
      "0 | relu    | ReLU    | 0     \n",
      "1 | softmax | Softmax | 0     \n",
      "2 | sigmoid | Sigmoid | 0     \n",
      "3 | fc      | Linear  | 22.6 K\n",
      "------------------------------------\n",
      "22.6 K    Trainable params\n",
      "0         Non-trainable params\n",
      "22.6 K    Total params\n",
      "0.090     Total estimated model params size (MB)\n",
      "`Trainer.fit` stopped: `max_epochs=5` reached.\n",
      "GPU available: False, used: False\n",
      "TPU available: False, using: 0 TPU cores\n",
      "IPU available: False, using: 0 IPUs\n",
      "HPU available: False, using: 0 HPUs\n",
      "\n",
      "  | Name    | Type    | Params\n",
      "------------------------------------\n",
      "0 | relu    | ReLU    | 0     \n",
      "1 | softmax | Softmax | 0     \n",
      "2 | sigmoid | Sigmoid | 0     \n",
      "3 | fc      | Linear  | 22.6 K\n",
      "------------------------------------\n",
      "22.6 K    Trainable params\n",
      "0         Non-trainable params\n",
      "22.6 K    Total params\n",
      "0.090     Total estimated model params size (MB)\n",
      "`Trainer.fit` stopped: `max_epochs=5` reached.\n",
      "GPU available: False, used: False\n",
      "TPU available: False, using: 0 TPU cores\n",
      "IPU available: False, using: 0 IPUs\n",
      "HPU available: False, using: 0 HPUs\n",
      "\n",
      "  | Name    | Type    | Params\n",
      "------------------------------------\n",
      "0 | relu    | ReLU    | 0     \n",
      "1 | softmax | Softmax | 0     \n",
      "2 | sigmoid | Sigmoid | 0     \n",
      "3 | fc      | Linear  | 22.6 K\n",
      "------------------------------------\n",
      "22.6 K    Trainable params\n",
      "0         Non-trainable params\n",
      "22.6 K    Total params\n",
      "0.090     Total estimated model params size (MB)\n",
      "`Trainer.fit` stopped: `max_epochs=5` reached.\n",
      "GPU available: False, used: False\n",
      "TPU available: False, using: 0 TPU cores\n",
      "IPU available: False, using: 0 IPUs\n",
      "HPU available: False, using: 0 HPUs\n",
      "\n",
      "  | Name    | Type    | Params\n",
      "------------------------------------\n",
      "0 | relu    | ReLU    | 0     \n",
      "1 | softmax | Softmax | 0     \n",
      "2 | sigmoid | Sigmoid | 0     \n",
      "3 | fc      | Linear  | 22.6 K\n",
      "------------------------------------\n",
      "22.6 K    Trainable params\n",
      "0         Non-trainable params\n",
      "22.6 K    Total params\n",
      "0.090     Total estimated model params size (MB)\n",
      "`Trainer.fit` stopped: `max_epochs=5` reached.\n",
      "GPU available: False, used: False\n",
      "TPU available: False, using: 0 TPU cores\n",
      "IPU available: False, using: 0 IPUs\n",
      "HPU available: False, using: 0 HPUs\n",
      "\n",
      "  | Name    | Type    | Params\n",
      "------------------------------------\n",
      "0 | relu    | ReLU    | 0     \n",
      "1 | softmax | Softmax | 0     \n",
      "2 | sigmoid | Sigmoid | 0     \n",
      "3 | fc      | Linear  | 22.6 K\n",
      "------------------------------------\n",
      "22.6 K    Trainable params\n",
      "0         Non-trainable params\n",
      "22.6 K    Total params\n",
      "0.090     Total estimated model params size (MB)\n",
      "`Trainer.fit` stopped: `max_epochs=5` reached.\n",
      "GPU available: False, used: False\n",
      "TPU available: False, using: 0 TPU cores\n",
      "IPU available: False, using: 0 IPUs\n",
      "HPU available: False, using: 0 HPUs\n",
      "\n",
      "  | Name    | Type    | Params\n",
      "------------------------------------\n",
      "0 | relu    | ReLU    | 0     \n",
      "1 | softmax | Softmax | 0     \n",
      "2 | sigmoid | Sigmoid | 0     \n",
      "3 | fc      | Linear  | 22.6 K\n",
      "------------------------------------\n",
      "22.6 K    Trainable params\n",
      "0         Non-trainable params\n",
      "22.6 K    Total params\n",
      "0.090     Total estimated model params size (MB)\n",
      "`Trainer.fit` stopped: `max_epochs=5` reached.\n",
      "GPU available: False, used: False\n",
      "TPU available: False, using: 0 TPU cores\n",
      "IPU available: False, using: 0 IPUs\n",
      "HPU available: False, using: 0 HPUs\n",
      "\n",
      "  | Name    | Type    | Params\n",
      "------------------------------------\n",
      "0 | relu    | ReLU    | 0     \n",
      "1 | softmax | Softmax | 0     \n",
      "2 | sigmoid | Sigmoid | 0     \n",
      "3 | fc      | Linear  | 22.6 K\n",
      "------------------------------------\n",
      "22.6 K    Trainable params\n",
      "0         Non-trainable params\n",
      "22.6 K    Total params\n",
      "0.090     Total estimated model params size (MB)\n"
     ]
    },
    {
     "name": "stdout",
     "output_type": "stream",
     "text": [
      "Finished!\n"
     ]
    },
    {
     "name": "stderr",
     "output_type": "stream",
     "text": [
      "`Trainer.fit` stopped: `max_epochs=20` reached.\n",
      "GPU available: False, used: False\n",
      "TPU available: False, using: 0 TPU cores\n",
      "IPU available: False, using: 0 IPUs\n",
      "HPU available: False, using: 0 HPUs\n",
      "\n",
      "  | Name    | Type    | Params\n",
      "------------------------------------\n",
      "0 | relu    | ReLU    | 0     \n",
      "1 | softmax | Softmax | 0     \n",
      "2 | sigmoid | Sigmoid | 0     \n",
      "3 | fc      | Linear  | 22.6 K\n",
      "------------------------------------\n",
      "22.6 K    Trainable params\n",
      "0         Non-trainable params\n",
      "22.6 K    Total params\n",
      "0.090     Total estimated model params size (MB)\n",
      "`Trainer.fit` stopped: `max_epochs=20` reached.\n",
      "GPU available: False, used: False\n",
      "TPU available: False, using: 0 TPU cores\n",
      "IPU available: False, using: 0 IPUs\n",
      "HPU available: False, using: 0 HPUs\n",
      "\n",
      "  | Name    | Type    | Params\n",
      "------------------------------------\n",
      "0 | relu    | ReLU    | 0     \n",
      "1 | softmax | Softmax | 0     \n",
      "2 | sigmoid | Sigmoid | 0     \n",
      "3 | fc      | Linear  | 22.6 K\n",
      "------------------------------------\n",
      "22.6 K    Trainable params\n",
      "0         Non-trainable params\n",
      "22.6 K    Total params\n",
      "0.090     Total estimated model params size (MB)\n",
      "`Trainer.fit` stopped: `max_epochs=20` reached.\n",
      "GPU available: False, used: False\n",
      "TPU available: False, using: 0 TPU cores\n",
      "IPU available: False, using: 0 IPUs\n",
      "HPU available: False, using: 0 HPUs\n",
      "\n",
      "  | Name    | Type    | Params\n",
      "------------------------------------\n",
      "0 | relu    | ReLU    | 0     \n",
      "1 | softmax | Softmax | 0     \n",
      "2 | sigmoid | Sigmoid | 0     \n",
      "3 | fc      | Linear  | 22.6 K\n",
      "------------------------------------\n",
      "22.6 K    Trainable params\n",
      "0         Non-trainable params\n",
      "22.6 K    Total params\n",
      "0.090     Total estimated model params size (MB)\n",
      "`Trainer.fit` stopped: `max_epochs=20` reached.\n",
      "GPU available: False, used: False\n",
      "TPU available: False, using: 0 TPU cores\n",
      "IPU available: False, using: 0 IPUs\n",
      "HPU available: False, using: 0 HPUs\n",
      "\n",
      "  | Name    | Type    | Params\n",
      "------------------------------------\n",
      "0 | relu    | ReLU    | 0     \n",
      "1 | softmax | Softmax | 0     \n",
      "2 | sigmoid | Sigmoid | 0     \n",
      "3 | fc      | Linear  | 22.6 K\n",
      "------------------------------------\n",
      "22.6 K    Trainable params\n",
      "0         Non-trainable params\n",
      "22.6 K    Total params\n",
      "0.090     Total estimated model params size (MB)\n",
      "`Trainer.fit` stopped: `max_epochs=20` reached.\n",
      "GPU available: False, used: False\n",
      "TPU available: False, using: 0 TPU cores\n",
      "IPU available: False, using: 0 IPUs\n",
      "HPU available: False, using: 0 HPUs\n",
      "\n",
      "  | Name    | Type    | Params\n",
      "------------------------------------\n",
      "0 | relu    | ReLU    | 0     \n",
      "1 | softmax | Softmax | 0     \n",
      "2 | sigmoid | Sigmoid | 0     \n",
      "3 | fc      | Linear  | 22.6 K\n",
      "------------------------------------\n",
      "22.6 K    Trainable params\n",
      "0         Non-trainable params\n",
      "22.6 K    Total params\n",
      "0.090     Total estimated model params size (MB)\n",
      "`Trainer.fit` stopped: `max_epochs=20` reached.\n",
      "GPU available: False, used: False\n",
      "TPU available: False, using: 0 TPU cores\n",
      "IPU available: False, using: 0 IPUs\n",
      "HPU available: False, using: 0 HPUs\n",
      "\n",
      "  | Name    | Type    | Params\n",
      "------------------------------------\n",
      "0 | relu    | ReLU    | 0     \n",
      "1 | softmax | Softmax | 0     \n",
      "2 | sigmoid | Sigmoid | 0     \n",
      "3 | fc      | Linear  | 22.6 K\n",
      "------------------------------------\n",
      "22.6 K    Trainable params\n",
      "0         Non-trainable params\n",
      "22.6 K    Total params\n",
      "0.090     Total estimated model params size (MB)\n",
      "`Trainer.fit` stopped: `max_epochs=20` reached.\n",
      "GPU available: False, used: False\n",
      "TPU available: False, using: 0 TPU cores\n",
      "IPU available: False, using: 0 IPUs\n",
      "HPU available: False, using: 0 HPUs\n",
      "\n",
      "  | Name    | Type    | Params\n",
      "------------------------------------\n",
      "0 | relu    | ReLU    | 0     \n",
      "1 | softmax | Softmax | 0     \n",
      "2 | sigmoid | Sigmoid | 0     \n",
      "3 | fc      | Linear  | 22.6 K\n",
      "------------------------------------\n",
      "22.6 K    Trainable params\n",
      "0         Non-trainable params\n",
      "22.6 K    Total params\n",
      "0.090     Total estimated model params size (MB)\n",
      "`Trainer.fit` stopped: `max_epochs=20` reached.\n",
      "GPU available: False, used: False\n",
      "TPU available: False, using: 0 TPU cores\n",
      "IPU available: False, using: 0 IPUs\n",
      "HPU available: False, using: 0 HPUs\n",
      "\n",
      "  | Name    | Type    | Params\n",
      "------------------------------------\n",
      "0 | relu    | ReLU    | 0     \n",
      "1 | softmax | Softmax | 0     \n",
      "2 | sigmoid | Sigmoid | 0     \n",
      "3 | fc      | Linear  | 22.6 K\n",
      "------------------------------------\n",
      "22.6 K    Trainable params\n",
      "0         Non-trainable params\n",
      "22.6 K    Total params\n",
      "0.090     Total estimated model params size (MB)\n",
      "`Trainer.fit` stopped: `max_epochs=20` reached.\n",
      "GPU available: False, used: False\n",
      "TPU available: False, using: 0 TPU cores\n",
      "IPU available: False, using: 0 IPUs\n",
      "HPU available: False, using: 0 HPUs\n",
      "\n",
      "  | Name    | Type    | Params\n",
      "------------------------------------\n",
      "0 | relu    | ReLU    | 0     \n",
      "1 | softmax | Softmax | 0     \n",
      "2 | sigmoid | Sigmoid | 0     \n",
      "3 | fc      | Linear  | 22.6 K\n",
      "------------------------------------\n",
      "22.6 K    Trainable params\n",
      "0         Non-trainable params\n",
      "22.6 K    Total params\n",
      "0.090     Total estimated model params size (MB)\n",
      "`Trainer.fit` stopped: `max_epochs=20` reached.\n"
     ]
    },
    {
     "name": "stdout",
     "output_type": "stream",
     "text": [
      "Score for mlp, 0.8971619248390198 +- 0.0008990219399868032\n",
      "Finished!\n",
      "Score for gnn_bool, 0.10975096374750137 +- 0.09455262124538422\n"
     ]
    }
   ],
   "source": [
    "for model_type in ['gnn','gnn_basic','mlp_bool','mlp_group','mlp','gnn_bool']:\n",
    "    lr_values = [1e-4,5e-4,1e-3,5e-3,1e-2,5e-2,1e-1]\n",
    "    \n",
    "    train = cub_train_sequential\n",
    "    val = cub_val_sequential\n",
    "    \n",
    "    if 'gnn' in model_type:\n",
    "        edge_attr, edge_index, train, val = get_dataset_graph_cub(model_type,cub_groups,hierarchy.cub_attributes,sim_matrix\n",
    "                                                                 , train, val)\n",
    "        \n",
    "    hyperparameters = {'lr': .01, 'epochs': 5, 'num_layers': 1, 'emb_dim': 4, \n",
    "                       'in_dim': 112, 'out_dim': 200, \n",
    "                       'edge_dim': 1,'sim_matrix': sim_matrix, 'attributes': hierarchy.cub_attributes, 'group': cub_groups, \n",
    "                       'indexes': cub_groups_idx}\n",
    "    \n",
    "    if 'gnn' in model_type:\n",
    "        hyperparameters['emb_size'] = 64\n",
    "    \n",
    "    hyperparameters = update_hyperparameters_graph(model_type,hyperparameters)\n",
    "\n",
    "    best_lr = find_optimal_lr(model_type,lr_values,hyperparameters,train,val)\n",
    "    \n",
    "    hyperparameters['lr'] = best_lr\n",
    "    hyperparameters['epochs'] = 20\n",
    "        \n",
    "    score_list = []\n",
    "    print(\"Finished!\")    \n",
    "    for trial in range(1):\n",
    "        train = cub_train_sequential\n",
    "        val = cub_val_sequential\n",
    "\n",
    "        if 'gnn' in model_type:\n",
    "            edge_attr, edge_index, train, val = get_dataset_graph_cub(model_type,\n",
    "                                                                      cub_groups,hierarchy.cub_attributes,sim_matrix, train, val)\n",
    "                        \n",
    "        hyperparameters = update_hyperparameters_graph(model_type,hyperparameters)\n",
    "        \n",
    "        model  = initialize_model(model_type,hyperparameters,use_wandb=True)\n",
    "        model = train_model(model,model_type,train,val,hyperparameters,use_wandb=True)\n",
    "        score = eval_model(model,model_type,val)\n",
    "        score_list.append(score)\n",
    "    \n",
    "    scores_by_model_type[model_type] = np.mean(score_list)\n",
    "    \n",
    "    print(\"Score for {}, {} +- {}\".format(model_type,np.mean(score_list),np.std(score_list)))"
   ]
  },
  {
   "cell_type": "code",
   "execution_count": 108,
   "id": "e40a137e",
   "metadata": {},
   "outputs": [
    {
     "data": {
      "text/plain": [
       "{'mlp': 0.8971619248390198,\n",
       " 'mlp_group': 0.029883137531578542,\n",
       " 'mlp_bool': 0.009599332325160503,\n",
       " 'mlp_3sat': 0.6100000143051147,\n",
       " 'gnn': 0.660632,\n",
       " 'gnn_basic': 0.7394972,\n",
       " 'gnn_bool': 0.109750964}"
      ]
     },
     "execution_count": 108,
     "metadata": {},
     "output_type": "execute_result"
    }
   ],
   "source": [
    "scores_by_model_type"
   ]
  },
  {
   "cell_type": "code",
   "execution_count": 16,
   "id": "64875379",
   "metadata": {},
   "outputs": [
    {
     "ename": "NameError",
     "evalue": "name 'cub_train_cem' is not defined",
     "output_type": "error",
     "traceback": [
      "\u001b[0;31m---------------------------------------------------------------------------\u001b[0m",
      "\u001b[0;31mNameError\u001b[0m                                 Traceback (most recent call last)",
      "Cell \u001b[0;32mIn[16], line 4\u001b[0m\n\u001b[1;32m      1\u001b[0m \u001b[38;5;28;01mfor\u001b[39;00m model_type \u001b[38;5;129;01min\u001b[39;00m [\u001b[38;5;124m'\u001b[39m\u001b[38;5;124mmlp\u001b[39m\u001b[38;5;124m'\u001b[39m,\u001b[38;5;124m'\u001b[39m\u001b[38;5;124mgnn_bool_cem\u001b[39m\u001b[38;5;124m'\u001b[39m,\u001b[38;5;124m'\u001b[39m\u001b[38;5;124mgnn\u001b[39m\u001b[38;5;124m'\u001b[39m,\u001b[38;5;124m'\u001b[39m\u001b[38;5;124mgnn_basic\u001b[39m\u001b[38;5;124m'\u001b[39m,\u001b[38;5;124m'\u001b[39m\u001b[38;5;124mmlp_bool\u001b[39m\u001b[38;5;124m'\u001b[39m,\u001b[38;5;124m'\u001b[39m\u001b[38;5;124mmlp_group\u001b[39m\u001b[38;5;124m'\u001b[39m]:\n\u001b[1;32m      2\u001b[0m     lr_values \u001b[38;5;241m=\u001b[39m [\u001b[38;5;241m1e-4\u001b[39m,\u001b[38;5;241m5e-4\u001b[39m,\u001b[38;5;241m1e-3\u001b[39m,\u001b[38;5;241m5e-3\u001b[39m,\u001b[38;5;241m1e-2\u001b[39m,\u001b[38;5;241m5e-2\u001b[39m,\u001b[38;5;241m1e-1\u001b[39m]\n\u001b[0;32m----> 4\u001b[0m     train \u001b[38;5;241m=\u001b[39m \u001b[43mcub_train_cem\u001b[49m\n\u001b[1;32m      5\u001b[0m     val \u001b[38;5;241m=\u001b[39m cub_val_cem\n\u001b[1;32m      7\u001b[0m     \u001b[38;5;28;01mif\u001b[39;00m \u001b[38;5;124m'\u001b[39m\u001b[38;5;124mgnn\u001b[39m\u001b[38;5;124m'\u001b[39m \u001b[38;5;129;01min\u001b[39;00m model_type:\n",
      "\u001b[0;31mNameError\u001b[0m: name 'cub_train_cem' is not defined"
     ]
    }
   ],
   "source": [
    "for model_type in ['mlp','gnn_bool_cem','gnn','gnn_basic','mlp_bool','mlp_group']:\n",
    "    lr_values = [1e-4,5e-4,1e-3,5e-3,1e-2,5e-2,1e-1]\n",
    "    \n",
    "    train = cub_train_cem\n",
    "    val = cub_val_cem\n",
    "\n",
    "    if 'gnn' in model_type:\n",
    "        edge_attr, edge_index, train, val = get_dataset_graph_cub(model_type,cub_groups,hierarchy.cub_attributes,sim_matrix\n",
    "                                                                 , train, val)\n",
    "        \n",
    "    hyperparameters = {'lr': .01, 'epochs': 5, 'num_layers': 1, 'emb_dim': 16, \n",
    "                       'in_dim': 112, 'out_dim': 200, \n",
    "                       'edge_dim': 1,'sim_matrix': sim_matrix, 'attributes': hierarchy.cub_attributes, 'group': cub_groups, \n",
    "                       'indexes': cub_groups_idx}\n",
    "    \n",
    "    if 'gnn' in model_type:\n",
    "        hyperparameters['emb_size'] = 112\n",
    "    \n",
    "    hyperparameters = update_hyperparameters_graph(model_type,hyperparameters)\n",
    "\n",
    "    if 'mlp' in model_type:\n",
    "        hyperparameters['bottleneck_size'] *= 16\n",
    "\n",
    "    \n",
    "    best_lr = find_optimal_lr(model_type,lr_values,hyperparameters,train,val)\n",
    "    \n",
    "    hyperparameters['lr'] = best_lr\n",
    "    hyperparameters['epochs'] = 20\n",
    "        \n",
    "    score_list = []\n",
    "    print(\"Finished!\")\n",
    "    \n",
    "    for trial in range(10):\n",
    "        train = cub_train_cem\n",
    "        val = cub_val_cem\n",
    "\n",
    "        if 'gnn' in model_type:\n",
    "            edge_attr, edge_index, train, val = get_dataset_graph_cub(model_type,cub_groups,hierarchy.cub_attributes,sim_matrix\n",
    "                                                                     , train, val)\n",
    "                        \n",
    "        hyperparameters = update_hyperparameters_graph(model_type,hyperparameters)\n",
    "        \n",
    "        model  = initialize_model(model_type,hyperparameters)\n",
    "        model = train_model(model,model_type,train,val,hyperparameters)\n",
    "        score = eval_model(model,model_type,val)\n",
    "        score_list.append(score)\n",
    "    \n",
    "    scores_by_model_type[model_type] = np.mean(score_list)\n",
    "    \n",
    "    print(\"Score for {}, {} +- {}\".format(model_type,np.mean(score_list),np.std(score_list)))"
   ]
  },
  {
   "cell_type": "code",
   "execution_count": null,
   "id": "3a7d64df",
   "metadata": {},
   "outputs": [],
   "source": [
    "scores_by_model_type"
   ]
  },
  {
   "cell_type": "markdown",
   "id": "9c8d91a0",
   "metadata": {},
   "source": [
    "## 3-SAT Dataset"
   ]
  },
  {
   "cell_type": "code",
   "execution_count": 67,
   "id": "e32e66b1",
   "metadata": {},
   "outputs": [],
   "source": [
    "def run_model(model_type, hyperparameters, train, val, use_wandb=False):\n",
    "    model = initialize_model(model_type,hyperparameters,use_wandb=use_wandb)\n",
    "    model = train_model(model,model_type,train,val,hyperparameters,use_wandb=use_wandb)\n",
    "    \n",
    "    if use_wandb:\n",
    "        wandb.finish()\n",
    "    return model"
   ]
  },
  {
   "cell_type": "code",
   "execution_count": 74,
   "id": "6be8acb4",
   "metadata": {},
   "outputs": [],
   "source": [
    "num_variables = bottleneck_size = 30\n",
    "sat_train, sat_val, clauses = create_3_sat_dataset(num_variables,5000,100)\n",
    "output_classes = 2"
   ]
  },
  {
   "cell_type": "code",
   "execution_count": 75,
   "id": "06095812",
   "metadata": {},
   "outputs": [],
   "source": [
    "hyperparameters = {'lr': .01, 'epochs': 200, 'num_layers': 1, 'emb_dim': 64, \n",
    "                       'in_dim': len(clauses)*len(clauses[0]), 'out_dim': output_classes, \n",
    "                       'edge_dim': 1,'clauses': clauses}\n",
    "model_type = \"mlp_group\"\n",
    "\n",
    "if 'gnn' in model_type:\n",
    "    sat_edge_attr, sat_edge_index, sat_train_graph, sat_val_graph = get_dataset_graph(\n",
    "        model_type, clauses, sat_train, sat_val)\n",
    "    train = sat_train_graph\n",
    "    val = sat_val_graph\n",
    "else:\n",
    "    train = sat_train\n",
    "    val = sat_val\n",
    "\n",
    "if 'mlp' in model_type:\n",
    "    hyperparameters['in_dim'] = num_variables\n",
    "\n",
    "hyperparameters = update_hyperparameters_graph(model_type,hyperparameters)"
   ]
  },
  {
   "cell_type": "code",
   "execution_count": 76,
   "id": "9d7a52a8",
   "metadata": {},
   "outputs": [],
   "source": [
    "hyperparameters['epochs'] = 10"
   ]
  },
  {
   "cell_type": "code",
   "execution_count": 77,
   "id": "6ba9b7ae",
   "metadata": {},
   "outputs": [],
   "source": [
    "lr_values = [1e-4,5e-4,1e-3,5e-3,1e-2,5e-2,1e-1]"
   ]
  },
  {
   "cell_type": "code",
   "execution_count": 78,
   "id": "1a730abe",
   "metadata": {},
   "outputs": [
    {
     "name": "stderr",
     "output_type": "stream",
     "text": [
      "GPU available: False, used: False\n",
      "TPU available: False, using: 0 TPU cores\n",
      "IPU available: False, using: 0 IPUs\n",
      "HPU available: False, using: 0 HPUs\n",
      "\n",
      "  | Name    | Type       | Params\n",
      "---------------------------------------\n",
      "0 | relu    | ReLU       | 0     \n",
      "1 | softmax | Softmax    | 0     \n",
      "2 | sigmoid | Sigmoid    | 0     \n",
      "3 | fc      | Sequential | 1.3 K \n",
      "---------------------------------------\n",
      "1.3 K     Trainable params\n",
      "0         Non-trainable params\n",
      "1.3 K     Total params\n",
      "0.005     Total estimated model params size (MB)\n",
      "`Trainer.fit` stopped: `max_epochs=10` reached.\n",
      "GPU available: False, used: False\n",
      "TPU available: False, using: 0 TPU cores\n",
      "IPU available: False, using: 0 IPUs\n",
      "HPU available: False, using: 0 HPUs\n",
      "\n",
      "  | Name    | Type       | Params\n",
      "---------------------------------------\n",
      "0 | relu    | ReLU       | 0     \n",
      "1 | softmax | Softmax    | 0     \n",
      "2 | sigmoid | Sigmoid    | 0     \n",
      "3 | fc      | Sequential | 1.3 K \n",
      "---------------------------------------\n",
      "1.3 K     Trainable params\n",
      "0         Non-trainable params\n",
      "1.3 K     Total params\n",
      "0.005     Total estimated model params size (MB)\n"
     ]
    },
    {
     "name": "stdout",
     "output_type": "stream",
     "text": [
      "Eval 0.0001 0.7300000190734863\n"
     ]
    },
    {
     "name": "stderr",
     "output_type": "stream",
     "text": [
      "`Trainer.fit` stopped: `max_epochs=10` reached.\n",
      "GPU available: False, used: False\n",
      "TPU available: False, using: 0 TPU cores\n",
      "IPU available: False, using: 0 IPUs\n",
      "HPU available: False, using: 0 HPUs\n",
      "\n",
      "  | Name    | Type       | Params\n",
      "---------------------------------------\n",
      "0 | relu    | ReLU       | 0     \n",
      "1 | softmax | Softmax    | 0     \n",
      "2 | sigmoid | Sigmoid    | 0     \n",
      "3 | fc      | Sequential | 1.3 K \n",
      "---------------------------------------\n",
      "1.3 K     Trainable params\n",
      "0         Non-trainable params\n",
      "1.3 K     Total params\n",
      "0.005     Total estimated model params size (MB)\n"
     ]
    },
    {
     "name": "stdout",
     "output_type": "stream",
     "text": [
      "Eval 0.0005 0.7300000190734863\n"
     ]
    },
    {
     "name": "stderr",
     "output_type": "stream",
     "text": [
      "`Trainer.fit` stopped: `max_epochs=10` reached.\n",
      "GPU available: False, used: False\n",
      "TPU available: False, using: 0 TPU cores\n",
      "IPU available: False, using: 0 IPUs\n",
      "HPU available: False, using: 0 HPUs\n",
      "\n",
      "  | Name    | Type       | Params\n",
      "---------------------------------------\n",
      "0 | relu    | ReLU       | 0     \n",
      "1 | softmax | Softmax    | 0     \n",
      "2 | sigmoid | Sigmoid    | 0     \n",
      "3 | fc      | Sequential | 1.3 K \n",
      "---------------------------------------\n",
      "1.3 K     Trainable params\n",
      "0         Non-trainable params\n",
      "1.3 K     Total params\n",
      "0.005     Total estimated model params size (MB)\n"
     ]
    },
    {
     "name": "stdout",
     "output_type": "stream",
     "text": [
      "Eval 0.001 0.7300000190734863\n"
     ]
    },
    {
     "name": "stderr",
     "output_type": "stream",
     "text": [
      "`Trainer.fit` stopped: `max_epochs=10` reached.\n",
      "GPU available: False, used: False\n",
      "TPU available: False, using: 0 TPU cores\n",
      "IPU available: False, using: 0 IPUs\n",
      "HPU available: False, using: 0 HPUs\n",
      "\n",
      "  | Name    | Type       | Params\n",
      "---------------------------------------\n",
      "0 | relu    | ReLU       | 0     \n",
      "1 | softmax | Softmax    | 0     \n",
      "2 | sigmoid | Sigmoid    | 0     \n",
      "3 | fc      | Sequential | 1.3 K \n",
      "---------------------------------------\n",
      "1.3 K     Trainable params\n",
      "0         Non-trainable params\n",
      "1.3 K     Total params\n",
      "0.005     Total estimated model params size (MB)\n"
     ]
    },
    {
     "name": "stdout",
     "output_type": "stream",
     "text": [
      "Eval 0.005 0.7200000286102295\n"
     ]
    },
    {
     "name": "stderr",
     "output_type": "stream",
     "text": [
      "`Trainer.fit` stopped: `max_epochs=10` reached.\n",
      "GPU available: False, used: False\n",
      "TPU available: False, using: 0 TPU cores\n",
      "IPU available: False, using: 0 IPUs\n",
      "HPU available: False, using: 0 HPUs\n",
      "\n",
      "  | Name    | Type       | Params\n",
      "---------------------------------------\n",
      "0 | relu    | ReLU       | 0     \n",
      "1 | softmax | Softmax    | 0     \n",
      "2 | sigmoid | Sigmoid    | 0     \n",
      "3 | fc      | Sequential | 1.3 K \n",
      "---------------------------------------\n",
      "1.3 K     Trainable params\n",
      "0         Non-trainable params\n",
      "1.3 K     Total params\n",
      "0.005     Total estimated model params size (MB)\n"
     ]
    },
    {
     "name": "stdout",
     "output_type": "stream",
     "text": [
      "Eval 0.01 0.6600000262260437\n"
     ]
    },
    {
     "name": "stderr",
     "output_type": "stream",
     "text": [
      "`Trainer.fit` stopped: `max_epochs=10` reached.\n",
      "GPU available: False, used: False\n",
      "TPU available: False, using: 0 TPU cores\n",
      "IPU available: False, using: 0 IPUs\n",
      "HPU available: False, using: 0 HPUs\n",
      "\n",
      "  | Name    | Type       | Params\n",
      "---------------------------------------\n",
      "0 | relu    | ReLU       | 0     \n",
      "1 | softmax | Softmax    | 0     \n",
      "2 | sigmoid | Sigmoid    | 0     \n",
      "3 | fc      | Sequential | 1.3 K \n",
      "---------------------------------------\n",
      "1.3 K     Trainable params\n",
      "0         Non-trainable params\n",
      "1.3 K     Total params\n",
      "0.005     Total estimated model params size (MB)\n"
     ]
    },
    {
     "name": "stdout",
     "output_type": "stream",
     "text": [
      "Eval 0.05 0.7200000286102295\n"
     ]
    },
    {
     "name": "stderr",
     "output_type": "stream",
     "text": [
      "`Trainer.fit` stopped: `max_epochs=10` reached.\n"
     ]
    },
    {
     "name": "stdout",
     "output_type": "stream",
     "text": [
      "Eval 0.1 0.6800000071525574\n"
     ]
    }
   ],
   "source": [
    "for lr in lr_values:\n",
    "    hyperparameters['lr'] = lr\n",
    "    model = run_model(model_type, hyperparameters, train, val, use_wandb=False)\n",
    "    print(\"Eval {} {}\".format(lr, eval_model(model,model_type,val)))"
   ]
  },
  {
   "cell_type": "code",
   "execution_count": 73,
   "id": "c36956ea",
   "metadata": {},
   "outputs": [
    {
     "data": {
      "text/html": [
       "Tracking run with wandb version 0.14.2"
      ],
      "text/plain": [
       "<IPython.core.display.HTML object>"
      ]
     },
     "metadata": {},
     "output_type": "display_data"
    },
    {
     "data": {
      "text/html": [
       "Run data is saved locally in <code>/rds/user/njr61/hpc-work/cem/cem/wandb/run-20230411_102931-y5in4kkh</code>"
      ],
      "text/plain": [
       "<IPython.core.display.HTML object>"
      ]
     },
     "metadata": {},
     "output_type": "display_data"
    },
    {
     "data": {
      "text/html": [
       "Syncing run <strong><a href='https://wandb.ai/navr414/cbm-with-hierarchy/runs/y5in4kkh' target=\"_blank\">6af5bdaf</a></strong> to <a href='https://wandb.ai/navr414/cbm-with-hierarchy' target=\"_blank\">Weights & Biases</a> (<a href='https://wandb.me/run' target=\"_blank\">docs</a>)<br/>"
      ],
      "text/plain": [
       "<IPython.core.display.HTML object>"
      ]
     },
     "metadata": {},
     "output_type": "display_data"
    },
    {
     "data": {
      "text/html": [
       " View project at <a href='https://wandb.ai/navr414/cbm-with-hierarchy' target=\"_blank\">https://wandb.ai/navr414/cbm-with-hierarchy</a>"
      ],
      "text/plain": [
       "<IPython.core.display.HTML object>"
      ]
     },
     "metadata": {},
     "output_type": "display_data"
    },
    {
     "data": {
      "text/html": [
       " View run at <a href='https://wandb.ai/navr414/cbm-with-hierarchy/runs/y5in4kkh' target=\"_blank\">https://wandb.ai/navr414/cbm-with-hierarchy/runs/y5in4kkh</a>"
      ],
      "text/plain": [
       "<IPython.core.display.HTML object>"
      ]
     },
     "metadata": {},
     "output_type": "display_data"
    },
    {
     "name": "stderr",
     "output_type": "stream",
     "text": [
      "/rds/user/njr61/hpc-work/anaconda3/envs/gnn/lib/python3.9/site-packages/pytorch_lightning/loggers/wandb.py:396: UserWarning: There is a wandb run already in progress and newly created instances of `WandbLogger` will reuse this run. If this is not desired, call `wandb.finish()` before instantiating `WandbLogger`.\n",
      "  rank_zero_warn(\n",
      "\u001b[34m\u001b[1mwandb\u001b[0m: logging graph, to disable use `wandb.watch(log_graph=False)`\n",
      "/rds/user/njr61/hpc-work/anaconda3/envs/gnn/lib/python3.9/site-packages/pytorch_lightning/trainer/connectors/accelerator_connector.py:441: LightningDeprecationWarning: Setting `Trainer(gpus=0)` is deprecated in v1.7 and will be removed in v2.0. Please use `Trainer(accelerator='gpu', devices=0)` instead.\n",
      "  rank_zero_deprecation(\n",
      "/rds/user/njr61/hpc-work/anaconda3/envs/gnn/lib/python3.9/site-packages/lightning_lite/plugins/environments/slurm.py:167: PossibleUserWarning: The `srun` command is available on your system but is not used. HINT: If your intention is to run Lightning on SLURM, prepend your python command with `srun` like so: srun python /rds/user/njr61/hpc-work/anaconda3/envs/gnn/lib/pyth ...\n",
      "  rank_zero_warn(\n",
      "GPU available: False, used: False\n",
      "TPU available: False, using: 0 TPU cores\n",
      "IPU available: False, using: 0 IPUs\n",
      "HPU available: False, using: 0 HPUs\n",
      "\n",
      "  | Name    | Type       | Params\n",
      "---------------------------------------\n",
      "0 | relu    | ReLU       | 0     \n",
      "1 | softmax | Softmax    | 0     \n",
      "2 | sigmoid | Sigmoid    | 0     \n",
      "3 | fc      | Sequential | 1.3 K \n",
      "---------------------------------------\n",
      "1.3 K     Trainable params\n",
      "0         Non-trainable params\n",
      "1.3 K     Total params\n",
      "0.005     Total estimated model params size (MB)\n",
      "/rds/user/njr61/hpc-work/anaconda3/envs/gnn/lib/python3.9/site-packages/pytorch_lightning/trainer/connectors/data_connector.py:224: PossibleUserWarning: The dataloader, val_dataloader 0, does not have many workers which may be a bottleneck. Consider increasing the value of the `num_workers` argument` (try 76 which is the number of cpus on this machine) in the `DataLoader` init to improve performance.\n",
      "  rank_zero_warn(\n",
      "/rds/user/njr61/hpc-work/anaconda3/envs/gnn/lib/python3.9/site-packages/pytorch_lightning/trainer/connectors/data_connector.py:224: PossibleUserWarning: The dataloader, train_dataloader, does not have many workers which may be a bottleneck. Consider increasing the value of the `num_workers` argument` (try 76 which is the number of cpus on this machine) in the `DataLoader` init to improve performance.\n",
      "  rank_zero_warn(\n",
      "/rds/user/njr61/hpc-work/anaconda3/envs/gnn/lib/python3.9/site-packages/pytorch_lightning/trainer/trainer.py:1595: PossibleUserWarning: The number of training batches (16) is smaller than the logging interval Trainer(log_every_n_steps=32). Set a lower value for log_every_n_steps if you want to see logs for the training epoch.\n",
      "  rank_zero_warn(\n",
      "`Trainer.fit` stopped: `max_epochs=50` reached.\n"
     ]
    },
    {
     "data": {
      "text/html": [
       "Waiting for W&B process to finish... <strong style=\"color:green\">(success).</strong>"
      ],
      "text/plain": [
       "<IPython.core.display.HTML object>"
      ]
     },
     "metadata": {},
     "output_type": "display_data"
    },
    {
     "data": {
      "text/html": [
       "<style>\n",
       "    table.wandb td:nth-child(1) { padding: 0 10px; text-align: left ; width: auto;} td:nth-child(2) {text-align: left ; width: 100%}\n",
       "    .wandb-row { display: flex; flex-direction: row; flex-wrap: wrap; justify-content: flex-start; width: 100% }\n",
       "    .wandb-col { display: flex; flex-direction: column; flex-basis: 100%; flex: 1; padding: 10px; }\n",
       "    </style>\n",
       "<div class=\"wandb-row\"><div class=\"wandb-col\"><h3>Run history:</h3><br/><table class=\"wandb\"><tr><td>epoch</td><td>▁▁▁▁▂▂▂▂▂▃▃▃▃▃▃▄▄▄▄▄▅▅▅▅▅▅▆▆▆▆▆▇▇▇▇▇▇███</td></tr><tr><td>loss</td><td>▅▄▂▂▂▂▂▆█▂▃▄▃▂▂▃▁▂▃▂▂▂▂▁▂▁▁▂▂▂▂▂▂▂▂▁▁▁▁▁</td></tr><tr><td>train_acc</td><td>▁▃▄▃▄▄▄▃▂▂▂▃▄▄▅▆▆▇▇▇████████████████████</td></tr><tr><td>train_loss</td><td>▇▅▅▄▄▄▅▅██▇▆▄▃▃▃▂▂▂▂▂▂▂▁▁▁▁▁▁▁▁▁▁▁▁▁▁▁▁▁</td></tr><tr><td>trainer/global_step</td><td>▁▁▁▁▂▂▂▂▂▃▃▃▃▃▃▄▄▄▄▄▅▅▅▅▅▅▆▆▆▆▆▇▇▇▇▇▇███</td></tr><tr><td>val_acc</td><td>████████▆▄▃▂▂▃▃▂▃▃▃▄▄▃▃▃▃▄▄▄▄▅▄▄▃▁▂▁▂▂▂▂</td></tr><tr><td>val_loss</td><td>▁▁▂▃▅▆▇█▃▂▃▃▃▃▃▃▃▃▃▄▄▄▄▄▄▄▄▅▅▅▅▅▅▅▆▆▆▆▆▇</td></tr></table><br/></div><div class=\"wandb-col\"><h3>Run summary:</h3><br/><table class=\"wandb\"><tr><td>epoch</td><td>49</td></tr><tr><td>loss</td><td>0.18527</td></tr><tr><td>train_acc</td><td>0.922</td></tr><tr><td>train_loss</td><td>0.22591</td></tr><tr><td>trainer/global_step</td><td>799</td></tr><tr><td>val_acc</td><td>0.53</td></tr><tr><td>val_loss</td><td>1.39342</td></tr></table><br/></div></div>"
      ],
      "text/plain": [
       "<IPython.core.display.HTML object>"
      ]
     },
     "metadata": {},
     "output_type": "display_data"
    },
    {
     "data": {
      "text/html": [
       " View run <strong style=\"color:#cdcd00\">6af5bdaf</strong> at: <a href='https://wandb.ai/navr414/cbm-with-hierarchy/runs/y5in4kkh' target=\"_blank\">https://wandb.ai/navr414/cbm-with-hierarchy/runs/y5in4kkh</a><br/>Synced 6 W&B file(s), 0 media file(s), 0 artifact file(s) and 0 other file(s)"
      ],
      "text/plain": [
       "<IPython.core.display.HTML object>"
      ]
     },
     "metadata": {},
     "output_type": "display_data"
    },
    {
     "data": {
      "text/html": [
       "Find logs at: <code>./wandb/run-20230411_102931-y5in4kkh/logs</code>"
      ],
      "text/plain": [
       "<IPython.core.display.HTML object>"
      ]
     },
     "metadata": {},
     "output_type": "display_data"
    }
   ],
   "source": [
    "hyperparameters['lr'] = 0.01\n",
    "hyperparameters['epochs'] = 50\n",
    "model = run_model(model_type, hyperparameters, train, val, use_wandb=True)"
   ]
  },
  {
   "cell_type": "markdown",
   "id": "1eaaf90f",
   "metadata": {},
   "source": [
    "## CUB Dataset"
   ]
  },
  {
   "cell_type": "code",
   "execution_count": 118,
   "id": "bc0cbda9",
   "metadata": {},
   "outputs": [],
   "source": [
    "bottleneck_size = 112\n",
    "output_classes = 200"
   ]
  },
  {
   "cell_type": "code",
   "execution_count": 161,
   "id": "0283554e",
   "metadata": {},
   "outputs": [],
   "source": [
    "def chunks(lst, n):\n",
    "    for i in range(0, len(lst), n):\n",
    "        yield lst[i:i + n]\n",
    "        \n",
    "def merge_lists_of_lists(lists_of_lists, k):\n",
    "    while len(lists_of_lists) > k:\n",
    "        random.shuffle(lists_of_lists)  # shuffle the list of lists\n",
    "        new_lists_of_lists = []\n",
    "        for i in range(0, len(lists_of_lists) - 1, 2):\n",
    "            new_list = lists_of_lists[i] + lists_of_lists[i+1]\n",
    "            new_lists_of_lists.append(new_list)\n",
    "        if len(lists_of_lists) % 2 == 1:\n",
    "            new_lists_of_lists.append(lists_of_lists[-1])\n",
    "        lists_of_lists = new_lists_of_lists\n",
    "    return lists_of_lists\n",
    "\n",
    "\n",
    "new_group_idx = merge_lists_of_lists(cub_groups_idx,2)"
   ]
  },
  {
   "cell_type": "code",
   "execution_count": 172,
   "id": "6176ab3a",
   "metadata": {},
   "outputs": [],
   "source": [
    "hyperparameters = {'lr': .01, 'epochs': 200, 'num_layers': 1, 'emb_dim': 64, \n",
    "                       'in_dim': bottleneck_size, 'out_dim': output_classes, \n",
    "                       'edge_dim': 1, 'sim_matrix': sim_matrix, 'attributes': hierarchy.cub_attributes, 'group': cub_groups, \n",
    "                       'indexes': cub_groups_idx}\n",
    "\n",
    "model_type = \"gnn_basic\"\n",
    "hyperparameters = update_hyperparameters_graph(model_type,hyperparameters)"
   ]
  },
  {
   "cell_type": "code",
   "execution_count": 177,
   "id": "3c49f075",
   "metadata": {},
   "outputs": [],
   "source": [
    "train = cub_train_sequential\n",
    "val = cub_val_sequential\n",
    "\n",
    "if 'gnn' in model_type:\n",
    "    edge_attr, edge_index, train, val = get_dataset_graph_cub(model_type,cub_groups,hierarchy.cub_attributes,sim_matrix\n",
    "                                                             , train, val)"
   ]
  },
  {
   "cell_type": "code",
   "execution_count": 184,
   "id": "7404114e",
   "metadata": {},
   "outputs": [],
   "source": [
    "hyperparameters['epochs'] = 10"
   ]
  },
  {
   "cell_type": "code",
   "execution_count": 185,
   "id": "d3d3c85e",
   "metadata": {},
   "outputs": [],
   "source": [
    "lr_values = [1e-2,5e-2,1e-1,5e-1]"
   ]
  },
  {
   "cell_type": "code",
   "execution_count": 186,
   "id": "ebbb5adf",
   "metadata": {},
   "outputs": [
    {
     "name": "stdout",
     "output_type": "stream",
     "text": [
      "Eval 0.01 0.27749061584472656\n",
      "Eval 0.05 0.8632518649101257\n",
      "Eval 0.1 0.8200187683105469\n",
      "Eval 0.5 0.8127349615097046\n"
     ]
    }
   ],
   "source": [
    "for lr in lr_values:\n",
    "    hyperparameters['lr'] = lr\n",
    "    model = run_model(model_type, hyperparameters, train, val, use_wandb=False)\n",
    "    print(\"Eval {} {}\".format(lr, eval_model(model,model_type,val)))"
   ]
  },
  {
   "cell_type": "code",
   "execution_count": 187,
   "id": "9c430eee",
   "metadata": {},
   "outputs": [],
   "source": [
    "hyperparameters['lr'] = 0.05\n",
    "hyperparameters['epochs'] = 10"
   ]
  },
  {
   "cell_type": "code",
   "execution_count": 188,
   "id": "749a46ee",
   "metadata": {},
   "outputs": [
    {
     "data": {
      "application/vnd.jupyter.widget-view+json": {
       "model_id": "6ca6333a47514943b5bfdd6430aea83c",
       "version_major": 2,
       "version_minor": 0
      },
      "text/plain": [
       "VBox(children=(Label(value='Waiting for wandb.init()...\\r'), FloatProgress(value=0.01667065827641636, max=1.0)…"
      ]
     },
     "metadata": {},
     "output_type": "display_data"
    },
    {
     "data": {
      "text/html": [
       "Tracking run with wandb version 0.14.2"
      ],
      "text/plain": [
       "<IPython.core.display.HTML object>"
      ]
     },
     "metadata": {},
     "output_type": "display_data"
    },
    {
     "data": {
      "text/html": [
       "Run data is saved locally in <code>/rds/user/njr61/hpc-work/cem/cem/wandb/run-20230411_112312-s74fbeeh</code>"
      ],
      "text/plain": [
       "<IPython.core.display.HTML object>"
      ]
     },
     "metadata": {},
     "output_type": "display_data"
    },
    {
     "data": {
      "text/html": [
       "Syncing run <strong><a href='https://wandb.ai/navr414/cbm-with-hierarchy/runs/s74fbeeh' target=\"_blank\">5d6076c6</a></strong> to <a href='https://wandb.ai/navr414/cbm-with-hierarchy' target=\"_blank\">Weights & Biases</a> (<a href='https://wandb.me/run' target=\"_blank\">docs</a>)<br/>"
      ],
      "text/plain": [
       "<IPython.core.display.HTML object>"
      ]
     },
     "metadata": {},
     "output_type": "display_data"
    },
    {
     "data": {
      "text/html": [
       " View project at <a href='https://wandb.ai/navr414/cbm-with-hierarchy' target=\"_blank\">https://wandb.ai/navr414/cbm-with-hierarchy</a>"
      ],
      "text/plain": [
       "<IPython.core.display.HTML object>"
      ]
     },
     "metadata": {},
     "output_type": "display_data"
    },
    {
     "data": {
      "text/html": [
       " View run at <a href='https://wandb.ai/navr414/cbm-with-hierarchy/runs/s74fbeeh' target=\"_blank\">https://wandb.ai/navr414/cbm-with-hierarchy/runs/s74fbeeh</a>"
      ],
      "text/plain": [
       "<IPython.core.display.HTML object>"
      ]
     },
     "metadata": {},
     "output_type": "display_data"
    },
    {
     "data": {
      "text/html": [
       "Waiting for W&B process to finish... <strong style=\"color:green\">(success).</strong>"
      ],
      "text/plain": [
       "<IPython.core.display.HTML object>"
      ]
     },
     "metadata": {},
     "output_type": "display_data"
    },
    {
     "data": {
      "text/html": [
       " View run <strong style=\"color:#cdcd00\">5d6076c6</strong> at: <a href='https://wandb.ai/navr414/cbm-with-hierarchy/runs/s74fbeeh' target=\"_blank\">https://wandb.ai/navr414/cbm-with-hierarchy/runs/s74fbeeh</a><br/>Synced 5 W&B file(s), 0 media file(s), 0 artifact file(s) and 0 other file(s)"
      ],
      "text/plain": [
       "<IPython.core.display.HTML object>"
      ]
     },
     "metadata": {},
     "output_type": "display_data"
    },
    {
     "data": {
      "text/html": [
       "Find logs at: <code>./wandb/run-20230411_112312-s74fbeeh/logs</code>"
      ],
      "text/plain": [
       "<IPython.core.display.HTML object>"
      ]
     },
     "metadata": {},
     "output_type": "display_data"
    },
    {
     "data": {
      "text/plain": [
       "MPNNModel(\n",
       "  (lin_in): Linear(in_features=112, out_features=64, bias=True)\n",
       "  (convs): ModuleList(\n",
       "    (0): MPNNLayer(emb_dim=64, aggr=add)\n",
       "  )\n",
       "  (group_pred): Linear(in_features=64, out_features=64, bias=True)\n",
       "  (whole_pred): Linear(in_features=1984, out_features=64, bias=True)\n",
       "  (lin_pred): Linear(in_features=64, out_features=200, bias=True)\n",
       ")"
      ]
     },
     "execution_count": 188,
     "metadata": {},
     "output_type": "execute_result"
    }
   ],
   "source": [
    "run_model(model_type, hyperparameters, train, val, use_wandb=True)"
   ]
  },
  {
   "cell_type": "code",
   "execution_count": null,
   "id": "41752194",
   "metadata": {},
   "outputs": [],
   "source": []
  }
 ],
 "metadata": {
  "kernelspec": {
   "display_name": "Python 3 (ipykernel)",
   "language": "python",
   "name": "python3"
  },
  "language_info": {
   "codemirror_mode": {
    "name": "ipython",
    "version": 3
   },
   "file_extension": ".py",
   "mimetype": "text/x-python",
   "name": "python",
   "nbconvert_exporter": "python",
   "pygments_lexer": "ipython3",
   "version": "3.9.16"
  }
 },
 "nbformat": 4,
 "nbformat_minor": 5
}
