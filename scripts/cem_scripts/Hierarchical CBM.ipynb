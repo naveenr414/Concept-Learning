{
 "cells": [
  {
   "cell_type": "code",
   "execution_count": 1,
   "id": "f23c7aa0",
   "metadata": {},
   "outputs": [],
   "source": [
    "%load_ext autoreload\n",
    "%autoreload 2"
   ]
  },
  {
   "cell_type": "code",
   "execution_count": 2,
   "id": "e88c9a98",
   "metadata": {},
   "outputs": [],
   "source": [
    "import os\n",
    "os.chdir('../')"
   ]
  },
  {
   "cell_type": "code",
   "execution_count": 3,
   "id": "4eb08d53",
   "metadata": {},
   "outputs": [],
   "source": [
    "import numpy as np\n",
    "import os\n",
    "import torch\n",
    "from torch import nn\n",
    "from torch.utils.data import DataLoader\n",
    "import pytorch_lightning as pl\n",
    "from torch.utils.data import TensorDataset, DataLoader\n",
    "from torch_geometric.data import DataLoader, Dataset\n",
    "from copy import deepcopy, copy\n",
    "import random\n",
    "import pickle\n",
    "import matplotlib.pyplot as plt\n",
    "from torch.utils.data import DataLoader, Subset, random_split\n",
    "import glob\n",
    "from PIL import Image\n",
    "from collections import Counter\n",
    "import torch_geometric\n",
    "from torch_geometric.nn import MessagePassing\n",
    "from torch_geometric.utils import add_self_loops, degree\n",
    "import torch.nn.functional as F\n",
    "from torch.nn import Linear, ReLU, BatchNorm1d, Module, Sequential\n",
    "from torch_geometric.nn import global_mean_pool, global_max_pool, global_sort_pool, global_add_pool\n",
    "from torch_scatter import scatter\n",
    "from torch_geometric.data import Data\n",
    "from torch_geometric.utils import to_undirected\n",
    "from sklearn.metrics.pairwise import cosine_similarity\n",
    "from sklearn.linear_model import LogisticRegression\n",
    "from sklearn.metrics import accuracy_score, f1_score\n",
    "import wandb"
   ]
  },
  {
   "cell_type": "code",
   "execution_count": 4,
   "id": "c9d549ab",
   "metadata": {},
   "outputs": [],
   "source": [
    "from experiments import hierarchy\n",
    "from experiments.cbm_models import *\n",
    "from experiments.dataset import *"
   ]
  },
  {
   "cell_type": "markdown",
   "id": "59af9232",
   "metadata": {},
   "source": [
    "## Load Hierarchies in "
   ]
  },
  {
   "cell_type": "code",
   "execution_count": 5,
   "id": "bafe5dcb",
   "metadata": {},
   "outputs": [],
   "source": [
    "dataset = \"dsprites\""
   ]
  },
  {
   "cell_type": "code",
   "execution_count": 6,
   "id": "e2dac03a",
   "metadata": {},
   "outputs": [],
   "source": [
    "def load_hierarchy(hierarchy_name,random_seed):\n",
    "    cub_hierarchy = hierarchy.Hierarchy()\n",
    "    cub_hierarchy.from_array(np.array(np.load(open(\"results/hierarchies/{}_cub.npy\".format(hierarchy_name),\"rb\"))),hierarchy.cub_attributes) \n",
    "    cub_groups = hierarchy.traverse_hierarchy(cub_hierarchy.root_split)\n",
    "    cub_groups_idx = [[hierarchy.cub_attributes.index(j) for j in group] for group in cub_groups]\n",
    "    \n",
    "    embedding_matrix = np.load(open(\"concept_vectors/{}_{}.npy\".format(hierarchy_name,random_seed),\"rb\")) # TODO: Change this back to label\n",
    "    sim_matrix = cosine_similarity(embedding_matrix)\n",
    "    \n",
    "    return cub_groups, cub_groups_idx, sim_matrix"
   ]
  },
  {
   "cell_type": "markdown",
   "id": "0330621d",
   "metadata": {},
   "source": [
    "## Run Model"
   ]
  },
  {
   "cell_type": "code",
   "execution_count": 7,
   "id": "ce86fb43",
   "metadata": {},
   "outputs": [],
   "source": [
    "if dataset == 'cub':\n",
    "    train_sequential, val_sequential, test_sequential = load_cub_sequential()\n",
    "    train_fixed, val_fixed, test_fixed = load_cub_fixed()\n",
    "elif dataset == 'dsprites':\n",
    "    train_sequential, val_sequential, test_sequential = load_dataset(\"dsprites\",False)\n",
    "    train_fixed, val_fixed, test_fixed = load_dataset(\"dsprites\",True)\n",
    "elif dataset == 'chexpert':\n",
    "    train_sequential, val_sequential, test_sequential = load_dataset(\"chexpert\",False)\n",
    "    train_fixed, val_fixed, test_fixed = load_dataset(\"chexpert\",True)"
   ]
  },
  {
   "cell_type": "code",
   "execution_count": 8,
   "id": "e32e66b1",
   "metadata": {},
   "outputs": [],
   "source": [
    "def run_model(model_type, hyperparameters, train, val, test=None, pretrain=False, use_wandb=False,weights={}):\n",
    "    model = initialize_model(model_type,hyperparameters,dataset,pretrain=pretrain,use_wandb=use_wandb,weights=weights)\n",
    "    \n",
    "    if torch.cuda.is_available():\n",
    "        model = model.cuda()\n",
    "    \n",
    "    model = train_model(model,model_type,train,val,hyperparameters,pretrain=pretrain,use_wandb=use_wandb)\n",
    "\n",
    "    \n",
    "    if use_wandb:\n",
    "        test_score = eval_model(model,model_type,test)\n",
    "        wandb.log({\"test_acc\": test_score[1]})\n",
    "        if len(test_score) == 3:\n",
    "            wandb.log({'test_auc': test_score[2]})\n",
    "        wandb.finish()\n",
    "    return model"
   ]
  },
  {
   "cell_type": "markdown",
   "id": "1eaaf90f",
   "metadata": {},
   "source": [
    "## CUB Dataset"
   ]
  },
  {
   "cell_type": "code",
   "execution_count": 9,
   "id": "bc0cbda9",
   "metadata": {},
   "outputs": [],
   "source": [
    "if dataset == 'cub':\n",
    "    bottleneck_size = 112\n",
    "    output_classes = 200\n",
    "elif dataset == 'dsprites':\n",
    "    bottleneck_size = 18\n",
    "    output_classes = 100\n",
    "elif dataset == 'chexpert':\n",
    "    bottleneck_size = 13\n",
    "    output_classes = 2"
   ]
  },
  {
   "cell_type": "code",
   "execution_count": 10,
   "id": "5ff0ac4d",
   "metadata": {},
   "outputs": [],
   "source": [
    "baseline_hyperparameters = {\n",
    "    'lr': None,\n",
    "    'epochs': 10,\n",
    "    'num_layers': 1,\n",
    "    'emb_dim': 64,\n",
    "    'in_dim': bottleneck_size, \n",
    "    'out_dim': output_classes, \n",
    "    'edge_dim': 1,\n",
    "    'sim_matrix': None,\n",
    "    'attributes': hierarchy.cub_attributes, \n",
    "    'group': None,\n",
    "    'indexes': None,\n",
    "}"
   ]
  },
  {
   "cell_type": "code",
   "execution_count": 11,
   "id": "96dcf6c5",
   "metadata": {},
   "outputs": [],
   "source": [
    "def run_experiment(model_type, hierarchy_name, random_seed, pretrain=True, use_fixed=False):\n",
    "    if dataset != 'cub':\n",
    "        if model_type != 'mlp': \n",
    "            raise Exception(\"Need to load hierarchies with {}\".format(dataset))\n",
    "        else:\n",
    "            groups = [[str(i)] for i in range(bottleneck_size)]\n",
    "            groups_idx = [[i] for i in range(bottleneck_size)]\n",
    "            sim_matrix = np.ones((bottleneck_size,bottleneck_size))\n",
    "    else:\n",
    "        groups, groups_idx, sim_matrix = load_hierarchy(hierarchy_name,random_seed)\n",
    "    \n",
    "    hyperparameters = copy(baseline_hyperparameters)\n",
    "    hyperparameters['sim_matrix'] = sim_matrix\n",
    "    hyperparameters['indexes'] = groups_idx\n",
    "    hyperparameters['group'] = groups\n",
    "    hyperparameters['seed'] = random_seed\n",
    "    hyperparameters['hierarchy_name'] = hierarchy_name\n",
    "    hyperparameters['pretrain'] = pretrain\n",
    "    \n",
    "    random.seed(random_seed)\n",
    "    np.random.seed(random_seed)\n",
    "    torch.manual_seed(random_seed)\n",
    "    \n",
    "    \n",
    "    hyperparameters = update_hyperparameters_graph(model_type,hyperparameters)        \n",
    "    lr_values = [1e-4,5e-4,1e-3,5e-3,1e-2,5e-2,1e-1]\n",
    "    \n",
    "    if pretrain and 'gnn' in model_type:\n",
    "        if use_fixed:\n",
    "            train = train_fixed\n",
    "            val = val_fixed\n",
    "            test = test_fixed\n",
    "        else:\n",
    "            train = train_sequential\n",
    "            val = val_sequential\n",
    "            test = test_sequential\n",
    "\n",
    "        if 'gnn' in model_type:\n",
    "            edge_attr, edge_index, train, val, test = get_dataset_graph_cub_pretrain(model_type,cub_groups,hierarchy.cub_attributes,sim_matrix\n",
    "                                                                     , train, val, test) \n",
    "\n",
    "        hyperparameters['epochs'] = 5\n",
    "        hyperparameters['lr'] = 1e-2\n",
    "        pretrain_model = run_model(model_type, hyperparameters, train, val, pretrain=True, use_wandb=False)\n",
    "    \n",
    "        state_dict = pretrain_model.state_dict()\n",
    "        new_state_dict = {}\n",
    "\n",
    "        for key,value in state_dict.items():\n",
    "            if key.startswith('convs.0'):\n",
    "                new_state_dict[key] = value\n",
    "            elif key.startswith('lin_in'):\n",
    "                new_state_dict[key] = value\n",
    "\n",
    "    if use_fixed:\n",
    "        train = train_fixed\n",
    "        val = val_fixed\n",
    "        test = test_fixed\n",
    "    else:\n",
    "        train = train_sequential\n",
    "        val = val_sequential\n",
    "        test = test_sequential\n",
    "\n",
    "    if 'gnn' in model_type:\n",
    "        edge_attr, edge_index, train, val, test = get_dataset_graph_cub(model_type,cub_groups,\n",
    "                                                                        hierarchy.cub_attributes,sim_matrix,\n",
    "                                                                        train, val, test)\n",
    "    \n",
    "    hyperparameters['epochs'] = 2\n",
    "    score_by_lr = {}\n",
    "\n",
    "    # TODO: Switch test to val\n",
    "    for lr in lr_values:\n",
    "        hyperparameters['lr'] = lr\n",
    "        model = run_model(model_type, hyperparameters, train, val, pretrain=False, use_wandb=False)\n",
    "        score_by_lr[lr] = float(eval_model(model,model_type,val,pretrain=False)[0].cpu().detach().numpy())\n",
    "        \n",
    "    model_lr = min(score_by_lr, key=score_by_lr.get)\n",
    "    \n",
    "    hyperparameters['lr'] = model_lr\n",
    "    hyperparameters['epochs'] = 10\n",
    "    \n",
    "    if pretrain:\n",
    "        final_model = run_model(model_type, hyperparameters, train, val, test=test, use_wandb=True, pretrain=False,weights=new_state_dict) \n",
    "    else:\n",
    "        final_model = run_model(model_type, hyperparameters, train, val, test=test, use_wandb=True, pretrain=False)     \n",
    "    "
   ]
  },
  {
   "cell_type": "code",
   "execution_count": null,
   "id": "822b1f41",
   "metadata": {},
   "outputs": [
    {
     "name": "stderr",
     "output_type": "stream",
     "text": [
      "GPU available: False, used: False\n",
      "TPU available: False, using: 0 TPU cores\n",
      "IPU available: False, using: 0 IPUs\n",
      "\n",
      "  | Name    | Type       | Params\n",
      "---------------------------------------\n",
      "0 | relu    | ReLU       | 0     \n",
      "1 | softmax | Softmax    | 0     \n",
      "2 | sigmoid | Sigmoid    | 0     \n",
      "3 | fc      | Sequential | 7.7 K \n",
      "---------------------------------------\n",
      "7.7 K     Trainable params\n",
      "0         Non-trainable params\n",
      "7.7 K     Total params\n",
      "0.031     Total estimated model params size (MB)\n",
      "/rds/user/njr61/hpc-work/anaconda3/envs/gnn/lib/python3.9/site-packages/pytorch_lightning/trainer/data_loading.py:132: UserWarning: The dataloader, val_dataloader 0, does not have many workers which may be a bottleneck. Consider increasing the value of the `num_workers` argument` (try 32 which is the number of cpus on this machine) in the `DataLoader` init to improve performance.\n",
      "  rank_zero_warn(\n",
      "/rds/user/njr61/hpc-work/anaconda3/envs/gnn/lib/python3.9/site-packages/pytorch_lightning/trainer/data_loading.py:132: UserWarning: The dataloader, train_dataloader, does not have many workers which may be a bottleneck. Consider increasing the value of the `num_workers` argument` (try 32 which is the number of cpus on this machine) in the `DataLoader` init to improve performance.\n",
      "  rank_zero_warn(\n",
      "GPU available: False, used: False\n",
      "TPU available: False, using: 0 TPU cores\n",
      "IPU available: False, using: 0 IPUs\n",
      "\n",
      "  | Name    | Type       | Params\n",
      "---------------------------------------\n",
      "0 | relu    | ReLU       | 0     \n",
      "1 | softmax | Softmax    | 0     \n",
      "2 | sigmoid | Sigmoid    | 0     \n",
      "3 | fc      | Sequential | 7.7 K \n",
      "---------------------------------------\n",
      "7.7 K     Trainable params\n",
      "0         Non-trainable params\n",
      "7.7 K     Total params\n",
      "0.031     Total estimated model params size (MB)\n",
      "GPU available: False, used: False\n",
      "TPU available: False, using: 0 TPU cores\n",
      "IPU available: False, using: 0 IPUs\n",
      "\n",
      "  | Name    | Type       | Params\n",
      "---------------------------------------\n",
      "0 | relu    | ReLU       | 0     \n",
      "1 | softmax | Softmax    | 0     \n",
      "2 | sigmoid | Sigmoid    | 0     \n",
      "3 | fc      | Sequential | 7.7 K \n",
      "---------------------------------------\n",
      "7.7 K     Trainable params\n",
      "0         Non-trainable params\n",
      "7.7 K     Total params\n",
      "0.031     Total estimated model params size (MB)\n",
      "GPU available: False, used: False\n",
      "TPU available: False, using: 0 TPU cores\n",
      "IPU available: False, using: 0 IPUs\n",
      "\n",
      "  | Name    | Type       | Params\n",
      "---------------------------------------\n",
      "0 | relu    | ReLU       | 0     \n",
      "1 | softmax | Softmax    | 0     \n",
      "2 | sigmoid | Sigmoid    | 0     \n",
      "3 | fc      | Sequential | 7.7 K \n",
      "---------------------------------------\n",
      "7.7 K     Trainable params\n",
      "0         Non-trainable params\n",
      "7.7 K     Total params\n",
      "0.031     Total estimated model params size (MB)\n",
      "GPU available: False, used: False\n",
      "TPU available: False, using: 0 TPU cores\n",
      "IPU available: False, using: 0 IPUs\n",
      "\n",
      "  | Name    | Type       | Params\n",
      "---------------------------------------\n",
      "0 | relu    | ReLU       | 0     \n",
      "1 | softmax | Softmax    | 0     \n",
      "2 | sigmoid | Sigmoid    | 0     \n",
      "3 | fc      | Sequential | 7.7 K \n",
      "---------------------------------------\n",
      "7.7 K     Trainable params\n",
      "0         Non-trainable params\n",
      "7.7 K     Total params\n",
      "0.031     Total estimated model params size (MB)\n",
      "GPU available: False, used: False\n",
      "TPU available: False, using: 0 TPU cores\n",
      "IPU available: False, using: 0 IPUs\n",
      "\n",
      "  | Name    | Type       | Params\n",
      "---------------------------------------\n",
      "0 | relu    | ReLU       | 0     \n",
      "1 | softmax | Softmax    | 0     \n",
      "2 | sigmoid | Sigmoid    | 0     \n",
      "3 | fc      | Sequential | 7.7 K \n",
      "---------------------------------------\n",
      "7.7 K     Trainable params\n",
      "0         Non-trainable params\n",
      "7.7 K     Total params\n",
      "0.031     Total estimated model params size (MB)\n",
      "GPU available: False, used: False\n",
      "TPU available: False, using: 0 TPU cores\n",
      "IPU available: False, using: 0 IPUs\n",
      "\n",
      "  | Name    | Type       | Params\n",
      "---------------------------------------\n",
      "0 | relu    | ReLU       | 0     \n",
      "1 | softmax | Softmax    | 0     \n",
      "2 | sigmoid | Sigmoid    | 0     \n",
      "3 | fc      | Sequential | 7.7 K \n",
      "---------------------------------------\n",
      "7.7 K     Trainable params\n",
      "0         Non-trainable params\n",
      "7.7 K     Total params\n",
      "0.031     Total estimated model params size (MB)\n",
      "\u001b[34m\u001b[1mwandb\u001b[0m: Currently logged in as: \u001b[33mnavr414\u001b[0m. Use \u001b[1m`wandb login --relogin`\u001b[0m to force relogin\n"
     ]
    },
    {
     "data": {
      "text/html": [
       "wandb version 0.15.0 is available!  To upgrade, please run:\n",
       " $ pip install wandb --upgrade"
      ],
      "text/plain": [
       "<IPython.core.display.HTML object>"
      ]
     },
     "metadata": {},
     "output_type": "display_data"
    },
    {
     "data": {
      "text/html": [
       "Tracking run with wandb version 0.14.2"
      ],
      "text/plain": [
       "<IPython.core.display.HTML object>"
      ]
     },
     "metadata": {},
     "output_type": "display_data"
    },
    {
     "data": {
      "text/html": [
       "Run data is saved locally in <code>/rds/user/njr61/hpc-work/cem/cem/wandb/run-20230430_141217-940vbx9p</code>"
      ],
      "text/plain": [
       "<IPython.core.display.HTML object>"
      ]
     },
     "metadata": {},
     "output_type": "display_data"
    },
    {
     "data": {
      "text/html": [
       "Syncing run <strong><a href='https://wandb.ai/navr414/cbm-with-hierarchy/runs/940vbx9p' target=\"_blank\">70207cdd</a></strong> to <a href='https://wandb.ai/navr414/cbm-with-hierarchy' target=\"_blank\">Weights & Biases</a> (<a href='https://wandb.me/run' target=\"_blank\">docs</a>)<br/>"
      ],
      "text/plain": [
       "<IPython.core.display.HTML object>"
      ]
     },
     "metadata": {},
     "output_type": "display_data"
    },
    {
     "data": {
      "text/html": [
       " View project at <a href='https://wandb.ai/navr414/cbm-with-hierarchy' target=\"_blank\">https://wandb.ai/navr414/cbm-with-hierarchy</a>"
      ],
      "text/plain": [
       "<IPython.core.display.HTML object>"
      ]
     },
     "metadata": {},
     "output_type": "display_data"
    },
    {
     "data": {
      "text/html": [
       " View run at <a href='https://wandb.ai/navr414/cbm-with-hierarchy/runs/940vbx9p' target=\"_blank\">https://wandb.ai/navr414/cbm-with-hierarchy/runs/940vbx9p</a>"
      ],
      "text/plain": [
       "<IPython.core.display.HTML object>"
      ]
     },
     "metadata": {},
     "output_type": "display_data"
    },
    {
     "name": "stderr",
     "output_type": "stream",
     "text": [
      "/rds/user/njr61/hpc-work/anaconda3/envs/gnn/lib/python3.9/site-packages/pytorch_lightning/loggers/wandb.py:341: UserWarning: There is a wandb run already in progress and newly created instances of `WandbLogger` will reuse this run. If this is not desired, call `wandb.finish()` before instantiating `WandbLogger`.\n",
      "  rank_zero_warn(\n",
      "\u001b[34m\u001b[1mwandb\u001b[0m: logging graph, to disable use `wandb.watch(log_graph=False)`\n",
      "GPU available: False, used: False\n",
      "TPU available: False, using: 0 TPU cores\n",
      "IPU available: False, using: 0 IPUs\n",
      "\n",
      "  | Name    | Type       | Params\n",
      "---------------------------------------\n",
      "0 | relu    | ReLU       | 0     \n",
      "1 | softmax | Softmax    | 0     \n",
      "2 | sigmoid | Sigmoid    | 0     \n",
      "3 | fc      | Sequential | 7.7 K \n",
      "---------------------------------------\n",
      "7.7 K     Trainable params\n",
      "0         Non-trainable params\n",
      "7.7 K     Total params\n",
      "0.031     Total estimated model params size (MB)\n",
      "/rds/user/njr61/hpc-work/anaconda3/envs/gnn/lib/python3.9/site-packages/pytorch_lightning/trainer/data_loading.py:132: UserWarning: The dataloader, val_dataloader 0, does not have many workers which may be a bottleneck. Consider increasing the value of the `num_workers` argument` (try 32 which is the number of cpus on this machine) in the `DataLoader` init to improve performance.\n",
      "  rank_zero_warn(\n",
      "/rds/user/njr61/hpc-work/anaconda3/envs/gnn/lib/python3.9/site-packages/pytorch_lightning/trainer/data_loading.py:132: UserWarning: The dataloader, train_dataloader, does not have many workers which may be a bottleneck. Consider increasing the value of the `num_workers` argument` (try 32 which is the number of cpus on this machine) in the `DataLoader` init to improve performance.\n",
      "  rank_zero_warn(\n"
     ]
    }
   ],
   "source": [
    "for random_seed in [43,44,45]:\n",
    "    run_experiment('mlp',\"shapley\",random_seed,pretrain=False)"
   ]
  },
  {
   "cell_type": "code",
   "execution_count": null,
   "id": "a608ea6a",
   "metadata": {},
   "outputs": [],
   "source": [
    "for random_seed in [43,44,45]:\n",
    "    run_experiment('mlp',\"shapley\",random_seed,pretrain=False,use_fixed=True)"
   ]
  },
  {
   "cell_type": "code",
   "execution_count": 12,
   "id": "76dbe3b9",
   "metadata": {},
   "outputs": [
    {
     "name": "stderr",
     "output_type": "stream",
     "text": [
      "/rds/user/njr61/hpc-work/anaconda3/envs/gnn/lib/python3.9/site-packages/torch_geometric/deprecation.py:13: UserWarning: 'data.DataLoader' is deprecated, use 'loader.DataLoader' instead\n",
      "  warnings.warn(out)\n",
      "/rds/user/njr61/hpc-work/anaconda3/envs/gnn/lib/python3.9/site-packages/torch/_tensor.py:579: UserWarning: floor_divide is deprecated, and will be removed in a future version of pytorch. It currently rounds toward 0 (like the 'trunc' function NOT 'floor'). This results in incorrect rounding for negative values.\n",
      "To keep the current behavior, use torch.div(a, b, rounding_mode='trunc'), or for actual floor division, use torch.div(a, b, rounding_mode='floor'). (Triggered internally at  ../aten/src/ATen/native/BinaryOps.cpp:467.)\n",
      "  return torch.floor_divide(other, self)\n",
      "\u001b[34m\u001b[1mwandb\u001b[0m: Currently logged in as: \u001b[33mnavr414\u001b[0m. Use \u001b[1m`wandb login --relogin`\u001b[0m to force relogin\n"
     ]
    },
    {
     "data": {
      "text/html": [
       "wandb version 0.15.0 is available!  To upgrade, please run:\n",
       " $ pip install wandb --upgrade"
      ],
      "text/plain": [
       "<IPython.core.display.HTML object>"
      ]
     },
     "metadata": {},
     "output_type": "display_data"
    },
    {
     "data": {
      "text/html": [
       "Tracking run with wandb version 0.14.2"
      ],
      "text/plain": [
       "<IPython.core.display.HTML object>"
      ]
     },
     "metadata": {},
     "output_type": "display_data"
    },
    {
     "data": {
      "text/html": [
       "Run data is saved locally in <code>/rds/user/njr61/hpc-work/cem/cem/wandb/run-20230428_111906-jhzxwn06</code>"
      ],
      "text/plain": [
       "<IPython.core.display.HTML object>"
      ]
     },
     "metadata": {},
     "output_type": "display_data"
    },
    {
     "data": {
      "text/html": [
       "Syncing run <strong><a href='https://wandb.ai/navr414/cbm-with-hierarchy/runs/jhzxwn06' target=\"_blank\">414a2407</a></strong> to <a href='https://wandb.ai/navr414/cbm-with-hierarchy' target=\"_blank\">Weights & Biases</a> (<a href='https://wandb.me/run' target=\"_blank\">docs</a>)<br/>"
      ],
      "text/plain": [
       "<IPython.core.display.HTML object>"
      ]
     },
     "metadata": {},
     "output_type": "display_data"
    },
    {
     "data": {
      "text/html": [
       " View project at <a href='https://wandb.ai/navr414/cbm-with-hierarchy' target=\"_blank\">https://wandb.ai/navr414/cbm-with-hierarchy</a>"
      ],
      "text/plain": [
       "<IPython.core.display.HTML object>"
      ]
     },
     "metadata": {},
     "output_type": "display_data"
    },
    {
     "data": {
      "text/html": [
       " View run at <a href='https://wandb.ai/navr414/cbm-with-hierarchy/runs/jhzxwn06' target=\"_blank\">https://wandb.ai/navr414/cbm-with-hierarchy/runs/jhzxwn06</a>"
      ],
      "text/plain": [
       "<IPython.core.display.HTML object>"
      ]
     },
     "metadata": {},
     "output_type": "display_data"
    },
    {
     "data": {
      "text/html": [
       "Waiting for W&B process to finish... <strong style=\"color:green\">(success).</strong>"
      ],
      "text/plain": [
       "<IPython.core.display.HTML object>"
      ]
     },
     "metadata": {},
     "output_type": "display_data"
    },
    {
     "data": {
      "application/vnd.jupyter.widget-view+json": {
       "model_id": "7aebd967c2604ceaba546b4f7e94937b",
       "version_major": 2,
       "version_minor": 0
      },
      "text/plain": [
       "VBox(children=(Label(value='0.111 MB of 0.111 MB uploaded (0.000 MB deduped)\\r'), FloatProgress(value=1.0, max…"
      ]
     },
     "metadata": {},
     "output_type": "display_data"
    },
    {
     "data": {
      "text/html": [
       "<style>\n",
       "    table.wandb td:nth-child(1) { padding: 0 10px; text-align: left ; width: auto;} td:nth-child(2) {text-align: left ; width: 100%}\n",
       "    .wandb-row { display: flex; flex-direction: row; flex-wrap: wrap; justify-content: flex-start; width: 100% }\n",
       "    .wandb-col { display: flex; flex-direction: column; flex-basis: 100%; flex: 1; padding: 10px; }\n",
       "    </style>\n",
       "<div class=\"wandb-row\"><div class=\"wandb-col\"><h3>Run history:</h3><br/><table class=\"wandb\"><tr><td>loss</td><td>█▅▅▃▃▂▂▃▂▂▂▁▂▂▂▂▁▁▁▁▁▁▁▁▁▁▁▁▁▁▁▁▁▁▁▁▁▁▁▁</td></tr><tr><td>test_acc</td><td>▁</td></tr><tr><td>train_acc</td><td>▁▅▆▇▇▇████</td></tr><tr><td>train_loss</td><td>█▄▃▂▂▁▁▁▁▁</td></tr><tr><td>val_acc</td><td>▁▅▆▇▇▇▇███</td></tr><tr><td>val_loss</td><td>█▃▁▁▁▁▂▂▂▂</td></tr></table><br/></div><div class=\"wandb-col\"><h3>Run summary:</h3><br/><table class=\"wandb\"><tr><td>loss</td><td>0.27236</td></tr><tr><td>test_acc</td><td>0.63721</td></tr><tr><td>train_acc</td><td>0.91681</td></tr><tr><td>train_loss</td><td>0.2468</td></tr><tr><td>val_acc</td><td>0.64107</td></tr><tr><td>val_loss</td><td>1.90749</td></tr></table><br/></div></div>"
      ],
      "text/plain": [
       "<IPython.core.display.HTML object>"
      ]
     },
     "metadata": {},
     "output_type": "display_data"
    },
    {
     "data": {
      "text/html": [
       " View run <strong style=\"color:#cdcd00\">414a2407</strong> at: <a href='https://wandb.ai/navr414/cbm-with-hierarchy/runs/jhzxwn06' target=\"_blank\">https://wandb.ai/navr414/cbm-with-hierarchy/runs/jhzxwn06</a><br/>Synced 5 W&B file(s), 0 media file(s), 0 artifact file(s) and 0 other file(s)"
      ],
      "text/plain": [
       "<IPython.core.display.HTML object>"
      ]
     },
     "metadata": {},
     "output_type": "display_data"
    },
    {
     "data": {
      "text/html": [
       "Find logs at: <code>./wandb/run-20230428_111906-jhzxwn06/logs</code>"
      ],
      "text/plain": [
       "<IPython.core.display.HTML object>"
      ]
     },
     "metadata": {},
     "output_type": "display_data"
    },
    {
     "name": "stderr",
     "output_type": "stream",
     "text": [
      "/rds/user/njr61/hpc-work/anaconda3/envs/gnn/lib/python3.9/site-packages/torch_geometric/deprecation.py:13: UserWarning: 'data.DataLoader' is deprecated, use 'loader.DataLoader' instead\n",
      "  warnings.warn(out)\n"
     ]
    },
    {
     "data": {
      "text/html": [
       "wandb version 0.15.0 is available!  To upgrade, please run:\n",
       " $ pip install wandb --upgrade"
      ],
      "text/plain": [
       "<IPython.core.display.HTML object>"
      ]
     },
     "metadata": {},
     "output_type": "display_data"
    },
    {
     "data": {
      "text/html": [
       "Tracking run with wandb version 0.14.2"
      ],
      "text/plain": [
       "<IPython.core.display.HTML object>"
      ]
     },
     "metadata": {},
     "output_type": "display_data"
    },
    {
     "data": {
      "text/html": [
       "Run data is saved locally in <code>/rds/user/njr61/hpc-work/cem/cem/wandb/run-20230428_112155-5agy3nfp</code>"
      ],
      "text/plain": [
       "<IPython.core.display.HTML object>"
      ]
     },
     "metadata": {},
     "output_type": "display_data"
    },
    {
     "data": {
      "text/html": [
       "Syncing run <strong><a href='https://wandb.ai/navr414/cbm-with-hierarchy/runs/5agy3nfp' target=\"_blank\">55a6951c</a></strong> to <a href='https://wandb.ai/navr414/cbm-with-hierarchy' target=\"_blank\">Weights & Biases</a> (<a href='https://wandb.me/run' target=\"_blank\">docs</a>)<br/>"
      ],
      "text/plain": [
       "<IPython.core.display.HTML object>"
      ]
     },
     "metadata": {},
     "output_type": "display_data"
    },
    {
     "data": {
      "text/html": [
       " View project at <a href='https://wandb.ai/navr414/cbm-with-hierarchy' target=\"_blank\">https://wandb.ai/navr414/cbm-with-hierarchy</a>"
      ],
      "text/plain": [
       "<IPython.core.display.HTML object>"
      ]
     },
     "metadata": {},
     "output_type": "display_data"
    },
    {
     "data": {
      "text/html": [
       " View run at <a href='https://wandb.ai/navr414/cbm-with-hierarchy/runs/5agy3nfp' target=\"_blank\">https://wandb.ai/navr414/cbm-with-hierarchy/runs/5agy3nfp</a>"
      ],
      "text/plain": [
       "<IPython.core.display.HTML object>"
      ]
     },
     "metadata": {},
     "output_type": "display_data"
    },
    {
     "data": {
      "text/html": [
       "Waiting for W&B process to finish... <strong style=\"color:green\">(success).</strong>"
      ],
      "text/plain": [
       "<IPython.core.display.HTML object>"
      ]
     },
     "metadata": {},
     "output_type": "display_data"
    },
    {
     "data": {
      "application/vnd.jupyter.widget-view+json": {
       "model_id": "dca63db24bc84f3499d79eed0c9694b3",
       "version_major": 2,
       "version_minor": 0
      },
      "text/plain": [
       "VBox(children=(Label(value='0.013 MB of 0.108 MB uploaded (0.000 MB deduped)\\r'), FloatProgress(value=0.123289…"
      ]
     },
     "metadata": {},
     "output_type": "display_data"
    },
    {
     "data": {
      "text/html": [
       "<style>\n",
       "    table.wandb td:nth-child(1) { padding: 0 10px; text-align: left ; width: auto;} td:nth-child(2) {text-align: left ; width: 100%}\n",
       "    .wandb-row { display: flex; flex-direction: row; flex-wrap: wrap; justify-content: flex-start; width: 100% }\n",
       "    .wandb-col { display: flex; flex-direction: column; flex-basis: 100%; flex: 1; padding: 10px; }\n",
       "    </style>\n",
       "<div class=\"wandb-row\"><div class=\"wandb-col\"><h3>Run history:</h3><br/><table class=\"wandb\"><tr><td>loss</td><td>█▇▆▄▄▃▂▂▂▂▂▂▂▂▂▁▁▂▂▂▂▁▂▂▁▁▁▁▁▁▁▂▁▁▁▁▁▁▁▁</td></tr><tr><td>test_acc</td><td>▁</td></tr><tr><td>train_acc</td><td>▁▅▆▇▇█████</td></tr><tr><td>train_loss</td><td>█▄▂▂▁▁▁▁▁▁</td></tr><tr><td>val_acc</td><td>▁▅▇▇▇█████</td></tr><tr><td>val_loss</td><td>█▃▂▁▁▁▂▁▁▁</td></tr></table><br/></div><div class=\"wandb-col\"><h3>Run summary:</h3><br/><table class=\"wandb\"><tr><td>loss</td><td>0.53315</td></tr><tr><td>test_acc</td><td>0.62409</td></tr><tr><td>train_acc</td><td>0.90388</td></tr><tr><td>train_loss</td><td>0.30513</td></tr><tr><td>val_acc</td><td>0.6202</td></tr><tr><td>val_loss</td><td>1.93992</td></tr></table><br/></div></div>"
      ],
      "text/plain": [
       "<IPython.core.display.HTML object>"
      ]
     },
     "metadata": {},
     "output_type": "display_data"
    },
    {
     "data": {
      "text/html": [
       " View run <strong style=\"color:#cdcd00\">55a6951c</strong> at: <a href='https://wandb.ai/navr414/cbm-with-hierarchy/runs/5agy3nfp' target=\"_blank\">https://wandb.ai/navr414/cbm-with-hierarchy/runs/5agy3nfp</a><br/>Synced 5 W&B file(s), 0 media file(s), 0 artifact file(s) and 0 other file(s)"
      ],
      "text/plain": [
       "<IPython.core.display.HTML object>"
      ]
     },
     "metadata": {},
     "output_type": "display_data"
    },
    {
     "data": {
      "text/html": [
       "Find logs at: <code>./wandb/run-20230428_112155-5agy3nfp/logs</code>"
      ],
      "text/plain": [
       "<IPython.core.display.HTML object>"
      ]
     },
     "metadata": {},
     "output_type": "display_data"
    },
    {
     "name": "stderr",
     "output_type": "stream",
     "text": [
      "/rds/user/njr61/hpc-work/anaconda3/envs/gnn/lib/python3.9/site-packages/torch_geometric/deprecation.py:13: UserWarning: 'data.DataLoader' is deprecated, use 'loader.DataLoader' instead\n",
      "  warnings.warn(out)\n"
     ]
    },
    {
     "data": {
      "text/html": [
       "wandb version 0.15.0 is available!  To upgrade, please run:\n",
       " $ pip install wandb --upgrade"
      ],
      "text/plain": [
       "<IPython.core.display.HTML object>"
      ]
     },
     "metadata": {},
     "output_type": "display_data"
    },
    {
     "data": {
      "text/html": [
       "Tracking run with wandb version 0.14.2"
      ],
      "text/plain": [
       "<IPython.core.display.HTML object>"
      ]
     },
     "metadata": {},
     "output_type": "display_data"
    },
    {
     "data": {
      "text/html": [
       "Run data is saved locally in <code>/rds/user/njr61/hpc-work/cem/cem/wandb/run-20230428_112421-vi22simf</code>"
      ],
      "text/plain": [
       "<IPython.core.display.HTML object>"
      ]
     },
     "metadata": {},
     "output_type": "display_data"
    },
    {
     "data": {
      "text/html": [
       "Syncing run <strong><a href='https://wandb.ai/navr414/cbm-with-hierarchy/runs/vi22simf' target=\"_blank\">1a6d1d92</a></strong> to <a href='https://wandb.ai/navr414/cbm-with-hierarchy' target=\"_blank\">Weights & Biases</a> (<a href='https://wandb.me/run' target=\"_blank\">docs</a>)<br/>"
      ],
      "text/plain": [
       "<IPython.core.display.HTML object>"
      ]
     },
     "metadata": {},
     "output_type": "display_data"
    },
    {
     "data": {
      "text/html": [
       " View project at <a href='https://wandb.ai/navr414/cbm-with-hierarchy' target=\"_blank\">https://wandb.ai/navr414/cbm-with-hierarchy</a>"
      ],
      "text/plain": [
       "<IPython.core.display.HTML object>"
      ]
     },
     "metadata": {},
     "output_type": "display_data"
    },
    {
     "data": {
      "text/html": [
       " View run at <a href='https://wandb.ai/navr414/cbm-with-hierarchy/runs/vi22simf' target=\"_blank\">https://wandb.ai/navr414/cbm-with-hierarchy/runs/vi22simf</a>"
      ],
      "text/plain": [
       "<IPython.core.display.HTML object>"
      ]
     },
     "metadata": {},
     "output_type": "display_data"
    },
    {
     "data": {
      "text/html": [
       "Waiting for W&B process to finish... <strong style=\"color:green\">(success).</strong>"
      ],
      "text/plain": [
       "<IPython.core.display.HTML object>"
      ]
     },
     "metadata": {},
     "output_type": "display_data"
    },
    {
     "data": {
      "application/vnd.jupyter.widget-view+json": {
       "model_id": "1682dbea0e8946cea3fbebc8048b5ec6",
       "version_major": 2,
       "version_minor": 0
      },
      "text/plain": [
       "VBox(children=(Label(value='0.013 MB of 0.112 MB uploaded (0.000 MB deduped)\\r'), FloatProgress(value=0.119110…"
      ]
     },
     "metadata": {},
     "output_type": "display_data"
    },
    {
     "data": {
      "text/html": [
       "<style>\n",
       "    table.wandb td:nth-child(1) { padding: 0 10px; text-align: left ; width: auto;} td:nth-child(2) {text-align: left ; width: 100%}\n",
       "    .wandb-row { display: flex; flex-direction: row; flex-wrap: wrap; justify-content: flex-start; width: 100% }\n",
       "    .wandb-col { display: flex; flex-direction: column; flex-basis: 100%; flex: 1; padding: 10px; }\n",
       "    </style>\n",
       "<div class=\"wandb-row\"><div class=\"wandb-col\"><h3>Run history:</h3><br/><table class=\"wandb\"><tr><td>loss</td><td>█▆▃▂▂▂▂▁▂▁▂▁▂▁▁▁▁▁▁▁▁▁▁▁▁▁▁▁▁▁▁▁▁▁▁▁▁▁▁▁</td></tr><tr><td>test_acc</td><td>▁</td></tr><tr><td>train_acc</td><td>▁▃▅▅▆▇▇███</td></tr><tr><td>train_loss</td><td>█▅▄▃▂▂▁▁▁▁</td></tr><tr><td>val_acc</td><td>▁▃▅▆▇▇▇███</td></tr><tr><td>val_loss</td><td>▁▄▄▅▄▇▇▇▆█</td></tr></table><br/></div><div class=\"wandb-col\"><h3>Run summary:</h3><br/><table class=\"wandb\"><tr><td>loss</td><td>0.10407</td></tr><tr><td>test_acc</td><td>0.65516</td></tr><tr><td>train_acc</td><td>0.94996</td></tr><tr><td>train_loss</td><td>0.1499</td></tr><tr><td>val_acc</td><td>0.66528</td></tr><tr><td>val_loss</td><td>1.89768</td></tr></table><br/></div></div>"
      ],
      "text/plain": [
       "<IPython.core.display.HTML object>"
      ]
     },
     "metadata": {},
     "output_type": "display_data"
    },
    {
     "data": {
      "text/html": [
       " View run <strong style=\"color:#cdcd00\">1a6d1d92</strong> at: <a href='https://wandb.ai/navr414/cbm-with-hierarchy/runs/vi22simf' target=\"_blank\">https://wandb.ai/navr414/cbm-with-hierarchy/runs/vi22simf</a><br/>Synced 5 W&B file(s), 0 media file(s), 0 artifact file(s) and 0 other file(s)"
      ],
      "text/plain": [
       "<IPython.core.display.HTML object>"
      ]
     },
     "metadata": {},
     "output_type": "display_data"
    },
    {
     "data": {
      "text/html": [
       "Find logs at: <code>./wandb/run-20230428_112421-vi22simf/logs</code>"
      ],
      "text/plain": [
       "<IPython.core.display.HTML object>"
      ]
     },
     "metadata": {},
     "output_type": "display_data"
    },
    {
     "name": "stderr",
     "output_type": "stream",
     "text": [
      "/rds/user/njr61/hpc-work/anaconda3/envs/gnn/lib/python3.9/site-packages/torch_geometric/deprecation.py:13: UserWarning: 'data.DataLoader' is deprecated, use 'loader.DataLoader' instead\n",
      "  warnings.warn(out)\n"
     ]
    },
    {
     "data": {
      "text/html": [
       "wandb version 0.15.0 is available!  To upgrade, please run:\n",
       " $ pip install wandb --upgrade"
      ],
      "text/plain": [
       "<IPython.core.display.HTML object>"
      ]
     },
     "metadata": {},
     "output_type": "display_data"
    },
    {
     "data": {
      "text/html": [
       "Tracking run with wandb version 0.14.2"
      ],
      "text/plain": [
       "<IPython.core.display.HTML object>"
      ]
     },
     "metadata": {},
     "output_type": "display_data"
    },
    {
     "data": {
      "text/html": [
       "Run data is saved locally in <code>/rds/user/njr61/hpc-work/cem/cem/wandb/run-20230428_112653-uu9m7wwt</code>"
      ],
      "text/plain": [
       "<IPython.core.display.HTML object>"
      ]
     },
     "metadata": {},
     "output_type": "display_data"
    },
    {
     "data": {
      "text/html": [
       "Syncing run <strong><a href='https://wandb.ai/navr414/cbm-with-hierarchy/runs/uu9m7wwt' target=\"_blank\">26c0d40b</a></strong> to <a href='https://wandb.ai/navr414/cbm-with-hierarchy' target=\"_blank\">Weights & Biases</a> (<a href='https://wandb.me/run' target=\"_blank\">docs</a>)<br/>"
      ],
      "text/plain": [
       "<IPython.core.display.HTML object>"
      ]
     },
     "metadata": {},
     "output_type": "display_data"
    },
    {
     "data": {
      "text/html": [
       " View project at <a href='https://wandb.ai/navr414/cbm-with-hierarchy' target=\"_blank\">https://wandb.ai/navr414/cbm-with-hierarchy</a>"
      ],
      "text/plain": [
       "<IPython.core.display.HTML object>"
      ]
     },
     "metadata": {},
     "output_type": "display_data"
    },
    {
     "data": {
      "text/html": [
       " View run at <a href='https://wandb.ai/navr414/cbm-with-hierarchy/runs/uu9m7wwt' target=\"_blank\">https://wandb.ai/navr414/cbm-with-hierarchy/runs/uu9m7wwt</a>"
      ],
      "text/plain": [
       "<IPython.core.display.HTML object>"
      ]
     },
     "metadata": {},
     "output_type": "display_data"
    },
    {
     "data": {
      "text/html": [
       "Waiting for W&B process to finish... <strong style=\"color:green\">(success).</strong>"
      ],
      "text/plain": [
       "<IPython.core.display.HTML object>"
      ]
     },
     "metadata": {},
     "output_type": "display_data"
    },
    {
     "data": {
      "application/vnd.jupyter.widget-view+json": {
       "model_id": "907f239254264ed1ac6006197d0dccea",
       "version_major": 2,
       "version_minor": 0
      },
      "text/plain": [
       "VBox(children=(Label(value='0.111 MB of 0.111 MB uploaded (0.000 MB deduped)\\r'), FloatProgress(value=1.0, max…"
      ]
     },
     "metadata": {},
     "output_type": "display_data"
    },
    {
     "data": {
      "text/html": [
       "<style>\n",
       "    table.wandb td:nth-child(1) { padding: 0 10px; text-align: left ; width: auto;} td:nth-child(2) {text-align: left ; width: 100%}\n",
       "    .wandb-row { display: flex; flex-direction: row; flex-wrap: wrap; justify-content: flex-start; width: 100% }\n",
       "    .wandb-col { display: flex; flex-direction: column; flex-basis: 100%; flex: 1; padding: 10px; }\n",
       "    </style>\n",
       "<div class=\"wandb-row\"><div class=\"wandb-col\"><h3>Run history:</h3><br/><table class=\"wandb\"><tr><td>loss</td><td>█▇▅▄▃▂▂▂▁▁▂▂▁▁▁▂▁▁▂▁▁▂▁▁▁▁▁▁▁▁▁▁▁▁▁▁▁▁▁▁</td></tr><tr><td>test_acc</td><td>▁</td></tr><tr><td>train_acc</td><td>▁▅▆▆▇▇████</td></tr><tr><td>train_loss</td><td>█▄▃▂▂▁▁▁▁▁</td></tr><tr><td>val_acc</td><td>▁▅▆▆▇▇████</td></tr><tr><td>val_loss</td><td>█▂▁▃▄▃▅▃▄▃</td></tr></table><br/></div><div class=\"wandb-col\"><h3>Run summary:</h3><br/><table class=\"wandb\"><tr><td>loss</td><td>0.19843</td></tr><tr><td>test_acc</td><td>0.62893</td></tr><tr><td>train_acc</td><td>0.91451</td></tr><tr><td>train_loss</td><td>0.25118</td></tr><tr><td>val_acc</td><td>0.64107</td></tr><tr><td>val_loss</td><td>1.96855</td></tr></table><br/></div></div>"
      ],
      "text/plain": [
       "<IPython.core.display.HTML object>"
      ]
     },
     "metadata": {},
     "output_type": "display_data"
    },
    {
     "data": {
      "text/html": [
       " View run <strong style=\"color:#cdcd00\">26c0d40b</strong> at: <a href='https://wandb.ai/navr414/cbm-with-hierarchy/runs/uu9m7wwt' target=\"_blank\">https://wandb.ai/navr414/cbm-with-hierarchy/runs/uu9m7wwt</a><br/>Synced 5 W&B file(s), 0 media file(s), 0 artifact file(s) and 0 other file(s)"
      ],
      "text/plain": [
       "<IPython.core.display.HTML object>"
      ]
     },
     "metadata": {},
     "output_type": "display_data"
    },
    {
     "data": {
      "text/html": [
       "Find logs at: <code>./wandb/run-20230428_112653-uu9m7wwt/logs</code>"
      ],
      "text/plain": [
       "<IPython.core.display.HTML object>"
      ]
     },
     "metadata": {},
     "output_type": "display_data"
    },
    {
     "name": "stderr",
     "output_type": "stream",
     "text": [
      "/rds/user/njr61/hpc-work/anaconda3/envs/gnn/lib/python3.9/site-packages/torch_geometric/deprecation.py:13: UserWarning: 'data.DataLoader' is deprecated, use 'loader.DataLoader' instead\n",
      "  warnings.warn(out)\n"
     ]
    },
    {
     "data": {
      "text/html": [
       "wandb version 0.15.0 is available!  To upgrade, please run:\n",
       " $ pip install wandb --upgrade"
      ],
      "text/plain": [
       "<IPython.core.display.HTML object>"
      ]
     },
     "metadata": {},
     "output_type": "display_data"
    },
    {
     "data": {
      "text/html": [
       "Tracking run with wandb version 0.14.2"
      ],
      "text/plain": [
       "<IPython.core.display.HTML object>"
      ]
     },
     "metadata": {},
     "output_type": "display_data"
    },
    {
     "data": {
      "text/html": [
       "Run data is saved locally in <code>/rds/user/njr61/hpc-work/cem/cem/wandb/run-20230428_112920-qnq9zw12</code>"
      ],
      "text/plain": [
       "<IPython.core.display.HTML object>"
      ]
     },
     "metadata": {},
     "output_type": "display_data"
    },
    {
     "data": {
      "text/html": [
       "Syncing run <strong><a href='https://wandb.ai/navr414/cbm-with-hierarchy/runs/qnq9zw12' target=\"_blank\">588747b5</a></strong> to <a href='https://wandb.ai/navr414/cbm-with-hierarchy' target=\"_blank\">Weights & Biases</a> (<a href='https://wandb.me/run' target=\"_blank\">docs</a>)<br/>"
      ],
      "text/plain": [
       "<IPython.core.display.HTML object>"
      ]
     },
     "metadata": {},
     "output_type": "display_data"
    },
    {
     "data": {
      "text/html": [
       " View project at <a href='https://wandb.ai/navr414/cbm-with-hierarchy' target=\"_blank\">https://wandb.ai/navr414/cbm-with-hierarchy</a>"
      ],
      "text/plain": [
       "<IPython.core.display.HTML object>"
      ]
     },
     "metadata": {},
     "output_type": "display_data"
    },
    {
     "data": {
      "text/html": [
       " View run at <a href='https://wandb.ai/navr414/cbm-with-hierarchy/runs/qnq9zw12' target=\"_blank\">https://wandb.ai/navr414/cbm-with-hierarchy/runs/qnq9zw12</a>"
      ],
      "text/plain": [
       "<IPython.core.display.HTML object>"
      ]
     },
     "metadata": {},
     "output_type": "display_data"
    },
    {
     "data": {
      "text/html": [
       "Waiting for W&B process to finish... <strong style=\"color:green\">(success).</strong>"
      ],
      "text/plain": [
       "<IPython.core.display.HTML object>"
      ]
     },
     "metadata": {},
     "output_type": "display_data"
    },
    {
     "data": {
      "application/vnd.jupyter.widget-view+json": {
       "model_id": "0310b1f3697d4c1d897e9169dd454d65",
       "version_major": 2,
       "version_minor": 0
      },
      "text/plain": [
       "VBox(children=(Label(value='0.013 MB of 0.112 MB uploaded (0.000 MB deduped)\\r'), FloatProgress(value=0.119274…"
      ]
     },
     "metadata": {},
     "output_type": "display_data"
    },
    {
     "data": {
      "text/html": [
       "<style>\n",
       "    table.wandb td:nth-child(1) { padding: 0 10px; text-align: left ; width: auto;} td:nth-child(2) {text-align: left ; width: 100%}\n",
       "    .wandb-row { display: flex; flex-direction: row; flex-wrap: wrap; justify-content: flex-start; width: 100% }\n",
       "    .wandb-col { display: flex; flex-direction: column; flex-basis: 100%; flex: 1; padding: 10px; }\n",
       "    </style>\n",
       "<div class=\"wandb-row\"><div class=\"wandb-col\"><h3>Run history:</h3><br/><table class=\"wandb\"><tr><td>loss</td><td>█▇▅▄▃▃▃▂▂▂▂▂▁▂▂▁▁▂▁▁▂▁▁▁▁▁▂▁▁▁▁▁▁▁▁▁▁▂▁▁</td></tr><tr><td>test_acc</td><td>▁</td></tr><tr><td>train_acc</td><td>▁▅▇▇▇█████</td></tr><tr><td>train_loss</td><td>█▄▂▂▁▁▁▁▁▁</td></tr><tr><td>val_acc</td><td>▁▆▆▇▇█████</td></tr><tr><td>val_loss</td><td>█▃▂▁▁▁▁▂▁▁</td></tr></table><br/></div><div class=\"wandb-col\"><h3>Run summary:</h3><br/><table class=\"wandb\"><tr><td>loss</td><td>0.13532</td></tr><tr><td>test_acc</td><td>0.61667</td></tr><tr><td>train_acc</td><td>0.89158</td></tr><tr><td>train_loss</td><td>0.33345</td></tr><tr><td>val_acc</td><td>0.61352</td></tr><tr><td>val_loss</td><td>1.90638</td></tr></table><br/></div></div>"
      ],
      "text/plain": [
       "<IPython.core.display.HTML object>"
      ]
     },
     "metadata": {},
     "output_type": "display_data"
    },
    {
     "data": {
      "text/html": [
       " View run <strong style=\"color:#cdcd00\">588747b5</strong> at: <a href='https://wandb.ai/navr414/cbm-with-hierarchy/runs/qnq9zw12' target=\"_blank\">https://wandb.ai/navr414/cbm-with-hierarchy/runs/qnq9zw12</a><br/>Synced 5 W&B file(s), 0 media file(s), 0 artifact file(s) and 0 other file(s)"
      ],
      "text/plain": [
       "<IPython.core.display.HTML object>"
      ]
     },
     "metadata": {},
     "output_type": "display_data"
    },
    {
     "data": {
      "text/html": [
       "Find logs at: <code>./wandb/run-20230428_112920-qnq9zw12/logs</code>"
      ],
      "text/plain": [
       "<IPython.core.display.HTML object>"
      ]
     },
     "metadata": {},
     "output_type": "display_data"
    },
    {
     "name": "stderr",
     "output_type": "stream",
     "text": [
      "/rds/user/njr61/hpc-work/anaconda3/envs/gnn/lib/python3.9/site-packages/torch_geometric/deprecation.py:13: UserWarning: 'data.DataLoader' is deprecated, use 'loader.DataLoader' instead\n",
      "  warnings.warn(out)\n"
     ]
    },
    {
     "data": {
      "text/html": [
       "wandb version 0.15.0 is available!  To upgrade, please run:\n",
       " $ pip install wandb --upgrade"
      ],
      "text/plain": [
       "<IPython.core.display.HTML object>"
      ]
     },
     "metadata": {},
     "output_type": "display_data"
    },
    {
     "data": {
      "text/html": [
       "Tracking run with wandb version 0.14.2"
      ],
      "text/plain": [
       "<IPython.core.display.HTML object>"
      ]
     },
     "metadata": {},
     "output_type": "display_data"
    },
    {
     "data": {
      "text/html": [
       "Run data is saved locally in <code>/rds/user/njr61/hpc-work/cem/cem/wandb/run-20230428_113148-nowqx766</code>"
      ],
      "text/plain": [
       "<IPython.core.display.HTML object>"
      ]
     },
     "metadata": {},
     "output_type": "display_data"
    },
    {
     "data": {
      "text/html": [
       "Syncing run <strong><a href='https://wandb.ai/navr414/cbm-with-hierarchy/runs/nowqx766' target=\"_blank\">26a5c574</a></strong> to <a href='https://wandb.ai/navr414/cbm-with-hierarchy' target=\"_blank\">Weights & Biases</a> (<a href='https://wandb.me/run' target=\"_blank\">docs</a>)<br/>"
      ],
      "text/plain": [
       "<IPython.core.display.HTML object>"
      ]
     },
     "metadata": {},
     "output_type": "display_data"
    },
    {
     "data": {
      "text/html": [
       " View project at <a href='https://wandb.ai/navr414/cbm-with-hierarchy' target=\"_blank\">https://wandb.ai/navr414/cbm-with-hierarchy</a>"
      ],
      "text/plain": [
       "<IPython.core.display.HTML object>"
      ]
     },
     "metadata": {},
     "output_type": "display_data"
    },
    {
     "data": {
      "text/html": [
       " View run at <a href='https://wandb.ai/navr414/cbm-with-hierarchy/runs/nowqx766' target=\"_blank\">https://wandb.ai/navr414/cbm-with-hierarchy/runs/nowqx766</a>"
      ],
      "text/plain": [
       "<IPython.core.display.HTML object>"
      ]
     },
     "metadata": {},
     "output_type": "display_data"
    },
    {
     "data": {
      "text/html": [
       "Waiting for W&B process to finish... <strong style=\"color:green\">(success).</strong>"
      ],
      "text/plain": [
       "<IPython.core.display.HTML object>"
      ]
     },
     "metadata": {},
     "output_type": "display_data"
    },
    {
     "data": {
      "application/vnd.jupyter.widget-view+json": {
       "model_id": "89dd3bc68cb447848b0157be95569359",
       "version_major": 2,
       "version_minor": 0
      },
      "text/plain": [
       "VBox(children=(Label(value='0.013 MB of 0.112 MB uploaded (0.000 MB deduped)\\r'), FloatProgress(value=0.119020…"
      ]
     },
     "metadata": {},
     "output_type": "display_data"
    },
    {
     "data": {
      "text/html": [
       "<style>\n",
       "    table.wandb td:nth-child(1) { padding: 0 10px; text-align: left ; width: auto;} td:nth-child(2) {text-align: left ; width: 100%}\n",
       "    .wandb-row { display: flex; flex-direction: row; flex-wrap: wrap; justify-content: flex-start; width: 100% }\n",
       "    .wandb-col { display: flex; flex-direction: column; flex-basis: 100%; flex: 1; padding: 10px; }\n",
       "    </style>\n",
       "<div class=\"wandb-row\"><div class=\"wandb-col\"><h3>Run history:</h3><br/><table class=\"wandb\"><tr><td>loss</td><td>█▇▅▃▂▂▂▁▁▂▁▁▁▁▁▁▁▁▁▂▁▁▁▁▁▁▁▁▁▁▁▁▁▁▁▁▁▁▁▁</td></tr><tr><td>test_acc</td><td>▁</td></tr><tr><td>train_acc</td><td>▁▆▆▇▇▇████</td></tr><tr><td>train_loss</td><td>█▃▂▂▁▁▁▁▁▁</td></tr><tr><td>val_acc</td><td>▁▆▆██▇████</td></tr><tr><td>val_loss</td><td>█▂▁▁▂▂▂▂▂▂</td></tr></table><br/></div><div class=\"wandb-col\"><h3>Run summary:</h3><br/><table class=\"wandb\"><tr><td>loss</td><td>0.28474</td></tr><tr><td>test_acc</td><td>0.65775</td></tr><tr><td>train_acc</td><td>0.93786</td></tr><tr><td>train_loss</td><td>0.19874</td></tr><tr><td>val_acc</td><td>0.65359</td></tr><tr><td>val_loss</td><td>1.71662</td></tr></table><br/></div></div>"
      ],
      "text/plain": [
       "<IPython.core.display.HTML object>"
      ]
     },
     "metadata": {},
     "output_type": "display_data"
    },
    {
     "data": {
      "text/html": [
       " View run <strong style=\"color:#cdcd00\">26a5c574</strong> at: <a href='https://wandb.ai/navr414/cbm-with-hierarchy/runs/nowqx766' target=\"_blank\">https://wandb.ai/navr414/cbm-with-hierarchy/runs/nowqx766</a><br/>Synced 5 W&B file(s), 0 media file(s), 0 artifact file(s) and 0 other file(s)"
      ],
      "text/plain": [
       "<IPython.core.display.HTML object>"
      ]
     },
     "metadata": {},
     "output_type": "display_data"
    },
    {
     "data": {
      "text/html": [
       "Find logs at: <code>./wandb/run-20230428_113148-nowqx766/logs</code>"
      ],
      "text/plain": [
       "<IPython.core.display.HTML object>"
      ]
     },
     "metadata": {},
     "output_type": "display_data"
    },
    {
     "name": "stderr",
     "output_type": "stream",
     "text": [
      "/rds/user/njr61/hpc-work/anaconda3/envs/gnn/lib/python3.9/site-packages/torch_geometric/deprecation.py:13: UserWarning: 'data.DataLoader' is deprecated, use 'loader.DataLoader' instead\n",
      "  warnings.warn(out)\n"
     ]
    },
    {
     "data": {
      "text/html": [
       "wandb version 0.15.0 is available!  To upgrade, please run:\n",
       " $ pip install wandb --upgrade"
      ],
      "text/plain": [
       "<IPython.core.display.HTML object>"
      ]
     },
     "metadata": {},
     "output_type": "display_data"
    },
    {
     "data": {
      "text/html": [
       "Tracking run with wandb version 0.14.2"
      ],
      "text/plain": [
       "<IPython.core.display.HTML object>"
      ]
     },
     "metadata": {},
     "output_type": "display_data"
    },
    {
     "data": {
      "text/html": [
       "Run data is saved locally in <code>/rds/user/njr61/hpc-work/cem/cem/wandb/run-20230428_113418-8oxl698m</code>"
      ],
      "text/plain": [
       "<IPython.core.display.HTML object>"
      ]
     },
     "metadata": {},
     "output_type": "display_data"
    },
    {
     "data": {
      "text/html": [
       "Syncing run <strong><a href='https://wandb.ai/navr414/cbm-with-hierarchy/runs/8oxl698m' target=\"_blank\">3814a6f9</a></strong> to <a href='https://wandb.ai/navr414/cbm-with-hierarchy' target=\"_blank\">Weights & Biases</a> (<a href='https://wandb.me/run' target=\"_blank\">docs</a>)<br/>"
      ],
      "text/plain": [
       "<IPython.core.display.HTML object>"
      ]
     },
     "metadata": {},
     "output_type": "display_data"
    },
    {
     "data": {
      "text/html": [
       " View project at <a href='https://wandb.ai/navr414/cbm-with-hierarchy' target=\"_blank\">https://wandb.ai/navr414/cbm-with-hierarchy</a>"
      ],
      "text/plain": [
       "<IPython.core.display.HTML object>"
      ]
     },
     "metadata": {},
     "output_type": "display_data"
    },
    {
     "data": {
      "text/html": [
       " View run at <a href='https://wandb.ai/navr414/cbm-with-hierarchy/runs/8oxl698m' target=\"_blank\">https://wandb.ai/navr414/cbm-with-hierarchy/runs/8oxl698m</a>"
      ],
      "text/plain": [
       "<IPython.core.display.HTML object>"
      ]
     },
     "metadata": {},
     "output_type": "display_data"
    },
    {
     "data": {
      "text/html": [
       "Waiting for W&B process to finish... <strong style=\"color:green\">(success).</strong>"
      ],
      "text/plain": [
       "<IPython.core.display.HTML object>"
      ]
     },
     "metadata": {},
     "output_type": "display_data"
    },
    {
     "data": {
      "application/vnd.jupyter.widget-view+json": {
       "model_id": "fd618cd617204d889faea23f0cbc940c",
       "version_major": 2,
       "version_minor": 0
      },
      "text/plain": [
       "VBox(children=(Label(value='0.013 MB of 0.112 MB uploaded (0.000 MB deduped)\\r'), FloatProgress(value=0.119210…"
      ]
     },
     "metadata": {},
     "output_type": "display_data"
    },
    {
     "data": {
      "text/html": [
       "<style>\n",
       "    table.wandb td:nth-child(1) { padding: 0 10px; text-align: left ; width: auto;} td:nth-child(2) {text-align: left ; width: 100%}\n",
       "    .wandb-row { display: flex; flex-direction: row; flex-wrap: wrap; justify-content: flex-start; width: 100% }\n",
       "    .wandb-col { display: flex; flex-direction: column; flex-basis: 100%; flex: 1; padding: 10px; }\n",
       "    </style>\n",
       "<div class=\"wandb-row\"><div class=\"wandb-col\"><h3>Run history:</h3><br/><table class=\"wandb\"><tr><td>loss</td><td>█▇▄▃▃▂▂▂▂▂▂▂▂▂▁▁▂▁▂▂▁▁▁▁▁▁▁▁▁▁▁▂▁▁▁▁▁▁▁▁</td></tr><tr><td>test_acc</td><td>▁</td></tr><tr><td>train_acc</td><td>▁▅▆▆▇▇████</td></tr><tr><td>train_loss</td><td>█▄▃▂▂▂▁▁▁▁</td></tr><tr><td>val_acc</td><td>▁▅▆▇▇▇████</td></tr><tr><td>val_loss</td><td>█▂▁▁▁▂▁▂▂▂</td></tr></table><br/></div><div class=\"wandb-col\"><h3>Run summary:</h3><br/><table class=\"wandb\"><tr><td>loss</td><td>0.2072</td></tr><tr><td>test_acc</td><td>0.63497</td></tr><tr><td>train_acc</td><td>0.91681</td></tr><tr><td>train_loss</td><td>0.24562</td></tr><tr><td>val_acc</td><td>0.64608</td></tr><tr><td>val_loss</td><td>1.87812</td></tr></table><br/></div></div>"
      ],
      "text/plain": [
       "<IPython.core.display.HTML object>"
      ]
     },
     "metadata": {},
     "output_type": "display_data"
    },
    {
     "data": {
      "text/html": [
       " View run <strong style=\"color:#cdcd00\">3814a6f9</strong> at: <a href='https://wandb.ai/navr414/cbm-with-hierarchy/runs/8oxl698m' target=\"_blank\">https://wandb.ai/navr414/cbm-with-hierarchy/runs/8oxl698m</a><br/>Synced 5 W&B file(s), 0 media file(s), 0 artifact file(s) and 0 other file(s)"
      ],
      "text/plain": [
       "<IPython.core.display.HTML object>"
      ]
     },
     "metadata": {},
     "output_type": "display_data"
    },
    {
     "data": {
      "text/html": [
       "Find logs at: <code>./wandb/run-20230428_113418-8oxl698m/logs</code>"
      ],
      "text/plain": [
       "<IPython.core.display.HTML object>"
      ]
     },
     "metadata": {},
     "output_type": "display_data"
    },
    {
     "name": "stderr",
     "output_type": "stream",
     "text": [
      "/rds/user/njr61/hpc-work/anaconda3/envs/gnn/lib/python3.9/site-packages/torch_geometric/deprecation.py:13: UserWarning: 'data.DataLoader' is deprecated, use 'loader.DataLoader' instead\n",
      "  warnings.warn(out)\n"
     ]
    },
    {
     "data": {
      "text/html": [
       "wandb version 0.15.0 is available!  To upgrade, please run:\n",
       " $ pip install wandb --upgrade"
      ],
      "text/plain": [
       "<IPython.core.display.HTML object>"
      ]
     },
     "metadata": {},
     "output_type": "display_data"
    },
    {
     "data": {
      "text/html": [
       "Tracking run with wandb version 0.14.2"
      ],
      "text/plain": [
       "<IPython.core.display.HTML object>"
      ]
     },
     "metadata": {},
     "output_type": "display_data"
    },
    {
     "data": {
      "text/html": [
       "Run data is saved locally in <code>/rds/user/njr61/hpc-work/cem/cem/wandb/run-20230428_113648-y1v4dpe3</code>"
      ],
      "text/plain": [
       "<IPython.core.display.HTML object>"
      ]
     },
     "metadata": {},
     "output_type": "display_data"
    },
    {
     "data": {
      "text/html": [
       "Syncing run <strong><a href='https://wandb.ai/navr414/cbm-with-hierarchy/runs/y1v4dpe3' target=\"_blank\">6f4cf023</a></strong> to <a href='https://wandb.ai/navr414/cbm-with-hierarchy' target=\"_blank\">Weights & Biases</a> (<a href='https://wandb.me/run' target=\"_blank\">docs</a>)<br/>"
      ],
      "text/plain": [
       "<IPython.core.display.HTML object>"
      ]
     },
     "metadata": {},
     "output_type": "display_data"
    },
    {
     "data": {
      "text/html": [
       " View project at <a href='https://wandb.ai/navr414/cbm-with-hierarchy' target=\"_blank\">https://wandb.ai/navr414/cbm-with-hierarchy</a>"
      ],
      "text/plain": [
       "<IPython.core.display.HTML object>"
      ]
     },
     "metadata": {},
     "output_type": "display_data"
    },
    {
     "data": {
      "text/html": [
       " View run at <a href='https://wandb.ai/navr414/cbm-with-hierarchy/runs/y1v4dpe3' target=\"_blank\">https://wandb.ai/navr414/cbm-with-hierarchy/runs/y1v4dpe3</a>"
      ],
      "text/plain": [
       "<IPython.core.display.HTML object>"
      ]
     },
     "metadata": {},
     "output_type": "display_data"
    },
    {
     "data": {
      "text/html": [
       "Waiting for W&B process to finish... <strong style=\"color:green\">(success).</strong>"
      ],
      "text/plain": [
       "<IPython.core.display.HTML object>"
      ]
     },
     "metadata": {},
     "output_type": "display_data"
    },
    {
     "data": {
      "application/vnd.jupyter.widget-view+json": {
       "model_id": "b3c833930c0f48b896712493ee2150e8",
       "version_major": 2,
       "version_minor": 0
      },
      "text/plain": [
       "VBox(children=(Label(value='0.112 MB of 0.112 MB uploaded (0.000 MB deduped)\\r'), FloatProgress(value=1.0, max…"
      ]
     },
     "metadata": {},
     "output_type": "display_data"
    },
    {
     "data": {
      "text/html": [
       "<style>\n",
       "    table.wandb td:nth-child(1) { padding: 0 10px; text-align: left ; width: auto;} td:nth-child(2) {text-align: left ; width: 100%}\n",
       "    .wandb-row { display: flex; flex-direction: row; flex-wrap: wrap; justify-content: flex-start; width: 100% }\n",
       "    .wandb-col { display: flex; flex-direction: column; flex-basis: 100%; flex: 1; padding: 10px; }\n",
       "    </style>\n",
       "<div class=\"wandb-row\"><div class=\"wandb-col\"><h3>Run history:</h3><br/><table class=\"wandb\"><tr><td>loss</td><td>█▇▆▄▃▃▂▂▂▂▁▂▂▂▂▂▁▁▁▁▂▂▁▁▁▁▁▁▁▁▁▁▁▁▁▁▁▁▁▁</td></tr><tr><td>test_acc</td><td>▁</td></tr><tr><td>train_acc</td><td>▁▅▆▇▇█████</td></tr><tr><td>train_loss</td><td>█▃▂▂▁▁▁▁▁▁</td></tr><tr><td>val_acc</td><td>▁▆▇▇▇█████</td></tr><tr><td>val_loss</td><td>█▂▁▁▁▂▁▁▁▁</td></tr></table><br/></div><div class=\"wandb-col\"><h3>Run summary:</h3><br/><table class=\"wandb\"><tr><td>loss</td><td>0.29461</td></tr><tr><td>test_acc</td><td>0.63255</td></tr><tr><td>train_acc</td><td>0.91118</td></tr><tr><td>train_loss</td><td>0.27971</td></tr><tr><td>val_acc</td><td>0.64691</td></tr><tr><td>val_loss</td><td>1.81658</td></tr></table><br/></div></div>"
      ],
      "text/plain": [
       "<IPython.core.display.HTML object>"
      ]
     },
     "metadata": {},
     "output_type": "display_data"
    },
    {
     "data": {
      "text/html": [
       " View run <strong style=\"color:#cdcd00\">6f4cf023</strong> at: <a href='https://wandb.ai/navr414/cbm-with-hierarchy/runs/y1v4dpe3' target=\"_blank\">https://wandb.ai/navr414/cbm-with-hierarchy/runs/y1v4dpe3</a><br/>Synced 5 W&B file(s), 0 media file(s), 0 artifact file(s) and 0 other file(s)"
      ],
      "text/plain": [
       "<IPython.core.display.HTML object>"
      ]
     },
     "metadata": {},
     "output_type": "display_data"
    },
    {
     "data": {
      "text/html": [
       "Find logs at: <code>./wandb/run-20230428_113648-y1v4dpe3/logs</code>"
      ],
      "text/plain": [
       "<IPython.core.display.HTML object>"
      ]
     },
     "metadata": {},
     "output_type": "display_data"
    },
    {
     "name": "stderr",
     "output_type": "stream",
     "text": [
      "/rds/user/njr61/hpc-work/anaconda3/envs/gnn/lib/python3.9/site-packages/torch_geometric/deprecation.py:13: UserWarning: 'data.DataLoader' is deprecated, use 'loader.DataLoader' instead\n",
      "  warnings.warn(out)\n"
     ]
    },
    {
     "data": {
      "text/html": [
       "wandb version 0.15.0 is available!  To upgrade, please run:\n",
       " $ pip install wandb --upgrade"
      ],
      "text/plain": [
       "<IPython.core.display.HTML object>"
      ]
     },
     "metadata": {},
     "output_type": "display_data"
    },
    {
     "data": {
      "text/html": [
       "Tracking run with wandb version 0.14.2"
      ],
      "text/plain": [
       "<IPython.core.display.HTML object>"
      ]
     },
     "metadata": {},
     "output_type": "display_data"
    },
    {
     "data": {
      "text/html": [
       "Run data is saved locally in <code>/rds/user/njr61/hpc-work/cem/cem/wandb/run-20230428_113914-eh192xh0</code>"
      ],
      "text/plain": [
       "<IPython.core.display.HTML object>"
      ]
     },
     "metadata": {},
     "output_type": "display_data"
    },
    {
     "data": {
      "text/html": [
       "Syncing run <strong><a href='https://wandb.ai/navr414/cbm-with-hierarchy/runs/eh192xh0' target=\"_blank\">84f5dff6</a></strong> to <a href='https://wandb.ai/navr414/cbm-with-hierarchy' target=\"_blank\">Weights & Biases</a> (<a href='https://wandb.me/run' target=\"_blank\">docs</a>)<br/>"
      ],
      "text/plain": [
       "<IPython.core.display.HTML object>"
      ]
     },
     "metadata": {},
     "output_type": "display_data"
    },
    {
     "data": {
      "text/html": [
       " View project at <a href='https://wandb.ai/navr414/cbm-with-hierarchy' target=\"_blank\">https://wandb.ai/navr414/cbm-with-hierarchy</a>"
      ],
      "text/plain": [
       "<IPython.core.display.HTML object>"
      ]
     },
     "metadata": {},
     "output_type": "display_data"
    },
    {
     "data": {
      "text/html": [
       " View run at <a href='https://wandb.ai/navr414/cbm-with-hierarchy/runs/eh192xh0' target=\"_blank\">https://wandb.ai/navr414/cbm-with-hierarchy/runs/eh192xh0</a>"
      ],
      "text/plain": [
       "<IPython.core.display.HTML object>"
      ]
     },
     "metadata": {},
     "output_type": "display_data"
    },
    {
     "data": {
      "text/html": [
       "Waiting for W&B process to finish... <strong style=\"color:green\">(success).</strong>"
      ],
      "text/plain": [
       "<IPython.core.display.HTML object>"
      ]
     },
     "metadata": {},
     "output_type": "display_data"
    },
    {
     "data": {
      "application/vnd.jupyter.widget-view+json": {
       "model_id": "95227cbfead74cf0bab04296cca73787",
       "version_major": 2,
       "version_minor": 0
      },
      "text/plain": [
       "VBox(children=(Label(value='0.112 MB of 0.112 MB uploaded (0.000 MB deduped)\\r'), FloatProgress(value=1.0, max…"
      ]
     },
     "metadata": {},
     "output_type": "display_data"
    },
    {
     "data": {
      "text/html": [
       "<style>\n",
       "    table.wandb td:nth-child(1) { padding: 0 10px; text-align: left ; width: auto;} td:nth-child(2) {text-align: left ; width: 100%}\n",
       "    .wandb-row { display: flex; flex-direction: row; flex-wrap: wrap; justify-content: flex-start; width: 100% }\n",
       "    .wandb-col { display: flex; flex-direction: column; flex-basis: 100%; flex: 1; padding: 10px; }\n",
       "    </style>\n",
       "<div class=\"wandb-row\"><div class=\"wandb-col\"><h3>Run history:</h3><br/><table class=\"wandb\"><tr><td>loss</td><td>█▆▄▂▂▂▁▂▁▁▁▂▁▁▁▂▁▂▁▁▁▁▁▁▁▁▁▁▁▁▁▂▁▁▁▁▁▁▁▁</td></tr><tr><td>test_acc</td><td>▁</td></tr><tr><td>train_acc</td><td>▁▄▄▆▆▇▇███</td></tr><tr><td>train_loss</td><td>█▄▄▃▂▂▁▁▁▁</td></tr><tr><td>val_acc</td><td>▁▃▄▆▆▇██▇█</td></tr><tr><td>val_loss</td><td>▁▁▁▄▅▇▅▇▇█</td></tr></table><br/></div><div class=\"wandb-col\"><h3>Run summary:</h3><br/><table class=\"wandb\"><tr><td>loss</td><td>0.37437</td></tr><tr><td>test_acc</td><td>0.65326</td></tr><tr><td>train_acc</td><td>0.95267</td></tr><tr><td>train_loss</td><td>0.14585</td></tr><tr><td>val_acc</td><td>0.66361</td></tr><tr><td>val_loss</td><td>1.97987</td></tr></table><br/></div></div>"
      ],
      "text/plain": [
       "<IPython.core.display.HTML object>"
      ]
     },
     "metadata": {},
     "output_type": "display_data"
    },
    {
     "data": {
      "text/html": [
       " View run <strong style=\"color:#cdcd00\">84f5dff6</strong> at: <a href='https://wandb.ai/navr414/cbm-with-hierarchy/runs/eh192xh0' target=\"_blank\">https://wandb.ai/navr414/cbm-with-hierarchy/runs/eh192xh0</a><br/>Synced 5 W&B file(s), 0 media file(s), 0 artifact file(s) and 0 other file(s)"
      ],
      "text/plain": [
       "<IPython.core.display.HTML object>"
      ]
     },
     "metadata": {},
     "output_type": "display_data"
    },
    {
     "data": {
      "text/html": [
       "Find logs at: <code>./wandb/run-20230428_113914-eh192xh0/logs</code>"
      ],
      "text/plain": [
       "<IPython.core.display.HTML object>"
      ]
     },
     "metadata": {},
     "output_type": "display_data"
    }
   ],
   "source": [
    "for random_seed in [43,44,45]:\n",
    "    for hierarchy_name in ['shapley','cem','labels']:\n",
    "        run_experiment('gnn',hierarchy_name,random_seed,pretrain=True)"
   ]
  },
  {
   "cell_type": "code",
   "execution_count": 13,
   "id": "392d9ef9",
   "metadata": {},
   "outputs": [
    {
     "name": "stderr",
     "output_type": "stream",
     "text": [
      "/rds/user/njr61/hpc-work/anaconda3/envs/gnn/lib/python3.9/site-packages/torch_geometric/deprecation.py:13: UserWarning: 'data.DataLoader' is deprecated, use 'loader.DataLoader' instead\n",
      "  warnings.warn(out)\n"
     ]
    },
    {
     "data": {
      "text/html": [
       "wandb version 0.15.0 is available!  To upgrade, please run:\n",
       " $ pip install wandb --upgrade"
      ],
      "text/plain": [
       "<IPython.core.display.HTML object>"
      ]
     },
     "metadata": {},
     "output_type": "display_data"
    },
    {
     "data": {
      "text/html": [
       "Tracking run with wandb version 0.14.2"
      ],
      "text/plain": [
       "<IPython.core.display.HTML object>"
      ]
     },
     "metadata": {},
     "output_type": "display_data"
    },
    {
     "data": {
      "text/html": [
       "Run data is saved locally in <code>/rds/user/njr61/hpc-work/cem/cem/wandb/run-20230428_114028-d60kgqtx</code>"
      ],
      "text/plain": [
       "<IPython.core.display.HTML object>"
      ]
     },
     "metadata": {},
     "output_type": "display_data"
    },
    {
     "data": {
      "text/html": [
       "Syncing run <strong><a href='https://wandb.ai/navr414/cbm-with-hierarchy/runs/d60kgqtx' target=\"_blank\">23e13b08</a></strong> to <a href='https://wandb.ai/navr414/cbm-with-hierarchy' target=\"_blank\">Weights & Biases</a> (<a href='https://wandb.me/run' target=\"_blank\">docs</a>)<br/>"
      ],
      "text/plain": [
       "<IPython.core.display.HTML object>"
      ]
     },
     "metadata": {},
     "output_type": "display_data"
    },
    {
     "data": {
      "text/html": [
       " View project at <a href='https://wandb.ai/navr414/cbm-with-hierarchy' target=\"_blank\">https://wandb.ai/navr414/cbm-with-hierarchy</a>"
      ],
      "text/plain": [
       "<IPython.core.display.HTML object>"
      ]
     },
     "metadata": {},
     "output_type": "display_data"
    },
    {
     "data": {
      "text/html": [
       " View run at <a href='https://wandb.ai/navr414/cbm-with-hierarchy/runs/d60kgqtx' target=\"_blank\">https://wandb.ai/navr414/cbm-with-hierarchy/runs/d60kgqtx</a>"
      ],
      "text/plain": [
       "<IPython.core.display.HTML object>"
      ]
     },
     "metadata": {},
     "output_type": "display_data"
    },
    {
     "data": {
      "text/html": [
       "Waiting for W&B process to finish... <strong style=\"color:green\">(success).</strong>"
      ],
      "text/plain": [
       "<IPython.core.display.HTML object>"
      ]
     },
     "metadata": {},
     "output_type": "display_data"
    },
    {
     "data": {
      "application/vnd.jupyter.widget-view+json": {
       "model_id": "6bf1594544bc46e0a4c7fd1684a5a72a",
       "version_major": 2,
       "version_minor": 0
      },
      "text/plain": [
       "VBox(children=(Label(value='0.013 MB of 0.109 MB uploaded (0.000 MB deduped)\\r'), FloatProgress(value=0.122541…"
      ]
     },
     "metadata": {},
     "output_type": "display_data"
    },
    {
     "data": {
      "text/html": [
       "<style>\n",
       "    table.wandb td:nth-child(1) { padding: 0 10px; text-align: left ; width: auto;} td:nth-child(2) {text-align: left ; width: 100%}\n",
       "    .wandb-row { display: flex; flex-direction: row; flex-wrap: wrap; justify-content: flex-start; width: 100% }\n",
       "    .wandb-col { display: flex; flex-direction: column; flex-basis: 100%; flex: 1; padding: 10px; }\n",
       "    </style>\n",
       "<div class=\"wandb-row\"><div class=\"wandb-col\"><h3>Run history:</h3><br/><table class=\"wandb\"><tr><td>loss</td><td>█▆▄▄▂▃▂▂▂▂▂▁▂▂▂▁▁▁▁▁▁▁▁▁▁▂▁▁▁▁▁▁▁▁▁▁▁▁▁▂</td></tr><tr><td>test_acc</td><td>▁</td></tr><tr><td>train_acc</td><td>▁▅▆▆▇▆████</td></tr><tr><td>train_loss</td><td>█▄▃▂▂▂▁▁▁▁</td></tr><tr><td>val_acc</td><td>▁▅▆▆▇▆▇███</td></tr><tr><td>val_loss</td><td>█▂▂▁▂▃▁▂▂▁</td></tr></table><br/></div><div class=\"wandb-col\"><h3>Run summary:</h3><br/><table class=\"wandb\"><tr><td>loss</td><td>0.20485</td></tr><tr><td>test_acc</td><td>0.65395</td></tr><tr><td>train_acc</td><td>0.93224</td></tr><tr><td>train_loss</td><td>0.20188</td></tr><tr><td>val_acc</td><td>0.66528</td></tr><tr><td>val_loss</td><td>1.69238</td></tr></table><br/></div></div>"
      ],
      "text/plain": [
       "<IPython.core.display.HTML object>"
      ]
     },
     "metadata": {},
     "output_type": "display_data"
    },
    {
     "data": {
      "text/html": [
       " View run <strong style=\"color:#cdcd00\">23e13b08</strong> at: <a href='https://wandb.ai/navr414/cbm-with-hierarchy/runs/d60kgqtx' target=\"_blank\">https://wandb.ai/navr414/cbm-with-hierarchy/runs/d60kgqtx</a><br/>Synced 5 W&B file(s), 0 media file(s), 0 artifact file(s) and 0 other file(s)"
      ],
      "text/plain": [
       "<IPython.core.display.HTML object>"
      ]
     },
     "metadata": {},
     "output_type": "display_data"
    },
    {
     "data": {
      "text/html": [
       "Find logs at: <code>./wandb/run-20230428_114028-d60kgqtx/logs</code>"
      ],
      "text/plain": [
       "<IPython.core.display.HTML object>"
      ]
     },
     "metadata": {},
     "output_type": "display_data"
    },
    {
     "name": "stderr",
     "output_type": "stream",
     "text": [
      "/rds/user/njr61/hpc-work/anaconda3/envs/gnn/lib/python3.9/site-packages/torch_geometric/deprecation.py:13: UserWarning: 'data.DataLoader' is deprecated, use 'loader.DataLoader' instead\n",
      "  warnings.warn(out)\n"
     ]
    },
    {
     "data": {
      "text/html": [
       "wandb version 0.15.0 is available!  To upgrade, please run:\n",
       " $ pip install wandb --upgrade"
      ],
      "text/plain": [
       "<IPython.core.display.HTML object>"
      ]
     },
     "metadata": {},
     "output_type": "display_data"
    },
    {
     "data": {
      "text/html": [
       "Tracking run with wandb version 0.14.2"
      ],
      "text/plain": [
       "<IPython.core.display.HTML object>"
      ]
     },
     "metadata": {},
     "output_type": "display_data"
    },
    {
     "data": {
      "text/html": [
       "Run data is saved locally in <code>/rds/user/njr61/hpc-work/cem/cem/wandb/run-20230428_114135-kudwagoi</code>"
      ],
      "text/plain": [
       "<IPython.core.display.HTML object>"
      ]
     },
     "metadata": {},
     "output_type": "display_data"
    },
    {
     "data": {
      "text/html": [
       "Syncing run <strong><a href='https://wandb.ai/navr414/cbm-with-hierarchy/runs/kudwagoi' target=\"_blank\">1ff28932</a></strong> to <a href='https://wandb.ai/navr414/cbm-with-hierarchy' target=\"_blank\">Weights & Biases</a> (<a href='https://wandb.me/run' target=\"_blank\">docs</a>)<br/>"
      ],
      "text/plain": [
       "<IPython.core.display.HTML object>"
      ]
     },
     "metadata": {},
     "output_type": "display_data"
    },
    {
     "data": {
      "text/html": [
       " View project at <a href='https://wandb.ai/navr414/cbm-with-hierarchy' target=\"_blank\">https://wandb.ai/navr414/cbm-with-hierarchy</a>"
      ],
      "text/plain": [
       "<IPython.core.display.HTML object>"
      ]
     },
     "metadata": {},
     "output_type": "display_data"
    },
    {
     "data": {
      "text/html": [
       " View run at <a href='https://wandb.ai/navr414/cbm-with-hierarchy/runs/kudwagoi' target=\"_blank\">https://wandb.ai/navr414/cbm-with-hierarchy/runs/kudwagoi</a>"
      ],
      "text/plain": [
       "<IPython.core.display.HTML object>"
      ]
     },
     "metadata": {},
     "output_type": "display_data"
    },
    {
     "data": {
      "text/html": [
       "Waiting for W&B process to finish... <strong style=\"color:green\">(success).</strong>"
      ],
      "text/plain": [
       "<IPython.core.display.HTML object>"
      ]
     },
     "metadata": {},
     "output_type": "display_data"
    },
    {
     "data": {
      "application/vnd.jupyter.widget-view+json": {
       "model_id": "c338381cdc1d4a2389742b988c1cfef4",
       "version_major": 2,
       "version_minor": 0
      },
      "text/plain": [
       "VBox(children=(Label(value='0.014 MB of 0.112 MB uploaded (0.000 MB deduped)\\r'), FloatProgress(value=0.125129…"
      ]
     },
     "metadata": {},
     "output_type": "display_data"
    },
    {
     "data": {
      "text/html": [
       "<style>\n",
       "    table.wandb td:nth-child(1) { padding: 0 10px; text-align: left ; width: auto;} td:nth-child(2) {text-align: left ; width: 100%}\n",
       "    .wandb-row { display: flex; flex-direction: row; flex-wrap: wrap; justify-content: flex-start; width: 100% }\n",
       "    .wandb-col { display: flex; flex-direction: column; flex-basis: 100%; flex: 1; padding: 10px; }\n",
       "    </style>\n",
       "<div class=\"wandb-row\"><div class=\"wandb-col\"><h3>Run history:</h3><br/><table class=\"wandb\"><tr><td>loss</td><td>██▆▄▃▂▂▂▁▂▁▂▂▁▂▂▁▂▁▁▁▁▁▁▂▁▁▁▁▁▁▁▁▁▁▁▁▁▁▁</td></tr><tr><td>test_acc</td><td>▁</td></tr><tr><td>train_acc</td><td>▁▅▆▇▇▇▇███</td></tr><tr><td>train_loss</td><td>█▄▃▂▂▂▁▁▁▁</td></tr><tr><td>val_acc</td><td>▁▅▆▇▇▇▇███</td></tr><tr><td>val_loss</td><td>█▂▃▂▂▂▂▁▁▁</td></tr></table><br/></div><div class=\"wandb-col\"><h3>Run summary:</h3><br/><table class=\"wandb\"><tr><td>loss</td><td>0.24114</td></tr><tr><td>test_acc</td><td>0.64463</td></tr><tr><td>train_acc</td><td>0.91681</td></tr><tr><td>train_loss</td><td>0.26453</td></tr><tr><td>val_acc</td><td>0.6586</td></tr><tr><td>val_loss</td><td>1.64713</td></tr></table><br/></div></div>"
      ],
      "text/plain": [
       "<IPython.core.display.HTML object>"
      ]
     },
     "metadata": {},
     "output_type": "display_data"
    },
    {
     "data": {
      "text/html": [
       " View run <strong style=\"color:#cdcd00\">1ff28932</strong> at: <a href='https://wandb.ai/navr414/cbm-with-hierarchy/runs/kudwagoi' target=\"_blank\">https://wandb.ai/navr414/cbm-with-hierarchy/runs/kudwagoi</a><br/>Synced 5 W&B file(s), 0 media file(s), 0 artifact file(s) and 0 other file(s)"
      ],
      "text/plain": [
       "<IPython.core.display.HTML object>"
      ]
     },
     "metadata": {},
     "output_type": "display_data"
    },
    {
     "data": {
      "text/html": [
       "Find logs at: <code>./wandb/run-20230428_114135-kudwagoi/logs</code>"
      ],
      "text/plain": [
       "<IPython.core.display.HTML object>"
      ]
     },
     "metadata": {},
     "output_type": "display_data"
    },
    {
     "name": "stderr",
     "output_type": "stream",
     "text": [
      "/rds/user/njr61/hpc-work/anaconda3/envs/gnn/lib/python3.9/site-packages/torch_geometric/deprecation.py:13: UserWarning: 'data.DataLoader' is deprecated, use 'loader.DataLoader' instead\n",
      "  warnings.warn(out)\n"
     ]
    },
    {
     "data": {
      "text/html": [
       "wandb version 0.15.0 is available!  To upgrade, please run:\n",
       " $ pip install wandb --upgrade"
      ],
      "text/plain": [
       "<IPython.core.display.HTML object>"
      ]
     },
     "metadata": {},
     "output_type": "display_data"
    },
    {
     "data": {
      "text/html": [
       "Tracking run with wandb version 0.14.2"
      ],
      "text/plain": [
       "<IPython.core.display.HTML object>"
      ]
     },
     "metadata": {},
     "output_type": "display_data"
    },
    {
     "data": {
      "text/html": [
       "Run data is saved locally in <code>/rds/user/njr61/hpc-work/cem/cem/wandb/run-20230428_114247-dqyv27tw</code>"
      ],
      "text/plain": [
       "<IPython.core.display.HTML object>"
      ]
     },
     "metadata": {},
     "output_type": "display_data"
    },
    {
     "data": {
      "text/html": [
       "Syncing run <strong><a href='https://wandb.ai/navr414/cbm-with-hierarchy/runs/dqyv27tw' target=\"_blank\">1f579395</a></strong> to <a href='https://wandb.ai/navr414/cbm-with-hierarchy' target=\"_blank\">Weights & Biases</a> (<a href='https://wandb.me/run' target=\"_blank\">docs</a>)<br/>"
      ],
      "text/plain": [
       "<IPython.core.display.HTML object>"
      ]
     },
     "metadata": {},
     "output_type": "display_data"
    },
    {
     "data": {
      "text/html": [
       " View project at <a href='https://wandb.ai/navr414/cbm-with-hierarchy' target=\"_blank\">https://wandb.ai/navr414/cbm-with-hierarchy</a>"
      ],
      "text/plain": [
       "<IPython.core.display.HTML object>"
      ]
     },
     "metadata": {},
     "output_type": "display_data"
    },
    {
     "data": {
      "text/html": [
       " View run at <a href='https://wandb.ai/navr414/cbm-with-hierarchy/runs/dqyv27tw' target=\"_blank\">https://wandb.ai/navr414/cbm-with-hierarchy/runs/dqyv27tw</a>"
      ],
      "text/plain": [
       "<IPython.core.display.HTML object>"
      ]
     },
     "metadata": {},
     "output_type": "display_data"
    },
    {
     "data": {
      "text/html": [
       "Waiting for W&B process to finish... <strong style=\"color:green\">(success).</strong>"
      ],
      "text/plain": [
       "<IPython.core.display.HTML object>"
      ]
     },
     "metadata": {},
     "output_type": "display_data"
    },
    {
     "data": {
      "application/vnd.jupyter.widget-view+json": {
       "model_id": "47232c42d8b441a4aa2ad8d75138ec25",
       "version_major": 2,
       "version_minor": 0
      },
      "text/plain": [
       "VBox(children=(Label(value='0.013 MB of 0.113 MB uploaded (0.000 MB deduped)\\r'), FloatProgress(value=0.118326…"
      ]
     },
     "metadata": {},
     "output_type": "display_data"
    },
    {
     "data": {
      "text/html": [
       "<style>\n",
       "    table.wandb td:nth-child(1) { padding: 0 10px; text-align: left ; width: auto;} td:nth-child(2) {text-align: left ; width: 100%}\n",
       "    .wandb-row { display: flex; flex-direction: row; flex-wrap: wrap; justify-content: flex-start; width: 100% }\n",
       "    .wandb-col { display: flex; flex-direction: column; flex-basis: 100%; flex: 1; padding: 10px; }\n",
       "    </style>\n",
       "<div class=\"wandb-row\"><div class=\"wandb-col\"><h3>Run history:</h3><br/><table class=\"wandb\"><tr><td>loss</td><td>█▅▃▂▂▁▁▂▂▁▁▁▁▂▁▁▁▁▂▁▂▁▁▁▁▁▁▁▁▁▁▁▁▁▁▁▁▁▁▁</td></tr><tr><td>test_acc</td><td>▁</td></tr><tr><td>train_acc</td><td>▁▃▅▅▆▆▇███</td></tr><tr><td>train_loss</td><td>█▅▄▃▃▂▁▁▁▁</td></tr><tr><td>val_acc</td><td>▁▄▆▅▆▇████</td></tr><tr><td>val_loss</td><td>▅▆▁▆█▄█▇▆▇</td></tr></table><br/></div><div class=\"wandb-col\"><h3>Run summary:</h3><br/><table class=\"wandb\"><tr><td>loss</td><td>0.33473</td></tr><tr><td>test_acc</td><td>0.6757</td></tr><tr><td>train_acc</td><td>0.956</td></tr><tr><td>train_loss</td><td>0.13682</td></tr><tr><td>val_acc</td><td>0.67613</td></tr><tr><td>val_loss</td><td>1.73908</td></tr></table><br/></div></div>"
      ],
      "text/plain": [
       "<IPython.core.display.HTML object>"
      ]
     },
     "metadata": {},
     "output_type": "display_data"
    },
    {
     "data": {
      "text/html": [
       " View run <strong style=\"color:#cdcd00\">1f579395</strong> at: <a href='https://wandb.ai/navr414/cbm-with-hierarchy/runs/dqyv27tw' target=\"_blank\">https://wandb.ai/navr414/cbm-with-hierarchy/runs/dqyv27tw</a><br/>Synced 5 W&B file(s), 0 media file(s), 0 artifact file(s) and 0 other file(s)"
      ],
      "text/plain": [
       "<IPython.core.display.HTML object>"
      ]
     },
     "metadata": {},
     "output_type": "display_data"
    },
    {
     "data": {
      "text/html": [
       "Find logs at: <code>./wandb/run-20230428_114247-dqyv27tw/logs</code>"
      ],
      "text/plain": [
       "<IPython.core.display.HTML object>"
      ]
     },
     "metadata": {},
     "output_type": "display_data"
    },
    {
     "name": "stderr",
     "output_type": "stream",
     "text": [
      "/rds/user/njr61/hpc-work/anaconda3/envs/gnn/lib/python3.9/site-packages/torch_geometric/deprecation.py:13: UserWarning: 'data.DataLoader' is deprecated, use 'loader.DataLoader' instead\n",
      "  warnings.warn(out)\n"
     ]
    },
    {
     "data": {
      "text/html": [
       "wandb version 0.15.0 is available!  To upgrade, please run:\n",
       " $ pip install wandb --upgrade"
      ],
      "text/plain": [
       "<IPython.core.display.HTML object>"
      ]
     },
     "metadata": {},
     "output_type": "display_data"
    },
    {
     "data": {
      "text/html": [
       "Tracking run with wandb version 0.14.2"
      ],
      "text/plain": [
       "<IPython.core.display.HTML object>"
      ]
     },
     "metadata": {},
     "output_type": "display_data"
    },
    {
     "data": {
      "text/html": [
       "Run data is saved locally in <code>/rds/user/njr61/hpc-work/cem/cem/wandb/run-20230428_114401-ldx4o1hs</code>"
      ],
      "text/plain": [
       "<IPython.core.display.HTML object>"
      ]
     },
     "metadata": {},
     "output_type": "display_data"
    },
    {
     "data": {
      "text/html": [
       "Syncing run <strong><a href='https://wandb.ai/navr414/cbm-with-hierarchy/runs/ldx4o1hs' target=\"_blank\">ee650ea7</a></strong> to <a href='https://wandb.ai/navr414/cbm-with-hierarchy' target=\"_blank\">Weights & Biases</a> (<a href='https://wandb.me/run' target=\"_blank\">docs</a>)<br/>"
      ],
      "text/plain": [
       "<IPython.core.display.HTML object>"
      ]
     },
     "metadata": {},
     "output_type": "display_data"
    },
    {
     "data": {
      "text/html": [
       " View project at <a href='https://wandb.ai/navr414/cbm-with-hierarchy' target=\"_blank\">https://wandb.ai/navr414/cbm-with-hierarchy</a>"
      ],
      "text/plain": [
       "<IPython.core.display.HTML object>"
      ]
     },
     "metadata": {},
     "output_type": "display_data"
    },
    {
     "data": {
      "text/html": [
       " View run at <a href='https://wandb.ai/navr414/cbm-with-hierarchy/runs/ldx4o1hs' target=\"_blank\">https://wandb.ai/navr414/cbm-with-hierarchy/runs/ldx4o1hs</a>"
      ],
      "text/plain": [
       "<IPython.core.display.HTML object>"
      ]
     },
     "metadata": {},
     "output_type": "display_data"
    },
    {
     "data": {
      "text/html": [
       "Waiting for W&B process to finish... <strong style=\"color:green\">(success).</strong>"
      ],
      "text/plain": [
       "<IPython.core.display.HTML object>"
      ]
     },
     "metadata": {},
     "output_type": "display_data"
    },
    {
     "data": {
      "application/vnd.jupyter.widget-view+json": {
       "model_id": "5e531b087d144e00a8bd9447652b4854",
       "version_major": 2,
       "version_minor": 0
      },
      "text/plain": [
       "VBox(children=(Label(value='0.112 MB of 0.112 MB uploaded (0.000 MB deduped)\\r'), FloatProgress(value=1.0, max…"
      ]
     },
     "metadata": {},
     "output_type": "display_data"
    },
    {
     "data": {
      "text/html": [
       "<style>\n",
       "    table.wandb td:nth-child(1) { padding: 0 10px; text-align: left ; width: auto;} td:nth-child(2) {text-align: left ; width: 100%}\n",
       "    .wandb-row { display: flex; flex-direction: row; flex-wrap: wrap; justify-content: flex-start; width: 100% }\n",
       "    .wandb-col { display: flex; flex-direction: column; flex-basis: 100%; flex: 1; padding: 10px; }\n",
       "    </style>\n",
       "<div class=\"wandb-row\"><div class=\"wandb-col\"><h3>Run history:</h3><br/><table class=\"wandb\"><tr><td>loss</td><td>█▆▄▃▃▃▂▂▂▂▂▂▁▁▁▁▂▂▂▂▂▁▁▁▁▁▁▁▁▁▁▁▁▁▁▂▁▁▁▁</td></tr><tr><td>test_acc</td><td>▁</td></tr><tr><td>train_acc</td><td>▁▅▆▆▇▇████</td></tr><tr><td>train_loss</td><td>█▄▃▃▂▂▁▁▁▁</td></tr><tr><td>val_acc</td><td>▁▄▆▆▆▇████</td></tr><tr><td>val_loss</td><td>█▃▃▄▂▁▂▂▂▂</td></tr></table><br/></div><div class=\"wandb-col\"><h3>Run summary:</h3><br/><table class=\"wandb\"><tr><td>loss</td><td>0.25583</td></tr><tr><td>test_acc</td><td>0.65482</td></tr><tr><td>train_acc</td><td>0.92807</td></tr><tr><td>train_loss</td><td>0.20175</td></tr><tr><td>val_acc</td><td>0.66194</td></tr><tr><td>val_loss</td><td>1.75263</td></tr></table><br/></div></div>"
      ],
      "text/plain": [
       "<IPython.core.display.HTML object>"
      ]
     },
     "metadata": {},
     "output_type": "display_data"
    },
    {
     "data": {
      "text/html": [
       " View run <strong style=\"color:#cdcd00\">ee650ea7</strong> at: <a href='https://wandb.ai/navr414/cbm-with-hierarchy/runs/ldx4o1hs' target=\"_blank\">https://wandb.ai/navr414/cbm-with-hierarchy/runs/ldx4o1hs</a><br/>Synced 5 W&B file(s), 0 media file(s), 0 artifact file(s) and 0 other file(s)"
      ],
      "text/plain": [
       "<IPython.core.display.HTML object>"
      ]
     },
     "metadata": {},
     "output_type": "display_data"
    },
    {
     "data": {
      "text/html": [
       "Find logs at: <code>./wandb/run-20230428_114401-ldx4o1hs/logs</code>"
      ],
      "text/plain": [
       "<IPython.core.display.HTML object>"
      ]
     },
     "metadata": {},
     "output_type": "display_data"
    },
    {
     "name": "stderr",
     "output_type": "stream",
     "text": [
      "/rds/user/njr61/hpc-work/anaconda3/envs/gnn/lib/python3.9/site-packages/torch_geometric/deprecation.py:13: UserWarning: 'data.DataLoader' is deprecated, use 'loader.DataLoader' instead\n",
      "  warnings.warn(out)\n"
     ]
    },
    {
     "data": {
      "text/html": [
       "wandb version 0.15.0 is available!  To upgrade, please run:\n",
       " $ pip install wandb --upgrade"
      ],
      "text/plain": [
       "<IPython.core.display.HTML object>"
      ]
     },
     "metadata": {},
     "output_type": "display_data"
    },
    {
     "data": {
      "text/html": [
       "Tracking run with wandb version 0.14.2"
      ],
      "text/plain": [
       "<IPython.core.display.HTML object>"
      ]
     },
     "metadata": {},
     "output_type": "display_data"
    },
    {
     "data": {
      "text/html": [
       "Run data is saved locally in <code>/rds/user/njr61/hpc-work/cem/cem/wandb/run-20230428_114508-d44pkl87</code>"
      ],
      "text/plain": [
       "<IPython.core.display.HTML object>"
      ]
     },
     "metadata": {},
     "output_type": "display_data"
    },
    {
     "data": {
      "text/html": [
       "Syncing run <strong><a href='https://wandb.ai/navr414/cbm-with-hierarchy/runs/d44pkl87' target=\"_blank\">fc902211</a></strong> to <a href='https://wandb.ai/navr414/cbm-with-hierarchy' target=\"_blank\">Weights & Biases</a> (<a href='https://wandb.me/run' target=\"_blank\">docs</a>)<br/>"
      ],
      "text/plain": [
       "<IPython.core.display.HTML object>"
      ]
     },
     "metadata": {},
     "output_type": "display_data"
    },
    {
     "data": {
      "text/html": [
       " View project at <a href='https://wandb.ai/navr414/cbm-with-hierarchy' target=\"_blank\">https://wandb.ai/navr414/cbm-with-hierarchy</a>"
      ],
      "text/plain": [
       "<IPython.core.display.HTML object>"
      ]
     },
     "metadata": {},
     "output_type": "display_data"
    },
    {
     "data": {
      "text/html": [
       " View run at <a href='https://wandb.ai/navr414/cbm-with-hierarchy/runs/d44pkl87' target=\"_blank\">https://wandb.ai/navr414/cbm-with-hierarchy/runs/d44pkl87</a>"
      ],
      "text/plain": [
       "<IPython.core.display.HTML object>"
      ]
     },
     "metadata": {},
     "output_type": "display_data"
    },
    {
     "data": {
      "text/html": [
       "Waiting for W&B process to finish... <strong style=\"color:green\">(success).</strong>"
      ],
      "text/plain": [
       "<IPython.core.display.HTML object>"
      ]
     },
     "metadata": {},
     "output_type": "display_data"
    },
    {
     "data": {
      "application/vnd.jupyter.widget-view+json": {
       "model_id": "41ba442f43b14123957a5add16339a54",
       "version_major": 2,
       "version_minor": 0
      },
      "text/plain": [
       "VBox(children=(Label(value='0.112 MB of 0.112 MB uploaded (0.000 MB deduped)\\r'), FloatProgress(value=1.0, max…"
      ]
     },
     "metadata": {},
     "output_type": "display_data"
    },
    {
     "data": {
      "text/html": [
       "<style>\n",
       "    table.wandb td:nth-child(1) { padding: 0 10px; text-align: left ; width: auto;} td:nth-child(2) {text-align: left ; width: 100%}\n",
       "    .wandb-row { display: flex; flex-direction: row; flex-wrap: wrap; justify-content: flex-start; width: 100% }\n",
       "    .wandb-col { display: flex; flex-direction: column; flex-basis: 100%; flex: 1; padding: 10px; }\n",
       "    </style>\n",
       "<div class=\"wandb-row\"><div class=\"wandb-col\"><h3>Run history:</h3><br/><table class=\"wandb\"><tr><td>loss</td><td>██▆▄▃▂▂▂▂▂▂▂▂▁▁▂▁▁▂▁▁▁▁▁▂▁▁▁▁▁▁▂▁▁▁▁▁▁▁▁</td></tr><tr><td>test_acc</td><td>▁</td></tr><tr><td>train_acc</td><td>▁▆▆▇▇▇████</td></tr><tr><td>train_loss</td><td>█▃▂▂▂▁▁▁▁▁</td></tr><tr><td>val_acc</td><td>▁▅▆▆▇▇████</td></tr><tr><td>val_loss</td><td>█▂▁▁▂▁▁▁▁▁</td></tr></table><br/></div><div class=\"wandb-col\"><h3>Run summary:</h3><br/><table class=\"wandb\"><tr><td>loss</td><td>0.20051</td></tr><tr><td>test_acc</td><td>0.65136</td></tr><tr><td>train_acc</td><td>0.92348</td></tr><tr><td>train_loss</td><td>0.24073</td></tr><tr><td>val_acc</td><td>0.67112</td></tr><tr><td>val_loss</td><td>1.68969</td></tr></table><br/></div></div>"
      ],
      "text/plain": [
       "<IPython.core.display.HTML object>"
      ]
     },
     "metadata": {},
     "output_type": "display_data"
    },
    {
     "data": {
      "text/html": [
       " View run <strong style=\"color:#cdcd00\">fc902211</strong> at: <a href='https://wandb.ai/navr414/cbm-with-hierarchy/runs/d44pkl87' target=\"_blank\">https://wandb.ai/navr414/cbm-with-hierarchy/runs/d44pkl87</a><br/>Synced 5 W&B file(s), 0 media file(s), 0 artifact file(s) and 0 other file(s)"
      ],
      "text/plain": [
       "<IPython.core.display.HTML object>"
      ]
     },
     "metadata": {},
     "output_type": "display_data"
    },
    {
     "data": {
      "text/html": [
       "Find logs at: <code>./wandb/run-20230428_114508-d44pkl87/logs</code>"
      ],
      "text/plain": [
       "<IPython.core.display.HTML object>"
      ]
     },
     "metadata": {},
     "output_type": "display_data"
    },
    {
     "name": "stderr",
     "output_type": "stream",
     "text": [
      "/rds/user/njr61/hpc-work/anaconda3/envs/gnn/lib/python3.9/site-packages/torch_geometric/deprecation.py:13: UserWarning: 'data.DataLoader' is deprecated, use 'loader.DataLoader' instead\n",
      "  warnings.warn(out)\n"
     ]
    },
    {
     "data": {
      "text/html": [
       "wandb version 0.15.0 is available!  To upgrade, please run:\n",
       " $ pip install wandb --upgrade"
      ],
      "text/plain": [
       "<IPython.core.display.HTML object>"
      ]
     },
     "metadata": {},
     "output_type": "display_data"
    },
    {
     "data": {
      "text/html": [
       "Tracking run with wandb version 0.14.2"
      ],
      "text/plain": [
       "<IPython.core.display.HTML object>"
      ]
     },
     "metadata": {},
     "output_type": "display_data"
    },
    {
     "data": {
      "text/html": [
       "Run data is saved locally in <code>/rds/user/njr61/hpc-work/cem/cem/wandb/run-20230428_114620-keaf2rac</code>"
      ],
      "text/plain": [
       "<IPython.core.display.HTML object>"
      ]
     },
     "metadata": {},
     "output_type": "display_data"
    },
    {
     "data": {
      "text/html": [
       "Syncing run <strong><a href='https://wandb.ai/navr414/cbm-with-hierarchy/runs/keaf2rac' target=\"_blank\">813543d7</a></strong> to <a href='https://wandb.ai/navr414/cbm-with-hierarchy' target=\"_blank\">Weights & Biases</a> (<a href='https://wandb.me/run' target=\"_blank\">docs</a>)<br/>"
      ],
      "text/plain": [
       "<IPython.core.display.HTML object>"
      ]
     },
     "metadata": {},
     "output_type": "display_data"
    },
    {
     "data": {
      "text/html": [
       " View project at <a href='https://wandb.ai/navr414/cbm-with-hierarchy' target=\"_blank\">https://wandb.ai/navr414/cbm-with-hierarchy</a>"
      ],
      "text/plain": [
       "<IPython.core.display.HTML object>"
      ]
     },
     "metadata": {},
     "output_type": "display_data"
    },
    {
     "data": {
      "text/html": [
       " View run at <a href='https://wandb.ai/navr414/cbm-with-hierarchy/runs/keaf2rac' target=\"_blank\">https://wandb.ai/navr414/cbm-with-hierarchy/runs/keaf2rac</a>"
      ],
      "text/plain": [
       "<IPython.core.display.HTML object>"
      ]
     },
     "metadata": {},
     "output_type": "display_data"
    },
    {
     "data": {
      "text/html": [
       "Waiting for W&B process to finish... <strong style=\"color:green\">(success).</strong>"
      ],
      "text/plain": [
       "<IPython.core.display.HTML object>"
      ]
     },
     "metadata": {},
     "output_type": "display_data"
    },
    {
     "data": {
      "application/vnd.jupyter.widget-view+json": {
       "model_id": "c1d523c7e99140d09311838cd538d88f",
       "version_major": 2,
       "version_minor": 0
      },
      "text/plain": [
       "VBox(children=(Label(value='0.113 MB of 0.113 MB uploaded (0.000 MB deduped)\\r'), FloatProgress(value=1.0, max…"
      ]
     },
     "metadata": {},
     "output_type": "display_data"
    },
    {
     "data": {
      "text/html": [
       "<style>\n",
       "    table.wandb td:nth-child(1) { padding: 0 10px; text-align: left ; width: auto;} td:nth-child(2) {text-align: left ; width: 100%}\n",
       "    .wandb-row { display: flex; flex-direction: row; flex-wrap: wrap; justify-content: flex-start; width: 100% }\n",
       "    .wandb-col { display: flex; flex-direction: column; flex-basis: 100%; flex: 1; padding: 10px; }\n",
       "    </style>\n",
       "<div class=\"wandb-row\"><div class=\"wandb-col\"><h3>Run history:</h3><br/><table class=\"wandb\"><tr><td>loss</td><td>█▅▄▂▂▂▂▂▂▂▁▁▁▁▁▂▂▁▁▂▁▁▁▁▁▁▁▁▁▁▁▁▁▁▁▁▁▁▁▁</td></tr><tr><td>test_acc</td><td>▁</td></tr><tr><td>train_acc</td><td>▁▄▅▆▆▇▇███</td></tr><tr><td>train_loss</td><td>█▅▄▃▂▂▁▁▁▁</td></tr><tr><td>val_acc</td><td>▁▃▄▆▆▆▇▇██</td></tr><tr><td>val_loss</td><td>█▄▁▆▂▅▃▅▅▆</td></tr></table><br/></div><div class=\"wandb-col\"><h3>Run summary:</h3><br/><table class=\"wandb\"><tr><td>loss</td><td>0.3035</td></tr><tr><td>test_acc</td><td>0.67553</td></tr><tr><td>train_acc</td><td>0.95163</td></tr><tr><td>train_loss</td><td>0.13896</td></tr><tr><td>val_acc</td><td>0.6828</td></tr><tr><td>val_loss</td><td>1.68317</td></tr></table><br/></div></div>"
      ],
      "text/plain": [
       "<IPython.core.display.HTML object>"
      ]
     },
     "metadata": {},
     "output_type": "display_data"
    },
    {
     "data": {
      "text/html": [
       " View run <strong style=\"color:#cdcd00\">813543d7</strong> at: <a href='https://wandb.ai/navr414/cbm-with-hierarchy/runs/keaf2rac' target=\"_blank\">https://wandb.ai/navr414/cbm-with-hierarchy/runs/keaf2rac</a><br/>Synced 5 W&B file(s), 0 media file(s), 0 artifact file(s) and 0 other file(s)"
      ],
      "text/plain": [
       "<IPython.core.display.HTML object>"
      ]
     },
     "metadata": {},
     "output_type": "display_data"
    },
    {
     "data": {
      "text/html": [
       "Find logs at: <code>./wandb/run-20230428_114620-keaf2rac/logs</code>"
      ],
      "text/plain": [
       "<IPython.core.display.HTML object>"
      ]
     },
     "metadata": {},
     "output_type": "display_data"
    },
    {
     "name": "stderr",
     "output_type": "stream",
     "text": [
      "/rds/user/njr61/hpc-work/anaconda3/envs/gnn/lib/python3.9/site-packages/torch_geometric/deprecation.py:13: UserWarning: 'data.DataLoader' is deprecated, use 'loader.DataLoader' instead\n",
      "  warnings.warn(out)\n"
     ]
    },
    {
     "data": {
      "text/html": [
       "wandb version 0.15.0 is available!  To upgrade, please run:\n",
       " $ pip install wandb --upgrade"
      ],
      "text/plain": [
       "<IPython.core.display.HTML object>"
      ]
     },
     "metadata": {},
     "output_type": "display_data"
    },
    {
     "data": {
      "text/html": [
       "Tracking run with wandb version 0.14.2"
      ],
      "text/plain": [
       "<IPython.core.display.HTML object>"
      ]
     },
     "metadata": {},
     "output_type": "display_data"
    },
    {
     "data": {
      "text/html": [
       "Run data is saved locally in <code>/rds/user/njr61/hpc-work/cem/cem/wandb/run-20230428_114735-2exkte1n</code>"
      ],
      "text/plain": [
       "<IPython.core.display.HTML object>"
      ]
     },
     "metadata": {},
     "output_type": "display_data"
    },
    {
     "data": {
      "text/html": [
       "Syncing run <strong><a href='https://wandb.ai/navr414/cbm-with-hierarchy/runs/2exkte1n' target=\"_blank\">3d1642d3</a></strong> to <a href='https://wandb.ai/navr414/cbm-with-hierarchy' target=\"_blank\">Weights & Biases</a> (<a href='https://wandb.me/run' target=\"_blank\">docs</a>)<br/>"
      ],
      "text/plain": [
       "<IPython.core.display.HTML object>"
      ]
     },
     "metadata": {},
     "output_type": "display_data"
    },
    {
     "data": {
      "text/html": [
       " View project at <a href='https://wandb.ai/navr414/cbm-with-hierarchy' target=\"_blank\">https://wandb.ai/navr414/cbm-with-hierarchy</a>"
      ],
      "text/plain": [
       "<IPython.core.display.HTML object>"
      ]
     },
     "metadata": {},
     "output_type": "display_data"
    },
    {
     "data": {
      "text/html": [
       " View run at <a href='https://wandb.ai/navr414/cbm-with-hierarchy/runs/2exkte1n' target=\"_blank\">https://wandb.ai/navr414/cbm-with-hierarchy/runs/2exkte1n</a>"
      ],
      "text/plain": [
       "<IPython.core.display.HTML object>"
      ]
     },
     "metadata": {},
     "output_type": "display_data"
    },
    {
     "data": {
      "text/html": [
       "Waiting for W&B process to finish... <strong style=\"color:green\">(success).</strong>"
      ],
      "text/plain": [
       "<IPython.core.display.HTML object>"
      ]
     },
     "metadata": {},
     "output_type": "display_data"
    },
    {
     "data": {
      "application/vnd.jupyter.widget-view+json": {
       "model_id": "682cbb3397c54865b8fb82001276e473",
       "version_major": 2,
       "version_minor": 0
      },
      "text/plain": [
       "VBox(children=(Label(value='0.013 MB of 0.108 MB uploaded (0.000 MB deduped)\\r'), FloatProgress(value=0.123104…"
      ]
     },
     "metadata": {},
     "output_type": "display_data"
    },
    {
     "data": {
      "text/html": [
       "<style>\n",
       "    table.wandb td:nth-child(1) { padding: 0 10px; text-align: left ; width: auto;} td:nth-child(2) {text-align: left ; width: 100%}\n",
       "    .wandb-row { display: flex; flex-direction: row; flex-wrap: wrap; justify-content: flex-start; width: 100% }\n",
       "    .wandb-col { display: flex; flex-direction: column; flex-basis: 100%; flex: 1; padding: 10px; }\n",
       "    </style>\n",
       "<div class=\"wandb-row\"><div class=\"wandb-col\"><h3>Run history:</h3><br/><table class=\"wandb\"><tr><td>loss</td><td>█▄▄▃▂▂▃▂▂▂▂▂▂▂▂▂▁▂▁▁▁▁▁▁▁▁▁▁▁▂▁▁▁▁▁▁▁▁▁▁</td></tr><tr><td>test_acc</td><td>▁</td></tr><tr><td>train_acc</td><td>▁▁▅▅▆▇▇███</td></tr><tr><td>train_loss</td><td>██▄▄▃▂▂▁▁▁</td></tr><tr><td>val_acc</td><td>▁▁▆▆▆█▇███</td></tr><tr><td>val_loss</td><td>▅█▃▂▂▁▁▂▁▂</td></tr></table><br/></div><div class=\"wandb-col\"><h3>Run summary:</h3><br/><table class=\"wandb\"><tr><td>loss</td><td>0.22553</td></tr><tr><td>test_acc</td><td>0.65154</td></tr><tr><td>train_acc</td><td>0.92952</td></tr><tr><td>train_loss</td><td>0.19254</td></tr><tr><td>val_acc</td><td>0.65776</td></tr><tr><td>val_loss</td><td>2.01517</td></tr></table><br/></div></div>"
      ],
      "text/plain": [
       "<IPython.core.display.HTML object>"
      ]
     },
     "metadata": {},
     "output_type": "display_data"
    },
    {
     "data": {
      "text/html": [
       " View run <strong style=\"color:#cdcd00\">3d1642d3</strong> at: <a href='https://wandb.ai/navr414/cbm-with-hierarchy/runs/2exkte1n' target=\"_blank\">https://wandb.ai/navr414/cbm-with-hierarchy/runs/2exkte1n</a><br/>Synced 5 W&B file(s), 0 media file(s), 0 artifact file(s) and 0 other file(s)"
      ],
      "text/plain": [
       "<IPython.core.display.HTML object>"
      ]
     },
     "metadata": {},
     "output_type": "display_data"
    },
    {
     "data": {
      "text/html": [
       "Find logs at: <code>./wandb/run-20230428_114735-2exkte1n/logs</code>"
      ],
      "text/plain": [
       "<IPython.core.display.HTML object>"
      ]
     },
     "metadata": {},
     "output_type": "display_data"
    },
    {
     "name": "stderr",
     "output_type": "stream",
     "text": [
      "/rds/user/njr61/hpc-work/anaconda3/envs/gnn/lib/python3.9/site-packages/torch_geometric/deprecation.py:13: UserWarning: 'data.DataLoader' is deprecated, use 'loader.DataLoader' instead\n",
      "  warnings.warn(out)\n"
     ]
    },
    {
     "data": {
      "text/html": [
       "wandb version 0.15.0 is available!  To upgrade, please run:\n",
       " $ pip install wandb --upgrade"
      ],
      "text/plain": [
       "<IPython.core.display.HTML object>"
      ]
     },
     "metadata": {},
     "output_type": "display_data"
    },
    {
     "data": {
      "text/html": [
       "Tracking run with wandb version 0.14.2"
      ],
      "text/plain": [
       "<IPython.core.display.HTML object>"
      ]
     },
     "metadata": {},
     "output_type": "display_data"
    },
    {
     "data": {
      "text/html": [
       "Run data is saved locally in <code>/rds/user/njr61/hpc-work/cem/cem/wandb/run-20230428_114842-6w6sbiyk</code>"
      ],
      "text/plain": [
       "<IPython.core.display.HTML object>"
      ]
     },
     "metadata": {},
     "output_type": "display_data"
    },
    {
     "data": {
      "text/html": [
       "Syncing run <strong><a href='https://wandb.ai/navr414/cbm-with-hierarchy/runs/6w6sbiyk' target=\"_blank\">6c3ea248</a></strong> to <a href='https://wandb.ai/navr414/cbm-with-hierarchy' target=\"_blank\">Weights & Biases</a> (<a href='https://wandb.me/run' target=\"_blank\">docs</a>)<br/>"
      ],
      "text/plain": [
       "<IPython.core.display.HTML object>"
      ]
     },
     "metadata": {},
     "output_type": "display_data"
    },
    {
     "data": {
      "text/html": [
       " View project at <a href='https://wandb.ai/navr414/cbm-with-hierarchy' target=\"_blank\">https://wandb.ai/navr414/cbm-with-hierarchy</a>"
      ],
      "text/plain": [
       "<IPython.core.display.HTML object>"
      ]
     },
     "metadata": {},
     "output_type": "display_data"
    },
    {
     "data": {
      "text/html": [
       " View run at <a href='https://wandb.ai/navr414/cbm-with-hierarchy/runs/6w6sbiyk' target=\"_blank\">https://wandb.ai/navr414/cbm-with-hierarchy/runs/6w6sbiyk</a>"
      ],
      "text/plain": [
       "<IPython.core.display.HTML object>"
      ]
     },
     "metadata": {},
     "output_type": "display_data"
    },
    {
     "data": {
      "text/html": [
       "Waiting for W&B process to finish... <strong style=\"color:green\">(success).</strong>"
      ],
      "text/plain": [
       "<IPython.core.display.HTML object>"
      ]
     },
     "metadata": {},
     "output_type": "display_data"
    },
    {
     "data": {
      "application/vnd.jupyter.widget-view+json": {
       "model_id": "51e50458798446889d13ff9693724322",
       "version_major": 2,
       "version_minor": 0
      },
      "text/plain": [
       "VBox(children=(Label(value='0.112 MB of 0.112 MB uploaded (0.000 MB deduped)\\r'), FloatProgress(value=1.0, max…"
      ]
     },
     "metadata": {},
     "output_type": "display_data"
    },
    {
     "data": {
      "text/html": [
       "<style>\n",
       "    table.wandb td:nth-child(1) { padding: 0 10px; text-align: left ; width: auto;} td:nth-child(2) {text-align: left ; width: 100%}\n",
       "    .wandb-row { display: flex; flex-direction: row; flex-wrap: wrap; justify-content: flex-start; width: 100% }\n",
       "    .wandb-col { display: flex; flex-direction: column; flex-basis: 100%; flex: 1; padding: 10px; }\n",
       "    </style>\n",
       "<div class=\"wandb-row\"><div class=\"wandb-col\"><h3>Run history:</h3><br/><table class=\"wandb\"><tr><td>loss</td><td>█▇▆▄▂▂▂▃▂▁▂▂▁▁▂▁▁▂▁▂▁▁▁▂▁▁▁▁▁▁▁▁▁▁▁▁▁▁▁▁</td></tr><tr><td>test_acc</td><td>▁</td></tr><tr><td>train_acc</td><td>▁▅▆▇▇▇▇███</td></tr><tr><td>train_loss</td><td>█▃▂▂▂▁▁▁▁▁</td></tr><tr><td>val_acc</td><td>▁▆▇▇▇█████</td></tr><tr><td>val_loss</td><td>█▂▂▁▂▁▂▁▁▁</td></tr></table><br/></div><div class=\"wandb-col\"><h3>Run summary:</h3><br/><table class=\"wandb\"><tr><td>loss</td><td>0.29841</td></tr><tr><td>test_acc</td><td>0.64273</td></tr><tr><td>train_acc</td><td>0.92264</td></tr><tr><td>train_loss</td><td>0.2535</td></tr><tr><td>val_acc</td><td>0.64441</td></tr><tr><td>val_loss</td><td>1.66965</td></tr></table><br/></div></div>"
      ],
      "text/plain": [
       "<IPython.core.display.HTML object>"
      ]
     },
     "metadata": {},
     "output_type": "display_data"
    },
    {
     "data": {
      "text/html": [
       " View run <strong style=\"color:#cdcd00\">6c3ea248</strong> at: <a href='https://wandb.ai/navr414/cbm-with-hierarchy/runs/6w6sbiyk' target=\"_blank\">https://wandb.ai/navr414/cbm-with-hierarchy/runs/6w6sbiyk</a><br/>Synced 5 W&B file(s), 0 media file(s), 0 artifact file(s) and 0 other file(s)"
      ],
      "text/plain": [
       "<IPython.core.display.HTML object>"
      ]
     },
     "metadata": {},
     "output_type": "display_data"
    },
    {
     "data": {
      "text/html": [
       "Find logs at: <code>./wandb/run-20230428_114842-6w6sbiyk/logs</code>"
      ],
      "text/plain": [
       "<IPython.core.display.HTML object>"
      ]
     },
     "metadata": {},
     "output_type": "display_data"
    },
    {
     "name": "stderr",
     "output_type": "stream",
     "text": [
      "/rds/user/njr61/hpc-work/anaconda3/envs/gnn/lib/python3.9/site-packages/torch_geometric/deprecation.py:13: UserWarning: 'data.DataLoader' is deprecated, use 'loader.DataLoader' instead\n",
      "  warnings.warn(out)\n"
     ]
    },
    {
     "data": {
      "text/html": [
       "wandb version 0.15.0 is available!  To upgrade, please run:\n",
       " $ pip install wandb --upgrade"
      ],
      "text/plain": [
       "<IPython.core.display.HTML object>"
      ]
     },
     "metadata": {},
     "output_type": "display_data"
    },
    {
     "data": {
      "text/html": [
       "Tracking run with wandb version 0.14.2"
      ],
      "text/plain": [
       "<IPython.core.display.HTML object>"
      ]
     },
     "metadata": {},
     "output_type": "display_data"
    },
    {
     "data": {
      "text/html": [
       "Run data is saved locally in <code>/rds/user/njr61/hpc-work/cem/cem/wandb/run-20230428_114955-xhx0e72n</code>"
      ],
      "text/plain": [
       "<IPython.core.display.HTML object>"
      ]
     },
     "metadata": {},
     "output_type": "display_data"
    },
    {
     "data": {
      "text/html": [
       "Syncing run <strong><a href='https://wandb.ai/navr414/cbm-with-hierarchy/runs/xhx0e72n' target=\"_blank\">1b99e4e3</a></strong> to <a href='https://wandb.ai/navr414/cbm-with-hierarchy' target=\"_blank\">Weights & Biases</a> (<a href='https://wandb.me/run' target=\"_blank\">docs</a>)<br/>"
      ],
      "text/plain": [
       "<IPython.core.display.HTML object>"
      ]
     },
     "metadata": {},
     "output_type": "display_data"
    },
    {
     "data": {
      "text/html": [
       " View project at <a href='https://wandb.ai/navr414/cbm-with-hierarchy' target=\"_blank\">https://wandb.ai/navr414/cbm-with-hierarchy</a>"
      ],
      "text/plain": [
       "<IPython.core.display.HTML object>"
      ]
     },
     "metadata": {},
     "output_type": "display_data"
    },
    {
     "data": {
      "text/html": [
       " View run at <a href='https://wandb.ai/navr414/cbm-with-hierarchy/runs/xhx0e72n' target=\"_blank\">https://wandb.ai/navr414/cbm-with-hierarchy/runs/xhx0e72n</a>"
      ],
      "text/plain": [
       "<IPython.core.display.HTML object>"
      ]
     },
     "metadata": {},
     "output_type": "display_data"
    },
    {
     "data": {
      "text/html": [
       "Waiting for W&B process to finish... <strong style=\"color:green\">(success).</strong>"
      ],
      "text/plain": [
       "<IPython.core.display.HTML object>"
      ]
     },
     "metadata": {},
     "output_type": "display_data"
    },
    {
     "data": {
      "application/vnd.jupyter.widget-view+json": {
       "model_id": "6e84d8a3938c467080b7b9009ece0c56",
       "version_major": 2,
       "version_minor": 0
      },
      "text/plain": [
       "VBox(children=(Label(value='0.013 MB of 0.113 MB uploaded (0.000 MB deduped)\\r'), FloatProgress(value=0.118064…"
      ]
     },
     "metadata": {},
     "output_type": "display_data"
    },
    {
     "data": {
      "text/html": [
       "<style>\n",
       "    table.wandb td:nth-child(1) { padding: 0 10px; text-align: left ; width: auto;} td:nth-child(2) {text-align: left ; width: 100%}\n",
       "    .wandb-row { display: flex; flex-direction: row; flex-wrap: wrap; justify-content: flex-start; width: 100% }\n",
       "    .wandb-col { display: flex; flex-direction: column; flex-basis: 100%; flex: 1; padding: 10px; }\n",
       "    </style>\n",
       "<div class=\"wandb-row\"><div class=\"wandb-col\"><h3>Run history:</h3><br/><table class=\"wandb\"><tr><td>loss</td><td>█▅▃▃▂▂▂▁▁▂▁▂▁▁▁▁▁▁▁▁▁▁▁▁▁▁▁▁▁▂▁▁▁▁▁▁▁▁▁▁</td></tr><tr><td>test_acc</td><td>▁</td></tr><tr><td>train_acc</td><td>▁▄▅▆▆▇▇███</td></tr><tr><td>train_loss</td><td>█▄▃▃▂▂▁▁▁▁</td></tr><tr><td>val_acc</td><td>▁▅▅▆▆█▇▇██</td></tr><tr><td>val_loss</td><td>█▁▄▅▃▃▄▅▄▄</td></tr></table><br/></div><div class=\"wandb-col\"><h3>Run summary:</h3><br/><table class=\"wandb\"><tr><td>loss</td><td>0.2576</td></tr><tr><td>test_acc</td><td>0.68088</td></tr><tr><td>train_acc</td><td>0.95309</td></tr><tr><td>train_loss</td><td>0.14136</td></tr><tr><td>val_acc</td><td>0.68447</td></tr><tr><td>val_loss</td><td>1.62531</td></tr></table><br/></div></div>"
      ],
      "text/plain": [
       "<IPython.core.display.HTML object>"
      ]
     },
     "metadata": {},
     "output_type": "display_data"
    },
    {
     "data": {
      "text/html": [
       " View run <strong style=\"color:#cdcd00\">1b99e4e3</strong> at: <a href='https://wandb.ai/navr414/cbm-with-hierarchy/runs/xhx0e72n' target=\"_blank\">https://wandb.ai/navr414/cbm-with-hierarchy/runs/xhx0e72n</a><br/>Synced 5 W&B file(s), 0 media file(s), 0 artifact file(s) and 0 other file(s)"
      ],
      "text/plain": [
       "<IPython.core.display.HTML object>"
      ]
     },
     "metadata": {},
     "output_type": "display_data"
    },
    {
     "data": {
      "text/html": [
       "Find logs at: <code>./wandb/run-20230428_114955-xhx0e72n/logs</code>"
      ],
      "text/plain": [
       "<IPython.core.display.HTML object>"
      ]
     },
     "metadata": {},
     "output_type": "display_data"
    }
   ],
   "source": [
    "for random_seed in [43,44,45]:\n",
    "    for hierarchy_name in ['shapley','cem','labels']:\n",
    "        run_experiment('gnn',hierarchy_name,random_seed,pretrain=False)"
   ]
  },
  {
   "cell_type": "code",
   "execution_count": 14,
   "id": "c529cb66",
   "metadata": {},
   "outputs": [
    {
     "name": "stderr",
     "output_type": "stream",
     "text": [
      "/rds/user/njr61/hpc-work/anaconda3/envs/gnn/lib/python3.9/site-packages/torch_geometric/deprecation.py:13: UserWarning: 'data.DataLoader' is deprecated, use 'loader.DataLoader' instead\n",
      "  warnings.warn(out)\n"
     ]
    },
    {
     "data": {
      "text/html": [
       "wandb version 0.15.0 is available!  To upgrade, please run:\n",
       " $ pip install wandb --upgrade"
      ],
      "text/plain": [
       "<IPython.core.display.HTML object>"
      ]
     },
     "metadata": {},
     "output_type": "display_data"
    },
    {
     "data": {
      "text/html": [
       "Tracking run with wandb version 0.14.2"
      ],
      "text/plain": [
       "<IPython.core.display.HTML object>"
      ]
     },
     "metadata": {},
     "output_type": "display_data"
    },
    {
     "data": {
      "text/html": [
       "Run data is saved locally in <code>/rds/user/njr61/hpc-work/cem/cem/wandb/run-20230428_115211-q7wzitn3</code>"
      ],
      "text/plain": [
       "<IPython.core.display.HTML object>"
      ]
     },
     "metadata": {},
     "output_type": "display_data"
    },
    {
     "data": {
      "text/html": [
       "Syncing run <strong><a href='https://wandb.ai/navr414/cbm-with-hierarchy/runs/q7wzitn3' target=\"_blank\">cd4e4c0f</a></strong> to <a href='https://wandb.ai/navr414/cbm-with-hierarchy' target=\"_blank\">Weights & Biases</a> (<a href='https://wandb.me/run' target=\"_blank\">docs</a>)<br/>"
      ],
      "text/plain": [
       "<IPython.core.display.HTML object>"
      ]
     },
     "metadata": {},
     "output_type": "display_data"
    },
    {
     "data": {
      "text/html": [
       " View project at <a href='https://wandb.ai/navr414/cbm-with-hierarchy' target=\"_blank\">https://wandb.ai/navr414/cbm-with-hierarchy</a>"
      ],
      "text/plain": [
       "<IPython.core.display.HTML object>"
      ]
     },
     "metadata": {},
     "output_type": "display_data"
    },
    {
     "data": {
      "text/html": [
       " View run at <a href='https://wandb.ai/navr414/cbm-with-hierarchy/runs/q7wzitn3' target=\"_blank\">https://wandb.ai/navr414/cbm-with-hierarchy/runs/q7wzitn3</a>"
      ],
      "text/plain": [
       "<IPython.core.display.HTML object>"
      ]
     },
     "metadata": {},
     "output_type": "display_data"
    },
    {
     "data": {
      "text/html": [
       "Waiting for W&B process to finish... <strong style=\"color:green\">(success).</strong>"
      ],
      "text/plain": [
       "<IPython.core.display.HTML object>"
      ]
     },
     "metadata": {},
     "output_type": "display_data"
    },
    {
     "data": {
      "application/vnd.jupyter.widget-view+json": {
       "model_id": "fb02d81ed8794c12b93d2914a9bce7b0",
       "version_major": 2,
       "version_minor": 0
      },
      "text/plain": [
       "VBox(children=(Label(value='0.013 MB of 0.109 MB uploaded (0.000 MB deduped)\\r'), FloatProgress(value=0.122860…"
      ]
     },
     "metadata": {},
     "output_type": "display_data"
    },
    {
     "data": {
      "text/html": [
       "<style>\n",
       "    table.wandb td:nth-child(1) { padding: 0 10px; text-align: left ; width: auto;} td:nth-child(2) {text-align: left ; width: 100%}\n",
       "    .wandb-row { display: flex; flex-direction: row; flex-wrap: wrap; justify-content: flex-start; width: 100% }\n",
       "    .wandb-col { display: flex; flex-direction: column; flex-basis: 100%; flex: 1; padding: 10px; }\n",
       "    </style>\n",
       "<div class=\"wandb-row\"><div class=\"wandb-col\"><h3>Run history:</h3><br/><table class=\"wandb\"><tr><td>loss</td><td>█▅▅▃▃▂▂▂▂▂▂▂▂▂▂▂▁▂▁▁▂▁▁▁▁▁▁▁▁▁▁▁▁▁▁▁▁▁▁▁</td></tr><tr><td>test_acc</td><td>▁</td></tr><tr><td>train_acc</td><td>▁▄▅▆▆▇▇▇██</td></tr><tr><td>train_loss</td><td>█▄▄▃▃▂▁▁▁▁</td></tr><tr><td>val_acc</td><td>▁▄▄▆▆▇█▇██</td></tr><tr><td>val_loss</td><td>█▆▆▄▃▂▂▂▁▁</td></tr></table><br/></div><div class=\"wandb-col\"><h3>Run summary:</h3><br/><table class=\"wandb\"><tr><td>loss</td><td>0.17939</td></tr><tr><td>test_acc</td><td>0.67708</td></tr><tr><td>train_acc</td><td>0.93703</td></tr><tr><td>train_loss</td><td>0.18938</td></tr><tr><td>val_acc</td><td>0.6803</td></tr><tr><td>val_loss</td><td>1.61988</td></tr></table><br/></div></div>"
      ],
      "text/plain": [
       "<IPython.core.display.HTML object>"
      ]
     },
     "metadata": {},
     "output_type": "display_data"
    },
    {
     "data": {
      "text/html": [
       " View run <strong style=\"color:#cdcd00\">cd4e4c0f</strong> at: <a href='https://wandb.ai/navr414/cbm-with-hierarchy/runs/q7wzitn3' target=\"_blank\">https://wandb.ai/navr414/cbm-with-hierarchy/runs/q7wzitn3</a><br/>Synced 5 W&B file(s), 0 media file(s), 0 artifact file(s) and 0 other file(s)"
      ],
      "text/plain": [
       "<IPython.core.display.HTML object>"
      ]
     },
     "metadata": {},
     "output_type": "display_data"
    },
    {
     "data": {
      "text/html": [
       "Find logs at: <code>./wandb/run-20230428_115211-q7wzitn3/logs</code>"
      ],
      "text/plain": [
       "<IPython.core.display.HTML object>"
      ]
     },
     "metadata": {},
     "output_type": "display_data"
    },
    {
     "name": "stderr",
     "output_type": "stream",
     "text": [
      "/rds/user/njr61/hpc-work/anaconda3/envs/gnn/lib/python3.9/site-packages/torch_geometric/deprecation.py:13: UserWarning: 'data.DataLoader' is deprecated, use 'loader.DataLoader' instead\n",
      "  warnings.warn(out)\n"
     ]
    },
    {
     "data": {
      "text/html": [
       "wandb version 0.15.0 is available!  To upgrade, please run:\n",
       " $ pip install wandb --upgrade"
      ],
      "text/plain": [
       "<IPython.core.display.HTML object>"
      ]
     },
     "metadata": {},
     "output_type": "display_data"
    },
    {
     "data": {
      "text/html": [
       "Tracking run with wandb version 0.14.2"
      ],
      "text/plain": [
       "<IPython.core.display.HTML object>"
      ]
     },
     "metadata": {},
     "output_type": "display_data"
    },
    {
     "data": {
      "text/html": [
       "Run data is saved locally in <code>/rds/user/njr61/hpc-work/cem/cem/wandb/run-20230428_115425-d57xmvlc</code>"
      ],
      "text/plain": [
       "<IPython.core.display.HTML object>"
      ]
     },
     "metadata": {},
     "output_type": "display_data"
    },
    {
     "data": {
      "text/html": [
       "Syncing run <strong><a href='https://wandb.ai/navr414/cbm-with-hierarchy/runs/d57xmvlc' target=\"_blank\">0b18c82d</a></strong> to <a href='https://wandb.ai/navr414/cbm-with-hierarchy' target=\"_blank\">Weights & Biases</a> (<a href='https://wandb.me/run' target=\"_blank\">docs</a>)<br/>"
      ],
      "text/plain": [
       "<IPython.core.display.HTML object>"
      ]
     },
     "metadata": {},
     "output_type": "display_data"
    },
    {
     "data": {
      "text/html": [
       " View project at <a href='https://wandb.ai/navr414/cbm-with-hierarchy' target=\"_blank\">https://wandb.ai/navr414/cbm-with-hierarchy</a>"
      ],
      "text/plain": [
       "<IPython.core.display.HTML object>"
      ]
     },
     "metadata": {},
     "output_type": "display_data"
    },
    {
     "data": {
      "text/html": [
       " View run at <a href='https://wandb.ai/navr414/cbm-with-hierarchy/runs/d57xmvlc' target=\"_blank\">https://wandb.ai/navr414/cbm-with-hierarchy/runs/d57xmvlc</a>"
      ],
      "text/plain": [
       "<IPython.core.display.HTML object>"
      ]
     },
     "metadata": {},
     "output_type": "display_data"
    },
    {
     "data": {
      "text/html": [
       "Waiting for W&B process to finish... <strong style=\"color:green\">(success).</strong>"
      ],
      "text/plain": [
       "<IPython.core.display.HTML object>"
      ]
     },
     "metadata": {},
     "output_type": "display_data"
    },
    {
     "data": {
      "application/vnd.jupyter.widget-view+json": {
       "model_id": "420aadde79cb44449b6d39feb328f340",
       "version_major": 2,
       "version_minor": 0
      },
      "text/plain": [
       "VBox(children=(Label(value='0.013 MB of 0.109 MB uploaded (0.000 MB deduped)\\r'), FloatProgress(value=0.122888…"
      ]
     },
     "metadata": {},
     "output_type": "display_data"
    },
    {
     "data": {
      "text/html": [
       "<style>\n",
       "    table.wandb td:nth-child(1) { padding: 0 10px; text-align: left ; width: auto;} td:nth-child(2) {text-align: left ; width: 100%}\n",
       "    .wandb-row { display: flex; flex-direction: row; flex-wrap: wrap; justify-content: flex-start; width: 100% }\n",
       "    .wandb-col { display: flex; flex-direction: column; flex-basis: 100%; flex: 1; padding: 10px; }\n",
       "    </style>\n",
       "<div class=\"wandb-row\"><div class=\"wandb-col\"><h3>Run history:</h3><br/><table class=\"wandb\"><tr><td>loss</td><td>█▆▄▃▃▂▂▂▃▂▂▂▂▂▂▁▂▂▂▁▂▂▂▁▁▁▁▁▁▁▁▁▁▁▁▁▁▁▁▁</td></tr><tr><td>test_acc</td><td>▁</td></tr><tr><td>train_acc</td><td>▁▄▆▆▆▇▇███</td></tr><tr><td>train_loss</td><td>█▅▃▃▂▂▂▁▁▁</td></tr><tr><td>val_acc</td><td>▁▅▆▅▆▇▇███</td></tr><tr><td>val_loss</td><td>█▅▃▆▅▃▃▂▂▁</td></tr></table><br/></div><div class=\"wandb-col\"><h3>Run summary:</h3><br/><table class=\"wandb\"><tr><td>loss</td><td>0.57092</td></tr><tr><td>test_acc</td><td>0.6776</td></tr><tr><td>train_acc</td><td>0.93453</td></tr><tr><td>train_loss</td><td>0.19384</td></tr><tr><td>val_acc</td><td>0.67947</td></tr><tr><td>val_loss</td><td>1.60157</td></tr></table><br/></div></div>"
      ],
      "text/plain": [
       "<IPython.core.display.HTML object>"
      ]
     },
     "metadata": {},
     "output_type": "display_data"
    },
    {
     "data": {
      "text/html": [
       " View run <strong style=\"color:#cdcd00\">0b18c82d</strong> at: <a href='https://wandb.ai/navr414/cbm-with-hierarchy/runs/d57xmvlc' target=\"_blank\">https://wandb.ai/navr414/cbm-with-hierarchy/runs/d57xmvlc</a><br/>Synced 5 W&B file(s), 0 media file(s), 0 artifact file(s) and 0 other file(s)"
      ],
      "text/plain": [
       "<IPython.core.display.HTML object>"
      ]
     },
     "metadata": {},
     "output_type": "display_data"
    },
    {
     "data": {
      "text/html": [
       "Find logs at: <code>./wandb/run-20230428_115425-d57xmvlc/logs</code>"
      ],
      "text/plain": [
       "<IPython.core.display.HTML object>"
      ]
     },
     "metadata": {},
     "output_type": "display_data"
    },
    {
     "name": "stderr",
     "output_type": "stream",
     "text": [
      "/rds/user/njr61/hpc-work/anaconda3/envs/gnn/lib/python3.9/site-packages/torch_geometric/deprecation.py:13: UserWarning: 'data.DataLoader' is deprecated, use 'loader.DataLoader' instead\n",
      "  warnings.warn(out)\n"
     ]
    },
    {
     "data": {
      "text/html": [
       "wandb version 0.15.0 is available!  To upgrade, please run:\n",
       " $ pip install wandb --upgrade"
      ],
      "text/plain": [
       "<IPython.core.display.HTML object>"
      ]
     },
     "metadata": {},
     "output_type": "display_data"
    },
    {
     "data": {
      "text/html": [
       "Tracking run with wandb version 0.14.2"
      ],
      "text/plain": [
       "<IPython.core.display.HTML object>"
      ]
     },
     "metadata": {},
     "output_type": "display_data"
    },
    {
     "data": {
      "text/html": [
       "Run data is saved locally in <code>/rds/user/njr61/hpc-work/cem/cem/wandb/run-20230428_115629-96k23w8e</code>"
      ],
      "text/plain": [
       "<IPython.core.display.HTML object>"
      ]
     },
     "metadata": {},
     "output_type": "display_data"
    },
    {
     "data": {
      "text/html": [
       "Syncing run <strong><a href='https://wandb.ai/navr414/cbm-with-hierarchy/runs/96k23w8e' target=\"_blank\">c5633190</a></strong> to <a href='https://wandb.ai/navr414/cbm-with-hierarchy' target=\"_blank\">Weights & Biases</a> (<a href='https://wandb.me/run' target=\"_blank\">docs</a>)<br/>"
      ],
      "text/plain": [
       "<IPython.core.display.HTML object>"
      ]
     },
     "metadata": {},
     "output_type": "display_data"
    },
    {
     "data": {
      "text/html": [
       " View project at <a href='https://wandb.ai/navr414/cbm-with-hierarchy' target=\"_blank\">https://wandb.ai/navr414/cbm-with-hierarchy</a>"
      ],
      "text/plain": [
       "<IPython.core.display.HTML object>"
      ]
     },
     "metadata": {},
     "output_type": "display_data"
    },
    {
     "data": {
      "text/html": [
       " View run at <a href='https://wandb.ai/navr414/cbm-with-hierarchy/runs/96k23w8e' target=\"_blank\">https://wandb.ai/navr414/cbm-with-hierarchy/runs/96k23w8e</a>"
      ],
      "text/plain": [
       "<IPython.core.display.HTML object>"
      ]
     },
     "metadata": {},
     "output_type": "display_data"
    },
    {
     "data": {
      "text/html": [
       "Waiting for W&B process to finish... <strong style=\"color:green\">(success).</strong>"
      ],
      "text/plain": [
       "<IPython.core.display.HTML object>"
      ]
     },
     "metadata": {},
     "output_type": "display_data"
    },
    {
     "data": {
      "application/vnd.jupyter.widget-view+json": {
       "model_id": "946d50581b004ecf86e15a13fea39aed",
       "version_major": 2,
       "version_minor": 0
      },
      "text/plain": [
       "VBox(children=(Label(value='0.013 MB of 0.105 MB uploaded (0.000 MB deduped)\\r'), FloatProgress(value=0.126815…"
      ]
     },
     "metadata": {},
     "output_type": "display_data"
    },
    {
     "data": {
      "text/html": [
       "<style>\n",
       "    table.wandb td:nth-child(1) { padding: 0 10px; text-align: left ; width: auto;} td:nth-child(2) {text-align: left ; width: 100%}\n",
       "    .wandb-row { display: flex; flex-direction: row; flex-wrap: wrap; justify-content: flex-start; width: 100% }\n",
       "    .wandb-col { display: flex; flex-direction: column; flex-basis: 100%; flex: 1; padding: 10px; }\n",
       "    </style>\n",
       "<div class=\"wandb-row\"><div class=\"wandb-col\"><h3>Run history:</h3><br/><table class=\"wandb\"><tr><td>loss</td><td>█▆▅▃▂▂▂▂▂▂▂▁▂▂▂▂▂▂▂▁▁▁▁▁▁▁▁▁▁▁▁▁▁▁▁▁▁▁▁▁</td></tr><tr><td>test_acc</td><td>▁</td></tr><tr><td>train_acc</td><td>▁▄▅▆▆▆▇███</td></tr><tr><td>train_loss</td><td>█▅▄▃▃▂▂▁▁▁</td></tr><tr><td>val_acc</td><td>▁▃▅▅▅▆▇▇██</td></tr><tr><td>val_loss</td><td>██▅▇▇▆▃▂▁▁</td></tr></table><br/></div><div class=\"wandb-col\"><h3>Run summary:</h3><br/><table class=\"wandb\"><tr><td>loss</td><td>0.1745</td></tr><tr><td>test_acc</td><td>0.67415</td></tr><tr><td>train_acc</td><td>0.93474</td></tr><tr><td>train_loss</td><td>0.18876</td></tr><tr><td>val_acc</td><td>0.68114</td></tr><tr><td>val_loss</td><td>1.65302</td></tr></table><br/></div></div>"
      ],
      "text/plain": [
       "<IPython.core.display.HTML object>"
      ]
     },
     "metadata": {},
     "output_type": "display_data"
    },
    {
     "data": {
      "text/html": [
       " View run <strong style=\"color:#cdcd00\">c5633190</strong> at: <a href='https://wandb.ai/navr414/cbm-with-hierarchy/runs/96k23w8e' target=\"_blank\">https://wandb.ai/navr414/cbm-with-hierarchy/runs/96k23w8e</a><br/>Synced 5 W&B file(s), 0 media file(s), 0 artifact file(s) and 0 other file(s)"
      ],
      "text/plain": [
       "<IPython.core.display.HTML object>"
      ]
     },
     "metadata": {},
     "output_type": "display_data"
    },
    {
     "data": {
      "text/html": [
       "Find logs at: <code>./wandb/run-20230428_115629-96k23w8e/logs</code>"
      ],
      "text/plain": [
       "<IPython.core.display.HTML object>"
      ]
     },
     "metadata": {},
     "output_type": "display_data"
    },
    {
     "name": "stderr",
     "output_type": "stream",
     "text": [
      "/rds/user/njr61/hpc-work/anaconda3/envs/gnn/lib/python3.9/site-packages/torch_geometric/deprecation.py:13: UserWarning: 'data.DataLoader' is deprecated, use 'loader.DataLoader' instead\n",
      "  warnings.warn(out)\n"
     ]
    },
    {
     "data": {
      "text/html": [
       "wandb version 0.15.0 is available!  To upgrade, please run:\n",
       " $ pip install wandb --upgrade"
      ],
      "text/plain": [
       "<IPython.core.display.HTML object>"
      ]
     },
     "metadata": {},
     "output_type": "display_data"
    },
    {
     "data": {
      "text/html": [
       "Tracking run with wandb version 0.14.2"
      ],
      "text/plain": [
       "<IPython.core.display.HTML object>"
      ]
     },
     "metadata": {},
     "output_type": "display_data"
    },
    {
     "data": {
      "text/html": [
       "Run data is saved locally in <code>/rds/user/njr61/hpc-work/cem/cem/wandb/run-20230428_115829-e3mbg6dq</code>"
      ],
      "text/plain": [
       "<IPython.core.display.HTML object>"
      ]
     },
     "metadata": {},
     "output_type": "display_data"
    },
    {
     "data": {
      "text/html": [
       "Syncing run <strong><a href='https://wandb.ai/navr414/cbm-with-hierarchy/runs/e3mbg6dq' target=\"_blank\">fe28d5f5</a></strong> to <a href='https://wandb.ai/navr414/cbm-with-hierarchy' target=\"_blank\">Weights & Biases</a> (<a href='https://wandb.me/run' target=\"_blank\">docs</a>)<br/>"
      ],
      "text/plain": [
       "<IPython.core.display.HTML object>"
      ]
     },
     "metadata": {},
     "output_type": "display_data"
    },
    {
     "data": {
      "text/html": [
       " View project at <a href='https://wandb.ai/navr414/cbm-with-hierarchy' target=\"_blank\">https://wandb.ai/navr414/cbm-with-hierarchy</a>"
      ],
      "text/plain": [
       "<IPython.core.display.HTML object>"
      ]
     },
     "metadata": {},
     "output_type": "display_data"
    },
    {
     "data": {
      "text/html": [
       " View run at <a href='https://wandb.ai/navr414/cbm-with-hierarchy/runs/e3mbg6dq' target=\"_blank\">https://wandb.ai/navr414/cbm-with-hierarchy/runs/e3mbg6dq</a>"
      ],
      "text/plain": [
       "<IPython.core.display.HTML object>"
      ]
     },
     "metadata": {},
     "output_type": "display_data"
    },
    {
     "data": {
      "text/html": [
       "Waiting for W&B process to finish... <strong style=\"color:green\">(success).</strong>"
      ],
      "text/plain": [
       "<IPython.core.display.HTML object>"
      ]
     },
     "metadata": {},
     "output_type": "display_data"
    },
    {
     "data": {
      "application/vnd.jupyter.widget-view+json": {
       "model_id": "1782afd3e0da431dbd3a6c0201f83f25",
       "version_major": 2,
       "version_minor": 0
      },
      "text/plain": [
       "VBox(children=(Label(value='0.013 MB of 0.109 MB uploaded (0.000 MB deduped)\\r'), FloatProgress(value=0.122425…"
      ]
     },
     "metadata": {},
     "output_type": "display_data"
    },
    {
     "data": {
      "text/html": [
       "<style>\n",
       "    table.wandb td:nth-child(1) { padding: 0 10px; text-align: left ; width: auto;} td:nth-child(2) {text-align: left ; width: 100%}\n",
       "    .wandb-row { display: flex; flex-direction: row; flex-wrap: wrap; justify-content: flex-start; width: 100% }\n",
       "    .wandb-col { display: flex; flex-direction: column; flex-basis: 100%; flex: 1; padding: 10px; }\n",
       "    </style>\n",
       "<div class=\"wandb-row\"><div class=\"wandb-col\"><h3>Run history:</h3><br/><table class=\"wandb\"><tr><td>loss</td><td>█▆▄▃▂▂▂▂▂▁▂▁▁▁▁▂▂▁▂▁▁▂▁▁▂▁▁▁▁▁▁▁▁▁▁▁▁▁▁▁</td></tr><tr><td>test_acc</td><td>▁</td></tr><tr><td>train_acc</td><td>▁▃▅▆▆▇▇███</td></tr><tr><td>train_loss</td><td>█▅▄▃▃▂▂▁▁▁</td></tr><tr><td>val_acc</td><td>▁▃▅▅▅▇▇▇██</td></tr><tr><td>val_loss</td><td>█▆▄▅▇▃▄▁▂▁</td></tr></table><br/></div><div class=\"wandb-col\"><h3>Run summary:</h3><br/><table class=\"wandb\"><tr><td>loss</td><td>0.1875</td></tr><tr><td>test_acc</td><td>0.67466</td></tr><tr><td>train_acc</td><td>0.93369</td></tr><tr><td>train_loss</td><td>0.19572</td></tr><tr><td>val_acc</td><td>0.6828</td></tr><tr><td>val_loss</td><td>1.67513</td></tr></table><br/></div></div>"
      ],
      "text/plain": [
       "<IPython.core.display.HTML object>"
      ]
     },
     "metadata": {},
     "output_type": "display_data"
    },
    {
     "data": {
      "text/html": [
       " View run <strong style=\"color:#cdcd00\">fe28d5f5</strong> at: <a href='https://wandb.ai/navr414/cbm-with-hierarchy/runs/e3mbg6dq' target=\"_blank\">https://wandb.ai/navr414/cbm-with-hierarchy/runs/e3mbg6dq</a><br/>Synced 5 W&B file(s), 0 media file(s), 0 artifact file(s) and 0 other file(s)"
      ],
      "text/plain": [
       "<IPython.core.display.HTML object>"
      ]
     },
     "metadata": {},
     "output_type": "display_data"
    },
    {
     "data": {
      "text/html": [
       "Find logs at: <code>./wandb/run-20230428_115829-e3mbg6dq/logs</code>"
      ],
      "text/plain": [
       "<IPython.core.display.HTML object>"
      ]
     },
     "metadata": {},
     "output_type": "display_data"
    },
    {
     "name": "stderr",
     "output_type": "stream",
     "text": [
      "/rds/user/njr61/hpc-work/anaconda3/envs/gnn/lib/python3.9/site-packages/torch_geometric/deprecation.py:13: UserWarning: 'data.DataLoader' is deprecated, use 'loader.DataLoader' instead\n",
      "  warnings.warn(out)\n"
     ]
    },
    {
     "data": {
      "text/html": [
       "wandb version 0.15.0 is available!  To upgrade, please run:\n",
       " $ pip install wandb --upgrade"
      ],
      "text/plain": [
       "<IPython.core.display.HTML object>"
      ]
     },
     "metadata": {},
     "output_type": "display_data"
    },
    {
     "data": {
      "text/html": [
       "Tracking run with wandb version 0.14.2"
      ],
      "text/plain": [
       "<IPython.core.display.HTML object>"
      ]
     },
     "metadata": {},
     "output_type": "display_data"
    },
    {
     "data": {
      "text/html": [
       "Run data is saved locally in <code>/rds/user/njr61/hpc-work/cem/cem/wandb/run-20230428_120043-lsrdl2hm</code>"
      ],
      "text/plain": [
       "<IPython.core.display.HTML object>"
      ]
     },
     "metadata": {},
     "output_type": "display_data"
    },
    {
     "data": {
      "text/html": [
       "Syncing run <strong><a href='https://wandb.ai/navr414/cbm-with-hierarchy/runs/lsrdl2hm' target=\"_blank\">77fd613e</a></strong> to <a href='https://wandb.ai/navr414/cbm-with-hierarchy' target=\"_blank\">Weights & Biases</a> (<a href='https://wandb.me/run' target=\"_blank\">docs</a>)<br/>"
      ],
      "text/plain": [
       "<IPython.core.display.HTML object>"
      ]
     },
     "metadata": {},
     "output_type": "display_data"
    },
    {
     "data": {
      "text/html": [
       " View project at <a href='https://wandb.ai/navr414/cbm-with-hierarchy' target=\"_blank\">https://wandb.ai/navr414/cbm-with-hierarchy</a>"
      ],
      "text/plain": [
       "<IPython.core.display.HTML object>"
      ]
     },
     "metadata": {},
     "output_type": "display_data"
    },
    {
     "data": {
      "text/html": [
       " View run at <a href='https://wandb.ai/navr414/cbm-with-hierarchy/runs/lsrdl2hm' target=\"_blank\">https://wandb.ai/navr414/cbm-with-hierarchy/runs/lsrdl2hm</a>"
      ],
      "text/plain": [
       "<IPython.core.display.HTML object>"
      ]
     },
     "metadata": {},
     "output_type": "display_data"
    },
    {
     "data": {
      "text/html": [
       "Waiting for W&B process to finish... <strong style=\"color:green\">(success).</strong>"
      ],
      "text/plain": [
       "<IPython.core.display.HTML object>"
      ]
     },
     "metadata": {},
     "output_type": "display_data"
    },
    {
     "data": {
      "application/vnd.jupyter.widget-view+json": {
       "model_id": "4fbb4bb7b39247ddac1a814973b3a2d4",
       "version_major": 2,
       "version_minor": 0
      },
      "text/plain": [
       "VBox(children=(Label(value='0.013 MB of 0.109 MB uploaded (0.000 MB deduped)\\r'), FloatProgress(value=0.122780…"
      ]
     },
     "metadata": {},
     "output_type": "display_data"
    },
    {
     "data": {
      "text/html": [
       "<style>\n",
       "    table.wandb td:nth-child(1) { padding: 0 10px; text-align: left ; width: auto;} td:nth-child(2) {text-align: left ; width: 100%}\n",
       "    .wandb-row { display: flex; flex-direction: row; flex-wrap: wrap; justify-content: flex-start; width: 100% }\n",
       "    .wandb-col { display: flex; flex-direction: column; flex-basis: 100%; flex: 1; padding: 10px; }\n",
       "    </style>\n",
       "<div class=\"wandb-row\"><div class=\"wandb-col\"><h3>Run history:</h3><br/><table class=\"wandb\"><tr><td>loss</td><td>█▆▃▃▂▂▂▂▁▁▂▂▁▂▂▁▁▂▁▁▁▂▁▁▁▁▁▁▁▁▁▁▁▁▁▁▁▁▁▁</td></tr><tr><td>test_acc</td><td>▁</td></tr><tr><td>train_acc</td><td>▁▃▅▆▆▆▇▇██</td></tr><tr><td>train_loss</td><td>█▆▄▂▂▂▂▁▁▁</td></tr><tr><td>val_acc</td><td>▁▄▆▇▆▇▇███</td></tr><tr><td>val_loss</td><td>█▇▄▄▄▄▂▂▁▁</td></tr></table><br/></div><div class=\"wandb-col\"><h3>Run summary:</h3><br/><table class=\"wandb\"><tr><td>loss</td><td>0.08717</td></tr><tr><td>test_acc</td><td>0.67846</td></tr><tr><td>train_acc</td><td>0.93474</td></tr><tr><td>train_loss</td><td>0.1926</td></tr><tr><td>val_acc</td><td>0.67279</td></tr><tr><td>val_loss</td><td>1.67224</td></tr></table><br/></div></div>"
      ],
      "text/plain": [
       "<IPython.core.display.HTML object>"
      ]
     },
     "metadata": {},
     "output_type": "display_data"
    },
    {
     "data": {
      "text/html": [
       " View run <strong style=\"color:#cdcd00\">77fd613e</strong> at: <a href='https://wandb.ai/navr414/cbm-with-hierarchy/runs/lsrdl2hm' target=\"_blank\">https://wandb.ai/navr414/cbm-with-hierarchy/runs/lsrdl2hm</a><br/>Synced 5 W&B file(s), 0 media file(s), 0 artifact file(s) and 0 other file(s)"
      ],
      "text/plain": [
       "<IPython.core.display.HTML object>"
      ]
     },
     "metadata": {},
     "output_type": "display_data"
    },
    {
     "data": {
      "text/html": [
       "Find logs at: <code>./wandb/run-20230428_120043-lsrdl2hm/logs</code>"
      ],
      "text/plain": [
       "<IPython.core.display.HTML object>"
      ]
     },
     "metadata": {},
     "output_type": "display_data"
    },
    {
     "name": "stderr",
     "output_type": "stream",
     "text": [
      "/rds/user/njr61/hpc-work/anaconda3/envs/gnn/lib/python3.9/site-packages/torch_geometric/deprecation.py:13: UserWarning: 'data.DataLoader' is deprecated, use 'loader.DataLoader' instead\n",
      "  warnings.warn(out)\n"
     ]
    },
    {
     "data": {
      "text/html": [
       "wandb version 0.15.0 is available!  To upgrade, please run:\n",
       " $ pip install wandb --upgrade"
      ],
      "text/plain": [
       "<IPython.core.display.HTML object>"
      ]
     },
     "metadata": {},
     "output_type": "display_data"
    },
    {
     "data": {
      "text/html": [
       "Tracking run with wandb version 0.14.2"
      ],
      "text/plain": [
       "<IPython.core.display.HTML object>"
      ]
     },
     "metadata": {},
     "output_type": "display_data"
    },
    {
     "data": {
      "text/html": [
       "Run data is saved locally in <code>/rds/user/njr61/hpc-work/cem/cem/wandb/run-20230428_120255-5aa2blsp</code>"
      ],
      "text/plain": [
       "<IPython.core.display.HTML object>"
      ]
     },
     "metadata": {},
     "output_type": "display_data"
    },
    {
     "data": {
      "text/html": [
       "Syncing run <strong><a href='https://wandb.ai/navr414/cbm-with-hierarchy/runs/5aa2blsp' target=\"_blank\">adfaed15</a></strong> to <a href='https://wandb.ai/navr414/cbm-with-hierarchy' target=\"_blank\">Weights & Biases</a> (<a href='https://wandb.me/run' target=\"_blank\">docs</a>)<br/>"
      ],
      "text/plain": [
       "<IPython.core.display.HTML object>"
      ]
     },
     "metadata": {},
     "output_type": "display_data"
    },
    {
     "data": {
      "text/html": [
       " View project at <a href='https://wandb.ai/navr414/cbm-with-hierarchy' target=\"_blank\">https://wandb.ai/navr414/cbm-with-hierarchy</a>"
      ],
      "text/plain": [
       "<IPython.core.display.HTML object>"
      ]
     },
     "metadata": {},
     "output_type": "display_data"
    },
    {
     "data": {
      "text/html": [
       " View run at <a href='https://wandb.ai/navr414/cbm-with-hierarchy/runs/5aa2blsp' target=\"_blank\">https://wandb.ai/navr414/cbm-with-hierarchy/runs/5aa2blsp</a>"
      ],
      "text/plain": [
       "<IPython.core.display.HTML object>"
      ]
     },
     "metadata": {},
     "output_type": "display_data"
    },
    {
     "data": {
      "text/html": [
       "Waiting for W&B process to finish... <strong style=\"color:green\">(success).</strong>"
      ],
      "text/plain": [
       "<IPython.core.display.HTML object>"
      ]
     },
     "metadata": {},
     "output_type": "display_data"
    },
    {
     "data": {
      "application/vnd.jupyter.widget-view+json": {
       "model_id": "98f8dc71aa3b4b61933d30bc8c640f19",
       "version_major": 2,
       "version_minor": 0
      },
      "text/plain": [
       "VBox(children=(Label(value='0.013 MB of 0.109 MB uploaded (0.000 MB deduped)\\r'), FloatProgress(value=0.122438…"
      ]
     },
     "metadata": {},
     "output_type": "display_data"
    },
    {
     "data": {
      "text/html": [
       "<style>\n",
       "    table.wandb td:nth-child(1) { padding: 0 10px; text-align: left ; width: auto;} td:nth-child(2) {text-align: left ; width: 100%}\n",
       "    .wandb-row { display: flex; flex-direction: row; flex-wrap: wrap; justify-content: flex-start; width: 100% }\n",
       "    .wandb-col { display: flex; flex-direction: column; flex-basis: 100%; flex: 1; padding: 10px; }\n",
       "    </style>\n",
       "<div class=\"wandb-row\"><div class=\"wandb-col\"><h3>Run history:</h3><br/><table class=\"wandb\"><tr><td>loss</td><td>█▆▄▃▃▂▂▂▁▂▁▂▁▂▂▁▁▁▂▂▁▁▁▂▁▁▁▁▁▁▁▁▁▁▁▁▁▁▁▁</td></tr><tr><td>test_acc</td><td>▁</td></tr><tr><td>train_acc</td><td>▁▄▄▅▆▆▇███</td></tr><tr><td>train_loss</td><td>█▅▄▃▂▂▂▁▁▁</td></tr><tr><td>val_acc</td><td>▁▄▅▆▆▇▇███</td></tr><tr><td>val_loss</td><td>▇▅▇█▅▃▃▁▁▁</td></tr></table><br/></div><div class=\"wandb-col\"><h3>Run summary:</h3><br/><table class=\"wandb\"><tr><td>loss</td><td>0.30615</td></tr><tr><td>test_acc</td><td>0.67639</td></tr><tr><td>train_acc</td><td>0.93641</td></tr><tr><td>train_loss</td><td>0.18978</td></tr><tr><td>val_acc</td><td>0.67279</td></tr><tr><td>val_loss</td><td>1.67215</td></tr></table><br/></div></div>"
      ],
      "text/plain": [
       "<IPython.core.display.HTML object>"
      ]
     },
     "metadata": {},
     "output_type": "display_data"
    },
    {
     "data": {
      "text/html": [
       " View run <strong style=\"color:#cdcd00\">adfaed15</strong> at: <a href='https://wandb.ai/navr414/cbm-with-hierarchy/runs/5aa2blsp' target=\"_blank\">https://wandb.ai/navr414/cbm-with-hierarchy/runs/5aa2blsp</a><br/>Synced 5 W&B file(s), 0 media file(s), 0 artifact file(s) and 0 other file(s)"
      ],
      "text/plain": [
       "<IPython.core.display.HTML object>"
      ]
     },
     "metadata": {},
     "output_type": "display_data"
    },
    {
     "data": {
      "text/html": [
       "Find logs at: <code>./wandb/run-20230428_120255-5aa2blsp/logs</code>"
      ],
      "text/plain": [
       "<IPython.core.display.HTML object>"
      ]
     },
     "metadata": {},
     "output_type": "display_data"
    },
    {
     "name": "stderr",
     "output_type": "stream",
     "text": [
      "/rds/user/njr61/hpc-work/anaconda3/envs/gnn/lib/python3.9/site-packages/torch_geometric/deprecation.py:13: UserWarning: 'data.DataLoader' is deprecated, use 'loader.DataLoader' instead\n",
      "  warnings.warn(out)\n"
     ]
    },
    {
     "data": {
      "text/html": [
       "wandb version 0.15.0 is available!  To upgrade, please run:\n",
       " $ pip install wandb --upgrade"
      ],
      "text/plain": [
       "<IPython.core.display.HTML object>"
      ]
     },
     "metadata": {},
     "output_type": "display_data"
    },
    {
     "data": {
      "text/html": [
       "Tracking run with wandb version 0.14.2"
      ],
      "text/plain": [
       "<IPython.core.display.HTML object>"
      ]
     },
     "metadata": {},
     "output_type": "display_data"
    },
    {
     "data": {
      "text/html": [
       "Run data is saved locally in <code>/rds/user/njr61/hpc-work/cem/cem/wandb/run-20230428_120459-73mn6so1</code>"
      ],
      "text/plain": [
       "<IPython.core.display.HTML object>"
      ]
     },
     "metadata": {},
     "output_type": "display_data"
    },
    {
     "data": {
      "text/html": [
       "Syncing run <strong><a href='https://wandb.ai/navr414/cbm-with-hierarchy/runs/73mn6so1' target=\"_blank\">7b15de6a</a></strong> to <a href='https://wandb.ai/navr414/cbm-with-hierarchy' target=\"_blank\">Weights & Biases</a> (<a href='https://wandb.me/run' target=\"_blank\">docs</a>)<br/>"
      ],
      "text/plain": [
       "<IPython.core.display.HTML object>"
      ]
     },
     "metadata": {},
     "output_type": "display_data"
    },
    {
     "data": {
      "text/html": [
       " View project at <a href='https://wandb.ai/navr414/cbm-with-hierarchy' target=\"_blank\">https://wandb.ai/navr414/cbm-with-hierarchy</a>"
      ],
      "text/plain": [
       "<IPython.core.display.HTML object>"
      ]
     },
     "metadata": {},
     "output_type": "display_data"
    },
    {
     "data": {
      "text/html": [
       " View run at <a href='https://wandb.ai/navr414/cbm-with-hierarchy/runs/73mn6so1' target=\"_blank\">https://wandb.ai/navr414/cbm-with-hierarchy/runs/73mn6so1</a>"
      ],
      "text/plain": [
       "<IPython.core.display.HTML object>"
      ]
     },
     "metadata": {},
     "output_type": "display_data"
    },
    {
     "data": {
      "text/html": [
       "Waiting for W&B process to finish... <strong style=\"color:green\">(success).</strong>"
      ],
      "text/plain": [
       "<IPython.core.display.HTML object>"
      ]
     },
     "metadata": {},
     "output_type": "display_data"
    },
    {
     "data": {
      "application/vnd.jupyter.widget-view+json": {
       "model_id": "b34c063ca84c4441a1cd84ec968c257d",
       "version_major": 2,
       "version_minor": 0
      },
      "text/plain": [
       "VBox(children=(Label(value='0.109 MB of 0.109 MB uploaded (0.000 MB deduped)\\r'), FloatProgress(value=1.0, max…"
      ]
     },
     "metadata": {},
     "output_type": "display_data"
    },
    {
     "data": {
      "text/html": [
       "<style>\n",
       "    table.wandb td:nth-child(1) { padding: 0 10px; text-align: left ; width: auto;} td:nth-child(2) {text-align: left ; width: 100%}\n",
       "    .wandb-row { display: flex; flex-direction: row; flex-wrap: wrap; justify-content: flex-start; width: 100% }\n",
       "    .wandb-col { display: flex; flex-direction: column; flex-basis: 100%; flex: 1; padding: 10px; }\n",
       "    </style>\n",
       "<div class=\"wandb-row\"><div class=\"wandb-col\"><h3>Run history:</h3><br/><table class=\"wandb\"><tr><td>loss</td><td>█▇▄▃▂▂▂▂▂▂▃▂▂▂▁▂▂▂▂▂▁▁▁▁▁▁▂▁▁▁▁▂▁▁▁▁▁▁▁▁</td></tr><tr><td>test_acc</td><td>▁</td></tr><tr><td>train_acc</td><td>▁▄▄▆▆▇▇███</td></tr><tr><td>train_loss</td><td>█▅▅▃▃▂▂▁▁▁</td></tr><tr><td>val_acc</td><td>▁▄▄▆▇▇▆█▇█</td></tr><tr><td>val_loss</td><td>▆▄█▃▄▃▃▂▁▁</td></tr></table><br/></div><div class=\"wandb-col\"><h3>Run summary:</h3><br/><table class=\"wandb\"><tr><td>loss</td><td>0.11048</td></tr><tr><td>test_acc</td><td>0.67708</td></tr><tr><td>train_acc</td><td>0.93766</td></tr><tr><td>train_loss</td><td>0.18983</td></tr><tr><td>val_acc</td><td>0.67696</td></tr><tr><td>val_loss</td><td>1.65493</td></tr></table><br/></div></div>"
      ],
      "text/plain": [
       "<IPython.core.display.HTML object>"
      ]
     },
     "metadata": {},
     "output_type": "display_data"
    },
    {
     "data": {
      "text/html": [
       " View run <strong style=\"color:#cdcd00\">7b15de6a</strong> at: <a href='https://wandb.ai/navr414/cbm-with-hierarchy/runs/73mn6so1' target=\"_blank\">https://wandb.ai/navr414/cbm-with-hierarchy/runs/73mn6so1</a><br/>Synced 5 W&B file(s), 0 media file(s), 0 artifact file(s) and 0 other file(s)"
      ],
      "text/plain": [
       "<IPython.core.display.HTML object>"
      ]
     },
     "metadata": {},
     "output_type": "display_data"
    },
    {
     "data": {
      "text/html": [
       "Find logs at: <code>./wandb/run-20230428_120459-73mn6so1/logs</code>"
      ],
      "text/plain": [
       "<IPython.core.display.HTML object>"
      ]
     },
     "metadata": {},
     "output_type": "display_data"
    },
    {
     "name": "stderr",
     "output_type": "stream",
     "text": [
      "/rds/user/njr61/hpc-work/anaconda3/envs/gnn/lib/python3.9/site-packages/torch_geometric/deprecation.py:13: UserWarning: 'data.DataLoader' is deprecated, use 'loader.DataLoader' instead\n",
      "  warnings.warn(out)\n"
     ]
    },
    {
     "data": {
      "text/html": [
       "wandb version 0.15.0 is available!  To upgrade, please run:\n",
       " $ pip install wandb --upgrade"
      ],
      "text/plain": [
       "<IPython.core.display.HTML object>"
      ]
     },
     "metadata": {},
     "output_type": "display_data"
    },
    {
     "data": {
      "text/html": [
       "Tracking run with wandb version 0.14.2"
      ],
      "text/plain": [
       "<IPython.core.display.HTML object>"
      ]
     },
     "metadata": {},
     "output_type": "display_data"
    },
    {
     "data": {
      "text/html": [
       "Run data is saved locally in <code>/rds/user/njr61/hpc-work/cem/cem/wandb/run-20230428_120721-j3ygqip7</code>"
      ],
      "text/plain": [
       "<IPython.core.display.HTML object>"
      ]
     },
     "metadata": {},
     "output_type": "display_data"
    },
    {
     "data": {
      "text/html": [
       "Syncing run <strong><a href='https://wandb.ai/navr414/cbm-with-hierarchy/runs/j3ygqip7' target=\"_blank\">eb2d2f32</a></strong> to <a href='https://wandb.ai/navr414/cbm-with-hierarchy' target=\"_blank\">Weights & Biases</a> (<a href='https://wandb.me/run' target=\"_blank\">docs</a>)<br/>"
      ],
      "text/plain": [
       "<IPython.core.display.HTML object>"
      ]
     },
     "metadata": {},
     "output_type": "display_data"
    },
    {
     "data": {
      "text/html": [
       " View project at <a href='https://wandb.ai/navr414/cbm-with-hierarchy' target=\"_blank\">https://wandb.ai/navr414/cbm-with-hierarchy</a>"
      ],
      "text/plain": [
       "<IPython.core.display.HTML object>"
      ]
     },
     "metadata": {},
     "output_type": "display_data"
    },
    {
     "data": {
      "text/html": [
       " View run at <a href='https://wandb.ai/navr414/cbm-with-hierarchy/runs/j3ygqip7' target=\"_blank\">https://wandb.ai/navr414/cbm-with-hierarchy/runs/j3ygqip7</a>"
      ],
      "text/plain": [
       "<IPython.core.display.HTML object>"
      ]
     },
     "metadata": {},
     "output_type": "display_data"
    },
    {
     "data": {
      "text/html": [
       "Waiting for W&B process to finish... <strong style=\"color:green\">(success).</strong>"
      ],
      "text/plain": [
       "<IPython.core.display.HTML object>"
      ]
     },
     "metadata": {},
     "output_type": "display_data"
    },
    {
     "data": {
      "application/vnd.jupyter.widget-view+json": {
       "model_id": "539551a8faf4476d81676912624b1511",
       "version_major": 2,
       "version_minor": 0
      },
      "text/plain": [
       "VBox(children=(Label(value='0.013 MB of 0.109 MB uploaded (0.000 MB deduped)\\r'), FloatProgress(value=0.122528…"
      ]
     },
     "metadata": {},
     "output_type": "display_data"
    },
    {
     "data": {
      "text/html": [
       "<style>\n",
       "    table.wandb td:nth-child(1) { padding: 0 10px; text-align: left ; width: auto;} td:nth-child(2) {text-align: left ; width: 100%}\n",
       "    .wandb-row { display: flex; flex-direction: row; flex-wrap: wrap; justify-content: flex-start; width: 100% }\n",
       "    .wandb-col { display: flex; flex-direction: column; flex-basis: 100%; flex: 1; padding: 10px; }\n",
       "    </style>\n",
       "<div class=\"wandb-row\"><div class=\"wandb-col\"><h3>Run history:</h3><br/><table class=\"wandb\"><tr><td>loss</td><td>█▆▄▃▂▂▂▁▂▂▁▁▁▂▂▂▁▁▁▁▁▂▂▁▁▁▁▁▁▁▂▁▁▁▁▁▁▁▁▁</td></tr><tr><td>test_acc</td><td>▁</td></tr><tr><td>train_acc</td><td>▁▄▅▆▆▆▇███</td></tr><tr><td>train_loss</td><td>█▅▄▃▃▂▂▁▁▁</td></tr><tr><td>val_acc</td><td>▁▄▅▅▆▆▇▇██</td></tr><tr><td>val_loss</td><td>█▅▅▇▅▅▄▂▁▂</td></tr></table><br/></div><div class=\"wandb-col\"><h3>Run summary:</h3><br/><table class=\"wandb\"><tr><td>loss</td><td>0.21621</td></tr><tr><td>test_acc</td><td>0.67932</td></tr><tr><td>train_acc</td><td>0.9362</td></tr><tr><td>train_loss</td><td>0.18603</td></tr><tr><td>val_acc</td><td>0.68614</td></tr><tr><td>val_loss</td><td>1.70705</td></tr></table><br/></div></div>"
      ],
      "text/plain": [
       "<IPython.core.display.HTML object>"
      ]
     },
     "metadata": {},
     "output_type": "display_data"
    },
    {
     "data": {
      "text/html": [
       " View run <strong style=\"color:#cdcd00\">eb2d2f32</strong> at: <a href='https://wandb.ai/navr414/cbm-with-hierarchy/runs/j3ygqip7' target=\"_blank\">https://wandb.ai/navr414/cbm-with-hierarchy/runs/j3ygqip7</a><br/>Synced 5 W&B file(s), 0 media file(s), 0 artifact file(s) and 0 other file(s)"
      ],
      "text/plain": [
       "<IPython.core.display.HTML object>"
      ]
     },
     "metadata": {},
     "output_type": "display_data"
    },
    {
     "data": {
      "text/html": [
       "Find logs at: <code>./wandb/run-20230428_120721-j3ygqip7/logs</code>"
      ],
      "text/plain": [
       "<IPython.core.display.HTML object>"
      ]
     },
     "metadata": {},
     "output_type": "display_data"
    },
    {
     "name": "stderr",
     "output_type": "stream",
     "text": [
      "/rds/user/njr61/hpc-work/anaconda3/envs/gnn/lib/python3.9/site-packages/torch_geometric/deprecation.py:13: UserWarning: 'data.DataLoader' is deprecated, use 'loader.DataLoader' instead\n",
      "  warnings.warn(out)\n"
     ]
    },
    {
     "data": {
      "text/html": [
       "wandb version 0.15.0 is available!  To upgrade, please run:\n",
       " $ pip install wandb --upgrade"
      ],
      "text/plain": [
       "<IPython.core.display.HTML object>"
      ]
     },
     "metadata": {},
     "output_type": "display_data"
    },
    {
     "data": {
      "text/html": [
       "Tracking run with wandb version 0.14.2"
      ],
      "text/plain": [
       "<IPython.core.display.HTML object>"
      ]
     },
     "metadata": {},
     "output_type": "display_data"
    },
    {
     "data": {
      "text/html": [
       "Run data is saved locally in <code>/rds/user/njr61/hpc-work/cem/cem/wandb/run-20230428_120939-ef5ubuf0</code>"
      ],
      "text/plain": [
       "<IPython.core.display.HTML object>"
      ]
     },
     "metadata": {},
     "output_type": "display_data"
    },
    {
     "data": {
      "text/html": [
       "Syncing run <strong><a href='https://wandb.ai/navr414/cbm-with-hierarchy/runs/ef5ubuf0' target=\"_blank\">ab80adcb</a></strong> to <a href='https://wandb.ai/navr414/cbm-with-hierarchy' target=\"_blank\">Weights & Biases</a> (<a href='https://wandb.me/run' target=\"_blank\">docs</a>)<br/>"
      ],
      "text/plain": [
       "<IPython.core.display.HTML object>"
      ]
     },
     "metadata": {},
     "output_type": "display_data"
    },
    {
     "data": {
      "text/html": [
       " View project at <a href='https://wandb.ai/navr414/cbm-with-hierarchy' target=\"_blank\">https://wandb.ai/navr414/cbm-with-hierarchy</a>"
      ],
      "text/plain": [
       "<IPython.core.display.HTML object>"
      ]
     },
     "metadata": {},
     "output_type": "display_data"
    },
    {
     "data": {
      "text/html": [
       " View run at <a href='https://wandb.ai/navr414/cbm-with-hierarchy/runs/ef5ubuf0' target=\"_blank\">https://wandb.ai/navr414/cbm-with-hierarchy/runs/ef5ubuf0</a>"
      ],
      "text/plain": [
       "<IPython.core.display.HTML object>"
      ]
     },
     "metadata": {},
     "output_type": "display_data"
    },
    {
     "data": {
      "text/html": [
       "Waiting for W&B process to finish... <strong style=\"color:green\">(success).</strong>"
      ],
      "text/plain": [
       "<IPython.core.display.HTML object>"
      ]
     },
     "metadata": {},
     "output_type": "display_data"
    },
    {
     "data": {
      "application/vnd.jupyter.widget-view+json": {
       "model_id": "b22a7b1fc03d40478829e787a860e78e",
       "version_major": 2,
       "version_minor": 0
      },
      "text/plain": [
       "VBox(children=(Label(value='0.013 MB of 0.109 MB uploaded (0.000 MB deduped)\\r'), FloatProgress(value=0.122833…"
      ]
     },
     "metadata": {},
     "output_type": "display_data"
    },
    {
     "data": {
      "text/html": [
       "<style>\n",
       "    table.wandb td:nth-child(1) { padding: 0 10px; text-align: left ; width: auto;} td:nth-child(2) {text-align: left ; width: 100%}\n",
       "    .wandb-row { display: flex; flex-direction: row; flex-wrap: wrap; justify-content: flex-start; width: 100% }\n",
       "    .wandb-col { display: flex; flex-direction: column; flex-basis: 100%; flex: 1; padding: 10px; }\n",
       "    </style>\n",
       "<div class=\"wandb-row\"><div class=\"wandb-col\"><h3>Run history:</h3><br/><table class=\"wandb\"><tr><td>loss</td><td>█▆▅▄▃▃▂▂▂▂▂▂▂▁▂▂▂▂▁▂▁▁▁▁▂▁▁▁▁▁▁▂▁▁▁▂▂▁▁▁</td></tr><tr><td>test_acc</td><td>▁</td></tr><tr><td>train_acc</td><td>▁▇▇▇██████</td></tr><tr><td>train_loss</td><td>█▂▂▁▁▁▁▁▁▁</td></tr><tr><td>val_acc</td><td>▁▇▇███████</td></tr><tr><td>val_loss</td><td>█▂▁▁▁▁▁▁▁▁</td></tr></table><br/></div><div class=\"wandb-col\"><h3>Run summary:</h3><br/><table class=\"wandb\"><tr><td>loss</td><td>0.3821</td></tr><tr><td>test_acc</td><td>0.66017</td></tr><tr><td>train_acc</td><td>0.92827</td></tr><tr><td>train_loss</td><td>0.22514</td></tr><tr><td>val_acc</td><td>0.6586</td></tr><tr><td>val_loss</td><td>1.62753</td></tr></table><br/></div></div>"
      ],
      "text/plain": [
       "<IPython.core.display.HTML object>"
      ]
     },
     "metadata": {},
     "output_type": "display_data"
    },
    {
     "data": {
      "text/html": [
       " View run <strong style=\"color:#cdcd00\">ab80adcb</strong> at: <a href='https://wandb.ai/navr414/cbm-with-hierarchy/runs/ef5ubuf0' target=\"_blank\">https://wandb.ai/navr414/cbm-with-hierarchy/runs/ef5ubuf0</a><br/>Synced 5 W&B file(s), 0 media file(s), 0 artifact file(s) and 0 other file(s)"
      ],
      "text/plain": [
       "<IPython.core.display.HTML object>"
      ]
     },
     "metadata": {},
     "output_type": "display_data"
    },
    {
     "data": {
      "text/html": [
       "Find logs at: <code>./wandb/run-20230428_120939-ef5ubuf0/logs</code>"
      ],
      "text/plain": [
       "<IPython.core.display.HTML object>"
      ]
     },
     "metadata": {},
     "output_type": "display_data"
    }
   ],
   "source": [
    "for random_seed in [43,44,45]:\n",
    "    for hierarchy_name in ['shapley','cem','labels']:\n",
    "        run_experiment('gnn_basic',hierarchy_name,random_seed,pretrain=True)"
   ]
  },
  {
   "cell_type": "code",
   "execution_count": 90,
   "id": "6176ab3a",
   "metadata": {},
   "outputs": [],
   "source": [
    "model_type = \"gnn\"\n",
    "hyperparameters = {'lr': .01, 'epochs': 200, 'num_layers': 1, 'emb_dim': 4, \n",
    "                       'in_dim': bottleneck_size, 'out_dim': output_classes, \n",
    "                       'edge_dim': 1, 'sim_matrix': sim_matrix, 'attributes': hierarchy.cub_attributes, 'group': cub_groups, \n",
    "                       'indexes': cub_groups_idx} # TODO: Chnage in_dim and emb_dim to 64\n",
    "\n",
    "hyperparameters = update_hyperparameters_graph(model_type,hyperparameters)"
   ]
  },
  {
   "cell_type": "code",
   "execution_count": 73,
   "id": "3c49f075",
   "metadata": {},
   "outputs": [],
   "source": [
    "train = cub_train_sequential\n",
    "val = cub_val_sequential\n",
    "\n",
    "if 'gnn' in model_type:\n",
    "    edge_attr, edge_index, train, val = get_dataset_graph_cub_pretrain(model_type,cub_groups,hierarchy.cub_attributes,sim_matrix\n",
    "                                                             , train, val) # TODO: Turn off use_random"
   ]
  },
  {
   "cell_type": "code",
   "execution_count": 74,
   "id": "d3d3c85e",
   "metadata": {},
   "outputs": [],
   "source": [
    "lr_values = [0,1e-4,5e-4,1e-3,5e-3,1e-2,5e-2,1e-1,5e-1]\n",
    "hyperparameters['epochs'] = 2"
   ]
  },
  {
   "cell_type": "code",
   "execution_count": 29,
   "id": "ebbb5adf",
   "metadata": {},
   "outputs": [
    {
     "name": "stdout",
     "output_type": "stream",
     "text": [
      "Eval 0 (tensor(0.2345), 0.0)\n",
      "Eval 0.0001 (tensor(0.0526), 0.0)\n",
      "Eval 0.0005 (tensor(0.0569), 0.0)\n",
      "Eval 0.001 (tensor(0.0623), 0.0)\n",
      "Eval 0.005 (tensor(0.0551), 0.0)\n",
      "Eval 0.01 (tensor(0.0548), 0.0)\n",
      "Eval 0.05 (tensor(0.0611), 0.0)\n",
      "Eval 0.1 (tensor(0.0603), 0.0)\n"
     ]
    },
    {
     "name": "stderr",
     "output_type": "stream",
     "text": [
      "\n",
      "KeyboardInterrupt\n",
      "\n"
     ]
    }
   ],
   "source": [
    "for lr in lr_values:\n",
    "    hyperparameters['lr'] = lr\n",
    "    model = run_model(model_type, hyperparameters, train, val, pretrain=True, use_wandb=False) # TODO: Change the task back\n",
    "    print(\"Eval {} {}\".format(lr, eval_model(model,model_type,val,pretrain=True))) # TODO: Change this back to pretrain "
   ]
  },
  {
   "cell_type": "code",
   "execution_count": 75,
   "id": "9c430eee",
   "metadata": {},
   "outputs": [],
   "source": [
    "hyperparameters['lr'] = 1e-2\n",
    "hyperparameters['epochs'] = 2"
   ]
  },
  {
   "cell_type": "code",
   "execution_count": 76,
   "id": "749a46ee",
   "metadata": {},
   "outputs": [],
   "source": [
    "pretrain_model = run_model(model_type, hyperparameters, train, val, use_wandb=False, pretrain=True) # TODO: Remove pretraining"
   ]
  },
  {
   "cell_type": "code",
   "execution_count": 84,
   "id": "a9165306",
   "metadata": {},
   "outputs": [],
   "source": [
    "state_dict = pretrain_model.state_dict()\n",
    "new_state_dict = {}\n",
    "\n",
    "for key,value in state_dict.items():\n",
    "    if key.startswith('convs.0'):\n",
    "        new_state_dict[key] = value\n",
    "    elif key.startswith('lin_in'):\n",
    "        new_state_dict[key] = value"
   ]
  },
  {
   "cell_type": "code",
   "execution_count": 91,
   "id": "e3684ad2",
   "metadata": {},
   "outputs": [],
   "source": [
    "train = cub_train_sequential\n",
    "val = cub_val_sequential\n",
    "model_type = 'gnn'\n",
    "\n",
    "if 'gnn' in model_type:\n",
    "    # TODO: Change this back to regular non-pretrained\n",
    "    edge_attr, edge_index, train, val = get_dataset_graph_cub(model_type,cub_groups,hierarchy.cub_attributes,sim_matrix\n",
    "                                                             , train, val) # TODO: Turn off use_random"
   ]
  },
  {
   "cell_type": "code",
   "execution_count": 92,
   "id": "e0143c75",
   "metadata": {},
   "outputs": [],
   "source": [
    "hyperparameters['epochs'] = 2"
   ]
  },
  {
   "cell_type": "code",
   "execution_count": 93,
   "id": "2f7206e1",
   "metadata": {},
   "outputs": [
    {
     "name": "stdout",
     "output_type": "stream",
     "text": [
      "Eval 0 (tensor(5.3456, device='cuda:0'), tensor(0.0017, device='cuda:0'))\n",
      "Eval 0.0001 (tensor(5.3566, device='cuda:0'), tensor(0.0025, device='cuda:0'))\n",
      "Eval 0.0005 (tensor(5.1949, device='cuda:0'), tensor(0.0250, device='cuda:0'))\n",
      "Eval 0.001 (tensor(4.9948, device='cuda:0'), tensor(0.0267, device='cuda:0'))\n",
      "Eval 0.005 (tensor(2.9838, device='cuda:0'), tensor(0.2262, device='cuda:0'))\n",
      "Eval 0.01 (tensor(3.1464, device='cuda:0'), tensor(0.1937, device='cuda:0'))\n",
      "Eval 0.05 (tensor(2.3476, device='cuda:0'), tensor(0.3247, device='cuda:0'))\n",
      "Eval 0.1 (tensor(1.5449, device='cuda:0'), tensor(0.5217, device='cuda:0'))\n",
      "Eval 0.5 (tensor(2.6256, device='cuda:0'), tensor(0.3381, device='cuda:0'))\n"
     ]
    }
   ],
   "source": [
    "for lr in lr_values:\n",
    "    hyperparameters['lr'] = lr\n",
    "    model = run_model(model_type, hyperparameters, train, val, pretrain=False, use_wandb=False) # TODO: Change the task back\n",
    "    print(\"Eval {} {}\".format(lr, eval_model(model,model_type,val,pretrain=False))) # TODO: Change this back to pretrain "
   ]
  },
  {
   "cell_type": "code",
   "execution_count": 94,
   "id": "6cc39312",
   "metadata": {},
   "outputs": [],
   "source": [
    "hyperparameters['lr'] = 0.1\n",
    "hyperparameters['epochs'] = 10"
   ]
  },
  {
   "cell_type": "code",
   "execution_count": null,
   "id": "3865c47c",
   "metadata": {},
   "outputs": [
    {
     "data": {
      "text/html": [
       "Tracking run with wandb version 0.14.2"
      ],
      "text/plain": [
       "<IPython.core.display.HTML object>"
      ]
     },
     "metadata": {},
     "output_type": "display_data"
    },
    {
     "data": {
      "text/html": [
       "Run data is saved locally in <code>/rds/user/njr61/hpc-work/cem/cem/wandb/run-20230419_194744-wlgz3vgo</code>"
      ],
      "text/plain": [
       "<IPython.core.display.HTML object>"
      ]
     },
     "metadata": {},
     "output_type": "display_data"
    },
    {
     "data": {
      "text/html": [
       "Syncing run <strong><a href='https://wandb.ai/navr414/cbm-with-hierarchy/runs/wlgz3vgo' target=\"_blank\">fcf710e9</a></strong> to <a href='https://wandb.ai/navr414/cbm-with-hierarchy' target=\"_blank\">Weights & Biases</a> (<a href='https://wandb.me/run' target=\"_blank\">docs</a>)<br/>"
      ],
      "text/plain": [
       "<IPython.core.display.HTML object>"
      ]
     },
     "metadata": {},
     "output_type": "display_data"
    },
    {
     "data": {
      "text/html": [
       " View project at <a href='https://wandb.ai/navr414/cbm-with-hierarchy' target=\"_blank\">https://wandb.ai/navr414/cbm-with-hierarchy</a>"
      ],
      "text/plain": [
       "<IPython.core.display.HTML object>"
      ]
     },
     "metadata": {},
     "output_type": "display_data"
    },
    {
     "data": {
      "text/html": [
       " View run at <a href='https://wandb.ai/navr414/cbm-with-hierarchy/runs/wlgz3vgo' target=\"_blank\">https://wandb.ai/navr414/cbm-with-hierarchy/runs/wlgz3vgo</a>"
      ],
      "text/plain": [
       "<IPython.core.display.HTML object>"
      ]
     },
     "metadata": {},
     "output_type": "display_data"
    }
   ],
   "source": [
    "final_model = run_model(model_type, hyperparameters, train, val, use_wandb=True, pretrain=False,weights=new_state_dict) "
   ]
  },
  {
   "cell_type": "code",
   "execution_count": 24,
   "id": "cd3022fe",
   "metadata": {},
   "outputs": [
    {
     "data": {
      "text/plain": [
       "(tensor(0.7204), tensor(0.8197))"
      ]
     },
     "execution_count": 24,
     "metadata": {},
     "output_type": "execute_result"
    }
   ],
   "source": [
    "eval_model(final_model,model_type,val)"
   ]
  },
  {
   "cell_type": "code",
   "execution_count": 81,
   "id": "c8f81cce",
   "metadata": {},
   "outputs": [],
   "source": [
    "hyperparameters = {'lr': .01, 'epochs': 200, 'num_layers': 1, 'emb_dim': 64, \n",
    "                       'in_dim': bottleneck_size, 'out_dim': output_classes, \n",
    "                       'edge_dim': 1, 'sim_matrix': sim_matrix, 'attributes': hierarchy.cub_attributes, 'group': cub_groups, \n",
    "                       'indexes': cub_groups_idx} \n",
    "\n",
    "model_type = \"mlp\"\n",
    "hyperparameters = update_hyperparameters_graph(model_type,hyperparameters)"
   ]
  },
  {
   "cell_type": "code",
   "execution_count": 83,
   "id": "ba083804",
   "metadata": {},
   "outputs": [],
   "source": [
    "train_mlp = cub_train_sequential\n",
    "val_mlp = cub_val_sequential"
   ]
  },
  {
   "cell_type": "code",
   "execution_count": 20,
   "id": "bfcd6c60",
   "metadata": {},
   "outputs": [],
   "source": [
    "hyperparameters['lr'] = 0.005\n",
    "hyperparameters['epochs'] = 10"
   ]
  },
  {
   "cell_type": "code",
   "execution_count": 21,
   "id": "5609b26d",
   "metadata": {},
   "outputs": [
    {
     "name": "stderr",
     "output_type": "stream",
     "text": [
      "\u001b[34m\u001b[1mwandb\u001b[0m: Currently logged in as: \u001b[33mnavr414\u001b[0m. Use \u001b[1m`wandb login --relogin`\u001b[0m to force relogin\n"
     ]
    },
    {
     "data": {
      "text/html": [
       "Tracking run with wandb version 0.14.2"
      ],
      "text/plain": [
       "<IPython.core.display.HTML object>"
      ]
     },
     "metadata": {},
     "output_type": "display_data"
    },
    {
     "data": {
      "text/html": [
       "Run data is saved locally in <code>/rds/user/njr61/hpc-work/cem/cem/wandb/run-20230414_165721-2r3f4xi0</code>"
      ],
      "text/plain": [
       "<IPython.core.display.HTML object>"
      ]
     },
     "metadata": {},
     "output_type": "display_data"
    },
    {
     "data": {
      "text/html": [
       "Syncing run <strong><a href='https://wandb.ai/navr414/cbm-with-hierarchy/runs/2r3f4xi0' target=\"_blank\">0e516794</a></strong> to <a href='https://wandb.ai/navr414/cbm-with-hierarchy' target=\"_blank\">Weights & Biases</a> (<a href='https://wandb.me/run' target=\"_blank\">docs</a>)<br/>"
      ],
      "text/plain": [
       "<IPython.core.display.HTML object>"
      ]
     },
     "metadata": {},
     "output_type": "display_data"
    },
    {
     "data": {
      "text/html": [
       " View project at <a href='https://wandb.ai/navr414/cbm-with-hierarchy' target=\"_blank\">https://wandb.ai/navr414/cbm-with-hierarchy</a>"
      ],
      "text/plain": [
       "<IPython.core.display.HTML object>"
      ]
     },
     "metadata": {},
     "output_type": "display_data"
    },
    {
     "data": {
      "text/html": [
       " View run at <a href='https://wandb.ai/navr414/cbm-with-hierarchy/runs/2r3f4xi0' target=\"_blank\">https://wandb.ai/navr414/cbm-with-hierarchy/runs/2r3f4xi0</a>"
      ],
      "text/plain": [
       "<IPython.core.display.HTML object>"
      ]
     },
     "metadata": {},
     "output_type": "display_data"
    },
    {
     "name": "stderr",
     "output_type": "stream",
     "text": [
      "/rds/user/njr61/hpc-work/anaconda3/envs/gnn/lib/python3.9/site-packages/pytorch_lightning/loggers/wandb.py:396: UserWarning: There is a wandb run already in progress and newly created instances of `WandbLogger` will reuse this run. If this is not desired, call `wandb.finish()` before instantiating `WandbLogger`.\n",
      "  rank_zero_warn(\n",
      "\u001b[34m\u001b[1mwandb\u001b[0m: logging graph, to disable use `wandb.watch(log_graph=False)`\n",
      "/rds/user/njr61/hpc-work/anaconda3/envs/gnn/lib/python3.9/site-packages/pytorch_lightning/trainer/connectors/accelerator_connector.py:441: LightningDeprecationWarning: Setting `Trainer(gpus=0)` is deprecated in v1.7 and will be removed in v2.0. Please use `Trainer(accelerator='gpu', devices=0)` instead.\n",
      "  rank_zero_deprecation(\n",
      "/rds/user/njr61/hpc-work/anaconda3/envs/gnn/lib/python3.9/site-packages/lightning_lite/plugins/environments/slurm.py:167: PossibleUserWarning: The `srun` command is available on your system but is not used. HINT: If your intention is to run Lightning on SLURM, prepend your python command with `srun` like so: srun python /rds/user/njr61/hpc-work/anaconda3/envs/gnn/lib/pyth ...\n",
      "  rank_zero_warn(\n",
      "/rds/user/njr61/hpc-work/anaconda3/envs/gnn/lib/python3.9/site-packages/lightning_lite/accelerators/cuda.py:159: UserWarning: Can't initialize NVML\n",
      "  warnings.warn(\"Can't initialize NVML\")\n",
      "GPU available: False, used: False\n",
      "TPU available: False, using: 0 TPU cores\n",
      "IPU available: False, using: 0 IPUs\n",
      "HPU available: False, using: 0 HPUs\n",
      "\n",
      "  | Name    | Type       | Params\n",
      "---------------------------------------\n",
      "0 | relu    | ReLU       | 0     \n",
      "1 | softmax | Softmax    | 0     \n",
      "2 | sigmoid | Sigmoid    | 0     \n",
      "3 | fc      | Sequential | 20.2 K\n",
      "---------------------------------------\n",
      "20.2 K    Trainable params\n",
      "0         Non-trainable params\n",
      "20.2 K    Total params\n",
      "0.081     Total estimated model params size (MB)\n",
      "/rds/user/njr61/hpc-work/anaconda3/envs/gnn/lib/python3.9/site-packages/pytorch_lightning/trainer/connectors/data_connector.py:224: PossibleUserWarning: The dataloader, val_dataloader 0, does not have many workers which may be a bottleneck. Consider increasing the value of the `num_workers` argument` (try 32 which is the number of cpus on this machine) in the `DataLoader` init to improve performance.\n",
      "  rank_zero_warn(\n",
      "/rds/user/njr61/hpc-work/anaconda3/envs/gnn/lib/python3.9/site-packages/pytorch_lightning/trainer/connectors/data_connector.py:224: PossibleUserWarning: The dataloader, train_dataloader, does not have many workers which may be a bottleneck. Consider increasing the value of the `num_workers` argument` (try 32 which is the number of cpus on this machine) in the `DataLoader` init to improve performance.\n",
      "  rank_zero_warn(\n",
      "`Trainer.fit` stopped: `max_epochs=50` reached.\n"
     ]
    },
    {
     "data": {
      "text/html": [
       "Waiting for W&B process to finish... <strong style=\"color:green\">(success).</strong>"
      ],
      "text/plain": [
       "<IPython.core.display.HTML object>"
      ]
     },
     "metadata": {},
     "output_type": "display_data"
    },
    {
     "data": {
      "application/vnd.jupyter.widget-view+json": {
       "model_id": "231e7157e5fd4f398f3f915aca442c9f",
       "version_major": 2,
       "version_minor": 0
      },
      "text/plain": [
       "VBox(children=(Label(value='0.004 MB of 0.004 MB uploaded (0.000 MB deduped)\\r'), FloatProgress(value=1.0, max…"
      ]
     },
     "metadata": {},
     "output_type": "display_data"
    },
    {
     "data": {
      "text/html": [
       "<style>\n",
       "    table.wandb td:nth-child(1) { padding: 0 10px; text-align: left ; width: auto;} td:nth-child(2) {text-align: left ; width: 100%}\n",
       "    .wandb-row { display: flex; flex-direction: row; flex-wrap: wrap; justify-content: flex-start; width: 100% }\n",
       "    .wandb-col { display: flex; flex-direction: column; flex-basis: 100%; flex: 1; padding: 10px; }\n",
       "    </style>\n",
       "<div class=\"wandb-row\"><div class=\"wandb-col\"><h3>Run history:</h3><br/><table class=\"wandb\"><tr><td>epoch</td><td>▁▁▁▁▂▂▂▂▂▃▃▃▃▃▃▄▄▄▄▄▅▅▅▅▅▅▆▆▆▆▆▇▇▇▇▇▇███</td></tr><tr><td>loss</td><td>▂▁▂▁▁▁▂▁▁▁▁▁▁▁▁█▁▁▅█▁▁▆▅▁▁▇▄▄▁▂▄▁▁▆▃▁▁▁▁</td></tr><tr><td>train_acc</td><td>▁▇▇▇▇▇██████████████████████████████████</td></tr><tr><td>train_loss</td><td>█▂▂▂▁▁▁▁▁▁▁▁▁▁▁▁▁▁▁▁▁▁▁▁▁▁▁▁▁▁▁▁▁▁▁▁▁▁▁▁</td></tr><tr><td>trainer/global_step</td><td>▁▁▁▁▂▂▂▂▂▃▃▃▃▃▃▄▄▄▄▄▅▅▅▅▅▅▆▆▆▆▆▇▇▇▇▇▇███</td></tr><tr><td>val_acc</td><td>▁▂▄▅▆▆▆▆▆▇▇▇████████████████████████████</td></tr><tr><td>val_loss</td><td>██▆▅▃▂▂▂▂▁▁▁▁▁▁▁▁▁▁▁▁▁▁▁▁▁▁▁▁▁▁▁▁▁▁▁▁▁▁▁</td></tr></table><br/></div><div class=\"wandb-col\"><h3>Run summary:</h3><br/><table class=\"wandb\"><tr><td>epoch</td><td>49</td></tr><tr><td>loss</td><td>0.00095</td></tr><tr><td>train_acc</td><td>0.98673</td></tr><tr><td>train_loss</td><td>0.03914</td></tr><tr><td>trainer/global_step</td><td>22499</td></tr><tr><td>val_acc</td><td>0.90818</td></tr><tr><td>val_loss</td><td>0.31324</td></tr></table><br/></div></div>"
      ],
      "text/plain": [
       "<IPython.core.display.HTML object>"
      ]
     },
     "metadata": {},
     "output_type": "display_data"
    },
    {
     "data": {
      "text/html": [
       " View run <strong style=\"color:#cdcd00\">0e516794</strong> at: <a href='https://wandb.ai/navr414/cbm-with-hierarchy/runs/2r3f4xi0' target=\"_blank\">https://wandb.ai/navr414/cbm-with-hierarchy/runs/2r3f4xi0</a><br/>Synced 6 W&B file(s), 0 media file(s), 0 artifact file(s) and 0 other file(s)"
      ],
      "text/plain": [
       "<IPython.core.display.HTML object>"
      ]
     },
     "metadata": {},
     "output_type": "display_data"
    },
    {
     "data": {
      "text/html": [
       "Find logs at: <code>./wandb/run-20230414_165721-2r3f4xi0/logs</code>"
      ],
      "text/plain": [
       "<IPython.core.display.HTML object>"
      ]
     },
     "metadata": {},
     "output_type": "display_data"
    }
   ],
   "source": [
    "final_model_mlp = run_model(model_type, hyperparameters, train_mlp, val_mlp, use_wandb=True, pretrain=False) "
   ]
  },
  {
   "cell_type": "code",
   "execution_count": 22,
   "id": "2bb5d1ca",
   "metadata": {},
   "outputs": [
    {
     "data": {
      "text/plain": [
       "0.908180296421051"
      ]
     },
     "execution_count": 22,
     "metadata": {},
     "output_type": "execute_result"
    }
   ],
   "source": [
    "eval_model(final_model_mlp,model_type,val_mlp)"
   ]
  },
  {
   "cell_type": "markdown",
   "id": "9c8d91a0",
   "metadata": {},
   "source": [
    "## 3-SAT Dataset"
   ]
  },
  {
   "cell_type": "code",
   "execution_count": 74,
   "id": "6be8acb4",
   "metadata": {},
   "outputs": [],
   "source": [
    "num_variables = bottleneck_size = 30\n",
    "sat_train, sat_val, clauses = create_3_sat_dataset(num_variables,5000,100)\n",
    "output_classes = 2"
   ]
  },
  {
   "cell_type": "code",
   "execution_count": 75,
   "id": "06095812",
   "metadata": {},
   "outputs": [],
   "source": [
    "hyperparameters = {'lr': .01, 'epochs': 200, 'num_layers': 1, 'emb_dim': 64, \n",
    "                       'in_dim': len(clauses)*len(clauses[0]), 'out_dim': output_classes, \n",
    "                       'edge_dim': 1,'clauses': clauses}\n",
    "model_type = \"mlp_group\"\n",
    "\n",
    "if 'gnn' in model_type:\n",
    "    sat_edge_attr, sat_edge_index, sat_train_graph, sat_val_graph = get_dataset_graph(\n",
    "        model_type, clauses, sat_train, sat_val)\n",
    "    train = sat_train_graph\n",
    "    val = sat_val_graph\n",
    "else:\n",
    "    train = sat_train\n",
    "    val = sat_val\n",
    "\n",
    "if 'mlp' in model_type:\n",
    "    hyperparameters['in_dim'] = num_variables\n",
    "\n",
    "hyperparameters = update_hyperparameters_graph(model_type,hyperparameters)"
   ]
  },
  {
   "cell_type": "code",
   "execution_count": 76,
   "id": "9d7a52a8",
   "metadata": {},
   "outputs": [],
   "source": [
    "hyperparameters['epochs'] = 10"
   ]
  },
  {
   "cell_type": "code",
   "execution_count": 77,
   "id": "6ba9b7ae",
   "metadata": {},
   "outputs": [],
   "source": [
    "lr_values = [1e-4,5e-4,1e-3,5e-3,1e-2,5e-2,1e-1]"
   ]
  },
  {
   "cell_type": "code",
   "execution_count": 78,
   "id": "1a730abe",
   "metadata": {},
   "outputs": [
    {
     "name": "stderr",
     "output_type": "stream",
     "text": [
      "GPU available: False, used: False\n",
      "TPU available: False, using: 0 TPU cores\n",
      "IPU available: False, using: 0 IPUs\n",
      "HPU available: False, using: 0 HPUs\n",
      "\n",
      "  | Name    | Type       | Params\n",
      "---------------------------------------\n",
      "0 | relu    | ReLU       | 0     \n",
      "1 | softmax | Softmax    | 0     \n",
      "2 | sigmoid | Sigmoid    | 0     \n",
      "3 | fc      | Sequential | 1.3 K \n",
      "---------------------------------------\n",
      "1.3 K     Trainable params\n",
      "0         Non-trainable params\n",
      "1.3 K     Total params\n",
      "0.005     Total estimated model params size (MB)\n",
      "`Trainer.fit` stopped: `max_epochs=10` reached.\n",
      "GPU available: False, used: False\n",
      "TPU available: False, using: 0 TPU cores\n",
      "IPU available: False, using: 0 IPUs\n",
      "HPU available: False, using: 0 HPUs\n",
      "\n",
      "  | Name    | Type       | Params\n",
      "---------------------------------------\n",
      "0 | relu    | ReLU       | 0     \n",
      "1 | softmax | Softmax    | 0     \n",
      "2 | sigmoid | Sigmoid    | 0     \n",
      "3 | fc      | Sequential | 1.3 K \n",
      "---------------------------------------\n",
      "1.3 K     Trainable params\n",
      "0         Non-trainable params\n",
      "1.3 K     Total params\n",
      "0.005     Total estimated model params size (MB)\n"
     ]
    },
    {
     "name": "stdout",
     "output_type": "stream",
     "text": [
      "Eval 0.0001 0.7300000190734863\n"
     ]
    },
    {
     "name": "stderr",
     "output_type": "stream",
     "text": [
      "`Trainer.fit` stopped: `max_epochs=10` reached.\n",
      "GPU available: False, used: False\n",
      "TPU available: False, using: 0 TPU cores\n",
      "IPU available: False, using: 0 IPUs\n",
      "HPU available: False, using: 0 HPUs\n",
      "\n",
      "  | Name    | Type       | Params\n",
      "---------------------------------------\n",
      "0 | relu    | ReLU       | 0     \n",
      "1 | softmax | Softmax    | 0     \n",
      "2 | sigmoid | Sigmoid    | 0     \n",
      "3 | fc      | Sequential | 1.3 K \n",
      "---------------------------------------\n",
      "1.3 K     Trainable params\n",
      "0         Non-trainable params\n",
      "1.3 K     Total params\n",
      "0.005     Total estimated model params size (MB)\n"
     ]
    },
    {
     "name": "stdout",
     "output_type": "stream",
     "text": [
      "Eval 0.0005 0.7300000190734863\n"
     ]
    },
    {
     "name": "stderr",
     "output_type": "stream",
     "text": [
      "`Trainer.fit` stopped: `max_epochs=10` reached.\n",
      "GPU available: False, used: False\n",
      "TPU available: False, using: 0 TPU cores\n",
      "IPU available: False, using: 0 IPUs\n",
      "HPU available: False, using: 0 HPUs\n",
      "\n",
      "  | Name    | Type       | Params\n",
      "---------------------------------------\n",
      "0 | relu    | ReLU       | 0     \n",
      "1 | softmax | Softmax    | 0     \n",
      "2 | sigmoid | Sigmoid    | 0     \n",
      "3 | fc      | Sequential | 1.3 K \n",
      "---------------------------------------\n",
      "1.3 K     Trainable params\n",
      "0         Non-trainable params\n",
      "1.3 K     Total params\n",
      "0.005     Total estimated model params size (MB)\n"
     ]
    },
    {
     "name": "stdout",
     "output_type": "stream",
     "text": [
      "Eval 0.001 0.7300000190734863\n"
     ]
    },
    {
     "name": "stderr",
     "output_type": "stream",
     "text": [
      "`Trainer.fit` stopped: `max_epochs=10` reached.\n",
      "GPU available: False, used: False\n",
      "TPU available: False, using: 0 TPU cores\n",
      "IPU available: False, using: 0 IPUs\n",
      "HPU available: False, using: 0 HPUs\n",
      "\n",
      "  | Name    | Type       | Params\n",
      "---------------------------------------\n",
      "0 | relu    | ReLU       | 0     \n",
      "1 | softmax | Softmax    | 0     \n",
      "2 | sigmoid | Sigmoid    | 0     \n",
      "3 | fc      | Sequential | 1.3 K \n",
      "---------------------------------------\n",
      "1.3 K     Trainable params\n",
      "0         Non-trainable params\n",
      "1.3 K     Total params\n",
      "0.005     Total estimated model params size (MB)\n"
     ]
    },
    {
     "name": "stdout",
     "output_type": "stream",
     "text": [
      "Eval 0.005 0.7200000286102295\n"
     ]
    },
    {
     "name": "stderr",
     "output_type": "stream",
     "text": [
      "`Trainer.fit` stopped: `max_epochs=10` reached.\n",
      "GPU available: False, used: False\n",
      "TPU available: False, using: 0 TPU cores\n",
      "IPU available: False, using: 0 IPUs\n",
      "HPU available: False, using: 0 HPUs\n",
      "\n",
      "  | Name    | Type       | Params\n",
      "---------------------------------------\n",
      "0 | relu    | ReLU       | 0     \n",
      "1 | softmax | Softmax    | 0     \n",
      "2 | sigmoid | Sigmoid    | 0     \n",
      "3 | fc      | Sequential | 1.3 K \n",
      "---------------------------------------\n",
      "1.3 K     Trainable params\n",
      "0         Non-trainable params\n",
      "1.3 K     Total params\n",
      "0.005     Total estimated model params size (MB)\n"
     ]
    },
    {
     "name": "stdout",
     "output_type": "stream",
     "text": [
      "Eval 0.01 0.6600000262260437\n"
     ]
    },
    {
     "name": "stderr",
     "output_type": "stream",
     "text": [
      "`Trainer.fit` stopped: `max_epochs=10` reached.\n",
      "GPU available: False, used: False\n",
      "TPU available: False, using: 0 TPU cores\n",
      "IPU available: False, using: 0 IPUs\n",
      "HPU available: False, using: 0 HPUs\n",
      "\n",
      "  | Name    | Type       | Params\n",
      "---------------------------------------\n",
      "0 | relu    | ReLU       | 0     \n",
      "1 | softmax | Softmax    | 0     \n",
      "2 | sigmoid | Sigmoid    | 0     \n",
      "3 | fc      | Sequential | 1.3 K \n",
      "---------------------------------------\n",
      "1.3 K     Trainable params\n",
      "0         Non-trainable params\n",
      "1.3 K     Total params\n",
      "0.005     Total estimated model params size (MB)\n"
     ]
    },
    {
     "name": "stdout",
     "output_type": "stream",
     "text": [
      "Eval 0.05 0.7200000286102295\n"
     ]
    },
    {
     "name": "stderr",
     "output_type": "stream",
     "text": [
      "`Trainer.fit` stopped: `max_epochs=10` reached.\n"
     ]
    },
    {
     "name": "stdout",
     "output_type": "stream",
     "text": [
      "Eval 0.1 0.6800000071525574\n"
     ]
    }
   ],
   "source": [
    "for lr in lr_values:\n",
    "    hyperparameters['lr'] = lr\n",
    "    model = run_model(model_type, hyperparameters, train, val, use_wandb=False)\n",
    "    print(\"Eval {} {}\".format(lr, eval_model(model,model_type,val)))"
   ]
  },
  {
   "cell_type": "code",
   "execution_count": 73,
   "id": "c36956ea",
   "metadata": {
    "scrolled": true
   },
   "outputs": [
    {
     "data": {
      "text/html": [
       "Tracking run with wandb version 0.14.2"
      ],
      "text/plain": [
       "<IPython.core.display.HTML object>"
      ]
     },
     "metadata": {},
     "output_type": "display_data"
    },
    {
     "data": {
      "text/html": [
       "Run data is saved locally in <code>/rds/user/njr61/hpc-work/cem/cem/wandb/run-20230411_102931-y5in4kkh</code>"
      ],
      "text/plain": [
       "<IPython.core.display.HTML object>"
      ]
     },
     "metadata": {},
     "output_type": "display_data"
    },
    {
     "data": {
      "text/html": [
       "Syncing run <strong><a href='https://wandb.ai/navr414/cbm-with-hierarchy/runs/y5in4kkh' target=\"_blank\">6af5bdaf</a></strong> to <a href='https://wandb.ai/navr414/cbm-with-hierarchy' target=\"_blank\">Weights & Biases</a> (<a href='https://wandb.me/run' target=\"_blank\">docs</a>)<br/>"
      ],
      "text/plain": [
       "<IPython.core.display.HTML object>"
      ]
     },
     "metadata": {},
     "output_type": "display_data"
    },
    {
     "data": {
      "text/html": [
       " View project at <a href='https://wandb.ai/navr414/cbm-with-hierarchy' target=\"_blank\">https://wandb.ai/navr414/cbm-with-hierarchy</a>"
      ],
      "text/plain": [
       "<IPython.core.display.HTML object>"
      ]
     },
     "metadata": {},
     "output_type": "display_data"
    },
    {
     "data": {
      "text/html": [
       " View run at <a href='https://wandb.ai/navr414/cbm-with-hierarchy/runs/y5in4kkh' target=\"_blank\">https://wandb.ai/navr414/cbm-with-hierarchy/runs/y5in4kkh</a>"
      ],
      "text/plain": [
       "<IPython.core.display.HTML object>"
      ]
     },
     "metadata": {},
     "output_type": "display_data"
    },
    {
     "name": "stderr",
     "output_type": "stream",
     "text": [
      "/rds/user/njr61/hpc-work/anaconda3/envs/gnn/lib/python3.9/site-packages/pytorch_lightning/loggers/wandb.py:396: UserWarning: There is a wandb run already in progress and newly created instances of `WandbLogger` will reuse this run. If this is not desired, call `wandb.finish()` before instantiating `WandbLogger`.\n",
      "  rank_zero_warn(\n",
      "\u001b[34m\u001b[1mwandb\u001b[0m: logging graph, to disable use `wandb.watch(log_graph=False)`\n",
      "/rds/user/njr61/hpc-work/anaconda3/envs/gnn/lib/python3.9/site-packages/pytorch_lightning/trainer/connectors/accelerator_connector.py:441: LightningDeprecationWarning: Setting `Trainer(gpus=0)` is deprecated in v1.7 and will be removed in v2.0. Please use `Trainer(accelerator='gpu', devices=0)` instead.\n",
      "  rank_zero_deprecation(\n",
      "/rds/user/njr61/hpc-work/anaconda3/envs/gnn/lib/python3.9/site-packages/lightning_lite/plugins/environments/slurm.py:167: PossibleUserWarning: The `srun` command is available on your system but is not used. HINT: If your intention is to run Lightning on SLURM, prepend your python command with `srun` like so: srun python /rds/user/njr61/hpc-work/anaconda3/envs/gnn/lib/pyth ...\n",
      "  rank_zero_warn(\n",
      "GPU available: False, used: False\n",
      "TPU available: False, using: 0 TPU cores\n",
      "IPU available: False, using: 0 IPUs\n",
      "HPU available: False, using: 0 HPUs\n",
      "\n",
      "  | Name    | Type       | Params\n",
      "---------------------------------------\n",
      "0 | relu    | ReLU       | 0     \n",
      "1 | softmax | Softmax    | 0     \n",
      "2 | sigmoid | Sigmoid    | 0     \n",
      "3 | fc      | Sequential | 1.3 K \n",
      "---------------------------------------\n",
      "1.3 K     Trainable params\n",
      "0         Non-trainable params\n",
      "1.3 K     Total params\n",
      "0.005     Total estimated model params size (MB)\n",
      "/rds/user/njr61/hpc-work/anaconda3/envs/gnn/lib/python3.9/site-packages/pytorch_lightning/trainer/connectors/data_connector.py:224: PossibleUserWarning: The dataloader, val_dataloader 0, does not have many workers which may be a bottleneck. Consider increasing the value of the `num_workers` argument` (try 76 which is the number of cpus on this machine) in the `DataLoader` init to improve performance.\n",
      "  rank_zero_warn(\n",
      "/rds/user/njr61/hpc-work/anaconda3/envs/gnn/lib/python3.9/site-packages/pytorch_lightning/trainer/connectors/data_connector.py:224: PossibleUserWarning: The dataloader, train_dataloader, does not have many workers which may be a bottleneck. Consider increasing the value of the `num_workers` argument` (try 76 which is the number of cpus on this machine) in the `DataLoader` init to improve performance.\n",
      "  rank_zero_warn(\n",
      "/rds/user/njr61/hpc-work/anaconda3/envs/gnn/lib/python3.9/site-packages/pytorch_lightning/trainer/trainer.py:1595: PossibleUserWarning: The number of training batches (16) is smaller than the logging interval Trainer(log_every_n_steps=32). Set a lower value for log_every_n_steps if you want to see logs for the training epoch.\n",
      "  rank_zero_warn(\n",
      "`Trainer.fit` stopped: `max_epochs=50` reached.\n"
     ]
    },
    {
     "data": {
      "text/html": [
       "Waiting for W&B process to finish... <strong style=\"color:green\">(success).</strong>"
      ],
      "text/plain": [
       "<IPython.core.display.HTML object>"
      ]
     },
     "metadata": {},
     "output_type": "display_data"
    },
    {
     "data": {
      "text/html": [
       "<style>\n",
       "    table.wandb td:nth-child(1) { padding: 0 10px; text-align: left ; width: auto;} td:nth-child(2) {text-align: left ; width: 100%}\n",
       "    .wandb-row { display: flex; flex-direction: row; flex-wrap: wrap; justify-content: flex-start; width: 100% }\n",
       "    .wandb-col { display: flex; flex-direction: column; flex-basis: 100%; flex: 1; padding: 10px; }\n",
       "    </style>\n",
       "<div class=\"wandb-row\"><div class=\"wandb-col\"><h3>Run history:</h3><br/><table class=\"wandb\"><tr><td>epoch</td><td>▁▁▁▁▂▂▂▂▂▃▃▃▃▃▃▄▄▄▄▄▅▅▅▅▅▅▆▆▆▆▆▇▇▇▇▇▇███</td></tr><tr><td>loss</td><td>▅▄▂▂▂▂▂▆█▂▃▄▃▂▂▃▁▂▃▂▂▂▂▁▂▁▁▂▂▂▂▂▂▂▂▁▁▁▁▁</td></tr><tr><td>train_acc</td><td>▁▃▄▃▄▄▄▃▂▂▂▃▄▄▅▆▆▇▇▇████████████████████</td></tr><tr><td>train_loss</td><td>▇▅▅▄▄▄▅▅██▇▆▄▃▃▃▂▂▂▂▂▂▂▁▁▁▁▁▁▁▁▁▁▁▁▁▁▁▁▁</td></tr><tr><td>trainer/global_step</td><td>▁▁▁▁▂▂▂▂▂▃▃▃▃▃▃▄▄▄▄▄▅▅▅▅▅▅▆▆▆▆▆▇▇▇▇▇▇███</td></tr><tr><td>val_acc</td><td>████████▆▄▃▂▂▃▃▂▃▃▃▄▄▃▃▃▃▄▄▄▄▅▄▄▃▁▂▁▂▂▂▂</td></tr><tr><td>val_loss</td><td>▁▁▂▃▅▆▇█▃▂▃▃▃▃▃▃▃▃▃▄▄▄▄▄▄▄▄▅▅▅▅▅▅▅▆▆▆▆▆▇</td></tr></table><br/></div><div class=\"wandb-col\"><h3>Run summary:</h3><br/><table class=\"wandb\"><tr><td>epoch</td><td>49</td></tr><tr><td>loss</td><td>0.18527</td></tr><tr><td>train_acc</td><td>0.922</td></tr><tr><td>train_loss</td><td>0.22591</td></tr><tr><td>trainer/global_step</td><td>799</td></tr><tr><td>val_acc</td><td>0.53</td></tr><tr><td>val_loss</td><td>1.39342</td></tr></table><br/></div></div>"
      ],
      "text/plain": [
       "<IPython.core.display.HTML object>"
      ]
     },
     "metadata": {},
     "output_type": "display_data"
    },
    {
     "data": {
      "text/html": [
       " View run <strong style=\"color:#cdcd00\">6af5bdaf</strong> at: <a href='https://wandb.ai/navr414/cbm-with-hierarchy/runs/y5in4kkh' target=\"_blank\">https://wandb.ai/navr414/cbm-with-hierarchy/runs/y5in4kkh</a><br/>Synced 6 W&B file(s), 0 media file(s), 0 artifact file(s) and 0 other file(s)"
      ],
      "text/plain": [
       "<IPython.core.display.HTML object>"
      ]
     },
     "metadata": {},
     "output_type": "display_data"
    },
    {
     "data": {
      "text/html": [
       "Find logs at: <code>./wandb/run-20230411_102931-y5in4kkh/logs</code>"
      ],
      "text/plain": [
       "<IPython.core.display.HTML object>"
      ]
     },
     "metadata": {},
     "output_type": "display_data"
    }
   ],
   "source": [
    "hyperparameters['lr'] = 0.01\n",
    "hyperparameters['epochs'] = 50\n",
    "model = run_model(model_type, hyperparameters, train, val, use_wandb=True)"
   ]
  }
 ],
 "metadata": {
  "kernelspec": {
   "display_name": "Python 3 (ipykernel)",
   "language": "python",
   "name": "python3"
  },
  "language_info": {
   "codemirror_mode": {
    "name": "ipython",
    "version": 3
   },
   "file_extension": ".py",
   "mimetype": "text/x-python",
   "name": "python",
   "nbconvert_exporter": "python",
   "pygments_lexer": "ipython3",
   "version": "3.9.16"
  }
 },
 "nbformat": 4,
 "nbformat_minor": 5
}
