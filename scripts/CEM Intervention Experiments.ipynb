{
 "cells": [
  {
   "cell_type": "code",
   "execution_count": 1,
   "id": "4d4081a6",
   "metadata": {},
   "outputs": [],
   "source": [
    "%load_ext autoreload\n",
    "%autoreload 2\n",
    "%matplotlib notebook"
   ]
  },
  {
   "cell_type": "code",
   "execution_count": 2,
   "id": "0d62798d",
   "metadata": {},
   "outputs": [],
   "source": [
    "import torch\n",
    "from experiments import intervention_utils\n",
    "import os\n",
    "from cem.data.CUB200.cub_loader import load_data, find_class_imbalance\n",
    "from torchvision.models import resnet50\n",
    "from cem.models.cem import ConceptEmbeddingModel\n",
    "import pytorch_lightning as pl\n",
    "import numpy as np\n",
    "import cem.train.training as cem_train\n",
    "import re\n",
    "import random"
   ]
  },
  {
   "cell_type": "code",
   "execution_count": 12,
   "id": "9e4f51c6",
   "metadata": {},
   "outputs": [],
   "source": [
    "CUB_DIR = 'CUB/'\n",
    "BASE_DIR = os.path.join(CUB_DIR, 'images/CUB_200_2011/images')\n",
    "num_workers=8\n",
    "n_tasks = 200\n",
    "n_concepts = 112\n",
    "gpu = 0\n",
    "sample_train = 0.1\n",
    "concept_group_map = intervention_utils.CUB_CONCEPT_GROUP_MAP"
   ]
  },
  {
   "cell_type": "code",
   "execution_count": 4,
   "id": "b8de837c",
   "metadata": {},
   "outputs": [],
   "source": [
    "og_config = dict(\n",
    "        cv=5,\n",
    "        max_epochs=300,\n",
    "        patience=15,\n",
    "        batch_size=128,\n",
    "        num_workers=num_workers,\n",
    "        emb_size=16,\n",
    "        extra_dims=0,\n",
    "        concept_loss_weight=5,\n",
    "        normalize_loss=False,\n",
    "        learning_rate=0.01,\n",
    "        weight_decay=4e-05,\n",
    "        weight_loss=True,\n",
    "        pretrain_model=True,\n",
    "        c_extractor_arch=\"resnet50\",\n",
    "        optimizer=\"sgd\",\n",
    "        bool=False,\n",
    "        early_stopping_monitor=\"val_loss\",\n",
    "        early_stopping_mode=\"min\",\n",
    "        early_stopping_delta=0.0,\n",
    "        sampling_percent=1,\n",
    "        architecture=\"ConceptEmbeddingModel\",\n",
    "        momentum=0.9,\n",
    "        shared_prob_gen=True,\n",
    "        sigmoidal_prob=False,\n",
    "        sigmoidal_embedding=False,\n",
    "        training_intervention_prob=0.0,\n",
    "        embeding_activation=None,\n",
    "        concat_prob=False,\n",
    "    )"
   ]
  },
  {
   "cell_type": "code",
   "execution_count": 5,
   "id": "cc355b75",
   "metadata": {},
   "outputs": [],
   "source": [
    "train_data_path = os.path.join(CUB_DIR, 'preprocessed/train.pkl')\n",
    "if og_config['weight_loss']:\n",
    "    imbalance = find_class_imbalance(train_data_path, True)\n",
    "else:\n",
    "    imbalance = None\n",
    "\n",
    "val_data_path = train_data_path.replace('train.pkl', 'val.pkl')\n",
    "test_data_path = train_data_path.replace('train.pkl', 'test.pkl')"
   ]
  },
  {
   "cell_type": "code",
   "execution_count": 6,
   "id": "0d1559d0",
   "metadata": {},
   "outputs": [],
   "source": [
    "selected_concepts = np.arange(n_concepts)\n",
    "def subsample_transform(sample):\n",
    "    if isinstance(sample, list):\n",
    "        sample = np.array(sample)\n",
    "    return sample[selected_concepts]"
   ]
  },
  {
   "cell_type": "code",
   "execution_count": 8,
   "id": "77d84cad",
   "metadata": {},
   "outputs": [],
   "source": [
    "train_dl = load_data(\n",
    "    pkl_paths=[train_data_path],\n",
    "    use_attr=True,\n",
    "    no_img=False,\n",
    "    batch_size=og_config['batch_size'],\n",
    "    uncertain_label=False,\n",
    "    n_class_attr=2,\n",
    "    image_dir='images',\n",
    "    resampling=False,\n",
    "    root_dir='.',\n",
    "    num_workers=og_config['num_workers'],\n",
    "    concept_transform=subsample_transform,\n",
    "    path_transform=lambda path: path.replace(\"CUB//\",\"\"),\n",
    ")\n",
    "val_dl = load_data(\n",
    "    pkl_paths=[val_data_path],\n",
    "    use_attr=True,\n",
    "    no_img=False,\n",
    "    batch_size=og_config['batch_size'],\n",
    "    uncertain_label=False,\n",
    "    n_class_attr=2,\n",
    "    image_dir='images',\n",
    "    resampling=False,\n",
    "    root_dir='.',\n",
    "    num_workers=og_config['num_workers'],\n",
    "    concept_transform=subsample_transform,\n",
    "    path_transform=lambda path: path.replace(\"CUB//\",\"\"))\n",
    "test_dl = load_data(\n",
    "    pkl_paths=[test_data_path],\n",
    "    use_attr=True,\n",
    "    no_img=False,\n",
    "    batch_size=og_config['batch_size'],\n",
    "    uncertain_label=False,\n",
    "    n_class_attr=2,\n",
    "    image_dir='images',\n",
    "    resampling=False,\n",
    "    root_dir='.',\n",
    "    num_workers=og_config['num_workers'],\n",
    "    concept_transform=subsample_transform,\n",
    "    path_transform=lambda path: path.replace(\"CUB//\",\"\")\n",
    ")"
   ]
  },
  {
   "cell_type": "code",
   "execution_count": 9,
   "id": "ce0b66e0",
   "metadata": {},
   "outputs": [],
   "source": [
    "if sample_train < 1.0:\n",
    "    train_dataset = train_dl.dataset\n",
    "    train_size = round(len(train_dataset)*sample_train)\n",
    "    train_subset = random.sample(range(0,len(train_dataset)),train_size)\n",
    "    train_dataset = torch.utils.data.Subset(train_dataset, train_subset)\n",
    "    sample_train_dl = torch.utils.data.DataLoader(train_dataset,batch_size=64, shuffle=True, \n",
    "                                           drop_last=True, num_workers=num_workers)\n",
    "\n"
   ]
  },
  {
   "cell_type": "code",
   "execution_count": 10,
   "id": "6ba1ad54",
   "metadata": {},
   "outputs": [],
   "source": [
    "identity = lambda s: s\n",
    "opposite = lambda s: 1-s\n",
    "related_concepts = {}\n",
    "for i in range(112):\n",
    "    related_concepts[i] = {}\n",
    "    for j in range(112):\n",
    "        related_concepts[i][j] = (identity,1)"
   ]
  },
  {
   "cell_type": "code",
   "execution_count": 15,
   "id": "0b7032ab",
   "metadata": {},
   "outputs": [
    {
     "name": "stderr",
     "output_type": "stream",
     "text": [
      "GPU available: False, used: False\n",
      "TPU available: False, using: 0 TPU cores\n",
      "IPU available: False, using: 0 IPUs\n"
     ]
    }
   ],
   "source": [
    "trainer = pl.Trainer(\n",
    "            gpus=gpu,\n",
    "        )"
   ]
  },
  {
   "cell_type": "code",
   "execution_count": 17,
   "id": "c2133353",
   "metadata": {},
   "outputs": [],
   "source": [
    "results_by_num_groups = {}"
   ]
  },
  {
   "cell_type": "code",
   "execution_count": 18,
   "id": "d40ecc68",
   "metadata": {},
   "outputs": [
    {
     "name": "stderr",
     "output_type": "stream",
     "text": [
      "/rds/user/njr61/hpc-work/anaconda3/envs/cem/lib/python3.7/site-packages/torchvision/models/_utils.py:209: UserWarning: The parameter 'pretrained' is deprecated since 0.13 and may be removed in the future, please use 'weights' instead.\n",
      "  f\"The parameter '{pretrained_param}' is deprecated since 0.13 and may be removed in the future, \"\n",
      "/rds/user/njr61/hpc-work/anaconda3/envs/cem/lib/python3.7/site-packages/torchvision/models/_utils.py:223: UserWarning: Arguments other than a weight enum or `None` for 'weights' are deprecated since 0.13 and may be removed in the future. The current behavior is equivalent to passing `weights=ResNet50_Weights.IMAGENET1K_V1`. You can also use `weights=ResNet50_Weights.DEFAULT` to get the most up-to-date weights.\n",
      "  warnings.warn(msg)\n"
     ]
    },
    {
     "data": {
      "application/vnd.jupyter.widget-view+json": {
       "model_id": "5e6ae28c4ed74edcae22db8354b71ca0",
       "version_major": 2,
       "version_minor": 0
      },
      "text/plain": [
       "Testing: 0it [00:00, ?it/s]"
      ]
     },
     "metadata": {},
     "output_type": "display_data"
    },
    {
     "ename": "NameError",
     "evalue": "name 'num_groups' is not defined",
     "output_type": "error",
     "traceback": [
      "\u001b[0;31m---------------------------------------------------------------------------\u001b[0m",
      "\u001b[0;31mNameError\u001b[0m                                 Traceback (most recent call last)",
      "\u001b[0;32m/tmp/ipykernel_2096187/1765106690.py\u001b[0m in \u001b[0;36m<module>\u001b[0;34m\u001b[0m\n\u001b[1;32m     20\u001b[0m             )\n\u001b[1;32m     21\u001b[0m     \u001b[0;34m[\u001b[0m\u001b[0mtest_results\u001b[0m\u001b[0;34m]\u001b[0m \u001b[0;34m=\u001b[0m \u001b[0mtrainer\u001b[0m\u001b[0;34m.\u001b[0m\u001b[0mtest\u001b[0m\u001b[0;34m(\u001b[0m\u001b[0mmodel\u001b[0m\u001b[0;34m,\u001b[0m \u001b[0mval_dl\u001b[0m\u001b[0;34m,\u001b[0m \u001b[0mverbose\u001b[0m\u001b[0;34m=\u001b[0m\u001b[0;32mFalse\u001b[0m\u001b[0;34m,\u001b[0m\u001b[0;34m)\u001b[0m\u001b[0;34m\u001b[0m\u001b[0;34m\u001b[0m\u001b[0m\n\u001b[0;32m---> 22\u001b[0;31m     \u001b[0mresults_by_num_groups\u001b[0m\u001b[0;34m[\u001b[0m\u001b[0mnum_groups\u001b[0m\u001b[0;34m]\u001b[0m \u001b[0;34m=\u001b[0m \u001b[0mtest_results\u001b[0m\u001b[0;34m\u001b[0m\u001b[0;34m\u001b[0m\u001b[0m\n\u001b[0m",
      "\u001b[0;31mNameError\u001b[0m: name 'num_groups' is not defined"
     ]
    }
   ],
   "source": [
    "for num_groups_intervened in [0,6,12,18,24]:\n",
    "    intervention_idxs = intervention_utils.random_int_policy(\n",
    "                num_groups_intervened=num_groups_intervened,\n",
    "                concept_group_map=concept_group_map,\n",
    "                config=og_config,\n",
    "            )\n",
    "        \n",
    "    model = intervention_utils.load_trained_model(\n",
    "                config=og_config,\n",
    "                n_tasks=n_tasks,\n",
    "                n_concepts=n_concepts,\n",
    "                result_dir=\"\",\n",
    "                split=0,\n",
    "                imbalance=None,\n",
    "                intervention_idxs=intervention_idxs,\n",
    "                train_dl=sample_train_dl,\n",
    "                sequential=False,\n",
    "                independent=False,\n",
    "        related_concepts=related_concepts\n",
    "            )\n",
    "    [test_results] = trainer.test(model, val_dl, verbose=False,)\n",
    "    results_by_num_groups[num_groups] = test_results"
   ]
  },
  {
   "cell_type": "code",
   "execution_count": null,
   "id": "a85d4750",
   "metadata": {},
   "outputs": [],
   "source": [
    "test_results"
   ]
  },
  {
   "cell_type": "code",
   "execution_count": null,
   "id": "a8b5caba",
   "metadata": {},
   "outputs": [],
   "source": []
  }
 ],
 "metadata": {
  "kernelspec": {
   "display_name": "Python 3 (ipykernel)",
   "language": "python",
   "name": "python3"
  },
  "language_info": {
   "codemirror_mode": {
    "name": "ipython",
    "version": 3
   },
   "file_extension": ".py",
   "mimetype": "text/x-python",
   "name": "python",
   "nbconvert_exporter": "python",
   "pygments_lexer": "ipython3",
   "version": "3.7.12"
  }
 },
 "nbformat": 4,
 "nbformat_minor": 5
}
