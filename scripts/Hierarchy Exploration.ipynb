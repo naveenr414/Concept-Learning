{
 "cells": [
  {
   "cell_type": "code",
   "execution_count": 1,
   "id": "0e49e7ae",
   "metadata": {},
   "outputs": [],
   "source": [
    "%load_ext autoreload\n",
    "%autoreload 2"
   ]
  },
  {
   "cell_type": "code",
   "execution_count": 2,
   "id": "7daf6cd0",
   "metadata": {},
   "outputs": [],
   "source": [
    "import os\n",
    "os.chdir('../')"
   ]
  },
  {
   "cell_type": "code",
   "execution_count": 3,
   "id": "0a153c3e",
   "metadata": {},
   "outputs": [
    {
     "name": "stderr",
     "output_type": "stream",
     "text": [
      "2023-03-02 12:01:00.254129: I tensorflow/core/platform/cpu_feature_guard.cc:193] This TensorFlow binary is optimized with oneAPI Deep Neural Network Library (oneDNN) to use the following CPU instructions in performance-critical operations:  SSE4.1 SSE4.2 AVX FMA\n",
      "To enable them in other operations, rebuild TensorFlow with the appropriate compiler flags.\n"
     ]
    }
   ],
   "source": [
    "from src.dataset import *\n",
    "from src.concept_vectors import *\n",
    "from src.util import *\n",
    "from src.hierarchy import *\n",
    "from src.metrics import *\n",
    "import numpy as np\n",
    "import matplotlib.pyplot as plt\n",
    "import glob\n",
    "import keras.backend as K\n",
    "from keras.applications import VGG16"
   ]
  },
  {
   "cell_type": "code",
   "execution_count": 4,
   "id": "74677f3f",
   "metadata": {},
   "outputs": [],
   "source": [
    "dataset = CUB_Dataset()"
   ]
  },
  {
   "cell_type": "code",
   "execution_count": 5,
   "id": "7f8c049c",
   "metadata": {},
   "outputs": [],
   "source": [
    "seed = 42\n",
    "suffix = \"\"\n",
    "attributes = dataset.get_attributes()"
   ]
  },
  {
   "cell_type": "markdown",
   "id": "37944c5e",
   "metadata": {},
   "source": [
    "## Explore CEM models"
   ]
  },
  {
   "cell_type": "code",
   "execution_count": 8,
   "id": "945d1ba1",
   "metadata": {},
   "outputs": [],
   "source": [
    "all_concepts_2 = {}\n",
    "all_concepts = {}\n",
    "for attribute in attributes:\n",
    "    attribute_index = attributes.index(attribute)\n",
    "    all_concepts[attribute] = load_cem_vectors(dataset.experiment_name,attribute_index,seed,dataset_location=\"results/cem_concepts\")\n",
    "    all_concepts_2[attribute] = load_cem_vectors(dataset.experiment_name,attribute_index,seed,dataset_location=\"results/cem_concepts_2\")"
   ]
  },
  {
   "cell_type": "code",
   "execution_count": 12,
   "id": "6d1377fb",
   "metadata": {},
   "outputs": [
    {
     "data": {
      "text/plain": [
       "112"
      ]
     },
     "execution_count": 12,
     "metadata": {},
     "output_type": "execute_result"
    }
   ],
   "source": [
    "len(all_concepts)"
   ]
  },
  {
   "cell_type": "code",
   "execution_count": 10,
   "id": "5318268b",
   "metadata": {},
   "outputs": [],
   "source": [
    "def load_cem_stratified_vectors_simple(attribute,dataset,suffix,seed=-1):\n",
    "    \"\"\"Simplified call to create vector from cub/mnist that is standardized across embeddings\n",
    "    \n",
    "    Arguments:\n",
    "        attribute: Which concept we're looking to get vectors for, as a string\n",
    "        dataset: Object from the dataset class\n",
    "        suffix: String; which specific instance of the dataset are we testing out \n",
    "    \n",
    "    Returns: \n",
    "        Numpy array of label-based vectors\n",
    "    \"\"\"\n",
    "    \n",
    "    all_attributes = dataset.get_attributes()\n",
    "    attribute_index = all_attributes.index(attribute)\n",
    "    vectors = load_cem_vectors(dataset.experiment_name+suffix,attribute_index,seed,dataset_location=\"results/cem_concepts_stratified\")\n",
    "    vectors = vectors[:,vectors.shape[1]//2:]\n",
    "    return vectors\n",
    "    "
   ]
  },
  {
   "cell_type": "code",
   "execution_count": 11,
   "id": "e46a70c9",
   "metadata": {},
   "outputs": [],
   "source": [
    "def load_cem_2_vectors_simple(attribute,dataset,suffix,seed=-1):\n",
    "    \"\"\"Simplified call to create vector from cub/mnist that is standardized across embeddings\n",
    "    \n",
    "    Arguments:\n",
    "        attribute: Which concept we're looking to get vectors for, as a string\n",
    "        dataset: Object from the dataset class\n",
    "        suffix: String; which specific instance of the dataset are we testing out \n",
    "    \n",
    "    Returns: \n",
    "        Numpy array of label-based vectors\n",
    "    \"\"\"\n",
    "    \n",
    "    all_attributes = dataset.get_attributes()\n",
    "    attribute_index = all_attributes.index(attribute)\n",
    "    return load_cem_vectors(dataset.experiment_name+suffix,attribute_index,seed,dataset_location=\"results/cem_concepts_2\")\n"
   ]
  },
  {
   "cell_type": "code",
   "execution_count": 12,
   "id": "988482b5",
   "metadata": {},
   "outputs": [],
   "source": [
    "hierarchy = create_hierarchy(create_ward_hierarchy, load_cem_vectors_simple,dataset,suffix,attributes[:20],seed)"
   ]
  },
  {
   "cell_type": "code",
   "execution_count": 13,
   "id": "36c72b6d",
   "metadata": {},
   "outputs": [],
   "source": [
    "hierarchy_43 = create_hierarchy(create_ward_hierarchy, load_cem_vectors_simple,dataset,suffix,attributes[:20],43)"
   ]
  },
  {
   "cell_type": "code",
   "execution_count": 14,
   "id": "5a1ba4cf",
   "metadata": {},
   "outputs": [],
   "source": [
    "hierarchy_44 = create_hierarchy(create_ward_hierarchy, load_cem_vectors_simple,dataset,suffix,attributes[:20],44)"
   ]
  },
  {
   "cell_type": "code",
   "execution_count": 15,
   "id": "4784ff24",
   "metadata": {},
   "outputs": [],
   "source": [
    "hierarchy_2 = create_hierarchy(create_ward_hierarchy, load_cem_2_vectors_simple,dataset,suffix,attributes[:20],seed)"
   ]
  },
  {
   "cell_type": "code",
   "execution_count": 16,
   "id": "cb074d75",
   "metadata": {},
   "outputs": [],
   "source": [
    "hierarchy_stratified = create_hierarchy(create_ward_hierarchy, load_cem_stratified_vectors_simple,dataset,suffix,attributes[:20],seed)"
   ]
  },
  {
   "cell_type": "code",
   "execution_count": 17,
   "id": "410aae3c",
   "metadata": {},
   "outputs": [
    {
     "name": "stdout",
     "output_type": "stream",
     "text": [
      "           ---- has_upperparts_color::yellow\n",
      "      ----|\n",
      "           ---- has_underparts_color::brown\n",
      "\n",
      " ----|\n",
      "           ---- has_bill_shape::dagger\n",
      "      ----|\n",
      "                     ---- has_bill_shape::hooked_seabird\n",
      "                ----|\n",
      "                     ---- has_wing_color::yellow\n",
      "\n",
      "           ----|\n",
      "                     ---- has_underparts_color::grey\n",
      "                ----|\n",
      "                               ---- has_upperparts_color::buff\n",
      "                          ----|\n",
      "                                         ---- has_upperparts_color::brown\n",
      "                                    ----|\n",
      "                                              ---- has_upperparts_color::white\n",
      "                                         ----|\n",
      "                                                   ---- has_wing_color::brown\n",
      "                                              ----|\n",
      "                                                        ---- has_bill_shape::all-purpose\n",
      "                                                   ----|\n",
      "                                                        ---- has_underparts_color::black\n",
      "\n",
      "\n",
      "\n",
      "\n",
      "                               ----|\n",
      "                                         ---- has_wing_color::grey\n",
      "                                    ----|\n",
      "                                         ---- has_wing_color::white\n",
      "\n",
      "\n",
      "\n",
      "                     ----|\n",
      "                               ---- has_bill_shape::cone\n",
      "                          ----|\n",
      "                                    ---- has_upperparts_color::grey\n",
      "                               ----|\n",
      "                                         ---- has_wing_color::buff\n",
      "                                    ----|\n",
      "                                              ---- has_underparts_color::yellow\n",
      "                                         ----|\n",
      "                                                   ---- has_wing_color::black\n",
      "                                              ----|\n",
      "                                                   ---- has_upperparts_color::black\n"
     ]
    }
   ],
   "source": [
    "print(hierarchy)"
   ]
  },
  {
   "cell_type": "code",
   "execution_count": 18,
   "id": "6ed02c88",
   "metadata": {},
   "outputs": [
    {
     "name": "stdout",
     "output_type": "stream",
     "text": [
      "           ---- has_upperparts_color::white\n",
      "      ----|\n",
      "                ---- has_upperparts_color::yellow\n",
      "           ----|\n",
      "                ---- has_underparts_color::yellow\n",
      "\n",
      "\n",
      " ----|\n",
      "                ---- has_underparts_color::brown\n",
      "           ----|\n",
      "                     ---- has_wing_color::grey\n",
      "                ----|\n",
      "                          ---- has_wing_color::yellow\n",
      "                     ----|\n",
      "                          ---- has_upperparts_color::buff\n",
      "\n",
      "\n",
      "\n",
      "      ----|\n",
      "                     ---- has_underparts_color::black\n",
      "                ----|\n",
      "                          ---- has_wing_color::brown\n",
      "                     ----|\n",
      "                          ---- has_wing_color::buff\n",
      "\n",
      "\n",
      "           ----|\n",
      "                          ---- has_bill_shape::cone\n",
      "                     ----|\n",
      "                          ---- has_upperparts_color::grey\n",
      "\n",
      "                ----|\n",
      "                          ---- has_wing_color::white\n",
      "                     ----|\n",
      "                                    ---- has_bill_shape::dagger\n",
      "                               ----|\n",
      "                                    ---- has_bill_shape::hooked_seabird\n",
      "\n",
      "                          ----|\n",
      "                                    ---- has_upperparts_color::brown\n",
      "                               ----|\n",
      "                                         ---- has_wing_color::black\n",
      "                                    ----|\n",
      "                                              ---- has_upperparts_color::black\n",
      "                                         ----|\n",
      "                                                   ---- has_bill_shape::all-purpose\n",
      "                                              ----|\n",
      "                                                   ---- has_underparts_color::grey\n"
     ]
    }
   ],
   "source": [
    "print(hierarchy_43)"
   ]
  },
  {
   "cell_type": "code",
   "execution_count": 19,
   "id": "c8ba9a61",
   "metadata": {},
   "outputs": [
    {
     "name": "stdout",
     "output_type": "stream",
     "text": [
      "      ---- has_wing_color::yellow\n",
      " ----|\n",
      "                ---- has_bill_shape::hooked_seabird\n",
      "           ----|\n",
      "                     ---- has_upperparts_color::brown\n",
      "                ----|\n",
      "                     ---- has_underparts_color::black\n",
      "\n",
      "\n",
      "      ----|\n",
      "                     ---- has_bill_shape::dagger\n",
      "                ----|\n",
      "                          ---- has_wing_color::grey\n",
      "                     ----|\n",
      "                          ---- has_underparts_color::yellow\n",
      "\n",
      "\n",
      "           ----|\n",
      "                          ---- has_wing_color::white\n",
      "                     ----|\n",
      "                          ---- has_upperparts_color::white\n",
      "\n",
      "                ----|\n",
      "                          ---- has_upperparts_color::yellow\n",
      "                     ----|\n",
      "                               ---- has_underparts_color::grey\n",
      "                          ----|\n",
      "                                    ---- has_underparts_color::brown\n",
      "                               ----|\n",
      "                                              ---- has_wing_color::buff\n",
      "                                         ----|\n",
      "                                                   ---- has_upperparts_color::buff\n",
      "                                              ----|\n",
      "                                                        ---- has_bill_shape::all-purpose\n",
      "                                                   ----|\n",
      "                                                        ---- has_wing_color::brown\n",
      "\n",
      "\n",
      "\n",
      "                                    ----|\n",
      "                                                   ---- has_bill_shape::cone\n",
      "                                              ----|\n",
      "                                                   ---- has_upperparts_color::grey\n",
      "\n",
      "                                         ----|\n",
      "                                                   ---- has_wing_color::black\n",
      "                                              ----|\n",
      "                                                   ---- has_upperparts_color::black\n"
     ]
    }
   ],
   "source": [
    "print(hierarchy_44)"
   ]
  },
  {
   "cell_type": "code",
   "execution_count": 20,
   "id": "83a565b4",
   "metadata": {},
   "outputs": [
    {
     "name": "stdout",
     "output_type": "stream",
     "text": [
      "           ---- has_wing_color::grey\n",
      "      ----|\n",
      "                ---- has_upperparts_color::black\n",
      "           ----|\n",
      "                     ---- has_bill_shape::cone\n",
      "                ----|\n",
      "                     ---- has_underparts_color::black\n",
      "\n",
      "\n",
      "\n",
      " ----|\n",
      "           ---- has_underparts_color::grey\n",
      "      ----|\n",
      "                ---- has_bill_shape::hooked_seabird\n",
      "           ----|\n",
      "                     ---- has_underparts_color::brown\n",
      "                ----|\n",
      "                          ---- has_wing_color::white\n",
      "                     ----|\n",
      "                               ---- has_wing_color::yellow\n",
      "                          ----|\n",
      "                                    ---- has_upperparts_color::yellow\n",
      "                               ----|\n",
      "                                         ---- has_upperparts_color::grey\n",
      "                                    ----|\n",
      "                                              ---- has_upperparts_color::white\n",
      "                                         ----|\n",
      "                                                   ---- has_upperparts_color::brown\n",
      "                                              ----|\n",
      "                                                        ---- has_bill_shape::all-purpose\n",
      "                                                   ----|\n",
      "                                                             ---- has_upperparts_color::buff\n",
      "                                                        ----|\n",
      "                                                                  ---- has_wing_color::buff\n",
      "                                                             ----|\n",
      "                                                                       ---- has_underparts_color::yellow\n",
      "                                                                  ----|\n",
      "                                                                            ---- has_wing_color::brown\n",
      "                                                                       ----|\n",
      "                                                                                 ---- has_bill_shape::dagger\n",
      "                                                                            ----|\n",
      "                                                                                 ---- has_wing_color::black\n"
     ]
    }
   ],
   "source": [
    "print(hierarchy_2)"
   ]
  },
  {
   "cell_type": "code",
   "execution_count": 21,
   "id": "f94f1b94",
   "metadata": {},
   "outputs": [
    {
     "name": "stdout",
     "output_type": "stream",
     "text": [
      "      ---- has_bill_shape::dagger\n",
      " ----|\n",
      "                ---- has_wing_color::buff\n",
      "           ----|\n",
      "                ---- has_underparts_color::brown\n",
      "\n",
      "      ----|\n",
      "                     ---- has_upperparts_color::black\n",
      "                ----|\n",
      "                          ---- has_wing_color::white\n",
      "                     ----|\n",
      "                          ---- has_underparts_color::yellow\n",
      "\n",
      "\n",
      "           ----|\n",
      "                     ---- has_underparts_color::grey\n",
      "                ----|\n",
      "                               ---- has_underparts_color::black\n",
      "                          ----|\n",
      "                                    ---- has_wing_color::grey\n",
      "                               ----|\n",
      "                                    ---- has_upperparts_color::yellow\n",
      "\n",
      "\n",
      "                     ----|\n",
      "                               ---- has_upperparts_color::white\n",
      "                          ----|\n",
      "                                    ---- has_bill_shape::hooked_seabird\n",
      "                               ----|\n",
      "                                         ---- has_upperparts_color::buff\n",
      "                                    ----|\n",
      "                                              ---- has_upperparts_color::grey\n",
      "                                         ----|\n",
      "                                                   ---- has_bill_shape::all-purpose\n",
      "                                              ----|\n",
      "                                                        ---- has_upperparts_color::brown\n",
      "                                                   ----|\n",
      "                                                             ---- has_wing_color::black\n",
      "                                                        ----|\n",
      "                                                                  ---- has_wing_color::yellow\n",
      "                                                             ----|\n",
      "                                                                       ---- has_bill_shape::cone\n",
      "                                                                  ----|\n",
      "                                                                       ---- has_wing_color::brown\n"
     ]
    }
   ],
   "source": [
    "print(hierarchy_stratified)"
   ]
  },
  {
   "cell_type": "code",
   "execution_count": 22,
   "id": "c7ae7346",
   "metadata": {},
   "outputs": [
    {
     "data": {
      "text/plain": [
       "(0.8472222222222223, 0.017912172703638686)"
      ]
     },
     "execution_count": 22,
     "metadata": {},
     "output_type": "execute_result"
    }
   ],
   "source": [
    "stability_metric(load_cem_stratified_vectors_simple,dataset,attributes,[42,43,44,45])"
   ]
  },
  {
   "cell_type": "code",
   "execution_count": 23,
   "id": "66d0ecd5",
   "metadata": {},
   "outputs": [
    {
     "ename": "Exception",
     "evalue": "Model Resnet34 not implemented yet, select one of ['GoogleNet', 'Resnet50', 'Resnet50Robustness', 'Resnet50Responsiveness', 'VGG16', 'VGG16Robustness', 'VGG16Responsiveness']",
     "output_type": "error",
     "traceback": [
      "\u001b[0;31m---------------------------------------------------------------------------\u001b[0m",
      "\u001b[0;31mException\u001b[0m                                 Traceback (most recent call last)",
      "\u001b[0;32m/tmp/ipykernel_30836/558022228.py\u001b[0m in \u001b[0;36m<module>\u001b[0;34m\u001b[0m\n\u001b[0;32m----> 1\u001b[0;31m \u001b[0mtruthfulness_metric\u001b[0m\u001b[0;34m(\u001b[0m\u001b[0mload_cem_stratified_vectors_simple\u001b[0m\u001b[0;34m,\u001b[0m\u001b[0mdataset\u001b[0m\u001b[0;34m,\u001b[0m\u001b[0mattributes\u001b[0m\u001b[0;34m,\u001b[0m\u001b[0;34m[\u001b[0m\u001b[0mseed\u001b[0m\u001b[0;34m]\u001b[0m\u001b[0;34m,\u001b[0m\u001b[0mmodel\u001b[0m\u001b[0;34m=\u001b[0m\u001b[0;34m\"Resnet34\"\u001b[0m\u001b[0;34m)\u001b[0m\u001b[0;34m\u001b[0m\u001b[0;34m\u001b[0m\u001b[0m\n\u001b[0m",
      "\u001b[0;32m/auto/homes/njr61/main_code/src/metrics.py\u001b[0m in \u001b[0;36mtruthfulness_metric\u001b[0;34m(embedding_method, dataset, attributes, random_seeds, model, baseline_hierarchies)\u001b[0m\n\u001b[1;32m    275\u001b[0m                                                  \u001b[0mmodel_name\u001b[0m\u001b[0;34m=\u001b[0m\u001b[0mmodel\u001b[0m\u001b[0;34m,\u001b[0m\u001b[0;34m\u001b[0m\u001b[0;34m\u001b[0m\u001b[0m\n\u001b[1;32m    276\u001b[0m                                                  \u001b[0mexperiment_name\u001b[0m\u001b[0;34m=\u001b[0m\u001b[0mdataset\u001b[0m\u001b[0;34m.\u001b[0m\u001b[0mexperiment_name\u001b[0m\u001b[0;34m,\u001b[0m\u001b[0;34m\u001b[0m\u001b[0;34m\u001b[0m\u001b[0m\n\u001b[0;32m--> 277\u001b[0;31m                                                  max_examples=max_images)\n\u001b[0m\u001b[1;32m    278\u001b[0m \u001b[0;34m\u001b[0m\u001b[0m\n\u001b[1;32m    279\u001b[0m     \u001b[0;32mfor\u001b[0m \u001b[0mseed\u001b[0m \u001b[0;32min\u001b[0m \u001b[0mrandom_seeds\u001b[0m\u001b[0;34m:\u001b[0m\u001b[0;34m\u001b[0m\u001b[0;34m\u001b[0m\u001b[0m\n",
      "\u001b[0;32m/auto/homes/njr61/main_code/src/concept_vectors.py\u001b[0m in \u001b[0;36mget_activations_dictionary\u001b[0;34m(attribute_list, sess, model_name, experiment_name, max_examples, bottleneck, delete_activations)\u001b[0m\n\u001b[1;32m    318\u001b[0m \u001b[0;34m\u001b[0m\u001b[0m\n\u001b[1;32m    319\u001b[0m     \u001b[0mstart\u001b[0m \u001b[0;34m=\u001b[0m \u001b[0mtime\u001b[0m\u001b[0;34m.\u001b[0m\u001b[0mtime\u001b[0m\u001b[0;34m(\u001b[0m\u001b[0;34m)\u001b[0m\u001b[0;34m\u001b[0m\u001b[0;34m\u001b[0m\u001b[0m\n\u001b[0;32m--> 320\u001b[0;31m     \u001b[0mact_generator\u001b[0m \u001b[0;34m=\u001b[0m \u001b[0mload_activations_model\u001b[0m\u001b[0;34m(\u001b[0m\u001b[0mexperiment_name\u001b[0m\u001b[0;34m,\u001b[0m\u001b[0mmax_examples\u001b[0m\u001b[0;34m,\u001b[0m\u001b[0mmodel_name\u001b[0m\u001b[0;34m,\u001b[0m\u001b[0msess\u001b[0m\u001b[0;34m)\u001b[0m\u001b[0;34m\u001b[0m\u001b[0;34m\u001b[0m\u001b[0m\n\u001b[0m\u001b[1;32m    321\u001b[0m \u001b[0;34m\u001b[0m\u001b[0m\n\u001b[1;32m    322\u001b[0m     \u001b[0macts\u001b[0m \u001b[0;34m=\u001b[0m \u001b[0;34m{\u001b[0m\u001b[0;34m}\u001b[0m\u001b[0;34m\u001b[0m\u001b[0;34m\u001b[0m\u001b[0m\n",
      "\u001b[0;32m/auto/homes/njr61/main_code/src/concept_vectors.py\u001b[0m in \u001b[0;36mload_activations_model\u001b[0;34m(experiment_name, max_examples, model_name, sess)\u001b[0m\n\u001b[1;32m    260\u001b[0m \u001b[0;34m\u001b[0m\u001b[0m\n\u001b[1;32m    261\u001b[0m     \u001b[0;32mif\u001b[0m \u001b[0mmodel_name\u001b[0m \u001b[0;32mnot\u001b[0m \u001b[0;32min\u001b[0m \u001b[0mmodels_used\u001b[0m\u001b[0;34m:\u001b[0m\u001b[0;34m\u001b[0m\u001b[0;34m\u001b[0m\u001b[0m\n\u001b[0;32m--> 262\u001b[0;31m         \u001b[0;32mraise\u001b[0m \u001b[0mException\u001b[0m\u001b[0;34m(\u001b[0m\u001b[0;34m\"Model {} not implemented yet, select one of {}\"\u001b[0m\u001b[0;34m.\u001b[0m\u001b[0mformat\u001b[0m\u001b[0;34m(\u001b[0m\u001b[0mmodel_name\u001b[0m\u001b[0;34m,\u001b[0m\u001b[0mmodels_used\u001b[0m\u001b[0;34m)\u001b[0m\u001b[0;34m)\u001b[0m\u001b[0;34m\u001b[0m\u001b[0;34m\u001b[0m\u001b[0m\n\u001b[0m\u001b[1;32m    263\u001b[0m \u001b[0;34m\u001b[0m\u001b[0m\n\u001b[1;32m    264\u001b[0m     \u001b[0;32mif\u001b[0m \u001b[0mmodel_name\u001b[0m \u001b[0;34m==\u001b[0m \u001b[0;34m\"GoogleNet\"\u001b[0m\u001b[0;34m:\u001b[0m\u001b[0;34m\u001b[0m\u001b[0;34m\u001b[0m\u001b[0m\n",
      "\u001b[0;31mException\u001b[0m: Model Resnet34 not implemented yet, select one of ['GoogleNet', 'Resnet50', 'Resnet50Robustness', 'Resnet50Responsiveness', 'VGG16', 'VGG16Robustness', 'VGG16Responsiveness']"
     ]
    }
   ],
   "source": [
    "truthfulness_metric(load_cem_stratified_vectors_simple,dataset,attributes,[seed],model=\"Resnet34\")"
   ]
  },
  {
   "cell_type": "code",
   "execution_count": 24,
   "id": "b0edeed9",
   "metadata": {},
   "outputs": [],
   "source": [
    "baseline_embeddings = [flat_distance_to_square(get_concept_distances (load_cem_vectors_simple,dataset,\"\",attributes,seed)) for seed in [42,43,44,45]]"
   ]
  },
  {
   "cell_type": "code",
   "execution_count": 25,
   "id": "00e51601",
   "metadata": {},
   "outputs": [],
   "source": [
    "top_pairs = [get_top_k_pairs(h,k=3) for h in baseline_embeddings]"
   ]
  },
  {
   "cell_type": "code",
   "execution_count": 26,
   "id": "ed375b4e",
   "metadata": {},
   "outputs": [],
   "source": [
    "top_pairs_2 = get_top_k_pairs(flat_distance_to_square(get_concept_distances (load_cem_2_vectors_simple,dataset,\"\",attributes,42)),k=3)"
   ]
  },
  {
   "cell_type": "code",
   "execution_count": 35,
   "id": "dc5c024d",
   "metadata": {},
   "outputs": [
    {
     "data": {
      "text/plain": [
       "151"
      ]
     },
     "execution_count": 35,
     "metadata": {},
     "output_type": "execute_result"
    }
   ],
   "source": [
    "len(set(top_pairs_2).intersection(set(top_pairs[0])))"
   ]
  },
  {
   "cell_type": "code",
   "execution_count": 37,
   "id": "7631a681",
   "metadata": {},
   "outputs": [
    {
     "data": {
      "text/plain": [
       "11"
      ]
     },
     "execution_count": 37,
     "metadata": {},
     "output_type": "execute_result"
    }
   ],
   "source": [
    "len(set(top_pairs_2).intersection(set(top_pairs[2])))"
   ]
  },
  {
   "cell_type": "code",
   "execution_count": 38,
   "id": "2e55adce",
   "metadata": {},
   "outputs": [
    {
     "data": {
      "text/plain": [
       "336"
      ]
     },
     "execution_count": 38,
     "metadata": {},
     "output_type": "execute_result"
    }
   ],
   "source": [
    "len(top_pairs_2)"
   ]
  },
  {
   "cell_type": "code",
   "execution_count": 43,
   "id": "a57a4917",
   "metadata": {},
   "outputs": [],
   "source": [
    "vectors = load_cem_2_vectors_simple(attributes[0],dataset,suffix=\"\",seed=42)"
   ]
  },
  {
   "cell_type": "code",
   "execution_count": 45,
   "id": "860714e0",
   "metadata": {},
   "outputs": [
    {
     "data": {
      "text/plain": [
       "<matplotlib.collections.PathCollection at 0x7f41600c8f50>"
      ]
     },
     "execution_count": 45,
     "metadata": {},
     "output_type": "execute_result"
    },
    {
     "data": {
      "image/png": "[encoded data removed]",
      "text/plain": [
       "<Figure size 432x288 with 1 Axes>"
      ]
     },
     "metadata": {
      "needs_background": "light"
     },
     "output_type": "display_data"
    }
   ],
   "source": [
    "plt.scatter(vectors[:,0],vectors[:,1])"
   ]
  },
  {
   "cell_type": "code",
   "execution_count": 46,
   "id": "a65712fc",
   "metadata": {},
   "outputs": [],
   "source": [
    "vectors_1 = load_cem_2_vectors_simple(attributes[1],dataset,suffix=\"\",seed=42)"
   ]
  },
  {
   "cell_type": "code",
   "execution_count": 47,
   "id": "a519f19d",
   "metadata": {},
   "outputs": [
    {
     "data": {
      "text/plain": [
       "<matplotlib.collections.PathCollection at 0x7f41600641d0>"
      ]
     },
     "execution_count": 47,
     "metadata": {},
     "output_type": "execute_result"
    },
    {
     "data": {
      "image/png": "[encoded data removed]",
      "text/plain": [
       "<Figure size 432x288 with 1 Axes>"
      ]
     },
     "metadata": {
      "needs_background": "light"
     },
     "output_type": "display_data"
    }
   ],
   "source": [
    "plt.scatter(vectors_1[:,0],vectors_1[:,1])"
   ]
  },
  {
   "cell_type": "code",
   "execution_count": 48,
   "id": "2e45f1e1",
   "metadata": {},
   "outputs": [],
   "source": [
    "vectors_2 = load_cem_2_vectors_simple(attributes[2],dataset,suffix=\"\",seed=42)"
   ]
  },
  {
   "cell_type": "code",
   "execution_count": 49,
   "id": "a8da3ae3",
   "metadata": {},
   "outputs": [
    {
     "data": {
      "text/plain": [
       "<matplotlib.collections.PathCollection at 0x7f4140796050>"
      ]
     },
     "execution_count": 49,
     "metadata": {},
     "output_type": "execute_result"
    },
    {
     "data": {
      "image/png": "[encoded data removed]",
      "text/plain": [
       "<Figure size 432x288 with 1 Axes>"
      ]
     },
     "metadata": {
      "needs_background": "light"
     },
     "output_type": "display_data"
    }
   ],
   "source": [
    "plt.scatter(vectors_2[:,0],vectors_2[:,1])"
   ]
  },
  {
   "cell_type": "markdown",
   "id": "4a3b9d47",
   "metadata": {},
   "source": [
    "## VAE Exploration"
   ]
  },
  {
   "cell_type": "code",
   "execution_count": 6,
   "id": "cd9f6c36",
   "metadata": {},
   "outputs": [
    {
     "name": "stderr",
     "output_type": "stream",
     "text": [
      "2023-03-02 12:05:09.578232: W tensorflow/stream_executor/platform/default/dso_loader.cc:64] Could not load dynamic library 'libcuda.so.1'; dlerror: libcuda.so.1: cannot open shared object file: No such file or directory; LD_LIBRARY_PATH: :/usr/local/cuda/lib64\n",
      "2023-03-02 12:05:09.578295: W tensorflow/stream_executor/cuda/cuda_driver.cc:263] failed call to cuInit: UNKNOWN ERROR (303)\n",
      "2023-03-02 12:05:09.578352: I tensorflow/stream_executor/cuda/cuda_diagnostics.cc:156] kernel driver does not appear to be running on this host (nemo.cl.cam.ac.uk): /proc/driver/nvidia/version does not exist\n",
      "2023-03-02 12:05:09.579526: I tensorflow/core/platform/cpu_feature_guard.cc:193] This TensorFlow binary is optimized with oneAPI Deep Neural Network Library (oneDNN) to use the following CPU instructions in performance-critical operations:  SSE4.1 SSE4.2 AVX FMA\n",
      "To enable them in other operations, rebuild TensorFlow with the appropriate compiler flags.\n",
      "2023-03-02 12:05:12.143154: I tensorflow/compiler/mlir/mlir_graph_optimization_pass.cc:354] MLIR V1 optimization pass is not enabled\n"
     ]
    },
    {
     "data": {
      "text/plain": [
       "(-0.24, 0.0)"
      ]
     },
     "execution_count": 6,
     "metadata": {},
     "output_type": "execute_result"
    }
   ],
   "source": [
    "truthfulness_metric(load_vae_vectors_simple,dataset,attributes,[42])"
   ]
  },
  {
   "cell_type": "code",
   "execution_count": null,
   "id": "2475f42d",
   "metadata": {},
   "outputs": [],
   "source": [
    "latent_dim = 2\n",
    "epochs = 10\n",
    "save_location = \"\"\n",
    "concept_alignment = False"
   ]
  },
  {
   "cell_type": "code",
   "execution_count": 4,
   "id": "a0fcecc6",
   "metadata": {},
   "outputs": [
    {
     "ename": "NameError",
     "evalue": "name 'seed' is not defined",
     "output_type": "error",
     "traceback": [
      "\u001b[0;31m---------------------------------------------------------------------------\u001b[0m",
      "\u001b[0;31mNameError\u001b[0m                                 Traceback (most recent call last)",
      "\u001b[0;32m/tmp/ipykernel_4119496/1920891019.py\u001b[0m in \u001b[0;36m<module>\u001b[0;34m\u001b[0m\n\u001b[0;32m----> 1\u001b[0;31m \u001b[0mnp\u001b[0m\u001b[0;34m.\u001b[0m\u001b[0mrandom\u001b[0m\u001b[0;34m.\u001b[0m\u001b[0mseed\u001b[0m\u001b[0;34m(\u001b[0m\u001b[0mseed\u001b[0m\u001b[0;34m)\u001b[0m\u001b[0;34m\u001b[0m\u001b[0;34m\u001b[0m\u001b[0m\n\u001b[0m\u001b[1;32m      2\u001b[0m \u001b[0mtf\u001b[0m\u001b[0;34m.\u001b[0m\u001b[0mkeras\u001b[0m\u001b[0;34m.\u001b[0m\u001b[0mutils\u001b[0m\u001b[0;34m.\u001b[0m\u001b[0mset_random_seed\u001b[0m\u001b[0;34m(\u001b[0m\u001b[0mseed\u001b[0m\u001b[0;34m)\u001b[0m\u001b[0;34m\u001b[0m\u001b[0;34m\u001b[0m\u001b[0m\n",
      "\u001b[0;31mNameError\u001b[0m: name 'seed' is not defined"
     ]
    }
   ],
   "source": [
    "np.random.seed(seed)\n",
    "tf.keras.utils.set_random_seed(seed)"
   ]
  },
  {
   "cell_type": "code",
   "execution_count": 5,
   "id": "ae23d08b",
   "metadata": {},
   "outputs": [
    {
     "ename": "NameError",
     "evalue": "name 'dataset' is not defined",
     "output_type": "error",
     "traceback": [
      "\u001b[0;31m---------------------------------------------------------------------------\u001b[0m",
      "\u001b[0;31mNameError\u001b[0m                                 Traceback (most recent call last)",
      "\u001b[0;32m/tmp/ipykernel_4119496/2498669170.py\u001b[0m in \u001b[0;36m<module>\u001b[0;34m\u001b[0m\n\u001b[0;32m----> 1\u001b[0;31m \u001b[0mall_data\u001b[0m \u001b[0;34m=\u001b[0m \u001b[0mdataset\u001b[0m\u001b[0;34m.\u001b[0m\u001b[0mget_data\u001b[0m\u001b[0;34m(\u001b[0m\u001b[0mseed\u001b[0m\u001b[0;34m=\u001b[0m\u001b[0mseed\u001b[0m\u001b[0;34m,\u001b[0m\u001b[0msuffix\u001b[0m\u001b[0;34m=\u001b[0m\u001b[0msuffix\u001b[0m\u001b[0;34m)\u001b[0m\u001b[0;34m\u001b[0m\u001b[0;34m\u001b[0m\u001b[0m\n\u001b[0m\u001b[1;32m      2\u001b[0m \u001b[0mall_files\u001b[0m \u001b[0;34m=\u001b[0m \u001b[0;34m[\u001b[0m\u001b[0;34m'dataset/'\u001b[0m\u001b[0;34m+\u001b[0m\u001b[0mi\u001b[0m\u001b[0;34m[\u001b[0m\u001b[0;34m'img_path'\u001b[0m\u001b[0;34m]\u001b[0m \u001b[0;32mfor\u001b[0m \u001b[0mi\u001b[0m \u001b[0;32min\u001b[0m \u001b[0mall_data\u001b[0m\u001b[0;34m]\u001b[0m\u001b[0;34m\u001b[0m\u001b[0;34m\u001b[0m\u001b[0m\n\u001b[1;32m      3\u001b[0m \u001b[0mimages\u001b[0m \u001b[0;34m=\u001b[0m \u001b[0mnp\u001b[0m\u001b[0;34m.\u001b[0m\u001b[0marray\u001b[0m\u001b[0;34m(\u001b[0m\u001b[0;34m[\u001b[0m\u001b[0mfile_to_numpy\u001b[0m\u001b[0;34m(\u001b[0m\u001b[0mi\u001b[0m\u001b[0;34m)\u001b[0m \u001b[0;32mfor\u001b[0m \u001b[0mi\u001b[0m \u001b[0;32min\u001b[0m \u001b[0mall_files\u001b[0m\u001b[0;34m]\u001b[0m\u001b[0;34m)\u001b[0m\u001b[0;34m\u001b[0m\u001b[0;34m\u001b[0m\u001b[0m\n\u001b[1;32m      4\u001b[0m \u001b[0mconcepts\u001b[0m \u001b[0;34m=\u001b[0m \u001b[0mnp\u001b[0m\u001b[0;34m.\u001b[0m\u001b[0marray\u001b[0m\u001b[0;34m(\u001b[0m\u001b[0;34m[\u001b[0m\u001b[0mi\u001b[0m\u001b[0;34m[\u001b[0m\u001b[0;34m'attribute_label'\u001b[0m\u001b[0;34m]\u001b[0m \u001b[0;32mfor\u001b[0m \u001b[0mi\u001b[0m \u001b[0;32min\u001b[0m \u001b[0mall_data\u001b[0m\u001b[0;34m]\u001b[0m\u001b[0;34m)\u001b[0m\u001b[0;34m\u001b[0m\u001b[0;34m\u001b[0m\u001b[0m\n",
      "\u001b[0;31mNameError\u001b[0m: name 'dataset' is not defined"
     ]
    }
   ],
   "source": [
    "all_data = dataset.get_data(seed=seed,suffix=suffix)\n",
    "all_files = ['dataset/'+i['img_path'] for i in all_data]\n",
    "images = np.array([file_to_numpy(i) for i in all_files])\n",
    "concepts = np.array([i['attribute_label'] for i in all_data])"
   ]
  },
  {
   "cell_type": "code",
   "execution_count": 9,
   "id": "4a5006f5",
   "metadata": {},
   "outputs": [
    {
     "name": "stderr",
     "output_type": "stream",
     "text": [
      "/auto/homes/njr61/environments/mambaforge/envs/concepts/lib/python3.7/site-packages/ipykernel_launcher.py:3: VisibleDeprecationWarning: Creating an ndarray from ragged nested sequences (which is a list-or-tuple of lists-or-tuples-or ndarrays with different lengths or shapes) is deprecated. If you meant to do this, you must specify 'dtype=object' when creating the ndarray.\n",
      "  This is separate from the ipykernel package so we can avoid doing imports until\n"
     ]
    }
   ],
   "source": [
    "all_data_valid = dataset.get_data(seed=seed,suffix=suffix,train=False)\n",
    "all_files_valid = ['dataset/'+i['img_path'] for i in all_data_valid]\n",
    "images_valid = np.array([file_to_numpy(i) for i in all_files_valid])\n",
    "concepts_valid = np.array([i['attribute_label'] for i in all_data_valid])"
   ]
  },
  {
   "cell_type": "code",
   "execution_count": 10,
   "id": "9df087b8",
   "metadata": {},
   "outputs": [
    {
     "name": "stderr",
     "output_type": "stream",
     "text": [
      "2023-03-01 11:16:17.787601: I tensorflow/core/platform/cpu_feature_guard.cc:193] This TensorFlow binary is optimized with oneAPI Deep Neural Network Library (oneDNN) to use the following CPU instructions in performance-critical operations:  SSE4.1 SSE4.2 AVX AVX2 FMA\n",
      "To enable them in other operations, rebuild TensorFlow with the appropriate compiler flags.\n",
      "2023-03-01 11:16:17.860816: I tensorflow/core/common_runtime/process_util.cc:146] Creating new thread pool with default inter op setting: 2. Tune using inter_op_parallelism_threads for best performance.\n"
     ]
    }
   ],
   "source": [
    "if dataset.experiment_name == \"cub\":\n",
    "    # Convert all images to the same size\n",
    "    size = 64\n",
    "    images = resize_cub(images,size=size)"
   ]
  },
  {
   "cell_type": "code",
   "execution_count": 11,
   "id": "07e45c4a",
   "metadata": {},
   "outputs": [],
   "source": [
    "if dataset.experiment_name == \"cub\":\n",
    "    # Convert all images to the same size\n",
    "    size = 64\n",
    "    images_valid = resize_cub(images_valid,size=size)"
   ]
  },
  {
   "cell_type": "code",
   "execution_count": 12,
   "id": "9c8e97cb",
   "metadata": {},
   "outputs": [],
   "source": [
    "vgg16 = VGG16(include_top=False, input_shape=(256, 256, 3), weights='imagenet')"
   ]
  },
  {
   "cell_type": "code",
   "execution_count": 13,
   "id": "b3a4b6e4",
   "metadata": {},
   "outputs": [],
   "source": [
    "concepts = tf.convert_to_tensor(concepts)\n",
    "images = tf.convert_to_tensor(images)"
   ]
  },
  {
   "cell_type": "markdown",
   "id": "3ba1abe3",
   "metadata": {},
   "source": [
    "### Using libraries"
   ]
  },
  {
   "cell_type": "code",
   "execution_count": 14,
   "id": "d484058d",
   "metadata": {},
   "outputs": [],
   "source": [
    "from pythae.trainers import BaseTrainerConfig\n",
    "from pythae.models import VAE, VAEConfig, BetaVAE, BetaVAEConfig\n",
    "from pythae.pipelines import TrainingPipeline\n",
    "from pythae.samplers import NormalSampler\n",
    "from pythae.models.nn.benchmarks.mnist import Encoder_ResNet_VAE_MNIST, Decoder_ResNet_AE_MNIST\n",
    "import torch\n",
    "import torch.nn as nn\n",
    "from pythae.models.nn.base_architectures import BaseDecoder, BaseEncoder\n",
    "from pythae.models.base.base_config import BaseAEConfig\n",
    "from pythae.models.nn.benchmarks.utils import ResBlock\n",
    "from pythae.models.base.base_utils import ModelOutput"
   ]
  },
  {
   "cell_type": "code",
   "execution_count": 15,
   "id": "fdae301a",
   "metadata": {},
   "outputs": [],
   "source": [
    "my_training_config = BaseTrainerConfig(\n",
    "output_dir='my_model',\n",
    "num_epochs=1,\n",
    "learning_rate=1e-3,\n",
    "per_device_train_batch_size=200,\n",
    "per_device_eval_batch_size=200,\n",
    "train_dataloader_num_workers=2,\n",
    "eval_dataloader_num_workers=2,\n",
    "steps_saving=20,\n",
    "optimizer_cls=\"AdamW\",\n",
    "optimizer_params={\"weight_decay\": 0.05, \"betas\": (0.91, 0.995)},\n",
    "scheduler_cls=\"ReduceLROnPlateau\",\n",
    "scheduler_params={\"patience\": 5, \"factor\": 0.5}, \n",
    ")\n"
   ]
  },
  {
   "cell_type": "code",
   "execution_count": 16,
   "id": "4ae2aa96",
   "metadata": {},
   "outputs": [],
   "source": [
    "my_vae_config = model_config = BetaVAEConfig(\n",
    "input_dim=(64,64,3),\n",
    "latent_dim=10,\n",
    "beta=2.\n",
    ")\n"
   ]
  },
  {
   "cell_type": "code",
   "execution_count": 17,
   "id": "2c305256",
   "metadata": {},
   "outputs": [],
   "source": [
    "class Encoder_ResNet_VAE_CUB(BaseEncoder):\n",
    "    def __init__(self, args: BaseAEConfig):\n",
    "        BaseEncoder.__init__(self)\n",
    "\n",
    "        self.input_dim = (3, 64,64)\n",
    "        self.latent_dim = args.latent_dim\n",
    "        self.n_channels = 3\n",
    "\n",
    "        layers = nn.ModuleList()\n",
    "\n",
    "        layers.append(nn.Sequential(nn.Conv2d(self.n_channels, 64, 4, 2, padding=1)))\n",
    "\n",
    "        layers.append(nn.Sequential(nn.Conv2d(64, 128, 4, 2, padding=1)))\n",
    "\n",
    "        layers.append(nn.Sequential(nn.Conv2d(128, 128, 3, 2, padding=1)))\n",
    "\n",
    "        layers.append(\n",
    "            nn.Sequential(\n",
    "                ResBlock(in_channels=128, out_channels=32),\n",
    "                ResBlock(in_channels=128, out_channels=32),\n",
    "            )\n",
    "        )\n",
    "\n",
    "        self.layers = layers\n",
    "        self.depth = len(layers)\n",
    "\n",
    "        self.embedding = nn.Linear(128 * 4 * 4 *4, args.latent_dim)\n",
    "        self.log_var = nn.Linear(128 * 4 * 4 *4, args.latent_dim)\n",
    "\n",
    "    def forward(self, x, output_layer_levels = None):\n",
    "        output = ModelOutput()\n",
    "\n",
    "        max_depth = self.depth\n",
    "\n",
    "        if output_layer_levels is not None:\n",
    "\n",
    "            assert all(\n",
    "                self.depth >= levels > 0 or levels == -1\n",
    "                for levels in output_layer_levels\n",
    "            ), (\n",
    "                f\"Cannot output layer deeper than depth ({self.depth}).\"\n",
    "                f\"Got ({output_layer_levels}).\"\n",
    "            )\n",
    "\n",
    "            if -1 in output_layer_levels:\n",
    "                max_depth = self.depth\n",
    "            else:\n",
    "                max_depth = max(output_layer_levels)\n",
    "\n",
    "        out = x\n",
    "\n",
    "        for i in range(max_depth):\n",
    "            out = self.layers[i](out)\n",
    "\n",
    "            if output_layer_levels is not None:\n",
    "                if i + 1 in output_layer_levels:\n",
    "                    output[f\"embedding_layer_{i+1}\"] = out\n",
    "            if i + 1 == self.depth:\n",
    "                output[\"embedding\"] = self.embedding(out.reshape(x.shape[0], -1))\n",
    "                output[\"log_covariance\"] = self.log_var(out.reshape(x.shape[0], -1))\n",
    "                \n",
    "        return output\n",
    "class Decoder_ResNet_AE_CUB(BaseDecoder):\n",
    "\n",
    "    def __init__(self, args: BaseAEConfig):\n",
    "        BaseDecoder.__init__(self)\n",
    "\n",
    "        self.input_dim = (3,64,64)\n",
    "        self.latent_dim = args.latent_dim\n",
    "        self.n_channels = 3\n",
    "\n",
    "        layers = nn.ModuleList()\n",
    "\n",
    "        layers.append(nn.Linear(args.latent_dim, 128 * 4 * 4))\n",
    "\n",
    "        layers.append(nn.ConvTranspose2d(128, 128, 4, 2, padding=1))\n",
    "\n",
    "        layers.append(\n",
    "            nn.Sequential(\n",
    "                ResBlock(in_channels=128, out_channels=32),\n",
    "                ResBlock(in_channels=128, out_channels=32),\n",
    "                ResBlock(in_channels=128, out_channels=32),\n",
    "                nn.ReLU(),\n",
    "            )\n",
    "        )\n",
    "\n",
    "        layers.append(\n",
    "            nn.Sequential(\n",
    "                nn.ConvTranspose2d(128, 64, 4, 2, padding=1, output_padding=0),\n",
    "                nn.ReLU(),\n",
    "            )\n",
    "        )\n",
    "\n",
    "        layers.append(\n",
    "            nn.Sequential(\n",
    "                nn.ConvTranspose2d(64, 64, 4, 2, padding=1, output_padding=0),\n",
    "                nn.ReLU(),\n",
    "            )\n",
    "        )\n",
    "\n",
    "        \n",
    "        layers.append(\n",
    "            nn.Sequential(\n",
    "                nn.ConvTranspose2d(\n",
    "                    64, self.n_channels, 4, 2, padding=1, output_padding=0\n",
    "                ),\n",
    "                nn.Sigmoid(),\n",
    "            )\n",
    "        )\n",
    "\n",
    "        self.layers = layers\n",
    "        self.depth = len(layers)\n",
    "\n",
    "    def forward(self, z, output_layer_levels = None):\n",
    "        output = ModelOutput()\n",
    "\n",
    "        max_depth = self.depth\n",
    "\n",
    "        if output_layer_levels is not None:\n",
    "\n",
    "            assert all(\n",
    "                self.depth >= levels > 0 or levels == -1\n",
    "                for levels in output_layer_levels\n",
    "            ), (\n",
    "                f\"Cannot output layer deeper than depth ({self.depth}).\"\n",
    "                f\"Got ({output_layer_levels})\"\n",
    "            )\n",
    "\n",
    "            if -1 in output_layer_levels:\n",
    "                max_depth = self.depth\n",
    "            else:\n",
    "                max_depth = max(output_layer_levels)\n",
    "\n",
    "        out = z\n",
    "        \n",
    "        for i in range(max_depth):\n",
    "            out = self.layers[i](out)\n",
    "\n",
    "            if i == 0:\n",
    "                out = out.reshape(z.shape[0], 128, 4, 4)                \n",
    "            if output_layer_levels is not None:\n",
    "                if i + 1 in output_layer_levels:\n",
    "                    output[f\"reconstruction_layer_{i+1}\"] = out\n",
    "\n",
    "            if i + 1 == self.depth:\n",
    "                output[\"reconstruction\"] = out\n",
    "                \n",
    "        return output\n"
   ]
  },
  {
   "cell_type": "code",
   "execution_count": 18,
   "id": "2f31dcf3",
   "metadata": {},
   "outputs": [],
   "source": [
    "my_vae_model = BetaVAE(\n",
    "model_config=my_vae_config,\n",
    "encoder=Encoder_ResNet_VAE_CUB(my_vae_config), \n",
    "decoder=Decoder_ResNet_AE_CUB(my_vae_config) \n",
    ")\n"
   ]
  },
  {
   "cell_type": "code",
   "execution_count": 19,
   "id": "d079363f",
   "metadata": {},
   "outputs": [],
   "source": [
    "pipeline = TrainingPipeline(\n",
    "training_config=my_training_config,\n",
    "model=my_vae_model\n",
    ")\n"
   ]
  },
  {
   "cell_type": "code",
   "execution_count": 20,
   "id": "b3ebefb4",
   "metadata": {},
   "outputs": [],
   "source": [
    "images_array = np.array(images).transpose(0, 3, 1, 2)\n",
    "images_valid_array = np.array(images_valid).transpose(0, 3, 1, 2)"
   ]
  },
  {
   "cell_type": "code",
   "execution_count": 25,
   "id": "01034eb6",
   "metadata": {},
   "outputs": [
    {
     "ename": "AttributeError",
     "evalue": "module 'torch.cuda' has no attribute '__version__'",
     "output_type": "error",
     "traceback": [
      "\u001b[0;31m---------------------------------------------------------------------------\u001b[0m",
      "\u001b[0;31mAttributeError\u001b[0m                            Traceback (most recent call last)",
      "\u001b[0;32m/tmp/ipykernel_3507592/2616667703.py\u001b[0m in \u001b[0;36m<module>\u001b[0;34m\u001b[0m\n\u001b[0;32m----> 1\u001b[0;31m \u001b[0mtorch\u001b[0m\u001b[0;34m.\u001b[0m\u001b[0mcuda\u001b[0m\u001b[0;34m.\u001b[0m\u001b[0m__version__\u001b[0m\u001b[0;34m\u001b[0m\u001b[0;34m\u001b[0m\u001b[0m\n\u001b[0m",
      "\u001b[0;31mAttributeError\u001b[0m: module 'torch.cuda' has no attribute '__version__'"
     ]
    }
   ],
   "source": [
    "torch.cuda.__version__"
   ]
  },
  {
   "cell_type": "code",
   "execution_count": 21,
   "id": "66e39471",
   "metadata": {},
   "outputs": [
    {
     "name": "stderr",
     "output_type": "stream",
     "text": [
      "Preprocessing train data...\n",
      "Checking train dataset...\n",
      "Preprocessing eval data...\n",
      "\n",
      "Checking eval dataset...\n",
      "Using Base Trainer\n",
      "\n",
      "Model passed sanity check !\n",
      "Ready for training.\n",
      "\n",
      "Created my_model/BetaVAE_training_2023-03-01_11-16-54. \n",
      "Training config, checkpoints and final model will be saved here.\n",
      "\n",
      "Training params:\n",
      " - max_epochs: 1\n",
      " - per_device_train_batch_size: 200\n",
      " - per_device_eval_batch_size: 200\n",
      " - checkpoint saving every: 20\n",
      "Optimizer: AdamW (\n",
      "Parameter Group 0\n",
      "    amsgrad: False\n",
      "    betas: (0.91, 0.995)\n",
      "    capturable: False\n",
      "    eps: 1e-08\n",
      "    foreach: None\n",
      "    lr: 0.001\n",
      "    maximize: False\n",
      "    weight_decay: 0.05\n",
      ")\n",
      "Scheduler: <torch.optim.lr_scheduler.ReduceLROnPlateau object at 0x7f2b3449c390>\n",
      "\n",
      "Successfully launched training !\n",
      "\n"
     ]
    },
    {
     "data": {
      "application/vnd.jupyter.widget-view+json": {
       "model_id": "bd1af25d88444b239b7c8f436c12cca1",
       "version_major": 2,
       "version_minor": 0
      },
      "text/plain": [
       "Training of epoch 1/1:   0%|          | 0/24 [00:00<?, ?batch/s]"
      ]
     },
     "metadata": {},
     "output_type": "display_data"
    },
    {
     "ename": "KeyboardInterrupt",
     "evalue": "",
     "output_type": "error",
     "traceback": [
      "\u001b[0;31m---------------------------------------------------------------------------\u001b[0m",
      "\u001b[0;31mKeyboardInterrupt\u001b[0m                         Traceback (most recent call last)",
      "\u001b[0;32m/tmp/ipykernel_3507592/2660363510.py\u001b[0m in \u001b[0;36m<module>\u001b[0;34m\u001b[0m\n\u001b[1;32m      1\u001b[0m pipeline(\n\u001b[1;32m      2\u001b[0m \u001b[0mtrain_data\u001b[0m\u001b[0;34m=\u001b[0m\u001b[0mimages_array\u001b[0m\u001b[0;34m,\u001b[0m\u001b[0;34m\u001b[0m\u001b[0;34m\u001b[0m\u001b[0m\n\u001b[0;32m----> 3\u001b[0;31m \u001b[0meval_data\u001b[0m\u001b[0;34m=\u001b[0m\u001b[0mimages_valid_array\u001b[0m\u001b[0;34m\u001b[0m\u001b[0;34m\u001b[0m\u001b[0m\n\u001b[0m\u001b[1;32m      4\u001b[0m )\n",
      "\u001b[0;32m/auto/homes/njr61/environments/mambaforge/envs/concepts/lib/python3.7/site-packages/pythae/pipelines/training.py\u001b[0m in \u001b[0;36m__call__\u001b[0;34m(self, train_data, eval_data, callbacks)\u001b[0m\n\u001b[1;32m    240\u001b[0m         \u001b[0mself\u001b[0m\u001b[0;34m.\u001b[0m\u001b[0mtrainer\u001b[0m \u001b[0;34m=\u001b[0m \u001b[0mtrainer\u001b[0m\u001b[0;34m\u001b[0m\u001b[0;34m\u001b[0m\u001b[0m\n\u001b[1;32m    241\u001b[0m \u001b[0;34m\u001b[0m\u001b[0m\n\u001b[0;32m--> 242\u001b[0;31m         \u001b[0mtrainer\u001b[0m\u001b[0;34m.\u001b[0m\u001b[0mtrain\u001b[0m\u001b[0;34m(\u001b[0m\u001b[0;34m)\u001b[0m\u001b[0;34m\u001b[0m\u001b[0;34m\u001b[0m\u001b[0m\n\u001b[0m",
      "\u001b[0;32m/auto/homes/njr61/environments/mambaforge/envs/concepts/lib/python3.7/site-packages/pythae/trainers/base_trainer/base_trainer.py\u001b[0m in \u001b[0;36mtrain\u001b[0;34m(self, log_output_dir)\u001b[0m\n\u001b[1;32m    431\u001b[0m             \u001b[0mmetrics\u001b[0m \u001b[0;34m=\u001b[0m \u001b[0;34m{\u001b[0m\u001b[0;34m}\u001b[0m\u001b[0;34m\u001b[0m\u001b[0;34m\u001b[0m\u001b[0m\n\u001b[1;32m    432\u001b[0m \u001b[0;34m\u001b[0m\u001b[0m\n\u001b[0;32m--> 433\u001b[0;31m             \u001b[0mepoch_train_loss\u001b[0m \u001b[0;34m=\u001b[0m \u001b[0mself\u001b[0m\u001b[0;34m.\u001b[0m\u001b[0mtrain_step\u001b[0m\u001b[0;34m(\u001b[0m\u001b[0mepoch\u001b[0m\u001b[0;34m)\u001b[0m\u001b[0;34m\u001b[0m\u001b[0;34m\u001b[0m\u001b[0m\n\u001b[0m\u001b[1;32m    434\u001b[0m             \u001b[0mmetrics\u001b[0m\u001b[0;34m[\u001b[0m\u001b[0;34m\"train_epoch_loss\"\u001b[0m\u001b[0;34m]\u001b[0m \u001b[0;34m=\u001b[0m \u001b[0mepoch_train_loss\u001b[0m\u001b[0;34m\u001b[0m\u001b[0;34m\u001b[0m\u001b[0m\n\u001b[1;32m    435\u001b[0m \u001b[0;34m\u001b[0m\u001b[0m\n",
      "\u001b[0;32m/auto/homes/njr61/environments/mambaforge/envs/concepts/lib/python3.7/site-packages/pythae/trainers/base_trainer/base_trainer.py\u001b[0m in \u001b[0;36mtrain_step\u001b[0;34m(self, epoch)\u001b[0m\n\u001b[1;32m    599\u001b[0m             )\n\u001b[1;32m    600\u001b[0m \u001b[0;34m\u001b[0m\u001b[0m\n\u001b[0;32m--> 601\u001b[0;31m             \u001b[0mself\u001b[0m\u001b[0;34m.\u001b[0m\u001b[0m_optimizers_step\u001b[0m\u001b[0;34m(\u001b[0m\u001b[0mmodel_output\u001b[0m\u001b[0;34m)\u001b[0m\u001b[0;34m\u001b[0m\u001b[0;34m\u001b[0m\u001b[0m\n\u001b[0m\u001b[1;32m    602\u001b[0m \u001b[0;34m\u001b[0m\u001b[0m\n\u001b[1;32m    603\u001b[0m             \u001b[0mloss\u001b[0m \u001b[0;34m=\u001b[0m \u001b[0mmodel_output\u001b[0m\u001b[0;34m.\u001b[0m\u001b[0mloss\u001b[0m\u001b[0;34m\u001b[0m\u001b[0;34m\u001b[0m\u001b[0m\n",
      "\u001b[0;32m/auto/homes/njr61/environments/mambaforge/envs/concepts/lib/python3.7/site-packages/pythae/trainers/base_trainer/base_trainer.py\u001b[0m in \u001b[0;36m_optimizers_step\u001b[0;34m(self, model_output)\u001b[0m\n\u001b[1;32m    347\u001b[0m \u001b[0;34m\u001b[0m\u001b[0m\n\u001b[1;32m    348\u001b[0m         \u001b[0mself\u001b[0m\u001b[0;34m.\u001b[0m\u001b[0moptimizer\u001b[0m\u001b[0;34m.\u001b[0m\u001b[0mzero_grad\u001b[0m\u001b[0;34m(\u001b[0m\u001b[0;34m)\u001b[0m\u001b[0;34m\u001b[0m\u001b[0;34m\u001b[0m\u001b[0m\n\u001b[0;32m--> 349\u001b[0;31m         \u001b[0mloss\u001b[0m\u001b[0;34m.\u001b[0m\u001b[0mbackward\u001b[0m\u001b[0;34m(\u001b[0m\u001b[0;34m)\u001b[0m\u001b[0;34m\u001b[0m\u001b[0;34m\u001b[0m\u001b[0m\n\u001b[0m\u001b[1;32m    350\u001b[0m         \u001b[0mself\u001b[0m\u001b[0;34m.\u001b[0m\u001b[0moptimizer\u001b[0m\u001b[0;34m.\u001b[0m\u001b[0mstep\u001b[0m\u001b[0;34m(\u001b[0m\u001b[0;34m)\u001b[0m\u001b[0;34m\u001b[0m\u001b[0;34m\u001b[0m\u001b[0m\n\u001b[1;32m    351\u001b[0m \u001b[0;34m\u001b[0m\u001b[0m\n",
      "\u001b[0;32m/auto/homes/njr61/environments/mambaforge/envs/concepts/lib/python3.7/site-packages/torch/_tensor.py\u001b[0m in \u001b[0;36mbackward\u001b[0;34m(self, gradient, retain_graph, create_graph, inputs)\u001b[0m\n\u001b[1;32m    394\u001b[0m                 \u001b[0mcreate_graph\u001b[0m\u001b[0;34m=\u001b[0m\u001b[0mcreate_graph\u001b[0m\u001b[0;34m,\u001b[0m\u001b[0;34m\u001b[0m\u001b[0;34m\u001b[0m\u001b[0m\n\u001b[1;32m    395\u001b[0m                 inputs=inputs)\n\u001b[0;32m--> 396\u001b[0;31m         \u001b[0mtorch\u001b[0m\u001b[0;34m.\u001b[0m\u001b[0mautograd\u001b[0m\u001b[0;34m.\u001b[0m\u001b[0mbackward\u001b[0m\u001b[0;34m(\u001b[0m\u001b[0mself\u001b[0m\u001b[0;34m,\u001b[0m \u001b[0mgradient\u001b[0m\u001b[0;34m,\u001b[0m \u001b[0mretain_graph\u001b[0m\u001b[0;34m,\u001b[0m \u001b[0mcreate_graph\u001b[0m\u001b[0;34m,\u001b[0m \u001b[0minputs\u001b[0m\u001b[0;34m=\u001b[0m\u001b[0minputs\u001b[0m\u001b[0;34m)\u001b[0m\u001b[0;34m\u001b[0m\u001b[0;34m\u001b[0m\u001b[0m\n\u001b[0m\u001b[1;32m    397\u001b[0m \u001b[0;34m\u001b[0m\u001b[0m\n\u001b[1;32m    398\u001b[0m     \u001b[0;32mdef\u001b[0m \u001b[0mregister_hook\u001b[0m\u001b[0;34m(\u001b[0m\u001b[0mself\u001b[0m\u001b[0;34m,\u001b[0m \u001b[0mhook\u001b[0m\u001b[0;34m)\u001b[0m\u001b[0;34m:\u001b[0m\u001b[0;34m\u001b[0m\u001b[0;34m\u001b[0m\u001b[0m\n",
      "\u001b[0;32m/auto/homes/njr61/environments/mambaforge/envs/concepts/lib/python3.7/site-packages/torch/autograd/__init__.py\u001b[0m in \u001b[0;36mbackward\u001b[0;34m(tensors, grad_tensors, retain_graph, create_graph, grad_variables, inputs)\u001b[0m\n\u001b[1;32m    173\u001b[0m     Variable._execution_engine.run_backward(  # Calls into the C++ engine to run the backward pass\n\u001b[1;32m    174\u001b[0m         \u001b[0mtensors\u001b[0m\u001b[0;34m,\u001b[0m \u001b[0mgrad_tensors_\u001b[0m\u001b[0;34m,\u001b[0m \u001b[0mretain_graph\u001b[0m\u001b[0;34m,\u001b[0m \u001b[0mcreate_graph\u001b[0m\u001b[0;34m,\u001b[0m \u001b[0minputs\u001b[0m\u001b[0;34m,\u001b[0m\u001b[0;34m\u001b[0m\u001b[0;34m\u001b[0m\u001b[0m\n\u001b[0;32m--> 175\u001b[0;31m         allow_unreachable=True, accumulate_grad=True)  # Calls into the C++ engine to run the backward pass\n\u001b[0m\u001b[1;32m    176\u001b[0m \u001b[0;34m\u001b[0m\u001b[0m\n\u001b[1;32m    177\u001b[0m def grad(\n",
      "\u001b[0;31mKeyboardInterrupt\u001b[0m: "
     ]
    }
   ],
   "source": [
    "pipeline(\n",
    "train_data=images_array,\n",
    "eval_data=images_valid_array\n",
    ")\n"
   ]
  },
  {
   "cell_type": "code",
   "execution_count": null,
   "id": "6901ff02",
   "metadata": {},
   "outputs": [],
   "source": [
    "my_samper = NormalSampler(\n",
    "    model=my_vae_model\n",
    ")"
   ]
  },
  {
   "cell_type": "code",
   "execution_count": null,
   "id": "ae0e69ac",
   "metadata": {},
   "outputs": [],
   "source": [
    "gen_data = my_samper.sample(\n",
    "    num_samples=10,\n",
    "    batch_size=10,\n",
    "    output_dir=None,\n",
    "    return_gen=True\n",
    ")\n"
   ]
  },
  {
   "cell_type": "code",
   "execution_count": null,
   "id": "bf09b7ef",
   "metadata": {},
   "outputs": [],
   "source": [
    "for i in range(len(gen_data)):\n",
    "    plt.figure()\n",
    "    plt.imshow(np.array(gen_data[i]).transpose(1,2,0))"
   ]
  },
  {
   "cell_type": "code",
   "execution_count": null,
   "id": "033a393c",
   "metadata": {},
   "outputs": [],
   "source": [
    "for i in range(len(gen_data)):\n",
    "    plt.figure()\n",
    "    plt.imshow(images[i])"
   ]
  },
  {
   "cell_type": "markdown",
   "id": "622e53aa",
   "metadata": {},
   "source": [
    "### Coding from Scratch"
   ]
  },
  {
   "cell_type": "code",
   "execution_count": 371,
   "id": "bda55d23",
   "metadata": {},
   "outputs": [],
   "source": [
    "latent_dim = 64\n",
    "decoder_3 = create_decoder(size,3,latent_dim)\n",
    "encoder_3 = create_encoder(size,3,latent_dim)"
   ]
  },
  {
   "cell_type": "code",
   "execution_count": 372,
   "id": "943a2d9a",
   "metadata": {},
   "outputs": [],
   "source": [
    "def log_hyperbolic_cosine_loss(y_true, y_pred):\n",
    "    c = 1\n",
    "    cosh = K.cosh(c * y_pred)\n",
    "    return K.log(K.mean(cosh - c * y_true * y_pred) + 1e-6)"
   ]
  },
  {
   "cell_type": "code",
   "execution_count": 373,
   "id": "a24b36cf",
   "metadata": {},
   "outputs": [],
   "source": [
    "def perceptual_loss(y_true, y_pred):\n",
    "    # Get the feature maps of the VGG16 model for the target and generated images\n",
    "    target_features = vgg16(y_true)\n",
    "    generated_features = vgg16(y_pred)\n",
    "    \n",
    "    # Compute the L2 distance between the feature maps\n",
    "    loss = tf.keras.backend.mean(tf.keras.backend.square(target_features - generated_features))\n",
    "    \n",
    "    return loss\n"
   ]
  },
  {
   "cell_type": "code",
   "execution_count": 374,
   "id": "ce9c073d",
   "metadata": {},
   "outputs": [],
   "source": [
    "class VAE(keras.Model):\n",
    "    def __init__(self, encoder, decoder,concept_alignment=False,**kwargs):\n",
    "        super().__init__(**kwargs)\n",
    "        self.encoder = encoder\n",
    "        self.decoder = decoder\n",
    "        self.concept_alignment = concept_alignment\n",
    "        self.total_loss_tracker = keras.metrics.Mean(name=\"total_loss\")\n",
    "        self.reconstruction_loss_tracker = keras.metrics.Mean(\n",
    "            name=\"reconstruction_loss\"\n",
    "        )\n",
    "        self.kl_loss_tracker = keras.metrics.Mean(name=\"kl_loss\")\n",
    "        self.concept_loss_tracker = keras.metrics.Mean(name=\"concept_loss\")\n",
    "        self.kl_weight = 0\n",
    "        \n",
    "    @property\n",
    "    def metrics(self):\n",
    "        return [\n",
    "            self.total_loss_tracker,\n",
    "            self.reconstruction_loss_tracker,\n",
    "            self.kl_loss_tracker,\n",
    "            self.concept_loss_tracker,\n",
    "        ]\n",
    "\n",
    "    def train_step(self, data):\n",
    "        if self.concept_alignment:\n",
    "            data,concepts = data[0]\n",
    "            concepts = tf.cast(concepts,tf.float32) \n",
    "                \n",
    "        with tf.GradientTape() as tape:\n",
    "            z_mean, z_log_var, z = self.encoder(data)\n",
    "            reconstruction = self.decoder(z)\n",
    "            reconstruction_loss = tf.keras.losses.log_cosh(data, reconstruction)\n",
    "            kl_loss = -0.5 * (1 + z_log_var - tf.square(z_mean) - tf.exp(z_log_var))\n",
    "            kl_loss = tf.reduce_mean(tf.reduce_sum(kl_loss, axis=1))\n",
    "            \n",
    "            concept_loss = 0\n",
    "            \n",
    "            if self.concept_alignment:\n",
    "                masked_concepts = z*concepts\n",
    "                reconstruction_mask = self.decoder(masked_concepts)\n",
    "                concept_loss = tf.reduce_mean(\n",
    "                    tf.reduce_sum(\n",
    "                        keras.losses.binary_crossentropy(data, reconstruction_mask), axis=(1,2)\n",
    "                    )\n",
    "                )\n",
    "\n",
    "\n",
    "\n",
    "            total_loss = reconstruction_loss + self.kl_weight*kl_loss + concept_loss\n",
    "        grads = tape.gradient(total_loss, self.trainable_weights)\n",
    "        self.optimizer.apply_gradients(zip(grads, self.trainable_weights))\n",
    "        self.total_loss_tracker.update_state(total_loss)\n",
    "        self.reconstruction_loss_tracker.update_state(reconstruction_loss)\n",
    "        self.kl_loss_tracker.update_state(kl_loss)\n",
    "        self.concept_loss_tracker.update_state(concept_loss)\n",
    "                \n",
    "        return {\n",
    "            \"loss\": self.total_loss_tracker.result(),\n",
    "            \"reconstruction_loss\": self.reconstruction_loss_tracker.result(),\n",
    "            \"kl_loss\": self.kl_loss_tracker.result(),\n",
    "            \"concept_loss\": self.concept_loss_tracker.result(),\n",
    "        }\n",
    "    "
   ]
  },
  {
   "cell_type": "code",
   "execution_count": 375,
   "id": "5a3d0d15",
   "metadata": {},
   "outputs": [],
   "source": [
    "vae = VAE(encoder_3, decoder_3,concept_alignment=concept_alignment)\n",
    "vae.compile(optimizer=keras.optimizers.Adam())"
   ]
  },
  {
   "cell_type": "code",
   "execution_count": 376,
   "id": "33567871",
   "metadata": {},
   "outputs": [
    {
     "name": "stdout",
     "output_type": "stream",
     "text": [
      "Epoch 1/20\n",
      "38/38 [==============================] - 30s 754ms/step - loss: 0.0264 - reconstruction_loss: 0.0249 - kl_loss: 47.8137 - concept_loss: 0.0000e+00\n",
      "Epoch 2/20\n",
      "38/38 [==============================] - 30s 774ms/step - loss: 0.0219 - reconstruction_loss: 0.0215 - kl_loss: 97.7688 - concept_loss: 0.0000e+00\n",
      "Epoch 3/20\n",
      "38/38 [==============================] - 29s 775ms/step - loss: 0.0206 - reconstruction_loss: 0.0205 - kl_loss: 133.2406 - concept_loss: 0.0000e+00\n",
      "Epoch 4/20\n",
      "38/38 [==============================] - 29s 772ms/step - loss: 0.0192 - reconstruction_loss: 0.0186 - kl_loss: 212.7622 - concept_loss: 0.0000e+00\n",
      "Epoch 5/20\n",
      "38/38 [==============================] - 30s 791ms/step - loss: 0.0167 - reconstruction_loss: 0.0159 - kl_loss: 305.6664 - concept_loss: 0.0000e+00\n",
      "Epoch 6/20\n",
      "38/38 [==============================] - 29s 766ms/step - loss: 0.0142 - reconstruction_loss: 0.0141 - kl_loss: 354.7348 - concept_loss: 0.0000e+00\n",
      "Epoch 7/20\n",
      "38/38 [==============================] - 29s 759ms/step - loss: 0.0138 - reconstruction_loss: 0.0135 - kl_loss: 358.5775 - concept_loss: 0.0000e+00\n",
      "Epoch 8/20\n",
      "38/38 [==============================] - 29s 767ms/step - loss: 0.0133 - reconstruction_loss: 0.0132 - kl_loss: 382.9221 - concept_loss: 0.0000e+00\n",
      "Epoch 9/20\n",
      "38/38 [==============================] - 30s 780ms/step - loss: 0.0130 - reconstruction_loss: 0.0131 - kl_loss: 387.2315 - concept_loss: 0.0000e+00\n",
      "Epoch 10/20\n",
      "38/38 [==============================] - 29s 773ms/step - loss: 0.0130 - reconstruction_loss: 0.0130 - kl_loss: 390.0715 - concept_loss: 0.0000e+00\n",
      "Epoch 11/20\n",
      "38/38 [==============================] - 30s 782ms/step - loss: 0.0134 - reconstruction_loss: 0.0131 - kl_loss: 370.4898 - concept_loss: 0.0000e+00\n",
      "Epoch 12/20\n",
      "38/38 [==============================] - 29s 773ms/step - loss: 0.0129 - reconstruction_loss: 0.0129 - kl_loss: 377.8504 - concept_loss: 0.0000e+00\n",
      "Epoch 13/20\n",
      "38/38 [==============================] - 29s 764ms/step - loss: 0.0130 - reconstruction_loss: 0.0129 - kl_loss: 383.3887 - concept_loss: 0.0000e+00\n",
      "Epoch 14/20\n",
      "38/38 [==============================] - 29s 752ms/step - loss: 0.0128 - reconstruction_loss: 0.0129 - kl_loss: 379.6759 - concept_loss: 0.0000e+00\n",
      "Epoch 15/20\n",
      "38/38 [==============================] - 29s 757ms/step - loss: 0.0130 - reconstruction_loss: 0.0129 - kl_loss: 374.2418 - concept_loss: 0.0000e+00\n",
      "Epoch 16/20\n",
      "38/38 [==============================] - 29s 758ms/step - loss: 0.0131 - reconstruction_loss: 0.0129 - kl_loss: 372.4502 - concept_loss: 0.0000e+00\n",
      "Epoch 17/20\n",
      "38/38 [==============================] - 30s 794ms/step - loss: 0.0129 - reconstruction_loss: 0.0128 - kl_loss: 382.0641 - concept_loss: 0.0000e+00\n",
      "Epoch 18/20\n",
      "38/38 [==============================] - 29s 773ms/step - loss: 0.0128 - reconstruction_loss: 0.0128 - kl_loss: 383.0325 - concept_loss: 0.0000e+00\n",
      "Epoch 19/20\n",
      "38/38 [==============================] - 29s 772ms/step - loss: 0.0128 - reconstruction_loss: 0.0128 - kl_loss: 379.5695 - concept_loss: 0.0000e+00\n",
      "Epoch 20/20\n",
      "38/38 [==============================] - 29s 760ms/step - loss: 0.0131 - reconstruction_loss: 0.0128 - kl_loss: 373.3648 - concept_loss: 0.0000e+00\n"
     ]
    },
    {
     "data": {
      "text/plain": [
       "<keras.callbacks.History at 0x7f2b783983d0>"
      ]
     },
     "execution_count": 376,
     "metadata": {},
     "output_type": "execute_result"
    }
   ],
   "source": [
    "vae.fit(images, epochs=20, batch_size=128)"
   ]
  },
  {
   "cell_type": "code",
   "execution_count": 421,
   "id": "28fd7644",
   "metadata": {},
   "outputs": [],
   "source": [
    "predicted_images = decoder_3(np.random.random((1,64)))[0]"
   ]
  },
  {
   "cell_type": "code",
   "execution_count": 422,
   "id": "944d5b25",
   "metadata": {},
   "outputs": [
    {
     "data": {
      "text/plain": [
       "<matplotlib.image.AxesImage at 0x7f2b1c6676d0>"
      ]
     },
     "execution_count": 422,
     "metadata": {},
     "output_type": "execute_result"
    },
    {
     "data": {
      "image/png": "[encoded data removed]",
      "text/plain": [
       "<Figure size 432x288 with 1 Axes>"
      ]
     },
     "metadata": {
      "needs_background": "light"
     },
     "output_type": "display_data"
    }
   ],
   "source": [
    "plt.imshow(predicted_images)"
   ]
  },
  {
   "cell_type": "code",
   "execution_count": 381,
   "id": "9c68c319",
   "metadata": {},
   "outputs": [
    {
     "data": {
      "text/plain": [
       "<matplotlib.image.AxesImage at 0x7f2b77758550>"
      ]
     },
     "execution_count": 381,
     "metadata": {},
     "output_type": "execute_result"
    },
    {
     "data": {
      "image/png": "[encoded data removed]",
      "text/plain": [
       "<Figure size 432x288 with 1 Axes>"
      ]
     },
     "metadata": {
      "needs_background": "light"
     },
     "output_type": "display_data"
    }
   ],
   "source": [
    "plt.imshow(images[0])"
   ]
  },
  {
   "cell_type": "code",
   "execution_count": 384,
   "id": "7c63115e",
   "metadata": {},
   "outputs": [],
   "source": [
    "mu, sigma, encoded_image = encoder_3(np.array([images[0]]))"
   ]
  },
  {
   "cell_type": "code",
   "execution_count": 417,
   "id": "5253a818",
   "metadata": {},
   "outputs": [],
   "source": [
    "sample = np.random.normal(mu, np.sqrt(np.exp(sigma)))"
   ]
  },
  {
   "cell_type": "code",
   "execution_count": 418,
   "id": "549090ab",
   "metadata": {},
   "outputs": [],
   "source": [
    "decoded_image = decoder_3(sample)"
   ]
  },
  {
   "cell_type": "code",
   "execution_count": 419,
   "id": "971b5710",
   "metadata": {},
   "outputs": [
    {
     "data": {
      "text/plain": [
       "<matplotlib.image.AxesImage at 0x7f2b1c765550>"
      ]
     },
     "execution_count": 419,
     "metadata": {},
     "output_type": "execute_result"
    },
    {
     "data": {
      "image/png": "[encoded data removed]",
      "text/plain": [
       "<Figure size 432x288 with 1 Axes>"
      ]
     },
     "metadata": {
      "needs_background": "light"
     },
     "output_type": "display_data"
    }
   ],
   "source": [
    "plt.imshow(decoded_image[0])"
   ]
  },
  {
   "cell_type": "code",
   "execution_count": null,
   "id": "9d840fac",
   "metadata": {},
   "outputs": [],
   "source": []
  }
 ],
 "metadata": {
  "kernelspec": {
   "display_name": "Python 3 (ipykernel)",
   "language": "python",
   "name": "python3"
  },
  "language_info": {
   "codemirror_mode": {
    "name": "ipython",
    "version": 3
   },
   "file_extension": ".py",
   "mimetype": "text/x-python",
   "name": "python",
   "nbconvert_exporter": "python",
   "pygments_lexer": "ipython3",
   "version": "3.7.12"
  }
 },
 "nbformat": 4,
 "nbformat_minor": 5
}
