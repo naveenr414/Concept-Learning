{
 "cells": [
  {
   "cell_type": "code",
   "execution_count": 1,
   "id": "e83e508c",
   "metadata": {},
   "outputs": [],
   "source": [
    "%load_ext autoreload\n",
    "%autoreload 2\n",
    "%matplotlib notebook"
   ]
  },
  {
   "cell_type": "code",
   "execution_count": 2,
   "id": "b3c42d79",
   "metadata": {},
   "outputs": [],
   "source": [
    "import os\n",
    "os.chdir('../')"
   ]
  },
  {
   "cell_type": "code",
   "execution_count": 3,
   "id": "5d4286b7",
   "metadata": {},
   "outputs": [
    {
     "name": "stderr",
     "output_type": "stream",
     "text": [
      "2023-01-06 00:17:58.983185: I tensorflow/core/platform/cpu_feature_guard.cc:193] This TensorFlow binary is optimized with oneAPI Deep Neural Network Library (oneDNN) to use the following CPU instructions in performance-critical operations:  SSE4.1 SSE4.2 AVX FMA\n",
      "To enable them in other operations, rebuild TensorFlow with the appropriate compiler flags.\n"
     ]
    }
   ],
   "source": [
    "import numpy as np\n",
    "import matplotlib.pyplot as plt\n",
    "import scipy\n",
    "from sklearn.manifold import TSNE\n",
    "from sklearn.decomposition import PCA\n",
    "import tcav\n",
    "from src.download_data import download_imagenet, download_random_imagenet_classes\n",
    "import pickle\n",
    "from src.dataset import *\n",
    "from src.concept_vectors import *\n",
    "from src.util import *\n",
    "import random\n",
    "from src.plots import *\n",
    "from sklearn.manifold import TSNE\n",
    "from scipy.spatial.distance import cosine \n",
    "import pandas as pd\n",
    "from sklearn.datasets import make_moons\n",
    "import matplotlib.pyplot as plt\n",
    "from scipy.cluster.hierarchy import dendrogram, linkage\n",
    "from sklearn.cluster import AgglomerativeClustering\n",
    "from sklearn.datasets import make_blobs\n",
    "from src.hierarchy import *"
   ]
  },
  {
   "cell_type": "code",
   "execution_count": 4,
   "id": "d7b9c794",
   "metadata": {},
   "outputs": [
    {
     "data": {
      "text/plain": [
       "(48, 16)"
      ]
     },
     "execution_count": 4,
     "metadata": {},
     "output_type": "execute_result"
    }
   ],
   "source": [
    "load_cem_vectors(\"xor\",0,42).shape"
   ]
  },
  {
   "cell_type": "code",
   "execution_count": 5,
   "id": "f1425c74",
   "metadata": {},
   "outputs": [
    {
     "data": {
      "text/plain": [
       "(2, 100352)"
      ]
     },
     "execution_count": 5,
     "metadata": {},
     "output_type": "execute_result"
    }
   ],
   "source": [
    "load_tcav_vectors(\"soccer\",['mixed4c'],experiment_name=\"unfiled\")[0].shape"
   ]
  },
  {
   "cell_type": "code",
   "execution_count": 6,
   "id": "7ed3352f",
   "metadata": {},
   "outputs": [
    {
     "data": {
      "text/plain": [
       "(1, 4796)"
      ]
     },
     "execution_count": 6,
     "metadata": {},
     "output_type": "execute_result"
    }
   ],
   "source": [
    "load_label_vectors_simple(\"has_bill_shape::dagger\",\"cub\",seed=42).shape"
   ]
  },
  {
   "cell_type": "code",
   "execution_count": 7,
   "id": "5e8cad40",
   "metadata": {},
   "outputs": [
    {
     "data": {
      "text/plain": [
       "(48, 16)"
      ]
     },
     "execution_count": 7,
     "metadata": {},
     "output_type": "execute_result"
    }
   ],
   "source": [
    "load_cem_vectors_simple('0','xor',seed=42).shape"
   ]
  },
  {
   "cell_type": "code",
   "execution_count": 27,
   "id": "be42c223",
   "metadata": {},
   "outputs": [],
   "source": [
    "h1 = create_hierarchy(create_ward_hierarchy,load_cem_vectors_simple, 'xor',['0','1'],42)"
   ]
  },
  {
   "cell_type": "code",
   "execution_count": 28,
   "id": "c5e7a3c7",
   "metadata": {},
   "outputs": [],
   "source": [
    "h2 = create_hierarchy(create_linkage_hierarchy,load_tcav_vectors_simple, 'unfiled',['soccer','alga'],42)"
   ]
  },
  {
   "cell_type": "code",
   "execution_count": 29,
   "id": "14422221",
   "metadata": {},
   "outputs": [],
   "source": [
    "h3 = create_hierarchy(create_linkage_hierarchy,load_label_vectors_simple, 'cub',[\"has_bill_shape::dagger\",'has_bill_shape::hooked_seabird'],42)"
   ]
  },
  {
   "cell_type": "code",
   "execution_count": 33,
   "id": "bfa661bd",
   "metadata": {},
   "outputs": [
    {
     "data": {
      "text/plain": [
       "32"
      ]
     },
     "execution_count": 33,
     "metadata": {},
     "output_type": "execute_result"
    }
   ],
   "source": [
    "len(str(h1))"
   ]
  },
  {
   "cell_type": "code",
   "execution_count": 34,
   "id": "c62c10b9",
   "metadata": {},
   "outputs": [
    {
     "data": {
      "text/plain": [
       "40"
      ]
     },
     "execution_count": 34,
     "metadata": {},
     "output_type": "execute_result"
    }
   ],
   "source": [
    "len(str(h2))"
   ]
  },
  {
   "cell_type": "code",
   "execution_count": 35,
   "id": "1aaeb3af",
   "metadata": {},
   "outputs": [
    {
     "data": {
      "text/plain": [
       "82"
      ]
     },
     "execution_count": 35,
     "metadata": {},
     "output_type": "execute_result"
    }
   ],
   "source": [
    "len(str(h3))"
   ]
  },
  {
   "cell_type": "code",
   "execution_count": 40,
   "id": "52199b98",
   "metadata": {},
   "outputs": [],
   "source": [
    "assert type(h1) == type(h2) == type(h3)"
   ]
  },
  {
   "cell_type": "code",
   "execution_count": null,
   "id": "ccd5094a",
   "metadata": {},
   "outputs": [],
   "source": []
  }
 ],
 "metadata": {
  "kernelspec": {
   "display_name": "Python 3 (ipykernel)",
   "language": "python",
   "name": "python3"
  },
  "language_info": {
   "codemirror_mode": {
    "name": "ipython",
    "version": 3
   },
   "file_extension": ".py",
   "mimetype": "text/x-python",
   "name": "python",
   "nbconvert_exporter": "python",
   "pygments_lexer": "ipython3",
   "version": "3.7.12"
  }
 },
 "nbformat": 4,
 "nbformat_minor": 5
}
