{
 "cells": [
  {
   "cell_type": "code",
   "execution_count": 1,
   "id": "e83e508c",
   "metadata": {},
   "outputs": [],
   "source": [
    "%load_ext autoreload\n",
    "%autoreload 2\n",
    "%matplotlib notebook"
   ]
  },
  {
   "cell_type": "code",
   "execution_count": 2,
   "id": "b3c42d79",
   "metadata": {},
   "outputs": [],
   "source": [
    "import os\n",
    "os.chdir('../')"
   ]
  },
  {
   "cell_type": "code",
   "execution_count": 13,
   "id": "5d4286b7",
   "metadata": {
    "scrolled": true
   },
   "outputs": [],
   "source": [
    "import numpy as np\n",
    "import matplotlib.pyplot as plt\n",
    "import scipy\n",
    "from sklearn.manifold import TSNE\n",
    "from sklearn.decomposition import PCA\n",
    "import tcav\n",
    "from src.download_data import download_imagenet, download_random_imagenet_classes\n",
    "import pickle\n",
    "from src.dataset import *\n",
    "from src.concept_vectors import *\n",
    "from src.util import *\n",
    "import random\n",
    "from src.plots import *\n",
    "from sklearn.manifold import TSNE\n",
    "from scipy.spatial.distance import cosine \n",
    "import pandas as pd\n",
    "from sklearn.datasets import make_moons\n",
    "import matplotlib.pyplot as plt\n",
    "from scipy.cluster.hierarchy import dendrogram, linkage\n",
    "from sklearn.cluster import AgglomerativeClustering\n",
    "from sklearn.datasets import make_blobs\n",
    "from src.hierarchy import *\n",
    "from src.metrics import *\n",
    "import pickle\n",
    "import tensorflow as tf\n",
    "import keras\n",
    "from keras.models import load_model, Model\n",
    "import tcav.model  as model\n",
    "import keras\n",
    "from keras.applications.vgg16 import VGG16\n",
    "from keras import losses\n",
    "import sklearn"
   ]
  },
  {
   "cell_type": "code",
   "execution_count": 10,
   "id": "fd299147",
   "metadata": {},
   "outputs": [],
   "source": [
    "attributes = ['{}_number'.format(i) for i in range(10)]"
   ]
  },
  {
   "cell_type": "code",
   "execution_count": 11,
   "id": "69ffbcc4",
   "metadata": {},
   "outputs": [],
   "source": [
    "with tf.compat.v1.Session() as sess:\n",
    "    a = get_activations_dictionary(attributes,sess,model_name=\"VGG16\",experiment_name=\"mnist\",max_examples=100,bottleneck=\"block5_conv1\")"
   ]
  },
  {
   "cell_type": "code",
   "execution_count": 12,
   "id": "b2115b43",
   "metadata": {},
   "outputs": [],
   "source": [
    "full_matrix = np.concatenate([a[i] for i in attributes])"
   ]
  },
  {
   "cell_type": "code",
   "execution_count": 15,
   "id": "b694b915",
   "metadata": {},
   "outputs": [],
   "source": [
    "kmeans = sklearn.cluster.KMeans(n_clusters=10).fit(full_matrix)"
   ]
  },
  {
   "cell_type": "code",
   "execution_count": 16,
   "id": "28fdff01",
   "metadata": {},
   "outputs": [
    {
     "data": {
      "text/plain": [
       "array([7, 7, 7, 7, 7, 7, 7, 7, 7, 7, 7, 7, 7, 7, 7, 7, 7, 7, 7, 7, 7, 7,\n",
       "       7, 7, 7, 7, 7, 7, 7, 7, 7, 7, 7, 7, 7, 7, 7, 7, 7, 7, 7, 7, 7, 7,\n",
       "       7, 7, 7, 7, 7, 7, 7, 7, 7, 7, 7, 7, 7, 7, 7, 7, 7, 7, 7, 7, 7, 2,\n",
       "       7, 7, 7, 7, 7, 7, 7, 7, 7, 7, 7, 7, 7, 7, 7, 7, 7, 7, 7, 7, 7, 7,\n",
       "       7, 7, 7, 7, 7, 6, 7, 7, 7, 7, 1, 7, 8, 8, 8, 8, 8, 8, 8, 8, 8, 8,\n",
       "       8, 8, 8, 8, 8, 8, 8, 8, 8, 8, 8, 8, 8, 8, 8, 8, 8, 8, 8, 8, 8, 8,\n",
       "       8, 8, 8, 8, 8, 8, 8, 8, 8, 8, 8, 8, 8, 8, 8, 8, 8, 8, 8, 8, 8, 8,\n",
       "       8, 8, 8, 8, 8, 8, 8, 8, 8, 8, 8, 8, 8, 8, 8, 8, 8, 8, 8, 8, 8, 8,\n",
       "       8, 8, 8, 8, 8, 8, 8, 8, 8, 8, 8, 8, 8, 8, 8, 8, 8, 8, 8, 8, 8, 8,\n",
       "       8, 8, 9, 8, 9, 9, 9, 2, 2, 9, 9, 9, 9, 9, 9, 9, 9, 2, 6, 9, 5, 9,\n",
       "       9, 9, 9, 9, 2, 9, 9, 9, 4, 9, 9, 9, 2, 9, 9, 9, 2, 9, 9, 9, 9, 9,\n",
       "       9, 9, 9, 9, 9, 9, 9, 9, 9, 9, 9, 9, 9, 9, 9, 9, 9, 9, 9, 7, 9, 9,\n",
       "       9, 9, 9, 9, 9, 9, 9, 9, 9, 9, 9, 2, 9, 5, 9, 2, 2, 9, 9, 9, 2, 8,\n",
       "       9, 9, 9, 9, 9, 4, 9, 9, 9, 9, 9, 9, 2, 9, 2, 2, 2, 2, 2, 9, 2, 2,\n",
       "       2, 4, 2, 2, 2, 2, 2, 2, 2, 2, 2, 2, 8, 2, 2, 2, 2, 2, 2, 2, 2, 1,\n",
       "       2, 2, 8, 2, 2, 2, 2, 2, 1, 2, 2, 9, 2, 2, 2, 2, 2, 2, 1, 2, 2, 2,\n",
       "       2, 2, 2, 2, 2, 1, 2, 2, 2, 1, 2, 2, 8, 2, 2, 2, 2, 2, 2, 2, 2, 2,\n",
       "       2, 2, 2, 2, 2, 2, 2, 2, 2, 2, 2, 2, 2, 2, 2, 2, 2, 2, 2, 2, 2, 2,\n",
       "       2, 2, 2, 2, 6, 6, 6, 6, 6, 6, 6, 6, 6, 6, 6, 6, 6, 6, 6, 6, 6, 6,\n",
       "       6, 6, 6, 6, 6, 6, 6, 6, 6, 6, 6, 6, 6, 6, 6, 6, 4, 6, 6, 6, 6, 6,\n",
       "       6, 6, 6, 6, 6, 6, 6, 6, 6, 8, 6, 6, 6, 6, 6, 6, 6, 6, 6, 6, 6, 6,\n",
       "       6, 6, 6, 6, 6, 6, 6, 1, 6, 6, 6, 6, 6, 6, 6, 6, 6, 6, 6, 3, 6, 6,\n",
       "       6, 6, 6, 4, 6, 6, 6, 6, 6, 6, 6, 6, 6, 6, 6, 6, 1, 2, 2, 1, 1, 1,\n",
       "       1, 1, 2, 1, 1, 1, 1, 1, 1, 1, 1, 1, 1, 1, 2, 1, 6, 2, 1, 7, 1, 1,\n",
       "       1, 1, 6, 1, 1, 2, 1, 1, 1, 6, 6, 1, 1, 1, 1, 5, 1, 2, 1, 1, 1, 1,\n",
       "       1, 6, 2, 1, 1, 1, 2, 1, 1, 1, 2, 1, 2, 1, 2, 1, 2, 1, 6, 1, 1, 2,\n",
       "       1, 1, 1, 2, 2, 1, 2, 1, 1, 1, 2, 1, 1, 1, 2, 1, 1, 1, 2, 1, 1, 1,\n",
       "       1, 2, 1, 1, 1, 6, 3, 3, 3, 3, 3, 3, 3, 3, 3, 3, 3, 3, 3, 3, 3, 3,\n",
       "       3, 3, 3, 3, 3, 1, 3, 3, 3, 3, 3, 3, 3, 3, 3, 3, 3, 3, 3, 3, 3, 3,\n",
       "       3, 3, 3, 3, 3, 3, 3, 3, 3, 3, 3, 3, 3, 3, 3, 3, 3, 3, 3, 3, 3, 3,\n",
       "       3, 3, 3, 3, 3, 3, 3, 3, 3, 3, 3, 5, 3, 3, 3, 3, 3, 3, 3, 3, 3, 3,\n",
       "       3, 6, 3, 3, 3, 3, 3, 3, 3, 3, 3, 3, 3, 3, 3, 3, 3, 1, 6, 6, 4, 6,\n",
       "       4, 6, 6, 4, 4, 4, 4, 4, 4, 4, 4, 4, 6, 6, 4, 8, 4, 6, 6, 4, 6, 4,\n",
       "       6, 4, 4, 6, 4, 4, 6, 6, 6, 6, 4, 4, 4, 4, 6, 6, 6, 4, 6, 4, 4, 4,\n",
       "       4, 6, 6, 4, 4, 6, 4, 4, 6, 4, 6, 4, 4, 4, 4, 6, 4, 4, 4, 4, 4, 4,\n",
       "       6, 4, 6, 6, 4, 6, 6, 4, 4, 6, 4, 4, 4, 4, 4, 6, 4, 4, 6, 6, 4, 6,\n",
       "       4, 6, 4, 6, 6, 4, 4, 4, 5, 5, 0, 0, 0, 5, 5, 0, 0, 0, 0, 0, 0, 0,\n",
       "       0, 5, 0, 0, 0, 5, 0, 5, 5, 8, 5, 0, 5, 6, 0, 0, 5, 0, 0, 0, 0, 0,\n",
       "       5, 5, 0, 5, 5, 0, 5, 5, 4, 0, 5, 0, 5, 0, 5, 5, 5, 5, 0, 6, 0, 5,\n",
       "       0, 5, 0, 0, 0, 0, 0, 5, 0, 5, 0, 0, 0, 5, 5, 5, 0, 0, 5, 5, 0, 0,\n",
       "       5, 0, 0, 5, 5, 0, 0, 8, 5, 5, 5, 5, 2, 5, 5, 5, 5, 5, 0, 5, 6, 6,\n",
       "       6, 6, 6, 6, 6, 6, 6, 6, 6, 6, 6, 6, 7, 6, 6, 6, 6, 6, 6, 6, 6, 6,\n",
       "       6, 6, 6, 6, 6, 6, 6, 6, 6, 6, 6, 8, 6, 6, 6, 6, 6, 6, 6, 6, 6, 6,\n",
       "       4, 6, 6, 6, 6, 6, 6, 6, 6, 6, 6, 6, 6, 6, 6, 6, 8, 6, 6, 6, 6, 6,\n",
       "       6, 6, 6, 6, 6, 6, 6, 6, 6, 6, 6, 6, 6, 6, 6, 6, 6, 6, 6, 4, 6, 6,\n",
       "       6, 6, 6, 6, 6, 6, 4, 6, 6, 6], dtype=int32)"
      ]
     },
     "execution_count": 16,
     "metadata": {},
     "output_type": "execute_result"
    }
   ],
   "source": [
    "kmeans.labels_"
   ]
  },
  {
   "cell_type": "code",
   "execution_count": 20,
   "id": "8131c0fa",
   "metadata": {},
   "outputs": [],
   "source": [
    "true_labels = np.array([i//100 for i in range(len(full_matrix))])"
   ]
  },
  {
   "cell_type": "code",
   "execution_count": 18,
   "id": "e3ecfd79",
   "metadata": {},
   "outputs": [],
   "source": [
    "def purity_score(y_true, y_pred):\n",
    "    contingency_matrix = sklearn.metrics.cluster.contingency_matrix(y_true, y_pred)\n",
    "    return np.sum(np.amax(contingency_matrix, axis=0)) / np.sum(contingency_matrix) "
   ]
  },
  {
   "cell_type": "code",
   "execution_count": 22,
   "id": "f7eb56f3",
   "metadata": {},
   "outputs": [
    {
     "data": {
      "text/plain": [
       "((1000,), (1000,))"
      ]
     },
     "execution_count": 22,
     "metadata": {},
     "output_type": "execute_result"
    }
   ],
   "source": [
    "true_labels.shape, kmeans.labels_.shape"
   ]
  },
  {
   "cell_type": "code",
   "execution_count": 25,
   "id": "5d5a9270",
   "metadata": {},
   "outputs": [
    {
     "data": {
      "text/plain": [
       "0.831"
      ]
     },
     "execution_count": 25,
     "metadata": {},
     "output_type": "execute_result"
    }
   ],
   "source": [
    "purity_score(kmeans.labels_,true_labels)"
   ]
  },
  {
   "cell_type": "code",
   "execution_count": null,
   "id": "87bddb2b",
   "metadata": {},
   "outputs": [],
   "source": [
    "a = get_activations_dictionary(dataet.get_attributes(),model_name=\"VGG16\",experiment_name=\"mnist\",max_examples=100,bottleneck=\"block5_conv1\")"
   ]
  },
  {
   "cell_type": "code",
   "execution_count": 55,
   "id": "5d8396a5",
   "metadata": {},
   "outputs": [
    {
     "data": {
      "text/plain": [
       "230.10715"
      ]
     },
     "execution_count": 55,
     "metadata": {},
     "output_type": "execute_result"
    }
   ],
   "source": [
    "np.linalg.norm(a['0_number'][0])"
   ]
  },
  {
   "cell_type": "code",
   "execution_count": 56,
   "id": "5dd5cc07",
   "metadata": {},
   "outputs": [],
   "source": [
    "c = get_activations_dictionary(['0_number'],model_name=\"VGG16Robustness\",experiment_name=\"mnist\",max_examples=100,bottleneck=\"block5_conv1\")"
   ]
  },
  {
   "cell_type": "code",
   "execution_count": 57,
   "id": "b3b2561e",
   "metadata": {},
   "outputs": [
    {
     "data": {
      "text/plain": [
       "227.7425"
      ]
     },
     "execution_count": 57,
     "metadata": {},
     "output_type": "execute_result"
    }
   ],
   "source": [
    "np.linalg.norm(c['0_number'][0])"
   ]
  },
  {
   "cell_type": "code",
   "execution_count": 53,
   "id": "f89f7dae",
   "metadata": {},
   "outputs": [],
   "source": [
    "b = get_activations_dictionary(['0_number'],model_name=\"VGG16Responsiveness\",experiment_name=\"mnist\",max_examples=100,bottleneck=\"block5_conv1\")"
   ]
  },
  {
   "cell_type": "code",
   "execution_count": 58,
   "id": "f1dedb09",
   "metadata": {},
   "outputs": [
    {
     "data": {
      "text/plain": [
       "19.747633"
      ]
     },
     "execution_count": 58,
     "metadata": {},
     "output_type": "execute_result"
    }
   ],
   "source": [
    "np.linalg.norm(b['0_number'][0])"
   ]
  },
  {
   "cell_type": "code",
   "execution_count": 47,
   "id": "d66f3a7f",
   "metadata": {},
   "outputs": [],
   "source": [
    "image_dir = \"./dataset/images\"\n",
    "activation_dir = './results/activations'\n",
    "max_examples = 100\n",
    "act_generator = act_gen.ImageActivationGenerator(mymodel, image_dir, activation_dir,max_examples=max_examples)"
   ]
  },
  {
   "cell_type": "code",
   "execution_count": 48,
   "id": "b1028d0a",
   "metadata": {},
   "outputs": [],
   "source": [
    "examples = act_generator.get_examples_for_concept(\"0_number\")"
   ]
  },
  {
   "cell_type": "code",
   "execution_count": 49,
   "id": "f6ab51de",
   "metadata": {},
   "outputs": [
    {
     "data": {
      "text/plain": [
       "100"
      ]
     },
     "execution_count": 49,
     "metadata": {},
     "output_type": "execute_result"
    }
   ],
   "source": [
    "len(examples)"
   ]
  },
  {
   "cell_type": "code",
   "execution_count": 4,
   "id": "8b655359",
   "metadata": {},
   "outputs": [],
   "source": [
    "mnist_attributes = get_mnist_attributes()"
   ]
  },
  {
   "cell_type": "code",
   "execution_count": 5,
   "id": "8392d7c7",
   "metadata": {},
   "outputs": [
    {
     "data": {
      "text/plain": [
       "46.666666666666664"
      ]
     },
     "execution_count": 5,
     "metadata": {},
     "output_type": "execute_result"
    }
   ],
   "source": [
    "robustness_image_metric(create_linkage_hierarchy,load_tcav_vectors_simple,'mnist',mnist_attributes,[43,44,45])"
   ]
  },
  {
   "cell_type": "code",
   "execution_count": 6,
   "id": "96eda7c2",
   "metadata": {},
   "outputs": [
    {
     "data": {
      "text/plain": [
       "46.0"
      ]
     },
     "execution_count": 6,
     "metadata": {},
     "output_type": "execute_result"
    }
   ],
   "source": [
    "responsiveness_image_metric(create_linkage_hierarchy,load_tcav_vectors_simple,'mnist',mnist_attributes,[43,44,45])"
   ]
  },
  {
   "cell_type": "code",
   "execution_count": 9,
   "id": "59e72592",
   "metadata": {},
   "outputs": [
    {
     "data": {
      "text/plain": [
       "47.0"
      ]
     },
     "execution_count": 9,
     "metadata": {},
     "output_type": "execute_result"
    }
   ],
   "source": [
    "responsiveness_image_metric(create_linkage_hierarchy,\n",
    "                                       load_label_vectors_simple,'mnist',mnist_attributes,[43,44,45])"
   ]
  },
  {
   "cell_type": "code",
   "execution_count": 11,
   "id": "9cf45e23",
   "metadata": {},
   "outputs": [
    {
     "name": "stderr",
     "output_type": "stream",
     "text": [
      "2023-01-18 10:35:02.110670: I tensorflow/core/platform/cpu_feature_guard.cc:193] This TensorFlow binary is optimized with oneAPI Deep Neural Network Library (oneDNN) to use the following CPU instructions in performance-critical operations:  SSE4.1 SSE4.2 AVX FMA\n",
      "To enable them in other operations, rebuild TensorFlow with the appropriate compiler flags.\n",
      "2023-01-18 10:35:02.118093: I tensorflow/core/common_runtime/process_util.cc:146] Creating new thread pool with default inter op setting: 2. Tune using inter_op_parallelism_threads for best performance.\n"
     ]
    }
   ],
   "source": [
    "sess = utils.create_session()"
   ]
  },
  {
   "cell_type": "code",
   "execution_count": 12,
   "id": "81491e37",
   "metadata": {},
   "outputs": [],
   "source": [
    "GRAPH_PATH = \"./dataset/models/inception5h/tensorflow_inception_graph.pb\"\n",
    "LABEL_PATH = \"./dataset/models/inception5h/imagenet_comp_graph_label_strings.txt\"\n",
    "mymodel = model.GoogleNetWrapper_public(sess,\n",
    "                                    GRAPH_PATH,\n",
    "                                    LABEL_PATH)"
   ]
  },
  {
   "cell_type": "code",
   "execution_count": 13,
   "id": "033fdb43",
   "metadata": {},
   "outputs": [],
   "source": [
    "activation_dir = './results/activations'\n",
    "working_dir = './results/tmp'\n",
    "image_dir = \"./dataset/images\""
   ]
  },
  {
   "cell_type": "code",
   "execution_count": 15,
   "id": "9cb4f369",
   "metadata": {},
   "outputs": [],
   "source": [
    "act_generator = act_gen.ImageActivationGenerator(mymodel, \n",
    "                                                 image_dir, activation_dir, max_examples=100)"
   ]
  },
  {
   "cell_type": "code",
   "execution_count": 18,
   "id": "9a34e4a1",
   "metadata": {},
   "outputs": [],
   "source": [
    "d = act_generator.get_examples_for_concept(\"0_number\")"
   ]
  },
  {
   "cell_type": "code",
   "execution_count": 19,
   "id": "a27e0ad4",
   "metadata": {},
   "outputs": [
    {
     "data": {
      "text/plain": [
       "(100, 224, 224, 3)"
      ]
     },
     "execution_count": 19,
     "metadata": {},
     "output_type": "execute_result"
    }
   ],
   "source": [
    "d.shape"
   ]
  },
  {
   "cell_type": "code",
   "execution_count": 21,
   "id": "4073d735",
   "metadata": {},
   "outputs": [
    {
     "name": "stderr",
     "output_type": "stream",
     "text": [
      "2023-01-18 10:40:48.060535: I tensorflow/compiler/mlir/mlir_graph_optimization_pass.cc:354] MLIR V1 optimization pass is not enabled\n"
     ]
    }
   ],
   "source": [
    "activations = load_activations_tcav(mnist_attributes,experiment_name=\"mnist\",max_examples=100)"
   ]
  },
  {
   "cell_type": "code",
   "execution_count": 25,
   "id": "e2820f9e",
   "metadata": {},
   "outputs": [
    {
     "data": {
      "text/plain": [
       "82407.38"
      ]
     },
     "execution_count": 25,
     "metadata": {},
     "output_type": "execute_result"
    }
   ],
   "source": [
    "np.linalg.norm(activations[\"0_number\"])"
   ]
  },
  {
   "cell_type": "code",
   "execution_count": 5,
   "id": "7773c599",
   "metadata": {},
   "outputs": [],
   "source": [
    "hierarchy_method=create_linkage_hierarchy\n",
    "embedding_method=load_label_vectors_simple\n",
    "dataset='mnist'\n",
    "attributes=mnist_attributes\n",
    "random_seeds=[43,44,45]\n",
    "model=\"GoogleNet\""
   ]
  },
  {
   "cell_type": "code",
   "execution_count": 6,
   "id": "e3902508",
   "metadata": {},
   "outputs": [],
   "source": [
    "random.seed(42)\n",
    "    \n",
    "n_concepts = len(attributes)//5\n",
    "compare_concepts = len(attributes)//5\n",
    "\n",
    "selected_concepts = random.sample(attributes,k=n_concepts)\n",
    "\n",
    "avg_truthfulness = []"
   ]
  },
  {
   "cell_type": "code",
   "execution_count": 7,
   "id": "087b9638",
   "metadata": {},
   "outputs": [],
   "source": [
    "seed = 43\n",
    "concept = \"0_number\""
   ]
  },
  {
   "cell_type": "code",
   "execution_count": 8,
   "id": "72c61305",
   "metadata": {},
   "outputs": [],
   "source": [
    "activation_dir = './results/activations'\n",
    "working_dir = './results/tmp'\n",
    "image_dir = \"./dataset/images\"\n",
    "\n",
    "max_images = 100\n",
    "\n",
    "if dataset == 'mnist':\n",
    "    concepts = get_mnist_attributes()"
   ]
  },
  {
   "cell_type": "code",
   "execution_count": 9,
   "id": "43b05e6f",
   "metadata": {},
   "outputs": [
    {
     "name": "stderr",
     "output_type": "stream",
     "text": [
      "2023-01-18 11:31:35.994492: I tensorflow/core/platform/cpu_feature_guard.cc:193] This TensorFlow binary is optimized with oneAPI Deep Neural Network Library (oneDNN) to use the following CPU instructions in performance-critical operations:  SSE4.1 SSE4.2 AVX FMA\n",
      "To enable them in other operations, rebuild TensorFlow with the appropriate compiler flags.\n",
      "2023-01-18 11:31:36.002495: I tensorflow/core/common_runtime/process_util.cc:146] Creating new thread pool with default inter op setting: 2. Tune using inter_op_parallelism_threads for best performance.\n",
      "2023-01-18 11:31:40.246849: I tensorflow/compiler/mlir/mlir_graph_optimization_pass.cc:354] MLIR V1 optimization pass is not enabled\n"
     ]
    }
   ],
   "source": [
    "activations = load_activations_tcav(concepts,experiment_name=dataset,max_examples=max_images)"
   ]
  },
  {
   "cell_type": "code",
   "execution_count": 10,
   "id": "2acdeaa9",
   "metadata": {},
   "outputs": [],
   "source": [
    "our_vectors = activations[concept]"
   ]
  },
  {
   "cell_type": "code",
   "execution_count": 11,
   "id": "d742b55e",
   "metadata": {},
   "outputs": [
    {
     "data": {
      "text/plain": [
       "<function scipy.spatial.distance.cdist(XA, XB, metric='euclidean', *, out=None, **kwargs)>"
      ]
     },
     "execution_count": 11,
     "metadata": {},
     "output_type": "execute_result"
    }
   ],
   "source": [
    "cdist"
   ]
  },
  {
   "cell_type": "code",
   "execution_count": 13,
   "id": "5515428a",
   "metadata": {},
   "outputs": [
    {
     "name": "stdout",
     "output_type": "stream",
     "text": [
      "0_color\n",
      "0_number\n",
      "1_color\n",
      "1_number\n",
      "2_color\n",
      "2_number\n",
      "3_color\n",
      "3_number\n",
      "4_color\n",
      "4_number\n",
      "5_color\n",
      "5_number\n",
      "6_color\n",
      "6_number\n",
      "7_color\n",
      "7_number\n",
      "8_color\n",
      "8_number\n",
      "9_color\n",
      "9_number\n",
      "spurious\n"
     ]
    }
   ],
   "source": [
    "all_distance_pairs = []\n",
    "for other_concept in concepts:\n",
    "    print(other_concept)\n",
    "    if other_concept != concept:\n",
    "        distances = cdist(our_vectors,activations[other_concept],metric='cosine')\n",
    "        all_distance_pairs.append((other_concept,np.mean(distances)))"
   ]
  },
  {
   "cell_type": "code",
   "execution_count": 14,
   "id": "29c593ea",
   "metadata": {},
   "outputs": [
    {
     "data": {
      "text/plain": [
       "['0_color', '5_number', '6_number', '5_color', '6_color']"
      ]
     },
     "execution_count": 14,
     "metadata": {},
     "output_type": "execute_result"
    }
   ],
   "source": [
    "all_distance_pairs = sorted(all_distance_pairs,key=lambda k: k[1])\n",
    "[i[0] for i in all_distance_pairs][:5]"
   ]
  },
  {
   "cell_type": "code",
   "execution_count": 15,
   "id": "eb0c927a",
   "metadata": {},
   "outputs": [
    {
     "data": {
      "text/plain": [
       "[('0_color', 0.2703246392913351),\n",
       " ('5_number', 0.3634966880977542),\n",
       " ('6_number', 0.36597444109862576),\n",
       " ('5_color', 0.36602611221781145),\n",
       " ('6_color', 0.3692161675511568),\n",
       " ('9_number', 0.37112409359930537),\n",
       " ('8_number', 0.3792494928402702),\n",
       " ('9_color', 0.3808778023167217),\n",
       " ('8_color', 0.3813513889149904),\n",
       " ('3_number', 0.38222491701495953),\n",
       " ('spurious', 0.3834654850094098),\n",
       " ('3_color', 0.39138542483929173),\n",
       " ('2_number', 0.40489694623799805),\n",
       " ('2_color', 0.4084804230132554),\n",
       " ('4_number', 0.42284139339690574),\n",
       " ('1_color', 0.42325033832208264),\n",
       " ('7_color', 0.42465486258556595),\n",
       " ('4_color', 0.42499817839442877),\n",
       " ('1_number', 0.4272763922677328),\n",
       " ('7_number', 0.4313626597133339)]"
      ]
     },
     "execution_count": 15,
     "metadata": {},
     "output_type": "execute_result"
    }
   ],
   "source": [
    "all_distance_pairs"
   ]
  },
  {
   "cell_type": "code",
   "execution_count": 16,
   "id": "f0e2a8d7",
   "metadata": {},
   "outputs": [
    {
     "name": "stderr",
     "output_type": "stream",
     "text": [
      "/auto/homes/njr61/environments/mambaforge/envs/concepts/lib/python3.7/site-packages/tensorflow/python/client/session.py:1769: UserWarning: An interactive session is already active. This can cause out-of-memory errors in some cases. You must explicitly call `InteractiveSession.close()` to release resources held by the other session(s).\n",
      "  warnings.warn('An interactive session is already active. This can '\n"
     ]
    }
   ],
   "source": [
    "co_occuring_concepts = find_similar_concepts(concept,dataset,model,compare_concepts,seed)"
   ]
  },
  {
   "cell_type": "code",
   "execution_count": 19,
   "id": "4c883295",
   "metadata": {},
   "outputs": [],
   "source": [
    "co_occuring_concepts_hierarchy = rank_distance_concepts(embedding_method,dataset,concept,\n",
    "                                                                    co_occuring_concepts,seed)"
   ]
  },
  {
   "cell_type": "code",
   "execution_count": 22,
   "id": "c1ea8d62",
   "metadata": {},
   "outputs": [
    {
     "data": {
      "text/plain": [
       "['0_color', '6_color', '5_number', '5_color']"
      ]
     },
     "execution_count": 22,
     "metadata": {},
     "output_type": "execute_result"
    }
   ],
   "source": [
    "co_occuring_concepts"
   ]
  },
  {
   "cell_type": "code",
   "execution_count": 21,
   "id": "4663a83d",
   "metadata": {},
   "outputs": [
    {
     "data": {
      "text/plain": [
       "['0_color', '6_color', '5_number', '5_color']"
      ]
     },
     "execution_count": 21,
     "metadata": {},
     "output_type": "execute_result"
    }
   ],
   "source": [
    "co_occuring_concepts_hierarchy"
   ]
  },
  {
   "cell_type": "code",
   "execution_count": 26,
   "id": "83cac596",
   "metadata": {},
   "outputs": [
    {
     "data": {
      "text/plain": [
       "1.0"
      ]
     },
     "execution_count": 26,
     "metadata": {},
     "output_type": "execute_result"
    }
   ],
   "source": [
    "stats.kendalltau(co_occuring_concepts,co_occuring_concepts_hierarchy).correlation"
   ]
  },
  {
   "cell_type": "code",
   "execution_count": 5,
   "id": "80583ce8",
   "metadata": {},
   "outputs": [
    {
     "name": "stderr",
     "output_type": "stream",
     "text": [
      "2023-01-18 12:07:52.800447: I tensorflow/core/platform/cpu_feature_guard.cc:193] This TensorFlow binary is optimized with oneAPI Deep Neural Network Library (oneDNN) to use the following CPU instructions in performance-critical operations:  SSE4.1 SSE4.2 AVX FMA\n",
      "To enable them in other operations, rebuild TensorFlow with the appropriate compiler flags.\n",
      "2023-01-18 12:07:52.807738: I tensorflow/core/common_runtime/process_util.cc:146] Creating new thread pool with default inter op setting: 2. Tune using inter_op_parallelism_threads for best performance.\n",
      "2023-01-18 12:07:56.934859: I tensorflow/compiler/mlir/mlir_graph_optimization_pass.cc:354] MLIR V1 optimization pass is not enabled\n",
      "/auto/homes/njr61/environments/mambaforge/envs/concepts/lib/python3.7/site-packages/tensorflow/python/client/session.py:1769: UserWarning: An interactive session is already active. This can cause out-of-memory errors in some cases. You must explicitly call `InteractiveSession.close()` to release resources held by the other session(s).\n",
      "  warnings.warn('An interactive session is already active. This can '\n"
     ]
    },
    {
     "data": {
      "text/plain": [
       "0.5833333333333334"
      ]
     },
     "execution_count": 5,
     "metadata": {},
     "output_type": "execute_result"
    }
   ],
   "source": [
    "truthfulness_metric(create_linkage_hierarchy,load_tcav_vectors_simple,\n",
    "                    'mnist',mnist_attributes,[43,44])"
   ]
  },
  {
   "cell_type": "code",
   "execution_count": 9,
   "id": "2a81f90f",
   "metadata": {},
   "outputs": [
    {
     "data": {
      "text/plain": [
       "21"
      ]
     },
     "execution_count": 9,
     "metadata": {},
     "output_type": "execute_result"
    }
   ],
   "source": [
    "import gc; gc.collect()"
   ]
  },
  {
   "cell_type": "code",
   "execution_count": 10,
   "id": "830c6b6b",
   "metadata": {},
   "outputs": [
    {
     "ename": "RuntimeError",
     "evalue": "can't start new thread",
     "output_type": "error",
     "traceback": [
      "\u001b[0;31m---------------------------------------------------------------------------\u001b[0m",
      "\u001b[0;31mRuntimeError\u001b[0m                              Traceback (most recent call last)",
      "\u001b[0;32m/tmp/ipykernel_12070/2546074456.py\u001b[0m in \u001b[0;36m<module>\u001b[0;34m\u001b[0m\n\u001b[1;32m      1\u001b[0m truthfulness_metric(create_linkage_hierarchy,load_label_vectors_simple,\n\u001b[0;32m----> 2\u001b[0;31m                     'mnist',mnist_attributes,[43,44])\n\u001b[0m",
      "\u001b[0;32m/auto/homes/njr61/main_code/src/metrics.py\u001b[0m in \u001b[0;36mtruthfulness_metric\u001b[0;34m(hierarchy_method, embedding_method, dataset, attributes, random_seeds, model)\u001b[0m\n\u001b[1;32m    219\u001b[0m         \u001b[0;31m#reset_dataset(dataset,seed,100)\u001b[0m\u001b[0;34m\u001b[0m\u001b[0;34m\u001b[0m\u001b[0;34m\u001b[0m\u001b[0m\n\u001b[1;32m    220\u001b[0m         \u001b[0;32mfor\u001b[0m \u001b[0mconcept\u001b[0m \u001b[0;32min\u001b[0m \u001b[0mselected_concepts\u001b[0m\u001b[0;34m:\u001b[0m\u001b[0;34m\u001b[0m\u001b[0;34m\u001b[0m\u001b[0m\n\u001b[0;32m--> 221\u001b[0;31m             \u001b[0mco_occuring_concepts\u001b[0m \u001b[0;34m=\u001b[0m \u001b[0mfind_similar_concepts\u001b[0m\u001b[0;34m(\u001b[0m\u001b[0mconcept\u001b[0m\u001b[0;34m,\u001b[0m\u001b[0mdataset\u001b[0m\u001b[0;34m,\u001b[0m\u001b[0mmodel\u001b[0m\u001b[0;34m,\u001b[0m\u001b[0mcompare_concepts\u001b[0m\u001b[0;34m,\u001b[0m\u001b[0mseed\u001b[0m\u001b[0;34m)\u001b[0m\u001b[0;34m\u001b[0m\u001b[0;34m\u001b[0m\u001b[0m\n\u001b[0m\u001b[1;32m    222\u001b[0m             co_occuring_concepts_hierarchy = rank_distance_concepts(embedding_method,dataset,concept,\n\u001b[1;32m    223\u001b[0m                                                                     co_occuring_concepts,seed)\n",
      "\u001b[0;32m/auto/homes/njr61/main_code/src/metrics.py\u001b[0m in \u001b[0;36mfind_similar_concepts\u001b[0;34m(concept, dataset, model, num_similar_concepts, seed, metric)\u001b[0m\n\u001b[1;32m    152\u001b[0m         \u001b[0mconcepts\u001b[0m \u001b[0;34m=\u001b[0m \u001b[0mget_mnist_attributes\u001b[0m\u001b[0;34m(\u001b[0m\u001b[0;34m)\u001b[0m\u001b[0;34m\u001b[0m\u001b[0;34m\u001b[0m\u001b[0m\n\u001b[1;32m    153\u001b[0m \u001b[0;34m\u001b[0m\u001b[0m\n\u001b[0;32m--> 154\u001b[0;31m     \u001b[0mactivations\u001b[0m \u001b[0;34m=\u001b[0m \u001b[0mload_activations_tcav\u001b[0m\u001b[0;34m(\u001b[0m\u001b[0mconcepts\u001b[0m\u001b[0;34m,\u001b[0m\u001b[0mexperiment_name\u001b[0m\u001b[0;34m=\u001b[0m\u001b[0mdataset\u001b[0m\u001b[0;34m,\u001b[0m\u001b[0mmax_examples\u001b[0m\u001b[0;34m=\u001b[0m\u001b[0mmax_images\u001b[0m\u001b[0;34m)\u001b[0m\u001b[0;34m\u001b[0m\u001b[0;34m\u001b[0m\u001b[0m\n\u001b[0m\u001b[1;32m    155\u001b[0m     \u001b[0mour_vectors\u001b[0m \u001b[0;34m=\u001b[0m \u001b[0mactivations\u001b[0m\u001b[0;34m[\u001b[0m\u001b[0mconcept\u001b[0m\u001b[0;34m]\u001b[0m\u001b[0;34m\u001b[0m\u001b[0;34m\u001b[0m\u001b[0m\n\u001b[1;32m    156\u001b[0m \u001b[0;34m\u001b[0m\u001b[0m\n",
      "\u001b[0;32m/auto/homes/njr61/main_code/src/concept_vectors.py\u001b[0m in \u001b[0;36mload_activations_tcav\u001b[0;34m(attribute_list, experiment_name, seed, max_examples)\u001b[0m\n\u001b[1;32m    228\u001b[0m     \u001b[0macts\u001b[0m \u001b[0;34m=\u001b[0m \u001b[0;34m{\u001b[0m\u001b[0;34m}\u001b[0m\u001b[0;34m\u001b[0m\u001b[0;34m\u001b[0m\u001b[0m\n\u001b[1;32m    229\u001b[0m     \u001b[0;32mfor\u001b[0m \u001b[0mi\u001b[0m \u001b[0;32min\u001b[0m \u001b[0mattribute_list\u001b[0m\u001b[0;34m:\u001b[0m\u001b[0;34m\u001b[0m\u001b[0;34m\u001b[0m\u001b[0m\n\u001b[0;32m--> 230\u001b[0;31m         \u001b[0mexamples\u001b[0m \u001b[0;34m=\u001b[0m \u001b[0mact_generator\u001b[0m\u001b[0;34m.\u001b[0m\u001b[0mget_examples_for_concept\u001b[0m\u001b[0;34m(\u001b[0m\u001b[0mi\u001b[0m\u001b[0;34m)\u001b[0m\u001b[0;34m\u001b[0m\u001b[0;34m\u001b[0m\u001b[0m\n\u001b[0m\u001b[1;32m    231\u001b[0m         \u001b[0mactivation_examples\u001b[0m \u001b[0;34m=\u001b[0m \u001b[0mact_generator\u001b[0m\u001b[0;34m.\u001b[0m\u001b[0mmodel\u001b[0m\u001b[0;34m.\u001b[0m\u001b[0mrun_examples\u001b[0m\u001b[0;34m(\u001b[0m\u001b[0mexamples\u001b[0m\u001b[0;34m,\u001b[0m \u001b[0mbottlenecks\u001b[0m\u001b[0;34m[\u001b[0m\u001b[0;36m0\u001b[0m\u001b[0;34m]\u001b[0m\u001b[0;34m)\u001b[0m\u001b[0;34m\u001b[0m\u001b[0;34m\u001b[0m\u001b[0m\n\u001b[1;32m    232\u001b[0m         \u001b[0macts\u001b[0m\u001b[0;34m[\u001b[0m\u001b[0mi\u001b[0m\u001b[0;34m]\u001b[0m \u001b[0;34m=\u001b[0m \u001b[0mactivation_examples\u001b[0m\u001b[0;34m\u001b[0m\u001b[0;34m\u001b[0m\u001b[0m\n",
      "\u001b[0;32m/auto/homes/njr61/environments/mambaforge/envs/concepts/lib/python3.7/site-packages/tcav/activation_generator.py\u001b[0m in \u001b[0;36mget_examples_for_concept\u001b[0;34m(self, concept)\u001b[0m\n\u001b[1;32m    117\u001b[0m     ]\n\u001b[1;32m    118\u001b[0m     imgs = self.load_images_from_files(\n\u001b[0;32m--> 119\u001b[0;31m         img_paths, self.max_examples, shape=self.model.get_image_shape()[:2])\n\u001b[0m\u001b[1;32m    120\u001b[0m     \u001b[0;32mreturn\u001b[0m \u001b[0mimgs\u001b[0m\u001b[0;34m\u001b[0m\u001b[0;34m\u001b[0m\u001b[0m\n\u001b[1;32m    121\u001b[0m \u001b[0;34m\u001b[0m\u001b[0m\n",
      "\u001b[0;32m/auto/homes/njr61/environments/mambaforge/envs/concepts/lib/python3.7/site-packages/tcav/activation_generator.py\u001b[0m in \u001b[0;36mload_images_from_files\u001b[0;34m(self, filenames, max_imgs, do_shuffle, run_parallel, shape, num_workers)\u001b[0m\n\u001b[1;32m    186\u001b[0m \u001b[0;34m\u001b[0m\u001b[0m\n\u001b[1;32m    187\u001b[0m     \u001b[0;32mif\u001b[0m \u001b[0mrun_parallel\u001b[0m\u001b[0;34m:\u001b[0m\u001b[0;34m\u001b[0m\u001b[0;34m\u001b[0m\u001b[0m\n\u001b[0;32m--> 188\u001b[0;31m       \u001b[0mpool\u001b[0m \u001b[0;34m=\u001b[0m \u001b[0mmultiprocessing\u001b[0m\u001b[0;34m.\u001b[0m\u001b[0mPool\u001b[0m\u001b[0;34m(\u001b[0m\u001b[0mnum_workers\u001b[0m\u001b[0;34m)\u001b[0m\u001b[0;34m\u001b[0m\u001b[0;34m\u001b[0m\u001b[0m\n\u001b[0m\u001b[1;32m    189\u001b[0m       imgs = pool.map(\n\u001b[1;32m    190\u001b[0m           \u001b[0;32mlambda\u001b[0m \u001b[0mfilename\u001b[0m\u001b[0;34m:\u001b[0m \u001b[0mself\u001b[0m\u001b[0;34m.\u001b[0m\u001b[0mload_image_from_file\u001b[0m\u001b[0;34m(\u001b[0m\u001b[0mfilename\u001b[0m\u001b[0;34m,\u001b[0m \u001b[0mshape\u001b[0m\u001b[0;34m)\u001b[0m\u001b[0;34m,\u001b[0m\u001b[0;34m\u001b[0m\u001b[0;34m\u001b[0m\u001b[0m\n",
      "\u001b[0;32m/auto/homes/njr61/environments/mambaforge/envs/concepts/lib/python3.7/multiprocessing/dummy/__init__.py\u001b[0m in \u001b[0;36mPool\u001b[0;34m(processes, initializer, initargs)\u001b[0m\n\u001b[1;32m    122\u001b[0m \u001b[0;32mdef\u001b[0m \u001b[0mPool\u001b[0m\u001b[0;34m(\u001b[0m\u001b[0mprocesses\u001b[0m\u001b[0;34m=\u001b[0m\u001b[0;32mNone\u001b[0m\u001b[0;34m,\u001b[0m \u001b[0minitializer\u001b[0m\u001b[0;34m=\u001b[0m\u001b[0;32mNone\u001b[0m\u001b[0;34m,\u001b[0m \u001b[0minitargs\u001b[0m\u001b[0;34m=\u001b[0m\u001b[0;34m(\u001b[0m\u001b[0;34m)\u001b[0m\u001b[0;34m)\u001b[0m\u001b[0;34m:\u001b[0m\u001b[0;34m\u001b[0m\u001b[0;34m\u001b[0m\u001b[0m\n\u001b[1;32m    123\u001b[0m     \u001b[0;32mfrom\u001b[0m \u001b[0;34m.\u001b[0m\u001b[0;34m.\u001b[0m\u001b[0mpool\u001b[0m \u001b[0;32mimport\u001b[0m \u001b[0mThreadPool\u001b[0m\u001b[0;34m\u001b[0m\u001b[0;34m\u001b[0m\u001b[0m\n\u001b[0;32m--> 124\u001b[0;31m     \u001b[0;32mreturn\u001b[0m \u001b[0mThreadPool\u001b[0m\u001b[0;34m(\u001b[0m\u001b[0mprocesses\u001b[0m\u001b[0;34m,\u001b[0m \u001b[0minitializer\u001b[0m\u001b[0;34m,\u001b[0m \u001b[0minitargs\u001b[0m\u001b[0;34m)\u001b[0m\u001b[0;34m\u001b[0m\u001b[0;34m\u001b[0m\u001b[0m\n\u001b[0m\u001b[1;32m    125\u001b[0m \u001b[0;34m\u001b[0m\u001b[0m\n\u001b[1;32m    126\u001b[0m \u001b[0mJoinableQueue\u001b[0m \u001b[0;34m=\u001b[0m \u001b[0mQueue\u001b[0m\u001b[0;34m\u001b[0m\u001b[0;34m\u001b[0m\u001b[0m\n",
      "\u001b[0;32m/auto/homes/njr61/environments/mambaforge/envs/concepts/lib/python3.7/multiprocessing/pool.py\u001b[0m in \u001b[0;36m__init__\u001b[0;34m(self, processes, initializer, initargs)\u001b[0m\n\u001b[1;32m    800\u001b[0m \u001b[0;34m\u001b[0m\u001b[0m\n\u001b[1;32m    801\u001b[0m     \u001b[0;32mdef\u001b[0m \u001b[0m__init__\u001b[0m\u001b[0;34m(\u001b[0m\u001b[0mself\u001b[0m\u001b[0;34m,\u001b[0m \u001b[0mprocesses\u001b[0m\u001b[0;34m=\u001b[0m\u001b[0;32mNone\u001b[0m\u001b[0;34m,\u001b[0m \u001b[0minitializer\u001b[0m\u001b[0;34m=\u001b[0m\u001b[0;32mNone\u001b[0m\u001b[0;34m,\u001b[0m \u001b[0minitargs\u001b[0m\u001b[0;34m=\u001b[0m\u001b[0;34m(\u001b[0m\u001b[0;34m)\u001b[0m\u001b[0;34m)\u001b[0m\u001b[0;34m:\u001b[0m\u001b[0;34m\u001b[0m\u001b[0;34m\u001b[0m\u001b[0m\n\u001b[0;32m--> 802\u001b[0;31m         \u001b[0mPool\u001b[0m\u001b[0;34m.\u001b[0m\u001b[0m__init__\u001b[0m\u001b[0;34m(\u001b[0m\u001b[0mself\u001b[0m\u001b[0;34m,\u001b[0m \u001b[0mprocesses\u001b[0m\u001b[0;34m,\u001b[0m \u001b[0minitializer\u001b[0m\u001b[0;34m,\u001b[0m \u001b[0minitargs\u001b[0m\u001b[0;34m)\u001b[0m\u001b[0;34m\u001b[0m\u001b[0;34m\u001b[0m\u001b[0m\n\u001b[0m\u001b[1;32m    803\u001b[0m \u001b[0;34m\u001b[0m\u001b[0m\n\u001b[1;32m    804\u001b[0m     \u001b[0;32mdef\u001b[0m \u001b[0m_setup_queues\u001b[0m\u001b[0;34m(\u001b[0m\u001b[0mself\u001b[0m\u001b[0;34m)\u001b[0m\u001b[0;34m:\u001b[0m\u001b[0;34m\u001b[0m\u001b[0;34m\u001b[0m\u001b[0m\n",
      "\u001b[0;32m/auto/homes/njr61/environments/mambaforge/envs/concepts/lib/python3.7/multiprocessing/pool.py\u001b[0m in \u001b[0;36m__init__\u001b[0;34m(self, processes, initializer, initargs, maxtasksperchild, context)\u001b[0m\n\u001b[1;32m    174\u001b[0m         \u001b[0mself\u001b[0m\u001b[0;34m.\u001b[0m\u001b[0m_processes\u001b[0m \u001b[0;34m=\u001b[0m \u001b[0mprocesses\u001b[0m\u001b[0;34m\u001b[0m\u001b[0;34m\u001b[0m\u001b[0m\n\u001b[1;32m    175\u001b[0m         \u001b[0mself\u001b[0m\u001b[0;34m.\u001b[0m\u001b[0m_pool\u001b[0m \u001b[0;34m=\u001b[0m \u001b[0;34m[\u001b[0m\u001b[0;34m]\u001b[0m\u001b[0;34m\u001b[0m\u001b[0;34m\u001b[0m\u001b[0m\n\u001b[0;32m--> 176\u001b[0;31m         \u001b[0mself\u001b[0m\u001b[0;34m.\u001b[0m\u001b[0m_repopulate_pool\u001b[0m\u001b[0;34m(\u001b[0m\u001b[0;34m)\u001b[0m\u001b[0;34m\u001b[0m\u001b[0;34m\u001b[0m\u001b[0m\n\u001b[0m\u001b[1;32m    177\u001b[0m \u001b[0;34m\u001b[0m\u001b[0m\n\u001b[1;32m    178\u001b[0m         self._worker_handler = threading.Thread(\n",
      "\u001b[0;32m/auto/homes/njr61/environments/mambaforge/envs/concepts/lib/python3.7/multiprocessing/pool.py\u001b[0m in \u001b[0;36m_repopulate_pool\u001b[0;34m(self)\u001b[0m\n\u001b[1;32m    239\u001b[0m             \u001b[0mw\u001b[0m\u001b[0;34m.\u001b[0m\u001b[0mname\u001b[0m \u001b[0;34m=\u001b[0m \u001b[0mw\u001b[0m\u001b[0;34m.\u001b[0m\u001b[0mname\u001b[0m\u001b[0;34m.\u001b[0m\u001b[0mreplace\u001b[0m\u001b[0;34m(\u001b[0m\u001b[0;34m'Process'\u001b[0m\u001b[0;34m,\u001b[0m \u001b[0;34m'PoolWorker'\u001b[0m\u001b[0;34m)\u001b[0m\u001b[0;34m\u001b[0m\u001b[0;34m\u001b[0m\u001b[0m\n\u001b[1;32m    240\u001b[0m             \u001b[0mw\u001b[0m\u001b[0;34m.\u001b[0m\u001b[0mdaemon\u001b[0m \u001b[0;34m=\u001b[0m \u001b[0;32mTrue\u001b[0m\u001b[0;34m\u001b[0m\u001b[0;34m\u001b[0m\u001b[0m\n\u001b[0;32m--> 241\u001b[0;31m             \u001b[0mw\u001b[0m\u001b[0;34m.\u001b[0m\u001b[0mstart\u001b[0m\u001b[0;34m(\u001b[0m\u001b[0;34m)\u001b[0m\u001b[0;34m\u001b[0m\u001b[0;34m\u001b[0m\u001b[0m\n\u001b[0m\u001b[1;32m    242\u001b[0m             \u001b[0mutil\u001b[0m\u001b[0;34m.\u001b[0m\u001b[0mdebug\u001b[0m\u001b[0;34m(\u001b[0m\u001b[0;34m'added worker'\u001b[0m\u001b[0;34m)\u001b[0m\u001b[0;34m\u001b[0m\u001b[0;34m\u001b[0m\u001b[0m\n\u001b[1;32m    243\u001b[0m \u001b[0;34m\u001b[0m\u001b[0m\n",
      "\u001b[0;32m/auto/homes/njr61/environments/mambaforge/envs/concepts/lib/python3.7/multiprocessing/dummy/__init__.py\u001b[0m in \u001b[0;36mstart\u001b[0;34m(self)\u001b[0m\n\u001b[1;32m     49\u001b[0m         \u001b[0;32mif\u001b[0m \u001b[0mhasattr\u001b[0m\u001b[0;34m(\u001b[0m\u001b[0mself\u001b[0m\u001b[0;34m.\u001b[0m\u001b[0m_parent\u001b[0m\u001b[0;34m,\u001b[0m \u001b[0;34m'_children'\u001b[0m\u001b[0;34m)\u001b[0m\u001b[0;34m:\u001b[0m\u001b[0;34m\u001b[0m\u001b[0;34m\u001b[0m\u001b[0m\n\u001b[1;32m     50\u001b[0m             \u001b[0mself\u001b[0m\u001b[0;34m.\u001b[0m\u001b[0m_parent\u001b[0m\u001b[0;34m.\u001b[0m\u001b[0m_children\u001b[0m\u001b[0;34m[\u001b[0m\u001b[0mself\u001b[0m\u001b[0;34m]\u001b[0m \u001b[0;34m=\u001b[0m \u001b[0;32mNone\u001b[0m\u001b[0;34m\u001b[0m\u001b[0;34m\u001b[0m\u001b[0m\n\u001b[0;32m---> 51\u001b[0;31m         \u001b[0mthreading\u001b[0m\u001b[0;34m.\u001b[0m\u001b[0mThread\u001b[0m\u001b[0;34m.\u001b[0m\u001b[0mstart\u001b[0m\u001b[0;34m(\u001b[0m\u001b[0mself\u001b[0m\u001b[0;34m)\u001b[0m\u001b[0;34m\u001b[0m\u001b[0;34m\u001b[0m\u001b[0m\n\u001b[0m\u001b[1;32m     52\u001b[0m \u001b[0;34m\u001b[0m\u001b[0m\n\u001b[1;32m     53\u001b[0m     \u001b[0;34m@\u001b[0m\u001b[0mproperty\u001b[0m\u001b[0;34m\u001b[0m\u001b[0;34m\u001b[0m\u001b[0m\n",
      "\u001b[0;32m/auto/homes/njr61/environments/mambaforge/envs/concepts/lib/python3.7/threading.py\u001b[0m in \u001b[0;36mstart\u001b[0;34m(self)\u001b[0m\n\u001b[1;32m    850\u001b[0m             \u001b[0m_limbo\u001b[0m\u001b[0;34m[\u001b[0m\u001b[0mself\u001b[0m\u001b[0;34m]\u001b[0m \u001b[0;34m=\u001b[0m \u001b[0mself\u001b[0m\u001b[0;34m\u001b[0m\u001b[0;34m\u001b[0m\u001b[0m\n\u001b[1;32m    851\u001b[0m         \u001b[0;32mtry\u001b[0m\u001b[0;34m:\u001b[0m\u001b[0;34m\u001b[0m\u001b[0;34m\u001b[0m\u001b[0m\n\u001b[0;32m--> 852\u001b[0;31m             \u001b[0m_start_new_thread\u001b[0m\u001b[0;34m(\u001b[0m\u001b[0mself\u001b[0m\u001b[0;34m.\u001b[0m\u001b[0m_bootstrap\u001b[0m\u001b[0;34m,\u001b[0m \u001b[0;34m(\u001b[0m\u001b[0;34m)\u001b[0m\u001b[0;34m)\u001b[0m\u001b[0;34m\u001b[0m\u001b[0;34m\u001b[0m\u001b[0m\n\u001b[0m\u001b[1;32m    853\u001b[0m         \u001b[0;32mexcept\u001b[0m \u001b[0mException\u001b[0m\u001b[0;34m:\u001b[0m\u001b[0;34m\u001b[0m\u001b[0;34m\u001b[0m\u001b[0m\n\u001b[1;32m    854\u001b[0m             \u001b[0;32mwith\u001b[0m \u001b[0m_active_limbo_lock\u001b[0m\u001b[0;34m:\u001b[0m\u001b[0;34m\u001b[0m\u001b[0;34m\u001b[0m\u001b[0m\n",
      "\u001b[0;31mRuntimeError\u001b[0m: can't start new thread"
     ]
    }
   ],
   "source": [
    "truthfulness_metric(create_linkage_hierarchy,load_label_vectors_simple,\n",
    "                    'mnist',mnist_attributes,[43,44])"
   ]
  },
  {
   "cell_type": "code",
   "execution_count": 38,
   "id": "607bd8a7",
   "metadata": {},
   "outputs": [],
   "source": [
    "hierarchy_method = create_linkage_hierarchy\n",
    "embedding_method = load_tcav_vectors_simple\n",
    "dataset = 'mnist'\n",
    "attributes = mnist_attributes[:4]\n",
    "random_seeds = [43,44,45]\n",
    "suffix = '_image_responsiveness'"
   ]
  },
  {
   "cell_type": "code",
   "execution_count": 42,
   "id": "f1fd35ab",
   "metadata": {},
   "outputs": [],
   "source": [
    "baseline_hierarchies = [create_hierarchy(hierarchy_method,embedding_method,dataset,attributes,seed) for seed in random_seeds]\n",
    "robustness_hierarchies = [create_hierarchy(hierarchy_method,embedding_method,dataset+'_image_robustness',attributes,seed) for seed in random_seeds]\n",
    "responsiveness_hierarchies = [create_hierarchy(hierarchy_method,embedding_method,dataset+'_image_responsiveness',attributes,seed) for seed in random_seeds]"
   ]
  },
  {
   "cell_type": "code",
   "execution_count": 43,
   "id": "fc71d9ab",
   "metadata": {},
   "outputs": [
    {
     "data": {
      "text/plain": [
       "4.0"
      ]
     },
     "execution_count": 43,
     "metadata": {},
     "output_type": "execute_result"
    }
   ],
   "source": [
    "responsiveness_hierarchies[0].distance(baseline_hierarchies[0])"
   ]
  },
  {
   "cell_type": "code",
   "execution_count": 44,
   "id": "ece82621",
   "metadata": {},
   "outputs": [
    {
     "data": {
      "text/plain": [
       "4.0"
      ]
     },
     "execution_count": 44,
     "metadata": {},
     "output_type": "execute_result"
    }
   ],
   "source": [
    "robustness_hierarchies[0].distance(baseline_hierarchies[0])"
   ]
  }
 ],
 "metadata": {
  "kernelspec": {
   "display_name": "Python 3 (ipykernel)",
   "language": "python",
   "name": "python3"
  },
  "language_info": {
   "codemirror_mode": {
    "name": "ipython",
    "version": 3
   },
   "file_extension": ".py",
   "mimetype": "text/x-python",
   "name": "python",
   "nbconvert_exporter": "python",
   "pygments_lexer": "ipython3",
   "version": "3.7.12"
  }
 },
 "nbformat": 4,
 "nbformat_minor": 5
}
