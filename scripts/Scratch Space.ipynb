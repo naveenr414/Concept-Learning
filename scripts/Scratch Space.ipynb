{
 "cells": [
  {
   "cell_type": "code",
   "execution_count": 1,
   "id": "e83e508c",
   "metadata": {},
   "outputs": [],
   "source": [
    "%load_ext autoreload\n",
    "%autoreload 2\n",
    "%matplotlib notebook"
   ]
  },
  {
   "cell_type": "code",
   "execution_count": 2,
   "id": "b3c42d79",
   "metadata": {},
   "outputs": [],
   "source": [
    "import os\n",
    "os.chdir('../')"
   ]
  },
  {
   "cell_type": "code",
   "execution_count": 3,
   "id": "5d4286b7",
   "metadata": {
    "scrolled": true
   },
   "outputs": [
    {
     "name": "stderr",
     "output_type": "stream",
     "text": [
      "2023-01-17 20:49:16.978305: I tensorflow/core/platform/cpu_feature_guard.cc:193] This TensorFlow binary is optimized with oneAPI Deep Neural Network Library (oneDNN) to use the following CPU instructions in performance-critical operations:  SSE4.1 SSE4.2 AVX FMA\n",
      "To enable them in other operations, rebuild TensorFlow with the appropriate compiler flags.\n"
     ]
    }
   ],
   "source": [
    "import numpy as np\n",
    "import matplotlib.pyplot as plt\n",
    "import scipy\n",
    "from sklearn.manifold import TSNE\n",
    "from sklearn.decomposition import PCA\n",
    "import tcav\n",
    "from src.download_data import download_imagenet, download_random_imagenet_classes\n",
    "import pickle\n",
    "from src.dataset import *\n",
    "from src.concept_vectors import *\n",
    "from src.util import *\n",
    "import random\n",
    "from src.plots import *\n",
    "from sklearn.manifold import TSNE\n",
    "from scipy.spatial.distance import cosine \n",
    "import pandas as pd\n",
    "from sklearn.datasets import make_moons\n",
    "import matplotlib.pyplot as plt\n",
    "from scipy.cluster.hierarchy import dendrogram, linkage\n",
    "from sklearn.cluster import AgglomerativeClustering\n",
    "from sklearn.datasets import make_blobs\n",
    "from src.hierarchy import *\n",
    "from src.metrics import *\n",
    "import pickle\n",
    "import tensorflow as tf\n",
    "import keras\n",
    "from keras.models import load_model, Model"
   ]
  },
  {
   "cell_type": "code",
   "execution_count": 4,
   "id": "26bab839",
   "metadata": {},
   "outputs": [],
   "source": [
    "from PIL import Image"
   ]
  },
  {
   "cell_type": "code",
   "execution_count": 16,
   "id": "8b655359",
   "metadata": {},
   "outputs": [],
   "source": [
    "mnist_attributes = get_mnist_attributes()"
   ]
  },
  {
   "cell_type": "code",
   "execution_count": 17,
   "id": "8392d7c7",
   "metadata": {},
   "outputs": [
    {
     "ename": "Exception",
     "evalue": "No CAVs found at ./results/cavs/mnist/45",
     "output_type": "error",
     "traceback": [
      "\u001b[0;31m---------------------------------------------------------------------------\u001b[0m",
      "\u001b[0;31mException\u001b[0m                                 Traceback (most recent call last)",
      "\u001b[0;32m/tmp/ipykernel_27983/2686385854.py\u001b[0m in \u001b[0;36m<module>\u001b[0;34m\u001b[0m\n\u001b[0;32m----> 1\u001b[0;31m \u001b[0mrobustness_image_metric\u001b[0m\u001b[0;34m(\u001b[0m\u001b[0mcreate_linkage_hierarchy\u001b[0m\u001b[0;34m,\u001b[0m\u001b[0mload_tcav_vectors_simple\u001b[0m\u001b[0;34m,\u001b[0m\u001b[0;34m'mnist'\u001b[0m\u001b[0;34m,\u001b[0m\u001b[0mmnist_attributes\u001b[0m\u001b[0;34m,\u001b[0m\u001b[0;34m[\u001b[0m\u001b[0;36m43\u001b[0m\u001b[0;34m,\u001b[0m\u001b[0;36m44\u001b[0m\u001b[0;34m,\u001b[0m\u001b[0;36m45\u001b[0m\u001b[0;34m]\u001b[0m\u001b[0;34m)\u001b[0m\u001b[0;34m\u001b[0m\u001b[0;34m\u001b[0m\u001b[0m\n\u001b[0m",
      "\u001b[0;32m/auto/homes/njr61/main_code/src/metrics.py\u001b[0m in \u001b[0;36mrobustness_image_metric\u001b[0;34m(hierarchy_method, embedding_method, dataset, attributes, random_seeds)\u001b[0m\n\u001b[1;32m     72\u001b[0m     \"\"\"\n\u001b[1;32m     73\u001b[0m \u001b[0;34m\u001b[0m\u001b[0m\n\u001b[0;32m---> 74\u001b[0;31m     \u001b[0;32mreturn\u001b[0m \u001b[0mcompare_same_images_by_suffix\u001b[0m\u001b[0;34m(\u001b[0m\u001b[0mhierarchy_method\u001b[0m\u001b[0;34m,\u001b[0m\u001b[0membedding_method\u001b[0m\u001b[0;34m,\u001b[0m\u001b[0mdataset\u001b[0m\u001b[0;34m,\u001b[0m\u001b[0mattributes\u001b[0m\u001b[0;34m,\u001b[0m\u001b[0mrandom_seeds\u001b[0m\u001b[0;34m,\u001b[0m\u001b[0;34m\"_image_robustness\"\u001b[0m\u001b[0;34m)\u001b[0m\u001b[0;34m\u001b[0m\u001b[0;34m\u001b[0m\u001b[0m\n\u001b[0m\u001b[1;32m     75\u001b[0m \u001b[0;34m\u001b[0m\u001b[0m\n\u001b[1;32m     76\u001b[0m \u001b[0;32mdef\u001b[0m \u001b[0mresponsiveness_image_metric\u001b[0m\u001b[0;34m(\u001b[0m\u001b[0mhierarchy_method\u001b[0m\u001b[0;34m,\u001b[0m\u001b[0membedding_method\u001b[0m\u001b[0;34m,\u001b[0m\u001b[0mdataset\u001b[0m\u001b[0;34m,\u001b[0m\u001b[0mattributes\u001b[0m\u001b[0;34m,\u001b[0m\u001b[0mrandom_seeds\u001b[0m\u001b[0;34m)\u001b[0m\u001b[0;34m:\u001b[0m\u001b[0;34m\u001b[0m\u001b[0;34m\u001b[0m\u001b[0m\n",
      "\u001b[0;32m/auto/homes/njr61/main_code/src/metrics.py\u001b[0m in \u001b[0;36mcompare_same_images_by_suffix\u001b[0;34m(hierarchy_method, embedding_method, dataset, attributes, random_seeds, suffix)\u001b[0m\n\u001b[1;32m     48\u001b[0m         \u001b[0;32mraise\u001b[0m \u001b[0mException\u001b[0m\u001b[0;34m(\u001b[0m\u001b[0;34m\"{} suffix not supported\"\u001b[0m\u001b[0;34m.\u001b[0m\u001b[0mformat\u001b[0m\u001b[0;34m(\u001b[0m\u001b[0msuffix\u001b[0m\u001b[0;34m)\u001b[0m\u001b[0;34m)\u001b[0m\u001b[0;34m\u001b[0m\u001b[0;34m\u001b[0m\u001b[0m\n\u001b[1;32m     49\u001b[0m \u001b[0;34m\u001b[0m\u001b[0m\n\u001b[0;32m---> 50\u001b[0;31m     \u001b[0mbaseline_hierarchies\u001b[0m \u001b[0;34m=\u001b[0m \u001b[0;34m[\u001b[0m\u001b[0mcreate_hierarchy\u001b[0m\u001b[0;34m(\u001b[0m\u001b[0mhierarchy_method\u001b[0m\u001b[0;34m,\u001b[0m\u001b[0membedding_method\u001b[0m\u001b[0;34m,\u001b[0m\u001b[0mdataset\u001b[0m\u001b[0;34m,\u001b[0m\u001b[0mattributes\u001b[0m\u001b[0;34m,\u001b[0m\u001b[0mseed\u001b[0m\u001b[0;34m)\u001b[0m \u001b[0;32mfor\u001b[0m \u001b[0mseed\u001b[0m \u001b[0;32min\u001b[0m \u001b[0mrandom_seeds\u001b[0m\u001b[0;34m]\u001b[0m\u001b[0;34m\u001b[0m\u001b[0;34m\u001b[0m\u001b[0m\n\u001b[0m\u001b[1;32m     51\u001b[0m     \u001b[0mrobust_hierarchies\u001b[0m \u001b[0;34m=\u001b[0m \u001b[0;34m[\u001b[0m\u001b[0mcreate_hierarchy\u001b[0m\u001b[0;34m(\u001b[0m\u001b[0mhierarchy_method\u001b[0m\u001b[0;34m,\u001b[0m\u001b[0membedding_method\u001b[0m\u001b[0;34m,\u001b[0m\u001b[0mdataset\u001b[0m\u001b[0;34m+\u001b[0m\u001b[0msuffix\u001b[0m\u001b[0;34m,\u001b[0m\u001b[0mattributes\u001b[0m\u001b[0;34m,\u001b[0m\u001b[0mseed\u001b[0m\u001b[0;34m)\u001b[0m \u001b[0;32mfor\u001b[0m \u001b[0mseed\u001b[0m \u001b[0;32min\u001b[0m \u001b[0mrandom_seeds\u001b[0m\u001b[0;34m]\u001b[0m\u001b[0;34m\u001b[0m\u001b[0;34m\u001b[0m\u001b[0m\n\u001b[1;32m     52\u001b[0m \u001b[0;34m\u001b[0m\u001b[0m\n",
      "\u001b[0;32m/auto/homes/njr61/main_code/src/metrics.py\u001b[0m in \u001b[0;36m<listcomp>\u001b[0;34m(.0)\u001b[0m\n\u001b[1;32m     48\u001b[0m         \u001b[0;32mraise\u001b[0m \u001b[0mException\u001b[0m\u001b[0;34m(\u001b[0m\u001b[0;34m\"{} suffix not supported\"\u001b[0m\u001b[0;34m.\u001b[0m\u001b[0mformat\u001b[0m\u001b[0;34m(\u001b[0m\u001b[0msuffix\u001b[0m\u001b[0;34m)\u001b[0m\u001b[0;34m)\u001b[0m\u001b[0;34m\u001b[0m\u001b[0;34m\u001b[0m\u001b[0m\n\u001b[1;32m     49\u001b[0m \u001b[0;34m\u001b[0m\u001b[0m\n\u001b[0;32m---> 50\u001b[0;31m     \u001b[0mbaseline_hierarchies\u001b[0m \u001b[0;34m=\u001b[0m \u001b[0;34m[\u001b[0m\u001b[0mcreate_hierarchy\u001b[0m\u001b[0;34m(\u001b[0m\u001b[0mhierarchy_method\u001b[0m\u001b[0;34m,\u001b[0m\u001b[0membedding_method\u001b[0m\u001b[0;34m,\u001b[0m\u001b[0mdataset\u001b[0m\u001b[0;34m,\u001b[0m\u001b[0mattributes\u001b[0m\u001b[0;34m,\u001b[0m\u001b[0mseed\u001b[0m\u001b[0;34m)\u001b[0m \u001b[0;32mfor\u001b[0m \u001b[0mseed\u001b[0m \u001b[0;32min\u001b[0m \u001b[0mrandom_seeds\u001b[0m\u001b[0;34m]\u001b[0m\u001b[0;34m\u001b[0m\u001b[0;34m\u001b[0m\u001b[0m\n\u001b[0m\u001b[1;32m     51\u001b[0m     \u001b[0mrobust_hierarchies\u001b[0m \u001b[0;34m=\u001b[0m \u001b[0;34m[\u001b[0m\u001b[0mcreate_hierarchy\u001b[0m\u001b[0;34m(\u001b[0m\u001b[0mhierarchy_method\u001b[0m\u001b[0;34m,\u001b[0m\u001b[0membedding_method\u001b[0m\u001b[0;34m,\u001b[0m\u001b[0mdataset\u001b[0m\u001b[0;34m+\u001b[0m\u001b[0msuffix\u001b[0m\u001b[0;34m,\u001b[0m\u001b[0mattributes\u001b[0m\u001b[0;34m,\u001b[0m\u001b[0mseed\u001b[0m\u001b[0;34m)\u001b[0m \u001b[0;32mfor\u001b[0m \u001b[0mseed\u001b[0m \u001b[0;32min\u001b[0m \u001b[0mrandom_seeds\u001b[0m\u001b[0;34m]\u001b[0m\u001b[0;34m\u001b[0m\u001b[0;34m\u001b[0m\u001b[0m\n\u001b[1;32m     52\u001b[0m \u001b[0;34m\u001b[0m\u001b[0m\n",
      "\u001b[0;32m/auto/homes/njr61/main_code/src/hierarchy.py\u001b[0m in \u001b[0;36mcreate_hierarchy\u001b[0;34m(hierarchy_method, embedding_method, dataset, attributes, random_seed)\u001b[0m\n\u001b[1;32m    320\u001b[0m     \u001b[0membeddings_by_attribute\u001b[0m \u001b[0;34m=\u001b[0m \u001b[0;34m{\u001b[0m\u001b[0;34m}\u001b[0m\u001b[0;34m\u001b[0m\u001b[0;34m\u001b[0m\u001b[0m\n\u001b[1;32m    321\u001b[0m     \u001b[0;32mfor\u001b[0m \u001b[0mattribute\u001b[0m \u001b[0;32min\u001b[0m \u001b[0mattributes\u001b[0m\u001b[0;34m:\u001b[0m\u001b[0;34m\u001b[0m\u001b[0;34m\u001b[0m\u001b[0m\n\u001b[0;32m--> 322\u001b[0;31m         \u001b[0membeddings\u001b[0m \u001b[0;34m=\u001b[0m \u001b[0membedding_method\u001b[0m\u001b[0;34m(\u001b[0m\u001b[0mattribute\u001b[0m\u001b[0;34m,\u001b[0m\u001b[0mdataset\u001b[0m\u001b[0;34m,\u001b[0m\u001b[0mseed\u001b[0m\u001b[0;34m=\u001b[0m\u001b[0mrandom_seed\u001b[0m\u001b[0;34m)\u001b[0m\u001b[0;34m\u001b[0m\u001b[0;34m\u001b[0m\u001b[0m\n\u001b[0m\u001b[1;32m    323\u001b[0m         \u001b[0membeddings_by_attribute\u001b[0m\u001b[0;34m[\u001b[0m\u001b[0mattribute\u001b[0m\u001b[0;34m]\u001b[0m \u001b[0;34m=\u001b[0m \u001b[0membeddings\u001b[0m\u001b[0;34m\u001b[0m\u001b[0;34m\u001b[0m\u001b[0m\n\u001b[1;32m    324\u001b[0m \u001b[0;34m\u001b[0m\u001b[0m\n",
      "\u001b[0;32m/auto/homes/njr61/main_code/src/concept_vectors.py\u001b[0m in \u001b[0;36mload_tcav_vectors_simple\u001b[0;34m(attribute, dataset, seed)\u001b[0m\n\u001b[1;32m    321\u001b[0m     \"\"\"\n\u001b[1;32m    322\u001b[0m \u001b[0;34m\u001b[0m\u001b[0m\n\u001b[0;32m--> 323\u001b[0;31m     \u001b[0;32mreturn\u001b[0m \u001b[0mload_tcav_vectors\u001b[0m\u001b[0;34m(\u001b[0m\u001b[0mattribute\u001b[0m\u001b[0;34m,\u001b[0m\u001b[0;34m[\u001b[0m\u001b[0;34m'mixed4c'\u001b[0m\u001b[0;34m]\u001b[0m\u001b[0;34m,\u001b[0m\u001b[0mexperiment_name\u001b[0m\u001b[0;34m=\u001b[0m\u001b[0mdataset\u001b[0m\u001b[0;34m,\u001b[0m\u001b[0mseed\u001b[0m\u001b[0;34m=\u001b[0m\u001b[0mseed\u001b[0m\u001b[0;34m)\u001b[0m\u001b[0;34m[\u001b[0m\u001b[0;36m0\u001b[0m\u001b[0;34m]\u001b[0m\u001b[0;34m\u001b[0m\u001b[0;34m\u001b[0m\u001b[0m\n\u001b[0m\u001b[1;32m    324\u001b[0m \u001b[0;34m\u001b[0m\u001b[0m\n\u001b[1;32m    325\u001b[0m \u001b[0;32mdef\u001b[0m \u001b[0mload_label_vectors_simple\u001b[0m\u001b[0;34m(\u001b[0m\u001b[0mattribute\u001b[0m\u001b[0;34m,\u001b[0m\u001b[0mdataset\u001b[0m\u001b[0;34m,\u001b[0m\u001b[0mseed\u001b[0m\u001b[0;34m=\u001b[0m\u001b[0;34m-\u001b[0m\u001b[0;36m1\u001b[0m\u001b[0;34m)\u001b[0m\u001b[0;34m:\u001b[0m\u001b[0;34m\u001b[0m\u001b[0;34m\u001b[0m\u001b[0m\n",
      "\u001b[0;32m/auto/homes/njr61/main_code/src/concept_vectors.py\u001b[0m in \u001b[0;36mload_tcav_vectors\u001b[0;34m(concept, bottlenecks, experiment_name, seed, alphas)\u001b[0m\n\u001b[1;32m     74\u001b[0m \u001b[0;34m\u001b[0m\u001b[0m\n\u001b[1;32m     75\u001b[0m     \u001b[0;32mif\u001b[0m \u001b[0mlen\u001b[0m\u001b[0;34m(\u001b[0m\u001b[0mconcept_meta_info\u001b[0m\u001b[0;34m)\u001b[0m \u001b[0;34m==\u001b[0m \u001b[0;36m0\u001b[0m\u001b[0;34m:\u001b[0m\u001b[0;34m\u001b[0m\u001b[0;34m\u001b[0m\u001b[0m\n\u001b[0;32m---> 76\u001b[0;31m         \u001b[0;32mraise\u001b[0m \u001b[0mException\u001b[0m\u001b[0;34m(\u001b[0m\u001b[0;34m\"No CAVs found at {}\"\u001b[0m\u001b[0;34m.\u001b[0m\u001b[0mformat\u001b[0m\u001b[0;34m(\u001b[0m\u001b[0mdataset_location\u001b[0m\u001b[0;34m)\u001b[0m\u001b[0;34m)\u001b[0m\u001b[0;34m\u001b[0m\u001b[0;34m\u001b[0m\u001b[0m\n\u001b[0m\u001b[1;32m     77\u001b[0m \u001b[0;34m\u001b[0m\u001b[0m\n\u001b[1;32m     78\u001b[0m     \u001b[0mconcept_meta_info\u001b[0m\u001b[0;34m,\u001b[0m \u001b[0mall_matching_files\u001b[0m \u001b[0;34m=\u001b[0m \u001b[0mzip\u001b[0m\u001b[0;34m(\u001b[0m\u001b[0;34m*\u001b[0m\u001b[0msorted\u001b[0m\u001b[0;34m(\u001b[0m\u001b[0mzip\u001b[0m\u001b[0;34m(\u001b[0m\u001b[0mconcept_meta_info\u001b[0m\u001b[0;34m,\u001b[0m\u001b[0mall_matching_files\u001b[0m\u001b[0;34m)\u001b[0m\u001b[0;34m,\u001b[0m \u001b[0mkey\u001b[0m\u001b[0;34m=\u001b[0m\u001b[0;32mlambda\u001b[0m \u001b[0mk\u001b[0m\u001b[0;34m:\u001b[0m \u001b[0mk\u001b[0m\u001b[0;34m[\u001b[0m\u001b[0;36m0\u001b[0m\u001b[0;34m]\u001b[0m\u001b[0;34m[\u001b[0m\u001b[0;34m'random_concept'\u001b[0m\u001b[0;34m]\u001b[0m\u001b[0;34m)\u001b[0m\u001b[0;34m)\u001b[0m\u001b[0;34m\u001b[0m\u001b[0;34m\u001b[0m\u001b[0m\n",
      "\u001b[0;31mException\u001b[0m: No CAVs found at ./results/cavs/mnist/45"
     ]
    }
   ],
   "source": [
    "robustness_image_metric(create_linkage_hierarchy,load_tcav_vectors_simple,'mnist',mnist_attributes,[43,44,45])"
   ]
  },
  {
   "cell_type": "code",
   "execution_count": null,
   "id": "96eda7c2",
   "metadata": {},
   "outputs": [],
   "source": [
    "responsiveness_image_metric(create_linkage_hierarchy,load_tcav_vectors_simple,'mnist',mnist_attributes,[43,44,45])"
   ]
  },
  {
   "cell_type": "code",
   "execution_count": 19,
   "id": "29a834bb",
   "metadata": {},
   "outputs": [],
   "source": [
    "r = load_mnist(43,suffix=\"\")"
   ]
  },
  {
   "cell_type": "code",
   "execution_count": 21,
   "id": "4a35c575",
   "metadata": {},
   "outputs": [
    {
     "data": {
      "text/plain": [
       "{'img_path': 'colored_mnist/images/8/55234.png',\n",
       " 'class_label': 8,\n",
       " 'id': 55234,\n",
       " 'attribute_label': [0,\n",
       "  0,\n",
       "  0,\n",
       "  0,\n",
       "  0,\n",
       "  0,\n",
       "  0,\n",
       "  0,\n",
       "  0,\n",
       "  0,\n",
       "  0,\n",
       "  0,\n",
       "  0,\n",
       "  0,\n",
       "  0,\n",
       "  0,\n",
       "  1,\n",
       "  1,\n",
       "  0,\n",
       "  0,\n",
       "  1]}"
      ]
     },
     "execution_count": 21,
     "metadata": {},
     "output_type": "execute_result"
    }
   ],
   "source": [
    "r[0]"
   ]
  },
  {
   "cell_type": "code",
   "execution_count": 22,
   "id": "ac0841f3",
   "metadata": {},
   "outputs": [
    {
     "name": "stdout",
     "output_type": "stream",
     "text": [
      "The history saving thread hit an unexpected error (OperationalError('disk I/O error')).History will not be written to the database.\n"
     ]
    },
    {
     "ename": "OSError",
     "evalue": "[Errno 127] Key has expired: 'dataset/colored_mnist/images/train.pkl'",
     "output_type": "error",
     "traceback": [
      "\u001b[0;31m---------------------------------------------------------------------------\u001b[0m",
      "\u001b[0;31mOSError\u001b[0m                                   Traceback (most recent call last)",
      "\u001b[0;32m/tmp/ipykernel_24702/1991109635.py\u001b[0m in \u001b[0;36m<module>\u001b[0;34m\u001b[0m\n\u001b[1;32m      2\u001b[0m \u001b[0mseed\u001b[0m \u001b[0;34m=\u001b[0m \u001b[0;36m43\u001b[0m\u001b[0;34m\u001b[0m\u001b[0;34m\u001b[0m\u001b[0m\n\u001b[1;32m      3\u001b[0m \u001b[0mdataset\u001b[0m \u001b[0;34m=\u001b[0m \u001b[0;34m\"mnist\"\u001b[0m\u001b[0;34m\u001b[0m\u001b[0;34m\u001b[0m\u001b[0m\n\u001b[0;32m----> 4\u001b[0;31m \u001b[0mcreate_vector_from_label_mnist\u001b[0m\u001b[0;34m(\u001b[0m\u001b[0mattribute\u001b[0m\u001b[0;34m,\u001b[0m\u001b[0mseed\u001b[0m\u001b[0;34m=\u001b[0m\u001b[0mseed\u001b[0m\u001b[0;34m,\u001b[0m\u001b[0msuffix\u001b[0m\u001b[0;34m=\u001b[0m\u001b[0mdataset\u001b[0m\u001b[0;34m.\u001b[0m\u001b[0mreplace\u001b[0m\u001b[0;34m(\u001b[0m\u001b[0;34m\"mnist\"\u001b[0m\u001b[0;34m,\u001b[0m\u001b[0;34m\"\"\u001b[0m\u001b[0;34m)\u001b[0m\u001b[0;34m)\u001b[0m\u001b[0;34m\u001b[0m\u001b[0;34m\u001b[0m\u001b[0m\n\u001b[0m",
      "\u001b[0;32m/auto/homes/njr61/main_code/src/concept_vectors.py\u001b[0m in \u001b[0;36mcreate_vector_from_label_mnist\u001b[0;34m(attribute_name, seed, suffix)\u001b[0m\n",
      "\u001b[0;32m/auto/homes/njr61/main_code/src/dataset.py\u001b[0m in \u001b[0;36mload_mnist\u001b[0;34m(seed, suffix)\u001b[0m\n",
      "\u001b[0;31mOSError\u001b[0m: [Errno 127] Key has expired: 'dataset/colored_mnist/images/train.pkl'"
     ]
    }
   ],
   "source": [
    "attribute = \"0_color\"\n",
    "seed = 43\n",
    "dataset = \"mnist\"\n",
    "create_vector_from_label_mnist(attribute,seed=seed,suffix=dataset.replace(\"mnist\",\"\"))"
   ]
  },
  {
   "cell_type": "code",
   "execution_count": 15,
   "id": "11bf5643",
   "metadata": {},
   "outputs": [
    {
     "ename": "KeyError",
     "evalue": "'0_color'",
     "output_type": "error",
     "traceback": [
      "\u001b[0;31m---------------------------------------------------------------------------\u001b[0m",
      "\u001b[0;31mKeyError\u001b[0m                                  Traceback (most recent call last)",
      "\u001b[0;32m/tmp/ipykernel_24702/4160058390.py\u001b[0m in \u001b[0;36m<module>\u001b[0;34m\u001b[0m\n\u001b[0;32m----> 1\u001b[0;31m \u001b[0mresponsiveness_image_metric\u001b[0m\u001b[0;34m(\u001b[0m\u001b[0mcreate_linkage_hierarchy\u001b[0m\u001b[0;34m,\u001b[0m\u001b[0mload_label_vectors_simple\u001b[0m\u001b[0;34m,\u001b[0m\u001b[0;34m'mnist'\u001b[0m\u001b[0;34m,\u001b[0m\u001b[0mmnist_attributes\u001b[0m\u001b[0;34m,\u001b[0m\u001b[0;34m[\u001b[0m\u001b[0;36m44\u001b[0m\u001b[0;34m,\u001b[0m\u001b[0;36m45\u001b[0m\u001b[0;34m]\u001b[0m\u001b[0;34m)\u001b[0m\u001b[0;34m\u001b[0m\u001b[0;34m\u001b[0m\u001b[0m\n\u001b[0m",
      "\u001b[0;32m/auto/homes/njr61/main_code/src/metrics.py\u001b[0m in \u001b[0;36mresponsiveness_image_metric\u001b[0;34m(hierarchy_method, embedding_method, dataset, attributes, random_seeds)\u001b[0m\n\u001b[1;32m     98\u001b[0m     \"\"\"\n\u001b[1;32m     99\u001b[0m \u001b[0;34m\u001b[0m\u001b[0m\n\u001b[0;32m--> 100\u001b[0;31m     \u001b[0;32mreturn\u001b[0m \u001b[0mcompare_same_images_by_suffix\u001b[0m\u001b[0;34m(\u001b[0m\u001b[0mhierarchy_method\u001b[0m\u001b[0;34m,\u001b[0m\u001b[0membedding_method\u001b[0m\u001b[0;34m,\u001b[0m\u001b[0mdataset\u001b[0m\u001b[0;34m,\u001b[0m\u001b[0mattributes\u001b[0m\u001b[0;34m,\u001b[0m\u001b[0mrandom_seeds\u001b[0m\u001b[0;34m,\u001b[0m\u001b[0;34m\"_image_responsiveness\"\u001b[0m\u001b[0;34m)\u001b[0m\u001b[0;34m\u001b[0m\u001b[0;34m\u001b[0m\u001b[0m\n\u001b[0m\u001b[1;32m    101\u001b[0m \u001b[0;34m\u001b[0m\u001b[0m\n\u001b[1;32m    102\u001b[0m \u001b[0;34m\u001b[0m\u001b[0m\n",
      "\u001b[0;32m/auto/homes/njr61/main_code/src/metrics.py\u001b[0m in \u001b[0;36mcompare_same_images_by_suffix\u001b[0;34m(hierarchy_method, embedding_method, dataset, attributes, random_seeds, suffix)\u001b[0m\n\u001b[1;32m     48\u001b[0m         \u001b[0;32mraise\u001b[0m \u001b[0mException\u001b[0m\u001b[0;34m(\u001b[0m\u001b[0;34m\"{} suffix not supported\"\u001b[0m\u001b[0;34m.\u001b[0m\u001b[0mformat\u001b[0m\u001b[0;34m(\u001b[0m\u001b[0msuffix\u001b[0m\u001b[0;34m)\u001b[0m\u001b[0;34m)\u001b[0m\u001b[0;34m\u001b[0m\u001b[0;34m\u001b[0m\u001b[0m\n\u001b[1;32m     49\u001b[0m \u001b[0;34m\u001b[0m\u001b[0m\n\u001b[0;32m---> 50\u001b[0;31m     \u001b[0mbaseline_hierarchies\u001b[0m \u001b[0;34m=\u001b[0m \u001b[0;34m[\u001b[0m\u001b[0mcreate_hierarchy\u001b[0m\u001b[0;34m(\u001b[0m\u001b[0mhierarchy_method\u001b[0m\u001b[0;34m,\u001b[0m\u001b[0membedding_method\u001b[0m\u001b[0;34m,\u001b[0m\u001b[0mdataset\u001b[0m\u001b[0;34m,\u001b[0m\u001b[0mattributes\u001b[0m\u001b[0;34m,\u001b[0m\u001b[0mseed\u001b[0m\u001b[0;34m)\u001b[0m \u001b[0;32mfor\u001b[0m \u001b[0mseed\u001b[0m \u001b[0;32min\u001b[0m \u001b[0mrandom_seeds\u001b[0m\u001b[0;34m]\u001b[0m\u001b[0;34m\u001b[0m\u001b[0;34m\u001b[0m\u001b[0m\n\u001b[0m\u001b[1;32m     51\u001b[0m     \u001b[0mrobust_hierarchies\u001b[0m \u001b[0;34m=\u001b[0m \u001b[0;34m[\u001b[0m\u001b[0mcreate_hierarchy\u001b[0m\u001b[0;34m(\u001b[0m\u001b[0mhierarchy_method\u001b[0m\u001b[0;34m,\u001b[0m\u001b[0membedding_method\u001b[0m\u001b[0;34m,\u001b[0m\u001b[0mdataset\u001b[0m\u001b[0;34m+\u001b[0m\u001b[0msuffix\u001b[0m\u001b[0;34m,\u001b[0m\u001b[0mattributes\u001b[0m\u001b[0;34m,\u001b[0m\u001b[0mseed\u001b[0m\u001b[0;34m)\u001b[0m \u001b[0;32mfor\u001b[0m \u001b[0mseed\u001b[0m \u001b[0;32min\u001b[0m \u001b[0mrandom_seeds\u001b[0m\u001b[0;34m]\u001b[0m\u001b[0;34m\u001b[0m\u001b[0;34m\u001b[0m\u001b[0m\n\u001b[1;32m     52\u001b[0m \u001b[0;34m\u001b[0m\u001b[0m\n",
      "\u001b[0;32m/auto/homes/njr61/main_code/src/metrics.py\u001b[0m in \u001b[0;36m<listcomp>\u001b[0;34m(.0)\u001b[0m\n\u001b[1;32m     48\u001b[0m         \u001b[0;32mraise\u001b[0m \u001b[0mException\u001b[0m\u001b[0;34m(\u001b[0m\u001b[0;34m\"{} suffix not supported\"\u001b[0m\u001b[0;34m.\u001b[0m\u001b[0mformat\u001b[0m\u001b[0;34m(\u001b[0m\u001b[0msuffix\u001b[0m\u001b[0;34m)\u001b[0m\u001b[0;34m)\u001b[0m\u001b[0;34m\u001b[0m\u001b[0;34m\u001b[0m\u001b[0m\n\u001b[1;32m     49\u001b[0m \u001b[0;34m\u001b[0m\u001b[0m\n\u001b[0;32m---> 50\u001b[0;31m     \u001b[0mbaseline_hierarchies\u001b[0m \u001b[0;34m=\u001b[0m \u001b[0;34m[\u001b[0m\u001b[0mcreate_hierarchy\u001b[0m\u001b[0;34m(\u001b[0m\u001b[0mhierarchy_method\u001b[0m\u001b[0;34m,\u001b[0m\u001b[0membedding_method\u001b[0m\u001b[0;34m,\u001b[0m\u001b[0mdataset\u001b[0m\u001b[0;34m,\u001b[0m\u001b[0mattributes\u001b[0m\u001b[0;34m,\u001b[0m\u001b[0mseed\u001b[0m\u001b[0;34m)\u001b[0m \u001b[0;32mfor\u001b[0m \u001b[0mseed\u001b[0m \u001b[0;32min\u001b[0m \u001b[0mrandom_seeds\u001b[0m\u001b[0;34m]\u001b[0m\u001b[0;34m\u001b[0m\u001b[0;34m\u001b[0m\u001b[0m\n\u001b[0m\u001b[1;32m     51\u001b[0m     \u001b[0mrobust_hierarchies\u001b[0m \u001b[0;34m=\u001b[0m \u001b[0;34m[\u001b[0m\u001b[0mcreate_hierarchy\u001b[0m\u001b[0;34m(\u001b[0m\u001b[0mhierarchy_method\u001b[0m\u001b[0;34m,\u001b[0m\u001b[0membedding_method\u001b[0m\u001b[0;34m,\u001b[0m\u001b[0mdataset\u001b[0m\u001b[0;34m+\u001b[0m\u001b[0msuffix\u001b[0m\u001b[0;34m,\u001b[0m\u001b[0mattributes\u001b[0m\u001b[0;34m,\u001b[0m\u001b[0mseed\u001b[0m\u001b[0;34m)\u001b[0m \u001b[0;32mfor\u001b[0m \u001b[0mseed\u001b[0m \u001b[0;32min\u001b[0m \u001b[0mrandom_seeds\u001b[0m\u001b[0;34m]\u001b[0m\u001b[0;34m\u001b[0m\u001b[0;34m\u001b[0m\u001b[0m\n\u001b[1;32m     52\u001b[0m \u001b[0;34m\u001b[0m\u001b[0m\n",
      "\u001b[0;32m/auto/homes/njr61/main_code/src/hierarchy.py\u001b[0m in \u001b[0;36mcreate_hierarchy\u001b[0;34m(hierarchy_method, embedding_method, dataset, attributes, random_seed)\u001b[0m\n\u001b[1;32m    320\u001b[0m     \u001b[0membeddings_by_attribute\u001b[0m \u001b[0;34m=\u001b[0m \u001b[0;34m{\u001b[0m\u001b[0;34m}\u001b[0m\u001b[0;34m\u001b[0m\u001b[0;34m\u001b[0m\u001b[0m\n\u001b[1;32m    321\u001b[0m     \u001b[0;32mfor\u001b[0m \u001b[0mattribute\u001b[0m \u001b[0;32min\u001b[0m \u001b[0mattributes\u001b[0m\u001b[0;34m:\u001b[0m\u001b[0;34m\u001b[0m\u001b[0;34m\u001b[0m\u001b[0m\n\u001b[0;32m--> 322\u001b[0;31m         \u001b[0membeddings\u001b[0m \u001b[0;34m=\u001b[0m \u001b[0membedding_method\u001b[0m\u001b[0;34m(\u001b[0m\u001b[0mattribute\u001b[0m\u001b[0;34m,\u001b[0m\u001b[0mdataset\u001b[0m\u001b[0;34m,\u001b[0m\u001b[0mseed\u001b[0m\u001b[0;34m=\u001b[0m\u001b[0mrandom_seed\u001b[0m\u001b[0;34m)\u001b[0m\u001b[0;34m\u001b[0m\u001b[0;34m\u001b[0m\u001b[0m\n\u001b[0m\u001b[1;32m    323\u001b[0m         \u001b[0membeddings_by_attribute\u001b[0m\u001b[0;34m[\u001b[0m\u001b[0mattribute\u001b[0m\u001b[0;34m]\u001b[0m \u001b[0;34m=\u001b[0m \u001b[0membeddings\u001b[0m\u001b[0;34m\u001b[0m\u001b[0;34m\u001b[0m\u001b[0m\n\u001b[1;32m    324\u001b[0m \u001b[0;34m\u001b[0m\u001b[0m\n",
      "\u001b[0;32m/auto/homes/njr61/main_code/src/concept_vectors.py\u001b[0m in \u001b[0;36mload_label_vectors_simple\u001b[0;34m(attribute, dataset, seed)\u001b[0m\n\u001b[1;32m    331\u001b[0m         \u001b[0mvector\u001b[0m \u001b[0;34m=\u001b[0m \u001b[0mcreate_vector_from_label_cub\u001b[0m\u001b[0;34m(\u001b[0m\u001b[0mattribute\u001b[0m\u001b[0;34m,\u001b[0m\u001b[0mseed\u001b[0m\u001b[0;34m=\u001b[0m\u001b[0mseed\u001b[0m\u001b[0;34m)\u001b[0m\u001b[0;34m\u001b[0m\u001b[0;34m\u001b[0m\u001b[0m\n\u001b[1;32m    332\u001b[0m     \u001b[0;32melif\u001b[0m \u001b[0mdataset\u001b[0m \u001b[0;34m==\u001b[0m \u001b[0;34m'mnist'\u001b[0m\u001b[0;34m:\u001b[0m\u001b[0;34m\u001b[0m\u001b[0;34m\u001b[0m\u001b[0m\n\u001b[0;32m--> 333\u001b[0;31m         \u001b[0mvector\u001b[0m \u001b[0;34m=\u001b[0m \u001b[0mcreate_vector_from_label_mnist\u001b[0m\u001b[0;34m(\u001b[0m\u001b[0mattribute\u001b[0m\u001b[0;34m,\u001b[0m\u001b[0mseed\u001b[0m\u001b[0;34m=\u001b[0m\u001b[0mseed\u001b[0m\u001b[0;34m,\u001b[0m\u001b[0msuffix\u001b[0m\u001b[0;34m=\u001b[0m\u001b[0mdataset\u001b[0m\u001b[0;34m.\u001b[0m\u001b[0mreplace\u001b[0m\u001b[0;34m(\u001b[0m\u001b[0;34m\"mnist\"\u001b[0m\u001b[0;34m,\u001b[0m\u001b[0;34m\"\"\u001b[0m\u001b[0;34m)\u001b[0m\u001b[0;34m)\u001b[0m\u001b[0;34m\u001b[0m\u001b[0;34m\u001b[0m\u001b[0m\n\u001b[0m\u001b[1;32m    334\u001b[0m \u001b[0;34m\u001b[0m\u001b[0m\n\u001b[1;32m    335\u001b[0m     \u001b[0;32mreturn\u001b[0m \u001b[0mnp\u001b[0m\u001b[0;34m.\u001b[0m\u001b[0marray\u001b[0m\u001b[0;34m(\u001b[0m\u001b[0mvector\u001b[0m\u001b[0;34m)\u001b[0m\u001b[0;34m\u001b[0m\u001b[0;34m\u001b[0m\u001b[0m\n",
      "\u001b[0;32m/auto/homes/njr61/main_code/src/concept_vectors.py\u001b[0m in \u001b[0;36mcreate_vector_from_label_mnist\u001b[0;34m(attribute_name, seed, suffix)\u001b[0m\n\u001b[1;32m    122\u001b[0m \u001b[0;34m\u001b[0m\u001b[0m\n\u001b[1;32m    123\u001b[0m     \u001b[0mmnist_data\u001b[0m \u001b[0;34m=\u001b[0m \u001b[0mload_mnist\u001b[0m\u001b[0;34m(\u001b[0m\u001b[0mseed\u001b[0m\u001b[0;34m,\u001b[0m\u001b[0msuffix\u001b[0m\u001b[0;34m=\u001b[0m\u001b[0msuffix\u001b[0m\u001b[0;34m)\u001b[0m\u001b[0;34m\u001b[0m\u001b[0;34m\u001b[0m\u001b[0m\n\u001b[0;32m--> 124\u001b[0;31m     \u001b[0mconcept_vector\u001b[0m \u001b[0;34m=\u001b[0m \u001b[0;34m[\u001b[0m\u001b[0mi\u001b[0m\u001b[0;34m[\u001b[0m\u001b[0mattribute_name\u001b[0m\u001b[0;34m]\u001b[0m \u001b[0;32mfor\u001b[0m \u001b[0mi\u001b[0m \u001b[0;32min\u001b[0m \u001b[0mmnist_data\u001b[0m\u001b[0;34m]\u001b[0m\u001b[0;34m\u001b[0m\u001b[0;34m\u001b[0m\u001b[0m\n\u001b[0m\u001b[1;32m    125\u001b[0m     \u001b[0;32mreturn\u001b[0m \u001b[0mnp\u001b[0m\u001b[0;34m.\u001b[0m\u001b[0marray\u001b[0m\u001b[0;34m(\u001b[0m\u001b[0mconcept_vector\u001b[0m\u001b[0;34m)\u001b[0m\u001b[0;34m.\u001b[0m\u001b[0mreshape\u001b[0m\u001b[0;34m(\u001b[0m\u001b[0;34m(\u001b[0m\u001b[0;36m1\u001b[0m\u001b[0;34m,\u001b[0m\u001b[0mlen\u001b[0m\u001b[0;34m(\u001b[0m\u001b[0mconcept_vector\u001b[0m\u001b[0;34m)\u001b[0m\u001b[0;34m)\u001b[0m\u001b[0;34m)\u001b[0m\u001b[0;34m\u001b[0m\u001b[0;34m\u001b[0m\u001b[0m\n\u001b[1;32m    126\u001b[0m \u001b[0;34m\u001b[0m\u001b[0m\n",
      "\u001b[0;32m/auto/homes/njr61/main_code/src/concept_vectors.py\u001b[0m in \u001b[0;36m<listcomp>\u001b[0;34m(.0)\u001b[0m\n\u001b[1;32m    122\u001b[0m \u001b[0;34m\u001b[0m\u001b[0m\n\u001b[1;32m    123\u001b[0m     \u001b[0mmnist_data\u001b[0m \u001b[0;34m=\u001b[0m \u001b[0mload_mnist\u001b[0m\u001b[0;34m(\u001b[0m\u001b[0mseed\u001b[0m\u001b[0;34m,\u001b[0m\u001b[0msuffix\u001b[0m\u001b[0;34m=\u001b[0m\u001b[0msuffix\u001b[0m\u001b[0;34m)\u001b[0m\u001b[0;34m\u001b[0m\u001b[0;34m\u001b[0m\u001b[0m\n\u001b[0;32m--> 124\u001b[0;31m     \u001b[0mconcept_vector\u001b[0m \u001b[0;34m=\u001b[0m \u001b[0;34m[\u001b[0m\u001b[0mi\u001b[0m\u001b[0;34m[\u001b[0m\u001b[0mattribute_name\u001b[0m\u001b[0;34m]\u001b[0m \u001b[0;32mfor\u001b[0m \u001b[0mi\u001b[0m \u001b[0;32min\u001b[0m \u001b[0mmnist_data\u001b[0m\u001b[0;34m]\u001b[0m\u001b[0;34m\u001b[0m\u001b[0;34m\u001b[0m\u001b[0m\n\u001b[0m\u001b[1;32m    125\u001b[0m     \u001b[0;32mreturn\u001b[0m \u001b[0mnp\u001b[0m\u001b[0;34m.\u001b[0m\u001b[0marray\u001b[0m\u001b[0;34m(\u001b[0m\u001b[0mconcept_vector\u001b[0m\u001b[0;34m)\u001b[0m\u001b[0;34m.\u001b[0m\u001b[0mreshape\u001b[0m\u001b[0;34m(\u001b[0m\u001b[0;34m(\u001b[0m\u001b[0;36m1\u001b[0m\u001b[0;34m,\u001b[0m\u001b[0mlen\u001b[0m\u001b[0;34m(\u001b[0m\u001b[0mconcept_vector\u001b[0m\u001b[0;34m)\u001b[0m\u001b[0;34m)\u001b[0m\u001b[0;34m)\u001b[0m\u001b[0;34m\u001b[0m\u001b[0;34m\u001b[0m\u001b[0m\n\u001b[1;32m    126\u001b[0m \u001b[0;34m\u001b[0m\u001b[0m\n",
      "\u001b[0;31mKeyError\u001b[0m: '0_color'"
     ]
    }
   ],
   "source": [
    "responsiveness_image_metric(create_linkage_hierarchy,load_label_vectors_simple,'mnist',mnist_attributes,[44,45])"
   ]
  },
  {
   "cell_type": "code",
   "execution_count": 41,
   "id": "607bd8a7",
   "metadata": {},
   "outputs": [],
   "source": [
    "hierarchy_method = create_linkage_hierarchy\n",
    "embedding_method = load_tcav_vectors_simple\n",
    "dataset = 'mnist'\n",
    "attributes = mnist_attributes[:4]\n",
    "random_seeds = [43,44,45]\n",
    "suffix = '_image_responsiveness'"
   ]
  },
  {
   "cell_type": "code",
   "execution_count": 42,
   "id": "f1fd35ab",
   "metadata": {},
   "outputs": [],
   "source": [
    "baseline_hierarchies = [create_hierarchy(hierarchy_method,embedding_method,dataset,attributes,seed) for seed in random_seeds]\n",
    "robustness_hierarchies = [create_hierarchy(hierarchy_method,embedding_method,dataset+'_image_robustness',attributes,seed) for seed in random_seeds]\n",
    "responsiveness_hierarchies = [create_hierarchy(hierarchy_method,embedding_method,dataset+'_image_responsiveness',attributes,seed) for seed in random_seeds]"
   ]
  },
  {
   "cell_type": "code",
   "execution_count": 43,
   "id": "fc71d9ab",
   "metadata": {},
   "outputs": [
    {
     "data": {
      "text/plain": [
       "4.0"
      ]
     },
     "execution_count": 43,
     "metadata": {},
     "output_type": "execute_result"
    }
   ],
   "source": [
    "responsiveness_hierarchies[0].distance(baseline_hierarchies[0])"
   ]
  },
  {
   "cell_type": "code",
   "execution_count": 44,
   "id": "ece82621",
   "metadata": {},
   "outputs": [
    {
     "data": {
      "text/plain": [
       "4.0"
      ]
     },
     "execution_count": 44,
     "metadata": {},
     "output_type": "execute_result"
    }
   ],
   "source": [
    "robustness_hierarchies[0].distance(baseline_hierarchies[0])"
   ]
  },
  {
   "cell_type": "code",
   "execution_count": 12,
   "id": "682dd24b",
   "metadata": {},
   "outputs": [],
   "source": [
    "baseline_node = baseline_hierarchies[0].root_split.to_node()"
   ]
  },
  {
   "cell_type": "code",
   "execution_count": 13,
   "id": "89debc0b",
   "metadata": {},
   "outputs": [],
   "source": [
    "responsivness_node = responsiveness_hierarchies[0].root_split.to_node()"
   ]
  },
  {
   "cell_type": "code",
   "execution_count": 14,
   "id": "4dfda086",
   "metadata": {},
   "outputs": [
    {
     "data": {
      "text/plain": [
       "6.0"
      ]
     },
     "execution_count": 14,
     "metadata": {},
     "output_type": "execute_result"
    }
   ],
   "source": [
    "simple_distance(baseline_node,responsivness_node)"
   ]
  },
  {
   "cell_type": "code",
   "execution_count": 19,
   "id": "4dfc4776",
   "metadata": {},
   "outputs": [
    {
     "name": "stdout",
     "output_type": "stream",
     "text": [
      "6.0\n",
      "0.0\n",
      "0.0\n"
     ]
    }
   ],
   "source": [
    "for i in range(len(responsiveness_hierarchies)):\n",
    "    print(responsiveness_hierarchies[i].distance(baseline_hierarchies[i]))"
   ]
  },
  {
   "cell_type": "code",
   "execution_count": 18,
   "id": "50b66f29",
   "metadata": {},
   "outputs": [
    {
     "data": {
      "text/plain": [
       "6.0"
      ]
     },
     "execution_count": 18,
     "metadata": {},
     "output_type": "execute_result"
    }
   ],
   "source": [
    "responsiveness_hierarchies[0].distance(baseline_hierarchies[0])"
   ]
  },
  {
   "cell_type": "code",
   "execution_count": 53,
   "id": "a9264041",
   "metadata": {},
   "outputs": [],
   "source": [
    "baseline_1_color = load_tcav_vectors_simple(\"1_color\",\"mnist\",seed=43)"
   ]
  },
  {
   "cell_type": "code",
   "execution_count": 54,
   "id": "07013b0c",
   "metadata": {},
   "outputs": [],
   "source": [
    "responsiveness_1_color = load_tcav_vectors_simple(\"1_color\",\"mnist_image_responsiveness\",seed=43)"
   ]
  },
  {
   "cell_type": "code",
   "execution_count": 55,
   "id": "b10af6c3",
   "metadata": {},
   "outputs": [
    {
     "data": {
      "text/plain": [
       "2823.778993652923"
      ]
     },
     "execution_count": 55,
     "metadata": {},
     "output_type": "execute_result"
    }
   ],
   "source": [
    "np.linalg.norm(baseline_1_color)"
   ]
  },
  {
   "cell_type": "code",
   "execution_count": 56,
   "id": "26c72e1f",
   "metadata": {},
   "outputs": [
    {
     "data": {
      "text/plain": [
       "2285.4046393140497"
      ]
     },
     "execution_count": 56,
     "metadata": {},
     "output_type": "execute_result"
    }
   ],
   "source": [
    "np.linalg.norm(responsiveness_1_color)"
   ]
  },
  {
   "cell_type": "code",
   "execution_count": 62,
   "id": "e303f6a8",
   "metadata": {},
   "outputs": [
    {
     "name": "stdout",
     "output_type": "stream",
     "text": [
      "0_color \n"
     ]
    },
    {
     "name": "stderr",
     "output_type": "stream",
     "text": [
      "/auto/homes/njr61/environments/mambaforge/envs/concepts/lib/python3.7/site-packages/tensorflow/python/client/session.py:1769: UserWarning: An interactive session is already active. This can cause out-of-memory errors in some cases. You must explicitly call `InteractiveSession.close()` to release resources held by the other session(s).\n",
      "  warnings.warn('An interactive session is already active. This can '\n"
     ]
    },
    {
     "name": "stdout",
     "output_type": "stream",
     "text": [
      "INFO:tensorflow:mixed4c ['0_color', 'random500_0'] zebra 0.1\n"
     ]
    },
    {
     "name": "stderr",
     "output_type": "stream",
     "text": [
      "INFO:tensorflow:mixed4c ['0_color', 'random500_0'] zebra 0.1\n"
     ]
    },
    {
     "name": "stdout",
     "output_type": "stream",
     "text": [
      "INFO:tensorflow:mixed4c ['0_color', 'random500_1'] zebra 0.1\n"
     ]
    },
    {
     "name": "stderr",
     "output_type": "stream",
     "text": [
      "INFO:tensorflow:mixed4c ['0_color', 'random500_1'] zebra 0.1\n"
     ]
    },
    {
     "name": "stdout",
     "output_type": "stream",
     "text": [
      "INFO:tensorflow:mixed4c ['0_color', 'random500_2'] zebra 0.1\n"
     ]
    },
    {
     "name": "stderr",
     "output_type": "stream",
     "text": [
      "INFO:tensorflow:mixed4c ['0_color', 'random500_2'] zebra 0.1\n"
     ]
    },
    {
     "name": "stdout",
     "output_type": "stream",
     "text": [
      "INFO:tensorflow:mixed4c ['0_color', 'random500_3'] zebra 0.1\n"
     ]
    },
    {
     "name": "stderr",
     "output_type": "stream",
     "text": [
      "INFO:tensorflow:mixed4c ['0_color', 'random500_3'] zebra 0.1\n"
     ]
    },
    {
     "name": "stdout",
     "output_type": "stream",
     "text": [
      "INFO:tensorflow:mixed4c ['0_color', 'random500_4'] zebra 0.1\n"
     ]
    },
    {
     "name": "stderr",
     "output_type": "stream",
     "text": [
      "INFO:tensorflow:mixed4c ['0_color', 'random500_4'] zebra 0.1\n"
     ]
    },
    {
     "name": "stdout",
     "output_type": "stream",
     "text": [
      "INFO:tensorflow:mixed4c ['0_color', 'random500_5'] zebra 0.1\n"
     ]
    },
    {
     "name": "stderr",
     "output_type": "stream",
     "text": [
      "INFO:tensorflow:mixed4c ['0_color', 'random500_5'] zebra 0.1\n"
     ]
    },
    {
     "name": "stdout",
     "output_type": "stream",
     "text": [
      "INFO:tensorflow:mixed4c ['0_color', 'random500_6'] zebra 0.1\n"
     ]
    },
    {
     "name": "stderr",
     "output_type": "stream",
     "text": [
      "INFO:tensorflow:mixed4c ['0_color', 'random500_6'] zebra 0.1\n"
     ]
    },
    {
     "name": "stdout",
     "output_type": "stream",
     "text": [
      "INFO:tensorflow:mixed4c ['0_color', 'random500_7'] zebra 0.1\n"
     ]
    },
    {
     "name": "stderr",
     "output_type": "stream",
     "text": [
      "INFO:tensorflow:mixed4c ['0_color', 'random500_7'] zebra 0.1\n"
     ]
    },
    {
     "name": "stdout",
     "output_type": "stream",
     "text": [
      "INFO:tensorflow:mixed4c ['0_color', 'random500_8'] zebra 0.1\n"
     ]
    },
    {
     "name": "stderr",
     "output_type": "stream",
     "text": [
      "INFO:tensorflow:mixed4c ['0_color', 'random500_8'] zebra 0.1\n"
     ]
    },
    {
     "name": "stdout",
     "output_type": "stream",
     "text": [
      "INFO:tensorflow:mixed4c ['0_color', 'random500_9'] zebra 0.1\n"
     ]
    },
    {
     "name": "stderr",
     "output_type": "stream",
     "text": [
      "INFO:tensorflow:mixed4c ['0_color', 'random500_9'] zebra 0.1\n"
     ]
    },
    {
     "name": "stdout",
     "output_type": "stream",
     "text": [
      "INFO:tensorflow:mixed4c ['random500_0', 'random500_1'] zebra 0.1\n"
     ]
    },
    {
     "name": "stderr",
     "output_type": "stream",
     "text": [
      "INFO:tensorflow:mixed4c ['random500_0', 'random500_1'] zebra 0.1\n"
     ]
    },
    {
     "name": "stdout",
     "output_type": "stream",
     "text": [
      "INFO:tensorflow:mixed4c ['random500_0', 'random500_2'] zebra 0.1\n"
     ]
    },
    {
     "name": "stderr",
     "output_type": "stream",
     "text": [
      "INFO:tensorflow:mixed4c ['random500_0', 'random500_2'] zebra 0.1\n"
     ]
    },
    {
     "name": "stdout",
     "output_type": "stream",
     "text": [
      "INFO:tensorflow:mixed4c ['random500_0', 'random500_3'] zebra 0.1\n"
     ]
    },
    {
     "name": "stderr",
     "output_type": "stream",
     "text": [
      "INFO:tensorflow:mixed4c ['random500_0', 'random500_3'] zebra 0.1\n"
     ]
    },
    {
     "name": "stdout",
     "output_type": "stream",
     "text": [
      "INFO:tensorflow:mixed4c ['random500_0', 'random500_4'] zebra 0.1\n"
     ]
    },
    {
     "name": "stderr",
     "output_type": "stream",
     "text": [
      "INFO:tensorflow:mixed4c ['random500_0', 'random500_4'] zebra 0.1\n"
     ]
    },
    {
     "name": "stdout",
     "output_type": "stream",
     "text": [
      "INFO:tensorflow:mixed4c ['random500_0', 'random500_5'] zebra 0.1\n"
     ]
    },
    {
     "name": "stderr",
     "output_type": "stream",
     "text": [
      "INFO:tensorflow:mixed4c ['random500_0', 'random500_5'] zebra 0.1\n"
     ]
    },
    {
     "name": "stdout",
     "output_type": "stream",
     "text": [
      "INFO:tensorflow:mixed4c ['random500_0', 'random500_6'] zebra 0.1\n"
     ]
    },
    {
     "name": "stderr",
     "output_type": "stream",
     "text": [
      "INFO:tensorflow:mixed4c ['random500_0', 'random500_6'] zebra 0.1\n"
     ]
    },
    {
     "name": "stdout",
     "output_type": "stream",
     "text": [
      "INFO:tensorflow:mixed4c ['random500_0', 'random500_7'] zebra 0.1\n"
     ]
    },
    {
     "name": "stderr",
     "output_type": "stream",
     "text": [
      "INFO:tensorflow:mixed4c ['random500_0', 'random500_7'] zebra 0.1\n"
     ]
    },
    {
     "name": "stdout",
     "output_type": "stream",
     "text": [
      "INFO:tensorflow:mixed4c ['random500_0', 'random500_8'] zebra 0.1\n"
     ]
    },
    {
     "name": "stderr",
     "output_type": "stream",
     "text": [
      "INFO:tensorflow:mixed4c ['random500_0', 'random500_8'] zebra 0.1\n"
     ]
    },
    {
     "name": "stdout",
     "output_type": "stream",
     "text": [
      "INFO:tensorflow:mixed4c ['random500_0', 'random500_9'] zebra 0.1\n"
     ]
    },
    {
     "name": "stderr",
     "output_type": "stream",
     "text": [
      "INFO:tensorflow:mixed4c ['random500_0', 'random500_9'] zebra 0.1\n"
     ]
    },
    {
     "name": "stdout",
     "output_type": "stream",
     "text": [
      "INFO:tensorflow:mixed4c ['random500_1', 'random500_0'] zebra 0.1\n"
     ]
    },
    {
     "name": "stderr",
     "output_type": "stream",
     "text": [
      "INFO:tensorflow:mixed4c ['random500_1', 'random500_0'] zebra 0.1\n"
     ]
    },
    {
     "name": "stdout",
     "output_type": "stream",
     "text": [
      "INFO:tensorflow:mixed4c ['random500_1', 'random500_2'] zebra 0.1\n"
     ]
    },
    {
     "name": "stderr",
     "output_type": "stream",
     "text": [
      "INFO:tensorflow:mixed4c ['random500_1', 'random500_2'] zebra 0.1\n"
     ]
    },
    {
     "name": "stdout",
     "output_type": "stream",
     "text": [
      "INFO:tensorflow:mixed4c ['random500_1', 'random500_3'] zebra 0.1\n"
     ]
    },
    {
     "name": "stderr",
     "output_type": "stream",
     "text": [
      "INFO:tensorflow:mixed4c ['random500_1', 'random500_3'] zebra 0.1\n"
     ]
    },
    {
     "name": "stdout",
     "output_type": "stream",
     "text": [
      "INFO:tensorflow:mixed4c ['random500_1', 'random500_4'] zebra 0.1\n"
     ]
    },
    {
     "name": "stderr",
     "output_type": "stream",
     "text": [
      "INFO:tensorflow:mixed4c ['random500_1', 'random500_4'] zebra 0.1\n"
     ]
    },
    {
     "name": "stdout",
     "output_type": "stream",
     "text": [
      "INFO:tensorflow:mixed4c ['random500_1', 'random500_5'] zebra 0.1\n"
     ]
    },
    {
     "name": "stderr",
     "output_type": "stream",
     "text": [
      "INFO:tensorflow:mixed4c ['random500_1', 'random500_5'] zebra 0.1\n"
     ]
    },
    {
     "name": "stdout",
     "output_type": "stream",
     "text": [
      "INFO:tensorflow:mixed4c ['random500_1', 'random500_6'] zebra 0.1\n"
     ]
    },
    {
     "name": "stderr",
     "output_type": "stream",
     "text": [
      "INFO:tensorflow:mixed4c ['random500_1', 'random500_6'] zebra 0.1\n"
     ]
    },
    {
     "name": "stdout",
     "output_type": "stream",
     "text": [
      "INFO:tensorflow:mixed4c ['random500_1', 'random500_7'] zebra 0.1\n"
     ]
    },
    {
     "name": "stderr",
     "output_type": "stream",
     "text": [
      "INFO:tensorflow:mixed4c ['random500_1', 'random500_7'] zebra 0.1\n"
     ]
    },
    {
     "name": "stdout",
     "output_type": "stream",
     "text": [
      "INFO:tensorflow:mixed4c ['random500_1', 'random500_8'] zebra 0.1\n"
     ]
    },
    {
     "name": "stderr",
     "output_type": "stream",
     "text": [
      "INFO:tensorflow:mixed4c ['random500_1', 'random500_8'] zebra 0.1\n"
     ]
    },
    {
     "name": "stdout",
     "output_type": "stream",
     "text": [
      "INFO:tensorflow:mixed4c ['random500_1', 'random500_9'] zebra 0.1\n"
     ]
    },
    {
     "name": "stderr",
     "output_type": "stream",
     "text": [
      "INFO:tensorflow:mixed4c ['random500_1', 'random500_9'] zebra 0.1\n"
     ]
    },
    {
     "name": "stdout",
     "output_type": "stream",
     "text": [
      "INFO:tensorflow:mixed4c ['random500_2', 'random500_0'] zebra 0.1\n"
     ]
    },
    {
     "name": "stderr",
     "output_type": "stream",
     "text": [
      "INFO:tensorflow:mixed4c ['random500_2', 'random500_0'] zebra 0.1\n"
     ]
    },
    {
     "name": "stdout",
     "output_type": "stream",
     "text": [
      "INFO:tensorflow:mixed4c ['random500_2', 'random500_1'] zebra 0.1\n"
     ]
    },
    {
     "name": "stderr",
     "output_type": "stream",
     "text": [
      "INFO:tensorflow:mixed4c ['random500_2', 'random500_1'] zebra 0.1\n"
     ]
    },
    {
     "name": "stdout",
     "output_type": "stream",
     "text": [
      "INFO:tensorflow:mixed4c ['random500_2', 'random500_3'] zebra 0.1\n"
     ]
    },
    {
     "name": "stderr",
     "output_type": "stream",
     "text": [
      "INFO:tensorflow:mixed4c ['random500_2', 'random500_3'] zebra 0.1\n"
     ]
    },
    {
     "name": "stdout",
     "output_type": "stream",
     "text": [
      "INFO:tensorflow:mixed4c ['random500_2', 'random500_4'] zebra 0.1\n"
     ]
    },
    {
     "name": "stderr",
     "output_type": "stream",
     "text": [
      "INFO:tensorflow:mixed4c ['random500_2', 'random500_4'] zebra 0.1\n"
     ]
    },
    {
     "name": "stdout",
     "output_type": "stream",
     "text": [
      "INFO:tensorflow:mixed4c ['random500_2', 'random500_5'] zebra 0.1\n"
     ]
    },
    {
     "name": "stderr",
     "output_type": "stream",
     "text": [
      "INFO:tensorflow:mixed4c ['random500_2', 'random500_5'] zebra 0.1\n"
     ]
    },
    {
     "name": "stdout",
     "output_type": "stream",
     "text": [
      "INFO:tensorflow:mixed4c ['random500_2', 'random500_6'] zebra 0.1\n"
     ]
    },
    {
     "name": "stderr",
     "output_type": "stream",
     "text": [
      "INFO:tensorflow:mixed4c ['random500_2', 'random500_6'] zebra 0.1\n"
     ]
    },
    {
     "name": "stdout",
     "output_type": "stream",
     "text": [
      "INFO:tensorflow:mixed4c ['random500_2', 'random500_7'] zebra 0.1\n"
     ]
    },
    {
     "name": "stderr",
     "output_type": "stream",
     "text": [
      "INFO:tensorflow:mixed4c ['random500_2', 'random500_7'] zebra 0.1\n"
     ]
    },
    {
     "name": "stdout",
     "output_type": "stream",
     "text": [
      "INFO:tensorflow:mixed4c ['random500_2', 'random500_8'] zebra 0.1\n"
     ]
    },
    {
     "name": "stderr",
     "output_type": "stream",
     "text": [
      "INFO:tensorflow:mixed4c ['random500_2', 'random500_8'] zebra 0.1\n"
     ]
    },
    {
     "name": "stdout",
     "output_type": "stream",
     "text": [
      "INFO:tensorflow:mixed4c ['random500_2', 'random500_9'] zebra 0.1\n"
     ]
    },
    {
     "name": "stderr",
     "output_type": "stream",
     "text": [
      "INFO:tensorflow:mixed4c ['random500_2', 'random500_9'] zebra 0.1\n"
     ]
    },
    {
     "name": "stdout",
     "output_type": "stream",
     "text": [
      "INFO:tensorflow:mixed4c ['random500_3', 'random500_0'] zebra 0.1\n"
     ]
    },
    {
     "name": "stderr",
     "output_type": "stream",
     "text": [
      "INFO:tensorflow:mixed4c ['random500_3', 'random500_0'] zebra 0.1\n"
     ]
    },
    {
     "name": "stdout",
     "output_type": "stream",
     "text": [
      "INFO:tensorflow:mixed4c ['random500_3', 'random500_1'] zebra 0.1\n"
     ]
    },
    {
     "name": "stderr",
     "output_type": "stream",
     "text": [
      "INFO:tensorflow:mixed4c ['random500_3', 'random500_1'] zebra 0.1\n"
     ]
    },
    {
     "name": "stdout",
     "output_type": "stream",
     "text": [
      "INFO:tensorflow:mixed4c ['random500_3', 'random500_2'] zebra 0.1\n"
     ]
    },
    {
     "name": "stderr",
     "output_type": "stream",
     "text": [
      "INFO:tensorflow:mixed4c ['random500_3', 'random500_2'] zebra 0.1\n"
     ]
    },
    {
     "name": "stdout",
     "output_type": "stream",
     "text": [
      "INFO:tensorflow:mixed4c ['random500_3', 'random500_4'] zebra 0.1\n"
     ]
    },
    {
     "name": "stderr",
     "output_type": "stream",
     "text": [
      "INFO:tensorflow:mixed4c ['random500_3', 'random500_4'] zebra 0.1\n"
     ]
    },
    {
     "name": "stdout",
     "output_type": "stream",
     "text": [
      "INFO:tensorflow:mixed4c ['random500_3', 'random500_5'] zebra 0.1\n"
     ]
    },
    {
     "name": "stderr",
     "output_type": "stream",
     "text": [
      "INFO:tensorflow:mixed4c ['random500_3', 'random500_5'] zebra 0.1\n"
     ]
    },
    {
     "name": "stdout",
     "output_type": "stream",
     "text": [
      "INFO:tensorflow:mixed4c ['random500_3', 'random500_6'] zebra 0.1\n"
     ]
    },
    {
     "name": "stderr",
     "output_type": "stream",
     "text": [
      "INFO:tensorflow:mixed4c ['random500_3', 'random500_6'] zebra 0.1\n"
     ]
    },
    {
     "name": "stdout",
     "output_type": "stream",
     "text": [
      "INFO:tensorflow:mixed4c ['random500_3', 'random500_7'] zebra 0.1\n"
     ]
    },
    {
     "name": "stderr",
     "output_type": "stream",
     "text": [
      "INFO:tensorflow:mixed4c ['random500_3', 'random500_7'] zebra 0.1\n"
     ]
    },
    {
     "name": "stdout",
     "output_type": "stream",
     "text": [
      "INFO:tensorflow:mixed4c ['random500_3', 'random500_8'] zebra 0.1\n"
     ]
    },
    {
     "name": "stderr",
     "output_type": "stream",
     "text": [
      "INFO:tensorflow:mixed4c ['random500_3', 'random500_8'] zebra 0.1\n"
     ]
    },
    {
     "name": "stdout",
     "output_type": "stream",
     "text": [
      "INFO:tensorflow:mixed4c ['random500_3', 'random500_9'] zebra 0.1\n"
     ]
    },
    {
     "name": "stderr",
     "output_type": "stream",
     "text": [
      "INFO:tensorflow:mixed4c ['random500_3', 'random500_9'] zebra 0.1\n"
     ]
    },
    {
     "name": "stdout",
     "output_type": "stream",
     "text": [
      "INFO:tensorflow:mixed4c ['random500_4', 'random500_0'] zebra 0.1\n"
     ]
    },
    {
     "name": "stderr",
     "output_type": "stream",
     "text": [
      "INFO:tensorflow:mixed4c ['random500_4', 'random500_0'] zebra 0.1\n"
     ]
    },
    {
     "name": "stdout",
     "output_type": "stream",
     "text": [
      "INFO:tensorflow:mixed4c ['random500_4', 'random500_1'] zebra 0.1\n"
     ]
    },
    {
     "name": "stderr",
     "output_type": "stream",
     "text": [
      "INFO:tensorflow:mixed4c ['random500_4', 'random500_1'] zebra 0.1\n"
     ]
    },
    {
     "name": "stdout",
     "output_type": "stream",
     "text": [
      "INFO:tensorflow:mixed4c ['random500_4', 'random500_2'] zebra 0.1\n"
     ]
    },
    {
     "name": "stderr",
     "output_type": "stream",
     "text": [
      "INFO:tensorflow:mixed4c ['random500_4', 'random500_2'] zebra 0.1\n"
     ]
    },
    {
     "name": "stdout",
     "output_type": "stream",
     "text": [
      "INFO:tensorflow:mixed4c ['random500_4', 'random500_3'] zebra 0.1\n"
     ]
    },
    {
     "name": "stderr",
     "output_type": "stream",
     "text": [
      "INFO:tensorflow:mixed4c ['random500_4', 'random500_3'] zebra 0.1\n"
     ]
    },
    {
     "name": "stdout",
     "output_type": "stream",
     "text": [
      "INFO:tensorflow:mixed4c ['random500_4', 'random500_5'] zebra 0.1\n"
     ]
    },
    {
     "name": "stderr",
     "output_type": "stream",
     "text": [
      "INFO:tensorflow:mixed4c ['random500_4', 'random500_5'] zebra 0.1\n"
     ]
    },
    {
     "name": "stdout",
     "output_type": "stream",
     "text": [
      "INFO:tensorflow:mixed4c ['random500_4', 'random500_6'] zebra 0.1\n"
     ]
    },
    {
     "name": "stderr",
     "output_type": "stream",
     "text": [
      "INFO:tensorflow:mixed4c ['random500_4', 'random500_6'] zebra 0.1\n"
     ]
    },
    {
     "name": "stdout",
     "output_type": "stream",
     "text": [
      "INFO:tensorflow:mixed4c ['random500_4', 'random500_7'] zebra 0.1\n"
     ]
    },
    {
     "name": "stderr",
     "output_type": "stream",
     "text": [
      "INFO:tensorflow:mixed4c ['random500_4', 'random500_7'] zebra 0.1\n"
     ]
    },
    {
     "name": "stdout",
     "output_type": "stream",
     "text": [
      "INFO:tensorflow:mixed4c ['random500_4', 'random500_8'] zebra 0.1\n"
     ]
    },
    {
     "name": "stderr",
     "output_type": "stream",
     "text": [
      "INFO:tensorflow:mixed4c ['random500_4', 'random500_8'] zebra 0.1\n"
     ]
    },
    {
     "name": "stdout",
     "output_type": "stream",
     "text": [
      "INFO:tensorflow:mixed4c ['random500_4', 'random500_9'] zebra 0.1\n"
     ]
    },
    {
     "name": "stderr",
     "output_type": "stream",
     "text": [
      "INFO:tensorflow:mixed4c ['random500_4', 'random500_9'] zebra 0.1\n"
     ]
    },
    {
     "name": "stdout",
     "output_type": "stream",
     "text": [
      "INFO:tensorflow:mixed4c ['random500_5', 'random500_0'] zebra 0.1\n"
     ]
    },
    {
     "name": "stderr",
     "output_type": "stream",
     "text": [
      "INFO:tensorflow:mixed4c ['random500_5', 'random500_0'] zebra 0.1\n"
     ]
    },
    {
     "name": "stdout",
     "output_type": "stream",
     "text": [
      "INFO:tensorflow:mixed4c ['random500_5', 'random500_1'] zebra 0.1\n"
     ]
    },
    {
     "name": "stderr",
     "output_type": "stream",
     "text": [
      "INFO:tensorflow:mixed4c ['random500_5', 'random500_1'] zebra 0.1\n"
     ]
    },
    {
     "name": "stdout",
     "output_type": "stream",
     "text": [
      "INFO:tensorflow:mixed4c ['random500_5', 'random500_2'] zebra 0.1\n"
     ]
    },
    {
     "name": "stderr",
     "output_type": "stream",
     "text": [
      "INFO:tensorflow:mixed4c ['random500_5', 'random500_2'] zebra 0.1\n"
     ]
    },
    {
     "name": "stdout",
     "output_type": "stream",
     "text": [
      "INFO:tensorflow:mixed4c ['random500_5', 'random500_3'] zebra 0.1\n"
     ]
    },
    {
     "name": "stderr",
     "output_type": "stream",
     "text": [
      "INFO:tensorflow:mixed4c ['random500_5', 'random500_3'] zebra 0.1\n"
     ]
    },
    {
     "name": "stdout",
     "output_type": "stream",
     "text": [
      "INFO:tensorflow:mixed4c ['random500_5', 'random500_4'] zebra 0.1\n"
     ]
    },
    {
     "name": "stderr",
     "output_type": "stream",
     "text": [
      "INFO:tensorflow:mixed4c ['random500_5', 'random500_4'] zebra 0.1\n"
     ]
    },
    {
     "name": "stdout",
     "output_type": "stream",
     "text": [
      "INFO:tensorflow:mixed4c ['random500_5', 'random500_6'] zebra 0.1\n"
     ]
    },
    {
     "name": "stderr",
     "output_type": "stream",
     "text": [
      "INFO:tensorflow:mixed4c ['random500_5', 'random500_6'] zebra 0.1\n"
     ]
    },
    {
     "name": "stdout",
     "output_type": "stream",
     "text": [
      "INFO:tensorflow:mixed4c ['random500_5', 'random500_7'] zebra 0.1\n"
     ]
    },
    {
     "name": "stderr",
     "output_type": "stream",
     "text": [
      "INFO:tensorflow:mixed4c ['random500_5', 'random500_7'] zebra 0.1\n"
     ]
    },
    {
     "name": "stdout",
     "output_type": "stream",
     "text": [
      "INFO:tensorflow:mixed4c ['random500_5', 'random500_8'] zebra 0.1\n"
     ]
    },
    {
     "name": "stderr",
     "output_type": "stream",
     "text": [
      "INFO:tensorflow:mixed4c ['random500_5', 'random500_8'] zebra 0.1\n"
     ]
    },
    {
     "name": "stdout",
     "output_type": "stream",
     "text": [
      "INFO:tensorflow:mixed4c ['random500_5', 'random500_9'] zebra 0.1\n"
     ]
    },
    {
     "name": "stderr",
     "output_type": "stream",
     "text": [
      "INFO:tensorflow:mixed4c ['random500_5', 'random500_9'] zebra 0.1\n"
     ]
    },
    {
     "name": "stdout",
     "output_type": "stream",
     "text": [
      "INFO:tensorflow:mixed4c ['random500_6', 'random500_0'] zebra 0.1\n"
     ]
    },
    {
     "name": "stderr",
     "output_type": "stream",
     "text": [
      "INFO:tensorflow:mixed4c ['random500_6', 'random500_0'] zebra 0.1\n"
     ]
    },
    {
     "name": "stdout",
     "output_type": "stream",
     "text": [
      "INFO:tensorflow:mixed4c ['random500_6', 'random500_1'] zebra 0.1\n"
     ]
    },
    {
     "name": "stderr",
     "output_type": "stream",
     "text": [
      "INFO:tensorflow:mixed4c ['random500_6', 'random500_1'] zebra 0.1\n"
     ]
    },
    {
     "name": "stdout",
     "output_type": "stream",
     "text": [
      "INFO:tensorflow:mixed4c ['random500_6', 'random500_2'] zebra 0.1\n"
     ]
    },
    {
     "name": "stderr",
     "output_type": "stream",
     "text": [
      "INFO:tensorflow:mixed4c ['random500_6', 'random500_2'] zebra 0.1\n"
     ]
    },
    {
     "name": "stdout",
     "output_type": "stream",
     "text": [
      "INFO:tensorflow:mixed4c ['random500_6', 'random500_3'] zebra 0.1\n"
     ]
    },
    {
     "name": "stderr",
     "output_type": "stream",
     "text": [
      "INFO:tensorflow:mixed4c ['random500_6', 'random500_3'] zebra 0.1\n"
     ]
    },
    {
     "name": "stdout",
     "output_type": "stream",
     "text": [
      "INFO:tensorflow:mixed4c ['random500_6', 'random500_4'] zebra 0.1\n"
     ]
    },
    {
     "name": "stderr",
     "output_type": "stream",
     "text": [
      "INFO:tensorflow:mixed4c ['random500_6', 'random500_4'] zebra 0.1\n"
     ]
    },
    {
     "name": "stdout",
     "output_type": "stream",
     "text": [
      "INFO:tensorflow:mixed4c ['random500_6', 'random500_5'] zebra 0.1\n"
     ]
    },
    {
     "name": "stderr",
     "output_type": "stream",
     "text": [
      "INFO:tensorflow:mixed4c ['random500_6', 'random500_5'] zebra 0.1\n"
     ]
    },
    {
     "name": "stdout",
     "output_type": "stream",
     "text": [
      "INFO:tensorflow:mixed4c ['random500_6', 'random500_7'] zebra 0.1\n"
     ]
    },
    {
     "name": "stderr",
     "output_type": "stream",
     "text": [
      "INFO:tensorflow:mixed4c ['random500_6', 'random500_7'] zebra 0.1\n"
     ]
    },
    {
     "name": "stdout",
     "output_type": "stream",
     "text": [
      "INFO:tensorflow:mixed4c ['random500_6', 'random500_8'] zebra 0.1\n"
     ]
    },
    {
     "name": "stderr",
     "output_type": "stream",
     "text": [
      "INFO:tensorflow:mixed4c ['random500_6', 'random500_8'] zebra 0.1\n"
     ]
    },
    {
     "name": "stdout",
     "output_type": "stream",
     "text": [
      "INFO:tensorflow:mixed4c ['random500_6', 'random500_9'] zebra 0.1\n"
     ]
    },
    {
     "name": "stderr",
     "output_type": "stream",
     "text": [
      "INFO:tensorflow:mixed4c ['random500_6', 'random500_9'] zebra 0.1\n"
     ]
    },
    {
     "name": "stdout",
     "output_type": "stream",
     "text": [
      "INFO:tensorflow:mixed4c ['random500_7', 'random500_0'] zebra 0.1\n"
     ]
    },
    {
     "name": "stderr",
     "output_type": "stream",
     "text": [
      "INFO:tensorflow:mixed4c ['random500_7', 'random500_0'] zebra 0.1\n"
     ]
    },
    {
     "name": "stdout",
     "output_type": "stream",
     "text": [
      "INFO:tensorflow:mixed4c ['random500_7', 'random500_1'] zebra 0.1\n"
     ]
    },
    {
     "name": "stderr",
     "output_type": "stream",
     "text": [
      "INFO:tensorflow:mixed4c ['random500_7', 'random500_1'] zebra 0.1\n"
     ]
    },
    {
     "name": "stdout",
     "output_type": "stream",
     "text": [
      "INFO:tensorflow:mixed4c ['random500_7', 'random500_2'] zebra 0.1\n"
     ]
    },
    {
     "name": "stderr",
     "output_type": "stream",
     "text": [
      "INFO:tensorflow:mixed4c ['random500_7', 'random500_2'] zebra 0.1\n"
     ]
    },
    {
     "name": "stdout",
     "output_type": "stream",
     "text": [
      "INFO:tensorflow:mixed4c ['random500_7', 'random500_3'] zebra 0.1\n"
     ]
    },
    {
     "name": "stderr",
     "output_type": "stream",
     "text": [
      "INFO:tensorflow:mixed4c ['random500_7', 'random500_3'] zebra 0.1\n"
     ]
    },
    {
     "name": "stdout",
     "output_type": "stream",
     "text": [
      "INFO:tensorflow:mixed4c ['random500_7', 'random500_4'] zebra 0.1\n"
     ]
    },
    {
     "name": "stderr",
     "output_type": "stream",
     "text": [
      "INFO:tensorflow:mixed4c ['random500_7', 'random500_4'] zebra 0.1\n"
     ]
    },
    {
     "name": "stdout",
     "output_type": "stream",
     "text": [
      "INFO:tensorflow:mixed4c ['random500_7', 'random500_5'] zebra 0.1\n"
     ]
    },
    {
     "name": "stderr",
     "output_type": "stream",
     "text": [
      "INFO:tensorflow:mixed4c ['random500_7', 'random500_5'] zebra 0.1\n"
     ]
    },
    {
     "name": "stdout",
     "output_type": "stream",
     "text": [
      "INFO:tensorflow:mixed4c ['random500_7', 'random500_6'] zebra 0.1\n"
     ]
    },
    {
     "name": "stderr",
     "output_type": "stream",
     "text": [
      "INFO:tensorflow:mixed4c ['random500_7', 'random500_6'] zebra 0.1\n"
     ]
    },
    {
     "name": "stdout",
     "output_type": "stream",
     "text": [
      "INFO:tensorflow:mixed4c ['random500_7', 'random500_8'] zebra 0.1\n"
     ]
    },
    {
     "name": "stderr",
     "output_type": "stream",
     "text": [
      "INFO:tensorflow:mixed4c ['random500_7', 'random500_8'] zebra 0.1\n"
     ]
    },
    {
     "name": "stdout",
     "output_type": "stream",
     "text": [
      "INFO:tensorflow:mixed4c ['random500_7', 'random500_9'] zebra 0.1\n"
     ]
    },
    {
     "name": "stderr",
     "output_type": "stream",
     "text": [
      "INFO:tensorflow:mixed4c ['random500_7', 'random500_9'] zebra 0.1\n"
     ]
    },
    {
     "name": "stdout",
     "output_type": "stream",
     "text": [
      "INFO:tensorflow:mixed4c ['random500_8', 'random500_0'] zebra 0.1\n"
     ]
    },
    {
     "name": "stderr",
     "output_type": "stream",
     "text": [
      "INFO:tensorflow:mixed4c ['random500_8', 'random500_0'] zebra 0.1\n"
     ]
    },
    {
     "name": "stdout",
     "output_type": "stream",
     "text": [
      "INFO:tensorflow:mixed4c ['random500_8', 'random500_1'] zebra 0.1\n"
     ]
    },
    {
     "name": "stderr",
     "output_type": "stream",
     "text": [
      "INFO:tensorflow:mixed4c ['random500_8', 'random500_1'] zebra 0.1\n"
     ]
    },
    {
     "name": "stdout",
     "output_type": "stream",
     "text": [
      "INFO:tensorflow:mixed4c ['random500_8', 'random500_2'] zebra 0.1\n"
     ]
    },
    {
     "name": "stderr",
     "output_type": "stream",
     "text": [
      "INFO:tensorflow:mixed4c ['random500_8', 'random500_2'] zebra 0.1\n"
     ]
    },
    {
     "name": "stdout",
     "output_type": "stream",
     "text": [
      "INFO:tensorflow:mixed4c ['random500_8', 'random500_3'] zebra 0.1\n"
     ]
    },
    {
     "name": "stderr",
     "output_type": "stream",
     "text": [
      "INFO:tensorflow:mixed4c ['random500_8', 'random500_3'] zebra 0.1\n"
     ]
    },
    {
     "name": "stdout",
     "output_type": "stream",
     "text": [
      "INFO:tensorflow:mixed4c ['random500_8', 'random500_4'] zebra 0.1\n"
     ]
    },
    {
     "name": "stderr",
     "output_type": "stream",
     "text": [
      "INFO:tensorflow:mixed4c ['random500_8', 'random500_4'] zebra 0.1\n"
     ]
    },
    {
     "name": "stdout",
     "output_type": "stream",
     "text": [
      "INFO:tensorflow:mixed4c ['random500_8', 'random500_5'] zebra 0.1\n"
     ]
    },
    {
     "name": "stderr",
     "output_type": "stream",
     "text": [
      "INFO:tensorflow:mixed4c ['random500_8', 'random500_5'] zebra 0.1\n"
     ]
    },
    {
     "name": "stdout",
     "output_type": "stream",
     "text": [
      "INFO:tensorflow:mixed4c ['random500_8', 'random500_6'] zebra 0.1\n"
     ]
    },
    {
     "name": "stderr",
     "output_type": "stream",
     "text": [
      "INFO:tensorflow:mixed4c ['random500_8', 'random500_6'] zebra 0.1\n"
     ]
    },
    {
     "name": "stdout",
     "output_type": "stream",
     "text": [
      "INFO:tensorflow:mixed4c ['random500_8', 'random500_7'] zebra 0.1\n"
     ]
    },
    {
     "name": "stderr",
     "output_type": "stream",
     "text": [
      "INFO:tensorflow:mixed4c ['random500_8', 'random500_7'] zebra 0.1\n"
     ]
    },
    {
     "name": "stdout",
     "output_type": "stream",
     "text": [
      "INFO:tensorflow:mixed4c ['random500_8', 'random500_9'] zebra 0.1\n"
     ]
    },
    {
     "name": "stderr",
     "output_type": "stream",
     "text": [
      "INFO:tensorflow:mixed4c ['random500_8', 'random500_9'] zebra 0.1\n"
     ]
    },
    {
     "name": "stdout",
     "output_type": "stream",
     "text": [
      "INFO:tensorflow:mixed4c ['random500_9', 'random500_0'] zebra 0.1\n"
     ]
    },
    {
     "name": "stderr",
     "output_type": "stream",
     "text": [
      "INFO:tensorflow:mixed4c ['random500_9', 'random500_0'] zebra 0.1\n"
     ]
    },
    {
     "name": "stdout",
     "output_type": "stream",
     "text": [
      "INFO:tensorflow:mixed4c ['random500_9', 'random500_1'] zebra 0.1\n"
     ]
    },
    {
     "name": "stderr",
     "output_type": "stream",
     "text": [
      "INFO:tensorflow:mixed4c ['random500_9', 'random500_1'] zebra 0.1\n"
     ]
    },
    {
     "name": "stdout",
     "output_type": "stream",
     "text": [
      "INFO:tensorflow:mixed4c ['random500_9', 'random500_2'] zebra 0.1\n"
     ]
    },
    {
     "name": "stderr",
     "output_type": "stream",
     "text": [
      "INFO:tensorflow:mixed4c ['random500_9', 'random500_2'] zebra 0.1\n"
     ]
    },
    {
     "name": "stdout",
     "output_type": "stream",
     "text": [
      "INFO:tensorflow:mixed4c ['random500_9', 'random500_3'] zebra 0.1\n"
     ]
    },
    {
     "name": "stderr",
     "output_type": "stream",
     "text": [
      "INFO:tensorflow:mixed4c ['random500_9', 'random500_3'] zebra 0.1\n"
     ]
    },
    {
     "name": "stdout",
     "output_type": "stream",
     "text": [
      "INFO:tensorflow:mixed4c ['random500_9', 'random500_4'] zebra 0.1\n"
     ]
    },
    {
     "name": "stderr",
     "output_type": "stream",
     "text": [
      "INFO:tensorflow:mixed4c ['random500_9', 'random500_4'] zebra 0.1\n"
     ]
    },
    {
     "name": "stdout",
     "output_type": "stream",
     "text": [
      "INFO:tensorflow:mixed4c ['random500_9', 'random500_5'] zebra 0.1\n"
     ]
    },
    {
     "name": "stderr",
     "output_type": "stream",
     "text": [
      "INFO:tensorflow:mixed4c ['random500_9', 'random500_5'] zebra 0.1\n"
     ]
    },
    {
     "name": "stdout",
     "output_type": "stream",
     "text": [
      "INFO:tensorflow:mixed4c ['random500_9', 'random500_6'] zebra 0.1\n"
     ]
    },
    {
     "name": "stderr",
     "output_type": "stream",
     "text": [
      "INFO:tensorflow:mixed4c ['random500_9', 'random500_6'] zebra 0.1\n"
     ]
    },
    {
     "name": "stdout",
     "output_type": "stream",
     "text": [
      "INFO:tensorflow:mixed4c ['random500_9', 'random500_7'] zebra 0.1\n"
     ]
    },
    {
     "name": "stderr",
     "output_type": "stream",
     "text": [
      "INFO:tensorflow:mixed4c ['random500_9', 'random500_7'] zebra 0.1\n"
     ]
    },
    {
     "name": "stdout",
     "output_type": "stream",
     "text": [
      "INFO:tensorflow:mixed4c ['random500_9', 'random500_8'] zebra 0.1\n"
     ]
    },
    {
     "name": "stderr",
     "output_type": "stream",
     "text": [
      "INFO:tensorflow:mixed4c ['random500_9', 'random500_8'] zebra 0.1\n"
     ]
    },
    {
     "name": "stdout",
     "output_type": "stream",
     "text": [
      "INFO:tensorflow:TCAV will 100 params\n"
     ]
    },
    {
     "name": "stderr",
     "output_type": "stream",
     "text": [
      "INFO:tensorflow:TCAV will 100 params\n"
     ]
    },
    {
     "name": "stdout",
     "output_type": "stream",
     "text": [
      "INFO:tensorflow:mixed4c ['0_color', 'random500_0'] zebra 0.1\n"
     ]
    },
    {
     "name": "stderr",
     "output_type": "stream",
     "text": [
      "INFO:tensorflow:mixed4c ['0_color', 'random500_0'] zebra 0.1\n"
     ]
    },
    {
     "name": "stdout",
     "output_type": "stream",
     "text": [
      "INFO:tensorflow:mixed4c ['0_color', 'random500_1'] zebra 0.1\n"
     ]
    },
    {
     "name": "stderr",
     "output_type": "stream",
     "text": [
      "INFO:tensorflow:mixed4c ['0_color', 'random500_1'] zebra 0.1\n"
     ]
    },
    {
     "name": "stdout",
     "output_type": "stream",
     "text": [
      "INFO:tensorflow:mixed4c ['0_color', 'random500_2'] zebra 0.1\n"
     ]
    },
    {
     "name": "stderr",
     "output_type": "stream",
     "text": [
      "INFO:tensorflow:mixed4c ['0_color', 'random500_2'] zebra 0.1\n"
     ]
    },
    {
     "name": "stdout",
     "output_type": "stream",
     "text": [
      "INFO:tensorflow:mixed4c ['0_color', 'random500_3'] zebra 0.1\n"
     ]
    },
    {
     "name": "stderr",
     "output_type": "stream",
     "text": [
      "INFO:tensorflow:mixed4c ['0_color', 'random500_3'] zebra 0.1\n"
     ]
    },
    {
     "name": "stdout",
     "output_type": "stream",
     "text": [
      "INFO:tensorflow:mixed4c ['0_color', 'random500_4'] zebra 0.1\n"
     ]
    },
    {
     "name": "stderr",
     "output_type": "stream",
     "text": [
      "INFO:tensorflow:mixed4c ['0_color', 'random500_4'] zebra 0.1\n"
     ]
    },
    {
     "name": "stdout",
     "output_type": "stream",
     "text": [
      "INFO:tensorflow:mixed4c ['0_color', 'random500_5'] zebra 0.1\n"
     ]
    },
    {
     "name": "stderr",
     "output_type": "stream",
     "text": [
      "INFO:tensorflow:mixed4c ['0_color', 'random500_5'] zebra 0.1\n"
     ]
    },
    {
     "name": "stdout",
     "output_type": "stream",
     "text": [
      "INFO:tensorflow:mixed4c ['0_color', 'random500_6'] zebra 0.1\n"
     ]
    },
    {
     "name": "stderr",
     "output_type": "stream",
     "text": [
      "INFO:tensorflow:mixed4c ['0_color', 'random500_6'] zebra 0.1\n"
     ]
    },
    {
     "name": "stdout",
     "output_type": "stream",
     "text": [
      "INFO:tensorflow:mixed4c ['0_color', 'random500_7'] zebra 0.1\n"
     ]
    },
    {
     "name": "stderr",
     "output_type": "stream",
     "text": [
      "INFO:tensorflow:mixed4c ['0_color', 'random500_7'] zebra 0.1\n"
     ]
    },
    {
     "name": "stdout",
     "output_type": "stream",
     "text": [
      "INFO:tensorflow:mixed4c ['0_color', 'random500_8'] zebra 0.1\n"
     ]
    },
    {
     "name": "stderr",
     "output_type": "stream",
     "text": [
      "INFO:tensorflow:mixed4c ['0_color', 'random500_8'] zebra 0.1\n"
     ]
    },
    {
     "name": "stdout",
     "output_type": "stream",
     "text": [
      "INFO:tensorflow:mixed4c ['0_color', 'random500_9'] zebra 0.1\n"
     ]
    },
    {
     "name": "stderr",
     "output_type": "stream",
     "text": [
      "INFO:tensorflow:mixed4c ['0_color', 'random500_9'] zebra 0.1\n"
     ]
    },
    {
     "name": "stdout",
     "output_type": "stream",
     "text": [
      "Pairs to test [('zebra', ['0_color', 'random500_0']), ('zebra', ['0_color', 'random500_1']), ('zebra', ['0_color', 'random500_2']), ('zebra', ['0_color', 'random500_3']), ('zebra', ['0_color', 'random500_4']), ('zebra', ['0_color', 'random500_5']), ('zebra', ['0_color', 'random500_6']), ('zebra', ['0_color', 'random500_7']), ('zebra', ['0_color', 'random500_8']), ('zebra', ['0_color', 'random500_9'])]\n",
      "Params [<tcav.run_params.RunParams object at 0x7fd39870bb90>, <tcav.run_params.RunParams object at 0x7fd398731250>, <tcav.run_params.RunParams object at 0x7fd39870ba10>, <tcav.run_params.RunParams object at 0x7fd39870b6d0>, <tcav.run_params.RunParams object at 0x7fd39870bfd0>, <tcav.run_params.RunParams object at 0x7fd398731290>, <tcav.run_params.RunParams object at 0x7fd398731590>, <tcav.run_params.RunParams object at 0x7fd398731390>, <tcav.run_params.RunParams object at 0x7fd3987315d0>, <tcav.run_params.RunParams object at 0x7fd398731410>]\n",
      "INFO:tensorflow:running 10 params\n"
     ]
    },
    {
     "name": "stderr",
     "output_type": "stream",
     "text": [
      "INFO:tensorflow:running 10 params\n"
     ]
    },
    {
     "name": "stdout",
     "output_type": "stream",
     "text": [
      "INFO:tensorflow:Running param 0 of 10\n"
     ]
    },
    {
     "name": "stderr",
     "output_type": "stream",
     "text": [
      "INFO:tensorflow:Running param 0 of 10\n"
     ]
    },
    {
     "name": "stdout",
     "output_type": "stream",
     "text": [
      "INFO:tensorflow:running zebra ['0_color', 'random500_0']\n"
     ]
    },
    {
     "name": "stderr",
     "output_type": "stream",
     "text": [
      "INFO:tensorflow:running zebra ['0_color', 'random500_0']\n"
     ]
    },
    {
     "name": "stdout",
     "output_type": "stream",
     "text": [
      "INFO:tensorflow:./results/activations/acts_0_color_mixed4c does not exist, Making one...\n"
     ]
    },
    {
     "name": "stderr",
     "output_type": "stream",
     "text": [
      "INFO:tensorflow:./results/activations/acts_0_color_mixed4c does not exist, Making one...\n"
     ]
    },
    {
     "name": "stdout",
     "output_type": "stream",
     "text": [
      "INFO:tensorflow:Loaded ./results/activations/acts_random500_0_mixed4c shape (10, 14, 14, 512)\n"
     ]
    },
    {
     "name": "stderr",
     "output_type": "stream",
     "text": [
      "INFO:tensorflow:Loaded ./results/activations/acts_random500_0_mixed4c shape (10, 14, 14, 512)\n"
     ]
    },
    {
     "name": "stdout",
     "output_type": "stream",
     "text": [
      "INFO:tensorflow:Loaded ./results/activations/acts_zebra_mixed4c shape (5, 14, 14, 512)\n"
     ]
    },
    {
     "name": "stderr",
     "output_type": "stream",
     "text": [
      "INFO:tensorflow:Loaded ./results/activations/acts_zebra_mixed4c shape (5, 14, 14, 512)\n"
     ]
    },
    {
     "name": "stdout",
     "output_type": "stream",
     "text": [
      "INFO:tensorflow:Training CAV ['0_color', 'random500_0'] - mixed4c alpha 0.1\n"
     ]
    },
    {
     "name": "stderr",
     "output_type": "stream",
     "text": [
      "INFO:tensorflow:Training CAV ['0_color', 'random500_0'] - mixed4c alpha 0.1\n"
     ]
    },
    {
     "name": "stdout",
     "output_type": "stream",
     "text": [
      "INFO:tensorflow:training with alpha=0.1\n"
     ]
    },
    {
     "name": "stderr",
     "output_type": "stream",
     "text": [
      "INFO:tensorflow:training with alpha=0.1\n"
     ]
    },
    {
     "name": "stdout",
     "output_type": "stream",
     "text": [
      "INFO:tensorflow:acc per class {'0_color': 0.5, 'random500_0': 0.6666666666666666, 'overall': 0.5714285714285714}\n"
     ]
    },
    {
     "name": "stderr",
     "output_type": "stream",
     "text": [
      "INFO:tensorflow:acc per class {'0_color': 0.5, 'random500_0': 0.6666666666666666, 'overall': 0.5714285714285714}\n"
     ]
    },
    {
     "name": "stdout",
     "output_type": "stream",
     "text": [
      "INFO:tensorflow:CAV accuracies: {'0_color': 0.5, 'random500_0': 0.6666666666666666, 'overall': 0.5714285714285714}\n"
     ]
    },
    {
     "name": "stderr",
     "output_type": "stream",
     "text": [
      "INFO:tensorflow:CAV accuracies: {'0_color': 0.5, 'random500_0': 0.6666666666666666, 'overall': 0.5714285714285714}\n"
     ]
    },
    {
     "name": "stdout",
     "output_type": "stream",
     "text": [
      "INFO:tensorflow:Running param 1 of 10\n"
     ]
    },
    {
     "name": "stderr",
     "output_type": "stream",
     "text": [
      "INFO:tensorflow:Running param 1 of 10\n"
     ]
    },
    {
     "name": "stdout",
     "output_type": "stream",
     "text": [
      "INFO:tensorflow:running zebra ['0_color', 'random500_1']\n"
     ]
    },
    {
     "name": "stderr",
     "output_type": "stream",
     "text": [
      "INFO:tensorflow:running zebra ['0_color', 'random500_1']\n"
     ]
    },
    {
     "name": "stdout",
     "output_type": "stream",
     "text": [
      "INFO:tensorflow:Loaded ./results/activations/acts_0_color_mixed4c shape (20, 14, 14, 512)\n"
     ]
    },
    {
     "name": "stderr",
     "output_type": "stream",
     "text": [
      "INFO:tensorflow:Loaded ./results/activations/acts_0_color_mixed4c shape (20, 14, 14, 512)\n"
     ]
    },
    {
     "name": "stdout",
     "output_type": "stream",
     "text": [
      "INFO:tensorflow:Loaded ./results/activations/acts_random500_1_mixed4c shape (10, 14, 14, 512)\n"
     ]
    },
    {
     "name": "stderr",
     "output_type": "stream",
     "text": [
      "INFO:tensorflow:Loaded ./results/activations/acts_random500_1_mixed4c shape (10, 14, 14, 512)\n"
     ]
    },
    {
     "name": "stdout",
     "output_type": "stream",
     "text": [
      "INFO:tensorflow:Loaded ./results/activations/acts_zebra_mixed4c shape (5, 14, 14, 512)\n"
     ]
    },
    {
     "name": "stderr",
     "output_type": "stream",
     "text": [
      "INFO:tensorflow:Loaded ./results/activations/acts_zebra_mixed4c shape (5, 14, 14, 512)\n"
     ]
    },
    {
     "name": "stdout",
     "output_type": "stream",
     "text": [
      "INFO:tensorflow:Training CAV ['0_color', 'random500_1'] - mixed4c alpha 0.1\n"
     ]
    },
    {
     "name": "stderr",
     "output_type": "stream",
     "text": [
      "INFO:tensorflow:Training CAV ['0_color', 'random500_1'] - mixed4c alpha 0.1\n"
     ]
    },
    {
     "name": "stdout",
     "output_type": "stream",
     "text": [
      "INFO:tensorflow:training with alpha=0.1\n"
     ]
    },
    {
     "name": "stderr",
     "output_type": "stream",
     "text": [
      "INFO:tensorflow:training with alpha=0.1\n"
     ]
    },
    {
     "name": "stdout",
     "output_type": "stream",
     "text": [
      "INFO:tensorflow:acc per class {'0_color': 1.0, 'random500_1': 0.6666666666666666, 'overall': 0.8571428571428571}\n"
     ]
    },
    {
     "name": "stderr",
     "output_type": "stream",
     "text": [
      "INFO:tensorflow:acc per class {'0_color': 1.0, 'random500_1': 0.6666666666666666, 'overall': 0.8571428571428571}\n"
     ]
    },
    {
     "name": "stdout",
     "output_type": "stream",
     "text": [
      "INFO:tensorflow:CAV accuracies: {'0_color': 1.0, 'random500_1': 0.6666666666666666, 'overall': 0.8571428571428571}\n"
     ]
    },
    {
     "name": "stderr",
     "output_type": "stream",
     "text": [
      "INFO:tensorflow:CAV accuracies: {'0_color': 1.0, 'random500_1': 0.6666666666666666, 'overall': 0.8571428571428571}\n"
     ]
    },
    {
     "name": "stdout",
     "output_type": "stream",
     "text": [
      "INFO:tensorflow:Running param 2 of 10\n"
     ]
    },
    {
     "name": "stderr",
     "output_type": "stream",
     "text": [
      "INFO:tensorflow:Running param 2 of 10\n"
     ]
    },
    {
     "name": "stdout",
     "output_type": "stream",
     "text": [
      "INFO:tensorflow:running zebra ['0_color', 'random500_2']\n"
     ]
    },
    {
     "name": "stderr",
     "output_type": "stream",
     "text": [
      "INFO:tensorflow:running zebra ['0_color', 'random500_2']\n"
     ]
    },
    {
     "name": "stdout",
     "output_type": "stream",
     "text": [
      "INFO:tensorflow:Loaded ./results/activations/acts_0_color_mixed4c shape (20, 14, 14, 512)\n"
     ]
    },
    {
     "name": "stderr",
     "output_type": "stream",
     "text": [
      "INFO:tensorflow:Loaded ./results/activations/acts_0_color_mixed4c shape (20, 14, 14, 512)\n"
     ]
    },
    {
     "name": "stdout",
     "output_type": "stream",
     "text": [
      "INFO:tensorflow:Loaded ./results/activations/acts_random500_2_mixed4c shape (10, 14, 14, 512)\n"
     ]
    },
    {
     "name": "stderr",
     "output_type": "stream",
     "text": [
      "INFO:tensorflow:Loaded ./results/activations/acts_random500_2_mixed4c shape (10, 14, 14, 512)\n"
     ]
    },
    {
     "name": "stdout",
     "output_type": "stream",
     "text": [
      "INFO:tensorflow:Loaded ./results/activations/acts_zebra_mixed4c shape (5, 14, 14, 512)\n"
     ]
    },
    {
     "name": "stderr",
     "output_type": "stream",
     "text": [
      "INFO:tensorflow:Loaded ./results/activations/acts_zebra_mixed4c shape (5, 14, 14, 512)\n"
     ]
    },
    {
     "name": "stdout",
     "output_type": "stream",
     "text": [
      "INFO:tensorflow:Training CAV ['0_color', 'random500_2'] - mixed4c alpha 0.1\n"
     ]
    },
    {
     "name": "stderr",
     "output_type": "stream",
     "text": [
      "INFO:tensorflow:Training CAV ['0_color', 'random500_2'] - mixed4c alpha 0.1\n"
     ]
    },
    {
     "name": "stdout",
     "output_type": "stream",
     "text": [
      "INFO:tensorflow:training with alpha=0.1\n"
     ]
    },
    {
     "name": "stderr",
     "output_type": "stream",
     "text": [
      "INFO:tensorflow:training with alpha=0.1\n"
     ]
    },
    {
     "name": "stdout",
     "output_type": "stream",
     "text": [
      "INFO:tensorflow:acc per class {'0_color': 1.0, 'random500_2': 1.0, 'overall': 1.0}\n"
     ]
    },
    {
     "name": "stderr",
     "output_type": "stream",
     "text": [
      "INFO:tensorflow:acc per class {'0_color': 1.0, 'random500_2': 1.0, 'overall': 1.0}\n"
     ]
    },
    {
     "name": "stdout",
     "output_type": "stream",
     "text": [
      "INFO:tensorflow:CAV accuracies: {'0_color': 1.0, 'random500_2': 1.0, 'overall': 1.0}\n"
     ]
    },
    {
     "name": "stderr",
     "output_type": "stream",
     "text": [
      "INFO:tensorflow:CAV accuracies: {'0_color': 1.0, 'random500_2': 1.0, 'overall': 1.0}\n"
     ]
    },
    {
     "name": "stdout",
     "output_type": "stream",
     "text": [
      "INFO:tensorflow:Running param 3 of 10\n"
     ]
    },
    {
     "name": "stderr",
     "output_type": "stream",
     "text": [
      "INFO:tensorflow:Running param 3 of 10\n"
     ]
    },
    {
     "name": "stdout",
     "output_type": "stream",
     "text": [
      "INFO:tensorflow:running zebra ['0_color', 'random500_3']\n"
     ]
    },
    {
     "name": "stderr",
     "output_type": "stream",
     "text": [
      "INFO:tensorflow:running zebra ['0_color', 'random500_3']\n"
     ]
    },
    {
     "name": "stdout",
     "output_type": "stream",
     "text": [
      "INFO:tensorflow:Loaded ./results/activations/acts_0_color_mixed4c shape (20, 14, 14, 512)\n"
     ]
    },
    {
     "name": "stderr",
     "output_type": "stream",
     "text": [
      "INFO:tensorflow:Loaded ./results/activations/acts_0_color_mixed4c shape (20, 14, 14, 512)\n"
     ]
    },
    {
     "name": "stdout",
     "output_type": "stream",
     "text": [
      "INFO:tensorflow:Loaded ./results/activations/acts_random500_3_mixed4c shape (50, 14, 14, 512)\n"
     ]
    },
    {
     "name": "stderr",
     "output_type": "stream",
     "text": [
      "INFO:tensorflow:Loaded ./results/activations/acts_random500_3_mixed4c shape (50, 14, 14, 512)\n"
     ]
    },
    {
     "name": "stdout",
     "output_type": "stream",
     "text": [
      "INFO:tensorflow:Loaded ./results/activations/acts_zebra_mixed4c shape (5, 14, 14, 512)\n"
     ]
    },
    {
     "name": "stderr",
     "output_type": "stream",
     "text": [
      "INFO:tensorflow:Loaded ./results/activations/acts_zebra_mixed4c shape (5, 14, 14, 512)\n"
     ]
    },
    {
     "name": "stdout",
     "output_type": "stream",
     "text": [
      "INFO:tensorflow:Training CAV ['0_color', 'random500_3'] - mixed4c alpha 0.1\n"
     ]
    },
    {
     "name": "stderr",
     "output_type": "stream",
     "text": [
      "INFO:tensorflow:Training CAV ['0_color', 'random500_3'] - mixed4c alpha 0.1\n"
     ]
    },
    {
     "name": "stdout",
     "output_type": "stream",
     "text": [
      "INFO:tensorflow:training with alpha=0.1\n"
     ]
    },
    {
     "name": "stderr",
     "output_type": "stream",
     "text": [
      "INFO:tensorflow:training with alpha=0.1\n"
     ]
    },
    {
     "name": "stdout",
     "output_type": "stream",
     "text": [
      "INFO:tensorflow:acc per class {'0_color': 1.0, 'random500_3': 1.0, 'overall': 1.0}\n"
     ]
    },
    {
     "name": "stderr",
     "output_type": "stream",
     "text": [
      "INFO:tensorflow:acc per class {'0_color': 1.0, 'random500_3': 1.0, 'overall': 1.0}\n"
     ]
    },
    {
     "name": "stdout",
     "output_type": "stream",
     "text": [
      "INFO:tensorflow:CAV accuracies: {'0_color': 1.0, 'random500_3': 1.0, 'overall': 1.0}\n"
     ]
    },
    {
     "name": "stderr",
     "output_type": "stream",
     "text": [
      "INFO:tensorflow:CAV accuracies: {'0_color': 1.0, 'random500_3': 1.0, 'overall': 1.0}\n"
     ]
    },
    {
     "name": "stdout",
     "output_type": "stream",
     "text": [
      "INFO:tensorflow:Running param 4 of 10\n"
     ]
    },
    {
     "name": "stderr",
     "output_type": "stream",
     "text": [
      "INFO:tensorflow:Running param 4 of 10\n"
     ]
    },
    {
     "name": "stdout",
     "output_type": "stream",
     "text": [
      "INFO:tensorflow:running zebra ['0_color', 'random500_4']\n"
     ]
    },
    {
     "name": "stderr",
     "output_type": "stream",
     "text": [
      "INFO:tensorflow:running zebra ['0_color', 'random500_4']\n"
     ]
    },
    {
     "name": "stdout",
     "output_type": "stream",
     "text": [
      "INFO:tensorflow:Loaded ./results/activations/acts_0_color_mixed4c shape (20, 14, 14, 512)\n"
     ]
    },
    {
     "name": "stderr",
     "output_type": "stream",
     "text": [
      "INFO:tensorflow:Loaded ./results/activations/acts_0_color_mixed4c shape (20, 14, 14, 512)\n"
     ]
    },
    {
     "name": "stdout",
     "output_type": "stream",
     "text": [
      "INFO:tensorflow:Loaded ./results/activations/acts_random500_4_mixed4c shape (50, 14, 14, 512)\n"
     ]
    },
    {
     "name": "stderr",
     "output_type": "stream",
     "text": [
      "INFO:tensorflow:Loaded ./results/activations/acts_random500_4_mixed4c shape (50, 14, 14, 512)\n"
     ]
    },
    {
     "name": "stdout",
     "output_type": "stream",
     "text": [
      "INFO:tensorflow:Loaded ./results/activations/acts_zebra_mixed4c shape (5, 14, 14, 512)\n"
     ]
    },
    {
     "name": "stderr",
     "output_type": "stream",
     "text": [
      "INFO:tensorflow:Loaded ./results/activations/acts_zebra_mixed4c shape (5, 14, 14, 512)\n"
     ]
    },
    {
     "name": "stdout",
     "output_type": "stream",
     "text": [
      "INFO:tensorflow:Training CAV ['0_color', 'random500_4'] - mixed4c alpha 0.1\n"
     ]
    },
    {
     "name": "stderr",
     "output_type": "stream",
     "text": [
      "INFO:tensorflow:Training CAV ['0_color', 'random500_4'] - mixed4c alpha 0.1\n"
     ]
    },
    {
     "name": "stdout",
     "output_type": "stream",
     "text": [
      "INFO:tensorflow:training with alpha=0.1\n"
     ]
    },
    {
     "name": "stderr",
     "output_type": "stream",
     "text": [
      "INFO:tensorflow:training with alpha=0.1\n"
     ]
    },
    {
     "name": "stdout",
     "output_type": "stream",
     "text": [
      "INFO:tensorflow:acc per class {'0_color': 1.0, 'random500_4': 1.0, 'overall': 1.0}\n"
     ]
    },
    {
     "name": "stderr",
     "output_type": "stream",
     "text": [
      "INFO:tensorflow:acc per class {'0_color': 1.0, 'random500_4': 1.0, 'overall': 1.0}\n"
     ]
    },
    {
     "name": "stdout",
     "output_type": "stream",
     "text": [
      "INFO:tensorflow:CAV accuracies: {'0_color': 1.0, 'random500_4': 1.0, 'overall': 1.0}\n"
     ]
    },
    {
     "name": "stderr",
     "output_type": "stream",
     "text": [
      "INFO:tensorflow:CAV accuracies: {'0_color': 1.0, 'random500_4': 1.0, 'overall': 1.0}\n"
     ]
    },
    {
     "name": "stdout",
     "output_type": "stream",
     "text": [
      "INFO:tensorflow:Running param 5 of 10\n"
     ]
    },
    {
     "name": "stderr",
     "output_type": "stream",
     "text": [
      "INFO:tensorflow:Running param 5 of 10\n"
     ]
    },
    {
     "name": "stdout",
     "output_type": "stream",
     "text": [
      "INFO:tensorflow:running zebra ['0_color', 'random500_5']\n"
     ]
    },
    {
     "name": "stderr",
     "output_type": "stream",
     "text": [
      "INFO:tensorflow:running zebra ['0_color', 'random500_5']\n"
     ]
    },
    {
     "name": "stdout",
     "output_type": "stream",
     "text": [
      "INFO:tensorflow:Loaded ./results/activations/acts_0_color_mixed4c shape (20, 14, 14, 512)\n"
     ]
    },
    {
     "name": "stderr",
     "output_type": "stream",
     "text": [
      "INFO:tensorflow:Loaded ./results/activations/acts_0_color_mixed4c shape (20, 14, 14, 512)\n"
     ]
    },
    {
     "name": "stdout",
     "output_type": "stream",
     "text": [
      "INFO:tensorflow:Loaded ./results/activations/acts_random500_5_mixed4c shape (50, 14, 14, 512)\n"
     ]
    },
    {
     "name": "stderr",
     "output_type": "stream",
     "text": [
      "INFO:tensorflow:Loaded ./results/activations/acts_random500_5_mixed4c shape (50, 14, 14, 512)\n"
     ]
    },
    {
     "name": "stdout",
     "output_type": "stream",
     "text": [
      "INFO:tensorflow:Loaded ./results/activations/acts_zebra_mixed4c shape (5, 14, 14, 512)\n"
     ]
    },
    {
     "name": "stderr",
     "output_type": "stream",
     "text": [
      "INFO:tensorflow:Loaded ./results/activations/acts_zebra_mixed4c shape (5, 14, 14, 512)\n"
     ]
    },
    {
     "name": "stdout",
     "output_type": "stream",
     "text": [
      "INFO:tensorflow:Training CAV ['0_color', 'random500_5'] - mixed4c alpha 0.1\n"
     ]
    },
    {
     "name": "stderr",
     "output_type": "stream",
     "text": [
      "INFO:tensorflow:Training CAV ['0_color', 'random500_5'] - mixed4c alpha 0.1\n"
     ]
    },
    {
     "name": "stdout",
     "output_type": "stream",
     "text": [
      "INFO:tensorflow:training with alpha=0.1\n"
     ]
    },
    {
     "name": "stderr",
     "output_type": "stream",
     "text": [
      "INFO:tensorflow:training with alpha=0.1\n"
     ]
    },
    {
     "name": "stdout",
     "output_type": "stream",
     "text": [
      "INFO:tensorflow:acc per class {'0_color': 1.0, 'random500_5': 1.0, 'overall': 1.0}\n"
     ]
    },
    {
     "name": "stderr",
     "output_type": "stream",
     "text": [
      "INFO:tensorflow:acc per class {'0_color': 1.0, 'random500_5': 1.0, 'overall': 1.0}\n"
     ]
    },
    {
     "name": "stdout",
     "output_type": "stream",
     "text": [
      "INFO:tensorflow:CAV accuracies: {'0_color': 1.0, 'random500_5': 1.0, 'overall': 1.0}\n"
     ]
    },
    {
     "name": "stderr",
     "output_type": "stream",
     "text": [
      "INFO:tensorflow:CAV accuracies: {'0_color': 1.0, 'random500_5': 1.0, 'overall': 1.0}\n"
     ]
    },
    {
     "name": "stdout",
     "output_type": "stream",
     "text": [
      "INFO:tensorflow:Running param 6 of 10\n"
     ]
    },
    {
     "name": "stderr",
     "output_type": "stream",
     "text": [
      "INFO:tensorflow:Running param 6 of 10\n"
     ]
    },
    {
     "name": "stdout",
     "output_type": "stream",
     "text": [
      "INFO:tensorflow:running zebra ['0_color', 'random500_6']\n"
     ]
    },
    {
     "name": "stderr",
     "output_type": "stream",
     "text": [
      "INFO:tensorflow:running zebra ['0_color', 'random500_6']\n"
     ]
    },
    {
     "name": "stdout",
     "output_type": "stream",
     "text": [
      "INFO:tensorflow:Loaded ./results/activations/acts_0_color_mixed4c shape (20, 14, 14, 512)\n"
     ]
    },
    {
     "name": "stderr",
     "output_type": "stream",
     "text": [
      "INFO:tensorflow:Loaded ./results/activations/acts_0_color_mixed4c shape (20, 14, 14, 512)\n"
     ]
    },
    {
     "name": "stdout",
     "output_type": "stream",
     "text": [
      "INFO:tensorflow:Loaded ./results/activations/acts_random500_6_mixed4c shape (50, 14, 14, 512)\n"
     ]
    },
    {
     "name": "stderr",
     "output_type": "stream",
     "text": [
      "INFO:tensorflow:Loaded ./results/activations/acts_random500_6_mixed4c shape (50, 14, 14, 512)\n"
     ]
    },
    {
     "name": "stdout",
     "output_type": "stream",
     "text": [
      "INFO:tensorflow:Loaded ./results/activations/acts_zebra_mixed4c shape (5, 14, 14, 512)\n"
     ]
    },
    {
     "name": "stderr",
     "output_type": "stream",
     "text": [
      "INFO:tensorflow:Loaded ./results/activations/acts_zebra_mixed4c shape (5, 14, 14, 512)\n"
     ]
    },
    {
     "name": "stdout",
     "output_type": "stream",
     "text": [
      "INFO:tensorflow:Training CAV ['0_color', 'random500_6'] - mixed4c alpha 0.1\n"
     ]
    },
    {
     "name": "stderr",
     "output_type": "stream",
     "text": [
      "INFO:tensorflow:Training CAV ['0_color', 'random500_6'] - mixed4c alpha 0.1\n"
     ]
    },
    {
     "name": "stdout",
     "output_type": "stream",
     "text": [
      "INFO:tensorflow:training with alpha=0.1\n"
     ]
    },
    {
     "name": "stderr",
     "output_type": "stream",
     "text": [
      "INFO:tensorflow:training with alpha=0.1\n"
     ]
    },
    {
     "name": "stdout",
     "output_type": "stream",
     "text": [
      "INFO:tensorflow:acc per class {'0_color': 1.0, 'random500_6': 1.0, 'overall': 1.0}\n"
     ]
    },
    {
     "name": "stderr",
     "output_type": "stream",
     "text": [
      "INFO:tensorflow:acc per class {'0_color': 1.0, 'random500_6': 1.0, 'overall': 1.0}\n"
     ]
    },
    {
     "name": "stdout",
     "output_type": "stream",
     "text": [
      "INFO:tensorflow:CAV accuracies: {'0_color': 1.0, 'random500_6': 1.0, 'overall': 1.0}\n"
     ]
    },
    {
     "name": "stderr",
     "output_type": "stream",
     "text": [
      "INFO:tensorflow:CAV accuracies: {'0_color': 1.0, 'random500_6': 1.0, 'overall': 1.0}\n"
     ]
    },
    {
     "name": "stdout",
     "output_type": "stream",
     "text": [
      "INFO:tensorflow:Running param 7 of 10\n"
     ]
    },
    {
     "name": "stderr",
     "output_type": "stream",
     "text": [
      "INFO:tensorflow:Running param 7 of 10\n"
     ]
    },
    {
     "name": "stdout",
     "output_type": "stream",
     "text": [
      "INFO:tensorflow:running zebra ['0_color', 'random500_7']\n"
     ]
    },
    {
     "name": "stderr",
     "output_type": "stream",
     "text": [
      "INFO:tensorflow:running zebra ['0_color', 'random500_7']\n"
     ]
    },
    {
     "name": "stdout",
     "output_type": "stream",
     "text": [
      "INFO:tensorflow:Loaded ./results/activations/acts_0_color_mixed4c shape (20, 14, 14, 512)\n"
     ]
    },
    {
     "name": "stderr",
     "output_type": "stream",
     "text": [
      "INFO:tensorflow:Loaded ./results/activations/acts_0_color_mixed4c shape (20, 14, 14, 512)\n"
     ]
    },
    {
     "name": "stdout",
     "output_type": "stream",
     "text": [
      "INFO:tensorflow:Loaded ./results/activations/acts_random500_7_mixed4c shape (50, 14, 14, 512)\n"
     ]
    },
    {
     "name": "stderr",
     "output_type": "stream",
     "text": [
      "INFO:tensorflow:Loaded ./results/activations/acts_random500_7_mixed4c shape (50, 14, 14, 512)\n"
     ]
    },
    {
     "name": "stdout",
     "output_type": "stream",
     "text": [
      "INFO:tensorflow:Loaded ./results/activations/acts_zebra_mixed4c shape (5, 14, 14, 512)\n"
     ]
    },
    {
     "name": "stderr",
     "output_type": "stream",
     "text": [
      "INFO:tensorflow:Loaded ./results/activations/acts_zebra_mixed4c shape (5, 14, 14, 512)\n"
     ]
    },
    {
     "name": "stdout",
     "output_type": "stream",
     "text": [
      "INFO:tensorflow:Training CAV ['0_color', 'random500_7'] - mixed4c alpha 0.1\n"
     ]
    },
    {
     "name": "stderr",
     "output_type": "stream",
     "text": [
      "INFO:tensorflow:Training CAV ['0_color', 'random500_7'] - mixed4c alpha 0.1\n"
     ]
    },
    {
     "name": "stdout",
     "output_type": "stream",
     "text": [
      "INFO:tensorflow:training with alpha=0.1\n"
     ]
    },
    {
     "name": "stderr",
     "output_type": "stream",
     "text": [
      "INFO:tensorflow:training with alpha=0.1\n"
     ]
    },
    {
     "name": "stdout",
     "output_type": "stream",
     "text": [
      "INFO:tensorflow:acc per class {'0_color': 1.0, 'random500_7': 1.0, 'overall': 1.0}\n"
     ]
    },
    {
     "name": "stderr",
     "output_type": "stream",
     "text": [
      "INFO:tensorflow:acc per class {'0_color': 1.0, 'random500_7': 1.0, 'overall': 1.0}\n"
     ]
    },
    {
     "name": "stdout",
     "output_type": "stream",
     "text": [
      "INFO:tensorflow:CAV accuracies: {'0_color': 1.0, 'random500_7': 1.0, 'overall': 1.0}\n"
     ]
    },
    {
     "name": "stderr",
     "output_type": "stream",
     "text": [
      "INFO:tensorflow:CAV accuracies: {'0_color': 1.0, 'random500_7': 1.0, 'overall': 1.0}\n"
     ]
    },
    {
     "name": "stdout",
     "output_type": "stream",
     "text": [
      "INFO:tensorflow:Running param 8 of 10\n"
     ]
    },
    {
     "name": "stderr",
     "output_type": "stream",
     "text": [
      "INFO:tensorflow:Running param 8 of 10\n"
     ]
    },
    {
     "name": "stdout",
     "output_type": "stream",
     "text": [
      "INFO:tensorflow:running zebra ['0_color', 'random500_8']\n"
     ]
    },
    {
     "name": "stderr",
     "output_type": "stream",
     "text": [
      "INFO:tensorflow:running zebra ['0_color', 'random500_8']\n"
     ]
    },
    {
     "name": "stdout",
     "output_type": "stream",
     "text": [
      "INFO:tensorflow:Loaded ./results/activations/acts_0_color_mixed4c shape (20, 14, 14, 512)\n"
     ]
    },
    {
     "name": "stderr",
     "output_type": "stream",
     "text": [
      "INFO:tensorflow:Loaded ./results/activations/acts_0_color_mixed4c shape (20, 14, 14, 512)\n"
     ]
    },
    {
     "name": "stdout",
     "output_type": "stream",
     "text": [
      "INFO:tensorflow:Loaded ./results/activations/acts_random500_8_mixed4c shape (50, 14, 14, 512)\n"
     ]
    },
    {
     "name": "stderr",
     "output_type": "stream",
     "text": [
      "INFO:tensorflow:Loaded ./results/activations/acts_random500_8_mixed4c shape (50, 14, 14, 512)\n"
     ]
    },
    {
     "name": "stdout",
     "output_type": "stream",
     "text": [
      "INFO:tensorflow:Loaded ./results/activations/acts_zebra_mixed4c shape (5, 14, 14, 512)\n"
     ]
    },
    {
     "name": "stderr",
     "output_type": "stream",
     "text": [
      "INFO:tensorflow:Loaded ./results/activations/acts_zebra_mixed4c shape (5, 14, 14, 512)\n"
     ]
    },
    {
     "name": "stdout",
     "output_type": "stream",
     "text": [
      "INFO:tensorflow:Training CAV ['0_color', 'random500_8'] - mixed4c alpha 0.1\n"
     ]
    },
    {
     "name": "stderr",
     "output_type": "stream",
     "text": [
      "INFO:tensorflow:Training CAV ['0_color', 'random500_8'] - mixed4c alpha 0.1\n"
     ]
    },
    {
     "name": "stdout",
     "output_type": "stream",
     "text": [
      "INFO:tensorflow:training with alpha=0.1\n"
     ]
    },
    {
     "name": "stderr",
     "output_type": "stream",
     "text": [
      "INFO:tensorflow:training with alpha=0.1\n"
     ]
    },
    {
     "name": "stdout",
     "output_type": "stream",
     "text": [
      "INFO:tensorflow:acc per class {'0_color': 1.0, 'random500_8': 1.0, 'overall': 1.0}\n"
     ]
    },
    {
     "name": "stderr",
     "output_type": "stream",
     "text": [
      "INFO:tensorflow:acc per class {'0_color': 1.0, 'random500_8': 1.0, 'overall': 1.0}\n"
     ]
    },
    {
     "name": "stdout",
     "output_type": "stream",
     "text": [
      "INFO:tensorflow:CAV accuracies: {'0_color': 1.0, 'random500_8': 1.0, 'overall': 1.0}\n"
     ]
    },
    {
     "name": "stderr",
     "output_type": "stream",
     "text": [
      "INFO:tensorflow:CAV accuracies: {'0_color': 1.0, 'random500_8': 1.0, 'overall': 1.0}\n"
     ]
    },
    {
     "name": "stdout",
     "output_type": "stream",
     "text": [
      "INFO:tensorflow:Running param 9 of 10\n"
     ]
    },
    {
     "name": "stderr",
     "output_type": "stream",
     "text": [
      "INFO:tensorflow:Running param 9 of 10\n"
     ]
    },
    {
     "name": "stdout",
     "output_type": "stream",
     "text": [
      "INFO:tensorflow:running zebra ['0_color', 'random500_9']\n"
     ]
    },
    {
     "name": "stderr",
     "output_type": "stream",
     "text": [
      "INFO:tensorflow:running zebra ['0_color', 'random500_9']\n"
     ]
    },
    {
     "name": "stdout",
     "output_type": "stream",
     "text": [
      "INFO:tensorflow:Loaded ./results/activations/acts_0_color_mixed4c shape (20, 14, 14, 512)\n"
     ]
    },
    {
     "name": "stderr",
     "output_type": "stream",
     "text": [
      "INFO:tensorflow:Loaded ./results/activations/acts_0_color_mixed4c shape (20, 14, 14, 512)\n"
     ]
    },
    {
     "name": "stdout",
     "output_type": "stream",
     "text": [
      "INFO:tensorflow:Loaded ./results/activations/acts_random500_9_mixed4c shape (50, 14, 14, 512)\n"
     ]
    },
    {
     "name": "stderr",
     "output_type": "stream",
     "text": [
      "INFO:tensorflow:Loaded ./results/activations/acts_random500_9_mixed4c shape (50, 14, 14, 512)\n"
     ]
    },
    {
     "name": "stdout",
     "output_type": "stream",
     "text": [
      "INFO:tensorflow:Loaded ./results/activations/acts_zebra_mixed4c shape (5, 14, 14, 512)\n"
     ]
    },
    {
     "name": "stderr",
     "output_type": "stream",
     "text": [
      "INFO:tensorflow:Loaded ./results/activations/acts_zebra_mixed4c shape (5, 14, 14, 512)\n"
     ]
    },
    {
     "name": "stdout",
     "output_type": "stream",
     "text": [
      "INFO:tensorflow:Training CAV ['0_color', 'random500_9'] - mixed4c alpha 0.1\n"
     ]
    },
    {
     "name": "stderr",
     "output_type": "stream",
     "text": [
      "INFO:tensorflow:Training CAV ['0_color', 'random500_9'] - mixed4c alpha 0.1\n"
     ]
    },
    {
     "name": "stdout",
     "output_type": "stream",
     "text": [
      "INFO:tensorflow:training with alpha=0.1\n"
     ]
    },
    {
     "name": "stderr",
     "output_type": "stream",
     "text": [
      "INFO:tensorflow:training with alpha=0.1\n"
     ]
    },
    {
     "name": "stdout",
     "output_type": "stream",
     "text": [
      "INFO:tensorflow:acc per class {'0_color': 1.0, 'random500_9': 1.0, 'overall': 1.0}\n"
     ]
    },
    {
     "name": "stderr",
     "output_type": "stream",
     "text": [
      "INFO:tensorflow:acc per class {'0_color': 1.0, 'random500_9': 1.0, 'overall': 1.0}\n"
     ]
    },
    {
     "name": "stdout",
     "output_type": "stream",
     "text": [
      "INFO:tensorflow:CAV accuracies: {'0_color': 1.0, 'random500_9': 1.0, 'overall': 1.0}\n"
     ]
    },
    {
     "name": "stderr",
     "output_type": "stream",
     "text": [
      "INFO:tensorflow:CAV accuracies: {'0_color': 1.0, 'random500_9': 1.0, 'overall': 1.0}\n"
     ]
    },
    {
     "name": "stdout",
     "output_type": "stream",
     "text": [
      "INFO:tensorflow:Done running 10 params. Took 19.40566349029541 seconds...\n"
     ]
    },
    {
     "name": "stderr",
     "output_type": "stream",
     "text": [
      "INFO:tensorflow:Done running 10 params. Took 19.40566349029541 seconds...\n"
     ]
    },
    {
     "name": "stdout",
     "output_type": "stream",
     "text": [
      "0_color _image_robustness\n"
     ]
    },
    {
     "name": "stderr",
     "output_type": "stream",
     "text": [
      "/auto/homes/njr61/environments/mambaforge/envs/concepts/lib/python3.7/site-packages/tensorflow/python/client/session.py:1769: UserWarning: An interactive session is already active. This can cause out-of-memory errors in some cases. You must explicitly call `InteractiveSession.close()` to release resources held by the other session(s).\n",
      "  warnings.warn('An interactive session is already active. This can '\n"
     ]
    },
    {
     "name": "stdout",
     "output_type": "stream",
     "text": [
      "INFO:tensorflow:mixed4c ['0_color', 'random500_0'] zebra 0.1\n"
     ]
    },
    {
     "name": "stderr",
     "output_type": "stream",
     "text": [
      "INFO:tensorflow:mixed4c ['0_color', 'random500_0'] zebra 0.1\n"
     ]
    },
    {
     "name": "stdout",
     "output_type": "stream",
     "text": [
      "INFO:tensorflow:mixed4c ['0_color', 'random500_1'] zebra 0.1\n"
     ]
    },
    {
     "name": "stderr",
     "output_type": "stream",
     "text": [
      "INFO:tensorflow:mixed4c ['0_color', 'random500_1'] zebra 0.1\n"
     ]
    },
    {
     "name": "stdout",
     "output_type": "stream",
     "text": [
      "INFO:tensorflow:mixed4c ['0_color', 'random500_2'] zebra 0.1\n"
     ]
    },
    {
     "name": "stderr",
     "output_type": "stream",
     "text": [
      "INFO:tensorflow:mixed4c ['0_color', 'random500_2'] zebra 0.1\n"
     ]
    },
    {
     "name": "stdout",
     "output_type": "stream",
     "text": [
      "INFO:tensorflow:mixed4c ['0_color', 'random500_3'] zebra 0.1\n"
     ]
    },
    {
     "name": "stderr",
     "output_type": "stream",
     "text": [
      "INFO:tensorflow:mixed4c ['0_color', 'random500_3'] zebra 0.1\n"
     ]
    },
    {
     "name": "stdout",
     "output_type": "stream",
     "text": [
      "INFO:tensorflow:mixed4c ['0_color', 'random500_4'] zebra 0.1\n"
     ]
    },
    {
     "name": "stderr",
     "output_type": "stream",
     "text": [
      "INFO:tensorflow:mixed4c ['0_color', 'random500_4'] zebra 0.1\n"
     ]
    },
    {
     "name": "stdout",
     "output_type": "stream",
     "text": [
      "INFO:tensorflow:mixed4c ['0_color', 'random500_5'] zebra 0.1\n"
     ]
    },
    {
     "name": "stderr",
     "output_type": "stream",
     "text": [
      "INFO:tensorflow:mixed4c ['0_color', 'random500_5'] zebra 0.1\n"
     ]
    },
    {
     "name": "stdout",
     "output_type": "stream",
     "text": [
      "INFO:tensorflow:mixed4c ['0_color', 'random500_6'] zebra 0.1\n"
     ]
    },
    {
     "name": "stderr",
     "output_type": "stream",
     "text": [
      "INFO:tensorflow:mixed4c ['0_color', 'random500_6'] zebra 0.1\n"
     ]
    },
    {
     "name": "stdout",
     "output_type": "stream",
     "text": [
      "INFO:tensorflow:mixed4c ['0_color', 'random500_7'] zebra 0.1\n"
     ]
    },
    {
     "name": "stderr",
     "output_type": "stream",
     "text": [
      "INFO:tensorflow:mixed4c ['0_color', 'random500_7'] zebra 0.1\n"
     ]
    },
    {
     "name": "stdout",
     "output_type": "stream",
     "text": [
      "INFO:tensorflow:mixed4c ['0_color', 'random500_8'] zebra 0.1\n"
     ]
    },
    {
     "name": "stderr",
     "output_type": "stream",
     "text": [
      "INFO:tensorflow:mixed4c ['0_color', 'random500_8'] zebra 0.1\n"
     ]
    },
    {
     "name": "stdout",
     "output_type": "stream",
     "text": [
      "INFO:tensorflow:mixed4c ['0_color', 'random500_9'] zebra 0.1\n"
     ]
    },
    {
     "name": "stderr",
     "output_type": "stream",
     "text": [
      "INFO:tensorflow:mixed4c ['0_color', 'random500_9'] zebra 0.1\n"
     ]
    },
    {
     "name": "stdout",
     "output_type": "stream",
     "text": [
      "INFO:tensorflow:mixed4c ['random500_0', 'random500_1'] zebra 0.1\n"
     ]
    },
    {
     "name": "stderr",
     "output_type": "stream",
     "text": [
      "INFO:tensorflow:mixed4c ['random500_0', 'random500_1'] zebra 0.1\n"
     ]
    },
    {
     "name": "stdout",
     "output_type": "stream",
     "text": [
      "INFO:tensorflow:mixed4c ['random500_0', 'random500_2'] zebra 0.1\n"
     ]
    },
    {
     "name": "stderr",
     "output_type": "stream",
     "text": [
      "INFO:tensorflow:mixed4c ['random500_0', 'random500_2'] zebra 0.1\n"
     ]
    },
    {
     "name": "stdout",
     "output_type": "stream",
     "text": [
      "INFO:tensorflow:mixed4c ['random500_0', 'random500_3'] zebra 0.1\n"
     ]
    },
    {
     "name": "stderr",
     "output_type": "stream",
     "text": [
      "INFO:tensorflow:mixed4c ['random500_0', 'random500_3'] zebra 0.1\n"
     ]
    },
    {
     "name": "stdout",
     "output_type": "stream",
     "text": [
      "INFO:tensorflow:mixed4c ['random500_0', 'random500_4'] zebra 0.1\n"
     ]
    },
    {
     "name": "stderr",
     "output_type": "stream",
     "text": [
      "INFO:tensorflow:mixed4c ['random500_0', 'random500_4'] zebra 0.1\n"
     ]
    },
    {
     "name": "stdout",
     "output_type": "stream",
     "text": [
      "INFO:tensorflow:mixed4c ['random500_0', 'random500_5'] zebra 0.1\n"
     ]
    },
    {
     "name": "stderr",
     "output_type": "stream",
     "text": [
      "INFO:tensorflow:mixed4c ['random500_0', 'random500_5'] zebra 0.1\n"
     ]
    },
    {
     "name": "stdout",
     "output_type": "stream",
     "text": [
      "INFO:tensorflow:mixed4c ['random500_0', 'random500_6'] zebra 0.1\n"
     ]
    },
    {
     "name": "stderr",
     "output_type": "stream",
     "text": [
      "INFO:tensorflow:mixed4c ['random500_0', 'random500_6'] zebra 0.1\n"
     ]
    },
    {
     "name": "stdout",
     "output_type": "stream",
     "text": [
      "INFO:tensorflow:mixed4c ['random500_0', 'random500_7'] zebra 0.1\n"
     ]
    },
    {
     "name": "stderr",
     "output_type": "stream",
     "text": [
      "INFO:tensorflow:mixed4c ['random500_0', 'random500_7'] zebra 0.1\n"
     ]
    },
    {
     "name": "stdout",
     "output_type": "stream",
     "text": [
      "INFO:tensorflow:mixed4c ['random500_0', 'random500_8'] zebra 0.1\n"
     ]
    },
    {
     "name": "stderr",
     "output_type": "stream",
     "text": [
      "INFO:tensorflow:mixed4c ['random500_0', 'random500_8'] zebra 0.1\n"
     ]
    },
    {
     "name": "stdout",
     "output_type": "stream",
     "text": [
      "INFO:tensorflow:mixed4c ['random500_0', 'random500_9'] zebra 0.1\n"
     ]
    },
    {
     "name": "stderr",
     "output_type": "stream",
     "text": [
      "INFO:tensorflow:mixed4c ['random500_0', 'random500_9'] zebra 0.1\n"
     ]
    },
    {
     "name": "stdout",
     "output_type": "stream",
     "text": [
      "INFO:tensorflow:mixed4c ['random500_1', 'random500_0'] zebra 0.1\n"
     ]
    },
    {
     "name": "stderr",
     "output_type": "stream",
     "text": [
      "INFO:tensorflow:mixed4c ['random500_1', 'random500_0'] zebra 0.1\n"
     ]
    },
    {
     "name": "stdout",
     "output_type": "stream",
     "text": [
      "INFO:tensorflow:mixed4c ['random500_1', 'random500_2'] zebra 0.1\n"
     ]
    },
    {
     "name": "stderr",
     "output_type": "stream",
     "text": [
      "INFO:tensorflow:mixed4c ['random500_1', 'random500_2'] zebra 0.1\n"
     ]
    },
    {
     "name": "stdout",
     "output_type": "stream",
     "text": [
      "INFO:tensorflow:mixed4c ['random500_1', 'random500_3'] zebra 0.1\n"
     ]
    },
    {
     "name": "stderr",
     "output_type": "stream",
     "text": [
      "INFO:tensorflow:mixed4c ['random500_1', 'random500_3'] zebra 0.1\n"
     ]
    },
    {
     "name": "stdout",
     "output_type": "stream",
     "text": [
      "INFO:tensorflow:mixed4c ['random500_1', 'random500_4'] zebra 0.1\n"
     ]
    },
    {
     "name": "stderr",
     "output_type": "stream",
     "text": [
      "INFO:tensorflow:mixed4c ['random500_1', 'random500_4'] zebra 0.1\n"
     ]
    },
    {
     "name": "stdout",
     "output_type": "stream",
     "text": [
      "INFO:tensorflow:mixed4c ['random500_1', 'random500_5'] zebra 0.1\n"
     ]
    },
    {
     "name": "stderr",
     "output_type": "stream",
     "text": [
      "INFO:tensorflow:mixed4c ['random500_1', 'random500_5'] zebra 0.1\n"
     ]
    },
    {
     "name": "stdout",
     "output_type": "stream",
     "text": [
      "INFO:tensorflow:mixed4c ['random500_1', 'random500_6'] zebra 0.1\n"
     ]
    },
    {
     "name": "stderr",
     "output_type": "stream",
     "text": [
      "INFO:tensorflow:mixed4c ['random500_1', 'random500_6'] zebra 0.1\n"
     ]
    },
    {
     "name": "stdout",
     "output_type": "stream",
     "text": [
      "INFO:tensorflow:mixed4c ['random500_1', 'random500_7'] zebra 0.1\n"
     ]
    },
    {
     "name": "stderr",
     "output_type": "stream",
     "text": [
      "INFO:tensorflow:mixed4c ['random500_1', 'random500_7'] zebra 0.1\n"
     ]
    },
    {
     "name": "stdout",
     "output_type": "stream",
     "text": [
      "INFO:tensorflow:mixed4c ['random500_1', 'random500_8'] zebra 0.1\n"
     ]
    },
    {
     "name": "stderr",
     "output_type": "stream",
     "text": [
      "INFO:tensorflow:mixed4c ['random500_1', 'random500_8'] zebra 0.1\n"
     ]
    },
    {
     "name": "stdout",
     "output_type": "stream",
     "text": [
      "INFO:tensorflow:mixed4c ['random500_1', 'random500_9'] zebra 0.1\n"
     ]
    },
    {
     "name": "stderr",
     "output_type": "stream",
     "text": [
      "INFO:tensorflow:mixed4c ['random500_1', 'random500_9'] zebra 0.1\n"
     ]
    },
    {
     "name": "stdout",
     "output_type": "stream",
     "text": [
      "INFO:tensorflow:mixed4c ['random500_2', 'random500_0'] zebra 0.1\n"
     ]
    },
    {
     "name": "stderr",
     "output_type": "stream",
     "text": [
      "INFO:tensorflow:mixed4c ['random500_2', 'random500_0'] zebra 0.1\n"
     ]
    },
    {
     "name": "stdout",
     "output_type": "stream",
     "text": [
      "INFO:tensorflow:mixed4c ['random500_2', 'random500_1'] zebra 0.1\n"
     ]
    },
    {
     "name": "stderr",
     "output_type": "stream",
     "text": [
      "INFO:tensorflow:mixed4c ['random500_2', 'random500_1'] zebra 0.1\n"
     ]
    },
    {
     "name": "stdout",
     "output_type": "stream",
     "text": [
      "INFO:tensorflow:mixed4c ['random500_2', 'random500_3'] zebra 0.1\n"
     ]
    },
    {
     "name": "stderr",
     "output_type": "stream",
     "text": [
      "INFO:tensorflow:mixed4c ['random500_2', 'random500_3'] zebra 0.1\n"
     ]
    },
    {
     "name": "stdout",
     "output_type": "stream",
     "text": [
      "INFO:tensorflow:mixed4c ['random500_2', 'random500_4'] zebra 0.1\n"
     ]
    },
    {
     "name": "stderr",
     "output_type": "stream",
     "text": [
      "INFO:tensorflow:mixed4c ['random500_2', 'random500_4'] zebra 0.1\n"
     ]
    },
    {
     "name": "stdout",
     "output_type": "stream",
     "text": [
      "INFO:tensorflow:mixed4c ['random500_2', 'random500_5'] zebra 0.1\n"
     ]
    },
    {
     "name": "stderr",
     "output_type": "stream",
     "text": [
      "INFO:tensorflow:mixed4c ['random500_2', 'random500_5'] zebra 0.1\n"
     ]
    },
    {
     "name": "stdout",
     "output_type": "stream",
     "text": [
      "INFO:tensorflow:mixed4c ['random500_2', 'random500_6'] zebra 0.1\n"
     ]
    },
    {
     "name": "stderr",
     "output_type": "stream",
     "text": [
      "INFO:tensorflow:mixed4c ['random500_2', 'random500_6'] zebra 0.1\n"
     ]
    },
    {
     "name": "stdout",
     "output_type": "stream",
     "text": [
      "INFO:tensorflow:mixed4c ['random500_2', 'random500_7'] zebra 0.1\n"
     ]
    },
    {
     "name": "stderr",
     "output_type": "stream",
     "text": [
      "INFO:tensorflow:mixed4c ['random500_2', 'random500_7'] zebra 0.1\n"
     ]
    },
    {
     "name": "stdout",
     "output_type": "stream",
     "text": [
      "INFO:tensorflow:mixed4c ['random500_2', 'random500_8'] zebra 0.1\n"
     ]
    },
    {
     "name": "stderr",
     "output_type": "stream",
     "text": [
      "INFO:tensorflow:mixed4c ['random500_2', 'random500_8'] zebra 0.1\n"
     ]
    },
    {
     "name": "stdout",
     "output_type": "stream",
     "text": [
      "INFO:tensorflow:mixed4c ['random500_2', 'random500_9'] zebra 0.1\n"
     ]
    },
    {
     "name": "stderr",
     "output_type": "stream",
     "text": [
      "INFO:tensorflow:mixed4c ['random500_2', 'random500_9'] zebra 0.1\n"
     ]
    },
    {
     "name": "stdout",
     "output_type": "stream",
     "text": [
      "INFO:tensorflow:mixed4c ['random500_3', 'random500_0'] zebra 0.1\n"
     ]
    },
    {
     "name": "stderr",
     "output_type": "stream",
     "text": [
      "INFO:tensorflow:mixed4c ['random500_3', 'random500_0'] zebra 0.1\n"
     ]
    },
    {
     "name": "stdout",
     "output_type": "stream",
     "text": [
      "INFO:tensorflow:mixed4c ['random500_3', 'random500_1'] zebra 0.1\n"
     ]
    },
    {
     "name": "stderr",
     "output_type": "stream",
     "text": [
      "INFO:tensorflow:mixed4c ['random500_3', 'random500_1'] zebra 0.1\n"
     ]
    },
    {
     "name": "stdout",
     "output_type": "stream",
     "text": [
      "INFO:tensorflow:mixed4c ['random500_3', 'random500_2'] zebra 0.1\n"
     ]
    },
    {
     "name": "stderr",
     "output_type": "stream",
     "text": [
      "INFO:tensorflow:mixed4c ['random500_3', 'random500_2'] zebra 0.1\n"
     ]
    },
    {
     "name": "stdout",
     "output_type": "stream",
     "text": [
      "INFO:tensorflow:mixed4c ['random500_3', 'random500_4'] zebra 0.1\n"
     ]
    },
    {
     "name": "stderr",
     "output_type": "stream",
     "text": [
      "INFO:tensorflow:mixed4c ['random500_3', 'random500_4'] zebra 0.1\n"
     ]
    },
    {
     "name": "stdout",
     "output_type": "stream",
     "text": [
      "INFO:tensorflow:mixed4c ['random500_3', 'random500_5'] zebra 0.1\n"
     ]
    },
    {
     "name": "stderr",
     "output_type": "stream",
     "text": [
      "INFO:tensorflow:mixed4c ['random500_3', 'random500_5'] zebra 0.1\n"
     ]
    },
    {
     "name": "stdout",
     "output_type": "stream",
     "text": [
      "INFO:tensorflow:mixed4c ['random500_3', 'random500_6'] zebra 0.1\n"
     ]
    },
    {
     "name": "stderr",
     "output_type": "stream",
     "text": [
      "INFO:tensorflow:mixed4c ['random500_3', 'random500_6'] zebra 0.1\n"
     ]
    },
    {
     "name": "stdout",
     "output_type": "stream",
     "text": [
      "INFO:tensorflow:mixed4c ['random500_3', 'random500_7'] zebra 0.1\n"
     ]
    },
    {
     "name": "stderr",
     "output_type": "stream",
     "text": [
      "INFO:tensorflow:mixed4c ['random500_3', 'random500_7'] zebra 0.1\n"
     ]
    },
    {
     "name": "stdout",
     "output_type": "stream",
     "text": [
      "INFO:tensorflow:mixed4c ['random500_3', 'random500_8'] zebra 0.1\n"
     ]
    },
    {
     "name": "stderr",
     "output_type": "stream",
     "text": [
      "INFO:tensorflow:mixed4c ['random500_3', 'random500_8'] zebra 0.1\n"
     ]
    },
    {
     "name": "stdout",
     "output_type": "stream",
     "text": [
      "INFO:tensorflow:mixed4c ['random500_3', 'random500_9'] zebra 0.1\n"
     ]
    },
    {
     "name": "stderr",
     "output_type": "stream",
     "text": [
      "INFO:tensorflow:mixed4c ['random500_3', 'random500_9'] zebra 0.1\n"
     ]
    },
    {
     "name": "stdout",
     "output_type": "stream",
     "text": [
      "INFO:tensorflow:mixed4c ['random500_4', 'random500_0'] zebra 0.1\n"
     ]
    },
    {
     "name": "stderr",
     "output_type": "stream",
     "text": [
      "INFO:tensorflow:mixed4c ['random500_4', 'random500_0'] zebra 0.1\n"
     ]
    },
    {
     "name": "stdout",
     "output_type": "stream",
     "text": [
      "INFO:tensorflow:mixed4c ['random500_4', 'random500_1'] zebra 0.1\n"
     ]
    },
    {
     "name": "stderr",
     "output_type": "stream",
     "text": [
      "INFO:tensorflow:mixed4c ['random500_4', 'random500_1'] zebra 0.1\n"
     ]
    },
    {
     "name": "stdout",
     "output_type": "stream",
     "text": [
      "INFO:tensorflow:mixed4c ['random500_4', 'random500_2'] zebra 0.1\n"
     ]
    },
    {
     "name": "stderr",
     "output_type": "stream",
     "text": [
      "INFO:tensorflow:mixed4c ['random500_4', 'random500_2'] zebra 0.1\n"
     ]
    },
    {
     "name": "stdout",
     "output_type": "stream",
     "text": [
      "INFO:tensorflow:mixed4c ['random500_4', 'random500_3'] zebra 0.1\n"
     ]
    },
    {
     "name": "stderr",
     "output_type": "stream",
     "text": [
      "INFO:tensorflow:mixed4c ['random500_4', 'random500_3'] zebra 0.1\n"
     ]
    },
    {
     "name": "stdout",
     "output_type": "stream",
     "text": [
      "INFO:tensorflow:mixed4c ['random500_4', 'random500_5'] zebra 0.1\n"
     ]
    },
    {
     "name": "stderr",
     "output_type": "stream",
     "text": [
      "INFO:tensorflow:mixed4c ['random500_4', 'random500_5'] zebra 0.1\n"
     ]
    },
    {
     "name": "stdout",
     "output_type": "stream",
     "text": [
      "INFO:tensorflow:mixed4c ['random500_4', 'random500_6'] zebra 0.1\n"
     ]
    },
    {
     "name": "stderr",
     "output_type": "stream",
     "text": [
      "INFO:tensorflow:mixed4c ['random500_4', 'random500_6'] zebra 0.1\n"
     ]
    },
    {
     "name": "stdout",
     "output_type": "stream",
     "text": [
      "INFO:tensorflow:mixed4c ['random500_4', 'random500_7'] zebra 0.1\n"
     ]
    },
    {
     "name": "stderr",
     "output_type": "stream",
     "text": [
      "INFO:tensorflow:mixed4c ['random500_4', 'random500_7'] zebra 0.1\n"
     ]
    },
    {
     "name": "stdout",
     "output_type": "stream",
     "text": [
      "INFO:tensorflow:mixed4c ['random500_4', 'random500_8'] zebra 0.1\n"
     ]
    },
    {
     "name": "stderr",
     "output_type": "stream",
     "text": [
      "INFO:tensorflow:mixed4c ['random500_4', 'random500_8'] zebra 0.1\n"
     ]
    },
    {
     "name": "stdout",
     "output_type": "stream",
     "text": [
      "INFO:tensorflow:mixed4c ['random500_4', 'random500_9'] zebra 0.1\n"
     ]
    },
    {
     "name": "stderr",
     "output_type": "stream",
     "text": [
      "INFO:tensorflow:mixed4c ['random500_4', 'random500_9'] zebra 0.1\n"
     ]
    },
    {
     "name": "stdout",
     "output_type": "stream",
     "text": [
      "INFO:tensorflow:mixed4c ['random500_5', 'random500_0'] zebra 0.1\n"
     ]
    },
    {
     "name": "stderr",
     "output_type": "stream",
     "text": [
      "INFO:tensorflow:mixed4c ['random500_5', 'random500_0'] zebra 0.1\n"
     ]
    },
    {
     "name": "stdout",
     "output_type": "stream",
     "text": [
      "INFO:tensorflow:mixed4c ['random500_5', 'random500_1'] zebra 0.1\n"
     ]
    },
    {
     "name": "stderr",
     "output_type": "stream",
     "text": [
      "INFO:tensorflow:mixed4c ['random500_5', 'random500_1'] zebra 0.1\n"
     ]
    },
    {
     "name": "stdout",
     "output_type": "stream",
     "text": [
      "INFO:tensorflow:mixed4c ['random500_5', 'random500_2'] zebra 0.1\n"
     ]
    },
    {
     "name": "stderr",
     "output_type": "stream",
     "text": [
      "INFO:tensorflow:mixed4c ['random500_5', 'random500_2'] zebra 0.1\n"
     ]
    },
    {
     "name": "stdout",
     "output_type": "stream",
     "text": [
      "INFO:tensorflow:mixed4c ['random500_5', 'random500_3'] zebra 0.1\n"
     ]
    },
    {
     "name": "stderr",
     "output_type": "stream",
     "text": [
      "INFO:tensorflow:mixed4c ['random500_5', 'random500_3'] zebra 0.1\n"
     ]
    },
    {
     "name": "stdout",
     "output_type": "stream",
     "text": [
      "INFO:tensorflow:mixed4c ['random500_5', 'random500_4'] zebra 0.1\n"
     ]
    },
    {
     "name": "stderr",
     "output_type": "stream",
     "text": [
      "INFO:tensorflow:mixed4c ['random500_5', 'random500_4'] zebra 0.1\n"
     ]
    },
    {
     "name": "stdout",
     "output_type": "stream",
     "text": [
      "INFO:tensorflow:mixed4c ['random500_5', 'random500_6'] zebra 0.1\n"
     ]
    },
    {
     "name": "stderr",
     "output_type": "stream",
     "text": [
      "INFO:tensorflow:mixed4c ['random500_5', 'random500_6'] zebra 0.1\n"
     ]
    },
    {
     "name": "stdout",
     "output_type": "stream",
     "text": [
      "INFO:tensorflow:mixed4c ['random500_5', 'random500_7'] zebra 0.1\n"
     ]
    },
    {
     "name": "stderr",
     "output_type": "stream",
     "text": [
      "INFO:tensorflow:mixed4c ['random500_5', 'random500_7'] zebra 0.1\n"
     ]
    },
    {
     "name": "stdout",
     "output_type": "stream",
     "text": [
      "INFO:tensorflow:mixed4c ['random500_5', 'random500_8'] zebra 0.1\n"
     ]
    },
    {
     "name": "stderr",
     "output_type": "stream",
     "text": [
      "INFO:tensorflow:mixed4c ['random500_5', 'random500_8'] zebra 0.1\n"
     ]
    },
    {
     "name": "stdout",
     "output_type": "stream",
     "text": [
      "INFO:tensorflow:mixed4c ['random500_5', 'random500_9'] zebra 0.1\n"
     ]
    },
    {
     "name": "stderr",
     "output_type": "stream",
     "text": [
      "INFO:tensorflow:mixed4c ['random500_5', 'random500_9'] zebra 0.1\n"
     ]
    },
    {
     "name": "stdout",
     "output_type": "stream",
     "text": [
      "INFO:tensorflow:mixed4c ['random500_6', 'random500_0'] zebra 0.1\n"
     ]
    },
    {
     "name": "stderr",
     "output_type": "stream",
     "text": [
      "INFO:tensorflow:mixed4c ['random500_6', 'random500_0'] zebra 0.1\n"
     ]
    },
    {
     "name": "stdout",
     "output_type": "stream",
     "text": [
      "INFO:tensorflow:mixed4c ['random500_6', 'random500_1'] zebra 0.1\n"
     ]
    },
    {
     "name": "stderr",
     "output_type": "stream",
     "text": [
      "INFO:tensorflow:mixed4c ['random500_6', 'random500_1'] zebra 0.1\n"
     ]
    },
    {
     "name": "stdout",
     "output_type": "stream",
     "text": [
      "INFO:tensorflow:mixed4c ['random500_6', 'random500_2'] zebra 0.1\n"
     ]
    },
    {
     "name": "stderr",
     "output_type": "stream",
     "text": [
      "INFO:tensorflow:mixed4c ['random500_6', 'random500_2'] zebra 0.1\n"
     ]
    },
    {
     "name": "stdout",
     "output_type": "stream",
     "text": [
      "INFO:tensorflow:mixed4c ['random500_6', 'random500_3'] zebra 0.1\n"
     ]
    },
    {
     "name": "stderr",
     "output_type": "stream",
     "text": [
      "INFO:tensorflow:mixed4c ['random500_6', 'random500_3'] zebra 0.1\n"
     ]
    },
    {
     "name": "stdout",
     "output_type": "stream",
     "text": [
      "INFO:tensorflow:mixed4c ['random500_6', 'random500_4'] zebra 0.1\n"
     ]
    },
    {
     "name": "stderr",
     "output_type": "stream",
     "text": [
      "INFO:tensorflow:mixed4c ['random500_6', 'random500_4'] zebra 0.1\n"
     ]
    },
    {
     "name": "stdout",
     "output_type": "stream",
     "text": [
      "INFO:tensorflow:mixed4c ['random500_6', 'random500_5'] zebra 0.1\n"
     ]
    },
    {
     "name": "stderr",
     "output_type": "stream",
     "text": [
      "INFO:tensorflow:mixed4c ['random500_6', 'random500_5'] zebra 0.1\n"
     ]
    },
    {
     "name": "stdout",
     "output_type": "stream",
     "text": [
      "INFO:tensorflow:mixed4c ['random500_6', 'random500_7'] zebra 0.1\n"
     ]
    },
    {
     "name": "stderr",
     "output_type": "stream",
     "text": [
      "INFO:tensorflow:mixed4c ['random500_6', 'random500_7'] zebra 0.1\n"
     ]
    },
    {
     "name": "stdout",
     "output_type": "stream",
     "text": [
      "INFO:tensorflow:mixed4c ['random500_6', 'random500_8'] zebra 0.1\n"
     ]
    },
    {
     "name": "stderr",
     "output_type": "stream",
     "text": [
      "INFO:tensorflow:mixed4c ['random500_6', 'random500_8'] zebra 0.1\n"
     ]
    },
    {
     "name": "stdout",
     "output_type": "stream",
     "text": [
      "INFO:tensorflow:mixed4c ['random500_6', 'random500_9'] zebra 0.1\n"
     ]
    },
    {
     "name": "stderr",
     "output_type": "stream",
     "text": [
      "INFO:tensorflow:mixed4c ['random500_6', 'random500_9'] zebra 0.1\n"
     ]
    },
    {
     "name": "stdout",
     "output_type": "stream",
     "text": [
      "INFO:tensorflow:mixed4c ['random500_7', 'random500_0'] zebra 0.1\n"
     ]
    },
    {
     "name": "stderr",
     "output_type": "stream",
     "text": [
      "INFO:tensorflow:mixed4c ['random500_7', 'random500_0'] zebra 0.1\n"
     ]
    },
    {
     "name": "stdout",
     "output_type": "stream",
     "text": [
      "INFO:tensorflow:mixed4c ['random500_7', 'random500_1'] zebra 0.1\n"
     ]
    },
    {
     "name": "stderr",
     "output_type": "stream",
     "text": [
      "INFO:tensorflow:mixed4c ['random500_7', 'random500_1'] zebra 0.1\n"
     ]
    },
    {
     "name": "stdout",
     "output_type": "stream",
     "text": [
      "INFO:tensorflow:mixed4c ['random500_7', 'random500_2'] zebra 0.1\n"
     ]
    },
    {
     "name": "stderr",
     "output_type": "stream",
     "text": [
      "INFO:tensorflow:mixed4c ['random500_7', 'random500_2'] zebra 0.1\n"
     ]
    },
    {
     "name": "stdout",
     "output_type": "stream",
     "text": [
      "INFO:tensorflow:mixed4c ['random500_7', 'random500_3'] zebra 0.1\n"
     ]
    },
    {
     "name": "stderr",
     "output_type": "stream",
     "text": [
      "INFO:tensorflow:mixed4c ['random500_7', 'random500_3'] zebra 0.1\n"
     ]
    },
    {
     "name": "stdout",
     "output_type": "stream",
     "text": [
      "INFO:tensorflow:mixed4c ['random500_7', 'random500_4'] zebra 0.1\n"
     ]
    },
    {
     "name": "stderr",
     "output_type": "stream",
     "text": [
      "INFO:tensorflow:mixed4c ['random500_7', 'random500_4'] zebra 0.1\n"
     ]
    },
    {
     "name": "stdout",
     "output_type": "stream",
     "text": [
      "INFO:tensorflow:mixed4c ['random500_7', 'random500_5'] zebra 0.1\n"
     ]
    },
    {
     "name": "stderr",
     "output_type": "stream",
     "text": [
      "INFO:tensorflow:mixed4c ['random500_7', 'random500_5'] zebra 0.1\n"
     ]
    },
    {
     "name": "stdout",
     "output_type": "stream",
     "text": [
      "INFO:tensorflow:mixed4c ['random500_7', 'random500_6'] zebra 0.1\n"
     ]
    },
    {
     "name": "stderr",
     "output_type": "stream",
     "text": [
      "INFO:tensorflow:mixed4c ['random500_7', 'random500_6'] zebra 0.1\n"
     ]
    },
    {
     "name": "stdout",
     "output_type": "stream",
     "text": [
      "INFO:tensorflow:mixed4c ['random500_7', 'random500_8'] zebra 0.1\n"
     ]
    },
    {
     "name": "stderr",
     "output_type": "stream",
     "text": [
      "INFO:tensorflow:mixed4c ['random500_7', 'random500_8'] zebra 0.1\n"
     ]
    },
    {
     "name": "stdout",
     "output_type": "stream",
     "text": [
      "INFO:tensorflow:mixed4c ['random500_7', 'random500_9'] zebra 0.1\n"
     ]
    },
    {
     "name": "stderr",
     "output_type": "stream",
     "text": [
      "INFO:tensorflow:mixed4c ['random500_7', 'random500_9'] zebra 0.1\n"
     ]
    },
    {
     "name": "stdout",
     "output_type": "stream",
     "text": [
      "INFO:tensorflow:mixed4c ['random500_8', 'random500_0'] zebra 0.1\n"
     ]
    },
    {
     "name": "stderr",
     "output_type": "stream",
     "text": [
      "INFO:tensorflow:mixed4c ['random500_8', 'random500_0'] zebra 0.1\n"
     ]
    },
    {
     "name": "stdout",
     "output_type": "stream",
     "text": [
      "INFO:tensorflow:mixed4c ['random500_8', 'random500_1'] zebra 0.1\n"
     ]
    },
    {
     "name": "stderr",
     "output_type": "stream",
     "text": [
      "INFO:tensorflow:mixed4c ['random500_8', 'random500_1'] zebra 0.1\n"
     ]
    },
    {
     "name": "stdout",
     "output_type": "stream",
     "text": [
      "INFO:tensorflow:mixed4c ['random500_8', 'random500_2'] zebra 0.1\n"
     ]
    },
    {
     "name": "stderr",
     "output_type": "stream",
     "text": [
      "INFO:tensorflow:mixed4c ['random500_8', 'random500_2'] zebra 0.1\n"
     ]
    },
    {
     "name": "stdout",
     "output_type": "stream",
     "text": [
      "INFO:tensorflow:mixed4c ['random500_8', 'random500_3'] zebra 0.1\n"
     ]
    },
    {
     "name": "stderr",
     "output_type": "stream",
     "text": [
      "INFO:tensorflow:mixed4c ['random500_8', 'random500_3'] zebra 0.1\n"
     ]
    },
    {
     "name": "stdout",
     "output_type": "stream",
     "text": [
      "INFO:tensorflow:mixed4c ['random500_8', 'random500_4'] zebra 0.1\n"
     ]
    },
    {
     "name": "stderr",
     "output_type": "stream",
     "text": [
      "INFO:tensorflow:mixed4c ['random500_8', 'random500_4'] zebra 0.1\n"
     ]
    },
    {
     "name": "stdout",
     "output_type": "stream",
     "text": [
      "INFO:tensorflow:mixed4c ['random500_8', 'random500_5'] zebra 0.1\n"
     ]
    },
    {
     "name": "stderr",
     "output_type": "stream",
     "text": [
      "INFO:tensorflow:mixed4c ['random500_8', 'random500_5'] zebra 0.1\n"
     ]
    },
    {
     "name": "stdout",
     "output_type": "stream",
     "text": [
      "INFO:tensorflow:mixed4c ['random500_8', 'random500_6'] zebra 0.1\n"
     ]
    },
    {
     "name": "stderr",
     "output_type": "stream",
     "text": [
      "INFO:tensorflow:mixed4c ['random500_8', 'random500_6'] zebra 0.1\n"
     ]
    },
    {
     "name": "stdout",
     "output_type": "stream",
     "text": [
      "INFO:tensorflow:mixed4c ['random500_8', 'random500_7'] zebra 0.1\n"
     ]
    },
    {
     "name": "stderr",
     "output_type": "stream",
     "text": [
      "INFO:tensorflow:mixed4c ['random500_8', 'random500_7'] zebra 0.1\n"
     ]
    },
    {
     "name": "stdout",
     "output_type": "stream",
     "text": [
      "INFO:tensorflow:mixed4c ['random500_8', 'random500_9'] zebra 0.1\n"
     ]
    },
    {
     "name": "stderr",
     "output_type": "stream",
     "text": [
      "INFO:tensorflow:mixed4c ['random500_8', 'random500_9'] zebra 0.1\n"
     ]
    },
    {
     "name": "stdout",
     "output_type": "stream",
     "text": [
      "INFO:tensorflow:mixed4c ['random500_9', 'random500_0'] zebra 0.1\n"
     ]
    },
    {
     "name": "stderr",
     "output_type": "stream",
     "text": [
      "INFO:tensorflow:mixed4c ['random500_9', 'random500_0'] zebra 0.1\n"
     ]
    },
    {
     "name": "stdout",
     "output_type": "stream",
     "text": [
      "INFO:tensorflow:mixed4c ['random500_9', 'random500_1'] zebra 0.1\n"
     ]
    },
    {
     "name": "stderr",
     "output_type": "stream",
     "text": [
      "INFO:tensorflow:mixed4c ['random500_9', 'random500_1'] zebra 0.1\n"
     ]
    },
    {
     "name": "stdout",
     "output_type": "stream",
     "text": [
      "INFO:tensorflow:mixed4c ['random500_9', 'random500_2'] zebra 0.1\n"
     ]
    },
    {
     "name": "stderr",
     "output_type": "stream",
     "text": [
      "INFO:tensorflow:mixed4c ['random500_9', 'random500_2'] zebra 0.1\n"
     ]
    },
    {
     "name": "stdout",
     "output_type": "stream",
     "text": [
      "INFO:tensorflow:mixed4c ['random500_9', 'random500_3'] zebra 0.1\n"
     ]
    },
    {
     "name": "stderr",
     "output_type": "stream",
     "text": [
      "INFO:tensorflow:mixed4c ['random500_9', 'random500_3'] zebra 0.1\n"
     ]
    },
    {
     "name": "stdout",
     "output_type": "stream",
     "text": [
      "INFO:tensorflow:mixed4c ['random500_9', 'random500_4'] zebra 0.1\n"
     ]
    },
    {
     "name": "stderr",
     "output_type": "stream",
     "text": [
      "INFO:tensorflow:mixed4c ['random500_9', 'random500_4'] zebra 0.1\n"
     ]
    },
    {
     "name": "stdout",
     "output_type": "stream",
     "text": [
      "INFO:tensorflow:mixed4c ['random500_9', 'random500_5'] zebra 0.1\n"
     ]
    },
    {
     "name": "stderr",
     "output_type": "stream",
     "text": [
      "INFO:tensorflow:mixed4c ['random500_9', 'random500_5'] zebra 0.1\n"
     ]
    },
    {
     "name": "stdout",
     "output_type": "stream",
     "text": [
      "INFO:tensorflow:mixed4c ['random500_9', 'random500_6'] zebra 0.1\n"
     ]
    },
    {
     "name": "stderr",
     "output_type": "stream",
     "text": [
      "INFO:tensorflow:mixed4c ['random500_9', 'random500_6'] zebra 0.1\n"
     ]
    },
    {
     "name": "stdout",
     "output_type": "stream",
     "text": [
      "INFO:tensorflow:mixed4c ['random500_9', 'random500_7'] zebra 0.1\n"
     ]
    },
    {
     "name": "stderr",
     "output_type": "stream",
     "text": [
      "INFO:tensorflow:mixed4c ['random500_9', 'random500_7'] zebra 0.1\n"
     ]
    },
    {
     "name": "stdout",
     "output_type": "stream",
     "text": [
      "INFO:tensorflow:mixed4c ['random500_9', 'random500_8'] zebra 0.1\n"
     ]
    },
    {
     "name": "stderr",
     "output_type": "stream",
     "text": [
      "INFO:tensorflow:mixed4c ['random500_9', 'random500_8'] zebra 0.1\n"
     ]
    },
    {
     "name": "stdout",
     "output_type": "stream",
     "text": [
      "INFO:tensorflow:TCAV will 100 params\n"
     ]
    },
    {
     "name": "stderr",
     "output_type": "stream",
     "text": [
      "INFO:tensorflow:TCAV will 100 params\n"
     ]
    },
    {
     "name": "stdout",
     "output_type": "stream",
     "text": [
      "INFO:tensorflow:mixed4c ['0_color', 'random500_0'] zebra 0.1\n"
     ]
    },
    {
     "name": "stderr",
     "output_type": "stream",
     "text": [
      "INFO:tensorflow:mixed4c ['0_color', 'random500_0'] zebra 0.1\n"
     ]
    },
    {
     "name": "stdout",
     "output_type": "stream",
     "text": [
      "INFO:tensorflow:mixed4c ['0_color', 'random500_1'] zebra 0.1\n"
     ]
    },
    {
     "name": "stderr",
     "output_type": "stream",
     "text": [
      "INFO:tensorflow:mixed4c ['0_color', 'random500_1'] zebra 0.1\n"
     ]
    },
    {
     "name": "stdout",
     "output_type": "stream",
     "text": [
      "INFO:tensorflow:mixed4c ['0_color', 'random500_2'] zebra 0.1\n"
     ]
    },
    {
     "name": "stderr",
     "output_type": "stream",
     "text": [
      "INFO:tensorflow:mixed4c ['0_color', 'random500_2'] zebra 0.1\n"
     ]
    },
    {
     "name": "stdout",
     "output_type": "stream",
     "text": [
      "INFO:tensorflow:mixed4c ['0_color', 'random500_3'] zebra 0.1\n"
     ]
    },
    {
     "name": "stderr",
     "output_type": "stream",
     "text": [
      "INFO:tensorflow:mixed4c ['0_color', 'random500_3'] zebra 0.1\n"
     ]
    },
    {
     "name": "stdout",
     "output_type": "stream",
     "text": [
      "INFO:tensorflow:mixed4c ['0_color', 'random500_4'] zebra 0.1\n"
     ]
    },
    {
     "name": "stderr",
     "output_type": "stream",
     "text": [
      "INFO:tensorflow:mixed4c ['0_color', 'random500_4'] zebra 0.1\n"
     ]
    },
    {
     "name": "stdout",
     "output_type": "stream",
     "text": [
      "INFO:tensorflow:mixed4c ['0_color', 'random500_5'] zebra 0.1\n"
     ]
    },
    {
     "name": "stderr",
     "output_type": "stream",
     "text": [
      "INFO:tensorflow:mixed4c ['0_color', 'random500_5'] zebra 0.1\n"
     ]
    },
    {
     "name": "stdout",
     "output_type": "stream",
     "text": [
      "INFO:tensorflow:mixed4c ['0_color', 'random500_6'] zebra 0.1\n"
     ]
    },
    {
     "name": "stderr",
     "output_type": "stream",
     "text": [
      "INFO:tensorflow:mixed4c ['0_color', 'random500_6'] zebra 0.1\n"
     ]
    },
    {
     "name": "stdout",
     "output_type": "stream",
     "text": [
      "INFO:tensorflow:mixed4c ['0_color', 'random500_7'] zebra 0.1\n"
     ]
    },
    {
     "name": "stderr",
     "output_type": "stream",
     "text": [
      "INFO:tensorflow:mixed4c ['0_color', 'random500_7'] zebra 0.1\n"
     ]
    },
    {
     "name": "stdout",
     "output_type": "stream",
     "text": [
      "INFO:tensorflow:mixed4c ['0_color', 'random500_8'] zebra 0.1\n"
     ]
    },
    {
     "name": "stderr",
     "output_type": "stream",
     "text": [
      "INFO:tensorflow:mixed4c ['0_color', 'random500_8'] zebra 0.1\n"
     ]
    },
    {
     "name": "stdout",
     "output_type": "stream",
     "text": [
      "INFO:tensorflow:mixed4c ['0_color', 'random500_9'] zebra 0.1\n"
     ]
    },
    {
     "name": "stderr",
     "output_type": "stream",
     "text": [
      "INFO:tensorflow:mixed4c ['0_color', 'random500_9'] zebra 0.1\n"
     ]
    },
    {
     "name": "stdout",
     "output_type": "stream",
     "text": [
      "Pairs to test [('zebra', ['0_color', 'random500_0']), ('zebra', ['0_color', 'random500_1']), ('zebra', ['0_color', 'random500_2']), ('zebra', ['0_color', 'random500_3']), ('zebra', ['0_color', 'random500_4']), ('zebra', ['0_color', 'random500_5']), ('zebra', ['0_color', 'random500_6']), ('zebra', ['0_color', 'random500_7']), ('zebra', ['0_color', 'random500_8']), ('zebra', ['0_color', 'random500_9'])]\n",
      "Params [<tcav.run_params.RunParams object at 0x7fd3982e5b90>, <tcav.run_params.RunParams object at 0x7fd3982e5e10>, <tcav.run_params.RunParams object at 0x7fd3982e5550>, <tcav.run_params.RunParams object at 0x7fd3982e5e90>, <tcav.run_params.RunParams object at 0x7fd3982e5510>, <tcav.run_params.RunParams object at 0x7fd3982e5fd0>, <tcav.run_params.RunParams object at 0x7fd3982e5ed0>, <tcav.run_params.RunParams object at 0x7fd3982e5c50>, <tcav.run_params.RunParams object at 0x7fd3982e51d0>, <tcav.run_params.RunParams object at 0x7fd3982e5bd0>]\n",
      "INFO:tensorflow:running 10 params\n"
     ]
    },
    {
     "name": "stderr",
     "output_type": "stream",
     "text": [
      "INFO:tensorflow:running 10 params\n"
     ]
    },
    {
     "name": "stdout",
     "output_type": "stream",
     "text": [
      "INFO:tensorflow:Running param 0 of 10\n"
     ]
    },
    {
     "name": "stderr",
     "output_type": "stream",
     "text": [
      "INFO:tensorflow:Running param 0 of 10\n"
     ]
    },
    {
     "name": "stdout",
     "output_type": "stream",
     "text": [
      "INFO:tensorflow:running zebra ['0_color', 'random500_0']\n"
     ]
    },
    {
     "name": "stderr",
     "output_type": "stream",
     "text": [
      "INFO:tensorflow:running zebra ['0_color', 'random500_0']\n"
     ]
    },
    {
     "name": "stdout",
     "output_type": "stream",
     "text": [
      "INFO:tensorflow:./results/activations/acts_0_color_mixed4c does not exist, Making one...\n"
     ]
    },
    {
     "name": "stderr",
     "output_type": "stream",
     "text": [
      "INFO:tensorflow:./results/activations/acts_0_color_mixed4c does not exist, Making one...\n"
     ]
    },
    {
     "name": "stdout",
     "output_type": "stream",
     "text": [
      "INFO:tensorflow:Loaded ./results/activations/acts_random500_0_mixed4c shape (10, 14, 14, 512)\n"
     ]
    },
    {
     "name": "stderr",
     "output_type": "stream",
     "text": [
      "INFO:tensorflow:Loaded ./results/activations/acts_random500_0_mixed4c shape (10, 14, 14, 512)\n"
     ]
    },
    {
     "name": "stdout",
     "output_type": "stream",
     "text": [
      "INFO:tensorflow:Loaded ./results/activations/acts_zebra_mixed4c shape (5, 14, 14, 512)\n"
     ]
    },
    {
     "name": "stderr",
     "output_type": "stream",
     "text": [
      "INFO:tensorflow:Loaded ./results/activations/acts_zebra_mixed4c shape (5, 14, 14, 512)\n"
     ]
    },
    {
     "name": "stdout",
     "output_type": "stream",
     "text": [
      "INFO:tensorflow:Training CAV ['0_color', 'random500_0'] - mixed4c alpha 0.1\n"
     ]
    },
    {
     "name": "stderr",
     "output_type": "stream",
     "text": [
      "INFO:tensorflow:Training CAV ['0_color', 'random500_0'] - mixed4c alpha 0.1\n"
     ]
    },
    {
     "name": "stdout",
     "output_type": "stream",
     "text": [
      "INFO:tensorflow:training with alpha=0.1\n"
     ]
    },
    {
     "name": "stderr",
     "output_type": "stream",
     "text": [
      "INFO:tensorflow:training with alpha=0.1\n"
     ]
    },
    {
     "name": "stdout",
     "output_type": "stream",
     "text": [
      "INFO:tensorflow:acc per class {'0_color': 1.0, 'random500_0': 1.0, 'overall': 1.0}\n"
     ]
    },
    {
     "name": "stderr",
     "output_type": "stream",
     "text": [
      "INFO:tensorflow:acc per class {'0_color': 1.0, 'random500_0': 1.0, 'overall': 1.0}\n"
     ]
    },
    {
     "name": "stdout",
     "output_type": "stream",
     "text": [
      "INFO:tensorflow:CAV accuracies: {'0_color': 1.0, 'random500_0': 1.0, 'overall': 1.0}\n"
     ]
    },
    {
     "name": "stderr",
     "output_type": "stream",
     "text": [
      "INFO:tensorflow:CAV accuracies: {'0_color': 1.0, 'random500_0': 1.0, 'overall': 1.0}\n"
     ]
    },
    {
     "name": "stdout",
     "output_type": "stream",
     "text": [
      "INFO:tensorflow:Running param 1 of 10\n"
     ]
    },
    {
     "name": "stderr",
     "output_type": "stream",
     "text": [
      "INFO:tensorflow:Running param 1 of 10\n"
     ]
    },
    {
     "name": "stdout",
     "output_type": "stream",
     "text": [
      "INFO:tensorflow:running zebra ['0_color', 'random500_1']\n"
     ]
    },
    {
     "name": "stderr",
     "output_type": "stream",
     "text": [
      "INFO:tensorflow:running zebra ['0_color', 'random500_1']\n"
     ]
    },
    {
     "name": "stdout",
     "output_type": "stream",
     "text": [
      "INFO:tensorflow:Loaded ./results/activations/acts_0_color_mixed4c shape (20, 14, 14, 512)\n"
     ]
    },
    {
     "name": "stderr",
     "output_type": "stream",
     "text": [
      "INFO:tensorflow:Loaded ./results/activations/acts_0_color_mixed4c shape (20, 14, 14, 512)\n"
     ]
    },
    {
     "name": "stdout",
     "output_type": "stream",
     "text": [
      "INFO:tensorflow:Loaded ./results/activations/acts_random500_1_mixed4c shape (10, 14, 14, 512)\n"
     ]
    },
    {
     "name": "stderr",
     "output_type": "stream",
     "text": [
      "INFO:tensorflow:Loaded ./results/activations/acts_random500_1_mixed4c shape (10, 14, 14, 512)\n"
     ]
    },
    {
     "name": "stdout",
     "output_type": "stream",
     "text": [
      "INFO:tensorflow:Loaded ./results/activations/acts_zebra_mixed4c shape (5, 14, 14, 512)\n"
     ]
    },
    {
     "name": "stderr",
     "output_type": "stream",
     "text": [
      "INFO:tensorflow:Loaded ./results/activations/acts_zebra_mixed4c shape (5, 14, 14, 512)\n"
     ]
    },
    {
     "name": "stdout",
     "output_type": "stream",
     "text": [
      "INFO:tensorflow:Training CAV ['0_color', 'random500_1'] - mixed4c alpha 0.1\n"
     ]
    },
    {
     "name": "stderr",
     "output_type": "stream",
     "text": [
      "INFO:tensorflow:Training CAV ['0_color', 'random500_1'] - mixed4c alpha 0.1\n"
     ]
    },
    {
     "name": "stdout",
     "output_type": "stream",
     "text": [
      "INFO:tensorflow:training with alpha=0.1\n"
     ]
    },
    {
     "name": "stderr",
     "output_type": "stream",
     "text": [
      "INFO:tensorflow:training with alpha=0.1\n"
     ]
    },
    {
     "name": "stdout",
     "output_type": "stream",
     "text": [
      "INFO:tensorflow:acc per class {'0_color': 1.0, 'random500_1': 1.0, 'overall': 1.0}\n"
     ]
    },
    {
     "name": "stderr",
     "output_type": "stream",
     "text": [
      "INFO:tensorflow:acc per class {'0_color': 1.0, 'random500_1': 1.0, 'overall': 1.0}\n"
     ]
    },
    {
     "name": "stdout",
     "output_type": "stream",
     "text": [
      "INFO:tensorflow:CAV accuracies: {'0_color': 1.0, 'random500_1': 1.0, 'overall': 1.0}\n"
     ]
    },
    {
     "name": "stderr",
     "output_type": "stream",
     "text": [
      "INFO:tensorflow:CAV accuracies: {'0_color': 1.0, 'random500_1': 1.0, 'overall': 1.0}\n"
     ]
    },
    {
     "name": "stdout",
     "output_type": "stream",
     "text": [
      "INFO:tensorflow:Running param 2 of 10\n"
     ]
    },
    {
     "name": "stderr",
     "output_type": "stream",
     "text": [
      "INFO:tensorflow:Running param 2 of 10\n"
     ]
    },
    {
     "name": "stdout",
     "output_type": "stream",
     "text": [
      "INFO:tensorflow:running zebra ['0_color', 'random500_2']\n"
     ]
    },
    {
     "name": "stderr",
     "output_type": "stream",
     "text": [
      "INFO:tensorflow:running zebra ['0_color', 'random500_2']\n"
     ]
    },
    {
     "name": "stdout",
     "output_type": "stream",
     "text": [
      "INFO:tensorflow:Loaded ./results/activations/acts_0_color_mixed4c shape (20, 14, 14, 512)\n"
     ]
    },
    {
     "name": "stderr",
     "output_type": "stream",
     "text": [
      "INFO:tensorflow:Loaded ./results/activations/acts_0_color_mixed4c shape (20, 14, 14, 512)\n"
     ]
    },
    {
     "name": "stdout",
     "output_type": "stream",
     "text": [
      "INFO:tensorflow:Loaded ./results/activations/acts_random500_2_mixed4c shape (10, 14, 14, 512)\n"
     ]
    },
    {
     "name": "stderr",
     "output_type": "stream",
     "text": [
      "INFO:tensorflow:Loaded ./results/activations/acts_random500_2_mixed4c shape (10, 14, 14, 512)\n"
     ]
    },
    {
     "name": "stdout",
     "output_type": "stream",
     "text": [
      "INFO:tensorflow:Loaded ./results/activations/acts_zebra_mixed4c shape (5, 14, 14, 512)\n"
     ]
    },
    {
     "name": "stderr",
     "output_type": "stream",
     "text": [
      "INFO:tensorflow:Loaded ./results/activations/acts_zebra_mixed4c shape (5, 14, 14, 512)\n"
     ]
    },
    {
     "name": "stdout",
     "output_type": "stream",
     "text": [
      "INFO:tensorflow:Training CAV ['0_color', 'random500_2'] - mixed4c alpha 0.1\n"
     ]
    },
    {
     "name": "stderr",
     "output_type": "stream",
     "text": [
      "INFO:tensorflow:Training CAV ['0_color', 'random500_2'] - mixed4c alpha 0.1\n"
     ]
    },
    {
     "name": "stdout",
     "output_type": "stream",
     "text": [
      "INFO:tensorflow:training with alpha=0.1\n"
     ]
    },
    {
     "name": "stderr",
     "output_type": "stream",
     "text": [
      "INFO:tensorflow:training with alpha=0.1\n"
     ]
    },
    {
     "name": "stdout",
     "output_type": "stream",
     "text": [
      "INFO:tensorflow:acc per class {'0_color': 1.0, 'random500_2': 1.0, 'overall': 1.0}\n"
     ]
    },
    {
     "name": "stderr",
     "output_type": "stream",
     "text": [
      "INFO:tensorflow:acc per class {'0_color': 1.0, 'random500_2': 1.0, 'overall': 1.0}\n"
     ]
    },
    {
     "name": "stdout",
     "output_type": "stream",
     "text": [
      "INFO:tensorflow:CAV accuracies: {'0_color': 1.0, 'random500_2': 1.0, 'overall': 1.0}\n"
     ]
    },
    {
     "name": "stderr",
     "output_type": "stream",
     "text": [
      "INFO:tensorflow:CAV accuracies: {'0_color': 1.0, 'random500_2': 1.0, 'overall': 1.0}\n"
     ]
    },
    {
     "name": "stdout",
     "output_type": "stream",
     "text": [
      "INFO:tensorflow:Running param 3 of 10\n"
     ]
    },
    {
     "name": "stderr",
     "output_type": "stream",
     "text": [
      "INFO:tensorflow:Running param 3 of 10\n"
     ]
    },
    {
     "name": "stdout",
     "output_type": "stream",
     "text": [
      "INFO:tensorflow:running zebra ['0_color', 'random500_3']\n"
     ]
    },
    {
     "name": "stderr",
     "output_type": "stream",
     "text": [
      "INFO:tensorflow:running zebra ['0_color', 'random500_3']\n"
     ]
    },
    {
     "name": "stdout",
     "output_type": "stream",
     "text": [
      "INFO:tensorflow:Loaded ./results/activations/acts_0_color_mixed4c shape (20, 14, 14, 512)\n"
     ]
    },
    {
     "name": "stderr",
     "output_type": "stream",
     "text": [
      "INFO:tensorflow:Loaded ./results/activations/acts_0_color_mixed4c shape (20, 14, 14, 512)\n"
     ]
    },
    {
     "name": "stdout",
     "output_type": "stream",
     "text": [
      "INFO:tensorflow:Loaded ./results/activations/acts_random500_3_mixed4c shape (50, 14, 14, 512)\n"
     ]
    },
    {
     "name": "stderr",
     "output_type": "stream",
     "text": [
      "INFO:tensorflow:Loaded ./results/activations/acts_random500_3_mixed4c shape (50, 14, 14, 512)\n"
     ]
    },
    {
     "name": "stdout",
     "output_type": "stream",
     "text": [
      "INFO:tensorflow:Loaded ./results/activations/acts_zebra_mixed4c shape (5, 14, 14, 512)\n"
     ]
    },
    {
     "name": "stderr",
     "output_type": "stream",
     "text": [
      "INFO:tensorflow:Loaded ./results/activations/acts_zebra_mixed4c shape (5, 14, 14, 512)\n"
     ]
    },
    {
     "name": "stdout",
     "output_type": "stream",
     "text": [
      "INFO:tensorflow:Training CAV ['0_color', 'random500_3'] - mixed4c alpha 0.1\n"
     ]
    },
    {
     "name": "stderr",
     "output_type": "stream",
     "text": [
      "INFO:tensorflow:Training CAV ['0_color', 'random500_3'] - mixed4c alpha 0.1\n"
     ]
    },
    {
     "name": "stdout",
     "output_type": "stream",
     "text": [
      "INFO:tensorflow:training with alpha=0.1\n"
     ]
    },
    {
     "name": "stderr",
     "output_type": "stream",
     "text": [
      "INFO:tensorflow:training with alpha=0.1\n"
     ]
    },
    {
     "name": "stdout",
     "output_type": "stream",
     "text": [
      "INFO:tensorflow:acc per class {'0_color': 1.0, 'random500_3': 1.0, 'overall': 1.0}\n"
     ]
    },
    {
     "name": "stderr",
     "output_type": "stream",
     "text": [
      "INFO:tensorflow:acc per class {'0_color': 1.0, 'random500_3': 1.0, 'overall': 1.0}\n"
     ]
    },
    {
     "name": "stdout",
     "output_type": "stream",
     "text": [
      "INFO:tensorflow:CAV accuracies: {'0_color': 1.0, 'random500_3': 1.0, 'overall': 1.0}\n"
     ]
    },
    {
     "name": "stderr",
     "output_type": "stream",
     "text": [
      "INFO:tensorflow:CAV accuracies: {'0_color': 1.0, 'random500_3': 1.0, 'overall': 1.0}\n"
     ]
    },
    {
     "name": "stdout",
     "output_type": "stream",
     "text": [
      "INFO:tensorflow:Running param 4 of 10\n"
     ]
    },
    {
     "name": "stderr",
     "output_type": "stream",
     "text": [
      "INFO:tensorflow:Running param 4 of 10\n"
     ]
    },
    {
     "name": "stdout",
     "output_type": "stream",
     "text": [
      "INFO:tensorflow:running zebra ['0_color', 'random500_4']\n"
     ]
    },
    {
     "name": "stderr",
     "output_type": "stream",
     "text": [
      "INFO:tensorflow:running zebra ['0_color', 'random500_4']\n"
     ]
    },
    {
     "name": "stdout",
     "output_type": "stream",
     "text": [
      "INFO:tensorflow:Loaded ./results/activations/acts_0_color_mixed4c shape (20, 14, 14, 512)\n"
     ]
    },
    {
     "name": "stderr",
     "output_type": "stream",
     "text": [
      "INFO:tensorflow:Loaded ./results/activations/acts_0_color_mixed4c shape (20, 14, 14, 512)\n"
     ]
    },
    {
     "name": "stdout",
     "output_type": "stream",
     "text": [
      "INFO:tensorflow:Loaded ./results/activations/acts_random500_4_mixed4c shape (50, 14, 14, 512)\n"
     ]
    },
    {
     "name": "stderr",
     "output_type": "stream",
     "text": [
      "INFO:tensorflow:Loaded ./results/activations/acts_random500_4_mixed4c shape (50, 14, 14, 512)\n"
     ]
    },
    {
     "name": "stdout",
     "output_type": "stream",
     "text": [
      "INFO:tensorflow:Loaded ./results/activations/acts_zebra_mixed4c shape (5, 14, 14, 512)\n"
     ]
    },
    {
     "name": "stderr",
     "output_type": "stream",
     "text": [
      "INFO:tensorflow:Loaded ./results/activations/acts_zebra_mixed4c shape (5, 14, 14, 512)\n"
     ]
    },
    {
     "name": "stdout",
     "output_type": "stream",
     "text": [
      "INFO:tensorflow:Training CAV ['0_color', 'random500_4'] - mixed4c alpha 0.1\n"
     ]
    },
    {
     "name": "stderr",
     "output_type": "stream",
     "text": [
      "INFO:tensorflow:Training CAV ['0_color', 'random500_4'] - mixed4c alpha 0.1\n"
     ]
    },
    {
     "name": "stdout",
     "output_type": "stream",
     "text": [
      "INFO:tensorflow:training with alpha=0.1\n"
     ]
    },
    {
     "name": "stderr",
     "output_type": "stream",
     "text": [
      "INFO:tensorflow:training with alpha=0.1\n"
     ]
    },
    {
     "name": "stdout",
     "output_type": "stream",
     "text": [
      "INFO:tensorflow:acc per class {'0_color': 1.0, 'random500_4': 1.0, 'overall': 1.0}\n"
     ]
    },
    {
     "name": "stderr",
     "output_type": "stream",
     "text": [
      "INFO:tensorflow:acc per class {'0_color': 1.0, 'random500_4': 1.0, 'overall': 1.0}\n"
     ]
    },
    {
     "name": "stdout",
     "output_type": "stream",
     "text": [
      "INFO:tensorflow:CAV accuracies: {'0_color': 1.0, 'random500_4': 1.0, 'overall': 1.0}\n"
     ]
    },
    {
     "name": "stderr",
     "output_type": "stream",
     "text": [
      "INFO:tensorflow:CAV accuracies: {'0_color': 1.0, 'random500_4': 1.0, 'overall': 1.0}\n"
     ]
    },
    {
     "name": "stdout",
     "output_type": "stream",
     "text": [
      "INFO:tensorflow:Running param 5 of 10\n"
     ]
    },
    {
     "name": "stderr",
     "output_type": "stream",
     "text": [
      "INFO:tensorflow:Running param 5 of 10\n"
     ]
    },
    {
     "name": "stdout",
     "output_type": "stream",
     "text": [
      "INFO:tensorflow:running zebra ['0_color', 'random500_5']\n"
     ]
    },
    {
     "name": "stderr",
     "output_type": "stream",
     "text": [
      "INFO:tensorflow:running zebra ['0_color', 'random500_5']\n"
     ]
    },
    {
     "name": "stdout",
     "output_type": "stream",
     "text": [
      "INFO:tensorflow:Loaded ./results/activations/acts_0_color_mixed4c shape (20, 14, 14, 512)\n"
     ]
    },
    {
     "name": "stderr",
     "output_type": "stream",
     "text": [
      "INFO:tensorflow:Loaded ./results/activations/acts_0_color_mixed4c shape (20, 14, 14, 512)\n"
     ]
    },
    {
     "name": "stdout",
     "output_type": "stream",
     "text": [
      "INFO:tensorflow:Loaded ./results/activations/acts_random500_5_mixed4c shape (50, 14, 14, 512)\n"
     ]
    },
    {
     "name": "stderr",
     "output_type": "stream",
     "text": [
      "INFO:tensorflow:Loaded ./results/activations/acts_random500_5_mixed4c shape (50, 14, 14, 512)\n"
     ]
    },
    {
     "name": "stdout",
     "output_type": "stream",
     "text": [
      "INFO:tensorflow:Loaded ./results/activations/acts_zebra_mixed4c shape (5, 14, 14, 512)\n"
     ]
    },
    {
     "name": "stderr",
     "output_type": "stream",
     "text": [
      "INFO:tensorflow:Loaded ./results/activations/acts_zebra_mixed4c shape (5, 14, 14, 512)\n"
     ]
    },
    {
     "name": "stdout",
     "output_type": "stream",
     "text": [
      "INFO:tensorflow:Training CAV ['0_color', 'random500_5'] - mixed4c alpha 0.1\n"
     ]
    },
    {
     "name": "stderr",
     "output_type": "stream",
     "text": [
      "INFO:tensorflow:Training CAV ['0_color', 'random500_5'] - mixed4c alpha 0.1\n"
     ]
    },
    {
     "name": "stdout",
     "output_type": "stream",
     "text": [
      "INFO:tensorflow:training with alpha=0.1\n"
     ]
    },
    {
     "name": "stderr",
     "output_type": "stream",
     "text": [
      "INFO:tensorflow:training with alpha=0.1\n"
     ]
    },
    {
     "name": "stdout",
     "output_type": "stream",
     "text": [
      "INFO:tensorflow:acc per class {'0_color': 1.0, 'random500_5': 1.0, 'overall': 1.0}\n"
     ]
    },
    {
     "name": "stderr",
     "output_type": "stream",
     "text": [
      "INFO:tensorflow:acc per class {'0_color': 1.0, 'random500_5': 1.0, 'overall': 1.0}\n"
     ]
    },
    {
     "name": "stdout",
     "output_type": "stream",
     "text": [
      "INFO:tensorflow:CAV accuracies: {'0_color': 1.0, 'random500_5': 1.0, 'overall': 1.0}\n"
     ]
    },
    {
     "name": "stderr",
     "output_type": "stream",
     "text": [
      "INFO:tensorflow:CAV accuracies: {'0_color': 1.0, 'random500_5': 1.0, 'overall': 1.0}\n"
     ]
    },
    {
     "name": "stdout",
     "output_type": "stream",
     "text": [
      "INFO:tensorflow:Running param 6 of 10\n"
     ]
    },
    {
     "name": "stderr",
     "output_type": "stream",
     "text": [
      "INFO:tensorflow:Running param 6 of 10\n"
     ]
    },
    {
     "name": "stdout",
     "output_type": "stream",
     "text": [
      "INFO:tensorflow:running zebra ['0_color', 'random500_6']\n"
     ]
    },
    {
     "name": "stderr",
     "output_type": "stream",
     "text": [
      "INFO:tensorflow:running zebra ['0_color', 'random500_6']\n"
     ]
    },
    {
     "name": "stdout",
     "output_type": "stream",
     "text": [
      "INFO:tensorflow:Loaded ./results/activations/acts_0_color_mixed4c shape (20, 14, 14, 512)\n"
     ]
    },
    {
     "name": "stderr",
     "output_type": "stream",
     "text": [
      "INFO:tensorflow:Loaded ./results/activations/acts_0_color_mixed4c shape (20, 14, 14, 512)\n"
     ]
    },
    {
     "name": "stdout",
     "output_type": "stream",
     "text": [
      "INFO:tensorflow:Loaded ./results/activations/acts_random500_6_mixed4c shape (50, 14, 14, 512)\n"
     ]
    },
    {
     "name": "stderr",
     "output_type": "stream",
     "text": [
      "INFO:tensorflow:Loaded ./results/activations/acts_random500_6_mixed4c shape (50, 14, 14, 512)\n"
     ]
    },
    {
     "name": "stdout",
     "output_type": "stream",
     "text": [
      "INFO:tensorflow:Loaded ./results/activations/acts_zebra_mixed4c shape (5, 14, 14, 512)\n"
     ]
    },
    {
     "name": "stderr",
     "output_type": "stream",
     "text": [
      "INFO:tensorflow:Loaded ./results/activations/acts_zebra_mixed4c shape (5, 14, 14, 512)\n"
     ]
    },
    {
     "name": "stdout",
     "output_type": "stream",
     "text": [
      "INFO:tensorflow:Training CAV ['0_color', 'random500_6'] - mixed4c alpha 0.1\n"
     ]
    },
    {
     "name": "stderr",
     "output_type": "stream",
     "text": [
      "INFO:tensorflow:Training CAV ['0_color', 'random500_6'] - mixed4c alpha 0.1\n"
     ]
    },
    {
     "name": "stdout",
     "output_type": "stream",
     "text": [
      "INFO:tensorflow:training with alpha=0.1\n"
     ]
    },
    {
     "name": "stderr",
     "output_type": "stream",
     "text": [
      "INFO:tensorflow:training with alpha=0.1\n"
     ]
    },
    {
     "name": "stdout",
     "output_type": "stream",
     "text": [
      "INFO:tensorflow:acc per class {'0_color': 1.0, 'random500_6': 1.0, 'overall': 1.0}\n"
     ]
    },
    {
     "name": "stderr",
     "output_type": "stream",
     "text": [
      "INFO:tensorflow:acc per class {'0_color': 1.0, 'random500_6': 1.0, 'overall': 1.0}\n"
     ]
    },
    {
     "name": "stdout",
     "output_type": "stream",
     "text": [
      "INFO:tensorflow:CAV accuracies: {'0_color': 1.0, 'random500_6': 1.0, 'overall': 1.0}\n"
     ]
    },
    {
     "name": "stderr",
     "output_type": "stream",
     "text": [
      "INFO:tensorflow:CAV accuracies: {'0_color': 1.0, 'random500_6': 1.0, 'overall': 1.0}\n"
     ]
    },
    {
     "name": "stdout",
     "output_type": "stream",
     "text": [
      "INFO:tensorflow:Running param 7 of 10\n"
     ]
    },
    {
     "name": "stderr",
     "output_type": "stream",
     "text": [
      "INFO:tensorflow:Running param 7 of 10\n"
     ]
    },
    {
     "name": "stdout",
     "output_type": "stream",
     "text": [
      "INFO:tensorflow:running zebra ['0_color', 'random500_7']\n"
     ]
    },
    {
     "name": "stderr",
     "output_type": "stream",
     "text": [
      "INFO:tensorflow:running zebra ['0_color', 'random500_7']\n"
     ]
    },
    {
     "name": "stdout",
     "output_type": "stream",
     "text": [
      "INFO:tensorflow:Loaded ./results/activations/acts_0_color_mixed4c shape (20, 14, 14, 512)\n"
     ]
    },
    {
     "name": "stderr",
     "output_type": "stream",
     "text": [
      "INFO:tensorflow:Loaded ./results/activations/acts_0_color_mixed4c shape (20, 14, 14, 512)\n"
     ]
    },
    {
     "name": "stdout",
     "output_type": "stream",
     "text": [
      "INFO:tensorflow:Loaded ./results/activations/acts_random500_7_mixed4c shape (50, 14, 14, 512)\n"
     ]
    },
    {
     "name": "stderr",
     "output_type": "stream",
     "text": [
      "INFO:tensorflow:Loaded ./results/activations/acts_random500_7_mixed4c shape (50, 14, 14, 512)\n"
     ]
    },
    {
     "name": "stdout",
     "output_type": "stream",
     "text": [
      "INFO:tensorflow:Loaded ./results/activations/acts_zebra_mixed4c shape (5, 14, 14, 512)\n"
     ]
    },
    {
     "name": "stderr",
     "output_type": "stream",
     "text": [
      "INFO:tensorflow:Loaded ./results/activations/acts_zebra_mixed4c shape (5, 14, 14, 512)\n"
     ]
    },
    {
     "name": "stdout",
     "output_type": "stream",
     "text": [
      "INFO:tensorflow:Training CAV ['0_color', 'random500_7'] - mixed4c alpha 0.1\n"
     ]
    },
    {
     "name": "stderr",
     "output_type": "stream",
     "text": [
      "INFO:tensorflow:Training CAV ['0_color', 'random500_7'] - mixed4c alpha 0.1\n"
     ]
    },
    {
     "name": "stdout",
     "output_type": "stream",
     "text": [
      "INFO:tensorflow:training with alpha=0.1\n"
     ]
    },
    {
     "name": "stderr",
     "output_type": "stream",
     "text": [
      "INFO:tensorflow:training with alpha=0.1\n"
     ]
    },
    {
     "name": "stdout",
     "output_type": "stream",
     "text": [
      "INFO:tensorflow:acc per class {'0_color': 1.0, 'random500_7': 1.0, 'overall': 1.0}\n"
     ]
    },
    {
     "name": "stderr",
     "output_type": "stream",
     "text": [
      "INFO:tensorflow:acc per class {'0_color': 1.0, 'random500_7': 1.0, 'overall': 1.0}\n"
     ]
    },
    {
     "name": "stdout",
     "output_type": "stream",
     "text": [
      "INFO:tensorflow:CAV accuracies: {'0_color': 1.0, 'random500_7': 1.0, 'overall': 1.0}\n"
     ]
    },
    {
     "name": "stderr",
     "output_type": "stream",
     "text": [
      "INFO:tensorflow:CAV accuracies: {'0_color': 1.0, 'random500_7': 1.0, 'overall': 1.0}\n"
     ]
    },
    {
     "name": "stdout",
     "output_type": "stream",
     "text": [
      "INFO:tensorflow:Running param 8 of 10\n"
     ]
    },
    {
     "name": "stderr",
     "output_type": "stream",
     "text": [
      "INFO:tensorflow:Running param 8 of 10\n"
     ]
    },
    {
     "name": "stdout",
     "output_type": "stream",
     "text": [
      "INFO:tensorflow:running zebra ['0_color', 'random500_8']\n"
     ]
    },
    {
     "name": "stderr",
     "output_type": "stream",
     "text": [
      "INFO:tensorflow:running zebra ['0_color', 'random500_8']\n"
     ]
    },
    {
     "name": "stdout",
     "output_type": "stream",
     "text": [
      "INFO:tensorflow:Loaded ./results/activations/acts_0_color_mixed4c shape (20, 14, 14, 512)\n"
     ]
    },
    {
     "name": "stderr",
     "output_type": "stream",
     "text": [
      "INFO:tensorflow:Loaded ./results/activations/acts_0_color_mixed4c shape (20, 14, 14, 512)\n"
     ]
    },
    {
     "name": "stdout",
     "output_type": "stream",
     "text": [
      "INFO:tensorflow:Loaded ./results/activations/acts_random500_8_mixed4c shape (50, 14, 14, 512)\n"
     ]
    },
    {
     "name": "stderr",
     "output_type": "stream",
     "text": [
      "INFO:tensorflow:Loaded ./results/activations/acts_random500_8_mixed4c shape (50, 14, 14, 512)\n"
     ]
    },
    {
     "name": "stdout",
     "output_type": "stream",
     "text": [
      "INFO:tensorflow:Loaded ./results/activations/acts_zebra_mixed4c shape (5, 14, 14, 512)\n"
     ]
    },
    {
     "name": "stderr",
     "output_type": "stream",
     "text": [
      "INFO:tensorflow:Loaded ./results/activations/acts_zebra_mixed4c shape (5, 14, 14, 512)\n"
     ]
    },
    {
     "name": "stdout",
     "output_type": "stream",
     "text": [
      "INFO:tensorflow:Training CAV ['0_color', 'random500_8'] - mixed4c alpha 0.1\n"
     ]
    },
    {
     "name": "stderr",
     "output_type": "stream",
     "text": [
      "INFO:tensorflow:Training CAV ['0_color', 'random500_8'] - mixed4c alpha 0.1\n"
     ]
    },
    {
     "name": "stdout",
     "output_type": "stream",
     "text": [
      "INFO:tensorflow:training with alpha=0.1\n"
     ]
    },
    {
     "name": "stderr",
     "output_type": "stream",
     "text": [
      "INFO:tensorflow:training with alpha=0.1\n"
     ]
    },
    {
     "name": "stdout",
     "output_type": "stream",
     "text": [
      "INFO:tensorflow:acc per class {'0_color': 1.0, 'random500_8': 1.0, 'overall': 1.0}\n"
     ]
    },
    {
     "name": "stderr",
     "output_type": "stream",
     "text": [
      "INFO:tensorflow:acc per class {'0_color': 1.0, 'random500_8': 1.0, 'overall': 1.0}\n"
     ]
    },
    {
     "name": "stdout",
     "output_type": "stream",
     "text": [
      "INFO:tensorflow:CAV accuracies: {'0_color': 1.0, 'random500_8': 1.0, 'overall': 1.0}\n"
     ]
    },
    {
     "name": "stderr",
     "output_type": "stream",
     "text": [
      "INFO:tensorflow:CAV accuracies: {'0_color': 1.0, 'random500_8': 1.0, 'overall': 1.0}\n"
     ]
    },
    {
     "name": "stdout",
     "output_type": "stream",
     "text": [
      "INFO:tensorflow:Running param 9 of 10\n"
     ]
    },
    {
     "name": "stderr",
     "output_type": "stream",
     "text": [
      "INFO:tensorflow:Running param 9 of 10\n"
     ]
    },
    {
     "name": "stdout",
     "output_type": "stream",
     "text": [
      "INFO:tensorflow:running zebra ['0_color', 'random500_9']\n"
     ]
    },
    {
     "name": "stderr",
     "output_type": "stream",
     "text": [
      "INFO:tensorflow:running zebra ['0_color', 'random500_9']\n"
     ]
    },
    {
     "name": "stdout",
     "output_type": "stream",
     "text": [
      "INFO:tensorflow:Loaded ./results/activations/acts_0_color_mixed4c shape (20, 14, 14, 512)\n"
     ]
    },
    {
     "name": "stderr",
     "output_type": "stream",
     "text": [
      "INFO:tensorflow:Loaded ./results/activations/acts_0_color_mixed4c shape (20, 14, 14, 512)\n"
     ]
    },
    {
     "name": "stdout",
     "output_type": "stream",
     "text": [
      "INFO:tensorflow:Loaded ./results/activations/acts_random500_9_mixed4c shape (50, 14, 14, 512)\n"
     ]
    },
    {
     "name": "stderr",
     "output_type": "stream",
     "text": [
      "INFO:tensorflow:Loaded ./results/activations/acts_random500_9_mixed4c shape (50, 14, 14, 512)\n"
     ]
    },
    {
     "name": "stdout",
     "output_type": "stream",
     "text": [
      "INFO:tensorflow:Loaded ./results/activations/acts_zebra_mixed4c shape (5, 14, 14, 512)\n"
     ]
    },
    {
     "name": "stderr",
     "output_type": "stream",
     "text": [
      "INFO:tensorflow:Loaded ./results/activations/acts_zebra_mixed4c shape (5, 14, 14, 512)\n"
     ]
    },
    {
     "name": "stdout",
     "output_type": "stream",
     "text": [
      "INFO:tensorflow:Training CAV ['0_color', 'random500_9'] - mixed4c alpha 0.1\n"
     ]
    },
    {
     "name": "stderr",
     "output_type": "stream",
     "text": [
      "INFO:tensorflow:Training CAV ['0_color', 'random500_9'] - mixed4c alpha 0.1\n"
     ]
    },
    {
     "name": "stdout",
     "output_type": "stream",
     "text": [
      "INFO:tensorflow:training with alpha=0.1\n"
     ]
    },
    {
     "name": "stderr",
     "output_type": "stream",
     "text": [
      "INFO:tensorflow:training with alpha=0.1\n"
     ]
    },
    {
     "name": "stdout",
     "output_type": "stream",
     "text": [
      "INFO:tensorflow:acc per class {'0_color': 1.0, 'random500_9': 1.0, 'overall': 1.0}\n"
     ]
    },
    {
     "name": "stderr",
     "output_type": "stream",
     "text": [
      "INFO:tensorflow:acc per class {'0_color': 1.0, 'random500_9': 1.0, 'overall': 1.0}\n"
     ]
    },
    {
     "name": "stdout",
     "output_type": "stream",
     "text": [
      "INFO:tensorflow:CAV accuracies: {'0_color': 1.0, 'random500_9': 1.0, 'overall': 1.0}\n"
     ]
    },
    {
     "name": "stderr",
     "output_type": "stream",
     "text": [
      "INFO:tensorflow:CAV accuracies: {'0_color': 1.0, 'random500_9': 1.0, 'overall': 1.0}\n"
     ]
    },
    {
     "name": "stdout",
     "output_type": "stream",
     "text": [
      "INFO:tensorflow:Done running 10 params. Took 18.45456600189209 seconds...\n"
     ]
    },
    {
     "name": "stderr",
     "output_type": "stream",
     "text": [
      "INFO:tensorflow:Done running 10 params. Took 18.45456600189209 seconds...\n"
     ]
    },
    {
     "name": "stdout",
     "output_type": "stream",
     "text": [
      "0_color _image_responsiveness\n"
     ]
    },
    {
     "name": "stderr",
     "output_type": "stream",
     "text": [
      "/auto/homes/njr61/environments/mambaforge/envs/concepts/lib/python3.7/site-packages/tensorflow/python/client/session.py:1769: UserWarning: An interactive session is already active. This can cause out-of-memory errors in some cases. You must explicitly call `InteractiveSession.close()` to release resources held by the other session(s).\n",
      "  warnings.warn('An interactive session is already active. This can '\n"
     ]
    },
    {
     "name": "stdout",
     "output_type": "stream",
     "text": [
      "INFO:tensorflow:mixed4c ['0_color', 'random500_0'] zebra 0.1\n"
     ]
    },
    {
     "name": "stderr",
     "output_type": "stream",
     "text": [
      "INFO:tensorflow:mixed4c ['0_color', 'random500_0'] zebra 0.1\n"
     ]
    },
    {
     "name": "stdout",
     "output_type": "stream",
     "text": [
      "INFO:tensorflow:mixed4c ['0_color', 'random500_1'] zebra 0.1\n"
     ]
    },
    {
     "name": "stderr",
     "output_type": "stream",
     "text": [
      "INFO:tensorflow:mixed4c ['0_color', 'random500_1'] zebra 0.1\n"
     ]
    },
    {
     "name": "stdout",
     "output_type": "stream",
     "text": [
      "INFO:tensorflow:mixed4c ['0_color', 'random500_2'] zebra 0.1\n"
     ]
    },
    {
     "name": "stderr",
     "output_type": "stream",
     "text": [
      "INFO:tensorflow:mixed4c ['0_color', 'random500_2'] zebra 0.1\n"
     ]
    },
    {
     "name": "stdout",
     "output_type": "stream",
     "text": [
      "INFO:tensorflow:mixed4c ['0_color', 'random500_3'] zebra 0.1\n"
     ]
    },
    {
     "name": "stderr",
     "output_type": "stream",
     "text": [
      "INFO:tensorflow:mixed4c ['0_color', 'random500_3'] zebra 0.1\n"
     ]
    },
    {
     "name": "stdout",
     "output_type": "stream",
     "text": [
      "INFO:tensorflow:mixed4c ['0_color', 'random500_4'] zebra 0.1\n"
     ]
    },
    {
     "name": "stderr",
     "output_type": "stream",
     "text": [
      "INFO:tensorflow:mixed4c ['0_color', 'random500_4'] zebra 0.1\n"
     ]
    },
    {
     "name": "stdout",
     "output_type": "stream",
     "text": [
      "INFO:tensorflow:mixed4c ['0_color', 'random500_5'] zebra 0.1\n"
     ]
    },
    {
     "name": "stderr",
     "output_type": "stream",
     "text": [
      "INFO:tensorflow:mixed4c ['0_color', 'random500_5'] zebra 0.1\n"
     ]
    },
    {
     "name": "stdout",
     "output_type": "stream",
     "text": [
      "INFO:tensorflow:mixed4c ['0_color', 'random500_6'] zebra 0.1\n"
     ]
    },
    {
     "name": "stderr",
     "output_type": "stream",
     "text": [
      "INFO:tensorflow:mixed4c ['0_color', 'random500_6'] zebra 0.1\n"
     ]
    },
    {
     "name": "stdout",
     "output_type": "stream",
     "text": [
      "INFO:tensorflow:mixed4c ['0_color', 'random500_7'] zebra 0.1\n"
     ]
    },
    {
     "name": "stderr",
     "output_type": "stream",
     "text": [
      "INFO:tensorflow:mixed4c ['0_color', 'random500_7'] zebra 0.1\n"
     ]
    },
    {
     "name": "stdout",
     "output_type": "stream",
     "text": [
      "INFO:tensorflow:mixed4c ['0_color', 'random500_8'] zebra 0.1\n"
     ]
    },
    {
     "name": "stderr",
     "output_type": "stream",
     "text": [
      "INFO:tensorflow:mixed4c ['0_color', 'random500_8'] zebra 0.1\n"
     ]
    },
    {
     "name": "stdout",
     "output_type": "stream",
     "text": [
      "INFO:tensorflow:mixed4c ['0_color', 'random500_9'] zebra 0.1\n"
     ]
    },
    {
     "name": "stderr",
     "output_type": "stream",
     "text": [
      "INFO:tensorflow:mixed4c ['0_color', 'random500_9'] zebra 0.1\n"
     ]
    },
    {
     "name": "stdout",
     "output_type": "stream",
     "text": [
      "INFO:tensorflow:mixed4c ['random500_0', 'random500_1'] zebra 0.1\n"
     ]
    },
    {
     "name": "stderr",
     "output_type": "stream",
     "text": [
      "INFO:tensorflow:mixed4c ['random500_0', 'random500_1'] zebra 0.1\n"
     ]
    },
    {
     "name": "stdout",
     "output_type": "stream",
     "text": [
      "INFO:tensorflow:mixed4c ['random500_0', 'random500_2'] zebra 0.1\n"
     ]
    },
    {
     "name": "stderr",
     "output_type": "stream",
     "text": [
      "INFO:tensorflow:mixed4c ['random500_0', 'random500_2'] zebra 0.1\n"
     ]
    },
    {
     "name": "stdout",
     "output_type": "stream",
     "text": [
      "INFO:tensorflow:mixed4c ['random500_0', 'random500_3'] zebra 0.1\n"
     ]
    },
    {
     "name": "stderr",
     "output_type": "stream",
     "text": [
      "INFO:tensorflow:mixed4c ['random500_0', 'random500_3'] zebra 0.1\n"
     ]
    },
    {
     "name": "stdout",
     "output_type": "stream",
     "text": [
      "INFO:tensorflow:mixed4c ['random500_0', 'random500_4'] zebra 0.1\n"
     ]
    },
    {
     "name": "stderr",
     "output_type": "stream",
     "text": [
      "INFO:tensorflow:mixed4c ['random500_0', 'random500_4'] zebra 0.1\n"
     ]
    },
    {
     "name": "stdout",
     "output_type": "stream",
     "text": [
      "INFO:tensorflow:mixed4c ['random500_0', 'random500_5'] zebra 0.1\n"
     ]
    },
    {
     "name": "stderr",
     "output_type": "stream",
     "text": [
      "INFO:tensorflow:mixed4c ['random500_0', 'random500_5'] zebra 0.1\n"
     ]
    },
    {
     "name": "stdout",
     "output_type": "stream",
     "text": [
      "INFO:tensorflow:mixed4c ['random500_0', 'random500_6'] zebra 0.1\n"
     ]
    },
    {
     "name": "stderr",
     "output_type": "stream",
     "text": [
      "INFO:tensorflow:mixed4c ['random500_0', 'random500_6'] zebra 0.1\n"
     ]
    },
    {
     "name": "stdout",
     "output_type": "stream",
     "text": [
      "INFO:tensorflow:mixed4c ['random500_0', 'random500_7'] zebra 0.1\n"
     ]
    },
    {
     "name": "stderr",
     "output_type": "stream",
     "text": [
      "INFO:tensorflow:mixed4c ['random500_0', 'random500_7'] zebra 0.1\n"
     ]
    },
    {
     "name": "stdout",
     "output_type": "stream",
     "text": [
      "INFO:tensorflow:mixed4c ['random500_0', 'random500_8'] zebra 0.1\n"
     ]
    },
    {
     "name": "stderr",
     "output_type": "stream",
     "text": [
      "INFO:tensorflow:mixed4c ['random500_0', 'random500_8'] zebra 0.1\n"
     ]
    },
    {
     "name": "stdout",
     "output_type": "stream",
     "text": [
      "INFO:tensorflow:mixed4c ['random500_0', 'random500_9'] zebra 0.1\n"
     ]
    },
    {
     "name": "stderr",
     "output_type": "stream",
     "text": [
      "INFO:tensorflow:mixed4c ['random500_0', 'random500_9'] zebra 0.1\n"
     ]
    },
    {
     "name": "stdout",
     "output_type": "stream",
     "text": [
      "INFO:tensorflow:mixed4c ['random500_1', 'random500_0'] zebra 0.1\n"
     ]
    },
    {
     "name": "stderr",
     "output_type": "stream",
     "text": [
      "INFO:tensorflow:mixed4c ['random500_1', 'random500_0'] zebra 0.1\n"
     ]
    },
    {
     "name": "stdout",
     "output_type": "stream",
     "text": [
      "INFO:tensorflow:mixed4c ['random500_1', 'random500_2'] zebra 0.1\n"
     ]
    },
    {
     "name": "stderr",
     "output_type": "stream",
     "text": [
      "INFO:tensorflow:mixed4c ['random500_1', 'random500_2'] zebra 0.1\n"
     ]
    },
    {
     "name": "stdout",
     "output_type": "stream",
     "text": [
      "INFO:tensorflow:mixed4c ['random500_1', 'random500_3'] zebra 0.1\n"
     ]
    },
    {
     "name": "stderr",
     "output_type": "stream",
     "text": [
      "INFO:tensorflow:mixed4c ['random500_1', 'random500_3'] zebra 0.1\n"
     ]
    },
    {
     "name": "stdout",
     "output_type": "stream",
     "text": [
      "INFO:tensorflow:mixed4c ['random500_1', 'random500_4'] zebra 0.1\n"
     ]
    },
    {
     "name": "stderr",
     "output_type": "stream",
     "text": [
      "INFO:tensorflow:mixed4c ['random500_1', 'random500_4'] zebra 0.1\n"
     ]
    },
    {
     "name": "stdout",
     "output_type": "stream",
     "text": [
      "INFO:tensorflow:mixed4c ['random500_1', 'random500_5'] zebra 0.1\n"
     ]
    },
    {
     "name": "stderr",
     "output_type": "stream",
     "text": [
      "INFO:tensorflow:mixed4c ['random500_1', 'random500_5'] zebra 0.1\n"
     ]
    },
    {
     "name": "stdout",
     "output_type": "stream",
     "text": [
      "INFO:tensorflow:mixed4c ['random500_1', 'random500_6'] zebra 0.1\n"
     ]
    },
    {
     "name": "stderr",
     "output_type": "stream",
     "text": [
      "INFO:tensorflow:mixed4c ['random500_1', 'random500_6'] zebra 0.1\n"
     ]
    },
    {
     "name": "stdout",
     "output_type": "stream",
     "text": [
      "INFO:tensorflow:mixed4c ['random500_1', 'random500_7'] zebra 0.1\n"
     ]
    },
    {
     "name": "stderr",
     "output_type": "stream",
     "text": [
      "INFO:tensorflow:mixed4c ['random500_1', 'random500_7'] zebra 0.1\n"
     ]
    },
    {
     "name": "stdout",
     "output_type": "stream",
     "text": [
      "INFO:tensorflow:mixed4c ['random500_1', 'random500_8'] zebra 0.1\n"
     ]
    },
    {
     "name": "stderr",
     "output_type": "stream",
     "text": [
      "INFO:tensorflow:mixed4c ['random500_1', 'random500_8'] zebra 0.1\n"
     ]
    },
    {
     "name": "stdout",
     "output_type": "stream",
     "text": [
      "INFO:tensorflow:mixed4c ['random500_1', 'random500_9'] zebra 0.1\n"
     ]
    },
    {
     "name": "stderr",
     "output_type": "stream",
     "text": [
      "INFO:tensorflow:mixed4c ['random500_1', 'random500_9'] zebra 0.1\n"
     ]
    },
    {
     "name": "stdout",
     "output_type": "stream",
     "text": [
      "INFO:tensorflow:mixed4c ['random500_2', 'random500_0'] zebra 0.1\n"
     ]
    },
    {
     "name": "stderr",
     "output_type": "stream",
     "text": [
      "INFO:tensorflow:mixed4c ['random500_2', 'random500_0'] zebra 0.1\n"
     ]
    },
    {
     "name": "stdout",
     "output_type": "stream",
     "text": [
      "INFO:tensorflow:mixed4c ['random500_2', 'random500_1'] zebra 0.1\n"
     ]
    },
    {
     "name": "stderr",
     "output_type": "stream",
     "text": [
      "INFO:tensorflow:mixed4c ['random500_2', 'random500_1'] zebra 0.1\n"
     ]
    },
    {
     "name": "stdout",
     "output_type": "stream",
     "text": [
      "INFO:tensorflow:mixed4c ['random500_2', 'random500_3'] zebra 0.1\n"
     ]
    },
    {
     "name": "stderr",
     "output_type": "stream",
     "text": [
      "INFO:tensorflow:mixed4c ['random500_2', 'random500_3'] zebra 0.1\n"
     ]
    },
    {
     "name": "stdout",
     "output_type": "stream",
     "text": [
      "INFO:tensorflow:mixed4c ['random500_2', 'random500_4'] zebra 0.1\n"
     ]
    },
    {
     "name": "stderr",
     "output_type": "stream",
     "text": [
      "INFO:tensorflow:mixed4c ['random500_2', 'random500_4'] zebra 0.1\n"
     ]
    },
    {
     "name": "stdout",
     "output_type": "stream",
     "text": [
      "INFO:tensorflow:mixed4c ['random500_2', 'random500_5'] zebra 0.1\n"
     ]
    },
    {
     "name": "stderr",
     "output_type": "stream",
     "text": [
      "INFO:tensorflow:mixed4c ['random500_2', 'random500_5'] zebra 0.1\n"
     ]
    },
    {
     "name": "stdout",
     "output_type": "stream",
     "text": [
      "INFO:tensorflow:mixed4c ['random500_2', 'random500_6'] zebra 0.1\n"
     ]
    },
    {
     "name": "stderr",
     "output_type": "stream",
     "text": [
      "INFO:tensorflow:mixed4c ['random500_2', 'random500_6'] zebra 0.1\n"
     ]
    },
    {
     "name": "stdout",
     "output_type": "stream",
     "text": [
      "INFO:tensorflow:mixed4c ['random500_2', 'random500_7'] zebra 0.1\n"
     ]
    },
    {
     "name": "stderr",
     "output_type": "stream",
     "text": [
      "INFO:tensorflow:mixed4c ['random500_2', 'random500_7'] zebra 0.1\n"
     ]
    },
    {
     "name": "stdout",
     "output_type": "stream",
     "text": [
      "INFO:tensorflow:mixed4c ['random500_2', 'random500_8'] zebra 0.1\n"
     ]
    },
    {
     "name": "stderr",
     "output_type": "stream",
     "text": [
      "INFO:tensorflow:mixed4c ['random500_2', 'random500_8'] zebra 0.1\n"
     ]
    },
    {
     "name": "stdout",
     "output_type": "stream",
     "text": [
      "INFO:tensorflow:mixed4c ['random500_2', 'random500_9'] zebra 0.1\n"
     ]
    },
    {
     "name": "stderr",
     "output_type": "stream",
     "text": [
      "INFO:tensorflow:mixed4c ['random500_2', 'random500_9'] zebra 0.1\n"
     ]
    },
    {
     "name": "stdout",
     "output_type": "stream",
     "text": [
      "INFO:tensorflow:mixed4c ['random500_3', 'random500_0'] zebra 0.1\n"
     ]
    },
    {
     "name": "stderr",
     "output_type": "stream",
     "text": [
      "INFO:tensorflow:mixed4c ['random500_3', 'random500_0'] zebra 0.1\n"
     ]
    },
    {
     "name": "stdout",
     "output_type": "stream",
     "text": [
      "INFO:tensorflow:mixed4c ['random500_3', 'random500_1'] zebra 0.1\n"
     ]
    },
    {
     "name": "stderr",
     "output_type": "stream",
     "text": [
      "INFO:tensorflow:mixed4c ['random500_3', 'random500_1'] zebra 0.1\n"
     ]
    },
    {
     "name": "stdout",
     "output_type": "stream",
     "text": [
      "INFO:tensorflow:mixed4c ['random500_3', 'random500_2'] zebra 0.1\n"
     ]
    },
    {
     "name": "stderr",
     "output_type": "stream",
     "text": [
      "INFO:tensorflow:mixed4c ['random500_3', 'random500_2'] zebra 0.1\n"
     ]
    },
    {
     "name": "stdout",
     "output_type": "stream",
     "text": [
      "INFO:tensorflow:mixed4c ['random500_3', 'random500_4'] zebra 0.1\n"
     ]
    },
    {
     "name": "stderr",
     "output_type": "stream",
     "text": [
      "INFO:tensorflow:mixed4c ['random500_3', 'random500_4'] zebra 0.1\n"
     ]
    },
    {
     "name": "stdout",
     "output_type": "stream",
     "text": [
      "INFO:tensorflow:mixed4c ['random500_3', 'random500_5'] zebra 0.1\n"
     ]
    },
    {
     "name": "stderr",
     "output_type": "stream",
     "text": [
      "INFO:tensorflow:mixed4c ['random500_3', 'random500_5'] zebra 0.1\n"
     ]
    },
    {
     "name": "stdout",
     "output_type": "stream",
     "text": [
      "INFO:tensorflow:mixed4c ['random500_3', 'random500_6'] zebra 0.1\n"
     ]
    },
    {
     "name": "stderr",
     "output_type": "stream",
     "text": [
      "INFO:tensorflow:mixed4c ['random500_3', 'random500_6'] zebra 0.1\n"
     ]
    },
    {
     "name": "stdout",
     "output_type": "stream",
     "text": [
      "INFO:tensorflow:mixed4c ['random500_3', 'random500_7'] zebra 0.1\n"
     ]
    },
    {
     "name": "stderr",
     "output_type": "stream",
     "text": [
      "INFO:tensorflow:mixed4c ['random500_3', 'random500_7'] zebra 0.1\n"
     ]
    },
    {
     "name": "stdout",
     "output_type": "stream",
     "text": [
      "INFO:tensorflow:mixed4c ['random500_3', 'random500_8'] zebra 0.1\n"
     ]
    },
    {
     "name": "stderr",
     "output_type": "stream",
     "text": [
      "INFO:tensorflow:mixed4c ['random500_3', 'random500_8'] zebra 0.1\n"
     ]
    },
    {
     "name": "stdout",
     "output_type": "stream",
     "text": [
      "INFO:tensorflow:mixed4c ['random500_3', 'random500_9'] zebra 0.1\n"
     ]
    },
    {
     "name": "stderr",
     "output_type": "stream",
     "text": [
      "INFO:tensorflow:mixed4c ['random500_3', 'random500_9'] zebra 0.1\n"
     ]
    },
    {
     "name": "stdout",
     "output_type": "stream",
     "text": [
      "INFO:tensorflow:mixed4c ['random500_4', 'random500_0'] zebra 0.1\n"
     ]
    },
    {
     "name": "stderr",
     "output_type": "stream",
     "text": [
      "INFO:tensorflow:mixed4c ['random500_4', 'random500_0'] zebra 0.1\n"
     ]
    },
    {
     "name": "stdout",
     "output_type": "stream",
     "text": [
      "INFO:tensorflow:mixed4c ['random500_4', 'random500_1'] zebra 0.1\n"
     ]
    },
    {
     "name": "stderr",
     "output_type": "stream",
     "text": [
      "INFO:tensorflow:mixed4c ['random500_4', 'random500_1'] zebra 0.1\n"
     ]
    },
    {
     "name": "stdout",
     "output_type": "stream",
     "text": [
      "INFO:tensorflow:mixed4c ['random500_4', 'random500_2'] zebra 0.1\n"
     ]
    },
    {
     "name": "stderr",
     "output_type": "stream",
     "text": [
      "INFO:tensorflow:mixed4c ['random500_4', 'random500_2'] zebra 0.1\n"
     ]
    },
    {
     "name": "stdout",
     "output_type": "stream",
     "text": [
      "INFO:tensorflow:mixed4c ['random500_4', 'random500_3'] zebra 0.1\n"
     ]
    },
    {
     "name": "stderr",
     "output_type": "stream",
     "text": [
      "INFO:tensorflow:mixed4c ['random500_4', 'random500_3'] zebra 0.1\n"
     ]
    },
    {
     "name": "stdout",
     "output_type": "stream",
     "text": [
      "INFO:tensorflow:mixed4c ['random500_4', 'random500_5'] zebra 0.1\n"
     ]
    },
    {
     "name": "stderr",
     "output_type": "stream",
     "text": [
      "INFO:tensorflow:mixed4c ['random500_4', 'random500_5'] zebra 0.1\n"
     ]
    },
    {
     "name": "stdout",
     "output_type": "stream",
     "text": [
      "INFO:tensorflow:mixed4c ['random500_4', 'random500_6'] zebra 0.1\n"
     ]
    },
    {
     "name": "stderr",
     "output_type": "stream",
     "text": [
      "INFO:tensorflow:mixed4c ['random500_4', 'random500_6'] zebra 0.1\n"
     ]
    },
    {
     "name": "stdout",
     "output_type": "stream",
     "text": [
      "INFO:tensorflow:mixed4c ['random500_4', 'random500_7'] zebra 0.1\n"
     ]
    },
    {
     "name": "stderr",
     "output_type": "stream",
     "text": [
      "INFO:tensorflow:mixed4c ['random500_4', 'random500_7'] zebra 0.1\n"
     ]
    },
    {
     "name": "stdout",
     "output_type": "stream",
     "text": [
      "INFO:tensorflow:mixed4c ['random500_4', 'random500_8'] zebra 0.1\n"
     ]
    },
    {
     "name": "stderr",
     "output_type": "stream",
     "text": [
      "INFO:tensorflow:mixed4c ['random500_4', 'random500_8'] zebra 0.1\n"
     ]
    },
    {
     "name": "stdout",
     "output_type": "stream",
     "text": [
      "INFO:tensorflow:mixed4c ['random500_4', 'random500_9'] zebra 0.1\n"
     ]
    },
    {
     "name": "stderr",
     "output_type": "stream",
     "text": [
      "INFO:tensorflow:mixed4c ['random500_4', 'random500_9'] zebra 0.1\n"
     ]
    },
    {
     "name": "stdout",
     "output_type": "stream",
     "text": [
      "INFO:tensorflow:mixed4c ['random500_5', 'random500_0'] zebra 0.1\n"
     ]
    },
    {
     "name": "stderr",
     "output_type": "stream",
     "text": [
      "INFO:tensorflow:mixed4c ['random500_5', 'random500_0'] zebra 0.1\n"
     ]
    },
    {
     "name": "stdout",
     "output_type": "stream",
     "text": [
      "INFO:tensorflow:mixed4c ['random500_5', 'random500_1'] zebra 0.1\n"
     ]
    },
    {
     "name": "stderr",
     "output_type": "stream",
     "text": [
      "INFO:tensorflow:mixed4c ['random500_5', 'random500_1'] zebra 0.1\n"
     ]
    },
    {
     "name": "stdout",
     "output_type": "stream",
     "text": [
      "INFO:tensorflow:mixed4c ['random500_5', 'random500_2'] zebra 0.1\n"
     ]
    },
    {
     "name": "stderr",
     "output_type": "stream",
     "text": [
      "INFO:tensorflow:mixed4c ['random500_5', 'random500_2'] zebra 0.1\n"
     ]
    },
    {
     "name": "stdout",
     "output_type": "stream",
     "text": [
      "INFO:tensorflow:mixed4c ['random500_5', 'random500_3'] zebra 0.1\n"
     ]
    },
    {
     "name": "stderr",
     "output_type": "stream",
     "text": [
      "INFO:tensorflow:mixed4c ['random500_5', 'random500_3'] zebra 0.1\n"
     ]
    },
    {
     "name": "stdout",
     "output_type": "stream",
     "text": [
      "INFO:tensorflow:mixed4c ['random500_5', 'random500_4'] zebra 0.1\n"
     ]
    },
    {
     "name": "stderr",
     "output_type": "stream",
     "text": [
      "INFO:tensorflow:mixed4c ['random500_5', 'random500_4'] zebra 0.1\n"
     ]
    },
    {
     "name": "stdout",
     "output_type": "stream",
     "text": [
      "INFO:tensorflow:mixed4c ['random500_5', 'random500_6'] zebra 0.1\n"
     ]
    },
    {
     "name": "stderr",
     "output_type": "stream",
     "text": [
      "INFO:tensorflow:mixed4c ['random500_5', 'random500_6'] zebra 0.1\n"
     ]
    },
    {
     "name": "stdout",
     "output_type": "stream",
     "text": [
      "INFO:tensorflow:mixed4c ['random500_5', 'random500_7'] zebra 0.1\n"
     ]
    },
    {
     "name": "stderr",
     "output_type": "stream",
     "text": [
      "INFO:tensorflow:mixed4c ['random500_5', 'random500_7'] zebra 0.1\n"
     ]
    },
    {
     "name": "stdout",
     "output_type": "stream",
     "text": [
      "INFO:tensorflow:mixed4c ['random500_5', 'random500_8'] zebra 0.1\n"
     ]
    },
    {
     "name": "stderr",
     "output_type": "stream",
     "text": [
      "INFO:tensorflow:mixed4c ['random500_5', 'random500_8'] zebra 0.1\n"
     ]
    },
    {
     "name": "stdout",
     "output_type": "stream",
     "text": [
      "INFO:tensorflow:mixed4c ['random500_5', 'random500_9'] zebra 0.1\n"
     ]
    },
    {
     "name": "stderr",
     "output_type": "stream",
     "text": [
      "INFO:tensorflow:mixed4c ['random500_5', 'random500_9'] zebra 0.1\n"
     ]
    },
    {
     "name": "stdout",
     "output_type": "stream",
     "text": [
      "INFO:tensorflow:mixed4c ['random500_6', 'random500_0'] zebra 0.1\n"
     ]
    },
    {
     "name": "stderr",
     "output_type": "stream",
     "text": [
      "INFO:tensorflow:mixed4c ['random500_6', 'random500_0'] zebra 0.1\n"
     ]
    },
    {
     "name": "stdout",
     "output_type": "stream",
     "text": [
      "INFO:tensorflow:mixed4c ['random500_6', 'random500_1'] zebra 0.1\n"
     ]
    },
    {
     "name": "stderr",
     "output_type": "stream",
     "text": [
      "INFO:tensorflow:mixed4c ['random500_6', 'random500_1'] zebra 0.1\n"
     ]
    },
    {
     "name": "stdout",
     "output_type": "stream",
     "text": [
      "INFO:tensorflow:mixed4c ['random500_6', 'random500_2'] zebra 0.1\n"
     ]
    },
    {
     "name": "stderr",
     "output_type": "stream",
     "text": [
      "INFO:tensorflow:mixed4c ['random500_6', 'random500_2'] zebra 0.1\n"
     ]
    },
    {
     "name": "stdout",
     "output_type": "stream",
     "text": [
      "INFO:tensorflow:mixed4c ['random500_6', 'random500_3'] zebra 0.1\n"
     ]
    },
    {
     "name": "stderr",
     "output_type": "stream",
     "text": [
      "INFO:tensorflow:mixed4c ['random500_6', 'random500_3'] zebra 0.1\n"
     ]
    },
    {
     "name": "stdout",
     "output_type": "stream",
     "text": [
      "INFO:tensorflow:mixed4c ['random500_6', 'random500_4'] zebra 0.1\n"
     ]
    },
    {
     "name": "stderr",
     "output_type": "stream",
     "text": [
      "INFO:tensorflow:mixed4c ['random500_6', 'random500_4'] zebra 0.1\n"
     ]
    },
    {
     "name": "stdout",
     "output_type": "stream",
     "text": [
      "INFO:tensorflow:mixed4c ['random500_6', 'random500_5'] zebra 0.1\n"
     ]
    },
    {
     "name": "stderr",
     "output_type": "stream",
     "text": [
      "INFO:tensorflow:mixed4c ['random500_6', 'random500_5'] zebra 0.1\n"
     ]
    },
    {
     "name": "stdout",
     "output_type": "stream",
     "text": [
      "INFO:tensorflow:mixed4c ['random500_6', 'random500_7'] zebra 0.1\n"
     ]
    },
    {
     "name": "stderr",
     "output_type": "stream",
     "text": [
      "INFO:tensorflow:mixed4c ['random500_6', 'random500_7'] zebra 0.1\n"
     ]
    },
    {
     "name": "stdout",
     "output_type": "stream",
     "text": [
      "INFO:tensorflow:mixed4c ['random500_6', 'random500_8'] zebra 0.1\n"
     ]
    },
    {
     "name": "stderr",
     "output_type": "stream",
     "text": [
      "INFO:tensorflow:mixed4c ['random500_6', 'random500_8'] zebra 0.1\n"
     ]
    },
    {
     "name": "stdout",
     "output_type": "stream",
     "text": [
      "INFO:tensorflow:mixed4c ['random500_6', 'random500_9'] zebra 0.1\n"
     ]
    },
    {
     "name": "stderr",
     "output_type": "stream",
     "text": [
      "INFO:tensorflow:mixed4c ['random500_6', 'random500_9'] zebra 0.1\n"
     ]
    },
    {
     "name": "stdout",
     "output_type": "stream",
     "text": [
      "INFO:tensorflow:mixed4c ['random500_7', 'random500_0'] zebra 0.1\n"
     ]
    },
    {
     "name": "stderr",
     "output_type": "stream",
     "text": [
      "INFO:tensorflow:mixed4c ['random500_7', 'random500_0'] zebra 0.1\n"
     ]
    },
    {
     "name": "stdout",
     "output_type": "stream",
     "text": [
      "INFO:tensorflow:mixed4c ['random500_7', 'random500_1'] zebra 0.1\n"
     ]
    },
    {
     "name": "stderr",
     "output_type": "stream",
     "text": [
      "INFO:tensorflow:mixed4c ['random500_7', 'random500_1'] zebra 0.1\n"
     ]
    },
    {
     "name": "stdout",
     "output_type": "stream",
     "text": [
      "INFO:tensorflow:mixed4c ['random500_7', 'random500_2'] zebra 0.1\n"
     ]
    },
    {
     "name": "stderr",
     "output_type": "stream",
     "text": [
      "INFO:tensorflow:mixed4c ['random500_7', 'random500_2'] zebra 0.1\n"
     ]
    },
    {
     "name": "stdout",
     "output_type": "stream",
     "text": [
      "INFO:tensorflow:mixed4c ['random500_7', 'random500_3'] zebra 0.1\n"
     ]
    },
    {
     "name": "stderr",
     "output_type": "stream",
     "text": [
      "INFO:tensorflow:mixed4c ['random500_7', 'random500_3'] zebra 0.1\n"
     ]
    },
    {
     "name": "stdout",
     "output_type": "stream",
     "text": [
      "INFO:tensorflow:mixed4c ['random500_7', 'random500_4'] zebra 0.1\n"
     ]
    },
    {
     "name": "stderr",
     "output_type": "stream",
     "text": [
      "INFO:tensorflow:mixed4c ['random500_7', 'random500_4'] zebra 0.1\n"
     ]
    },
    {
     "name": "stdout",
     "output_type": "stream",
     "text": [
      "INFO:tensorflow:mixed4c ['random500_7', 'random500_5'] zebra 0.1\n"
     ]
    },
    {
     "name": "stderr",
     "output_type": "stream",
     "text": [
      "INFO:tensorflow:mixed4c ['random500_7', 'random500_5'] zebra 0.1\n"
     ]
    },
    {
     "name": "stdout",
     "output_type": "stream",
     "text": [
      "INFO:tensorflow:mixed4c ['random500_7', 'random500_6'] zebra 0.1\n"
     ]
    },
    {
     "name": "stderr",
     "output_type": "stream",
     "text": [
      "INFO:tensorflow:mixed4c ['random500_7', 'random500_6'] zebra 0.1\n"
     ]
    },
    {
     "name": "stdout",
     "output_type": "stream",
     "text": [
      "INFO:tensorflow:mixed4c ['random500_7', 'random500_8'] zebra 0.1\n"
     ]
    },
    {
     "name": "stderr",
     "output_type": "stream",
     "text": [
      "INFO:tensorflow:mixed4c ['random500_7', 'random500_8'] zebra 0.1\n"
     ]
    },
    {
     "name": "stdout",
     "output_type": "stream",
     "text": [
      "INFO:tensorflow:mixed4c ['random500_7', 'random500_9'] zebra 0.1\n"
     ]
    },
    {
     "name": "stderr",
     "output_type": "stream",
     "text": [
      "INFO:tensorflow:mixed4c ['random500_7', 'random500_9'] zebra 0.1\n"
     ]
    },
    {
     "name": "stdout",
     "output_type": "stream",
     "text": [
      "INFO:tensorflow:mixed4c ['random500_8', 'random500_0'] zebra 0.1\n"
     ]
    },
    {
     "name": "stderr",
     "output_type": "stream",
     "text": [
      "INFO:tensorflow:mixed4c ['random500_8', 'random500_0'] zebra 0.1\n"
     ]
    },
    {
     "name": "stdout",
     "output_type": "stream",
     "text": [
      "INFO:tensorflow:mixed4c ['random500_8', 'random500_1'] zebra 0.1\n"
     ]
    },
    {
     "name": "stderr",
     "output_type": "stream",
     "text": [
      "INFO:tensorflow:mixed4c ['random500_8', 'random500_1'] zebra 0.1\n"
     ]
    },
    {
     "name": "stdout",
     "output_type": "stream",
     "text": [
      "INFO:tensorflow:mixed4c ['random500_8', 'random500_2'] zebra 0.1\n"
     ]
    },
    {
     "name": "stderr",
     "output_type": "stream",
     "text": [
      "INFO:tensorflow:mixed4c ['random500_8', 'random500_2'] zebra 0.1\n"
     ]
    },
    {
     "name": "stdout",
     "output_type": "stream",
     "text": [
      "INFO:tensorflow:mixed4c ['random500_8', 'random500_3'] zebra 0.1\n"
     ]
    },
    {
     "name": "stderr",
     "output_type": "stream",
     "text": [
      "INFO:tensorflow:mixed4c ['random500_8', 'random500_3'] zebra 0.1\n"
     ]
    },
    {
     "name": "stdout",
     "output_type": "stream",
     "text": [
      "INFO:tensorflow:mixed4c ['random500_8', 'random500_4'] zebra 0.1\n"
     ]
    },
    {
     "name": "stderr",
     "output_type": "stream",
     "text": [
      "INFO:tensorflow:mixed4c ['random500_8', 'random500_4'] zebra 0.1\n"
     ]
    },
    {
     "name": "stdout",
     "output_type": "stream",
     "text": [
      "INFO:tensorflow:mixed4c ['random500_8', 'random500_5'] zebra 0.1\n"
     ]
    },
    {
     "name": "stderr",
     "output_type": "stream",
     "text": [
      "INFO:tensorflow:mixed4c ['random500_8', 'random500_5'] zebra 0.1\n"
     ]
    },
    {
     "name": "stdout",
     "output_type": "stream",
     "text": [
      "INFO:tensorflow:mixed4c ['random500_8', 'random500_6'] zebra 0.1\n"
     ]
    },
    {
     "name": "stderr",
     "output_type": "stream",
     "text": [
      "INFO:tensorflow:mixed4c ['random500_8', 'random500_6'] zebra 0.1\n"
     ]
    },
    {
     "name": "stdout",
     "output_type": "stream",
     "text": [
      "INFO:tensorflow:mixed4c ['random500_8', 'random500_7'] zebra 0.1\n"
     ]
    },
    {
     "name": "stderr",
     "output_type": "stream",
     "text": [
      "INFO:tensorflow:mixed4c ['random500_8', 'random500_7'] zebra 0.1\n"
     ]
    },
    {
     "name": "stdout",
     "output_type": "stream",
     "text": [
      "INFO:tensorflow:mixed4c ['random500_8', 'random500_9'] zebra 0.1\n"
     ]
    },
    {
     "name": "stderr",
     "output_type": "stream",
     "text": [
      "INFO:tensorflow:mixed4c ['random500_8', 'random500_9'] zebra 0.1\n"
     ]
    },
    {
     "name": "stdout",
     "output_type": "stream",
     "text": [
      "INFO:tensorflow:mixed4c ['random500_9', 'random500_0'] zebra 0.1\n"
     ]
    },
    {
     "name": "stderr",
     "output_type": "stream",
     "text": [
      "INFO:tensorflow:mixed4c ['random500_9', 'random500_0'] zebra 0.1\n"
     ]
    },
    {
     "name": "stdout",
     "output_type": "stream",
     "text": [
      "INFO:tensorflow:mixed4c ['random500_9', 'random500_1'] zebra 0.1\n"
     ]
    },
    {
     "name": "stderr",
     "output_type": "stream",
     "text": [
      "INFO:tensorflow:mixed4c ['random500_9', 'random500_1'] zebra 0.1\n"
     ]
    },
    {
     "name": "stdout",
     "output_type": "stream",
     "text": [
      "INFO:tensorflow:mixed4c ['random500_9', 'random500_2'] zebra 0.1\n"
     ]
    },
    {
     "name": "stderr",
     "output_type": "stream",
     "text": [
      "INFO:tensorflow:mixed4c ['random500_9', 'random500_2'] zebra 0.1\n"
     ]
    },
    {
     "name": "stdout",
     "output_type": "stream",
     "text": [
      "INFO:tensorflow:mixed4c ['random500_9', 'random500_3'] zebra 0.1\n"
     ]
    },
    {
     "name": "stderr",
     "output_type": "stream",
     "text": [
      "INFO:tensorflow:mixed4c ['random500_9', 'random500_3'] zebra 0.1\n"
     ]
    },
    {
     "name": "stdout",
     "output_type": "stream",
     "text": [
      "INFO:tensorflow:mixed4c ['random500_9', 'random500_4'] zebra 0.1\n"
     ]
    },
    {
     "name": "stderr",
     "output_type": "stream",
     "text": [
      "INFO:tensorflow:mixed4c ['random500_9', 'random500_4'] zebra 0.1\n"
     ]
    },
    {
     "name": "stdout",
     "output_type": "stream",
     "text": [
      "INFO:tensorflow:mixed4c ['random500_9', 'random500_5'] zebra 0.1\n"
     ]
    },
    {
     "name": "stderr",
     "output_type": "stream",
     "text": [
      "INFO:tensorflow:mixed4c ['random500_9', 'random500_5'] zebra 0.1\n"
     ]
    },
    {
     "name": "stdout",
     "output_type": "stream",
     "text": [
      "INFO:tensorflow:mixed4c ['random500_9', 'random500_6'] zebra 0.1\n"
     ]
    },
    {
     "name": "stderr",
     "output_type": "stream",
     "text": [
      "INFO:tensorflow:mixed4c ['random500_9', 'random500_6'] zebra 0.1\n"
     ]
    },
    {
     "name": "stdout",
     "output_type": "stream",
     "text": [
      "INFO:tensorflow:mixed4c ['random500_9', 'random500_7'] zebra 0.1\n"
     ]
    },
    {
     "name": "stderr",
     "output_type": "stream",
     "text": [
      "INFO:tensorflow:mixed4c ['random500_9', 'random500_7'] zebra 0.1\n"
     ]
    },
    {
     "name": "stdout",
     "output_type": "stream",
     "text": [
      "INFO:tensorflow:mixed4c ['random500_9', 'random500_8'] zebra 0.1\n"
     ]
    },
    {
     "name": "stderr",
     "output_type": "stream",
     "text": [
      "INFO:tensorflow:mixed4c ['random500_9', 'random500_8'] zebra 0.1\n"
     ]
    },
    {
     "name": "stdout",
     "output_type": "stream",
     "text": [
      "INFO:tensorflow:TCAV will 100 params\n"
     ]
    },
    {
     "name": "stderr",
     "output_type": "stream",
     "text": [
      "INFO:tensorflow:TCAV will 100 params\n"
     ]
    },
    {
     "name": "stdout",
     "output_type": "stream",
     "text": [
      "INFO:tensorflow:mixed4c ['0_color', 'random500_0'] zebra 0.1\n"
     ]
    },
    {
     "name": "stderr",
     "output_type": "stream",
     "text": [
      "INFO:tensorflow:mixed4c ['0_color', 'random500_0'] zebra 0.1\n"
     ]
    },
    {
     "name": "stdout",
     "output_type": "stream",
     "text": [
      "INFO:tensorflow:mixed4c ['0_color', 'random500_1'] zebra 0.1\n"
     ]
    },
    {
     "name": "stderr",
     "output_type": "stream",
     "text": [
      "INFO:tensorflow:mixed4c ['0_color', 'random500_1'] zebra 0.1\n"
     ]
    },
    {
     "name": "stdout",
     "output_type": "stream",
     "text": [
      "INFO:tensorflow:mixed4c ['0_color', 'random500_2'] zebra 0.1\n"
     ]
    },
    {
     "name": "stderr",
     "output_type": "stream",
     "text": [
      "INFO:tensorflow:mixed4c ['0_color', 'random500_2'] zebra 0.1\n"
     ]
    },
    {
     "name": "stdout",
     "output_type": "stream",
     "text": [
      "INFO:tensorflow:mixed4c ['0_color', 'random500_3'] zebra 0.1\n"
     ]
    },
    {
     "name": "stderr",
     "output_type": "stream",
     "text": [
      "INFO:tensorflow:mixed4c ['0_color', 'random500_3'] zebra 0.1\n"
     ]
    },
    {
     "name": "stdout",
     "output_type": "stream",
     "text": [
      "INFO:tensorflow:mixed4c ['0_color', 'random500_4'] zebra 0.1\n"
     ]
    },
    {
     "name": "stderr",
     "output_type": "stream",
     "text": [
      "INFO:tensorflow:mixed4c ['0_color', 'random500_4'] zebra 0.1\n"
     ]
    },
    {
     "name": "stdout",
     "output_type": "stream",
     "text": [
      "INFO:tensorflow:mixed4c ['0_color', 'random500_5'] zebra 0.1\n"
     ]
    },
    {
     "name": "stderr",
     "output_type": "stream",
     "text": [
      "INFO:tensorflow:mixed4c ['0_color', 'random500_5'] zebra 0.1\n"
     ]
    },
    {
     "name": "stdout",
     "output_type": "stream",
     "text": [
      "INFO:tensorflow:mixed4c ['0_color', 'random500_6'] zebra 0.1\n"
     ]
    },
    {
     "name": "stderr",
     "output_type": "stream",
     "text": [
      "INFO:tensorflow:mixed4c ['0_color', 'random500_6'] zebra 0.1\n"
     ]
    },
    {
     "name": "stdout",
     "output_type": "stream",
     "text": [
      "INFO:tensorflow:mixed4c ['0_color', 'random500_7'] zebra 0.1\n"
     ]
    },
    {
     "name": "stderr",
     "output_type": "stream",
     "text": [
      "INFO:tensorflow:mixed4c ['0_color', 'random500_7'] zebra 0.1\n"
     ]
    },
    {
     "name": "stdout",
     "output_type": "stream",
     "text": [
      "INFO:tensorflow:mixed4c ['0_color', 'random500_8'] zebra 0.1\n"
     ]
    },
    {
     "name": "stderr",
     "output_type": "stream",
     "text": [
      "INFO:tensorflow:mixed4c ['0_color', 'random500_8'] zebra 0.1\n"
     ]
    },
    {
     "name": "stdout",
     "output_type": "stream",
     "text": [
      "INFO:tensorflow:mixed4c ['0_color', 'random500_9'] zebra 0.1\n"
     ]
    },
    {
     "name": "stderr",
     "output_type": "stream",
     "text": [
      "INFO:tensorflow:mixed4c ['0_color', 'random500_9'] zebra 0.1\n"
     ]
    },
    {
     "name": "stdout",
     "output_type": "stream",
     "text": [
      "Pairs to test [('zebra', ['0_color', 'random500_0']), ('zebra', ['0_color', 'random500_1']), ('zebra', ['0_color', 'random500_2']), ('zebra', ['0_color', 'random500_3']), ('zebra', ['0_color', 'random500_4']), ('zebra', ['0_color', 'random500_5']), ('zebra', ['0_color', 'random500_6']), ('zebra', ['0_color', 'random500_7']), ('zebra', ['0_color', 'random500_8']), ('zebra', ['0_color', 'random500_9'])]\n",
      "Params [<tcav.run_params.RunParams object at 0x7fd364624490>, <tcav.run_params.RunParams object at 0x7fd364624550>, <tcav.run_params.RunParams object at 0x7fd364624590>, <tcav.run_params.RunParams object at 0x7fd3646241d0>, <tcav.run_params.RunParams object at 0x7fd3646246d0>, <tcav.run_params.RunParams object at 0x7fd364624690>, <tcav.run_params.RunParams object at 0x7fd3646247d0>, <tcav.run_params.RunParams object at 0x7fd3646240d0>, <tcav.run_params.RunParams object at 0x7fd364624450>, <tcav.run_params.RunParams object at 0x7fd364624750>]\n",
      "INFO:tensorflow:running 10 params\n"
     ]
    },
    {
     "name": "stderr",
     "output_type": "stream",
     "text": [
      "INFO:tensorflow:running 10 params\n"
     ]
    },
    {
     "name": "stdout",
     "output_type": "stream",
     "text": [
      "INFO:tensorflow:Running param 0 of 10\n"
     ]
    },
    {
     "name": "stderr",
     "output_type": "stream",
     "text": [
      "INFO:tensorflow:Running param 0 of 10\n"
     ]
    },
    {
     "name": "stdout",
     "output_type": "stream",
     "text": [
      "INFO:tensorflow:running zebra ['0_color', 'random500_0']\n"
     ]
    },
    {
     "name": "stderr",
     "output_type": "stream",
     "text": [
      "INFO:tensorflow:running zebra ['0_color', 'random500_0']\n"
     ]
    },
    {
     "name": "stdout",
     "output_type": "stream",
     "text": [
      "INFO:tensorflow:./results/activations/acts_0_color_mixed4c does not exist, Making one...\n"
     ]
    },
    {
     "name": "stderr",
     "output_type": "stream",
     "text": [
      "INFO:tensorflow:./results/activations/acts_0_color_mixed4c does not exist, Making one...\n"
     ]
    },
    {
     "name": "stdout",
     "output_type": "stream",
     "text": [
      "INFO:tensorflow:Loaded ./results/activations/acts_random500_0_mixed4c shape (10, 14, 14, 512)\n"
     ]
    },
    {
     "name": "stderr",
     "output_type": "stream",
     "text": [
      "INFO:tensorflow:Loaded ./results/activations/acts_random500_0_mixed4c shape (10, 14, 14, 512)\n"
     ]
    },
    {
     "name": "stdout",
     "output_type": "stream",
     "text": [
      "INFO:tensorflow:Loaded ./results/activations/acts_zebra_mixed4c shape (5, 14, 14, 512)\n"
     ]
    },
    {
     "name": "stderr",
     "output_type": "stream",
     "text": [
      "INFO:tensorflow:Loaded ./results/activations/acts_zebra_mixed4c shape (5, 14, 14, 512)\n"
     ]
    },
    {
     "name": "stdout",
     "output_type": "stream",
     "text": [
      "INFO:tensorflow:Training CAV ['0_color', 'random500_0'] - mixed4c alpha 0.1\n"
     ]
    },
    {
     "name": "stderr",
     "output_type": "stream",
     "text": [
      "INFO:tensorflow:Training CAV ['0_color', 'random500_0'] - mixed4c alpha 0.1\n"
     ]
    },
    {
     "name": "stdout",
     "output_type": "stream",
     "text": [
      "INFO:tensorflow:training with alpha=0.1\n"
     ]
    },
    {
     "name": "stderr",
     "output_type": "stream",
     "text": [
      "INFO:tensorflow:training with alpha=0.1\n"
     ]
    },
    {
     "name": "stdout",
     "output_type": "stream",
     "text": [
      "INFO:tensorflow:acc per class {'0_color': 1.0, 'random500_0': 1.0, 'overall': 1.0}\n"
     ]
    },
    {
     "name": "stderr",
     "output_type": "stream",
     "text": [
      "INFO:tensorflow:acc per class {'0_color': 1.0, 'random500_0': 1.0, 'overall': 1.0}\n"
     ]
    },
    {
     "name": "stdout",
     "output_type": "stream",
     "text": [
      "INFO:tensorflow:CAV accuracies: {'0_color': 1.0, 'random500_0': 1.0, 'overall': 1.0}\n"
     ]
    },
    {
     "name": "stderr",
     "output_type": "stream",
     "text": [
      "INFO:tensorflow:CAV accuracies: {'0_color': 1.0, 'random500_0': 1.0, 'overall': 1.0}\n"
     ]
    },
    {
     "name": "stdout",
     "output_type": "stream",
     "text": [
      "INFO:tensorflow:Running param 1 of 10\n"
     ]
    },
    {
     "name": "stderr",
     "output_type": "stream",
     "text": [
      "INFO:tensorflow:Running param 1 of 10\n"
     ]
    },
    {
     "name": "stdout",
     "output_type": "stream",
     "text": [
      "INFO:tensorflow:running zebra ['0_color', 'random500_1']\n"
     ]
    },
    {
     "name": "stderr",
     "output_type": "stream",
     "text": [
      "INFO:tensorflow:running zebra ['0_color', 'random500_1']\n"
     ]
    },
    {
     "name": "stdout",
     "output_type": "stream",
     "text": [
      "INFO:tensorflow:Loaded ./results/activations/acts_0_color_mixed4c shape (20, 14, 14, 512)\n"
     ]
    },
    {
     "name": "stderr",
     "output_type": "stream",
     "text": [
      "INFO:tensorflow:Loaded ./results/activations/acts_0_color_mixed4c shape (20, 14, 14, 512)\n"
     ]
    },
    {
     "name": "stdout",
     "output_type": "stream",
     "text": [
      "INFO:tensorflow:Loaded ./results/activations/acts_random500_1_mixed4c shape (10, 14, 14, 512)\n"
     ]
    },
    {
     "name": "stderr",
     "output_type": "stream",
     "text": [
      "INFO:tensorflow:Loaded ./results/activations/acts_random500_1_mixed4c shape (10, 14, 14, 512)\n"
     ]
    },
    {
     "name": "stdout",
     "output_type": "stream",
     "text": [
      "INFO:tensorflow:Loaded ./results/activations/acts_zebra_mixed4c shape (5, 14, 14, 512)\n"
     ]
    },
    {
     "name": "stderr",
     "output_type": "stream",
     "text": [
      "INFO:tensorflow:Loaded ./results/activations/acts_zebra_mixed4c shape (5, 14, 14, 512)\n"
     ]
    },
    {
     "name": "stdout",
     "output_type": "stream",
     "text": [
      "INFO:tensorflow:Training CAV ['0_color', 'random500_1'] - mixed4c alpha 0.1\n"
     ]
    },
    {
     "name": "stderr",
     "output_type": "stream",
     "text": [
      "INFO:tensorflow:Training CAV ['0_color', 'random500_1'] - mixed4c alpha 0.1\n"
     ]
    },
    {
     "name": "stdout",
     "output_type": "stream",
     "text": [
      "INFO:tensorflow:training with alpha=0.1\n"
     ]
    },
    {
     "name": "stderr",
     "output_type": "stream",
     "text": [
      "INFO:tensorflow:training with alpha=0.1\n"
     ]
    },
    {
     "name": "stdout",
     "output_type": "stream",
     "text": [
      "INFO:tensorflow:acc per class {'0_color': 1.0, 'random500_1': 1.0, 'overall': 1.0}\n"
     ]
    },
    {
     "name": "stderr",
     "output_type": "stream",
     "text": [
      "INFO:tensorflow:acc per class {'0_color': 1.0, 'random500_1': 1.0, 'overall': 1.0}\n"
     ]
    },
    {
     "name": "stdout",
     "output_type": "stream",
     "text": [
      "INFO:tensorflow:CAV accuracies: {'0_color': 1.0, 'random500_1': 1.0, 'overall': 1.0}\n"
     ]
    },
    {
     "name": "stderr",
     "output_type": "stream",
     "text": [
      "INFO:tensorflow:CAV accuracies: {'0_color': 1.0, 'random500_1': 1.0, 'overall': 1.0}\n"
     ]
    },
    {
     "name": "stdout",
     "output_type": "stream",
     "text": [
      "INFO:tensorflow:Running param 2 of 10\n"
     ]
    },
    {
     "name": "stderr",
     "output_type": "stream",
     "text": [
      "INFO:tensorflow:Running param 2 of 10\n"
     ]
    },
    {
     "name": "stdout",
     "output_type": "stream",
     "text": [
      "INFO:tensorflow:running zebra ['0_color', 'random500_2']\n"
     ]
    },
    {
     "name": "stderr",
     "output_type": "stream",
     "text": [
      "INFO:tensorflow:running zebra ['0_color', 'random500_2']\n"
     ]
    },
    {
     "name": "stdout",
     "output_type": "stream",
     "text": [
      "INFO:tensorflow:Loaded ./results/activations/acts_0_color_mixed4c shape (20, 14, 14, 512)\n"
     ]
    },
    {
     "name": "stderr",
     "output_type": "stream",
     "text": [
      "INFO:tensorflow:Loaded ./results/activations/acts_0_color_mixed4c shape (20, 14, 14, 512)\n"
     ]
    },
    {
     "name": "stdout",
     "output_type": "stream",
     "text": [
      "INFO:tensorflow:Loaded ./results/activations/acts_random500_2_mixed4c shape (10, 14, 14, 512)\n"
     ]
    },
    {
     "name": "stderr",
     "output_type": "stream",
     "text": [
      "INFO:tensorflow:Loaded ./results/activations/acts_random500_2_mixed4c shape (10, 14, 14, 512)\n"
     ]
    },
    {
     "name": "stdout",
     "output_type": "stream",
     "text": [
      "INFO:tensorflow:Loaded ./results/activations/acts_zebra_mixed4c shape (5, 14, 14, 512)\n"
     ]
    },
    {
     "name": "stderr",
     "output_type": "stream",
     "text": [
      "INFO:tensorflow:Loaded ./results/activations/acts_zebra_mixed4c shape (5, 14, 14, 512)\n"
     ]
    },
    {
     "name": "stdout",
     "output_type": "stream",
     "text": [
      "INFO:tensorflow:Training CAV ['0_color', 'random500_2'] - mixed4c alpha 0.1\n"
     ]
    },
    {
     "name": "stderr",
     "output_type": "stream",
     "text": [
      "INFO:tensorflow:Training CAV ['0_color', 'random500_2'] - mixed4c alpha 0.1\n"
     ]
    },
    {
     "name": "stdout",
     "output_type": "stream",
     "text": [
      "INFO:tensorflow:training with alpha=0.1\n"
     ]
    },
    {
     "name": "stderr",
     "output_type": "stream",
     "text": [
      "INFO:tensorflow:training with alpha=0.1\n"
     ]
    },
    {
     "name": "stdout",
     "output_type": "stream",
     "text": [
      "INFO:tensorflow:acc per class {'0_color': 1.0, 'random500_2': 1.0, 'overall': 1.0}\n"
     ]
    },
    {
     "name": "stderr",
     "output_type": "stream",
     "text": [
      "INFO:tensorflow:acc per class {'0_color': 1.0, 'random500_2': 1.0, 'overall': 1.0}\n"
     ]
    },
    {
     "name": "stdout",
     "output_type": "stream",
     "text": [
      "INFO:tensorflow:CAV accuracies: {'0_color': 1.0, 'random500_2': 1.0, 'overall': 1.0}\n"
     ]
    },
    {
     "name": "stderr",
     "output_type": "stream",
     "text": [
      "INFO:tensorflow:CAV accuracies: {'0_color': 1.0, 'random500_2': 1.0, 'overall': 1.0}\n"
     ]
    },
    {
     "name": "stdout",
     "output_type": "stream",
     "text": [
      "INFO:tensorflow:Running param 3 of 10\n"
     ]
    },
    {
     "name": "stderr",
     "output_type": "stream",
     "text": [
      "INFO:tensorflow:Running param 3 of 10\n"
     ]
    },
    {
     "name": "stdout",
     "output_type": "stream",
     "text": [
      "INFO:tensorflow:running zebra ['0_color', 'random500_3']\n"
     ]
    },
    {
     "name": "stderr",
     "output_type": "stream",
     "text": [
      "INFO:tensorflow:running zebra ['0_color', 'random500_3']\n"
     ]
    },
    {
     "name": "stdout",
     "output_type": "stream",
     "text": [
      "INFO:tensorflow:Loaded ./results/activations/acts_0_color_mixed4c shape (20, 14, 14, 512)\n"
     ]
    },
    {
     "name": "stderr",
     "output_type": "stream",
     "text": [
      "INFO:tensorflow:Loaded ./results/activations/acts_0_color_mixed4c shape (20, 14, 14, 512)\n"
     ]
    },
    {
     "name": "stdout",
     "output_type": "stream",
     "text": [
      "INFO:tensorflow:Loaded ./results/activations/acts_random500_3_mixed4c shape (50, 14, 14, 512)\n"
     ]
    },
    {
     "name": "stderr",
     "output_type": "stream",
     "text": [
      "INFO:tensorflow:Loaded ./results/activations/acts_random500_3_mixed4c shape (50, 14, 14, 512)\n"
     ]
    },
    {
     "name": "stdout",
     "output_type": "stream",
     "text": [
      "INFO:tensorflow:Loaded ./results/activations/acts_zebra_mixed4c shape (5, 14, 14, 512)\n"
     ]
    },
    {
     "name": "stderr",
     "output_type": "stream",
     "text": [
      "INFO:tensorflow:Loaded ./results/activations/acts_zebra_mixed4c shape (5, 14, 14, 512)\n"
     ]
    },
    {
     "name": "stdout",
     "output_type": "stream",
     "text": [
      "INFO:tensorflow:Training CAV ['0_color', 'random500_3'] - mixed4c alpha 0.1\n"
     ]
    },
    {
     "name": "stderr",
     "output_type": "stream",
     "text": [
      "INFO:tensorflow:Training CAV ['0_color', 'random500_3'] - mixed4c alpha 0.1\n"
     ]
    },
    {
     "name": "stdout",
     "output_type": "stream",
     "text": [
      "INFO:tensorflow:training with alpha=0.1\n"
     ]
    },
    {
     "name": "stderr",
     "output_type": "stream",
     "text": [
      "INFO:tensorflow:training with alpha=0.1\n"
     ]
    },
    {
     "name": "stdout",
     "output_type": "stream",
     "text": [
      "INFO:tensorflow:acc per class {'0_color': 1.0, 'random500_3': 1.0, 'overall': 1.0}\n"
     ]
    },
    {
     "name": "stderr",
     "output_type": "stream",
     "text": [
      "INFO:tensorflow:acc per class {'0_color': 1.0, 'random500_3': 1.0, 'overall': 1.0}\n"
     ]
    },
    {
     "name": "stdout",
     "output_type": "stream",
     "text": [
      "INFO:tensorflow:CAV accuracies: {'0_color': 1.0, 'random500_3': 1.0, 'overall': 1.0}\n"
     ]
    },
    {
     "name": "stderr",
     "output_type": "stream",
     "text": [
      "INFO:tensorflow:CAV accuracies: {'0_color': 1.0, 'random500_3': 1.0, 'overall': 1.0}\n"
     ]
    },
    {
     "name": "stdout",
     "output_type": "stream",
     "text": [
      "INFO:tensorflow:Running param 4 of 10\n"
     ]
    },
    {
     "name": "stderr",
     "output_type": "stream",
     "text": [
      "INFO:tensorflow:Running param 4 of 10\n"
     ]
    },
    {
     "name": "stdout",
     "output_type": "stream",
     "text": [
      "INFO:tensorflow:running zebra ['0_color', 'random500_4']\n"
     ]
    },
    {
     "name": "stderr",
     "output_type": "stream",
     "text": [
      "INFO:tensorflow:running zebra ['0_color', 'random500_4']\n"
     ]
    },
    {
     "name": "stdout",
     "output_type": "stream",
     "text": [
      "INFO:tensorflow:Loaded ./results/activations/acts_0_color_mixed4c shape (20, 14, 14, 512)\n"
     ]
    },
    {
     "name": "stderr",
     "output_type": "stream",
     "text": [
      "INFO:tensorflow:Loaded ./results/activations/acts_0_color_mixed4c shape (20, 14, 14, 512)\n"
     ]
    },
    {
     "name": "stdout",
     "output_type": "stream",
     "text": [
      "INFO:tensorflow:Loaded ./results/activations/acts_random500_4_mixed4c shape (50, 14, 14, 512)\n"
     ]
    },
    {
     "name": "stderr",
     "output_type": "stream",
     "text": [
      "INFO:tensorflow:Loaded ./results/activations/acts_random500_4_mixed4c shape (50, 14, 14, 512)\n"
     ]
    },
    {
     "name": "stdout",
     "output_type": "stream",
     "text": [
      "INFO:tensorflow:Loaded ./results/activations/acts_zebra_mixed4c shape (5, 14, 14, 512)\n"
     ]
    },
    {
     "name": "stderr",
     "output_type": "stream",
     "text": [
      "INFO:tensorflow:Loaded ./results/activations/acts_zebra_mixed4c shape (5, 14, 14, 512)\n"
     ]
    },
    {
     "name": "stdout",
     "output_type": "stream",
     "text": [
      "INFO:tensorflow:Training CAV ['0_color', 'random500_4'] - mixed4c alpha 0.1\n"
     ]
    },
    {
     "name": "stderr",
     "output_type": "stream",
     "text": [
      "INFO:tensorflow:Training CAV ['0_color', 'random500_4'] - mixed4c alpha 0.1\n"
     ]
    },
    {
     "name": "stdout",
     "output_type": "stream",
     "text": [
      "INFO:tensorflow:training with alpha=0.1\n"
     ]
    },
    {
     "name": "stderr",
     "output_type": "stream",
     "text": [
      "INFO:tensorflow:training with alpha=0.1\n"
     ]
    },
    {
     "name": "stdout",
     "output_type": "stream",
     "text": [
      "INFO:tensorflow:acc per class {'0_color': 1.0, 'random500_4': 1.0, 'overall': 1.0}\n"
     ]
    },
    {
     "name": "stderr",
     "output_type": "stream",
     "text": [
      "INFO:tensorflow:acc per class {'0_color': 1.0, 'random500_4': 1.0, 'overall': 1.0}\n"
     ]
    },
    {
     "name": "stdout",
     "output_type": "stream",
     "text": [
      "INFO:tensorflow:CAV accuracies: {'0_color': 1.0, 'random500_4': 1.0, 'overall': 1.0}\n"
     ]
    },
    {
     "name": "stderr",
     "output_type": "stream",
     "text": [
      "INFO:tensorflow:CAV accuracies: {'0_color': 1.0, 'random500_4': 1.0, 'overall': 1.0}\n"
     ]
    },
    {
     "name": "stdout",
     "output_type": "stream",
     "text": [
      "INFO:tensorflow:Running param 5 of 10\n"
     ]
    },
    {
     "name": "stderr",
     "output_type": "stream",
     "text": [
      "INFO:tensorflow:Running param 5 of 10\n"
     ]
    },
    {
     "name": "stdout",
     "output_type": "stream",
     "text": [
      "INFO:tensorflow:running zebra ['0_color', 'random500_5']\n"
     ]
    },
    {
     "name": "stderr",
     "output_type": "stream",
     "text": [
      "INFO:tensorflow:running zebra ['0_color', 'random500_5']\n"
     ]
    },
    {
     "name": "stdout",
     "output_type": "stream",
     "text": [
      "INFO:tensorflow:Loaded ./results/activations/acts_0_color_mixed4c shape (20, 14, 14, 512)\n"
     ]
    },
    {
     "name": "stderr",
     "output_type": "stream",
     "text": [
      "INFO:tensorflow:Loaded ./results/activations/acts_0_color_mixed4c shape (20, 14, 14, 512)\n"
     ]
    },
    {
     "name": "stdout",
     "output_type": "stream",
     "text": [
      "INFO:tensorflow:Loaded ./results/activations/acts_random500_5_mixed4c shape (50, 14, 14, 512)\n"
     ]
    },
    {
     "name": "stderr",
     "output_type": "stream",
     "text": [
      "INFO:tensorflow:Loaded ./results/activations/acts_random500_5_mixed4c shape (50, 14, 14, 512)\n"
     ]
    },
    {
     "name": "stdout",
     "output_type": "stream",
     "text": [
      "INFO:tensorflow:Loaded ./results/activations/acts_zebra_mixed4c shape (5, 14, 14, 512)\n"
     ]
    },
    {
     "name": "stderr",
     "output_type": "stream",
     "text": [
      "INFO:tensorflow:Loaded ./results/activations/acts_zebra_mixed4c shape (5, 14, 14, 512)\n"
     ]
    },
    {
     "name": "stdout",
     "output_type": "stream",
     "text": [
      "INFO:tensorflow:Training CAV ['0_color', 'random500_5'] - mixed4c alpha 0.1\n"
     ]
    },
    {
     "name": "stderr",
     "output_type": "stream",
     "text": [
      "INFO:tensorflow:Training CAV ['0_color', 'random500_5'] - mixed4c alpha 0.1\n"
     ]
    },
    {
     "name": "stdout",
     "output_type": "stream",
     "text": [
      "INFO:tensorflow:training with alpha=0.1\n"
     ]
    },
    {
     "name": "stderr",
     "output_type": "stream",
     "text": [
      "INFO:tensorflow:training with alpha=0.1\n"
     ]
    },
    {
     "name": "stdout",
     "output_type": "stream",
     "text": [
      "INFO:tensorflow:acc per class {'0_color': 1.0, 'random500_5': 1.0, 'overall': 1.0}\n"
     ]
    },
    {
     "name": "stderr",
     "output_type": "stream",
     "text": [
      "INFO:tensorflow:acc per class {'0_color': 1.0, 'random500_5': 1.0, 'overall': 1.0}\n"
     ]
    },
    {
     "name": "stdout",
     "output_type": "stream",
     "text": [
      "INFO:tensorflow:CAV accuracies: {'0_color': 1.0, 'random500_5': 1.0, 'overall': 1.0}\n"
     ]
    },
    {
     "name": "stderr",
     "output_type": "stream",
     "text": [
      "INFO:tensorflow:CAV accuracies: {'0_color': 1.0, 'random500_5': 1.0, 'overall': 1.0}\n"
     ]
    },
    {
     "name": "stdout",
     "output_type": "stream",
     "text": [
      "INFO:tensorflow:Running param 6 of 10\n"
     ]
    },
    {
     "name": "stderr",
     "output_type": "stream",
     "text": [
      "INFO:tensorflow:Running param 6 of 10\n"
     ]
    },
    {
     "name": "stdout",
     "output_type": "stream",
     "text": [
      "INFO:tensorflow:running zebra ['0_color', 'random500_6']\n"
     ]
    },
    {
     "name": "stderr",
     "output_type": "stream",
     "text": [
      "INFO:tensorflow:running zebra ['0_color', 'random500_6']\n"
     ]
    },
    {
     "name": "stdout",
     "output_type": "stream",
     "text": [
      "INFO:tensorflow:Loaded ./results/activations/acts_0_color_mixed4c shape (20, 14, 14, 512)\n"
     ]
    },
    {
     "name": "stderr",
     "output_type": "stream",
     "text": [
      "INFO:tensorflow:Loaded ./results/activations/acts_0_color_mixed4c shape (20, 14, 14, 512)\n"
     ]
    },
    {
     "name": "stdout",
     "output_type": "stream",
     "text": [
      "INFO:tensorflow:Loaded ./results/activations/acts_random500_6_mixed4c shape (50, 14, 14, 512)\n"
     ]
    },
    {
     "name": "stderr",
     "output_type": "stream",
     "text": [
      "INFO:tensorflow:Loaded ./results/activations/acts_random500_6_mixed4c shape (50, 14, 14, 512)\n"
     ]
    },
    {
     "name": "stdout",
     "output_type": "stream",
     "text": [
      "INFO:tensorflow:Loaded ./results/activations/acts_zebra_mixed4c shape (5, 14, 14, 512)\n"
     ]
    },
    {
     "name": "stderr",
     "output_type": "stream",
     "text": [
      "INFO:tensorflow:Loaded ./results/activations/acts_zebra_mixed4c shape (5, 14, 14, 512)\n"
     ]
    },
    {
     "name": "stdout",
     "output_type": "stream",
     "text": [
      "INFO:tensorflow:Training CAV ['0_color', 'random500_6'] - mixed4c alpha 0.1\n"
     ]
    },
    {
     "name": "stderr",
     "output_type": "stream",
     "text": [
      "INFO:tensorflow:Training CAV ['0_color', 'random500_6'] - mixed4c alpha 0.1\n"
     ]
    },
    {
     "name": "stdout",
     "output_type": "stream",
     "text": [
      "INFO:tensorflow:training with alpha=0.1\n"
     ]
    },
    {
     "name": "stderr",
     "output_type": "stream",
     "text": [
      "INFO:tensorflow:training with alpha=0.1\n"
     ]
    },
    {
     "name": "stdout",
     "output_type": "stream",
     "text": [
      "INFO:tensorflow:acc per class {'0_color': 1.0, 'random500_6': 1.0, 'overall': 1.0}\n"
     ]
    },
    {
     "name": "stderr",
     "output_type": "stream",
     "text": [
      "INFO:tensorflow:acc per class {'0_color': 1.0, 'random500_6': 1.0, 'overall': 1.0}\n"
     ]
    },
    {
     "name": "stdout",
     "output_type": "stream",
     "text": [
      "INFO:tensorflow:CAV accuracies: {'0_color': 1.0, 'random500_6': 1.0, 'overall': 1.0}\n"
     ]
    },
    {
     "name": "stderr",
     "output_type": "stream",
     "text": [
      "INFO:tensorflow:CAV accuracies: {'0_color': 1.0, 'random500_6': 1.0, 'overall': 1.0}\n"
     ]
    },
    {
     "name": "stdout",
     "output_type": "stream",
     "text": [
      "INFO:tensorflow:Running param 7 of 10\n"
     ]
    },
    {
     "name": "stderr",
     "output_type": "stream",
     "text": [
      "INFO:tensorflow:Running param 7 of 10\n"
     ]
    },
    {
     "name": "stdout",
     "output_type": "stream",
     "text": [
      "INFO:tensorflow:running zebra ['0_color', 'random500_7']\n"
     ]
    },
    {
     "name": "stderr",
     "output_type": "stream",
     "text": [
      "INFO:tensorflow:running zebra ['0_color', 'random500_7']\n"
     ]
    },
    {
     "name": "stdout",
     "output_type": "stream",
     "text": [
      "INFO:tensorflow:Loaded ./results/activations/acts_0_color_mixed4c shape (20, 14, 14, 512)\n"
     ]
    },
    {
     "name": "stderr",
     "output_type": "stream",
     "text": [
      "INFO:tensorflow:Loaded ./results/activations/acts_0_color_mixed4c shape (20, 14, 14, 512)\n"
     ]
    },
    {
     "name": "stdout",
     "output_type": "stream",
     "text": [
      "INFO:tensorflow:Loaded ./results/activations/acts_random500_7_mixed4c shape (50, 14, 14, 512)\n"
     ]
    },
    {
     "name": "stderr",
     "output_type": "stream",
     "text": [
      "INFO:tensorflow:Loaded ./results/activations/acts_random500_7_mixed4c shape (50, 14, 14, 512)\n"
     ]
    },
    {
     "name": "stdout",
     "output_type": "stream",
     "text": [
      "INFO:tensorflow:Loaded ./results/activations/acts_zebra_mixed4c shape (5, 14, 14, 512)\n"
     ]
    },
    {
     "name": "stderr",
     "output_type": "stream",
     "text": [
      "INFO:tensorflow:Loaded ./results/activations/acts_zebra_mixed4c shape (5, 14, 14, 512)\n"
     ]
    },
    {
     "name": "stdout",
     "output_type": "stream",
     "text": [
      "INFO:tensorflow:Training CAV ['0_color', 'random500_7'] - mixed4c alpha 0.1\n"
     ]
    },
    {
     "name": "stderr",
     "output_type": "stream",
     "text": [
      "INFO:tensorflow:Training CAV ['0_color', 'random500_7'] - mixed4c alpha 0.1\n"
     ]
    },
    {
     "name": "stdout",
     "output_type": "stream",
     "text": [
      "INFO:tensorflow:training with alpha=0.1\n"
     ]
    },
    {
     "name": "stderr",
     "output_type": "stream",
     "text": [
      "INFO:tensorflow:training with alpha=0.1\n"
     ]
    },
    {
     "name": "stdout",
     "output_type": "stream",
     "text": [
      "INFO:tensorflow:acc per class {'0_color': 1.0, 'random500_7': 1.0, 'overall': 1.0}\n"
     ]
    },
    {
     "name": "stderr",
     "output_type": "stream",
     "text": [
      "INFO:tensorflow:acc per class {'0_color': 1.0, 'random500_7': 1.0, 'overall': 1.0}\n"
     ]
    },
    {
     "name": "stdout",
     "output_type": "stream",
     "text": [
      "INFO:tensorflow:CAV accuracies: {'0_color': 1.0, 'random500_7': 1.0, 'overall': 1.0}\n"
     ]
    },
    {
     "name": "stderr",
     "output_type": "stream",
     "text": [
      "INFO:tensorflow:CAV accuracies: {'0_color': 1.0, 'random500_7': 1.0, 'overall': 1.0}\n"
     ]
    },
    {
     "name": "stdout",
     "output_type": "stream",
     "text": [
      "INFO:tensorflow:Running param 8 of 10\n"
     ]
    },
    {
     "name": "stderr",
     "output_type": "stream",
     "text": [
      "INFO:tensorflow:Running param 8 of 10\n"
     ]
    },
    {
     "name": "stdout",
     "output_type": "stream",
     "text": [
      "INFO:tensorflow:running zebra ['0_color', 'random500_8']\n"
     ]
    },
    {
     "name": "stderr",
     "output_type": "stream",
     "text": [
      "INFO:tensorflow:running zebra ['0_color', 'random500_8']\n"
     ]
    },
    {
     "name": "stdout",
     "output_type": "stream",
     "text": [
      "INFO:tensorflow:Loaded ./results/activations/acts_0_color_mixed4c shape (20, 14, 14, 512)\n"
     ]
    },
    {
     "name": "stderr",
     "output_type": "stream",
     "text": [
      "INFO:tensorflow:Loaded ./results/activations/acts_0_color_mixed4c shape (20, 14, 14, 512)\n"
     ]
    },
    {
     "name": "stdout",
     "output_type": "stream",
     "text": [
      "INFO:tensorflow:Loaded ./results/activations/acts_random500_8_mixed4c shape (50, 14, 14, 512)\n"
     ]
    },
    {
     "name": "stderr",
     "output_type": "stream",
     "text": [
      "INFO:tensorflow:Loaded ./results/activations/acts_random500_8_mixed4c shape (50, 14, 14, 512)\n"
     ]
    },
    {
     "name": "stdout",
     "output_type": "stream",
     "text": [
      "INFO:tensorflow:Loaded ./results/activations/acts_zebra_mixed4c shape (5, 14, 14, 512)\n"
     ]
    },
    {
     "name": "stderr",
     "output_type": "stream",
     "text": [
      "INFO:tensorflow:Loaded ./results/activations/acts_zebra_mixed4c shape (5, 14, 14, 512)\n"
     ]
    },
    {
     "name": "stdout",
     "output_type": "stream",
     "text": [
      "INFO:tensorflow:Training CAV ['0_color', 'random500_8'] - mixed4c alpha 0.1\n"
     ]
    },
    {
     "name": "stderr",
     "output_type": "stream",
     "text": [
      "INFO:tensorflow:Training CAV ['0_color', 'random500_8'] - mixed4c alpha 0.1\n"
     ]
    },
    {
     "name": "stdout",
     "output_type": "stream",
     "text": [
      "INFO:tensorflow:training with alpha=0.1\n"
     ]
    },
    {
     "name": "stderr",
     "output_type": "stream",
     "text": [
      "INFO:tensorflow:training with alpha=0.1\n"
     ]
    },
    {
     "name": "stdout",
     "output_type": "stream",
     "text": [
      "INFO:tensorflow:acc per class {'0_color': 1.0, 'random500_8': 1.0, 'overall': 1.0}\n"
     ]
    },
    {
     "name": "stderr",
     "output_type": "stream",
     "text": [
      "INFO:tensorflow:acc per class {'0_color': 1.0, 'random500_8': 1.0, 'overall': 1.0}\n"
     ]
    },
    {
     "name": "stdout",
     "output_type": "stream",
     "text": [
      "INFO:tensorflow:CAV accuracies: {'0_color': 1.0, 'random500_8': 1.0, 'overall': 1.0}\n"
     ]
    },
    {
     "name": "stderr",
     "output_type": "stream",
     "text": [
      "INFO:tensorflow:CAV accuracies: {'0_color': 1.0, 'random500_8': 1.0, 'overall': 1.0}\n"
     ]
    },
    {
     "name": "stdout",
     "output_type": "stream",
     "text": [
      "INFO:tensorflow:Running param 9 of 10\n"
     ]
    },
    {
     "name": "stderr",
     "output_type": "stream",
     "text": [
      "INFO:tensorflow:Running param 9 of 10\n"
     ]
    },
    {
     "name": "stdout",
     "output_type": "stream",
     "text": [
      "INFO:tensorflow:running zebra ['0_color', 'random500_9']\n"
     ]
    },
    {
     "name": "stderr",
     "output_type": "stream",
     "text": [
      "INFO:tensorflow:running zebra ['0_color', 'random500_9']\n"
     ]
    },
    {
     "name": "stdout",
     "output_type": "stream",
     "text": [
      "INFO:tensorflow:Loaded ./results/activations/acts_0_color_mixed4c shape (20, 14, 14, 512)\n"
     ]
    },
    {
     "name": "stderr",
     "output_type": "stream",
     "text": [
      "INFO:tensorflow:Loaded ./results/activations/acts_0_color_mixed4c shape (20, 14, 14, 512)\n"
     ]
    },
    {
     "name": "stdout",
     "output_type": "stream",
     "text": [
      "INFO:tensorflow:Loaded ./results/activations/acts_random500_9_mixed4c shape (50, 14, 14, 512)\n"
     ]
    },
    {
     "name": "stderr",
     "output_type": "stream",
     "text": [
      "INFO:tensorflow:Loaded ./results/activations/acts_random500_9_mixed4c shape (50, 14, 14, 512)\n"
     ]
    },
    {
     "name": "stdout",
     "output_type": "stream",
     "text": [
      "INFO:tensorflow:Loaded ./results/activations/acts_zebra_mixed4c shape (5, 14, 14, 512)\n"
     ]
    },
    {
     "name": "stderr",
     "output_type": "stream",
     "text": [
      "INFO:tensorflow:Loaded ./results/activations/acts_zebra_mixed4c shape (5, 14, 14, 512)\n"
     ]
    },
    {
     "name": "stdout",
     "output_type": "stream",
     "text": [
      "INFO:tensorflow:Training CAV ['0_color', 'random500_9'] - mixed4c alpha 0.1\n"
     ]
    },
    {
     "name": "stderr",
     "output_type": "stream",
     "text": [
      "INFO:tensorflow:Training CAV ['0_color', 'random500_9'] - mixed4c alpha 0.1\n"
     ]
    },
    {
     "name": "stdout",
     "output_type": "stream",
     "text": [
      "INFO:tensorflow:training with alpha=0.1\n"
     ]
    },
    {
     "name": "stderr",
     "output_type": "stream",
     "text": [
      "INFO:tensorflow:training with alpha=0.1\n"
     ]
    },
    {
     "name": "stdout",
     "output_type": "stream",
     "text": [
      "INFO:tensorflow:acc per class {'0_color': 1.0, 'random500_9': 1.0, 'overall': 1.0}\n"
     ]
    },
    {
     "name": "stderr",
     "output_type": "stream",
     "text": [
      "INFO:tensorflow:acc per class {'0_color': 1.0, 'random500_9': 1.0, 'overall': 1.0}\n"
     ]
    },
    {
     "name": "stdout",
     "output_type": "stream",
     "text": [
      "INFO:tensorflow:CAV accuracies: {'0_color': 1.0, 'random500_9': 1.0, 'overall': 1.0}\n"
     ]
    },
    {
     "name": "stderr",
     "output_type": "stream",
     "text": [
      "INFO:tensorflow:CAV accuracies: {'0_color': 1.0, 'random500_9': 1.0, 'overall': 1.0}\n"
     ]
    },
    {
     "name": "stdout",
     "output_type": "stream",
     "text": [
      "INFO:tensorflow:Done running 10 params. Took 19.651509761810303 seconds...\n"
     ]
    },
    {
     "name": "stderr",
     "output_type": "stream",
     "text": [
      "INFO:tensorflow:Done running 10 params. Took 19.651509761810303 seconds...\n"
     ]
    },
    {
     "name": "stdout",
     "output_type": "stream",
     "text": [
      "1_color \n"
     ]
    },
    {
     "name": "stderr",
     "output_type": "stream",
     "text": [
      "/auto/homes/njr61/environments/mambaforge/envs/concepts/lib/python3.7/site-packages/tensorflow/python/client/session.py:1769: UserWarning: An interactive session is already active. This can cause out-of-memory errors in some cases. You must explicitly call `InteractiveSession.close()` to release resources held by the other session(s).\n",
      "  warnings.warn('An interactive session is already active. This can '\n"
     ]
    },
    {
     "name": "stdout",
     "output_type": "stream",
     "text": [
      "INFO:tensorflow:mixed4c ['1_color', 'random500_0'] zebra 0.1\n"
     ]
    },
    {
     "name": "stderr",
     "output_type": "stream",
     "text": [
      "INFO:tensorflow:mixed4c ['1_color', 'random500_0'] zebra 0.1\n"
     ]
    },
    {
     "name": "stdout",
     "output_type": "stream",
     "text": [
      "INFO:tensorflow:mixed4c ['1_color', 'random500_1'] zebra 0.1\n"
     ]
    },
    {
     "name": "stderr",
     "output_type": "stream",
     "text": [
      "INFO:tensorflow:mixed4c ['1_color', 'random500_1'] zebra 0.1\n"
     ]
    },
    {
     "name": "stdout",
     "output_type": "stream",
     "text": [
      "INFO:tensorflow:mixed4c ['1_color', 'random500_2'] zebra 0.1\n"
     ]
    },
    {
     "name": "stderr",
     "output_type": "stream",
     "text": [
      "INFO:tensorflow:mixed4c ['1_color', 'random500_2'] zebra 0.1\n"
     ]
    },
    {
     "name": "stdout",
     "output_type": "stream",
     "text": [
      "INFO:tensorflow:mixed4c ['1_color', 'random500_3'] zebra 0.1\n"
     ]
    },
    {
     "name": "stderr",
     "output_type": "stream",
     "text": [
      "INFO:tensorflow:mixed4c ['1_color', 'random500_3'] zebra 0.1\n"
     ]
    },
    {
     "name": "stdout",
     "output_type": "stream",
     "text": [
      "INFO:tensorflow:mixed4c ['1_color', 'random500_4'] zebra 0.1\n"
     ]
    },
    {
     "name": "stderr",
     "output_type": "stream",
     "text": [
      "INFO:tensorflow:mixed4c ['1_color', 'random500_4'] zebra 0.1\n"
     ]
    },
    {
     "name": "stdout",
     "output_type": "stream",
     "text": [
      "INFO:tensorflow:mixed4c ['1_color', 'random500_5'] zebra 0.1\n"
     ]
    },
    {
     "name": "stderr",
     "output_type": "stream",
     "text": [
      "INFO:tensorflow:mixed4c ['1_color', 'random500_5'] zebra 0.1\n"
     ]
    },
    {
     "name": "stdout",
     "output_type": "stream",
     "text": [
      "INFO:tensorflow:mixed4c ['1_color', 'random500_6'] zebra 0.1\n"
     ]
    },
    {
     "name": "stderr",
     "output_type": "stream",
     "text": [
      "INFO:tensorflow:mixed4c ['1_color', 'random500_6'] zebra 0.1\n"
     ]
    },
    {
     "name": "stdout",
     "output_type": "stream",
     "text": [
      "INFO:tensorflow:mixed4c ['1_color', 'random500_7'] zebra 0.1\n"
     ]
    },
    {
     "name": "stderr",
     "output_type": "stream",
     "text": [
      "INFO:tensorflow:mixed4c ['1_color', 'random500_7'] zebra 0.1\n"
     ]
    },
    {
     "name": "stdout",
     "output_type": "stream",
     "text": [
      "INFO:tensorflow:mixed4c ['1_color', 'random500_8'] zebra 0.1\n"
     ]
    },
    {
     "name": "stderr",
     "output_type": "stream",
     "text": [
      "INFO:tensorflow:mixed4c ['1_color', 'random500_8'] zebra 0.1\n"
     ]
    },
    {
     "name": "stdout",
     "output_type": "stream",
     "text": [
      "INFO:tensorflow:mixed4c ['1_color', 'random500_9'] zebra 0.1\n"
     ]
    },
    {
     "name": "stderr",
     "output_type": "stream",
     "text": [
      "INFO:tensorflow:mixed4c ['1_color', 'random500_9'] zebra 0.1\n"
     ]
    },
    {
     "name": "stdout",
     "output_type": "stream",
     "text": [
      "INFO:tensorflow:mixed4c ['random500_0', 'random500_1'] zebra 0.1\n"
     ]
    },
    {
     "name": "stderr",
     "output_type": "stream",
     "text": [
      "INFO:tensorflow:mixed4c ['random500_0', 'random500_1'] zebra 0.1\n"
     ]
    },
    {
     "name": "stdout",
     "output_type": "stream",
     "text": [
      "INFO:tensorflow:mixed4c ['random500_0', 'random500_2'] zebra 0.1\n"
     ]
    },
    {
     "name": "stderr",
     "output_type": "stream",
     "text": [
      "INFO:tensorflow:mixed4c ['random500_0', 'random500_2'] zebra 0.1\n"
     ]
    },
    {
     "name": "stdout",
     "output_type": "stream",
     "text": [
      "INFO:tensorflow:mixed4c ['random500_0', 'random500_3'] zebra 0.1\n"
     ]
    },
    {
     "name": "stderr",
     "output_type": "stream",
     "text": [
      "INFO:tensorflow:mixed4c ['random500_0', 'random500_3'] zebra 0.1\n"
     ]
    },
    {
     "name": "stdout",
     "output_type": "stream",
     "text": [
      "INFO:tensorflow:mixed4c ['random500_0', 'random500_4'] zebra 0.1\n"
     ]
    },
    {
     "name": "stderr",
     "output_type": "stream",
     "text": [
      "INFO:tensorflow:mixed4c ['random500_0', 'random500_4'] zebra 0.1\n"
     ]
    },
    {
     "name": "stdout",
     "output_type": "stream",
     "text": [
      "INFO:tensorflow:mixed4c ['random500_0', 'random500_5'] zebra 0.1\n"
     ]
    },
    {
     "name": "stderr",
     "output_type": "stream",
     "text": [
      "INFO:tensorflow:mixed4c ['random500_0', 'random500_5'] zebra 0.1\n"
     ]
    },
    {
     "name": "stdout",
     "output_type": "stream",
     "text": [
      "INFO:tensorflow:mixed4c ['random500_0', 'random500_6'] zebra 0.1\n"
     ]
    },
    {
     "name": "stderr",
     "output_type": "stream",
     "text": [
      "INFO:tensorflow:mixed4c ['random500_0', 'random500_6'] zebra 0.1\n"
     ]
    },
    {
     "name": "stdout",
     "output_type": "stream",
     "text": [
      "INFO:tensorflow:mixed4c ['random500_0', 'random500_7'] zebra 0.1\n"
     ]
    },
    {
     "name": "stderr",
     "output_type": "stream",
     "text": [
      "INFO:tensorflow:mixed4c ['random500_0', 'random500_7'] zebra 0.1\n"
     ]
    },
    {
     "name": "stdout",
     "output_type": "stream",
     "text": [
      "INFO:tensorflow:mixed4c ['random500_0', 'random500_8'] zebra 0.1\n"
     ]
    },
    {
     "name": "stderr",
     "output_type": "stream",
     "text": [
      "INFO:tensorflow:mixed4c ['random500_0', 'random500_8'] zebra 0.1\n"
     ]
    },
    {
     "name": "stdout",
     "output_type": "stream",
     "text": [
      "INFO:tensorflow:mixed4c ['random500_0', 'random500_9'] zebra 0.1\n"
     ]
    },
    {
     "name": "stderr",
     "output_type": "stream",
     "text": [
      "INFO:tensorflow:mixed4c ['random500_0', 'random500_9'] zebra 0.1\n"
     ]
    },
    {
     "name": "stdout",
     "output_type": "stream",
     "text": [
      "INFO:tensorflow:mixed4c ['random500_1', 'random500_0'] zebra 0.1\n"
     ]
    },
    {
     "name": "stderr",
     "output_type": "stream",
     "text": [
      "INFO:tensorflow:mixed4c ['random500_1', 'random500_0'] zebra 0.1\n"
     ]
    },
    {
     "name": "stdout",
     "output_type": "stream",
     "text": [
      "INFO:tensorflow:mixed4c ['random500_1', 'random500_2'] zebra 0.1\n"
     ]
    },
    {
     "name": "stderr",
     "output_type": "stream",
     "text": [
      "INFO:tensorflow:mixed4c ['random500_1', 'random500_2'] zebra 0.1\n"
     ]
    },
    {
     "name": "stdout",
     "output_type": "stream",
     "text": [
      "INFO:tensorflow:mixed4c ['random500_1', 'random500_3'] zebra 0.1\n"
     ]
    },
    {
     "name": "stderr",
     "output_type": "stream",
     "text": [
      "INFO:tensorflow:mixed4c ['random500_1', 'random500_3'] zebra 0.1\n"
     ]
    },
    {
     "name": "stdout",
     "output_type": "stream",
     "text": [
      "INFO:tensorflow:mixed4c ['random500_1', 'random500_4'] zebra 0.1\n"
     ]
    },
    {
     "name": "stderr",
     "output_type": "stream",
     "text": [
      "INFO:tensorflow:mixed4c ['random500_1', 'random500_4'] zebra 0.1\n"
     ]
    },
    {
     "name": "stdout",
     "output_type": "stream",
     "text": [
      "INFO:tensorflow:mixed4c ['random500_1', 'random500_5'] zebra 0.1\n"
     ]
    },
    {
     "name": "stderr",
     "output_type": "stream",
     "text": [
      "INFO:tensorflow:mixed4c ['random500_1', 'random500_5'] zebra 0.1\n"
     ]
    },
    {
     "name": "stdout",
     "output_type": "stream",
     "text": [
      "INFO:tensorflow:mixed4c ['random500_1', 'random500_6'] zebra 0.1\n"
     ]
    },
    {
     "name": "stderr",
     "output_type": "stream",
     "text": [
      "INFO:tensorflow:mixed4c ['random500_1', 'random500_6'] zebra 0.1\n"
     ]
    },
    {
     "name": "stdout",
     "output_type": "stream",
     "text": [
      "INFO:tensorflow:mixed4c ['random500_1', 'random500_7'] zebra 0.1\n"
     ]
    },
    {
     "name": "stderr",
     "output_type": "stream",
     "text": [
      "INFO:tensorflow:mixed4c ['random500_1', 'random500_7'] zebra 0.1\n"
     ]
    },
    {
     "name": "stdout",
     "output_type": "stream",
     "text": [
      "INFO:tensorflow:mixed4c ['random500_1', 'random500_8'] zebra 0.1\n"
     ]
    },
    {
     "name": "stderr",
     "output_type": "stream",
     "text": [
      "INFO:tensorflow:mixed4c ['random500_1', 'random500_8'] zebra 0.1\n"
     ]
    },
    {
     "name": "stdout",
     "output_type": "stream",
     "text": [
      "INFO:tensorflow:mixed4c ['random500_1', 'random500_9'] zebra 0.1\n"
     ]
    },
    {
     "name": "stderr",
     "output_type": "stream",
     "text": [
      "INFO:tensorflow:mixed4c ['random500_1', 'random500_9'] zebra 0.1\n"
     ]
    },
    {
     "name": "stdout",
     "output_type": "stream",
     "text": [
      "INFO:tensorflow:mixed4c ['random500_2', 'random500_0'] zebra 0.1\n"
     ]
    },
    {
     "name": "stderr",
     "output_type": "stream",
     "text": [
      "INFO:tensorflow:mixed4c ['random500_2', 'random500_0'] zebra 0.1\n"
     ]
    },
    {
     "name": "stdout",
     "output_type": "stream",
     "text": [
      "INFO:tensorflow:mixed4c ['random500_2', 'random500_1'] zebra 0.1\n"
     ]
    },
    {
     "name": "stderr",
     "output_type": "stream",
     "text": [
      "INFO:tensorflow:mixed4c ['random500_2', 'random500_1'] zebra 0.1\n"
     ]
    },
    {
     "name": "stdout",
     "output_type": "stream",
     "text": [
      "INFO:tensorflow:mixed4c ['random500_2', 'random500_3'] zebra 0.1\n"
     ]
    },
    {
     "name": "stderr",
     "output_type": "stream",
     "text": [
      "INFO:tensorflow:mixed4c ['random500_2', 'random500_3'] zebra 0.1\n"
     ]
    },
    {
     "name": "stdout",
     "output_type": "stream",
     "text": [
      "INFO:tensorflow:mixed4c ['random500_2', 'random500_4'] zebra 0.1\n"
     ]
    },
    {
     "name": "stderr",
     "output_type": "stream",
     "text": [
      "INFO:tensorflow:mixed4c ['random500_2', 'random500_4'] zebra 0.1\n"
     ]
    },
    {
     "name": "stdout",
     "output_type": "stream",
     "text": [
      "INFO:tensorflow:mixed4c ['random500_2', 'random500_5'] zebra 0.1\n"
     ]
    },
    {
     "name": "stderr",
     "output_type": "stream",
     "text": [
      "INFO:tensorflow:mixed4c ['random500_2', 'random500_5'] zebra 0.1\n"
     ]
    },
    {
     "name": "stdout",
     "output_type": "stream",
     "text": [
      "INFO:tensorflow:mixed4c ['random500_2', 'random500_6'] zebra 0.1\n"
     ]
    },
    {
     "name": "stderr",
     "output_type": "stream",
     "text": [
      "INFO:tensorflow:mixed4c ['random500_2', 'random500_6'] zebra 0.1\n"
     ]
    },
    {
     "name": "stdout",
     "output_type": "stream",
     "text": [
      "INFO:tensorflow:mixed4c ['random500_2', 'random500_7'] zebra 0.1\n"
     ]
    },
    {
     "name": "stderr",
     "output_type": "stream",
     "text": [
      "INFO:tensorflow:mixed4c ['random500_2', 'random500_7'] zebra 0.1\n"
     ]
    },
    {
     "name": "stdout",
     "output_type": "stream",
     "text": [
      "INFO:tensorflow:mixed4c ['random500_2', 'random500_8'] zebra 0.1\n"
     ]
    },
    {
     "name": "stderr",
     "output_type": "stream",
     "text": [
      "INFO:tensorflow:mixed4c ['random500_2', 'random500_8'] zebra 0.1\n"
     ]
    },
    {
     "name": "stdout",
     "output_type": "stream",
     "text": [
      "INFO:tensorflow:mixed4c ['random500_2', 'random500_9'] zebra 0.1\n"
     ]
    },
    {
     "name": "stderr",
     "output_type": "stream",
     "text": [
      "INFO:tensorflow:mixed4c ['random500_2', 'random500_9'] zebra 0.1\n"
     ]
    },
    {
     "name": "stdout",
     "output_type": "stream",
     "text": [
      "INFO:tensorflow:mixed4c ['random500_3', 'random500_0'] zebra 0.1\n"
     ]
    },
    {
     "name": "stderr",
     "output_type": "stream",
     "text": [
      "INFO:tensorflow:mixed4c ['random500_3', 'random500_0'] zebra 0.1\n"
     ]
    },
    {
     "name": "stdout",
     "output_type": "stream",
     "text": [
      "INFO:tensorflow:mixed4c ['random500_3', 'random500_1'] zebra 0.1\n"
     ]
    },
    {
     "name": "stderr",
     "output_type": "stream",
     "text": [
      "INFO:tensorflow:mixed4c ['random500_3', 'random500_1'] zebra 0.1\n"
     ]
    },
    {
     "name": "stdout",
     "output_type": "stream",
     "text": [
      "INFO:tensorflow:mixed4c ['random500_3', 'random500_2'] zebra 0.1\n"
     ]
    },
    {
     "name": "stderr",
     "output_type": "stream",
     "text": [
      "INFO:tensorflow:mixed4c ['random500_3', 'random500_2'] zebra 0.1\n"
     ]
    },
    {
     "name": "stdout",
     "output_type": "stream",
     "text": [
      "INFO:tensorflow:mixed4c ['random500_3', 'random500_4'] zebra 0.1\n"
     ]
    },
    {
     "name": "stderr",
     "output_type": "stream",
     "text": [
      "INFO:tensorflow:mixed4c ['random500_3', 'random500_4'] zebra 0.1\n"
     ]
    },
    {
     "name": "stdout",
     "output_type": "stream",
     "text": [
      "INFO:tensorflow:mixed4c ['random500_3', 'random500_5'] zebra 0.1\n"
     ]
    },
    {
     "name": "stderr",
     "output_type": "stream",
     "text": [
      "INFO:tensorflow:mixed4c ['random500_3', 'random500_5'] zebra 0.1\n"
     ]
    },
    {
     "name": "stdout",
     "output_type": "stream",
     "text": [
      "INFO:tensorflow:mixed4c ['random500_3', 'random500_6'] zebra 0.1\n"
     ]
    },
    {
     "name": "stderr",
     "output_type": "stream",
     "text": [
      "INFO:tensorflow:mixed4c ['random500_3', 'random500_6'] zebra 0.1\n"
     ]
    },
    {
     "name": "stdout",
     "output_type": "stream",
     "text": [
      "INFO:tensorflow:mixed4c ['random500_3', 'random500_7'] zebra 0.1\n"
     ]
    },
    {
     "name": "stderr",
     "output_type": "stream",
     "text": [
      "INFO:tensorflow:mixed4c ['random500_3', 'random500_7'] zebra 0.1\n"
     ]
    },
    {
     "name": "stdout",
     "output_type": "stream",
     "text": [
      "INFO:tensorflow:mixed4c ['random500_3', 'random500_8'] zebra 0.1\n"
     ]
    },
    {
     "name": "stderr",
     "output_type": "stream",
     "text": [
      "INFO:tensorflow:mixed4c ['random500_3', 'random500_8'] zebra 0.1\n"
     ]
    },
    {
     "name": "stdout",
     "output_type": "stream",
     "text": [
      "INFO:tensorflow:mixed4c ['random500_3', 'random500_9'] zebra 0.1\n"
     ]
    },
    {
     "name": "stderr",
     "output_type": "stream",
     "text": [
      "INFO:tensorflow:mixed4c ['random500_3', 'random500_9'] zebra 0.1\n"
     ]
    },
    {
     "name": "stdout",
     "output_type": "stream",
     "text": [
      "INFO:tensorflow:mixed4c ['random500_4', 'random500_0'] zebra 0.1\n"
     ]
    },
    {
     "name": "stderr",
     "output_type": "stream",
     "text": [
      "INFO:tensorflow:mixed4c ['random500_4', 'random500_0'] zebra 0.1\n"
     ]
    },
    {
     "name": "stdout",
     "output_type": "stream",
     "text": [
      "INFO:tensorflow:mixed4c ['random500_4', 'random500_1'] zebra 0.1\n"
     ]
    },
    {
     "name": "stderr",
     "output_type": "stream",
     "text": [
      "INFO:tensorflow:mixed4c ['random500_4', 'random500_1'] zebra 0.1\n"
     ]
    },
    {
     "name": "stdout",
     "output_type": "stream",
     "text": [
      "INFO:tensorflow:mixed4c ['random500_4', 'random500_2'] zebra 0.1\n"
     ]
    },
    {
     "name": "stderr",
     "output_type": "stream",
     "text": [
      "INFO:tensorflow:mixed4c ['random500_4', 'random500_2'] zebra 0.1\n"
     ]
    },
    {
     "name": "stdout",
     "output_type": "stream",
     "text": [
      "INFO:tensorflow:mixed4c ['random500_4', 'random500_3'] zebra 0.1\n"
     ]
    },
    {
     "name": "stderr",
     "output_type": "stream",
     "text": [
      "INFO:tensorflow:mixed4c ['random500_4', 'random500_3'] zebra 0.1\n"
     ]
    },
    {
     "name": "stdout",
     "output_type": "stream",
     "text": [
      "INFO:tensorflow:mixed4c ['random500_4', 'random500_5'] zebra 0.1\n"
     ]
    },
    {
     "name": "stderr",
     "output_type": "stream",
     "text": [
      "INFO:tensorflow:mixed4c ['random500_4', 'random500_5'] zebra 0.1\n"
     ]
    },
    {
     "name": "stdout",
     "output_type": "stream",
     "text": [
      "INFO:tensorflow:mixed4c ['random500_4', 'random500_6'] zebra 0.1\n"
     ]
    },
    {
     "name": "stderr",
     "output_type": "stream",
     "text": [
      "INFO:tensorflow:mixed4c ['random500_4', 'random500_6'] zebra 0.1\n"
     ]
    },
    {
     "name": "stdout",
     "output_type": "stream",
     "text": [
      "INFO:tensorflow:mixed4c ['random500_4', 'random500_7'] zebra 0.1\n"
     ]
    },
    {
     "name": "stderr",
     "output_type": "stream",
     "text": [
      "INFO:tensorflow:mixed4c ['random500_4', 'random500_7'] zebra 0.1\n"
     ]
    },
    {
     "name": "stdout",
     "output_type": "stream",
     "text": [
      "INFO:tensorflow:mixed4c ['random500_4', 'random500_8'] zebra 0.1\n"
     ]
    },
    {
     "name": "stderr",
     "output_type": "stream",
     "text": [
      "INFO:tensorflow:mixed4c ['random500_4', 'random500_8'] zebra 0.1\n"
     ]
    },
    {
     "name": "stdout",
     "output_type": "stream",
     "text": [
      "INFO:tensorflow:mixed4c ['random500_4', 'random500_9'] zebra 0.1\n"
     ]
    },
    {
     "name": "stderr",
     "output_type": "stream",
     "text": [
      "INFO:tensorflow:mixed4c ['random500_4', 'random500_9'] zebra 0.1\n"
     ]
    },
    {
     "name": "stdout",
     "output_type": "stream",
     "text": [
      "INFO:tensorflow:mixed4c ['random500_5', 'random500_0'] zebra 0.1\n"
     ]
    },
    {
     "name": "stderr",
     "output_type": "stream",
     "text": [
      "INFO:tensorflow:mixed4c ['random500_5', 'random500_0'] zebra 0.1\n"
     ]
    },
    {
     "name": "stdout",
     "output_type": "stream",
     "text": [
      "INFO:tensorflow:mixed4c ['random500_5', 'random500_1'] zebra 0.1\n"
     ]
    },
    {
     "name": "stderr",
     "output_type": "stream",
     "text": [
      "INFO:tensorflow:mixed4c ['random500_5', 'random500_1'] zebra 0.1\n"
     ]
    },
    {
     "name": "stdout",
     "output_type": "stream",
     "text": [
      "INFO:tensorflow:mixed4c ['random500_5', 'random500_2'] zebra 0.1\n"
     ]
    },
    {
     "name": "stderr",
     "output_type": "stream",
     "text": [
      "INFO:tensorflow:mixed4c ['random500_5', 'random500_2'] zebra 0.1\n"
     ]
    },
    {
     "name": "stdout",
     "output_type": "stream",
     "text": [
      "INFO:tensorflow:mixed4c ['random500_5', 'random500_3'] zebra 0.1\n"
     ]
    },
    {
     "name": "stderr",
     "output_type": "stream",
     "text": [
      "INFO:tensorflow:mixed4c ['random500_5', 'random500_3'] zebra 0.1\n"
     ]
    },
    {
     "name": "stdout",
     "output_type": "stream",
     "text": [
      "INFO:tensorflow:mixed4c ['random500_5', 'random500_4'] zebra 0.1\n"
     ]
    },
    {
     "name": "stderr",
     "output_type": "stream",
     "text": [
      "INFO:tensorflow:mixed4c ['random500_5', 'random500_4'] zebra 0.1\n"
     ]
    },
    {
     "name": "stdout",
     "output_type": "stream",
     "text": [
      "INFO:tensorflow:mixed4c ['random500_5', 'random500_6'] zebra 0.1\n"
     ]
    },
    {
     "name": "stderr",
     "output_type": "stream",
     "text": [
      "INFO:tensorflow:mixed4c ['random500_5', 'random500_6'] zebra 0.1\n"
     ]
    },
    {
     "name": "stdout",
     "output_type": "stream",
     "text": [
      "INFO:tensorflow:mixed4c ['random500_5', 'random500_7'] zebra 0.1\n"
     ]
    },
    {
     "name": "stderr",
     "output_type": "stream",
     "text": [
      "INFO:tensorflow:mixed4c ['random500_5', 'random500_7'] zebra 0.1\n"
     ]
    },
    {
     "name": "stdout",
     "output_type": "stream",
     "text": [
      "INFO:tensorflow:mixed4c ['random500_5', 'random500_8'] zebra 0.1\n"
     ]
    },
    {
     "name": "stderr",
     "output_type": "stream",
     "text": [
      "INFO:tensorflow:mixed4c ['random500_5', 'random500_8'] zebra 0.1\n"
     ]
    },
    {
     "name": "stdout",
     "output_type": "stream",
     "text": [
      "INFO:tensorflow:mixed4c ['random500_5', 'random500_9'] zebra 0.1\n"
     ]
    },
    {
     "name": "stderr",
     "output_type": "stream",
     "text": [
      "INFO:tensorflow:mixed4c ['random500_5', 'random500_9'] zebra 0.1\n"
     ]
    },
    {
     "name": "stdout",
     "output_type": "stream",
     "text": [
      "INFO:tensorflow:mixed4c ['random500_6', 'random500_0'] zebra 0.1\n"
     ]
    },
    {
     "name": "stderr",
     "output_type": "stream",
     "text": [
      "INFO:tensorflow:mixed4c ['random500_6', 'random500_0'] zebra 0.1\n"
     ]
    },
    {
     "name": "stdout",
     "output_type": "stream",
     "text": [
      "INFO:tensorflow:mixed4c ['random500_6', 'random500_1'] zebra 0.1\n"
     ]
    },
    {
     "name": "stderr",
     "output_type": "stream",
     "text": [
      "INFO:tensorflow:mixed4c ['random500_6', 'random500_1'] zebra 0.1\n"
     ]
    },
    {
     "name": "stdout",
     "output_type": "stream",
     "text": [
      "INFO:tensorflow:mixed4c ['random500_6', 'random500_2'] zebra 0.1\n"
     ]
    },
    {
     "name": "stderr",
     "output_type": "stream",
     "text": [
      "INFO:tensorflow:mixed4c ['random500_6', 'random500_2'] zebra 0.1\n"
     ]
    },
    {
     "name": "stdout",
     "output_type": "stream",
     "text": [
      "INFO:tensorflow:mixed4c ['random500_6', 'random500_3'] zebra 0.1\n"
     ]
    },
    {
     "name": "stderr",
     "output_type": "stream",
     "text": [
      "INFO:tensorflow:mixed4c ['random500_6', 'random500_3'] zebra 0.1\n"
     ]
    },
    {
     "name": "stdout",
     "output_type": "stream",
     "text": [
      "INFO:tensorflow:mixed4c ['random500_6', 'random500_4'] zebra 0.1\n"
     ]
    },
    {
     "name": "stderr",
     "output_type": "stream",
     "text": [
      "INFO:tensorflow:mixed4c ['random500_6', 'random500_4'] zebra 0.1\n"
     ]
    },
    {
     "name": "stdout",
     "output_type": "stream",
     "text": [
      "INFO:tensorflow:mixed4c ['random500_6', 'random500_5'] zebra 0.1\n"
     ]
    },
    {
     "name": "stderr",
     "output_type": "stream",
     "text": [
      "INFO:tensorflow:mixed4c ['random500_6', 'random500_5'] zebra 0.1\n"
     ]
    },
    {
     "name": "stdout",
     "output_type": "stream",
     "text": [
      "INFO:tensorflow:mixed4c ['random500_6', 'random500_7'] zebra 0.1\n"
     ]
    },
    {
     "name": "stderr",
     "output_type": "stream",
     "text": [
      "INFO:tensorflow:mixed4c ['random500_6', 'random500_7'] zebra 0.1\n"
     ]
    },
    {
     "name": "stdout",
     "output_type": "stream",
     "text": [
      "INFO:tensorflow:mixed4c ['random500_6', 'random500_8'] zebra 0.1\n"
     ]
    },
    {
     "name": "stderr",
     "output_type": "stream",
     "text": [
      "INFO:tensorflow:mixed4c ['random500_6', 'random500_8'] zebra 0.1\n"
     ]
    },
    {
     "name": "stdout",
     "output_type": "stream",
     "text": [
      "INFO:tensorflow:mixed4c ['random500_6', 'random500_9'] zebra 0.1\n"
     ]
    },
    {
     "name": "stderr",
     "output_type": "stream",
     "text": [
      "INFO:tensorflow:mixed4c ['random500_6', 'random500_9'] zebra 0.1\n"
     ]
    },
    {
     "name": "stdout",
     "output_type": "stream",
     "text": [
      "INFO:tensorflow:mixed4c ['random500_7', 'random500_0'] zebra 0.1\n"
     ]
    },
    {
     "name": "stderr",
     "output_type": "stream",
     "text": [
      "INFO:tensorflow:mixed4c ['random500_7', 'random500_0'] zebra 0.1\n"
     ]
    },
    {
     "name": "stdout",
     "output_type": "stream",
     "text": [
      "INFO:tensorflow:mixed4c ['random500_7', 'random500_1'] zebra 0.1\n"
     ]
    },
    {
     "name": "stderr",
     "output_type": "stream",
     "text": [
      "INFO:tensorflow:mixed4c ['random500_7', 'random500_1'] zebra 0.1\n"
     ]
    },
    {
     "name": "stdout",
     "output_type": "stream",
     "text": [
      "INFO:tensorflow:mixed4c ['random500_7', 'random500_2'] zebra 0.1\n"
     ]
    },
    {
     "name": "stderr",
     "output_type": "stream",
     "text": [
      "INFO:tensorflow:mixed4c ['random500_7', 'random500_2'] zebra 0.1\n"
     ]
    },
    {
     "name": "stdout",
     "output_type": "stream",
     "text": [
      "INFO:tensorflow:mixed4c ['random500_7', 'random500_3'] zebra 0.1\n"
     ]
    },
    {
     "name": "stderr",
     "output_type": "stream",
     "text": [
      "INFO:tensorflow:mixed4c ['random500_7', 'random500_3'] zebra 0.1\n"
     ]
    },
    {
     "name": "stdout",
     "output_type": "stream",
     "text": [
      "INFO:tensorflow:mixed4c ['random500_7', 'random500_4'] zebra 0.1\n"
     ]
    },
    {
     "name": "stderr",
     "output_type": "stream",
     "text": [
      "INFO:tensorflow:mixed4c ['random500_7', 'random500_4'] zebra 0.1\n"
     ]
    },
    {
     "name": "stdout",
     "output_type": "stream",
     "text": [
      "INFO:tensorflow:mixed4c ['random500_7', 'random500_5'] zebra 0.1\n"
     ]
    },
    {
     "name": "stderr",
     "output_type": "stream",
     "text": [
      "INFO:tensorflow:mixed4c ['random500_7', 'random500_5'] zebra 0.1\n"
     ]
    },
    {
     "name": "stdout",
     "output_type": "stream",
     "text": [
      "INFO:tensorflow:mixed4c ['random500_7', 'random500_6'] zebra 0.1\n"
     ]
    },
    {
     "name": "stderr",
     "output_type": "stream",
     "text": [
      "INFO:tensorflow:mixed4c ['random500_7', 'random500_6'] zebra 0.1\n"
     ]
    },
    {
     "name": "stdout",
     "output_type": "stream",
     "text": [
      "INFO:tensorflow:mixed4c ['random500_7', 'random500_8'] zebra 0.1\n"
     ]
    },
    {
     "name": "stderr",
     "output_type": "stream",
     "text": [
      "INFO:tensorflow:mixed4c ['random500_7', 'random500_8'] zebra 0.1\n"
     ]
    },
    {
     "name": "stdout",
     "output_type": "stream",
     "text": [
      "INFO:tensorflow:mixed4c ['random500_7', 'random500_9'] zebra 0.1\n"
     ]
    },
    {
     "name": "stderr",
     "output_type": "stream",
     "text": [
      "INFO:tensorflow:mixed4c ['random500_7', 'random500_9'] zebra 0.1\n"
     ]
    },
    {
     "name": "stdout",
     "output_type": "stream",
     "text": [
      "INFO:tensorflow:mixed4c ['random500_8', 'random500_0'] zebra 0.1\n"
     ]
    },
    {
     "name": "stderr",
     "output_type": "stream",
     "text": [
      "INFO:tensorflow:mixed4c ['random500_8', 'random500_0'] zebra 0.1\n"
     ]
    },
    {
     "name": "stdout",
     "output_type": "stream",
     "text": [
      "INFO:tensorflow:mixed4c ['random500_8', 'random500_1'] zebra 0.1\n"
     ]
    },
    {
     "name": "stderr",
     "output_type": "stream",
     "text": [
      "INFO:tensorflow:mixed4c ['random500_8', 'random500_1'] zebra 0.1\n"
     ]
    },
    {
     "name": "stdout",
     "output_type": "stream",
     "text": [
      "INFO:tensorflow:mixed4c ['random500_8', 'random500_2'] zebra 0.1\n"
     ]
    },
    {
     "name": "stderr",
     "output_type": "stream",
     "text": [
      "INFO:tensorflow:mixed4c ['random500_8', 'random500_2'] zebra 0.1\n"
     ]
    },
    {
     "name": "stdout",
     "output_type": "stream",
     "text": [
      "INFO:tensorflow:mixed4c ['random500_8', 'random500_3'] zebra 0.1\n"
     ]
    },
    {
     "name": "stderr",
     "output_type": "stream",
     "text": [
      "INFO:tensorflow:mixed4c ['random500_8', 'random500_3'] zebra 0.1\n"
     ]
    },
    {
     "name": "stdout",
     "output_type": "stream",
     "text": [
      "INFO:tensorflow:mixed4c ['random500_8', 'random500_4'] zebra 0.1\n"
     ]
    },
    {
     "name": "stderr",
     "output_type": "stream",
     "text": [
      "INFO:tensorflow:mixed4c ['random500_8', 'random500_4'] zebra 0.1\n"
     ]
    },
    {
     "name": "stdout",
     "output_type": "stream",
     "text": [
      "INFO:tensorflow:mixed4c ['random500_8', 'random500_5'] zebra 0.1\n"
     ]
    },
    {
     "name": "stderr",
     "output_type": "stream",
     "text": [
      "INFO:tensorflow:mixed4c ['random500_8', 'random500_5'] zebra 0.1\n"
     ]
    },
    {
     "name": "stdout",
     "output_type": "stream",
     "text": [
      "INFO:tensorflow:mixed4c ['random500_8', 'random500_6'] zebra 0.1\n"
     ]
    },
    {
     "name": "stderr",
     "output_type": "stream",
     "text": [
      "INFO:tensorflow:mixed4c ['random500_8', 'random500_6'] zebra 0.1\n"
     ]
    },
    {
     "name": "stdout",
     "output_type": "stream",
     "text": [
      "INFO:tensorflow:mixed4c ['random500_8', 'random500_7'] zebra 0.1\n"
     ]
    },
    {
     "name": "stderr",
     "output_type": "stream",
     "text": [
      "INFO:tensorflow:mixed4c ['random500_8', 'random500_7'] zebra 0.1\n"
     ]
    },
    {
     "name": "stdout",
     "output_type": "stream",
     "text": [
      "INFO:tensorflow:mixed4c ['random500_8', 'random500_9'] zebra 0.1\n"
     ]
    },
    {
     "name": "stderr",
     "output_type": "stream",
     "text": [
      "INFO:tensorflow:mixed4c ['random500_8', 'random500_9'] zebra 0.1\n"
     ]
    },
    {
     "name": "stdout",
     "output_type": "stream",
     "text": [
      "INFO:tensorflow:mixed4c ['random500_9', 'random500_0'] zebra 0.1\n"
     ]
    },
    {
     "name": "stderr",
     "output_type": "stream",
     "text": [
      "INFO:tensorflow:mixed4c ['random500_9', 'random500_0'] zebra 0.1\n"
     ]
    },
    {
     "name": "stdout",
     "output_type": "stream",
     "text": [
      "INFO:tensorflow:mixed4c ['random500_9', 'random500_1'] zebra 0.1\n"
     ]
    },
    {
     "name": "stderr",
     "output_type": "stream",
     "text": [
      "INFO:tensorflow:mixed4c ['random500_9', 'random500_1'] zebra 0.1\n"
     ]
    },
    {
     "name": "stdout",
     "output_type": "stream",
     "text": [
      "INFO:tensorflow:mixed4c ['random500_9', 'random500_2'] zebra 0.1\n"
     ]
    },
    {
     "name": "stderr",
     "output_type": "stream",
     "text": [
      "INFO:tensorflow:mixed4c ['random500_9', 'random500_2'] zebra 0.1\n"
     ]
    },
    {
     "name": "stdout",
     "output_type": "stream",
     "text": [
      "INFO:tensorflow:mixed4c ['random500_9', 'random500_3'] zebra 0.1\n"
     ]
    },
    {
     "name": "stderr",
     "output_type": "stream",
     "text": [
      "INFO:tensorflow:mixed4c ['random500_9', 'random500_3'] zebra 0.1\n"
     ]
    },
    {
     "name": "stdout",
     "output_type": "stream",
     "text": [
      "INFO:tensorflow:mixed4c ['random500_9', 'random500_4'] zebra 0.1\n"
     ]
    },
    {
     "name": "stderr",
     "output_type": "stream",
     "text": [
      "INFO:tensorflow:mixed4c ['random500_9', 'random500_4'] zebra 0.1\n"
     ]
    },
    {
     "name": "stdout",
     "output_type": "stream",
     "text": [
      "INFO:tensorflow:mixed4c ['random500_9', 'random500_5'] zebra 0.1\n"
     ]
    },
    {
     "name": "stderr",
     "output_type": "stream",
     "text": [
      "INFO:tensorflow:mixed4c ['random500_9', 'random500_5'] zebra 0.1\n"
     ]
    },
    {
     "name": "stdout",
     "output_type": "stream",
     "text": [
      "INFO:tensorflow:mixed4c ['random500_9', 'random500_6'] zebra 0.1\n"
     ]
    },
    {
     "name": "stderr",
     "output_type": "stream",
     "text": [
      "INFO:tensorflow:mixed4c ['random500_9', 'random500_6'] zebra 0.1\n"
     ]
    },
    {
     "name": "stdout",
     "output_type": "stream",
     "text": [
      "INFO:tensorflow:mixed4c ['random500_9', 'random500_7'] zebra 0.1\n"
     ]
    },
    {
     "name": "stderr",
     "output_type": "stream",
     "text": [
      "INFO:tensorflow:mixed4c ['random500_9', 'random500_7'] zebra 0.1\n"
     ]
    },
    {
     "name": "stdout",
     "output_type": "stream",
     "text": [
      "INFO:tensorflow:mixed4c ['random500_9', 'random500_8'] zebra 0.1\n"
     ]
    },
    {
     "name": "stderr",
     "output_type": "stream",
     "text": [
      "INFO:tensorflow:mixed4c ['random500_9', 'random500_8'] zebra 0.1\n"
     ]
    },
    {
     "name": "stdout",
     "output_type": "stream",
     "text": [
      "INFO:tensorflow:TCAV will 100 params\n"
     ]
    },
    {
     "name": "stderr",
     "output_type": "stream",
     "text": [
      "INFO:tensorflow:TCAV will 100 params\n"
     ]
    },
    {
     "name": "stdout",
     "output_type": "stream",
     "text": [
      "INFO:tensorflow:mixed4c ['1_color', 'random500_0'] zebra 0.1\n"
     ]
    },
    {
     "name": "stderr",
     "output_type": "stream",
     "text": [
      "INFO:tensorflow:mixed4c ['1_color', 'random500_0'] zebra 0.1\n"
     ]
    },
    {
     "name": "stdout",
     "output_type": "stream",
     "text": [
      "INFO:tensorflow:mixed4c ['1_color', 'random500_1'] zebra 0.1\n"
     ]
    },
    {
     "name": "stderr",
     "output_type": "stream",
     "text": [
      "INFO:tensorflow:mixed4c ['1_color', 'random500_1'] zebra 0.1\n"
     ]
    },
    {
     "name": "stdout",
     "output_type": "stream",
     "text": [
      "INFO:tensorflow:mixed4c ['1_color', 'random500_2'] zebra 0.1\n"
     ]
    },
    {
     "name": "stderr",
     "output_type": "stream",
     "text": [
      "INFO:tensorflow:mixed4c ['1_color', 'random500_2'] zebra 0.1\n"
     ]
    },
    {
     "name": "stdout",
     "output_type": "stream",
     "text": [
      "INFO:tensorflow:mixed4c ['1_color', 'random500_3'] zebra 0.1\n"
     ]
    },
    {
     "name": "stderr",
     "output_type": "stream",
     "text": [
      "INFO:tensorflow:mixed4c ['1_color', 'random500_3'] zebra 0.1\n"
     ]
    },
    {
     "name": "stdout",
     "output_type": "stream",
     "text": [
      "INFO:tensorflow:mixed4c ['1_color', 'random500_4'] zebra 0.1\n"
     ]
    },
    {
     "name": "stderr",
     "output_type": "stream",
     "text": [
      "INFO:tensorflow:mixed4c ['1_color', 'random500_4'] zebra 0.1\n"
     ]
    },
    {
     "name": "stdout",
     "output_type": "stream",
     "text": [
      "INFO:tensorflow:mixed4c ['1_color', 'random500_5'] zebra 0.1\n"
     ]
    },
    {
     "name": "stderr",
     "output_type": "stream",
     "text": [
      "INFO:tensorflow:mixed4c ['1_color', 'random500_5'] zebra 0.1\n"
     ]
    },
    {
     "name": "stdout",
     "output_type": "stream",
     "text": [
      "INFO:tensorflow:mixed4c ['1_color', 'random500_6'] zebra 0.1\n"
     ]
    },
    {
     "name": "stderr",
     "output_type": "stream",
     "text": [
      "INFO:tensorflow:mixed4c ['1_color', 'random500_6'] zebra 0.1\n"
     ]
    },
    {
     "name": "stdout",
     "output_type": "stream",
     "text": [
      "INFO:tensorflow:mixed4c ['1_color', 'random500_7'] zebra 0.1\n"
     ]
    },
    {
     "name": "stderr",
     "output_type": "stream",
     "text": [
      "INFO:tensorflow:mixed4c ['1_color', 'random500_7'] zebra 0.1\n"
     ]
    },
    {
     "name": "stdout",
     "output_type": "stream",
     "text": [
      "INFO:tensorflow:mixed4c ['1_color', 'random500_8'] zebra 0.1\n"
     ]
    },
    {
     "name": "stderr",
     "output_type": "stream",
     "text": [
      "INFO:tensorflow:mixed4c ['1_color', 'random500_8'] zebra 0.1\n"
     ]
    },
    {
     "name": "stdout",
     "output_type": "stream",
     "text": [
      "INFO:tensorflow:mixed4c ['1_color', 'random500_9'] zebra 0.1\n"
     ]
    },
    {
     "name": "stderr",
     "output_type": "stream",
     "text": [
      "INFO:tensorflow:mixed4c ['1_color', 'random500_9'] zebra 0.1\n"
     ]
    },
    {
     "name": "stdout",
     "output_type": "stream",
     "text": [
      "Pairs to test [('zebra', ['1_color', 'random500_0']), ('zebra', ['1_color', 'random500_1']), ('zebra', ['1_color', 'random500_2']), ('zebra', ['1_color', 'random500_3']), ('zebra', ['1_color', 'random500_4']), ('zebra', ['1_color', 'random500_5']), ('zebra', ['1_color', 'random500_6']), ('zebra', ['1_color', 'random500_7']), ('zebra', ['1_color', 'random500_8']), ('zebra', ['1_color', 'random500_9'])]\n",
      "Params [<tcav.run_params.RunParams object at 0x7fd50f8183d0>, <tcav.run_params.RunParams object at 0x7fd50f818890>, <tcav.run_params.RunParams object at 0x7fd50f8188d0>, <tcav.run_params.RunParams object at 0x7fd50f818050>, <tcav.run_params.RunParams object at 0x7fd50f818850>, <tcav.run_params.RunParams object at 0x7fd50f8189d0>, <tcav.run_params.RunParams object at 0x7fd50f818bd0>, <tcav.run_params.RunParams object at 0x7fd50f818a90>, <tcav.run_params.RunParams object at 0x7fd50f818a10>, <tcav.run_params.RunParams object at 0x7fd50f818ad0>]\n",
      "INFO:tensorflow:running 10 params\n"
     ]
    },
    {
     "name": "stderr",
     "output_type": "stream",
     "text": [
      "INFO:tensorflow:running 10 params\n"
     ]
    },
    {
     "name": "stdout",
     "output_type": "stream",
     "text": [
      "INFO:tensorflow:Running param 0 of 10\n"
     ]
    },
    {
     "name": "stderr",
     "output_type": "stream",
     "text": [
      "INFO:tensorflow:Running param 0 of 10\n"
     ]
    },
    {
     "name": "stdout",
     "output_type": "stream",
     "text": [
      "INFO:tensorflow:running zebra ['1_color', 'random500_0']\n"
     ]
    },
    {
     "name": "stderr",
     "output_type": "stream",
     "text": [
      "INFO:tensorflow:running zebra ['1_color', 'random500_0']\n"
     ]
    },
    {
     "name": "stdout",
     "output_type": "stream",
     "text": [
      "INFO:tensorflow:./results/activations/acts_1_color_mixed4c does not exist, Making one...\n"
     ]
    },
    {
     "name": "stderr",
     "output_type": "stream",
     "text": [
      "INFO:tensorflow:./results/activations/acts_1_color_mixed4c does not exist, Making one...\n"
     ]
    },
    {
     "name": "stdout",
     "output_type": "stream",
     "text": [
      "INFO:tensorflow:Loaded ./results/activations/acts_random500_0_mixed4c shape (10, 14, 14, 512)\n"
     ]
    },
    {
     "name": "stderr",
     "output_type": "stream",
     "text": [
      "INFO:tensorflow:Loaded ./results/activations/acts_random500_0_mixed4c shape (10, 14, 14, 512)\n"
     ]
    },
    {
     "name": "stdout",
     "output_type": "stream",
     "text": [
      "INFO:tensorflow:Loaded ./results/activations/acts_zebra_mixed4c shape (5, 14, 14, 512)\n"
     ]
    },
    {
     "name": "stderr",
     "output_type": "stream",
     "text": [
      "INFO:tensorflow:Loaded ./results/activations/acts_zebra_mixed4c shape (5, 14, 14, 512)\n"
     ]
    },
    {
     "name": "stdout",
     "output_type": "stream",
     "text": [
      "INFO:tensorflow:Training CAV ['1_color', 'random500_0'] - mixed4c alpha 0.1\n"
     ]
    },
    {
     "name": "stderr",
     "output_type": "stream",
     "text": [
      "INFO:tensorflow:Training CAV ['1_color', 'random500_0'] - mixed4c alpha 0.1\n"
     ]
    },
    {
     "name": "stdout",
     "output_type": "stream",
     "text": [
      "INFO:tensorflow:training with alpha=0.1\n"
     ]
    },
    {
     "name": "stderr",
     "output_type": "stream",
     "text": [
      "INFO:tensorflow:training with alpha=0.1\n"
     ]
    },
    {
     "name": "stdout",
     "output_type": "stream",
     "text": [
      "INFO:tensorflow:acc per class {'1_color': 0.5, 'random500_0': 1.0, 'overall': 0.7142857142857143}\n"
     ]
    },
    {
     "name": "stderr",
     "output_type": "stream",
     "text": [
      "INFO:tensorflow:acc per class {'1_color': 0.5, 'random500_0': 1.0, 'overall': 0.7142857142857143}\n"
     ]
    },
    {
     "name": "stdout",
     "output_type": "stream",
     "text": [
      "INFO:tensorflow:CAV accuracies: {'1_color': 0.5, 'random500_0': 1.0, 'overall': 0.7142857142857143}\n"
     ]
    },
    {
     "name": "stderr",
     "output_type": "stream",
     "text": [
      "INFO:tensorflow:CAV accuracies: {'1_color': 0.5, 'random500_0': 1.0, 'overall': 0.7142857142857143}\n"
     ]
    },
    {
     "name": "stdout",
     "output_type": "stream",
     "text": [
      "INFO:tensorflow:Running param 1 of 10\n"
     ]
    },
    {
     "name": "stderr",
     "output_type": "stream",
     "text": [
      "INFO:tensorflow:Running param 1 of 10\n"
     ]
    },
    {
     "name": "stdout",
     "output_type": "stream",
     "text": [
      "INFO:tensorflow:running zebra ['1_color', 'random500_1']\n"
     ]
    },
    {
     "name": "stderr",
     "output_type": "stream",
     "text": [
      "INFO:tensorflow:running zebra ['1_color', 'random500_1']\n"
     ]
    },
    {
     "name": "stdout",
     "output_type": "stream",
     "text": [
      "INFO:tensorflow:Loaded ./results/activations/acts_1_color_mixed4c shape (20, 14, 14, 512)\n"
     ]
    },
    {
     "name": "stderr",
     "output_type": "stream",
     "text": [
      "INFO:tensorflow:Loaded ./results/activations/acts_1_color_mixed4c shape (20, 14, 14, 512)\n"
     ]
    },
    {
     "name": "stdout",
     "output_type": "stream",
     "text": [
      "INFO:tensorflow:Loaded ./results/activations/acts_random500_1_mixed4c shape (10, 14, 14, 512)\n"
     ]
    },
    {
     "name": "stderr",
     "output_type": "stream",
     "text": [
      "INFO:tensorflow:Loaded ./results/activations/acts_random500_1_mixed4c shape (10, 14, 14, 512)\n"
     ]
    },
    {
     "name": "stdout",
     "output_type": "stream",
     "text": [
      "INFO:tensorflow:Loaded ./results/activations/acts_zebra_mixed4c shape (5, 14, 14, 512)\n"
     ]
    },
    {
     "name": "stderr",
     "output_type": "stream",
     "text": [
      "INFO:tensorflow:Loaded ./results/activations/acts_zebra_mixed4c shape (5, 14, 14, 512)\n"
     ]
    },
    {
     "name": "stdout",
     "output_type": "stream",
     "text": [
      "INFO:tensorflow:Training CAV ['1_color', 'random500_1'] - mixed4c alpha 0.1\n"
     ]
    },
    {
     "name": "stderr",
     "output_type": "stream",
     "text": [
      "INFO:tensorflow:Training CAV ['1_color', 'random500_1'] - mixed4c alpha 0.1\n"
     ]
    },
    {
     "name": "stdout",
     "output_type": "stream",
     "text": [
      "INFO:tensorflow:training with alpha=0.1\n"
     ]
    },
    {
     "name": "stderr",
     "output_type": "stream",
     "text": [
      "INFO:tensorflow:training with alpha=0.1\n"
     ]
    },
    {
     "name": "stdout",
     "output_type": "stream",
     "text": [
      "INFO:tensorflow:acc per class {'1_color': 0.5, 'random500_1': 0.6666666666666666, 'overall': 0.5714285714285714}\n"
     ]
    },
    {
     "name": "stderr",
     "output_type": "stream",
     "text": [
      "INFO:tensorflow:acc per class {'1_color': 0.5, 'random500_1': 0.6666666666666666, 'overall': 0.5714285714285714}\n"
     ]
    },
    {
     "name": "stdout",
     "output_type": "stream",
     "text": [
      "INFO:tensorflow:CAV accuracies: {'1_color': 0.5, 'random500_1': 0.6666666666666666, 'overall': 0.5714285714285714}\n"
     ]
    },
    {
     "name": "stderr",
     "output_type": "stream",
     "text": [
      "INFO:tensorflow:CAV accuracies: {'1_color': 0.5, 'random500_1': 0.6666666666666666, 'overall': 0.5714285714285714}\n"
     ]
    },
    {
     "name": "stdout",
     "output_type": "stream",
     "text": [
      "INFO:tensorflow:Running param 2 of 10\n"
     ]
    },
    {
     "name": "stderr",
     "output_type": "stream",
     "text": [
      "INFO:tensorflow:Running param 2 of 10\n"
     ]
    },
    {
     "name": "stdout",
     "output_type": "stream",
     "text": [
      "INFO:tensorflow:running zebra ['1_color', 'random500_2']\n"
     ]
    },
    {
     "name": "stderr",
     "output_type": "stream",
     "text": [
      "INFO:tensorflow:running zebra ['1_color', 'random500_2']\n"
     ]
    },
    {
     "name": "stdout",
     "output_type": "stream",
     "text": [
      "INFO:tensorflow:Loaded ./results/activations/acts_1_color_mixed4c shape (20, 14, 14, 512)\n"
     ]
    },
    {
     "name": "stderr",
     "output_type": "stream",
     "text": [
      "INFO:tensorflow:Loaded ./results/activations/acts_1_color_mixed4c shape (20, 14, 14, 512)\n"
     ]
    },
    {
     "name": "stdout",
     "output_type": "stream",
     "text": [
      "INFO:tensorflow:Loaded ./results/activations/acts_random500_2_mixed4c shape (10, 14, 14, 512)\n"
     ]
    },
    {
     "name": "stderr",
     "output_type": "stream",
     "text": [
      "INFO:tensorflow:Loaded ./results/activations/acts_random500_2_mixed4c shape (10, 14, 14, 512)\n"
     ]
    },
    {
     "name": "stdout",
     "output_type": "stream",
     "text": [
      "INFO:tensorflow:Loaded ./results/activations/acts_zebra_mixed4c shape (5, 14, 14, 512)\n"
     ]
    },
    {
     "name": "stderr",
     "output_type": "stream",
     "text": [
      "INFO:tensorflow:Loaded ./results/activations/acts_zebra_mixed4c shape (5, 14, 14, 512)\n"
     ]
    },
    {
     "name": "stdout",
     "output_type": "stream",
     "text": [
      "INFO:tensorflow:Training CAV ['1_color', 'random500_2'] - mixed4c alpha 0.1\n"
     ]
    },
    {
     "name": "stderr",
     "output_type": "stream",
     "text": [
      "INFO:tensorflow:Training CAV ['1_color', 'random500_2'] - mixed4c alpha 0.1\n"
     ]
    },
    {
     "name": "stdout",
     "output_type": "stream",
     "text": [
      "INFO:tensorflow:training with alpha=0.1\n"
     ]
    },
    {
     "name": "stderr",
     "output_type": "stream",
     "text": [
      "INFO:tensorflow:training with alpha=0.1\n"
     ]
    },
    {
     "name": "stdout",
     "output_type": "stream",
     "text": [
      "INFO:tensorflow:acc per class {'1_color': 0.75, 'random500_2': 1.0, 'overall': 0.8571428571428571}\n"
     ]
    },
    {
     "name": "stderr",
     "output_type": "stream",
     "text": [
      "INFO:tensorflow:acc per class {'1_color': 0.75, 'random500_2': 1.0, 'overall': 0.8571428571428571}\n"
     ]
    },
    {
     "name": "stdout",
     "output_type": "stream",
     "text": [
      "INFO:tensorflow:CAV accuracies: {'1_color': 0.75, 'random500_2': 1.0, 'overall': 0.8571428571428571}\n"
     ]
    },
    {
     "name": "stderr",
     "output_type": "stream",
     "text": [
      "INFO:tensorflow:CAV accuracies: {'1_color': 0.75, 'random500_2': 1.0, 'overall': 0.8571428571428571}\n"
     ]
    },
    {
     "name": "stdout",
     "output_type": "stream",
     "text": [
      "INFO:tensorflow:Running param 3 of 10\n"
     ]
    },
    {
     "name": "stderr",
     "output_type": "stream",
     "text": [
      "INFO:tensorflow:Running param 3 of 10\n"
     ]
    },
    {
     "name": "stdout",
     "output_type": "stream",
     "text": [
      "INFO:tensorflow:running zebra ['1_color', 'random500_3']\n"
     ]
    },
    {
     "name": "stderr",
     "output_type": "stream",
     "text": [
      "INFO:tensorflow:running zebra ['1_color', 'random500_3']\n"
     ]
    },
    {
     "name": "stdout",
     "output_type": "stream",
     "text": [
      "INFO:tensorflow:Loaded ./results/activations/acts_1_color_mixed4c shape (20, 14, 14, 512)\n"
     ]
    },
    {
     "name": "stderr",
     "output_type": "stream",
     "text": [
      "INFO:tensorflow:Loaded ./results/activations/acts_1_color_mixed4c shape (20, 14, 14, 512)\n"
     ]
    },
    {
     "name": "stdout",
     "output_type": "stream",
     "text": [
      "INFO:tensorflow:Loaded ./results/activations/acts_random500_3_mixed4c shape (50, 14, 14, 512)\n"
     ]
    },
    {
     "name": "stderr",
     "output_type": "stream",
     "text": [
      "INFO:tensorflow:Loaded ./results/activations/acts_random500_3_mixed4c shape (50, 14, 14, 512)\n"
     ]
    },
    {
     "name": "stdout",
     "output_type": "stream",
     "text": [
      "INFO:tensorflow:Loaded ./results/activations/acts_zebra_mixed4c shape (5, 14, 14, 512)\n"
     ]
    },
    {
     "name": "stderr",
     "output_type": "stream",
     "text": [
      "INFO:tensorflow:Loaded ./results/activations/acts_zebra_mixed4c shape (5, 14, 14, 512)\n"
     ]
    },
    {
     "name": "stdout",
     "output_type": "stream",
     "text": [
      "INFO:tensorflow:Training CAV ['1_color', 'random500_3'] - mixed4c alpha 0.1\n"
     ]
    },
    {
     "name": "stderr",
     "output_type": "stream",
     "text": [
      "INFO:tensorflow:Training CAV ['1_color', 'random500_3'] - mixed4c alpha 0.1\n"
     ]
    },
    {
     "name": "stdout",
     "output_type": "stream",
     "text": [
      "INFO:tensorflow:training with alpha=0.1\n"
     ]
    },
    {
     "name": "stderr",
     "output_type": "stream",
     "text": [
      "INFO:tensorflow:training with alpha=0.1\n"
     ]
    },
    {
     "name": "stdout",
     "output_type": "stream",
     "text": [
      "INFO:tensorflow:acc per class {'1_color': 1.0, 'random500_3': 0.8571428571428571, 'overall': 0.9285714285714286}\n"
     ]
    },
    {
     "name": "stderr",
     "output_type": "stream",
     "text": [
      "INFO:tensorflow:acc per class {'1_color': 1.0, 'random500_3': 0.8571428571428571, 'overall': 0.9285714285714286}\n"
     ]
    },
    {
     "name": "stdout",
     "output_type": "stream",
     "text": [
      "INFO:tensorflow:CAV accuracies: {'1_color': 1.0, 'random500_3': 0.8571428571428571, 'overall': 0.9285714285714286}\n"
     ]
    },
    {
     "name": "stderr",
     "output_type": "stream",
     "text": [
      "INFO:tensorflow:CAV accuracies: {'1_color': 1.0, 'random500_3': 0.8571428571428571, 'overall': 0.9285714285714286}\n"
     ]
    },
    {
     "name": "stdout",
     "output_type": "stream",
     "text": [
      "INFO:tensorflow:Running param 4 of 10\n"
     ]
    },
    {
     "name": "stderr",
     "output_type": "stream",
     "text": [
      "INFO:tensorflow:Running param 4 of 10\n"
     ]
    },
    {
     "name": "stdout",
     "output_type": "stream",
     "text": [
      "INFO:tensorflow:running zebra ['1_color', 'random500_4']\n"
     ]
    },
    {
     "name": "stderr",
     "output_type": "stream",
     "text": [
      "INFO:tensorflow:running zebra ['1_color', 'random500_4']\n"
     ]
    },
    {
     "name": "stdout",
     "output_type": "stream",
     "text": [
      "INFO:tensorflow:Loaded ./results/activations/acts_1_color_mixed4c shape (20, 14, 14, 512)\n"
     ]
    },
    {
     "name": "stderr",
     "output_type": "stream",
     "text": [
      "INFO:tensorflow:Loaded ./results/activations/acts_1_color_mixed4c shape (20, 14, 14, 512)\n"
     ]
    },
    {
     "name": "stdout",
     "output_type": "stream",
     "text": [
      "INFO:tensorflow:Loaded ./results/activations/acts_random500_4_mixed4c shape (50, 14, 14, 512)\n"
     ]
    },
    {
     "name": "stderr",
     "output_type": "stream",
     "text": [
      "INFO:tensorflow:Loaded ./results/activations/acts_random500_4_mixed4c shape (50, 14, 14, 512)\n"
     ]
    },
    {
     "name": "stdout",
     "output_type": "stream",
     "text": [
      "INFO:tensorflow:Loaded ./results/activations/acts_zebra_mixed4c shape (5, 14, 14, 512)\n"
     ]
    },
    {
     "name": "stderr",
     "output_type": "stream",
     "text": [
      "INFO:tensorflow:Loaded ./results/activations/acts_zebra_mixed4c shape (5, 14, 14, 512)\n"
     ]
    },
    {
     "name": "stdout",
     "output_type": "stream",
     "text": [
      "INFO:tensorflow:Training CAV ['1_color', 'random500_4'] - mixed4c alpha 0.1\n"
     ]
    },
    {
     "name": "stderr",
     "output_type": "stream",
     "text": [
      "INFO:tensorflow:Training CAV ['1_color', 'random500_4'] - mixed4c alpha 0.1\n"
     ]
    },
    {
     "name": "stdout",
     "output_type": "stream",
     "text": [
      "INFO:tensorflow:training with alpha=0.1\n"
     ]
    },
    {
     "name": "stderr",
     "output_type": "stream",
     "text": [
      "INFO:tensorflow:training with alpha=0.1\n"
     ]
    },
    {
     "name": "stdout",
     "output_type": "stream",
     "text": [
      "INFO:tensorflow:acc per class {'1_color': 1.0, 'random500_4': 1.0, 'overall': 1.0}\n"
     ]
    },
    {
     "name": "stderr",
     "output_type": "stream",
     "text": [
      "INFO:tensorflow:acc per class {'1_color': 1.0, 'random500_4': 1.0, 'overall': 1.0}\n"
     ]
    },
    {
     "name": "stdout",
     "output_type": "stream",
     "text": [
      "INFO:tensorflow:CAV accuracies: {'1_color': 1.0, 'random500_4': 1.0, 'overall': 1.0}\n"
     ]
    },
    {
     "name": "stderr",
     "output_type": "stream",
     "text": [
      "INFO:tensorflow:CAV accuracies: {'1_color': 1.0, 'random500_4': 1.0, 'overall': 1.0}\n"
     ]
    },
    {
     "name": "stdout",
     "output_type": "stream",
     "text": [
      "INFO:tensorflow:Running param 5 of 10\n"
     ]
    },
    {
     "name": "stderr",
     "output_type": "stream",
     "text": [
      "INFO:tensorflow:Running param 5 of 10\n"
     ]
    },
    {
     "name": "stdout",
     "output_type": "stream",
     "text": [
      "INFO:tensorflow:running zebra ['1_color', 'random500_5']\n"
     ]
    },
    {
     "name": "stderr",
     "output_type": "stream",
     "text": [
      "INFO:tensorflow:running zebra ['1_color', 'random500_5']\n"
     ]
    },
    {
     "name": "stdout",
     "output_type": "stream",
     "text": [
      "INFO:tensorflow:Loaded ./results/activations/acts_1_color_mixed4c shape (20, 14, 14, 512)\n"
     ]
    },
    {
     "name": "stderr",
     "output_type": "stream",
     "text": [
      "INFO:tensorflow:Loaded ./results/activations/acts_1_color_mixed4c shape (20, 14, 14, 512)\n"
     ]
    },
    {
     "name": "stdout",
     "output_type": "stream",
     "text": [
      "INFO:tensorflow:Loaded ./results/activations/acts_random500_5_mixed4c shape (50, 14, 14, 512)\n"
     ]
    },
    {
     "name": "stderr",
     "output_type": "stream",
     "text": [
      "INFO:tensorflow:Loaded ./results/activations/acts_random500_5_mixed4c shape (50, 14, 14, 512)\n"
     ]
    },
    {
     "name": "stdout",
     "output_type": "stream",
     "text": [
      "INFO:tensorflow:Loaded ./results/activations/acts_zebra_mixed4c shape (5, 14, 14, 512)\n"
     ]
    },
    {
     "name": "stderr",
     "output_type": "stream",
     "text": [
      "INFO:tensorflow:Loaded ./results/activations/acts_zebra_mixed4c shape (5, 14, 14, 512)\n"
     ]
    },
    {
     "name": "stdout",
     "output_type": "stream",
     "text": [
      "INFO:tensorflow:Training CAV ['1_color', 'random500_5'] - mixed4c alpha 0.1\n"
     ]
    },
    {
     "name": "stderr",
     "output_type": "stream",
     "text": [
      "INFO:tensorflow:Training CAV ['1_color', 'random500_5'] - mixed4c alpha 0.1\n"
     ]
    },
    {
     "name": "stdout",
     "output_type": "stream",
     "text": [
      "INFO:tensorflow:training with alpha=0.1\n"
     ]
    },
    {
     "name": "stderr",
     "output_type": "stream",
     "text": [
      "INFO:tensorflow:training with alpha=0.1\n"
     ]
    },
    {
     "name": "stdout",
     "output_type": "stream",
     "text": [
      "INFO:tensorflow:acc per class {'1_color': 1.0, 'random500_5': 1.0, 'overall': 1.0}\n"
     ]
    },
    {
     "name": "stderr",
     "output_type": "stream",
     "text": [
      "INFO:tensorflow:acc per class {'1_color': 1.0, 'random500_5': 1.0, 'overall': 1.0}\n"
     ]
    },
    {
     "name": "stdout",
     "output_type": "stream",
     "text": [
      "INFO:tensorflow:CAV accuracies: {'1_color': 1.0, 'random500_5': 1.0, 'overall': 1.0}\n"
     ]
    },
    {
     "name": "stderr",
     "output_type": "stream",
     "text": [
      "INFO:tensorflow:CAV accuracies: {'1_color': 1.0, 'random500_5': 1.0, 'overall': 1.0}\n"
     ]
    },
    {
     "ename": "RuntimeError",
     "evalue": "can't start new thread",
     "output_type": "error",
     "traceback": [
      "\u001b[0;31m---------------------------------------------------------------------------\u001b[0m",
      "\u001b[0;31mRuntimeError\u001b[0m                              Traceback (most recent call last)",
      "\u001b[0;32m/tmp/ipykernel_4193/2953560163.py\u001b[0m in \u001b[0;36m<module>\u001b[0;34m\u001b[0m\n\u001b[1;32m      2\u001b[0m     \u001b[0;32mfor\u001b[0m \u001b[0msuffix\u001b[0m \u001b[0;32min\u001b[0m \u001b[0;34m[\u001b[0m\u001b[0;34m''\u001b[0m\u001b[0;34m,\u001b[0m\u001b[0;34m'_image_robustness'\u001b[0m\u001b[0;34m,\u001b[0m\u001b[0;34m'_image_responsiveness'\u001b[0m\u001b[0;34m]\u001b[0m\u001b[0;34m:\u001b[0m\u001b[0;34m\u001b[0m\u001b[0;34m\u001b[0m\u001b[0m\n\u001b[1;32m      3\u001b[0m         \u001b[0mprint\u001b[0m\u001b[0;34m(\u001b[0m\u001b[0;34m\"{} {}\"\u001b[0m\u001b[0;34m.\u001b[0m\u001b[0mformat\u001b[0m\u001b[0;34m(\u001b[0m\u001b[0mattribute\u001b[0m\u001b[0;34m,\u001b[0m\u001b[0msuffix\u001b[0m\u001b[0;34m)\u001b[0m\u001b[0;34m)\u001b[0m\u001b[0;34m\u001b[0m\u001b[0;34m\u001b[0m\u001b[0m\n\u001b[0;32m----> 4\u001b[0;31m         \u001b[0mcreate_tcav_mnist\u001b[0m\u001b[0;34m(\u001b[0m\u001b[0mattribute\u001b[0m\u001b[0;34m,\u001b[0m\u001b[0;36m10\u001b[0m\u001b[0;34m,\u001b[0m\u001b[0;36m20\u001b[0m\u001b[0;34m,\u001b[0m\u001b[0mseed\u001b[0m\u001b[0;34m=\u001b[0m\u001b[0;36m43\u001b[0m\u001b[0;34m,\u001b[0m\u001b[0msuffix\u001b[0m\u001b[0;34m=\u001b[0m\u001b[0msuffix\u001b[0m\u001b[0;34m)\u001b[0m\u001b[0;34m\u001b[0m\u001b[0;34m\u001b[0m\u001b[0m\n\u001b[0m",
      "\u001b[0;32m/auto/homes/njr61/main_code/src/concept_vectors.py\u001b[0m in \u001b[0;36mcreate_tcav_mnist\u001b[0;34m(attribute_name, num_random_exp, positive_images, images_per_folder, seed, suffix)\u001b[0m\n\u001b[1;32m    181\u001b[0m     \u001b[0malphas\u001b[0m \u001b[0;34m=\u001b[0m \u001b[0;34m[\u001b[0m\u001b[0;36m0.1\u001b[0m\u001b[0;34m]\u001b[0m\u001b[0;34m\u001b[0m\u001b[0;34m\u001b[0m\u001b[0m\n\u001b[1;32m    182\u001b[0m \u001b[0;34m\u001b[0m\u001b[0m\n\u001b[0;32m--> 183\u001b[0;31m     \u001b[0mcreate_tcav_vectors\u001b[0m\u001b[0;34m(\u001b[0m\u001b[0mconcepts\u001b[0m\u001b[0;34m,\u001b[0m\u001b[0mtarget\u001b[0m\u001b[0;34m,\u001b[0m\u001b[0mmodel_name\u001b[0m\u001b[0;34m,\u001b[0m\u001b[0mbottlenecks\u001b[0m\u001b[0;34m,\u001b[0m\u001b[0mnum_random_exp\u001b[0m\u001b[0;34m,\u001b[0m\u001b[0mexperiment_name\u001b[0m\u001b[0;34m=\u001b[0m\u001b[0;34m\"mnist\"\u001b[0m\u001b[0;34m+\u001b[0m\u001b[0msuffix\u001b[0m\u001b[0;34m,\u001b[0m\u001b[0malphas\u001b[0m\u001b[0;34m=\u001b[0m\u001b[0;34m[\u001b[0m\u001b[0;36m0.1\u001b[0m\u001b[0;34m]\u001b[0m\u001b[0;34m,\u001b[0m\u001b[0mseed\u001b[0m\u001b[0;34m=\u001b[0m\u001b[0mseed\u001b[0m\u001b[0;34m,\u001b[0m\u001b[0mpositive_images\u001b[0m\u001b[0;34m=\u001b[0m\u001b[0mpositive_images\u001b[0m\u001b[0;34m)\u001b[0m\u001b[0;34m\u001b[0m\u001b[0;34m\u001b[0m\u001b[0m\n\u001b[0m\u001b[1;32m    184\u001b[0m \u001b[0;34m\u001b[0m\u001b[0m\n\u001b[1;32m    185\u001b[0m \u001b[0;32mdef\u001b[0m \u001b[0mload_activations_tcav\u001b[0m\u001b[0;34m(\u001b[0m\u001b[0mattribute_list\u001b[0m\u001b[0;34m,\u001b[0m\u001b[0mexperiment_name\u001b[0m\u001b[0;34m=\u001b[0m\u001b[0;34m\"unfiled\"\u001b[0m\u001b[0;34m,\u001b[0m\u001b[0mseed\u001b[0m\u001b[0;34m=\u001b[0m\u001b[0;34m-\u001b[0m\u001b[0;36m1\u001b[0m\u001b[0;34m)\u001b[0m\u001b[0;34m:\u001b[0m\u001b[0;34m\u001b[0m\u001b[0;34m\u001b[0m\u001b[0m\n",
      "\u001b[0;32m/auto/homes/njr61/main_code/src/concept_vectors.py\u001b[0m in \u001b[0;36mcreate_tcav_vectors\u001b[0;34m(concepts, target, model_name, bottlenecks, num_random_exp, experiment_name, alphas, seed, positive_images)\u001b[0m\n\u001b[1;32m    302\u001b[0m     \u001b[0mprint\u001b[0m\u001b[0;34m(\u001b[0m\u001b[0;34m\"Params {}\"\u001b[0m\u001b[0;34m.\u001b[0m\u001b[0mformat\u001b[0m\u001b[0;34m(\u001b[0m\u001b[0mmytcav\u001b[0m\u001b[0;34m.\u001b[0m\u001b[0mparams\u001b[0m\u001b[0;34m)\u001b[0m\u001b[0;34m)\u001b[0m\u001b[0;34m\u001b[0m\u001b[0;34m\u001b[0m\u001b[0m\n\u001b[1;32m    303\u001b[0m \u001b[0;34m\u001b[0m\u001b[0m\n\u001b[0;32m--> 304\u001b[0;31m     \u001b[0mmytcav\u001b[0m\u001b[0;34m.\u001b[0m\u001b[0mrun\u001b[0m\u001b[0;34m(\u001b[0m\u001b[0mrun_parallel\u001b[0m\u001b[0;34m=\u001b[0m\u001b[0;32mFalse\u001b[0m\u001b[0;34m)\u001b[0m\u001b[0;34m\u001b[0m\u001b[0;34m\u001b[0m\u001b[0m\n\u001b[0m\u001b[1;32m    305\u001b[0m \u001b[0;34m\u001b[0m\u001b[0m\n\u001b[1;32m    306\u001b[0m \u001b[0;32mdef\u001b[0m \u001b[0mload_tcav_vectors_simple\u001b[0m\u001b[0;34m(\u001b[0m\u001b[0mattribute\u001b[0m\u001b[0;34m,\u001b[0m\u001b[0mdataset\u001b[0m\u001b[0;34m,\u001b[0m\u001b[0mseed\u001b[0m\u001b[0;34m=\u001b[0m\u001b[0;34m-\u001b[0m\u001b[0;36m1\u001b[0m\u001b[0;34m)\u001b[0m\u001b[0;34m:\u001b[0m\u001b[0;34m\u001b[0m\u001b[0;34m\u001b[0m\u001b[0m\n",
      "\u001b[0;32m/auto/homes/njr61/environments/mambaforge/envs/concepts/lib/python3.7/site-packages/tcav/tcav.py\u001b[0m in \u001b[0;36mrun\u001b[0;34m(self, num_workers, run_parallel, overwrite, return_proto)\u001b[0m\n\u001b[1;32m    222\u001b[0m       \u001b[0;32mfor\u001b[0m \u001b[0mi\u001b[0m\u001b[0;34m,\u001b[0m \u001b[0mparam\u001b[0m \u001b[0;32min\u001b[0m \u001b[0menumerate\u001b[0m\u001b[0;34m(\u001b[0m\u001b[0mself\u001b[0m\u001b[0;34m.\u001b[0m\u001b[0mparams\u001b[0m\u001b[0;34m)\u001b[0m\u001b[0;34m:\u001b[0m\u001b[0;34m\u001b[0m\u001b[0;34m\u001b[0m\u001b[0m\n\u001b[1;32m    223\u001b[0m         \u001b[0mtf\u001b[0m\u001b[0;34m.\u001b[0m\u001b[0mcompat\u001b[0m\u001b[0;34m.\u001b[0m\u001b[0mv1\u001b[0m\u001b[0;34m.\u001b[0m\u001b[0mlogging\u001b[0m\u001b[0;34m.\u001b[0m\u001b[0minfo\u001b[0m\u001b[0;34m(\u001b[0m\u001b[0;34m'Running param %s of %s'\u001b[0m \u001b[0;34m%\u001b[0m \u001b[0;34m(\u001b[0m\u001b[0mi\u001b[0m\u001b[0;34m,\u001b[0m \u001b[0mlen\u001b[0m\u001b[0;34m(\u001b[0m\u001b[0mself\u001b[0m\u001b[0;34m.\u001b[0m\u001b[0mparams\u001b[0m\u001b[0;34m)\u001b[0m\u001b[0;34m)\u001b[0m\u001b[0;34m)\u001b[0m\u001b[0;34m\u001b[0m\u001b[0;34m\u001b[0m\u001b[0m\n\u001b[0;32m--> 224\u001b[0;31m         \u001b[0mresults\u001b[0m\u001b[0;34m.\u001b[0m\u001b[0mappend\u001b[0m\u001b[0;34m(\u001b[0m\u001b[0mself\u001b[0m\u001b[0;34m.\u001b[0m\u001b[0m_run_single_set\u001b[0m\u001b[0;34m(\u001b[0m\u001b[0mparam\u001b[0m\u001b[0;34m,\u001b[0m \u001b[0moverwrite\u001b[0m\u001b[0;34m=\u001b[0m\u001b[0moverwrite\u001b[0m\u001b[0;34m,\u001b[0m \u001b[0mrun_parallel\u001b[0m\u001b[0;34m=\u001b[0m\u001b[0mrun_parallel\u001b[0m\u001b[0;34m)\u001b[0m\u001b[0;34m)\u001b[0m\u001b[0;34m\u001b[0m\u001b[0;34m\u001b[0m\u001b[0m\n\u001b[0m\u001b[1;32m    225\u001b[0m     tf.compat.v1.logging.info('Done running %s params. Took %s seconds...' % (len(\n\u001b[1;32m    226\u001b[0m         self.params), time.time() - now))\n",
      "\u001b[0;32m/auto/homes/njr61/environments/mambaforge/envs/concepts/lib/python3.7/site-packages/tcav/tcav.py\u001b[0m in \u001b[0;36m_run_single_set\u001b[0;34m(self, param, overwrite, run_parallel)\u001b[0m\n\u001b[1;32m    285\u001b[0m         \u001b[0mmymodel\u001b[0m\u001b[0;34m,\u001b[0m \u001b[0mtarget_class_for_compute_tcav_score\u001b[0m\u001b[0;34m,\u001b[0m \u001b[0mcav_concept\u001b[0m\u001b[0;34m,\u001b[0m\u001b[0;34m\u001b[0m\u001b[0;34m\u001b[0m\u001b[0m\n\u001b[1;32m    286\u001b[0m         \u001b[0mcav_instance\u001b[0m\u001b[0;34m,\u001b[0m \u001b[0macts\u001b[0m\u001b[0;34m[\u001b[0m\u001b[0mtarget_class\u001b[0m\u001b[0;34m]\u001b[0m\u001b[0;34m[\u001b[0m\u001b[0mcav_instance\u001b[0m\u001b[0;34m.\u001b[0m\u001b[0mbottleneck\u001b[0m\u001b[0;34m]\u001b[0m\u001b[0;34m,\u001b[0m\u001b[0;34m\u001b[0m\u001b[0;34m\u001b[0m\u001b[0m\n\u001b[0;32m--> 287\u001b[0;31m         activation_generator.get_examples_for_concept(target_class))\n\u001b[0m\u001b[1;32m    288\u001b[0m     result = {\n\u001b[1;32m    289\u001b[0m         \u001b[0;34m'cav_key'\u001b[0m\u001b[0;34m:\u001b[0m\u001b[0;34m\u001b[0m\u001b[0;34m\u001b[0m\u001b[0m\n",
      "\u001b[0;32m/auto/homes/njr61/environments/mambaforge/envs/concepts/lib/python3.7/site-packages/tcav/activation_generator.py\u001b[0m in \u001b[0;36mget_examples_for_concept\u001b[0;34m(self, concept)\u001b[0m\n\u001b[1;32m    117\u001b[0m     ]\n\u001b[1;32m    118\u001b[0m     imgs = self.load_images_from_files(\n\u001b[0;32m--> 119\u001b[0;31m         img_paths, self.max_examples, shape=self.model.get_image_shape()[:2])\n\u001b[0m\u001b[1;32m    120\u001b[0m     \u001b[0;32mreturn\u001b[0m \u001b[0mimgs\u001b[0m\u001b[0;34m\u001b[0m\u001b[0;34m\u001b[0m\u001b[0m\n\u001b[1;32m    121\u001b[0m \u001b[0;34m\u001b[0m\u001b[0m\n",
      "\u001b[0;32m/auto/homes/njr61/environments/mambaforge/envs/concepts/lib/python3.7/site-packages/tcav/activation_generator.py\u001b[0m in \u001b[0;36mload_images_from_files\u001b[0;34m(self, filenames, max_imgs, do_shuffle, run_parallel, shape, num_workers)\u001b[0m\n\u001b[1;32m    186\u001b[0m \u001b[0;34m\u001b[0m\u001b[0m\n\u001b[1;32m    187\u001b[0m     \u001b[0;32mif\u001b[0m \u001b[0mrun_parallel\u001b[0m\u001b[0;34m:\u001b[0m\u001b[0;34m\u001b[0m\u001b[0;34m\u001b[0m\u001b[0m\n\u001b[0;32m--> 188\u001b[0;31m       \u001b[0mpool\u001b[0m \u001b[0;34m=\u001b[0m \u001b[0mmultiprocessing\u001b[0m\u001b[0;34m.\u001b[0m\u001b[0mPool\u001b[0m\u001b[0;34m(\u001b[0m\u001b[0mnum_workers\u001b[0m\u001b[0;34m)\u001b[0m\u001b[0;34m\u001b[0m\u001b[0;34m\u001b[0m\u001b[0m\n\u001b[0m\u001b[1;32m    189\u001b[0m       imgs = pool.map(\n\u001b[1;32m    190\u001b[0m           \u001b[0;32mlambda\u001b[0m \u001b[0mfilename\u001b[0m\u001b[0;34m:\u001b[0m \u001b[0mself\u001b[0m\u001b[0;34m.\u001b[0m\u001b[0mload_image_from_file\u001b[0m\u001b[0;34m(\u001b[0m\u001b[0mfilename\u001b[0m\u001b[0;34m,\u001b[0m \u001b[0mshape\u001b[0m\u001b[0;34m)\u001b[0m\u001b[0;34m,\u001b[0m\u001b[0;34m\u001b[0m\u001b[0;34m\u001b[0m\u001b[0m\n",
      "\u001b[0;32m/auto/homes/njr61/environments/mambaforge/envs/concepts/lib/python3.7/multiprocessing/dummy/__init__.py\u001b[0m in \u001b[0;36mPool\u001b[0;34m(processes, initializer, initargs)\u001b[0m\n\u001b[1;32m    122\u001b[0m \u001b[0;32mdef\u001b[0m \u001b[0mPool\u001b[0m\u001b[0;34m(\u001b[0m\u001b[0mprocesses\u001b[0m\u001b[0;34m=\u001b[0m\u001b[0;32mNone\u001b[0m\u001b[0;34m,\u001b[0m \u001b[0minitializer\u001b[0m\u001b[0;34m=\u001b[0m\u001b[0;32mNone\u001b[0m\u001b[0;34m,\u001b[0m \u001b[0minitargs\u001b[0m\u001b[0;34m=\u001b[0m\u001b[0;34m(\u001b[0m\u001b[0;34m)\u001b[0m\u001b[0;34m)\u001b[0m\u001b[0;34m:\u001b[0m\u001b[0;34m\u001b[0m\u001b[0;34m\u001b[0m\u001b[0m\n\u001b[1;32m    123\u001b[0m     \u001b[0;32mfrom\u001b[0m \u001b[0;34m.\u001b[0m\u001b[0;34m.\u001b[0m\u001b[0mpool\u001b[0m \u001b[0;32mimport\u001b[0m \u001b[0mThreadPool\u001b[0m\u001b[0;34m\u001b[0m\u001b[0;34m\u001b[0m\u001b[0m\n\u001b[0;32m--> 124\u001b[0;31m     \u001b[0;32mreturn\u001b[0m \u001b[0mThreadPool\u001b[0m\u001b[0;34m(\u001b[0m\u001b[0mprocesses\u001b[0m\u001b[0;34m,\u001b[0m \u001b[0minitializer\u001b[0m\u001b[0;34m,\u001b[0m \u001b[0minitargs\u001b[0m\u001b[0;34m)\u001b[0m\u001b[0;34m\u001b[0m\u001b[0;34m\u001b[0m\u001b[0m\n\u001b[0m\u001b[1;32m    125\u001b[0m \u001b[0;34m\u001b[0m\u001b[0m\n\u001b[1;32m    126\u001b[0m \u001b[0mJoinableQueue\u001b[0m \u001b[0;34m=\u001b[0m \u001b[0mQueue\u001b[0m\u001b[0;34m\u001b[0m\u001b[0;34m\u001b[0m\u001b[0m\n",
      "\u001b[0;32m/auto/homes/njr61/environments/mambaforge/envs/concepts/lib/python3.7/multiprocessing/pool.py\u001b[0m in \u001b[0;36m__init__\u001b[0;34m(self, processes, initializer, initargs)\u001b[0m\n\u001b[1;32m    800\u001b[0m \u001b[0;34m\u001b[0m\u001b[0m\n\u001b[1;32m    801\u001b[0m     \u001b[0;32mdef\u001b[0m \u001b[0m__init__\u001b[0m\u001b[0;34m(\u001b[0m\u001b[0mself\u001b[0m\u001b[0;34m,\u001b[0m \u001b[0mprocesses\u001b[0m\u001b[0;34m=\u001b[0m\u001b[0;32mNone\u001b[0m\u001b[0;34m,\u001b[0m \u001b[0minitializer\u001b[0m\u001b[0;34m=\u001b[0m\u001b[0;32mNone\u001b[0m\u001b[0;34m,\u001b[0m \u001b[0minitargs\u001b[0m\u001b[0;34m=\u001b[0m\u001b[0;34m(\u001b[0m\u001b[0;34m)\u001b[0m\u001b[0;34m)\u001b[0m\u001b[0;34m:\u001b[0m\u001b[0;34m\u001b[0m\u001b[0;34m\u001b[0m\u001b[0m\n\u001b[0;32m--> 802\u001b[0;31m         \u001b[0mPool\u001b[0m\u001b[0;34m.\u001b[0m\u001b[0m__init__\u001b[0m\u001b[0;34m(\u001b[0m\u001b[0mself\u001b[0m\u001b[0;34m,\u001b[0m \u001b[0mprocesses\u001b[0m\u001b[0;34m,\u001b[0m \u001b[0minitializer\u001b[0m\u001b[0;34m,\u001b[0m \u001b[0minitargs\u001b[0m\u001b[0;34m)\u001b[0m\u001b[0;34m\u001b[0m\u001b[0;34m\u001b[0m\u001b[0m\n\u001b[0m\u001b[1;32m    803\u001b[0m \u001b[0;34m\u001b[0m\u001b[0m\n\u001b[1;32m    804\u001b[0m     \u001b[0;32mdef\u001b[0m \u001b[0m_setup_queues\u001b[0m\u001b[0;34m(\u001b[0m\u001b[0mself\u001b[0m\u001b[0;34m)\u001b[0m\u001b[0;34m:\u001b[0m\u001b[0;34m\u001b[0m\u001b[0;34m\u001b[0m\u001b[0m\n",
      "\u001b[0;32m/auto/homes/njr61/environments/mambaforge/envs/concepts/lib/python3.7/multiprocessing/pool.py\u001b[0m in \u001b[0;36m__init__\u001b[0;34m(self, processes, initializer, initargs, maxtasksperchild, context)\u001b[0m\n\u001b[1;32m    174\u001b[0m         \u001b[0mself\u001b[0m\u001b[0;34m.\u001b[0m\u001b[0m_processes\u001b[0m \u001b[0;34m=\u001b[0m \u001b[0mprocesses\u001b[0m\u001b[0;34m\u001b[0m\u001b[0;34m\u001b[0m\u001b[0m\n\u001b[1;32m    175\u001b[0m         \u001b[0mself\u001b[0m\u001b[0;34m.\u001b[0m\u001b[0m_pool\u001b[0m \u001b[0;34m=\u001b[0m \u001b[0;34m[\u001b[0m\u001b[0;34m]\u001b[0m\u001b[0;34m\u001b[0m\u001b[0;34m\u001b[0m\u001b[0m\n\u001b[0;32m--> 176\u001b[0;31m         \u001b[0mself\u001b[0m\u001b[0;34m.\u001b[0m\u001b[0m_repopulate_pool\u001b[0m\u001b[0;34m(\u001b[0m\u001b[0;34m)\u001b[0m\u001b[0;34m\u001b[0m\u001b[0;34m\u001b[0m\u001b[0m\n\u001b[0m\u001b[1;32m    177\u001b[0m \u001b[0;34m\u001b[0m\u001b[0m\n\u001b[1;32m    178\u001b[0m         self._worker_handler = threading.Thread(\n",
      "\u001b[0;32m/auto/homes/njr61/environments/mambaforge/envs/concepts/lib/python3.7/multiprocessing/pool.py\u001b[0m in \u001b[0;36m_repopulate_pool\u001b[0;34m(self)\u001b[0m\n\u001b[1;32m    239\u001b[0m             \u001b[0mw\u001b[0m\u001b[0;34m.\u001b[0m\u001b[0mname\u001b[0m \u001b[0;34m=\u001b[0m \u001b[0mw\u001b[0m\u001b[0;34m.\u001b[0m\u001b[0mname\u001b[0m\u001b[0;34m.\u001b[0m\u001b[0mreplace\u001b[0m\u001b[0;34m(\u001b[0m\u001b[0;34m'Process'\u001b[0m\u001b[0;34m,\u001b[0m \u001b[0;34m'PoolWorker'\u001b[0m\u001b[0;34m)\u001b[0m\u001b[0;34m\u001b[0m\u001b[0;34m\u001b[0m\u001b[0m\n\u001b[1;32m    240\u001b[0m             \u001b[0mw\u001b[0m\u001b[0;34m.\u001b[0m\u001b[0mdaemon\u001b[0m \u001b[0;34m=\u001b[0m \u001b[0;32mTrue\u001b[0m\u001b[0;34m\u001b[0m\u001b[0;34m\u001b[0m\u001b[0m\n\u001b[0;32m--> 241\u001b[0;31m             \u001b[0mw\u001b[0m\u001b[0;34m.\u001b[0m\u001b[0mstart\u001b[0m\u001b[0;34m(\u001b[0m\u001b[0;34m)\u001b[0m\u001b[0;34m\u001b[0m\u001b[0;34m\u001b[0m\u001b[0m\n\u001b[0m\u001b[1;32m    242\u001b[0m             \u001b[0mutil\u001b[0m\u001b[0;34m.\u001b[0m\u001b[0mdebug\u001b[0m\u001b[0;34m(\u001b[0m\u001b[0;34m'added worker'\u001b[0m\u001b[0;34m)\u001b[0m\u001b[0;34m\u001b[0m\u001b[0;34m\u001b[0m\u001b[0m\n\u001b[1;32m    243\u001b[0m \u001b[0;34m\u001b[0m\u001b[0m\n",
      "\u001b[0;32m/auto/homes/njr61/environments/mambaforge/envs/concepts/lib/python3.7/multiprocessing/dummy/__init__.py\u001b[0m in \u001b[0;36mstart\u001b[0;34m(self)\u001b[0m\n\u001b[1;32m     49\u001b[0m         \u001b[0;32mif\u001b[0m \u001b[0mhasattr\u001b[0m\u001b[0;34m(\u001b[0m\u001b[0mself\u001b[0m\u001b[0;34m.\u001b[0m\u001b[0m_parent\u001b[0m\u001b[0;34m,\u001b[0m \u001b[0;34m'_children'\u001b[0m\u001b[0;34m)\u001b[0m\u001b[0;34m:\u001b[0m\u001b[0;34m\u001b[0m\u001b[0;34m\u001b[0m\u001b[0m\n\u001b[1;32m     50\u001b[0m             \u001b[0mself\u001b[0m\u001b[0;34m.\u001b[0m\u001b[0m_parent\u001b[0m\u001b[0;34m.\u001b[0m\u001b[0m_children\u001b[0m\u001b[0;34m[\u001b[0m\u001b[0mself\u001b[0m\u001b[0;34m]\u001b[0m \u001b[0;34m=\u001b[0m \u001b[0;32mNone\u001b[0m\u001b[0;34m\u001b[0m\u001b[0;34m\u001b[0m\u001b[0m\n\u001b[0;32m---> 51\u001b[0;31m         \u001b[0mthreading\u001b[0m\u001b[0;34m.\u001b[0m\u001b[0mThread\u001b[0m\u001b[0;34m.\u001b[0m\u001b[0mstart\u001b[0m\u001b[0;34m(\u001b[0m\u001b[0mself\u001b[0m\u001b[0;34m)\u001b[0m\u001b[0;34m\u001b[0m\u001b[0;34m\u001b[0m\u001b[0m\n\u001b[0m\u001b[1;32m     52\u001b[0m \u001b[0;34m\u001b[0m\u001b[0m\n\u001b[1;32m     53\u001b[0m     \u001b[0;34m@\u001b[0m\u001b[0mproperty\u001b[0m\u001b[0;34m\u001b[0m\u001b[0;34m\u001b[0m\u001b[0m\n",
      "\u001b[0;32m/auto/homes/njr61/environments/mambaforge/envs/concepts/lib/python3.7/threading.py\u001b[0m in \u001b[0;36mstart\u001b[0;34m(self)\u001b[0m\n\u001b[1;32m    850\u001b[0m             \u001b[0m_limbo\u001b[0m\u001b[0;34m[\u001b[0m\u001b[0mself\u001b[0m\u001b[0;34m]\u001b[0m \u001b[0;34m=\u001b[0m \u001b[0mself\u001b[0m\u001b[0;34m\u001b[0m\u001b[0;34m\u001b[0m\u001b[0m\n\u001b[1;32m    851\u001b[0m         \u001b[0;32mtry\u001b[0m\u001b[0;34m:\u001b[0m\u001b[0;34m\u001b[0m\u001b[0;34m\u001b[0m\u001b[0m\n\u001b[0;32m--> 852\u001b[0;31m             \u001b[0m_start_new_thread\u001b[0m\u001b[0;34m(\u001b[0m\u001b[0mself\u001b[0m\u001b[0;34m.\u001b[0m\u001b[0m_bootstrap\u001b[0m\u001b[0;34m,\u001b[0m \u001b[0;34m(\u001b[0m\u001b[0;34m)\u001b[0m\u001b[0;34m)\u001b[0m\u001b[0;34m\u001b[0m\u001b[0;34m\u001b[0m\u001b[0m\n\u001b[0m\u001b[1;32m    853\u001b[0m         \u001b[0;32mexcept\u001b[0m \u001b[0mException\u001b[0m\u001b[0;34m:\u001b[0m\u001b[0;34m\u001b[0m\u001b[0;34m\u001b[0m\u001b[0m\n\u001b[1;32m    854\u001b[0m             \u001b[0;32mwith\u001b[0m \u001b[0m_active_limbo_lock\u001b[0m\u001b[0;34m:\u001b[0m\u001b[0;34m\u001b[0m\u001b[0;34m\u001b[0m\u001b[0m\n",
      "\u001b[0;31mRuntimeError\u001b[0m: can't start new thread"
     ]
    }
   ],
   "source": [
    "for attribute in mnist_attributes[:4]:\n",
    "    for suffix in ['','_image_robustness','_image_responsiveness']:\n",
    "        print(\"{} {}\".format(attribute,suffix))\n",
    "        create_tcav_mnist(attribute,10,20,seed=43,suffix=suffix)"
   ]
  },
  {
   "cell_type": "code",
   "execution_count": 37,
   "id": "45fb8c7b",
   "metadata": {},
   "outputs": [],
   "source": [
    "seed = 43\n",
    "experiment_name = \"mnist_image_responsiveness\"\n",
    "model_name = \"GoogleNet\"\n",
    "bottlenecks = ['mixed4c']\n",
    "\n",
    "np.random.seed(seed)\n",
    "random.seed(seed)\n",
    "\n",
    "activation_dir = './results/activations'\n",
    "working_dir = './results/tmp'\n",
    "image_dir = \"./dataset/images\"\n",
    "\n",
    "sess = utils.create_session()\n",
    "if model_name == \"GoogleNet\":\n",
    "    GRAPH_PATH = \"./dataset/models/inception5h/tensorflow_inception_graph.pb\"\n",
    "    LABEL_PATH = \"./dataset/models/inception5h/imagenet_comp_graph_label_strings.txt\"\n",
    "    mymodel = model.GoogleNetWrapper_public(sess,\n",
    "                                        GRAPH_PATH,\n",
    "                                        LABEL_PATH)\n",
    "else:\n",
    "    raise Exception(\"create_tcav_vectors not implemented for {}\".format(model_name))"
   ]
  },
  {
   "cell_type": "code",
   "execution_count": 32,
   "id": "a31e1cf4",
   "metadata": {},
   "outputs": [],
   "source": [
    "cav_dir = './results/cavs/{}/{}'.format(experiment_name,seed)\n",
    "act_generator = act_gen.ImageActivationGenerator(mymodel, image_dir, activation_dir, max_examples=100)"
   ]
  },
  {
   "cell_type": "code",
   "execution_count": 40,
   "id": "1e96be3c",
   "metadata": {},
   "outputs": [],
   "source": [
    "train = pickle.load(open(\"dataset/colored_mnist/images/train.pkl\",\"rb\"))\n",
    "train_robust = pickle.load(open(\"dataset/colored_mnist_robustness/images/train.pkl\",\"rb\"))"
   ]
  },
  {
   "cell_type": "code",
   "execution_count": 49,
   "id": "c3126ce8",
   "metadata": {},
   "outputs": [
    {
     "name": "stdout",
     "output_type": "stream",
     "text": [
      "3\n"
     ]
    }
   ],
   "source": [
    "for i in range(len(train)):\n",
    "    if train[i]['attribute_label'] != train_robust[i]['attribute_label']:\n",
    "        break\n",
    "print(i)"
   ]
  },
  {
   "cell_type": "code",
   "execution_count": 45,
   "id": "e7457efe",
   "metadata": {},
   "outputs": [],
   "source": [
    "model = load_pb(\"dataset/models/inception5h/tensorflow_inception_graph.pb\")"
   ]
  },
  {
   "cell_type": "code",
   "execution_count": 48,
   "id": "ecafd121",
   "metadata": {},
   "outputs": [
    {
     "data": {
      "text/plain": [
       "tensorflow.core.framework.graph_pb2.GraphDef"
      ]
     },
     "execution_count": 48,
     "metadata": {},
     "output_type": "execute_result"
    }
   ],
   "source": [
    "type(model)"
   ]
  },
  {
   "cell_type": "code",
   "execution_count": 47,
   "id": "dcd275b7",
   "metadata": {},
   "outputs": [],
   "source": [
    "nodes = [n for n in model.node]"
   ]
  },
  {
   "cell_type": "code",
   "execution_count": 50,
   "id": "b56be7b2",
   "metadata": {},
   "outputs": [
    {
     "ename": "AttributeError",
     "evalue": "Assignment not allowed to repeated field \"node\" in protocol message object.",
     "output_type": "error",
     "traceback": [
      "\u001b[0;31m---------------------------------------------------------------------------\u001b[0m",
      "\u001b[0;31mAttributeError\u001b[0m                            Traceback (most recent call last)",
      "\u001b[0;32m/tmp/ipykernel_1742/2233045079.py\u001b[0m in \u001b[0;36m<module>\u001b[0;34m\u001b[0m\n\u001b[0;32m----> 1\u001b[0;31m \u001b[0mmodel\u001b[0m\u001b[0;34m.\u001b[0m\u001b[0mnode\u001b[0m \u001b[0;34m=\u001b[0m \u001b[0;34m[\u001b[0m\u001b[0;34m]\u001b[0m\u001b[0;34m\u001b[0m\u001b[0;34m\u001b[0m\u001b[0m\n\u001b[0m",
      "\u001b[0;31mAttributeError\u001b[0m: Assignment not allowed to repeated field \"node\" in protocol message object."
     ]
    }
   ],
   "source": [
    "model.node = []"
   ]
  },
  {
   "cell_type": "code",
   "execution_count": 33,
   "id": "5713dcc0",
   "metadata": {},
   "outputs": [
    {
     "data": {
      "text/plain": [
       "370"
      ]
     },
     "execution_count": 33,
     "metadata": {},
     "output_type": "execute_result"
    }
   ],
   "source": [
    "len(nodes)"
   ]
  },
  {
   "cell_type": "code",
   "execution_count": 36,
   "id": "d0e6480b",
   "metadata": {},
   "outputs": [],
   "source": [
    "wts = [n for n in nodes if n.op=='Const']"
   ]
  },
  {
   "cell_type": "code",
   "execution_count": 37,
   "id": "4ef6251d",
   "metadata": {},
   "outputs": [
    {
     "data": {
      "text/plain": [
       "142"
      ]
     },
     "execution_count": 37,
     "metadata": {},
     "output_type": "execute_result"
    }
   ],
   "source": [
    "len(wts)"
   ]
  },
  {
   "cell_type": "code",
   "execution_count": 43,
   "id": "3a924095",
   "metadata": {},
   "outputs": [
    {
     "data": {
      "text/plain": [
       "array([[[[ 3.37403446e-01, -2.18586564e-01,  4.69391495e-01, ...,\n",
       "           3.69904965e-01, -1.10782415e-01, -3.93793955e-02],\n",
       "         [ 4.31445450e-01, -1.75220668e-02,  6.91341460e-01, ...,\n",
       "           5.95482469e-01, -3.99538755e-01, -6.21756732e-01],\n",
       "         [-4.96600270e-01,  1.70150518e-01,  4.61964101e-01, ...,\n",
       "           1.67223707e-01,  1.93537205e-01, -6.97964430e-02]],\n",
       "\n",
       "        [[-3.27045679e-01,  4.27685454e-02,  8.98371756e-01, ...,\n",
       "           1.16720390e+00,  1.29545480e-02, -4.19095695e-01],\n",
       "         [ 8.85567129e-01,  3.13477039e-01,  1.42584944e+00, ...,\n",
       "           1.15248489e+00,  4.33744669e-01,  4.27265167e-02],\n",
       "         [-2.46043801e-01, -8.23620781e-02,  7.89139986e-01, ...,\n",
       "           2.79848456e-01,  2.37074703e-01, -3.69647294e-01]],\n",
       "\n",
       "        [[ 4.45822269e-01, -1.31578624e-01,  6.03718877e-01, ...,\n",
       "           6.37285113e-01, -2.01918617e-01, -3.21208477e-01],\n",
       "         [ 1.17013708e-01, -2.34289169e-01,  1.62318766e+00, ...,\n",
       "           8.35187793e-01,  3.06953907e+00,  2.07912445e+00],\n",
       "         [-6.06026351e-01,  5.57510853e-01,  5.30226588e-01, ...,\n",
       "          -1.16114840e-02,  9.73229289e-01,  3.38552520e-02]],\n",
       "\n",
       "        ...,\n",
       "\n",
       "        [[ 9.92571831e-01, -6.17925152e-02,  1.84594840e-01, ...,\n",
       "          -8.09290826e-01,  7.82294154e-01,  6.69905007e-01],\n",
       "         [-2.59958476e-01, -3.15583646e-01,  4.64619249e-01, ...,\n",
       "          -1.75054908e-01,  8.17959547e-01, -8.00022602e-01],\n",
       "         [-5.96210361e-01,  4.26540345e-01,  3.53560805e-01, ...,\n",
       "          -4.45859551e-01,  1.22209561e+00, -1.41125584e+00]],\n",
       "\n",
       "        [[ 4.77911890e-01,  2.78761655e-01,  2.40678191e-01, ...,\n",
       "          -6.64074898e-01, -4.78059560e-01,  3.13465714e-01],\n",
       "         [ 4.78639305e-01,  9.80408192e-02,  6.87448025e-01, ...,\n",
       "          -4.60746944e-01,  1.02883315e+00,  4.41947162e-01],\n",
       "         [-2.04071105e-01,  1.73157901e-01,  2.40183085e-01, ...,\n",
       "          -2.00425223e-01,  2.92676598e-01, -1.69618845e-01]],\n",
       "\n",
       "        [[ 1.62154987e-01, -2.19583556e-01,  5.66611439e-03, ...,\n",
       "           1.53619185e-01,  5.90632111e-03, -1.59441695e-01],\n",
       "         [ 5.45077771e-02,  1.79091632e-01,  1.77998599e-02, ...,\n",
       "           4.80780825e-02, -2.59053767e-01,  1.40841186e-01],\n",
       "         [-1.61770746e-01,  1.94389448e-01,  4.99497354e-02, ...,\n",
       "          -2.81794649e-02,  8.49741697e-02,  2.22718969e-01]]],\n",
       "\n",
       "\n",
       "       [[[ 2.78406918e-01, -9.80583578e-02,  6.80304527e-01, ...,\n",
       "           1.12394369e+00,  6.57746017e-01, -3.08943450e-01],\n",
       "         [ 4.71121728e-01,  8.17361474e-02,  9.17947829e-01, ...,\n",
       "           1.19628322e+00, -7.24678636e-01,  5.36298871e-01],\n",
       "         [-5.25227189e-01,  4.52212632e-01,  5.99523008e-01, ...,\n",
       "           2.87759244e-01,  1.07892424e-01,  4.94994193e-01]],\n",
       "\n",
       "        [[ 2.66080284e+00, -1.91482455e-02,  5.76424539e-01, ...,\n",
       "           1.49923480e+00, -8.24492753e-01, -6.59542605e-02],\n",
       "         [ 8.65497440e-02,  6.21250987e-01,  7.55192280e-01, ...,\n",
       "           1.91107440e+00,  1.51575768e+00, -2.33688772e-01],\n",
       "         [ 6.67616725e-01, -4.44343746e-01,  4.39492971e-01, ...,\n",
       "           3.24492663e-01, -6.09661460e-01,  8.62685204e-01]],\n",
       "\n",
       "        [[ 3.39026856e+00, -1.19386949e-01,  7.48365283e-01, ...,\n",
       "           1.18244481e+00, -1.68949223e+00, -4.07428503e-01],\n",
       "         [ 1.60820711e+00, -4.86869097e-01,  1.58746696e+00, ...,\n",
       "           7.68314183e-01,  1.61935532e+00,  1.62805629e+00],\n",
       "         [ 2.15087056e+00, -3.27588171e-01,  6.97633624e-01, ...,\n",
       "           4.85994399e-01, -1.88173795e+00,  1.18165159e+00]],\n",
       "\n",
       "        ...,\n",
       "\n",
       "        [[ 1.30890787e+00,  1.56362444e-01, -1.20007008e-01, ...,\n",
       "          -9.29337084e-01,  2.38628194e-01,  4.25369114e-01],\n",
       "         [ 6.54546440e-01,  3.00877571e-01,  1.39625400e-01, ...,\n",
       "          -7.29902446e-01, -3.49850988e+00, -2.82567167e+00],\n",
       "         [ 8.38911295e-01,  1.32635340e-01,  5.38641930e-01, ...,\n",
       "          -2.14598551e-01, -6.16529465e-01, -1.27696455e+00]],\n",
       "\n",
       "        [[ 5.87244391e-01,  2.39891529e-01,  1.78875610e-01, ...,\n",
       "          -8.04685116e-01,  3.06969017e-01,  1.20949507e+00],\n",
       "         [-4.48877990e-01, -1.87559128e-02,  1.52144521e-01, ...,\n",
       "          -6.72250450e-01, -1.36803234e+00, -9.92814660e-01],\n",
       "         [ 8.50723982e-02,  3.44977081e-01, -7.01607093e-02, ...,\n",
       "          -1.79418564e-01, -6.35211289e-01, -2.88255751e-01]],\n",
       "\n",
       "        [[ 3.61841917e-02,  8.41761753e-02,  2.25360375e-02, ...,\n",
       "          -7.88733512e-02, -7.03202188e-02,  1.90536067e-01],\n",
       "         [-3.07985157e-01, -3.43139946e-01,  1.02478102e-01, ...,\n",
       "          -2.51483500e-01, -2.53128558e-01,  3.74924392e-01],\n",
       "         [ 2.94039190e-01,  6.83155879e-02,  2.37673000e-02, ...,\n",
       "          -1.19181991e-01,  7.63055608e-02,  2.77386606e-01]]],\n",
       "\n",
       "\n",
       "       [[[-1.49970913e+00,  1.15607046e-01,  1.07874465e+00, ...,\n",
       "           1.04087579e+00,  3.71552944e-01, -3.76262248e-01],\n",
       "         [ 1.43092453e+00, -6.92752182e-01, -3.57507586e-01, ...,\n",
       "           1.39330590e+00, -1.20729017e+00, -1.02836108e+00],\n",
       "         [-8.27969491e-01,  1.11719579e-01,  4.12717193e-01, ...,\n",
       "           2.69290835e-01,  9.56888646e-02, -3.24614733e-01]],\n",
       "\n",
       "        [[-2.02196026e+00,  4.52008098e-01,  7.61142612e-01, ...,\n",
       "           1.54505563e+00, -1.91981480e-01, -3.94554287e-01],\n",
       "         [-1.80837941e+00, -5.43345332e-01,  6.41790852e-02, ...,\n",
       "           1.00311089e+00, -1.84460747e+00, -1.98789930e+00],\n",
       "         [ 7.94153571e-01, -6.17050469e-01,  3.71329099e-01, ...,\n",
       "           2.56988972e-01, -8.51378739e-01,  1.58733964e+00]],\n",
       "\n",
       "        [[-1.53154695e+00,  3.27906907e-01, -3.37505043e-01, ...,\n",
       "           9.97750163e-01, -3.13480735e-01, -5.06340921e-01],\n",
       "         [-4.52883816e+00, -1.06558061e+00,  1.30317700e+00, ...,\n",
       "          -7.23621845e-01, -3.34063101e+00,  1.88880372e+00],\n",
       "         [ 5.32989502e-02, -1.24263859e+00, -6.45869821e-02, ...,\n",
       "           5.70912480e-01, -2.58427143e+00,  2.29746032e+00]],\n",
       "\n",
       "        ...,\n",
       "\n",
       "        [[-2.48543525e+00, -1.47654146e-01,  6.67531848e-01, ...,\n",
       "          -1.31084001e+00, -1.05860281e+00,  1.60198092e-01],\n",
       "         [-6.74477696e-01,  1.64187837e+00, -6.59841061e-01, ...,\n",
       "          -1.09044504e+00, -2.72263098e+00, -1.36529803e+00],\n",
       "         [ 1.14954948e+00,  1.42928526e-01,  3.54054898e-01, ...,\n",
       "          -3.99065852e-01, -6.38709188e-01, -6.08406365e-01]],\n",
       "\n",
       "        [[-1.00043261e+00,  2.61180639e-01,  6.24000072e-01, ...,\n",
       "          -1.29353607e+00, -1.37583840e+00,  9.39081669e-01],\n",
       "         [ 1.14364052e+00, -6.69339418e-01, -7.26270199e-01, ...,\n",
       "          -4.51415062e-01,  2.45696187e-01, -2.14789414e+00],\n",
       "         [ 1.51385054e-01, -1.71641216e-01, -2.24145055e-02, ...,\n",
       "          -3.31885159e-01, -1.78870961e-01, -1.80257106e+00]],\n",
       "\n",
       "        [[-5.26516616e-01,  2.26870477e-01,  2.08878368e-01, ...,\n",
       "          -2.19677508e-01,  9.50360745e-02,  2.92936742e-01],\n",
       "         [ 2.00666741e-01, -5.44215798e-01,  2.82234430e-01, ...,\n",
       "          -1.51339769e-01,  5.46796381e-01, -2.01584414e-01],\n",
       "         [ 2.83887297e-01, -3.02805841e-01,  8.57777894e-03, ...,\n",
       "           5.35230897e-02, -7.39031017e-01, -7.99732387e-01]]],\n",
       "\n",
       "\n",
       "       ...,\n",
       "\n",
       "\n",
       "       [[[-2.45983601e-01, -5.26688024e-02, -1.73790872e-01, ...,\n",
       "           2.16564506e-01,  7.79826164e-01,  1.41634858e+00],\n",
       "         [-1.57212131e-02,  2.07946837e-01, -2.47893155e-01, ...,\n",
       "          -3.68711889e-01, -3.93975884e-01,  1.61470711e+00],\n",
       "         [ 4.60665673e-02, -1.31551206e-01, -3.70952934e-02, ...,\n",
       "          -4.77654487e-03,  9.32709396e-01, -4.30566728e-01]],\n",
       "\n",
       "        [[ 7.61055350e-01, -1.83745474e-03, -5.84486365e-01, ...,\n",
       "           1.53343886e-01, -3.14995795e-02,  8.04649889e-01],\n",
       "         [-3.29481810e-01,  4.29334342e-01, -6.25868857e-01, ...,\n",
       "          -2.68101096e-01,  8.56634974e-01, -4.96715397e-01],\n",
       "         [ 2.39924356e-01,  1.36439241e-02, -4.61420655e-01, ...,\n",
       "          -2.28180438e-02,  6.19137406e-01,  4.16256823e-02]],\n",
       "\n",
       "        [[ 2.13491273e+00,  7.61388615e-02, -1.08259356e+00, ...,\n",
       "           1.87243611e-01, -1.02412784e+00, -5.14589965e-01],\n",
       "         [ 2.19819188e+00, -1.03089118e+00, -1.15010047e+00, ...,\n",
       "           9.66096163e-01,  1.71164000e+00, -4.88290834e+00],\n",
       "         [ 3.68964106e-01, -2.01882887e+00, -4.39537883e-01, ...,\n",
       "           4.05180231e-02,  3.22680384e-01, -8.60603690e-01]],\n",
       "\n",
       "        ...,\n",
       "\n",
       "        [[ 3.03952670e+00, -1.08162737e+00, -1.21723682e-01, ...,\n",
       "          -9.32636738e-01, -6.38757110e-01,  7.18926489e-01],\n",
       "         [ 1.11818397e+00,  3.39204383e+00, -6.05346322e-01, ...,\n",
       "          -4.12403703e-01, -2.27742493e-01,  7.58383512e-01],\n",
       "         [ 1.60946941e+00,  6.51807070e-01, -6.17435336e-01, ...,\n",
       "           1.05683073e-01, -9.29368436e-01,  1.19702148e+00]],\n",
       "\n",
       "        [[ 2.34101915e+00,  9.35427070e-01, -1.14195359e+00, ...,\n",
       "           6.90944314e-01,  7.29159415e-02, -1.19887781e+00],\n",
       "         [ 7.41840839e-01,  2.24977183e+00,  7.09400773e-02, ...,\n",
       "          -6.48365617e-01, -1.17875624e+00,  1.27298069e+00],\n",
       "         [-4.95161295e-01,  1.76589322e+00, -2.52522826e-01, ...,\n",
       "          -1.80138946e-01, -3.19499075e-01,  1.64702404e+00]],\n",
       "\n",
       "        [[ 4.95024264e-01,  4.09025729e-01, -5.01615405e-01, ...,\n",
       "           4.33856964e-01,  1.40045524e-01, -6.62897646e-01],\n",
       "         [-1.29654452e-01,  6.73574686e-01, -3.12721848e-01, ...,\n",
       "           2.22689584e-02, -2.73376048e-01, -4.40645963e-03],\n",
       "         [-9.90079492e-02, -8.47284272e-02, -9.43310037e-02, ...,\n",
       "           5.59926704e-02, -1.35635873e-02,  4.75572556e-01]]],\n",
       "\n",
       "\n",
       "       [[[ 6.41376257e-01,  1.30754769e-01, -2.71067232e-01, ...,\n",
       "           3.26901227e-01, -6.17154241e-01,  1.03893352e+00],\n",
       "         [-1.86910123e-01,  4.39519286e-01, -8.62049937e-01, ...,\n",
       "          -2.84038663e-01, -2.05565423e-01,  6.08722866e-01],\n",
       "         [ 1.22978002e-01,  3.02719831e-01, -3.95448446e-01, ...,\n",
       "           8.85482728e-02,  9.67318192e-02, -7.65830636e-01]],\n",
       "\n",
       "        [[ 1.26673126e+00,  1.87378794e-01, -4.13273185e-01, ...,\n",
       "           5.14587879e-01, -3.26558203e-01,  1.37176502e+00],\n",
       "         [-9.08012629e-01,  6.39857888e-01, -1.85322940e-01, ...,\n",
       "          -4.92527843e-01,  1.87531248e-01,  1.75820446e+00],\n",
       "         [ 1.24080884e+00, -1.14306565e-02, -1.94148272e-01, ...,\n",
       "           1.34874463e-01, -6.29281342e-01, -7.86356449e-01]],\n",
       "\n",
       "        [[ 1.76492250e+00, -1.39903277e-01, -1.32833600e+00, ...,\n",
       "           2.08566919e-01, -2.28115648e-01,  3.69367659e-01],\n",
       "         [-1.14200258e+00, -1.17005670e+00, -1.12789011e+00, ...,\n",
       "           1.77162215e-01, -2.06338927e-01, -6.15052521e-01],\n",
       "         [ 7.20398545e-01, -6.90047503e-01, -8.03145766e-01, ...,\n",
       "           1.32940322e-01, -3.59995246e-01, -4.30928916e-01]],\n",
       "\n",
       "        ...,\n",
       "\n",
       "        [[-2.39647657e-01,  4.22464520e-01, -5.29316962e-01, ...,\n",
       "          -2.86658760e-03,  3.22971731e-01, -8.28761220e-01],\n",
       "         [ 5.04143059e-01,  1.61586082e+00, -8.90245080e-01, ...,\n",
       "          -1.34367302e-01, -8.81559372e-01, -1.19184184e+00],\n",
       "         [-3.72035384e-01,  1.64959371e-01, -3.10072988e-01, ...,\n",
       "          -1.26567766e-01,  1.43545225e-01, -3.66818577e-01]],\n",
       "\n",
       "        [[-3.95496666e-01,  1.39563739e+00, -9.51311290e-01, ...,\n",
       "           3.19929659e-01,  1.16506703e-01, -1.38303626e+00],\n",
       "         [ 8.77885580e-01,  2.71777558e+00, -5.86610496e-01, ...,\n",
       "          -7.08149672e-01, -2.13064983e-01,  1.52738973e-01],\n",
       "         [-9.87049937e-01,  2.55195189e+00, -3.61392736e-01, ...,\n",
       "          -1.81870043e-01,  3.37606043e-01,  1.85825634e+00]],\n",
       "\n",
       "        [[-3.01336706e-01, -3.36942017e-01, -6.26542047e-03, ...,\n",
       "          -7.76846558e-02,  1.17448606e-02,  1.60988942e-01],\n",
       "         [ 2.73270458e-01,  7.91481376e-01, -6.33284271e-01, ...,\n",
       "           2.91514069e-01, -2.27294266e-02, -3.87321830e-01],\n",
       "         [ 1.62704149e-03,  1.03171778e+00, -1.88049018e-01, ...,\n",
       "           1.50683308e-02,  2.03740627e-01,  1.19346595e+00]]],\n",
       "\n",
       "\n",
       "       [[[-2.62631029e-02,  3.78416963e-02, -4.62975726e-02, ...,\n",
       "           8.03513452e-02,  2.56686896e-01, -2.37796128e-01],\n",
       "         [-3.65608744e-02, -4.94819015e-01,  1.89776242e-01, ...,\n",
       "          -1.84190348e-02,  3.30086172e-01,  1.47564709e-01],\n",
       "         [-8.57981443e-02,  2.84532189e-01,  3.54100950e-03, ...,\n",
       "          -1.82335731e-03, -1.06563069e-01,  3.40875924e-01]],\n",
       "\n",
       "        [[ 5.04676104e-02,  1.13339625e-01,  9.97779816e-02, ...,\n",
       "          -2.42313556e-03, -4.28604513e-01,  4.32891697e-01],\n",
       "         [-4.12540525e-01,  6.74845837e-03,  1.70654699e-01, ...,\n",
       "          -7.67829940e-02,  8.63486409e-01,  6.18609846e-01],\n",
       "         [ 2.60464728e-01,  5.77703953e-01,  7.68104196e-03, ...,\n",
       "           4.67663631e-02, -3.54202598e-01, -5.76799996e-02]],\n",
       "\n",
       "        [[ 5.69765151e-01,  2.22146511e-02, -1.36070907e-01, ...,\n",
       "          -1.50008217e-01, -6.22334599e-01,  1.35660678e-01],\n",
       "         [-1.64771378e-01, -8.73253345e-01,  5.90257496e-02, ...,\n",
       "          -2.89336205e-01,  8.18112433e-01,  8.05861890e-01],\n",
       "         [-1.68493003e-01,  5.46123326e-01, -1.21159904e-01, ...,\n",
       "           1.63217932e-02, -2.50796378e-01,  1.30340829e-01]],\n",
       "\n",
       "        ...,\n",
       "\n",
       "        [[-4.14751649e-01,  4.50031459e-01, -2.56924570e-01, ...,\n",
       "           2.59109378e-01,  5.07574320e-01, -5.29541731e-01],\n",
       "         [-1.12844869e-01, -9.10367966e-01, -3.22168112e-01, ...,\n",
       "           1.12801686e-01, -8.92110646e-01, -1.22277224e+00],\n",
       "         [ 1.08600579e-01,  9.89783462e-03,  7.36580044e-02, ...,\n",
       "          -1.42252520e-02,  4.35669422e-01, -2.41890131e-03]],\n",
       "\n",
       "        [[-4.38881218e-01,  6.31760806e-02, -4.26315814e-02, ...,\n",
       "          -8.66141766e-02,  1.97035998e-01, -1.40564054e-01],\n",
       "         [ 5.06955922e-01,  1.84332812e+00, -2.06171528e-01, ...,\n",
       "          -9.45806652e-02, -2.03765631e-01,  1.00714132e-01],\n",
       "         [ 6.77117467e-01,  7.16913104e-01, -4.62381095e-02, ...,\n",
       "           5.04770875e-03, -3.21005821e-01,  5.38032115e-01]],\n",
       "\n",
       "        [[ 4.97434795e-01, -5.53479612e-01,  6.24637544e-01, ...,\n",
       "          -2.14882120e-01, -3.09676588e-01,  6.66488051e-01],\n",
       "         [-1.53555796e-01, -4.60306346e-01,  2.35235482e-01, ...,\n",
       "           2.25298405e-01, -1.39465153e-01, -3.51586528e-02],\n",
       "         [-1.70092851e-01,  8.62066150e-02,  2.89217323e-01, ...,\n",
       "           8.58899504e-02,  4.28637624e-01,  5.06450981e-02]]]],\n",
       "      dtype=float32)"
      ]
     },
     "execution_count": 43,
     "metadata": {},
     "output_type": "execute_result"
    }
   ],
   "source": [
    "tensor_util.MakeNdarray(wts[0].attr['value'].tensor)"
   ]
  },
  {
   "cell_type": "code",
   "execution_count": 35,
   "id": "6c0037c5",
   "metadata": {},
   "outputs": [
    {
     "ename": "OSError",
     "evalue": "Unable to open file (file signature not found)",
     "output_type": "error",
     "traceback": [
      "\u001b[0;31m---------------------------------------------------------------------------\u001b[0m",
      "\u001b[0;31mOSError\u001b[0m                                   Traceback (most recent call last)",
      "\u001b[0;32m/tmp/ipykernel_1742/2662304077.py\u001b[0m in \u001b[0;36m<module>\u001b[0;34m\u001b[0m\n\u001b[0;32m----> 1\u001b[0;31m \u001b[0mnew_model\u001b[0m \u001b[0;34m=\u001b[0m \u001b[0mload_model\u001b[0m\u001b[0;34m(\u001b[0m\u001b[0;34m\"dataset/models/inception5h/tensorflow_inception_graph.pb\"\u001b[0m\u001b[0;34m)\u001b[0m\u001b[0;34m\u001b[0m\u001b[0;34m\u001b[0m\u001b[0m\n\u001b[0m",
      "\u001b[0;32m/auto/homes/njr61/environments/mambaforge/envs/concepts/lib/python3.7/site-packages/keras/utils/traceback_utils.py\u001b[0m in \u001b[0;36merror_handler\u001b[0;34m(*args, **kwargs)\u001b[0m\n\u001b[1;32m     68\u001b[0m             \u001b[0;31m# To get the full stack trace, call:\u001b[0m\u001b[0;34m\u001b[0m\u001b[0;34m\u001b[0m\u001b[0;34m\u001b[0m\u001b[0m\n\u001b[1;32m     69\u001b[0m             \u001b[0;31m# `tf.debugging.disable_traceback_filtering()`\u001b[0m\u001b[0;34m\u001b[0m\u001b[0;34m\u001b[0m\u001b[0;34m\u001b[0m\u001b[0m\n\u001b[0;32m---> 70\u001b[0;31m             \u001b[0;32mraise\u001b[0m \u001b[0me\u001b[0m\u001b[0;34m.\u001b[0m\u001b[0mwith_traceback\u001b[0m\u001b[0;34m(\u001b[0m\u001b[0mfiltered_tb\u001b[0m\u001b[0;34m)\u001b[0m \u001b[0;32mfrom\u001b[0m \u001b[0;32mNone\u001b[0m\u001b[0;34m\u001b[0m\u001b[0;34m\u001b[0m\u001b[0m\n\u001b[0m\u001b[1;32m     71\u001b[0m         \u001b[0;32mfinally\u001b[0m\u001b[0;34m:\u001b[0m\u001b[0;34m\u001b[0m\u001b[0;34m\u001b[0m\u001b[0m\n\u001b[1;32m     72\u001b[0m             \u001b[0;32mdel\u001b[0m \u001b[0mfiltered_tb\u001b[0m\u001b[0;34m\u001b[0m\u001b[0;34m\u001b[0m\u001b[0m\n",
      "\u001b[0;32m/auto/homes/njr61/environments/mambaforge/envs/concepts/lib/python3.7/site-packages/h5py/_hl/files.py\u001b[0m in \u001b[0;36m__init__\u001b[0;34m(self, name, mode, driver, libver, userblock_size, swmr, rdcc_nslots, rdcc_nbytes, rdcc_w0, track_order, fs_strategy, fs_persist, fs_threshold, fs_page_size, page_buf_size, min_meta_keep, min_raw_keep, locking, alignment_threshold, alignment_interval, **kwds)\u001b[0m\n\u001b[1;32m    531\u001b[0m                                  \u001b[0mfs_persist\u001b[0m\u001b[0;34m=\u001b[0m\u001b[0mfs_persist\u001b[0m\u001b[0;34m,\u001b[0m \u001b[0mfs_threshold\u001b[0m\u001b[0;34m=\u001b[0m\u001b[0mfs_threshold\u001b[0m\u001b[0;34m,\u001b[0m\u001b[0;34m\u001b[0m\u001b[0;34m\u001b[0m\u001b[0m\n\u001b[1;32m    532\u001b[0m                                  fs_page_size=fs_page_size)\n\u001b[0;32m--> 533\u001b[0;31m                 \u001b[0mfid\u001b[0m \u001b[0;34m=\u001b[0m \u001b[0mmake_fid\u001b[0m\u001b[0;34m(\u001b[0m\u001b[0mname\u001b[0m\u001b[0;34m,\u001b[0m \u001b[0mmode\u001b[0m\u001b[0;34m,\u001b[0m \u001b[0muserblock_size\u001b[0m\u001b[0;34m,\u001b[0m \u001b[0mfapl\u001b[0m\u001b[0;34m,\u001b[0m \u001b[0mfcpl\u001b[0m\u001b[0;34m,\u001b[0m \u001b[0mswmr\u001b[0m\u001b[0;34m=\u001b[0m\u001b[0mswmr\u001b[0m\u001b[0;34m)\u001b[0m\u001b[0;34m\u001b[0m\u001b[0;34m\u001b[0m\u001b[0m\n\u001b[0m\u001b[1;32m    534\u001b[0m \u001b[0;34m\u001b[0m\u001b[0m\n\u001b[1;32m    535\u001b[0m             \u001b[0;32mif\u001b[0m \u001b[0misinstance\u001b[0m\u001b[0;34m(\u001b[0m\u001b[0mlibver\u001b[0m\u001b[0;34m,\u001b[0m \u001b[0mtuple\u001b[0m\u001b[0;34m)\u001b[0m\u001b[0;34m:\u001b[0m\u001b[0;34m\u001b[0m\u001b[0;34m\u001b[0m\u001b[0m\n",
      "\u001b[0;32m/auto/homes/njr61/environments/mambaforge/envs/concepts/lib/python3.7/site-packages/h5py/_hl/files.py\u001b[0m in \u001b[0;36mmake_fid\u001b[0;34m(name, mode, userblock_size, fapl, fcpl, swmr)\u001b[0m\n\u001b[1;32m    224\u001b[0m         \u001b[0;32mif\u001b[0m \u001b[0mswmr\u001b[0m \u001b[0;32mand\u001b[0m \u001b[0mswmr_support\u001b[0m\u001b[0;34m:\u001b[0m\u001b[0;34m\u001b[0m\u001b[0;34m\u001b[0m\u001b[0m\n\u001b[1;32m    225\u001b[0m             \u001b[0mflags\u001b[0m \u001b[0;34m|=\u001b[0m \u001b[0mh5f\u001b[0m\u001b[0;34m.\u001b[0m\u001b[0mACC_SWMR_READ\u001b[0m\u001b[0;34m\u001b[0m\u001b[0;34m\u001b[0m\u001b[0m\n\u001b[0;32m--> 226\u001b[0;31m         \u001b[0mfid\u001b[0m \u001b[0;34m=\u001b[0m \u001b[0mh5f\u001b[0m\u001b[0;34m.\u001b[0m\u001b[0mopen\u001b[0m\u001b[0;34m(\u001b[0m\u001b[0mname\u001b[0m\u001b[0;34m,\u001b[0m \u001b[0mflags\u001b[0m\u001b[0;34m,\u001b[0m \u001b[0mfapl\u001b[0m\u001b[0;34m=\u001b[0m\u001b[0mfapl\u001b[0m\u001b[0;34m)\u001b[0m\u001b[0;34m\u001b[0m\u001b[0;34m\u001b[0m\u001b[0m\n\u001b[0m\u001b[1;32m    227\u001b[0m     \u001b[0;32melif\u001b[0m \u001b[0mmode\u001b[0m \u001b[0;34m==\u001b[0m \u001b[0;34m'r+'\u001b[0m\u001b[0;34m:\u001b[0m\u001b[0;34m\u001b[0m\u001b[0;34m\u001b[0m\u001b[0m\n\u001b[1;32m    228\u001b[0m         \u001b[0mfid\u001b[0m \u001b[0;34m=\u001b[0m \u001b[0mh5f\u001b[0m\u001b[0;34m.\u001b[0m\u001b[0mopen\u001b[0m\u001b[0;34m(\u001b[0m\u001b[0mname\u001b[0m\u001b[0;34m,\u001b[0m \u001b[0mh5f\u001b[0m\u001b[0;34m.\u001b[0m\u001b[0mACC_RDWR\u001b[0m\u001b[0;34m,\u001b[0m \u001b[0mfapl\u001b[0m\u001b[0;34m=\u001b[0m\u001b[0mfapl\u001b[0m\u001b[0;34m)\u001b[0m\u001b[0;34m\u001b[0m\u001b[0;34m\u001b[0m\u001b[0m\n",
      "\u001b[0;32mh5py/_objects.pyx\u001b[0m in \u001b[0;36mh5py._objects.with_phil.wrapper\u001b[0;34m()\u001b[0m\n",
      "\u001b[0;32mh5py/_objects.pyx\u001b[0m in \u001b[0;36mh5py._objects.with_phil.wrapper\u001b[0;34m()\u001b[0m\n",
      "\u001b[0;32mh5py/h5f.pyx\u001b[0m in \u001b[0;36mh5py.h5f.open\u001b[0;34m()\u001b[0m\n",
      "\u001b[0;31mOSError\u001b[0m: Unable to open file (file signature not found)"
     ]
    }
   ],
   "source": [
    "new_model = load_model(\"dataset/models/inception5h/tensorflow_inception_graph.pb\")"
   ]
  },
  {
   "cell_type": "code",
   "execution_count": 52,
   "id": "7ca6de00",
   "metadata": {},
   "outputs": [
    {
     "name": "stderr",
     "output_type": "stream",
     "text": [
      "2023-01-11 16:08:15.581702: I tensorflow/core/platform/cpu_feature_guard.cc:193] This TensorFlow binary is optimized with oneAPI Deep Neural Network Library (oneDNN) to use the following CPU instructions in performance-critical operations:  SSE4.1 SSE4.2 AVX FMA\n",
      "To enable them in other operations, rebuild TensorFlow with the appropriate compiler flags.\n",
      "2023-01-11 16:08:15.589275: I tensorflow/core/common_runtime/process_util.cc:146] Creating new thread pool with default inter op setting: 2. Tune using inter_op_parallelism_threads for best performance.\n"
     ]
    }
   ],
   "source": [
    "sess = utils.create_session()\n",
    "model_name = \"GoogleNet\"\n",
    "if model_name == \"GoogleNet\":\n",
    "    GRAPH_PATH = \"./dataset/models/inception5h/tensorflow_inception_graph.pb\"\n",
    "    LABEL_PATH = \"./dataset/models/inception5h/imagenet_comp_graph_label_strings.txt\"\n",
    "    mymodel = model.GoogleNetWrapper_public(sess,\n",
    "                                        GRAPH_PATH,\n",
    "                                        LABEL_PATH)"
   ]
  },
  {
   "cell_type": "code",
   "execution_count": 67,
   "id": "6b3bd464",
   "metadata": {},
   "outputs": [
    {
     "name": "stderr",
     "output_type": "stream",
     "text": [
      "2023-01-11 16:16:54.169013: W tensorflow/core/util/tensor_slice_reader.cc:96] Could not open ./dataset/models/inception5h/tensorflow_inception_graph.pb: DATA_LOSS: not an sstable (bad magic number): perhaps your file is in a different file format and you need to use a different restore operator?\n"
     ]
    },
    {
     "ename": "DataLossError",
     "evalue": "Unable to open table file ./dataset/models/inception5h/tensorflow_inception_graph.pb: DATA_LOSS: not an sstable (bad magic number): perhaps your file is in a different file format and you need to use a different restore operator?",
     "output_type": "error",
     "traceback": [
      "\u001b[0;31m---------------------------------------------------------------------------\u001b[0m",
      "\u001b[0;31mRuntimeError\u001b[0m                              Traceback (most recent call last)",
      "\u001b[0;32m/auto/homes/njr61/environments/mambaforge/envs/concepts/lib/python3.7/site-packages/tensorflow/python/training/py_checkpoint_reader.py\u001b[0m in \u001b[0;36mNewCheckpointReader\u001b[0;34m(filepattern)\u001b[0m\n\u001b[1;32m     91\u001b[0m   \u001b[0;32mtry\u001b[0m\u001b[0;34m:\u001b[0m\u001b[0;34m\u001b[0m\u001b[0;34m\u001b[0m\u001b[0m\n\u001b[0;32m---> 92\u001b[0;31m     \u001b[0;32mreturn\u001b[0m \u001b[0mCheckpointReader\u001b[0m\u001b[0;34m(\u001b[0m\u001b[0mcompat\u001b[0m\u001b[0;34m.\u001b[0m\u001b[0mas_bytes\u001b[0m\u001b[0;34m(\u001b[0m\u001b[0mfilepattern\u001b[0m\u001b[0;34m)\u001b[0m\u001b[0;34m)\u001b[0m\u001b[0;34m\u001b[0m\u001b[0;34m\u001b[0m\u001b[0m\n\u001b[0m\u001b[1;32m     93\u001b[0m   \u001b[0;31m# TODO(b/143319754): Remove the RuntimeError casting logic once we resolve the\u001b[0m\u001b[0;34m\u001b[0m\u001b[0;34m\u001b[0m\u001b[0;34m\u001b[0m\u001b[0m\n",
      "\u001b[0;31mRuntimeError\u001b[0m: Unable to open table file ./dataset/models/inception5h/tensorflow_inception_graph.pb: DATA_LOSS: not an sstable (bad magic number): perhaps your file is in a different file format and you need to use a different restore operator?",
      "\nDuring handling of the above exception, another exception occurred:\n",
      "\u001b[0;31mDataLossError\u001b[0m                             Traceback (most recent call last)",
      "\u001b[0;32m/tmp/ipykernel_1742/532534723.py\u001b[0m in \u001b[0;36m<module>\u001b[0;34m\u001b[0m\n\u001b[0;32m----> 1\u001b[0;31m \u001b[0mtf\u001b[0m\u001b[0;34m.\u001b[0m\u001b[0mtrain\u001b[0m\u001b[0;34m.\u001b[0m\u001b[0mlist_variables\u001b[0m\u001b[0;34m(\u001b[0m\u001b[0;34m\"./dataset/models/inception5h/tensorflow_inception_graph.pb\"\u001b[0m\u001b[0;34m)\u001b[0m\u001b[0;34m\u001b[0m\u001b[0;34m\u001b[0m\u001b[0m\n\u001b[0m",
      "\u001b[0;32m/auto/homes/njr61/environments/mambaforge/envs/concepts/lib/python3.7/site-packages/tensorflow/python/training/checkpoint_utils.py\u001b[0m in \u001b[0;36mlist_variables\u001b[0;34m(ckpt_dir_or_file)\u001b[0m\n\u001b[1;32m    113\u001b[0m     \u001b[0mList\u001b[0m \u001b[0mof\u001b[0m \u001b[0mtuples\u001b[0m\u001b[0;31m \u001b[0m\u001b[0;31m`\u001b[0m\u001b[0;34m(\u001b[0m\u001b[0mkey\u001b[0m\u001b[0;34m,\u001b[0m \u001b[0mshape\u001b[0m\u001b[0;34m)\u001b[0m\u001b[0;31m`\u001b[0m\u001b[0;34m.\u001b[0m\u001b[0;34m\u001b[0m\u001b[0;34m\u001b[0m\u001b[0m\n\u001b[1;32m    114\u001b[0m   \"\"\"\n\u001b[0;32m--> 115\u001b[0;31m   \u001b[0mreader\u001b[0m \u001b[0;34m=\u001b[0m \u001b[0mload_checkpoint\u001b[0m\u001b[0;34m(\u001b[0m\u001b[0mckpt_dir_or_file\u001b[0m\u001b[0;34m)\u001b[0m\u001b[0;34m\u001b[0m\u001b[0;34m\u001b[0m\u001b[0m\n\u001b[0m\u001b[1;32m    116\u001b[0m   \u001b[0mvariable_map\u001b[0m \u001b[0;34m=\u001b[0m \u001b[0mreader\u001b[0m\u001b[0;34m.\u001b[0m\u001b[0mget_variable_to_shape_map\u001b[0m\u001b[0;34m(\u001b[0m\u001b[0;34m)\u001b[0m\u001b[0;34m\u001b[0m\u001b[0;34m\u001b[0m\u001b[0m\n\u001b[1;32m    117\u001b[0m   \u001b[0mnames\u001b[0m \u001b[0;34m=\u001b[0m \u001b[0msorted\u001b[0m\u001b[0;34m(\u001b[0m\u001b[0mvariable_map\u001b[0m\u001b[0;34m.\u001b[0m\u001b[0mkeys\u001b[0m\u001b[0;34m(\u001b[0m\u001b[0;34m)\u001b[0m\u001b[0;34m)\u001b[0m\u001b[0;34m\u001b[0m\u001b[0;34m\u001b[0m\u001b[0m\n",
      "\u001b[0;32m/auto/homes/njr61/environments/mambaforge/envs/concepts/lib/python3.7/site-packages/tensorflow/python/training/checkpoint_utils.py\u001b[0m in \u001b[0;36mload_checkpoint\u001b[0;34m(ckpt_dir_or_file)\u001b[0m\n\u001b[1;32m     68\u001b[0m     raise ValueError(\"Couldn't find 'checkpoint' file or checkpoints in \"\n\u001b[1;32m     69\u001b[0m                      \"given directory %s\" % ckpt_dir_or_file)\n\u001b[0;32m---> 70\u001b[0;31m   \u001b[0;32mreturn\u001b[0m \u001b[0mpy_checkpoint_reader\u001b[0m\u001b[0;34m.\u001b[0m\u001b[0mNewCheckpointReader\u001b[0m\u001b[0;34m(\u001b[0m\u001b[0mfilename\u001b[0m\u001b[0;34m)\u001b[0m\u001b[0;34m\u001b[0m\u001b[0;34m\u001b[0m\u001b[0m\n\u001b[0m\u001b[1;32m     71\u001b[0m \u001b[0;34m\u001b[0m\u001b[0m\n\u001b[1;32m     72\u001b[0m \u001b[0;34m\u001b[0m\u001b[0m\n",
      "\u001b[0;32m/auto/homes/njr61/environments/mambaforge/envs/concepts/lib/python3.7/site-packages/tensorflow/python/training/py_checkpoint_reader.py\u001b[0m in \u001b[0;36mNewCheckpointReader\u001b[0;34m(filepattern)\u001b[0m\n\u001b[1;32m     94\u001b[0m   \u001b[0;31m# issue with throwing python exceptions from C++.\u001b[0m\u001b[0;34m\u001b[0m\u001b[0;34m\u001b[0m\u001b[0;34m\u001b[0m\u001b[0m\n\u001b[1;32m     95\u001b[0m   \u001b[0;32mexcept\u001b[0m \u001b[0mRuntimeError\u001b[0m \u001b[0;32mas\u001b[0m \u001b[0me\u001b[0m\u001b[0;34m:\u001b[0m\u001b[0;34m\u001b[0m\u001b[0;34m\u001b[0m\u001b[0m\n\u001b[0;32m---> 96\u001b[0;31m     \u001b[0merror_translator\u001b[0m\u001b[0;34m(\u001b[0m\u001b[0me\u001b[0m\u001b[0;34m)\u001b[0m\u001b[0;34m\u001b[0m\u001b[0;34m\u001b[0m\u001b[0m\n\u001b[0m",
      "\u001b[0;32m/auto/homes/njr61/environments/mambaforge/envs/concepts/lib/python3.7/site-packages/tensorflow/python/training/py_checkpoint_reader.py\u001b[0m in \u001b[0;36merror_translator\u001b[0;34m(e)\u001b[0m\n\u001b[1;32m     38\u001b[0m     \u001b[0;32mraise\u001b[0m \u001b[0merrors_impl\u001b[0m\u001b[0;34m.\u001b[0m\u001b[0mInvalidArgumentError\u001b[0m\u001b[0;34m(\u001b[0m\u001b[0;32mNone\u001b[0m\u001b[0;34m,\u001b[0m \u001b[0;32mNone\u001b[0m\u001b[0;34m,\u001b[0m \u001b[0merror_message\u001b[0m\u001b[0;34m)\u001b[0m\u001b[0;34m\u001b[0m\u001b[0;34m\u001b[0m\u001b[0m\n\u001b[1;32m     39\u001b[0m   \u001b[0;32melif\u001b[0m \u001b[0;34m'Unable to open table file'\u001b[0m \u001b[0;32min\u001b[0m \u001b[0merror_message\u001b[0m\u001b[0;34m:\u001b[0m\u001b[0;34m\u001b[0m\u001b[0;34m\u001b[0m\u001b[0m\n\u001b[0;32m---> 40\u001b[0;31m     \u001b[0;32mraise\u001b[0m \u001b[0merrors_impl\u001b[0m\u001b[0;34m.\u001b[0m\u001b[0mDataLossError\u001b[0m\u001b[0;34m(\u001b[0m\u001b[0;32mNone\u001b[0m\u001b[0;34m,\u001b[0m \u001b[0;32mNone\u001b[0m\u001b[0;34m,\u001b[0m \u001b[0merror_message\u001b[0m\u001b[0;34m)\u001b[0m\u001b[0;34m\u001b[0m\u001b[0;34m\u001b[0m\u001b[0m\n\u001b[0m\u001b[1;32m     41\u001b[0m   elif 'Failed to find the saved tensor slices' in error_message or (\n\u001b[1;32m     42\u001b[0m       'not convertible to numpy dtype' in error_message):\n",
      "\u001b[0;31mDataLossError\u001b[0m: Unable to open table file ./dataset/models/inception5h/tensorflow_inception_graph.pb: DATA_LOSS: not an sstable (bad magic number): perhaps your file is in a different file format and you need to use a different restore operator?"
     ]
    }
   ],
   "source": [
    "tf.train.list_variables(\"./dataset/models/inception5h/tensorflow_inception_graph.pb\")"
   ]
  },
  {
   "cell_type": "code",
   "execution_count": 57,
   "id": "2bd6bfb4",
   "metadata": {},
   "outputs": [],
   "source": [
    "names = [n.name for n in sess.graph_def.node]\n"
   ]
  },
  {
   "cell_type": "code",
   "execution_count": 75,
   "id": "6fc016c5",
   "metadata": {},
   "outputs": [
    {
     "data": {
      "text/plain": [
       "[]"
      ]
     },
     "execution_count": 75,
     "metadata": {},
     "output_type": "execute_result"
    }
   ],
   "source": [
    "[i for i in sess.graph.get_operations() if ':' in i.name]"
   ]
  },
  {
   "cell_type": "code",
   "execution_count": 79,
   "id": "2566ffda",
   "metadata": {},
   "outputs": [
    {
     "ename": "AttributeError",
     "evalue": "module 'tensorflow' has no attribute 'trainable_variables'",
     "output_type": "error",
     "traceback": [
      "\u001b[0;31m---------------------------------------------------------------------------\u001b[0m",
      "\u001b[0;31mAttributeError\u001b[0m                            Traceback (most recent call last)",
      "\u001b[0;32m/tmp/ipykernel_1742/2013361901.py\u001b[0m in \u001b[0;36m<module>\u001b[0;34m\u001b[0m\n\u001b[0;32m----> 1\u001b[0;31m \u001b[0mtvars\u001b[0m \u001b[0;34m=\u001b[0m \u001b[0mtf\u001b[0m\u001b[0;34m.\u001b[0m\u001b[0mtrainable_variables\u001b[0m\u001b[0;34m(\u001b[0m\u001b[0;34m)\u001b[0m\u001b[0;34m\u001b[0m\u001b[0;34m\u001b[0m\u001b[0m\n\u001b[0m",
      "\u001b[0;31mAttributeError\u001b[0m: module 'tensorflow' has no attribute 'trainable_variables'"
     ]
    }
   ],
   "source": [
    "tvars = tf.trainable_variables()"
   ]
  },
  {
   "cell_type": "code",
   "execution_count": 64,
   "id": "ce85777b",
   "metadata": {},
   "outputs": [
    {
     "ename": "ValueError",
     "evalue": "The name 'v1/mixed4a_5x5' refers to an Operation, not a Tensor. Tensor names must be of the form \"<op_name>:<output_index>\".",
     "output_type": "error",
     "traceback": [
      "\u001b[0;31m---------------------------------------------------------------------------\u001b[0m",
      "\u001b[0;31mValueError\u001b[0m                                Traceback (most recent call last)",
      "\u001b[0;32m/tmp/ipykernel_1742/2472169792.py\u001b[0m in \u001b[0;36m<module>\u001b[0;34m\u001b[0m\n\u001b[0;32m----> 1\u001b[0;31m \u001b[0mv1\u001b[0m \u001b[0;34m=\u001b[0m \u001b[0msess\u001b[0m\u001b[0;34m.\u001b[0m\u001b[0mgraph\u001b[0m\u001b[0;34m.\u001b[0m\u001b[0mget_tensor_by_name\u001b[0m\u001b[0;34m(\u001b[0m\u001b[0;34m'v1/mixed4a_5x5'\u001b[0m\u001b[0;34m)\u001b[0m\u001b[0;34m\u001b[0m\u001b[0;34m\u001b[0m\u001b[0m\n\u001b[0m",
      "\u001b[0;32m/auto/homes/njr61/environments/mambaforge/envs/concepts/lib/python3.7/site-packages/tensorflow/python/framework/ops.py\u001b[0m in \u001b[0;36mget_tensor_by_name\u001b[0;34m(self, name)\u001b[0m\n\u001b[1;32m   4172\u001b[0m       raise TypeError(\"Tensor names are strings (or similar), not %s.\" %\n\u001b[1;32m   4173\u001b[0m                       type(name).__name__)\n\u001b[0;32m-> 4174\u001b[0;31m     \u001b[0;32mreturn\u001b[0m \u001b[0mself\u001b[0m\u001b[0;34m.\u001b[0m\u001b[0mas_graph_element\u001b[0m\u001b[0;34m(\u001b[0m\u001b[0mname\u001b[0m\u001b[0;34m,\u001b[0m \u001b[0mallow_tensor\u001b[0m\u001b[0;34m=\u001b[0m\u001b[0;32mTrue\u001b[0m\u001b[0;34m,\u001b[0m \u001b[0mallow_operation\u001b[0m\u001b[0;34m=\u001b[0m\u001b[0;32mFalse\u001b[0m\u001b[0;34m)\u001b[0m\u001b[0;34m\u001b[0m\u001b[0;34m\u001b[0m\u001b[0m\n\u001b[0m\u001b[1;32m   4175\u001b[0m \u001b[0;34m\u001b[0m\u001b[0m\n\u001b[1;32m   4176\u001b[0m   \u001b[0;32mdef\u001b[0m \u001b[0m_get_tensor_by_tf_output\u001b[0m\u001b[0;34m(\u001b[0m\u001b[0mself\u001b[0m\u001b[0;34m,\u001b[0m \u001b[0mtf_output\u001b[0m\u001b[0;34m)\u001b[0m\u001b[0;34m:\u001b[0m\u001b[0;34m\u001b[0m\u001b[0;34m\u001b[0m\u001b[0m\n",
      "\u001b[0;32m/auto/homes/njr61/environments/mambaforge/envs/concepts/lib/python3.7/site-packages/tensorflow/python/framework/ops.py\u001b[0m in \u001b[0;36mas_graph_element\u001b[0;34m(self, obj, allow_tensor, allow_operation)\u001b[0m\n\u001b[1;32m   3996\u001b[0m \u001b[0;34m\u001b[0m\u001b[0m\n\u001b[1;32m   3997\u001b[0m     \u001b[0;32mwith\u001b[0m \u001b[0mself\u001b[0m\u001b[0;34m.\u001b[0m\u001b[0m_lock\u001b[0m\u001b[0;34m:\u001b[0m\u001b[0;34m\u001b[0m\u001b[0;34m\u001b[0m\u001b[0m\n\u001b[0;32m-> 3998\u001b[0;31m       \u001b[0;32mreturn\u001b[0m \u001b[0mself\u001b[0m\u001b[0;34m.\u001b[0m\u001b[0m_as_graph_element_locked\u001b[0m\u001b[0;34m(\u001b[0m\u001b[0mobj\u001b[0m\u001b[0;34m,\u001b[0m \u001b[0mallow_tensor\u001b[0m\u001b[0;34m,\u001b[0m \u001b[0mallow_operation\u001b[0m\u001b[0;34m)\u001b[0m\u001b[0;34m\u001b[0m\u001b[0;34m\u001b[0m\u001b[0m\n\u001b[0m\u001b[1;32m   3999\u001b[0m \u001b[0;34m\u001b[0m\u001b[0m\n\u001b[1;32m   4000\u001b[0m   \u001b[0;32mdef\u001b[0m \u001b[0m_as_graph_element_locked\u001b[0m\u001b[0;34m(\u001b[0m\u001b[0mself\u001b[0m\u001b[0;34m,\u001b[0m \u001b[0mobj\u001b[0m\u001b[0;34m,\u001b[0m \u001b[0mallow_tensor\u001b[0m\u001b[0;34m,\u001b[0m \u001b[0mallow_operation\u001b[0m\u001b[0;34m)\u001b[0m\u001b[0;34m:\u001b[0m\u001b[0;34m\u001b[0m\u001b[0;34m\u001b[0m\u001b[0m\n",
      "\u001b[0;32m/auto/homes/njr61/environments/mambaforge/envs/concepts/lib/python3.7/site-packages/tensorflow/python/framework/ops.py\u001b[0m in \u001b[0;36m_as_graph_element_locked\u001b[0;34m(self, obj, allow_tensor, allow_operation)\u001b[0m\n\u001b[1;32m   4070\u001b[0m         err_msg += (\" Tensor names must be of the form \"\n\u001b[1;32m   4071\u001b[0m                     \"\\\"<op_name>:<output_index>\\\".\")\n\u001b[0;32m-> 4072\u001b[0;31m         \u001b[0;32mraise\u001b[0m \u001b[0mValueError\u001b[0m\u001b[0;34m(\u001b[0m\u001b[0merr_msg\u001b[0m\u001b[0;34m)\u001b[0m\u001b[0;34m\u001b[0m\u001b[0;34m\u001b[0m\u001b[0m\n\u001b[0m\u001b[1;32m   4073\u001b[0m \u001b[0;34m\u001b[0m\u001b[0m\n\u001b[1;32m   4074\u001b[0m     \u001b[0;32melif\u001b[0m \u001b[0misinstance\u001b[0m\u001b[0;34m(\u001b[0m\u001b[0mobj\u001b[0m\u001b[0;34m,\u001b[0m \u001b[0mTensor\u001b[0m\u001b[0;34m)\u001b[0m \u001b[0;32mand\u001b[0m \u001b[0mallow_tensor\u001b[0m\u001b[0;34m:\u001b[0m\u001b[0;34m\u001b[0m\u001b[0;34m\u001b[0m\u001b[0m\n",
      "\u001b[0;31mValueError\u001b[0m: The name 'v1/mixed4a_5x5' refers to an Operation, not a Tensor. Tensor names must be of the form \"<op_name>:<output_index>\"."
     ]
    }
   ],
   "source": [
    "v1 = sess.graph.get_tensor_by_name('v1/mixed4a_5x5')"
   ]
  },
  {
   "cell_type": "code",
   "execution_count": 52,
   "id": "738e07c2",
   "metadata": {},
   "outputs": [],
   "source": [
    "regular_image = \"dataset/colored_mnist/images/0/9994.png\"\n",
    "robust_image = \"dataset/colored_mnist_robustness/images/0/9994.png\"\n",
    "responsive_image = \"dataset/colored_mnist_responsiveness/images/0/9994.png\""
   ]
  },
  {
   "cell_type": "code",
   "execution_count": 53,
   "id": "4982b2a0",
   "metadata": {},
   "outputs": [
    {
     "data": {
      "application/javascript": [
       "/* Put everything inside the global mpl namespace */\n",
       "/* global mpl */\n",
       "window.mpl = {};\n",
       "\n",
       "mpl.get_websocket_type = function () {\n",
       "    if (typeof WebSocket !== 'undefined') {\n",
       "        return WebSocket;\n",
       "    } else if (typeof MozWebSocket !== 'undefined') {\n",
       "        return MozWebSocket;\n",
       "    } else {\n",
       "        alert(\n",
       "            'Your browser does not have WebSocket support. ' +\n",
       "                'Please try Chrome, Safari or Firefox ≥ 6. ' +\n",
       "                'Firefox 4 and 5 are also supported but you ' +\n",
       "                'have to enable WebSockets in about:config.'\n",
       "        );\n",
       "    }\n",
       "};\n",
       "\n",
       "mpl.figure = function (figure_id, websocket, ondownload, parent_element) {\n",
       "    this.id = figure_id;\n",
       "\n",
       "    this.ws = websocket;\n",
       "\n",
       "    this.supports_binary = this.ws.binaryType !== undefined;\n",
       "\n",
       "    if (!this.supports_binary) {\n",
       "        var warnings = document.getElementById('mpl-warnings');\n",
       "        if (warnings) {\n",
       "            warnings.style.display = 'block';\n",
       "            warnings.textContent =\n",
       "                'This browser does not support binary websocket messages. ' +\n",
       "                'Performance may be slow.';\n",
       "        }\n",
       "    }\n",
       "\n",
       "    this.imageObj = new Image();\n",
       "\n",
       "    this.context = undefined;\n",
       "    this.message = undefined;\n",
       "    this.canvas = undefined;\n",
       "    this.rubberband_canvas = undefined;\n",
       "    this.rubberband_context = undefined;\n",
       "    this.format_dropdown = undefined;\n",
       "\n",
       "    this.image_mode = 'full';\n",
       "\n",
       "    this.root = document.createElement('div');\n",
       "    this.root.setAttribute('style', 'display: inline-block');\n",
       "    this._root_extra_style(this.root);\n",
       "\n",
       "    parent_element.appendChild(this.root);\n",
       "\n",
       "    this._init_header(this);\n",
       "    this._init_canvas(this);\n",
       "    this._init_toolbar(this);\n",
       "\n",
       "    var fig = this;\n",
       "\n",
       "    this.waiting = false;\n",
       "\n",
       "    this.ws.onopen = function () {\n",
       "        fig.send_message('supports_binary', { value: fig.supports_binary });\n",
       "        fig.send_message('send_image_mode', {});\n",
       "        if (fig.ratio !== 1) {\n",
       "            fig.send_message('set_device_pixel_ratio', {\n",
       "                device_pixel_ratio: fig.ratio,\n",
       "            });\n",
       "        }\n",
       "        fig.send_message('refresh', {});\n",
       "    };\n",
       "\n",
       "    this.imageObj.onload = function () {\n",
       "        if (fig.image_mode === 'full') {\n",
       "            // Full images could contain transparency (where diff images\n",
       "            // almost always do), so we need to clear the canvas so that\n",
       "            // there is no ghosting.\n",
       "            fig.context.clearRect(0, 0, fig.canvas.width, fig.canvas.height);\n",
       "        }\n",
       "        fig.context.drawImage(fig.imageObj, 0, 0);\n",
       "    };\n",
       "\n",
       "    this.imageObj.onunload = function () {\n",
       "        fig.ws.close();\n",
       "    };\n",
       "\n",
       "    this.ws.onmessage = this._make_on_message_function(this);\n",
       "\n",
       "    this.ondownload = ondownload;\n",
       "};\n",
       "\n",
       "mpl.figure.prototype._init_header = function () {\n",
       "    var titlebar = document.createElement('div');\n",
       "    titlebar.classList =\n",
       "        'ui-dialog-titlebar ui-widget-header ui-corner-all ui-helper-clearfix';\n",
       "    var titletext = document.createElement('div');\n",
       "    titletext.classList = 'ui-dialog-title';\n",
       "    titletext.setAttribute(\n",
       "        'style',\n",
       "        'width: 100%; text-align: center; padding: 3px;'\n",
       "    );\n",
       "    titlebar.appendChild(titletext);\n",
       "    this.root.appendChild(titlebar);\n",
       "    this.header = titletext;\n",
       "};\n",
       "\n",
       "mpl.figure.prototype._canvas_extra_style = function (_canvas_div) {};\n",
       "\n",
       "mpl.figure.prototype._root_extra_style = function (_canvas_div) {};\n",
       "\n",
       "mpl.figure.prototype._init_canvas = function () {\n",
       "    var fig = this;\n",
       "\n",
       "    var canvas_div = (this.canvas_div = document.createElement('div'));\n",
       "    canvas_div.setAttribute(\n",
       "        'style',\n",
       "        'border: 1px solid #ddd;' +\n",
       "            'box-sizing: content-box;' +\n",
       "            'clear: both;' +\n",
       "            'min-height: 1px;' +\n",
       "            'min-width: 1px;' +\n",
       "            'outline: 0;' +\n",
       "            'overflow: hidden;' +\n",
       "            'position: relative;' +\n",
       "            'resize: both;'\n",
       "    );\n",
       "\n",
       "    function on_keyboard_event_closure(name) {\n",
       "        return function (event) {\n",
       "            return fig.key_event(event, name);\n",
       "        };\n",
       "    }\n",
       "\n",
       "    canvas_div.addEventListener(\n",
       "        'keydown',\n",
       "        on_keyboard_event_closure('key_press')\n",
       "    );\n",
       "    canvas_div.addEventListener(\n",
       "        'keyup',\n",
       "        on_keyboard_event_closure('key_release')\n",
       "    );\n",
       "\n",
       "    this._canvas_extra_style(canvas_div);\n",
       "    this.root.appendChild(canvas_div);\n",
       "\n",
       "    var canvas = (this.canvas = document.createElement('canvas'));\n",
       "    canvas.classList.add('mpl-canvas');\n",
       "    canvas.setAttribute('style', 'box-sizing: content-box;');\n",
       "\n",
       "    this.context = canvas.getContext('2d');\n",
       "\n",
       "    var backingStore =\n",
       "        this.context.backingStorePixelRatio ||\n",
       "        this.context.webkitBackingStorePixelRatio ||\n",
       "        this.context.mozBackingStorePixelRatio ||\n",
       "        this.context.msBackingStorePixelRatio ||\n",
       "        this.context.oBackingStorePixelRatio ||\n",
       "        this.context.backingStorePixelRatio ||\n",
       "        1;\n",
       "\n",
       "    this.ratio = (window.devicePixelRatio || 1) / backingStore;\n",
       "\n",
       "    var rubberband_canvas = (this.rubberband_canvas = document.createElement(\n",
       "        'canvas'\n",
       "    ));\n",
       "    rubberband_canvas.setAttribute(\n",
       "        'style',\n",
       "        'box-sizing: content-box; position: absolute; left: 0; top: 0; z-index: 1;'\n",
       "    );\n",
       "\n",
       "    // Apply a ponyfill if ResizeObserver is not implemented by browser.\n",
       "    if (this.ResizeObserver === undefined) {\n",
       "        if (window.ResizeObserver !== undefined) {\n",
       "            this.ResizeObserver = window.ResizeObserver;\n",
       "        } else {\n",
       "            var obs = _JSXTOOLS_RESIZE_OBSERVER({});\n",
       "            this.ResizeObserver = obs.ResizeObserver;\n",
       "        }\n",
       "    }\n",
       "\n",
       "    this.resizeObserverInstance = new this.ResizeObserver(function (entries) {\n",
       "        var nentries = entries.length;\n",
       "        for (var i = 0; i < nentries; i++) {\n",
       "            var entry = entries[i];\n",
       "            var width, height;\n",
       "            if (entry.contentBoxSize) {\n",
       "                if (entry.contentBoxSize instanceof Array) {\n",
       "                    // Chrome 84 implements new version of spec.\n",
       "                    width = entry.contentBoxSize[0].inlineSize;\n",
       "                    height = entry.contentBoxSize[0].blockSize;\n",
       "                } else {\n",
       "                    // Firefox implements old version of spec.\n",
       "                    width = entry.contentBoxSize.inlineSize;\n",
       "                    height = entry.contentBoxSize.blockSize;\n",
       "                }\n",
       "            } else {\n",
       "                // Chrome <84 implements even older version of spec.\n",
       "                width = entry.contentRect.width;\n",
       "                height = entry.contentRect.height;\n",
       "            }\n",
       "\n",
       "            // Keep the size of the canvas and rubber band canvas in sync with\n",
       "            // the canvas container.\n",
       "            if (entry.devicePixelContentBoxSize) {\n",
       "                // Chrome 84 implements new version of spec.\n",
       "                canvas.setAttribute(\n",
       "                    'width',\n",
       "                    entry.devicePixelContentBoxSize[0].inlineSize\n",
       "                );\n",
       "                canvas.setAttribute(\n",
       "                    'height',\n",
       "                    entry.devicePixelContentBoxSize[0].blockSize\n",
       "                );\n",
       "            } else {\n",
       "                canvas.setAttribute('width', width * fig.ratio);\n",
       "                canvas.setAttribute('height', height * fig.ratio);\n",
       "            }\n",
       "            canvas.setAttribute(\n",
       "                'style',\n",
       "                'width: ' + width + 'px; height: ' + height + 'px;'\n",
       "            );\n",
       "\n",
       "            rubberband_canvas.setAttribute('width', width);\n",
       "            rubberband_canvas.setAttribute('height', height);\n",
       "\n",
       "            // And update the size in Python. We ignore the initial 0/0 size\n",
       "            // that occurs as the element is placed into the DOM, which should\n",
       "            // otherwise not happen due to the minimum size styling.\n",
       "            if (fig.ws.readyState == 1 && width != 0 && height != 0) {\n",
       "                fig.request_resize(width, height);\n",
       "            }\n",
       "        }\n",
       "    });\n",
       "    this.resizeObserverInstance.observe(canvas_div);\n",
       "\n",
       "    function on_mouse_event_closure(name) {\n",
       "        return function (event) {\n",
       "            return fig.mouse_event(event, name);\n",
       "        };\n",
       "    }\n",
       "\n",
       "    rubberband_canvas.addEventListener(\n",
       "        'mousedown',\n",
       "        on_mouse_event_closure('button_press')\n",
       "    );\n",
       "    rubberband_canvas.addEventListener(\n",
       "        'mouseup',\n",
       "        on_mouse_event_closure('button_release')\n",
       "    );\n",
       "    rubberband_canvas.addEventListener(\n",
       "        'dblclick',\n",
       "        on_mouse_event_closure('dblclick')\n",
       "    );\n",
       "    // Throttle sequential mouse events to 1 every 20ms.\n",
       "    rubberband_canvas.addEventListener(\n",
       "        'mousemove',\n",
       "        on_mouse_event_closure('motion_notify')\n",
       "    );\n",
       "\n",
       "    rubberband_canvas.addEventListener(\n",
       "        'mouseenter',\n",
       "        on_mouse_event_closure('figure_enter')\n",
       "    );\n",
       "    rubberband_canvas.addEventListener(\n",
       "        'mouseleave',\n",
       "        on_mouse_event_closure('figure_leave')\n",
       "    );\n",
       "\n",
       "    canvas_div.addEventListener('wheel', function (event) {\n",
       "        if (event.deltaY < 0) {\n",
       "            event.step = 1;\n",
       "        } else {\n",
       "            event.step = -1;\n",
       "        }\n",
       "        on_mouse_event_closure('scroll')(event);\n",
       "    });\n",
       "\n",
       "    canvas_div.appendChild(canvas);\n",
       "    canvas_div.appendChild(rubberband_canvas);\n",
       "\n",
       "    this.rubberband_context = rubberband_canvas.getContext('2d');\n",
       "    this.rubberband_context.strokeStyle = '#000000';\n",
       "\n",
       "    this._resize_canvas = function (width, height, forward) {\n",
       "        if (forward) {\n",
       "            canvas_div.style.width = width + 'px';\n",
       "            canvas_div.style.height = height + 'px';\n",
       "        }\n",
       "    };\n",
       "\n",
       "    // Disable right mouse context menu.\n",
       "    this.rubberband_canvas.addEventListener('contextmenu', function (_e) {\n",
       "        event.preventDefault();\n",
       "        return false;\n",
       "    });\n",
       "\n",
       "    function set_focus() {\n",
       "        canvas.focus();\n",
       "        canvas_div.focus();\n",
       "    }\n",
       "\n",
       "    window.setTimeout(set_focus, 100);\n",
       "};\n",
       "\n",
       "mpl.figure.prototype._init_toolbar = function () {\n",
       "    var fig = this;\n",
       "\n",
       "    var toolbar = document.createElement('div');\n",
       "    toolbar.classList = 'mpl-toolbar';\n",
       "    this.root.appendChild(toolbar);\n",
       "\n",
       "    function on_click_closure(name) {\n",
       "        return function (_event) {\n",
       "            return fig.toolbar_button_onclick(name);\n",
       "        };\n",
       "    }\n",
       "\n",
       "    function on_mouseover_closure(tooltip) {\n",
       "        return function (event) {\n",
       "            if (!event.currentTarget.disabled) {\n",
       "                return fig.toolbar_button_onmouseover(tooltip);\n",
       "            }\n",
       "        };\n",
       "    }\n",
       "\n",
       "    fig.buttons = {};\n",
       "    var buttonGroup = document.createElement('div');\n",
       "    buttonGroup.classList = 'mpl-button-group';\n",
       "    for (var toolbar_ind in mpl.toolbar_items) {\n",
       "        var name = mpl.toolbar_items[toolbar_ind][0];\n",
       "        var tooltip = mpl.toolbar_items[toolbar_ind][1];\n",
       "        var image = mpl.toolbar_items[toolbar_ind][2];\n",
       "        var method_name = mpl.toolbar_items[toolbar_ind][3];\n",
       "\n",
       "        if (!name) {\n",
       "            /* Instead of a spacer, we start a new button group. */\n",
       "            if (buttonGroup.hasChildNodes()) {\n",
       "                toolbar.appendChild(buttonGroup);\n",
       "            }\n",
       "            buttonGroup = document.createElement('div');\n",
       "            buttonGroup.classList = 'mpl-button-group';\n",
       "            continue;\n",
       "        }\n",
       "\n",
       "        var button = (fig.buttons[name] = document.createElement('button'));\n",
       "        button.classList = 'mpl-widget';\n",
       "        button.setAttribute('role', 'button');\n",
       "        button.setAttribute('aria-disabled', 'false');\n",
       "        button.addEventListener('click', on_click_closure(method_name));\n",
       "        button.addEventListener('mouseover', on_mouseover_closure(tooltip));\n",
       "\n",
       "        var icon_img = document.createElement('img');\n",
       "        icon_img.src = '_images/' + image + '.png';\n",
       "        icon_img.srcset = '_images/' + image + '_large.png 2x';\n",
       "        icon_img.alt = tooltip;\n",
       "        button.appendChild(icon_img);\n",
       "\n",
       "        buttonGroup.appendChild(button);\n",
       "    }\n",
       "\n",
       "    if (buttonGroup.hasChildNodes()) {\n",
       "        toolbar.appendChild(buttonGroup);\n",
       "    }\n",
       "\n",
       "    var fmt_picker = document.createElement('select');\n",
       "    fmt_picker.classList = 'mpl-widget';\n",
       "    toolbar.appendChild(fmt_picker);\n",
       "    this.format_dropdown = fmt_picker;\n",
       "\n",
       "    for (var ind in mpl.extensions) {\n",
       "        var fmt = mpl.extensions[ind];\n",
       "        var option = document.createElement('option');\n",
       "        option.selected = fmt === mpl.default_extension;\n",
       "        option.innerHTML = fmt;\n",
       "        fmt_picker.appendChild(option);\n",
       "    }\n",
       "\n",
       "    var status_bar = document.createElement('span');\n",
       "    status_bar.classList = 'mpl-message';\n",
       "    toolbar.appendChild(status_bar);\n",
       "    this.message = status_bar;\n",
       "};\n",
       "\n",
       "mpl.figure.prototype.request_resize = function (x_pixels, y_pixels) {\n",
       "    // Request matplotlib to resize the figure. Matplotlib will then trigger a resize in the client,\n",
       "    // which will in turn request a refresh of the image.\n",
       "    this.send_message('resize', { width: x_pixels, height: y_pixels });\n",
       "};\n",
       "\n",
       "mpl.figure.prototype.send_message = function (type, properties) {\n",
       "    properties['type'] = type;\n",
       "    properties['figure_id'] = this.id;\n",
       "    this.ws.send(JSON.stringify(properties));\n",
       "};\n",
       "\n",
       "mpl.figure.prototype.send_draw_message = function () {\n",
       "    if (!this.waiting) {\n",
       "        this.waiting = true;\n",
       "        this.ws.send(JSON.stringify({ type: 'draw', figure_id: this.id }));\n",
       "    }\n",
       "};\n",
       "\n",
       "mpl.figure.prototype.handle_save = function (fig, _msg) {\n",
       "    var format_dropdown = fig.format_dropdown;\n",
       "    var format = format_dropdown.options[format_dropdown.selectedIndex].value;\n",
       "    fig.ondownload(fig, format);\n",
       "};\n",
       "\n",
       "mpl.figure.prototype.handle_resize = function (fig, msg) {\n",
       "    var size = msg['size'];\n",
       "    if (size[0] !== fig.canvas.width || size[1] !== fig.canvas.height) {\n",
       "        fig._resize_canvas(size[0], size[1], msg['forward']);\n",
       "        fig.send_message('refresh', {});\n",
       "    }\n",
       "};\n",
       "\n",
       "mpl.figure.prototype.handle_rubberband = function (fig, msg) {\n",
       "    var x0 = msg['x0'] / fig.ratio;\n",
       "    var y0 = (fig.canvas.height - msg['y0']) / fig.ratio;\n",
       "    var x1 = msg['x1'] / fig.ratio;\n",
       "    var y1 = (fig.canvas.height - msg['y1']) / fig.ratio;\n",
       "    x0 = Math.floor(x0) + 0.5;\n",
       "    y0 = Math.floor(y0) + 0.5;\n",
       "    x1 = Math.floor(x1) + 0.5;\n",
       "    y1 = Math.floor(y1) + 0.5;\n",
       "    var min_x = Math.min(x0, x1);\n",
       "    var min_y = Math.min(y0, y1);\n",
       "    var width = Math.abs(x1 - x0);\n",
       "    var height = Math.abs(y1 - y0);\n",
       "\n",
       "    fig.rubberband_context.clearRect(\n",
       "        0,\n",
       "        0,\n",
       "        fig.canvas.width / fig.ratio,\n",
       "        fig.canvas.height / fig.ratio\n",
       "    );\n",
       "\n",
       "    fig.rubberband_context.strokeRect(min_x, min_y, width, height);\n",
       "};\n",
       "\n",
       "mpl.figure.prototype.handle_figure_label = function (fig, msg) {\n",
       "    // Updates the figure title.\n",
       "    fig.header.textContent = msg['label'];\n",
       "};\n",
       "\n",
       "mpl.figure.prototype.handle_cursor = function (fig, msg) {\n",
       "    fig.rubberband_canvas.style.cursor = msg['cursor'];\n",
       "};\n",
       "\n",
       "mpl.figure.prototype.handle_message = function (fig, msg) {\n",
       "    fig.message.textContent = msg['message'];\n",
       "};\n",
       "\n",
       "mpl.figure.prototype.handle_draw = function (fig, _msg) {\n",
       "    // Request the server to send over a new figure.\n",
       "    fig.send_draw_message();\n",
       "};\n",
       "\n",
       "mpl.figure.prototype.handle_image_mode = function (fig, msg) {\n",
       "    fig.image_mode = msg['mode'];\n",
       "};\n",
       "\n",
       "mpl.figure.prototype.handle_history_buttons = function (fig, msg) {\n",
       "    for (var key in msg) {\n",
       "        if (!(key in fig.buttons)) {\n",
       "            continue;\n",
       "        }\n",
       "        fig.buttons[key].disabled = !msg[key];\n",
       "        fig.buttons[key].setAttribute('aria-disabled', !msg[key]);\n",
       "    }\n",
       "};\n",
       "\n",
       "mpl.figure.prototype.handle_navigate_mode = function (fig, msg) {\n",
       "    if (msg['mode'] === 'PAN') {\n",
       "        fig.buttons['Pan'].classList.add('active');\n",
       "        fig.buttons['Zoom'].classList.remove('active');\n",
       "    } else if (msg['mode'] === 'ZOOM') {\n",
       "        fig.buttons['Pan'].classList.remove('active');\n",
       "        fig.buttons['Zoom'].classList.add('active');\n",
       "    } else {\n",
       "        fig.buttons['Pan'].classList.remove('active');\n",
       "        fig.buttons['Zoom'].classList.remove('active');\n",
       "    }\n",
       "};\n",
       "\n",
       "mpl.figure.prototype.updated_canvas_event = function () {\n",
       "    // Called whenever the canvas gets updated.\n",
       "    this.send_message('ack', {});\n",
       "};\n",
       "\n",
       "// A function to construct a web socket function for onmessage handling.\n",
       "// Called in the figure constructor.\n",
       "mpl.figure.prototype._make_on_message_function = function (fig) {\n",
       "    return function socket_on_message(evt) {\n",
       "        if (evt.data instanceof Blob) {\n",
       "            var img = evt.data;\n",
       "            if (img.type !== 'image/png') {\n",
       "                /* FIXME: We get \"Resource interpreted as Image but\n",
       "                 * transferred with MIME type text/plain:\" errors on\n",
       "                 * Chrome.  But how to set the MIME type?  It doesn't seem\n",
       "                 * to be part of the websocket stream */\n",
       "                img.type = 'image/png';\n",
       "            }\n",
       "\n",
       "            /* Free the memory for the previous frames */\n",
       "            if (fig.imageObj.src) {\n",
       "                (window.URL || window.webkitURL).revokeObjectURL(\n",
       "                    fig.imageObj.src\n",
       "                );\n",
       "            }\n",
       "\n",
       "            fig.imageObj.src = (window.URL || window.webkitURL).createObjectURL(\n",
       "                img\n",
       "            );\n",
       "            fig.updated_canvas_event();\n",
       "            fig.waiting = false;\n",
       "            return;\n",
       "        } else if (\n",
       "            typeof evt.data === 'string' &&\n",
       "            evt.data.slice(0, 21) === 'data:image/png;base64'\n",
       "        ) {\n",
       "            fig.imageObj.src = evt.data;\n",
       "            fig.updated_canvas_event();\n",
       "            fig.waiting = false;\n",
       "            return;\n",
       "        }\n",
       "\n",
       "        var msg = JSON.parse(evt.data);\n",
       "        var msg_type = msg['type'];\n",
       "\n",
       "        // Call the  \"handle_{type}\" callback, which takes\n",
       "        // the figure and JSON message as its only arguments.\n",
       "        try {\n",
       "            var callback = fig['handle_' + msg_type];\n",
       "        } catch (e) {\n",
       "            console.log(\n",
       "                \"No handler for the '\" + msg_type + \"' message type: \",\n",
       "                msg\n",
       "            );\n",
       "            return;\n",
       "        }\n",
       "\n",
       "        if (callback) {\n",
       "            try {\n",
       "                // console.log(\"Handling '\" + msg_type + \"' message: \", msg);\n",
       "                callback(fig, msg);\n",
       "            } catch (e) {\n",
       "                console.log(\n",
       "                    \"Exception inside the 'handler_\" + msg_type + \"' callback:\",\n",
       "                    e,\n",
       "                    e.stack,\n",
       "                    msg\n",
       "                );\n",
       "            }\n",
       "        }\n",
       "    };\n",
       "};\n",
       "\n",
       "// from https://stackoverflow.com/questions/1114465/getting-mouse-location-in-canvas\n",
       "mpl.findpos = function (e) {\n",
       "    //this section is from http://www.quirksmode.org/js/events_properties.html\n",
       "    var targ;\n",
       "    if (!e) {\n",
       "        e = window.event;\n",
       "    }\n",
       "    if (e.target) {\n",
       "        targ = e.target;\n",
       "    } else if (e.srcElement) {\n",
       "        targ = e.srcElement;\n",
       "    }\n",
       "    if (targ.nodeType === 3) {\n",
       "        // defeat Safari bug\n",
       "        targ = targ.parentNode;\n",
       "    }\n",
       "\n",
       "    // pageX,Y are the mouse positions relative to the document\n",
       "    var boundingRect = targ.getBoundingClientRect();\n",
       "    var x = e.pageX - (boundingRect.left + document.body.scrollLeft);\n",
       "    var y = e.pageY - (boundingRect.top + document.body.scrollTop);\n",
       "\n",
       "    return { x: x, y: y };\n",
       "};\n",
       "\n",
       "/*\n",
       " * return a copy of an object with only non-object keys\n",
       " * we need this to avoid circular references\n",
       " * https://stackoverflow.com/a/24161582/3208463\n",
       " */\n",
       "function simpleKeys(original) {\n",
       "    return Object.keys(original).reduce(function (obj, key) {\n",
       "        if (typeof original[key] !== 'object') {\n",
       "            obj[key] = original[key];\n",
       "        }\n",
       "        return obj;\n",
       "    }, {});\n",
       "}\n",
       "\n",
       "mpl.figure.prototype.mouse_event = function (event, name) {\n",
       "    var canvas_pos = mpl.findpos(event);\n",
       "\n",
       "    if (name === 'button_press') {\n",
       "        this.canvas.focus();\n",
       "        this.canvas_div.focus();\n",
       "    }\n",
       "\n",
       "    var x = canvas_pos.x * this.ratio;\n",
       "    var y = canvas_pos.y * this.ratio;\n",
       "\n",
       "    this.send_message(name, {\n",
       "        x: x,\n",
       "        y: y,\n",
       "        button: event.button,\n",
       "        step: event.step,\n",
       "        guiEvent: simpleKeys(event),\n",
       "    });\n",
       "\n",
       "    /* This prevents the web browser from automatically changing to\n",
       "     * the text insertion cursor when the button is pressed.  We want\n",
       "     * to control all of the cursor setting manually through the\n",
       "     * 'cursor' event from matplotlib */\n",
       "    event.preventDefault();\n",
       "    return false;\n",
       "};\n",
       "\n",
       "mpl.figure.prototype._key_event_extra = function (_event, _name) {\n",
       "    // Handle any extra behaviour associated with a key event\n",
       "};\n",
       "\n",
       "mpl.figure.prototype.key_event = function (event, name) {\n",
       "    // Prevent repeat events\n",
       "    if (name === 'key_press') {\n",
       "        if (event.key === this._key) {\n",
       "            return;\n",
       "        } else {\n",
       "            this._key = event.key;\n",
       "        }\n",
       "    }\n",
       "    if (name === 'key_release') {\n",
       "        this._key = null;\n",
       "    }\n",
       "\n",
       "    var value = '';\n",
       "    if (event.ctrlKey && event.key !== 'Control') {\n",
       "        value += 'ctrl+';\n",
       "    }\n",
       "    else if (event.altKey && event.key !== 'Alt') {\n",
       "        value += 'alt+';\n",
       "    }\n",
       "    else if (event.shiftKey && event.key !== 'Shift') {\n",
       "        value += 'shift+';\n",
       "    }\n",
       "\n",
       "    value += 'k' + event.key;\n",
       "\n",
       "    this._key_event_extra(event, name);\n",
       "\n",
       "    this.send_message(name, { key: value, guiEvent: simpleKeys(event) });\n",
       "    return false;\n",
       "};\n",
       "\n",
       "mpl.figure.prototype.toolbar_button_onclick = function (name) {\n",
       "    if (name === 'download') {\n",
       "        this.handle_save(this, null);\n",
       "    } else {\n",
       "        this.send_message('toolbar_button', { name: name });\n",
       "    }\n",
       "};\n",
       "\n",
       "mpl.figure.prototype.toolbar_button_onmouseover = function (tooltip) {\n",
       "    this.message.textContent = tooltip;\n",
       "};\n",
       "\n",
       "///////////////// REMAINING CONTENT GENERATED BY embed_js.py /////////////////\n",
       "// prettier-ignore\n",
       "var _JSXTOOLS_RESIZE_OBSERVER=function(A){var t,i=new WeakMap,n=new WeakMap,a=new WeakMap,r=new WeakMap,o=new Set;function s(e){if(!(this instanceof s))throw new TypeError(\"Constructor requires 'new' operator\");i.set(this,e)}function h(){throw new TypeError(\"Function is not a constructor\")}function c(e,t,i,n){e=0 in arguments?Number(arguments[0]):0,t=1 in arguments?Number(arguments[1]):0,i=2 in arguments?Number(arguments[2]):0,n=3 in arguments?Number(arguments[3]):0,this.right=(this.x=this.left=e)+(this.width=i),this.bottom=(this.y=this.top=t)+(this.height=n),Object.freeze(this)}function d(){t=requestAnimationFrame(d);var s=new WeakMap,p=new Set;o.forEach((function(t){r.get(t).forEach((function(i){var r=t instanceof window.SVGElement,o=a.get(t),d=r?0:parseFloat(o.paddingTop),f=r?0:parseFloat(o.paddingRight),l=r?0:parseFloat(o.paddingBottom),u=r?0:parseFloat(o.paddingLeft),g=r?0:parseFloat(o.borderTopWidth),m=r?0:parseFloat(o.borderRightWidth),w=r?0:parseFloat(o.borderBottomWidth),b=u+f,F=d+l,v=(r?0:parseFloat(o.borderLeftWidth))+m,W=g+w,y=r?0:t.offsetHeight-W-t.clientHeight,E=r?0:t.offsetWidth-v-t.clientWidth,R=b+v,z=F+W,M=r?t.width:parseFloat(o.width)-R-E,O=r?t.height:parseFloat(o.height)-z-y;if(n.has(t)){var k=n.get(t);if(k[0]===M&&k[1]===O)return}n.set(t,[M,O]);var S=Object.create(h.prototype);S.target=t,S.contentRect=new c(u,d,M,O),s.has(i)||(s.set(i,[]),p.add(i)),s.get(i).push(S)}))})),p.forEach((function(e){i.get(e).call(e,s.get(e),e)}))}return s.prototype.observe=function(i){if(i instanceof window.Element){r.has(i)||(r.set(i,new Set),o.add(i),a.set(i,window.getComputedStyle(i)));var n=r.get(i);n.has(this)||n.add(this),cancelAnimationFrame(t),t=requestAnimationFrame(d)}},s.prototype.unobserve=function(i){if(i instanceof window.Element&&r.has(i)){var n=r.get(i);n.has(this)&&(n.delete(this),n.size||(r.delete(i),o.delete(i))),n.size||r.delete(i),o.size||cancelAnimationFrame(t)}},A.DOMRectReadOnly=c,A.ResizeObserver=s,A.ResizeObserverEntry=h,A}; // eslint-disable-line\n",
       "mpl.toolbar_items = [[\"Home\", \"Reset original view\", \"fa fa-home icon-home\", \"home\"], [\"Back\", \"Back to previous view\", \"fa fa-arrow-left icon-arrow-left\", \"back\"], [\"Forward\", \"Forward to next view\", \"fa fa-arrow-right icon-arrow-right\", \"forward\"], [\"\", \"\", \"\", \"\"], [\"Pan\", \"Left button pans, Right button zooms\\nx/y fixes axis, CTRL fixes aspect\", \"fa fa-arrows icon-move\", \"pan\"], [\"Zoom\", \"Zoom to rectangle\\nx/y fixes axis\", \"fa fa-square-o icon-check-empty\", \"zoom\"], [\"\", \"\", \"\", \"\"], [\"Download\", \"Download plot\", \"fa fa-floppy-o icon-save\", \"download\"]];\n",
       "\n",
       "mpl.extensions = [\"eps\", \"jpeg\", \"pgf\", \"pdf\", \"png\", \"ps\", \"raw\", \"svg\", \"tif\"];\n",
       "\n",
       "mpl.default_extension = \"png\";/* global mpl */\n",
       "\n",
       "var comm_websocket_adapter = function (comm) {\n",
       "    // Create a \"websocket\"-like object which calls the given IPython comm\n",
       "    // object with the appropriate methods. Currently this is a non binary\n",
       "    // socket, so there is still some room for performance tuning.\n",
       "    var ws = {};\n",
       "\n",
       "    ws.binaryType = comm.kernel.ws.binaryType;\n",
       "    ws.readyState = comm.kernel.ws.readyState;\n",
       "    function updateReadyState(_event) {\n",
       "        if (comm.kernel.ws) {\n",
       "            ws.readyState = comm.kernel.ws.readyState;\n",
       "        } else {\n",
       "            ws.readyState = 3; // Closed state.\n",
       "        }\n",
       "    }\n",
       "    comm.kernel.ws.addEventListener('open', updateReadyState);\n",
       "    comm.kernel.ws.addEventListener('close', updateReadyState);\n",
       "    comm.kernel.ws.addEventListener('error', updateReadyState);\n",
       "\n",
       "    ws.close = function () {\n",
       "        comm.close();\n",
       "    };\n",
       "    ws.send = function (m) {\n",
       "        //console.log('sending', m);\n",
       "        comm.send(m);\n",
       "    };\n",
       "    // Register the callback with on_msg.\n",
       "    comm.on_msg(function (msg) {\n",
       "        //console.log('receiving', msg['content']['data'], msg);\n",
       "        var data = msg['content']['data'];\n",
       "        if (data['blob'] !== undefined) {\n",
       "            data = {\n",
       "                data: new Blob(msg['buffers'], { type: data['blob'] }),\n",
       "            };\n",
       "        }\n",
       "        // Pass the mpl event to the overridden (by mpl) onmessage function.\n",
       "        ws.onmessage(data);\n",
       "    });\n",
       "    return ws;\n",
       "};\n",
       "\n",
       "mpl.mpl_figure_comm = function (comm, msg) {\n",
       "    // This is the function which gets called when the mpl process\n",
       "    // starts-up an IPython Comm through the \"matplotlib\" channel.\n",
       "\n",
       "    var id = msg.content.data.id;\n",
       "    // Get hold of the div created by the display call when the Comm\n",
       "    // socket was opened in Python.\n",
       "    var element = document.getElementById(id);\n",
       "    var ws_proxy = comm_websocket_adapter(comm);\n",
       "\n",
       "    function ondownload(figure, _format) {\n",
       "        window.open(figure.canvas.toDataURL());\n",
       "    }\n",
       "\n",
       "    var fig = new mpl.figure(id, ws_proxy, ondownload, element);\n",
       "\n",
       "    // Call onopen now - mpl needs it, as it is assuming we've passed it a real\n",
       "    // web socket which is closed, not our websocket->open comm proxy.\n",
       "    ws_proxy.onopen();\n",
       "\n",
       "    fig.parent_element = element;\n",
       "    fig.cell_info = mpl.find_output_cell(\"<div id='\" + id + \"'></div>\");\n",
       "    if (!fig.cell_info) {\n",
       "        console.error('Failed to find cell for figure', id, fig);\n",
       "        return;\n",
       "    }\n",
       "    fig.cell_info[0].output_area.element.on(\n",
       "        'cleared',\n",
       "        { fig: fig },\n",
       "        fig._remove_fig_handler\n",
       "    );\n",
       "};\n",
       "\n",
       "mpl.figure.prototype.handle_close = function (fig, msg) {\n",
       "    var width = fig.canvas.width / fig.ratio;\n",
       "    fig.cell_info[0].output_area.element.off(\n",
       "        'cleared',\n",
       "        fig._remove_fig_handler\n",
       "    );\n",
       "    fig.resizeObserverInstance.unobserve(fig.canvas_div);\n",
       "\n",
       "    // Update the output cell to use the data from the current canvas.\n",
       "    fig.push_to_output();\n",
       "    var dataURL = fig.canvas.toDataURL();\n",
       "    // Re-enable the keyboard manager in IPython - without this line, in FF,\n",
       "    // the notebook keyboard shortcuts fail.\n",
       "    IPython.keyboard_manager.enable();\n",
       "    fig.parent_element.innerHTML =\n",
       "        '<img src=\"' + dataURL + '\" width=\"' + width + '\">';\n",
       "    fig.close_ws(fig, msg);\n",
       "};\n",
       "\n",
       "mpl.figure.prototype.close_ws = function (fig, msg) {\n",
       "    fig.send_message('closing', msg);\n",
       "    // fig.ws.close()\n",
       "};\n",
       "\n",
       "mpl.figure.prototype.push_to_output = function (_remove_interactive) {\n",
       "    // Turn the data on the canvas into data in the output cell.\n",
       "    var width = this.canvas.width / this.ratio;\n",
       "    var dataURL = this.canvas.toDataURL();\n",
       "    this.cell_info[1]['text/html'] =\n",
       "        '<img src=\"' + dataURL + '\" width=\"' + width + '\">';\n",
       "};\n",
       "\n",
       "mpl.figure.prototype.updated_canvas_event = function () {\n",
       "    // Tell IPython that the notebook contents must change.\n",
       "    IPython.notebook.set_dirty(true);\n",
       "    this.send_message('ack', {});\n",
       "    var fig = this;\n",
       "    // Wait a second, then push the new image to the DOM so\n",
       "    // that it is saved nicely (might be nice to debounce this).\n",
       "    setTimeout(function () {\n",
       "        fig.push_to_output();\n",
       "    }, 1000);\n",
       "};\n",
       "\n",
       "mpl.figure.prototype._init_toolbar = function () {\n",
       "    var fig = this;\n",
       "\n",
       "    var toolbar = document.createElement('div');\n",
       "    toolbar.classList = 'btn-toolbar';\n",
       "    this.root.appendChild(toolbar);\n",
       "\n",
       "    function on_click_closure(name) {\n",
       "        return function (_event) {\n",
       "            return fig.toolbar_button_onclick(name);\n",
       "        };\n",
       "    }\n",
       "\n",
       "    function on_mouseover_closure(tooltip) {\n",
       "        return function (event) {\n",
       "            if (!event.currentTarget.disabled) {\n",
       "                return fig.toolbar_button_onmouseover(tooltip);\n",
       "            }\n",
       "        };\n",
       "    }\n",
       "\n",
       "    fig.buttons = {};\n",
       "    var buttonGroup = document.createElement('div');\n",
       "    buttonGroup.classList = 'btn-group';\n",
       "    var button;\n",
       "    for (var toolbar_ind in mpl.toolbar_items) {\n",
       "        var name = mpl.toolbar_items[toolbar_ind][0];\n",
       "        var tooltip = mpl.toolbar_items[toolbar_ind][1];\n",
       "        var image = mpl.toolbar_items[toolbar_ind][2];\n",
       "        var method_name = mpl.toolbar_items[toolbar_ind][3];\n",
       "\n",
       "        if (!name) {\n",
       "            /* Instead of a spacer, we start a new button group. */\n",
       "            if (buttonGroup.hasChildNodes()) {\n",
       "                toolbar.appendChild(buttonGroup);\n",
       "            }\n",
       "            buttonGroup = document.createElement('div');\n",
       "            buttonGroup.classList = 'btn-group';\n",
       "            continue;\n",
       "        }\n",
       "\n",
       "        button = fig.buttons[name] = document.createElement('button');\n",
       "        button.classList = 'btn btn-default';\n",
       "        button.href = '#';\n",
       "        button.title = name;\n",
       "        button.innerHTML = '<i class=\"fa ' + image + ' fa-lg\"></i>';\n",
       "        button.addEventListener('click', on_click_closure(method_name));\n",
       "        button.addEventListener('mouseover', on_mouseover_closure(tooltip));\n",
       "        buttonGroup.appendChild(button);\n",
       "    }\n",
       "\n",
       "    if (buttonGroup.hasChildNodes()) {\n",
       "        toolbar.appendChild(buttonGroup);\n",
       "    }\n",
       "\n",
       "    // Add the status bar.\n",
       "    var status_bar = document.createElement('span');\n",
       "    status_bar.classList = 'mpl-message pull-right';\n",
       "    toolbar.appendChild(status_bar);\n",
       "    this.message = status_bar;\n",
       "\n",
       "    // Add the close button to the window.\n",
       "    var buttongrp = document.createElement('div');\n",
       "    buttongrp.classList = 'btn-group inline pull-right';\n",
       "    button = document.createElement('button');\n",
       "    button.classList = 'btn btn-mini btn-primary';\n",
       "    button.href = '#';\n",
       "    button.title = 'Stop Interaction';\n",
       "    button.innerHTML = '<i class=\"fa fa-power-off icon-remove icon-large\"></i>';\n",
       "    button.addEventListener('click', function (_evt) {\n",
       "        fig.handle_close(fig, {});\n",
       "    });\n",
       "    button.addEventListener(\n",
       "        'mouseover',\n",
       "        on_mouseover_closure('Stop Interaction')\n",
       "    );\n",
       "    buttongrp.appendChild(button);\n",
       "    var titlebar = this.root.querySelector('.ui-dialog-titlebar');\n",
       "    titlebar.insertBefore(buttongrp, titlebar.firstChild);\n",
       "};\n",
       "\n",
       "mpl.figure.prototype._remove_fig_handler = function (event) {\n",
       "    var fig = event.data.fig;\n",
       "    if (event.target !== this) {\n",
       "        // Ignore bubbled events from children.\n",
       "        return;\n",
       "    }\n",
       "    fig.close_ws(fig, {});\n",
       "};\n",
       "\n",
       "mpl.figure.prototype._root_extra_style = function (el) {\n",
       "    el.style.boxSizing = 'content-box'; // override notebook setting of border-box.\n",
       "};\n",
       "\n",
       "mpl.figure.prototype._canvas_extra_style = function (el) {\n",
       "    // this is important to make the div 'focusable\n",
       "    el.setAttribute('tabindex', 0);\n",
       "    // reach out to IPython and tell the keyboard manager to turn it's self\n",
       "    // off when our div gets focus\n",
       "\n",
       "    // location in version 3\n",
       "    if (IPython.notebook.keyboard_manager) {\n",
       "        IPython.notebook.keyboard_manager.register_events(el);\n",
       "    } else {\n",
       "        // location in version 2\n",
       "        IPython.keyboard_manager.register_events(el);\n",
       "    }\n",
       "};\n",
       "\n",
       "mpl.figure.prototype._key_event_extra = function (event, _name) {\n",
       "    // Check for shift+enter\n",
       "    if (event.shiftKey && event.which === 13) {\n",
       "        this.canvas_div.blur();\n",
       "        // select the cell after this one\n",
       "        var index = IPython.notebook.find_cell_index(this.cell_info[0]);\n",
       "        IPython.notebook.select(index + 1);\n",
       "    }\n",
       "};\n",
       "\n",
       "mpl.figure.prototype.handle_save = function (fig, _msg) {\n",
       "    fig.ondownload(fig, null);\n",
       "};\n",
       "\n",
       "mpl.find_output_cell = function (html_output) {\n",
       "    // Return the cell and output element which can be found *uniquely* in the notebook.\n",
       "    // Note - this is a bit hacky, but it is done because the \"notebook_saving.Notebook\"\n",
       "    // IPython event is triggered only after the cells have been serialised, which for\n",
       "    // our purposes (turning an active figure into a static one), is too late.\n",
       "    var cells = IPython.notebook.get_cells();\n",
       "    var ncells = cells.length;\n",
       "    for (var i = 0; i < ncells; i++) {\n",
       "        var cell = cells[i];\n",
       "        if (cell.cell_type === 'code') {\n",
       "            for (var j = 0; j < cell.output_area.outputs.length; j++) {\n",
       "                var data = cell.output_area.outputs[j];\n",
       "                if (data.data) {\n",
       "                    // IPython >= 3 moved mimebundle to data attribute of output\n",
       "                    data = data.data;\n",
       "                }\n",
       "                if (data['text/html'] === html_output) {\n",
       "                    return [cell, data, j];\n",
       "                }\n",
       "            }\n",
       "        }\n",
       "    }\n",
       "};\n",
       "\n",
       "// Register the function which deals with the matplotlib target/channel.\n",
       "// The kernel may be null if the page has been refreshed.\n",
       "if (IPython.notebook.kernel !== null) {\n",
       "    IPython.notebook.kernel.comm_manager.register_target(\n",
       "        'matplotlib',\n",
       "        mpl.mpl_figure_comm\n",
       "    );\n",
       "}\n"
      ],
      "text/plain": [
       "<IPython.core.display.Javascript object>"
      ]
     },
     "metadata": {},
     "output_type": "display_data"
    },
    {
     "data": {
      "text/html": [
       "<img src=\"data:image/png;base64,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\" width=\"640.0000169542105\">"
      ],
      "text/plain": [
       "<IPython.core.display.HTML object>"
      ]
     },
     "metadata": {},
     "output_type": "display_data"
    },
    {
     "data": {
      "text/plain": [
       "<matplotlib.image.AxesImage at 0x7f15693bbe90>"
      ]
     },
     "execution_count": 53,
     "metadata": {},
     "output_type": "execute_result"
    }
   ],
   "source": [
    "plt.figure()\n",
    "plt.imshow(Image.open(regular_image))"
   ]
  },
  {
   "cell_type": "code",
   "execution_count": 54,
   "id": "060438f4",
   "metadata": {},
   "outputs": [
    {
     "data": {
      "application/javascript": [
       "/* Put everything inside the global mpl namespace */\n",
       "/* global mpl */\n",
       "window.mpl = {};\n",
       "\n",
       "mpl.get_websocket_type = function () {\n",
       "    if (typeof WebSocket !== 'undefined') {\n",
       "        return WebSocket;\n",
       "    } else if (typeof MozWebSocket !== 'undefined') {\n",
       "        return MozWebSocket;\n",
       "    } else {\n",
       "        alert(\n",
       "            'Your browser does not have WebSocket support. ' +\n",
       "                'Please try Chrome, Safari or Firefox ≥ 6. ' +\n",
       "                'Firefox 4 and 5 are also supported but you ' +\n",
       "                'have to enable WebSockets in about:config.'\n",
       "        );\n",
       "    }\n",
       "};\n",
       "\n",
       "mpl.figure = function (figure_id, websocket, ondownload, parent_element) {\n",
       "    this.id = figure_id;\n",
       "\n",
       "    this.ws = websocket;\n",
       "\n",
       "    this.supports_binary = this.ws.binaryType !== undefined;\n",
       "\n",
       "    if (!this.supports_binary) {\n",
       "        var warnings = document.getElementById('mpl-warnings');\n",
       "        if (warnings) {\n",
       "            warnings.style.display = 'block';\n",
       "            warnings.textContent =\n",
       "                'This browser does not support binary websocket messages. ' +\n",
       "                'Performance may be slow.';\n",
       "        }\n",
       "    }\n",
       "\n",
       "    this.imageObj = new Image();\n",
       "\n",
       "    this.context = undefined;\n",
       "    this.message = undefined;\n",
       "    this.canvas = undefined;\n",
       "    this.rubberband_canvas = undefined;\n",
       "    this.rubberband_context = undefined;\n",
       "    this.format_dropdown = undefined;\n",
       "\n",
       "    this.image_mode = 'full';\n",
       "\n",
       "    this.root = document.createElement('div');\n",
       "    this.root.setAttribute('style', 'display: inline-block');\n",
       "    this._root_extra_style(this.root);\n",
       "\n",
       "    parent_element.appendChild(this.root);\n",
       "\n",
       "    this._init_header(this);\n",
       "    this._init_canvas(this);\n",
       "    this._init_toolbar(this);\n",
       "\n",
       "    var fig = this;\n",
       "\n",
       "    this.waiting = false;\n",
       "\n",
       "    this.ws.onopen = function () {\n",
       "        fig.send_message('supports_binary', { value: fig.supports_binary });\n",
       "        fig.send_message('send_image_mode', {});\n",
       "        if (fig.ratio !== 1) {\n",
       "            fig.send_message('set_device_pixel_ratio', {\n",
       "                device_pixel_ratio: fig.ratio,\n",
       "            });\n",
       "        }\n",
       "        fig.send_message('refresh', {});\n",
       "    };\n",
       "\n",
       "    this.imageObj.onload = function () {\n",
       "        if (fig.image_mode === 'full') {\n",
       "            // Full images could contain transparency (where diff images\n",
       "            // almost always do), so we need to clear the canvas so that\n",
       "            // there is no ghosting.\n",
       "            fig.context.clearRect(0, 0, fig.canvas.width, fig.canvas.height);\n",
       "        }\n",
       "        fig.context.drawImage(fig.imageObj, 0, 0);\n",
       "    };\n",
       "\n",
       "    this.imageObj.onunload = function () {\n",
       "        fig.ws.close();\n",
       "    };\n",
       "\n",
       "    this.ws.onmessage = this._make_on_message_function(this);\n",
       "\n",
       "    this.ondownload = ondownload;\n",
       "};\n",
       "\n",
       "mpl.figure.prototype._init_header = function () {\n",
       "    var titlebar = document.createElement('div');\n",
       "    titlebar.classList =\n",
       "        'ui-dialog-titlebar ui-widget-header ui-corner-all ui-helper-clearfix';\n",
       "    var titletext = document.createElement('div');\n",
       "    titletext.classList = 'ui-dialog-title';\n",
       "    titletext.setAttribute(\n",
       "        'style',\n",
       "        'width: 100%; text-align: center; padding: 3px;'\n",
       "    );\n",
       "    titlebar.appendChild(titletext);\n",
       "    this.root.appendChild(titlebar);\n",
       "    this.header = titletext;\n",
       "};\n",
       "\n",
       "mpl.figure.prototype._canvas_extra_style = function (_canvas_div) {};\n",
       "\n",
       "mpl.figure.prototype._root_extra_style = function (_canvas_div) {};\n",
       "\n",
       "mpl.figure.prototype._init_canvas = function () {\n",
       "    var fig = this;\n",
       "\n",
       "    var canvas_div = (this.canvas_div = document.createElement('div'));\n",
       "    canvas_div.setAttribute(\n",
       "        'style',\n",
       "        'border: 1px solid #ddd;' +\n",
       "            'box-sizing: content-box;' +\n",
       "            'clear: both;' +\n",
       "            'min-height: 1px;' +\n",
       "            'min-width: 1px;' +\n",
       "            'outline: 0;' +\n",
       "            'overflow: hidden;' +\n",
       "            'position: relative;' +\n",
       "            'resize: both;'\n",
       "    );\n",
       "\n",
       "    function on_keyboard_event_closure(name) {\n",
       "        return function (event) {\n",
       "            return fig.key_event(event, name);\n",
       "        };\n",
       "    }\n",
       "\n",
       "    canvas_div.addEventListener(\n",
       "        'keydown',\n",
       "        on_keyboard_event_closure('key_press')\n",
       "    );\n",
       "    canvas_div.addEventListener(\n",
       "        'keyup',\n",
       "        on_keyboard_event_closure('key_release')\n",
       "    );\n",
       "\n",
       "    this._canvas_extra_style(canvas_div);\n",
       "    this.root.appendChild(canvas_div);\n",
       "\n",
       "    var canvas = (this.canvas = document.createElement('canvas'));\n",
       "    canvas.classList.add('mpl-canvas');\n",
       "    canvas.setAttribute('style', 'box-sizing: content-box;');\n",
       "\n",
       "    this.context = canvas.getContext('2d');\n",
       "\n",
       "    var backingStore =\n",
       "        this.context.backingStorePixelRatio ||\n",
       "        this.context.webkitBackingStorePixelRatio ||\n",
       "        this.context.mozBackingStorePixelRatio ||\n",
       "        this.context.msBackingStorePixelRatio ||\n",
       "        this.context.oBackingStorePixelRatio ||\n",
       "        this.context.backingStorePixelRatio ||\n",
       "        1;\n",
       "\n",
       "    this.ratio = (window.devicePixelRatio || 1) / backingStore;\n",
       "\n",
       "    var rubberband_canvas = (this.rubberband_canvas = document.createElement(\n",
       "        'canvas'\n",
       "    ));\n",
       "    rubberband_canvas.setAttribute(\n",
       "        'style',\n",
       "        'box-sizing: content-box; position: absolute; left: 0; top: 0; z-index: 1;'\n",
       "    );\n",
       "\n",
       "    // Apply a ponyfill if ResizeObserver is not implemented by browser.\n",
       "    if (this.ResizeObserver === undefined) {\n",
       "        if (window.ResizeObserver !== undefined) {\n",
       "            this.ResizeObserver = window.ResizeObserver;\n",
       "        } else {\n",
       "            var obs = _JSXTOOLS_RESIZE_OBSERVER({});\n",
       "            this.ResizeObserver = obs.ResizeObserver;\n",
       "        }\n",
       "    }\n",
       "\n",
       "    this.resizeObserverInstance = new this.ResizeObserver(function (entries) {\n",
       "        var nentries = entries.length;\n",
       "        for (var i = 0; i < nentries; i++) {\n",
       "            var entry = entries[i];\n",
       "            var width, height;\n",
       "            if (entry.contentBoxSize) {\n",
       "                if (entry.contentBoxSize instanceof Array) {\n",
       "                    // Chrome 84 implements new version of spec.\n",
       "                    width = entry.contentBoxSize[0].inlineSize;\n",
       "                    height = entry.contentBoxSize[0].blockSize;\n",
       "                } else {\n",
       "                    // Firefox implements old version of spec.\n",
       "                    width = entry.contentBoxSize.inlineSize;\n",
       "                    height = entry.contentBoxSize.blockSize;\n",
       "                }\n",
       "            } else {\n",
       "                // Chrome <84 implements even older version of spec.\n",
       "                width = entry.contentRect.width;\n",
       "                height = entry.contentRect.height;\n",
       "            }\n",
       "\n",
       "            // Keep the size of the canvas and rubber band canvas in sync with\n",
       "            // the canvas container.\n",
       "            if (entry.devicePixelContentBoxSize) {\n",
       "                // Chrome 84 implements new version of spec.\n",
       "                canvas.setAttribute(\n",
       "                    'width',\n",
       "                    entry.devicePixelContentBoxSize[0].inlineSize\n",
       "                );\n",
       "                canvas.setAttribute(\n",
       "                    'height',\n",
       "                    entry.devicePixelContentBoxSize[0].blockSize\n",
       "                );\n",
       "            } else {\n",
       "                canvas.setAttribute('width', width * fig.ratio);\n",
       "                canvas.setAttribute('height', height * fig.ratio);\n",
       "            }\n",
       "            canvas.setAttribute(\n",
       "                'style',\n",
       "                'width: ' + width + 'px; height: ' + height + 'px;'\n",
       "            );\n",
       "\n",
       "            rubberband_canvas.setAttribute('width', width);\n",
       "            rubberband_canvas.setAttribute('height', height);\n",
       "\n",
       "            // And update the size in Python. We ignore the initial 0/0 size\n",
       "            // that occurs as the element is placed into the DOM, which should\n",
       "            // otherwise not happen due to the minimum size styling.\n",
       "            if (fig.ws.readyState == 1 && width != 0 && height != 0) {\n",
       "                fig.request_resize(width, height);\n",
       "            }\n",
       "        }\n",
       "    });\n",
       "    this.resizeObserverInstance.observe(canvas_div);\n",
       "\n",
       "    function on_mouse_event_closure(name) {\n",
       "        return function (event) {\n",
       "            return fig.mouse_event(event, name);\n",
       "        };\n",
       "    }\n",
       "\n",
       "    rubberband_canvas.addEventListener(\n",
       "        'mousedown',\n",
       "        on_mouse_event_closure('button_press')\n",
       "    );\n",
       "    rubberband_canvas.addEventListener(\n",
       "        'mouseup',\n",
       "        on_mouse_event_closure('button_release')\n",
       "    );\n",
       "    rubberband_canvas.addEventListener(\n",
       "        'dblclick',\n",
       "        on_mouse_event_closure('dblclick')\n",
       "    );\n",
       "    // Throttle sequential mouse events to 1 every 20ms.\n",
       "    rubberband_canvas.addEventListener(\n",
       "        'mousemove',\n",
       "        on_mouse_event_closure('motion_notify')\n",
       "    );\n",
       "\n",
       "    rubberband_canvas.addEventListener(\n",
       "        'mouseenter',\n",
       "        on_mouse_event_closure('figure_enter')\n",
       "    );\n",
       "    rubberband_canvas.addEventListener(\n",
       "        'mouseleave',\n",
       "        on_mouse_event_closure('figure_leave')\n",
       "    );\n",
       "\n",
       "    canvas_div.addEventListener('wheel', function (event) {\n",
       "        if (event.deltaY < 0) {\n",
       "            event.step = 1;\n",
       "        } else {\n",
       "            event.step = -1;\n",
       "        }\n",
       "        on_mouse_event_closure('scroll')(event);\n",
       "    });\n",
       "\n",
       "    canvas_div.appendChild(canvas);\n",
       "    canvas_div.appendChild(rubberband_canvas);\n",
       "\n",
       "    this.rubberband_context = rubberband_canvas.getContext('2d');\n",
       "    this.rubberband_context.strokeStyle = '#000000';\n",
       "\n",
       "    this._resize_canvas = function (width, height, forward) {\n",
       "        if (forward) {\n",
       "            canvas_div.style.width = width + 'px';\n",
       "            canvas_div.style.height = height + 'px';\n",
       "        }\n",
       "    };\n",
       "\n",
       "    // Disable right mouse context menu.\n",
       "    this.rubberband_canvas.addEventListener('contextmenu', function (_e) {\n",
       "        event.preventDefault();\n",
       "        return false;\n",
       "    });\n",
       "\n",
       "    function set_focus() {\n",
       "        canvas.focus();\n",
       "        canvas_div.focus();\n",
       "    }\n",
       "\n",
       "    window.setTimeout(set_focus, 100);\n",
       "};\n",
       "\n",
       "mpl.figure.prototype._init_toolbar = function () {\n",
       "    var fig = this;\n",
       "\n",
       "    var toolbar = document.createElement('div');\n",
       "    toolbar.classList = 'mpl-toolbar';\n",
       "    this.root.appendChild(toolbar);\n",
       "\n",
       "    function on_click_closure(name) {\n",
       "        return function (_event) {\n",
       "            return fig.toolbar_button_onclick(name);\n",
       "        };\n",
       "    }\n",
       "\n",
       "    function on_mouseover_closure(tooltip) {\n",
       "        return function (event) {\n",
       "            if (!event.currentTarget.disabled) {\n",
       "                return fig.toolbar_button_onmouseover(tooltip);\n",
       "            }\n",
       "        };\n",
       "    }\n",
       "\n",
       "    fig.buttons = {};\n",
       "    var buttonGroup = document.createElement('div');\n",
       "    buttonGroup.classList = 'mpl-button-group';\n",
       "    for (var toolbar_ind in mpl.toolbar_items) {\n",
       "        var name = mpl.toolbar_items[toolbar_ind][0];\n",
       "        var tooltip = mpl.toolbar_items[toolbar_ind][1];\n",
       "        var image = mpl.toolbar_items[toolbar_ind][2];\n",
       "        var method_name = mpl.toolbar_items[toolbar_ind][3];\n",
       "\n",
       "        if (!name) {\n",
       "            /* Instead of a spacer, we start a new button group. */\n",
       "            if (buttonGroup.hasChildNodes()) {\n",
       "                toolbar.appendChild(buttonGroup);\n",
       "            }\n",
       "            buttonGroup = document.createElement('div');\n",
       "            buttonGroup.classList = 'mpl-button-group';\n",
       "            continue;\n",
       "        }\n",
       "\n",
       "        var button = (fig.buttons[name] = document.createElement('button'));\n",
       "        button.classList = 'mpl-widget';\n",
       "        button.setAttribute('role', 'button');\n",
       "        button.setAttribute('aria-disabled', 'false');\n",
       "        button.addEventListener('click', on_click_closure(method_name));\n",
       "        button.addEventListener('mouseover', on_mouseover_closure(tooltip));\n",
       "\n",
       "        var icon_img = document.createElement('img');\n",
       "        icon_img.src = '_images/' + image + '.png';\n",
       "        icon_img.srcset = '_images/' + image + '_large.png 2x';\n",
       "        icon_img.alt = tooltip;\n",
       "        button.appendChild(icon_img);\n",
       "\n",
       "        buttonGroup.appendChild(button);\n",
       "    }\n",
       "\n",
       "    if (buttonGroup.hasChildNodes()) {\n",
       "        toolbar.appendChild(buttonGroup);\n",
       "    }\n",
       "\n",
       "    var fmt_picker = document.createElement('select');\n",
       "    fmt_picker.classList = 'mpl-widget';\n",
       "    toolbar.appendChild(fmt_picker);\n",
       "    this.format_dropdown = fmt_picker;\n",
       "\n",
       "    for (var ind in mpl.extensions) {\n",
       "        var fmt = mpl.extensions[ind];\n",
       "        var option = document.createElement('option');\n",
       "        option.selected = fmt === mpl.default_extension;\n",
       "        option.innerHTML = fmt;\n",
       "        fmt_picker.appendChild(option);\n",
       "    }\n",
       "\n",
       "    var status_bar = document.createElement('span');\n",
       "    status_bar.classList = 'mpl-message';\n",
       "    toolbar.appendChild(status_bar);\n",
       "    this.message = status_bar;\n",
       "};\n",
       "\n",
       "mpl.figure.prototype.request_resize = function (x_pixels, y_pixels) {\n",
       "    // Request matplotlib to resize the figure. Matplotlib will then trigger a resize in the client,\n",
       "    // which will in turn request a refresh of the image.\n",
       "    this.send_message('resize', { width: x_pixels, height: y_pixels });\n",
       "};\n",
       "\n",
       "mpl.figure.prototype.send_message = function (type, properties) {\n",
       "    properties['type'] = type;\n",
       "    properties['figure_id'] = this.id;\n",
       "    this.ws.send(JSON.stringify(properties));\n",
       "};\n",
       "\n",
       "mpl.figure.prototype.send_draw_message = function () {\n",
       "    if (!this.waiting) {\n",
       "        this.waiting = true;\n",
       "        this.ws.send(JSON.stringify({ type: 'draw', figure_id: this.id }));\n",
       "    }\n",
       "};\n",
       "\n",
       "mpl.figure.prototype.handle_save = function (fig, _msg) {\n",
       "    var format_dropdown = fig.format_dropdown;\n",
       "    var format = format_dropdown.options[format_dropdown.selectedIndex].value;\n",
       "    fig.ondownload(fig, format);\n",
       "};\n",
       "\n",
       "mpl.figure.prototype.handle_resize = function (fig, msg) {\n",
       "    var size = msg['size'];\n",
       "    if (size[0] !== fig.canvas.width || size[1] !== fig.canvas.height) {\n",
       "        fig._resize_canvas(size[0], size[1], msg['forward']);\n",
       "        fig.send_message('refresh', {});\n",
       "    }\n",
       "};\n",
       "\n",
       "mpl.figure.prototype.handle_rubberband = function (fig, msg) {\n",
       "    var x0 = msg['x0'] / fig.ratio;\n",
       "    var y0 = (fig.canvas.height - msg['y0']) / fig.ratio;\n",
       "    var x1 = msg['x1'] / fig.ratio;\n",
       "    var y1 = (fig.canvas.height - msg['y1']) / fig.ratio;\n",
       "    x0 = Math.floor(x0) + 0.5;\n",
       "    y0 = Math.floor(y0) + 0.5;\n",
       "    x1 = Math.floor(x1) + 0.5;\n",
       "    y1 = Math.floor(y1) + 0.5;\n",
       "    var min_x = Math.min(x0, x1);\n",
       "    var min_y = Math.min(y0, y1);\n",
       "    var width = Math.abs(x1 - x0);\n",
       "    var height = Math.abs(y1 - y0);\n",
       "\n",
       "    fig.rubberband_context.clearRect(\n",
       "        0,\n",
       "        0,\n",
       "        fig.canvas.width / fig.ratio,\n",
       "        fig.canvas.height / fig.ratio\n",
       "    );\n",
       "\n",
       "    fig.rubberband_context.strokeRect(min_x, min_y, width, height);\n",
       "};\n",
       "\n",
       "mpl.figure.prototype.handle_figure_label = function (fig, msg) {\n",
       "    // Updates the figure title.\n",
       "    fig.header.textContent = msg['label'];\n",
       "};\n",
       "\n",
       "mpl.figure.prototype.handle_cursor = function (fig, msg) {\n",
       "    fig.rubberband_canvas.style.cursor = msg['cursor'];\n",
       "};\n",
       "\n",
       "mpl.figure.prototype.handle_message = function (fig, msg) {\n",
       "    fig.message.textContent = msg['message'];\n",
       "};\n",
       "\n",
       "mpl.figure.prototype.handle_draw = function (fig, _msg) {\n",
       "    // Request the server to send over a new figure.\n",
       "    fig.send_draw_message();\n",
       "};\n",
       "\n",
       "mpl.figure.prototype.handle_image_mode = function (fig, msg) {\n",
       "    fig.image_mode = msg['mode'];\n",
       "};\n",
       "\n",
       "mpl.figure.prototype.handle_history_buttons = function (fig, msg) {\n",
       "    for (var key in msg) {\n",
       "        if (!(key in fig.buttons)) {\n",
       "            continue;\n",
       "        }\n",
       "        fig.buttons[key].disabled = !msg[key];\n",
       "        fig.buttons[key].setAttribute('aria-disabled', !msg[key]);\n",
       "    }\n",
       "};\n",
       "\n",
       "mpl.figure.prototype.handle_navigate_mode = function (fig, msg) {\n",
       "    if (msg['mode'] === 'PAN') {\n",
       "        fig.buttons['Pan'].classList.add('active');\n",
       "        fig.buttons['Zoom'].classList.remove('active');\n",
       "    } else if (msg['mode'] === 'ZOOM') {\n",
       "        fig.buttons['Pan'].classList.remove('active');\n",
       "        fig.buttons['Zoom'].classList.add('active');\n",
       "    } else {\n",
       "        fig.buttons['Pan'].classList.remove('active');\n",
       "        fig.buttons['Zoom'].classList.remove('active');\n",
       "    }\n",
       "};\n",
       "\n",
       "mpl.figure.prototype.updated_canvas_event = function () {\n",
       "    // Called whenever the canvas gets updated.\n",
       "    this.send_message('ack', {});\n",
       "};\n",
       "\n",
       "// A function to construct a web socket function for onmessage handling.\n",
       "// Called in the figure constructor.\n",
       "mpl.figure.prototype._make_on_message_function = function (fig) {\n",
       "    return function socket_on_message(evt) {\n",
       "        if (evt.data instanceof Blob) {\n",
       "            var img = evt.data;\n",
       "            if (img.type !== 'image/png') {\n",
       "                /* FIXME: We get \"Resource interpreted as Image but\n",
       "                 * transferred with MIME type text/plain:\" errors on\n",
       "                 * Chrome.  But how to set the MIME type?  It doesn't seem\n",
       "                 * to be part of the websocket stream */\n",
       "                img.type = 'image/png';\n",
       "            }\n",
       "\n",
       "            /* Free the memory for the previous frames */\n",
       "            if (fig.imageObj.src) {\n",
       "                (window.URL || window.webkitURL).revokeObjectURL(\n",
       "                    fig.imageObj.src\n",
       "                );\n",
       "            }\n",
       "\n",
       "            fig.imageObj.src = (window.URL || window.webkitURL).createObjectURL(\n",
       "                img\n",
       "            );\n",
       "            fig.updated_canvas_event();\n",
       "            fig.waiting = false;\n",
       "            return;\n",
       "        } else if (\n",
       "            typeof evt.data === 'string' &&\n",
       "            evt.data.slice(0, 21) === 'data:image/png;base64'\n",
       "        ) {\n",
       "            fig.imageObj.src = evt.data;\n",
       "            fig.updated_canvas_event();\n",
       "            fig.waiting = false;\n",
       "            return;\n",
       "        }\n",
       "\n",
       "        var msg = JSON.parse(evt.data);\n",
       "        var msg_type = msg['type'];\n",
       "\n",
       "        // Call the  \"handle_{type}\" callback, which takes\n",
       "        // the figure and JSON message as its only arguments.\n",
       "        try {\n",
       "            var callback = fig['handle_' + msg_type];\n",
       "        } catch (e) {\n",
       "            console.log(\n",
       "                \"No handler for the '\" + msg_type + \"' message type: \",\n",
       "                msg\n",
       "            );\n",
       "            return;\n",
       "        }\n",
       "\n",
       "        if (callback) {\n",
       "            try {\n",
       "                // console.log(\"Handling '\" + msg_type + \"' message: \", msg);\n",
       "                callback(fig, msg);\n",
       "            } catch (e) {\n",
       "                console.log(\n",
       "                    \"Exception inside the 'handler_\" + msg_type + \"' callback:\",\n",
       "                    e,\n",
       "                    e.stack,\n",
       "                    msg\n",
       "                );\n",
       "            }\n",
       "        }\n",
       "    };\n",
       "};\n",
       "\n",
       "// from https://stackoverflow.com/questions/1114465/getting-mouse-location-in-canvas\n",
       "mpl.findpos = function (e) {\n",
       "    //this section is from http://www.quirksmode.org/js/events_properties.html\n",
       "    var targ;\n",
       "    if (!e) {\n",
       "        e = window.event;\n",
       "    }\n",
       "    if (e.target) {\n",
       "        targ = e.target;\n",
       "    } else if (e.srcElement) {\n",
       "        targ = e.srcElement;\n",
       "    }\n",
       "    if (targ.nodeType === 3) {\n",
       "        // defeat Safari bug\n",
       "        targ = targ.parentNode;\n",
       "    }\n",
       "\n",
       "    // pageX,Y are the mouse positions relative to the document\n",
       "    var boundingRect = targ.getBoundingClientRect();\n",
       "    var x = e.pageX - (boundingRect.left + document.body.scrollLeft);\n",
       "    var y = e.pageY - (boundingRect.top + document.body.scrollTop);\n",
       "\n",
       "    return { x: x, y: y };\n",
       "};\n",
       "\n",
       "/*\n",
       " * return a copy of an object with only non-object keys\n",
       " * we need this to avoid circular references\n",
       " * https://stackoverflow.com/a/24161582/3208463\n",
       " */\n",
       "function simpleKeys(original) {\n",
       "    return Object.keys(original).reduce(function (obj, key) {\n",
       "        if (typeof original[key] !== 'object') {\n",
       "            obj[key] = original[key];\n",
       "        }\n",
       "        return obj;\n",
       "    }, {});\n",
       "}\n",
       "\n",
       "mpl.figure.prototype.mouse_event = function (event, name) {\n",
       "    var canvas_pos = mpl.findpos(event);\n",
       "\n",
       "    if (name === 'button_press') {\n",
       "        this.canvas.focus();\n",
       "        this.canvas_div.focus();\n",
       "    }\n",
       "\n",
       "    var x = canvas_pos.x * this.ratio;\n",
       "    var y = canvas_pos.y * this.ratio;\n",
       "\n",
       "    this.send_message(name, {\n",
       "        x: x,\n",
       "        y: y,\n",
       "        button: event.button,\n",
       "        step: event.step,\n",
       "        guiEvent: simpleKeys(event),\n",
       "    });\n",
       "\n",
       "    /* This prevents the web browser from automatically changing to\n",
       "     * the text insertion cursor when the button is pressed.  We want\n",
       "     * to control all of the cursor setting manually through the\n",
       "     * 'cursor' event from matplotlib */\n",
       "    event.preventDefault();\n",
       "    return false;\n",
       "};\n",
       "\n",
       "mpl.figure.prototype._key_event_extra = function (_event, _name) {\n",
       "    // Handle any extra behaviour associated with a key event\n",
       "};\n",
       "\n",
       "mpl.figure.prototype.key_event = function (event, name) {\n",
       "    // Prevent repeat events\n",
       "    if (name === 'key_press') {\n",
       "        if (event.key === this._key) {\n",
       "            return;\n",
       "        } else {\n",
       "            this._key = event.key;\n",
       "        }\n",
       "    }\n",
       "    if (name === 'key_release') {\n",
       "        this._key = null;\n",
       "    }\n",
       "\n",
       "    var value = '';\n",
       "    if (event.ctrlKey && event.key !== 'Control') {\n",
       "        value += 'ctrl+';\n",
       "    }\n",
       "    else if (event.altKey && event.key !== 'Alt') {\n",
       "        value += 'alt+';\n",
       "    }\n",
       "    else if (event.shiftKey && event.key !== 'Shift') {\n",
       "        value += 'shift+';\n",
       "    }\n",
       "\n",
       "    value += 'k' + event.key;\n",
       "\n",
       "    this._key_event_extra(event, name);\n",
       "\n",
       "    this.send_message(name, { key: value, guiEvent: simpleKeys(event) });\n",
       "    return false;\n",
       "};\n",
       "\n",
       "mpl.figure.prototype.toolbar_button_onclick = function (name) {\n",
       "    if (name === 'download') {\n",
       "        this.handle_save(this, null);\n",
       "    } else {\n",
       "        this.send_message('toolbar_button', { name: name });\n",
       "    }\n",
       "};\n",
       "\n",
       "mpl.figure.prototype.toolbar_button_onmouseover = function (tooltip) {\n",
       "    this.message.textContent = tooltip;\n",
       "};\n",
       "\n",
       "///////////////// REMAINING CONTENT GENERATED BY embed_js.py /////////////////\n",
       "// prettier-ignore\n",
       "var _JSXTOOLS_RESIZE_OBSERVER=function(A){var t,i=new WeakMap,n=new WeakMap,a=new WeakMap,r=new WeakMap,o=new Set;function s(e){if(!(this instanceof s))throw new TypeError(\"Constructor requires 'new' operator\");i.set(this,e)}function h(){throw new TypeError(\"Function is not a constructor\")}function c(e,t,i,n){e=0 in arguments?Number(arguments[0]):0,t=1 in arguments?Number(arguments[1]):0,i=2 in arguments?Number(arguments[2]):0,n=3 in arguments?Number(arguments[3]):0,this.right=(this.x=this.left=e)+(this.width=i),this.bottom=(this.y=this.top=t)+(this.height=n),Object.freeze(this)}function d(){t=requestAnimationFrame(d);var s=new WeakMap,p=new Set;o.forEach((function(t){r.get(t).forEach((function(i){var r=t instanceof window.SVGElement,o=a.get(t),d=r?0:parseFloat(o.paddingTop),f=r?0:parseFloat(o.paddingRight),l=r?0:parseFloat(o.paddingBottom),u=r?0:parseFloat(o.paddingLeft),g=r?0:parseFloat(o.borderTopWidth),m=r?0:parseFloat(o.borderRightWidth),w=r?0:parseFloat(o.borderBottomWidth),b=u+f,F=d+l,v=(r?0:parseFloat(o.borderLeftWidth))+m,W=g+w,y=r?0:t.offsetHeight-W-t.clientHeight,E=r?0:t.offsetWidth-v-t.clientWidth,R=b+v,z=F+W,M=r?t.width:parseFloat(o.width)-R-E,O=r?t.height:parseFloat(o.height)-z-y;if(n.has(t)){var k=n.get(t);if(k[0]===M&&k[1]===O)return}n.set(t,[M,O]);var S=Object.create(h.prototype);S.target=t,S.contentRect=new c(u,d,M,O),s.has(i)||(s.set(i,[]),p.add(i)),s.get(i).push(S)}))})),p.forEach((function(e){i.get(e).call(e,s.get(e),e)}))}return s.prototype.observe=function(i){if(i instanceof window.Element){r.has(i)||(r.set(i,new Set),o.add(i),a.set(i,window.getComputedStyle(i)));var n=r.get(i);n.has(this)||n.add(this),cancelAnimationFrame(t),t=requestAnimationFrame(d)}},s.prototype.unobserve=function(i){if(i instanceof window.Element&&r.has(i)){var n=r.get(i);n.has(this)&&(n.delete(this),n.size||(r.delete(i),o.delete(i))),n.size||r.delete(i),o.size||cancelAnimationFrame(t)}},A.DOMRectReadOnly=c,A.ResizeObserver=s,A.ResizeObserverEntry=h,A}; // eslint-disable-line\n",
       "mpl.toolbar_items = [[\"Home\", \"Reset original view\", \"fa fa-home icon-home\", \"home\"], [\"Back\", \"Back to previous view\", \"fa fa-arrow-left icon-arrow-left\", \"back\"], [\"Forward\", \"Forward to next view\", \"fa fa-arrow-right icon-arrow-right\", \"forward\"], [\"\", \"\", \"\", \"\"], [\"Pan\", \"Left button pans, Right button zooms\\nx/y fixes axis, CTRL fixes aspect\", \"fa fa-arrows icon-move\", \"pan\"], [\"Zoom\", \"Zoom to rectangle\\nx/y fixes axis\", \"fa fa-square-o icon-check-empty\", \"zoom\"], [\"\", \"\", \"\", \"\"], [\"Download\", \"Download plot\", \"fa fa-floppy-o icon-save\", \"download\"]];\n",
       "\n",
       "mpl.extensions = [\"eps\", \"jpeg\", \"pgf\", \"pdf\", \"png\", \"ps\", \"raw\", \"svg\", \"tif\"];\n",
       "\n",
       "mpl.default_extension = \"png\";/* global mpl */\n",
       "\n",
       "var comm_websocket_adapter = function (comm) {\n",
       "    // Create a \"websocket\"-like object which calls the given IPython comm\n",
       "    // object with the appropriate methods. Currently this is a non binary\n",
       "    // socket, so there is still some room for performance tuning.\n",
       "    var ws = {};\n",
       "\n",
       "    ws.binaryType = comm.kernel.ws.binaryType;\n",
       "    ws.readyState = comm.kernel.ws.readyState;\n",
       "    function updateReadyState(_event) {\n",
       "        if (comm.kernel.ws) {\n",
       "            ws.readyState = comm.kernel.ws.readyState;\n",
       "        } else {\n",
       "            ws.readyState = 3; // Closed state.\n",
       "        }\n",
       "    }\n",
       "    comm.kernel.ws.addEventListener('open', updateReadyState);\n",
       "    comm.kernel.ws.addEventListener('close', updateReadyState);\n",
       "    comm.kernel.ws.addEventListener('error', updateReadyState);\n",
       "\n",
       "    ws.close = function () {\n",
       "        comm.close();\n",
       "    };\n",
       "    ws.send = function (m) {\n",
       "        //console.log('sending', m);\n",
       "        comm.send(m);\n",
       "    };\n",
       "    // Register the callback with on_msg.\n",
       "    comm.on_msg(function (msg) {\n",
       "        //console.log('receiving', msg['content']['data'], msg);\n",
       "        var data = msg['content']['data'];\n",
       "        if (data['blob'] !== undefined) {\n",
       "            data = {\n",
       "                data: new Blob(msg['buffers'], { type: data['blob'] }),\n",
       "            };\n",
       "        }\n",
       "        // Pass the mpl event to the overridden (by mpl) onmessage function.\n",
       "        ws.onmessage(data);\n",
       "    });\n",
       "    return ws;\n",
       "};\n",
       "\n",
       "mpl.mpl_figure_comm = function (comm, msg) {\n",
       "    // This is the function which gets called when the mpl process\n",
       "    // starts-up an IPython Comm through the \"matplotlib\" channel.\n",
       "\n",
       "    var id = msg.content.data.id;\n",
       "    // Get hold of the div created by the display call when the Comm\n",
       "    // socket was opened in Python.\n",
       "    var element = document.getElementById(id);\n",
       "    var ws_proxy = comm_websocket_adapter(comm);\n",
       "\n",
       "    function ondownload(figure, _format) {\n",
       "        window.open(figure.canvas.toDataURL());\n",
       "    }\n",
       "\n",
       "    var fig = new mpl.figure(id, ws_proxy, ondownload, element);\n",
       "\n",
       "    // Call onopen now - mpl needs it, as it is assuming we've passed it a real\n",
       "    // web socket which is closed, not our websocket->open comm proxy.\n",
       "    ws_proxy.onopen();\n",
       "\n",
       "    fig.parent_element = element;\n",
       "    fig.cell_info = mpl.find_output_cell(\"<div id='\" + id + \"'></div>\");\n",
       "    if (!fig.cell_info) {\n",
       "        console.error('Failed to find cell for figure', id, fig);\n",
       "        return;\n",
       "    }\n",
       "    fig.cell_info[0].output_area.element.on(\n",
       "        'cleared',\n",
       "        { fig: fig },\n",
       "        fig._remove_fig_handler\n",
       "    );\n",
       "};\n",
       "\n",
       "mpl.figure.prototype.handle_close = function (fig, msg) {\n",
       "    var width = fig.canvas.width / fig.ratio;\n",
       "    fig.cell_info[0].output_area.element.off(\n",
       "        'cleared',\n",
       "        fig._remove_fig_handler\n",
       "    );\n",
       "    fig.resizeObserverInstance.unobserve(fig.canvas_div);\n",
       "\n",
       "    // Update the output cell to use the data from the current canvas.\n",
       "    fig.push_to_output();\n",
       "    var dataURL = fig.canvas.toDataURL();\n",
       "    // Re-enable the keyboard manager in IPython - without this line, in FF,\n",
       "    // the notebook keyboard shortcuts fail.\n",
       "    IPython.keyboard_manager.enable();\n",
       "    fig.parent_element.innerHTML =\n",
       "        '<img src=\"' + dataURL + '\" width=\"' + width + '\">';\n",
       "    fig.close_ws(fig, msg);\n",
       "};\n",
       "\n",
       "mpl.figure.prototype.close_ws = function (fig, msg) {\n",
       "    fig.send_message('closing', msg);\n",
       "    // fig.ws.close()\n",
       "};\n",
       "\n",
       "mpl.figure.prototype.push_to_output = function (_remove_interactive) {\n",
       "    // Turn the data on the canvas into data in the output cell.\n",
       "    var width = this.canvas.width / this.ratio;\n",
       "    var dataURL = this.canvas.toDataURL();\n",
       "    this.cell_info[1]['text/html'] =\n",
       "        '<img src=\"' + dataURL + '\" width=\"' + width + '\">';\n",
       "};\n",
       "\n",
       "mpl.figure.prototype.updated_canvas_event = function () {\n",
       "    // Tell IPython that the notebook contents must change.\n",
       "    IPython.notebook.set_dirty(true);\n",
       "    this.send_message('ack', {});\n",
       "    var fig = this;\n",
       "    // Wait a second, then push the new image to the DOM so\n",
       "    // that it is saved nicely (might be nice to debounce this).\n",
       "    setTimeout(function () {\n",
       "        fig.push_to_output();\n",
       "    }, 1000);\n",
       "};\n",
       "\n",
       "mpl.figure.prototype._init_toolbar = function () {\n",
       "    var fig = this;\n",
       "\n",
       "    var toolbar = document.createElement('div');\n",
       "    toolbar.classList = 'btn-toolbar';\n",
       "    this.root.appendChild(toolbar);\n",
       "\n",
       "    function on_click_closure(name) {\n",
       "        return function (_event) {\n",
       "            return fig.toolbar_button_onclick(name);\n",
       "        };\n",
       "    }\n",
       "\n",
       "    function on_mouseover_closure(tooltip) {\n",
       "        return function (event) {\n",
       "            if (!event.currentTarget.disabled) {\n",
       "                return fig.toolbar_button_onmouseover(tooltip);\n",
       "            }\n",
       "        };\n",
       "    }\n",
       "\n",
       "    fig.buttons = {};\n",
       "    var buttonGroup = document.createElement('div');\n",
       "    buttonGroup.classList = 'btn-group';\n",
       "    var button;\n",
       "    for (var toolbar_ind in mpl.toolbar_items) {\n",
       "        var name = mpl.toolbar_items[toolbar_ind][0];\n",
       "        var tooltip = mpl.toolbar_items[toolbar_ind][1];\n",
       "        var image = mpl.toolbar_items[toolbar_ind][2];\n",
       "        var method_name = mpl.toolbar_items[toolbar_ind][3];\n",
       "\n",
       "        if (!name) {\n",
       "            /* Instead of a spacer, we start a new button group. */\n",
       "            if (buttonGroup.hasChildNodes()) {\n",
       "                toolbar.appendChild(buttonGroup);\n",
       "            }\n",
       "            buttonGroup = document.createElement('div');\n",
       "            buttonGroup.classList = 'btn-group';\n",
       "            continue;\n",
       "        }\n",
       "\n",
       "        button = fig.buttons[name] = document.createElement('button');\n",
       "        button.classList = 'btn btn-default';\n",
       "        button.href = '#';\n",
       "        button.title = name;\n",
       "        button.innerHTML = '<i class=\"fa ' + image + ' fa-lg\"></i>';\n",
       "        button.addEventListener('click', on_click_closure(method_name));\n",
       "        button.addEventListener('mouseover', on_mouseover_closure(tooltip));\n",
       "        buttonGroup.appendChild(button);\n",
       "    }\n",
       "\n",
       "    if (buttonGroup.hasChildNodes()) {\n",
       "        toolbar.appendChild(buttonGroup);\n",
       "    }\n",
       "\n",
       "    // Add the status bar.\n",
       "    var status_bar = document.createElement('span');\n",
       "    status_bar.classList = 'mpl-message pull-right';\n",
       "    toolbar.appendChild(status_bar);\n",
       "    this.message = status_bar;\n",
       "\n",
       "    // Add the close button to the window.\n",
       "    var buttongrp = document.createElement('div');\n",
       "    buttongrp.classList = 'btn-group inline pull-right';\n",
       "    button = document.createElement('button');\n",
       "    button.classList = 'btn btn-mini btn-primary';\n",
       "    button.href = '#';\n",
       "    button.title = 'Stop Interaction';\n",
       "    button.innerHTML = '<i class=\"fa fa-power-off icon-remove icon-large\"></i>';\n",
       "    button.addEventListener('click', function (_evt) {\n",
       "        fig.handle_close(fig, {});\n",
       "    });\n",
       "    button.addEventListener(\n",
       "        'mouseover',\n",
       "        on_mouseover_closure('Stop Interaction')\n",
       "    );\n",
       "    buttongrp.appendChild(button);\n",
       "    var titlebar = this.root.querySelector('.ui-dialog-titlebar');\n",
       "    titlebar.insertBefore(buttongrp, titlebar.firstChild);\n",
       "};\n",
       "\n",
       "mpl.figure.prototype._remove_fig_handler = function (event) {\n",
       "    var fig = event.data.fig;\n",
       "    if (event.target !== this) {\n",
       "        // Ignore bubbled events from children.\n",
       "        return;\n",
       "    }\n",
       "    fig.close_ws(fig, {});\n",
       "};\n",
       "\n",
       "mpl.figure.prototype._root_extra_style = function (el) {\n",
       "    el.style.boxSizing = 'content-box'; // override notebook setting of border-box.\n",
       "};\n",
       "\n",
       "mpl.figure.prototype._canvas_extra_style = function (el) {\n",
       "    // this is important to make the div 'focusable\n",
       "    el.setAttribute('tabindex', 0);\n",
       "    // reach out to IPython and tell the keyboard manager to turn it's self\n",
       "    // off when our div gets focus\n",
       "\n",
       "    // location in version 3\n",
       "    if (IPython.notebook.keyboard_manager) {\n",
       "        IPython.notebook.keyboard_manager.register_events(el);\n",
       "    } else {\n",
       "        // location in version 2\n",
       "        IPython.keyboard_manager.register_events(el);\n",
       "    }\n",
       "};\n",
       "\n",
       "mpl.figure.prototype._key_event_extra = function (event, _name) {\n",
       "    // Check for shift+enter\n",
       "    if (event.shiftKey && event.which === 13) {\n",
       "        this.canvas_div.blur();\n",
       "        // select the cell after this one\n",
       "        var index = IPython.notebook.find_cell_index(this.cell_info[0]);\n",
       "        IPython.notebook.select(index + 1);\n",
       "    }\n",
       "};\n",
       "\n",
       "mpl.figure.prototype.handle_save = function (fig, _msg) {\n",
       "    fig.ondownload(fig, null);\n",
       "};\n",
       "\n",
       "mpl.find_output_cell = function (html_output) {\n",
       "    // Return the cell and output element which can be found *uniquely* in the notebook.\n",
       "    // Note - this is a bit hacky, but it is done because the \"notebook_saving.Notebook\"\n",
       "    // IPython event is triggered only after the cells have been serialised, which for\n",
       "    // our purposes (turning an active figure into a static one), is too late.\n",
       "    var cells = IPython.notebook.get_cells();\n",
       "    var ncells = cells.length;\n",
       "    for (var i = 0; i < ncells; i++) {\n",
       "        var cell = cells[i];\n",
       "        if (cell.cell_type === 'code') {\n",
       "            for (var j = 0; j < cell.output_area.outputs.length; j++) {\n",
       "                var data = cell.output_area.outputs[j];\n",
       "                if (data.data) {\n",
       "                    // IPython >= 3 moved mimebundle to data attribute of output\n",
       "                    data = data.data;\n",
       "                }\n",
       "                if (data['text/html'] === html_output) {\n",
       "                    return [cell, data, j];\n",
       "                }\n",
       "            }\n",
       "        }\n",
       "    }\n",
       "};\n",
       "\n",
       "// Register the function which deals with the matplotlib target/channel.\n",
       "// The kernel may be null if the page has been refreshed.\n",
       "if (IPython.notebook.kernel !== null) {\n",
       "    IPython.notebook.kernel.comm_manager.register_target(\n",
       "        'matplotlib',\n",
       "        mpl.mpl_figure_comm\n",
       "    );\n",
       "}\n"
      ],
      "text/plain": [
       "<IPython.core.display.Javascript object>"
      ]
     },
     "metadata": {},
     "output_type": "display_data"
    },
    {
     "data": {
      "text/html": [
       "<img src=\"data:image/png;base64,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\" width=\"640.0000169542105\">"
      ],
      "text/plain": [
       "<IPython.core.display.HTML object>"
      ]
     },
     "metadata": {},
     "output_type": "display_data"
    },
    {
     "data": {
      "text/plain": [
       "<matplotlib.image.AxesImage at 0x7f1556a1da50>"
      ]
     },
     "execution_count": 54,
     "metadata": {},
     "output_type": "execute_result"
    }
   ],
   "source": [
    "plt.figure()\n",
    "plt.imshow(Image.open(robust_image))"
   ]
  },
  {
   "cell_type": "code",
   "execution_count": 55,
   "id": "7843a129",
   "metadata": {},
   "outputs": [
    {
     "data": {
      "application/javascript": [
       "/* Put everything inside the global mpl namespace */\n",
       "/* global mpl */\n",
       "window.mpl = {};\n",
       "\n",
       "mpl.get_websocket_type = function () {\n",
       "    if (typeof WebSocket !== 'undefined') {\n",
       "        return WebSocket;\n",
       "    } else if (typeof MozWebSocket !== 'undefined') {\n",
       "        return MozWebSocket;\n",
       "    } else {\n",
       "        alert(\n",
       "            'Your browser does not have WebSocket support. ' +\n",
       "                'Please try Chrome, Safari or Firefox ≥ 6. ' +\n",
       "                'Firefox 4 and 5 are also supported but you ' +\n",
       "                'have to enable WebSockets in about:config.'\n",
       "        );\n",
       "    }\n",
       "};\n",
       "\n",
       "mpl.figure = function (figure_id, websocket, ondownload, parent_element) {\n",
       "    this.id = figure_id;\n",
       "\n",
       "    this.ws = websocket;\n",
       "\n",
       "    this.supports_binary = this.ws.binaryType !== undefined;\n",
       "\n",
       "    if (!this.supports_binary) {\n",
       "        var warnings = document.getElementById('mpl-warnings');\n",
       "        if (warnings) {\n",
       "            warnings.style.display = 'block';\n",
       "            warnings.textContent =\n",
       "                'This browser does not support binary websocket messages. ' +\n",
       "                'Performance may be slow.';\n",
       "        }\n",
       "    }\n",
       "\n",
       "    this.imageObj = new Image();\n",
       "\n",
       "    this.context = undefined;\n",
       "    this.message = undefined;\n",
       "    this.canvas = undefined;\n",
       "    this.rubberband_canvas = undefined;\n",
       "    this.rubberband_context = undefined;\n",
       "    this.format_dropdown = undefined;\n",
       "\n",
       "    this.image_mode = 'full';\n",
       "\n",
       "    this.root = document.createElement('div');\n",
       "    this.root.setAttribute('style', 'display: inline-block');\n",
       "    this._root_extra_style(this.root);\n",
       "\n",
       "    parent_element.appendChild(this.root);\n",
       "\n",
       "    this._init_header(this);\n",
       "    this._init_canvas(this);\n",
       "    this._init_toolbar(this);\n",
       "\n",
       "    var fig = this;\n",
       "\n",
       "    this.waiting = false;\n",
       "\n",
       "    this.ws.onopen = function () {\n",
       "        fig.send_message('supports_binary', { value: fig.supports_binary });\n",
       "        fig.send_message('send_image_mode', {});\n",
       "        if (fig.ratio !== 1) {\n",
       "            fig.send_message('set_device_pixel_ratio', {\n",
       "                device_pixel_ratio: fig.ratio,\n",
       "            });\n",
       "        }\n",
       "        fig.send_message('refresh', {});\n",
       "    };\n",
       "\n",
       "    this.imageObj.onload = function () {\n",
       "        if (fig.image_mode === 'full') {\n",
       "            // Full images could contain transparency (where diff images\n",
       "            // almost always do), so we need to clear the canvas so that\n",
       "            // there is no ghosting.\n",
       "            fig.context.clearRect(0, 0, fig.canvas.width, fig.canvas.height);\n",
       "        }\n",
       "        fig.context.drawImage(fig.imageObj, 0, 0);\n",
       "    };\n",
       "\n",
       "    this.imageObj.onunload = function () {\n",
       "        fig.ws.close();\n",
       "    };\n",
       "\n",
       "    this.ws.onmessage = this._make_on_message_function(this);\n",
       "\n",
       "    this.ondownload = ondownload;\n",
       "};\n",
       "\n",
       "mpl.figure.prototype._init_header = function () {\n",
       "    var titlebar = document.createElement('div');\n",
       "    titlebar.classList =\n",
       "        'ui-dialog-titlebar ui-widget-header ui-corner-all ui-helper-clearfix';\n",
       "    var titletext = document.createElement('div');\n",
       "    titletext.classList = 'ui-dialog-title';\n",
       "    titletext.setAttribute(\n",
       "        'style',\n",
       "        'width: 100%; text-align: center; padding: 3px;'\n",
       "    );\n",
       "    titlebar.appendChild(titletext);\n",
       "    this.root.appendChild(titlebar);\n",
       "    this.header = titletext;\n",
       "};\n",
       "\n",
       "mpl.figure.prototype._canvas_extra_style = function (_canvas_div) {};\n",
       "\n",
       "mpl.figure.prototype._root_extra_style = function (_canvas_div) {};\n",
       "\n",
       "mpl.figure.prototype._init_canvas = function () {\n",
       "    var fig = this;\n",
       "\n",
       "    var canvas_div = (this.canvas_div = document.createElement('div'));\n",
       "    canvas_div.setAttribute(\n",
       "        'style',\n",
       "        'border: 1px solid #ddd;' +\n",
       "            'box-sizing: content-box;' +\n",
       "            'clear: both;' +\n",
       "            'min-height: 1px;' +\n",
       "            'min-width: 1px;' +\n",
       "            'outline: 0;' +\n",
       "            'overflow: hidden;' +\n",
       "            'position: relative;' +\n",
       "            'resize: both;'\n",
       "    );\n",
       "\n",
       "    function on_keyboard_event_closure(name) {\n",
       "        return function (event) {\n",
       "            return fig.key_event(event, name);\n",
       "        };\n",
       "    }\n",
       "\n",
       "    canvas_div.addEventListener(\n",
       "        'keydown',\n",
       "        on_keyboard_event_closure('key_press')\n",
       "    );\n",
       "    canvas_div.addEventListener(\n",
       "        'keyup',\n",
       "        on_keyboard_event_closure('key_release')\n",
       "    );\n",
       "\n",
       "    this._canvas_extra_style(canvas_div);\n",
       "    this.root.appendChild(canvas_div);\n",
       "\n",
       "    var canvas = (this.canvas = document.createElement('canvas'));\n",
       "    canvas.classList.add('mpl-canvas');\n",
       "    canvas.setAttribute('style', 'box-sizing: content-box;');\n",
       "\n",
       "    this.context = canvas.getContext('2d');\n",
       "\n",
       "    var backingStore =\n",
       "        this.context.backingStorePixelRatio ||\n",
       "        this.context.webkitBackingStorePixelRatio ||\n",
       "        this.context.mozBackingStorePixelRatio ||\n",
       "        this.context.msBackingStorePixelRatio ||\n",
       "        this.context.oBackingStorePixelRatio ||\n",
       "        this.context.backingStorePixelRatio ||\n",
       "        1;\n",
       "\n",
       "    this.ratio = (window.devicePixelRatio || 1) / backingStore;\n",
       "\n",
       "    var rubberband_canvas = (this.rubberband_canvas = document.createElement(\n",
       "        'canvas'\n",
       "    ));\n",
       "    rubberband_canvas.setAttribute(\n",
       "        'style',\n",
       "        'box-sizing: content-box; position: absolute; left: 0; top: 0; z-index: 1;'\n",
       "    );\n",
       "\n",
       "    // Apply a ponyfill if ResizeObserver is not implemented by browser.\n",
       "    if (this.ResizeObserver === undefined) {\n",
       "        if (window.ResizeObserver !== undefined) {\n",
       "            this.ResizeObserver = window.ResizeObserver;\n",
       "        } else {\n",
       "            var obs = _JSXTOOLS_RESIZE_OBSERVER({});\n",
       "            this.ResizeObserver = obs.ResizeObserver;\n",
       "        }\n",
       "    }\n",
       "\n",
       "    this.resizeObserverInstance = new this.ResizeObserver(function (entries) {\n",
       "        var nentries = entries.length;\n",
       "        for (var i = 0; i < nentries; i++) {\n",
       "            var entry = entries[i];\n",
       "            var width, height;\n",
       "            if (entry.contentBoxSize) {\n",
       "                if (entry.contentBoxSize instanceof Array) {\n",
       "                    // Chrome 84 implements new version of spec.\n",
       "                    width = entry.contentBoxSize[0].inlineSize;\n",
       "                    height = entry.contentBoxSize[0].blockSize;\n",
       "                } else {\n",
       "                    // Firefox implements old version of spec.\n",
       "                    width = entry.contentBoxSize.inlineSize;\n",
       "                    height = entry.contentBoxSize.blockSize;\n",
       "                }\n",
       "            } else {\n",
       "                // Chrome <84 implements even older version of spec.\n",
       "                width = entry.contentRect.width;\n",
       "                height = entry.contentRect.height;\n",
       "            }\n",
       "\n",
       "            // Keep the size of the canvas and rubber band canvas in sync with\n",
       "            // the canvas container.\n",
       "            if (entry.devicePixelContentBoxSize) {\n",
       "                // Chrome 84 implements new version of spec.\n",
       "                canvas.setAttribute(\n",
       "                    'width',\n",
       "                    entry.devicePixelContentBoxSize[0].inlineSize\n",
       "                );\n",
       "                canvas.setAttribute(\n",
       "                    'height',\n",
       "                    entry.devicePixelContentBoxSize[0].blockSize\n",
       "                );\n",
       "            } else {\n",
       "                canvas.setAttribute('width', width * fig.ratio);\n",
       "                canvas.setAttribute('height', height * fig.ratio);\n",
       "            }\n",
       "            canvas.setAttribute(\n",
       "                'style',\n",
       "                'width: ' + width + 'px; height: ' + height + 'px;'\n",
       "            );\n",
       "\n",
       "            rubberband_canvas.setAttribute('width', width);\n",
       "            rubberband_canvas.setAttribute('height', height);\n",
       "\n",
       "            // And update the size in Python. We ignore the initial 0/0 size\n",
       "            // that occurs as the element is placed into the DOM, which should\n",
       "            // otherwise not happen due to the minimum size styling.\n",
       "            if (fig.ws.readyState == 1 && width != 0 && height != 0) {\n",
       "                fig.request_resize(width, height);\n",
       "            }\n",
       "        }\n",
       "    });\n",
       "    this.resizeObserverInstance.observe(canvas_div);\n",
       "\n",
       "    function on_mouse_event_closure(name) {\n",
       "        return function (event) {\n",
       "            return fig.mouse_event(event, name);\n",
       "        };\n",
       "    }\n",
       "\n",
       "    rubberband_canvas.addEventListener(\n",
       "        'mousedown',\n",
       "        on_mouse_event_closure('button_press')\n",
       "    );\n",
       "    rubberband_canvas.addEventListener(\n",
       "        'mouseup',\n",
       "        on_mouse_event_closure('button_release')\n",
       "    );\n",
       "    rubberband_canvas.addEventListener(\n",
       "        'dblclick',\n",
       "        on_mouse_event_closure('dblclick')\n",
       "    );\n",
       "    // Throttle sequential mouse events to 1 every 20ms.\n",
       "    rubberband_canvas.addEventListener(\n",
       "        'mousemove',\n",
       "        on_mouse_event_closure('motion_notify')\n",
       "    );\n",
       "\n",
       "    rubberband_canvas.addEventListener(\n",
       "        'mouseenter',\n",
       "        on_mouse_event_closure('figure_enter')\n",
       "    );\n",
       "    rubberband_canvas.addEventListener(\n",
       "        'mouseleave',\n",
       "        on_mouse_event_closure('figure_leave')\n",
       "    );\n",
       "\n",
       "    canvas_div.addEventListener('wheel', function (event) {\n",
       "        if (event.deltaY < 0) {\n",
       "            event.step = 1;\n",
       "        } else {\n",
       "            event.step = -1;\n",
       "        }\n",
       "        on_mouse_event_closure('scroll')(event);\n",
       "    });\n",
       "\n",
       "    canvas_div.appendChild(canvas);\n",
       "    canvas_div.appendChild(rubberband_canvas);\n",
       "\n",
       "    this.rubberband_context = rubberband_canvas.getContext('2d');\n",
       "    this.rubberband_context.strokeStyle = '#000000';\n",
       "\n",
       "    this._resize_canvas = function (width, height, forward) {\n",
       "        if (forward) {\n",
       "            canvas_div.style.width = width + 'px';\n",
       "            canvas_div.style.height = height + 'px';\n",
       "        }\n",
       "    };\n",
       "\n",
       "    // Disable right mouse context menu.\n",
       "    this.rubberband_canvas.addEventListener('contextmenu', function (_e) {\n",
       "        event.preventDefault();\n",
       "        return false;\n",
       "    });\n",
       "\n",
       "    function set_focus() {\n",
       "        canvas.focus();\n",
       "        canvas_div.focus();\n",
       "    }\n",
       "\n",
       "    window.setTimeout(set_focus, 100);\n",
       "};\n",
       "\n",
       "mpl.figure.prototype._init_toolbar = function () {\n",
       "    var fig = this;\n",
       "\n",
       "    var toolbar = document.createElement('div');\n",
       "    toolbar.classList = 'mpl-toolbar';\n",
       "    this.root.appendChild(toolbar);\n",
       "\n",
       "    function on_click_closure(name) {\n",
       "        return function (_event) {\n",
       "            return fig.toolbar_button_onclick(name);\n",
       "        };\n",
       "    }\n",
       "\n",
       "    function on_mouseover_closure(tooltip) {\n",
       "        return function (event) {\n",
       "            if (!event.currentTarget.disabled) {\n",
       "                return fig.toolbar_button_onmouseover(tooltip);\n",
       "            }\n",
       "        };\n",
       "    }\n",
       "\n",
       "    fig.buttons = {};\n",
       "    var buttonGroup = document.createElement('div');\n",
       "    buttonGroup.classList = 'mpl-button-group';\n",
       "    for (var toolbar_ind in mpl.toolbar_items) {\n",
       "        var name = mpl.toolbar_items[toolbar_ind][0];\n",
       "        var tooltip = mpl.toolbar_items[toolbar_ind][1];\n",
       "        var image = mpl.toolbar_items[toolbar_ind][2];\n",
       "        var method_name = mpl.toolbar_items[toolbar_ind][3];\n",
       "\n",
       "        if (!name) {\n",
       "            /* Instead of a spacer, we start a new button group. */\n",
       "            if (buttonGroup.hasChildNodes()) {\n",
       "                toolbar.appendChild(buttonGroup);\n",
       "            }\n",
       "            buttonGroup = document.createElement('div');\n",
       "            buttonGroup.classList = 'mpl-button-group';\n",
       "            continue;\n",
       "        }\n",
       "\n",
       "        var button = (fig.buttons[name] = document.createElement('button'));\n",
       "        button.classList = 'mpl-widget';\n",
       "        button.setAttribute('role', 'button');\n",
       "        button.setAttribute('aria-disabled', 'false');\n",
       "        button.addEventListener('click', on_click_closure(method_name));\n",
       "        button.addEventListener('mouseover', on_mouseover_closure(tooltip));\n",
       "\n",
       "        var icon_img = document.createElement('img');\n",
       "        icon_img.src = '_images/' + image + '.png';\n",
       "        icon_img.srcset = '_images/' + image + '_large.png 2x';\n",
       "        icon_img.alt = tooltip;\n",
       "        button.appendChild(icon_img);\n",
       "\n",
       "        buttonGroup.appendChild(button);\n",
       "    }\n",
       "\n",
       "    if (buttonGroup.hasChildNodes()) {\n",
       "        toolbar.appendChild(buttonGroup);\n",
       "    }\n",
       "\n",
       "    var fmt_picker = document.createElement('select');\n",
       "    fmt_picker.classList = 'mpl-widget';\n",
       "    toolbar.appendChild(fmt_picker);\n",
       "    this.format_dropdown = fmt_picker;\n",
       "\n",
       "    for (var ind in mpl.extensions) {\n",
       "        var fmt = mpl.extensions[ind];\n",
       "        var option = document.createElement('option');\n",
       "        option.selected = fmt === mpl.default_extension;\n",
       "        option.innerHTML = fmt;\n",
       "        fmt_picker.appendChild(option);\n",
       "    }\n",
       "\n",
       "    var status_bar = document.createElement('span');\n",
       "    status_bar.classList = 'mpl-message';\n",
       "    toolbar.appendChild(status_bar);\n",
       "    this.message = status_bar;\n",
       "};\n",
       "\n",
       "mpl.figure.prototype.request_resize = function (x_pixels, y_pixels) {\n",
       "    // Request matplotlib to resize the figure. Matplotlib will then trigger a resize in the client,\n",
       "    // which will in turn request a refresh of the image.\n",
       "    this.send_message('resize', { width: x_pixels, height: y_pixels });\n",
       "};\n",
       "\n",
       "mpl.figure.prototype.send_message = function (type, properties) {\n",
       "    properties['type'] = type;\n",
       "    properties['figure_id'] = this.id;\n",
       "    this.ws.send(JSON.stringify(properties));\n",
       "};\n",
       "\n",
       "mpl.figure.prototype.send_draw_message = function () {\n",
       "    if (!this.waiting) {\n",
       "        this.waiting = true;\n",
       "        this.ws.send(JSON.stringify({ type: 'draw', figure_id: this.id }));\n",
       "    }\n",
       "};\n",
       "\n",
       "mpl.figure.prototype.handle_save = function (fig, _msg) {\n",
       "    var format_dropdown = fig.format_dropdown;\n",
       "    var format = format_dropdown.options[format_dropdown.selectedIndex].value;\n",
       "    fig.ondownload(fig, format);\n",
       "};\n",
       "\n",
       "mpl.figure.prototype.handle_resize = function (fig, msg) {\n",
       "    var size = msg['size'];\n",
       "    if (size[0] !== fig.canvas.width || size[1] !== fig.canvas.height) {\n",
       "        fig._resize_canvas(size[0], size[1], msg['forward']);\n",
       "        fig.send_message('refresh', {});\n",
       "    }\n",
       "};\n",
       "\n",
       "mpl.figure.prototype.handle_rubberband = function (fig, msg) {\n",
       "    var x0 = msg['x0'] / fig.ratio;\n",
       "    var y0 = (fig.canvas.height - msg['y0']) / fig.ratio;\n",
       "    var x1 = msg['x1'] / fig.ratio;\n",
       "    var y1 = (fig.canvas.height - msg['y1']) / fig.ratio;\n",
       "    x0 = Math.floor(x0) + 0.5;\n",
       "    y0 = Math.floor(y0) + 0.5;\n",
       "    x1 = Math.floor(x1) + 0.5;\n",
       "    y1 = Math.floor(y1) + 0.5;\n",
       "    var min_x = Math.min(x0, x1);\n",
       "    var min_y = Math.min(y0, y1);\n",
       "    var width = Math.abs(x1 - x0);\n",
       "    var height = Math.abs(y1 - y0);\n",
       "\n",
       "    fig.rubberband_context.clearRect(\n",
       "        0,\n",
       "        0,\n",
       "        fig.canvas.width / fig.ratio,\n",
       "        fig.canvas.height / fig.ratio\n",
       "    );\n",
       "\n",
       "    fig.rubberband_context.strokeRect(min_x, min_y, width, height);\n",
       "};\n",
       "\n",
       "mpl.figure.prototype.handle_figure_label = function (fig, msg) {\n",
       "    // Updates the figure title.\n",
       "    fig.header.textContent = msg['label'];\n",
       "};\n",
       "\n",
       "mpl.figure.prototype.handle_cursor = function (fig, msg) {\n",
       "    fig.rubberband_canvas.style.cursor = msg['cursor'];\n",
       "};\n",
       "\n",
       "mpl.figure.prototype.handle_message = function (fig, msg) {\n",
       "    fig.message.textContent = msg['message'];\n",
       "};\n",
       "\n",
       "mpl.figure.prototype.handle_draw = function (fig, _msg) {\n",
       "    // Request the server to send over a new figure.\n",
       "    fig.send_draw_message();\n",
       "};\n",
       "\n",
       "mpl.figure.prototype.handle_image_mode = function (fig, msg) {\n",
       "    fig.image_mode = msg['mode'];\n",
       "};\n",
       "\n",
       "mpl.figure.prototype.handle_history_buttons = function (fig, msg) {\n",
       "    for (var key in msg) {\n",
       "        if (!(key in fig.buttons)) {\n",
       "            continue;\n",
       "        }\n",
       "        fig.buttons[key].disabled = !msg[key];\n",
       "        fig.buttons[key].setAttribute('aria-disabled', !msg[key]);\n",
       "    }\n",
       "};\n",
       "\n",
       "mpl.figure.prototype.handle_navigate_mode = function (fig, msg) {\n",
       "    if (msg['mode'] === 'PAN') {\n",
       "        fig.buttons['Pan'].classList.add('active');\n",
       "        fig.buttons['Zoom'].classList.remove('active');\n",
       "    } else if (msg['mode'] === 'ZOOM') {\n",
       "        fig.buttons['Pan'].classList.remove('active');\n",
       "        fig.buttons['Zoom'].classList.add('active');\n",
       "    } else {\n",
       "        fig.buttons['Pan'].classList.remove('active');\n",
       "        fig.buttons['Zoom'].classList.remove('active');\n",
       "    }\n",
       "};\n",
       "\n",
       "mpl.figure.prototype.updated_canvas_event = function () {\n",
       "    // Called whenever the canvas gets updated.\n",
       "    this.send_message('ack', {});\n",
       "};\n",
       "\n",
       "// A function to construct a web socket function for onmessage handling.\n",
       "// Called in the figure constructor.\n",
       "mpl.figure.prototype._make_on_message_function = function (fig) {\n",
       "    return function socket_on_message(evt) {\n",
       "        if (evt.data instanceof Blob) {\n",
       "            var img = evt.data;\n",
       "            if (img.type !== 'image/png') {\n",
       "                /* FIXME: We get \"Resource interpreted as Image but\n",
       "                 * transferred with MIME type text/plain:\" errors on\n",
       "                 * Chrome.  But how to set the MIME type?  It doesn't seem\n",
       "                 * to be part of the websocket stream */\n",
       "                img.type = 'image/png';\n",
       "            }\n",
       "\n",
       "            /* Free the memory for the previous frames */\n",
       "            if (fig.imageObj.src) {\n",
       "                (window.URL || window.webkitURL).revokeObjectURL(\n",
       "                    fig.imageObj.src\n",
       "                );\n",
       "            }\n",
       "\n",
       "            fig.imageObj.src = (window.URL || window.webkitURL).createObjectURL(\n",
       "                img\n",
       "            );\n",
       "            fig.updated_canvas_event();\n",
       "            fig.waiting = false;\n",
       "            return;\n",
       "        } else if (\n",
       "            typeof evt.data === 'string' &&\n",
       "            evt.data.slice(0, 21) === 'data:image/png;base64'\n",
       "        ) {\n",
       "            fig.imageObj.src = evt.data;\n",
       "            fig.updated_canvas_event();\n",
       "            fig.waiting = false;\n",
       "            return;\n",
       "        }\n",
       "\n",
       "        var msg = JSON.parse(evt.data);\n",
       "        var msg_type = msg['type'];\n",
       "\n",
       "        // Call the  \"handle_{type}\" callback, which takes\n",
       "        // the figure and JSON message as its only arguments.\n",
       "        try {\n",
       "            var callback = fig['handle_' + msg_type];\n",
       "        } catch (e) {\n",
       "            console.log(\n",
       "                \"No handler for the '\" + msg_type + \"' message type: \",\n",
       "                msg\n",
       "            );\n",
       "            return;\n",
       "        }\n",
       "\n",
       "        if (callback) {\n",
       "            try {\n",
       "                // console.log(\"Handling '\" + msg_type + \"' message: \", msg);\n",
       "                callback(fig, msg);\n",
       "            } catch (e) {\n",
       "                console.log(\n",
       "                    \"Exception inside the 'handler_\" + msg_type + \"' callback:\",\n",
       "                    e,\n",
       "                    e.stack,\n",
       "                    msg\n",
       "                );\n",
       "            }\n",
       "        }\n",
       "    };\n",
       "};\n",
       "\n",
       "// from https://stackoverflow.com/questions/1114465/getting-mouse-location-in-canvas\n",
       "mpl.findpos = function (e) {\n",
       "    //this section is from http://www.quirksmode.org/js/events_properties.html\n",
       "    var targ;\n",
       "    if (!e) {\n",
       "        e = window.event;\n",
       "    }\n",
       "    if (e.target) {\n",
       "        targ = e.target;\n",
       "    } else if (e.srcElement) {\n",
       "        targ = e.srcElement;\n",
       "    }\n",
       "    if (targ.nodeType === 3) {\n",
       "        // defeat Safari bug\n",
       "        targ = targ.parentNode;\n",
       "    }\n",
       "\n",
       "    // pageX,Y are the mouse positions relative to the document\n",
       "    var boundingRect = targ.getBoundingClientRect();\n",
       "    var x = e.pageX - (boundingRect.left + document.body.scrollLeft);\n",
       "    var y = e.pageY - (boundingRect.top + document.body.scrollTop);\n",
       "\n",
       "    return { x: x, y: y };\n",
       "};\n",
       "\n",
       "/*\n",
       " * return a copy of an object with only non-object keys\n",
       " * we need this to avoid circular references\n",
       " * https://stackoverflow.com/a/24161582/3208463\n",
       " */\n",
       "function simpleKeys(original) {\n",
       "    return Object.keys(original).reduce(function (obj, key) {\n",
       "        if (typeof original[key] !== 'object') {\n",
       "            obj[key] = original[key];\n",
       "        }\n",
       "        return obj;\n",
       "    }, {});\n",
       "}\n",
       "\n",
       "mpl.figure.prototype.mouse_event = function (event, name) {\n",
       "    var canvas_pos = mpl.findpos(event);\n",
       "\n",
       "    if (name === 'button_press') {\n",
       "        this.canvas.focus();\n",
       "        this.canvas_div.focus();\n",
       "    }\n",
       "\n",
       "    var x = canvas_pos.x * this.ratio;\n",
       "    var y = canvas_pos.y * this.ratio;\n",
       "\n",
       "    this.send_message(name, {\n",
       "        x: x,\n",
       "        y: y,\n",
       "        button: event.button,\n",
       "        step: event.step,\n",
       "        guiEvent: simpleKeys(event),\n",
       "    });\n",
       "\n",
       "    /* This prevents the web browser from automatically changing to\n",
       "     * the text insertion cursor when the button is pressed.  We want\n",
       "     * to control all of the cursor setting manually through the\n",
       "     * 'cursor' event from matplotlib */\n",
       "    event.preventDefault();\n",
       "    return false;\n",
       "};\n",
       "\n",
       "mpl.figure.prototype._key_event_extra = function (_event, _name) {\n",
       "    // Handle any extra behaviour associated with a key event\n",
       "};\n",
       "\n",
       "mpl.figure.prototype.key_event = function (event, name) {\n",
       "    // Prevent repeat events\n",
       "    if (name === 'key_press') {\n",
       "        if (event.key === this._key) {\n",
       "            return;\n",
       "        } else {\n",
       "            this._key = event.key;\n",
       "        }\n",
       "    }\n",
       "    if (name === 'key_release') {\n",
       "        this._key = null;\n",
       "    }\n",
       "\n",
       "    var value = '';\n",
       "    if (event.ctrlKey && event.key !== 'Control') {\n",
       "        value += 'ctrl+';\n",
       "    }\n",
       "    else if (event.altKey && event.key !== 'Alt') {\n",
       "        value += 'alt+';\n",
       "    }\n",
       "    else if (event.shiftKey && event.key !== 'Shift') {\n",
       "        value += 'shift+';\n",
       "    }\n",
       "\n",
       "    value += 'k' + event.key;\n",
       "\n",
       "    this._key_event_extra(event, name);\n",
       "\n",
       "    this.send_message(name, { key: value, guiEvent: simpleKeys(event) });\n",
       "    return false;\n",
       "};\n",
       "\n",
       "mpl.figure.prototype.toolbar_button_onclick = function (name) {\n",
       "    if (name === 'download') {\n",
       "        this.handle_save(this, null);\n",
       "    } else {\n",
       "        this.send_message('toolbar_button', { name: name });\n",
       "    }\n",
       "};\n",
       "\n",
       "mpl.figure.prototype.toolbar_button_onmouseover = function (tooltip) {\n",
       "    this.message.textContent = tooltip;\n",
       "};\n",
       "\n",
       "///////////////// REMAINING CONTENT GENERATED BY embed_js.py /////////////////\n",
       "// prettier-ignore\n",
       "var _JSXTOOLS_RESIZE_OBSERVER=function(A){var t,i=new WeakMap,n=new WeakMap,a=new WeakMap,r=new WeakMap,o=new Set;function s(e){if(!(this instanceof s))throw new TypeError(\"Constructor requires 'new' operator\");i.set(this,e)}function h(){throw new TypeError(\"Function is not a constructor\")}function c(e,t,i,n){e=0 in arguments?Number(arguments[0]):0,t=1 in arguments?Number(arguments[1]):0,i=2 in arguments?Number(arguments[2]):0,n=3 in arguments?Number(arguments[3]):0,this.right=(this.x=this.left=e)+(this.width=i),this.bottom=(this.y=this.top=t)+(this.height=n),Object.freeze(this)}function d(){t=requestAnimationFrame(d);var s=new WeakMap,p=new Set;o.forEach((function(t){r.get(t).forEach((function(i){var r=t instanceof window.SVGElement,o=a.get(t),d=r?0:parseFloat(o.paddingTop),f=r?0:parseFloat(o.paddingRight),l=r?0:parseFloat(o.paddingBottom),u=r?0:parseFloat(o.paddingLeft),g=r?0:parseFloat(o.borderTopWidth),m=r?0:parseFloat(o.borderRightWidth),w=r?0:parseFloat(o.borderBottomWidth),b=u+f,F=d+l,v=(r?0:parseFloat(o.borderLeftWidth))+m,W=g+w,y=r?0:t.offsetHeight-W-t.clientHeight,E=r?0:t.offsetWidth-v-t.clientWidth,R=b+v,z=F+W,M=r?t.width:parseFloat(o.width)-R-E,O=r?t.height:parseFloat(o.height)-z-y;if(n.has(t)){var k=n.get(t);if(k[0]===M&&k[1]===O)return}n.set(t,[M,O]);var S=Object.create(h.prototype);S.target=t,S.contentRect=new c(u,d,M,O),s.has(i)||(s.set(i,[]),p.add(i)),s.get(i).push(S)}))})),p.forEach((function(e){i.get(e).call(e,s.get(e),e)}))}return s.prototype.observe=function(i){if(i instanceof window.Element){r.has(i)||(r.set(i,new Set),o.add(i),a.set(i,window.getComputedStyle(i)));var n=r.get(i);n.has(this)||n.add(this),cancelAnimationFrame(t),t=requestAnimationFrame(d)}},s.prototype.unobserve=function(i){if(i instanceof window.Element&&r.has(i)){var n=r.get(i);n.has(this)&&(n.delete(this),n.size||(r.delete(i),o.delete(i))),n.size||r.delete(i),o.size||cancelAnimationFrame(t)}},A.DOMRectReadOnly=c,A.ResizeObserver=s,A.ResizeObserverEntry=h,A}; // eslint-disable-line\n",
       "mpl.toolbar_items = [[\"Home\", \"Reset original view\", \"fa fa-home icon-home\", \"home\"], [\"Back\", \"Back to previous view\", \"fa fa-arrow-left icon-arrow-left\", \"back\"], [\"Forward\", \"Forward to next view\", \"fa fa-arrow-right icon-arrow-right\", \"forward\"], [\"\", \"\", \"\", \"\"], [\"Pan\", \"Left button pans, Right button zooms\\nx/y fixes axis, CTRL fixes aspect\", \"fa fa-arrows icon-move\", \"pan\"], [\"Zoom\", \"Zoom to rectangle\\nx/y fixes axis\", \"fa fa-square-o icon-check-empty\", \"zoom\"], [\"\", \"\", \"\", \"\"], [\"Download\", \"Download plot\", \"fa fa-floppy-o icon-save\", \"download\"]];\n",
       "\n",
       "mpl.extensions = [\"eps\", \"jpeg\", \"pgf\", \"pdf\", \"png\", \"ps\", \"raw\", \"svg\", \"tif\"];\n",
       "\n",
       "mpl.default_extension = \"png\";/* global mpl */\n",
       "\n",
       "var comm_websocket_adapter = function (comm) {\n",
       "    // Create a \"websocket\"-like object which calls the given IPython comm\n",
       "    // object with the appropriate methods. Currently this is a non binary\n",
       "    // socket, so there is still some room for performance tuning.\n",
       "    var ws = {};\n",
       "\n",
       "    ws.binaryType = comm.kernel.ws.binaryType;\n",
       "    ws.readyState = comm.kernel.ws.readyState;\n",
       "    function updateReadyState(_event) {\n",
       "        if (comm.kernel.ws) {\n",
       "            ws.readyState = comm.kernel.ws.readyState;\n",
       "        } else {\n",
       "            ws.readyState = 3; // Closed state.\n",
       "        }\n",
       "    }\n",
       "    comm.kernel.ws.addEventListener('open', updateReadyState);\n",
       "    comm.kernel.ws.addEventListener('close', updateReadyState);\n",
       "    comm.kernel.ws.addEventListener('error', updateReadyState);\n",
       "\n",
       "    ws.close = function () {\n",
       "        comm.close();\n",
       "    };\n",
       "    ws.send = function (m) {\n",
       "        //console.log('sending', m);\n",
       "        comm.send(m);\n",
       "    };\n",
       "    // Register the callback with on_msg.\n",
       "    comm.on_msg(function (msg) {\n",
       "        //console.log('receiving', msg['content']['data'], msg);\n",
       "        var data = msg['content']['data'];\n",
       "        if (data['blob'] !== undefined) {\n",
       "            data = {\n",
       "                data: new Blob(msg['buffers'], { type: data['blob'] }),\n",
       "            };\n",
       "        }\n",
       "        // Pass the mpl event to the overridden (by mpl) onmessage function.\n",
       "        ws.onmessage(data);\n",
       "    });\n",
       "    return ws;\n",
       "};\n",
       "\n",
       "mpl.mpl_figure_comm = function (comm, msg) {\n",
       "    // This is the function which gets called when the mpl process\n",
       "    // starts-up an IPython Comm through the \"matplotlib\" channel.\n",
       "\n",
       "    var id = msg.content.data.id;\n",
       "    // Get hold of the div created by the display call when the Comm\n",
       "    // socket was opened in Python.\n",
       "    var element = document.getElementById(id);\n",
       "    var ws_proxy = comm_websocket_adapter(comm);\n",
       "\n",
       "    function ondownload(figure, _format) {\n",
       "        window.open(figure.canvas.toDataURL());\n",
       "    }\n",
       "\n",
       "    var fig = new mpl.figure(id, ws_proxy, ondownload, element);\n",
       "\n",
       "    // Call onopen now - mpl needs it, as it is assuming we've passed it a real\n",
       "    // web socket which is closed, not our websocket->open comm proxy.\n",
       "    ws_proxy.onopen();\n",
       "\n",
       "    fig.parent_element = element;\n",
       "    fig.cell_info = mpl.find_output_cell(\"<div id='\" + id + \"'></div>\");\n",
       "    if (!fig.cell_info) {\n",
       "        console.error('Failed to find cell for figure', id, fig);\n",
       "        return;\n",
       "    }\n",
       "    fig.cell_info[0].output_area.element.on(\n",
       "        'cleared',\n",
       "        { fig: fig },\n",
       "        fig._remove_fig_handler\n",
       "    );\n",
       "};\n",
       "\n",
       "mpl.figure.prototype.handle_close = function (fig, msg) {\n",
       "    var width = fig.canvas.width / fig.ratio;\n",
       "    fig.cell_info[0].output_area.element.off(\n",
       "        'cleared',\n",
       "        fig._remove_fig_handler\n",
       "    );\n",
       "    fig.resizeObserverInstance.unobserve(fig.canvas_div);\n",
       "\n",
       "    // Update the output cell to use the data from the current canvas.\n",
       "    fig.push_to_output();\n",
       "    var dataURL = fig.canvas.toDataURL();\n",
       "    // Re-enable the keyboard manager in IPython - without this line, in FF,\n",
       "    // the notebook keyboard shortcuts fail.\n",
       "    IPython.keyboard_manager.enable();\n",
       "    fig.parent_element.innerHTML =\n",
       "        '<img src=\"' + dataURL + '\" width=\"' + width + '\">';\n",
       "    fig.close_ws(fig, msg);\n",
       "};\n",
       "\n",
       "mpl.figure.prototype.close_ws = function (fig, msg) {\n",
       "    fig.send_message('closing', msg);\n",
       "    // fig.ws.close()\n",
       "};\n",
       "\n",
       "mpl.figure.prototype.push_to_output = function (_remove_interactive) {\n",
       "    // Turn the data on the canvas into data in the output cell.\n",
       "    var width = this.canvas.width / this.ratio;\n",
       "    var dataURL = this.canvas.toDataURL();\n",
       "    this.cell_info[1]['text/html'] =\n",
       "        '<img src=\"' + dataURL + '\" width=\"' + width + '\">';\n",
       "};\n",
       "\n",
       "mpl.figure.prototype.updated_canvas_event = function () {\n",
       "    // Tell IPython that the notebook contents must change.\n",
       "    IPython.notebook.set_dirty(true);\n",
       "    this.send_message('ack', {});\n",
       "    var fig = this;\n",
       "    // Wait a second, then push the new image to the DOM so\n",
       "    // that it is saved nicely (might be nice to debounce this).\n",
       "    setTimeout(function () {\n",
       "        fig.push_to_output();\n",
       "    }, 1000);\n",
       "};\n",
       "\n",
       "mpl.figure.prototype._init_toolbar = function () {\n",
       "    var fig = this;\n",
       "\n",
       "    var toolbar = document.createElement('div');\n",
       "    toolbar.classList = 'btn-toolbar';\n",
       "    this.root.appendChild(toolbar);\n",
       "\n",
       "    function on_click_closure(name) {\n",
       "        return function (_event) {\n",
       "            return fig.toolbar_button_onclick(name);\n",
       "        };\n",
       "    }\n",
       "\n",
       "    function on_mouseover_closure(tooltip) {\n",
       "        return function (event) {\n",
       "            if (!event.currentTarget.disabled) {\n",
       "                return fig.toolbar_button_onmouseover(tooltip);\n",
       "            }\n",
       "        };\n",
       "    }\n",
       "\n",
       "    fig.buttons = {};\n",
       "    var buttonGroup = document.createElement('div');\n",
       "    buttonGroup.classList = 'btn-group';\n",
       "    var button;\n",
       "    for (var toolbar_ind in mpl.toolbar_items) {\n",
       "        var name = mpl.toolbar_items[toolbar_ind][0];\n",
       "        var tooltip = mpl.toolbar_items[toolbar_ind][1];\n",
       "        var image = mpl.toolbar_items[toolbar_ind][2];\n",
       "        var method_name = mpl.toolbar_items[toolbar_ind][3];\n",
       "\n",
       "        if (!name) {\n",
       "            /* Instead of a spacer, we start a new button group. */\n",
       "            if (buttonGroup.hasChildNodes()) {\n",
       "                toolbar.appendChild(buttonGroup);\n",
       "            }\n",
       "            buttonGroup = document.createElement('div');\n",
       "            buttonGroup.classList = 'btn-group';\n",
       "            continue;\n",
       "        }\n",
       "\n",
       "        button = fig.buttons[name] = document.createElement('button');\n",
       "        button.classList = 'btn btn-default';\n",
       "        button.href = '#';\n",
       "        button.title = name;\n",
       "        button.innerHTML = '<i class=\"fa ' + image + ' fa-lg\"></i>';\n",
       "        button.addEventListener('click', on_click_closure(method_name));\n",
       "        button.addEventListener('mouseover', on_mouseover_closure(tooltip));\n",
       "        buttonGroup.appendChild(button);\n",
       "    }\n",
       "\n",
       "    if (buttonGroup.hasChildNodes()) {\n",
       "        toolbar.appendChild(buttonGroup);\n",
       "    }\n",
       "\n",
       "    // Add the status bar.\n",
       "    var status_bar = document.createElement('span');\n",
       "    status_bar.classList = 'mpl-message pull-right';\n",
       "    toolbar.appendChild(status_bar);\n",
       "    this.message = status_bar;\n",
       "\n",
       "    // Add the close button to the window.\n",
       "    var buttongrp = document.createElement('div');\n",
       "    buttongrp.classList = 'btn-group inline pull-right';\n",
       "    button = document.createElement('button');\n",
       "    button.classList = 'btn btn-mini btn-primary';\n",
       "    button.href = '#';\n",
       "    button.title = 'Stop Interaction';\n",
       "    button.innerHTML = '<i class=\"fa fa-power-off icon-remove icon-large\"></i>';\n",
       "    button.addEventListener('click', function (_evt) {\n",
       "        fig.handle_close(fig, {});\n",
       "    });\n",
       "    button.addEventListener(\n",
       "        'mouseover',\n",
       "        on_mouseover_closure('Stop Interaction')\n",
       "    );\n",
       "    buttongrp.appendChild(button);\n",
       "    var titlebar = this.root.querySelector('.ui-dialog-titlebar');\n",
       "    titlebar.insertBefore(buttongrp, titlebar.firstChild);\n",
       "};\n",
       "\n",
       "mpl.figure.prototype._remove_fig_handler = function (event) {\n",
       "    var fig = event.data.fig;\n",
       "    if (event.target !== this) {\n",
       "        // Ignore bubbled events from children.\n",
       "        return;\n",
       "    }\n",
       "    fig.close_ws(fig, {});\n",
       "};\n",
       "\n",
       "mpl.figure.prototype._root_extra_style = function (el) {\n",
       "    el.style.boxSizing = 'content-box'; // override notebook setting of border-box.\n",
       "};\n",
       "\n",
       "mpl.figure.prototype._canvas_extra_style = function (el) {\n",
       "    // this is important to make the div 'focusable\n",
       "    el.setAttribute('tabindex', 0);\n",
       "    // reach out to IPython and tell the keyboard manager to turn it's self\n",
       "    // off when our div gets focus\n",
       "\n",
       "    // location in version 3\n",
       "    if (IPython.notebook.keyboard_manager) {\n",
       "        IPython.notebook.keyboard_manager.register_events(el);\n",
       "    } else {\n",
       "        // location in version 2\n",
       "        IPython.keyboard_manager.register_events(el);\n",
       "    }\n",
       "};\n",
       "\n",
       "mpl.figure.prototype._key_event_extra = function (event, _name) {\n",
       "    // Check for shift+enter\n",
       "    if (event.shiftKey && event.which === 13) {\n",
       "        this.canvas_div.blur();\n",
       "        // select the cell after this one\n",
       "        var index = IPython.notebook.find_cell_index(this.cell_info[0]);\n",
       "        IPython.notebook.select(index + 1);\n",
       "    }\n",
       "};\n",
       "\n",
       "mpl.figure.prototype.handle_save = function (fig, _msg) {\n",
       "    fig.ondownload(fig, null);\n",
       "};\n",
       "\n",
       "mpl.find_output_cell = function (html_output) {\n",
       "    // Return the cell and output element which can be found *uniquely* in the notebook.\n",
       "    // Note - this is a bit hacky, but it is done because the \"notebook_saving.Notebook\"\n",
       "    // IPython event is triggered only after the cells have been serialised, which for\n",
       "    // our purposes (turning an active figure into a static one), is too late.\n",
       "    var cells = IPython.notebook.get_cells();\n",
       "    var ncells = cells.length;\n",
       "    for (var i = 0; i < ncells; i++) {\n",
       "        var cell = cells[i];\n",
       "        if (cell.cell_type === 'code') {\n",
       "            for (var j = 0; j < cell.output_area.outputs.length; j++) {\n",
       "                var data = cell.output_area.outputs[j];\n",
       "                if (data.data) {\n",
       "                    // IPython >= 3 moved mimebundle to data attribute of output\n",
       "                    data = data.data;\n",
       "                }\n",
       "                if (data['text/html'] === html_output) {\n",
       "                    return [cell, data, j];\n",
       "                }\n",
       "            }\n",
       "        }\n",
       "    }\n",
       "};\n",
       "\n",
       "// Register the function which deals with the matplotlib target/channel.\n",
       "// The kernel may be null if the page has been refreshed.\n",
       "if (IPython.notebook.kernel !== null) {\n",
       "    IPython.notebook.kernel.comm_manager.register_target(\n",
       "        'matplotlib',\n",
       "        mpl.mpl_figure_comm\n",
       "    );\n",
       "}\n"
      ],
      "text/plain": [
       "<IPython.core.display.Javascript object>"
      ]
     },
     "metadata": {},
     "output_type": "display_data"
    },
    {
     "data": {
      "text/html": [
       "<img src=\"data:image/png;base64,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\" width=\"640.0000169542105\">"
      ],
      "text/plain": [
       "<IPython.core.display.HTML object>"
      ]
     },
     "metadata": {},
     "output_type": "display_data"
    },
    {
     "data": {
      "text/plain": [
       "<matplotlib.image.AxesImage at 0x7f15639086d0>"
      ]
     },
     "execution_count": 55,
     "metadata": {},
     "output_type": "execute_result"
    }
   ],
   "source": [
    "plt.figure()\n",
    "plt.imshow(Image.open(responsive_image))"
   ]
  },
  {
   "cell_type": "code",
   "execution_count": 4,
   "id": "d7b9c794",
   "metadata": {},
   "outputs": [
    {
     "data": {
      "text/plain": [
       "(48, 16)"
      ]
     },
     "execution_count": 4,
     "metadata": {},
     "output_type": "execute_result"
    }
   ],
   "source": [
    "load_cem_vectors(\"xor\",0,42).shape"
   ]
  },
  {
   "cell_type": "code",
   "execution_count": 5,
   "id": "f1425c74",
   "metadata": {},
   "outputs": [
    {
     "data": {
      "text/plain": [
       "(2, 100352)"
      ]
     },
     "execution_count": 5,
     "metadata": {},
     "output_type": "execute_result"
    }
   ],
   "source": [
    "load_tcav_vectors(\"soccer\",['mixed4c'],experiment_name=\"unfiled\")[0].shape"
   ]
  },
  {
   "cell_type": "code",
   "execution_count": 6,
   "id": "7ed3352f",
   "metadata": {},
   "outputs": [
    {
     "data": {
      "text/plain": [
       "(1, 4796)"
      ]
     },
     "execution_count": 6,
     "metadata": {},
     "output_type": "execute_result"
    }
   ],
   "source": [
    "load_label_vectors_simple(\"has_bill_shape::dagger\",\"cub\",seed=42).shape"
   ]
  },
  {
   "cell_type": "code",
   "execution_count": 7,
   "id": "5e8cad40",
   "metadata": {},
   "outputs": [
    {
     "data": {
      "text/plain": [
       "(48, 16)"
      ]
     },
     "execution_count": 7,
     "metadata": {},
     "output_type": "execute_result"
    }
   ],
   "source": [
    "load_cem_vectors_simple('0','xor',seed=42).shape"
   ]
  },
  {
   "cell_type": "code",
   "execution_count": 5,
   "id": "223be970",
   "metadata": {},
   "outputs": [],
   "source": [
    "mnist_attributes = ['{}_color'.format(i) for i in range(5)] + ['{}_number'.format(i) for i in range(5)]"
   ]
  },
  {
   "cell_type": "code",
   "execution_count": 6,
   "id": "15ea6902",
   "metadata": {},
   "outputs": [
    {
     "data": {
      "text/plain": [
       "14.0"
      ]
     },
     "execution_count": 6,
     "metadata": {},
     "output_type": "execute_result"
    }
   ],
   "source": [
    "stability_metric(create_linkage_hierarchy,load_tcav_vectors_simple,'mnist',mnist_attributes,[43,44,45])"
   ]
  },
  {
   "cell_type": "code",
   "execution_count": 7,
   "id": "719a1cdd",
   "metadata": {},
   "outputs": [
    {
     "data": {
      "text/plain": [
       "16.333333333333332"
      ]
     },
     "execution_count": 7,
     "metadata": {},
     "output_type": "execute_result"
    }
   ],
   "source": [
    "stability_metric(create_ward_hierarchy,load_tcav_vectors_simple,'mnist',mnist_attributes,[43,44,45])"
   ]
  },
  {
   "cell_type": "code",
   "execution_count": 8,
   "id": "74378146",
   "metadata": {},
   "outputs": [
    {
     "data": {
      "text/plain": [
       "19.666666666666668"
      ]
     },
     "execution_count": 8,
     "metadata": {},
     "output_type": "execute_result"
    }
   ],
   "source": [
    "stability_metric(create_ward_hierarchy,load_cem_vectors_simple,'mnist',mnist_attributes,[43,44,45])"
   ]
  },
  {
   "cell_type": "code",
   "execution_count": 9,
   "id": "3882b7b4",
   "metadata": {},
   "outputs": [
    {
     "data": {
      "text/plain": [
       "0.0"
      ]
     },
     "execution_count": 9,
     "metadata": {},
     "output_type": "execute_result"
    }
   ],
   "source": [
    "stability_metric(create_ward_hierarchy,load_label_vectors_simple,'mnist',mnist_attributes,[43,44,45])"
   ]
  },
  {
   "cell_type": "code",
   "execution_count": 18,
   "id": "f25b3cdc",
   "metadata": {},
   "outputs": [
    {
     "data": {
      "text/plain": [
       "array([], shape=(0, 16), dtype=float64)"
      ]
     },
     "execution_count": 18,
     "metadata": {},
     "output_type": "execute_result"
    }
   ],
   "source": [
    "np.load('./results/cem_concepts/mnist/43/mnist_concept_0_inactive.npy')"
   ]
  },
  {
   "cell_type": "code",
   "execution_count": 20,
   "id": "724b5e5b",
   "metadata": {},
   "outputs": [
    {
     "data": {
      "text/plain": [
       "0.0"
      ]
     },
     "execution_count": 20,
     "metadata": {},
     "output_type": "execute_result"
    }
   ],
   "source": [
    "stability_metric(create_linkage_hierarchy,load_cem_vectors_simple,'mnist',mnist_attributes,[45,45])"
   ]
  },
  {
   "cell_type": "code",
   "execution_count": 27,
   "id": "be42c223",
   "metadata": {},
   "outputs": [],
   "source": [
    "h1 = create_hierarchy(create_ward_hierarchy,load_cem_vectors_simple, 'xor',['0','1'],42)"
   ]
  },
  {
   "cell_type": "code",
   "execution_count": 28,
   "id": "c5e7a3c7",
   "metadata": {},
   "outputs": [],
   "source": [
    "h2 = create_hierarchy(create_linkage_hierarchy,load_tcav_vectors_simple, 'unfiled',['soccer','alga'],42)"
   ]
  },
  {
   "cell_type": "code",
   "execution_count": 29,
   "id": "14422221",
   "metadata": {},
   "outputs": [],
   "source": [
    "h3 = create_hierarchy(create_linkage_hierarchy,load_label_vectors_simple, 'cub',[\"has_bill_shape::dagger\",'has_bill_shape::hooked_seabird'],42)"
   ]
  },
  {
   "cell_type": "code",
   "execution_count": 33,
   "id": "bfa661bd",
   "metadata": {},
   "outputs": [
    {
     "data": {
      "text/plain": [
       "32"
      ]
     },
     "execution_count": 33,
     "metadata": {},
     "output_type": "execute_result"
    }
   ],
   "source": [
    "len(str(h1))"
   ]
  },
  {
   "cell_type": "code",
   "execution_count": 34,
   "id": "c62c10b9",
   "metadata": {},
   "outputs": [
    {
     "data": {
      "text/plain": [
       "40"
      ]
     },
     "execution_count": 34,
     "metadata": {},
     "output_type": "execute_result"
    }
   ],
   "source": [
    "len(str(h2))"
   ]
  },
  {
   "cell_type": "code",
   "execution_count": 35,
   "id": "1aaeb3af",
   "metadata": {},
   "outputs": [
    {
     "data": {
      "text/plain": [
       "82"
      ]
     },
     "execution_count": 35,
     "metadata": {},
     "output_type": "execute_result"
    }
   ],
   "source": [
    "len(str(h3))"
   ]
  },
  {
   "cell_type": "code",
   "execution_count": 40,
   "id": "52199b98",
   "metadata": {},
   "outputs": [],
   "source": [
    "assert type(h1) == type(h2) == type(h3)"
   ]
  },
  {
   "cell_type": "code",
   "execution_count": null,
   "id": "ccd5094a",
   "metadata": {},
   "outputs": [],
   "source": []
  }
 ],
 "metadata": {
  "kernelspec": {
   "display_name": "Python 3 (ipykernel)",
   "language": "python",
   "name": "python3"
  },
  "language_info": {
   "codemirror_mode": {
    "name": "ipython",
    "version": 3
   },
   "file_extension": ".py",
   "mimetype": "text/x-python",
   "name": "python",
   "nbconvert_exporter": "python",
   "pygments_lexer": "ipython3",
   "version": "3.7.12"
  }
 },
 "nbformat": 4,
 "nbformat_minor": 5
}
