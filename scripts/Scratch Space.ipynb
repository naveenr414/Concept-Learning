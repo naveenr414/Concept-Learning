{
 "cells": [
  {
   "cell_type": "code",
   "execution_count": 1,
   "id": "e83e508c",
   "metadata": {},
   "outputs": [],
   "source": [
    "%load_ext autoreload\n",
    "%autoreload 2\n",
    "%matplotlib notebook"
   ]
  },
  {
   "cell_type": "code",
   "execution_count": 2,
   "id": "b3c42d79",
   "metadata": {},
   "outputs": [],
   "source": [
    "import os\n",
    "os.chdir('../')"
   ]
  },
  {
   "cell_type": "code",
   "execution_count": 3,
   "id": "5d4286b7",
   "metadata": {
    "scrolled": true
   },
   "outputs": [
    {
     "name": "stderr",
     "output_type": "stream",
     "text": [
      "2023-01-18 11:30:50.172739: I tensorflow/core/platform/cpu_feature_guard.cc:193] This TensorFlow binary is optimized with oneAPI Deep Neural Network Library (oneDNN) to use the following CPU instructions in performance-critical operations:  SSE4.1 SSE4.2 AVX FMA\n",
      "To enable them in other operations, rebuild TensorFlow with the appropriate compiler flags.\n"
     ]
    }
   ],
   "source": [
    "import numpy as np\n",
    "import matplotlib.pyplot as plt\n",
    "import scipy\n",
    "from sklearn.manifold import TSNE\n",
    "from sklearn.decomposition import PCA\n",
    "import tcav\n",
    "from src.download_data import download_imagenet, download_random_imagenet_classes\n",
    "import pickle\n",
    "from src.dataset import *\n",
    "from src.concept_vectors import *\n",
    "from src.util import *\n",
    "import random\n",
    "from src.plots import *\n",
    "from sklearn.manifold import TSNE\n",
    "from scipy.spatial.distance import cosine \n",
    "import pandas as pd\n",
    "from sklearn.datasets import make_moons\n",
    "import matplotlib.pyplot as plt\n",
    "from scipy.cluster.hierarchy import dendrogram, linkage\n",
    "from sklearn.cluster import AgglomerativeClustering\n",
    "from sklearn.datasets import make_blobs\n",
    "from src.hierarchy import *\n",
    "from src.metrics import *\n",
    "import pickle\n",
    "import tensorflow as tf\n",
    "import keras\n",
    "from keras.models import load_model, Model"
   ]
  },
  {
   "cell_type": "code",
   "execution_count": 4,
   "id": "8b655359",
   "metadata": {},
   "outputs": [],
   "source": [
    "mnist_attributes = get_mnist_attributes()"
   ]
  },
  {
   "cell_type": "code",
   "execution_count": 5,
   "id": "8392d7c7",
   "metadata": {},
   "outputs": [
    {
     "data": {
      "text/plain": [
       "46.666666666666664"
      ]
     },
     "execution_count": 5,
     "metadata": {},
     "output_type": "execute_result"
    }
   ],
   "source": [
    "robustness_image_metric(create_linkage_hierarchy,load_tcav_vectors_simple,'mnist',mnist_attributes,[43,44,45])"
   ]
  },
  {
   "cell_type": "code",
   "execution_count": 6,
   "id": "96eda7c2",
   "metadata": {},
   "outputs": [
    {
     "data": {
      "text/plain": [
       "46.0"
      ]
     },
     "execution_count": 6,
     "metadata": {},
     "output_type": "execute_result"
    }
   ],
   "source": [
    "responsiveness_image_metric(create_linkage_hierarchy,load_tcav_vectors_simple,'mnist',mnist_attributes,[43,44,45])"
   ]
  },
  {
   "cell_type": "code",
   "execution_count": 9,
   "id": "4cc39afa",
   "metadata": {},
   "outputs": [
    {
     "data": {
      "text/plain": [
       "47.0"
      ]
     },
     "execution_count": 9,
     "metadata": {},
     "output_type": "execute_result"
    }
   ],
   "source": [
    "responsiveness_image_metric(create_linkage_hierarchy,\n",
    "                                       load_label_vectors_simple,'mnist',mnist_attributes,[43,44,45])"
   ]
  },
  {
   "cell_type": "code",
   "execution_count": 11,
   "id": "584e7611",
   "metadata": {},
   "outputs": [
    {
     "name": "stderr",
     "output_type": "stream",
     "text": [
      "2023-01-18 10:35:02.110670: I tensorflow/core/platform/cpu_feature_guard.cc:193] This TensorFlow binary is optimized with oneAPI Deep Neural Network Library (oneDNN) to use the following CPU instructions in performance-critical operations:  SSE4.1 SSE4.2 AVX FMA\n",
      "To enable them in other operations, rebuild TensorFlow with the appropriate compiler flags.\n",
      "2023-01-18 10:35:02.118093: I tensorflow/core/common_runtime/process_util.cc:146] Creating new thread pool with default inter op setting: 2. Tune using inter_op_parallelism_threads for best performance.\n"
     ]
    }
   ],
   "source": [
    "sess = utils.create_session()"
   ]
  },
  {
   "cell_type": "code",
   "execution_count": 12,
   "id": "89eb5d05",
   "metadata": {},
   "outputs": [],
   "source": [
    "GRAPH_PATH = \"./dataset/models/inception5h/tensorflow_inception_graph.pb\"\n",
    "LABEL_PATH = \"./dataset/models/inception5h/imagenet_comp_graph_label_strings.txt\"\n",
    "mymodel = model.GoogleNetWrapper_public(sess,\n",
    "                                    GRAPH_PATH,\n",
    "                                    LABEL_PATH)"
   ]
  },
  {
   "cell_type": "code",
   "execution_count": 13,
   "id": "7ab78892",
   "metadata": {},
   "outputs": [],
   "source": [
    "activation_dir = './results/activations'\n",
    "working_dir = './results/tmp'\n",
    "image_dir = \"./dataset/images\""
   ]
  },
  {
   "cell_type": "code",
   "execution_count": 15,
   "id": "c3cf6869",
   "metadata": {},
   "outputs": [],
   "source": [
    "act_generator = act_gen.ImageActivationGenerator(mymodel, \n",
    "                                                 image_dir, activation_dir, max_examples=100)"
   ]
  },
  {
   "cell_type": "code",
   "execution_count": 18,
   "id": "bbe3db37",
   "metadata": {},
   "outputs": [],
   "source": [
    "d = act_generator.get_examples_for_concept(\"0_number\")"
   ]
  },
  {
   "cell_type": "code",
   "execution_count": 19,
   "id": "7290db88",
   "metadata": {},
   "outputs": [
    {
     "data": {
      "text/plain": [
       "(100, 224, 224, 3)"
      ]
     },
     "execution_count": 19,
     "metadata": {},
     "output_type": "execute_result"
    }
   ],
   "source": [
    "d.shape"
   ]
  },
  {
   "cell_type": "code",
   "execution_count": 21,
   "id": "f594faa0",
   "metadata": {},
   "outputs": [
    {
     "name": "stderr",
     "output_type": "stream",
     "text": [
      "2023-01-18 10:40:48.060535: I tensorflow/compiler/mlir/mlir_graph_optimization_pass.cc:354] MLIR V1 optimization pass is not enabled\n"
     ]
    }
   ],
   "source": [
    "activations = load_activations_tcav(mnist_attributes,experiment_name=\"mnist\",max_examples=100)"
   ]
  },
  {
   "cell_type": "code",
   "execution_count": 25,
   "id": "adc5ca86",
   "metadata": {},
   "outputs": [
    {
     "data": {
      "text/plain": [
       "82407.38"
      ]
     },
     "execution_count": 25,
     "metadata": {},
     "output_type": "execute_result"
    }
   ],
   "source": [
    "np.linalg.norm(activations[\"0_number\"])"
   ]
  },
  {
   "cell_type": "code",
   "execution_count": 5,
   "id": "369b4634",
   "metadata": {},
   "outputs": [],
   "source": [
    "hierarchy_method=create_linkage_hierarchy\n",
    "embedding_method=load_label_vectors_simple\n",
    "dataset='mnist'\n",
    "attributes=mnist_attributes\n",
    "random_seeds=[43,44,45]\n",
    "model=\"GoogleNet\""
   ]
  },
  {
   "cell_type": "code",
   "execution_count": 6,
   "id": "e82a84b4",
   "metadata": {},
   "outputs": [],
   "source": [
    "random.seed(42)\n",
    "    \n",
    "n_concepts = len(attributes)//5\n",
    "compare_concepts = len(attributes)//5\n",
    "\n",
    "selected_concepts = random.sample(attributes,k=n_concepts)\n",
    "\n",
    "avg_truthfulness = []"
   ]
  },
  {
   "cell_type": "code",
   "execution_count": 7,
   "id": "8427839f",
   "metadata": {},
   "outputs": [],
   "source": [
    "seed = 43\n",
    "concept = \"0_number\""
   ]
  },
  {
   "cell_type": "code",
   "execution_count": 8,
   "id": "ff21a666",
   "metadata": {},
   "outputs": [],
   "source": [
    "activation_dir = './results/activations'\n",
    "working_dir = './results/tmp'\n",
    "image_dir = \"./dataset/images\"\n",
    "\n",
    "max_images = 100\n",
    "\n",
    "if dataset == 'mnist':\n",
    "    concepts = get_mnist_attributes()"
   ]
  },
  {
   "cell_type": "code",
   "execution_count": 9,
   "id": "645a1914",
   "metadata": {},
   "outputs": [
    {
     "name": "stderr",
     "output_type": "stream",
     "text": [
      "2023-01-18 11:31:35.994492: I tensorflow/core/platform/cpu_feature_guard.cc:193] This TensorFlow binary is optimized with oneAPI Deep Neural Network Library (oneDNN) to use the following CPU instructions in performance-critical operations:  SSE4.1 SSE4.2 AVX FMA\n",
      "To enable them in other operations, rebuild TensorFlow with the appropriate compiler flags.\n",
      "2023-01-18 11:31:36.002495: I tensorflow/core/common_runtime/process_util.cc:146] Creating new thread pool with default inter op setting: 2. Tune using inter_op_parallelism_threads for best performance.\n",
      "2023-01-18 11:31:40.246849: I tensorflow/compiler/mlir/mlir_graph_optimization_pass.cc:354] MLIR V1 optimization pass is not enabled\n"
     ]
    }
   ],
   "source": [
    "activations = load_activations_tcav(concepts,experiment_name=dataset,max_examples=max_images)"
   ]
  },
  {
   "cell_type": "code",
   "execution_count": 10,
   "id": "5a2bc9e4",
   "metadata": {},
   "outputs": [],
   "source": [
    "our_vectors = activations[concept]"
   ]
  },
  {
   "cell_type": "code",
   "execution_count": 11,
   "id": "a5bb5f24",
   "metadata": {},
   "outputs": [
    {
     "data": {
      "text/plain": [
       "<function scipy.spatial.distance.cdist(XA, XB, metric='euclidean', *, out=None, **kwargs)>"
      ]
     },
     "execution_count": 11,
     "metadata": {},
     "output_type": "execute_result"
    }
   ],
   "source": [
    "cdist"
   ]
  },
  {
   "cell_type": "code",
   "execution_count": 13,
   "id": "86686fe2",
   "metadata": {},
   "outputs": [
    {
     "name": "stdout",
     "output_type": "stream",
     "text": [
      "0_color\n",
      "0_number\n",
      "1_color\n",
      "1_number\n",
      "2_color\n",
      "2_number\n",
      "3_color\n",
      "3_number\n",
      "4_color\n",
      "4_number\n",
      "5_color\n",
      "5_number\n",
      "6_color\n",
      "6_number\n",
      "7_color\n",
      "7_number\n",
      "8_color\n",
      "8_number\n",
      "9_color\n",
      "9_number\n",
      "spurious\n"
     ]
    }
   ],
   "source": [
    "all_distance_pairs = []\n",
    "for other_concept in concepts:\n",
    "    print(other_concept)\n",
    "    if other_concept != concept:\n",
    "        distances = cdist(our_vectors,activations[other_concept],metric='cosine')\n",
    "        all_distance_pairs.append((other_concept,np.mean(distances)))"
   ]
  },
  {
   "cell_type": "code",
   "execution_count": 14,
   "id": "2510d097",
   "metadata": {},
   "outputs": [
    {
     "data": {
      "text/plain": [
       "['0_color', '5_number', '6_number', '5_color', '6_color']"
      ]
     },
     "execution_count": 14,
     "metadata": {},
     "output_type": "execute_result"
    }
   ],
   "source": [
    "all_distance_pairs = sorted(all_distance_pairs,key=lambda k: k[1])\n",
    "[i[0] for i in all_distance_pairs][:5]"
   ]
  },
  {
   "cell_type": "code",
   "execution_count": 15,
   "id": "a472befa",
   "metadata": {},
   "outputs": [
    {
     "data": {
      "text/plain": [
       "[('0_color', 0.2703246392913351),\n",
       " ('5_number', 0.3634966880977542),\n",
       " ('6_number', 0.36597444109862576),\n",
       " ('5_color', 0.36602611221781145),\n",
       " ('6_color', 0.3692161675511568),\n",
       " ('9_number', 0.37112409359930537),\n",
       " ('8_number', 0.3792494928402702),\n",
       " ('9_color', 0.3808778023167217),\n",
       " ('8_color', 0.3813513889149904),\n",
       " ('3_number', 0.38222491701495953),\n",
       " ('spurious', 0.3834654850094098),\n",
       " ('3_color', 0.39138542483929173),\n",
       " ('2_number', 0.40489694623799805),\n",
       " ('2_color', 0.4084804230132554),\n",
       " ('4_number', 0.42284139339690574),\n",
       " ('1_color', 0.42325033832208264),\n",
       " ('7_color', 0.42465486258556595),\n",
       " ('4_color', 0.42499817839442877),\n",
       " ('1_number', 0.4272763922677328),\n",
       " ('7_number', 0.4313626597133339)]"
      ]
     },
     "execution_count": 15,
     "metadata": {},
     "output_type": "execute_result"
    }
   ],
   "source": [
    "all_distance_pairs"
   ]
  },
  {
   "cell_type": "code",
   "execution_count": 16,
   "id": "e5433512",
   "metadata": {},
   "outputs": [
    {
     "name": "stderr",
     "output_type": "stream",
     "text": [
      "/auto/homes/njr61/environments/mambaforge/envs/concepts/lib/python3.7/site-packages/tensorflow/python/client/session.py:1769: UserWarning: An interactive session is already active. This can cause out-of-memory errors in some cases. You must explicitly call `InteractiveSession.close()` to release resources held by the other session(s).\n",
      "  warnings.warn('An interactive session is already active. This can '\n"
     ]
    }
   ],
   "source": [
    "co_occuring_concepts = find_similar_concepts(concept,dataset,model,compare_concepts,seed)"
   ]
  },
  {
   "cell_type": "code",
   "execution_count": 19,
   "id": "ef8b8202",
   "metadata": {},
   "outputs": [],
   "source": [
    "co_occuring_concepts_hierarchy = rank_distance_concepts(embedding_method,dataset,concept,\n",
    "                                                                    co_occuring_concepts,seed)"
   ]
  },
  {
   "cell_type": "code",
   "execution_count": 22,
   "id": "6b1fc535",
   "metadata": {},
   "outputs": [
    {
     "data": {
      "text/plain": [
       "['0_color', '6_color', '5_number', '5_color']"
      ]
     },
     "execution_count": 22,
     "metadata": {},
     "output_type": "execute_result"
    }
   ],
   "source": [
    "co_occuring_concepts"
   ]
  },
  {
   "cell_type": "code",
   "execution_count": 21,
   "id": "560783be",
   "metadata": {},
   "outputs": [
    {
     "data": {
      "text/plain": [
       "['0_color', '6_color', '5_number', '5_color']"
      ]
     },
     "execution_count": 21,
     "metadata": {},
     "output_type": "execute_result"
    }
   ],
   "source": [
    "co_occuring_concepts_hierarchy"
   ]
  },
  {
   "cell_type": "code",
   "execution_count": 26,
   "id": "68d0b411",
   "metadata": {},
   "outputs": [
    {
     "data": {
      "text/plain": [
       "1.0"
      ]
     },
     "execution_count": 26,
     "metadata": {},
     "output_type": "execute_result"
    }
   ],
   "source": [
    "stats.kendalltau(co_occuring_concepts,co_occuring_concepts_hierarchy).correlation"
   ]
  },
  {
   "cell_type": "code",
   "execution_count": null,
   "id": "21b5a47e",
   "metadata": {},
   "outputs": [],
   "source": [
    "truthfulness_metric(create_linkage_hierarchy,load_tcav_vectors_simple,\n",
    "                    'mnist',mnist_attributes,[43,44,45])"
   ]
  },
  {
   "cell_type": "code",
   "execution_count": 38,
   "id": "607bd8a7",
   "metadata": {},
   "outputs": [],
   "source": [
    "hierarchy_method = create_linkage_hierarchy\n",
    "embedding_method = load_tcav_vectors_simple\n",
    "dataset = 'mnist'\n",
    "attributes = mnist_attributes[:4]\n",
    "random_seeds = [43,44,45]\n",
    "suffix = '_image_responsiveness'"
   ]
  },
  {
   "cell_type": "code",
   "execution_count": 42,
   "id": "f1fd35ab",
   "metadata": {},
   "outputs": [],
   "source": [
    "baseline_hierarchies = [create_hierarchy(hierarchy_method,embedding_method,dataset,attributes,seed) for seed in random_seeds]\n",
    "robustness_hierarchies = [create_hierarchy(hierarchy_method,embedding_method,dataset+'_image_robustness',attributes,seed) for seed in random_seeds]\n",
    "responsiveness_hierarchies = [create_hierarchy(hierarchy_method,embedding_method,dataset+'_image_responsiveness',attributes,seed) for seed in random_seeds]"
   ]
  },
  {
   "cell_type": "code",
   "execution_count": 43,
   "id": "fc71d9ab",
   "metadata": {},
   "outputs": [
    {
     "data": {
      "text/plain": [
       "4.0"
      ]
     },
     "execution_count": 43,
     "metadata": {},
     "output_type": "execute_result"
    }
   ],
   "source": [
    "responsiveness_hierarchies[0].distance(baseline_hierarchies[0])"
   ]
  },
  {
   "cell_type": "code",
   "execution_count": 44,
   "id": "ece82621",
   "metadata": {},
   "outputs": [
    {
     "data": {
      "text/plain": [
       "4.0"
      ]
     },
     "execution_count": 44,
     "metadata": {},
     "output_type": "execute_result"
    }
   ],
   "source": [
    "robustness_hierarchies[0].distance(baseline_hierarchies[0])"
   ]
  }
 ],
 "metadata": {
  "kernelspec": {
   "display_name": "Python 3 (ipykernel)",
   "language": "python",
   "name": "python3"
  },
  "language_info": {
   "codemirror_mode": {
    "name": "ipython",
    "version": 3
   },
   "file_extension": ".py",
   "mimetype": "text/x-python",
   "name": "python",
   "nbconvert_exporter": "python",
   "pygments_lexer": "ipython3",
   "version": "3.7.12"
  }
 },
 "nbformat": 4,
 "nbformat_minor": 5
}
