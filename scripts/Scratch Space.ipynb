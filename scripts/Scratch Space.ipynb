{
 "cells": [
  {
   "cell_type": "code",
   "execution_count": 1,
   "id": "e83e508c",
   "metadata": {},
   "outputs": [],
   "source": [
    "%load_ext autoreload\n",
    "%autoreload 2"
   ]
  },
  {
   "cell_type": "code",
   "execution_count": 6,
   "id": "b3c42d79",
   "metadata": {},
   "outputs": [],
   "source": [
    "import os\n",
    "os.chdir('../')"
   ]
  },
  {
   "cell_type": "code",
   "execution_count": 9,
   "id": "5d4286b7",
   "metadata": {},
   "outputs": [],
   "source": [
    "import numpy as np\n",
    "import matplotlib.pyplot as plt\n",
    "import scipy\n",
    "from sklearn.manifold import TSNE\n",
    "from sklearn.decomposition import PCA\n",
    "import tcav\n",
    "from src.download_data import download_imagenet, download_random_imagenet_classes"
   ]
  },
  {
   "cell_type": "code",
   "execution_count": 4,
   "id": "2362db64",
   "metadata": {},
   "outputs": [],
   "source": [
    "concepts_wanted = [\"German shepherd\",\"bulldog\",\"Komodo dragon\",\"Gila monster\",\n",
    "                   \"cardinal\",\"woodpecker\",\"sweater\",\"three-piece suit\",\"school\",\"house\"]"
   ]
  },
  {
   "cell_type": "code",
   "execution_count": 7,
   "id": "9bbc06d6",
   "metadata": {},
   "outputs": [
    {
     "name": "stdout",
     "output_type": "stream",
     "text": [
      "INFO:tensorflow:Downloading imagenet_classes ['German shepherd', 'bulldog', 'Komodo dragon', 'Gila monster', 'cardinal', 'woodpecker', 'sweater', 'three-piece suit', 'school', 'house']\n",
      "INFO:tensorflow:Downloading class German shepherd\n",
      "INFO:tensorflow:Fetching imagenet data for German shepherd\n",
      "INFO:tensorflow:Saving images at ./dataset/images/german_shepherd\n",
      "INFO:tensorflow:Downloaded 50 images for German shepherd\n",
      "INFO:tensorflow:Downloading class bulldog\n",
      "INFO:tensorflow:Fetching imagenet data for bulldog\n",
      "INFO:tensorflow:Saving images at ./dataset/images/bulldog\n",
      "INFO:tensorflow:Downloaded 50 images for bulldog\n",
      "INFO:tensorflow:Downloading class Komodo dragon\n",
      "INFO:tensorflow:Fetching imagenet data for Komodo dragon\n",
      "INFO:tensorflow:Saving images at ./dataset/images/komodo_dragon\n",
      "INFO:tensorflow:Downloaded 50 images for Komodo dragon\n",
      "INFO:tensorflow:Downloading class Gila monster\n",
      "INFO:tensorflow:Fetching imagenet data for Gila monster\n",
      "INFO:tensorflow:Saving images at ./dataset/images/gila_monster\n",
      "INFO:tensorflow:Downloaded 50 images for Gila monster\n",
      "INFO:tensorflow:Downloading class cardinal\n",
      "INFO:tensorflow:Fetching imagenet data for cardinal\n",
      "INFO:tensorflow:Saving images at ./dataset/images/cardinal\n",
      "INFO:tensorflow:Downloaded 50 images for cardinal\n",
      "INFO:tensorflow:Downloading class woodpecker\n",
      "INFO:tensorflow:Fetching imagenet data for woodpecker\n",
      "INFO:tensorflow:Saving images at ./dataset/images/woodpecker\n",
      "INFO:tensorflow:Downloaded 50 images for woodpecker\n",
      "INFO:tensorflow:Downloading class sweater\n",
      "INFO:tensorflow:Fetching imagenet data for sweater\n",
      "INFO:tensorflow:Saving images at ./dataset/images/sweater\n",
      "INFO:tensorflow:Downloaded 50 images for sweater\n",
      "INFO:tensorflow:Downloading class three-piece suit\n",
      "INFO:tensorflow:Fetching imagenet data for three-piece suit\n",
      "INFO:tensorflow:Saving images at ./dataset/images/three-piece_suit\n",
      "INFO:tensorflow:Downloaded 50 images for three-piece suit\n",
      "INFO:tensorflow:Downloading class school\n",
      "INFO:tensorflow:Fetching imagenet data for school\n",
      "INFO:tensorflow:Saving images at ./dataset/images/school\n",
      "INFO:tensorflow:Downloaded 50 images for school\n",
      "INFO:tensorflow:Downloading class house\n",
      "INFO:tensorflow:Fetching imagenet data for house\n",
      "INFO:tensorflow:Saving images at ./dataset/images/house\n",
      "INFO:tensorflow:Downloaded 50 images for house\n"
     ]
    }
   ],
   "source": [
    "download_imagenet(concepts_wanted,50)"
   ]
  },
  {
   "cell_type": "code",
   "execution_count": 10,
   "id": "7a19d036",
   "metadata": {},
   "outputs": [
    {
     "name": "stdout",
     "output_type": "stream",
     "text": [
      "INFO:tensorflow:Downloading 20 random ImageNet classes\n",
      "INFO:tensorflow:Downloading class Boston fern\n",
      "INFO:tensorflow:Fetching imagenet data for Boston fern\n",
      "INFO:tensorflow:Saving images at ./dataset/images/random500_0\n",
      "INFO:tensorflow:Downloaded 50 images for Boston fern\n",
      "INFO:tensorflow:Downloading class record player\n",
      "INFO:tensorflow:Fetching imagenet data for record player\n",
      "INFO:tensorflow:Saving images at ./dataset/images/random500_1\n",
      "INFO:tensorflow:Downloaded 50 images for record player\n",
      "INFO:tensorflow:Downloading class Easter egg\n",
      "INFO:tensorflow:Fetching imagenet data for Easter egg\n",
      "INFO:tensorflow:Saving images at ./dataset/images/random500_2\n",
      "INFO:tensorflow:Downloaded 50 images for Easter egg\n",
      "INFO:tensorflow:Downloading class autoinjector\n",
      "INFO:tensorflow:Fetching imagenet data for autoinjector\n",
      "INFO:tensorflow:Saving images at ./dataset/images/random500_3\n",
      "INFO:tensorflow:Downloaded 50 images for autoinjector\n",
      "INFO:tensorflow:Downloading class Texas bluebonnet\n",
      "INFO:tensorflow:Fetching imagenet data for Texas bluebonnet\n",
      "INFO:tensorflow:Saving images at ./dataset/images/random500_4\n",
      "INFO:tensorflow:Downloaded 50 images for Texas bluebonnet\n",
      "INFO:tensorflow:Downloading class nodding groundsel\n",
      "INFO:tensorflow:Fetching imagenet data for nodding groundsel\n",
      "INFO:tensorflow:Saving images at ./dataset/images/random500_5\n",
      "INFO:tensorflow:Downloaded 50 images for nodding groundsel\n",
      "INFO:tensorflow:Downloading class orthochromatic film\n",
      "INFO:tensorflow:Fetching imagenet data for orthochromatic film\n",
      "INFO:tensorflow:Saving images at ./dataset/images/random500_6\n",
      "INFO:tensorflow:Downloaded 50 images for orthochromatic film\n",
      "INFO:tensorflow:Downloading class trough\n",
      "INFO:tensorflow:Fetching imagenet data for trough\n",
      "INFO:tensorflow:Saving images at ./dataset/images/random500_7\n",
      "INFO:tensorflow:Downloaded 50 images for trough\n",
      "INFO:tensorflow:Downloading class mulled cider\n",
      "INFO:tensorflow:Fetching imagenet data for mulled cider\n",
      "INFO:tensorflow:Saving images at ./dataset/images/random500_8\n",
      "INFO:tensorflow:Downloaded 50 images for mulled cider\n",
      "INFO:tensorflow:Downloading class bank martin\n",
      "INFO:tensorflow:Fetching imagenet data for bank martin\n",
      "INFO:tensorflow:Saving images at ./dataset/images/random500_9\n",
      "INFO:tensorflow:Downloaded 50 images for bank martin\n",
      "INFO:tensorflow:Downloading class chaffinch\n",
      "INFO:tensorflow:Fetching imagenet data for chaffinch\n",
      "INFO:tensorflow:Saving images at ./dataset/images/random500_10\n",
      "INFO:tensorflow:Downloaded 50 images for chaffinch\n",
      "INFO:tensorflow:Downloading class primate\n",
      "INFO:tensorflow:Fetching imagenet data for primate\n",
      "INFO:tensorflow:Saving images at ./dataset/images/random500_11\n",
      "INFO:tensorflow:Downloaded 50 images for primate\n",
      "INFO:tensorflow:Downloading class Global Positioning System\n",
      "INFO:tensorflow:Fetching imagenet data for Global Positioning System\n",
      "INFO:tensorflow:Saving images at ./dataset/images/random500_12\n",
      "INFO:tensorflow:Downloaded 50 images for Global Positioning System\n",
      "INFO:tensorflow:Downloading class pineapple\n",
      "INFO:tensorflow:Fetching imagenet data for pineapple\n",
      "INFO:tensorflow:Saving images at ./dataset/images/random500_13\n",
      "INFO:tensorflow:Downloaded 50 images for pineapple\n",
      "INFO:tensorflow:Downloading class diapensia\n",
      "INFO:tensorflow:Fetching imagenet data for diapensia\n",
      "INFO:tensorflow:Saving images at ./dataset/images/random500_14\n",
      "INFO:tensorflow:Downloaded 50 images for diapensia\n",
      "INFO:tensorflow:Downloading class coach\n",
      "INFO:tensorflow:Fetching imagenet data for coach\n",
      "INFO:tensorflow:Saving images at ./dataset/images/random500_15\n",
      "INFO:tensorflow:Downloaded 50 images for coach\n",
      "INFO:tensorflow:Downloading class burn bag\n",
      "INFO:tensorflow:Fetching imagenet data for burn bag\n",
      "INFO:tensorflow:Saving images at ./dataset/images/random500_16\n",
      "INFO:tensorflow:Downloaded 50 images for burn bag\n",
      "INFO:tensorflow:Downloading class althea\n",
      "INFO:tensorflow:Fetching imagenet data for althea\n",
      "INFO:tensorflow:Saving images at ./dataset/images/random500_17\n",
      "INFO:tensorflow:Downloaded 50 images for althea\n",
      "INFO:tensorflow:Downloading class earless seal\n",
      "INFO:tensorflow:Fetching imagenet data for earless seal\n",
      "INFO:tensorflow:Saving images at ./dataset/images/random500_18\n",
      "INFO:tensorflow:Downloaded 50 images for earless seal\n",
      "INFO:tensorflow:Downloading class John Dory\n",
      "INFO:tensorflow:Fetching imagenet data for John Dory\n",
      "INFO:tensorflow:Saving images at ./dataset/images/random500_19\n",
      "INFO:tensorflow:Downloaded 50 images for John Dory\n"
     ]
    }
   ],
   "source": [
    "download_random_imagenet_classes(20,50)"
   ]
  },
  {
   "cell_type": "markdown",
   "id": "fb1a71a2",
   "metadata": {},
   "source": [
    "# Plotting the dimensionality reduced data"
   ]
  },
  {
   "cell_type": "code",
   "execution_count": 2,
   "id": "5539708b",
   "metadata": {},
   "outputs": [],
   "source": [
    "def plot_tsne(data,colors): \n",
    "    X_embedded = TSNE(n_components=2, learning_rate='auto',\n",
    "                  init='random', perplexity=3).fit_transform(data)\n",
    "        \n",
    "    plt.scatter(X_embedded[:,0],X_embedded[:,1],c=colors)"
   ]
  },
  {
   "cell_type": "code",
   "execution_count": 3,
   "id": "a90210e1",
   "metadata": {},
   "outputs": [],
   "source": [
    "def plot_PCA(data,colors): \n",
    "    X_embedded = PCA(n_components=2).fit_transform(data)\n",
    "        \n",
    "    plt.scatter(X_embedded[:,0],X_embedded[:,1],c=colors)"
   ]
  },
  {
   "cell_type": "code",
   "execution_count": 4,
   "id": "b6246c21",
   "metadata": {},
   "outputs": [],
   "source": [
    "X = np.array([[0, 0, 0], [0, 1, 1], [1, 0, 1], [1, 1, 1]])\n",
    "colors = ['r','r','b','b']"
   ]
  },
  {
   "cell_type": "code",
   "execution_count": 5,
   "id": "9d8d0df6",
   "metadata": {},
   "outputs": [
    {
     "data": {
      "image/png": "[encoded data removed]",
      "text/plain": [
       "<Figure size 640x480 with 1 Axes>"
      ]
     },
     "metadata": {},
     "output_type": "display_data"
    }
   ],
   "source": [
    "plot_tsne(X,colors)"
   ]
  },
  {
   "cell_type": "code",
   "execution_count": 6,
   "id": "b3664f50",
   "metadata": {},
   "outputs": [
    {
     "data": {
      "image/png": "[encoded data removed]",
      "text/plain": [
       "<Figure size 640x480 with 1 Axes>"
      ]
     },
     "metadata": {},
     "output_type": "display_data"
    }
   ],
   "source": [
    "plot_PCA(X,colors)"
   ]
  },
  {
   "cell_type": "code",
   "execution_count": null,
   "id": "f26bf151",
   "metadata": {},
   "outputs": [],
   "source": []
  }
 ],
 "metadata": {
  "kernelspec": {
   "display_name": "Python 3 (ipykernel)",
   "language": "python",
   "name": "python3"
  },
  "language_info": {
   "codemirror_mode": {
    "name": "ipython",
    "version": 3
   },
   "file_extension": ".py",
   "mimetype": "text/x-python",
   "name": "python",
   "nbconvert_exporter": "python",
   "pygments_lexer": "ipython3",
   "version": "3.7.10"
  }
 },
 "nbformat": 4,
 "nbformat_minor": 5
}
