{
 "cells": [
  {
   "cell_type": "code",
   "execution_count": 1,
   "id": "e83e508c",
   "metadata": {},
   "outputs": [],
   "source": [
    "%load_ext autoreload\n",
    "%autoreload 2\n",
    "%matplotlib notebook"
   ]
  },
  {
   "cell_type": "code",
   "execution_count": 2,
   "id": "b3c42d79",
   "metadata": {},
   "outputs": [],
   "source": [
    "import os\n",
    "os.chdir('../')"
   ]
  },
  {
   "cell_type": "code",
   "execution_count": 3,
   "id": "5d4286b7",
   "metadata": {},
   "outputs": [
    {
     "name": "stderr",
     "output_type": "stream",
     "text": [
      "2023-01-04 22:25:47.198727: I tensorflow/core/platform/cpu_feature_guard.cc:193] This TensorFlow binary is optimized with oneAPI Deep Neural Network Library (oneDNN) to use the following CPU instructions in performance-critical operations:  SSE4.1 SSE4.2 AVX FMA\n",
      "To enable them in other operations, rebuild TensorFlow with the appropriate compiler flags.\n"
     ]
    }
   ],
   "source": [
    "import numpy as np\n",
    "import matplotlib.pyplot as plt\n",
    "import scipy\n",
    "from sklearn.manifold import TSNE\n",
    "from sklearn.decomposition import PCA\n",
    "import tcav\n",
    "from src.download_data import download_imagenet, download_random_imagenet_classes\n",
    "import pickle\n",
    "from src.dataset import *\n",
    "from src.concept_vectors import *\n",
    "from src.util import *\n",
    "import random\n",
    "from src.plots import *\n",
    "from sklearn.manifold import TSNE\n",
    "from scipy.spatial.distance import cosine \n",
    "import pandas as pd\n",
    "from sklearn.datasets import make_moons\n",
    "import matplotlib.pyplot as plt\n",
    "from scipy.cluster.hierarchy import dendrogram, linkage\n",
    "from sklearn.cluster import AgglomerativeClustering\n",
    "from sklearn.datasets import make_blobs\n",
    "from src.hierarchy import *"
   ]
  },
  {
   "cell_type": "code",
   "execution_count": 57,
   "id": "12f1609f",
   "metadata": {},
   "outputs": [
    {
     "name": "stderr",
     "output_type": "stream",
     "text": [
      "/auto/homes/njr61/environments/mambaforge/envs/concepts/lib/python3.7/site-packages/tensorflow/python/client/session.py:1769: UserWarning: An interactive session is already active. This can cause out-of-memory errors in some cases. You must explicitly call `InteractiveSession.close()` to release resources held by the other session(s).\n",
      "  warnings.warn('An interactive session is already active. This can '\n"
     ]
    },
    {
     "name": "stdout",
     "output_type": "stream",
     "text": [
      "INFO:tensorflow:mixed4c ['0_number', 'random500_0'] zebra 0.1\n",
      "INFO:tensorflow:mixed4c ['0_number', 'random500_1'] zebra 0.1\n",
      "INFO:tensorflow:mixed4c ['random500_0', 'random500_1'] zebra 0.1\n",
      "INFO:tensorflow:mixed4c ['random500_1', 'random500_0'] zebra 0.1\n",
      "INFO:tensorflow:TCAV will 4 params\n",
      "INFO:tensorflow:mixed4c ['0_number', 'random500_0'] zebra 0.1\n",
      "INFO:tensorflow:mixed4c ['0_number', 'random500_1'] zebra 0.1\n",
      "Pairs to test [('zebra', ['0_number', 'random500_0']), ('zebra', ['0_number', 'random500_1'])]\n",
      "Params [<tcav.run_params.RunParams object at 0x7f60f2bba990>, <tcav.run_params.RunParams object at 0x7f60eebc75d0>]\n",
      "INFO:tensorflow:running 2 params\n",
      "INFO:tensorflow:Running param 0 of 2\n",
      "INFO:tensorflow:running zebra ['0_number', 'random500_0']\n",
      "INFO:tensorflow:Loaded ./results/activations/acts_0_number_mixed4c shape (100, 14, 14, 512)\n",
      "INFO:tensorflow:Loaded ./results/activations/acts_random500_0_mixed4c shape (10, 14, 14, 512)\n",
      "INFO:tensorflow:Loaded ./results/activations/acts_zebra_mixed4c shape (5, 14, 14, 512)\n",
      "INFO:tensorflow:Training CAV ['0_number', 'random500_0'] - mixed4c alpha 0.1\n",
      "INFO:tensorflow:training with alpha=0.1\n",
      "INFO:tensorflow:acc per class {'0_number': 0.6666666666666666, 'random500_0': 0.5, 'overall': 0.5714285714285714}\n",
      "INFO:tensorflow:CAV accuracies: {'0_number': 0.6666666666666666, 'random500_0': 0.5, 'overall': 0.5714285714285714}\n",
      "INFO:tensorflow:Running param 1 of 2\n",
      "INFO:tensorflow:running zebra ['0_number', 'random500_1']\n",
      "INFO:tensorflow:Loaded ./results/activations/acts_0_number_mixed4c shape (100, 14, 14, 512)\n",
      "INFO:tensorflow:Loaded ./results/activations/acts_random500_1_mixed4c shape (10, 14, 14, 512)\n",
      "INFO:tensorflow:Loaded ./results/activations/acts_zebra_mixed4c shape (5, 14, 14, 512)\n",
      "INFO:tensorflow:Training CAV ['0_number', 'random500_1'] - mixed4c alpha 0.1\n",
      "INFO:tensorflow:training with alpha=0.1\n",
      "INFO:tensorflow:acc per class {'0_number': 1.0, 'random500_1': 1.0, 'overall': 1.0}\n",
      "INFO:tensorflow:CAV accuracies: {'0_number': 1.0, 'random500_1': 1.0, 'overall': 1.0}\n",
      "INFO:tensorflow:Done running 2 params. Took 3.931093454360962 seconds...\n"
     ]
    }
   ],
   "source": [
    "create_tcav_mnist(\"0_number\",2)"
   ]
  },
  {
   "cell_type": "code",
   "execution_count": 58,
   "id": "c4019391",
   "metadata": {},
   "outputs": [
    {
     "data": {
      "text/plain": [
       "2247.426571042138"
      ]
     },
     "execution_count": 58,
     "metadata": {},
     "output_type": "execute_result"
    }
   ],
   "source": [
    "np.linalg.norm(load_tcav_vectors(\"0_number\",[\"mixed4c\"])[0])"
   ]
  },
  {
   "cell_type": "code",
   "execution_count": null,
   "id": "b53390d7",
   "metadata": {},
   "outputs": [],
   "source": []
  }
 ],
 "metadata": {
  "kernelspec": {
   "display_name": "Python 3 (ipykernel)",
   "language": "python",
   "name": "python3"
  },
  "language_info": {
   "codemirror_mode": {
    "name": "ipython",
    "version": 3
   },
   "file_extension": ".py",
   "mimetype": "text/x-python",
   "name": "python",
   "nbconvert_exporter": "python",
   "pygments_lexer": "ipython3",
   "version": "3.7.12"
  }
 },
 "nbformat": 4,
 "nbformat_minor": 5
}
