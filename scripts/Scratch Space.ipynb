{
 "cells": [
  {
   "cell_type": "code",
   "execution_count": 1,
   "id": "e83e508c",
   "metadata": {},
   "outputs": [],
   "source": [
    "%load_ext autoreload\n",
    "%autoreload 2\n",
    "%matplotlib notebook"
   ]
  },
  {
   "cell_type": "code",
   "execution_count": 2,
   "id": "b3c42d79",
   "metadata": {},
   "outputs": [],
   "source": [
    "import os\n",
    "os.chdir('../')\n",
    "os.environ[\"CUDA_VISIBLE_DEVICES\"]=\"2\""
   ]
  },
  {
   "cell_type": "code",
   "execution_count": 3,
   "id": "5d4286b7",
   "metadata": {
    "scrolled": true
   },
   "outputs": [
    {
     "name": "stderr",
     "output_type": "stream",
     "text": [
      "2023-04-28 19:43:12.815023: I tensorflow/core/platform/cpu_feature_guard.cc:193] This TensorFlow binary is optimized with oneAPI Deep Neural Network Library (oneDNN) to use the following CPU instructions in performance-critical operations:  SSE4.1 SSE4.2 AVX AVX2 FMA\n",
      "To enable them in other operations, rebuild TensorFlow with the appropriate compiler flags.\n"
     ]
    }
   ],
   "source": [
    "import numpy as np\n",
    "import matplotlib.pyplot as plt\n",
    "import random\n",
    "from src.dataset import *\n",
    "from src.concept_vectors import *\n",
    "from src.util import *\n",
    "from src.plots import *\n",
    "from src.hierarchy import *\n",
    "from src.metrics import *\n",
    "from src.models import * \n",
    "from src.create_vectors import *"
   ]
  },
  {
   "cell_type": "code",
   "execution_count": 4,
   "id": "ae96cc69",
   "metadata": {},
   "outputs": [],
   "source": [
    "import numpy as np\n",
    "import tensorflow as tf\n",
    "from tensorflow import keras\n",
    "from tensorflow.keras import layers\n",
    "from PIL import Image, ImageOps\n",
    "import pickle\n",
    "import sklearn\n",
    "import pandas as pd\n",
    "from keras.applications.vgg16 import VGG16\n",
    "from keras.preprocessing.image import ImageDataGenerator\n",
    "from keras.models import Model\n",
    "from keras.layers import Dense, Flatten\n",
    "from keras.optimizers import Adam\n",
    "from tensorflow.compat.v1 import ConfigProto\n",
    "from tensorflow.compat.v1 import InteractiveSession\n",
    "from scipy.spatial.distance import cdist\n"
   ]
  },
  {
   "cell_type": "code",
   "execution_count": 5,
   "id": "5d784f8d",
   "metadata": {},
   "outputs": [],
   "source": [
    "dataset = DSprites_Dataset()"
   ]
  },
  {
   "cell_type": "code",
   "execution_count": 6,
   "id": "6067e7b4",
   "metadata": {},
   "outputs": [
    {
     "data": {
      "text/plain": [
       "{'id': 92997,\n",
       " 'img_path': 'dsprites/images/92997.png',\n",
       " 'class_label': 26,\n",
       " 'attribute_label': [1, 1, 0, 0, 0, 0, 1, 0, 0, 0, 0, 1, 0, 0, 0, 1, 1, 0]}"
      ]
     },
     "execution_count": 6,
     "metadata": {},
     "output_type": "execute_result"
    }
   ],
   "source": [
    "dataset.get_data()[-1]"
   ]
  },
  {
   "cell_type": "code",
   "execution_count": 17,
   "id": "4cb54dac",
   "metadata": {},
   "outputs": [],
   "source": [
    "dataset.create_gaussian()"
   ]
  },
  {
   "cell_type": "code",
   "execution_count": 18,
   "id": "5fd71ffb",
   "metadata": {},
   "outputs": [],
   "source": [
    "dataset.create_junk()"
   ]
  },
  {
   "cell_type": "code",
   "execution_count": 19,
   "id": "b1084ec2",
   "metadata": {},
   "outputs": [
    {
     "data": {
      "text/plain": [
       "array([[0, 0, 0, ..., 0, 1, 0]])"
      ]
     },
     "execution_count": 19,
     "metadata": {},
     "output_type": "execute_result"
    }
   ],
   "source": [
    "load_label_vectors_simple(dataset.get_attributes()[0],dataset,\"\",seed=43)"
   ]
  },
  {
   "cell_type": "code",
   "execution_count": 16,
   "id": "e75a9c35",
   "metadata": {},
   "outputs": [
    {
     "data": {
      "text/plain": [
       "6000"
      ]
     },
     "execution_count": 16,
     "metadata": {},
     "output_type": "execute_result"
    }
   ],
   "source": [
    "len(glob.glob(dataset.all_files))"
   ]
  },
  {
   "cell_type": "code",
   "execution_count": 15,
   "id": "e51185c9",
   "metadata": {},
   "outputs": [
    {
     "data": {
      "text/plain": [
       "'dataset/chexpert/images/*/study1/*.jpg'"
      ]
     },
     "execution_count": 15,
     "metadata": {},
     "output_type": "execute_result"
    }
   ],
   "source": [
    "dataset.all_files"
   ]
  },
  {
   "cell_type": "code",
   "execution_count": 6,
   "id": "0c46f1e9",
   "metadata": {},
   "outputs": [],
   "source": [
    "model_name = \"VGG16\""
   ]
  },
  {
   "cell_type": "code",
   "execution_count": 8,
   "id": "b93a0f6f",
   "metadata": {},
   "outputs": [],
   "source": [
    "gpus = tf.config.experimental.list_physical_devices('GPU')\n",
    "if gpus:\n",
    "    try:\n",
    "        tf.config.experimental.set_virtual_device_configuration(\n",
    "            gpus[0],\n",
    "            [tf.config.experimental.VirtualDeviceConfiguration(memory_limit=4096)]\n",
    "        )\n",
    "    except RuntimeError as e:\n",
    "        print(e)\n",
    "else:\n",
    "    print(\"No GPus\")\n"
   ]
  },
  {
   "cell_type": "code",
   "execution_count": 27,
   "id": "0f89f78c",
   "metadata": {},
   "outputs": [],
   "source": [
    "export_concept_vector(load_tcav_vectors_simple,\"tcav\",dataset,[43,44,45])"
   ]
  },
  {
   "cell_type": "markdown",
   "id": "3dea584f",
   "metadata": {},
   "source": [
    "## Train large Chexpert models"
   ]
  },
  {
   "cell_type": "code",
   "execution_count": null,
   "id": "4e15ffab",
   "metadata": {},
   "outputs": [
    {
     "name": "stderr",
     "output_type": "stream",
     "text": [
      "2023-04-28 18:06:21.413034: I tensorflow/core/platform/cpu_feature_guard.cc:193] This TensorFlow binary is optimized with oneAPI Deep Neural Network Library (oneDNN) to use the following CPU instructions in performance-critical operations:  SSE4.1 SSE4.2 AVX AVX2 FMA\n",
      "To enable them in other operations, rebuild TensorFlow with the appropriate compiler flags.\n",
      "2023-04-28 18:06:29.092431: I tensorflow/core/common_runtime/gpu/gpu_device.cc:1616] Created device /job:localhost/replica:0/task:0/device:GPU:0 with 2048 MB memory:  -> device: 0, name: NVIDIA TITAN Xp, pci bus id: 0000:03:00.0, compute capability: 6.1\n",
      "/auto/homes/njr61/environments/mambaforge/envs/concepts/lib/python3.7/site-packages/keras/optimizers/optimizer_v2/adam.py:114: UserWarning: The `lr` argument is deprecated, use `learning_rate` instead.\n",
      "  super().__init__(name, **kwargs)\n"
     ]
    },
    {
     "name": "stdout",
     "output_type": "stream",
     "text": [
      "Seed 42 suffix \n",
      "Found 2500 validated image filenames belonging to 100 classes.\n",
      "Generated dataset, now training model\n",
      "Train generator 79\n",
      "2500\n",
      "dataset/dsprites/images/162426.png\n",
      "Epoch 1/25\n"
     ]
    },
    {
     "name": "stderr",
     "output_type": "stream",
     "text": [
      "2023-04-28 18:06:41.017012: I tensorflow/stream_executor/cuda/cuda_dnn.cc:384] Loaded cuDNN version 8401\n",
      "2023-04-28 18:06:49.120330: W tensorflow/stream_executor/gpu/asm_compiler.cc:111] *** WARNING *** You are using ptxas 10.1.243, which is older than 11.1. ptxas before 11.1 is known to miscompile XLA code, leading to incorrect results or invalid-address errors.\n",
      "\n",
      "You may not need to update to CUDA 11.1; cherry-picking the ptxas binary is often sufficient.\n",
      "2023-04-28 18:06:49.387604: W tensorflow/core/common_runtime/bfc_allocator.cc:290] Allocator (GPU_0_bfc) ran out of memory trying to allocate 939.37MiB with freed_by_count=0. The caller indicates that this is not a failure, but this may mean that there could be performance gains if more memory were available.\n",
      "2023-04-28 18:06:49.450515: W tensorflow/core/common_runtime/bfc_allocator.cc:290] Allocator (GPU_0_bfc) ran out of memory trying to allocate 1.02GiB with freed_by_count=0. The caller indicates that this is not a failure, but this may mean that there could be performance gains if more memory were available.\n",
      "2023-04-28 18:06:49.578878: W tensorflow/core/common_runtime/bfc_allocator.cc:290] Allocator (GPU_0_bfc) ran out of memory trying to allocate 1.74GiB with freed_by_count=0. The caller indicates that this is not a failure, but this may mean that there could be performance gains if more memory were available.\n",
      "2023-04-28 18:06:49.795884: W tensorflow/core/common_runtime/bfc_allocator.cc:290] Allocator (GPU_0_bfc) ran out of memory trying to allocate 3.46GiB with freed_by_count=0. The caller indicates that this is not a failure, but this may mean that there could be performance gains if more memory were available.\n",
      "2023-04-28 18:06:49.795978: W tensorflow/core/common_runtime/bfc_allocator.cc:290] Allocator (GPU_0_bfc) ran out of memory trying to allocate 3.46GiB with freed_by_count=0. The caller indicates that this is not a failure, but this may mean that there could be performance gains if more memory were available.\n",
      "2023-04-28 18:06:49.831149: W tensorflow/core/common_runtime/bfc_allocator.cc:290] Allocator (GPU_0_bfc) ran out of memory trying to allocate 3.04GiB with freed_by_count=0. The caller indicates that this is not a failure, but this may mean that there could be performance gains if more memory were available.\n",
      "2023-04-28 18:06:50.164497: W tensorflow/core/common_runtime/bfc_allocator.cc:290] Allocator (GPU_0_bfc) ran out of memory trying to allocate 1.29GiB with freed_by_count=0. The caller indicates that this is not a failure, but this may mean that there could be performance gains if more memory were available.\n",
      "2023-04-28 18:06:50.349472: W tensorflow/core/common_runtime/bfc_allocator.cc:290] Allocator (GPU_0_bfc) ran out of memory trying to allocate 1.74GiB with freed_by_count=0. The caller indicates that this is not a failure, but this may mean that there could be performance gains if more memory were available.\n",
      "2023-04-28 18:06:50.349553: W tensorflow/core/common_runtime/bfc_allocator.cc:290] Allocator (GPU_0_bfc) ran out of memory trying to allocate 1.74GiB with freed_by_count=0. The caller indicates that this is not a failure, but this may mean that there could be performance gains if more memory were available.\n",
      "2023-04-28 18:06:50.405728: W tensorflow/core/common_runtime/bfc_allocator.cc:290] Allocator (GPU_0_bfc) ran out of memory trying to allocate 2.55GiB with freed_by_count=0. The caller indicates that this is not a failure, but this may mean that there could be performance gains if more memory were available.\n"
     ]
    },
    {
     "name": "stdout",
     "output_type": "stream",
     "text": [
      "79/79 [==============================] - 32s 171ms/step - loss: 1.3911 - accuracy: 0.7328\n",
      "Epoch 2/25\n",
      "79/79 [==============================] - 7s 89ms/step - loss: 0.1300 - accuracy: 0.9632\n",
      "Epoch 3/25\n",
      "79/79 [==============================] - 7s 86ms/step - loss: 0.1663 - accuracy: 0.9504\n",
      "Epoch 4/25\n",
      "79/79 [==============================] - 7s 84ms/step - loss: 0.0677 - accuracy: 0.9788\n",
      "Epoch 5/25\n",
      "79/79 [==============================] - 7s 83ms/step - loss: 0.0296 - accuracy: 0.9940\n",
      "Epoch 6/25\n",
      "79/79 [==============================] - 7s 88ms/step - loss: 0.0237 - accuracy: 0.9936\n",
      "Epoch 7/25\n",
      "79/79 [==============================] - 7s 84ms/step - loss: 0.0198 - accuracy: 0.9952\n",
      "Epoch 8/25\n",
      "79/79 [==============================] - 7s 83ms/step - loss: 0.0091 - accuracy: 0.9984\n",
      "Epoch 9/25\n",
      "79/79 [==============================] - 7s 83ms/step - loss: 0.0072 - accuracy: 1.0000\n",
      "Epoch 10/25\n",
      "79/79 [==============================] - 7s 84ms/step - loss: 0.0232 - accuracy: 0.9932\n",
      "Epoch 11/25\n",
      "79/79 [==============================] - 7s 87ms/step - loss: 0.0152 - accuracy: 0.9964\n",
      "Epoch 12/25\n",
      "79/79 [==============================] - 7s 87ms/step - loss: 0.0062 - accuracy: 1.0000\n",
      "Epoch 13/25\n",
      "79/79 [==============================] - 7s 83ms/step - loss: 0.2704 - accuracy: 0.9404\n",
      "Epoch 14/25\n",
      "79/79 [==============================] - 7s 85ms/step - loss: 0.0302 - accuracy: 0.9916\n",
      "Epoch 15/25\n",
      "79/79 [==============================] - 7s 83ms/step - loss: 0.0092 - accuracy: 0.9984\n",
      "Epoch 16/25\n",
      "79/79 [==============================] - 7s 83ms/step - loss: 0.0171 - accuracy: 0.9964\n",
      "Epoch 17/25\n",
      "79/79 [==============================] - 7s 85ms/step - loss: 0.0194 - accuracy: 0.9936\n",
      "Epoch 18/25\n",
      "79/79 [==============================] - 7s 87ms/step - loss: 0.0086 - accuracy: 0.9992\n",
      "Epoch 19/25\n",
      "79/79 [==============================] - 7s 87ms/step - loss: 0.0347 - accuracy: 0.9892\n",
      "Epoch 20/25\n",
      "79/79 [==============================] - 7s 83ms/step - loss: 0.0040 - accuracy: 0.9996\n",
      "Epoch 21/25\n",
      "79/79 [==============================] - 7s 84ms/step - loss: 0.0113 - accuracy: 0.9964\n",
      "Epoch 22/25\n",
      "56/79 [====================>.........] - ETA: 2s - loss: 0.0027 - accuracy: 1.0000"
     ]
    }
   ],
   "source": [
    "train_large_image_model(dataset,model_name,\"\",seed=42)"
   ]
  },
  {
   "cell_type": "code",
   "execution_count": 9,
   "id": "bc398947",
   "metadata": {},
   "outputs": [
    {
     "name": "stdout",
     "output_type": "stream",
     "text": [
      "44 \n"
     ]
    },
    {
     "name": "stderr",
     "output_type": "stream",
     "text": [
      "2023-04-28 19:44:12.645453: I tensorflow/core/platform/cpu_feature_guard.cc:193] This TensorFlow binary is optimized with oneAPI Deep Neural Network Library (oneDNN) to use the following CPU instructions in performance-critical operations:  SSE4.1 SSE4.2 AVX AVX2 FMA\n",
      "To enable them in other operations, rebuild TensorFlow with the appropriate compiler flags.\n",
      "2023-04-28 19:44:14.051216: I tensorflow/core/common_runtime/gpu/gpu_device.cc:1616] Created device /job:localhost/replica:0/task:0/device:GPU:0 with 4096 MB memory:  -> device: 0, name: NVIDIA TITAN Xp, pci bus id: 0000:82:00.0, compute capability: 6.1\n",
      "/auto/homes/njr61/environments/mambaforge/envs/concepts/lib/python3.7/site-packages/keras/optimizers/optimizer_v2/adam.py:114: UserWarning: The `lr` argument is deprecated, use `learning_rate` instead.\n",
      "  super().__init__(name, **kwargs)\n"
     ]
    },
    {
     "name": "stdout",
     "output_type": "stream",
     "text": [
      "Seed 44 suffix \n",
      "Found 2500 validated image filenames belonging to 100 classes.\n",
      "Generated dataset, now training model\n",
      "Train generator 79\n",
      "2500\n",
      "dataset/dsprites/images/562387.png\n",
      "Epoch 1/25\n"
     ]
    },
    {
     "name": "stderr",
     "output_type": "stream",
     "text": [
      "2023-04-28 19:44:24.249149: I tensorflow/stream_executor/cuda/cuda_dnn.cc:384] Loaded cuDNN version 8401\n",
      "2023-04-28 19:44:25.327428: W tensorflow/stream_executor/gpu/asm_compiler.cc:111] *** WARNING *** You are using ptxas 10.1.243, which is older than 11.1. ptxas before 11.1 is known to miscompile XLA code, leading to incorrect results or invalid-address errors.\n",
      "\n",
      "You may not need to update to CUDA 11.1; cherry-picking the ptxas binary is often sufficient.\n",
      "2023-04-28 19:44:25.865554: W tensorflow/core/common_runtime/bfc_allocator.cc:290] Allocator (GPU_0_bfc) ran out of memory trying to allocate 3.46GiB with freed_by_count=0. The caller indicates that this is not a failure, but this may mean that there could be performance gains if more memory were available.\n",
      "2023-04-28 19:44:25.865862: W tensorflow/core/common_runtime/bfc_allocator.cc:290] Allocator (GPU_0_bfc) ran out of memory trying to allocate 3.46GiB with freed_by_count=0. The caller indicates that this is not a failure, but this may mean that there could be performance gains if more memory were available.\n",
      "2023-04-28 19:44:25.910926: W tensorflow/core/common_runtime/bfc_allocator.cc:290] Allocator (GPU_0_bfc) ran out of memory trying to allocate 3.04GiB with freed_by_count=0. The caller indicates that this is not a failure, but this may mean that there could be performance gains if more memory were available.\n"
     ]
    },
    {
     "name": "stdout",
     "output_type": "stream",
     "text": [
      "79/79 [==============================] - 14s 102ms/step - loss: 1.5661 - accuracy: 0.7096\n",
      "Epoch 2/25\n",
      "79/79 [==============================] - 9s 107ms/step - loss: 0.1186 - accuracy: 0.9568\n",
      "Epoch 3/25\n",
      "79/79 [==============================] - 8s 103ms/step - loss: 0.0429 - accuracy: 0.9900\n",
      "Epoch 4/25\n",
      "79/79 [==============================] - 8s 103ms/step - loss: 0.0373 - accuracy: 0.9904\n",
      "Epoch 5/25\n",
      "79/79 [==============================] - 9s 115ms/step - loss: 0.0327 - accuracy: 0.9932\n",
      "Epoch 6/25\n",
      "79/79 [==============================] - 8s 104ms/step - loss: 0.0190 - accuracy: 0.9968\n",
      "Epoch 7/25\n",
      "79/79 [==============================] - 9s 115ms/step - loss: 0.0243 - accuracy: 0.9916\n",
      "Epoch 8/25\n",
      "79/79 [==============================] - 8s 104ms/step - loss: 0.0271 - accuracy: 0.9928\n",
      "Epoch 9/25\n",
      "79/79 [==============================] - 8s 99ms/step - loss: 0.1056 - accuracy: 0.9660\n",
      "Epoch 10/25\n",
      "79/79 [==============================] - 8s 104ms/step - loss: 0.1888 - accuracy: 0.9496\n",
      "Epoch 11/25\n",
      "79/79 [==============================] - 8s 98ms/step - loss: 0.0213 - accuracy: 0.9932\n",
      "Epoch 12/25\n",
      "79/79 [==============================] - 8s 104ms/step - loss: 0.0271 - accuracy: 0.9908\n",
      "Epoch 13/25\n",
      "79/79 [==============================] - 8s 100ms/step - loss: 0.0528 - accuracy: 0.9836\n",
      "Epoch 14/25\n",
      "79/79 [==============================] - 8s 102ms/step - loss: 0.0160 - accuracy: 0.9940\n",
      "Epoch 15/25\n",
      "79/79 [==============================] - 8s 99ms/step - loss: 0.0025 - accuracy: 1.0000\n",
      "Epoch 16/25\n",
      "79/79 [==============================] - 8s 95ms/step - loss: 0.0016 - accuracy: 1.0000\n",
      "Epoch 17/25\n",
      "79/79 [==============================] - 8s 105ms/step - loss: 9.4492e-04 - accuracy: 1.0000\n",
      "Epoch 18/25\n",
      "79/79 [==============================] - 8s 100ms/step - loss: 9.9782e-04 - accuracy: 1.0000\n",
      "Epoch 19/25\n",
      "79/79 [==============================] - 8s 95ms/step - loss: 9.9999e-04 - accuracy: 1.0000\n",
      "Epoch 20/25\n",
      "79/79 [==============================] - 8s 98ms/step - loss: 6.9344e-04 - accuracy: 1.0000\n",
      "Epoch 21/25\n",
      "79/79 [==============================] - 8s 96ms/step - loss: 6.0634e-04 - accuracy: 1.0000\n",
      "Epoch 22/25\n",
      "79/79 [==============================] - 9s 114ms/step - loss: 0.0490 - accuracy: 0.9884\n",
      "Epoch 23/25\n",
      "79/79 [==============================] - 11s 129ms/step - loss: 0.1369 - accuracy: 0.9628\n",
      "Epoch 24/25\n",
      "79/79 [==============================] - 11s 131ms/step - loss: 0.0642 - accuracy: 0.9796\n",
      "Epoch 25/25\n",
      "79/79 [==============================] - 9s 117ms/step - loss: 0.0282 - accuracy: 0.9916\n",
      "44 _image_robustness\n",
      "Seed 44 suffix _image_robustness\n",
      "Found 2500 validated image filenames belonging to 100 classes.\n",
      "Generated dataset, now training model\n",
      "Train generator 79\n",
      "2500\n",
      "dataset/dsprites_image_robustness/images/562387.png\n",
      "Epoch 1/25\n",
      "79/79 [==============================] - 11s 125ms/step - loss: 1.7228 - accuracy: 0.6676\n",
      "Epoch 2/25\n",
      "79/79 [==============================] - 10s 125ms/step - loss: 0.2148 - accuracy: 0.9168\n",
      "Epoch 3/25\n",
      "79/79 [==============================] - 9s 115ms/step - loss: 0.2509 - accuracy: 0.9296\n",
      "Epoch 4/25\n",
      "79/79 [==============================] - 9s 115ms/step - loss: 0.1112 - accuracy: 0.9600\n",
      "Epoch 5/25\n",
      "79/79 [==============================] - 10s 126ms/step - loss: 0.0639 - accuracy: 0.9800\n",
      "Epoch 6/25\n",
      "79/79 [==============================] - 10s 124ms/step - loss: 0.0588 - accuracy: 0.9788\n",
      "Epoch 7/25\n",
      "79/79 [==============================] - 9s 119ms/step - loss: 0.0689 - accuracy: 0.9736\n",
      "Epoch 8/25\n",
      "79/79 [==============================] - 9s 108ms/step - loss: 0.0122 - accuracy: 0.9976\n",
      "Epoch 9/25\n",
      "79/79 [==============================] - 10s 125ms/step - loss: 0.0091 - accuracy: 0.9992\n",
      "Epoch 10/25\n",
      "79/79 [==============================] - 10s 126ms/step - loss: 0.0055 - accuracy: 0.9996\n",
      "Epoch 11/25\n",
      "79/79 [==============================] - 10s 122ms/step - loss: 0.0042 - accuracy: 1.0000\n",
      "Epoch 12/25\n",
      "79/79 [==============================] - 8s 100ms/step - loss: 0.0036 - accuracy: 1.0000\n",
      "Epoch 13/25\n",
      "79/79 [==============================] - 10s 126ms/step - loss: 0.0027 - accuracy: 1.0000\n",
      "Epoch 14/25\n",
      "79/79 [==============================] - 10s 124ms/step - loss: 0.0024 - accuracy: 1.0000\n",
      "Epoch 15/25\n",
      "79/79 [==============================] - 10s 125ms/step - loss: 0.0023 - accuracy: 1.0000\n",
      "Epoch 16/25\n",
      "79/79 [==============================] - 8s 101ms/step - loss: 0.0023 - accuracy: 1.0000\n",
      "Epoch 17/25\n",
      "79/79 [==============================] - 10s 125ms/step - loss: 0.0023 - accuracy: 1.0000\n",
      "Epoch 18/25\n",
      "79/79 [==============================] - 10s 123ms/step - loss: 0.0016 - accuracy: 1.0000\n",
      "Epoch 19/25\n",
      "79/79 [==============================] - 10s 124ms/step - loss: 0.0015 - accuracy: 1.0000\n",
      "Epoch 20/25\n",
      "79/79 [==============================] - 8s 106ms/step - loss: 0.0013 - accuracy: 1.0000\n",
      "Epoch 21/25\n",
      "79/79 [==============================] - 9s 111ms/step - loss: 0.0013 - accuracy: 1.0000\n",
      "Epoch 22/25\n",
      "79/79 [==============================] - 10s 126ms/step - loss: 0.0011 - accuracy: 1.0000\n",
      "Epoch 23/25\n",
      "79/79 [==============================] - 10s 122ms/step - loss: 0.0011 - accuracy: 1.0000\n",
      "Epoch 24/25\n",
      "79/79 [==============================] - 10s 123ms/step - loss: 9.8593e-04 - accuracy: 1.0000\n",
      "Epoch 25/25\n",
      "79/79 [==============================] - 8s 106ms/step - loss: 9.2883e-04 - accuracy: 1.0000\n",
      "44 _image_responsiveness\n",
      "Seed 44 suffix _image_responsiveness\n",
      "Found 2500 validated image filenames belonging to 100 classes.\n",
      "Generated dataset, now training model\n",
      "Train generator 79\n",
      "2500\n",
      "dataset/dsprites_image_responsiveness/images/562387.png\n",
      "Epoch 1/25\n",
      "79/79 [==============================] - 11s 124ms/step - loss: 3.9426 - accuracy: 0.1212\n",
      "Epoch 2/25\n",
      "79/79 [==============================] - 10s 124ms/step - loss: 2.3486 - accuracy: 0.1980\n",
      "Epoch 3/25\n",
      "79/79 [==============================] - 7s 88ms/step - loss: 2.1400 - accuracy: 0.2764\n",
      "Epoch 4/25\n",
      "79/79 [==============================] - 10s 121ms/step - loss: 1.9735 - accuracy: 0.3144\n",
      "Epoch 5/25\n",
      "79/79 [==============================] - 9s 118ms/step - loss: 1.9284 - accuracy: 0.3564\n",
      "Epoch 6/25\n",
      "79/79 [==============================] - 7s 85ms/step - loss: 1.6394 - accuracy: 0.4308\n",
      "Epoch 7/25\n",
      "79/79 [==============================] - 10s 119ms/step - loss: 1.6621 - accuracy: 0.4264\n",
      "Epoch 8/25\n",
      "79/79 [==============================] - 9s 113ms/step - loss: 1.5292 - accuracy: 0.5088\n",
      "Epoch 9/25\n",
      "79/79 [==============================] - 7s 92ms/step - loss: 1.4967 - accuracy: 0.5020\n",
      "Epoch 10/25\n",
      "79/79 [==============================] - 9s 117ms/step - loss: 1.4307 - accuracy: 0.5512\n",
      "Epoch 11/25\n",
      "79/79 [==============================] - 9s 114ms/step - loss: 1.2965 - accuracy: 0.5720\n",
      "Epoch 12/25\n",
      "79/79 [==============================] - 8s 96ms/step - loss: 1.1667 - accuracy: 0.6440\n",
      "Epoch 13/25\n",
      "79/79 [==============================] - 9s 117ms/step - loss: 1.1355 - accuracy: 0.6496\n",
      "Epoch 14/25\n",
      "79/79 [==============================] - 8s 104ms/step - loss: 1.0707 - accuracy: 0.6772\n",
      "Epoch 15/25\n",
      "79/79 [==============================] - 8s 99ms/step - loss: 1.0574 - accuracy: 0.6644\n",
      "Epoch 16/25\n",
      "79/79 [==============================] - 10s 120ms/step - loss: 0.8669 - accuracy: 0.7396\n",
      "Epoch 17/25\n",
      "79/79 [==============================] - 8s 101ms/step - loss: 0.7119 - accuracy: 0.8268\n",
      "Epoch 18/25\n",
      "79/79 [==============================] - 8s 106ms/step - loss: 0.6612 - accuracy: 0.8328\n",
      "Epoch 19/25\n",
      "79/79 [==============================] - 10s 122ms/step - loss: 0.7037 - accuracy: 0.7888\n",
      "Epoch 20/25\n",
      "79/79 [==============================] - 9s 108ms/step - loss: 0.4893 - accuracy: 0.8848\n",
      "Epoch 21/25\n",
      "79/79 [==============================] - 9s 119ms/step - loss: 0.3837 - accuracy: 0.9276\n",
      "Epoch 22/25\n",
      "79/79 [==============================] - 10s 120ms/step - loss: 0.3317 - accuracy: 0.9472\n",
      "Epoch 23/25\n",
      "79/79 [==============================] - 7s 92ms/step - loss: 0.3479 - accuracy: 0.9280\n",
      "Epoch 24/25\n",
      "79/79 [==============================] - 9s 119ms/step - loss: 0.2687 - accuracy: 0.9544\n",
      "Epoch 25/25\n",
      "79/79 [==============================] - 10s 120ms/step - loss: 0.3608 - accuracy: 0.8988\n",
      "45 \n",
      "Seed 45 suffix \n",
      "Found 2500 validated image filenames belonging to 100 classes.\n",
      "Generated dataset, now training model\n",
      "Train generator 79\n",
      "2500\n",
      "dataset/dsprites/images/555024.png\n",
      "Epoch 1/25\n"
     ]
    },
    {
     "name": "stdout",
     "output_type": "stream",
     "text": [
      "79/79 [==============================] - 10s 113ms/step - loss: 1.2574 - accuracy: 0.7456\n",
      "Epoch 2/25\n",
      "79/79 [==============================] - 10s 126ms/step - loss: 0.1201 - accuracy: 0.9592\n",
      "Epoch 3/25\n",
      "79/79 [==============================] - 10s 123ms/step - loss: 0.1618 - accuracy: 0.9484\n",
      "Epoch 4/25\n",
      "79/79 [==============================] - 9s 108ms/step - loss: 0.0419 - accuracy: 0.9876\n",
      "Epoch 5/25\n",
      "79/79 [==============================] - 7s 91ms/step - loss: 0.0244 - accuracy: 0.9940\n",
      "Epoch 6/25\n",
      "79/79 [==============================] - 8s 106ms/step - loss: 0.0333 - accuracy: 0.9896\n",
      "Epoch 7/25\n",
      "79/79 [==============================] - 9s 107ms/step - loss: 0.0623 - accuracy: 0.9788\n",
      "Epoch 8/25\n",
      "79/79 [==============================] - 9s 111ms/step - loss: 0.0681 - accuracy: 0.9804\n",
      "Epoch 9/25\n",
      "79/79 [==============================] - 9s 108ms/step - loss: 0.0224 - accuracy: 0.9936\n",
      "Epoch 10/25\n",
      "79/79 [==============================] - 9s 112ms/step - loss: 0.0149 - accuracy: 0.9964\n",
      "Epoch 11/25\n",
      "79/79 [==============================] - 7s 90ms/step - loss: 0.0065 - accuracy: 0.9988\n",
      "Epoch 12/25\n",
      "79/79 [==============================] - 9s 111ms/step - loss: 0.0108 - accuracy: 0.9980\n",
      "Epoch 13/25\n",
      "79/79 [==============================] - 9s 111ms/step - loss: 0.0409 - accuracy: 0.9916\n",
      "Epoch 14/25\n",
      "79/79 [==============================] - 9s 114ms/step - loss: 0.0196 - accuracy: 0.9956\n",
      "Epoch 15/25\n",
      "79/79 [==============================] - 9s 109ms/step - loss: 0.0036 - accuracy: 0.9996\n",
      "Epoch 16/25\n",
      "79/79 [==============================] - 9s 115ms/step - loss: 0.0186 - accuracy: 0.9956\n",
      "Epoch 17/25\n",
      "79/79 [==============================] - 7s 89ms/step - loss: 0.0118 - accuracy: 0.9964\n",
      "Epoch 18/25\n",
      "79/79 [==============================] - 9s 109ms/step - loss: 0.0058 - accuracy: 0.9992\n",
      "Epoch 19/25\n",
      "79/79 [==============================] - 9s 108ms/step - loss: 0.0122 - accuracy: 0.9964\n",
      "Epoch 20/25\n",
      "79/79 [==============================] - 9s 107ms/step - loss: 0.0105 - accuracy: 0.9984\n",
      "Epoch 21/25\n",
      "79/79 [==============================] - 9s 108ms/step - loss: 0.2006 - accuracy: 0.9452\n",
      "Epoch 22/25\n",
      "79/79 [==============================] - 9s 110ms/step - loss: 0.2156 - accuracy: 0.9464\n",
      "Epoch 23/25\n",
      "79/79 [==============================] - 7s 90ms/step - loss: 0.0138 - accuracy: 0.9964\n",
      "Epoch 24/25\n",
      "79/79 [==============================] - 8s 94ms/step - loss: 0.0033 - accuracy: 1.0000\n",
      "Epoch 25/25\n",
      "79/79 [==============================] - 8s 101ms/step - loss: 0.0023 - accuracy: 1.0000\n",
      "45 _image_robustness\n",
      "Seed 45 suffix _image_robustness\n",
      "Found 2500 validated image filenames belonging to 100 classes.\n",
      "Generated dataset, now training model\n",
      "Train generator 79\n",
      "2500\n",
      "dataset/dsprites_image_robustness/images/555024.png\n",
      "Epoch 1/25\n",
      "79/79 [==============================] - 9s 109ms/step - loss: 1.7751 - accuracy: 0.6920\n",
      "Epoch 2/25\n",
      "79/79 [==============================] - 8s 106ms/step - loss: 0.1871 - accuracy: 0.9324\n",
      "Epoch 3/25\n",
      "79/79 [==============================] - 7s 88ms/step - loss: 0.2012 - accuracy: 0.9380\n",
      "Epoch 4/25\n",
      "79/79 [==============================] - 9s 110ms/step - loss: 0.0666 - accuracy: 0.9804\n",
      "Epoch 5/25\n",
      "79/79 [==============================] - 9s 112ms/step - loss: 0.0650 - accuracy: 0.9764\n",
      "Epoch 6/25\n",
      "79/79 [==============================] - 9s 112ms/step - loss: 0.0473 - accuracy: 0.9856\n",
      "Epoch 7/25\n",
      "79/79 [==============================] - 9s 110ms/step - loss: 0.0170 - accuracy: 0.9988\n",
      "Epoch 8/25\n",
      "79/79 [==============================] - 9s 109ms/step - loss: 0.0152 - accuracy: 0.9988\n",
      "Epoch 9/25\n",
      "79/79 [==============================] - 8s 98ms/step - loss: 0.0104 - accuracy: 0.9988\n",
      "Epoch 10/25\n",
      "79/79 [==============================] - 8s 98ms/step - loss: 0.0079 - accuracy: 0.9988\n",
      "Epoch 11/25\n",
      "79/79 [==============================] - 9s 109ms/step - loss: 0.0037 - accuracy: 1.0000\n",
      "Epoch 12/25\n",
      "79/79 [==============================] - 9s 115ms/step - loss: 0.0032 - accuracy: 1.0000\n",
      "Epoch 13/25\n",
      "79/79 [==============================] - 9s 111ms/step - loss: 0.0028 - accuracy: 1.0000\n",
      "Epoch 14/25\n",
      "79/79 [==============================] - 9s 108ms/step - loss: 0.0025 - accuracy: 1.0000\n",
      "Epoch 15/25\n",
      "79/79 [==============================] - 8s 98ms/step - loss: 0.0022 - accuracy: 1.0000\n",
      "Epoch 16/25\n",
      "79/79 [==============================] - 8s 97ms/step - loss: 0.0021 - accuracy: 1.0000\n",
      "Epoch 17/25\n",
      "79/79 [==============================] - 9s 116ms/step - loss: 0.0018 - accuracy: 1.0000\n",
      "Epoch 18/25\n",
      "79/79 [==============================] - 9s 113ms/step - loss: 0.0016 - accuracy: 1.0000\n",
      "Epoch 19/25\n",
      "79/79 [==============================] - 9s 116ms/step - loss: 0.0015 - accuracy: 1.0000\n",
      "Epoch 20/25\n",
      "79/79 [==============================] - 9s 110ms/step - loss: 0.0014 - accuracy: 1.0000\n",
      "Epoch 21/25\n",
      "79/79 [==============================] - 7s 91ms/step - loss: 0.0012 - accuracy: 1.0000\n",
      "Epoch 22/25\n",
      "79/79 [==============================] - 7s 90ms/step - loss: 0.0011 - accuracy: 1.0000\n",
      "Epoch 23/25\n",
      "79/79 [==============================] - 7s 91ms/step - loss: 0.0011 - accuracy: 1.0000\n",
      "Epoch 24/25\n",
      "79/79 [==============================] - 7s 90ms/step - loss: 9.5563e-04 - accuracy: 1.0000\n",
      "Epoch 25/25\n",
      "79/79 [==============================] - 10s 120ms/step - loss: 9.0056e-04 - accuracy: 1.0000\n",
      "45 _image_responsiveness\n",
      "Seed 45 suffix _image_responsiveness\n",
      "Found 2500 validated image filenames belonging to 100 classes.\n",
      "Generated dataset, now training model\n",
      "Train generator 79\n",
      "2500\n",
      "dataset/dsprites_image_responsiveness/images/555024.png\n",
      "Epoch 1/25\n",
      "79/79 [==============================] - 10s 111ms/step - loss: 3.7804 - accuracy: 0.1316\n",
      "Epoch 2/25\n",
      "79/79 [==============================] - 9s 111ms/step - loss: 2.3059 - accuracy: 0.2008\n",
      "Epoch 3/25\n",
      "79/79 [==============================] - 7s 87ms/step - loss: 2.1356 - accuracy: 0.2484\n",
      "Epoch 4/25\n",
      "79/79 [==============================] - 8s 97ms/step - loss: 2.0383 - accuracy: 0.2760\n",
      "Epoch 5/25\n",
      "79/79 [==============================] - 7s 84ms/step - loss: 1.9766 - accuracy: 0.3048\n",
      "Epoch 6/25\n",
      "79/79 [==============================] - 7s 83ms/step - loss: 1.8827 - accuracy: 0.3516\n",
      "Epoch 7/25\n",
      "79/79 [==============================] - 8s 95ms/step - loss: 1.8252 - accuracy: 0.3584\n",
      "Epoch 8/25\n",
      "79/79 [==============================] - 9s 115ms/step - loss: 1.7775 - accuracy: 0.3824\n",
      "Epoch 9/25\n",
      "79/79 [==============================] - 8s 101ms/step - loss: 1.6808 - accuracy: 0.4248\n",
      "Epoch 10/25\n",
      "79/79 [==============================] - 7s 82ms/step - loss: 1.5467 - accuracy: 0.4896\n",
      "Epoch 11/25\n",
      "79/79 [==============================] - 10s 120ms/step - loss: 1.4982 - accuracy: 0.5112\n",
      "Epoch 12/25\n",
      "79/79 [==============================] - 9s 115ms/step - loss: 1.4204 - accuracy: 0.5348\n",
      "Epoch 13/25\n",
      "79/79 [==============================] - 7s 84ms/step - loss: 1.3036 - accuracy: 0.5904\n",
      "Epoch 14/25\n",
      "79/79 [==============================] - 9s 107ms/step - loss: 1.1626 - accuracy: 0.6476\n",
      "Epoch 15/25\n",
      "79/79 [==============================] - 9s 116ms/step - loss: 1.0494 - accuracy: 0.6880\n",
      "Epoch 16/25\n",
      "79/79 [==============================] - 7s 90ms/step - loss: 0.9234 - accuracy: 0.7500\n",
      "Epoch 17/25\n",
      "79/79 [==============================] - 8s 94ms/step - loss: 0.9298 - accuracy: 0.7160\n",
      "Epoch 18/25\n",
      "79/79 [==============================] - 9s 118ms/step - loss: 0.8110 - accuracy: 0.7576\n",
      "Epoch 19/25\n",
      "79/79 [==============================] - 8s 101ms/step - loss: 0.6445 - accuracy: 0.8420\n",
      "Epoch 20/25\n",
      "79/79 [==============================] - 8s 94ms/step - loss: 0.6265 - accuracy: 0.8316\n",
      "Epoch 21/25\n",
      "79/79 [==============================] - 9s 116ms/step - loss: 0.5121 - accuracy: 0.8800\n",
      "Epoch 22/25\n",
      "79/79 [==============================] - 9s 112ms/step - loss: 0.4989 - accuracy: 0.8808\n",
      "Epoch 23/25\n",
      "79/79 [==============================] - 7s 83ms/step - loss: 0.3523 - accuracy: 0.9420\n",
      "Epoch 24/25\n",
      "79/79 [==============================] - 8s 99ms/step - loss: 0.3890 - accuracy: 0.9160\n",
      "Epoch 25/25\n",
      "79/79 [==============================] - 9s 115ms/step - loss: 0.2703 - accuracy: 0.9620\n"
     ]
    }
   ],
   "source": [
    "for seed in range(44,46):\n",
    "    for suffix in [\"\",\"_image_robustness\",\"_image_responsiveness\"]:\n",
    "        print(seed,suffix)\n",
    "        train_large_image_model(dataset,model_name,suffix,seed=seed)"
   ]
  },
  {
   "cell_type": "code",
   "execution_count": 10,
   "id": "ae3530e2",
   "metadata": {},
   "outputs": [
    {
     "name": "stdout",
     "output_type": "stream",
     "text": [
      "43 \n",
      "Using directory results/shapley/dsprites/43\n",
      "Found 2500 validated image filenames belonging to 9 classes.\n",
      "79/79 [==============================] - 8s 98ms/step\n"
     ]
    },
    {
     "name": "stderr",
     "output_type": "stream",
     "text": [
      "/auto/homes/njr61/environments/mambaforge/envs/concepts/lib/python3.7/site-packages/numpy/core/fromnumeric.py:3441: RuntimeWarning: Mean of empty slice.\n",
      "  out=out, **kwargs)\n",
      "/auto/homes/njr61/environments/mambaforge/envs/concepts/lib/python3.7/site-packages/numpy/core/_methods.py:189: RuntimeWarning: invalid value encountered in true_divide\n",
      "  ret = ret.dtype.type(ret / rcount)\n"
     ]
    },
    {
     "name": "stdout",
     "output_type": "stream",
     "text": [
      "43 _image_robustness\n",
      "Using directory results/shapley/dsprites_image_robustness/43\n",
      "Found 2500 validated image filenames belonging to 9 classes.\n",
      "79/79 [==============================] - 7s 80ms/step\n",
      "43 _image_responsiveness\n",
      "Using directory results/shapley/dsprites_image_responsiveness/43\n",
      "Found 2500 validated image filenames belonging to 9 classes.\n",
      "79/79 [==============================] - 8s 102ms/step\n",
      "44 \n",
      "Using directory results/shapley/dsprites/44\n",
      "Found 2500 validated image filenames belonging to 9 classes.\n",
      "79/79 [==============================] - 8s 102ms/step\n",
      "44 _image_robustness\n",
      "Using directory results/shapley/dsprites_image_robustness/44\n",
      "Found 2500 validated image filenames belonging to 9 classes.\n",
      "79/79 [==============================] - 7s 87ms/step\n",
      "44 _image_responsiveness\n",
      "Using directory results/shapley/dsprites_image_responsiveness/44\n",
      "Found 2500 validated image filenames belonging to 9 classes.\n",
      "79/79 [==============================] - 7s 87ms/step\n",
      "45 \n",
      "Using directory results/shapley/dsprites/45\n",
      "Found 2500 validated image filenames belonging to 9 classes.\n",
      "79/79 [==============================] - 7s 91ms/step\n",
      "45 _image_robustness\n",
      "Using directory results/shapley/dsprites_image_robustness/45\n",
      "Found 2500 validated image filenames belonging to 9 classes.\n",
      "79/79 [==============================] - 7s 91ms/step\n",
      "45 _image_responsiveness\n",
      "Using directory results/shapley/dsprites_image_responsiveness/45\n",
      "Found 2500 validated image filenames belonging to 9 classes.\n",
      "79/79 [==============================] - 7s 88ms/step\n"
     ]
    }
   ],
   "source": [
    "for seed in range(43,46):\n",
    "    for suffix in [\"\",\"_image_robustness\",\"_image_responsiveness\"]:\n",
    "        print(seed,suffix)\n",
    "        create_shapley_vectors(dataset.get_attributes(),dataset,suffix,seed=seed,model_name=model_name)"
   ]
  },
  {
   "cell_type": "markdown",
   "id": "8fc4a075",
   "metadata": {},
   "source": [
    "## Setup the DSprites Dataset"
   ]
  },
  {
   "cell_type": "code",
   "execution_count": 10,
   "id": "8176e237",
   "metadata": {},
   "outputs": [],
   "source": [
    "npz_file = np.load(open(\"dataset/dsprites/dsprites_ndarray_co1sh3sc6or40x32y32_64x64.npz\",\"rb\"))"
   ]
  },
  {
   "cell_type": "code",
   "execution_count": 7,
   "id": "3ccfd1f4",
   "metadata": {},
   "outputs": [
    {
     "data": {
      "text/plain": [
       "['metadata', 'imgs', 'latents_classes', 'latents_values']"
      ]
     },
     "execution_count": 7,
     "metadata": {},
     "output_type": "execute_result"
    }
   ],
   "source": [
    "[i for i in npz_file]"
   ]
  },
  {
   "cell_type": "code",
   "execution_count": 12,
   "id": "da866efa",
   "metadata": {},
   "outputs": [],
   "source": [
    "dataset = DSprites_Dataset()"
   ]
  },
  {
   "cell_type": "code",
   "execution_count": 46,
   "id": "6cda53d4",
   "metadata": {},
   "outputs": [
    {
     "data": {
      "text/plain": [
       "array([[1, 1, 1, ..., 1, 1, 1]])"
      ]
     },
     "execution_count": 46,
     "metadata": {},
     "output_type": "execute_result"
    }
   ],
   "source": [
    "load_label_vectors_simple(dataset.get_attributes()[0],dataset,\"\",seed=43)"
   ]
  },
  {
   "cell_type": "code",
   "execution_count": 47,
   "id": "0696cad5",
   "metadata": {},
   "outputs": [],
   "source": [
    "h = create_hierarchy(create_ward_hierarchy, load_label_vectors_simple,dataset,'',dataset.get_attributes(),43)"
   ]
  },
  {
   "cell_type": "code",
   "execution_count": 54,
   "id": "2aa1ecc5",
   "metadata": {},
   "outputs": [
    {
     "name": "stdout",
     "output_type": "stream",
     "text": [
      "['is_square', 'is_scale_1', 'is_orientation_270', 'is_x_0', 'is_y_0']\n",
      "['is_square', 'is_scale_0.5', 'is_orientation_270', 'is_x_0', 'is_y_0']\n",
      "['is_ellipse', 'is_scale_0.8', 'is_orientation_0', 'is_x_16', 'is_y_16']\n",
      "['is_square', 'is_scale_1', 'is_orientation_180', 'is_x_0', 'is_y_0']\n",
      "['is_square', 'is_scale_0.9', 'is_orientation_270', 'is_x_0', 'is_y_16']\n",
      "['is_heart', 'is_scale_1', 'is_orientation_0', 'is_x_0', 'is_y_0']\n",
      "['is_ellipse', 'is_scale_0.7', 'is_orientation_180', 'is_x_16', 'is_y_0']\n",
      "['is_square', 'is_scale_1', 'is_orientation_90', 'is_x_0', 'is_y_16']\n",
      "['is_heart', 'is_scale_0.9', 'is_orientation_90', 'is_x_0', 'is_y_16']\n",
      "['is_ellipse', 'is_scale_0.7', 'is_orientation_0', 'is_x_0', 'is_y_16']\n"
     ]
    }
   ],
   "source": [
    "attribute_labels = list(set([tuple(i['attribute_label']) for i in dataset.get_data()]))\n",
    "atttribute_labels = [list(i) for i in attribute_labels]\n",
    "\n",
    "for i in attribute_labels:\n",
    "    temp = []\n",
    "    for j in range(len(i)):\n",
    "        if i[j]:\n",
    "            temp.append(dataset.get_attributes()[j])\n",
    "    print(temp[1:])"
   ]
  },
  {
   "cell_type": "code",
   "execution_count": 13,
   "id": "a4794da6",
   "metadata": {},
   "outputs": [],
   "source": [
    "dataset.create_gaussian()"
   ]
  },
  {
   "cell_type": "code",
   "execution_count": 14,
   "id": "09c522dd",
   "metadata": {},
   "outputs": [],
   "source": [
    "dataset.create_junk()"
   ]
  },
  {
   "cell_type": "code",
   "execution_count": 11,
   "id": "897b8cba",
   "metadata": {},
   "outputs": [],
   "source": [
    "orientations = generate_random_orientation(10)\n",
    "write_dataset(orientations,npz_file,write_images=True)"
   ]
  },
  {
   "cell_type": "code",
   "execution_count": null,
   "id": "6cb519a5",
   "metadata": {},
   "outputs": [],
   "source": []
  },
  {
   "cell_type": "code",
   "execution_count": 15,
   "id": "f0ba2b2a",
   "metadata": {},
   "outputs": [],
   "source": [
    "import pickle\n",
    "a = pickle.load(open(\"dataset/dsprites/preprocessed/test.pkl\",\"rb\"))"
   ]
  },
  {
   "cell_type": "code",
   "execution_count": 16,
   "id": "8567ce38",
   "metadata": {},
   "outputs": [
    {
     "data": {
      "text/plain": [
       "{'id': 717916,\n",
       " 'img_path': 'dsprites/images/717916.png',\n",
       " 'class_label': 53,\n",
       " 'attribute_label': [1, 0, 0, 1, 0, 0, 0, 0, 0, 1, 0, 0, 1, 0, 1, 0, 0, 1]}"
      ]
     },
     "execution_count": 16,
     "metadata": {},
     "output_type": "execute_result"
    }
   ],
   "source": [
    "a[0]"
   ]
  },
  {
   "cell_type": "code",
   "execution_count": 24,
   "id": "8065bb30",
   "metadata": {},
   "outputs": [
    {
     "name": "stdout",
     "output_type": "stream",
     "text": [
      "327/327 [==============================] - 2s 2ms/step - loss: 0.6228\n",
      "327/327 [==============================] - 1s 3ms/step - loss: 0.5450\n",
      "327/327 [==============================] - 1s 3ms/step - loss: 0.5323\n",
      "327/327 [==============================] - 1s 3ms/step - loss: 0.5289\n",
      "327/327 [==============================] - 1s 3ms/step - loss: 0.5325\n",
      "329/329 [==============================] - 2s 2ms/step - loss: 0.6150\n",
      "329/329 [==============================] - 1s 3ms/step - loss: 0.5453\n",
      "329/329 [==============================] - 1s 2ms/step - loss: 0.5377\n",
      "329/329 [==============================] - 1s 3ms/step - loss: 0.5277\n",
      "329/329 [==============================] - 1s 3ms/step - loss: 0.5361\n",
      "326/326 [==============================] - 2s 2ms/step - loss: 0.6287\n",
      "326/326 [==============================] - 1s 3ms/step - loss: 0.5449\n",
      "326/326 [==============================] - 1s 3ms/step - loss: 0.5389\n",
      "326/326 [==============================] - 1s 2ms/step - loss: 0.5418\n",
      "326/326 [==============================] - 1s 2ms/step - loss: 0.5404\n",
      "337/337 [==============================] - 2s 2ms/step - loss: 0.6319\n",
      "337/337 [==============================] - 1s 3ms/step - loss: 0.5551\n",
      "337/337 [==============================] - 1s 2ms/step - loss: 0.5501\n",
      "337/337 [==============================] - 1s 2ms/step - loss: 0.5510\n",
      "337/337 [==============================] - 1s 3ms/step - loss: 0.5529\n",
      "341/341 [==============================] - 2s 3ms/step - loss: 0.6316\n",
      "341/341 [==============================] - 1s 2ms/step - loss: 0.5616\n",
      "341/341 [==============================] - 1s 2ms/step - loss: 0.5463\n",
      "341/341 [==============================] - 1s 3ms/step - loss: 0.5574\n",
      "341/341 [==============================] - 1s 2ms/step - loss: 0.5583\n",
      "340/340 [==============================] - 2s 3ms/step - loss: 0.6326\n",
      "340/340 [==============================] - 1s 3ms/step - loss: 0.5661\n",
      "340/340 [==============================] - 1s 3ms/step - loss: 0.5622\n",
      "340/340 [==============================] - 1s 2ms/step - loss: 0.5597\n",
      "340/340 [==============================] - 1s 3ms/step - loss: 0.5594\n",
      "500/500 [==============================] - 2s 3ms/step - loss: 0.6931\n",
      "500/500 [==============================] - 1s 2ms/step - loss: 0.6928\n",
      "500/500 [==============================] - 1s 3ms/step - loss: 0.6923\n",
      "500/500 [==============================] - 1s 3ms/step - loss: 0.6922\n",
      "500/500 [==============================] - 1s 3ms/step - loss: 0.6922\n",
      "499/499 [==============================] - 2s 2ms/step - loss: 0.6930\n",
      "499/499 [==============================] - 1s 2ms/step - loss: 0.6930\n",
      "499/499 [==============================] - 1s 3ms/step - loss: 0.6929\n",
      "499/499 [==============================] - 1s 2ms/step - loss: 0.6931\n",
      "499/499 [==============================] - 1s 2ms/step - loss: 0.6928\n",
      "500/500 [==============================] - 2s 2ms/step - loss: 0.6931\n",
      "500/500 [==============================] - 1s 2ms/step - loss: 0.6930\n",
      "500/500 [==============================] - 1s 3ms/step - loss: 0.6928\n",
      "500/500 [==============================] - 1s 2ms/step - loss: 0.6927\n",
      "500/500 [==============================] - 1s 3ms/step - loss: 0.6927\n"
     ]
    }
   ],
   "source": [
    "for suffix in [\"\",\"_image_robustness\",\"_image_responsiveness\"]:\n",
    "    for seed in [43,44,45]:\n",
    "        create_concept2vec(dataset,suffix,seed=seed)"
   ]
  },
  {
   "cell_type": "code",
   "execution_count": 19,
   "id": "d2162b92",
   "metadata": {},
   "outputs": [],
   "source": [
    "dataset.create_gaussian()"
   ]
  },
  {
   "cell_type": "code",
   "execution_count": 26,
   "id": "6bdc18d1",
   "metadata": {},
   "outputs": [
    {
     "data": {
      "text/plain": [
       "'Enlarged Cardiom\" \"Cardiomegaly\" \"Lung Lesion\" \"Lung Opacity\" \"Edema\" \"Consolidation\" \"Pneumonia\" \"Atelectasis\" \"Pneumothroax\" \"Pleural Effusion\" \"Pleural Other\" \"Fracture\" \"Support Devices'"
      ]
     },
     "execution_count": 26,
     "metadata": {},
     "output_type": "execute_result"
    }
   ],
   "source": [
    "'\" \"'.join(dataset.get_attributes())"
   ]
  },
  {
   "cell_type": "code",
   "execution_count": 38,
   "id": "3a42eaee",
   "metadata": {},
   "outputs": [
    {
     "data": {
      "text/plain": [
       "750"
      ]
     },
     "execution_count": 38,
     "metadata": {},
     "output_type": "execute_result"
    }
   ],
   "source": [
    "len(a)"
   ]
  },
  {
   "cell_type": "code",
   "execution_count": 28,
   "id": "813120ae",
   "metadata": {},
   "outputs": [
    {
     "data": {
      "text/plain": [
       "10"
      ]
     },
     "execution_count": 28,
     "metadata": {},
     "output_type": "execute_result"
    }
   ],
   "source": [
    "len(set([i['class_label'] for i in a]))"
   ]
  },
  {
   "cell_type": "code",
   "execution_count": 38,
   "id": "24dd705d",
   "metadata": {},
   "outputs": [],
   "source": [
    "rand_orientations = generate_random_orientation(10)"
   ]
  },
  {
   "cell_type": "code",
   "execution_count": 39,
   "id": "2edb223f",
   "metadata": {},
   "outputs": [
    {
     "name": "stdout",
     "output_type": "stream",
     "text": [
      "0 0 0\n",
      "2 0 1\n"
     ]
    },
    {
     "data": {
      "text/plain": [
       "False"
      ]
     },
     "execution_count": 39,
     "metadata": {},
     "output_type": "execute_result"
    }
   ],
   "source": [
    "image_has_orientation(rand_orientations[0],npz_file['latents_classes'][0])"
   ]
  },
  {
   "cell_type": "code",
   "execution_count": 40,
   "id": "45e3a152",
   "metadata": {},
   "outputs": [
    {
     "name": "stdout",
     "output_type": "stream",
     "text": [
      "0 0 0\n",
      "0 0 1\n",
      "0 0 2\n"
     ]
    },
    {
     "data": {
      "text/plain": [
       "True"
      ]
     },
     "execution_count": 40,
     "metadata": {},
     "output_type": "execute_result"
    }
   ],
   "source": [
    "image_has_orientation([0,0,0,0,0,0],npz_file['latents_classes'][0])"
   ]
  },
  {
   "cell_type": "code",
   "execution_count": 41,
   "id": "356607b3",
   "metadata": {},
   "outputs": [
    {
     "name": "stdout",
     "output_type": "stream",
     "text": [
      "0 0 0\n",
      "0 2 1\n"
     ]
    },
    {
     "data": {
      "text/plain": [
       "False"
      ]
     },
     "execution_count": 41,
     "metadata": {},
     "output_type": "execute_result"
    }
   ],
   "source": [
    "image_has_orientation([0,0,0,0,0,0],npz_file['latents_classes'][-1])"
   ]
  },
  {
   "cell_type": "code",
   "execution_count": 42,
   "id": "ec3bc2ca",
   "metadata": {},
   "outputs": [
    {
     "name": "stdout",
     "output_type": "stream",
     "text": [
      "0 0 0\n",
      "2 2 1\n",
      "5 5 2\n"
     ]
    },
    {
     "data": {
      "text/plain": [
       "True"
      ]
     },
     "execution_count": 42,
     "metadata": {},
     "output_type": "execute_result"
    }
   ],
   "source": [
    "image_has_orientation([0,2,5,3,1,1],npz_file['latents_classes'][-1])"
   ]
  },
  {
   "cell_type": "code",
   "execution_count": 68,
   "id": "93ef2d31",
   "metadata": {},
   "outputs": [],
   "source": [
    "matching_0 = get_matching_images([0,0,1,0,0,0],npz_file)"
   ]
  },
  {
   "cell_type": "code",
   "execution_count": 69,
   "id": "b49bc735",
   "metadata": {},
   "outputs": [
    {
     "data": {
      "text/plain": [
       "2560"
      ]
     },
     "execution_count": 69,
     "metadata": {},
     "output_type": "execute_result"
    }
   ],
   "source": [
    "len(matching_0)"
   ]
  },
  {
   "cell_type": "code",
   "execution_count": 61,
   "id": "75560f48",
   "metadata": {},
   "outputs": [],
   "source": []
  },
  {
   "cell_type": "code",
   "execution_count": 64,
   "id": "4a4102ec",
   "metadata": {},
   "outputs": [
    {
     "data": {
      "text/plain": [
       "2560"
      ]
     },
     "execution_count": 64,
     "metadata": {},
     "output_type": "execute_result"
    }
   ],
   "source": [
    "len([i for i in range(100000) if image_has_orientation(orientation,latents[i])])"
   ]
  },
  {
   "cell_type": "code",
   "execution_count": null,
   "id": "68fa42b4",
   "metadata": {},
   "outputs": [],
   "source": [
    "len(matching_0)"
   ]
  },
  {
   "cell_type": "code",
   "execution_count": 71,
   "id": "8f0c85a0",
   "metadata": {},
   "outputs": [
    {
     "data": {
      "text/plain": [
       "(64, 64)"
      ]
     },
     "execution_count": 71,
     "metadata": {},
     "output_type": "execute_result"
    }
   ],
   "source": [
    "npz_file['imgs'][0].shape"
   ]
  },
  {
   "cell_type": "code",
   "execution_count": 75,
   "id": "a68b0ba5",
   "metadata": {},
   "outputs": [],
   "source": [
    "write_image(0,npz_file)"
   ]
  },
  {
   "cell_type": "code",
   "execution_count": 44,
   "id": "e4e19a33",
   "metadata": {},
   "outputs": [
    {
     "data": {
      "text/plain": [
       "737280"
      ]
     },
     "execution_count": 44,
     "metadata": {},
     "output_type": "execute_result"
    }
   ],
   "source": [
    "len(npz_file['latents_classes'])"
   ]
  },
  {
   "cell_type": "markdown",
   "id": "e98fb866",
   "metadata": {},
   "source": [
    "## Create Shapley Vectors for Varying Levels of Noise"
   ]
  },
  {
   "cell_type": "code",
   "execution_count": 8,
   "id": "722941db",
   "metadata": {},
   "outputs": [
    {
     "name": "stderr",
     "output_type": "stream",
     "text": [
      "2023-04-13 12:52:56.546110: I tensorflow/core/platform/cpu_feature_guard.cc:193] This TensorFlow binary is optimized with oneAPI Deep Neural Network Library (oneDNN) to use the following CPU instructions in performance-critical operations:  SSE4.1 SSE4.2 AVX AVX2 FMA\n",
      "To enable them in other operations, rebuild TensorFlow with the appropriate compiler flags.\n",
      "2023-04-13 12:52:57.667910: I tensorflow/core/common_runtime/gpu/gpu_device.cc:1616] Created device /job:localhost/replica:0/task:0/device:GPU:0 with 2048 MB memory:  -> device: 0, name: NVIDIA TITAN Xp, pci bus id: 0000:03:00.0, compute capability: 6.1\n",
      "/auto/homes/njr61/environments/mambaforge/envs/concepts/lib/python3.7/site-packages/keras/optimizers/optimizer_v2/adam.py:114: UserWarning: The `lr` argument is deprecated, use `learning_rate` instead.\n",
      "  super().__init__(name, **kwargs)\n"
     ]
    },
    {
     "name": "stdout",
     "output_type": "stream",
     "text": [
      "Seed 43 suffix \n",
      "Found 4796 validated image filenames belonging to 200 classes.\n",
      "Generated dataset, now training model\n",
      "Epoch 1/25\n"
     ]
    },
    {
     "name": "stderr",
     "output_type": "stream",
     "text": [
      "2023-04-13 12:53:03.651792: I tensorflow/stream_executor/cuda/cuda_dnn.cc:384] Loaded cuDNN version 8401\n",
      "2023-04-13 12:53:04.460936: W tensorflow/stream_executor/gpu/asm_compiler.cc:111] *** WARNING *** You are using ptxas 10.1.243, which is older than 11.1. ptxas before 11.1 is known to miscompile XLA code, leading to incorrect results or invalid-address errors.\n",
      "\n",
      "You may not need to update to CUDA 11.1; cherry-picking the ptxas binary is often sufficient.\n",
      "2023-04-13 12:53:04.634936: W tensorflow/core/common_runtime/bfc_allocator.cc:290] Allocator (GPU_0_bfc) ran out of memory trying to allocate 939.37MiB with freed_by_count=0. The caller indicates that this is not a failure, but this may mean that there could be performance gains if more memory were available.\n",
      "2023-04-13 12:53:04.713816: W tensorflow/core/common_runtime/bfc_allocator.cc:290] Allocator (GPU_0_bfc) ran out of memory trying to allocate 1.02GiB with freed_by_count=0. The caller indicates that this is not a failure, but this may mean that there could be performance gains if more memory were available.\n",
      "2023-04-13 12:53:04.825822: W tensorflow/core/common_runtime/bfc_allocator.cc:290] Allocator (GPU_0_bfc) ran out of memory trying to allocate 1.74GiB with freed_by_count=0. The caller indicates that this is not a failure, but this may mean that there could be performance gains if more memory were available.\n",
      "2023-04-13 12:53:05.092965: W tensorflow/core/common_runtime/bfc_allocator.cc:290] Allocator (GPU_0_bfc) ran out of memory trying to allocate 3.46GiB with freed_by_count=0. The caller indicates that this is not a failure, but this may mean that there could be performance gains if more memory were available.\n",
      "2023-04-13 12:53:05.093036: W tensorflow/core/common_runtime/bfc_allocator.cc:290] Allocator (GPU_0_bfc) ran out of memory trying to allocate 3.46GiB with freed_by_count=0. The caller indicates that this is not a failure, but this may mean that there could be performance gains if more memory were available.\n",
      "2023-04-13 12:53:05.143542: W tensorflow/core/common_runtime/bfc_allocator.cc:290] Allocator (GPU_0_bfc) ran out of memory trying to allocate 3.04GiB with freed_by_count=0. The caller indicates that this is not a failure, but this may mean that there could be performance gains if more memory were available.\n",
      "2023-04-13 12:53:05.470276: W tensorflow/core/common_runtime/bfc_allocator.cc:290] Allocator (GPU_0_bfc) ran out of memory trying to allocate 1.29GiB with freed_by_count=0. The caller indicates that this is not a failure, but this may mean that there could be performance gains if more memory were available.\n",
      "2023-04-13 12:53:05.755332: W tensorflow/core/common_runtime/bfc_allocator.cc:290] Allocator (GPU_0_bfc) ran out of memory trying to allocate 1.74GiB with freed_by_count=0. The caller indicates that this is not a failure, but this may mean that there could be performance gains if more memory were available.\n",
      "2023-04-13 12:53:05.755401: W tensorflow/core/common_runtime/bfc_allocator.cc:290] Allocator (GPU_0_bfc) ran out of memory trying to allocate 1.74GiB with freed_by_count=0. The caller indicates that this is not a failure, but this may mean that there could be performance gains if more memory were available.\n",
      "2023-04-13 12:53:05.837206: W tensorflow/core/common_runtime/bfc_allocator.cc:290] Allocator (GPU_0_bfc) ran out of memory trying to allocate 2.55GiB with freed_by_count=0. The caller indicates that this is not a failure, but this may mean that there could be performance gains if more memory were available.\n"
     ]
    },
    {
     "name": "stdout",
     "output_type": "stream",
     "text": [
      "150/150 [==============================] - 73s 451ms/step - loss: 5.7340 - accuracy: 0.0060\n",
      "Epoch 2/25\n",
      "150/150 [==============================] - 64s 428ms/step - loss: 5.2696 - accuracy: 0.0100\n",
      "Epoch 3/25\n",
      "150/150 [==============================] - 64s 424ms/step - loss: 5.2001 - accuracy: 0.0083\n",
      "Epoch 4/25\n",
      "150/150 [==============================] - 63s 420ms/step - loss: 5.1478 - accuracy: 0.0096\n",
      "Epoch 5/25\n",
      "150/150 [==============================] - 62s 412ms/step - loss: 5.1002 - accuracy: 0.0119\n",
      "Epoch 6/25\n",
      "150/150 [==============================] - 60s 402ms/step - loss: 5.0400 - accuracy: 0.0138\n",
      "Epoch 7/25\n",
      "150/150 [==============================] - 60s 398ms/step - loss: 4.9843 - accuracy: 0.0152\n",
      "Epoch 8/25\n",
      "150/150 [==============================] - 60s 399ms/step - loss: 4.9419 - accuracy: 0.0158\n",
      "Epoch 9/25\n",
      "150/150 [==============================] - 60s 397ms/step - loss: 4.9054 - accuracy: 0.0177\n",
      "Epoch 10/25\n",
      "150/150 [==============================] - 60s 401ms/step - loss: 4.8761 - accuracy: 0.0188\n",
      "Epoch 11/25\n",
      "150/150 [==============================] - 60s 401ms/step - loss: 4.8366 - accuracy: 0.0173\n",
      "Epoch 12/25\n",
      "150/150 [==============================] - 63s 420ms/step - loss: 4.7979 - accuracy: 0.0215\n",
      "Epoch 13/25\n",
      "150/150 [==============================] - 61s 408ms/step - loss: 4.7215 - accuracy: 0.0275\n",
      "Epoch 14/25\n",
      "150/150 [==============================] - 62s 410ms/step - loss: 4.6699 - accuracy: 0.0315\n",
      "Epoch 15/25\n",
      "150/150 [==============================] - 62s 415ms/step - loss: 4.6451 - accuracy: 0.0313\n",
      "Epoch 16/25\n",
      "150/150 [==============================] - 60s 401ms/step - loss: 4.6113 - accuracy: 0.0361\n",
      "Epoch 17/25\n",
      "150/150 [==============================] - 60s 402ms/step - loss: 4.5811 - accuracy: 0.0384\n",
      "Epoch 18/25\n",
      "150/150 [==============================] - 60s 400ms/step - loss: 4.5384 - accuracy: 0.0415\n",
      "Epoch 19/25\n",
      "150/150 [==============================] - 60s 398ms/step - loss: 4.5194 - accuracy: 0.0413\n",
      "Epoch 20/25\n",
      "150/150 [==============================] - 60s 402ms/step - loss: 4.4963 - accuracy: 0.0450\n",
      "Epoch 21/25\n",
      "150/150 [==============================] - 61s 404ms/step - loss: 4.4660 - accuracy: 0.0444\n",
      "Epoch 22/25\n",
      "150/150 [==============================] - 60s 399ms/step - loss: 4.4551 - accuracy: 0.0484\n",
      "Epoch 23/25\n",
      "150/150 [==============================] - 61s 403ms/step - loss: 4.4256 - accuracy: 0.0519\n",
      "Epoch 24/25\n",
      "150/150 [==============================] - 60s 396ms/step - loss: 4.4218 - accuracy: 0.0542\n",
      "Epoch 25/25\n",
      "150/150 [==============================] - 60s 400ms/step - loss: 4.3783 - accuracy: 0.0500\n"
     ]
    }
   ],
   "source": [
    "for noise_std in [100]:\n",
    "    train_large_image_model(dataset,model_name,\"\",seed=43,noise_std=noise_std)"
   ]
  },
  {
   "cell_type": "code",
   "execution_count": 9,
   "id": "dee2516c",
   "metadata": {},
   "outputs": [
    {
     "name": "stdout",
     "output_type": "stream",
     "text": [
      "Using directory results/shapley/cub_noise_25/43\n",
      "Found 4796 validated image filenames belonging to 200 classes.\n",
      "150/150 [==============================] - 32s 210ms/step\n",
      "Using directory results/shapley/cub_noise_50/43\n",
      "Found 4796 validated image filenames belonging to 200 classes.\n",
      "150/150 [==============================] - 32s 212ms/step\n",
      "Using directory results/shapley/cub_noise_100/43\n",
      "Found 4796 validated image filenames belonging to 200 classes.\n",
      "150/150 [==============================] - 33s 216ms/step\n"
     ]
    }
   ],
   "source": [
    "for noise_std in [25,50,100]:\n",
    "    create_shapley_vectors(dataset.get_attributes(),dataset,\"\",seed=43,noise_std=noise_std)"
   ]
  },
  {
   "cell_type": "code",
   "execution_count": null,
   "id": "a77350c8",
   "metadata": {},
   "outputs": [],
   "source": [
    "train_large_image_model(MNIST_Dataset(),model_name,\"\",seed=42)"
   ]
  },
  {
   "cell_type": "code",
   "execution_count": 13,
   "id": "2fa22169",
   "metadata": {},
   "outputs": [
    {
     "name": "stdout",
     "output_type": "stream",
     "text": [
      "Using directory results/shapley/cub_flip_0.01/43\n",
      "Found 4796 validated image filenames belonging to 200 classes.\n",
      "150/150 [==============================] - 35s 230ms/step\n",
      "Using directory results/shapley/cub_flip_0.05/43\n",
      "Found 4796 validated image filenames belonging to 200 classes.\n",
      "150/150 [==============================] - 35s 232ms/step\n",
      "Using directory results/shapley/cub_flip_0.1/43\n",
      "Found 4796 validated image filenames belonging to 200 classes.\n",
      "150/150 [==============================] - 36s 239ms/step\n"
     ]
    }
   ],
   "source": [
    "for label_flip in [0.01,0.05,0.1]:\n",
    "    create_shapley_vectors(dataset.get_attributes(),dataset,\"\",seed=43,label_flip=label_flip)"
   ]
  },
  {
   "cell_type": "code",
   "execution_count": 14,
   "id": "f611c090",
   "metadata": {},
   "outputs": [
    {
     "name": "stdout",
     "output_type": "stream",
     "text": [
      "Using directory results/shapley/cub/43\n",
      "Found 4796 validated image filenames belonging to 200 classes.\n",
      "150/150 [==============================] - 33s 219ms/step\n"
     ]
    }
   ],
   "source": [
    "create_shapley_vectors(dataset.get_attributes(),dataset,\"\",seed=43)"
   ]
  },
  {
   "cell_type": "markdown",
   "id": "a3a6b977",
   "metadata": {},
   "source": [
    "## Exploration of the Truthfulness Metric"
   ]
  },
  {
   "cell_type": "code",
   "execution_count": 7,
   "id": "50bda86c",
   "metadata": {},
   "outputs": [
    {
     "name": "stdout",
     "output_type": "stream",
     "text": [
      "Found 1198 validated image filenames belonging to 200 classes.\n",
      "38/38 [==============================] - 196s 5s/step\n"
     ]
    }
   ],
   "source": [
    "similarities = get_model_concept_similarities(dataset,model)"
   ]
  },
  {
   "cell_type": "code",
   "execution_count": 8,
   "id": "62d96beb",
   "metadata": {},
   "outputs": [],
   "source": [
    "attributes = dataset.get_attributes()"
   ]
  },
  {
   "cell_type": "code",
   "execution_count": 11,
   "id": "6d5d4e8a",
   "metadata": {},
   "outputs": [],
   "source": [
    "shapley_hierarchy = create_hierarchy(create_ward_hierarchy, load_shapley_vectors_simple,dataset,'',attributes,43)"
   ]
  },
  {
   "cell_type": "code",
   "execution_count": 12,
   "id": "517f003d",
   "metadata": {},
   "outputs": [
    {
     "name": "stdout",
     "output_type": "stream",
     "text": [
      "                ---- has_belly_color::brown\n",
      "           ----|\n",
      "                     ---- has_underparts_color::brown\n",
      "                ----|\n",
      "                     ---- has_breast_color::brown\n",
      "\n",
      "\n",
      "      ----|\n",
      "                     ---- has_head_pattern::eyebrow\n",
      "                ----|\n",
      "                     ---- has_wing_pattern::spotted\n",
      "\n",
      "           ----|\n",
      "                               ---- has_back_pattern::striped\n",
      "                          ----|\n",
      "                               ---- has_wing_pattern::striped\n",
      "\n",
      "                     ----|\n",
      "                               ---- has_throat_color::buff\n",
      "                          ----|\n",
      "                                         ---- has_upper_tail_color::buff\n",
      "                                    ----|\n",
      "                                         ---- has_under_tail_color::buff\n",
      "\n",
      "                               ----|\n",
      "                                         ---- has_nape_color::buff\n",
      "                                    ----|\n",
      "                                              ---- has_upperparts_color::buff\n",
      "                                         ----|\n",
      "                                                   ---- has_wing_color::buff\n",
      "                                              ----|\n",
      "                                                   ---- has_back_color::buff\n",
      "\n",
      "\n",
      "\n",
      "\n",
      "\n",
      "\n",
      "                ----|\n",
      "                               ---- has_leg_color::buff\n",
      "                          ----|\n",
      "                                              ---- has_primary_color::brown\n",
      "                                         ----|\n",
      "                                                   ---- has_back_color::brown\n",
      "                                              ----|\n",
      "                                                        ---- has_wing_color::brown\n",
      "                                                   ----|\n",
      "                                                        ---- has_upperparts_color::brown\n",
      "\n",
      "\n",
      "\n",
      "                                    ----|\n",
      "                                              ---- has_upper_tail_color::brown\n",
      "                                         ----|\n",
      "                                              ---- has_under_tail_color::brown\n",
      "\n",
      "\n",
      "                               ----|\n",
      "                                         ---- has_nape_color::brown\n",
      "                                    ----|\n",
      "                                              ---- has_forehead_color::brown\n",
      "                                         ----|\n",
      "                                              ---- has_crown_color::brown\n",
      "\n",
      "\n",
      "\n",
      "\n",
      "                     ----|\n",
      "                                    ---- has_primary_color::buff\n",
      "                               ----|\n",
      "                                         ---- has_breast_color::buff\n",
      "                                    ----|\n",
      "                                              ---- has_underparts_color::buff\n",
      "                                         ----|\n",
      "                                              ---- has_belly_color::buff\n",
      "\n",
      "\n",
      "\n",
      "                          ----|\n",
      "                                    ---- has_size::very_small_(3_-_5_in)\n",
      "                               ----|\n",
      "                                    ---- has_tail_pattern::striped\n",
      "\n",
      "\n",
      "\n",
      "\n",
      "\n",
      "\n",
      " ----|\n",
      "                     ---- has_back_color::yellow\n",
      "                ----|\n",
      "                          ---- has_wing_color::yellow\n",
      "                     ----|\n",
      "                          ---- has_upperparts_color::yellow\n",
      "\n",
      "\n",
      "           ----|\n",
      "                          ---- has_throat_color::yellow\n",
      "                     ----|\n",
      "                               ---- has_primary_color::yellow\n",
      "                          ----|\n",
      "                                    ---- has_breast_color::yellow\n",
      "                               ----|\n",
      "                                         ---- has_underparts_color::yellow\n",
      "                                    ----|\n",
      "                                         ---- has_belly_color::yellow\n",
      "\n",
      "\n",
      "\n",
      "\n",
      "                ----|\n",
      "                          ---- has_nape_color::yellow\n",
      "                     ----|\n",
      "                               ---- has_forehead_color::yellow\n",
      "                          ----|\n",
      "                               ---- has_crown_color::yellow\n",
      "\n",
      "\n",
      "\n",
      "\n",
      "      ----|\n",
      "                               ---- has_bill_shape::hooked_seabird\n",
      "                          ----|\n",
      "                                    ---- has_forehead_color::white\n",
      "                               ----|\n",
      "                                    ---- has_crown_color::white\n",
      "\n",
      "\n",
      "                     ----|\n",
      "                               ---- has_back_pattern::multi-colored\n",
      "                          ----|\n",
      "                                              ---- has_throat_color::white\n",
      "                                         ----|\n",
      "                                                   ---- has_breast_color::white\n",
      "                                              ----|\n",
      "                                                        ---- has_underparts_color::white\n",
      "                                                   ----|\n",
      "                                                        ---- has_belly_color::white\n",
      "\n",
      "\n",
      "\n",
      "                                    ----|\n",
      "                                              ---- has_nape_color::white\n",
      "                                         ----|\n",
      "                                              ---- has_primary_color::white\n",
      "\n",
      "\n",
      "                               ----|\n",
      "                                         ---- has_bill_shape::dagger\n",
      "                                    ----|\n",
      "                                                   ---- has_wing_color::white\n",
      "                                              ----|\n",
      "                                                        ---- has_upperparts_color::white\n",
      "                                                   ----|\n",
      "                                                        ---- has_back_color::white\n",
      "\n",
      "\n",
      "                                         ----|\n",
      "                                                   ---- has_upper_tail_color::white\n",
      "                                              ----|\n",
      "                                                   ---- has_under_tail_color::white\n",
      "\n",
      "\n",
      "\n",
      "\n",
      "\n",
      "\n",
      "                ----|\n",
      "                          ---- has_shape::duck-like\n",
      "                     ----|\n",
      "                                         ---- has_belly_color::black\n",
      "                                    ----|\n",
      "                                              ---- has_underparts_color::black\n",
      "                                         ----|\n",
      "                                              ---- has_breast_color::black\n",
      "\n",
      "\n",
      "                               ----|\n",
      "                                                   ---- has_wing_color::black\n",
      "                                              ----|\n",
      "                                                   ---- has_upperparts_color::black\n",
      "\n",
      "                                         ----|\n",
      "                                                   ---- has_upper_tail_color::black\n",
      "                                              ----|\n",
      "                                                   ---- has_under_tail_color::black\n",
      "\n",
      "\n",
      "                                    ----|\n",
      "                                                   ---- has_forehead_color::black\n",
      "                                              ----|\n",
      "                                                   ---- has_crown_color::black\n",
      "\n",
      "                                         ----|\n",
      "                                                   ---- has_throat_color::black\n",
      "                                              ----|\n",
      "                                                        ---- has_nape_color::black\n",
      "                                                   ----|\n",
      "                                                             ---- has_back_color::black\n",
      "                                                        ----|\n",
      "                                                             ---- has_primary_color::black\n",
      "\n",
      "\n",
      "\n",
      "\n",
      "\n",
      "\n",
      "                          ----|\n",
      "                                              ---- has_bill_length::about_the_same_as_head\n",
      "                                         ----|\n",
      "                                              ---- has_size::medium_(9_-_16_in)\n",
      "\n",
      "                                    ----|\n",
      "                                                   ---- has_breast_pattern::solid\n",
      "                                              ----|\n",
      "                                                   ---- has_belly_pattern::solid\n",
      "\n",
      "                                         ----|\n",
      "                                                   ---- has_wing_pattern::solid\n",
      "                                              ----|\n",
      "                                                        ---- has_back_pattern::solid\n",
      "                                                   ----|\n",
      "                                                        ---- has_tail_pattern::solid\n",
      "\n",
      "\n",
      "\n",
      "\n",
      "                               ----|\n",
      "                                         ---- has_tail_pattern::multi-colored\n",
      "                                    ----|\n",
      "                                                   ---- has_wing_pattern::multi-colored\n",
      "                                              ----|\n",
      "                                                        ---- has_head_pattern::plain\n",
      "                                                   ----|\n",
      "                                                             ---- has_leg_color::black\n",
      "                                                        ----|\n",
      "                                                             ---- has_bill_color::black\n",
      "\n",
      "\n",
      "\n",
      "                                         ----|\n",
      "                                                   ---- has_wing_shape::pointed-wings\n",
      "                                              ----|\n",
      "                                                   ---- has_leg_color::grey\n",
      "\n",
      "\n",
      "\n",
      "\n",
      "\n",
      "\n",
      "\n",
      "           ----|\n",
      "                          ---- has_forehead_color::blue\n",
      "                     ----|\n",
      "                          ---- has_crown_color::blue\n",
      "\n",
      "                ----|\n",
      "                               ---- has_throat_color::grey\n",
      "                          ----|\n",
      "                                    ---- has_belly_color::grey\n",
      "                               ----|\n",
      "                                         ---- has_underparts_color::grey\n",
      "                                    ----|\n",
      "                                         ---- has_breast_color::grey\n",
      "\n",
      "\n",
      "\n",
      "                     ----|\n",
      "                                         ---- has_nape_color::grey\n",
      "                                    ----|\n",
      "                                              ---- has_forehead_color::grey\n",
      "                                         ----|\n",
      "                                              ---- has_crown_color::grey\n",
      "\n",
      "\n",
      "                               ----|\n",
      "                                              ---- has_wing_color::grey\n",
      "                                         ----|\n",
      "                                                   ---- has_primary_color::grey\n",
      "                                              ----|\n",
      "                                                        ---- has_upperparts_color::grey\n",
      "                                                   ----|\n",
      "                                                        ---- has_back_color::grey\n",
      "\n",
      "\n",
      "\n",
      "                                    ----|\n",
      "                                              ---- has_upper_tail_color::grey\n",
      "                                         ----|\n",
      "                                              ---- has_under_tail_color::grey\n",
      "\n",
      "\n",
      "\n",
      "                          ----|\n",
      "                                    ---- has_eye_color::black\n",
      "                               ----|\n",
      "                                              ---- has_breast_pattern::multi-colored\n",
      "                                         ----|\n",
      "                                                   ---- has_bill_color::grey\n",
      "                                              ----|\n",
      "                                                             ---- has_bill_shape::cone\n",
      "                                                        ----|\n",
      "                                                             ---- has_tail_shape::notched_tail\n",
      "\n",
      "                                                   ----|\n",
      "                                                             ---- has_bill_shape::all-purpose\n",
      "                                                        ----|\n",
      "                                                                  ---- has_wing_shape::rounded-wings\n",
      "                                                             ----|\n",
      "                                                                       ---- has_size::small_(5_-_9_in)\n",
      "                                                                  ----|\n",
      "                                                                            ---- has_bill_length::shorter_than_head\n",
      "                                                                       ----|\n",
      "                                                                            ---- has_shape::perching-like\n",
      "\n",
      "\n",
      "\n",
      "\n",
      "\n",
      "\n",
      "\n",
      "                                    ----|\n",
      "                                              ---- has_breast_pattern::striped\n",
      "                                         ----|\n",
      "                                              ---- has_bill_color::buff\n"
     ]
    }
   ],
   "source": [
    "print(shapley_hierarchy)"
   ]
  },
  {
   "cell_type": "code",
   "execution_count": 20,
   "id": "3102b330",
   "metadata": {},
   "outputs": [],
   "source": [
    "attributes = np.array(attributes)"
   ]
  },
  {
   "cell_type": "code",
   "execution_count": 23,
   "id": "9a122fb4",
   "metadata": {},
   "outputs": [
    {
     "name": "stdout",
     "output_type": "stream",
     "text": [
      "has_wing_color::yellow ['has_wing_color::yellow' 'has_upperparts_color::yellow'\n",
      " 'has_forehead_color::yellow' 'has_back_pattern::multi-colored'\n",
      " 'has_crown_color::yellow']\n",
      "has_wing_color::black ['has_wing_color::black' 'has_back_color::black'\n",
      " 'has_upperparts_color::black' 'has_primary_color::black'\n",
      " 'has_under_tail_color::black']\n",
      "has_bill_length::about_the_same_as_head ['has_bill_length::about_the_same_as_head' 'has_size::medium_(9_-_16_in)'\n",
      " 'has_bill_shape::dagger' 'has_primary_color::white'\n",
      " 'has_bill_shape::hooked_seabird']\n",
      "has_wing_pattern::striped ['has_wing_pattern::striped' 'has_back_pattern::striped'\n",
      " 'has_upperparts_color::buff' 'has_under_tail_color::buff'\n",
      " 'has_wing_color::buff']\n",
      "has_size::small_(5_-_9_in) ['has_size::small_(5_-_9_in)' 'has_bill_length::shorter_than_head'\n",
      " 'has_shape::perching-like' 'has_tail_shape::notched_tail'\n",
      " 'has_bill_shape::cone']\n"
     ]
    }
   ],
   "source": [
    "for i in range(5):\n",
    "    rand_index = random.randint(0,111)\n",
    "    five_largest = np.argsort(similarities[rand_index])[::-1][:5]\n",
    "    print(attributes[rand_index],attributes[five_largest])"
   ]
  },
  {
   "cell_type": "code",
   "execution_count": 28,
   "id": "5650dcd7",
   "metadata": {},
   "outputs": [
    {
     "name": "stderr",
     "output_type": "stream",
     "text": [
      "2023-03-20 10:56:47.812288: I tensorflow/compiler/mlir/mlir_graph_optimization_pass.cc:354] MLIR V1 optimization pass is not enabled\n"
     ]
    },
    {
     "data": {
      "text/plain": [
       "(-0.24, 0.0)"
      ]
     },
     "execution_count": 28,
     "metadata": {},
     "output_type": "execute_result"
    }
   ],
   "source": [
    "truthfulness_metric(load_shapley_vectors_simple,dataset,dataset.get_attributes(),[43])"
   ]
  },
  {
   "cell_type": "markdown",
   "id": "a80da353",
   "metadata": {},
   "source": [
    "## Re-train large models"
   ]
  },
  {
   "cell_type": "code",
   "execution_count": 8,
   "id": "6a86be3b",
   "metadata": {},
   "outputs": [],
   "source": [
    "model_name = \"vgg16\""
   ]
  },
  {
   "cell_type": "code",
   "execution_count": 9,
   "id": "911f5a79",
   "metadata": {},
   "outputs": [
    {
     "name": "stderr",
     "output_type": "stream",
     "text": [
      "2023-04-19 11:06:21.024764: I tensorflow/core/platform/cpu_feature_guard.cc:193] This TensorFlow binary is optimized with oneAPI Deep Neural Network Library (oneDNN) to use the following CPU instructions in performance-critical operations:  SSE4.1 SSE4.2 AVX AVX2 FMA\n",
      "To enable them in other operations, rebuild TensorFlow with the appropriate compiler flags.\n",
      "2023-04-19 11:06:40.587861: I tensorflow/core/common_runtime/gpu/gpu_device.cc:1616] Created device /job:localhost/replica:0/task:0/device:GPU:0 with 2048 MB memory:  -> device: 0, name: NVIDIA TITAN Xp, pci bus id: 0000:03:00.0, compute capability: 6.1\n",
      "/auto/homes/njr61/environments/mambaforge/envs/concepts/lib/python3.7/site-packages/keras/optimizers/optimizer_v2/adam.py:114: UserWarning: The `lr` argument is deprecated, use `learning_rate` instead.\n",
      "  super().__init__(name, **kwargs)\n"
     ]
    },
    {
     "name": "stdout",
     "output_type": "stream",
     "text": [
      "Seed 42 suffix \n",
      "Found 2500 validated image filenames belonging to 10 classes.\n",
      "Generated dataset, now training model\n",
      "Epoch 1/25\n"
     ]
    },
    {
     "name": "stderr",
     "output_type": "stream",
     "text": [
      "2023-04-19 11:07:20.016585: I tensorflow/stream_executor/cuda/cuda_dnn.cc:384] Loaded cuDNN version 8401\n",
      "2023-04-19 11:07:38.262790: W tensorflow/stream_executor/gpu/asm_compiler.cc:111] *** WARNING *** You are using ptxas 10.1.243, which is older than 11.1. ptxas before 11.1 is known to miscompile XLA code, leading to incorrect results or invalid-address errors.\n",
      "\n",
      "You may not need to update to CUDA 11.1; cherry-picking the ptxas binary is often sufficient.\n",
      "2023-04-19 11:07:38.528073: W tensorflow/core/common_runtime/bfc_allocator.cc:290] Allocator (GPU_0_bfc) ran out of memory trying to allocate 939.37MiB with freed_by_count=0. The caller indicates that this is not a failure, but this may mean that there could be performance gains if more memory were available.\n",
      "2023-04-19 11:07:38.594972: W tensorflow/core/common_runtime/bfc_allocator.cc:290] Allocator (GPU_0_bfc) ran out of memory trying to allocate 1.02GiB with freed_by_count=0. The caller indicates that this is not a failure, but this may mean that there could be performance gains if more memory were available.\n",
      "2023-04-19 11:07:38.749268: W tensorflow/core/common_runtime/bfc_allocator.cc:290] Allocator (GPU_0_bfc) ran out of memory trying to allocate 1.74GiB with freed_by_count=0. The caller indicates that this is not a failure, but this may mean that there could be performance gains if more memory were available.\n",
      "2023-04-19 11:07:39.021872: W tensorflow/core/common_runtime/bfc_allocator.cc:290] Allocator (GPU_0_bfc) ran out of memory trying to allocate 3.46GiB with freed_by_count=0. The caller indicates that this is not a failure, but this may mean that there could be performance gains if more memory were available.\n",
      "2023-04-19 11:07:39.021956: W tensorflow/core/common_runtime/bfc_allocator.cc:290] Allocator (GPU_0_bfc) ran out of memory trying to allocate 3.46GiB with freed_by_count=0. The caller indicates that this is not a failure, but this may mean that there could be performance gains if more memory were available.\n",
      "2023-04-19 11:07:39.059414: W tensorflow/core/common_runtime/bfc_allocator.cc:290] Allocator (GPU_0_bfc) ran out of memory trying to allocate 3.04GiB with freed_by_count=0. The caller indicates that this is not a failure, but this may mean that there could be performance gains if more memory were available.\n",
      "2023-04-19 11:07:39.620004: W tensorflow/core/common_runtime/bfc_allocator.cc:290] Allocator (GPU_0_bfc) ran out of memory trying to allocate 1.29GiB with freed_by_count=0. The caller indicates that this is not a failure, but this may mean that there could be performance gains if more memory were available.\n",
      "2023-04-19 11:07:39.799530: W tensorflow/core/common_runtime/bfc_allocator.cc:290] Allocator (GPU_0_bfc) ran out of memory trying to allocate 1.74GiB with freed_by_count=0. The caller indicates that this is not a failure, but this may mean that there could be performance gains if more memory were available.\n",
      "2023-04-19 11:07:39.799620: W tensorflow/core/common_runtime/bfc_allocator.cc:290] Allocator (GPU_0_bfc) ran out of memory trying to allocate 1.74GiB with freed_by_count=0. The caller indicates that this is not a failure, but this may mean that there could be performance gains if more memory were available.\n",
      "2023-04-19 11:07:39.856193: W tensorflow/core/common_runtime/bfc_allocator.cc:290] Allocator (GPU_0_bfc) ran out of memory trying to allocate 2.55GiB with freed_by_count=0. The caller indicates that this is not a failure, but this may mean that there could be performance gains if more memory were available.\n"
     ]
    },
    {
     "name": "stdout",
     "output_type": "stream",
     "text": [
      "79/79 [==============================] - 63s 157ms/step - loss: 1.7290 - accuracy: 0.6676\n",
      "Epoch 2/25\n",
      "79/79 [==============================] - 5s 63ms/step - loss: 0.2540 - accuracy: 0.8896\n",
      "Epoch 3/25\n",
      "79/79 [==============================] - 5s 62ms/step - loss: 0.2321 - accuracy: 0.9180\n",
      "Epoch 4/25\n",
      "79/79 [==============================] - 5s 61ms/step - loss: 0.2231 - accuracy: 0.9248\n",
      "Epoch 5/25\n",
      "79/79 [==============================] - 5s 62ms/step - loss: 0.1853 - accuracy: 0.9244\n",
      "Epoch 6/25\n",
      "79/79 [==============================] - 5s 62ms/step - loss: 0.1087 - accuracy: 0.9580\n",
      "Epoch 7/25\n",
      "79/79 [==============================] - 5s 62ms/step - loss: 0.0864 - accuracy: 0.9636\n",
      "Epoch 8/25\n",
      "79/79 [==============================] - 5s 63ms/step - loss: 0.0833 - accuracy: 0.9664\n",
      "Epoch 9/25\n",
      "79/79 [==============================] - 5s 62ms/step - loss: 0.0783 - accuracy: 0.9684\n",
      "Epoch 10/25\n",
      "79/79 [==============================] - 5s 62ms/step - loss: 0.0910 - accuracy: 0.9616\n",
      "Epoch 11/25\n",
      "79/79 [==============================] - 5s 66ms/step - loss: 0.0757 - accuracy: 0.9740\n",
      "Epoch 12/25\n",
      "79/79 [==============================] - 5s 62ms/step - loss: 0.1228 - accuracy: 0.9496\n",
      "Epoch 13/25\n",
      "79/79 [==============================] - 5s 62ms/step - loss: 0.1371 - accuracy: 0.9456\n",
      "Epoch 14/25\n",
      "79/79 [==============================] - 5s 64ms/step - loss: 0.0578 - accuracy: 0.9804\n",
      "Epoch 15/25\n",
      "79/79 [==============================] - 5s 62ms/step - loss: 0.0534 - accuracy: 0.9808\n",
      "Epoch 16/25\n",
      "79/79 [==============================] - 5s 63ms/step - loss: 0.0579 - accuracy: 0.9768\n",
      "Epoch 17/25\n",
      "79/79 [==============================] - 5s 63ms/step - loss: 0.0386 - accuracy: 0.9856\n",
      "Epoch 18/25\n",
      "79/79 [==============================] - 5s 67ms/step - loss: 0.0298 - accuracy: 0.9904\n",
      "Epoch 19/25\n",
      "79/79 [==============================] - 5s 64ms/step - loss: 0.0307 - accuracy: 0.9908\n",
      "Epoch 20/25\n",
      "79/79 [==============================] - 5s 63ms/step - loss: 0.0311 - accuracy: 0.9856\n",
      "Epoch 21/25\n",
      "79/79 [==============================] - 5s 64ms/step - loss: 0.0304 - accuracy: 0.9888\n",
      "Epoch 22/25\n",
      "79/79 [==============================] - 5s 62ms/step - loss: 0.0430 - accuracy: 0.9836\n",
      "Epoch 23/25\n",
      "79/79 [==============================] - 5s 63ms/step - loss: 0.0366 - accuracy: 0.9880\n",
      "Epoch 24/25\n",
      "79/79 [==============================] - 5s 64ms/step - loss: 0.0363 - accuracy: 0.9856\n",
      "Epoch 25/25\n",
      "79/79 [==============================] - 5s 64ms/step - loss: 0.0360 - accuracy: 0.9868\n"
     ]
    }
   ],
   "source": [
    "train_large_image_model(dataset,model_name,\"\",seed=42)"
   ]
  },
  {
   "cell_type": "code",
   "execution_count": 17,
   "id": "4eb32994",
   "metadata": {},
   "outputs": [],
   "source": [
    "a = dataset.get_data(suffix=\"\")"
   ]
  },
  {
   "cell_type": "code",
   "execution_count": 18,
   "id": "fce144a8",
   "metadata": {},
   "outputs": [
    {
     "data": {
      "text/plain": [
       "'dsprites/images/369175.png'"
      ]
     },
     "execution_count": 18,
     "metadata": {},
     "output_type": "execute_result"
    }
   ],
   "source": [
    "a[0]['img_path']"
   ]
  },
  {
   "cell_type": "code",
   "execution_count": 20,
   "id": "75b3d7a1",
   "metadata": {},
   "outputs": [
    {
     "data": {
      "text/plain": [
       "'dsprites_image_robustness/images/369175.png'"
      ]
     },
     "execution_count": 20,
     "metadata": {},
     "output_type": "execute_result"
    }
   ],
   "source": [
    "dataset.fix_path(a[0]['img_path'],'_image_robustness')"
   ]
  },
  {
   "cell_type": "code",
   "execution_count": null,
   "id": "57f35756",
   "metadata": {},
   "outputs": [],
   "source": [
    "train_large_image_model(dataset,model_name,\"_image_robustness\",seed=43)"
   ]
  },
  {
   "cell_type": "code",
   "execution_count": 8,
   "id": "07c25edf",
   "metadata": {},
   "outputs": [
    {
     "name": "stdout",
     "output_type": "stream",
     "text": [
      "45 \n"
     ]
    },
    {
     "name": "stderr",
     "output_type": "stream",
     "text": [
      "2023-04-19 12:15:04.259925: I tensorflow/core/platform/cpu_feature_guard.cc:193] This TensorFlow binary is optimized with oneAPI Deep Neural Network Library (oneDNN) to use the following CPU instructions in performance-critical operations:  SSE4.1 SSE4.2 AVX AVX2 FMA\n",
      "To enable them in other operations, rebuild TensorFlow with the appropriate compiler flags.\n",
      "2023-04-19 12:15:05.226778: I tensorflow/core/common_runtime/gpu/gpu_device.cc:1616] Created device /job:localhost/replica:0/task:0/device:GPU:0 with 2048 MB memory:  -> device: 0, name: NVIDIA TITAN Xp, pci bus id: 0000:03:00.0, compute capability: 6.1\n",
      "/auto/homes/njr61/environments/mambaforge/envs/concepts/lib/python3.7/site-packages/keras/optimizers/optimizer_v2/adam.py:114: UserWarning: The `lr` argument is deprecated, use `learning_rate` instead.\n",
      "  super().__init__(name, **kwargs)\n"
     ]
    },
    {
     "name": "stdout",
     "output_type": "stream",
     "text": [
      "Seed 45 suffix \n",
      "Found 2500 validated image filenames belonging to 10 classes.\n",
      "Generated dataset, now training model\n",
      "Train generator 79\n",
      "2500\n",
      "dataset/dsprites/images/234721.png\n",
      "Epoch 1/25\n"
     ]
    },
    {
     "name": "stderr",
     "output_type": "stream",
     "text": [
      "2023-04-19 12:15:08.994757: I tensorflow/stream_executor/cuda/cuda_dnn.cc:384] Loaded cuDNN version 8401\n",
      "2023-04-19 12:15:09.583520: W tensorflow/stream_executor/gpu/asm_compiler.cc:111] *** WARNING *** You are using ptxas 10.1.243, which is older than 11.1. ptxas before 11.1 is known to miscompile XLA code, leading to incorrect results or invalid-address errors.\n",
      "\n",
      "You may not need to update to CUDA 11.1; cherry-picking the ptxas binary is often sufficient.\n",
      "2023-04-19 12:15:09.741302: W tensorflow/core/common_runtime/bfc_allocator.cc:290] Allocator (GPU_0_bfc) ran out of memory trying to allocate 939.37MiB with freed_by_count=0. The caller indicates that this is not a failure, but this may mean that there could be performance gains if more memory were available.\n",
      "2023-04-19 12:15:09.807661: W tensorflow/core/common_runtime/bfc_allocator.cc:290] Allocator (GPU_0_bfc) ran out of memory trying to allocate 1.02GiB with freed_by_count=0. The caller indicates that this is not a failure, but this may mean that there could be performance gains if more memory were available.\n",
      "2023-04-19 12:15:09.881225: W tensorflow/core/common_runtime/bfc_allocator.cc:290] Allocator (GPU_0_bfc) ran out of memory trying to allocate 1.74GiB with freed_by_count=0. The caller indicates that this is not a failure, but this may mean that there could be performance gains if more memory were available.\n",
      "2023-04-19 12:15:10.048134: W tensorflow/core/common_runtime/bfc_allocator.cc:290] Allocator (GPU_0_bfc) ran out of memory trying to allocate 3.46GiB with freed_by_count=0. The caller indicates that this is not a failure, but this may mean that there could be performance gains if more memory were available.\n",
      "2023-04-19 12:15:10.048210: W tensorflow/core/common_runtime/bfc_allocator.cc:290] Allocator (GPU_0_bfc) ran out of memory trying to allocate 3.46GiB with freed_by_count=0. The caller indicates that this is not a failure, but this may mean that there could be performance gains if more memory were available.\n",
      "2023-04-19 12:15:10.083637: W tensorflow/core/common_runtime/bfc_allocator.cc:290] Allocator (GPU_0_bfc) ran out of memory trying to allocate 3.04GiB with freed_by_count=0. The caller indicates that this is not a failure, but this may mean that there could be performance gains if more memory were available.\n",
      "2023-04-19 12:15:10.304199: W tensorflow/core/common_runtime/bfc_allocator.cc:290] Allocator (GPU_0_bfc) ran out of memory trying to allocate 1.29GiB with freed_by_count=0. The caller indicates that this is not a failure, but this may mean that there could be performance gains if more memory were available.\n",
      "2023-04-19 12:15:10.482231: W tensorflow/core/common_runtime/bfc_allocator.cc:290] Allocator (GPU_0_bfc) ran out of memory trying to allocate 1.74GiB with freed_by_count=0. The caller indicates that this is not a failure, but this may mean that there could be performance gains if more memory were available.\n",
      "2023-04-19 12:15:10.482338: W tensorflow/core/common_runtime/bfc_allocator.cc:290] Allocator (GPU_0_bfc) ran out of memory trying to allocate 1.74GiB with freed_by_count=0. The caller indicates that this is not a failure, but this may mean that there could be performance gains if more memory were available.\n",
      "2023-04-19 12:15:10.538343: W tensorflow/core/common_runtime/bfc_allocator.cc:290] Allocator (GPU_0_bfc) ran out of memory trying to allocate 2.55GiB with freed_by_count=0. The caller indicates that this is not a failure, but this may mean that there could be performance gains if more memory were available.\n"
     ]
    },
    {
     "name": "stdout",
     "output_type": "stream",
     "text": [
      "79/79 [==============================] - 12s 98ms/step - loss: 1.7455 - accuracy: 0.6716\n",
      "Epoch 2/25\n",
      "79/79 [==============================] - 5s 64ms/step - loss: 0.3129 - accuracy: 0.8716\n",
      "Epoch 3/25\n",
      "79/79 [==============================] - 5s 67ms/step - loss: 0.2154 - accuracy: 0.9292\n",
      "Epoch 4/25\n",
      "79/79 [==============================] - 6s 71ms/step - loss: 0.1693 - accuracy: 0.9404\n",
      "Epoch 5/25\n",
      "79/79 [==============================] - 5s 62ms/step - loss: 0.1179 - accuracy: 0.9572\n",
      "Epoch 6/25\n",
      "79/79 [==============================] - 5s 62ms/step - loss: 0.1004 - accuracy: 0.9616\n",
      "Epoch 7/25\n",
      "79/79 [==============================] - 5s 62ms/step - loss: 0.0758 - accuracy: 0.9760\n",
      "Epoch 8/25\n",
      "79/79 [==============================] - 5s 62ms/step - loss: 0.1140 - accuracy: 0.9564\n",
      "Epoch 9/25\n",
      "79/79 [==============================] - 5s 61ms/step - loss: 0.0692 - accuracy: 0.9752\n",
      "Epoch 10/25\n",
      "79/79 [==============================] - 5s 62ms/step - loss: 0.0669 - accuracy: 0.9744\n",
      "Epoch 11/25\n",
      "79/79 [==============================] - 5s 64ms/step - loss: 0.0540 - accuracy: 0.9804\n",
      "Epoch 12/25\n",
      "79/79 [==============================] - 5s 64ms/step - loss: 0.0515 - accuracy: 0.9808\n",
      "Epoch 13/25\n",
      "79/79 [==============================] - 5s 63ms/step - loss: 0.0682 - accuracy: 0.9724\n",
      "Epoch 14/25\n",
      "79/79 [==============================] - 5s 65ms/step - loss: 0.0451 - accuracy: 0.9816\n",
      "Epoch 15/25\n",
      "79/79 [==============================] - 5s 63ms/step - loss: 0.0338 - accuracy: 0.9880\n",
      "Epoch 16/25\n",
      "79/79 [==============================] - 5s 63ms/step - loss: 0.1076 - accuracy: 0.9656\n",
      "Epoch 17/25\n",
      "79/79 [==============================] - 5s 63ms/step - loss: 0.1052 - accuracy: 0.9616\n",
      "Epoch 18/25\n",
      "79/79 [==============================] - 5s 64ms/step - loss: 0.0429 - accuracy: 0.9812\n",
      "Epoch 19/25\n",
      "79/79 [==============================] - 5s 63ms/step - loss: 0.0244 - accuracy: 0.9928\n",
      "Epoch 20/25\n",
      "79/79 [==============================] - 5s 63ms/step - loss: 0.0238 - accuracy: 0.9916\n",
      "Epoch 21/25\n",
      "79/79 [==============================] - 5s 64ms/step - loss: 0.0258 - accuracy: 0.9904\n",
      "Epoch 22/25\n",
      "79/79 [==============================] - 5s 63ms/step - loss: 0.0210 - accuracy: 0.9936\n",
      "Epoch 23/25\n",
      "79/79 [==============================] - 5s 63ms/step - loss: 0.0180 - accuracy: 0.9944\n",
      "Epoch 24/25\n",
      "79/79 [==============================] - 5s 64ms/step - loss: 0.0571 - accuracy: 0.9776\n",
      "Epoch 25/25\n",
      "79/79 [==============================] - 5s 65ms/step - loss: 0.0391 - accuracy: 0.9824\n",
      "45 _image_robustness\n",
      "Seed 45 suffix _image_robustness\n",
      "Found 2500 validated image filenames belonging to 10 classes.\n",
      "Generated dataset, now training model\n",
      "Train generator 79\n",
      "2500\n",
      "dataset/dsprites_image_robustness/images/234721.png\n",
      "Epoch 1/25\n",
      "79/79 [==============================] - 8s 96ms/step - loss: 1.9160 - accuracy: 0.6356\n",
      "Epoch 2/25\n",
      "79/79 [==============================] - 6s 74ms/step - loss: 0.3726 - accuracy: 0.8400\n",
      "Epoch 3/25\n",
      "79/79 [==============================] - 6s 70ms/step - loss: 0.2241 - accuracy: 0.9044\n",
      "Epoch 4/25\n",
      "79/79 [==============================] - 6s 71ms/step - loss: 0.1648 - accuracy: 0.9352\n",
      "Epoch 5/25\n",
      "79/79 [==============================] - 6s 72ms/step - loss: 0.1139 - accuracy: 0.9604\n",
      "Epoch 6/25\n",
      "79/79 [==============================] - 6s 75ms/step - loss: 0.0945 - accuracy: 0.9648\n",
      "Epoch 7/25\n",
      "79/79 [==============================] - 5s 64ms/step - loss: 0.0854 - accuracy: 0.9724\n",
      "Epoch 8/25\n",
      "79/79 [==============================] - 5s 66ms/step - loss: 0.1097 - accuracy: 0.9572\n",
      "Epoch 9/25\n",
      "79/79 [==============================] - 5s 65ms/step - loss: 0.0710 - accuracy: 0.9728\n",
      "Epoch 10/25\n",
      "79/79 [==============================] - 5s 65ms/step - loss: 0.0495 - accuracy: 0.9812\n",
      "Epoch 11/25\n",
      "79/79 [==============================] - 5s 67ms/step - loss: 0.0358 - accuracy: 0.9904\n",
      "Epoch 12/25\n",
      "79/79 [==============================] - 5s 65ms/step - loss: 0.0250 - accuracy: 0.9948\n",
      "Epoch 13/25\n",
      "79/79 [==============================] - 5s 66ms/step - loss: 0.0325 - accuracy: 0.9900\n",
      "Epoch 14/25\n",
      "79/79 [==============================] - 5s 65ms/step - loss: 0.0172 - accuracy: 0.9976\n",
      "Epoch 15/25\n",
      "79/79 [==============================] - 5s 67ms/step - loss: 0.0154 - accuracy: 0.9968\n",
      "Epoch 16/25\n",
      "79/79 [==============================] - 5s 66ms/step - loss: 0.0080 - accuracy: 0.9996\n",
      "Epoch 17/25\n",
      "79/79 [==============================] - 5s 66ms/step - loss: 0.0049 - accuracy: 1.0000\n",
      "Epoch 18/25\n",
      "79/79 [==============================] - 5s 65ms/step - loss: 0.0042 - accuracy: 1.0000\n",
      "Epoch 19/25\n",
      "79/79 [==============================] - 5s 66ms/step - loss: 0.0034 - accuracy: 1.0000\n",
      "Epoch 20/25\n",
      "79/79 [==============================] - 5s 65ms/step - loss: 0.0030 - accuracy: 1.0000\n",
      "Epoch 21/25\n",
      "79/79 [==============================] - 5s 65ms/step - loss: 0.0026 - accuracy: 1.0000\n",
      "Epoch 22/25\n",
      "79/79 [==============================] - 5s 66ms/step - loss: 0.0026 - accuracy: 1.0000\n",
      "Epoch 23/25\n",
      "79/79 [==============================] - 5s 66ms/step - loss: 0.0020 - accuracy: 1.0000\n",
      "Epoch 24/25\n",
      "79/79 [==============================] - 5s 66ms/step - loss: 0.0019 - accuracy: 1.0000\n",
      "Epoch 25/25\n",
      "79/79 [==============================] - 5s 66ms/step - loss: 0.0017 - accuracy: 1.0000\n",
      "45 _image_responsiveness\n",
      "Seed 45 suffix _image_responsiveness\n",
      "Found 2500 validated image filenames belonging to 10 classes.\n",
      "Generated dataset, now training model\n",
      "Train generator 79\n",
      "2500\n",
      "dataset/dsprites_image_responsiveness/images/234721.png\n",
      "Epoch 1/25\n",
      "79/79 [==============================] - 8s 88ms/step - loss: 3.9383 - accuracy: 0.1104\n",
      "Epoch 2/25\n",
      "79/79 [==============================] - 5s 68ms/step - loss: 2.3131 - accuracy: 0.1120\n",
      "Epoch 3/25\n",
      "79/79 [==============================] - 5s 67ms/step - loss: 2.2853 - accuracy: 0.1336\n",
      "Epoch 4/25\n",
      "79/79 [==============================] - 5s 67ms/step - loss: 2.2727 - accuracy: 0.1492\n",
      "Epoch 5/25\n",
      "79/79 [==============================] - 5s 67ms/step - loss: 2.2614 - accuracy: 0.1448\n",
      "Epoch 6/25\n",
      "79/79 [==============================] - 5s 68ms/step - loss: 2.2535 - accuracy: 0.1564\n",
      "Epoch 7/25\n",
      "79/79 [==============================] - 5s 66ms/step - loss: 2.2511 - accuracy: 0.1420\n",
      "Epoch 8/25\n",
      "79/79 [==============================] - 5s 66ms/step - loss: 2.2394 - accuracy: 0.1612\n",
      "Epoch 9/25\n",
      "79/79 [==============================] - 5s 66ms/step - loss: 2.2390 - accuracy: 0.1560\n",
      "Epoch 10/25\n",
      "79/79 [==============================] - 5s 66ms/step - loss: 2.2069 - accuracy: 0.1876\n",
      "Epoch 11/25\n",
      "79/79 [==============================] - 5s 66ms/step - loss: 2.1971 - accuracy: 0.1796\n",
      "Epoch 12/25\n",
      "79/79 [==============================] - 5s 66ms/step - loss: 2.1609 - accuracy: 0.2128\n",
      "Epoch 13/25\n",
      "79/79 [==============================] - 5s 66ms/step - loss: 2.1372 - accuracy: 0.2200\n",
      "Epoch 14/25\n",
      "79/79 [==============================] - 5s 67ms/step - loss: 2.1188 - accuracy: 0.2264\n",
      "Epoch 15/25\n",
      "79/79 [==============================] - 5s 66ms/step - loss: 2.0988 - accuracy: 0.2276\n",
      "Epoch 16/25\n",
      "79/79 [==============================] - 5s 66ms/step - loss: 2.0572 - accuracy: 0.2628\n",
      "Epoch 17/25\n",
      "79/79 [==============================] - 5s 66ms/step - loss: 2.0283 - accuracy: 0.2720\n",
      "Epoch 18/25\n",
      "79/79 [==============================] - 5s 66ms/step - loss: 2.0310 - accuracy: 0.2556\n",
      "Epoch 19/25\n",
      "79/79 [==============================] - 5s 65ms/step - loss: 1.9698 - accuracy: 0.3072\n",
      "Epoch 20/25\n",
      "79/79 [==============================] - 5s 65ms/step - loss: 1.9652 - accuracy: 0.2952\n",
      "Epoch 21/25\n",
      "79/79 [==============================] - 5s 65ms/step - loss: 1.8955 - accuracy: 0.3232\n",
      "Epoch 22/25\n",
      "79/79 [==============================] - 5s 65ms/step - loss: 1.8922 - accuracy: 0.3156\n",
      "Epoch 23/25\n",
      "79/79 [==============================] - 5s 65ms/step - loss: 1.8310 - accuracy: 0.3540\n",
      "Epoch 24/25\n",
      "79/79 [==============================] - 5s 66ms/step - loss: 1.8029 - accuracy: 0.3660\n",
      "Epoch 25/25\n",
      "79/79 [==============================] - 5s 65ms/step - loss: 1.7607 - accuracy: 0.3868\n"
     ]
    }
   ],
   "source": [
    "for seed in range(45,46):\n",
    "    for suffix in [\"\",\"_image_robustness\",\"_image_responsiveness\"]:\n",
    "        print(seed,suffix)\n",
    "        train_large_image_model(dataset,model_name,suffix,seed=seed)"
   ]
  },
  {
   "cell_type": "code",
   "execution_count": 34,
   "id": "bd6bf0cd",
   "metadata": {},
   "outputs": [],
   "source": [
    "model_name = \"inceptionv3\""
   ]
  },
  {
   "cell_type": "code",
   "execution_count": 37,
   "id": "c1158d76",
   "metadata": {},
   "outputs": [
    {
     "name": "stdout",
     "output_type": "stream",
     "text": [
      "Seed 44 suffix \n",
      "Found 4796 validated image filenames belonging to 200 classes.\n",
      "Generated dataset, now training model\n",
      "Epoch 1/25\n",
      "150/150 [==============================] - 41s 242ms/step - loss: 13.3623 - accuracy: 0.0607\n",
      "Epoch 2/25\n",
      "150/150 [==============================] - 35s 230ms/step - loss: 3.9671 - accuracy: 0.1712\n",
      "Epoch 3/25\n",
      "150/150 [==============================] - 34s 227ms/step - loss: 2.8531 - accuracy: 0.3224\n",
      "Epoch 4/25\n",
      "150/150 [==============================] - 33s 218ms/step - loss: 1.8666 - accuracy: 0.5090\n",
      "Epoch 5/25\n",
      "150/150 [==============================] - 34s 225ms/step - loss: 1.1377 - accuracy: 0.6806\n",
      "Epoch 6/25\n",
      "150/150 [==============================] - 35s 230ms/step - loss: 0.7143 - accuracy: 0.7959\n",
      "Epoch 7/25\n",
      "150/150 [==============================] - 34s 223ms/step - loss: 0.4149 - accuracy: 0.8791\n",
      "Epoch 8/25\n",
      "150/150 [==============================] - 35s 234ms/step - loss: 0.2317 - accuracy: 0.9379\n",
      "Epoch 9/25\n",
      "150/150 [==============================] - 35s 234ms/step - loss: 0.1064 - accuracy: 0.9791\n",
      "Epoch 10/25\n",
      "150/150 [==============================] - 33s 221ms/step - loss: 0.0519 - accuracy: 0.9921\n",
      "Epoch 11/25\n",
      "150/150 [==============================] - 35s 230ms/step - loss: 0.0286 - accuracy: 0.9965\n",
      "Epoch 12/25\n",
      "150/150 [==============================] - 34s 225ms/step - loss: 0.0086 - accuracy: 1.0000\n",
      "Epoch 13/25\n",
      "150/150 [==============================] - 36s 237ms/step - loss: 0.0045 - accuracy: 1.0000\n",
      "Epoch 14/25\n",
      "150/150 [==============================] - 36s 237ms/step - loss: 0.0035 - accuracy: 1.0000\n",
      "Epoch 15/25\n",
      "150/150 [==============================] - 34s 228ms/step - loss: 0.0030 - accuracy: 1.0000\n",
      "Epoch 16/25\n",
      "150/150 [==============================] - 34s 224ms/step - loss: 0.0027 - accuracy: 1.0000\n",
      "Epoch 17/25\n",
      "150/150 [==============================] - 35s 232ms/step - loss: 0.0024 - accuracy: 1.0000\n",
      "Epoch 18/25\n",
      "150/150 [==============================] - 34s 224ms/step - loss: 0.0021 - accuracy: 1.0000\n",
      "Epoch 19/25\n",
      "150/150 [==============================] - 33s 220ms/step - loss: 0.0019 - accuracy: 1.0000\n",
      "Epoch 20/25\n",
      "150/150 [==============================] - 33s 222ms/step - loss: 0.0017 - accuracy: 1.0000\n",
      "Epoch 21/25\n",
      "150/150 [==============================] - 34s 228ms/step - loss: 0.0016 - accuracy: 1.0000\n",
      "Epoch 22/25\n",
      "150/150 [==============================] - 33s 220ms/step - loss: 0.0014 - accuracy: 1.0000\n",
      "Epoch 23/25\n",
      "150/150 [==============================] - 34s 229ms/step - loss: 0.0013 - accuracy: 1.0000\n",
      "Epoch 24/25\n",
      "150/150 [==============================] - 34s 228ms/step - loss: 0.0012 - accuracy: 1.0000\n",
      "Epoch 25/25\n",
      "150/150 [==============================] - 33s 221ms/step - loss: 0.0011 - accuracy: 1.0000\n",
      "Seed 45 suffix \n",
      "Found 4796 validated image filenames belonging to 200 classes.\n",
      "Generated dataset, now training model\n",
      "Epoch 1/25\n",
      "150/150 [==============================] - 37s 216ms/step - loss: 10.2201 - accuracy: 0.0400\n",
      "Epoch 2/25\n",
      "150/150 [==============================] - 33s 221ms/step - loss: 4.2191 - accuracy: 0.1216\n",
      "Epoch 3/25\n",
      "150/150 [==============================] - 34s 224ms/step - loss: 3.4830 - accuracy: 0.2143\n",
      "Epoch 4/25\n",
      "150/150 [==============================] - 33s 222ms/step - loss: 2.7898 - accuracy: 0.3063\n",
      "Epoch 5/25\n",
      "150/150 [==============================] - 36s 238ms/step - loss: 2.1554 - accuracy: 0.4156\n",
      "Epoch 6/25\n",
      "150/150 [==============================] - 34s 226ms/step - loss: 1.7358 - accuracy: 0.5056\n",
      "Epoch 7/25\n",
      "150/150 [==============================] - 33s 219ms/step - loss: 1.3665 - accuracy: 0.5999\n",
      "Epoch 8/25\n",
      "150/150 [==============================] - 34s 223ms/step - loss: 1.0431 - accuracy: 0.6885\n",
      "Epoch 9/25\n",
      "150/150 [==============================] - 36s 242ms/step - loss: 0.8416 - accuracy: 0.7454\n",
      "Epoch 10/25\n",
      "150/150 [==============================] - 33s 220ms/step - loss: 0.6225 - accuracy: 0.8144\n",
      "Epoch 11/25\n",
      "150/150 [==============================] - 33s 222ms/step - loss: 0.4859 - accuracy: 0.8551\n",
      "Epoch 12/25\n",
      "150/150 [==============================] - 34s 223ms/step - loss: 0.3436 - accuracy: 0.8985\n",
      "Epoch 13/25\n",
      "150/150 [==============================] - 33s 218ms/step - loss: 0.2499 - accuracy: 0.9360\n",
      "Epoch 14/25\n",
      "150/150 [==============================] - 36s 237ms/step - loss: 0.1965 - accuracy: 0.9475\n",
      "Epoch 15/25\n",
      "150/150 [==============================] - 34s 228ms/step - loss: 0.1286 - accuracy: 0.9714\n",
      "Epoch 16/25\n",
      "150/150 [==============================] - 33s 219ms/step - loss: 0.1052 - accuracy: 0.9791\n",
      "Epoch 17/25\n",
      "150/150 [==============================] - 34s 222ms/step - loss: 0.0895 - accuracy: 0.9817\n",
      "Epoch 18/25\n",
      "150/150 [==============================] - 38s 250ms/step - loss: 0.0730 - accuracy: 0.9871\n",
      "Epoch 19/25\n",
      "150/150 [==============================] - 32s 215ms/step - loss: 0.0366 - accuracy: 0.9948\n",
      "Epoch 20/25\n",
      "150/150 [==============================] - 34s 229ms/step - loss: 0.0756 - accuracy: 0.9821\n",
      "Epoch 21/25\n",
      "150/150 [==============================] - 35s 231ms/step - loss: 0.3347 - accuracy: 0.8985\n",
      "Epoch 22/25\n",
      "150/150 [==============================] - 32s 215ms/step - loss: 0.6769 - accuracy: 0.7998\n",
      "Epoch 23/25\n",
      "150/150 [==============================] - 36s 239ms/step - loss: 0.4030 - accuracy: 0.8686\n",
      "Epoch 24/25\n",
      "150/150 [==============================] - 35s 233ms/step - loss: 0.1934 - accuracy: 0.9362\n",
      "Epoch 25/25\n",
      "150/150 [==============================] - 34s 224ms/step - loss: 0.1845 - accuracy: 0.9402\n"
     ]
    }
   ],
   "source": [
    "# train_large_image_model(dataset,model_name,\"\",seed=43)\n",
    "train_large_image_model(dataset,model_name,\"\",seed=44)\n",
    "train_large_image_model(dataset,model_name,\"\",seed=45)"
   ]
  },
  {
   "cell_type": "code",
   "execution_count": 8,
   "id": "39c07115",
   "metadata": {},
   "outputs": [
    {
     "name": "stdout",
     "output_type": "stream",
     "text": [
      "44 \n"
     ]
    },
    {
     "name": "stderr",
     "output_type": "stream",
     "text": [
      "2023-04-19 13:07:32.698930: I tensorflow/core/platform/cpu_feature_guard.cc:193] This TensorFlow binary is optimized with oneAPI Deep Neural Network Library (oneDNN) to use the following CPU instructions in performance-critical operations:  SSE4.1 SSE4.2 AVX AVX2 FMA\n",
      "To enable them in other operations, rebuild TensorFlow with the appropriate compiler flags.\n",
      "2023-04-19 13:07:33.643667: I tensorflow/core/common_runtime/gpu/gpu_device.cc:1616] Created device /job:localhost/replica:0/task:0/device:GPU:0 with 2048 MB memory:  -> device: 0, name: NVIDIA TITAN Xp, pci bus id: 0000:03:00.0, compute capability: 6.1\n",
      "/auto/homes/njr61/environments/mambaforge/envs/concepts/lib/python3.7/site-packages/keras/optimizers/optimizer_v2/adam.py:114: UserWarning: The `lr` argument is deprecated, use `learning_rate` instead.\n",
      "  super().__init__(name, **kwargs)\n"
     ]
    },
    {
     "name": "stdout",
     "output_type": "stream",
     "text": [
      "Using directory results/shapley/dsprites/44\n",
      "Found 2500 validated image filenames belonging to 10 classes.\n"
     ]
    },
    {
     "name": "stderr",
     "output_type": "stream",
     "text": [
      "2023-04-19 13:07:36.848534: I tensorflow/stream_executor/cuda/cuda_dnn.cc:384] Loaded cuDNN version 8401\n",
      "2023-04-19 13:07:37.468907: W tensorflow/stream_executor/gpu/asm_compiler.cc:111] *** WARNING *** You are using ptxas 10.1.243, which is older than 11.1. ptxas before 11.1 is known to miscompile XLA code, leading to incorrect results or invalid-address errors.\n",
      "\n",
      "You may not need to update to CUDA 11.1; cherry-picking the ptxas binary is often sufficient.\n",
      "2023-04-19 13:07:37.685982: W tensorflow/core/common_runtime/bfc_allocator.cc:290] Allocator (GPU_0_bfc) ran out of memory trying to allocate 1.02GiB with freed_by_count=0. The caller indicates that this is not a failure, but this may mean that there could be performance gains if more memory were available.\n",
      "2023-04-19 13:07:37.759487: W tensorflow/core/common_runtime/bfc_allocator.cc:290] Allocator (GPU_0_bfc) ran out of memory trying to allocate 1.74GiB with freed_by_count=0. The caller indicates that this is not a failure, but this may mean that there could be performance gains if more memory were available.\n",
      "2023-04-19 13:07:37.925741: W tensorflow/core/common_runtime/bfc_allocator.cc:290] Allocator (GPU_0_bfc) ran out of memory trying to allocate 3.46GiB with freed_by_count=0. The caller indicates that this is not a failure, but this may mean that there could be performance gains if more memory were available.\n",
      "2023-04-19 13:07:37.925814: W tensorflow/core/common_runtime/bfc_allocator.cc:290] Allocator (GPU_0_bfc) ran out of memory trying to allocate 3.46GiB with freed_by_count=0. The caller indicates that this is not a failure, but this may mean that there could be performance gains if more memory were available.\n",
      "2023-04-19 13:07:37.960980: W tensorflow/core/common_runtime/bfc_allocator.cc:290] Allocator (GPU_0_bfc) ran out of memory trying to allocate 3.04GiB with freed_by_count=0. The caller indicates that this is not a failure, but this may mean that there could be performance gains if more memory were available.\n",
      "2023-04-19 13:07:38.179701: W tensorflow/core/common_runtime/bfc_allocator.cc:290] Allocator (GPU_0_bfc) ran out of memory trying to allocate 1.29GiB with freed_by_count=0. The caller indicates that this is not a failure, but this may mean that there could be performance gains if more memory were available.\n",
      "2023-04-19 13:07:38.358692: W tensorflow/core/common_runtime/bfc_allocator.cc:290] Allocator (GPU_0_bfc) ran out of memory trying to allocate 1.74GiB with freed_by_count=0. The caller indicates that this is not a failure, but this may mean that there could be performance gains if more memory were available.\n",
      "2023-04-19 13:07:38.358760: W tensorflow/core/common_runtime/bfc_allocator.cc:290] Allocator (GPU_0_bfc) ran out of memory trying to allocate 1.74GiB with freed_by_count=0. The caller indicates that this is not a failure, but this may mean that there could be performance gains if more memory were available.\n",
      "2023-04-19 13:07:38.414436: W tensorflow/core/common_runtime/bfc_allocator.cc:290] Allocator (GPU_0_bfc) ran out of memory trying to allocate 2.55GiB with freed_by_count=0. The caller indicates that this is not a failure, but this may mean that there could be performance gains if more memory were available.\n",
      "2023-04-19 13:07:38.837693: W tensorflow/core/common_runtime/bfc_allocator.cc:290] Allocator (GPU_0_bfc) ran out of memory trying to allocate 2.34GiB with freed_by_count=0. The caller indicates that this is not a failure, but this may mean that there could be performance gains if more memory were available.\n"
     ]
    },
    {
     "name": "stdout",
     "output_type": "stream",
     "text": [
      "79/79 [==============================] - 10s 85ms/step\n"
     ]
    },
    {
     "name": "stderr",
     "output_type": "stream",
     "text": [
      "/auto/homes/njr61/environments/mambaforge/envs/concepts/lib/python3.7/site-packages/numpy/core/fromnumeric.py:3441: RuntimeWarning: Mean of empty slice.\n",
      "  out=out, **kwargs)\n",
      "/auto/homes/njr61/environments/mambaforge/envs/concepts/lib/python3.7/site-packages/numpy/core/_methods.py:189: RuntimeWarning: invalid value encountered in true_divide\n",
      "  ret = ret.dtype.type(ret / rcount)\n"
     ]
    },
    {
     "name": "stdout",
     "output_type": "stream",
     "text": [
      "44 _image_robustness\n",
      "Using directory results/shapley/dsprites_image_robustness/44\n",
      "Found 2500 validated image filenames belonging to 10 classes.\n",
      "79/79 [==============================] - 5s 56ms/step\n",
      "44 _image_responsiveness\n",
      "Using directory results/shapley/dsprites_image_responsiveness/44\n",
      "Found 2500 validated image filenames belonging to 10 classes.\n",
      "79/79 [==============================] - 5s 56ms/step\n",
      "45 \n",
      "Using directory results/shapley/dsprites/45\n",
      "Found 2500 validated image filenames belonging to 10 classes.\n",
      "79/79 [==============================] - 5s 56ms/step\n",
      "45 _image_robustness\n",
      "Using directory results/shapley/dsprites_image_robustness/45\n",
      "Found 2500 validated image filenames belonging to 10 classes.\n"
     ]
    },
    {
     "name": "stderr",
     "output_type": "stream",
     "text": [
      "2023-04-19 13:08:13.716928: W tensorflow/core/common_runtime/bfc_allocator.cc:479] Allocator (GPU_0_bfc) ran out of memory trying to allocate 392.00MiB (rounded to 411041792)requested by op model_4/block1_conv2/Relu\n",
      "If the cause is memory fragmentation maybe the environment variable 'TF_GPU_ALLOCATOR=cuda_malloc_async' will improve the situation. \n",
      "Current allocation summary follows.\n",
      "Current allocation summary follows.\n",
      "2023-04-19 13:08:13.717016: I tensorflow/core/common_runtime/bfc_allocator.cc:1033] BFCAllocator dump for GPU_0_bfc\n",
      "2023-04-19 13:08:13.717040: I tensorflow/core/common_runtime/bfc_allocator.cc:1040] Bin (256): \tTotal Chunks: 53, Chunks in use: 53. 13.2KiB allocated for chunks. 13.2KiB in use in bin. 2.9KiB client-requested in use in bin.\n",
      "2023-04-19 13:08:13.717056: I tensorflow/core/common_runtime/bfc_allocator.cc:1040] Bin (512): \tTotal Chunks: 11, Chunks in use: 10. 5.8KiB allocated for chunks. 5.0KiB in use in bin. 5.0KiB client-requested in use in bin.\n",
      "2023-04-19 13:08:13.717072: I tensorflow/core/common_runtime/bfc_allocator.cc:1040] Bin (1024): \tTotal Chunks: 17, Chunks in use: 16. 18.2KiB allocated for chunks. 17.2KiB in use in bin. 16.0KiB client-requested in use in bin.\n",
      "2023-04-19 13:08:13.717087: I tensorflow/core/common_runtime/bfc_allocator.cc:1040] Bin (2048): \tTotal Chunks: 32, Chunks in use: 30. 69.5KiB allocated for chunks. 64.2KiB in use in bin. 60.0KiB client-requested in use in bin.\n",
      "2023-04-19 13:08:13.717102: I tensorflow/core/common_runtime/bfc_allocator.cc:1040] Bin (4096): \tTotal Chunks: 10, Chunks in use: 10. 54.5KiB allocated for chunks. 54.5KiB in use in bin. 53.8KiB client-requested in use in bin.\n",
      "2023-04-19 13:08:13.717117: I tensorflow/core/common_runtime/bfc_allocator.cc:1040] Bin (8192): \tTotal Chunks: 1, Chunks in use: 0. 13.2KiB allocated for chunks. 0B in use in bin. 0B client-requested in use in bin.\n",
      "2023-04-19 13:08:13.717131: I tensorflow/core/common_runtime/bfc_allocator.cc:1040] Bin (16384): \tTotal Chunks: 0, Chunks in use: 0. 0B allocated for chunks. 0B in use in bin. 0B client-requested in use in bin.\n",
      "2023-04-19 13:08:13.717146: I tensorflow/core/common_runtime/bfc_allocator.cc:1040] Bin (32768): \tTotal Chunks: 3, Chunks in use: 2. 120.0KiB allocated for chunks. 80.0KiB in use in bin. 80.0KiB client-requested in use in bin.\n",
      "2023-04-19 13:08:13.717167: I tensorflow/core/common_runtime/bfc_allocator.cc:1040] Bin (65536): \tTotal Chunks: 3, Chunks in use: 3. 214.8KiB allocated for chunks. 214.8KiB in use in bin. 120.0KiB client-requested in use in bin.\n",
      "2023-04-19 13:08:13.717182: I tensorflow/core/common_runtime/bfc_allocator.cc:1040] Bin (131072): \tTotal Chunks: 5, Chunks in use: 5. 720.0KiB allocated for chunks. 720.0KiB in use in bin. 720.0KiB client-requested in use in bin.\n",
      "2023-04-19 13:08:13.717196: I tensorflow/core/common_runtime/bfc_allocator.cc:1040] Bin (262144): \tTotal Chunks: 5, Chunks in use: 5. 1.41MiB allocated for chunks. 1.41MiB in use in bin. 1.41MiB client-requested in use in bin.\n",
      "2023-04-19 13:08:13.717210: I tensorflow/core/common_runtime/bfc_allocator.cc:1040] Bin (524288): \tTotal Chunks: 5, Chunks in use: 5. 2.95MiB allocated for chunks. 2.95MiB in use in bin. 2.81MiB client-requested in use in bin.\n",
      "2023-04-19 13:08:13.717224: I tensorflow/core/common_runtime/bfc_allocator.cc:1040] Bin (1048576): \tTotal Chunks: 5, Chunks in use: 5. 5.84MiB allocated for chunks. 5.84MiB in use in bin. 5.62MiB client-requested in use in bin.\n",
      "2023-04-19 13:08:13.717249: I tensorflow/core/common_runtime/bfc_allocator.cc:1040] Bin (2097152): \tTotal Chunks: 10, Chunks in use: 10. 22.78MiB allocated for chunks. 22.78MiB in use in bin. 22.50MiB client-requested in use in bin.\n",
      "2023-04-19 13:08:13.717264: I tensorflow/core/common_runtime/bfc_allocator.cc:1040] Bin (4194304): \tTotal Chunks: 6, Chunks in use: 5. 29.27MiB allocated for chunks. 24.77MiB in use in bin. 22.50MiB client-requested in use in bin.\n",
      "2023-04-19 13:08:13.717280: I tensorflow/core/common_runtime/bfc_allocator.cc:1040] Bin (8388608): \tTotal Chunks: 26, Chunks in use: 25. 243.00MiB allocated for chunks. 234.00MiB in use in bin. 225.00MiB client-requested in use in bin.\n",
      "2023-04-19 13:08:13.717292: I tensorflow/core/common_runtime/bfc_allocator.cc:1040] Bin (16777216): \tTotal Chunks: 0, Chunks in use: 0. 0B allocated for chunks. 0B in use in bin. 0B client-requested in use in bin.\n",
      "2023-04-19 13:08:13.717306: I tensorflow/core/common_runtime/bfc_allocator.cc:1040] Bin (33554432): \tTotal Chunks: 1, Chunks in use: 0. 36.75MiB allocated for chunks. 0B in use in bin. 0B client-requested in use in bin.\n",
      "2023-04-19 13:08:13.717318: I tensorflow/core/common_runtime/bfc_allocator.cc:1040] Bin (67108864): \tTotal Chunks: 0, Chunks in use: 0. 0B allocated for chunks. 0B in use in bin. 0B client-requested in use in bin.\n",
      "2023-04-19 13:08:13.717337: I tensorflow/core/common_runtime/bfc_allocator.cc:1040] Bin (134217728): \tTotal Chunks: 5, Chunks in use: 5. 935.00MiB allocated for chunks. 935.00MiB in use in bin. 490.00MiB client-requested in use in bin.\n",
      "2023-04-19 13:08:13.717352: I tensorflow/core/common_runtime/bfc_allocator.cc:1040] Bin (268435456): \tTotal Chunks: 2, Chunks in use: 1. 769.81MiB allocated for chunks. 392.00MiB in use in bin. 392.00MiB client-requested in use in bin.\n",
      "2023-04-19 13:08:13.717366: I tensorflow/core/common_runtime/bfc_allocator.cc:1056] Bin for 392.00MiB was 256.00MiB, Chunk State: \n",
      "2023-04-19 13:08:13.717387: I tensorflow/core/common_runtime/bfc_allocator.cc:1062]   Size: 377.81MiB | Requested Size: 1.2KiB | in_use: 0 | bin_num: 20, prev:   Size: 392.00MiB | Requested Size: 392.00MiB | in_use: 1 | bin_num: -1\n",
      "2023-04-19 13:08:13.717398: I tensorflow/core/common_runtime/bfc_allocator.cc:1069] Next region of size 2147483648\n",
      "2023-04-19 13:08:13.717410: I tensorflow/core/common_runtime/bfc_allocator.cc:1089] InUse at 7f4d4c000000 of size 1280 next 1\n",
      "2023-04-19 13:08:13.717421: I tensorflow/core/common_runtime/bfc_allocator.cc:1089] InUse at 7f4d4c000500 of size 256 next 2\n",
      "2023-04-19 13:08:13.717431: I tensorflow/core/common_runtime/bfc_allocator.cc:1089] InUse at 7f4d4c000600 of size 256 next 3\n",
      "2023-04-19 13:08:13.717441: I tensorflow/core/common_runtime/bfc_allocator.cc:1089] InUse at 7f4d4c000700 of size 256 next 5\n",
      "2023-04-19 13:08:13.717451: I tensorflow/core/common_runtime/bfc_allocator.cc:1089] InUse at 7f4d4c000800 of size 256 next 6\n",
      "2023-04-19 13:08:13.717461: I tensorflow/core/common_runtime/bfc_allocator.cc:1089] InUse at 7f4d4c000900 of size 256 next 4\n",
      "2023-04-19 13:08:13.717470: I tensorflow/core/common_runtime/bfc_allocator.cc:1089] InUse at 7f4d4c000a00 of size 256 next 7\n",
      "2023-04-19 13:08:13.717480: I tensorflow/core/common_runtime/bfc_allocator.cc:1089] InUse at 7f4d4c000b00 of size 256 next 12\n",
      "2023-04-19 13:08:13.717490: I tensorflow/core/common_runtime/bfc_allocator.cc:1089] InUse at 7f4d4c000c00 of size 256 next 10\n",
      "2023-04-19 13:08:13.717499: I tensorflow/core/common_runtime/bfc_allocator.cc:1089] InUse at 7f4d4c000d00 of size 256 next 11\n",
      "2023-04-19 13:08:13.717509: I tensorflow/core/common_runtime/bfc_allocator.cc:1089] InUse at 7f4d4c000e00 of size 256 next 65\n",
      "2023-04-19 13:08:13.717519: I tensorflow/core/common_runtime/bfc_allocator.cc:1089] InUse at 7f4d4c000f00 of size 256 next 15\n",
      "2023-04-19 13:08:13.717528: I tensorflow/core/common_runtime/bfc_allocator.cc:1089] InUse at 7f4d4c001000 of size 256 next 16\n",
      "2023-04-19 13:08:13.717538: I tensorflow/core/common_runtime/bfc_allocator.cc:1089] InUse at 7f4d4c001100 of size 256 next 19\n",
      "2023-04-19 13:08:13.717548: I tensorflow/core/common_runtime/bfc_allocator.cc:1089] InUse at 7f4d4c001200 of size 256 next 50\n",
      "2023-04-19 13:08:13.717557: I tensorflow/core/common_runtime/bfc_allocator.cc:1089] InUse at 7f4d4c001300 of size 256 next 22\n",
      "2023-04-19 13:08:13.717567: I tensorflow/core/common_runtime/bfc_allocator.cc:1089] InUse at 7f4d4c001400 of size 256 next 20\n",
      "2023-04-19 13:08:13.717576: I tensorflow/core/common_runtime/bfc_allocator.cc:1089] InUse at 7f4d4c001500 of size 256 next 21\n",
      "2023-04-19 13:08:13.717587: I tensorflow/core/common_runtime/bfc_allocator.cc:1089] InUse at 7f4d4c001600 of size 1024 next 25\n",
      "2023-04-19 13:08:13.717598: I tensorflow/core/common_runtime/bfc_allocator.cc:1089] InUse at 7f4d4c001a00 of size 256 next 26\n",
      "2023-04-19 13:08:13.717608: I tensorflow/core/common_runtime/bfc_allocator.cc:1089] InUse at 7f4d4c001b00 of size 256 next 29\n",
      "2023-04-19 13:08:13.717617: I tensorflow/core/common_runtime/bfc_allocator.cc:1089] InUse at 7f4d4c001c00 of size 256 next 75\n",
      "2023-04-19 13:08:13.717627: I tensorflow/core/common_runtime/bfc_allocator.cc:1089] InUse at 7f4d4c001d00 of size 256 next 82\n",
      "2023-04-19 13:08:13.717637: I tensorflow/core/common_runtime/bfc_allocator.cc:1089] InUse at 7f4d4c001e00 of size 256 next 91\n",
      "2023-04-19 13:08:13.717648: I tensorflow/core/common_runtime/bfc_allocator.cc:1089] InUse at 7f4d4c001f00 of size 256 next 32\n",
      "2023-04-19 13:08:13.717658: I tensorflow/core/common_runtime/bfc_allocator.cc:1089] InUse at 7f4d4c002000 of size 256 next 48\n",
      "2023-04-19 13:08:13.717668: I tensorflow/core/common_runtime/bfc_allocator.cc:1089] InUse at 7f4d4c002100 of size 256 next 57\n",
      "2023-04-19 13:08:13.717678: I tensorflow/core/common_runtime/bfc_allocator.cc:1089] InUse at 7f4d4c002200 of size 256 next 53\n",
      "2023-04-19 13:08:13.717687: I tensorflow/core/common_runtime/bfc_allocator.cc:1089] InUse at 7f4d4c002300 of size 256 next 35\n",
      "2023-04-19 13:08:13.717697: I tensorflow/core/common_runtime/bfc_allocator.cc:1089] InUse at 7f4d4c002400 of size 256 next 30\n",
      "2023-04-19 13:08:13.717707: I tensorflow/core/common_runtime/bfc_allocator.cc:1089] InUse at 7f4d4c002500 of size 256 next 31\n",
      "2023-04-19 13:08:13.717717: I tensorflow/core/common_runtime/bfc_allocator.cc:1089] InUse at 7f4d4c002600 of size 2048 next 37\n",
      "2023-04-19 13:08:13.717727: I tensorflow/core/common_runtime/bfc_allocator.cc:1089] InUse at 7f4d4c002e00 of size 256 next 38\n",
      "2023-04-19 13:08:13.717736: I tensorflow/core/common_runtime/bfc_allocator.cc:1089] InUse at 7f4d4c002f00 of size 256 next 41\n",
      "2023-04-19 13:08:13.717746: I tensorflow/core/common_runtime/bfc_allocator.cc:1089] InUse at 7f4d4c003000 of size 2048 next 44\n",
      "2023-04-19 13:08:13.717756: I tensorflow/core/common_runtime/bfc_allocator.cc:1089] InUse at 7f4d4c003800 of size 2048 next 8\n",
      "2023-04-19 13:08:13.717766: I tensorflow/core/common_runtime/bfc_allocator.cc:1089] InUse at 7f4d4c004000 of size 256 next 54\n",
      "2023-04-19 13:08:13.717775: I tensorflow/core/common_runtime/bfc_allocator.cc:1089] InUse at 7f4d4c004100 of size 512 next 17\n",
      "2023-04-19 13:08:13.717786: I tensorflow/core/common_runtime/bfc_allocator.cc:1089] InUse at 7f4d4c004300 of size 1024 next 28\n",
      "2023-04-19 13:08:13.717795: I tensorflow/core/common_runtime/bfc_allocator.cc:1089] InUse at 7f4d4c004700 of size 2048 next 39\n",
      "2023-04-19 13:08:13.717805: I tensorflow/core/common_runtime/bfc_allocator.cc:1089] InUse at 7f4d4c004f00 of size 2048 next 49\n",
      "2023-04-19 13:08:13.717815: I tensorflow/core/common_runtime/bfc_allocator.cc:1089] InUse at 7f4d4c005700 of size 2048 next 84\n",
      "2023-04-19 13:08:13.717825: I tensorflow/core/common_runtime/bfc_allocator.cc:1089] InUse at 7f4d4c005f00 of size 2048 next 87\n",
      "2023-04-19 13:08:13.717835: I tensorflow/core/common_runtime/bfc_allocator.cc:1089] InUse at 7f4d4c006700 of size 3072 next 52\n",
      "2023-04-19 13:08:13.717845: I tensorflow/core/common_runtime/bfc_allocator.cc:1089] InUse at 7f4d4c007300 of size 256 next 47\n",
      "2023-04-19 13:08:13.717855: I tensorflow/core/common_runtime/bfc_allocator.cc:1089] InUse at 7f4d4c007400 of size 256 next 61\n",
      "2023-04-19 13:08:13.717865: I tensorflow/core/common_runtime/bfc_allocator.cc:1089] InUse at 7f4d4c007500 of size 730624 next 18\n",
      "2023-04-19 13:08:13.717876: I tensorflow/core/common_runtime/bfc_allocator.cc:1089] InUse at 7f4d4c0b9b00 of size 2654208 next 13\n",
      "2023-04-19 13:08:13.717887: I tensorflow/core/common_runtime/bfc_allocator.cc:1089] InUse at 7f4d4c341b00 of size 4718592 next 33\n",
      "2023-04-19 13:08:13.717897: I tensorflow/core/common_runtime/bfc_allocator.cc:1089] InUse at 7f4d4c7c1b00 of size 256 next 56\n",
      "2023-04-19 13:08:13.717907: I tensorflow/core/common_runtime/bfc_allocator.cc:1089] InUse at 7f4d4c7c1c00 of size 6912 next 60\n",
      "2023-04-19 13:08:13.717927: I tensorflow/core/common_runtime/bfc_allocator.cc:1089] InUse at 7f4d4c7c3700 of size 512 next 14\n",
      "2023-04-19 13:08:13.717937: I tensorflow/core/common_runtime/bfc_allocator.cc:1089] InUse at 7f4d4c7c3900 of size 1024 next 23\n",
      "2023-04-19 13:08:13.717947: I tensorflow/core/common_runtime/bfc_allocator.cc:1089] InUse at 7f4d4c7c3d00 of size 2048 next 27\n",
      "2023-04-19 13:08:13.717957: I tensorflow/core/common_runtime/bfc_allocator.cc:1089] InUse at 7f4d4c7c4500 of size 4096 next 24\n",
      "2023-04-19 13:08:13.717968: I tensorflow/core/common_runtime/bfc_allocator.cc:1089] InUse at 7f4d4c7c5500 of size 67072 next 58\n",
      "2023-04-19 13:08:13.717978: I tensorflow/core/common_runtime/bfc_allocator.cc:1089] InUse at 7f4d4c7d5b00 of size 1536 next 100\n",
      "2023-04-19 13:08:13.717988: I tensorflow/core/common_runtime/bfc_allocator.cc:1089] InUse at 7f4d4c7d6100 of size 1024 next 80\n",
      "2023-04-19 13:08:13.717998: I tensorflow/core/common_runtime/bfc_allocator.cc:1089] InUse at 7f4d4c7d6500 of size 2048 next 113\n",
      "2023-04-19 13:08:13.718008: I tensorflow/core/common_runtime/bfc_allocator.cc:1089] InUse at 7f4d4c7d6d00 of size 1024 next 140\n",
      "2023-04-19 13:08:13.718018: I tensorflow/core/common_runtime/bfc_allocator.cc:1089] InUse at 7f4d4c7d7100 of size 256 next 152\n",
      "2023-04-19 13:08:13.718028: I tensorflow/core/common_runtime/bfc_allocator.cc:1089] InUse at 7f4d4c7d7200 of size 256 next 128\n",
      "2023-04-19 13:08:13.718037: I tensorflow/core/common_runtime/bfc_allocator.cc:1089] InUse at 7f4d4c7d7300 of size 256 next 160\n",
      "2023-04-19 13:08:13.718047: I tensorflow/core/common_runtime/bfc_allocator.cc:1089] InUse at 7f4d4c7d7400 of size 512 next 66\n",
      "2023-04-19 13:08:13.718057: I tensorflow/core/common_runtime/bfc_allocator.cc:1089] InUse at 7f4d4c7d7600 of size 256 next 67\n",
      "2023-04-19 13:08:13.718066: I tensorflow/core/common_runtime/bfc_allocator.cc:1089] InUse at 7f4d4c7d7700 of size 512 next 71\n",
      "2023-04-19 13:08:13.718076: I tensorflow/core/common_runtime/bfc_allocator.cc:1089] InUse at 7f4d4c7d7900 of size 1024 next 76\n",
      "2023-04-19 13:08:13.718086: I tensorflow/core/common_runtime/bfc_allocator.cc:1089] InUse at 7f4d4c7d7d00 of size 2048 next 83\n",
      "2023-04-19 13:08:13.718096: I tensorflow/core/common_runtime/bfc_allocator.cc:1089] InUse at 7f4d4c7d8500 of size 3072 next 51\n",
      "2023-04-19 13:08:13.718106: I tensorflow/core/common_runtime/bfc_allocator.cc:1089] InUse at 7f4d4c7d9100 of size 256 next 158\n",
      "2023-04-19 13:08:13.718116: I tensorflow/core/common_runtime/bfc_allocator.cc:1089] InUse at 7f4d4c7d9200 of size 256 next 136\n",
      "2023-04-19 13:08:13.718125: I tensorflow/core/common_runtime/bfc_allocator.cc:1089] InUse at 7f4d4c7d9300 of size 256 next 142\n",
      "2023-04-19 13:08:13.718135: I tensorflow/core/common_runtime/bfc_allocator.cc:1089] InUse at 7f4d4c7d9400 of size 256 next 156\n",
      "2023-04-19 13:08:13.718145: I tensorflow/core/common_runtime/bfc_allocator.cc:1089] InUse at 7f4d4c7d9500 of size 256 next 108\n",
      "2023-04-19 13:08:13.718154: I tensorflow/core/common_runtime/bfc_allocator.cc:1089] InUse at 7f4d4c7d9600 of size 256 next 107\n",
      "2023-04-19 13:08:13.718164: I tensorflow/core/common_runtime/bfc_allocator.cc:1089] InUse at 7f4d4c7d9700 of size 512 next 77\n",
      "2023-04-19 13:08:13.718174: I tensorflow/core/common_runtime/bfc_allocator.cc:1089] InUse at 7f4d4c7d9900 of size 256 next 93\n",
      "2023-04-19 13:08:13.718184: I tensorflow/core/common_runtime/bfc_allocator.cc:1089] InUse at 7f4d4c7d9a00 of size 256 next 92\n",
      "2023-04-19 13:08:13.718194: I tensorflow/core/common_runtime/bfc_allocator.cc:1089] InUse at 7f4d4c7d9b00 of size 512 next 94\n",
      "2023-04-19 13:08:13.718204: I tensorflow/core/common_runtime/bfc_allocator.cc:1089] InUse at 7f4d4c7d9d00 of size 1024 next 68\n",
      "2023-04-19 13:08:13.718214: I tensorflow/core/common_runtime/bfc_allocator.cc:1089] InUse at 7f4d4c7da100 of size 2048 next 74\n",
      "2023-04-19 13:08:13.718224: I tensorflow/core/common_runtime/bfc_allocator.cc:1089] InUse at 7f4d4c7da900 of size 4864 next 89\n",
      "2023-04-19 13:08:13.718234: I tensorflow/core/common_runtime/bfc_allocator.cc:1089] InUse at 7f4d4c7dbc00 of size 6912 next 96\n",
      "2023-04-19 13:08:13.718244: I tensorflow/core/common_runtime/bfc_allocator.cc:1089] InUse at 7f4d4c7dd700 of size 256 next 166\n",
      "2023-04-19 13:08:13.718287: I tensorflow/core/common_runtime/bfc_allocator.cc:1089] InUse at 7f4d4c7dd800 of size 256 next 169\n",
      "2023-04-19 13:08:13.718298: I tensorflow/core/common_runtime/bfc_allocator.cc:1089] InUse at 7f4d4c7dd900 of size 256 next 181\n",
      "2023-04-19 13:08:13.718308: I tensorflow/core/common_runtime/bfc_allocator.cc:1089] InUse at 7f4d4c7dda00 of size 256 next 138\n",
      "2023-04-19 13:08:13.718318: I tensorflow/core/common_runtime/bfc_allocator.cc:1089] InUse at 7f4d4c7ddb00 of size 512 next 114\n",
      "2023-04-19 13:08:13.718329: I tensorflow/core/common_runtime/bfc_allocator.cc:1089] Free  at 7f4d4c7ddd00 of size 768 next 104\n",
      "2023-04-19 13:08:13.718339: I tensorflow/core/common_runtime/bfc_allocator.cc:1089] InUse at 7f4d4c7de000 of size 256 next 172\n",
      "2023-04-19 13:08:13.718349: I tensorflow/core/common_runtime/bfc_allocator.cc:1089] InUse at 7f4d4c7de100 of size 512 next 129\n",
      "2023-04-19 13:08:13.718359: I tensorflow/core/common_runtime/bfc_allocator.cc:1089] InUse at 7f4d4c7de300 of size 1024 next 127\n",
      "2023-04-19 13:08:13.718369: I tensorflow/core/common_runtime/bfc_allocator.cc:1089] InUse at 7f4d4c7de700 of size 1024 next 111\n",
      "2023-04-19 13:08:13.718379: I tensorflow/core/common_runtime/bfc_allocator.cc:1089] InUse at 7f4d4c7deb00 of size 2048 next 117\n",
      "2023-04-19 13:08:13.718389: I tensorflow/core/common_runtime/bfc_allocator.cc:1089] InUse at 7f4d4c7df300 of size 2048 next 59\n",
      "2023-04-19 13:08:13.718400: I tensorflow/core/common_runtime/bfc_allocator.cc:1089] InUse at 7f4d4c7dfb00 of size 147456 next 62\n",
      "2023-04-19 13:08:13.718410: I tensorflow/core/common_runtime/bfc_allocator.cc:1089] InUse at 7f4d4c803b00 of size 294912 next 42\n",
      "2023-04-19 13:08:13.718422: I tensorflow/core/common_runtime/bfc_allocator.cc:1089] InUse at 7f4d4c84bb00 of size 1179648 next 63\n",
      "2023-04-19 13:08:13.718433: I tensorflow/core/common_runtime/bfc_allocator.cc:1089] InUse at 7f4d4c96bb00 of size 2359296 next 36\n",
      "2023-04-19 13:08:13.718444: I tensorflow/core/common_runtime/bfc_allocator.cc:1089] InUse at 7f4d4cbabb00 of size 7102464 next 40\n",
      "2023-04-19 13:08:13.718454: I tensorflow/core/common_runtime/bfc_allocator.cc:1089] InUse at 7f4d4d271b00 of size 9437184 next 34\n",
      "2023-04-19 13:08:13.718465: I tensorflow/core/common_runtime/bfc_allocator.cc:1089] InUse at 7f4d4db71b00 of size 9437184 next 46\n",
      "2023-04-19 13:08:13.718475: I tensorflow/core/common_runtime/bfc_allocator.cc:1089] InUse at 7f4d4e471b00 of size 9437184 next 45\n",
      "2023-04-19 13:08:13.718485: I tensorflow/core/common_runtime/bfc_allocator.cc:1089] InUse at 7f4d4ed71b00 of size 9437184 next 9\n",
      "2023-04-19 13:08:13.718495: I tensorflow/core/common_runtime/bfc_allocator.cc:1089] InUse at 7f4d4f671b00 of size 4718592 next 73\n",
      "2023-04-19 13:08:13.718505: I tensorflow/core/common_runtime/bfc_allocator.cc:1089] InUse at 7f4d4faf1b00 of size 2359296 next 69\n",
      "2023-04-19 13:08:13.718515: I tensorflow/core/common_runtime/bfc_allocator.cc:1089] InUse at 7f4d4fd31b00 of size 2359296 next 43\n",
      "2023-04-19 13:08:13.718525: I tensorflow/core/common_runtime/bfc_allocator.cc:1089] InUse at 7f4d4ff71b00 of size 9437184 next 64\n",
      "2023-04-19 13:08:13.718535: I tensorflow/core/common_runtime/bfc_allocator.cc:1089] InUse at 7f4d50871b00 of size 196083712 next 55\n",
      "2023-04-19 13:08:13.718546: I tensorflow/core/common_runtime/bfc_allocator.cc:1089] InUse at 7f4d5c371b00 of size 40960 next 78\n",
      "2023-04-19 13:08:13.718557: I tensorflow/core/common_runtime/bfc_allocator.cc:1089] InUse at 7f4d5c37bb00 of size 2048 next 119\n",
      "2023-04-19 13:08:13.718567: I tensorflow/core/common_runtime/bfc_allocator.cc:1089] InUse at 7f4d5c37c300 of size 2048 next 122\n",
      "2023-04-19 13:08:13.718577: I tensorflow/core/common_runtime/bfc_allocator.cc:1089] InUse at 7f4d5c37cb00 of size 77824 next 70\n",
      "2023-04-19 13:08:13.718588: I tensorflow/core/common_runtime/bfc_allocator.cc:1089] InUse at 7f4d5c38fb00 of size 147456 next 97\n",
      "2023-04-19 13:08:13.718598: I tensorflow/core/common_runtime/bfc_allocator.cc:1089] InUse at 7f4d5c3b3b00 of size 294912 next 98\n",
      "2023-04-19 13:08:13.718612: I tensorflow/core/common_runtime/bfc_allocator.cc:1089] InUse at 7f4d5c3fbb00 of size 589824 next 99\n",
      "2023-04-19 13:08:13.718623: I tensorflow/core/common_runtime/bfc_allocator.cc:1089] InUse at 7f4d5c48bb00 of size 1204224 next 81\n",
      "2023-04-19 13:08:13.718636: I tensorflow/core/common_runtime/bfc_allocator.cc:1089] InUse at 7f4d5c5b1b00 of size 11796480 next 79\n",
      "2023-04-19 13:08:13.718646: I tensorflow/core/common_runtime/bfc_allocator.cc:1089] InUse at 7f4d5d0f1b00 of size 9437184 next 86\n",
      "2023-04-19 13:08:13.718656: I tensorflow/core/common_runtime/bfc_allocator.cc:1089] InUse at 7f4d5d9f1b00 of size 9437184 next 85\n",
      "2023-04-19 13:08:13.718666: I tensorflow/core/common_runtime/bfc_allocator.cc:1089] InUse at 7f4d5e2f1b00 of size 9437184 next 88\n",
      "2023-04-19 13:08:13.718677: I tensorflow/core/common_runtime/bfc_allocator.cc:1089] InUse at 7f4d5ebf1b00 of size 4718592 next 110\n",
      "2023-04-19 13:08:13.718687: I tensorflow/core/common_runtime/bfc_allocator.cc:1089] InUse at 7f4d5f071b00 of size 2359296 next 102\n",
      "2023-04-19 13:08:13.718697: I tensorflow/core/common_runtime/bfc_allocator.cc:1089] InUse at 7f4d5f2b1b00 of size 2359296 next 90\n",
      "2023-04-19 13:08:13.718707: I tensorflow/core/common_runtime/bfc_allocator.cc:1089] InUse at 7f4d5f4f1b00 of size 9437184 next 101\n",
      "2023-04-19 13:08:13.718717: I tensorflow/core/common_runtime/bfc_allocator.cc:1089] InUse at 7f4d5fdf1b00 of size 196083712 next 72\n",
      "2023-04-19 13:08:13.718727: I tensorflow/core/common_runtime/bfc_allocator.cc:1089] InUse at 7f4d6b8f1b00 of size 6912 next 130\n",
      "2023-04-19 13:08:13.718737: I tensorflow/core/common_runtime/bfc_allocator.cc:1089] InUse at 7f4d6b8f3600 of size 2048 next 109\n",
      "2023-04-19 13:08:13.718747: I tensorflow/core/common_runtime/bfc_allocator.cc:1089] InUse at 7f4d6b8f3e00 of size 4096 next 123\n",
      "2023-04-19 13:08:13.718757: I tensorflow/core/common_runtime/bfc_allocator.cc:1089] InUse at 7f4d6b8f4e00 of size 2048 next 139\n",
      "2023-04-19 13:08:13.718767: I tensorflow/core/common_runtime/bfc_allocator.cc:1089] InUse at 7f4d6b8f5600 of size 2048 next 143\n",
      "2023-04-19 13:08:13.718777: I tensorflow/core/common_runtime/bfc_allocator.cc:1089] InUse at 7f4d6b8f5e00 of size 2048 next 147\n",
      "2023-04-19 13:08:13.718787: I tensorflow/core/common_runtime/bfc_allocator.cc:1089] InUse at 7f4d6b8f6600 of size 2048 next 149\n",
      "2023-04-19 13:08:13.718797: I tensorflow/core/common_runtime/bfc_allocator.cc:1089] InUse at 7f4d6b8f6e00 of size 1024 next 243\n",
      "2023-04-19 13:08:13.718807: I tensorflow/core/common_runtime/bfc_allocator.cc:1089] Free  at 7f4d6b8f7200 of size 1024 next 151\n",
      "2023-04-19 13:08:13.718817: I tensorflow/core/common_runtime/bfc_allocator.cc:1089] InUse at 7f4d6b8f7600 of size 1024 next 185\n",
      "2023-04-19 13:08:13.718827: I tensorflow/core/common_runtime/bfc_allocator.cc:1089] InUse at 7f4d6b8f7a00 of size 1024 next 135\n",
      "2023-04-19 13:08:13.718837: I tensorflow/core/common_runtime/bfc_allocator.cc:1089] InUse at 7f4d6b8f7e00 of size 3328 next 137\n",
      "2023-04-19 13:08:13.718847: I tensorflow/core/common_runtime/bfc_allocator.cc:1089] InUse at 7f4d6b8f8b00 of size 2048 next 134\n",
      "2023-04-19 13:08:13.718858: I tensorflow/core/common_runtime/bfc_allocator.cc:1089] InUse at 7f4d6b8f9300 of size 4096 next 209\n",
      "2023-04-19 13:08:13.718867: I tensorflow/core/common_runtime/bfc_allocator.cc:1089] InUse at 7f4d6b8fa300 of size 2048 next 180\n",
      "2023-04-19 13:08:13.718877: I tensorflow/core/common_runtime/bfc_allocator.cc:1089] InUse at 7f4d6b8fab00 of size 2048 next 186\n",
      "2023-04-19 13:08:13.718887: I tensorflow/core/common_runtime/bfc_allocator.cc:1089] Free  at 7f4d6b8fb300 of size 2048 next 188\n",
      "2023-04-19 13:08:13.718898: I tensorflow/core/common_runtime/bfc_allocator.cc:1089] InUse at 7f4d6b8fbb00 of size 256 next 194\n",
      "2023-04-19 13:08:13.718908: I tensorflow/core/common_runtime/bfc_allocator.cc:1089] InUse at 7f4d6b8fbc00 of size 512 next 193\n",
      "2023-04-19 13:08:13.718918: I tensorflow/core/common_runtime/bfc_allocator.cc:1089] InUse at 7f4d6b8fbe00 of size 512 next 165\n",
      "2023-04-19 13:08:13.718928: I tensorflow/core/common_runtime/bfc_allocator.cc:1089] InUse at 7f4d6b8fc000 of size 1024 next 164\n",
      "2023-04-19 13:08:13.718938: I tensorflow/core/common_runtime/bfc_allocator.cc:1089] InUse at 7f4d6b8fc400 of size 1536 next 154\n",
      "2023-04-19 13:08:13.718948: I tensorflow/core/common_runtime/bfc_allocator.cc:1089] InUse at 7f4d6b8fca00 of size 6912 next 159\n",
      "2023-04-19 13:08:13.718958: I tensorflow/core/common_runtime/bfc_allocator.cc:1089] InUse at 7f4d6b8fe500 of size 3072 next 174\n",
      "2023-04-19 13:08:13.718968: I tensorflow/core/common_runtime/bfc_allocator.cc:1089] InUse at 7f4d6b8ff100 of size 2048 next 171\n",
      "2023-04-19 13:08:13.718978: I tensorflow/core/common_runtime/bfc_allocator.cc:1089] InUse at 7f4d6b8ff900 of size 2048 next 176\n",
      "2023-04-19 13:08:13.718988: I tensorflow/core/common_runtime/bfc_allocator.cc:1089] InUse at 7f4d6b900100 of size 4096 next 163\n",
      "2023-04-19 13:08:13.718998: I tensorflow/core/common_runtime/bfc_allocator.cc:1089] Free  at 7f4d6b901100 of size 13568 next 191\n",
      "2023-04-19 13:08:13.719008: I tensorflow/core/common_runtime/bfc_allocator.cc:1089] InUse at 7f4d6b904600 of size 2048 next 179\n",
      "2023-04-19 13:08:13.719018: I tensorflow/core/common_runtime/bfc_allocator.cc:1089] Free  at 7f4d6b904e00 of size 3328 next 106\n",
      "2023-04-19 13:08:13.719028: I tensorflow/core/common_runtime/bfc_allocator.cc:1089] InUse at 7f4d6b905b00 of size 147456 next 124\n",
      "2023-04-19 13:08:13.719038: I tensorflow/core/common_runtime/bfc_allocator.cc:1089] InUse at 7f4d6b929b00 of size 294912 next 131\n",
      "2023-04-19 13:08:13.719048: I tensorflow/core/common_runtime/bfc_allocator.cc:1089] InUse at 7f4d6b971b00 of size 589824 next 132\n",
      "2023-04-19 13:08:13.719058: I tensorflow/core/common_runtime/bfc_allocator.cc:1089] InUse at 7f4d6ba01b00 of size 1245184 next 116\n",
      "2023-04-19 13:08:13.719069: I tensorflow/core/common_runtime/bfc_allocator.cc:1089] InUse at 7f4d6bb31b00 of size 11796480 next 115\n",
      "2023-04-19 13:08:13.719078: I tensorflow/core/common_runtime/bfc_allocator.cc:1089] InUse at 7f4d6c671b00 of size 9437184 next 120\n",
      "2023-04-19 13:08:13.719088: I tensorflow/core/common_runtime/bfc_allocator.cc:1089] InUse at 7f4d6cf71b00 of size 9437184 next 121\n",
      "2023-04-19 13:08:13.719098: I tensorflow/core/common_runtime/bfc_allocator.cc:1089] InUse at 7f4d6d871b00 of size 9437184 next 95\n",
      "2023-04-19 13:08:13.719108: I tensorflow/core/common_runtime/bfc_allocator.cc:1089] InUse at 7f4d6e171b00 of size 4718592 next 133\n",
      "2023-04-19 13:08:13.719118: I tensorflow/core/common_runtime/bfc_allocator.cc:1089] InUse at 7f4d6e5f1b00 of size 2359296 next 105\n",
      "2023-04-19 13:08:13.719128: I tensorflow/core/common_runtime/bfc_allocator.cc:1089] InUse at 7f4d6e831b00 of size 2359296 next 125\n",
      "2023-04-19 13:08:13.719138: I tensorflow/core/common_runtime/bfc_allocator.cc:1089] InUse at 7f4d6ea71b00 of size 9437184 next 103\n",
      "2023-04-19 13:08:13.719148: I tensorflow/core/common_runtime/bfc_allocator.cc:1089] InUse at 7f4d6f371b00 of size 196083712 next 118\n",
      "2023-04-19 13:08:13.719159: I tensorflow/core/common_runtime/bfc_allocator.cc:1089] InUse at 7f4d7ae71b00 of size 40960 next 153\n",
      "2023-04-19 13:08:13.719169: I tensorflow/core/common_runtime/bfc_allocator.cc:1089] InUse at 7f4d7ae7bb00 of size 6912 next 189\n",
      "2023-04-19 13:08:13.719179: I tensorflow/core/common_runtime/bfc_allocator.cc:1089] InUse at 7f4d7ae7d600 of size 75008 next 157\n",
      "2023-04-19 13:08:13.719190: I tensorflow/core/common_runtime/bfc_allocator.cc:1089] InUse at 7f4d7ae8fb00 of size 147456 next 211\n",
      "2023-04-19 13:08:13.719200: I tensorflow/core/common_runtime/bfc_allocator.cc:1089] InUse at 7f4d7aeb3b00 of size 294912 next 161\n",
      "2023-04-19 13:08:13.719209: I tensorflow/core/common_runtime/bfc_allocator.cc:1089] InUse at 7f4d7aefbb00 of size 589824 next 112\n",
      "2023-04-19 13:08:13.719220: I tensorflow/core/common_runtime/bfc_allocator.cc:1089] InUse at 7f4d7af8bb00 of size 1204224 next 141\n",
      "2023-04-19 13:08:13.719230: I tensorflow/core/common_runtime/bfc_allocator.cc:1089] InUse at 7f4d7b0b1b00 of size 11796480 next 126\n",
      "2023-04-19 13:08:13.719240: I tensorflow/core/common_runtime/bfc_allocator.cc:1089] InUse at 7f4d7bbf1b00 of size 9437184 next 146\n",
      "2023-04-19 13:08:13.719250: I tensorflow/core/common_runtime/bfc_allocator.cc:1089] InUse at 7f4d7c4f1b00 of size 9437184 next 145\n",
      "2023-04-19 13:08:13.719259: I tensorflow/core/common_runtime/bfc_allocator.cc:1089] InUse at 7f4d7cdf1b00 of size 9437184 next 148\n",
      "2023-04-19 13:08:13.719269: I tensorflow/core/common_runtime/bfc_allocator.cc:1089] Free  at 7f4d7d6f1b00 of size 4718592 next 170\n",
      "2023-04-19 13:08:13.719280: I tensorflow/core/common_runtime/bfc_allocator.cc:1089] InUse at 7f4d7db71b00 of size 2359296 next 168\n",
      "2023-04-19 13:08:13.719290: I tensorflow/core/common_runtime/bfc_allocator.cc:1089] InUse at 7f4d7ddb1b00 of size 2359296 next 150\n",
      "2023-04-19 13:08:13.719300: I tensorflow/core/common_runtime/bfc_allocator.cc:1089] InUse at 7f4d7dff1b00 of size 9437184 next 144\n",
      "2023-04-19 13:08:13.719310: I tensorflow/core/common_runtime/bfc_allocator.cc:1089] InUse at 7f4d7e8f1b00 of size 196083712 next 155\n",
      "2023-04-19 13:08:13.719320: I tensorflow/core/common_runtime/bfc_allocator.cc:1089] Free  at 7f4d8a3f1b00 of size 40960 next 192\n",
      "2023-04-19 13:08:13.719330: I tensorflow/core/common_runtime/bfc_allocator.cc:1089] InUse at 7f4d8a3fbb00 of size 147456 next 195\n",
      "2023-04-19 13:08:13.719340: I tensorflow/core/common_runtime/bfc_allocator.cc:1089] InUse at 7f4d8a41fb00 of size 294912 next 196\n",
      "2023-04-19 13:08:13.719350: I tensorflow/core/common_runtime/bfc_allocator.cc:1089] InUse at 7f4d8a467b00 of size 589824 next 162\n",
      "2023-04-19 13:08:13.719360: I tensorflow/core/common_runtime/bfc_allocator.cc:1089] InUse at 7f4d8a4f7b00 of size 1286144 next 177\n",
      "2023-04-19 13:08:13.719371: I tensorflow/core/common_runtime/bfc_allocator.cc:1089] InUse at 7f4d8a631b00 of size 11796480 next 173\n",
      "2023-04-19 13:08:13.719381: I tensorflow/core/common_runtime/bfc_allocator.cc:1089] InUse at 7f4d8b171b00 of size 9437184 next 183\n",
      "2023-04-19 13:08:13.719391: I tensorflow/core/common_runtime/bfc_allocator.cc:1089] InUse at 7f4d8ba71b00 of size 9437184 next 182\n",
      "2023-04-19 13:08:13.719401: I tensorflow/core/common_runtime/bfc_allocator.cc:1089] InUse at 7f4d8c371b00 of size 9437184 next 184\n",
      "2023-04-19 13:08:13.719411: I tensorflow/core/common_runtime/bfc_allocator.cc:1089] Free  at 7f4d8cc71b00 of size 9437184 next 187\n",
      "2023-04-19 13:08:13.719421: I tensorflow/core/common_runtime/bfc_allocator.cc:1089] InUse at 7f4d8d571b00 of size 9437184 next 167\n",
      "2023-04-19 13:08:13.719431: I tensorflow/core/common_runtime/bfc_allocator.cc:1089] InUse at 7f4d8de71b00 of size 196083712 next 178\n",
      "2023-04-19 13:08:13.719441: I tensorflow/core/common_runtime/bfc_allocator.cc:1089] Free  at 7f4d99971b00 of size 38535168 next 175\n",
      "2023-04-19 13:08:13.719451: I tensorflow/core/common_runtime/bfc_allocator.cc:1089] InUse at 7f4d9be31b00 of size 411041792 next 197\n",
      "2023-04-19 13:08:13.719462: I tensorflow/core/common_runtime/bfc_allocator.cc:1089] Free  at 7f4db4631b00 of size 396158208 next 18446744073709551615\n",
      "2023-04-19 13:08:13.719472: I tensorflow/core/common_runtime/bfc_allocator.cc:1094]      Summary of in-use Chunks by size: \n",
      "2023-04-19 13:08:13.719487: I tensorflow/core/common_runtime/bfc_allocator.cc:1097] 53 Chunks of size 256 totalling 13.2KiB\n",
      "2023-04-19 13:08:13.719500: I tensorflow/core/common_runtime/bfc_allocator.cc:1097] 10 Chunks of size 512 totalling 5.0KiB\n",
      "2023-04-19 13:08:13.719512: I tensorflow/core/common_runtime/bfc_allocator.cc:1097] 13 Chunks of size 1024 totalling 13.0KiB\n",
      "2023-04-19 13:08:13.719523: I tensorflow/core/common_runtime/bfc_allocator.cc:1097] 1 Chunks of size 1280 totalling 1.2KiB\n",
      "2023-04-19 13:08:13.719534: I tensorflow/core/common_runtime/bfc_allocator.cc:1097] 2 Chunks of size 1536 totalling 3.0KiB\n",
      "2023-04-19 13:08:13.719546: I tensorflow/core/common_runtime/bfc_allocator.cc:1097] 26 Chunks of size 2048 totalling 52.0KiB\n",
      "2023-04-19 13:08:13.719558: I tensorflow/core/common_runtime/bfc_allocator.cc:1097] 3 Chunks of size 3072 totalling 9.0KiB\n",
      "2023-04-19 13:08:13.719569: I tensorflow/core/common_runtime/bfc_allocator.cc:1097] 1 Chunks of size 3328 totalling 3.2KiB\n",
      "2023-04-19 13:08:13.719581: I tensorflow/core/common_runtime/bfc_allocator.cc:1097] 4 Chunks of size 4096 totalling 16.0KiB\n",
      "2023-04-19 13:08:13.719592: I tensorflow/core/common_runtime/bfc_allocator.cc:1097] 1 Chunks of size 4864 totalling 4.8KiB\n",
      "2023-04-19 13:08:13.719604: I tensorflow/core/common_runtime/bfc_allocator.cc:1097] 5 Chunks of size 6912 totalling 33.8KiB\n",
      "2023-04-19 13:08:13.719616: I tensorflow/core/common_runtime/bfc_allocator.cc:1097] 2 Chunks of size 40960 totalling 80.0KiB\n",
      "2023-04-19 13:08:13.719628: I tensorflow/core/common_runtime/bfc_allocator.cc:1097] 1 Chunks of size 67072 totalling 65.5KiB\n",
      "2023-04-19 13:08:13.719641: I tensorflow/core/common_runtime/bfc_allocator.cc:1097] 1 Chunks of size 75008 totalling 73.2KiB\n",
      "2023-04-19 13:08:13.719652: I tensorflow/core/common_runtime/bfc_allocator.cc:1097] 1 Chunks of size 77824 totalling 76.0KiB\n",
      "2023-04-19 13:08:13.719664: I tensorflow/core/common_runtime/bfc_allocator.cc:1097] 5 Chunks of size 147456 totalling 720.0KiB\n",
      "2023-04-19 13:08:13.719676: I tensorflow/core/common_runtime/bfc_allocator.cc:1097] 5 Chunks of size 294912 totalling 1.41MiB\n",
      "2023-04-19 13:08:13.719688: I tensorflow/core/common_runtime/bfc_allocator.cc:1097] 4 Chunks of size 589824 totalling 2.25MiB\n",
      "2023-04-19 13:08:13.719700: I tensorflow/core/common_runtime/bfc_allocator.cc:1097] 1 Chunks of size 730624 totalling 713.5KiB\n",
      "2023-04-19 13:08:13.719711: I tensorflow/core/common_runtime/bfc_allocator.cc:1097] 1 Chunks of size 1179648 totalling 1.12MiB\n",
      "2023-04-19 13:08:13.719722: I tensorflow/core/common_runtime/bfc_allocator.cc:1097] 2 Chunks of size 1204224 totalling 2.30MiB\n",
      "2023-04-19 13:08:13.719734: I tensorflow/core/common_runtime/bfc_allocator.cc:1097] 1 Chunks of size 1245184 totalling 1.19MiB\n",
      "2023-04-19 13:08:13.719745: I tensorflow/core/common_runtime/bfc_allocator.cc:1097] 1 Chunks of size 1286144 totalling 1.23MiB\n",
      "2023-04-19 13:08:13.719757: I tensorflow/core/common_runtime/bfc_allocator.cc:1097] 9 Chunks of size 2359296 totalling 20.25MiB\n",
      "2023-04-19 13:08:13.719769: I tensorflow/core/common_runtime/bfc_allocator.cc:1097] 1 Chunks of size 2654208 totalling 2.53MiB\n",
      "2023-04-19 13:08:13.719781: I tensorflow/core/common_runtime/bfc_allocator.cc:1097] 4 Chunks of size 4718592 totalling 18.00MiB\n",
      "2023-04-19 13:08:13.719792: I tensorflow/core/common_runtime/bfc_allocator.cc:1097] 1 Chunks of size 7102464 totalling 6.77MiB\n",
      "2023-04-19 13:08:13.719804: I tensorflow/core/common_runtime/bfc_allocator.cc:1097] 21 Chunks of size 9437184 totalling 189.00MiB\n",
      "2023-04-19 13:08:13.719816: I tensorflow/core/common_runtime/bfc_allocator.cc:1097] 4 Chunks of size 11796480 totalling 45.00MiB\n",
      "2023-04-19 13:08:13.719828: I tensorflow/core/common_runtime/bfc_allocator.cc:1097] 5 Chunks of size 196083712 totalling 935.00MiB\n",
      "2023-04-19 13:08:13.719840: I tensorflow/core/common_runtime/bfc_allocator.cc:1097] 1 Chunks of size 411041792 totalling 392.00MiB\n",
      "2023-04-19 13:08:13.719852: I tensorflow/core/common_runtime/bfc_allocator.cc:1101] Sum Total of in-use chunks: 1.58GiB\n",
      "2023-04-19 13:08:13.719864: I tensorflow/core/common_runtime/bfc_allocator.cc:1103] total_region_allocated_bytes_: 2147483648 memory_limit_: 2147483648 available bytes: 0 curr_region_allocation_bytes_: 4294967296\n",
      "2023-04-19 13:08:13.719886: I tensorflow/core/common_runtime/bfc_allocator.cc:1109] Stats: \n",
      "Limit:                      2147483648\n",
      "InUse:                      1698572800\n",
      "MaxInUse:                   2114017792\n",
      "NumAllocs:                       17378\n",
      "MaxAllocSize:               1300234240\n",
      "Reserved:                            0\n",
      "PeakReserved:                        0\n",
      "LargestFreeBlock:                    0\n",
      "\n",
      "2023-04-19 13:08:13.719937: W tensorflow/core/common_runtime/bfc_allocator.cc:491] *********xxx*********xxx*********xxx*********xxx*********xxxx_********************__________________\n",
      "2023-04-19 13:08:13.719972: W tensorflow/core/framework/op_kernel.cc:1780] OP_REQUIRES failed at conv_ops_fused_impl.h:729 : RESOURCE_EXHAUSTED: OOM when allocating tensor with shape[32,64,224,224] and type float on /job:localhost/replica:0/task:0/device:GPU:0 by allocator GPU_0_bfc\n"
     ]
    },
    {
     "ename": "ResourceExhaustedError",
     "evalue": "Graph execution error:\n\nDetected at node 'model_4/block1_conv2/Relu' defined at (most recent call last):\n    File \"/auto/homes/njr61/environments/mambaforge/envs/concepts/lib/python3.7/runpy.py\", line 193, in _run_module_as_main\n      \"__main__\", mod_spec)\n    File \"/auto/homes/njr61/environments/mambaforge/envs/concepts/lib/python3.7/runpy.py\", line 85, in _run_code\n      exec(code, run_globals)\n    File \"/auto/homes/njr61/environments/mambaforge/envs/concepts/lib/python3.7/site-packages/ipykernel_launcher.py\", line 17, in <module>\n      app.launch_new_instance()\n    File \"/auto/homes/njr61/environments/mambaforge/envs/concepts/lib/python3.7/site-packages/traitlets/config/application.py\", line 1043, in launch_instance\n      app.start()\n    File \"/auto/homes/njr61/environments/mambaforge/envs/concepts/lib/python3.7/site-packages/ipykernel/kernelapp.py\", line 712, in start\n      self.io_loop.start()\n    File \"/auto/homes/njr61/environments/mambaforge/envs/concepts/lib/python3.7/site-packages/tornado/platform/asyncio.py\", line 215, in start\n      self.asyncio_loop.run_forever()\n    File \"/auto/homes/njr61/environments/mambaforge/envs/concepts/lib/python3.7/asyncio/base_events.py\", line 541, in run_forever\n      self._run_once()\n    File \"/auto/homes/njr61/environments/mambaforge/envs/concepts/lib/python3.7/asyncio/base_events.py\", line 1786, in _run_once\n      handle._run()\n    File \"/auto/homes/njr61/environments/mambaforge/envs/concepts/lib/python3.7/asyncio/events.py\", line 88, in _run\n      self._context.run(self._callback, *self._args)\n    File \"/auto/homes/njr61/environments/mambaforge/envs/concepts/lib/python3.7/site-packages/ipykernel/kernelbase.py\", line 510, in dispatch_queue\n      await self.process_one()\n    File \"/auto/homes/njr61/environments/mambaforge/envs/concepts/lib/python3.7/site-packages/ipykernel/kernelbase.py\", line 499, in process_one\n      await dispatch(*args)\n    File \"/auto/homes/njr61/environments/mambaforge/envs/concepts/lib/python3.7/site-packages/ipykernel/kernelbase.py\", line 406, in dispatch_shell\n      await result\n    File \"/auto/homes/njr61/environments/mambaforge/envs/concepts/lib/python3.7/site-packages/ipykernel/kernelbase.py\", line 730, in execute_request\n      reply_content = await reply_content\n    File \"/auto/homes/njr61/environments/mambaforge/envs/concepts/lib/python3.7/site-packages/ipykernel/ipkernel.py\", line 387, in do_execute\n      cell_id=cell_id,\n    File \"/auto/homes/njr61/environments/mambaforge/envs/concepts/lib/python3.7/site-packages/ipykernel/zmqshell.py\", line 528, in run_cell\n      return super().run_cell(*args, **kwargs)\n    File \"/auto/homes/njr61/environments/mambaforge/envs/concepts/lib/python3.7/site-packages/IPython/core/interactiveshell.py\", line 2975, in run_cell\n      raw_cell, store_history, silent, shell_futures, cell_id\n    File \"/auto/homes/njr61/environments/mambaforge/envs/concepts/lib/python3.7/site-packages/IPython/core/interactiveshell.py\", line 3029, in _run_cell\n      return runner(coro)\n    File \"/auto/homes/njr61/environments/mambaforge/envs/concepts/lib/python3.7/site-packages/IPython/core/async_helpers.py\", line 78, in _pseudo_sync_runner\n      coro.send(None)\n    File \"/auto/homes/njr61/environments/mambaforge/envs/concepts/lib/python3.7/site-packages/IPython/core/interactiveshell.py\", line 3257, in run_cell_async\n      interactivity=interactivity, compiler=compiler, result=result)\n    File \"/auto/homes/njr61/environments/mambaforge/envs/concepts/lib/python3.7/site-packages/IPython/core/interactiveshell.py\", line 3472, in run_ast_nodes\n      if (await self.run_code(code, result,  async_=asy)):\n    File \"/auto/homes/njr61/environments/mambaforge/envs/concepts/lib/python3.7/site-packages/IPython/core/interactiveshell.py\", line 3552, in run_code\n      exec(code_obj, self.user_global_ns, self.user_ns)\n    File \"/tmp/ipykernel_2079653/1536391458.py\", line 4, in <module>\n      create_shapley_vectors(dataset.get_attributes(),dataset,suffix,seed=seed,model_name=model_name)\n    File \"/auto/homes/njr61/main_code/src/create_vectors.py\", line 407, in create_shapley_vectors\n      predictions = model.predict(valid_generator)\n    File \"/auto/homes/njr61/environments/mambaforge/envs/concepts/lib/python3.7/site-packages/keras/utils/traceback_utils.py\", line 65, in error_handler\n      return fn(*args, **kwargs)\n    File \"/auto/homes/njr61/environments/mambaforge/envs/concepts/lib/python3.7/site-packages/keras/engine/training.py\", line 2253, in predict\n      tmp_batch_outputs = self.predict_function(iterator)\n    File \"/auto/homes/njr61/environments/mambaforge/envs/concepts/lib/python3.7/site-packages/keras/engine/training.py\", line 2041, in predict_function\n      return step_function(self, iterator)\n    File \"/auto/homes/njr61/environments/mambaforge/envs/concepts/lib/python3.7/site-packages/keras/engine/training.py\", line 2027, in step_function\n      outputs = model.distribute_strategy.run(run_step, args=(data,))\n    File \"/auto/homes/njr61/environments/mambaforge/envs/concepts/lib/python3.7/site-packages/keras/engine/training.py\", line 2015, in run_step\n      outputs = model.predict_step(data)\n    File \"/auto/homes/njr61/environments/mambaforge/envs/concepts/lib/python3.7/site-packages/keras/engine/training.py\", line 1983, in predict_step\n      return self(x, training=False)\n    File \"/auto/homes/njr61/environments/mambaforge/envs/concepts/lib/python3.7/site-packages/keras/utils/traceback_utils.py\", line 65, in error_handler\n      return fn(*args, **kwargs)\n    File \"/auto/homes/njr61/environments/mambaforge/envs/concepts/lib/python3.7/site-packages/keras/engine/training.py\", line 557, in __call__\n      return super().__call__(*args, **kwargs)\n    File \"/auto/homes/njr61/environments/mambaforge/envs/concepts/lib/python3.7/site-packages/keras/utils/traceback_utils.py\", line 65, in error_handler\n      return fn(*args, **kwargs)\n    File \"/auto/homes/njr61/environments/mambaforge/envs/concepts/lib/python3.7/site-packages/keras/engine/base_layer.py\", line 1097, in __call__\n      outputs = call_fn(inputs, *args, **kwargs)\n    File \"/auto/homes/njr61/environments/mambaforge/envs/concepts/lib/python3.7/site-packages/keras/utils/traceback_utils.py\", line 96, in error_handler\n      return fn(*args, **kwargs)\n    File \"/auto/homes/njr61/environments/mambaforge/envs/concepts/lib/python3.7/site-packages/keras/engine/functional.py\", line 510, in call\n      return self._run_internal_graph(inputs, training=training, mask=mask)\n    File \"/auto/homes/njr61/environments/mambaforge/envs/concepts/lib/python3.7/site-packages/keras/engine/functional.py\", line 667, in _run_internal_graph\n      outputs = node.layer(*args, **kwargs)\n    File \"/auto/homes/njr61/environments/mambaforge/envs/concepts/lib/python3.7/site-packages/keras/utils/traceback_utils.py\", line 65, in error_handler\n      return fn(*args, **kwargs)\n    File \"/auto/homes/njr61/environments/mambaforge/envs/concepts/lib/python3.7/site-packages/keras/engine/base_layer.py\", line 1097, in __call__\n      outputs = call_fn(inputs, *args, **kwargs)\n    File \"/auto/homes/njr61/environments/mambaforge/envs/concepts/lib/python3.7/site-packages/keras/utils/traceback_utils.py\", line 96, in error_handler\n      return fn(*args, **kwargs)\n    File \"/auto/homes/njr61/environments/mambaforge/envs/concepts/lib/python3.7/site-packages/keras/layers/convolutional/base_conv.py\", line 314, in call\n      return self.activation(outputs)\n    File \"/auto/homes/njr61/environments/mambaforge/envs/concepts/lib/python3.7/site-packages/keras/activations.py\", line 318, in relu\n      x, alpha=alpha, max_value=max_value, threshold=threshold\n    File \"/auto/homes/njr61/environments/mambaforge/envs/concepts/lib/python3.7/site-packages/keras/backend.py\", line 5366, in relu\n      x = tf.nn.relu(x)\nNode: 'model_4/block1_conv2/Relu'\nOOM when allocating tensor with shape[32,64,224,224] and type float on /job:localhost/replica:0/task:0/device:GPU:0 by allocator GPU_0_bfc\n\t [[{{node model_4/block1_conv2/Relu}}]]\nHint: If you want to see a list of allocated tensors when OOM happens, add report_tensor_allocations_upon_oom to RunOptions for current allocation info. This isn't available when running in Eager mode.\n [Op:__inference_predict_function_5949]",
     "output_type": "error",
     "traceback": [
      "\u001b[0;31m---------------------------------------------------------------------------\u001b[0m",
      "\u001b[0;31mResourceExhaustedError\u001b[0m                    Traceback (most recent call last)",
      "\u001b[0;32m/tmp/ipykernel_2079653/1536391458.py\u001b[0m in \u001b[0;36m<module>\u001b[0;34m\u001b[0m\n\u001b[1;32m      2\u001b[0m     \u001b[0;32mfor\u001b[0m \u001b[0msuffix\u001b[0m \u001b[0;32min\u001b[0m \u001b[0;34m[\u001b[0m\u001b[0;34m\"\"\u001b[0m\u001b[0;34m,\u001b[0m\u001b[0;34m\"_image_robustness\"\u001b[0m\u001b[0;34m,\u001b[0m\u001b[0;34m\"_image_responsiveness\"\u001b[0m\u001b[0;34m]\u001b[0m\u001b[0;34m:\u001b[0m\u001b[0;34m\u001b[0m\u001b[0;34m\u001b[0m\u001b[0m\n\u001b[1;32m      3\u001b[0m         \u001b[0mprint\u001b[0m\u001b[0;34m(\u001b[0m\u001b[0mseed\u001b[0m\u001b[0;34m,\u001b[0m\u001b[0msuffix\u001b[0m\u001b[0;34m)\u001b[0m\u001b[0;34m\u001b[0m\u001b[0;34m\u001b[0m\u001b[0m\n\u001b[0;32m----> 4\u001b[0;31m         \u001b[0mcreate_shapley_vectors\u001b[0m\u001b[0;34m(\u001b[0m\u001b[0mdataset\u001b[0m\u001b[0;34m.\u001b[0m\u001b[0mget_attributes\u001b[0m\u001b[0;34m(\u001b[0m\u001b[0;34m)\u001b[0m\u001b[0;34m,\u001b[0m\u001b[0mdataset\u001b[0m\u001b[0;34m,\u001b[0m\u001b[0msuffix\u001b[0m\u001b[0;34m,\u001b[0m\u001b[0mseed\u001b[0m\u001b[0;34m=\u001b[0m\u001b[0mseed\u001b[0m\u001b[0;34m,\u001b[0m\u001b[0mmodel_name\u001b[0m\u001b[0;34m=\u001b[0m\u001b[0mmodel_name\u001b[0m\u001b[0;34m)\u001b[0m\u001b[0;34m\u001b[0m\u001b[0;34m\u001b[0m\u001b[0m\n\u001b[0m",
      "\u001b[0;32m/auto/homes/njr61/main_code/src/create_vectors.py\u001b[0m in \u001b[0;36mcreate_shapley_vectors\u001b[0;34m(attributes, dataset, suffix, seed, model_name, noise_std, label_flip)\u001b[0m\n\u001b[1;32m    405\u001b[0m                                               shuffle=False)\n\u001b[1;32m    406\u001b[0m \u001b[0;34m\u001b[0m\u001b[0m\n\u001b[0;32m--> 407\u001b[0;31m     \u001b[0mpredictions\u001b[0m \u001b[0;34m=\u001b[0m \u001b[0mmodel\u001b[0m\u001b[0;34m.\u001b[0m\u001b[0mpredict\u001b[0m\u001b[0;34m(\u001b[0m\u001b[0mvalid_generator\u001b[0m\u001b[0;34m)\u001b[0m\u001b[0;34m\u001b[0m\u001b[0;34m\u001b[0m\u001b[0m\n\u001b[0m\u001b[1;32m    408\u001b[0m \u001b[0;34m\u001b[0m\u001b[0m\n\u001b[1;32m    409\u001b[0m     \u001b[0mconcepts\u001b[0m \u001b[0;34m=\u001b[0m \u001b[0mnp\u001b[0m\u001b[0;34m.\u001b[0m\u001b[0marray\u001b[0m\u001b[0;34m(\u001b[0m\u001b[0;34m[\u001b[0m\u001b[0mi\u001b[0m\u001b[0;34m[\u001b[0m\u001b[0;34m'attribute_label'\u001b[0m\u001b[0;34m]\u001b[0m \u001b[0;32mfor\u001b[0m \u001b[0mi\u001b[0m \u001b[0;32min\u001b[0m \u001b[0mdata\u001b[0m\u001b[0;34m[\u001b[0m\u001b[0;34m:\u001b[0m\u001b[0mlen\u001b[0m\u001b[0;34m(\u001b[0m\u001b[0mpredictions\u001b[0m\u001b[0;34m)\u001b[0m\u001b[0;34m]\u001b[0m\u001b[0;34m]\u001b[0m\u001b[0;34m)\u001b[0m\u001b[0;34m\u001b[0m\u001b[0;34m\u001b[0m\u001b[0m\n",
      "\u001b[0;32m/auto/homes/njr61/environments/mambaforge/envs/concepts/lib/python3.7/site-packages/keras/utils/traceback_utils.py\u001b[0m in \u001b[0;36merror_handler\u001b[0;34m(*args, **kwargs)\u001b[0m\n\u001b[1;32m     68\u001b[0m             \u001b[0;31m# To get the full stack trace, call:\u001b[0m\u001b[0;34m\u001b[0m\u001b[0;34m\u001b[0m\u001b[0;34m\u001b[0m\u001b[0m\n\u001b[1;32m     69\u001b[0m             \u001b[0;31m# `tf.debugging.disable_traceback_filtering()`\u001b[0m\u001b[0;34m\u001b[0m\u001b[0;34m\u001b[0m\u001b[0;34m\u001b[0m\u001b[0m\n\u001b[0;32m---> 70\u001b[0;31m             \u001b[0;32mraise\u001b[0m \u001b[0me\u001b[0m\u001b[0;34m.\u001b[0m\u001b[0mwith_traceback\u001b[0m\u001b[0;34m(\u001b[0m\u001b[0mfiltered_tb\u001b[0m\u001b[0;34m)\u001b[0m \u001b[0;32mfrom\u001b[0m \u001b[0;32mNone\u001b[0m\u001b[0;34m\u001b[0m\u001b[0;34m\u001b[0m\u001b[0m\n\u001b[0m\u001b[1;32m     71\u001b[0m         \u001b[0;32mfinally\u001b[0m\u001b[0;34m:\u001b[0m\u001b[0;34m\u001b[0m\u001b[0;34m\u001b[0m\u001b[0m\n\u001b[1;32m     72\u001b[0m             \u001b[0;32mdel\u001b[0m \u001b[0mfiltered_tb\u001b[0m\u001b[0;34m\u001b[0m\u001b[0;34m\u001b[0m\u001b[0m\n",
      "\u001b[0;32m/auto/homes/njr61/environments/mambaforge/envs/concepts/lib/python3.7/site-packages/tensorflow/python/eager/execute.py\u001b[0m in \u001b[0;36mquick_execute\u001b[0;34m(op_name, num_outputs, inputs, attrs, ctx, name)\u001b[0m\n\u001b[1;32m     53\u001b[0m     \u001b[0mctx\u001b[0m\u001b[0;34m.\u001b[0m\u001b[0mensure_initialized\u001b[0m\u001b[0;34m(\u001b[0m\u001b[0;34m)\u001b[0m\u001b[0;34m\u001b[0m\u001b[0;34m\u001b[0m\u001b[0m\n\u001b[1;32m     54\u001b[0m     tensors = pywrap_tfe.TFE_Py_Execute(ctx._handle, device_name, op_name,\n\u001b[0;32m---> 55\u001b[0;31m                                         inputs, attrs, num_outputs)\n\u001b[0m\u001b[1;32m     56\u001b[0m   \u001b[0;32mexcept\u001b[0m \u001b[0mcore\u001b[0m\u001b[0;34m.\u001b[0m\u001b[0m_NotOkStatusException\u001b[0m \u001b[0;32mas\u001b[0m \u001b[0me\u001b[0m\u001b[0;34m:\u001b[0m\u001b[0;34m\u001b[0m\u001b[0;34m\u001b[0m\u001b[0m\n\u001b[1;32m     57\u001b[0m     \u001b[0;32mif\u001b[0m \u001b[0mname\u001b[0m \u001b[0;32mis\u001b[0m \u001b[0;32mnot\u001b[0m \u001b[0;32mNone\u001b[0m\u001b[0;34m:\u001b[0m\u001b[0;34m\u001b[0m\u001b[0;34m\u001b[0m\u001b[0m\n",
      "\u001b[0;31mResourceExhaustedError\u001b[0m: Graph execution error:\n\nDetected at node 'model_4/block1_conv2/Relu' defined at (most recent call last):\n    File \"/auto/homes/njr61/environments/mambaforge/envs/concepts/lib/python3.7/runpy.py\", line 193, in _run_module_as_main\n      \"__main__\", mod_spec)\n    File \"/auto/homes/njr61/environments/mambaforge/envs/concepts/lib/python3.7/runpy.py\", line 85, in _run_code\n      exec(code, run_globals)\n    File \"/auto/homes/njr61/environments/mambaforge/envs/concepts/lib/python3.7/site-packages/ipykernel_launcher.py\", line 17, in <module>\n      app.launch_new_instance()\n    File \"/auto/homes/njr61/environments/mambaforge/envs/concepts/lib/python3.7/site-packages/traitlets/config/application.py\", line 1043, in launch_instance\n      app.start()\n    File \"/auto/homes/njr61/environments/mambaforge/envs/concepts/lib/python3.7/site-packages/ipykernel/kernelapp.py\", line 712, in start\n      self.io_loop.start()\n    File \"/auto/homes/njr61/environments/mambaforge/envs/concepts/lib/python3.7/site-packages/tornado/platform/asyncio.py\", line 215, in start\n      self.asyncio_loop.run_forever()\n    File \"/auto/homes/njr61/environments/mambaforge/envs/concepts/lib/python3.7/asyncio/base_events.py\", line 541, in run_forever\n      self._run_once()\n    File \"/auto/homes/njr61/environments/mambaforge/envs/concepts/lib/python3.7/asyncio/base_events.py\", line 1786, in _run_once\n      handle._run()\n    File \"/auto/homes/njr61/environments/mambaforge/envs/concepts/lib/python3.7/asyncio/events.py\", line 88, in _run\n      self._context.run(self._callback, *self._args)\n    File \"/auto/homes/njr61/environments/mambaforge/envs/concepts/lib/python3.7/site-packages/ipykernel/kernelbase.py\", line 510, in dispatch_queue\n      await self.process_one()\n    File \"/auto/homes/njr61/environments/mambaforge/envs/concepts/lib/python3.7/site-packages/ipykernel/kernelbase.py\", line 499, in process_one\n      await dispatch(*args)\n    File \"/auto/homes/njr61/environments/mambaforge/envs/concepts/lib/python3.7/site-packages/ipykernel/kernelbase.py\", line 406, in dispatch_shell\n      await result\n    File \"/auto/homes/njr61/environments/mambaforge/envs/concepts/lib/python3.7/site-packages/ipykernel/kernelbase.py\", line 730, in execute_request\n      reply_content = await reply_content\n    File \"/auto/homes/njr61/environments/mambaforge/envs/concepts/lib/python3.7/site-packages/ipykernel/ipkernel.py\", line 387, in do_execute\n      cell_id=cell_id,\n    File \"/auto/homes/njr61/environments/mambaforge/envs/concepts/lib/python3.7/site-packages/ipykernel/zmqshell.py\", line 528, in run_cell\n      return super().run_cell(*args, **kwargs)\n    File \"/auto/homes/njr61/environments/mambaforge/envs/concepts/lib/python3.7/site-packages/IPython/core/interactiveshell.py\", line 2975, in run_cell\n      raw_cell, store_history, silent, shell_futures, cell_id\n    File \"/auto/homes/njr61/environments/mambaforge/envs/concepts/lib/python3.7/site-packages/IPython/core/interactiveshell.py\", line 3029, in _run_cell\n      return runner(coro)\n    File \"/auto/homes/njr61/environments/mambaforge/envs/concepts/lib/python3.7/site-packages/IPython/core/async_helpers.py\", line 78, in _pseudo_sync_runner\n      coro.send(None)\n    File \"/auto/homes/njr61/environments/mambaforge/envs/concepts/lib/python3.7/site-packages/IPython/core/interactiveshell.py\", line 3257, in run_cell_async\n      interactivity=interactivity, compiler=compiler, result=result)\n    File \"/auto/homes/njr61/environments/mambaforge/envs/concepts/lib/python3.7/site-packages/IPython/core/interactiveshell.py\", line 3472, in run_ast_nodes\n      if (await self.run_code(code, result,  async_=asy)):\n    File \"/auto/homes/njr61/environments/mambaforge/envs/concepts/lib/python3.7/site-packages/IPython/core/interactiveshell.py\", line 3552, in run_code\n      exec(code_obj, self.user_global_ns, self.user_ns)\n    File \"/tmp/ipykernel_2079653/1536391458.py\", line 4, in <module>\n      create_shapley_vectors(dataset.get_attributes(),dataset,suffix,seed=seed,model_name=model_name)\n    File \"/auto/homes/njr61/main_code/src/create_vectors.py\", line 407, in create_shapley_vectors\n      predictions = model.predict(valid_generator)\n    File \"/auto/homes/njr61/environments/mambaforge/envs/concepts/lib/python3.7/site-packages/keras/utils/traceback_utils.py\", line 65, in error_handler\n      return fn(*args, **kwargs)\n    File \"/auto/homes/njr61/environments/mambaforge/envs/concepts/lib/python3.7/site-packages/keras/engine/training.py\", line 2253, in predict\n      tmp_batch_outputs = self.predict_function(iterator)\n    File \"/auto/homes/njr61/environments/mambaforge/envs/concepts/lib/python3.7/site-packages/keras/engine/training.py\", line 2041, in predict_function\n      return step_function(self, iterator)\n    File \"/auto/homes/njr61/environments/mambaforge/envs/concepts/lib/python3.7/site-packages/keras/engine/training.py\", line 2027, in step_function\n      outputs = model.distribute_strategy.run(run_step, args=(data,))\n    File \"/auto/homes/njr61/environments/mambaforge/envs/concepts/lib/python3.7/site-packages/keras/engine/training.py\", line 2015, in run_step\n      outputs = model.predict_step(data)\n    File \"/auto/homes/njr61/environments/mambaforge/envs/concepts/lib/python3.7/site-packages/keras/engine/training.py\", line 1983, in predict_step\n      return self(x, training=False)\n    File \"/auto/homes/njr61/environments/mambaforge/envs/concepts/lib/python3.7/site-packages/keras/utils/traceback_utils.py\", line 65, in error_handler\n      return fn(*args, **kwargs)\n    File \"/auto/homes/njr61/environments/mambaforge/envs/concepts/lib/python3.7/site-packages/keras/engine/training.py\", line 557, in __call__\n      return super().__call__(*args, **kwargs)\n    File \"/auto/homes/njr61/environments/mambaforge/envs/concepts/lib/python3.7/site-packages/keras/utils/traceback_utils.py\", line 65, in error_handler\n      return fn(*args, **kwargs)\n    File \"/auto/homes/njr61/environments/mambaforge/envs/concepts/lib/python3.7/site-packages/keras/engine/base_layer.py\", line 1097, in __call__\n      outputs = call_fn(inputs, *args, **kwargs)\n    File \"/auto/homes/njr61/environments/mambaforge/envs/concepts/lib/python3.7/site-packages/keras/utils/traceback_utils.py\", line 96, in error_handler\n      return fn(*args, **kwargs)\n    File \"/auto/homes/njr61/environments/mambaforge/envs/concepts/lib/python3.7/site-packages/keras/engine/functional.py\", line 510, in call\n      return self._run_internal_graph(inputs, training=training, mask=mask)\n    File \"/auto/homes/njr61/environments/mambaforge/envs/concepts/lib/python3.7/site-packages/keras/engine/functional.py\", line 667, in _run_internal_graph\n      outputs = node.layer(*args, **kwargs)\n    File \"/auto/homes/njr61/environments/mambaforge/envs/concepts/lib/python3.7/site-packages/keras/utils/traceback_utils.py\", line 65, in error_handler\n      return fn(*args, **kwargs)\n    File \"/auto/homes/njr61/environments/mambaforge/envs/concepts/lib/python3.7/site-packages/keras/engine/base_layer.py\", line 1097, in __call__\n      outputs = call_fn(inputs, *args, **kwargs)\n    File \"/auto/homes/njr61/environments/mambaforge/envs/concepts/lib/python3.7/site-packages/keras/utils/traceback_utils.py\", line 96, in error_handler\n      return fn(*args, **kwargs)\n    File \"/auto/homes/njr61/environments/mambaforge/envs/concepts/lib/python3.7/site-packages/keras/layers/convolutional/base_conv.py\", line 314, in call\n      return self.activation(outputs)\n    File \"/auto/homes/njr61/environments/mambaforge/envs/concepts/lib/python3.7/site-packages/keras/activations.py\", line 318, in relu\n      x, alpha=alpha, max_value=max_value, threshold=threshold\n    File \"/auto/homes/njr61/environments/mambaforge/envs/concepts/lib/python3.7/site-packages/keras/backend.py\", line 5366, in relu\n      x = tf.nn.relu(x)\nNode: 'model_4/block1_conv2/Relu'\nOOM when allocating tensor with shape[32,64,224,224] and type float on /job:localhost/replica:0/task:0/device:GPU:0 by allocator GPU_0_bfc\n\t [[{{node model_4/block1_conv2/Relu}}]]\nHint: If you want to see a list of allocated tensors when OOM happens, add report_tensor_allocations_upon_oom to RunOptions for current allocation info. This isn't available when running in Eager mode.\n [Op:__inference_predict_function_5949]"
     ]
    }
   ],
   "source": [
    "for seed in [44,45]:\n",
    "    for suffix in [\"\",\"_image_robustness\",\"_image_responsiveness\"]:\n",
    "        print(seed,suffix)\n",
    "        create_shapley_vectors(dataset.get_attributes(),dataset,suffix,seed=seed,model_name=model_name)"
   ]
  },
  {
   "cell_type": "code",
   "execution_count": 148,
   "id": "d312378f",
   "metadata": {},
   "outputs": [
    {
     "name": "stdout",
     "output_type": "stream",
     "text": [
      "Found 4796 validated image filenames belonging to 200 classes.\n",
      "150/150 [==============================] - 34s 226ms/step\n"
     ]
    }
   ],
   "source": [
    "create_shapley_vectors(dataset.get_attributes(),dataset,\"_image_robustness\",seed=43,model_name=\"resnet50\")"
   ]
  },
  {
   "cell_type": "code",
   "execution_count": null,
   "id": "26df31bc",
   "metadata": {},
   "outputs": [],
   "source": [
    "create_shapley_vectors(dataset.get_attributes(),dataset,\"_image_robustness\",seed=43,model_name=\"inceptionv3\")"
   ]
  },
  {
   "cell_type": "code",
   "execution_count": 149,
   "id": "3ff34b53",
   "metadata": {},
   "outputs": [
    {
     "data": {
      "text/plain": [
       "(0.35119047619047616, 0.0)"
      ]
     },
     "execution_count": 149,
     "metadata": {},
     "output_type": "execute_result"
    }
   ],
   "source": [
    "robustness_image_metric(load_shapley_vectors_simple,dataset,dataset.get_attributes(),[43])"
   ]
  },
  {
   "cell_type": "markdown",
   "id": "0da2626c",
   "metadata": {},
   "source": [
    "## Create Shapley Vectors"
   ]
  },
  {
   "cell_type": "code",
   "execution_count": 14,
   "id": "cbc23dff",
   "metadata": {},
   "outputs": [
    {
     "name": "stdout",
     "output_type": "stream",
     "text": [
      "43 \n",
      "Found 3000 validated image filenames belonging to 10 classes.\n",
      "94/94 [==============================] - 8s 82ms/step\n",
      "43 _image_robustness\n",
      "Found 3000 validated image filenames belonging to 10 classes.\n",
      "94/94 [==============================] - 5s 55ms/step\n",
      "43 _image_responsiveness\n",
      "Found 3000 validated image filenames belonging to 10 classes.\n",
      "94/94 [==============================] - 5s 55ms/step\n",
      "44 \n",
      "Found 3000 validated image filenames belonging to 10 classes.\n",
      "94/94 [==============================] - 8s 79ms/step\n",
      "44 _image_robustness\n",
      "Found 3000 validated image filenames belonging to 10 classes.\n",
      "94/94 [==============================] - 7s 71ms/step\n",
      "44 _image_responsiveness\n",
      "Found 3000 validated image filenames belonging to 10 classes.\n",
      "94/94 [==============================] - 7s 72ms/step\n",
      "45 \n",
      "Found 3000 validated image filenames belonging to 10 classes.\n",
      "94/94 [==============================] - 8s 80ms/step\n",
      "45 _image_robustness\n",
      "Found 3000 validated image filenames belonging to 10 classes.\n",
      "94/94 [==============================] - 5s 56ms/step\n",
      "45 _image_responsiveness\n",
      "Found 3000 validated image filenames belonging to 10 classes.\n",
      "94/94 [==============================] - 5s 56ms/step\n"
     ]
    }
   ],
   "source": [
    "for seed in range(43,46):\n",
    "    for suffix in [\"\",\"_image_robustness\",\"_image_responsiveness\"]:\n",
    "        print(seed,suffix)\n",
    "        create_shapley_vectors(dataset.get_attributes(),dataset,suffix,seed=seed)"
   ]
  },
  {
   "cell_type": "code",
   "execution_count": 24,
   "id": "46cd7684",
   "metadata": {},
   "outputs": [
    {
     "name": "stderr",
     "output_type": "stream",
     "text": [
      "2023-03-21 11:40:48.241735: I tensorflow/core/common_runtime/gpu/gpu_device.cc:1616] Created device /job:localhost/replica:0/task:0/device:GPU:0 with 10802 MB memory:  -> device: 0, name: NVIDIA TITAN Xp, pci bus id: 0000:82:00.0, compute capability: 6.1\n"
     ]
    },
    {
     "data": {
      "text/plain": [
       "(0.04, 0.0)"
      ]
     },
     "execution_count": 24,
     "metadata": {},
     "output_type": "execute_result"
    }
   ],
   "source": [
    "truthfulness_metric(load_shapley_vectors_simple,dataset,dataset.get_attributes(),[42])"
   ]
  },
  {
   "cell_type": "code",
   "execution_count": 86,
   "id": "9b1c79b1",
   "metadata": {},
   "outputs": [
    {
     "name": "stdout",
     "output_type": "stream",
     "text": [
      "Found 4796 validated image filenames belonging to 200 classes.\n",
      "150/150 [==============================] - 34s 226ms/step\n"
     ]
    }
   ],
   "source": [
    "create_shapley_vectors(dataset.get_attributes(),dataset,\"\",seed=43)"
   ]
  },
  {
   "cell_type": "code",
   "execution_count": 87,
   "id": "9025319b",
   "metadata": {},
   "outputs": [
    {
     "name": "stdout",
     "output_type": "stream",
     "text": [
      "Found 4796 validated image filenames belonging to 200 classes.\n",
      "150/150 [==============================] - 35s 229ms/step\n"
     ]
    }
   ],
   "source": [
    "create_shapley_vectors(dataset.get_attributes(),dataset,\"\",seed=44)"
   ]
  },
  {
   "cell_type": "code",
   "execution_count": 88,
   "id": "4514ff20",
   "metadata": {},
   "outputs": [
    {
     "name": "stdout",
     "output_type": "stream",
     "text": [
      "Found 4796 validated image filenames belonging to 200 classes.\n",
      "150/150 [==============================] - 34s 225ms/step\n"
     ]
    }
   ],
   "source": [
    "create_shapley_vectors(dataset.get_attributes(),dataset,\"\",seed=45)"
   ]
  },
  {
   "cell_type": "code",
   "execution_count": 62,
   "id": "bef637a4",
   "metadata": {},
   "outputs": [
    {
     "name": "stdout",
     "output_type": "stream",
     "text": [
      "Found 4796 validated image filenames belonging to 200 classes.\n",
      "150/150 [==============================] - 36s 237ms/step\n"
     ]
    }
   ],
   "source": [
    "create_shapley_vectors(dataset.get_attributes(),dataset,\"_image_robustness\",seed=43)"
   ]
  },
  {
   "cell_type": "code",
   "execution_count": 63,
   "id": "6efabad2",
   "metadata": {},
   "outputs": [
    {
     "name": "stdout",
     "output_type": "stream",
     "text": [
      "Found 4796 validated image filenames belonging to 200 classes.\n",
      "150/150 [==============================] - 35s 233ms/step\n"
     ]
    }
   ],
   "source": [
    "create_shapley_vectors(dataset.get_attributes(),dataset,\"_image_responsiveness\",seed=43)"
   ]
  },
  {
   "cell_type": "code",
   "execution_count": 33,
   "id": "4c1e90b2",
   "metadata": {},
   "outputs": [],
   "source": [
    "for embedding_method in [load_label_vectors_simple,load_vae_concept_vectors_simple,load_cem_vectors_simple,load_concept2vec_vectors_simple,load_cem_stratified_vectors_simple]:\n",
    "    embedding_method(dataset.get_attributes()[0],dataset,\"\",seed=43).shape"
   ]
  },
  {
   "cell_type": "code",
   "execution_count": 51,
   "id": "9a4ae40f",
   "metadata": {},
   "outputs": [
    {
     "name": "stderr",
     "output_type": "stream",
     "text": [
      "/auto/homes/njr61/environments/mambaforge/envs/concepts/lib/python3.7/site-packages/keras/optimizers/optimizer_v2/adam.py:114: UserWarning: The `lr` argument is deprecated, use `learning_rate` instead.\n",
      "  super().__init__(name, **kwargs)\n"
     ]
    },
    {
     "name": "stdout",
     "output_type": "stream",
     "text": [
      "Found 1198 validated image filenames belonging to 200 classes.\n",
      "38/38 [==============================] - 197s 5s/step\n"
     ]
    }
   ],
   "source": [
    "create_shapley_vectors(dataset.get_attributes(),dataset,\"\",seed=45)"
   ]
  },
  {
   "cell_type": "code",
   "execution_count": 99,
   "id": "5877c104",
   "metadata": {},
   "outputs": [
    {
     "name": "stdout",
     "output_type": "stream",
     "text": [
      "Found 60000 validated image filenames belonging to 10 classes.\n",
      "1875/1875 [==============================] - 159s 85ms/step\n"
     ]
    }
   ],
   "source": [
    "create_shapley_vectors(MNIST_Dataset().get_attributes(),MNIST_Dataset(),\"\",seed=43)"
   ]
  },
  {
   "cell_type": "markdown",
   "id": "618817f3",
   "metadata": {},
   "source": [
    "## Compute Truthfulness Scores"
   ]
  },
  {
   "cell_type": "code",
   "execution_count": 38,
   "id": "46e86102",
   "metadata": {},
   "outputs": [
    {
     "name": "stdout",
     "output_type": "stream",
     "text": [
      "<function load_shapley_vectors_simple at 0x7fbf55bae9e0>\n",
      "Found 1198 validated image filenames belonging to 200 classes.\n",
      "38/38 [==============================] - 197s 5s/step\n",
      "<function load_shapley_vectors_simple at 0x7fbf55bae9e0> (0.18666666666666665, 0.3714236873915765)\n"
     ]
    }
   ],
   "source": [
    "for embedding_method in [load_shapley_vectors_simple]:\n",
    "    print(embedding_method)\n",
    "    t = truthfulness_metric_shapley(embedding_method,dataset,dataset.get_attributes(),[43,44,45],model_name=\"VGG16\")\n",
    "    print(\"{} {}\".format(embedding_method,t))"
   ]
  },
  {
   "cell_type": "code",
   "execution_count": 58,
   "id": "5b16b70e",
   "metadata": {},
   "outputs": [
    {
     "name": "stdout",
     "output_type": "stream",
     "text": [
      "Found 1198 validated image filenames belonging to 200 classes.\n",
      "38/38 [==============================] - 9s 226ms/step\n",
      "Computed all concept embeddings\n"
     ]
    },
    {
     "data": {
      "text/plain": [
       "(0.8017857142857144, 0.0)"
      ]
     },
     "execution_count": 58,
     "metadata": {},
     "output_type": "execute_result"
    }
   ],
   "source": [
    "truthfulness_metric_shapley(load_shapley_vectors_simple,dataset,dataset.get_attributes(),[42],model_name=\"VGG16\")"
   ]
  },
  {
   "cell_type": "code",
   "execution_count": 90,
   "id": "62ca52e8",
   "metadata": {},
   "outputs": [
    {
     "name": "stdout",
     "output_type": "stream",
     "text": [
      "Found 1198 validated image filenames belonging to 200 classes.\n",
      "38/38 [==============================] - 9s 223ms/step\n",
      "Computed all concept embeddings\n"
     ]
    },
    {
     "data": {
      "text/plain": [
       "(0.7535714285714287, 0.0)"
      ]
     },
     "execution_count": 90,
     "metadata": {},
     "output_type": "execute_result"
    }
   ],
   "source": [
    "truthfulness_metric_shapley(load_shapley_vectors_simple,dataset,dataset.get_attributes(),[43],model_name=\"VGG16\")"
   ]
  },
  {
   "cell_type": "code",
   "execution_count": 91,
   "id": "9a6fa104",
   "metadata": {},
   "outputs": [
    {
     "name": "stdout",
     "output_type": "stream",
     "text": [
      "Found 1198 validated image filenames belonging to 200 classes.\n",
      "38/38 [==============================] - 9s 232ms/step\n",
      "Computed all concept embeddings\n"
     ]
    },
    {
     "data": {
      "text/plain": [
       "(0.7535714285714287, 0.0)"
      ]
     },
     "execution_count": 91,
     "metadata": {},
     "output_type": "execute_result"
    }
   ],
   "source": [
    "truthfulness_metric_shapley(load_shapley_vectors_simple,dataset,dataset.get_attributes(),[44],model_name=\"VGG16\")"
   ]
  },
  {
   "cell_type": "code",
   "execution_count": 92,
   "id": "b62aa91d",
   "metadata": {},
   "outputs": [
    {
     "name": "stdout",
     "output_type": "stream",
     "text": [
      "Found 1198 validated image filenames belonging to 200 classes.\n",
      "38/38 [==============================] - 9s 223ms/step\n",
      "Computed all concept embeddings\n"
     ]
    },
    {
     "data": {
      "text/plain": [
       "(0.7535714285714287, 0.0)"
      ]
     },
     "execution_count": 92,
     "metadata": {},
     "output_type": "execute_result"
    }
   ],
   "source": [
    "truthfulness_metric_shapley(load_shapley_vectors_simple,dataset,dataset.get_attributes(),[45],model_name=\"VGG16\")"
   ]
  },
  {
   "cell_type": "code",
   "execution_count": 84,
   "id": "44505127",
   "metadata": {},
   "outputs": [
    {
     "name": "stdout",
     "output_type": "stream",
     "text": [
      "Found 1198 validated image filenames belonging to 200 classes.\n",
      "38/38 [==============================] - 9s 235ms/step\n",
      "Computed all concept embeddings\n"
     ]
    },
    {
     "data": {
      "text/plain": [
       "(0.7303571428571428, 0.0)"
      ]
     },
     "execution_count": 84,
     "metadata": {},
     "output_type": "execute_result"
    }
   ],
   "source": [
    "truthfulness_metric_shapley(load_label_vectors_simple,dataset,dataset.get_attributes(),[43],model_name=\"VGG16\")"
   ]
  },
  {
   "cell_type": "code",
   "execution_count": 111,
   "id": "fe42e5ec",
   "metadata": {},
   "outputs": [
    {
     "name": "stderr",
     "output_type": "stream",
     "text": [
      "/auto/homes/njr61/environments/mambaforge/envs/concepts/lib/python3.7/site-packages/keras/optimizers/optimizer_v2/adam.py:114: UserWarning: The `lr` argument is deprecated, use `learning_rate` instead.\n",
      "  super().__init__(name, **kwargs)\n"
     ]
    },
    {
     "name": "stdout",
     "output_type": "stream",
     "text": [
      "Found 1198 validated image filenames belonging to 200 classes.\n",
      "38/38 [==============================] - 9s 227ms/step\n",
      "Computed all concept embeddings\n"
     ]
    },
    {
     "data": {
      "text/plain": [
       "(0.033928571428571426, 0.0)"
      ]
     },
     "execution_count": 111,
     "metadata": {},
     "output_type": "execute_result"
    }
   ],
   "source": [
    "truthfulness_metric_shapley(load_random_vectors_simple,dataset,dataset.get_attributes(),[42],model_name=\"VGG16\")"
   ]
  },
  {
   "cell_type": "markdown",
   "id": "6a4c6922",
   "metadata": {},
   "source": [
    "## Evaluating Shapley Vectors across metrics"
   ]
  },
  {
   "cell_type": "code",
   "execution_count": 96,
   "id": "613cb372",
   "metadata": {},
   "outputs": [
    {
     "name": "stderr",
     "output_type": "stream",
     "text": [
      "/auto/homes/njr61/environments/mambaforge/envs/concepts/lib/python3.7/site-packages/keras/optimizers/optimizer_v2/adam.py:114: UserWarning: The `lr` argument is deprecated, use `learning_rate` instead.\n",
      "  super().__init__(name, **kwargs)\n"
     ]
    },
    {
     "name": "stdout",
     "output_type": "stream",
     "text": [
      "Found 1198 validated image filenames belonging to 200 classes.\n",
      "38/38 [==============================] - 9s 233ms/step\n",
      "Computed all concept embeddings\n",
      "Computed all concept embeddings\n",
      "Computed all concept embeddings\n"
     ]
    },
    {
     "data": {
      "text/plain": [
       "(0.7535714285714287, 0.0)"
      ]
     },
     "execution_count": 96,
     "metadata": {},
     "output_type": "execute_result"
    }
   ],
   "source": [
    "truthfulness_metric_shapley(load_shapley_vectors_simple,dataset,dataset.get_attributes(),[43,44,45])"
   ]
  },
  {
   "cell_type": "code",
   "execution_count": 97,
   "id": "8b5b773d",
   "metadata": {},
   "outputs": [
    {
     "name": "stdout",
     "output_type": "stream",
     "text": [
      "Found 1198 validated image filenames belonging to 200 classes.\n",
      "38/38 [==============================] - 9s 223ms/step\n",
      "Computed all concept embeddings\n",
      "Computed all concept embeddings\n",
      "Computed all concept embeddings\n",
      "<function load_label_vectors_simple at 0x7f7388b77d40> (0.7303571428571428, 0.0)\n",
      "Found 1198 validated image filenames belonging to 200 classes.\n",
      "38/38 [==============================] - 9s 228ms/step\n"
     ]
    },
    {
     "name": "stderr",
     "output_type": "stream",
     "text": [
      "/auto/homes/njr61/main_code/src/metrics.py:349: VisibleDeprecationWarning: Creating an ndarray from ragged nested sequences (which is a list-or-tuple of lists-or-tuples-or ndarrays with different lengths or shapes) is deprecated. If you meant to do this, you must specify 'dtype=object' when creating the ndarray.\n",
      "  all_concept_embeddings = np.array([embedding_method(i,dataset,\"\",seed=seed) for i in dataset.get_attributes()])\n"
     ]
    },
    {
     "name": "stdout",
     "output_type": "stream",
     "text": [
      "Computed all concept embeddings\n",
      "Computed all concept embeddings\n",
      "Computed all concept embeddings\n",
      "<function load_cem_vectors_simple at 0x7f7388acb050> (0.05476190476190477, 0.0030351306628528447)\n",
      "Found 1198 validated image filenames belonging to 200 classes.\n",
      "38/38 [==============================] - 9s 229ms/step\n",
      "Computed all concept embeddings\n",
      "Computed all concept embeddings\n",
      "Computed all concept embeddings\n",
      "<function load_vae_vectors_simple at 0x7f7388acbc20> (0.20773809523809525, 0.05051464168875505)\n",
      "Found 1198 validated image filenames belonging to 200 classes.\n",
      "38/38 [==============================] - 9s 234ms/step\n",
      "Computed all concept embeddings\n",
      "Computed all concept embeddings\n",
      "Computed all concept embeddings\n",
      "<function load_concept2vec_vectors_simple at 0x7f7388acba70> (0.41130952380952385, 0.012400396819047418)\n"
     ]
    }
   ],
   "source": [
    "for embedding_method in [load_label_vectors_simple,load_cem_vectors_simple,load_vae_vectors_simple,load_concept2vec_vectors_simple]:\n",
    "    t = truthfulness_metric_shapley(embedding_method,dataset,dataset.get_attributes(),[43,44,45])\n",
    "    print(embedding_method,t)"
   ]
  },
  {
   "cell_type": "code",
   "execution_count": 93,
   "id": "2af166b2",
   "metadata": {},
   "outputs": [
    {
     "data": {
      "text/plain": [
       "(0.005952380952380931, 0.002430049347999176)"
      ]
     },
     "execution_count": 93,
     "metadata": {},
     "output_type": "execute_result"
    }
   ],
   "source": [
    "stability_metric(load_shapley_vectors_simple,dataset,dataset.get_attributes(),[43,44,45])"
   ]
  },
  {
   "cell_type": "code",
   "execution_count": 94,
   "id": "db28dd91",
   "metadata": {},
   "outputs": [
    {
     "data": {
      "text/plain": [
       "(0.33630952380952384, 0.0)"
      ]
     },
     "execution_count": 94,
     "metadata": {},
     "output_type": "execute_result"
    }
   ],
   "source": [
    "robustness_image_metric(load_shapley_vectors_simple,dataset,dataset.get_attributes(),[43])"
   ]
  },
  {
   "cell_type": "code",
   "execution_count": 95,
   "id": "4c0de255",
   "metadata": {},
   "outputs": [
    {
     "data": {
      "text/plain": [
       "(0.3839285714285714, 0.0)"
      ]
     },
     "execution_count": 95,
     "metadata": {},
     "output_type": "execute_result"
    }
   ],
   "source": [
    "responsiveness_image_metric(load_shapley_vectors_simple,dataset,dataset.get_attributes(),[43])"
   ]
  },
  {
   "cell_type": "markdown",
   "id": "14eee3bd",
   "metadata": {},
   "source": [
    "## Exploration of Shapley Vectors <-> Truthfulness relationship"
   ]
  },
  {
   "cell_type": "code",
   "execution_count": 53,
   "id": "c08302b8",
   "metadata": {},
   "outputs": [],
   "source": [
    "model_name = \"VGG16\""
   ]
  },
  {
   "cell_type": "code",
   "execution_count": 54,
   "id": "d914f71b",
   "metadata": {},
   "outputs": [
    {
     "name": "stdout",
     "output_type": "stream",
     "text": [
      "Found 1198 validated image filenames belonging to 200 classes.\n",
      "38/38 [==============================] - 197s 5s/step\n"
     ]
    }
   ],
   "source": [
    "model = get_large_image_model(dataset,model_name)\n",
    "model.load_weights(\"results/models/{}_models/{}_45.h5\".format(model_name.lower(),dataset.experiment_name))\n",
    "\n",
    "similarity_matrix = get_model_concept_similarities(dataset,model)"
   ]
  },
  {
   "cell_type": "code",
   "execution_count": 55,
   "id": "c8a01143",
   "metadata": {},
   "outputs": [],
   "source": [
    "attributes = dataset.get_attributes()"
   ]
  },
  {
   "cell_type": "code",
   "execution_count": 56,
   "id": "077f572a",
   "metadata": {},
   "outputs": [],
   "source": [
    "seed = 45"
   ]
  },
  {
   "cell_type": "code",
   "execution_count": 83,
   "id": "eb705e09",
   "metadata": {},
   "outputs": [],
   "source": [
    "all_embeddings = [embedding_method(i,dataset,\"\",seed=44)[0] for i in dataset.get_attributes()]\n",
    "all_embeddings = np.array(all_embeddings)\n",
    "distances = cdist(all_embeddings,all_embeddings,metric='cosine')"
   ]
  },
  {
   "cell_type": "code",
   "execution_count": 84,
   "id": "8a7db2f0",
   "metadata": {},
   "outputs": [],
   "source": [
    "attribute = \"has_eye_color::black\"\n",
    "attribute_idx = dataset.get_attributes().index(attribute)"
   ]
  },
  {
   "cell_type": "code",
   "execution_count": 85,
   "id": "ea1f4d3b",
   "metadata": {},
   "outputs": [],
   "source": [
    "co_occuring_concepts = find_similar_conepts_shapley(attribute,dataset,similarity_matrix,5)"
   ]
  },
  {
   "cell_type": "code",
   "execution_count": 86,
   "id": "a1443492",
   "metadata": {},
   "outputs": [],
   "source": [
    "top_5_concepts = np.argsort(distances[attribute_idx])[1:1+5]\n",
    "co_occuring_concepts_hierarchy = np.array(dataset.get_attributes())[top_5_concepts]"
   ]
  },
  {
   "cell_type": "code",
   "execution_count": 87,
   "id": "e8fbb413",
   "metadata": {},
   "outputs": [
    {
     "data": {
      "text/plain": [
       "['has_back_pattern::solid',\n",
       " 'has_shape::perching-like',\n",
       " 'has_breast_pattern::solid',\n",
       " 'has_bill_shape::all-purpose',\n",
       " 'has_throat_color::yellow']"
      ]
     },
     "execution_count": 87,
     "metadata": {},
     "output_type": "execute_result"
    }
   ],
   "source": [
    "co_occuring_concepts"
   ]
  },
  {
   "cell_type": "code",
   "execution_count": 88,
   "id": "2a7b2dc8",
   "metadata": {},
   "outputs": [
    {
     "data": {
      "text/plain": [
       "array(['has_tail_shape::notched_tail', 'has_size::small_(5_-_9_in)',\n",
       "       'has_back_pattern::solid', 'has_shape::perching-like',\n",
       "       'has_bill_length::shorter_than_head'], dtype='<U39')"
      ]
     },
     "execution_count": 88,
     "metadata": {},
     "output_type": "execute_result"
    }
   ],
   "source": [
    "co_occuring_concepts_hierarchy"
   ]
  },
  {
   "cell_type": "code",
   "execution_count": 76,
   "id": "07e662d0",
   "metadata": {},
   "outputs": [
    {
     "name": "stdout",
     "output_type": "stream",
     "text": [
      "has_forehead_color::white -0.19999999999999998\n",
      "['has_crown_color::white', 'has_nape_color::white', 'has_back_color::white', 'has_primary_color::white', 'has_under_tail_color::white']\n",
      "['has_crown_color::white', 'has_nape_color::white', 'has_under_tail_color::white', 'has_back_color::white', 'has_primary_color::white']\n",
      "has_bill_shape::cone -0.19999999999999998\n",
      "['has_back_pattern::striped', 'has_tail_shape::notched_tail', 'has_wing_pattern::striped', 'has_upperparts_color::buff', 'has_bill_length::shorter_than_head']\n",
      "['has_tail_shape::notched_tail', 'has_bill_length::shorter_than_head', 'has_back_pattern::striped', 'has_wing_pattern::striped', 'has_upperparts_color::buff']\n",
      "has_under_tail_color::buff -0.19999999999999998\n",
      "['has_upper_tail_color::buff', 'has_upperparts_color::buff', 'has_throat_color::buff', 'has_wing_pattern::striped', 'has_wing_color::brown']\n",
      "['has_upper_tail_color::buff', 'has_upperparts_color::buff', 'has_wing_color::brown', 'has_throat_color::buff', 'has_wing_pattern::striped']\n",
      "has_nape_color::yellow -0.19999999999999998\n",
      "['has_crown_color::yellow', 'has_back_color::yellow', 'has_throat_color::yellow', 'has_forehead_color::yellow', 'has_primary_color::yellow']\n",
      "['has_crown_color::yellow', 'has_throat_color::yellow', 'has_forehead_color::yellow', 'has_back_color::yellow', 'has_primary_color::yellow']\n",
      "has_wing_pattern::multi-colored -0.19999999999999998\n",
      "['has_tail_pattern::multi-colored', 'has_back_pattern::multi-colored', 'has_wing_color::yellow', 'has_upperparts_color::yellow', 'has_nape_color::yellow']\n",
      "['has_tail_pattern::multi-colored', 'has_wing_color::yellow', 'has_upperparts_color::yellow', 'has_back_pattern::multi-colored', 'has_nape_color::yellow']\n",
      "has_belly_color::buff -0.39999999999999997\n",
      "['has_breast_color::buff', 'has_underparts_color::buff', 'has_primary_color::buff', 'has_back_color::buff', 'has_primary_color::brown']\n",
      "['has_underparts_color::buff', 'has_breast_color::buff', 'has_primary_color::brown', 'has_primary_color::buff', 'has_back_color::buff']\n",
      "has_head_pattern::plain -0.39999999999999997\n",
      "['has_bill_shape::hooked_seabird', 'has_crown_color::white', 'has_leg_color::black', 'has_nape_color::black', 'has_belly_color::black']\n",
      "['has_crown_color::white', 'has_belly_color::black', 'has_leg_color::black', 'has_bill_shape::hooked_seabird', 'has_nape_color::black']\n",
      "has_size::medium_(9_-_16_in) -0.6\n",
      "['has_bill_shape::hooked_seabird', 'has_shape::duck-like', 'has_forehead_color::white', 'has_nape_color::white', 'has_bill_length::about_the_same_as_head']\n",
      "['has_bill_shape::hooked_seabird', 'has_bill_length::about_the_same_as_head', 'has_nape_color::white', 'has_forehead_color::white', 'has_shape::duck-like']\n",
      "has_eye_color::black -0.7999999999999999\n",
      "['has_back_pattern::solid', 'has_shape::perching-like', 'has_breast_pattern::solid', 'has_bill_shape::all-purpose', 'has_throat_color::yellow']\n",
      "['has_shape::perching-like', 'has_bill_shape::all-purpose', 'has_breast_pattern::solid', 'has_throat_color::yellow', 'has_back_pattern::solid']\n",
      "has_primary_color::brown -0.6\n",
      "['has_upperparts_color::brown', 'has_back_color::brown', 'has_wing_color::brown', 'has_forehead_color::brown', 'has_upper_tail_color::brown']\n",
      "['has_upperparts_color::brown', 'has_wing_color::brown', 'has_back_color::brown', 'has_upper_tail_color::brown', 'has_forehead_color::brown']\n",
      "has_primary_color::white -0.19999999999999998\n",
      "['has_breast_color::white', 'has_nape_color::white', 'has_belly_color::white', 'has_underparts_color::white', 'has_throat_color::white']\n",
      "['has_nape_color::white', 'has_breast_color::white', 'has_throat_color::white', 'has_underparts_color::white', 'has_belly_color::white']\n",
      "has_breast_pattern::multi-colored -0.19999999999999998\n",
      "['has_bill_shape::dagger', 'has_wing_pattern::spotted', 'has_head_pattern::eyebrow', 'has_wing_color::black', 'has_tail_pattern::striped']\n",
      "['has_tail_pattern::striped', 'has_head_pattern::eyebrow', 'has_wing_color::black', 'has_bill_shape::dagger', 'has_wing_pattern::spotted']\n",
      "has_upperparts_color::grey -0.39999999999999997\n",
      "['has_back_color::grey', 'has_wing_color::grey', 'has_primary_color::grey', 'has_upper_tail_color::grey', 'has_under_tail_color::grey']\n",
      "['has_wing_color::grey', 'has_back_color::grey', 'has_primary_color::grey', 'has_upper_tail_color::grey', 'has_under_tail_color::grey']\n"
     ]
    },
    {
     "data": {
      "text/plain": [
       "0.3559999999999999"
      ]
     },
     "execution_count": 76,
     "metadata": {},
     "output_type": "execute_result"
    }
   ],
   "source": [
    "selected_concepts = random.sample(attributes,k=50)\n",
    "selected_concepts_indices = [attributes.index(i) for i in selected_concepts]\n",
    "\n",
    "temp_truthfulness = []\n",
    "\n",
    "for concept in selected_concepts:\n",
    "    co_occuring_concepts = find_similar_conepts_shapley(concept,dataset,similarity_matrix,5)\n",
    "    co_occuring_concepts_hierarchy = rank_distance_concepts(embedding_method,dataset,concept,\n",
    "                                                            co_occuring_concepts,seed)\n",
    "\n",
    "    if len(co_occuring_concepts) == 1:\n",
    "        temp_truthfulness.append(int(co_occuring_concepts == co_occuring_concepts_hierarchy))\n",
    "    else:\n",
    "        score = stats.kendalltau(co_occuring_concepts,\n",
    "                                                  co_occuring_concepts_hierarchy).correlation\n",
    "        \n",
    "        if score < 0:\n",
    "            print(concept,score)\n",
    "            print(co_occuring_concepts)\n",
    "            print(co_occuring_concepts_hierarchy)\n",
    "        \n",
    "        temp_truthfulness.append(score)\n",
    "np.mean(temp_truthfulness)"
   ]
  },
  {
   "cell_type": "code",
   "execution_count": 96,
   "id": "5fc9b796",
   "metadata": {},
   "outputs": [
    {
     "ename": "KeyboardInterrupt",
     "evalue": "",
     "output_type": "error",
     "traceback": [
      "\u001b[0;31m---------------------------------------------------------------------------\u001b[0m",
      "\u001b[0;31mKeyboardInterrupt\u001b[0m                         Traceback (most recent call last)",
      "\u001b[0;32m/tmp/ipykernel_23507/4140434499.py\u001b[0m in \u001b[0;36m<module>\u001b[0;34m\u001b[0m\n\u001b[0;32m----> 1\u001b[0;31m \u001b[0mtruthfulness_metric\u001b[0m\u001b[0;34m(\u001b[0m\u001b[0mload_shapley_vectors_simple\u001b[0m\u001b[0;34m,\u001b[0m\u001b[0mdataset\u001b[0m\u001b[0;34m,\u001b[0m\u001b[0mdataset\u001b[0m\u001b[0;34m.\u001b[0m\u001b[0mget_attributes\u001b[0m\u001b[0;34m(\u001b[0m\u001b[0;34m)\u001b[0m\u001b[0;34m,\u001b[0m\u001b[0;34m[\u001b[0m\u001b[0;36m43\u001b[0m\u001b[0;34m,\u001b[0m\u001b[0;36m44\u001b[0m\u001b[0;34m,\u001b[0m\u001b[0;36m45\u001b[0m\u001b[0;34m]\u001b[0m\u001b[0;34m)\u001b[0m\u001b[0;34m\u001b[0m\u001b[0;34m\u001b[0m\u001b[0m\n\u001b[0m",
      "\u001b[0;32m/auto/homes/njr61/main_code/src/metrics.py\u001b[0m in \u001b[0;36mtruthfulness_metric\u001b[0;34m(embedding_method, dataset, attributes, random_seeds, model, baseline_hierarchies)\u001b[0m\n\u001b[1;32m    381\u001b[0m     \u001b[0mavg_truthfulness\u001b[0m \u001b[0;34m=\u001b[0m \u001b[0;34m[\u001b[0m\u001b[0;34m]\u001b[0m\u001b[0;34m\u001b[0m\u001b[0;34m\u001b[0m\u001b[0m\n\u001b[1;32m    382\u001b[0m \u001b[0;34m\u001b[0m\u001b[0m\n\u001b[0;32m--> 383\u001b[0;31m     \u001b[0mreset_dataset\u001b[0m\u001b[0;34m(\u001b[0m\u001b[0mdataset\u001b[0m\u001b[0;34m,\u001b[0m\u001b[0mrandom_seeds\u001b[0m\u001b[0;34m[\u001b[0m\u001b[0;36m0\u001b[0m\u001b[0;34m]\u001b[0m\u001b[0;34m,\u001b[0m\u001b[0;36m100\u001b[0m\u001b[0;34m)\u001b[0m\u001b[0;34m\u001b[0m\u001b[0;34m\u001b[0m\u001b[0m\n\u001b[0m\u001b[1;32m    384\u001b[0m \u001b[0;34m\u001b[0m\u001b[0m\n\u001b[1;32m    385\u001b[0m     \u001b[0;32mwith\u001b[0m \u001b[0mtf\u001b[0m\u001b[0;34m.\u001b[0m\u001b[0mcompat\u001b[0m\u001b[0;34m.\u001b[0m\u001b[0mv1\u001b[0m\u001b[0;34m.\u001b[0m\u001b[0mSession\u001b[0m\u001b[0;34m(\u001b[0m\u001b[0;34m)\u001b[0m \u001b[0;32mas\u001b[0m \u001b[0msess\u001b[0m\u001b[0;34m:\u001b[0m\u001b[0;34m\u001b[0m\u001b[0;34m\u001b[0m\u001b[0m\n",
      "\u001b[0;32m/auto/homes/njr61/main_code/src/metrics.py\u001b[0m in \u001b[0;36mreset_dataset\u001b[0;34m(dataset, seed, max_images)\u001b[0m\n\u001b[1;32m    181\u001b[0m     \u001b[0;32mfor\u001b[0m \u001b[0mattribute\u001b[0m \u001b[0;32min\u001b[0m \u001b[0mconcepts\u001b[0m\u001b[0;34m:\u001b[0m\u001b[0;34m\u001b[0m\u001b[0;34m\u001b[0m\u001b[0m\n\u001b[1;32m    182\u001b[0m         create_folder_from_attribute(attribute,dataset.get_images_with_attribute,seed=seed,\n\u001b[0;32m--> 183\u001b[0;31m                                         suffix='',num_images=max_images,train=False)\n\u001b[0m\u001b[1;32m    184\u001b[0m \u001b[0;34m\u001b[0m\u001b[0m\n\u001b[1;32m    185\u001b[0m \u001b[0;34m\u001b[0m\u001b[0m\n",
      "\u001b[0;32m/auto/homes/njr61/main_code/src/dataset.py\u001b[0m in \u001b[0;36mcreate_folder_from_attribute\u001b[0;34m(attribute_name, attribute_function, seed, suffix, num_images, train)\u001b[0m\n\u001b[1;32m    356\u001b[0m     \u001b[0mfiles\u001b[0m \u001b[0;34m=\u001b[0m \u001b[0mglob\u001b[0m\u001b[0;34m.\u001b[0m\u001b[0mglob\u001b[0m\u001b[0;34m(\u001b[0m\u001b[0;34m\"{}/*\"\u001b[0m\u001b[0;34m.\u001b[0m\u001b[0mformat\u001b[0m\u001b[0;34m(\u001b[0m\u001b[0mfolder_location\u001b[0m\u001b[0;34m)\u001b[0m\u001b[0;34m)\u001b[0m\u001b[0;34m\u001b[0m\u001b[0;34m\u001b[0m\u001b[0m\n\u001b[1;32m    357\u001b[0m     \u001b[0;32mfor\u001b[0m \u001b[0mf\u001b[0m \u001b[0;32min\u001b[0m \u001b[0mfiles\u001b[0m\u001b[0;34m:\u001b[0m\u001b[0;34m\u001b[0m\u001b[0;34m\u001b[0m\u001b[0m\n\u001b[0;32m--> 358\u001b[0;31m         \u001b[0mos\u001b[0m\u001b[0;34m.\u001b[0m\u001b[0mremove\u001b[0m\u001b[0;34m(\u001b[0m\u001b[0mf\u001b[0m\u001b[0;34m)\u001b[0m\u001b[0;34m\u001b[0m\u001b[0;34m\u001b[0m\u001b[0m\n\u001b[0m\u001b[1;32m    359\u001b[0m \u001b[0;34m\u001b[0m\u001b[0m\n\u001b[1;32m    360\u001b[0m     \u001b[0;32mif\u001b[0m \u001b[0mlen\u001b[0m\u001b[0;34m(\u001b[0m\u001b[0mimage_locations\u001b[0m\u001b[0;34m)\u001b[0m\u001b[0;34m>\u001b[0m\u001b[0mnum_images\u001b[0m\u001b[0;34m:\u001b[0m\u001b[0;34m\u001b[0m\u001b[0;34m\u001b[0m\u001b[0m\n",
      "\u001b[0;31mKeyboardInterrupt\u001b[0m: "
     ]
    }
   ],
   "source": []
  },
  {
   "cell_type": "code",
   "execution_count": 43,
   "id": "dc2b3b23",
   "metadata": {},
   "outputs": [
    {
     "data": {
      "text/plain": [
       "(0.7738095238095238, 0.0)"
      ]
     },
     "execution_count": 43,
     "metadata": {},
     "output_type": "execute_result"
    }
   ],
   "source": [
    "robustness_image_metric(load_shapley_vectors_simple,dataset,dataset.get_attributes(),[43])"
   ]
  },
  {
   "cell_type": "code",
   "execution_count": 44,
   "id": "bfa727bb",
   "metadata": {},
   "outputs": [
    {
     "data": {
      "text/plain": [
       "(0.36309523809523814, 0.0)"
      ]
     },
     "execution_count": 44,
     "metadata": {},
     "output_type": "execute_result"
    }
   ],
   "source": [
    "responsiveness_image_metric(load_shapley_vectors_simple,dataset,dataset.get_attributes(),[43])"
   ]
  },
  {
   "cell_type": "code",
   "execution_count": 100,
   "id": "aa1314a4",
   "metadata": {},
   "outputs": [],
   "source": [
    "shapley_hierarchy_mnist = create_hierarchy(create_ward_hierarchy, load_shapley_vectors_simple,MNIST_Dataset(),'',MNIST_Dataset().get_attributes(),43)"
   ]
  },
  {
   "cell_type": "code",
   "execution_count": 101,
   "id": "0f1f5aaa",
   "metadata": {},
   "outputs": [
    {
     "name": "stdout",
     "output_type": "stream",
     "text": [
      "           ---- 0_color\n",
      "      ----|\n",
      "           ---- 0_number\n",
      "\n",
      " ----|\n",
      "                ---- 1_color\n",
      "           ----|\n",
      "                ---- 1_number\n",
      "\n",
      "      ----|\n",
      "                     ---- 2_color\n",
      "                ----|\n",
      "                     ---- 2_number\n",
      "\n",
      "           ----|\n",
      "                          ---- 7_color\n",
      "                     ----|\n",
      "                          ---- 7_number\n",
      "\n",
      "                ----|\n",
      "                               ---- 9_color\n",
      "                          ----|\n",
      "                               ---- 9_number\n",
      "\n",
      "                     ----|\n",
      "                                    ---- 8_color\n",
      "                               ----|\n",
      "                                    ---- 8_number\n",
      "\n",
      "                          ----|\n",
      "                                         ---- 6_color\n",
      "                                    ----|\n",
      "                                         ---- 6_number\n",
      "\n",
      "                               ----|\n",
      "                                              ---- 3_color\n",
      "                                         ----|\n",
      "                                              ---- 3_number\n",
      "\n",
      "                                    ----|\n",
      "                                                   ---- 5_color\n",
      "                                              ----|\n",
      "                                                   ---- 5_number\n",
      "\n",
      "                                         ----|\n",
      "                                                   ---- spurious\n",
      "                                              ----|\n",
      "                                                        ---- 4_color\n",
      "                                                   ----|\n",
      "                                                        ---- 4_number\n"
     ]
    }
   ],
   "source": [
    "print(shapley_hierarchy_mnist)"
   ]
  },
  {
   "cell_type": "code",
   "execution_count": 102,
   "id": "a31f02b2",
   "metadata": {},
   "outputs": [],
   "source": [
    "shapley_hierarchy_cub_44 = create_hierarchy(create_ward_hierarchy, load_shapley_vectors_simple,CUB_Dataset(),'',CUB_Dataset().get_attributes(),44)"
   ]
  },
  {
   "cell_type": "code",
   "execution_count": 103,
   "id": "ac091799",
   "metadata": {},
   "outputs": [],
   "source": [
    "shapley_hierarchy_cub_45 = create_hierarchy(create_ward_hierarchy, load_shapley_vectors_simple,CUB_Dataset(),'',CUB_Dataset().get_attributes(),45)"
   ]
  },
  {
   "cell_type": "code",
   "execution_count": 104,
   "id": "193aa95b",
   "metadata": {},
   "outputs": [
    {
     "name": "stdout",
     "output_type": "stream",
     "text": [
      "                     ---- has_breast_color::buff\n",
      "                ----|\n",
      "                          ---- has_underparts_color::buff\n",
      "                     ----|\n",
      "                          ---- has_belly_color::buff\n",
      "\n",
      "\n",
      "           ----|\n",
      "                     ---- has_throat_color::buff\n",
      "                ----|\n",
      "                               ---- has_upper_tail_color::buff\n",
      "                          ----|\n",
      "                               ---- has_under_tail_color::buff\n",
      "\n",
      "                     ----|\n",
      "                                    ---- has_upperparts_color::buff\n",
      "                               ----|\n",
      "                                         ---- has_wing_color::buff\n",
      "                                    ----|\n",
      "                                         ---- has_back_color::buff\n",
      "\n",
      "\n",
      "                          ----|\n",
      "                                    ---- has_nape_color::buff\n",
      "                               ----|\n",
      "                                    ---- has_primary_color::buff\n",
      "\n",
      "\n",
      "\n",
      "\n",
      "\n",
      "      ----|\n",
      "                     ---- has_belly_color::brown\n",
      "                ----|\n",
      "                          ---- has_underparts_color::brown\n",
      "                     ----|\n",
      "                          ---- has_breast_color::brown\n",
      "\n",
      "\n",
      "           ----|\n",
      "                          ---- has_head_pattern::eyebrow\n",
      "                     ----|\n",
      "                          ---- has_wing_pattern::spotted\n",
      "\n",
      "                ----|\n",
      "                                    ---- has_nape_color::brown\n",
      "                               ----|\n",
      "                                         ---- has_forehead_color::brown\n",
      "                                    ----|\n",
      "                                         ---- has_crown_color::brown\n",
      "\n",
      "\n",
      "                          ----|\n",
      "                                         ---- has_upper_tail_color::brown\n",
      "                                    ----|\n",
      "                                         ---- has_under_tail_color::brown\n",
      "\n",
      "                               ----|\n",
      "                                         ---- has_primary_color::brown\n",
      "                                    ----|\n",
      "                                              ---- has_back_color::brown\n",
      "                                         ----|\n",
      "                                                   ---- has_wing_color::brown\n",
      "                                              ----|\n",
      "                                                   ---- has_upperparts_color::brown\n",
      "\n",
      "\n",
      "\n",
      "\n",
      "\n",
      "                     ----|\n",
      "                                    ---- has_size::very_small_(3_-_5_in)\n",
      "                               ----|\n",
      "                                    ---- has_tail_pattern::striped\n",
      "\n",
      "                          ----|\n",
      "                                    ---- has_bill_color::buff\n",
      "                               ----|\n",
      "                                         ---- has_breast_pattern::striped\n",
      "                                    ----|\n",
      "                                              ---- has_leg_color::buff\n",
      "                                         ----|\n",
      "                                                   ---- has_back_pattern::striped\n",
      "                                              ----|\n",
      "                                                   ---- has_wing_pattern::striped\n",
      "\n",
      "\n",
      "\n",
      "\n",
      "\n",
      "\n",
      "\n",
      "\n",
      "\n",
      " ----|\n",
      "                     ---- has_throat_color::yellow\n",
      "                ----|\n",
      "                          ---- has_breast_color::yellow\n",
      "                     ----|\n",
      "                               ---- has_primary_color::yellow\n",
      "                          ----|\n",
      "                                    ---- has_underparts_color::yellow\n",
      "                               ----|\n",
      "                                    ---- has_belly_color::yellow\n",
      "\n",
      "\n",
      "\n",
      "\n",
      "           ----|\n",
      "                          ---- has_nape_color::yellow\n",
      "                     ----|\n",
      "                               ---- has_forehead_color::yellow\n",
      "                          ----|\n",
      "                               ---- has_crown_color::yellow\n",
      "\n",
      "\n",
      "                ----|\n",
      "                          ---- has_back_color::yellow\n",
      "                     ----|\n",
      "                               ---- has_wing_color::yellow\n",
      "                          ----|\n",
      "                               ---- has_upperparts_color::yellow\n",
      "\n",
      "\n",
      "\n",
      "\n",
      "      ----|\n",
      "                          ---- has_forehead_color::blue\n",
      "                     ----|\n",
      "                          ---- has_crown_color::blue\n",
      "\n",
      "                ----|\n",
      "                               ---- has_throat_color::grey\n",
      "                          ----|\n",
      "                                    ---- has_belly_color::grey\n",
      "                               ----|\n",
      "                                         ---- has_underparts_color::grey\n",
      "                                    ----|\n",
      "                                         ---- has_breast_color::grey\n",
      "\n",
      "\n",
      "\n",
      "                     ----|\n",
      "                               ---- has_eye_color::black\n",
      "                          ----|\n",
      "                                              ---- has_nape_color::grey\n",
      "                                         ----|\n",
      "                                                   ---- has_forehead_color::grey\n",
      "                                              ----|\n",
      "                                                   ---- has_crown_color::grey\n",
      "\n",
      "\n",
      "                                    ----|\n",
      "                                                   ---- has_upper_tail_color::grey\n",
      "                                              ----|\n",
      "                                                   ---- has_under_tail_color::grey\n",
      "\n",
      "                                         ----|\n",
      "                                                   ---- has_wing_color::grey\n",
      "                                              ----|\n",
      "                                                        ---- has_primary_color::grey\n",
      "                                                   ----|\n",
      "                                                             ---- has_upperparts_color::grey\n",
      "                                                        ----|\n",
      "                                                             ---- has_back_color::grey\n",
      "\n",
      "\n",
      "\n",
      "\n",
      "\n",
      "                               ----|\n",
      "                                         ---- has_back_pattern::multi-colored\n",
      "                                    ----|\n",
      "                                              ---- has_breast_pattern::multi-colored\n",
      "                                         ----|\n",
      "                                                             ---- has_tail_pattern::multi-colored\n",
      "                                                        ----|\n",
      "                                                             ---- has_wing_pattern::multi-colored\n",
      "\n",
      "                                                   ----|\n",
      "                                                             ---- has_wing_shape::pointed-wings\n",
      "                                                        ----|\n",
      "                                                             ---- has_leg_color::grey\n",
      "\n",
      "\n",
      "                                              ----|\n",
      "                                                        ---- has_bill_color::grey\n",
      "                                                   ----|\n",
      "                                                                  ---- has_bill_shape::cone\n",
      "                                                             ----|\n",
      "                                                                  ---- has_tail_shape::notched_tail\n",
      "\n",
      "                                                        ----|\n",
      "                                                                  ---- has_wing_shape::rounded-wings\n",
      "                                                             ----|\n",
      "                                                                       ---- has_bill_shape::all-purpose\n",
      "                                                                  ----|\n",
      "                                                                            ---- has_size::small_(5_-_9_in)\n",
      "                                                                       ----|\n",
      "                                                                                 ---- has_bill_length::shorter_than_head\n",
      "                                                                            ----|\n",
      "                                                                                 ---- has_shape::perching-like\n",
      "\n",
      "\n",
      "\n",
      "\n",
      "\n",
      "\n",
      "\n",
      "\n",
      "\n",
      "\n",
      "\n",
      "\n",
      "\n",
      "           ----|\n",
      "                          ---- has_shape::duck-like\n",
      "                     ----|\n",
      "                                         ---- has_bill_length::about_the_same_as_head\n",
      "                                    ----|\n",
      "                                         ---- has_size::medium_(9_-_16_in)\n",
      "\n",
      "                               ----|\n",
      "                                              ---- has_head_pattern::plain\n",
      "                                         ----|\n",
      "                                                   ---- has_leg_color::black\n",
      "                                              ----|\n",
      "                                                   ---- has_bill_color::black\n",
      "\n",
      "\n",
      "                                    ----|\n",
      "                                                   ---- has_breast_pattern::solid\n",
      "                                              ----|\n",
      "                                                   ---- has_belly_pattern::solid\n",
      "\n",
      "                                         ----|\n",
      "                                                   ---- has_tail_pattern::solid\n",
      "                                              ----|\n",
      "                                                        ---- has_back_pattern::solid\n",
      "                                                   ----|\n",
      "                                                        ---- has_wing_pattern::solid\n",
      "\n",
      "\n",
      "\n",
      "\n",
      "\n",
      "                          ----|\n",
      "                                         ---- has_breast_color::black\n",
      "                                    ----|\n",
      "                                              ---- has_underparts_color::black\n",
      "                                         ----|\n",
      "                                              ---- has_belly_color::black\n",
      "\n",
      "\n",
      "                               ----|\n",
      "                                                   ---- has_wing_color::black\n",
      "                                              ----|\n",
      "                                                   ---- has_upperparts_color::black\n",
      "\n",
      "                                         ----|\n",
      "                                                   ---- has_upper_tail_color::black\n",
      "                                              ----|\n",
      "                                                   ---- has_under_tail_color::black\n",
      "\n",
      "\n",
      "                                    ----|\n",
      "                                              ---- has_throat_color::black\n",
      "                                         ----|\n",
      "                                                        ---- has_forehead_color::black\n",
      "                                                   ----|\n",
      "                                                        ---- has_crown_color::black\n",
      "\n",
      "                                              ----|\n",
      "                                                        ---- has_nape_color::black\n",
      "                                                   ----|\n",
      "                                                             ---- has_back_color::black\n",
      "                                                        ----|\n",
      "                                                             ---- has_primary_color::black\n",
      "\n",
      "\n",
      "\n",
      "\n",
      "\n",
      "\n",
      "\n",
      "\n",
      "                ----|\n",
      "                                    ---- has_throat_color::white\n",
      "                               ----|\n",
      "                                         ---- has_breast_color::white\n",
      "                                    ----|\n",
      "                                              ---- has_underparts_color::white\n",
      "                                         ----|\n",
      "                                              ---- has_belly_color::white\n",
      "\n",
      "\n",
      "\n",
      "                          ----|\n",
      "                                    ---- has_bill_shape::dagger\n",
      "                               ----|\n",
      "                                              ---- has_wing_color::white\n",
      "                                         ----|\n",
      "                                                   ---- has_upperparts_color::white\n",
      "                                              ----|\n",
      "                                                   ---- has_back_color::white\n",
      "\n",
      "\n",
      "                                    ----|\n",
      "                                                   ---- has_nape_color::white\n",
      "                                              ----|\n",
      "                                                   ---- has_primary_color::white\n",
      "\n",
      "                                         ----|\n",
      "                                                   ---- has_upper_tail_color::white\n",
      "                                              ----|\n",
      "                                                   ---- has_under_tail_color::white\n",
      "\n",
      "\n",
      "\n",
      "\n",
      "\n",
      "                     ----|\n",
      "                               ---- has_bill_shape::hooked_seabird\n",
      "                          ----|\n",
      "                                    ---- has_forehead_color::white\n",
      "                               ----|\n",
      "                                    ---- has_crown_color::white\n"
     ]
    }
   ],
   "source": [
    "print(shapley_hierarchy_cub_44)"
   ]
  },
  {
   "cell_type": "code",
   "execution_count": 105,
   "id": "c06f82cb",
   "metadata": {},
   "outputs": [
    {
     "name": "stdout",
     "output_type": "stream",
     "text": [
      "                          ---- has_upper_tail_color::buff\n",
      "                     ----|\n",
      "                          ---- has_under_tail_color::buff\n",
      "\n",
      "                ----|\n",
      "                               ---- has_upperparts_color::buff\n",
      "                          ----|\n",
      "                                    ---- has_wing_color::buff\n",
      "                               ----|\n",
      "                                    ---- has_back_color::buff\n",
      "\n",
      "\n",
      "                     ----|\n",
      "                               ---- has_nape_color::buff\n",
      "                          ----|\n",
      "                               ---- has_primary_color::buff\n",
      "\n",
      "\n",
      "\n",
      "           ----|\n",
      "                     ---- has_throat_color::buff\n",
      "                ----|\n",
      "                          ---- has_breast_color::buff\n",
      "                     ----|\n",
      "                               ---- has_underparts_color::buff\n",
      "                          ----|\n",
      "                               ---- has_belly_color::buff\n",
      "\n",
      "\n",
      "\n",
      "\n",
      "      ----|\n",
      "                     ---- has_belly_color::brown\n",
      "                ----|\n",
      "                          ---- has_underparts_color::brown\n",
      "                     ----|\n",
      "                          ---- has_breast_color::brown\n",
      "\n",
      "\n",
      "           ----|\n",
      "                          ---- has_head_pattern::eyebrow\n",
      "                     ----|\n",
      "                          ---- has_wing_pattern::spotted\n",
      "\n",
      "                ----|\n",
      "                                    ---- has_nape_color::brown\n",
      "                               ----|\n",
      "                                         ---- has_forehead_color::brown\n",
      "                                    ----|\n",
      "                                         ---- has_crown_color::brown\n",
      "\n",
      "\n",
      "                          ----|\n",
      "                                         ---- has_upper_tail_color::brown\n",
      "                                    ----|\n",
      "                                         ---- has_under_tail_color::brown\n",
      "\n",
      "                               ----|\n",
      "                                         ---- has_primary_color::brown\n",
      "                                    ----|\n",
      "                                              ---- has_back_color::brown\n",
      "                                         ----|\n",
      "                                                   ---- has_wing_color::brown\n",
      "                                              ----|\n",
      "                                                   ---- has_upperparts_color::brown\n",
      "\n",
      "\n",
      "\n",
      "\n",
      "\n",
      "                     ----|\n",
      "                                    ---- has_size::very_small_(3_-_5_in)\n",
      "                               ----|\n",
      "                                    ---- has_tail_pattern::striped\n",
      "\n",
      "                          ----|\n",
      "                                    ---- has_bill_color::buff\n",
      "                               ----|\n",
      "                                         ---- has_breast_pattern::striped\n",
      "                                    ----|\n",
      "                                              ---- has_leg_color::buff\n",
      "                                         ----|\n",
      "                                                   ---- has_back_pattern::striped\n",
      "                                              ----|\n",
      "                                                   ---- has_wing_pattern::striped\n",
      "\n",
      "\n",
      "\n",
      "\n",
      "\n",
      "\n",
      "\n",
      "\n",
      "\n",
      " ----|\n",
      "                     ---- has_throat_color::yellow\n",
      "                ----|\n",
      "                          ---- has_breast_color::yellow\n",
      "                     ----|\n",
      "                               ---- has_primary_color::yellow\n",
      "                          ----|\n",
      "                                    ---- has_underparts_color::yellow\n",
      "                               ----|\n",
      "                                    ---- has_belly_color::yellow\n",
      "\n",
      "\n",
      "\n",
      "\n",
      "           ----|\n",
      "                          ---- has_nape_color::yellow\n",
      "                     ----|\n",
      "                               ---- has_forehead_color::yellow\n",
      "                          ----|\n",
      "                               ---- has_crown_color::yellow\n",
      "\n",
      "\n",
      "                ----|\n",
      "                          ---- has_back_color::yellow\n",
      "                     ----|\n",
      "                               ---- has_wing_color::yellow\n",
      "                          ----|\n",
      "                               ---- has_upperparts_color::yellow\n",
      "\n",
      "\n",
      "\n",
      "\n",
      "      ----|\n",
      "                          ---- has_forehead_color::blue\n",
      "                     ----|\n",
      "                          ---- has_crown_color::blue\n",
      "\n",
      "                ----|\n",
      "                               ---- has_throat_color::grey\n",
      "                          ----|\n",
      "                                    ---- has_belly_color::grey\n",
      "                               ----|\n",
      "                                         ---- has_underparts_color::grey\n",
      "                                    ----|\n",
      "                                         ---- has_breast_color::grey\n",
      "\n",
      "\n",
      "\n",
      "                     ----|\n",
      "                               ---- has_eye_color::black\n",
      "                          ----|\n",
      "                                              ---- has_nape_color::grey\n",
      "                                         ----|\n",
      "                                                   ---- has_forehead_color::grey\n",
      "                                              ----|\n",
      "                                                   ---- has_crown_color::grey\n",
      "\n",
      "\n",
      "                                    ----|\n",
      "                                                   ---- has_upper_tail_color::grey\n",
      "                                              ----|\n",
      "                                                   ---- has_under_tail_color::grey\n",
      "\n",
      "                                         ----|\n",
      "                                                   ---- has_wing_color::grey\n",
      "                                              ----|\n",
      "                                                        ---- has_primary_color::grey\n",
      "                                                   ----|\n",
      "                                                             ---- has_upperparts_color::grey\n",
      "                                                        ----|\n",
      "                                                             ---- has_back_color::grey\n",
      "\n",
      "\n",
      "\n",
      "\n",
      "\n",
      "                               ----|\n",
      "                                         ---- has_back_pattern::multi-colored\n",
      "                                    ----|\n",
      "                                              ---- has_breast_pattern::multi-colored\n",
      "                                         ----|\n",
      "                                                             ---- has_tail_pattern::multi-colored\n",
      "                                                        ----|\n",
      "                                                             ---- has_wing_pattern::multi-colored\n",
      "\n",
      "                                                   ----|\n",
      "                                                             ---- has_wing_shape::pointed-wings\n",
      "                                                        ----|\n",
      "                                                             ---- has_leg_color::grey\n",
      "\n",
      "\n",
      "                                              ----|\n",
      "                                                        ---- has_bill_color::grey\n",
      "                                                   ----|\n",
      "                                                                  ---- has_bill_shape::cone\n",
      "                                                             ----|\n",
      "                                                                  ---- has_tail_shape::notched_tail\n",
      "\n",
      "                                                        ----|\n",
      "                                                                  ---- has_wing_shape::rounded-wings\n",
      "                                                             ----|\n",
      "                                                                       ---- has_bill_shape::all-purpose\n",
      "                                                                  ----|\n",
      "                                                                            ---- has_size::small_(5_-_9_in)\n",
      "                                                                       ----|\n",
      "                                                                                 ---- has_bill_length::shorter_than_head\n",
      "                                                                            ----|\n",
      "                                                                                 ---- has_shape::perching-like\n",
      "\n",
      "\n",
      "\n",
      "\n",
      "\n",
      "\n",
      "\n",
      "\n",
      "\n",
      "\n",
      "\n",
      "\n",
      "\n",
      "           ----|\n",
      "                          ---- has_shape::duck-like\n",
      "                     ----|\n",
      "                                         ---- has_bill_length::about_the_same_as_head\n",
      "                                    ----|\n",
      "                                         ---- has_size::medium_(9_-_16_in)\n",
      "\n",
      "                               ----|\n",
      "                                              ---- has_head_pattern::plain\n",
      "                                         ----|\n",
      "                                                   ---- has_leg_color::black\n",
      "                                              ----|\n",
      "                                                   ---- has_bill_color::black\n",
      "\n",
      "\n",
      "                                    ----|\n",
      "                                                   ---- has_breast_pattern::solid\n",
      "                                              ----|\n",
      "                                                   ---- has_belly_pattern::solid\n",
      "\n",
      "                                         ----|\n",
      "                                                   ---- has_tail_pattern::solid\n",
      "                                              ----|\n",
      "                                                        ---- has_back_pattern::solid\n",
      "                                                   ----|\n",
      "                                                        ---- has_wing_pattern::solid\n",
      "\n",
      "\n",
      "\n",
      "\n",
      "\n",
      "                          ----|\n",
      "                                         ---- has_breast_color::black\n",
      "                                    ----|\n",
      "                                              ---- has_underparts_color::black\n",
      "                                         ----|\n",
      "                                              ---- has_belly_color::black\n",
      "\n",
      "\n",
      "                               ----|\n",
      "                                                   ---- has_wing_color::black\n",
      "                                              ----|\n",
      "                                                   ---- has_upperparts_color::black\n",
      "\n",
      "                                         ----|\n",
      "                                                   ---- has_upper_tail_color::black\n",
      "                                              ----|\n",
      "                                                   ---- has_under_tail_color::black\n",
      "\n",
      "\n",
      "                                    ----|\n",
      "                                              ---- has_throat_color::black\n",
      "                                         ----|\n",
      "                                                        ---- has_forehead_color::black\n",
      "                                                   ----|\n",
      "                                                        ---- has_crown_color::black\n",
      "\n",
      "                                              ----|\n",
      "                                                        ---- has_nape_color::black\n",
      "                                                   ----|\n",
      "                                                             ---- has_back_color::black\n",
      "                                                        ----|\n",
      "                                                             ---- has_primary_color::black\n",
      "\n",
      "\n",
      "\n",
      "\n",
      "\n",
      "\n",
      "\n",
      "\n",
      "                ----|\n",
      "                               ---- has_bill_shape::dagger\n",
      "                          ----|\n",
      "                                         ---- has_throat_color::white\n",
      "                                    ----|\n",
      "                                              ---- has_breast_color::white\n",
      "                                         ----|\n",
      "                                                   ---- has_underparts_color::white\n",
      "                                              ----|\n",
      "                                                   ---- has_belly_color::white\n",
      "\n",
      "\n",
      "\n",
      "                               ----|\n",
      "                                              ---- has_wing_color::white\n",
      "                                         ----|\n",
      "                                                   ---- has_upperparts_color::white\n",
      "                                              ----|\n",
      "                                                   ---- has_back_color::white\n",
      "\n",
      "\n",
      "                                    ----|\n",
      "                                                   ---- has_nape_color::white\n",
      "                                              ----|\n",
      "                                                   ---- has_primary_color::white\n",
      "\n",
      "                                         ----|\n",
      "                                                   ---- has_upper_tail_color::white\n",
      "                                              ----|\n",
      "                                                   ---- has_under_tail_color::white\n",
      "\n",
      "\n",
      "\n",
      "\n",
      "\n",
      "                     ----|\n",
      "                               ---- has_bill_shape::hooked_seabird\n",
      "                          ----|\n",
      "                                    ---- has_forehead_color::white\n",
      "                               ----|\n",
      "                                    ---- has_crown_color::white\n"
     ]
    }
   ],
   "source": [
    "print(shapley_hierarchy_cub_45)"
   ]
  },
  {
   "cell_type": "code",
   "execution_count": 114,
   "id": "bb3caac6",
   "metadata": {},
   "outputs": [],
   "source": [
    "shapley_robustness_hierarchy_cub_43 = create_hierarchy(create_ward_hierarchy, load_label_vectors_simple,CUB_Dataset(),'_image_robustness',CUB_Dataset().get_attributes(),43)"
   ]
  },
  {
   "cell_type": "code",
   "execution_count": 115,
   "id": "2266161a",
   "metadata": {},
   "outputs": [
    {
     "name": "stdout",
     "output_type": "stream",
     "text": [
      "                     ---- has_throat_color::white\n",
      "                ----|\n",
      "                          ---- has_breast_color::white\n",
      "                     ----|\n",
      "                               ---- has_underparts_color::white\n",
      "                          ----|\n",
      "                               ---- has_belly_color::white\n",
      "\n",
      "\n",
      "\n",
      "           ----|\n",
      "                               ---- has_upper_tail_color::grey\n",
      "                          ----|\n",
      "                               ---- has_under_tail_color::grey\n",
      "\n",
      "                     ----|\n",
      "                               ---- has_wing_color::grey\n",
      "                          ----|\n",
      "                                    ---- has_primary_color::grey\n",
      "                               ----|\n",
      "                                         ---- has_upperparts_color::grey\n",
      "                                    ----|\n",
      "                                         ---- has_back_color::grey\n",
      "\n",
      "\n",
      "\n",
      "\n",
      "                ----|\n",
      "                          ---- has_bill_length::about_the_same_as_head\n",
      "                     ----|\n",
      "                                    ---- has_size::medium_(9_-_16_in)\n",
      "                               ----|\n",
      "                                         ---- has_bill_shape::hooked_seabird\n",
      "                                    ----|\n",
      "                                              ---- has_forehead_color::white\n",
      "                                         ----|\n",
      "                                              ---- has_crown_color::white\n",
      "\n",
      "\n",
      "\n",
      "                          ----|\n",
      "                                         ---- has_nape_color::white\n",
      "                                    ----|\n",
      "                                         ---- has_primary_color::white\n",
      "\n",
      "                               ----|\n",
      "                                         ---- has_wing_color::white\n",
      "                                    ----|\n",
      "                                              ---- has_under_tail_color::white\n",
      "                                         ----|\n",
      "                                                   ---- has_upperparts_color::white\n",
      "                                              ----|\n",
      "                                                        ---- has_back_color::white\n",
      "                                                   ----|\n",
      "                                                        ---- has_upper_tail_color::white\n",
      "\n",
      "\n",
      "\n",
      "\n",
      "\n",
      "\n",
      "\n",
      "\n",
      "\n",
      "      ----|\n",
      "                               ---- has_throat_color::yellow\n",
      "                          ----|\n",
      "                                    ---- has_breast_color::yellow\n",
      "                               ----|\n",
      "                                         ---- has_primary_color::yellow\n",
      "                                    ----|\n",
      "                                              ---- has_underparts_color::yellow\n",
      "                                         ----|\n",
      "                                              ---- has_belly_color::yellow\n",
      "\n",
      "\n",
      "\n",
      "\n",
      "                     ----|\n",
      "                                    ---- has_forehead_color::yellow\n",
      "                               ----|\n",
      "                                         ---- has_nape_color::yellow\n",
      "                                    ----|\n",
      "                                         ---- has_crown_color::yellow\n",
      "\n",
      "\n",
      "                          ----|\n",
      "                                    ---- has_back_color::yellow\n",
      "                               ----|\n",
      "                                         ---- has_wing_color::yellow\n",
      "                                    ----|\n",
      "                                         ---- has_upperparts_color::yellow\n",
      "\n",
      "\n",
      "\n",
      "\n",
      "                ----|\n",
      "                                    ---- has_throat_color::grey\n",
      "                               ----|\n",
      "                                         ---- has_belly_color::grey\n",
      "                                    ----|\n",
      "                                              ---- has_underparts_color::grey\n",
      "                                         ----|\n",
      "                                              ---- has_breast_color::grey\n",
      "\n",
      "\n",
      "\n",
      "                          ----|\n",
      "                                    ---- has_nape_color::grey\n",
      "                               ----|\n",
      "                                         ---- has_forehead_color::grey\n",
      "                                    ----|\n",
      "                                         ---- has_crown_color::grey\n",
      "\n",
      "\n",
      "\n",
      "                     ----|\n",
      "                                         ---- has_bill_color::grey\n",
      "                                    ----|\n",
      "                                              ---- has_forehead_color::blue\n",
      "                                         ----|\n",
      "                                              ---- has_crown_color::blue\n",
      "\n",
      "\n",
      "                               ----|\n",
      "                                         ---- has_wing_shape::pointed-wings\n",
      "                                    ----|\n",
      "                                                   ---- has_belly_color::brown\n",
      "                                              ----|\n",
      "                                                        ---- has_underparts_color::brown\n",
      "                                                   ----|\n",
      "                                                        ---- has_breast_color::brown\n",
      "\n",
      "\n",
      "                                         ----|\n",
      "                                                        ---- has_back_pattern::multi-colored\n",
      "                                                   ----|\n",
      "                                                             ---- has_shape::duck-like\n",
      "                                                        ----|\n",
      "                                                                  ---- has_head_pattern::eyebrow\n",
      "                                                             ----|\n",
      "                                                                  ---- has_wing_pattern::spotted\n",
      "\n",
      "\n",
      "\n",
      "                                              ----|\n",
      "                                                        ---- has_bill_shape::dagger\n",
      "                                                   ----|\n",
      "                                                        ---- has_breast_pattern::multi-colored\n",
      "\n",
      "\n",
      "\n",
      "\n",
      "\n",
      "                          ----|\n",
      "                                    ---- has_leg_color::grey\n",
      "                               ----|\n",
      "                                         ---- has_tail_pattern::multi-colored\n",
      "                                    ----|\n",
      "                                         ---- has_wing_pattern::multi-colored\n",
      "\n",
      "\n",
      "\n",
      "\n",
      "\n",
      "           ----|\n",
      "                               ---- has_back_color::brown\n",
      "                          ----|\n",
      "                                    ---- has_wing_color::brown\n",
      "                               ----|\n",
      "                                    ---- has_upperparts_color::brown\n",
      "\n",
      "\n",
      "                     ----|\n",
      "                                    ---- has_upper_tail_color::brown\n",
      "                               ----|\n",
      "                                    ---- has_under_tail_color::brown\n",
      "\n",
      "                          ----|\n",
      "                                    ---- has_nape_color::brown\n",
      "                               ----|\n",
      "                                         ---- has_primary_color::brown\n",
      "                                    ----|\n",
      "                                              ---- has_forehead_color::brown\n",
      "                                         ----|\n",
      "                                              ---- has_crown_color::brown\n",
      "\n",
      "\n",
      "\n",
      "\n",
      "\n",
      "                ----|\n",
      "                               ---- has_bill_shape::cone\n",
      "                          ----|\n",
      "                               ---- has_tail_shape::notched_tail\n",
      "\n",
      "                     ----|\n",
      "                                    ---- has_breast_color::buff\n",
      "                               ----|\n",
      "                                         ---- has_underparts_color::buff\n",
      "                                    ----|\n",
      "                                         ---- has_belly_color::buff\n",
      "\n",
      "\n",
      "                          ----|\n",
      "                                              ---- has_upperparts_color::buff\n",
      "                                         ----|\n",
      "                                                   ---- has_wing_color::buff\n",
      "                                              ----|\n",
      "                                                   ---- has_back_color::buff\n",
      "\n",
      "\n",
      "                                    ----|\n",
      "                                                   ---- has_upper_tail_color::buff\n",
      "                                              ----|\n",
      "                                                   ---- has_under_tail_color::buff\n",
      "\n",
      "                                         ----|\n",
      "                                                   ---- has_primary_color::buff\n",
      "                                              ----|\n",
      "                                                        ---- has_throat_color::buff\n",
      "                                                   ----|\n",
      "                                                        ---- has_nape_color::buff\n",
      "\n",
      "\n",
      "\n",
      "\n",
      "                               ----|\n",
      "                                         ---- has_wing_pattern::striped\n",
      "                                    ----|\n",
      "                                              ---- has_size::very_small_(3_-_5_in)\n",
      "                                         ----|\n",
      "                                                   ---- has_leg_color::buff\n",
      "                                              ----|\n",
      "                                                        ---- has_breast_pattern::striped\n",
      "                                                   ----|\n",
      "                                                             ---- has_tail_pattern::striped\n",
      "                                                        ----|\n",
      "                                                                  ---- has_back_pattern::striped\n",
      "                                                             ----|\n",
      "                                                                  ---- has_bill_color::buff\n",
      "\n",
      "\n",
      "\n",
      "\n",
      "\n",
      "\n",
      "\n",
      "\n",
      "\n",
      "\n",
      "\n",
      "\n",
      " ----|\n",
      "                               ---- has_wing_color::black\n",
      "                          ----|\n",
      "                               ---- has_upperparts_color::black\n",
      "\n",
      "                     ----|\n",
      "                               ---- has_upper_tail_color::black\n",
      "                          ----|\n",
      "                               ---- has_under_tail_color::black\n",
      "\n",
      "\n",
      "                ----|\n",
      "                               ---- has_forehead_color::black\n",
      "                          ----|\n",
      "                               ---- has_crown_color::black\n",
      "\n",
      "                     ----|\n",
      "                               ---- has_throat_color::black\n",
      "                          ----|\n",
      "                                    ---- has_nape_color::black\n",
      "                               ----|\n",
      "                                         ---- has_back_color::black\n",
      "                                    ----|\n",
      "                                         ---- has_primary_color::black\n",
      "\n",
      "\n",
      "\n",
      "\n",
      "\n",
      "           ----|\n",
      "                     ---- has_bill_color::black\n",
      "                ----|\n",
      "                               ---- has_breast_color::black\n",
      "                          ----|\n",
      "                                    ---- has_underparts_color::black\n",
      "                               ----|\n",
      "                                    ---- has_belly_color::black\n",
      "\n",
      "\n",
      "                     ----|\n",
      "                               ---- has_head_pattern::plain\n",
      "                          ----|\n",
      "                               ---- has_leg_color::black\n",
      "\n",
      "\n",
      "\n",
      "\n",
      "      ----|\n",
      "                          ---- has_size::small_(5_-_9_in)\n",
      "                     ----|\n",
      "                               ---- has_bill_length::shorter_than_head\n",
      "                          ----|\n",
      "                               ---- has_shape::perching-like\n",
      "\n",
      "\n",
      "                ----|\n",
      "                          ---- has_bill_shape::all-purpose\n",
      "                     ----|\n",
      "                          ---- has_wing_shape::rounded-wings\n",
      "\n",
      "\n",
      "           ----|\n",
      "                          ---- has_back_pattern::solid\n",
      "                     ----|\n",
      "                               ---- has_tail_pattern::solid\n",
      "                          ----|\n",
      "                               ---- has_wing_pattern::solid\n",
      "\n",
      "\n",
      "                ----|\n",
      "                          ---- has_eye_color::black\n",
      "                     ----|\n",
      "                               ---- has_breast_pattern::solid\n",
      "                          ----|\n",
      "                               ---- has_belly_pattern::solid\n"
     ]
    }
   ],
   "source": [
    "print(shapley_robustness_hierarchy_cub_43)"
   ]
  },
  {
   "cell_type": "code",
   "execution_count": 113,
   "id": "24b92309",
   "metadata": {},
   "outputs": [],
   "source": [
    "label_hierarchy_cub_43 = create_hierarchy(create_ward_hierarchy,load_shapley_vectors_simple,CUB_Dataset(),'',CUB_Dataset().get_attributes(),43)"
   ]
  },
  {
   "cell_type": "code",
   "execution_count": 108,
   "id": "569e7991",
   "metadata": {},
   "outputs": [
    {
     "name": "stdout",
     "output_type": "stream",
     "text": [
      "                     ---- has_throat_color::white\n",
      "                ----|\n",
      "                          ---- has_breast_color::white\n",
      "                     ----|\n",
      "                               ---- has_underparts_color::white\n",
      "                          ----|\n",
      "                               ---- has_belly_color::white\n",
      "\n",
      "\n",
      "\n",
      "           ----|\n",
      "                               ---- has_upper_tail_color::grey\n",
      "                          ----|\n",
      "                               ---- has_under_tail_color::grey\n",
      "\n",
      "                     ----|\n",
      "                               ---- has_wing_color::grey\n",
      "                          ----|\n",
      "                                    ---- has_primary_color::grey\n",
      "                               ----|\n",
      "                                         ---- has_upperparts_color::grey\n",
      "                                    ----|\n",
      "                                         ---- has_back_color::grey\n",
      "\n",
      "\n",
      "\n",
      "\n",
      "                ----|\n",
      "                          ---- has_bill_length::about_the_same_as_head\n",
      "                     ----|\n",
      "                                    ---- has_size::medium_(9_-_16_in)\n",
      "                               ----|\n",
      "                                         ---- has_bill_shape::hooked_seabird\n",
      "                                    ----|\n",
      "                                              ---- has_forehead_color::white\n",
      "                                         ----|\n",
      "                                              ---- has_crown_color::white\n",
      "\n",
      "\n",
      "\n",
      "                          ----|\n",
      "                                         ---- has_nape_color::white\n",
      "                                    ----|\n",
      "                                         ---- has_primary_color::white\n",
      "\n",
      "                               ----|\n",
      "                                         ---- has_wing_color::white\n",
      "                                    ----|\n",
      "                                              ---- has_under_tail_color::white\n",
      "                                         ----|\n",
      "                                                   ---- has_upperparts_color::white\n",
      "                                              ----|\n",
      "                                                        ---- has_back_color::white\n",
      "                                                   ----|\n",
      "                                                        ---- has_upper_tail_color::white\n",
      "\n",
      "\n",
      "\n",
      "\n",
      "\n",
      "\n",
      "\n",
      "\n",
      "\n",
      "      ----|\n",
      "                               ---- has_back_color::brown\n",
      "                          ----|\n",
      "                                    ---- has_wing_color::brown\n",
      "                               ----|\n",
      "                                    ---- has_upperparts_color::brown\n",
      "\n",
      "\n",
      "                     ----|\n",
      "                                    ---- has_upper_tail_color::brown\n",
      "                               ----|\n",
      "                                    ---- has_under_tail_color::brown\n",
      "\n",
      "                          ----|\n",
      "                                    ---- has_nape_color::brown\n",
      "                               ----|\n",
      "                                         ---- has_primary_color::brown\n",
      "                                    ----|\n",
      "                                              ---- has_forehead_color::brown\n",
      "                                         ----|\n",
      "                                              ---- has_crown_color::brown\n",
      "\n",
      "\n",
      "\n",
      "\n",
      "\n",
      "                ----|\n",
      "                               ---- has_bill_shape::cone\n",
      "                          ----|\n",
      "                               ---- has_tail_shape::notched_tail\n",
      "\n",
      "                     ----|\n",
      "                                    ---- has_breast_color::buff\n",
      "                               ----|\n",
      "                                         ---- has_underparts_color::buff\n",
      "                                    ----|\n",
      "                                         ---- has_belly_color::buff\n",
      "\n",
      "\n",
      "                          ----|\n",
      "                                         ---- has_back_pattern::striped\n",
      "                                    ----|\n",
      "                                         ---- has_wing_pattern::striped\n",
      "\n",
      "                               ----|\n",
      "                                              ---- has_upperparts_color::buff\n",
      "                                         ----|\n",
      "                                                   ---- has_wing_color::buff\n",
      "                                              ----|\n",
      "                                                   ---- has_back_color::buff\n",
      "\n",
      "\n",
      "                                    ----|\n",
      "                                                   ---- has_upper_tail_color::buff\n",
      "                                              ----|\n",
      "                                                   ---- has_under_tail_color::buff\n",
      "\n",
      "                                         ----|\n",
      "                                                   ---- has_primary_color::buff\n",
      "                                              ----|\n",
      "                                                        ---- has_throat_color::buff\n",
      "                                                   ----|\n",
      "                                                        ---- has_nape_color::buff\n",
      "\n",
      "\n",
      "\n",
      "\n",
      "\n",
      "\n",
      "\n",
      "\n",
      "           ----|\n",
      "                               ---- has_throat_color::yellow\n",
      "                          ----|\n",
      "                                    ---- has_breast_color::yellow\n",
      "                               ----|\n",
      "                                         ---- has_primary_color::yellow\n",
      "                                    ----|\n",
      "                                              ---- has_underparts_color::yellow\n",
      "                                         ----|\n",
      "                                              ---- has_belly_color::yellow\n",
      "\n",
      "\n",
      "\n",
      "\n",
      "                     ----|\n",
      "                                    ---- has_forehead_color::yellow\n",
      "                               ----|\n",
      "                                         ---- has_nape_color::yellow\n",
      "                                    ----|\n",
      "                                         ---- has_crown_color::yellow\n",
      "\n",
      "\n",
      "                          ----|\n",
      "                                    ---- has_back_color::yellow\n",
      "                               ----|\n",
      "                                         ---- has_wing_color::yellow\n",
      "                                    ----|\n",
      "                                         ---- has_upperparts_color::yellow\n",
      "\n",
      "\n",
      "\n",
      "\n",
      "                ----|\n",
      "                                         ---- has_belly_color::brown\n",
      "                                    ----|\n",
      "                                              ---- has_underparts_color::brown\n",
      "                                         ----|\n",
      "                                              ---- has_breast_color::brown\n",
      "\n",
      "\n",
      "                               ----|\n",
      "                                         ---- has_size::very_small_(3_-_5_in)\n",
      "                                    ----|\n",
      "                                              ---- has_leg_color::buff\n",
      "                                         ----|\n",
      "                                                   ---- has_tail_pattern::striped\n",
      "                                              ----|\n",
      "                                                        ---- has_breast_pattern::striped\n",
      "                                                   ----|\n",
      "                                                        ---- has_bill_color::buff\n",
      "\n",
      "\n",
      "\n",
      "\n",
      "\n",
      "                          ----|\n",
      "                                    ---- has_wing_shape::pointed-wings\n",
      "                               ----|\n",
      "                                                   ---- has_shape::duck-like\n",
      "                                              ----|\n",
      "                                                   ---- has_back_pattern::multi-colored\n",
      "\n",
      "                                         ----|\n",
      "                                                   ---- has_breast_pattern::multi-colored\n",
      "                                              ----|\n",
      "                                                        ---- has_bill_shape::dagger\n",
      "                                                   ----|\n",
      "                                                             ---- has_head_pattern::eyebrow\n",
      "                                                        ----|\n",
      "                                                             ---- has_wing_pattern::spotted\n",
      "\n",
      "\n",
      "\n",
      "\n",
      "                                    ----|\n",
      "                                              ---- has_bill_color::grey\n",
      "                                         ----|\n",
      "                                                   ---- has_forehead_color::blue\n",
      "                                              ----|\n",
      "                                                   ---- has_crown_color::blue\n",
      "\n",
      "\n",
      "\n",
      "\n",
      "\n",
      "                     ----|\n",
      "                                    ---- has_leg_color::grey\n",
      "                               ----|\n",
      "                                         ---- has_tail_pattern::multi-colored\n",
      "                                    ----|\n",
      "                                         ---- has_wing_pattern::multi-colored\n",
      "\n",
      "\n",
      "                          ----|\n",
      "                                         ---- has_throat_color::grey\n",
      "                                    ----|\n",
      "                                              ---- has_belly_color::grey\n",
      "                                         ----|\n",
      "                                                   ---- has_underparts_color::grey\n",
      "                                              ----|\n",
      "                                                   ---- has_breast_color::grey\n",
      "\n",
      "\n",
      "\n",
      "                               ----|\n",
      "                                         ---- has_nape_color::grey\n",
      "                                    ----|\n",
      "                                              ---- has_forehead_color::grey\n",
      "                                         ----|\n",
      "                                              ---- has_crown_color::grey\n",
      "\n",
      "\n",
      "\n",
      "\n",
      "\n",
      "\n",
      "\n",
      "\n",
      " ----|\n",
      "                               ---- has_wing_color::black\n",
      "                          ----|\n",
      "                               ---- has_upperparts_color::black\n",
      "\n",
      "                     ----|\n",
      "                               ---- has_upper_tail_color::black\n",
      "                          ----|\n",
      "                               ---- has_under_tail_color::black\n",
      "\n",
      "\n",
      "                ----|\n",
      "                               ---- has_forehead_color::black\n",
      "                          ----|\n",
      "                               ---- has_crown_color::black\n",
      "\n",
      "                     ----|\n",
      "                               ---- has_throat_color::black\n",
      "                          ----|\n",
      "                                    ---- has_nape_color::black\n",
      "                               ----|\n",
      "                                         ---- has_back_color::black\n",
      "                                    ----|\n",
      "                                         ---- has_primary_color::black\n",
      "\n",
      "\n",
      "\n",
      "\n",
      "\n",
      "           ----|\n",
      "                     ---- has_bill_color::black\n",
      "                ----|\n",
      "                               ---- has_breast_color::black\n",
      "                          ----|\n",
      "                                    ---- has_underparts_color::black\n",
      "                               ----|\n",
      "                                    ---- has_belly_color::black\n",
      "\n",
      "\n",
      "                     ----|\n",
      "                               ---- has_head_pattern::plain\n",
      "                          ----|\n",
      "                               ---- has_leg_color::black\n",
      "\n",
      "\n",
      "\n",
      "\n",
      "      ----|\n",
      "                          ---- has_size::small_(5_-_9_in)\n",
      "                     ----|\n",
      "                               ---- has_bill_length::shorter_than_head\n",
      "                          ----|\n",
      "                               ---- has_shape::perching-like\n",
      "\n",
      "\n",
      "                ----|\n",
      "                          ---- has_bill_shape::all-purpose\n",
      "                     ----|\n",
      "                          ---- has_wing_shape::rounded-wings\n",
      "\n",
      "\n",
      "           ----|\n",
      "                          ---- has_back_pattern::solid\n",
      "                     ----|\n",
      "                               ---- has_tail_pattern::solid\n",
      "                          ----|\n",
      "                               ---- has_wing_pattern::solid\n",
      "\n",
      "\n",
      "                ----|\n",
      "                          ---- has_eye_color::black\n",
      "                     ----|\n",
      "                               ---- has_breast_pattern::solid\n",
      "                          ----|\n",
      "                               ---- has_belly_pattern::solid\n"
     ]
    }
   ],
   "source": [
    "print(label_hierarchy_cub_43)"
   ]
  },
  {
   "cell_type": "code",
   "execution_count": 129,
   "id": "69f2ca0e",
   "metadata": {},
   "outputs": [],
   "source": [
    "normal_vector_distances = flat_distance_to_square(get_concept_distances(load_shapley_vectors_simple,dataset,\"\",dataset.get_attributes(),43))\n",
    "normal_vector_distances_2 = flat_distance_to_square(get_concept_distances(load_shapley_vectors_simple,dataset,\"\",dataset.get_attributes(),44))\n",
    "robust_vector_distances = flat_distance_to_square(get_concept_distances(load_shapley_vectors_simple,dataset,\"_image_robustness\",dataset.get_attributes(),43))"
   ]
  },
  {
   "cell_type": "code",
   "execution_count": 135,
   "id": "6bb574bf",
   "metadata": {},
   "outputs": [
    {
     "data": {
      "text/plain": [
       "0.725"
      ]
     },
     "execution_count": 135,
     "metadata": {},
     "output_type": "execute_result"
    }
   ],
   "source": [
    "k = 5\n",
    "\n",
    "pairs_1 = get_top_k_pairs(normal_vector_distances,k=k)\n",
    "pairs_2 = get_top_k_pairs(robust_vector_distances,k=k)\n",
    "pairs_3 = get_top_k_pairs(normal_vector_distances_2,k=k)\n",
    "\n",
    "intersection = set(pairs_1).intersection(set(pairs_2))\n",
    "len(intersection)/(len(normal_vector_distances)*k)"
   ]
  },
  {
   "cell_type": "code",
   "execution_count": 94,
   "id": "af08b8b2",
   "metadata": {},
   "outputs": [],
   "source": [
    "cem_hierarchy_cub = create_hierarchy(create_ward_hierarchy, load_cem_vectors_simple,CUB_Dataset(),'',CUB_Dataset().get_attributes(),43)"
   ]
  },
  {
   "cell_type": "code",
   "execution_count": 95,
   "id": "67d89815",
   "metadata": {},
   "outputs": [],
   "source": [
    "to_array = cem_hierarchy_cub.to_array(CUB_Dataset().get_attributes())"
   ]
  },
  {
   "cell_type": "code",
   "execution_count": 98,
   "id": "62a5cb91",
   "metadata": {},
   "outputs": [],
   "source": [
    "np.save(open(\"results/hierarchies/cem_cub.npy\",\"wb\"),to_array)"
   ]
  },
  {
   "cell_type": "markdown",
   "id": "628f0e81",
   "metadata": {},
   "source": [
    "## Export Concept Vectors"
   ]
  },
  {
   "cell_type": "code",
   "execution_count": 98,
   "id": "475bb080",
   "metadata": {},
   "outputs": [],
   "source": [
    "for seed in [43,44,45]:\n",
    "    for name, embedding_method in zip([\"labels\",\"shapley\",\"cem\",\"vae\",\"concept2vec\"],[load_label_vectors_simple,load_shapley_vectors_simple,\n",
    "                                                            load_cem_vectors_simple,load_vae_vectors_simple,load_concept2vec_vectors_simple]):\n",
    "        all_embeddings =  np.array([embedding_method(i,CUB_Dataset(),\"\",seed=seed)[0] for i in CUB_Dataset().get_attributes()])\n",
    "        np.save(open(\"results/temp/{}_{}.npy\".format(name,seed),\"wb\"),all_embeddings)"
   ]
  },
  {
   "cell_type": "code",
   "execution_count": 30,
   "id": "d0dbccb1",
   "metadata": {},
   "outputs": [
    {
     "ename": "AttributeError",
     "evalue": "'Functional' object has no attribute 'eval'",
     "output_type": "error",
     "traceback": [
      "\u001b[0;31m---------------------------------------------------------------------------\u001b[0m",
      "\u001b[0;31mAttributeError\u001b[0m                            Traceback (most recent call last)",
      "\u001b[0;32m/tmp/ipykernel_3857458/800130538.py\u001b[0m in \u001b[0;36m<module>\u001b[0;34m\u001b[0m\n\u001b[1;32m      1\u001b[0m \u001b[0mmodel\u001b[0m \u001b[0;34m=\u001b[0m \u001b[0mget_large_image_model\u001b[0m\u001b[0;34m(\u001b[0m\u001b[0mdataset\u001b[0m\u001b[0;34m,\u001b[0m\u001b[0mmodel_name\u001b[0m\u001b[0;34m)\u001b[0m\u001b[0;34m\u001b[0m\u001b[0;34m\u001b[0m\u001b[0m\n\u001b[1;32m      2\u001b[0m \u001b[0mmodel\u001b[0m\u001b[0;34m.\u001b[0m\u001b[0mload_weights\u001b[0m\u001b[0;34m(\u001b[0m\u001b[0;34m\"results/models/{}_models/{}_42.h5\"\u001b[0m\u001b[0;34m.\u001b[0m\u001b[0mformat\u001b[0m\u001b[0;34m(\u001b[0m\u001b[0mmodel_name\u001b[0m\u001b[0;34m.\u001b[0m\u001b[0mlower\u001b[0m\u001b[0;34m(\u001b[0m\u001b[0;34m)\u001b[0m\u001b[0;34m,\u001b[0m\u001b[0mdataset\u001b[0m\u001b[0;34m.\u001b[0m\u001b[0mexperiment_name\u001b[0m\u001b[0;34m)\u001b[0m\u001b[0;34m)\u001b[0m\u001b[0;34m\u001b[0m\u001b[0;34m\u001b[0m\u001b[0m\n\u001b[0;32m----> 3\u001b[0;31m \u001b[0mmodel\u001b[0m\u001b[0;34m.\u001b[0m\u001b[0meval\u001b[0m\u001b[0;34m(\u001b[0m\u001b[0;34m)\u001b[0m\u001b[0;34m\u001b[0m\u001b[0;34m\u001b[0m\u001b[0m\n\u001b[0m",
      "\u001b[0;31mAttributeError\u001b[0m: 'Functional' object has no attribute 'eval'"
     ]
    }
   ],
   "source": [
    "model = get_large_image_model(dataset,model_name)\n",
    "model.load_weights(\"results/models/{}_models/{}_42.h5\".format(model_name.lower(),dataset.experiment_name))"
   ]
  },
  {
   "cell_type": "code",
   "execution_count": 53,
   "id": "301cfbd6",
   "metadata": {},
   "outputs": [
    {
     "name": "stdout",
     "output_type": "stream",
     "text": [
      "Found 1198 validated image filenames belonging to 200 classes.\n",
      "38/38 [==============================] - 9s 229ms/step\n"
     ]
    },
    {
     "data": {
      "text/plain": [
       "(112, 200)"
      ]
     },
     "execution_count": 53,
     "metadata": {},
     "output_type": "execute_result"
    }
   ],
   "source": [
    "similarity_matrix = get_model_concept_similarities(dataset,model)\n",
    "similarity_matrix.shape"
   ]
  },
  {
   "cell_type": "code",
   "execution_count": 54,
   "id": "978508f7",
   "metadata": {},
   "outputs": [],
   "source": [
    "shapley_vectors = np.array([load_shapley_vectors_simple(i,dataset,\"\",seed=42)[0] for i in dataset.get_attributes()])"
   ]
  },
  {
   "cell_type": "code",
   "execution_count": 55,
   "id": "b9016dbc",
   "metadata": {},
   "outputs": [
    {
     "data": {
      "text/plain": [
       "array([[-0.00154002, -0.00228546, -0.00373522, ..., -0.00281988,\n",
       "        -0.00386812,  0.00771958],\n",
       "       [ 0.03377431,  0.01300337, -0.00574072, ..., -0.00516757,\n",
       "        -0.00387471,  0.00981994],\n",
       "       [-0.00426624, -0.00549528,  0.00836984, ...,  0.00303919,\n",
       "         0.00029663, -0.00529514],\n",
       "       ...,\n",
       "       [-0.00088717, -0.00367799, -0.0030079 , ..., -0.0044956 ,\n",
       "        -0.00101499, -0.00109161],\n",
       "       [-0.00324722, -0.00442993, -0.00368103, ...,  0.00027132,\n",
       "         0.00821149, -0.00416407],\n",
       "       [ 0.00096188, -0.00145153, -0.0026877 , ...,  0.00486752,\n",
       "        -0.00419491, -0.0029747 ]], dtype=float32)"
      ]
     },
     "execution_count": 55,
     "metadata": {},
     "output_type": "execute_result"
    }
   ],
   "source": [
    "shapley_vectors"
   ]
  },
  {
   "cell_type": "code",
   "execution_count": 56,
   "id": "51e75518",
   "metadata": {},
   "outputs": [
    {
     "data": {
      "text/plain": [
       "array([[-0.00154002, -0.00228546, -0.00373522, ..., -0.00281988,\n",
       "        -0.00386812,  0.00771958],\n",
       "       [ 0.03377431,  0.01300337, -0.00574072, ..., -0.00516757,\n",
       "        -0.00387471,  0.00981994],\n",
       "       [-0.00426624, -0.00549528,  0.00836985, ...,  0.00303919,\n",
       "         0.00029663, -0.00529514],\n",
       "       ...,\n",
       "       [-0.00088717, -0.00367799, -0.0030079 , ..., -0.0044956 ,\n",
       "        -0.00101499, -0.00109161],\n",
       "       [-0.00324722, -0.00442993, -0.00368103, ...,  0.00027132,\n",
       "         0.00821149, -0.00416407],\n",
       "       [ 0.00096188, -0.00145153, -0.0026877 , ...,  0.00486752,\n",
       "        -0.00419491, -0.0029747 ]], dtype=float32)"
      ]
     },
     "execution_count": 56,
     "metadata": {},
     "output_type": "execute_result"
    }
   ],
   "source": [
    "similarity_matrix"
   ]
  },
  {
   "cell_type": "code",
   "execution_count": 27,
   "id": "cec7f2b5",
   "metadata": {},
   "outputs": [
    {
     "name": "stdout",
     "output_type": "stream",
     "text": [
      "Found 1198 validated image filenames belonging to 200 classes.\n"
     ]
    }
   ],
   "source": [
    "datagen = ImageDataGenerator(rescale=1./255)\n",
    "batch_size = 32\n",
    "image_size = (224, 224)\n",
    "\n",
    "num_classes = len(set([i['class_label'] for i in dataset.get_data()]))\n",
    "num_attributes = len(dataset.get_data()[0]['attribute_label'])\n",
    "\n",
    "data_valid = dataset.get_data(train=False)\n",
    "img_paths_valid = ['dataset/'+i['img_path'] for i in data_valid]\n",
    "labels_valid = [str(i['class_label']) for i in data_valid]\n",
    "valid_df = pd.DataFrame(zip(img_paths_valid,labels_valid), columns=[\"image_path\", \"label\"])\n",
    "\n",
    "valid_generator = datagen.flow_from_dataframe(dataframe=valid_df,\n",
    "                                          x_col=\"image_path\",\n",
    "                                          y_col=\"label\",\n",
    "                                          target_size=image_size,\n",
    "                                          batch_size=batch_size,\n",
    "                                          class_mode=\"categorical\",\n",
    "                                          shuffle=False)\n"
   ]
  },
  {
   "cell_type": "code",
   "execution_count": 31,
   "id": "ad47b852",
   "metadata": {},
   "outputs": [
    {
     "name": "stdout",
     "output_type": "stream",
     "text": [
      "38/38 [==============================] - 8s 213ms/step\n"
     ]
    }
   ],
   "source": [
    "predictions = model.predict(valid_generator)"
   ]
  },
  {
   "cell_type": "code",
   "execution_count": 47,
   "id": "15eae9ab",
   "metadata": {},
   "outputs": [],
   "source": [
    "concepts = np.array([i['attribute_label'] for i in data_valid])\n",
    "contribution_array = np.array([[contribution_score(concepts,predictions,concept_num,class_num) for class_num in range(num_classes)]  for concept_num in range(num_attributes)])"
   ]
  },
  {
   "cell_type": "code",
   "execution_count": 48,
   "id": "9c9d9f0d",
   "metadata": {},
   "outputs": [
    {
     "data": {
      "text/plain": [
       "array([[0, 0, 0, ..., 0, 0, 1],\n",
       "       [3, 0, 0, ..., 0, 0, 1],\n",
       "       [0, 0, 4, ..., 1, 0, 0],\n",
       "       ...,\n",
       "       [0, 0, 0, ..., 0, 0, 0],\n",
       "       [0, 0, 0, ..., 1, 1, 0],\n",
       "       [1, 0, 1, ..., 1, 0, 0]])"
      ]
     },
     "execution_count": 48,
     "metadata": {},
     "output_type": "execute_result"
    }
   ],
   "source": [
    "contribution_array"
   ]
  },
  {
   "cell_type": "code",
   "execution_count": 46,
   "id": "b83afd65",
   "metadata": {},
   "outputs": [
    {
     "name": "stdout",
     "output_type": "stream",
     "text": [
      "[ True False False ... False False False]\n",
      "74\n",
      "1198\n"
     ]
    },
    {
     "data": {
      "text/plain": [
       "3"
      ]
     },
     "execution_count": 46,
     "metadata": {},
     "output_type": "execute_result"
    }
   ],
   "source": [
    "contribution_score(concepts,predictions,1,0)"
   ]
  },
  {
   "cell_type": "code",
   "execution_count": 49,
   "id": "7f0a75ec",
   "metadata": {},
   "outputs": [
    {
     "name": "stdout",
     "output_type": "stream",
     "text": [
      "Found 1198 validated image filenames belonging to 200 classes.\n",
      "38/38 [==============================] - 9s 228ms/step\n"
     ]
    }
   ],
   "source": [
    "data = dataset.get_data(train=False)\n",
    "img_paths = ['dataset/'+i['img_path'] for i in data]\n",
    "labels = [str(i['class_label']) for i in data]\n",
    "\n",
    "num_attributes = len(dataset.get_attributes())\n",
    "num_classes = len(set(labels))\n",
    "\n",
    "concept_vectors = {}\n",
    "model_name = \"VGG16\"\n",
    "model = get_large_image_model(dataset,model_name)\n",
    "model.load_weights(\"results/models/{}_models/{}_{}.h5\".format(model_name.lower(),dataset.experiment_name+'',42))\n",
    "\n",
    "datagen = ImageDataGenerator(rescale=1./255)\n",
    "batch_size = 32\n",
    "image_size = (224, 224)\n",
    "\n",
    "valid_df = pd.DataFrame(zip(img_paths,labels), columns=[\"image_path\", \"label\"])\n",
    "\n",
    "valid_generator = datagen.flow_from_dataframe(dataframe=valid_df,\n",
    "                                          x_col=\"image_path\",\n",
    "                                          y_col=\"label\",\n",
    "                                          target_size=image_size,\n",
    "                                          batch_size=batch_size,\n",
    "                                          class_mode=\"categorical\",\n",
    "                                          shuffle=False)\n",
    "\n",
    "predictions = model.predict(valid_generator)\n",
    "\n",
    "concepts = np.array([i['attribute_label'] for i in data[:len(predictions)]])\n",
    "contribution_array = np.array([[contribution_score(concepts,predictions,concept_num,class_num) \n",
    "                                for class_num in range(num_classes)] for concept_num in range(num_attributes)])\n"
   ]
  },
  {
   "cell_type": "code",
   "execution_count": 50,
   "id": "f67f4d5e",
   "metadata": {},
   "outputs": [
    {
     "data": {
      "text/plain": [
       "array([[-0.00154002, -0.00228546, -0.00373522, ..., -0.00281988,\n",
       "        -0.00386812,  0.00771958],\n",
       "       [ 0.03377431,  0.01300337, -0.00574072, ..., -0.00516757,\n",
       "        -0.00387471,  0.00981994],\n",
       "       [-0.00426624, -0.00549527,  0.00836985, ...,  0.00303919,\n",
       "         0.00029663, -0.00529514],\n",
       "       ...,\n",
       "       [-0.00088717, -0.00367799, -0.0030079 , ..., -0.0044956 ,\n",
       "        -0.00101499, -0.00109161],\n",
       "       [-0.00324722, -0.00442992, -0.00368103, ...,  0.00027132,\n",
       "         0.0082115 , -0.00416407],\n",
       "       [ 0.00096188, -0.00145153, -0.0026877 , ...,  0.00486752,\n",
       "        -0.00419491, -0.0029747 ]], dtype=float32)"
      ]
     },
     "execution_count": 50,
     "metadata": {},
     "output_type": "execute_result"
    }
   ],
   "source": [
    "contribution_array"
   ]
  },
  {
   "cell_type": "code",
   "execution_count": 76,
   "id": "221a3415",
   "metadata": {},
   "outputs": [
    {
     "name": "stdout",
     "output_type": "stream",
     "text": [
      "Found 1198 validated image filenames belonging to 200 classes.\n",
      "38/38 [==============================] - 8s 215ms/step\n"
     ]
    }
   ],
   "source": [
    "similarity_matrix = get_model_concept_similarities(dataset,model)"
   ]
  },
  {
   "cell_type": "code",
   "execution_count": 77,
   "id": "233360b0",
   "metadata": {},
   "outputs": [
    {
     "data": {
      "text/plain": [
       "array([[ 1.        ,  0.17645355, -0.35855821, ...,  0.23737512,\n",
       "        -0.28935193,  0.00461934],\n",
       "       [ 0.17645355,  1.        , -0.4931272 , ..., -0.0991226 ,\n",
       "        -0.35281454, -0.0486328 ],\n",
       "       [-0.35855821, -0.4931272 ,  1.        , ..., -0.16656851,\n",
       "         0.13145783,  0.10951849],\n",
       "       ...,\n",
       "       [ 0.23737512, -0.0991226 , -0.16656851, ...,  1.        ,\n",
       "         0.03719031, -0.29870522],\n",
       "       [-0.28935193, -0.35281454,  0.13145783, ...,  0.03719031,\n",
       "         1.        , -0.44677931],\n",
       "       [ 0.00461934, -0.0486328 ,  0.10951849, ..., -0.29870522,\n",
       "        -0.44677931,  1.        ]])"
      ]
     },
     "execution_count": 77,
     "metadata": {},
     "output_type": "execute_result"
    }
   ],
   "source": [
    "similarity_matrix"
   ]
  },
  {
   "cell_type": "code",
   "execution_count": 70,
   "id": "63ee191e",
   "metadata": {},
   "outputs": [],
   "source": [
    "concept = dataset.get_attributes()[0]\n",
    "compare_concepts = 5\n",
    "all_concept_embeddings = np.array([\n",
    "    load_shapley_vectors_simple(i,dataset,\"\",seed=42) for i in dataset.get_attributes()])"
   ]
  },
  {
   "cell_type": "code",
   "execution_count": 71,
   "id": "2a28adf5",
   "metadata": {},
   "outputs": [
    {
     "data": {
      "text/plain": [
       "(112, 1, 200)"
      ]
     },
     "execution_count": 71,
     "metadata": {},
     "output_type": "execute_result"
    }
   ],
   "source": [
    "all_concept_embeddings.shape"
   ]
  },
  {
   "cell_type": "code",
   "execution_count": 74,
   "id": "d6536ca2",
   "metadata": {},
   "outputs": [],
   "source": [
    "co_occuring_concepts = find_similar_conepts_shapley(concept,dataset,similarity_matrix,compare_concepts)\n",
    "co_occuring_concepts_hierarchy = rank_distance_concepts(all_concept_embeddings,dataset,concept,\n",
    "                                                        dataset.get_attributes(),42)[1:1+compare_concepts]"
   ]
  },
  {
   "cell_type": "code",
   "execution_count": 75,
   "id": "23255082",
   "metadata": {},
   "outputs": [
    {
     "data": {
      "text/plain": [
       "['has_bill_shape::hooked_seabird',\n",
       " 'has_bill_shape::all-purpose',\n",
       " 'has_bill_shape::cone',\n",
       " 'has_wing_color::brown',\n",
       " 'has_wing_color::grey']"
      ]
     },
     "execution_count": 75,
     "metadata": {},
     "output_type": "execute_result"
    }
   ],
   "source": [
    "co_occuring_concepts"
   ]
  },
  {
   "cell_type": "markdown",
   "id": "ad751638",
   "metadata": {},
   "source": [
    "## Create model"
   ]
  },
  {
   "cell_type": "code",
   "execution_count": 117,
   "id": "b9a535f2",
   "metadata": {},
   "outputs": [],
   "source": [
    "num_attributes = len([i['attribute_label'] for i in dataset.get_data()][0])\n",
    "if model_name.lower() == \"vgg16\":\n",
    "    model_base = VGG16(weights='imagenet', include_top=False, input_shape=(224, 224, 3))\n",
    "else:\n",
    "    raise Exception(\"{} model not implemented yet\".format(model_name))\n",
    "\n",
    "for layer in model_base.layers:\n",
    "    layer.trainable = False\n",
    "\n",
    "fc1 = Flatten()(model_base.output)\n",
    "fc1 = Dense(1024, activation='relu')(fc1)\n",
    "output = Dense(num_attributes, activation='sigmoid')(fc1)\n",
    "\n",
    "model = Model(inputs=model_base.input, outputs=output)\n",
    "\n",
    "model.compile(loss='binary_crossentropy',\n",
    "          optimizer=Adam(lr=0.0001),\n",
    "          metrics=['accuracy'])"
   ]
  },
  {
   "cell_type": "code",
   "execution_count": 118,
   "id": "9306eebb",
   "metadata": {},
   "outputs": [],
   "source": [
    "data = dataset.get_data()"
   ]
  },
  {
   "cell_type": "code",
   "execution_count": 119,
   "id": "5fb9df60",
   "metadata": {},
   "outputs": [
    {
     "name": "stdout",
     "output_type": "stream",
     "text": [
      "Found 4796 validated image filenames.\n"
     ]
    }
   ],
   "source": [
    "img_paths = ['dataset/'+i['img_path'] for i in data]\n",
    "attributes = [i['attribute_label'] for i in data]\n",
    "\n",
    "data_dict = {'image_path': img_paths}\n",
    "for i in range(num_attributes):\n",
    "    data_dict['attribute' + str(i)] = [int(attribute[i]) for attribute in attributes]\n",
    "\n",
    "df = pd.DataFrame(data_dict)\n",
    "\n",
    "# Create an ImageDataGenerator with the desired data augmentation settings\n",
    "datagen = ImageDataGenerator(\n",
    "    rescale=1./255,)\n",
    "\n",
    "batch_size = 32\n",
    "image_size = (224, 224)\n",
    "\n",
    "data = dataset.get_data(seed=43,suffix='')\n",
    "generator = datagen.flow_from_dataframe(\n",
    "    dataframe=df,\n",
    "    x_col='image_path',\n",
    "    y_col=['attribute' + str(i) for i in range(num_attributes)],\n",
    "    batch_size=batch_size,\n",
    "    target_size=image_size,\n",
    "    class_mode='other')\n"
   ]
  },
  {
   "cell_type": "code",
   "execution_count": 120,
   "id": "b5ab2788",
   "metadata": {},
   "outputs": [
    {
     "name": "stdout",
     "output_type": "stream",
     "text": [
      "Epoch 1/10\n",
      "150/150 [==============================] - 34s 221ms/step - loss: 0.4119 - accuracy: 0.0102\n",
      "Epoch 2/10\n",
      "122/150 [=======================>......] - ETA: 6s - loss: 0.3545 - accuracy: 0.0087"
     ]
    },
    {
     "ename": "KeyboardInterrupt",
     "evalue": "",
     "output_type": "error",
     "traceback": [
      "\u001b[0;31m---------------------------------------------------------------------------\u001b[0m",
      "\u001b[0;31mKeyboardInterrupt\u001b[0m                         Traceback (most recent call last)",
      "\u001b[0;32m/tmp/ipykernel_1006945/4006637173.py\u001b[0m in \u001b[0;36m<module>\u001b[0;34m\u001b[0m\n\u001b[1;32m      1\u001b[0m model.fit(generator,\n\u001b[1;32m      2\u001b[0m        \u001b[0msteps_per_epoch\u001b[0m\u001b[0;34m=\u001b[0m\u001b[0mlen\u001b[0m\u001b[0;34m(\u001b[0m\u001b[0mgenerator\u001b[0m\u001b[0;34m)\u001b[0m\u001b[0;34m,\u001b[0m\u001b[0;34m\u001b[0m\u001b[0;34m\u001b[0m\u001b[0m\n\u001b[0;32m----> 3\u001b[0;31m        epochs=10)\n\u001b[0m",
      "\u001b[0;32m/auto/homes/njr61/environments/mambaforge/envs/concepts/lib/python3.7/site-packages/keras/utils/traceback_utils.py\u001b[0m in \u001b[0;36merror_handler\u001b[0;34m(*args, **kwargs)\u001b[0m\n\u001b[1;32m     63\u001b[0m         \u001b[0mfiltered_tb\u001b[0m \u001b[0;34m=\u001b[0m \u001b[0;32mNone\u001b[0m\u001b[0;34m\u001b[0m\u001b[0;34m\u001b[0m\u001b[0m\n\u001b[1;32m     64\u001b[0m         \u001b[0;32mtry\u001b[0m\u001b[0;34m:\u001b[0m\u001b[0;34m\u001b[0m\u001b[0;34m\u001b[0m\u001b[0m\n\u001b[0;32m---> 65\u001b[0;31m             \u001b[0;32mreturn\u001b[0m \u001b[0mfn\u001b[0m\u001b[0;34m(\u001b[0m\u001b[0;34m*\u001b[0m\u001b[0margs\u001b[0m\u001b[0;34m,\u001b[0m \u001b[0;34m**\u001b[0m\u001b[0mkwargs\u001b[0m\u001b[0;34m)\u001b[0m\u001b[0;34m\u001b[0m\u001b[0;34m\u001b[0m\u001b[0m\n\u001b[0m\u001b[1;32m     66\u001b[0m         \u001b[0;32mexcept\u001b[0m \u001b[0mException\u001b[0m \u001b[0;32mas\u001b[0m \u001b[0me\u001b[0m\u001b[0;34m:\u001b[0m\u001b[0;34m\u001b[0m\u001b[0;34m\u001b[0m\u001b[0m\n\u001b[1;32m     67\u001b[0m             \u001b[0mfiltered_tb\u001b[0m \u001b[0;34m=\u001b[0m \u001b[0m_process_traceback_frames\u001b[0m\u001b[0;34m(\u001b[0m\u001b[0me\u001b[0m\u001b[0;34m.\u001b[0m\u001b[0m__traceback__\u001b[0m\u001b[0;34m)\u001b[0m\u001b[0;34m\u001b[0m\u001b[0;34m\u001b[0m\u001b[0m\n",
      "\u001b[0;32m/auto/homes/njr61/environments/mambaforge/envs/concepts/lib/python3.7/site-packages/keras/engine/training.py\u001b[0m in \u001b[0;36mfit\u001b[0;34m(self, x, y, batch_size, epochs, verbose, callbacks, validation_split, validation_data, shuffle, class_weight, sample_weight, initial_epoch, steps_per_epoch, validation_steps, validation_batch_size, validation_freq, max_queue_size, workers, use_multiprocessing)\u001b[0m\n\u001b[1;32m   1562\u001b[0m                         ):\n\u001b[1;32m   1563\u001b[0m                             \u001b[0mcallbacks\u001b[0m\u001b[0;34m.\u001b[0m\u001b[0mon_train_batch_begin\u001b[0m\u001b[0;34m(\u001b[0m\u001b[0mstep\u001b[0m\u001b[0;34m)\u001b[0m\u001b[0;34m\u001b[0m\u001b[0;34m\u001b[0m\u001b[0m\n\u001b[0;32m-> 1564\u001b[0;31m                             \u001b[0mtmp_logs\u001b[0m \u001b[0;34m=\u001b[0m \u001b[0mself\u001b[0m\u001b[0;34m.\u001b[0m\u001b[0mtrain_function\u001b[0m\u001b[0;34m(\u001b[0m\u001b[0miterator\u001b[0m\u001b[0;34m)\u001b[0m\u001b[0;34m\u001b[0m\u001b[0;34m\u001b[0m\u001b[0m\n\u001b[0m\u001b[1;32m   1565\u001b[0m                             \u001b[0;32mif\u001b[0m \u001b[0mdata_handler\u001b[0m\u001b[0;34m.\u001b[0m\u001b[0mshould_sync\u001b[0m\u001b[0;34m:\u001b[0m\u001b[0;34m\u001b[0m\u001b[0;34m\u001b[0m\u001b[0m\n\u001b[1;32m   1566\u001b[0m                                 \u001b[0mcontext\u001b[0m\u001b[0;34m.\u001b[0m\u001b[0masync_wait\u001b[0m\u001b[0;34m(\u001b[0m\u001b[0;34m)\u001b[0m\u001b[0;34m\u001b[0m\u001b[0;34m\u001b[0m\u001b[0m\n",
      "\u001b[0;32m/auto/homes/njr61/environments/mambaforge/envs/concepts/lib/python3.7/site-packages/tensorflow/python/util/traceback_utils.py\u001b[0m in \u001b[0;36merror_handler\u001b[0;34m(*args, **kwargs)\u001b[0m\n\u001b[1;32m    148\u001b[0m     \u001b[0mfiltered_tb\u001b[0m \u001b[0;34m=\u001b[0m \u001b[0;32mNone\u001b[0m\u001b[0;34m\u001b[0m\u001b[0;34m\u001b[0m\u001b[0m\n\u001b[1;32m    149\u001b[0m     \u001b[0;32mtry\u001b[0m\u001b[0;34m:\u001b[0m\u001b[0;34m\u001b[0m\u001b[0;34m\u001b[0m\u001b[0m\n\u001b[0;32m--> 150\u001b[0;31m       \u001b[0;32mreturn\u001b[0m \u001b[0mfn\u001b[0m\u001b[0;34m(\u001b[0m\u001b[0;34m*\u001b[0m\u001b[0margs\u001b[0m\u001b[0;34m,\u001b[0m \u001b[0;34m**\u001b[0m\u001b[0mkwargs\u001b[0m\u001b[0;34m)\u001b[0m\u001b[0;34m\u001b[0m\u001b[0;34m\u001b[0m\u001b[0m\n\u001b[0m\u001b[1;32m    151\u001b[0m     \u001b[0;32mexcept\u001b[0m \u001b[0mException\u001b[0m \u001b[0;32mas\u001b[0m \u001b[0me\u001b[0m\u001b[0;34m:\u001b[0m\u001b[0;34m\u001b[0m\u001b[0;34m\u001b[0m\u001b[0m\n\u001b[1;32m    152\u001b[0m       \u001b[0mfiltered_tb\u001b[0m \u001b[0;34m=\u001b[0m \u001b[0m_process_traceback_frames\u001b[0m\u001b[0;34m(\u001b[0m\u001b[0me\u001b[0m\u001b[0;34m.\u001b[0m\u001b[0m__traceback__\u001b[0m\u001b[0;34m)\u001b[0m\u001b[0;34m\u001b[0m\u001b[0;34m\u001b[0m\u001b[0m\n",
      "\u001b[0;32m/auto/homes/njr61/environments/mambaforge/envs/concepts/lib/python3.7/site-packages/tensorflow/python/eager/def_function.py\u001b[0m in \u001b[0;36m__call__\u001b[0;34m(self, *args, **kwds)\u001b[0m\n\u001b[1;32m    913\u001b[0m \u001b[0;34m\u001b[0m\u001b[0m\n\u001b[1;32m    914\u001b[0m       \u001b[0;32mwith\u001b[0m \u001b[0mOptionalXlaContext\u001b[0m\u001b[0;34m(\u001b[0m\u001b[0mself\u001b[0m\u001b[0;34m.\u001b[0m\u001b[0m_jit_compile\u001b[0m\u001b[0;34m)\u001b[0m\u001b[0;34m:\u001b[0m\u001b[0;34m\u001b[0m\u001b[0;34m\u001b[0m\u001b[0m\n\u001b[0;32m--> 915\u001b[0;31m         \u001b[0mresult\u001b[0m \u001b[0;34m=\u001b[0m \u001b[0mself\u001b[0m\u001b[0;34m.\u001b[0m\u001b[0m_call\u001b[0m\u001b[0;34m(\u001b[0m\u001b[0;34m*\u001b[0m\u001b[0margs\u001b[0m\u001b[0;34m,\u001b[0m \u001b[0;34m**\u001b[0m\u001b[0mkwds\u001b[0m\u001b[0;34m)\u001b[0m\u001b[0;34m\u001b[0m\u001b[0;34m\u001b[0m\u001b[0m\n\u001b[0m\u001b[1;32m    916\u001b[0m \u001b[0;34m\u001b[0m\u001b[0m\n\u001b[1;32m    917\u001b[0m       \u001b[0mnew_tracing_count\u001b[0m \u001b[0;34m=\u001b[0m \u001b[0mself\u001b[0m\u001b[0;34m.\u001b[0m\u001b[0mexperimental_get_tracing_count\u001b[0m\u001b[0;34m(\u001b[0m\u001b[0;34m)\u001b[0m\u001b[0;34m\u001b[0m\u001b[0;34m\u001b[0m\u001b[0m\n",
      "\u001b[0;32m/auto/homes/njr61/environments/mambaforge/envs/concepts/lib/python3.7/site-packages/tensorflow/python/eager/def_function.py\u001b[0m in \u001b[0;36m_call\u001b[0;34m(self, *args, **kwds)\u001b[0m\n\u001b[1;32m    945\u001b[0m       \u001b[0;31m# In this case we have created variables on the first call, so we run the\u001b[0m\u001b[0;34m\u001b[0m\u001b[0;34m\u001b[0m\u001b[0;34m\u001b[0m\u001b[0m\n\u001b[1;32m    946\u001b[0m       \u001b[0;31m# defunned version which is guaranteed to never create variables.\u001b[0m\u001b[0;34m\u001b[0m\u001b[0;34m\u001b[0m\u001b[0;34m\u001b[0m\u001b[0m\n\u001b[0;32m--> 947\u001b[0;31m       \u001b[0;32mreturn\u001b[0m \u001b[0mself\u001b[0m\u001b[0;34m.\u001b[0m\u001b[0m_stateless_fn\u001b[0m\u001b[0;34m(\u001b[0m\u001b[0;34m*\u001b[0m\u001b[0margs\u001b[0m\u001b[0;34m,\u001b[0m \u001b[0;34m**\u001b[0m\u001b[0mkwds\u001b[0m\u001b[0;34m)\u001b[0m  \u001b[0;31m# pylint: disable=not-callable\u001b[0m\u001b[0;34m\u001b[0m\u001b[0;34m\u001b[0m\u001b[0m\n\u001b[0m\u001b[1;32m    948\u001b[0m     \u001b[0;32melif\u001b[0m \u001b[0mself\u001b[0m\u001b[0;34m.\u001b[0m\u001b[0m_stateful_fn\u001b[0m \u001b[0;32mis\u001b[0m \u001b[0;32mnot\u001b[0m \u001b[0;32mNone\u001b[0m\u001b[0;34m:\u001b[0m\u001b[0;34m\u001b[0m\u001b[0;34m\u001b[0m\u001b[0m\n\u001b[1;32m    949\u001b[0m       \u001b[0;31m# Release the lock early so that multiple threads can perform the call\u001b[0m\u001b[0;34m\u001b[0m\u001b[0;34m\u001b[0m\u001b[0;34m\u001b[0m\u001b[0m\n",
      "\u001b[0;32m/auto/homes/njr61/environments/mambaforge/envs/concepts/lib/python3.7/site-packages/tensorflow/python/eager/function.py\u001b[0m in \u001b[0;36m__call__\u001b[0;34m(self, *args, **kwargs)\u001b[0m\n\u001b[1;32m   2495\u001b[0m        filtered_flat_args) = self._maybe_define_function(args, kwargs)\n\u001b[1;32m   2496\u001b[0m     return graph_function._call_flat(\n\u001b[0;32m-> 2497\u001b[0;31m         filtered_flat_args, captured_inputs=graph_function.captured_inputs)  # pylint: disable=protected-access\n\u001b[0m\u001b[1;32m   2498\u001b[0m \u001b[0;34m\u001b[0m\u001b[0m\n\u001b[1;32m   2499\u001b[0m   \u001b[0;34m@\u001b[0m\u001b[0mproperty\u001b[0m\u001b[0;34m\u001b[0m\u001b[0;34m\u001b[0m\u001b[0m\n",
      "\u001b[0;32m/auto/homes/njr61/environments/mambaforge/envs/concepts/lib/python3.7/site-packages/tensorflow/python/eager/function.py\u001b[0m in \u001b[0;36m_call_flat\u001b[0;34m(self, args, captured_inputs, cancellation_manager)\u001b[0m\n\u001b[1;32m   1861\u001b[0m       \u001b[0;31m# No tape is watching; skip to running the function.\u001b[0m\u001b[0;34m\u001b[0m\u001b[0;34m\u001b[0m\u001b[0;34m\u001b[0m\u001b[0m\n\u001b[1;32m   1862\u001b[0m       return self._build_call_outputs(self._inference_function.call(\n\u001b[0;32m-> 1863\u001b[0;31m           ctx, args, cancellation_manager=cancellation_manager))\n\u001b[0m\u001b[1;32m   1864\u001b[0m     forward_backward = self._select_forward_and_backward_functions(\n\u001b[1;32m   1865\u001b[0m         \u001b[0margs\u001b[0m\u001b[0;34m,\u001b[0m\u001b[0;34m\u001b[0m\u001b[0;34m\u001b[0m\u001b[0m\n",
      "\u001b[0;32m/auto/homes/njr61/environments/mambaforge/envs/concepts/lib/python3.7/site-packages/tensorflow/python/eager/function.py\u001b[0m in \u001b[0;36mcall\u001b[0;34m(self, ctx, args, cancellation_manager)\u001b[0m\n\u001b[1;32m    502\u001b[0m               \u001b[0minputs\u001b[0m\u001b[0;34m=\u001b[0m\u001b[0margs\u001b[0m\u001b[0;34m,\u001b[0m\u001b[0;34m\u001b[0m\u001b[0;34m\u001b[0m\u001b[0m\n\u001b[1;32m    503\u001b[0m               \u001b[0mattrs\u001b[0m\u001b[0;34m=\u001b[0m\u001b[0mattrs\u001b[0m\u001b[0;34m,\u001b[0m\u001b[0;34m\u001b[0m\u001b[0;34m\u001b[0m\u001b[0m\n\u001b[0;32m--> 504\u001b[0;31m               ctx=ctx)\n\u001b[0m\u001b[1;32m    505\u001b[0m         \u001b[0;32melse\u001b[0m\u001b[0;34m:\u001b[0m\u001b[0;34m\u001b[0m\u001b[0;34m\u001b[0m\u001b[0m\n\u001b[1;32m    506\u001b[0m           outputs = execute.execute_with_cancellation(\n",
      "\u001b[0;32m/auto/homes/njr61/environments/mambaforge/envs/concepts/lib/python3.7/site-packages/tensorflow/python/eager/execute.py\u001b[0m in \u001b[0;36mquick_execute\u001b[0;34m(op_name, num_outputs, inputs, attrs, ctx, name)\u001b[0m\n\u001b[1;32m     53\u001b[0m     \u001b[0mctx\u001b[0m\u001b[0;34m.\u001b[0m\u001b[0mensure_initialized\u001b[0m\u001b[0;34m(\u001b[0m\u001b[0;34m)\u001b[0m\u001b[0;34m\u001b[0m\u001b[0;34m\u001b[0m\u001b[0m\n\u001b[1;32m     54\u001b[0m     tensors = pywrap_tfe.TFE_Py_Execute(ctx._handle, device_name, op_name,\n\u001b[0;32m---> 55\u001b[0;31m                                         inputs, attrs, num_outputs)\n\u001b[0m\u001b[1;32m     56\u001b[0m   \u001b[0;32mexcept\u001b[0m \u001b[0mcore\u001b[0m\u001b[0;34m.\u001b[0m\u001b[0m_NotOkStatusException\u001b[0m \u001b[0;32mas\u001b[0m \u001b[0me\u001b[0m\u001b[0;34m:\u001b[0m\u001b[0;34m\u001b[0m\u001b[0;34m\u001b[0m\u001b[0m\n\u001b[1;32m     57\u001b[0m     \u001b[0;32mif\u001b[0m \u001b[0mname\u001b[0m \u001b[0;32mis\u001b[0m \u001b[0;32mnot\u001b[0m \u001b[0;32mNone\u001b[0m\u001b[0;34m:\u001b[0m\u001b[0;34m\u001b[0m\u001b[0;34m\u001b[0m\u001b[0m\n",
      "\u001b[0;31mKeyboardInterrupt\u001b[0m: "
     ]
    }
   ],
   "source": [
    "model.fit(generator,\n",
    "       steps_per_epoch=len(generator),\n",
    "       epochs=10)"
   ]
  },
  {
   "cell_type": "code",
   "execution_count": 7,
   "id": "2484e02d",
   "metadata": {},
   "outputs": [],
   "source": [
    "data = dataset.get_data()"
   ]
  },
  {
   "cell_type": "code",
   "execution_count": 8,
   "id": "914f3a6d",
   "metadata": {},
   "outputs": [],
   "source": [
    "img_paths = ['dataset/'+i['img_path'] for i in data]\n",
    "attributes = np.array([i['attribute_label'] for i in data])\n",
    "num_attributes = len(attributes[0])"
   ]
  },
  {
   "cell_type": "code",
   "execution_count": 9,
   "id": "4f9cbcbd",
   "metadata": {},
   "outputs": [],
   "source": [
    "# Define a function to load and preprocess the images\n",
    "def load_image(img_path):\n",
    "    img = tf.keras.utils.load_img(img_path, target_size=input_shape[:2])\n",
    "    img = tf.keras.utils.img_to_array(img) / 255.\n",
    "    return img\n"
   ]
  },
  {
   "cell_type": "code",
   "execution_count": 10,
   "id": "29d16daf",
   "metadata": {},
   "outputs": [],
   "source": [
    "input_shape = (224, 224, 3)\n"
   ]
  },
  {
   "cell_type": "code",
   "execution_count": 11,
   "id": "f99c4225",
   "metadata": {},
   "outputs": [],
   "source": [
    "images = np.array([load_image(img_path) for img_path in img_paths])"
   ]
  },
  {
   "cell_type": "code",
   "execution_count": 12,
   "id": "a7cb2068",
   "metadata": {},
   "outputs": [
    {
     "name": "stderr",
     "output_type": "stream",
     "text": [
      "2023-03-28 13:52:31.568657: I tensorflow/core/platform/cpu_feature_guard.cc:193] This TensorFlow binary is optimized with oneAPI Deep Neural Network Library (oneDNN) to use the following CPU instructions in performance-critical operations:  SSE4.1 SSE4.2 AVX AVX2 FMA\n",
      "To enable them in other operations, rebuild TensorFlow with the appropriate compiler flags.\n",
      "2023-03-28 13:52:38.834458: I tensorflow/core/common_runtime/gpu/gpu_device.cc:1616] Created device /job:localhost/replica:0/task:0/device:GPU:0 with 9699 MB memory:  -> device: 0, name: NVIDIA TITAN Xp, pci bus id: 0000:03:00.0, compute capability: 6.1\n",
      "/auto/homes/njr61/environments/mambaforge/envs/concepts/lib/python3.7/site-packages/keras/optimizers/optimizer_v2/adam.py:114: UserWarning: The `lr` argument is deprecated, use `learning_rate` instead.\n",
      "  super().__init__(name, **kwargs)\n"
     ]
    }
   ],
   "source": [
    "input_tensor = Input(shape=input_shape)\n",
    "\n",
    "# Define the base model\n",
    "base_model = VGG16(weights='imagenet', include_top=False, input_tensor=input_tensor)\n",
    "\n",
    "# Freeze the layers in the base model\n",
    "for layer in base_model.layers:\n",
    "    layer.trainable = False\n",
    "\n",
    "# Add the new layers\n",
    "x = base_model.output\n",
    "x = Flatten()(x)\n",
    "x = Dense(512, activation='relu')(x)\n",
    "# Define the output layer\n",
    "output_layer = Dense(num_attributes, activation='sigmoid')(x)\n",
    "\n",
    "# Create the new model\n",
    "model = Model(inputs=base_model.input, outputs=output_layer)\n",
    "\n",
    "# Compile the model\n",
    "model.compile(optimizer=Adam(lr=1e-3), loss='binary_crossentropy', metrics=['mse'])\n"
   ]
  },
  {
   "cell_type": "code",
   "execution_count": 13,
   "id": "0a3b67a2",
   "metadata": {},
   "outputs": [
    {
     "name": "stderr",
     "output_type": "stream",
     "text": [
      "2023-03-28 13:52:41.736412: W tensorflow/core/framework/cpu_allocator_impl.cc:82] Allocation of 2887729152 exceeds 10% of free system memory.\n",
      "2023-03-28 13:52:45.297048: W tensorflow/core/framework/cpu_allocator_impl.cc:82] Allocation of 2887729152 exceeds 10% of free system memory.\n"
     ]
    },
    {
     "name": "stdout",
     "output_type": "stream",
     "text": [
      "Epoch 1/10\n"
     ]
    },
    {
     "name": "stderr",
     "output_type": "stream",
     "text": [
      "2023-03-28 13:52:49.638878: I tensorflow/stream_executor/cuda/cuda_dnn.cc:384] Loaded cuDNN version 8401\n",
      "2023-03-28 13:52:51.278114: W tensorflow/stream_executor/gpu/asm_compiler.cc:111] *** WARNING *** You are using ptxas 10.1.243, which is older than 11.1. ptxas before 11.1 is known to miscompile XLA code, leading to incorrect results or invalid-address errors.\n",
      "\n",
      "You may not need to update to CUDA 11.1; cherry-picking the ptxas binary is often sufficient.\n"
     ]
    },
    {
     "name": "stdout",
     "output_type": "stream",
     "text": [
      "150/150 [==============================] - 18s 74ms/step - loss: 0.4188 - mse: 0.1299\n",
      "Epoch 2/10\n",
      "150/150 [==============================] - 9s 62ms/step - loss: 0.3293 - mse: 0.1025\n",
      "Epoch 3/10\n",
      "150/150 [==============================] - 10s 64ms/step - loss: 0.2767 - mse: 0.0853\n",
      "Epoch 4/10\n",
      "150/150 [==============================] - 10s 63ms/step - loss: 0.2264 - mse: 0.0686\n",
      "Epoch 5/10\n",
      "150/150 [==============================] - 10s 65ms/step - loss: 0.1867 - mse: 0.0556\n",
      "Epoch 6/10\n",
      "150/150 [==============================] - 10s 67ms/step - loss: 0.1524 - mse: 0.0444\n",
      "Epoch 7/10\n",
      "150/150 [==============================] - 10s 65ms/step - loss: 0.1221 - mse: 0.0344\n",
      "Epoch 8/10\n",
      "150/150 [==============================] - 10s 66ms/step - loss: 0.0968 - mse: 0.0263\n",
      "Epoch 9/10\n",
      "150/150 [==============================] - 10s 64ms/step - loss: 0.0768 - mse: 0.0199\n",
      "Epoch 10/10\n",
      "150/150 [==============================] - 10s 65ms/step - loss: 0.0607 - mse: 0.0149\n"
     ]
    },
    {
     "data": {
      "text/plain": [
       "<keras.callbacks.History at 0x7f26d0cee610>"
      ]
     },
     "execution_count": 13,
     "metadata": {},
     "output_type": "execute_result"
    }
   ],
   "source": [
    "epochs = 10\n",
    "batch_size = 32\n",
    "model.fit(images, attributes, batch_size=batch_size, epochs=epochs)"
   ]
  },
  {
   "cell_type": "code",
   "execution_count": 28,
   "id": "496bbcb8",
   "metadata": {},
   "outputs": [
    {
     "data": {
      "text/plain": [
       "<tf.Tensor: shape=(1, 112), dtype=bool, numpy=\n",
       "array([[False, False, False, False, False, False, False, False,  True,\n",
       "        False, False, False, False, False,  True, False, False, False,\n",
       "        False, False,  True, False,  True, False, False, False, False,\n",
       "        False, False,  True, False, False, False, False, False,  True,\n",
       "        False, False,  True, False, False, False, False,  True, False,\n",
       "        False, False, False,  True, False,  True,  True, False, False,\n",
       "        False, False, False, False,  True, False, False, False,  True,\n",
       "        False, False, False, False, False,  True, False, False, False,\n",
       "        False, False,  True, False, False, False, False,  True, False,\n",
       "        False, False,  True, False, False,  True, False, False,  True,\n",
       "        False, False, False, False,  True, False, False,  True, False,\n",
       "        False, False, False, False, False, False, False, False,  True,\n",
       "         True, False, False, False]])>"
      ]
     },
     "execution_count": 28,
     "metadata": {},
     "output_type": "execute_result"
    }
   ],
   "source": [
    "model(np.array([images[0]])) > 0.5"
   ]
  },
  {
   "cell_type": "code",
   "execution_count": 29,
   "id": "7905e5a5",
   "metadata": {},
   "outputs": [
    {
     "data": {
      "text/plain": [
       "array([0, 0, 0, 0, 0, 0, 0, 0, 1, 0, 0, 0, 0, 0, 1, 0, 0, 0, 0, 0, 1, 0,\n",
       "       1, 0, 0, 0, 0, 0, 0, 1, 0, 0, 0, 0, 0, 1, 0, 0, 1, 0, 0, 0, 0, 1,\n",
       "       0, 0, 0, 0, 1, 0, 1, 1, 0, 0, 0, 0, 0, 0, 1, 0, 0, 0, 1, 0, 0, 0,\n",
       "       0, 0, 1, 0, 0, 0, 0, 0, 1, 0, 0, 0, 0, 1, 0, 0, 0, 1, 0, 0, 1, 0,\n",
       "       0, 1, 0, 0, 0, 0, 1, 0, 0, 1, 0, 0, 0, 0, 0, 0, 0, 0, 0, 1, 1, 0,\n",
       "       0, 0])"
      ]
     },
     "execution_count": 29,
     "metadata": {},
     "output_type": "execute_result"
    }
   ],
   "source": [
    "attributes[0]"
   ]
  },
  {
   "cell_type": "code",
   "execution_count": 14,
   "id": "0c2c5858",
   "metadata": {},
   "outputs": [],
   "source": [
    "model.save_weights(\"results/models/vgg16_models/cub_concept.h5\")"
   ]
  },
  {
   "cell_type": "code",
   "execution_count": 16,
   "id": "d9664628",
   "metadata": {},
   "outputs": [
    {
     "name": "stderr",
     "output_type": "stream",
     "text": [
      "2023-03-28 13:56:14.156415: W tensorflow/core/framework/cpu_allocator_impl.cc:82] Allocation of 2887729152 exceeds 10% of free system memory.\n"
     ]
    },
    {
     "ename": "TypeError",
     "evalue": "call() got an unexpected keyword argument 'batch_size'",
     "output_type": "error",
     "traceback": [
      "\u001b[0;31m---------------------------------------------------------------------------\u001b[0m",
      "\u001b[0;31mTypeError\u001b[0m                                 Traceback (most recent call last)",
      "\u001b[0;32m/tmp/ipykernel_1152194/3033518150.py\u001b[0m in \u001b[0;36m<module>\u001b[0;34m\u001b[0m\n\u001b[0;32m----> 1\u001b[0;31m \u001b[0mmodel\u001b[0m\u001b[0;34m(\u001b[0m\u001b[0mimages\u001b[0m\u001b[0;34m,\u001b[0m\u001b[0mbatch_size\u001b[0m\u001b[0;34m=\u001b[0m\u001b[0;36m32\u001b[0m\u001b[0;34m)\u001b[0m\u001b[0;34m\u001b[0m\u001b[0;34m\u001b[0m\u001b[0m\n\u001b[0m",
      "\u001b[0;32m/auto/homes/njr61/environments/mambaforge/envs/concepts/lib/python3.7/site-packages/keras/utils/traceback_utils.py\u001b[0m in \u001b[0;36merror_handler\u001b[0;34m(*args, **kwargs)\u001b[0m\n\u001b[1;32m     68\u001b[0m             \u001b[0;31m# To get the full stack trace, call:\u001b[0m\u001b[0;34m\u001b[0m\u001b[0;34m\u001b[0m\u001b[0;34m\u001b[0m\u001b[0m\n\u001b[1;32m     69\u001b[0m             \u001b[0;31m# `tf.debugging.disable_traceback_filtering()`\u001b[0m\u001b[0;34m\u001b[0m\u001b[0;34m\u001b[0m\u001b[0;34m\u001b[0m\u001b[0m\n\u001b[0;32m---> 70\u001b[0;31m             \u001b[0;32mraise\u001b[0m \u001b[0me\u001b[0m\u001b[0;34m.\u001b[0m\u001b[0mwith_traceback\u001b[0m\u001b[0;34m(\u001b[0m\u001b[0mfiltered_tb\u001b[0m\u001b[0;34m)\u001b[0m \u001b[0;32mfrom\u001b[0m \u001b[0;32mNone\u001b[0m\u001b[0;34m\u001b[0m\u001b[0;34m\u001b[0m\u001b[0m\n\u001b[0m\u001b[1;32m     71\u001b[0m         \u001b[0;32mfinally\u001b[0m\u001b[0;34m:\u001b[0m\u001b[0;34m\u001b[0m\u001b[0;34m\u001b[0m\u001b[0m\n\u001b[1;32m     72\u001b[0m             \u001b[0;32mdel\u001b[0m \u001b[0mfiltered_tb\u001b[0m\u001b[0;34m\u001b[0m\u001b[0;34m\u001b[0m\u001b[0m\n",
      "\u001b[0;32m/auto/homes/njr61/environments/mambaforge/envs/concepts/lib/python3.7/site-packages/keras/utils/traceback_utils.py\u001b[0m in \u001b[0;36merror_handler\u001b[0;34m(*args, **kwargs)\u001b[0m\n\u001b[1;32m     94\u001b[0m         \u001b[0mbound_signature\u001b[0m \u001b[0;34m=\u001b[0m \u001b[0;32mNone\u001b[0m\u001b[0;34m\u001b[0m\u001b[0;34m\u001b[0m\u001b[0m\n\u001b[1;32m     95\u001b[0m         \u001b[0;32mtry\u001b[0m\u001b[0;34m:\u001b[0m\u001b[0;34m\u001b[0m\u001b[0;34m\u001b[0m\u001b[0m\n\u001b[0;32m---> 96\u001b[0;31m             \u001b[0;32mreturn\u001b[0m \u001b[0mfn\u001b[0m\u001b[0;34m(\u001b[0m\u001b[0;34m*\u001b[0m\u001b[0margs\u001b[0m\u001b[0;34m,\u001b[0m \u001b[0;34m**\u001b[0m\u001b[0mkwargs\u001b[0m\u001b[0;34m)\u001b[0m\u001b[0;34m\u001b[0m\u001b[0;34m\u001b[0m\u001b[0m\n\u001b[0m\u001b[1;32m     97\u001b[0m         \u001b[0;32mexcept\u001b[0m \u001b[0mException\u001b[0m \u001b[0;32mas\u001b[0m \u001b[0me\u001b[0m\u001b[0;34m:\u001b[0m\u001b[0;34m\u001b[0m\u001b[0;34m\u001b[0m\u001b[0m\n\u001b[1;32m     98\u001b[0m             \u001b[0;32mif\u001b[0m \u001b[0mhasattr\u001b[0m\u001b[0;34m(\u001b[0m\u001b[0me\u001b[0m\u001b[0;34m,\u001b[0m \u001b[0;34m\"_keras_call_info_injected\"\u001b[0m\u001b[0;34m)\u001b[0m\u001b[0;34m:\u001b[0m\u001b[0;34m\u001b[0m\u001b[0;34m\u001b[0m\u001b[0m\n",
      "\u001b[0;31mTypeError\u001b[0m: call() got an unexpected keyword argument 'batch_size'"
     ]
    }
   ],
   "source": [
    "model(images,batch_size=32)"
   ]
  },
  {
   "cell_type": "code",
   "execution_count": 17,
   "id": "ad02c0be",
   "metadata": {},
   "outputs": [
    {
     "name": "stderr",
     "output_type": "stream",
     "text": [
      "2023-03-28 14:00:51.779153: W tensorflow/core/framework/cpu_allocator_impl.cc:82] Allocation of 2887729152 exceeds 10% of free system memory.\n",
      "2023-03-28 14:01:04.584419: W tensorflow/core/common_runtime/bfc_allocator.cc:479] Allocator (GPU_0_bfc) ran out of memory trying to allocate 2.69GiB (rounded to 2887729152)requested by op _EagerConst\n",
      "If the cause is memory fragmentation maybe the environment variable 'TF_GPU_ALLOCATOR=cuda_malloc_async' will improve the situation. \n",
      "Current allocation summary follows.\n",
      "Current allocation summary follows.\n",
      "2023-03-28 14:01:04.584517: I tensorflow/core/common_runtime/bfc_allocator.cc:1033] BFCAllocator dump for GPU_0_bfc\n",
      "2023-03-28 14:01:04.584589: I tensorflow/core/common_runtime/bfc_allocator.cc:1040] Bin (256): \tTotal Chunks: 45, Chunks in use: 44. 11.2KiB allocated for chunks. 11.0KiB in use in bin. 716B client-requested in use in bin.\n",
      "2023-03-28 14:01:04.584608: I tensorflow/core/common_runtime/bfc_allocator.cc:1040] Bin (512): \tTotal Chunks: 6, Chunks in use: 5. 3.2KiB allocated for chunks. 2.8KiB in use in bin. 2.3KiB client-requested in use in bin.\n",
      "2023-03-28 14:01:04.584622: I tensorflow/core/common_runtime/bfc_allocator.cc:1040] Bin (1024): \tTotal Chunks: 4, Chunks in use: 4. 4.2KiB allocated for chunks. 4.2KiB in use in bin. 4.0KiB client-requested in use in bin.\n",
      "2023-03-28 14:01:04.584637: I tensorflow/core/common_runtime/bfc_allocator.cc:1040] Bin (2048): \tTotal Chunks: 9, Chunks in use: 9. 18.0KiB allocated for chunks. 18.0KiB in use in bin. 18.0KiB client-requested in use in bin.\n",
      "2023-03-28 14:01:04.584651: I tensorflow/core/common_runtime/bfc_allocator.cc:1040] Bin (4096): \tTotal Chunks: 1, Chunks in use: 1. 6.8KiB allocated for chunks. 6.8KiB in use in bin. 6.8KiB client-requested in use in bin.\n",
      "2023-03-28 14:01:04.584670: I tensorflow/core/common_runtime/bfc_allocator.cc:1040] Bin (8192): \tTotal Chunks: 0, Chunks in use: 0. 0B allocated for chunks. 0B in use in bin. 0B client-requested in use in bin.\n",
      "2023-03-28 14:01:04.584686: I tensorflow/core/common_runtime/bfc_allocator.cc:1040] Bin (16384): \tTotal Chunks: 0, Chunks in use: 0. 0B allocated for chunks. 0B in use in bin. 0B client-requested in use in bin.\n",
      "2023-03-28 14:01:04.584698: I tensorflow/core/common_runtime/bfc_allocator.cc:1040] Bin (32768): \tTotal Chunks: 0, Chunks in use: 0. 0B allocated for chunks. 0B in use in bin. 0B client-requested in use in bin.\n",
      "2023-03-28 14:01:04.584711: I tensorflow/core/common_runtime/bfc_allocator.cc:1040] Bin (65536): \tTotal Chunks: 0, Chunks in use: 0. 0B allocated for chunks. 0B in use in bin. 0B client-requested in use in bin.\n",
      "2023-03-28 14:01:04.584727: I tensorflow/core/common_runtime/bfc_allocator.cc:1040] Bin (131072): \tTotal Chunks: 2, Chunks in use: 2. 448.0KiB allocated for chunks. 448.0KiB in use in bin. 448.0KiB client-requested in use in bin.\n",
      "2023-03-28 14:01:04.584741: I tensorflow/core/common_runtime/bfc_allocator.cc:1040] Bin (262144): \tTotal Chunks: 3, Chunks in use: 3. 1.13MiB allocated for chunks. 1.13MiB in use in bin. 656.0KiB client-requested in use in bin.\n",
      "2023-03-28 14:01:04.584756: I tensorflow/core/common_runtime/bfc_allocator.cc:1040] Bin (524288): \tTotal Chunks: 1, Chunks in use: 1. 576.0KiB allocated for chunks. 576.0KiB in use in bin. 576.0KiB client-requested in use in bin.\n",
      "2023-03-28 14:01:04.584770: I tensorflow/core/common_runtime/bfc_allocator.cc:1040] Bin (1048576): \tTotal Chunks: 1, Chunks in use: 1. 1.97MiB allocated for chunks. 1.97MiB in use in bin. 1.12MiB client-requested in use in bin.\n",
      "2023-03-28 14:01:04.584784: I tensorflow/core/common_runtime/bfc_allocator.cc:1040] Bin (2097152): \tTotal Chunks: 2, Chunks in use: 2. 4.50MiB allocated for chunks. 4.50MiB in use in bin. 4.50MiB client-requested in use in bin.\n",
      "2023-03-28 14:01:04.584799: I tensorflow/core/common_runtime/bfc_allocator.cc:1040] Bin (4194304): \tTotal Chunks: 2, Chunks in use: 2. 10.03MiB allocated for chunks. 10.03MiB in use in bin. 8.60MiB client-requested in use in bin.\n",
      "2023-03-28 14:01:04.584814: I tensorflow/core/common_runtime/bfc_allocator.cc:1040] Bin (8388608): \tTotal Chunks: 5, Chunks in use: 5. 45.00MiB allocated for chunks. 45.00MiB in use in bin. 45.00MiB client-requested in use in bin.\n",
      "2023-03-28 14:01:04.584828: I tensorflow/core/common_runtime/bfc_allocator.cc:1040] Bin (16777216): \tTotal Chunks: 2, Chunks in use: 0. 48.78MiB allocated for chunks. 0B in use in bin. 0B client-requested in use in bin.\n",
      "2023-03-28 14:01:04.584849: I tensorflow/core/common_runtime/bfc_allocator.cc:1040] Bin (33554432): \tTotal Chunks: 3, Chunks in use: 3. 147.00MiB allocated for chunks. 147.00MiB in use in bin. 147.00MiB client-requested in use in bin.\n",
      "2023-03-28 14:01:04.584861: I tensorflow/core/common_runtime/bfc_allocator.cc:1040] Bin (67108864): \tTotal Chunks: 0, Chunks in use: 0. 0B allocated for chunks. 0B in use in bin. 0B client-requested in use in bin.\n",
      "2023-03-28 14:01:04.584874: I tensorflow/core/common_runtime/bfc_allocator.cc:1040] Bin (134217728): \tTotal Chunks: 0, Chunks in use: 0. 0B allocated for chunks. 0B in use in bin. 0B client-requested in use in bin.\n",
      "2023-03-28 14:01:04.584888: I tensorflow/core/common_runtime/bfc_allocator.cc:1040] Bin (268435456): \tTotal Chunks: 4, Chunks in use: 3. 9.22GiB allocated for chunks. 8.07GiB in use in bin. 8.07GiB client-requested in use in bin.\n",
      "2023-03-28 14:01:04.584915: I tensorflow/core/common_runtime/bfc_allocator.cc:1056] Bin for 2.69GiB was 256.00MiB, Chunk State: \n",
      "2023-03-28 14:01:04.584983: I tensorflow/core/common_runtime/bfc_allocator.cc:1062]   Size: 1.15GiB | Requested Size: 4B | in_use: 0 | bin_num: 20, prev:   Size: 2.69GiB | Requested Size: 2.69GiB | in_use: 1 | bin_num: -1\n",
      "2023-03-28 14:01:04.584994: I tensorflow/core/common_runtime/bfc_allocator.cc:1069] Next region of size 10170204160\n",
      "2023-03-28 14:01:04.585007: I tensorflow/core/common_runtime/bfc_allocator.cc:1089] InUse at 7f21a4000000 of size 1280 next 1\n",
      "2023-03-28 14:01:04.585018: I tensorflow/core/common_runtime/bfc_allocator.cc:1089] InUse at 7f21a4000500 of size 256 next 2\n",
      "2023-03-28 14:01:04.585028: I tensorflow/core/common_runtime/bfc_allocator.cc:1089] InUse at 7f21a4000600 of size 256 next 3\n",
      "2023-03-28 14:01:04.585038: I tensorflow/core/common_runtime/bfc_allocator.cc:1089] InUse at 7f21a4000700 of size 256 next 5\n",
      "2023-03-28 14:01:04.585048: I tensorflow/core/common_runtime/bfc_allocator.cc:1089] InUse at 7f21a4000800 of size 256 next 6\n",
      "2023-03-28 14:01:04.585067: I tensorflow/core/common_runtime/bfc_allocator.cc:1089] InUse at 7f21a4000900 of size 256 next 4\n",
      "2023-03-28 14:01:04.585076: I tensorflow/core/common_runtime/bfc_allocator.cc:1089] InUse at 7f21a4000a00 of size 256 next 7\n",
      "2023-03-28 14:01:04.585086: I tensorflow/core/common_runtime/bfc_allocator.cc:1089] InUse at 7f21a4000b00 of size 256 next 12\n",
      "2023-03-28 14:01:04.585096: I tensorflow/core/common_runtime/bfc_allocator.cc:1089] InUse at 7f21a4000c00 of size 256 next 10\n",
      "2023-03-28 14:01:04.585106: I tensorflow/core/common_runtime/bfc_allocator.cc:1089] InUse at 7f21a4000d00 of size 256 next 11\n",
      "2023-03-28 14:01:04.585117: I tensorflow/core/common_runtime/bfc_allocator.cc:1089] InUse at 7f21a4000e00 of size 512 next 15\n",
      "2023-03-28 14:01:04.585128: I tensorflow/core/common_runtime/bfc_allocator.cc:1089] InUse at 7f21a4001000 of size 256 next 16\n",
      "2023-03-28 14:01:04.585138: I tensorflow/core/common_runtime/bfc_allocator.cc:1089] InUse at 7f21a4001100 of size 256 next 19\n",
      "2023-03-28 14:01:04.585148: I tensorflow/core/common_runtime/bfc_allocator.cc:1089] InUse at 7f21a4001200 of size 256 next 50\n",
      "2023-03-28 14:01:04.585158: I tensorflow/core/common_runtime/bfc_allocator.cc:1089] InUse at 7f21a4001300 of size 256 next 22\n",
      "2023-03-28 14:01:04.585168: I tensorflow/core/common_runtime/bfc_allocator.cc:1089] InUse at 7f21a4001400 of size 256 next 20\n",
      "2023-03-28 14:01:04.585177: I tensorflow/core/common_runtime/bfc_allocator.cc:1089] InUse at 7f21a4001500 of size 256 next 21\n",
      "2023-03-28 14:01:04.585188: I tensorflow/core/common_runtime/bfc_allocator.cc:1089] InUse at 7f21a4001600 of size 1024 next 25\n",
      "2023-03-28 14:01:04.585198: I tensorflow/core/common_runtime/bfc_allocator.cc:1089] InUse at 7f21a4001a00 of size 256 next 26\n",
      "2023-03-28 14:01:04.585208: I tensorflow/core/common_runtime/bfc_allocator.cc:1089] InUse at 7f21a4001b00 of size 256 next 29\n",
      "2023-03-28 14:01:04.585228: I tensorflow/core/common_runtime/bfc_allocator.cc:1089] InUse at 7f21a4001c00 of size 1024 next 32\n",
      "2023-03-28 14:01:04.585248: I tensorflow/core/common_runtime/bfc_allocator.cc:1089] InUse at 7f21a4002000 of size 256 next 53\n",
      "2023-03-28 14:01:04.585258: I tensorflow/core/common_runtime/bfc_allocator.cc:1089] InUse at 7f21a4002100 of size 768 next 35\n",
      "2023-03-28 14:01:04.585268: I tensorflow/core/common_runtime/bfc_allocator.cc:1089] InUse at 7f21a4002400 of size 256 next 30\n",
      "2023-03-28 14:01:04.585278: I tensorflow/core/common_runtime/bfc_allocator.cc:1089] InUse at 7f21a4002500 of size 256 next 31\n",
      "2023-03-28 14:01:04.585288: I tensorflow/core/common_runtime/bfc_allocator.cc:1089] InUse at 7f21a4002600 of size 2048 next 37\n",
      "2023-03-28 14:01:04.585299: I tensorflow/core/common_runtime/bfc_allocator.cc:1089] InUse at 7f21a4002e00 of size 256 next 38\n",
      "2023-03-28 14:01:04.585308: I tensorflow/core/common_runtime/bfc_allocator.cc:1089] InUse at 7f21a4002f00 of size 256 next 41\n",
      "2023-03-28 14:01:04.585319: I tensorflow/core/common_runtime/bfc_allocator.cc:1089] InUse at 7f21a4003000 of size 2048 next 44\n",
      "2023-03-28 14:01:04.585329: I tensorflow/core/common_runtime/bfc_allocator.cc:1089] InUse at 7f21a4003800 of size 2048 next 8\n",
      "2023-03-28 14:01:04.585338: I tensorflow/core/common_runtime/bfc_allocator.cc:1089] InUse at 7f21a4004000 of size 256 next 54\n",
      "2023-03-28 14:01:04.585348: I tensorflow/core/common_runtime/bfc_allocator.cc:1089] InUse at 7f21a4004100 of size 512 next 17\n",
      "2023-03-28 14:01:04.585359: I tensorflow/core/common_runtime/bfc_allocator.cc:1089] InUse at 7f21a4004300 of size 1024 next 28\n",
      "2023-03-28 14:01:04.585369: I tensorflow/core/common_runtime/bfc_allocator.cc:1089] InUse at 7f21a4004700 of size 2048 next 39\n",
      "2023-03-28 14:01:04.585379: I tensorflow/core/common_runtime/bfc_allocator.cc:1089] InUse at 7f21a4004f00 of size 2048 next 49\n",
      "2023-03-28 14:01:04.585388: I tensorflow/core/common_runtime/bfc_allocator.cc:1089] InUse at 7f21a4005700 of size 2048 next 51\n",
      "2023-03-28 14:01:04.585398: I tensorflow/core/common_runtime/bfc_allocator.cc:1089] InUse at 7f21a4005f00 of size 2048 next 48\n",
      "2023-03-28 14:01:04.585409: I tensorflow/core/common_runtime/bfc_allocator.cc:1089] Free  at 7f21a4006700 of size 256 next 58\n",
      "2023-03-28 14:01:04.585419: I tensorflow/core/common_runtime/bfc_allocator.cc:1089] InUse at 7f21a4006800 of size 256 next 56\n",
      "2023-03-28 14:01:04.585428: I tensorflow/core/common_runtime/bfc_allocator.cc:1089] InUse at 7f21a4006900 of size 256 next 57\n",
      "2023-03-28 14:01:04.585438: I tensorflow/core/common_runtime/bfc_allocator.cc:1089] InUse at 7f21a4006a00 of size 256 next 62\n",
      "2023-03-28 14:01:04.585448: I tensorflow/core/common_runtime/bfc_allocator.cc:1089] InUse at 7f21a4006b00 of size 256 next 63\n",
      "2023-03-28 14:01:04.585458: I tensorflow/core/common_runtime/bfc_allocator.cc:1089] InUse at 7f21a4006c00 of size 256 next 64\n",
      "2023-03-28 14:01:04.585468: I tensorflow/core/common_runtime/bfc_allocator.cc:1089] InUse at 7f21a4006d00 of size 256 next 65\n",
      "2023-03-28 14:01:04.585478: I tensorflow/core/common_runtime/bfc_allocator.cc:1089] InUse at 7f21a4006e00 of size 256 next 66\n",
      "2023-03-28 14:01:04.585488: I tensorflow/core/common_runtime/bfc_allocator.cc:1089] InUse at 7f21a4006f00 of size 256 next 67\n",
      "2023-03-28 14:01:04.585498: I tensorflow/core/common_runtime/bfc_allocator.cc:1089] InUse at 7f21a4007000 of size 256 next 68\n",
      "2023-03-28 14:01:04.585508: I tensorflow/core/common_runtime/bfc_allocator.cc:1089] InUse at 7f21a4007100 of size 256 next 69\n",
      "2023-03-28 14:01:04.585529: I tensorflow/core/common_runtime/bfc_allocator.cc:1089] InUse at 7f21a4007200 of size 256 next 52\n",
      "2023-03-28 14:01:04.585538: I tensorflow/core/common_runtime/bfc_allocator.cc:1089] InUse at 7f21a4007300 of size 256 next 47\n",
      "2023-03-28 14:01:04.585549: I tensorflow/core/common_runtime/bfc_allocator.cc:1089] InUse at 7f21a4007400 of size 6912 next 42\n",
      "2023-03-28 14:01:04.585563: I tensorflow/core/common_runtime/bfc_allocator.cc:1089] InUse at 7f21a4008f00 of size 281600 next 14\n",
      "2023-03-28 14:01:04.585603: I tensorflow/core/common_runtime/bfc_allocator.cc:1089] InUse at 7f21a404db00 of size 442368 next 18\n",
      "2023-03-28 14:01:04.585616: I tensorflow/core/common_runtime/bfc_allocator.cc:1089] InUse at 7f21a40b9b00 of size 2064384 next 23\n",
      "2023-03-28 14:01:04.585626: I tensorflow/core/common_runtime/bfc_allocator.cc:1089] InUse at 7f21a42b1b00 of size 589824 next 13\n",
      "2023-03-28 14:01:04.585637: I tensorflow/core/common_runtime/bfc_allocator.cc:1089] InUse at 7f21a4341b00 of size 4718592 next 33\n",
      "2023-03-28 14:01:04.585647: I tensorflow/core/common_runtime/bfc_allocator.cc:1089] InUse at 7f21a47c1b00 of size 2048 next 71\n",
      "2023-03-28 14:01:04.585658: I tensorflow/core/common_runtime/bfc_allocator.cc:1089] InUse at 7f21a47c2300 of size 456704 next 59\n",
      "2023-03-28 14:01:04.585668: I tensorflow/core/common_runtime/bfc_allocator.cc:1089] InUse at 7f21a4831b00 of size 229376 next 60\n",
      "2023-03-28 14:01:04.585679: I tensorflow/core/common_runtime/bfc_allocator.cc:1089] InUse at 7f21a4869b00 of size 5799936 next 36\n",
      "2023-03-28 14:01:04.585689: I tensorflow/core/common_runtime/bfc_allocator.cc:1089] InUse at 7f21a4df1b00 of size 2359296 next 27\n",
      "2023-03-28 14:01:04.585734: I tensorflow/core/common_runtime/bfc_allocator.cc:1089] InUse at 7f21a5031b00 of size 2359296 next 40\n",
      "2023-03-28 14:01:04.585745: I tensorflow/core/common_runtime/bfc_allocator.cc:1089] InUse at 7f21a5271b00 of size 9437184 next 34\n",
      "2023-03-28 14:01:04.585755: I tensorflow/core/common_runtime/bfc_allocator.cc:1089] InUse at 7f21a5b71b00 of size 9437184 next 46\n",
      "2023-03-28 14:01:04.585765: I tensorflow/core/common_runtime/bfc_allocator.cc:1089] InUse at 7f21a6471b00 of size 9437184 next 45\n",
      "2023-03-28 14:01:04.585775: I tensorflow/core/common_runtime/bfc_allocator.cc:1089] InUse at 7f21a6d71b00 of size 9437184 next 9\n",
      "2023-03-28 14:01:04.585785: I tensorflow/core/common_runtime/bfc_allocator.cc:1089] InUse at 7f21a7671b00 of size 9437184 next 43\n",
      "2023-03-28 14:01:04.585796: I tensorflow/core/common_runtime/bfc_allocator.cc:1089] InUse at 7f21a7f71b00 of size 51380224 next 70\n",
      "2023-03-28 14:01:04.585806: I tensorflow/core/common_runtime/bfc_allocator.cc:1089] InUse at 7f21ab071b00 of size 512 next 72\n",
      "2023-03-28 14:01:04.585816: I tensorflow/core/common_runtime/bfc_allocator.cc:1089] InUse at 7f21ab071d00 of size 2048 next 74\n",
      "2023-03-28 14:01:04.585826: I tensorflow/core/common_runtime/bfc_allocator.cc:1089] InUse at 7f21ab072500 of size 229376 next 75\n",
      "2023-03-28 14:01:04.585836: I tensorflow/core/common_runtime/bfc_allocator.cc:1089] InUse at 7f21ab0aa500 of size 512 next 76\n",
      "2023-03-28 14:01:04.585846: I tensorflow/core/common_runtime/bfc_allocator.cc:1089] InUse at 7f21ab0aa700 of size 256 next 77\n",
      "2023-03-28 14:01:04.585857: I tensorflow/core/common_runtime/bfc_allocator.cc:1089] InUse at 7f21ab0aa800 of size 256 next 78\n",
      "2023-03-28 14:01:04.585867: I tensorflow/core/common_runtime/bfc_allocator.cc:1089] InUse at 7f21ab0aa900 of size 256 next 79\n",
      "2023-03-28 14:01:04.585877: I tensorflow/core/common_runtime/bfc_allocator.cc:1089] InUse at 7f21ab0aaa00 of size 256 next 80\n",
      "2023-03-28 14:01:04.585887: I tensorflow/core/common_runtime/bfc_allocator.cc:1089] InUse at 7f21ab0aab00 of size 256 next 81\n",
      "2023-03-28 14:01:04.585897: I tensorflow/core/common_runtime/bfc_allocator.cc:1089] InUse at 7f21ab0aac00 of size 256 next 82\n",
      "2023-03-28 14:01:04.585907: I tensorflow/core/common_runtime/bfc_allocator.cc:1089] InUse at 7f21ab0aad00 of size 256 next 83\n",
      "2023-03-28 14:01:04.585917: I tensorflow/core/common_runtime/bfc_allocator.cc:1089] Free  at 7f21ab0aae00 of size 512 next 102\n",
      "2023-03-28 14:01:04.585927: I tensorflow/core/common_runtime/bfc_allocator.cc:1089] InUse at 7f21ab0ab000 of size 256 next 99\n",
      "2023-03-28 14:01:04.585937: I tensorflow/core/common_runtime/bfc_allocator.cc:1089] Free  at 7f21ab0ab100 of size 19268608 next 101\n",
      "2023-03-28 14:01:04.585947: I tensorflow/core/common_runtime/bfc_allocator.cc:1089] InUse at 7f21ac30b500 of size 256 next 91\n",
      "2023-03-28 14:01:04.585957: I tensorflow/core/common_runtime/bfc_allocator.cc:1089] Free  at 7f21ac30b600 of size 31876352 next 55\n",
      "2023-03-28 14:01:04.585969: I tensorflow/core/common_runtime/bfc_allocator.cc:1089] InUse at 7f21ae171b00 of size 51380224 next 24\n",
      "2023-03-28 14:01:04.585980: I tensorflow/core/common_runtime/bfc_allocator.cc:1089] InUse at 7f21b1271b00 of size 2887729152 next 61\n",
      "2023-03-28 14:01:04.585991: I tensorflow/core/common_runtime/bfc_allocator.cc:1089] InUse at 7f225d465b00 of size 51380224 next 73\n",
      "2023-03-28 14:01:04.586013: I tensorflow/core/common_runtime/bfc_allocator.cc:1089] InUse at 7f2260565b00 of size 2887729152 next 105\n",
      "2023-03-28 14:01:04.586023: I tensorflow/core/common_runtime/bfc_allocator.cc:1089] InUse at 7f230c759b00 of size 2887729152 next 95\n",
      "2023-03-28 14:01:04.586034: I tensorflow/core/common_runtime/bfc_allocator.cc:1089] Free  at 7f23b894db00 of size 1234969856 next 18446744073709551615\n",
      "2023-03-28 14:01:04.586047: I tensorflow/core/common_runtime/bfc_allocator.cc:1094]      Summary of in-use Chunks by size: \n",
      "2023-03-28 14:01:04.586062: I tensorflow/core/common_runtime/bfc_allocator.cc:1097] 44 Chunks of size 256 totalling 11.0KiB\n",
      "2023-03-28 14:01:04.586073: I tensorflow/core/common_runtime/bfc_allocator.cc:1097] 4 Chunks of size 512 totalling 2.0KiB\n",
      "2023-03-28 14:01:04.586084: I tensorflow/core/common_runtime/bfc_allocator.cc:1097] 1 Chunks of size 768 totalling 768B\n",
      "2023-03-28 14:01:04.586096: I tensorflow/core/common_runtime/bfc_allocator.cc:1097] 3 Chunks of size 1024 totalling 3.0KiB\n",
      "2023-03-28 14:01:04.586107: I tensorflow/core/common_runtime/bfc_allocator.cc:1097] 1 Chunks of size 1280 totalling 1.2KiB\n",
      "2023-03-28 14:01:04.586118: I tensorflow/core/common_runtime/bfc_allocator.cc:1097] 9 Chunks of size 2048 totalling 18.0KiB\n",
      "2023-03-28 14:01:04.586129: I tensorflow/core/common_runtime/bfc_allocator.cc:1097] 1 Chunks of size 6912 totalling 6.8KiB\n",
      "2023-03-28 14:01:04.586141: I tensorflow/core/common_runtime/bfc_allocator.cc:1097] 2 Chunks of size 229376 totalling 448.0KiB\n",
      "2023-03-28 14:01:04.586153: I tensorflow/core/common_runtime/bfc_allocator.cc:1097] 1 Chunks of size 281600 totalling 275.0KiB\n",
      "2023-03-28 14:01:04.586164: I tensorflow/core/common_runtime/bfc_allocator.cc:1097] 1 Chunks of size 442368 totalling 432.0KiB\n",
      "2023-03-28 14:01:04.586184: I tensorflow/core/common_runtime/bfc_allocator.cc:1097] 1 Chunks of size 456704 totalling 446.0KiB\n",
      "2023-03-28 14:01:04.586195: I tensorflow/core/common_runtime/bfc_allocator.cc:1097] 1 Chunks of size 589824 totalling 576.0KiB\n",
      "2023-03-28 14:01:04.586207: I tensorflow/core/common_runtime/bfc_allocator.cc:1097] 1 Chunks of size 2064384 totalling 1.97MiB\n",
      "2023-03-28 14:01:04.586218: I tensorflow/core/common_runtime/bfc_allocator.cc:1097] 2 Chunks of size 2359296 totalling 4.50MiB\n",
      "2023-03-28 14:01:04.586229: I tensorflow/core/common_runtime/bfc_allocator.cc:1097] 1 Chunks of size 4718592 totalling 4.50MiB\n",
      "2023-03-28 14:01:04.586240: I tensorflow/core/common_runtime/bfc_allocator.cc:1097] 1 Chunks of size 5799936 totalling 5.53MiB\n",
      "2023-03-28 14:01:04.586290: I tensorflow/core/common_runtime/bfc_allocator.cc:1097] 5 Chunks of size 9437184 totalling 45.00MiB\n",
      "2023-03-28 14:01:04.586304: I tensorflow/core/common_runtime/bfc_allocator.cc:1097] 3 Chunks of size 51380224 totalling 147.00MiB\n",
      "2023-03-28 14:01:04.586315: I tensorflow/core/common_runtime/bfc_allocator.cc:1097] 3 Chunks of size 2887729152 totalling 8.07GiB\n",
      "2023-03-28 14:01:04.586327: I tensorflow/core/common_runtime/bfc_allocator.cc:1101] Sum Total of in-use chunks: 8.27GiB\n",
      "2023-03-28 14:01:04.586338: I tensorflow/core/common_runtime/bfc_allocator.cc:1103] total_region_allocated_bytes_: 10170204160 memory_limit_: 10170204160 available bytes: 0 curr_region_allocation_bytes_: 20340408320\n",
      "2023-03-28 14:01:04.586355: I tensorflow/core/common_runtime/bfc_allocator.cc:1109] Stats: \n",
      "Limit:                     10170204160\n",
      "InUse:                      8884088576\n",
      "MaxInUse:                   8884088576\n",
      "NumAllocs:                      134118\n",
      "MaxAllocSize:               3716153344\n",
      "Reserved:                            0\n",
      "PeakReserved:                        0\n",
      "LargestFreeBlock:                    0\n",
      "\n",
      "2023-03-28 14:01:04.586388: W tensorflow/core/common_runtime/bfc_allocator.cc:491] ****************************************************************************************____________\n"
     ]
    },
    {
     "ename": "InternalError",
     "evalue": "Failed copying input tensor from /job:localhost/replica:0/task:0/device:CPU:0 to /job:localhost/replica:0/task:0/device:GPU:0 in order to run _EagerConst: Dst tensor is not initialized.",
     "output_type": "error",
     "traceback": [
      "\u001b[0;31m---------------------------------------------------------------------------\u001b[0m",
      "\u001b[0;31mInternalError\u001b[0m                             Traceback (most recent call last)",
      "\u001b[0;32m/tmp/ipykernel_1152194/2453193482.py\u001b[0m in \u001b[0;36m<module>\u001b[0;34m\u001b[0m\n\u001b[0;32m----> 1\u001b[0;31m \u001b[0mlogits\u001b[0m \u001b[0;34m=\u001b[0m \u001b[0mmodel\u001b[0m\u001b[0;34m.\u001b[0m\u001b[0mpredict\u001b[0m\u001b[0;34m(\u001b[0m\u001b[0mimages\u001b[0m\u001b[0;34m,\u001b[0m \u001b[0mbatch_size\u001b[0m\u001b[0;34m=\u001b[0m\u001b[0;36m32\u001b[0m\u001b[0;34m)\u001b[0m\u001b[0;34m\u001b[0m\u001b[0;34m\u001b[0m\u001b[0m\n\u001b[0m",
      "\u001b[0;32m/auto/homes/njr61/environments/mambaforge/envs/concepts/lib/python3.7/site-packages/keras/utils/traceback_utils.py\u001b[0m in \u001b[0;36merror_handler\u001b[0;34m(*args, **kwargs)\u001b[0m\n\u001b[1;32m     68\u001b[0m             \u001b[0;31m# To get the full stack trace, call:\u001b[0m\u001b[0;34m\u001b[0m\u001b[0;34m\u001b[0m\u001b[0;34m\u001b[0m\u001b[0m\n\u001b[1;32m     69\u001b[0m             \u001b[0;31m# `tf.debugging.disable_traceback_filtering()`\u001b[0m\u001b[0;34m\u001b[0m\u001b[0;34m\u001b[0m\u001b[0;34m\u001b[0m\u001b[0m\n\u001b[0;32m---> 70\u001b[0;31m             \u001b[0;32mraise\u001b[0m \u001b[0me\u001b[0m\u001b[0;34m.\u001b[0m\u001b[0mwith_traceback\u001b[0m\u001b[0;34m(\u001b[0m\u001b[0mfiltered_tb\u001b[0m\u001b[0;34m)\u001b[0m \u001b[0;32mfrom\u001b[0m \u001b[0;32mNone\u001b[0m\u001b[0;34m\u001b[0m\u001b[0;34m\u001b[0m\u001b[0m\n\u001b[0m\u001b[1;32m     71\u001b[0m         \u001b[0;32mfinally\u001b[0m\u001b[0;34m:\u001b[0m\u001b[0;34m\u001b[0m\u001b[0;34m\u001b[0m\u001b[0m\n\u001b[1;32m     72\u001b[0m             \u001b[0;32mdel\u001b[0m \u001b[0mfiltered_tb\u001b[0m\u001b[0;34m\u001b[0m\u001b[0;34m\u001b[0m\u001b[0m\n",
      "\u001b[0;32m/auto/homes/njr61/environments/mambaforge/envs/concepts/lib/python3.7/site-packages/tensorflow/python/framework/constant_op.py\u001b[0m in \u001b[0;36mconvert_to_eager_tensor\u001b[0;34m(value, ctx, dtype)\u001b[0m\n\u001b[1;32m    100\u001b[0m       \u001b[0mdtype\u001b[0m \u001b[0;34m=\u001b[0m \u001b[0mdtypes\u001b[0m\u001b[0;34m.\u001b[0m\u001b[0mas_dtype\u001b[0m\u001b[0;34m(\u001b[0m\u001b[0mdtype\u001b[0m\u001b[0;34m)\u001b[0m\u001b[0;34m.\u001b[0m\u001b[0mas_datatype_enum\u001b[0m\u001b[0;34m\u001b[0m\u001b[0;34m\u001b[0m\u001b[0m\n\u001b[1;32m    101\u001b[0m   \u001b[0mctx\u001b[0m\u001b[0;34m.\u001b[0m\u001b[0mensure_initialized\u001b[0m\u001b[0;34m(\u001b[0m\u001b[0;34m)\u001b[0m\u001b[0;34m\u001b[0m\u001b[0;34m\u001b[0m\u001b[0m\n\u001b[0;32m--> 102\u001b[0;31m   \u001b[0;32mreturn\u001b[0m \u001b[0mops\u001b[0m\u001b[0;34m.\u001b[0m\u001b[0mEagerTensor\u001b[0m\u001b[0;34m(\u001b[0m\u001b[0mvalue\u001b[0m\u001b[0;34m,\u001b[0m \u001b[0mctx\u001b[0m\u001b[0;34m.\u001b[0m\u001b[0mdevice_name\u001b[0m\u001b[0;34m,\u001b[0m \u001b[0mdtype\u001b[0m\u001b[0;34m)\u001b[0m\u001b[0;34m\u001b[0m\u001b[0;34m\u001b[0m\u001b[0m\n\u001b[0m\u001b[1;32m    103\u001b[0m \u001b[0;34m\u001b[0m\u001b[0m\n\u001b[1;32m    104\u001b[0m \u001b[0;34m\u001b[0m\u001b[0m\n",
      "\u001b[0;31mInternalError\u001b[0m: Failed copying input tensor from /job:localhost/replica:0/task:0/device:CPU:0 to /job:localhost/replica:0/task:0/device:GPU:0 in order to run _EagerConst: Dst tensor is not initialized."
     ]
    }
   ],
   "source": [
    "logits = model.predict(images, batch_size=32)"
   ]
  },
  {
   "cell_type": "code",
   "execution_count": null,
   "id": "877d83c5",
   "metadata": {},
   "outputs": [],
   "source": []
  }
 ],
 "metadata": {
  "kernelspec": {
   "display_name": "Python 3 (ipykernel)",
   "language": "python",
   "name": "python3"
  },
  "language_info": {
   "codemirror_mode": {
    "name": "ipython",
    "version": 3
   },
   "file_extension": ".py",
   "mimetype": "text/x-python",
   "name": "python",
   "nbconvert_exporter": "python",
   "pygments_lexer": "ipython3",
   "version": "3.7.12"
  }
 },
 "nbformat": 4,
 "nbformat_minor": 5
}
