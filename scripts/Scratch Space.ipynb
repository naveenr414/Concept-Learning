{
 "cells": [
  {
   "cell_type": "code",
   "execution_count": 1,
   "id": "e83e508c",
   "metadata": {},
   "outputs": [],
   "source": [
    "%load_ext autoreload\n",
    "%autoreload 2\n",
    "%matplotlib notebook"
   ]
  },
  {
   "cell_type": "code",
   "execution_count": 2,
   "id": "b3c42d79",
   "metadata": {},
   "outputs": [],
   "source": [
    "import os\n",
    "os.chdir('../')"
   ]
  },
  {
   "cell_type": "code",
   "execution_count": 32,
   "id": "5d4286b7",
   "metadata": {},
   "outputs": [],
   "source": [
    "import numpy as np\n",
    "import matplotlib.pyplot as plt\n",
    "import scipy\n",
    "from sklearn.manifold import TSNE\n",
    "from sklearn.decomposition import PCA\n",
    "import tcav\n",
    "from src.download_data import download_imagenet, download_random_imagenet_classes\n",
    "import pickle\n",
    "from src.dataset import *\n",
    "from src.concept_vectors import *\n",
    "from src.util import *\n",
    "import random\n",
    "from src.plots import *\n",
    "from sklearn.manifold import TSNE\n",
    "from scipy.spatial.distance import cosine \n",
    "import pandas as pd\n",
    "from sklearn.datasets import make_moons\n",
    "import matplotlib.pyplot as plt\n",
    "from scipy.cluster.hierarchy import dendrogram, linkage\n",
    "from sklearn.cluster import AgglomerativeClustering\n",
    "from sklearn.datasets import make_blobs\n",
    "from src.hierarchy import *"
   ]
  },
  {
   "cell_type": "code",
   "execution_count": 6,
   "id": "d7b9c794",
   "metadata": {},
   "outputs": [
    {
     "data": {
      "text/plain": [
       "(48, 16)"
      ]
     },
     "execution_count": 6,
     "metadata": {},
     "output_type": "execute_result"
    }
   ],
   "source": [
    "load_cem_vectors(\"xor\",0,42).shape"
   ]
  },
  {
   "cell_type": "code",
   "execution_count": 38,
   "id": "f1425c74",
   "metadata": {},
   "outputs": [
    {
     "data": {
      "text/plain": [
       "(2, 100352)"
      ]
     },
     "execution_count": 38,
     "metadata": {},
     "output_type": "execute_result"
    }
   ],
   "source": [
    "load_tcav_vectors(\"soccer\",['mixed4c'],experiment_name=\"unfiled\")[0].shape"
   ]
  },
  {
   "cell_type": "code",
   "execution_count": 37,
   "id": "7ed3352f",
   "metadata": {},
   "outputs": [
    {
     "data": {
      "text/plain": [
       "(1, 4796)"
      ]
     },
     "execution_count": 37,
     "metadata": {},
     "output_type": "execute_result"
    }
   ],
   "source": [
    "load_label_vectors_simple(\"has_bill_shape::dagger\",\"cub\",seed=42).shape"
   ]
  },
  {
   "cell_type": "code",
   "execution_count": 34,
   "id": "5e8cad40",
   "metadata": {},
   "outputs": [
    {
     "data": {
      "text/plain": [
       "(48, 16)"
      ]
     },
     "execution_count": 34,
     "metadata": {},
     "output_type": "execute_result"
    }
   ],
   "source": [
    "load_cem_vectors_simple('0','xor',seed=42).shape"
   ]
  },
  {
   "cell_type": "code",
   "execution_count": null,
   "id": "be42c223",
   "metadata": {},
   "outputs": [],
   "source": []
  }
 ],
 "metadata": {
  "kernelspec": {
   "display_name": "Python 3 (ipykernel)",
   "language": "python",
   "name": "python3"
  },
  "language_info": {
   "codemirror_mode": {
    "name": "ipython",
    "version": 3
   },
   "file_extension": ".py",
   "mimetype": "text/x-python",
   "name": "python",
   "nbconvert_exporter": "python",
   "pygments_lexer": "ipython3",
   "version": "3.7.12"
  }
 },
 "nbformat": 4,
 "nbformat_minor": 5
}
