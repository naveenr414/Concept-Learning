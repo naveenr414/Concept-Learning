{
 "cells": [
  {
   "cell_type": "code",
   "execution_count": 1,
   "id": "e83e508c",
   "metadata": {},
   "outputs": [],
   "source": [
    "%load_ext autoreload\n",
    "%autoreload 2\n",
    "%matplotlib notebook"
   ]
  },
  {
   "cell_type": "code",
   "execution_count": 2,
   "id": "b3c42d79",
   "metadata": {},
   "outputs": [],
   "source": [
    "import os\n",
    "os.chdir('../')\n",
    "os.environ[\"CUDA_VISIBLE_DEVICES\"]=\"2\""
   ]
  },
  {
   "cell_type": "code",
   "execution_count": 3,
   "id": "5d4286b7",
   "metadata": {
    "scrolled": true
   },
   "outputs": [
    {
     "name": "stderr",
     "output_type": "stream",
     "text": [
      "2023-03-21 10:13:35.546462: I tensorflow/core/platform/cpu_feature_guard.cc:193] This TensorFlow binary is optimized with oneAPI Deep Neural Network Library (oneDNN) to use the following CPU instructions in performance-critical operations:  SSE4.1 SSE4.2 AVX AVX2 FMA\n",
      "To enable them in other operations, rebuild TensorFlow with the appropriate compiler flags.\n"
     ]
    }
   ],
   "source": [
    "import numpy as np\n",
    "import matplotlib.pyplot as plt\n",
    "import random\n",
    "from src.dataset import *\n",
    "from src.concept_vectors import *\n",
    "from src.util import *\n",
    "from src.plots import *\n",
    "from src.hierarchy import *\n",
    "from src.metrics import *\n",
    "from src.models import * \n",
    "from src.create_vectors import *"
   ]
  },
  {
   "cell_type": "code",
   "execution_count": 4,
   "id": "ae96cc69",
   "metadata": {},
   "outputs": [],
   "source": [
    "import numpy as np\n",
    "import tensorflow as tf\n",
    "from tensorflow import keras\n",
    "from tensorflow.keras import layers\n",
    "from PIL import Image, ImageOps\n",
    "import pickle\n",
    "import sklearn\n",
    "import pandas as pd\n",
    "from keras.applications.vgg16 import VGG16\n",
    "from keras.preprocessing.image import ImageDataGenerator\n",
    "from keras.models import Model\n",
    "from keras.layers import Dense, Flatten\n",
    "from keras.optimizers import Adam\n",
    "from tensorflow.compat.v1 import ConfigProto\n",
    "from tensorflow.compat.v1 import InteractiveSession\n",
    "from scipy.spatial.distance import cdist\n"
   ]
  },
  {
   "cell_type": "code",
   "execution_count": 5,
   "id": "3325ab10",
   "metadata": {},
   "outputs": [],
   "source": [
    "dataset = CUB_Dataset()"
   ]
  },
  {
   "cell_type": "code",
   "execution_count": 6,
   "id": "0c46f1e9",
   "metadata": {},
   "outputs": [],
   "source": [
    "model_name = \"VGG16\""
   ]
  },
  {
   "cell_type": "markdown",
   "id": "a3a6b977",
   "metadata": {},
   "source": [
    "## Exploration of the Truthfulness Metric"
   ]
  },
  {
   "cell_type": "code",
   "execution_count": 7,
   "id": "50bda86c",
   "metadata": {},
   "outputs": [
    {
     "name": "stdout",
     "output_type": "stream",
     "text": [
      "Found 1198 validated image filenames belonging to 200 classes.\n",
      "38/38 [==============================] - 196s 5s/step\n"
     ]
    }
   ],
   "source": [
    "similarities = get_model_concept_similarities(dataset,model)"
   ]
  },
  {
   "cell_type": "code",
   "execution_count": 8,
   "id": "62d96beb",
   "metadata": {},
   "outputs": [],
   "source": [
    "attributes = dataset.get_attributes()"
   ]
  },
  {
   "cell_type": "code",
   "execution_count": 11,
   "id": "6d5d4e8a",
   "metadata": {},
   "outputs": [],
   "source": [
    "shapley_hierarchy = create_hierarchy(create_ward_hierarchy, load_shapley_vectors_simple,dataset,'',attributes,43)"
   ]
  },
  {
   "cell_type": "code",
   "execution_count": 12,
   "id": "517f003d",
   "metadata": {},
   "outputs": [
    {
     "name": "stdout",
     "output_type": "stream",
     "text": [
      "                ---- has_belly_color::brown\n",
      "           ----|\n",
      "                     ---- has_underparts_color::brown\n",
      "                ----|\n",
      "                     ---- has_breast_color::brown\n",
      "\n",
      "\n",
      "      ----|\n",
      "                     ---- has_head_pattern::eyebrow\n",
      "                ----|\n",
      "                     ---- has_wing_pattern::spotted\n",
      "\n",
      "           ----|\n",
      "                               ---- has_back_pattern::striped\n",
      "                          ----|\n",
      "                               ---- has_wing_pattern::striped\n",
      "\n",
      "                     ----|\n",
      "                               ---- has_throat_color::buff\n",
      "                          ----|\n",
      "                                         ---- has_upper_tail_color::buff\n",
      "                                    ----|\n",
      "                                         ---- has_under_tail_color::buff\n",
      "\n",
      "                               ----|\n",
      "                                         ---- has_nape_color::buff\n",
      "                                    ----|\n",
      "                                              ---- has_upperparts_color::buff\n",
      "                                         ----|\n",
      "                                                   ---- has_wing_color::buff\n",
      "                                              ----|\n",
      "                                                   ---- has_back_color::buff\n",
      "\n",
      "\n",
      "\n",
      "\n",
      "\n",
      "\n",
      "                ----|\n",
      "                               ---- has_leg_color::buff\n",
      "                          ----|\n",
      "                                              ---- has_primary_color::brown\n",
      "                                         ----|\n",
      "                                                   ---- has_back_color::brown\n",
      "                                              ----|\n",
      "                                                        ---- has_wing_color::brown\n",
      "                                                   ----|\n",
      "                                                        ---- has_upperparts_color::brown\n",
      "\n",
      "\n",
      "\n",
      "                                    ----|\n",
      "                                              ---- has_upper_tail_color::brown\n",
      "                                         ----|\n",
      "                                              ---- has_under_tail_color::brown\n",
      "\n",
      "\n",
      "                               ----|\n",
      "                                         ---- has_nape_color::brown\n",
      "                                    ----|\n",
      "                                              ---- has_forehead_color::brown\n",
      "                                         ----|\n",
      "                                              ---- has_crown_color::brown\n",
      "\n",
      "\n",
      "\n",
      "\n",
      "                     ----|\n",
      "                                    ---- has_primary_color::buff\n",
      "                               ----|\n",
      "                                         ---- has_breast_color::buff\n",
      "                                    ----|\n",
      "                                              ---- has_underparts_color::buff\n",
      "                                         ----|\n",
      "                                              ---- has_belly_color::buff\n",
      "\n",
      "\n",
      "\n",
      "                          ----|\n",
      "                                    ---- has_size::very_small_(3_-_5_in)\n",
      "                               ----|\n",
      "                                    ---- has_tail_pattern::striped\n",
      "\n",
      "\n",
      "\n",
      "\n",
      "\n",
      "\n",
      " ----|\n",
      "                     ---- has_back_color::yellow\n",
      "                ----|\n",
      "                          ---- has_wing_color::yellow\n",
      "                     ----|\n",
      "                          ---- has_upperparts_color::yellow\n",
      "\n",
      "\n",
      "           ----|\n",
      "                          ---- has_throat_color::yellow\n",
      "                     ----|\n",
      "                               ---- has_primary_color::yellow\n",
      "                          ----|\n",
      "                                    ---- has_breast_color::yellow\n",
      "                               ----|\n",
      "                                         ---- has_underparts_color::yellow\n",
      "                                    ----|\n",
      "                                         ---- has_belly_color::yellow\n",
      "\n",
      "\n",
      "\n",
      "\n",
      "                ----|\n",
      "                          ---- has_nape_color::yellow\n",
      "                     ----|\n",
      "                               ---- has_forehead_color::yellow\n",
      "                          ----|\n",
      "                               ---- has_crown_color::yellow\n",
      "\n",
      "\n",
      "\n",
      "\n",
      "      ----|\n",
      "                               ---- has_bill_shape::hooked_seabird\n",
      "                          ----|\n",
      "                                    ---- has_forehead_color::white\n",
      "                               ----|\n",
      "                                    ---- has_crown_color::white\n",
      "\n",
      "\n",
      "                     ----|\n",
      "                               ---- has_back_pattern::multi-colored\n",
      "                          ----|\n",
      "                                              ---- has_throat_color::white\n",
      "                                         ----|\n",
      "                                                   ---- has_breast_color::white\n",
      "                                              ----|\n",
      "                                                        ---- has_underparts_color::white\n",
      "                                                   ----|\n",
      "                                                        ---- has_belly_color::white\n",
      "\n",
      "\n",
      "\n",
      "                                    ----|\n",
      "                                              ---- has_nape_color::white\n",
      "                                         ----|\n",
      "                                              ---- has_primary_color::white\n",
      "\n",
      "\n",
      "                               ----|\n",
      "                                         ---- has_bill_shape::dagger\n",
      "                                    ----|\n",
      "                                                   ---- has_wing_color::white\n",
      "                                              ----|\n",
      "                                                        ---- has_upperparts_color::white\n",
      "                                                   ----|\n",
      "                                                        ---- has_back_color::white\n",
      "\n",
      "\n",
      "                                         ----|\n",
      "                                                   ---- has_upper_tail_color::white\n",
      "                                              ----|\n",
      "                                                   ---- has_under_tail_color::white\n",
      "\n",
      "\n",
      "\n",
      "\n",
      "\n",
      "\n",
      "                ----|\n",
      "                          ---- has_shape::duck-like\n",
      "                     ----|\n",
      "                                         ---- has_belly_color::black\n",
      "                                    ----|\n",
      "                                              ---- has_underparts_color::black\n",
      "                                         ----|\n",
      "                                              ---- has_breast_color::black\n",
      "\n",
      "\n",
      "                               ----|\n",
      "                                                   ---- has_wing_color::black\n",
      "                                              ----|\n",
      "                                                   ---- has_upperparts_color::black\n",
      "\n",
      "                                         ----|\n",
      "                                                   ---- has_upper_tail_color::black\n",
      "                                              ----|\n",
      "                                                   ---- has_under_tail_color::black\n",
      "\n",
      "\n",
      "                                    ----|\n",
      "                                                   ---- has_forehead_color::black\n",
      "                                              ----|\n",
      "                                                   ---- has_crown_color::black\n",
      "\n",
      "                                         ----|\n",
      "                                                   ---- has_throat_color::black\n",
      "                                              ----|\n",
      "                                                        ---- has_nape_color::black\n",
      "                                                   ----|\n",
      "                                                             ---- has_back_color::black\n",
      "                                                        ----|\n",
      "                                                             ---- has_primary_color::black\n",
      "\n",
      "\n",
      "\n",
      "\n",
      "\n",
      "\n",
      "                          ----|\n",
      "                                              ---- has_bill_length::about_the_same_as_head\n",
      "                                         ----|\n",
      "                                              ---- has_size::medium_(9_-_16_in)\n",
      "\n",
      "                                    ----|\n",
      "                                                   ---- has_breast_pattern::solid\n",
      "                                              ----|\n",
      "                                                   ---- has_belly_pattern::solid\n",
      "\n",
      "                                         ----|\n",
      "                                                   ---- has_wing_pattern::solid\n",
      "                                              ----|\n",
      "                                                        ---- has_back_pattern::solid\n",
      "                                                   ----|\n",
      "                                                        ---- has_tail_pattern::solid\n",
      "\n",
      "\n",
      "\n",
      "\n",
      "                               ----|\n",
      "                                         ---- has_tail_pattern::multi-colored\n",
      "                                    ----|\n",
      "                                                   ---- has_wing_pattern::multi-colored\n",
      "                                              ----|\n",
      "                                                        ---- has_head_pattern::plain\n",
      "                                                   ----|\n",
      "                                                             ---- has_leg_color::black\n",
      "                                                        ----|\n",
      "                                                             ---- has_bill_color::black\n",
      "\n",
      "\n",
      "\n",
      "                                         ----|\n",
      "                                                   ---- has_wing_shape::pointed-wings\n",
      "                                              ----|\n",
      "                                                   ---- has_leg_color::grey\n",
      "\n",
      "\n",
      "\n",
      "\n",
      "\n",
      "\n",
      "\n",
      "           ----|\n",
      "                          ---- has_forehead_color::blue\n",
      "                     ----|\n",
      "                          ---- has_crown_color::blue\n",
      "\n",
      "                ----|\n",
      "                               ---- has_throat_color::grey\n",
      "                          ----|\n",
      "                                    ---- has_belly_color::grey\n",
      "                               ----|\n",
      "                                         ---- has_underparts_color::grey\n",
      "                                    ----|\n",
      "                                         ---- has_breast_color::grey\n",
      "\n",
      "\n",
      "\n",
      "                     ----|\n",
      "                                         ---- has_nape_color::grey\n",
      "                                    ----|\n",
      "                                              ---- has_forehead_color::grey\n",
      "                                         ----|\n",
      "                                              ---- has_crown_color::grey\n",
      "\n",
      "\n",
      "                               ----|\n",
      "                                              ---- has_wing_color::grey\n",
      "                                         ----|\n",
      "                                                   ---- has_primary_color::grey\n",
      "                                              ----|\n",
      "                                                        ---- has_upperparts_color::grey\n",
      "                                                   ----|\n",
      "                                                        ---- has_back_color::grey\n",
      "\n",
      "\n",
      "\n",
      "                                    ----|\n",
      "                                              ---- has_upper_tail_color::grey\n",
      "                                         ----|\n",
      "                                              ---- has_under_tail_color::grey\n",
      "\n",
      "\n",
      "\n",
      "                          ----|\n",
      "                                    ---- has_eye_color::black\n",
      "                               ----|\n",
      "                                              ---- has_breast_pattern::multi-colored\n",
      "                                         ----|\n",
      "                                                   ---- has_bill_color::grey\n",
      "                                              ----|\n",
      "                                                             ---- has_bill_shape::cone\n",
      "                                                        ----|\n",
      "                                                             ---- has_tail_shape::notched_tail\n",
      "\n",
      "                                                   ----|\n",
      "                                                             ---- has_bill_shape::all-purpose\n",
      "                                                        ----|\n",
      "                                                                  ---- has_wing_shape::rounded-wings\n",
      "                                                             ----|\n",
      "                                                                       ---- has_size::small_(5_-_9_in)\n",
      "                                                                  ----|\n",
      "                                                                            ---- has_bill_length::shorter_than_head\n",
      "                                                                       ----|\n",
      "                                                                            ---- has_shape::perching-like\n",
      "\n",
      "\n",
      "\n",
      "\n",
      "\n",
      "\n",
      "\n",
      "                                    ----|\n",
      "                                              ---- has_breast_pattern::striped\n",
      "                                         ----|\n",
      "                                              ---- has_bill_color::buff\n"
     ]
    }
   ],
   "source": [
    "print(shapley_hierarchy)"
   ]
  },
  {
   "cell_type": "code",
   "execution_count": 20,
   "id": "3102b330",
   "metadata": {},
   "outputs": [],
   "source": [
    "attributes = np.array(attributes)"
   ]
  },
  {
   "cell_type": "code",
   "execution_count": 23,
   "id": "9a122fb4",
   "metadata": {},
   "outputs": [
    {
     "name": "stdout",
     "output_type": "stream",
     "text": [
      "has_wing_color::yellow ['has_wing_color::yellow' 'has_upperparts_color::yellow'\n",
      " 'has_forehead_color::yellow' 'has_back_pattern::multi-colored'\n",
      " 'has_crown_color::yellow']\n",
      "has_wing_color::black ['has_wing_color::black' 'has_back_color::black'\n",
      " 'has_upperparts_color::black' 'has_primary_color::black'\n",
      " 'has_under_tail_color::black']\n",
      "has_bill_length::about_the_same_as_head ['has_bill_length::about_the_same_as_head' 'has_size::medium_(9_-_16_in)'\n",
      " 'has_bill_shape::dagger' 'has_primary_color::white'\n",
      " 'has_bill_shape::hooked_seabird']\n",
      "has_wing_pattern::striped ['has_wing_pattern::striped' 'has_back_pattern::striped'\n",
      " 'has_upperparts_color::buff' 'has_under_tail_color::buff'\n",
      " 'has_wing_color::buff']\n",
      "has_size::small_(5_-_9_in) ['has_size::small_(5_-_9_in)' 'has_bill_length::shorter_than_head'\n",
      " 'has_shape::perching-like' 'has_tail_shape::notched_tail'\n",
      " 'has_bill_shape::cone']\n"
     ]
    }
   ],
   "source": [
    "for i in range(5):\n",
    "    rand_index = random.randint(0,111)\n",
    "    five_largest = np.argsort(similarities[rand_index])[::-1][:5]\n",
    "    print(attributes[rand_index],attributes[five_largest])"
   ]
  },
  {
   "cell_type": "code",
   "execution_count": 28,
   "id": "5650dcd7",
   "metadata": {},
   "outputs": [
    {
     "name": "stderr",
     "output_type": "stream",
     "text": [
      "2023-03-20 10:56:47.812288: I tensorflow/compiler/mlir/mlir_graph_optimization_pass.cc:354] MLIR V1 optimization pass is not enabled\n"
     ]
    },
    {
     "data": {
      "text/plain": [
       "(-0.24, 0.0)"
      ]
     },
     "execution_count": 28,
     "metadata": {},
     "output_type": "execute_result"
    }
   ],
   "source": [
    "truthfulness_metric(load_shapley_vectors_simple,dataset,dataset.get_attributes(),[43])"
   ]
  },
  {
   "cell_type": "markdown",
   "id": "a80da353",
   "metadata": {},
   "source": [
    "## Re-train large models"
   ]
  },
  {
   "cell_type": "code",
   "execution_count": 147,
   "id": "07c25edf",
   "metadata": {},
   "outputs": [
    {
     "name": "stderr",
     "output_type": "stream",
     "text": [
      "/auto/homes/njr61/environments/mambaforge/envs/concepts/lib/python3.7/site-packages/keras/optimizers/optimizer_v2/adam.py:114: UserWarning: The `lr` argument is deprecated, use `learning_rate` instead.\n",
      "  super().__init__(name, **kwargs)\n"
     ]
    },
    {
     "name": "stdout",
     "output_type": "stream",
     "text": [
      "Seed 43 suffix _image_robustness\n",
      "Found 4796 validated image filenames belonging to 200 classes.\n",
      "Generated dataset, now training model\n",
      "Epoch 1/25\n",
      "150/150 [==============================] - 54s 355ms/step - loss: 5.7406 - accuracy: 0.0052\n",
      "Epoch 2/25\n",
      "150/150 [==============================] - 32s 215ms/step - loss: 5.0942 - accuracy: 0.0152\n",
      "Epoch 3/25\n",
      "150/150 [==============================] - 32s 213ms/step - loss: 4.7786 - accuracy: 0.0288\n",
      "Epoch 4/25\n",
      "150/150 [==============================] - 33s 220ms/step - loss: 4.4631 - accuracy: 0.0548\n",
      "Epoch 5/25\n",
      "150/150 [==============================] - 33s 218ms/step - loss: 4.1591 - accuracy: 0.0867\n",
      "Epoch 6/25\n",
      "150/150 [==============================] - 32s 215ms/step - loss: 3.8844 - accuracy: 0.1188\n",
      "Epoch 7/25\n",
      "150/150 [==============================] - 36s 237ms/step - loss: 3.5902 - accuracy: 0.1695\n",
      "Epoch 8/25\n",
      "150/150 [==============================] - 36s 242ms/step - loss: 3.3094 - accuracy: 0.2252\n",
      "Epoch 9/25\n",
      "150/150 [==============================] - 34s 225ms/step - loss: 3.0699 - accuracy: 0.2646\n",
      "Epoch 10/25\n",
      "150/150 [==============================] - 34s 229ms/step - loss: 2.7950 - accuracy: 0.3213\n",
      "Epoch 11/25\n",
      "150/150 [==============================] - 35s 234ms/step - loss: 2.5562 - accuracy: 0.3709\n",
      "Epoch 12/25\n",
      "150/150 [==============================] - 37s 244ms/step - loss: 2.3178 - accuracy: 0.4364\n",
      "Epoch 13/25\n",
      "150/150 [==============================] - 37s 245ms/step - loss: 2.0867 - accuracy: 0.4915\n",
      "Epoch 14/25\n",
      "150/150 [==============================] - 37s 245ms/step - loss: 1.8811 - accuracy: 0.5442\n",
      "Epoch 15/25\n",
      "150/150 [==============================] - 44s 296ms/step - loss: 1.6921 - accuracy: 0.5907\n",
      "Epoch 16/25\n",
      "150/150 [==============================] - 34s 224ms/step - loss: 1.5218 - accuracy: 0.6380\n",
      "Epoch 17/25\n",
      "150/150 [==============================] - 36s 240ms/step - loss: 1.3584 - accuracy: 0.6964\n",
      "Epoch 18/25\n",
      "150/150 [==============================] - 38s 252ms/step - loss: 1.2233 - accuracy: 0.7248\n",
      "Epoch 19/25\n",
      "150/150 [==============================] - 37s 247ms/step - loss: 1.0879 - accuracy: 0.7669\n",
      "Epoch 20/25\n",
      "150/150 [==============================] - 37s 247ms/step - loss: 0.9561 - accuracy: 0.8007\n",
      "Epoch 21/25\n",
      "150/150 [==============================] - 38s 250ms/step - loss: 0.8455 - accuracy: 0.8328\n",
      "Epoch 22/25\n",
      "150/150 [==============================] - 44s 293ms/step - loss: 0.7417 - accuracy: 0.8655\n",
      "Epoch 23/25\n",
      "150/150 [==============================] - 34s 229ms/step - loss: 0.6603 - accuracy: 0.8841\n",
      "Epoch 24/25\n",
      "150/150 [==============================] - 36s 236ms/step - loss: 0.5747 - accuracy: 0.9118\n",
      "Epoch 25/25\n",
      "150/150 [==============================] - 36s 238ms/step - loss: 0.4943 - accuracy: 0.9356\n"
     ]
    }
   ],
   "source": [
    "train_large_image_model(dataset,model_name,\"_image_robustness\",seed=43)"
   ]
  },
  {
   "cell_type": "code",
   "execution_count": 148,
   "id": "d312378f",
   "metadata": {},
   "outputs": [
    {
     "name": "stdout",
     "output_type": "stream",
     "text": [
      "Found 4796 validated image filenames belonging to 200 classes.\n",
      "150/150 [==============================] - 34s 226ms/step\n"
     ]
    }
   ],
   "source": [
    "create_shapley_vectors(dataset.get_attributes(),dataset,\"_image_robustness\",seed=43)"
   ]
  },
  {
   "cell_type": "code",
   "execution_count": 149,
   "id": "3ff34b53",
   "metadata": {},
   "outputs": [
    {
     "data": {
      "text/plain": [
       "(0.35119047619047616, 0.0)"
      ]
     },
     "execution_count": 149,
     "metadata": {},
     "output_type": "execute_result"
    }
   ],
   "source": [
    "robustness_image_metric(load_shapley_vectors_simple,dataset,dataset.get_attributes(),[43])"
   ]
  },
  {
   "cell_type": "markdown",
   "id": "0da2626c",
   "metadata": {},
   "source": [
    "## Create Shapley Vectors"
   ]
  },
  {
   "cell_type": "code",
   "execution_count": 19,
   "id": "cbc23dff",
   "metadata": {},
   "outputs": [
    {
     "name": "stdout",
     "output_type": "stream",
     "text": [
      "Found 4796 validated image filenames belonging to 200 classes.\n"
     ]
    }
   ],
   "source": [
    "create_shapley_vectors(dataset.get_attributes(),dataset,\"\",seed=42)"
   ]
  },
  {
   "cell_type": "code",
   "execution_count": 24,
   "id": "46cd7684",
   "metadata": {},
   "outputs": [
    {
     "name": "stderr",
     "output_type": "stream",
     "text": [
      "2023-03-21 11:40:48.241735: I tensorflow/core/common_runtime/gpu/gpu_device.cc:1616] Created device /job:localhost/replica:0/task:0/device:GPU:0 with 10802 MB memory:  -> device: 0, name: NVIDIA TITAN Xp, pci bus id: 0000:82:00.0, compute capability: 6.1\n"
     ]
    },
    {
     "data": {
      "text/plain": [
       "(0.04, 0.0)"
      ]
     },
     "execution_count": 24,
     "metadata": {},
     "output_type": "execute_result"
    }
   ],
   "source": [
    "truthfulness_metric(load_shapley_vectors_simple,dataset,dataset.get_attributes(),[42])"
   ]
  },
  {
   "cell_type": "code",
   "execution_count": 86,
   "id": "9b1c79b1",
   "metadata": {},
   "outputs": [
    {
     "name": "stdout",
     "output_type": "stream",
     "text": [
      "Found 4796 validated image filenames belonging to 200 classes.\n",
      "150/150 [==============================] - 34s 226ms/step\n"
     ]
    }
   ],
   "source": [
    "create_shapley_vectors(dataset.get_attributes(),dataset,\"\",seed=43)"
   ]
  },
  {
   "cell_type": "code",
   "execution_count": 87,
   "id": "9025319b",
   "metadata": {},
   "outputs": [
    {
     "name": "stdout",
     "output_type": "stream",
     "text": [
      "Found 4796 validated image filenames belonging to 200 classes.\n",
      "150/150 [==============================] - 35s 229ms/step\n"
     ]
    }
   ],
   "source": [
    "create_shapley_vectors(dataset.get_attributes(),dataset,\"\",seed=44)"
   ]
  },
  {
   "cell_type": "code",
   "execution_count": 88,
   "id": "4514ff20",
   "metadata": {},
   "outputs": [
    {
     "name": "stdout",
     "output_type": "stream",
     "text": [
      "Found 4796 validated image filenames belonging to 200 classes.\n",
      "150/150 [==============================] - 34s 225ms/step\n"
     ]
    }
   ],
   "source": [
    "create_shapley_vectors(dataset.get_attributes(),dataset,\"\",seed=45)"
   ]
  },
  {
   "cell_type": "code",
   "execution_count": 62,
   "id": "bef637a4",
   "metadata": {},
   "outputs": [
    {
     "name": "stdout",
     "output_type": "stream",
     "text": [
      "Found 4796 validated image filenames belonging to 200 classes.\n",
      "150/150 [==============================] - 36s 237ms/step\n"
     ]
    }
   ],
   "source": [
    "create_shapley_vectors(dataset.get_attributes(),dataset,\"_image_robustness\",seed=43)"
   ]
  },
  {
   "cell_type": "code",
   "execution_count": 63,
   "id": "6efabad2",
   "metadata": {},
   "outputs": [
    {
     "name": "stdout",
     "output_type": "stream",
     "text": [
      "Found 4796 validated image filenames belonging to 200 classes.\n",
      "150/150 [==============================] - 35s 233ms/step\n"
     ]
    }
   ],
   "source": [
    "create_shapley_vectors(dataset.get_attributes(),dataset,\"_image_responsiveness\",seed=43)"
   ]
  },
  {
   "cell_type": "code",
   "execution_count": 33,
   "id": "4c1e90b2",
   "metadata": {},
   "outputs": [],
   "source": [
    "for embedding_method in [load_label_vectors_simple,load_vae_concept_vectors_simple,load_cem_vectors_simple,load_concept2vec_vectors_simple,load_cem_stratified_vectors_simple]:\n",
    "    embedding_method(dataset.get_attributes()[0],dataset,\"\",seed=43).shape"
   ]
  },
  {
   "cell_type": "code",
   "execution_count": 51,
   "id": "9a4ae40f",
   "metadata": {},
   "outputs": [
    {
     "name": "stderr",
     "output_type": "stream",
     "text": [
      "/auto/homes/njr61/environments/mambaforge/envs/concepts/lib/python3.7/site-packages/keras/optimizers/optimizer_v2/adam.py:114: UserWarning: The `lr` argument is deprecated, use `learning_rate` instead.\n",
      "  super().__init__(name, **kwargs)\n"
     ]
    },
    {
     "name": "stdout",
     "output_type": "stream",
     "text": [
      "Found 1198 validated image filenames belonging to 200 classes.\n",
      "38/38 [==============================] - 197s 5s/step\n"
     ]
    }
   ],
   "source": [
    "create_shapley_vectors(dataset.get_attributes(),dataset,\"\",seed=45)"
   ]
  },
  {
   "cell_type": "code",
   "execution_count": 99,
   "id": "5877c104",
   "metadata": {},
   "outputs": [
    {
     "name": "stdout",
     "output_type": "stream",
     "text": [
      "Found 60000 validated image filenames belonging to 10 classes.\n",
      "1875/1875 [==============================] - 159s 85ms/step\n"
     ]
    }
   ],
   "source": [
    "create_shapley_vectors(MNIST_Dataset().get_attributes(),MNIST_Dataset(),\"\",seed=43)"
   ]
  },
  {
   "cell_type": "markdown",
   "id": "618817f3",
   "metadata": {},
   "source": [
    "## Compute Truthfulness Scores"
   ]
  },
  {
   "cell_type": "code",
   "execution_count": 38,
   "id": "46e86102",
   "metadata": {},
   "outputs": [
    {
     "name": "stdout",
     "output_type": "stream",
     "text": [
      "<function load_shapley_vectors_simple at 0x7fbf55bae9e0>\n",
      "Found 1198 validated image filenames belonging to 200 classes.\n",
      "38/38 [==============================] - 197s 5s/step\n",
      "<function load_shapley_vectors_simple at 0x7fbf55bae9e0> (0.18666666666666665, 0.3714236873915765)\n"
     ]
    }
   ],
   "source": [
    "for embedding_method in [load_shapley_vectors_simple]:\n",
    "    print(embedding_method)\n",
    "    t = truthfulness_metric_shapley(embedding_method,dataset,dataset.get_attributes(),[43,44,45],model_name=\"VGG16\")\n",
    "    print(\"{} {}\".format(embedding_method,t))"
   ]
  },
  {
   "cell_type": "code",
   "execution_count": 58,
   "id": "5b16b70e",
   "metadata": {},
   "outputs": [
    {
     "name": "stdout",
     "output_type": "stream",
     "text": [
      "Found 1198 validated image filenames belonging to 200 classes.\n",
      "38/38 [==============================] - 9s 226ms/step\n",
      "Computed all concept embeddings\n"
     ]
    },
    {
     "data": {
      "text/plain": [
       "(0.8017857142857144, 0.0)"
      ]
     },
     "execution_count": 58,
     "metadata": {},
     "output_type": "execute_result"
    }
   ],
   "source": [
    "truthfulness_metric_shapley(load_shapley_vectors_simple,dataset,dataset.get_attributes(),[42],model_name=\"VGG16\")"
   ]
  },
  {
   "cell_type": "code",
   "execution_count": 90,
   "id": "62ca52e8",
   "metadata": {},
   "outputs": [
    {
     "name": "stdout",
     "output_type": "stream",
     "text": [
      "Found 1198 validated image filenames belonging to 200 classes.\n",
      "38/38 [==============================] - 9s 223ms/step\n",
      "Computed all concept embeddings\n"
     ]
    },
    {
     "data": {
      "text/plain": [
       "(0.7535714285714287, 0.0)"
      ]
     },
     "execution_count": 90,
     "metadata": {},
     "output_type": "execute_result"
    }
   ],
   "source": [
    "truthfulness_metric_shapley(load_shapley_vectors_simple,dataset,dataset.get_attributes(),[43],model_name=\"VGG16\")"
   ]
  },
  {
   "cell_type": "code",
   "execution_count": 91,
   "id": "9a6fa104",
   "metadata": {},
   "outputs": [
    {
     "name": "stdout",
     "output_type": "stream",
     "text": [
      "Found 1198 validated image filenames belonging to 200 classes.\n",
      "38/38 [==============================] - 9s 232ms/step\n",
      "Computed all concept embeddings\n"
     ]
    },
    {
     "data": {
      "text/plain": [
       "(0.7535714285714287, 0.0)"
      ]
     },
     "execution_count": 91,
     "metadata": {},
     "output_type": "execute_result"
    }
   ],
   "source": [
    "truthfulness_metric_shapley(load_shapley_vectors_simple,dataset,dataset.get_attributes(),[44],model_name=\"VGG16\")"
   ]
  },
  {
   "cell_type": "code",
   "execution_count": 92,
   "id": "b62aa91d",
   "metadata": {},
   "outputs": [
    {
     "name": "stdout",
     "output_type": "stream",
     "text": [
      "Found 1198 validated image filenames belonging to 200 classes.\n",
      "38/38 [==============================] - 9s 223ms/step\n",
      "Computed all concept embeddings\n"
     ]
    },
    {
     "data": {
      "text/plain": [
       "(0.7535714285714287, 0.0)"
      ]
     },
     "execution_count": 92,
     "metadata": {},
     "output_type": "execute_result"
    }
   ],
   "source": [
    "truthfulness_metric_shapley(load_shapley_vectors_simple,dataset,dataset.get_attributes(),[45],model_name=\"VGG16\")"
   ]
  },
  {
   "cell_type": "code",
   "execution_count": 84,
   "id": "44505127",
   "metadata": {},
   "outputs": [
    {
     "name": "stdout",
     "output_type": "stream",
     "text": [
      "Found 1198 validated image filenames belonging to 200 classes.\n",
      "38/38 [==============================] - 9s 235ms/step\n",
      "Computed all concept embeddings\n"
     ]
    },
    {
     "data": {
      "text/plain": [
       "(0.7303571428571428, 0.0)"
      ]
     },
     "execution_count": 84,
     "metadata": {},
     "output_type": "execute_result"
    }
   ],
   "source": [
    "truthfulness_metric_shapley(load_label_vectors_simple,dataset,dataset.get_attributes(),[43],model_name=\"VGG16\")"
   ]
  },
  {
   "cell_type": "code",
   "execution_count": 111,
   "id": "fe42e5ec",
   "metadata": {},
   "outputs": [
    {
     "name": "stderr",
     "output_type": "stream",
     "text": [
      "/auto/homes/njr61/environments/mambaforge/envs/concepts/lib/python3.7/site-packages/keras/optimizers/optimizer_v2/adam.py:114: UserWarning: The `lr` argument is deprecated, use `learning_rate` instead.\n",
      "  super().__init__(name, **kwargs)\n"
     ]
    },
    {
     "name": "stdout",
     "output_type": "stream",
     "text": [
      "Found 1198 validated image filenames belonging to 200 classes.\n",
      "38/38 [==============================] - 9s 227ms/step\n",
      "Computed all concept embeddings\n"
     ]
    },
    {
     "data": {
      "text/plain": [
       "(0.033928571428571426, 0.0)"
      ]
     },
     "execution_count": 111,
     "metadata": {},
     "output_type": "execute_result"
    }
   ],
   "source": [
    "truthfulness_metric_shapley(load_random_vectors_simple,dataset,dataset.get_attributes(),[42],model_name=\"VGG16\")"
   ]
  },
  {
   "cell_type": "markdown",
   "id": "6a4c6922",
   "metadata": {},
   "source": [
    "## Evaluating Shapley Vectors across metrics"
   ]
  },
  {
   "cell_type": "code",
   "execution_count": 96,
   "id": "613cb372",
   "metadata": {},
   "outputs": [
    {
     "name": "stderr",
     "output_type": "stream",
     "text": [
      "/auto/homes/njr61/environments/mambaforge/envs/concepts/lib/python3.7/site-packages/keras/optimizers/optimizer_v2/adam.py:114: UserWarning: The `lr` argument is deprecated, use `learning_rate` instead.\n",
      "  super().__init__(name, **kwargs)\n"
     ]
    },
    {
     "name": "stdout",
     "output_type": "stream",
     "text": [
      "Found 1198 validated image filenames belonging to 200 classes.\n",
      "38/38 [==============================] - 9s 233ms/step\n",
      "Computed all concept embeddings\n",
      "Computed all concept embeddings\n",
      "Computed all concept embeddings\n"
     ]
    },
    {
     "data": {
      "text/plain": [
       "(0.7535714285714287, 0.0)"
      ]
     },
     "execution_count": 96,
     "metadata": {},
     "output_type": "execute_result"
    }
   ],
   "source": [
    "truthfulness_metric_shapley(load_shapley_vectors_simple,dataset,dataset.get_attributes(),[43,44,45])"
   ]
  },
  {
   "cell_type": "code",
   "execution_count": 97,
   "id": "8b5b773d",
   "metadata": {},
   "outputs": [
    {
     "name": "stdout",
     "output_type": "stream",
     "text": [
      "Found 1198 validated image filenames belonging to 200 classes.\n",
      "38/38 [==============================] - 9s 223ms/step\n",
      "Computed all concept embeddings\n",
      "Computed all concept embeddings\n",
      "Computed all concept embeddings\n",
      "<function load_label_vectors_simple at 0x7f7388b77d40> (0.7303571428571428, 0.0)\n",
      "Found 1198 validated image filenames belonging to 200 classes.\n",
      "38/38 [==============================] - 9s 228ms/step\n"
     ]
    },
    {
     "name": "stderr",
     "output_type": "stream",
     "text": [
      "/auto/homes/njr61/main_code/src/metrics.py:349: VisibleDeprecationWarning: Creating an ndarray from ragged nested sequences (which is a list-or-tuple of lists-or-tuples-or ndarrays with different lengths or shapes) is deprecated. If you meant to do this, you must specify 'dtype=object' when creating the ndarray.\n",
      "  all_concept_embeddings = np.array([embedding_method(i,dataset,\"\",seed=seed) for i in dataset.get_attributes()])\n"
     ]
    },
    {
     "name": "stdout",
     "output_type": "stream",
     "text": [
      "Computed all concept embeddings\n",
      "Computed all concept embeddings\n",
      "Computed all concept embeddings\n",
      "<function load_cem_vectors_simple at 0x7f7388acb050> (0.05476190476190477, 0.0030351306628528447)\n",
      "Found 1198 validated image filenames belonging to 200 classes.\n",
      "38/38 [==============================] - 9s 229ms/step\n",
      "Computed all concept embeddings\n",
      "Computed all concept embeddings\n",
      "Computed all concept embeddings\n",
      "<function load_vae_vectors_simple at 0x7f7388acbc20> (0.20773809523809525, 0.05051464168875505)\n",
      "Found 1198 validated image filenames belonging to 200 classes.\n",
      "38/38 [==============================] - 9s 234ms/step\n",
      "Computed all concept embeddings\n",
      "Computed all concept embeddings\n",
      "Computed all concept embeddings\n",
      "<function load_concept2vec_vectors_simple at 0x7f7388acba70> (0.41130952380952385, 0.012400396819047418)\n"
     ]
    }
   ],
   "source": [
    "for embedding_method in [load_label_vectors_simple,load_cem_vectors_simple,load_vae_vectors_simple,load_concept2vec_vectors_simple]:\n",
    "    t = truthfulness_metric_shapley(embedding_method,dataset,dataset.get_attributes(),[43,44,45])\n",
    "    print(embedding_method,t)"
   ]
  },
  {
   "cell_type": "code",
   "execution_count": 93,
   "id": "2af166b2",
   "metadata": {},
   "outputs": [
    {
     "data": {
      "text/plain": [
       "(0.005952380952380931, 0.002430049347999176)"
      ]
     },
     "execution_count": 93,
     "metadata": {},
     "output_type": "execute_result"
    }
   ],
   "source": [
    "stability_metric(load_shapley_vectors_simple,dataset,dataset.get_attributes(),[43,44,45])"
   ]
  },
  {
   "cell_type": "code",
   "execution_count": 94,
   "id": "db28dd91",
   "metadata": {},
   "outputs": [
    {
     "data": {
      "text/plain": [
       "(0.33630952380952384, 0.0)"
      ]
     },
     "execution_count": 94,
     "metadata": {},
     "output_type": "execute_result"
    }
   ],
   "source": [
    "robustness_image_metric(load_shapley_vectors_simple,dataset,dataset.get_attributes(),[43])"
   ]
  },
  {
   "cell_type": "code",
   "execution_count": 95,
   "id": "4c0de255",
   "metadata": {},
   "outputs": [
    {
     "data": {
      "text/plain": [
       "(0.3839285714285714, 0.0)"
      ]
     },
     "execution_count": 95,
     "metadata": {},
     "output_type": "execute_result"
    }
   ],
   "source": [
    "responsiveness_image_metric(load_shapley_vectors_simple,dataset,dataset.get_attributes(),[43])"
   ]
  },
  {
   "cell_type": "markdown",
   "id": "14eee3bd",
   "metadata": {},
   "source": [
    "## Exploration of Shapley Vectors <-> Truthfulness relationship"
   ]
  },
  {
   "cell_type": "code",
   "execution_count": 53,
   "id": "c08302b8",
   "metadata": {},
   "outputs": [],
   "source": [
    "model_name = \"VGG16\""
   ]
  },
  {
   "cell_type": "code",
   "execution_count": 54,
   "id": "d914f71b",
   "metadata": {},
   "outputs": [
    {
     "name": "stdout",
     "output_type": "stream",
     "text": [
      "Found 1198 validated image filenames belonging to 200 classes.\n",
      "38/38 [==============================] - 197s 5s/step\n"
     ]
    }
   ],
   "source": [
    "model = get_large_image_model(dataset,model_name)\n",
    "model.load_weights(\"results/models/{}_models/{}_45.h5\".format(model_name.lower(),dataset.experiment_name))\n",
    "\n",
    "similarity_matrix = get_model_concept_similarities(dataset,model)"
   ]
  },
  {
   "cell_type": "code",
   "execution_count": 55,
   "id": "c8a01143",
   "metadata": {},
   "outputs": [],
   "source": [
    "attributes = dataset.get_attributes()"
   ]
  },
  {
   "cell_type": "code",
   "execution_count": 56,
   "id": "077f572a",
   "metadata": {},
   "outputs": [],
   "source": [
    "seed = 45"
   ]
  },
  {
   "cell_type": "code",
   "execution_count": 83,
   "id": "eb705e09",
   "metadata": {},
   "outputs": [],
   "source": [
    "all_embeddings = [embedding_method(i,dataset,\"\",seed=44)[0] for i in dataset.get_attributes()]\n",
    "all_embeddings = np.array(all_embeddings)\n",
    "distances = cdist(all_embeddings,all_embeddings,metric='cosine')"
   ]
  },
  {
   "cell_type": "code",
   "execution_count": 84,
   "id": "8a7db2f0",
   "metadata": {},
   "outputs": [],
   "source": [
    "attribute = \"has_eye_color::black\"\n",
    "attribute_idx = dataset.get_attributes().index(attribute)"
   ]
  },
  {
   "cell_type": "code",
   "execution_count": 85,
   "id": "ea1f4d3b",
   "metadata": {},
   "outputs": [],
   "source": [
    "co_occuring_concepts = find_similar_conepts_shapley(attribute,dataset,similarity_matrix,5)"
   ]
  },
  {
   "cell_type": "code",
   "execution_count": 86,
   "id": "a1443492",
   "metadata": {},
   "outputs": [],
   "source": [
    "top_5_concepts = np.argsort(distances[attribute_idx])[1:1+5]\n",
    "co_occuring_concepts_hierarchy = np.array(dataset.get_attributes())[top_5_concepts]"
   ]
  },
  {
   "cell_type": "code",
   "execution_count": 87,
   "id": "e8fbb413",
   "metadata": {},
   "outputs": [
    {
     "data": {
      "text/plain": [
       "['has_back_pattern::solid',\n",
       " 'has_shape::perching-like',\n",
       " 'has_breast_pattern::solid',\n",
       " 'has_bill_shape::all-purpose',\n",
       " 'has_throat_color::yellow']"
      ]
     },
     "execution_count": 87,
     "metadata": {},
     "output_type": "execute_result"
    }
   ],
   "source": [
    "co_occuring_concepts"
   ]
  },
  {
   "cell_type": "code",
   "execution_count": 88,
   "id": "2a7b2dc8",
   "metadata": {},
   "outputs": [
    {
     "data": {
      "text/plain": [
       "array(['has_tail_shape::notched_tail', 'has_size::small_(5_-_9_in)',\n",
       "       'has_back_pattern::solid', 'has_shape::perching-like',\n",
       "       'has_bill_length::shorter_than_head'], dtype='<U39')"
      ]
     },
     "execution_count": 88,
     "metadata": {},
     "output_type": "execute_result"
    }
   ],
   "source": [
    "co_occuring_concepts_hierarchy"
   ]
  },
  {
   "cell_type": "code",
   "execution_count": 76,
   "id": "07e662d0",
   "metadata": {},
   "outputs": [
    {
     "name": "stdout",
     "output_type": "stream",
     "text": [
      "has_forehead_color::white -0.19999999999999998\n",
      "['has_crown_color::white', 'has_nape_color::white', 'has_back_color::white', 'has_primary_color::white', 'has_under_tail_color::white']\n",
      "['has_crown_color::white', 'has_nape_color::white', 'has_under_tail_color::white', 'has_back_color::white', 'has_primary_color::white']\n",
      "has_bill_shape::cone -0.19999999999999998\n",
      "['has_back_pattern::striped', 'has_tail_shape::notched_tail', 'has_wing_pattern::striped', 'has_upperparts_color::buff', 'has_bill_length::shorter_than_head']\n",
      "['has_tail_shape::notched_tail', 'has_bill_length::shorter_than_head', 'has_back_pattern::striped', 'has_wing_pattern::striped', 'has_upperparts_color::buff']\n",
      "has_under_tail_color::buff -0.19999999999999998\n",
      "['has_upper_tail_color::buff', 'has_upperparts_color::buff', 'has_throat_color::buff', 'has_wing_pattern::striped', 'has_wing_color::brown']\n",
      "['has_upper_tail_color::buff', 'has_upperparts_color::buff', 'has_wing_color::brown', 'has_throat_color::buff', 'has_wing_pattern::striped']\n",
      "has_nape_color::yellow -0.19999999999999998\n",
      "['has_crown_color::yellow', 'has_back_color::yellow', 'has_throat_color::yellow', 'has_forehead_color::yellow', 'has_primary_color::yellow']\n",
      "['has_crown_color::yellow', 'has_throat_color::yellow', 'has_forehead_color::yellow', 'has_back_color::yellow', 'has_primary_color::yellow']\n",
      "has_wing_pattern::multi-colored -0.19999999999999998\n",
      "['has_tail_pattern::multi-colored', 'has_back_pattern::multi-colored', 'has_wing_color::yellow', 'has_upperparts_color::yellow', 'has_nape_color::yellow']\n",
      "['has_tail_pattern::multi-colored', 'has_wing_color::yellow', 'has_upperparts_color::yellow', 'has_back_pattern::multi-colored', 'has_nape_color::yellow']\n",
      "has_belly_color::buff -0.39999999999999997\n",
      "['has_breast_color::buff', 'has_underparts_color::buff', 'has_primary_color::buff', 'has_back_color::buff', 'has_primary_color::brown']\n",
      "['has_underparts_color::buff', 'has_breast_color::buff', 'has_primary_color::brown', 'has_primary_color::buff', 'has_back_color::buff']\n",
      "has_head_pattern::plain -0.39999999999999997\n",
      "['has_bill_shape::hooked_seabird', 'has_crown_color::white', 'has_leg_color::black', 'has_nape_color::black', 'has_belly_color::black']\n",
      "['has_crown_color::white', 'has_belly_color::black', 'has_leg_color::black', 'has_bill_shape::hooked_seabird', 'has_nape_color::black']\n",
      "has_size::medium_(9_-_16_in) -0.6\n",
      "['has_bill_shape::hooked_seabird', 'has_shape::duck-like', 'has_forehead_color::white', 'has_nape_color::white', 'has_bill_length::about_the_same_as_head']\n",
      "['has_bill_shape::hooked_seabird', 'has_bill_length::about_the_same_as_head', 'has_nape_color::white', 'has_forehead_color::white', 'has_shape::duck-like']\n",
      "has_eye_color::black -0.7999999999999999\n",
      "['has_back_pattern::solid', 'has_shape::perching-like', 'has_breast_pattern::solid', 'has_bill_shape::all-purpose', 'has_throat_color::yellow']\n",
      "['has_shape::perching-like', 'has_bill_shape::all-purpose', 'has_breast_pattern::solid', 'has_throat_color::yellow', 'has_back_pattern::solid']\n",
      "has_primary_color::brown -0.6\n",
      "['has_upperparts_color::brown', 'has_back_color::brown', 'has_wing_color::brown', 'has_forehead_color::brown', 'has_upper_tail_color::brown']\n",
      "['has_upperparts_color::brown', 'has_wing_color::brown', 'has_back_color::brown', 'has_upper_tail_color::brown', 'has_forehead_color::brown']\n",
      "has_primary_color::white -0.19999999999999998\n",
      "['has_breast_color::white', 'has_nape_color::white', 'has_belly_color::white', 'has_underparts_color::white', 'has_throat_color::white']\n",
      "['has_nape_color::white', 'has_breast_color::white', 'has_throat_color::white', 'has_underparts_color::white', 'has_belly_color::white']\n",
      "has_breast_pattern::multi-colored -0.19999999999999998\n",
      "['has_bill_shape::dagger', 'has_wing_pattern::spotted', 'has_head_pattern::eyebrow', 'has_wing_color::black', 'has_tail_pattern::striped']\n",
      "['has_tail_pattern::striped', 'has_head_pattern::eyebrow', 'has_wing_color::black', 'has_bill_shape::dagger', 'has_wing_pattern::spotted']\n",
      "has_upperparts_color::grey -0.39999999999999997\n",
      "['has_back_color::grey', 'has_wing_color::grey', 'has_primary_color::grey', 'has_upper_tail_color::grey', 'has_under_tail_color::grey']\n",
      "['has_wing_color::grey', 'has_back_color::grey', 'has_primary_color::grey', 'has_upper_tail_color::grey', 'has_under_tail_color::grey']\n"
     ]
    },
    {
     "data": {
      "text/plain": [
       "0.3559999999999999"
      ]
     },
     "execution_count": 76,
     "metadata": {},
     "output_type": "execute_result"
    }
   ],
   "source": [
    "selected_concepts = random.sample(attributes,k=50)\n",
    "selected_concepts_indices = [attributes.index(i) for i in selected_concepts]\n",
    "\n",
    "temp_truthfulness = []\n",
    "\n",
    "for concept in selected_concepts:\n",
    "    co_occuring_concepts = find_similar_conepts_shapley(concept,dataset,similarity_matrix,5)\n",
    "    co_occuring_concepts_hierarchy = rank_distance_concepts(embedding_method,dataset,concept,\n",
    "                                                            co_occuring_concepts,seed)\n",
    "\n",
    "    if len(co_occuring_concepts) == 1:\n",
    "        temp_truthfulness.append(int(co_occuring_concepts == co_occuring_concepts_hierarchy))\n",
    "    else:\n",
    "        score = stats.kendalltau(co_occuring_concepts,\n",
    "                                                  co_occuring_concepts_hierarchy).correlation\n",
    "        \n",
    "        if score < 0:\n",
    "            print(concept,score)\n",
    "            print(co_occuring_concepts)\n",
    "            print(co_occuring_concepts_hierarchy)\n",
    "        \n",
    "        temp_truthfulness.append(score)\n",
    "np.mean(temp_truthfulness)"
   ]
  },
  {
   "cell_type": "code",
   "execution_count": 96,
   "id": "5fc9b796",
   "metadata": {},
   "outputs": [
    {
     "ename": "KeyboardInterrupt",
     "evalue": "",
     "output_type": "error",
     "traceback": [
      "\u001b[0;31m---------------------------------------------------------------------------\u001b[0m",
      "\u001b[0;31mKeyboardInterrupt\u001b[0m                         Traceback (most recent call last)",
      "\u001b[0;32m/tmp/ipykernel_23507/4140434499.py\u001b[0m in \u001b[0;36m<module>\u001b[0;34m\u001b[0m\n\u001b[0;32m----> 1\u001b[0;31m \u001b[0mtruthfulness_metric\u001b[0m\u001b[0;34m(\u001b[0m\u001b[0mload_shapley_vectors_simple\u001b[0m\u001b[0;34m,\u001b[0m\u001b[0mdataset\u001b[0m\u001b[0;34m,\u001b[0m\u001b[0mdataset\u001b[0m\u001b[0;34m.\u001b[0m\u001b[0mget_attributes\u001b[0m\u001b[0;34m(\u001b[0m\u001b[0;34m)\u001b[0m\u001b[0;34m,\u001b[0m\u001b[0;34m[\u001b[0m\u001b[0;36m43\u001b[0m\u001b[0;34m,\u001b[0m\u001b[0;36m44\u001b[0m\u001b[0;34m,\u001b[0m\u001b[0;36m45\u001b[0m\u001b[0;34m]\u001b[0m\u001b[0;34m)\u001b[0m\u001b[0;34m\u001b[0m\u001b[0;34m\u001b[0m\u001b[0m\n\u001b[0m",
      "\u001b[0;32m/auto/homes/njr61/main_code/src/metrics.py\u001b[0m in \u001b[0;36mtruthfulness_metric\u001b[0;34m(embedding_method, dataset, attributes, random_seeds, model, baseline_hierarchies)\u001b[0m\n\u001b[1;32m    381\u001b[0m     \u001b[0mavg_truthfulness\u001b[0m \u001b[0;34m=\u001b[0m \u001b[0;34m[\u001b[0m\u001b[0;34m]\u001b[0m\u001b[0;34m\u001b[0m\u001b[0;34m\u001b[0m\u001b[0m\n\u001b[1;32m    382\u001b[0m \u001b[0;34m\u001b[0m\u001b[0m\n\u001b[0;32m--> 383\u001b[0;31m     \u001b[0mreset_dataset\u001b[0m\u001b[0;34m(\u001b[0m\u001b[0mdataset\u001b[0m\u001b[0;34m,\u001b[0m\u001b[0mrandom_seeds\u001b[0m\u001b[0;34m[\u001b[0m\u001b[0;36m0\u001b[0m\u001b[0;34m]\u001b[0m\u001b[0;34m,\u001b[0m\u001b[0;36m100\u001b[0m\u001b[0;34m)\u001b[0m\u001b[0;34m\u001b[0m\u001b[0;34m\u001b[0m\u001b[0m\n\u001b[0m\u001b[1;32m    384\u001b[0m \u001b[0;34m\u001b[0m\u001b[0m\n\u001b[1;32m    385\u001b[0m     \u001b[0;32mwith\u001b[0m \u001b[0mtf\u001b[0m\u001b[0;34m.\u001b[0m\u001b[0mcompat\u001b[0m\u001b[0;34m.\u001b[0m\u001b[0mv1\u001b[0m\u001b[0;34m.\u001b[0m\u001b[0mSession\u001b[0m\u001b[0;34m(\u001b[0m\u001b[0;34m)\u001b[0m \u001b[0;32mas\u001b[0m \u001b[0msess\u001b[0m\u001b[0;34m:\u001b[0m\u001b[0;34m\u001b[0m\u001b[0;34m\u001b[0m\u001b[0m\n",
      "\u001b[0;32m/auto/homes/njr61/main_code/src/metrics.py\u001b[0m in \u001b[0;36mreset_dataset\u001b[0;34m(dataset, seed, max_images)\u001b[0m\n\u001b[1;32m    181\u001b[0m     \u001b[0;32mfor\u001b[0m \u001b[0mattribute\u001b[0m \u001b[0;32min\u001b[0m \u001b[0mconcepts\u001b[0m\u001b[0;34m:\u001b[0m\u001b[0;34m\u001b[0m\u001b[0;34m\u001b[0m\u001b[0m\n\u001b[1;32m    182\u001b[0m         create_folder_from_attribute(attribute,dataset.get_images_with_attribute,seed=seed,\n\u001b[0;32m--> 183\u001b[0;31m                                         suffix='',num_images=max_images,train=False)\n\u001b[0m\u001b[1;32m    184\u001b[0m \u001b[0;34m\u001b[0m\u001b[0m\n\u001b[1;32m    185\u001b[0m \u001b[0;34m\u001b[0m\u001b[0m\n",
      "\u001b[0;32m/auto/homes/njr61/main_code/src/dataset.py\u001b[0m in \u001b[0;36mcreate_folder_from_attribute\u001b[0;34m(attribute_name, attribute_function, seed, suffix, num_images, train)\u001b[0m\n\u001b[1;32m    356\u001b[0m     \u001b[0mfiles\u001b[0m \u001b[0;34m=\u001b[0m \u001b[0mglob\u001b[0m\u001b[0;34m.\u001b[0m\u001b[0mglob\u001b[0m\u001b[0;34m(\u001b[0m\u001b[0;34m\"{}/*\"\u001b[0m\u001b[0;34m.\u001b[0m\u001b[0mformat\u001b[0m\u001b[0;34m(\u001b[0m\u001b[0mfolder_location\u001b[0m\u001b[0;34m)\u001b[0m\u001b[0;34m)\u001b[0m\u001b[0;34m\u001b[0m\u001b[0;34m\u001b[0m\u001b[0m\n\u001b[1;32m    357\u001b[0m     \u001b[0;32mfor\u001b[0m \u001b[0mf\u001b[0m \u001b[0;32min\u001b[0m \u001b[0mfiles\u001b[0m\u001b[0;34m:\u001b[0m\u001b[0;34m\u001b[0m\u001b[0;34m\u001b[0m\u001b[0m\n\u001b[0;32m--> 358\u001b[0;31m         \u001b[0mos\u001b[0m\u001b[0;34m.\u001b[0m\u001b[0mremove\u001b[0m\u001b[0;34m(\u001b[0m\u001b[0mf\u001b[0m\u001b[0;34m)\u001b[0m\u001b[0;34m\u001b[0m\u001b[0;34m\u001b[0m\u001b[0m\n\u001b[0m\u001b[1;32m    359\u001b[0m \u001b[0;34m\u001b[0m\u001b[0m\n\u001b[1;32m    360\u001b[0m     \u001b[0;32mif\u001b[0m \u001b[0mlen\u001b[0m\u001b[0;34m(\u001b[0m\u001b[0mimage_locations\u001b[0m\u001b[0;34m)\u001b[0m\u001b[0;34m>\u001b[0m\u001b[0mnum_images\u001b[0m\u001b[0;34m:\u001b[0m\u001b[0;34m\u001b[0m\u001b[0;34m\u001b[0m\u001b[0m\n",
      "\u001b[0;31mKeyboardInterrupt\u001b[0m: "
     ]
    }
   ],
   "source": []
  },
  {
   "cell_type": "code",
   "execution_count": 43,
   "id": "dc2b3b23",
   "metadata": {},
   "outputs": [
    {
     "data": {
      "text/plain": [
       "(0.7738095238095238, 0.0)"
      ]
     },
     "execution_count": 43,
     "metadata": {},
     "output_type": "execute_result"
    }
   ],
   "source": [
    "robustness_image_metric(load_shapley_vectors_simple,dataset,dataset.get_attributes(),[43])"
   ]
  },
  {
   "cell_type": "code",
   "execution_count": 44,
   "id": "bfa727bb",
   "metadata": {},
   "outputs": [
    {
     "data": {
      "text/plain": [
       "(0.36309523809523814, 0.0)"
      ]
     },
     "execution_count": 44,
     "metadata": {},
     "output_type": "execute_result"
    }
   ],
   "source": [
    "responsiveness_image_metric(load_shapley_vectors_simple,dataset,dataset.get_attributes(),[43])"
   ]
  },
  {
   "cell_type": "code",
   "execution_count": 100,
   "id": "aa1314a4",
   "metadata": {},
   "outputs": [],
   "source": [
    "shapley_hierarchy_mnist = create_hierarchy(create_ward_hierarchy, load_shapley_vectors_simple,MNIST_Dataset(),'',MNIST_Dataset().get_attributes(),43)"
   ]
  },
  {
   "cell_type": "code",
   "execution_count": 101,
   "id": "0f1f5aaa",
   "metadata": {},
   "outputs": [
    {
     "name": "stdout",
     "output_type": "stream",
     "text": [
      "           ---- 0_color\n",
      "      ----|\n",
      "           ---- 0_number\n",
      "\n",
      " ----|\n",
      "                ---- 1_color\n",
      "           ----|\n",
      "                ---- 1_number\n",
      "\n",
      "      ----|\n",
      "                     ---- 2_color\n",
      "                ----|\n",
      "                     ---- 2_number\n",
      "\n",
      "           ----|\n",
      "                          ---- 7_color\n",
      "                     ----|\n",
      "                          ---- 7_number\n",
      "\n",
      "                ----|\n",
      "                               ---- 9_color\n",
      "                          ----|\n",
      "                               ---- 9_number\n",
      "\n",
      "                     ----|\n",
      "                                    ---- 8_color\n",
      "                               ----|\n",
      "                                    ---- 8_number\n",
      "\n",
      "                          ----|\n",
      "                                         ---- 6_color\n",
      "                                    ----|\n",
      "                                         ---- 6_number\n",
      "\n",
      "                               ----|\n",
      "                                              ---- 3_color\n",
      "                                         ----|\n",
      "                                              ---- 3_number\n",
      "\n",
      "                                    ----|\n",
      "                                                   ---- 5_color\n",
      "                                              ----|\n",
      "                                                   ---- 5_number\n",
      "\n",
      "                                         ----|\n",
      "                                                   ---- spurious\n",
      "                                              ----|\n",
      "                                                        ---- 4_color\n",
      "                                                   ----|\n",
      "                                                        ---- 4_number\n"
     ]
    }
   ],
   "source": [
    "print(shapley_hierarchy_mnist)"
   ]
  },
  {
   "cell_type": "code",
   "execution_count": 102,
   "id": "a31f02b2",
   "metadata": {},
   "outputs": [],
   "source": [
    "shapley_hierarchy_cub_44 = create_hierarchy(create_ward_hierarchy, load_shapley_vectors_simple,CUB_Dataset(),'',CUB_Dataset().get_attributes(),44)"
   ]
  },
  {
   "cell_type": "code",
   "execution_count": 103,
   "id": "ac091799",
   "metadata": {},
   "outputs": [],
   "source": [
    "shapley_hierarchy_cub_45 = create_hierarchy(create_ward_hierarchy, load_shapley_vectors_simple,CUB_Dataset(),'',CUB_Dataset().get_attributes(),45)"
   ]
  },
  {
   "cell_type": "code",
   "execution_count": 104,
   "id": "193aa95b",
   "metadata": {},
   "outputs": [
    {
     "name": "stdout",
     "output_type": "stream",
     "text": [
      "                     ---- has_breast_color::buff\n",
      "                ----|\n",
      "                          ---- has_underparts_color::buff\n",
      "                     ----|\n",
      "                          ---- has_belly_color::buff\n",
      "\n",
      "\n",
      "           ----|\n",
      "                     ---- has_throat_color::buff\n",
      "                ----|\n",
      "                               ---- has_upper_tail_color::buff\n",
      "                          ----|\n",
      "                               ---- has_under_tail_color::buff\n",
      "\n",
      "                     ----|\n",
      "                                    ---- has_upperparts_color::buff\n",
      "                               ----|\n",
      "                                         ---- has_wing_color::buff\n",
      "                                    ----|\n",
      "                                         ---- has_back_color::buff\n",
      "\n",
      "\n",
      "                          ----|\n",
      "                                    ---- has_nape_color::buff\n",
      "                               ----|\n",
      "                                    ---- has_primary_color::buff\n",
      "\n",
      "\n",
      "\n",
      "\n",
      "\n",
      "      ----|\n",
      "                     ---- has_belly_color::brown\n",
      "                ----|\n",
      "                          ---- has_underparts_color::brown\n",
      "                     ----|\n",
      "                          ---- has_breast_color::brown\n",
      "\n",
      "\n",
      "           ----|\n",
      "                          ---- has_head_pattern::eyebrow\n",
      "                     ----|\n",
      "                          ---- has_wing_pattern::spotted\n",
      "\n",
      "                ----|\n",
      "                                    ---- has_nape_color::brown\n",
      "                               ----|\n",
      "                                         ---- has_forehead_color::brown\n",
      "                                    ----|\n",
      "                                         ---- has_crown_color::brown\n",
      "\n",
      "\n",
      "                          ----|\n",
      "                                         ---- has_upper_tail_color::brown\n",
      "                                    ----|\n",
      "                                         ---- has_under_tail_color::brown\n",
      "\n",
      "                               ----|\n",
      "                                         ---- has_primary_color::brown\n",
      "                                    ----|\n",
      "                                              ---- has_back_color::brown\n",
      "                                         ----|\n",
      "                                                   ---- has_wing_color::brown\n",
      "                                              ----|\n",
      "                                                   ---- has_upperparts_color::brown\n",
      "\n",
      "\n",
      "\n",
      "\n",
      "\n",
      "                     ----|\n",
      "                                    ---- has_size::very_small_(3_-_5_in)\n",
      "                               ----|\n",
      "                                    ---- has_tail_pattern::striped\n",
      "\n",
      "                          ----|\n",
      "                                    ---- has_bill_color::buff\n",
      "                               ----|\n",
      "                                         ---- has_breast_pattern::striped\n",
      "                                    ----|\n",
      "                                              ---- has_leg_color::buff\n",
      "                                         ----|\n",
      "                                                   ---- has_back_pattern::striped\n",
      "                                              ----|\n",
      "                                                   ---- has_wing_pattern::striped\n",
      "\n",
      "\n",
      "\n",
      "\n",
      "\n",
      "\n",
      "\n",
      "\n",
      "\n",
      " ----|\n",
      "                     ---- has_throat_color::yellow\n",
      "                ----|\n",
      "                          ---- has_breast_color::yellow\n",
      "                     ----|\n",
      "                               ---- has_primary_color::yellow\n",
      "                          ----|\n",
      "                                    ---- has_underparts_color::yellow\n",
      "                               ----|\n",
      "                                    ---- has_belly_color::yellow\n",
      "\n",
      "\n",
      "\n",
      "\n",
      "           ----|\n",
      "                          ---- has_nape_color::yellow\n",
      "                     ----|\n",
      "                               ---- has_forehead_color::yellow\n",
      "                          ----|\n",
      "                               ---- has_crown_color::yellow\n",
      "\n",
      "\n",
      "                ----|\n",
      "                          ---- has_back_color::yellow\n",
      "                     ----|\n",
      "                               ---- has_wing_color::yellow\n",
      "                          ----|\n",
      "                               ---- has_upperparts_color::yellow\n",
      "\n",
      "\n",
      "\n",
      "\n",
      "      ----|\n",
      "                          ---- has_forehead_color::blue\n",
      "                     ----|\n",
      "                          ---- has_crown_color::blue\n",
      "\n",
      "                ----|\n",
      "                               ---- has_throat_color::grey\n",
      "                          ----|\n",
      "                                    ---- has_belly_color::grey\n",
      "                               ----|\n",
      "                                         ---- has_underparts_color::grey\n",
      "                                    ----|\n",
      "                                         ---- has_breast_color::grey\n",
      "\n",
      "\n",
      "\n",
      "                     ----|\n",
      "                               ---- has_eye_color::black\n",
      "                          ----|\n",
      "                                              ---- has_nape_color::grey\n",
      "                                         ----|\n",
      "                                                   ---- has_forehead_color::grey\n",
      "                                              ----|\n",
      "                                                   ---- has_crown_color::grey\n",
      "\n",
      "\n",
      "                                    ----|\n",
      "                                                   ---- has_upper_tail_color::grey\n",
      "                                              ----|\n",
      "                                                   ---- has_under_tail_color::grey\n",
      "\n",
      "                                         ----|\n",
      "                                                   ---- has_wing_color::grey\n",
      "                                              ----|\n",
      "                                                        ---- has_primary_color::grey\n",
      "                                                   ----|\n",
      "                                                             ---- has_upperparts_color::grey\n",
      "                                                        ----|\n",
      "                                                             ---- has_back_color::grey\n",
      "\n",
      "\n",
      "\n",
      "\n",
      "\n",
      "                               ----|\n",
      "                                         ---- has_back_pattern::multi-colored\n",
      "                                    ----|\n",
      "                                              ---- has_breast_pattern::multi-colored\n",
      "                                         ----|\n",
      "                                                             ---- has_tail_pattern::multi-colored\n",
      "                                                        ----|\n",
      "                                                             ---- has_wing_pattern::multi-colored\n",
      "\n",
      "                                                   ----|\n",
      "                                                             ---- has_wing_shape::pointed-wings\n",
      "                                                        ----|\n",
      "                                                             ---- has_leg_color::grey\n",
      "\n",
      "\n",
      "                                              ----|\n",
      "                                                        ---- has_bill_color::grey\n",
      "                                                   ----|\n",
      "                                                                  ---- has_bill_shape::cone\n",
      "                                                             ----|\n",
      "                                                                  ---- has_tail_shape::notched_tail\n",
      "\n",
      "                                                        ----|\n",
      "                                                                  ---- has_wing_shape::rounded-wings\n",
      "                                                             ----|\n",
      "                                                                       ---- has_bill_shape::all-purpose\n",
      "                                                                  ----|\n",
      "                                                                            ---- has_size::small_(5_-_9_in)\n",
      "                                                                       ----|\n",
      "                                                                                 ---- has_bill_length::shorter_than_head\n",
      "                                                                            ----|\n",
      "                                                                                 ---- has_shape::perching-like\n",
      "\n",
      "\n",
      "\n",
      "\n",
      "\n",
      "\n",
      "\n",
      "\n",
      "\n",
      "\n",
      "\n",
      "\n",
      "\n",
      "           ----|\n",
      "                          ---- has_shape::duck-like\n",
      "                     ----|\n",
      "                                         ---- has_bill_length::about_the_same_as_head\n",
      "                                    ----|\n",
      "                                         ---- has_size::medium_(9_-_16_in)\n",
      "\n",
      "                               ----|\n",
      "                                              ---- has_head_pattern::plain\n",
      "                                         ----|\n",
      "                                                   ---- has_leg_color::black\n",
      "                                              ----|\n",
      "                                                   ---- has_bill_color::black\n",
      "\n",
      "\n",
      "                                    ----|\n",
      "                                                   ---- has_breast_pattern::solid\n",
      "                                              ----|\n",
      "                                                   ---- has_belly_pattern::solid\n",
      "\n",
      "                                         ----|\n",
      "                                                   ---- has_tail_pattern::solid\n",
      "                                              ----|\n",
      "                                                        ---- has_back_pattern::solid\n",
      "                                                   ----|\n",
      "                                                        ---- has_wing_pattern::solid\n",
      "\n",
      "\n",
      "\n",
      "\n",
      "\n",
      "                          ----|\n",
      "                                         ---- has_breast_color::black\n",
      "                                    ----|\n",
      "                                              ---- has_underparts_color::black\n",
      "                                         ----|\n",
      "                                              ---- has_belly_color::black\n",
      "\n",
      "\n",
      "                               ----|\n",
      "                                                   ---- has_wing_color::black\n",
      "                                              ----|\n",
      "                                                   ---- has_upperparts_color::black\n",
      "\n",
      "                                         ----|\n",
      "                                                   ---- has_upper_tail_color::black\n",
      "                                              ----|\n",
      "                                                   ---- has_under_tail_color::black\n",
      "\n",
      "\n",
      "                                    ----|\n",
      "                                              ---- has_throat_color::black\n",
      "                                         ----|\n",
      "                                                        ---- has_forehead_color::black\n",
      "                                                   ----|\n",
      "                                                        ---- has_crown_color::black\n",
      "\n",
      "                                              ----|\n",
      "                                                        ---- has_nape_color::black\n",
      "                                                   ----|\n",
      "                                                             ---- has_back_color::black\n",
      "                                                        ----|\n",
      "                                                             ---- has_primary_color::black\n",
      "\n",
      "\n",
      "\n",
      "\n",
      "\n",
      "\n",
      "\n",
      "\n",
      "                ----|\n",
      "                                    ---- has_throat_color::white\n",
      "                               ----|\n",
      "                                         ---- has_breast_color::white\n",
      "                                    ----|\n",
      "                                              ---- has_underparts_color::white\n",
      "                                         ----|\n",
      "                                              ---- has_belly_color::white\n",
      "\n",
      "\n",
      "\n",
      "                          ----|\n",
      "                                    ---- has_bill_shape::dagger\n",
      "                               ----|\n",
      "                                              ---- has_wing_color::white\n",
      "                                         ----|\n",
      "                                                   ---- has_upperparts_color::white\n",
      "                                              ----|\n",
      "                                                   ---- has_back_color::white\n",
      "\n",
      "\n",
      "                                    ----|\n",
      "                                                   ---- has_nape_color::white\n",
      "                                              ----|\n",
      "                                                   ---- has_primary_color::white\n",
      "\n",
      "                                         ----|\n",
      "                                                   ---- has_upper_tail_color::white\n",
      "                                              ----|\n",
      "                                                   ---- has_under_tail_color::white\n",
      "\n",
      "\n",
      "\n",
      "\n",
      "\n",
      "                     ----|\n",
      "                               ---- has_bill_shape::hooked_seabird\n",
      "                          ----|\n",
      "                                    ---- has_forehead_color::white\n",
      "                               ----|\n",
      "                                    ---- has_crown_color::white\n"
     ]
    }
   ],
   "source": [
    "print(shapley_hierarchy_cub_44)"
   ]
  },
  {
   "cell_type": "code",
   "execution_count": 105,
   "id": "c06f82cb",
   "metadata": {},
   "outputs": [
    {
     "name": "stdout",
     "output_type": "stream",
     "text": [
      "                          ---- has_upper_tail_color::buff\n",
      "                     ----|\n",
      "                          ---- has_under_tail_color::buff\n",
      "\n",
      "                ----|\n",
      "                               ---- has_upperparts_color::buff\n",
      "                          ----|\n",
      "                                    ---- has_wing_color::buff\n",
      "                               ----|\n",
      "                                    ---- has_back_color::buff\n",
      "\n",
      "\n",
      "                     ----|\n",
      "                               ---- has_nape_color::buff\n",
      "                          ----|\n",
      "                               ---- has_primary_color::buff\n",
      "\n",
      "\n",
      "\n",
      "           ----|\n",
      "                     ---- has_throat_color::buff\n",
      "                ----|\n",
      "                          ---- has_breast_color::buff\n",
      "                     ----|\n",
      "                               ---- has_underparts_color::buff\n",
      "                          ----|\n",
      "                               ---- has_belly_color::buff\n",
      "\n",
      "\n",
      "\n",
      "\n",
      "      ----|\n",
      "                     ---- has_belly_color::brown\n",
      "                ----|\n",
      "                          ---- has_underparts_color::brown\n",
      "                     ----|\n",
      "                          ---- has_breast_color::brown\n",
      "\n",
      "\n",
      "           ----|\n",
      "                          ---- has_head_pattern::eyebrow\n",
      "                     ----|\n",
      "                          ---- has_wing_pattern::spotted\n",
      "\n",
      "                ----|\n",
      "                                    ---- has_nape_color::brown\n",
      "                               ----|\n",
      "                                         ---- has_forehead_color::brown\n",
      "                                    ----|\n",
      "                                         ---- has_crown_color::brown\n",
      "\n",
      "\n",
      "                          ----|\n",
      "                                         ---- has_upper_tail_color::brown\n",
      "                                    ----|\n",
      "                                         ---- has_under_tail_color::brown\n",
      "\n",
      "                               ----|\n",
      "                                         ---- has_primary_color::brown\n",
      "                                    ----|\n",
      "                                              ---- has_back_color::brown\n",
      "                                         ----|\n",
      "                                                   ---- has_wing_color::brown\n",
      "                                              ----|\n",
      "                                                   ---- has_upperparts_color::brown\n",
      "\n",
      "\n",
      "\n",
      "\n",
      "\n",
      "                     ----|\n",
      "                                    ---- has_size::very_small_(3_-_5_in)\n",
      "                               ----|\n",
      "                                    ---- has_tail_pattern::striped\n",
      "\n",
      "                          ----|\n",
      "                                    ---- has_bill_color::buff\n",
      "                               ----|\n",
      "                                         ---- has_breast_pattern::striped\n",
      "                                    ----|\n",
      "                                              ---- has_leg_color::buff\n",
      "                                         ----|\n",
      "                                                   ---- has_back_pattern::striped\n",
      "                                              ----|\n",
      "                                                   ---- has_wing_pattern::striped\n",
      "\n",
      "\n",
      "\n",
      "\n",
      "\n",
      "\n",
      "\n",
      "\n",
      "\n",
      " ----|\n",
      "                     ---- has_throat_color::yellow\n",
      "                ----|\n",
      "                          ---- has_breast_color::yellow\n",
      "                     ----|\n",
      "                               ---- has_primary_color::yellow\n",
      "                          ----|\n",
      "                                    ---- has_underparts_color::yellow\n",
      "                               ----|\n",
      "                                    ---- has_belly_color::yellow\n",
      "\n",
      "\n",
      "\n",
      "\n",
      "           ----|\n",
      "                          ---- has_nape_color::yellow\n",
      "                     ----|\n",
      "                               ---- has_forehead_color::yellow\n",
      "                          ----|\n",
      "                               ---- has_crown_color::yellow\n",
      "\n",
      "\n",
      "                ----|\n",
      "                          ---- has_back_color::yellow\n",
      "                     ----|\n",
      "                               ---- has_wing_color::yellow\n",
      "                          ----|\n",
      "                               ---- has_upperparts_color::yellow\n",
      "\n",
      "\n",
      "\n",
      "\n",
      "      ----|\n",
      "                          ---- has_forehead_color::blue\n",
      "                     ----|\n",
      "                          ---- has_crown_color::blue\n",
      "\n",
      "                ----|\n",
      "                               ---- has_throat_color::grey\n",
      "                          ----|\n",
      "                                    ---- has_belly_color::grey\n",
      "                               ----|\n",
      "                                         ---- has_underparts_color::grey\n",
      "                                    ----|\n",
      "                                         ---- has_breast_color::grey\n",
      "\n",
      "\n",
      "\n",
      "                     ----|\n",
      "                               ---- has_eye_color::black\n",
      "                          ----|\n",
      "                                              ---- has_nape_color::grey\n",
      "                                         ----|\n",
      "                                                   ---- has_forehead_color::grey\n",
      "                                              ----|\n",
      "                                                   ---- has_crown_color::grey\n",
      "\n",
      "\n",
      "                                    ----|\n",
      "                                                   ---- has_upper_tail_color::grey\n",
      "                                              ----|\n",
      "                                                   ---- has_under_tail_color::grey\n",
      "\n",
      "                                         ----|\n",
      "                                                   ---- has_wing_color::grey\n",
      "                                              ----|\n",
      "                                                        ---- has_primary_color::grey\n",
      "                                                   ----|\n",
      "                                                             ---- has_upperparts_color::grey\n",
      "                                                        ----|\n",
      "                                                             ---- has_back_color::grey\n",
      "\n",
      "\n",
      "\n",
      "\n",
      "\n",
      "                               ----|\n",
      "                                         ---- has_back_pattern::multi-colored\n",
      "                                    ----|\n",
      "                                              ---- has_breast_pattern::multi-colored\n",
      "                                         ----|\n",
      "                                                             ---- has_tail_pattern::multi-colored\n",
      "                                                        ----|\n",
      "                                                             ---- has_wing_pattern::multi-colored\n",
      "\n",
      "                                                   ----|\n",
      "                                                             ---- has_wing_shape::pointed-wings\n",
      "                                                        ----|\n",
      "                                                             ---- has_leg_color::grey\n",
      "\n",
      "\n",
      "                                              ----|\n",
      "                                                        ---- has_bill_color::grey\n",
      "                                                   ----|\n",
      "                                                                  ---- has_bill_shape::cone\n",
      "                                                             ----|\n",
      "                                                                  ---- has_tail_shape::notched_tail\n",
      "\n",
      "                                                        ----|\n",
      "                                                                  ---- has_wing_shape::rounded-wings\n",
      "                                                             ----|\n",
      "                                                                       ---- has_bill_shape::all-purpose\n",
      "                                                                  ----|\n",
      "                                                                            ---- has_size::small_(5_-_9_in)\n",
      "                                                                       ----|\n",
      "                                                                                 ---- has_bill_length::shorter_than_head\n",
      "                                                                            ----|\n",
      "                                                                                 ---- has_shape::perching-like\n",
      "\n",
      "\n",
      "\n",
      "\n",
      "\n",
      "\n",
      "\n",
      "\n",
      "\n",
      "\n",
      "\n",
      "\n",
      "\n",
      "           ----|\n",
      "                          ---- has_shape::duck-like\n",
      "                     ----|\n",
      "                                         ---- has_bill_length::about_the_same_as_head\n",
      "                                    ----|\n",
      "                                         ---- has_size::medium_(9_-_16_in)\n",
      "\n",
      "                               ----|\n",
      "                                              ---- has_head_pattern::plain\n",
      "                                         ----|\n",
      "                                                   ---- has_leg_color::black\n",
      "                                              ----|\n",
      "                                                   ---- has_bill_color::black\n",
      "\n",
      "\n",
      "                                    ----|\n",
      "                                                   ---- has_breast_pattern::solid\n",
      "                                              ----|\n",
      "                                                   ---- has_belly_pattern::solid\n",
      "\n",
      "                                         ----|\n",
      "                                                   ---- has_tail_pattern::solid\n",
      "                                              ----|\n",
      "                                                        ---- has_back_pattern::solid\n",
      "                                                   ----|\n",
      "                                                        ---- has_wing_pattern::solid\n",
      "\n",
      "\n",
      "\n",
      "\n",
      "\n",
      "                          ----|\n",
      "                                         ---- has_breast_color::black\n",
      "                                    ----|\n",
      "                                              ---- has_underparts_color::black\n",
      "                                         ----|\n",
      "                                              ---- has_belly_color::black\n",
      "\n",
      "\n",
      "                               ----|\n",
      "                                                   ---- has_wing_color::black\n",
      "                                              ----|\n",
      "                                                   ---- has_upperparts_color::black\n",
      "\n",
      "                                         ----|\n",
      "                                                   ---- has_upper_tail_color::black\n",
      "                                              ----|\n",
      "                                                   ---- has_under_tail_color::black\n",
      "\n",
      "\n",
      "                                    ----|\n",
      "                                              ---- has_throat_color::black\n",
      "                                         ----|\n",
      "                                                        ---- has_forehead_color::black\n",
      "                                                   ----|\n",
      "                                                        ---- has_crown_color::black\n",
      "\n",
      "                                              ----|\n",
      "                                                        ---- has_nape_color::black\n",
      "                                                   ----|\n",
      "                                                             ---- has_back_color::black\n",
      "                                                        ----|\n",
      "                                                             ---- has_primary_color::black\n",
      "\n",
      "\n",
      "\n",
      "\n",
      "\n",
      "\n",
      "\n",
      "\n",
      "                ----|\n",
      "                               ---- has_bill_shape::dagger\n",
      "                          ----|\n",
      "                                         ---- has_throat_color::white\n",
      "                                    ----|\n",
      "                                              ---- has_breast_color::white\n",
      "                                         ----|\n",
      "                                                   ---- has_underparts_color::white\n",
      "                                              ----|\n",
      "                                                   ---- has_belly_color::white\n",
      "\n",
      "\n",
      "\n",
      "                               ----|\n",
      "                                              ---- has_wing_color::white\n",
      "                                         ----|\n",
      "                                                   ---- has_upperparts_color::white\n",
      "                                              ----|\n",
      "                                                   ---- has_back_color::white\n",
      "\n",
      "\n",
      "                                    ----|\n",
      "                                                   ---- has_nape_color::white\n",
      "                                              ----|\n",
      "                                                   ---- has_primary_color::white\n",
      "\n",
      "                                         ----|\n",
      "                                                   ---- has_upper_tail_color::white\n",
      "                                              ----|\n",
      "                                                   ---- has_under_tail_color::white\n",
      "\n",
      "\n",
      "\n",
      "\n",
      "\n",
      "                     ----|\n",
      "                               ---- has_bill_shape::hooked_seabird\n",
      "                          ----|\n",
      "                                    ---- has_forehead_color::white\n",
      "                               ----|\n",
      "                                    ---- has_crown_color::white\n"
     ]
    }
   ],
   "source": [
    "print(shapley_hierarchy_cub_45)"
   ]
  },
  {
   "cell_type": "code",
   "execution_count": 114,
   "id": "bb3caac6",
   "metadata": {},
   "outputs": [],
   "source": [
    "shapley_robustness_hierarchy_cub_43 = create_hierarchy(create_ward_hierarchy, load_label_vectors_simple,CUB_Dataset(),'_image_robustness',CUB_Dataset().get_attributes(),43)"
   ]
  },
  {
   "cell_type": "code",
   "execution_count": 115,
   "id": "2266161a",
   "metadata": {},
   "outputs": [
    {
     "name": "stdout",
     "output_type": "stream",
     "text": [
      "                     ---- has_throat_color::white\n",
      "                ----|\n",
      "                          ---- has_breast_color::white\n",
      "                     ----|\n",
      "                               ---- has_underparts_color::white\n",
      "                          ----|\n",
      "                               ---- has_belly_color::white\n",
      "\n",
      "\n",
      "\n",
      "           ----|\n",
      "                               ---- has_upper_tail_color::grey\n",
      "                          ----|\n",
      "                               ---- has_under_tail_color::grey\n",
      "\n",
      "                     ----|\n",
      "                               ---- has_wing_color::grey\n",
      "                          ----|\n",
      "                                    ---- has_primary_color::grey\n",
      "                               ----|\n",
      "                                         ---- has_upperparts_color::grey\n",
      "                                    ----|\n",
      "                                         ---- has_back_color::grey\n",
      "\n",
      "\n",
      "\n",
      "\n",
      "                ----|\n",
      "                          ---- has_bill_length::about_the_same_as_head\n",
      "                     ----|\n",
      "                                    ---- has_size::medium_(9_-_16_in)\n",
      "                               ----|\n",
      "                                         ---- has_bill_shape::hooked_seabird\n",
      "                                    ----|\n",
      "                                              ---- has_forehead_color::white\n",
      "                                         ----|\n",
      "                                              ---- has_crown_color::white\n",
      "\n",
      "\n",
      "\n",
      "                          ----|\n",
      "                                         ---- has_nape_color::white\n",
      "                                    ----|\n",
      "                                         ---- has_primary_color::white\n",
      "\n",
      "                               ----|\n",
      "                                         ---- has_wing_color::white\n",
      "                                    ----|\n",
      "                                              ---- has_under_tail_color::white\n",
      "                                         ----|\n",
      "                                                   ---- has_upperparts_color::white\n",
      "                                              ----|\n",
      "                                                        ---- has_back_color::white\n",
      "                                                   ----|\n",
      "                                                        ---- has_upper_tail_color::white\n",
      "\n",
      "\n",
      "\n",
      "\n",
      "\n",
      "\n",
      "\n",
      "\n",
      "\n",
      "      ----|\n",
      "                               ---- has_throat_color::yellow\n",
      "                          ----|\n",
      "                                    ---- has_breast_color::yellow\n",
      "                               ----|\n",
      "                                         ---- has_primary_color::yellow\n",
      "                                    ----|\n",
      "                                              ---- has_underparts_color::yellow\n",
      "                                         ----|\n",
      "                                              ---- has_belly_color::yellow\n",
      "\n",
      "\n",
      "\n",
      "\n",
      "                     ----|\n",
      "                                    ---- has_forehead_color::yellow\n",
      "                               ----|\n",
      "                                         ---- has_nape_color::yellow\n",
      "                                    ----|\n",
      "                                         ---- has_crown_color::yellow\n",
      "\n",
      "\n",
      "                          ----|\n",
      "                                    ---- has_back_color::yellow\n",
      "                               ----|\n",
      "                                         ---- has_wing_color::yellow\n",
      "                                    ----|\n",
      "                                         ---- has_upperparts_color::yellow\n",
      "\n",
      "\n",
      "\n",
      "\n",
      "                ----|\n",
      "                                    ---- has_throat_color::grey\n",
      "                               ----|\n",
      "                                         ---- has_belly_color::grey\n",
      "                                    ----|\n",
      "                                              ---- has_underparts_color::grey\n",
      "                                         ----|\n",
      "                                              ---- has_breast_color::grey\n",
      "\n",
      "\n",
      "\n",
      "                          ----|\n",
      "                                    ---- has_nape_color::grey\n",
      "                               ----|\n",
      "                                         ---- has_forehead_color::grey\n",
      "                                    ----|\n",
      "                                         ---- has_crown_color::grey\n",
      "\n",
      "\n",
      "\n",
      "                     ----|\n",
      "                                         ---- has_bill_color::grey\n",
      "                                    ----|\n",
      "                                              ---- has_forehead_color::blue\n",
      "                                         ----|\n",
      "                                              ---- has_crown_color::blue\n",
      "\n",
      "\n",
      "                               ----|\n",
      "                                         ---- has_wing_shape::pointed-wings\n",
      "                                    ----|\n",
      "                                                   ---- has_belly_color::brown\n",
      "                                              ----|\n",
      "                                                        ---- has_underparts_color::brown\n",
      "                                                   ----|\n",
      "                                                        ---- has_breast_color::brown\n",
      "\n",
      "\n",
      "                                         ----|\n",
      "                                                        ---- has_back_pattern::multi-colored\n",
      "                                                   ----|\n",
      "                                                             ---- has_shape::duck-like\n",
      "                                                        ----|\n",
      "                                                                  ---- has_head_pattern::eyebrow\n",
      "                                                             ----|\n",
      "                                                                  ---- has_wing_pattern::spotted\n",
      "\n",
      "\n",
      "\n",
      "                                              ----|\n",
      "                                                        ---- has_bill_shape::dagger\n",
      "                                                   ----|\n",
      "                                                        ---- has_breast_pattern::multi-colored\n",
      "\n",
      "\n",
      "\n",
      "\n",
      "\n",
      "                          ----|\n",
      "                                    ---- has_leg_color::grey\n",
      "                               ----|\n",
      "                                         ---- has_tail_pattern::multi-colored\n",
      "                                    ----|\n",
      "                                         ---- has_wing_pattern::multi-colored\n",
      "\n",
      "\n",
      "\n",
      "\n",
      "\n",
      "           ----|\n",
      "                               ---- has_back_color::brown\n",
      "                          ----|\n",
      "                                    ---- has_wing_color::brown\n",
      "                               ----|\n",
      "                                    ---- has_upperparts_color::brown\n",
      "\n",
      "\n",
      "                     ----|\n",
      "                                    ---- has_upper_tail_color::brown\n",
      "                               ----|\n",
      "                                    ---- has_under_tail_color::brown\n",
      "\n",
      "                          ----|\n",
      "                                    ---- has_nape_color::brown\n",
      "                               ----|\n",
      "                                         ---- has_primary_color::brown\n",
      "                                    ----|\n",
      "                                              ---- has_forehead_color::brown\n",
      "                                         ----|\n",
      "                                              ---- has_crown_color::brown\n",
      "\n",
      "\n",
      "\n",
      "\n",
      "\n",
      "                ----|\n",
      "                               ---- has_bill_shape::cone\n",
      "                          ----|\n",
      "                               ---- has_tail_shape::notched_tail\n",
      "\n",
      "                     ----|\n",
      "                                    ---- has_breast_color::buff\n",
      "                               ----|\n",
      "                                         ---- has_underparts_color::buff\n",
      "                                    ----|\n",
      "                                         ---- has_belly_color::buff\n",
      "\n",
      "\n",
      "                          ----|\n",
      "                                              ---- has_upperparts_color::buff\n",
      "                                         ----|\n",
      "                                                   ---- has_wing_color::buff\n",
      "                                              ----|\n",
      "                                                   ---- has_back_color::buff\n",
      "\n",
      "\n",
      "                                    ----|\n",
      "                                                   ---- has_upper_tail_color::buff\n",
      "                                              ----|\n",
      "                                                   ---- has_under_tail_color::buff\n",
      "\n",
      "                                         ----|\n",
      "                                                   ---- has_primary_color::buff\n",
      "                                              ----|\n",
      "                                                        ---- has_throat_color::buff\n",
      "                                                   ----|\n",
      "                                                        ---- has_nape_color::buff\n",
      "\n",
      "\n",
      "\n",
      "\n",
      "                               ----|\n",
      "                                         ---- has_wing_pattern::striped\n",
      "                                    ----|\n",
      "                                              ---- has_size::very_small_(3_-_5_in)\n",
      "                                         ----|\n",
      "                                                   ---- has_leg_color::buff\n",
      "                                              ----|\n",
      "                                                        ---- has_breast_pattern::striped\n",
      "                                                   ----|\n",
      "                                                             ---- has_tail_pattern::striped\n",
      "                                                        ----|\n",
      "                                                                  ---- has_back_pattern::striped\n",
      "                                                             ----|\n",
      "                                                                  ---- has_bill_color::buff\n",
      "\n",
      "\n",
      "\n",
      "\n",
      "\n",
      "\n",
      "\n",
      "\n",
      "\n",
      "\n",
      "\n",
      "\n",
      " ----|\n",
      "                               ---- has_wing_color::black\n",
      "                          ----|\n",
      "                               ---- has_upperparts_color::black\n",
      "\n",
      "                     ----|\n",
      "                               ---- has_upper_tail_color::black\n",
      "                          ----|\n",
      "                               ---- has_under_tail_color::black\n",
      "\n",
      "\n",
      "                ----|\n",
      "                               ---- has_forehead_color::black\n",
      "                          ----|\n",
      "                               ---- has_crown_color::black\n",
      "\n",
      "                     ----|\n",
      "                               ---- has_throat_color::black\n",
      "                          ----|\n",
      "                                    ---- has_nape_color::black\n",
      "                               ----|\n",
      "                                         ---- has_back_color::black\n",
      "                                    ----|\n",
      "                                         ---- has_primary_color::black\n",
      "\n",
      "\n",
      "\n",
      "\n",
      "\n",
      "           ----|\n",
      "                     ---- has_bill_color::black\n",
      "                ----|\n",
      "                               ---- has_breast_color::black\n",
      "                          ----|\n",
      "                                    ---- has_underparts_color::black\n",
      "                               ----|\n",
      "                                    ---- has_belly_color::black\n",
      "\n",
      "\n",
      "                     ----|\n",
      "                               ---- has_head_pattern::plain\n",
      "                          ----|\n",
      "                               ---- has_leg_color::black\n",
      "\n",
      "\n",
      "\n",
      "\n",
      "      ----|\n",
      "                          ---- has_size::small_(5_-_9_in)\n",
      "                     ----|\n",
      "                               ---- has_bill_length::shorter_than_head\n",
      "                          ----|\n",
      "                               ---- has_shape::perching-like\n",
      "\n",
      "\n",
      "                ----|\n",
      "                          ---- has_bill_shape::all-purpose\n",
      "                     ----|\n",
      "                          ---- has_wing_shape::rounded-wings\n",
      "\n",
      "\n",
      "           ----|\n",
      "                          ---- has_back_pattern::solid\n",
      "                     ----|\n",
      "                               ---- has_tail_pattern::solid\n",
      "                          ----|\n",
      "                               ---- has_wing_pattern::solid\n",
      "\n",
      "\n",
      "                ----|\n",
      "                          ---- has_eye_color::black\n",
      "                     ----|\n",
      "                               ---- has_breast_pattern::solid\n",
      "                          ----|\n",
      "                               ---- has_belly_pattern::solid\n"
     ]
    }
   ],
   "source": [
    "print(shapley_robustness_hierarchy_cub_43)"
   ]
  },
  {
   "cell_type": "code",
   "execution_count": 113,
   "id": "24b92309",
   "metadata": {},
   "outputs": [],
   "source": [
    "label_hierarchy_cub_43 = create_hierarchy(create_ward_hierarchy,load_shapley_vectors_simple,CUB_Dataset(),'',CUB_Dataset().get_attributes(),43)"
   ]
  },
  {
   "cell_type": "code",
   "execution_count": 108,
   "id": "569e7991",
   "metadata": {},
   "outputs": [
    {
     "name": "stdout",
     "output_type": "stream",
     "text": [
      "                     ---- has_throat_color::white\n",
      "                ----|\n",
      "                          ---- has_breast_color::white\n",
      "                     ----|\n",
      "                               ---- has_underparts_color::white\n",
      "                          ----|\n",
      "                               ---- has_belly_color::white\n",
      "\n",
      "\n",
      "\n",
      "           ----|\n",
      "                               ---- has_upper_tail_color::grey\n",
      "                          ----|\n",
      "                               ---- has_under_tail_color::grey\n",
      "\n",
      "                     ----|\n",
      "                               ---- has_wing_color::grey\n",
      "                          ----|\n",
      "                                    ---- has_primary_color::grey\n",
      "                               ----|\n",
      "                                         ---- has_upperparts_color::grey\n",
      "                                    ----|\n",
      "                                         ---- has_back_color::grey\n",
      "\n",
      "\n",
      "\n",
      "\n",
      "                ----|\n",
      "                          ---- has_bill_length::about_the_same_as_head\n",
      "                     ----|\n",
      "                                    ---- has_size::medium_(9_-_16_in)\n",
      "                               ----|\n",
      "                                         ---- has_bill_shape::hooked_seabird\n",
      "                                    ----|\n",
      "                                              ---- has_forehead_color::white\n",
      "                                         ----|\n",
      "                                              ---- has_crown_color::white\n",
      "\n",
      "\n",
      "\n",
      "                          ----|\n",
      "                                         ---- has_nape_color::white\n",
      "                                    ----|\n",
      "                                         ---- has_primary_color::white\n",
      "\n",
      "                               ----|\n",
      "                                         ---- has_wing_color::white\n",
      "                                    ----|\n",
      "                                              ---- has_under_tail_color::white\n",
      "                                         ----|\n",
      "                                                   ---- has_upperparts_color::white\n",
      "                                              ----|\n",
      "                                                        ---- has_back_color::white\n",
      "                                                   ----|\n",
      "                                                        ---- has_upper_tail_color::white\n",
      "\n",
      "\n",
      "\n",
      "\n",
      "\n",
      "\n",
      "\n",
      "\n",
      "\n",
      "      ----|\n",
      "                               ---- has_back_color::brown\n",
      "                          ----|\n",
      "                                    ---- has_wing_color::brown\n",
      "                               ----|\n",
      "                                    ---- has_upperparts_color::brown\n",
      "\n",
      "\n",
      "                     ----|\n",
      "                                    ---- has_upper_tail_color::brown\n",
      "                               ----|\n",
      "                                    ---- has_under_tail_color::brown\n",
      "\n",
      "                          ----|\n",
      "                                    ---- has_nape_color::brown\n",
      "                               ----|\n",
      "                                         ---- has_primary_color::brown\n",
      "                                    ----|\n",
      "                                              ---- has_forehead_color::brown\n",
      "                                         ----|\n",
      "                                              ---- has_crown_color::brown\n",
      "\n",
      "\n",
      "\n",
      "\n",
      "\n",
      "                ----|\n",
      "                               ---- has_bill_shape::cone\n",
      "                          ----|\n",
      "                               ---- has_tail_shape::notched_tail\n",
      "\n",
      "                     ----|\n",
      "                                    ---- has_breast_color::buff\n",
      "                               ----|\n",
      "                                         ---- has_underparts_color::buff\n",
      "                                    ----|\n",
      "                                         ---- has_belly_color::buff\n",
      "\n",
      "\n",
      "                          ----|\n",
      "                                         ---- has_back_pattern::striped\n",
      "                                    ----|\n",
      "                                         ---- has_wing_pattern::striped\n",
      "\n",
      "                               ----|\n",
      "                                              ---- has_upperparts_color::buff\n",
      "                                         ----|\n",
      "                                                   ---- has_wing_color::buff\n",
      "                                              ----|\n",
      "                                                   ---- has_back_color::buff\n",
      "\n",
      "\n",
      "                                    ----|\n",
      "                                                   ---- has_upper_tail_color::buff\n",
      "                                              ----|\n",
      "                                                   ---- has_under_tail_color::buff\n",
      "\n",
      "                                         ----|\n",
      "                                                   ---- has_primary_color::buff\n",
      "                                              ----|\n",
      "                                                        ---- has_throat_color::buff\n",
      "                                                   ----|\n",
      "                                                        ---- has_nape_color::buff\n",
      "\n",
      "\n",
      "\n",
      "\n",
      "\n",
      "\n",
      "\n",
      "\n",
      "           ----|\n",
      "                               ---- has_throat_color::yellow\n",
      "                          ----|\n",
      "                                    ---- has_breast_color::yellow\n",
      "                               ----|\n",
      "                                         ---- has_primary_color::yellow\n",
      "                                    ----|\n",
      "                                              ---- has_underparts_color::yellow\n",
      "                                         ----|\n",
      "                                              ---- has_belly_color::yellow\n",
      "\n",
      "\n",
      "\n",
      "\n",
      "                     ----|\n",
      "                                    ---- has_forehead_color::yellow\n",
      "                               ----|\n",
      "                                         ---- has_nape_color::yellow\n",
      "                                    ----|\n",
      "                                         ---- has_crown_color::yellow\n",
      "\n",
      "\n",
      "                          ----|\n",
      "                                    ---- has_back_color::yellow\n",
      "                               ----|\n",
      "                                         ---- has_wing_color::yellow\n",
      "                                    ----|\n",
      "                                         ---- has_upperparts_color::yellow\n",
      "\n",
      "\n",
      "\n",
      "\n",
      "                ----|\n",
      "                                         ---- has_belly_color::brown\n",
      "                                    ----|\n",
      "                                              ---- has_underparts_color::brown\n",
      "                                         ----|\n",
      "                                              ---- has_breast_color::brown\n",
      "\n",
      "\n",
      "                               ----|\n",
      "                                         ---- has_size::very_small_(3_-_5_in)\n",
      "                                    ----|\n",
      "                                              ---- has_leg_color::buff\n",
      "                                         ----|\n",
      "                                                   ---- has_tail_pattern::striped\n",
      "                                              ----|\n",
      "                                                        ---- has_breast_pattern::striped\n",
      "                                                   ----|\n",
      "                                                        ---- has_bill_color::buff\n",
      "\n",
      "\n",
      "\n",
      "\n",
      "\n",
      "                          ----|\n",
      "                                    ---- has_wing_shape::pointed-wings\n",
      "                               ----|\n",
      "                                                   ---- has_shape::duck-like\n",
      "                                              ----|\n",
      "                                                   ---- has_back_pattern::multi-colored\n",
      "\n",
      "                                         ----|\n",
      "                                                   ---- has_breast_pattern::multi-colored\n",
      "                                              ----|\n",
      "                                                        ---- has_bill_shape::dagger\n",
      "                                                   ----|\n",
      "                                                             ---- has_head_pattern::eyebrow\n",
      "                                                        ----|\n",
      "                                                             ---- has_wing_pattern::spotted\n",
      "\n",
      "\n",
      "\n",
      "\n",
      "                                    ----|\n",
      "                                              ---- has_bill_color::grey\n",
      "                                         ----|\n",
      "                                                   ---- has_forehead_color::blue\n",
      "                                              ----|\n",
      "                                                   ---- has_crown_color::blue\n",
      "\n",
      "\n",
      "\n",
      "\n",
      "\n",
      "                     ----|\n",
      "                                    ---- has_leg_color::grey\n",
      "                               ----|\n",
      "                                         ---- has_tail_pattern::multi-colored\n",
      "                                    ----|\n",
      "                                         ---- has_wing_pattern::multi-colored\n",
      "\n",
      "\n",
      "                          ----|\n",
      "                                         ---- has_throat_color::grey\n",
      "                                    ----|\n",
      "                                              ---- has_belly_color::grey\n",
      "                                         ----|\n",
      "                                                   ---- has_underparts_color::grey\n",
      "                                              ----|\n",
      "                                                   ---- has_breast_color::grey\n",
      "\n",
      "\n",
      "\n",
      "                               ----|\n",
      "                                         ---- has_nape_color::grey\n",
      "                                    ----|\n",
      "                                              ---- has_forehead_color::grey\n",
      "                                         ----|\n",
      "                                              ---- has_crown_color::grey\n",
      "\n",
      "\n",
      "\n",
      "\n",
      "\n",
      "\n",
      "\n",
      "\n",
      " ----|\n",
      "                               ---- has_wing_color::black\n",
      "                          ----|\n",
      "                               ---- has_upperparts_color::black\n",
      "\n",
      "                     ----|\n",
      "                               ---- has_upper_tail_color::black\n",
      "                          ----|\n",
      "                               ---- has_under_tail_color::black\n",
      "\n",
      "\n",
      "                ----|\n",
      "                               ---- has_forehead_color::black\n",
      "                          ----|\n",
      "                               ---- has_crown_color::black\n",
      "\n",
      "                     ----|\n",
      "                               ---- has_throat_color::black\n",
      "                          ----|\n",
      "                                    ---- has_nape_color::black\n",
      "                               ----|\n",
      "                                         ---- has_back_color::black\n",
      "                                    ----|\n",
      "                                         ---- has_primary_color::black\n",
      "\n",
      "\n",
      "\n",
      "\n",
      "\n",
      "           ----|\n",
      "                     ---- has_bill_color::black\n",
      "                ----|\n",
      "                               ---- has_breast_color::black\n",
      "                          ----|\n",
      "                                    ---- has_underparts_color::black\n",
      "                               ----|\n",
      "                                    ---- has_belly_color::black\n",
      "\n",
      "\n",
      "                     ----|\n",
      "                               ---- has_head_pattern::plain\n",
      "                          ----|\n",
      "                               ---- has_leg_color::black\n",
      "\n",
      "\n",
      "\n",
      "\n",
      "      ----|\n",
      "                          ---- has_size::small_(5_-_9_in)\n",
      "                     ----|\n",
      "                               ---- has_bill_length::shorter_than_head\n",
      "                          ----|\n",
      "                               ---- has_shape::perching-like\n",
      "\n",
      "\n",
      "                ----|\n",
      "                          ---- has_bill_shape::all-purpose\n",
      "                     ----|\n",
      "                          ---- has_wing_shape::rounded-wings\n",
      "\n",
      "\n",
      "           ----|\n",
      "                          ---- has_back_pattern::solid\n",
      "                     ----|\n",
      "                               ---- has_tail_pattern::solid\n",
      "                          ----|\n",
      "                               ---- has_wing_pattern::solid\n",
      "\n",
      "\n",
      "                ----|\n",
      "                          ---- has_eye_color::black\n",
      "                     ----|\n",
      "                               ---- has_breast_pattern::solid\n",
      "                          ----|\n",
      "                               ---- has_belly_pattern::solid\n"
     ]
    }
   ],
   "source": [
    "print(label_hierarchy_cub_43)"
   ]
  },
  {
   "cell_type": "code",
   "execution_count": 129,
   "id": "69f2ca0e",
   "metadata": {},
   "outputs": [],
   "source": [
    "normal_vector_distances = flat_distance_to_square(get_concept_distances(load_shapley_vectors_simple,dataset,\"\",dataset.get_attributes(),43))\n",
    "normal_vector_distances_2 = flat_distance_to_square(get_concept_distances(load_shapley_vectors_simple,dataset,\"\",dataset.get_attributes(),44))\n",
    "robust_vector_distances = flat_distance_to_square(get_concept_distances(load_shapley_vectors_simple,dataset,\"_image_robustness\",dataset.get_attributes(),43))"
   ]
  },
  {
   "cell_type": "code",
   "execution_count": 135,
   "id": "6bb574bf",
   "metadata": {},
   "outputs": [
    {
     "data": {
      "text/plain": [
       "0.725"
      ]
     },
     "execution_count": 135,
     "metadata": {},
     "output_type": "execute_result"
    }
   ],
   "source": [
    "k = 5\n",
    "\n",
    "pairs_1 = get_top_k_pairs(normal_vector_distances,k=k)\n",
    "pairs_2 = get_top_k_pairs(robust_vector_distances,k=k)\n",
    "pairs_3 = get_top_k_pairs(normal_vector_distances_2,k=k)\n",
    "\n",
    "intersection = set(pairs_1).intersection(set(pairs_2))\n",
    "len(intersection)/(len(normal_vector_distances)*k)"
   ]
  },
  {
   "cell_type": "code",
   "execution_count": null,
   "id": "0538bf0b",
   "metadata": {},
   "outputs": [],
   "source": []
  },
  {
   "cell_type": "markdown",
   "id": "628f0e81",
   "metadata": {},
   "source": [
    "## Export Concept Vectors"
   ]
  },
  {
   "cell_type": "code",
   "execution_count": 98,
   "id": "475bb080",
   "metadata": {},
   "outputs": [],
   "source": [
    "for seed in [43,44,45]:\n",
    "    for name, embedding_method in zip([\"labels\",\"shapley\",\"cem\",\"vae\",\"concept2vec\"],[load_label_vectors_simple,load_shapley_vectors_simple,\n",
    "                                                            load_cem_vectors_simple,load_vae_vectors_simple,load_concept2vec_vectors_simple]):\n",
    "        all_embeddings =  np.array([embedding_method(i,CUB_Dataset(),\"\",seed=seed)[0] for i in CUB_Dataset().get_attributes()])\n",
    "        np.save(open(\"results/temp/{}_{}.npy\".format(name,seed),\"wb\"),all_embeddings)"
   ]
  },
  {
   "cell_type": "code",
   "execution_count": 30,
   "id": "d0dbccb1",
   "metadata": {},
   "outputs": [
    {
     "ename": "AttributeError",
     "evalue": "'Functional' object has no attribute 'eval'",
     "output_type": "error",
     "traceback": [
      "\u001b[0;31m---------------------------------------------------------------------------\u001b[0m",
      "\u001b[0;31mAttributeError\u001b[0m                            Traceback (most recent call last)",
      "\u001b[0;32m/tmp/ipykernel_3857458/800130538.py\u001b[0m in \u001b[0;36m<module>\u001b[0;34m\u001b[0m\n\u001b[1;32m      1\u001b[0m \u001b[0mmodel\u001b[0m \u001b[0;34m=\u001b[0m \u001b[0mget_large_image_model\u001b[0m\u001b[0;34m(\u001b[0m\u001b[0mdataset\u001b[0m\u001b[0;34m,\u001b[0m\u001b[0mmodel_name\u001b[0m\u001b[0;34m)\u001b[0m\u001b[0;34m\u001b[0m\u001b[0;34m\u001b[0m\u001b[0m\n\u001b[1;32m      2\u001b[0m \u001b[0mmodel\u001b[0m\u001b[0;34m.\u001b[0m\u001b[0mload_weights\u001b[0m\u001b[0;34m(\u001b[0m\u001b[0;34m\"results/models/{}_models/{}_42.h5\"\u001b[0m\u001b[0;34m.\u001b[0m\u001b[0mformat\u001b[0m\u001b[0;34m(\u001b[0m\u001b[0mmodel_name\u001b[0m\u001b[0;34m.\u001b[0m\u001b[0mlower\u001b[0m\u001b[0;34m(\u001b[0m\u001b[0;34m)\u001b[0m\u001b[0;34m,\u001b[0m\u001b[0mdataset\u001b[0m\u001b[0;34m.\u001b[0m\u001b[0mexperiment_name\u001b[0m\u001b[0;34m)\u001b[0m\u001b[0;34m)\u001b[0m\u001b[0;34m\u001b[0m\u001b[0;34m\u001b[0m\u001b[0m\n\u001b[0;32m----> 3\u001b[0;31m \u001b[0mmodel\u001b[0m\u001b[0;34m.\u001b[0m\u001b[0meval\u001b[0m\u001b[0;34m(\u001b[0m\u001b[0;34m)\u001b[0m\u001b[0;34m\u001b[0m\u001b[0;34m\u001b[0m\u001b[0m\n\u001b[0m",
      "\u001b[0;31mAttributeError\u001b[0m: 'Functional' object has no attribute 'eval'"
     ]
    }
   ],
   "source": [
    "model = get_large_image_model(dataset,model_name)\n",
    "model.load_weights(\"results/models/{}_models/{}_42.h5\".format(model_name.lower(),dataset.experiment_name))"
   ]
  },
  {
   "cell_type": "code",
   "execution_count": 53,
   "id": "301cfbd6",
   "metadata": {},
   "outputs": [
    {
     "name": "stdout",
     "output_type": "stream",
     "text": [
      "Found 1198 validated image filenames belonging to 200 classes.\n",
      "38/38 [==============================] - 9s 229ms/step\n"
     ]
    },
    {
     "data": {
      "text/plain": [
       "(112, 200)"
      ]
     },
     "execution_count": 53,
     "metadata": {},
     "output_type": "execute_result"
    }
   ],
   "source": [
    "similarity_matrix = get_model_concept_similarities(dataset,model)\n",
    "similarity_matrix.shape"
   ]
  },
  {
   "cell_type": "code",
   "execution_count": 54,
   "id": "978508f7",
   "metadata": {},
   "outputs": [],
   "source": [
    "shapley_vectors = np.array([load_shapley_vectors_simple(i,dataset,\"\",seed=42)[0] for i in dataset.get_attributes()])"
   ]
  },
  {
   "cell_type": "code",
   "execution_count": 55,
   "id": "b9016dbc",
   "metadata": {},
   "outputs": [
    {
     "data": {
      "text/plain": [
       "array([[-0.00154002, -0.00228546, -0.00373522, ..., -0.00281988,\n",
       "        -0.00386812,  0.00771958],\n",
       "       [ 0.03377431,  0.01300337, -0.00574072, ..., -0.00516757,\n",
       "        -0.00387471,  0.00981994],\n",
       "       [-0.00426624, -0.00549528,  0.00836984, ...,  0.00303919,\n",
       "         0.00029663, -0.00529514],\n",
       "       ...,\n",
       "       [-0.00088717, -0.00367799, -0.0030079 , ..., -0.0044956 ,\n",
       "        -0.00101499, -0.00109161],\n",
       "       [-0.00324722, -0.00442993, -0.00368103, ...,  0.00027132,\n",
       "         0.00821149, -0.00416407],\n",
       "       [ 0.00096188, -0.00145153, -0.0026877 , ...,  0.00486752,\n",
       "        -0.00419491, -0.0029747 ]], dtype=float32)"
      ]
     },
     "execution_count": 55,
     "metadata": {},
     "output_type": "execute_result"
    }
   ],
   "source": [
    "shapley_vectors"
   ]
  },
  {
   "cell_type": "code",
   "execution_count": 56,
   "id": "51e75518",
   "metadata": {},
   "outputs": [
    {
     "data": {
      "text/plain": [
       "array([[-0.00154002, -0.00228546, -0.00373522, ..., -0.00281988,\n",
       "        -0.00386812,  0.00771958],\n",
       "       [ 0.03377431,  0.01300337, -0.00574072, ..., -0.00516757,\n",
       "        -0.00387471,  0.00981994],\n",
       "       [-0.00426624, -0.00549528,  0.00836985, ...,  0.00303919,\n",
       "         0.00029663, -0.00529514],\n",
       "       ...,\n",
       "       [-0.00088717, -0.00367799, -0.0030079 , ..., -0.0044956 ,\n",
       "        -0.00101499, -0.00109161],\n",
       "       [-0.00324722, -0.00442993, -0.00368103, ...,  0.00027132,\n",
       "         0.00821149, -0.00416407],\n",
       "       [ 0.00096188, -0.00145153, -0.0026877 , ...,  0.00486752,\n",
       "        -0.00419491, -0.0029747 ]], dtype=float32)"
      ]
     },
     "execution_count": 56,
     "metadata": {},
     "output_type": "execute_result"
    }
   ],
   "source": [
    "similarity_matrix"
   ]
  },
  {
   "cell_type": "code",
   "execution_count": 27,
   "id": "cec7f2b5",
   "metadata": {},
   "outputs": [
    {
     "name": "stdout",
     "output_type": "stream",
     "text": [
      "Found 1198 validated image filenames belonging to 200 classes.\n"
     ]
    }
   ],
   "source": [
    "datagen = ImageDataGenerator(rescale=1./255)\n",
    "batch_size = 32\n",
    "image_size = (224, 224)\n",
    "\n",
    "num_classes = len(set([i['class_label'] for i in dataset.get_data()]))\n",
    "num_attributes = len(dataset.get_data()[0]['attribute_label'])\n",
    "\n",
    "data_valid = dataset.get_data(train=False)\n",
    "img_paths_valid = ['dataset/'+i['img_path'] for i in data_valid]\n",
    "labels_valid = [str(i['class_label']) for i in data_valid]\n",
    "valid_df = pd.DataFrame(zip(img_paths_valid,labels_valid), columns=[\"image_path\", \"label\"])\n",
    "\n",
    "valid_generator = datagen.flow_from_dataframe(dataframe=valid_df,\n",
    "                                          x_col=\"image_path\",\n",
    "                                          y_col=\"label\",\n",
    "                                          target_size=image_size,\n",
    "                                          batch_size=batch_size,\n",
    "                                          class_mode=\"categorical\",\n",
    "                                          shuffle=False)\n"
   ]
  },
  {
   "cell_type": "code",
   "execution_count": 31,
   "id": "ad47b852",
   "metadata": {},
   "outputs": [
    {
     "name": "stdout",
     "output_type": "stream",
     "text": [
      "38/38 [==============================] - 8s 213ms/step\n"
     ]
    }
   ],
   "source": [
    "predictions = model.predict(valid_generator)"
   ]
  },
  {
   "cell_type": "code",
   "execution_count": 47,
   "id": "15eae9ab",
   "metadata": {},
   "outputs": [],
   "source": [
    "concepts = np.array([i['attribute_label'] for i in data_valid])\n",
    "contribution_array = np.array([[contribution_score(concepts,predictions,concept_num,class_num) for class_num in range(num_classes)]  for concept_num in range(num_attributes)])"
   ]
  },
  {
   "cell_type": "code",
   "execution_count": 48,
   "id": "9c9d9f0d",
   "metadata": {},
   "outputs": [
    {
     "data": {
      "text/plain": [
       "array([[0, 0, 0, ..., 0, 0, 1],\n",
       "       [3, 0, 0, ..., 0, 0, 1],\n",
       "       [0, 0, 4, ..., 1, 0, 0],\n",
       "       ...,\n",
       "       [0, 0, 0, ..., 0, 0, 0],\n",
       "       [0, 0, 0, ..., 1, 1, 0],\n",
       "       [1, 0, 1, ..., 1, 0, 0]])"
      ]
     },
     "execution_count": 48,
     "metadata": {},
     "output_type": "execute_result"
    }
   ],
   "source": [
    "contribution_array"
   ]
  },
  {
   "cell_type": "code",
   "execution_count": 46,
   "id": "b83afd65",
   "metadata": {},
   "outputs": [
    {
     "name": "stdout",
     "output_type": "stream",
     "text": [
      "[ True False False ... False False False]\n",
      "74\n",
      "1198\n"
     ]
    },
    {
     "data": {
      "text/plain": [
       "3"
      ]
     },
     "execution_count": 46,
     "metadata": {},
     "output_type": "execute_result"
    }
   ],
   "source": [
    "contribution_score(concepts,predictions,1,0)"
   ]
  },
  {
   "cell_type": "code",
   "execution_count": 49,
   "id": "7f0a75ec",
   "metadata": {},
   "outputs": [
    {
     "name": "stdout",
     "output_type": "stream",
     "text": [
      "Found 1198 validated image filenames belonging to 200 classes.\n",
      "38/38 [==============================] - 9s 228ms/step\n"
     ]
    }
   ],
   "source": [
    "data = dataset.get_data(train=False)\n",
    "img_paths = ['dataset/'+i['img_path'] for i in data]\n",
    "labels = [str(i['class_label']) for i in data]\n",
    "\n",
    "num_attributes = len(dataset.get_attributes())\n",
    "num_classes = len(set(labels))\n",
    "\n",
    "concept_vectors = {}\n",
    "model_name = \"VGG16\"\n",
    "model = get_large_image_model(dataset,model_name)\n",
    "model.load_weights(\"results/models/{}_models/{}_{}.h5\".format(model_name.lower(),dataset.experiment_name+'',42))\n",
    "\n",
    "datagen = ImageDataGenerator(rescale=1./255)\n",
    "batch_size = 32\n",
    "image_size = (224, 224)\n",
    "\n",
    "valid_df = pd.DataFrame(zip(img_paths,labels), columns=[\"image_path\", \"label\"])\n",
    "\n",
    "valid_generator = datagen.flow_from_dataframe(dataframe=valid_df,\n",
    "                                          x_col=\"image_path\",\n",
    "                                          y_col=\"label\",\n",
    "                                          target_size=image_size,\n",
    "                                          batch_size=batch_size,\n",
    "                                          class_mode=\"categorical\",\n",
    "                                          shuffle=False)\n",
    "\n",
    "predictions = model.predict(valid_generator)\n",
    "\n",
    "concepts = np.array([i['attribute_label'] for i in data[:len(predictions)]])\n",
    "contribution_array = np.array([[contribution_score(concepts,predictions,concept_num,class_num) \n",
    "                                for class_num in range(num_classes)] for concept_num in range(num_attributes)])\n"
   ]
  },
  {
   "cell_type": "code",
   "execution_count": 50,
   "id": "f67f4d5e",
   "metadata": {},
   "outputs": [
    {
     "data": {
      "text/plain": [
       "array([[-0.00154002, -0.00228546, -0.00373522, ..., -0.00281988,\n",
       "        -0.00386812,  0.00771958],\n",
       "       [ 0.03377431,  0.01300337, -0.00574072, ..., -0.00516757,\n",
       "        -0.00387471,  0.00981994],\n",
       "       [-0.00426624, -0.00549527,  0.00836985, ...,  0.00303919,\n",
       "         0.00029663, -0.00529514],\n",
       "       ...,\n",
       "       [-0.00088717, -0.00367799, -0.0030079 , ..., -0.0044956 ,\n",
       "        -0.00101499, -0.00109161],\n",
       "       [-0.00324722, -0.00442992, -0.00368103, ...,  0.00027132,\n",
       "         0.0082115 , -0.00416407],\n",
       "       [ 0.00096188, -0.00145153, -0.0026877 , ...,  0.00486752,\n",
       "        -0.00419491, -0.0029747 ]], dtype=float32)"
      ]
     },
     "execution_count": 50,
     "metadata": {},
     "output_type": "execute_result"
    }
   ],
   "source": [
    "contribution_array"
   ]
  },
  {
   "cell_type": "code",
   "execution_count": 76,
   "id": "221a3415",
   "metadata": {},
   "outputs": [
    {
     "name": "stdout",
     "output_type": "stream",
     "text": [
      "Found 1198 validated image filenames belonging to 200 classes.\n",
      "38/38 [==============================] - 8s 215ms/step\n"
     ]
    }
   ],
   "source": [
    "similarity_matrix = get_model_concept_similarities(dataset,model)"
   ]
  },
  {
   "cell_type": "code",
   "execution_count": 77,
   "id": "233360b0",
   "metadata": {},
   "outputs": [
    {
     "data": {
      "text/plain": [
       "array([[ 1.        ,  0.17645355, -0.35855821, ...,  0.23737512,\n",
       "        -0.28935193,  0.00461934],\n",
       "       [ 0.17645355,  1.        , -0.4931272 , ..., -0.0991226 ,\n",
       "        -0.35281454, -0.0486328 ],\n",
       "       [-0.35855821, -0.4931272 ,  1.        , ..., -0.16656851,\n",
       "         0.13145783,  0.10951849],\n",
       "       ...,\n",
       "       [ 0.23737512, -0.0991226 , -0.16656851, ...,  1.        ,\n",
       "         0.03719031, -0.29870522],\n",
       "       [-0.28935193, -0.35281454,  0.13145783, ...,  0.03719031,\n",
       "         1.        , -0.44677931],\n",
       "       [ 0.00461934, -0.0486328 ,  0.10951849, ..., -0.29870522,\n",
       "        -0.44677931,  1.        ]])"
      ]
     },
     "execution_count": 77,
     "metadata": {},
     "output_type": "execute_result"
    }
   ],
   "source": [
    "similarity_matrix"
   ]
  },
  {
   "cell_type": "code",
   "execution_count": 70,
   "id": "63ee191e",
   "metadata": {},
   "outputs": [],
   "source": [
    "concept = dataset.get_attributes()[0]\n",
    "compare_concepts = 5\n",
    "all_concept_embeddings = np.array([\n",
    "    load_shapley_vectors_simple(i,dataset,\"\",seed=42) for i in dataset.get_attributes()])"
   ]
  },
  {
   "cell_type": "code",
   "execution_count": 71,
   "id": "2a28adf5",
   "metadata": {},
   "outputs": [
    {
     "data": {
      "text/plain": [
       "(112, 1, 200)"
      ]
     },
     "execution_count": 71,
     "metadata": {},
     "output_type": "execute_result"
    }
   ],
   "source": [
    "all_concept_embeddings.shape"
   ]
  },
  {
   "cell_type": "code",
   "execution_count": 74,
   "id": "d6536ca2",
   "metadata": {},
   "outputs": [],
   "source": [
    "co_occuring_concepts = find_similar_conepts_shapley(concept,dataset,similarity_matrix,compare_concepts)\n",
    "co_occuring_concepts_hierarchy = rank_distance_concepts(all_concept_embeddings,dataset,concept,\n",
    "                                                        dataset.get_attributes(),42)[1:1+compare_concepts]"
   ]
  },
  {
   "cell_type": "code",
   "execution_count": 75,
   "id": "23255082",
   "metadata": {},
   "outputs": [
    {
     "data": {
      "text/plain": [
       "['has_bill_shape::hooked_seabird',\n",
       " 'has_bill_shape::all-purpose',\n",
       " 'has_bill_shape::cone',\n",
       " 'has_wing_color::brown',\n",
       " 'has_wing_color::grey']"
      ]
     },
     "execution_count": 75,
     "metadata": {},
     "output_type": "execute_result"
    }
   ],
   "source": [
    "co_occuring_concepts"
   ]
  },
  {
   "cell_type": "code",
   "execution_count": null,
   "id": "aa251dff",
   "metadata": {},
   "outputs": [],
   "source": []
  }
 ],
 "metadata": {
  "kernelspec": {
   "display_name": "Python 3 (ipykernel)",
   "language": "python",
   "name": "python3"
  },
  "language_info": {
   "codemirror_mode": {
    "name": "ipython",
    "version": 3
   },
   "file_extension": ".py",
   "mimetype": "text/x-python",
   "name": "python",
   "nbconvert_exporter": "python",
   "pygments_lexer": "ipython3",
   "version": "3.7.12"
  }
 },
 "nbformat": 4,
 "nbformat_minor": 5
}
