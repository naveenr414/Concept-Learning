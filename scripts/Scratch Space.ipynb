{
 "cells": [
  {
   "cell_type": "code",
   "execution_count": 1,
   "id": "e83e508c",
   "metadata": {},
   "outputs": [],
   "source": [
    "%load_ext autoreload\n",
    "%autoreload 2\n",
    "%matplotlib notebook"
   ]
  },
  {
   "cell_type": "code",
   "execution_count": 2,
   "id": "b3c42d79",
   "metadata": {},
   "outputs": [],
   "source": [
    "import os\n",
    "os.chdir('../')"
   ]
  },
  {
   "cell_type": "code",
   "execution_count": 38,
   "id": "5d4286b7",
   "metadata": {
    "scrolled": true
   },
   "outputs": [],
   "source": [
    "import numpy as np\n",
    "import matplotlib.pyplot as plt\n",
    "import random\n",
    "from src.dataset import *\n",
    "from src.concept_vectors import *\n",
    "from src.util import *\n",
    "from src.plots import *\n",
    "from src.hierarchy import *\n",
    "from src.metrics import *\n",
    "from src.models import * \n",
    "from src.create_vectors import *"
   ]
  },
  {
   "cell_type": "code",
   "execution_count": 4,
   "id": "ae96cc69",
   "metadata": {},
   "outputs": [],
   "source": [
    "import numpy as np\n",
    "import tensorflow as tf\n",
    "from tensorflow import keras\n",
    "from tensorflow.keras import layers\n",
    "from PIL import Image, ImageOps\n",
    "import pickle\n",
    "import sklearn\n",
    "import pandas as pd\n",
    "from keras.applications.vgg16 import VGG16\n",
    "from keras.preprocessing.image import ImageDataGenerator\n",
    "from keras.models import Model\n",
    "from keras.layers import Dense, Flatten\n",
    "from keras.optimizers import Adam\n",
    "from tensorflow.compat.v1 import ConfigProto\n",
    "from tensorflow.compat.v1 import InteractiveSession\n",
    "from scipy.spatial.distance import cdist\n"
   ]
  },
  {
   "cell_type": "code",
   "execution_count": 5,
   "id": "3325ab10",
   "metadata": {},
   "outputs": [],
   "source": [
    "dataset = CUB_Dataset()"
   ]
  },
  {
   "cell_type": "code",
   "execution_count": 16,
   "id": "517f003d",
   "metadata": {},
   "outputs": [
    {
     "ename": "NameError",
     "evalue": "name 'load_shplaey_vectors_simple' is not defined",
     "output_type": "error",
     "traceback": [
      "\u001b[0;31m---------------------------------------------------------------------------\u001b[0m",
      "\u001b[0;31mNameError\u001b[0m                                 Traceback (most recent call last)",
      "\u001b[0;32m/tmp/ipykernel_7321/2896766968.py\u001b[0m in \u001b[0;36m<module>\u001b[0;34m\u001b[0m\n\u001b[0;32m----> 1\u001b[0;31m \u001b[0membedding_method\u001b[0m \u001b[0;34m=\u001b[0m \u001b[0mload_shplaey_vectors_simple\u001b[0m\u001b[0;34m\u001b[0m\u001b[0;34m\u001b[0m\u001b[0m\n\u001b[0m",
      "\u001b[0;31mNameError\u001b[0m: name 'load_shplaey_vectors_simple' is not defined"
     ]
    }
   ],
   "source": [
    "embedding_method = load_shapley_vectors_simple"
   ]
  },
  {
   "cell_type": "code",
   "execution_count": 33,
   "id": "4c1e90b2",
   "metadata": {},
   "outputs": [],
   "source": [
    "for embedding_method in [load_label_vectors_simple,load_vae_concept_vectors_simple,load_cem_vectors_simple,load_concept2vec_vectors_simple,load_cem_stratified_vectors_simple]:\n",
    "    embedding_method(dataset.get_attributes()[0],dataset,\"\",seed=43).shape"
   ]
  },
  {
   "cell_type": "code",
   "execution_count": 28,
   "id": "9a4ae40f",
   "metadata": {},
   "outputs": [
    {
     "name": "stdout",
     "output_type": "stream",
     "text": [
      "Found 4796 validated image filenames belonging to 200 classes.\n",
      "150/150 [==============================] - 790s 5s/step\n"
     ]
    }
   ],
   "source": [
    "create_shapley_vectors(dataset.get_attributes(),dataset,\"\",seed=43)"
   ]
  },
  {
   "cell_type": "code",
   "execution_count": 35,
   "id": "46e86102",
   "metadata": {},
   "outputs": [
    {
     "name": "stdout",
     "output_type": "stream",
     "text": [
      "<function load_shapley_vectors_simple at 0x7f7e5256f290>\n",
      "Found 1198 validated image filenames belonging to 200 classes.\n",
      "38/38 [==============================] - 201s 5s/step\n"
     ]
    },
    {
     "ename": "FileNotFoundError",
     "evalue": "[Errno 2] No such file or directory: 'results/shapley/cub/44/has_bill_length::shorter_than_head.npy'",
     "output_type": "error",
     "traceback": [
      "\u001b[0;31m---------------------------------------------------------------------------\u001b[0m",
      "\u001b[0;31mFileNotFoundError\u001b[0m                         Traceback (most recent call last)",
      "\u001b[0;32m/tmp/ipykernel_7321/2833605882.py\u001b[0m in \u001b[0;36m<module>\u001b[0;34m\u001b[0m\n\u001b[1;32m      1\u001b[0m \u001b[0;32mfor\u001b[0m \u001b[0membedding_method\u001b[0m \u001b[0;32min\u001b[0m \u001b[0;34m[\u001b[0m\u001b[0mload_shapley_vectors_simple\u001b[0m\u001b[0;34m]\u001b[0m\u001b[0;34m:\u001b[0m\u001b[0;34m\u001b[0m\u001b[0;34m\u001b[0m\u001b[0m\n\u001b[1;32m      2\u001b[0m     \u001b[0mprint\u001b[0m\u001b[0;34m(\u001b[0m\u001b[0membedding_method\u001b[0m\u001b[0;34m)\u001b[0m\u001b[0;34m\u001b[0m\u001b[0;34m\u001b[0m\u001b[0m\n\u001b[0;32m----> 3\u001b[0;31m     \u001b[0mt\u001b[0m \u001b[0;34m=\u001b[0m \u001b[0mtruthfulness_metric_shapley\u001b[0m\u001b[0;34m(\u001b[0m\u001b[0membedding_method\u001b[0m\u001b[0;34m,\u001b[0m\u001b[0mdataset\u001b[0m\u001b[0;34m,\u001b[0m\u001b[0mdataset\u001b[0m\u001b[0;34m.\u001b[0m\u001b[0mget_attributes\u001b[0m\u001b[0;34m(\u001b[0m\u001b[0;34m)\u001b[0m\u001b[0;34m,\u001b[0m\u001b[0;34m[\u001b[0m\u001b[0;36m43\u001b[0m\u001b[0;34m,\u001b[0m\u001b[0;36m44\u001b[0m\u001b[0;34m,\u001b[0m\u001b[0;36m45\u001b[0m\u001b[0;34m]\u001b[0m\u001b[0;34m,\u001b[0m\u001b[0mmodel_name\u001b[0m\u001b[0;34m=\u001b[0m\u001b[0;34m\"VGG16\"\u001b[0m\u001b[0;34m)\u001b[0m\u001b[0;34m\u001b[0m\u001b[0;34m\u001b[0m\u001b[0m\n\u001b[0m\u001b[1;32m      4\u001b[0m     \u001b[0mprint\u001b[0m\u001b[0;34m(\u001b[0m\u001b[0;34m\"{} {}\"\u001b[0m\u001b[0;34m.\u001b[0m\u001b[0mformat\u001b[0m\u001b[0;34m(\u001b[0m\u001b[0membedding_method\u001b[0m\u001b[0;34m,\u001b[0m\u001b[0mt\u001b[0m\u001b[0;34m)\u001b[0m\u001b[0;34m)\u001b[0m\u001b[0;34m\u001b[0m\u001b[0;34m\u001b[0m\u001b[0m\n",
      "\u001b[0;32m/auto/homes/njr61/main_code/src/metrics.py\u001b[0m in \u001b[0;36mtruthfulness_metric_shapley\u001b[0;34m(embedding_method, dataset, attributes, random_seeds, model_name, baseline_hierarchies)\u001b[0m\n\u001b[1;32m    348\u001b[0m             \u001b[0mco_occuring_concepts\u001b[0m \u001b[0;34m=\u001b[0m \u001b[0mfind_similar_conepts_shapley\u001b[0m\u001b[0;34m(\u001b[0m\u001b[0mconcept\u001b[0m\u001b[0;34m,\u001b[0m\u001b[0mdataset\u001b[0m\u001b[0;34m,\u001b[0m\u001b[0msimilarity_matrix\u001b[0m\u001b[0;34m,\u001b[0m\u001b[0mcompare_concepts\u001b[0m\u001b[0;34m)\u001b[0m\u001b[0;34m\u001b[0m\u001b[0;34m\u001b[0m\u001b[0m\n\u001b[1;32m    349\u001b[0m             co_occuring_concepts_hierarchy = rank_distance_concepts(embedding_method,dataset,concept,\n\u001b[0;32m--> 350\u001b[0;31m                                                                     co_occuring_concepts,seed)\n\u001b[0m\u001b[1;32m    351\u001b[0m \u001b[0;34m\u001b[0m\u001b[0m\n\u001b[1;32m    352\u001b[0m             \u001b[0;32mif\u001b[0m \u001b[0mlen\u001b[0m\u001b[0;34m(\u001b[0m\u001b[0mco_occuring_concepts\u001b[0m\u001b[0;34m)\u001b[0m \u001b[0;34m==\u001b[0m \u001b[0;36m1\u001b[0m\u001b[0;34m:\u001b[0m\u001b[0;34m\u001b[0m\u001b[0;34m\u001b[0m\u001b[0m\n",
      "\u001b[0;32m/auto/homes/njr61/main_code/src/metrics.py\u001b[0m in \u001b[0;36mrank_distance_concepts\u001b[0;34m(embedding_method, dataset, concept, co_occuring_concepts, seed, metric)\u001b[0m\n\u001b[1;32m    255\u001b[0m     \"\"\"\n\u001b[1;32m    256\u001b[0m \u001b[0;34m\u001b[0m\u001b[0m\n\u001b[0;32m--> 257\u001b[0;31m     \u001b[0membedding_constant\u001b[0m \u001b[0;34m=\u001b[0m \u001b[0membedding_method\u001b[0m\u001b[0;34m(\u001b[0m\u001b[0mconcept\u001b[0m\u001b[0;34m,\u001b[0m\u001b[0mdataset\u001b[0m\u001b[0;34m,\u001b[0m\u001b[0;34m\"\"\u001b[0m\u001b[0;34m,\u001b[0m\u001b[0mseed\u001b[0m\u001b[0;34m=\u001b[0m\u001b[0mseed\u001b[0m\u001b[0;34m)\u001b[0m\u001b[0;34m\u001b[0m\u001b[0;34m\u001b[0m\u001b[0m\n\u001b[0m\u001b[1;32m    258\u001b[0m     \u001b[0membedding_by_concept\u001b[0m \u001b[0;34m=\u001b[0m \u001b[0;34m{\u001b[0m\u001b[0;34m}\u001b[0m\u001b[0;34m\u001b[0m\u001b[0;34m\u001b[0m\u001b[0m\n\u001b[1;32m    259\u001b[0m \u001b[0;34m\u001b[0m\u001b[0m\n",
      "\u001b[0;32m/auto/homes/njr61/main_code/src/concept_vectors.py\u001b[0m in \u001b[0;36mload_shapley_vectors_simple\u001b[0;34m(attribute, dataset, suffix, seed)\u001b[0m\n\u001b[1;32m    736\u001b[0m     \"\"\"\n\u001b[1;32m    737\u001b[0m \u001b[0;34m\u001b[0m\u001b[0m\n\u001b[0;32m--> 738\u001b[0;31m     \u001b[0;32mreturn\u001b[0m \u001b[0mload_vector_from_folder\u001b[0m\u001b[0;34m(\u001b[0m\u001b[0;34m\"shapley\"\u001b[0m\u001b[0;34m)\u001b[0m\u001b[0;34m(\u001b[0m\u001b[0mattribute\u001b[0m\u001b[0;34m,\u001b[0m\u001b[0mdataset\u001b[0m\u001b[0;34m,\u001b[0m\u001b[0msuffix\u001b[0m\u001b[0;34m,\u001b[0m\u001b[0mseed\u001b[0m\u001b[0;34m=\u001b[0m\u001b[0mseed\u001b[0m\u001b[0;34m)\u001b[0m\u001b[0;34m\u001b[0m\u001b[0;34m\u001b[0m\u001b[0m\n\u001b[0m\u001b[1;32m    739\u001b[0m \u001b[0;34m\u001b[0m\u001b[0m\n\u001b[1;32m    740\u001b[0m \u001b[0;34m\u001b[0m\u001b[0m\n",
      "\u001b[0;32m/auto/homes/njr61/main_code/src/concept_vectors.py\u001b[0m in \u001b[0;36mload_vectors_simple\u001b[0;34m(attribute, dataset, suffix, seed)\u001b[0m\n\u001b[1;32m    661\u001b[0m \u001b[0;32mdef\u001b[0m \u001b[0mload_vector_from_folder\u001b[0m\u001b[0;34m(\u001b[0m\u001b[0mfolder_name\u001b[0m\u001b[0;34m)\u001b[0m\u001b[0;34m:\u001b[0m\u001b[0;34m\u001b[0m\u001b[0;34m\u001b[0m\u001b[0m\n\u001b[1;32m    662\u001b[0m     \u001b[0;32mdef\u001b[0m \u001b[0mload_vectors_simple\u001b[0m\u001b[0;34m(\u001b[0m\u001b[0mattribute\u001b[0m\u001b[0;34m,\u001b[0m\u001b[0mdataset\u001b[0m\u001b[0;34m,\u001b[0m\u001b[0msuffix\u001b[0m\u001b[0;34m,\u001b[0m\u001b[0mseed\u001b[0m\u001b[0;34m=\u001b[0m\u001b[0;34m-\u001b[0m\u001b[0;36m1\u001b[0m\u001b[0;34m)\u001b[0m\u001b[0;34m:\u001b[0m\u001b[0;34m\u001b[0m\u001b[0;34m\u001b[0m\u001b[0m\n\u001b[0;32m--> 663\u001b[0;31m         \u001b[0;32mreturn\u001b[0m \u001b[0mnp\u001b[0m\u001b[0;34m.\u001b[0m\u001b[0mload\u001b[0m\u001b[0;34m(\u001b[0m\u001b[0mopen\u001b[0m\u001b[0;34m(\u001b[0m\u001b[0;34m\"results/{}/{}/{}/{}.npy\"\u001b[0m\u001b[0;34m.\u001b[0m\u001b[0mformat\u001b[0m\u001b[0;34m(\u001b[0m\u001b[0mfolder_name\u001b[0m\u001b[0;34m,\u001b[0m\u001b[0mdataset\u001b[0m\u001b[0;34m.\u001b[0m\u001b[0mexperiment_name\u001b[0m\u001b[0;34m+\u001b[0m\u001b[0msuffix\u001b[0m\u001b[0;34m,\u001b[0m\u001b[0mseed\u001b[0m\u001b[0;34m,\u001b[0m\u001b[0mattribute\u001b[0m\u001b[0;34m)\u001b[0m\u001b[0;34m,\u001b[0m\u001b[0;34m\"rb\"\u001b[0m\u001b[0;34m)\u001b[0m\u001b[0;34m,\u001b[0m\u001b[0mallow_pickle\u001b[0m\u001b[0;34m=\u001b[0m\u001b[0;32mTrue\u001b[0m\u001b[0;34m)\u001b[0m\u001b[0;34m\u001b[0m\u001b[0;34m\u001b[0m\u001b[0m\n\u001b[0m\u001b[1;32m    664\u001b[0m \u001b[0;34m\u001b[0m\u001b[0m\n\u001b[1;32m    665\u001b[0m     \u001b[0;32mreturn\u001b[0m \u001b[0mload_vectors_simple\u001b[0m\u001b[0;34m\u001b[0m\u001b[0;34m\u001b[0m\u001b[0m\n",
      "\u001b[0;31mFileNotFoundError\u001b[0m: [Errno 2] No such file or directory: 'results/shapley/cub/44/has_bill_length::shorter_than_head.npy'"
     ]
    }
   ],
   "source": [
    "for embedding_method in [load_shapley_vectors_simple]:\n",
    "    print(embedding_method)\n",
    "    t = truthfulness_metric_shapley(embedding_method,dataset,dataset.get_attributes(),[43,44,45],model_name=\"VGG16\")\n",
    "    print(\"{} {}\".format(embedding_method,t))"
   ]
  },
  {
   "cell_type": "code",
   "execution_count": null,
   "id": "e810a54a",
   "metadata": {},
   "outputs": [],
   "source": [
    "create_shapley_vectors()"
   ]
  },
  {
   "cell_type": "code",
   "execution_count": 10,
   "id": "9e055b15",
   "metadata": {},
   "outputs": [],
   "source": [
    "data = dataset.get_data()"
   ]
  },
  {
   "cell_type": "code",
   "execution_count": 7,
   "id": "2f41dc6a",
   "metadata": {},
   "outputs": [],
   "source": [
    "img_paths = ['dataset/'+i['img_path'] for i in data]\n",
    "labels = [str(i['class_label']) for i in data]"
   ]
  },
  {
   "cell_type": "code",
   "execution_count": 8,
   "id": "e801f3c4",
   "metadata": {},
   "outputs": [
    {
     "name": "stderr",
     "output_type": "stream",
     "text": [
      "2023-03-17 14:17:09.669205: W tensorflow/stream_executor/platform/default/dso_loader.cc:64] Could not load dynamic library 'libcuda.so.1'; dlerror: libcuda.so.1: cannot open shared object file: No such file or directory; LD_LIBRARY_PATH: :/usr/local/cuda/lib64\n",
      "2023-03-17 14:17:09.669259: W tensorflow/stream_executor/cuda/cuda_driver.cc:263] failed call to cuInit: UNKNOWN ERROR (303)\n",
      "2023-03-17 14:17:09.669293: I tensorflow/stream_executor/cuda/cuda_diagnostics.cc:156] kernel driver does not appear to be running on this host (nemo.cl.cam.ac.uk): /proc/driver/nvidia/version does not exist\n",
      "2023-03-17 14:17:09.669572: I tensorflow/core/platform/cpu_feature_guard.cc:193] This TensorFlow binary is optimized with oneAPI Deep Neural Network Library (oneDNN) to use the following CPU instructions in performance-critical operations:  SSE4.1 SSE4.2 AVX FMA\n",
      "To enable them in other operations, rebuild TensorFlow with the appropriate compiler flags.\n"
     ]
    }
   ],
   "source": [
    "vgg = VGG16(weights='imagenet', include_top=False, input_shape=(224, 224, 3))"
   ]
  },
  {
   "cell_type": "code",
   "execution_count": 9,
   "id": "05856a6f",
   "metadata": {},
   "outputs": [],
   "source": [
    "for layer in vgg.layers:\n",
    "    layer.trainable = False"
   ]
  },
  {
   "cell_type": "code",
   "execution_count": 10,
   "id": "d98de456",
   "metadata": {},
   "outputs": [],
   "source": [
    "fc1 = Flatten()(vgg.output)\n",
    "fc1 = Dense(1024, activation='relu')(fc1)\n",
    "output = Dense(200, activation='softmax')(fc1)"
   ]
  },
  {
   "cell_type": "code",
   "execution_count": 11,
   "id": "8ee9d0a1",
   "metadata": {},
   "outputs": [],
   "source": [
    "model = Model(inputs=vgg.input, outputs=output)"
   ]
  },
  {
   "cell_type": "code",
   "execution_count": 12,
   "id": "1f9d74e1",
   "metadata": {},
   "outputs": [
    {
     "name": "stderr",
     "output_type": "stream",
     "text": [
      "/auto/homes/njr61/environments/mambaforge/envs/concepts/lib/python3.7/site-packages/keras/optimizers/optimizer_v2/adam.py:114: UserWarning: The `lr` argument is deprecated, use `learning_rate` instead.\n",
      "  super().__init__(name, **kwargs)\n"
     ]
    }
   ],
   "source": [
    "model.compile(loss='categorical_crossentropy',\n",
    "              optimizer=Adam(lr=0.001),\n",
    "              metrics=['accuracy'])\n"
   ]
  },
  {
   "cell_type": "code",
   "execution_count": 13,
   "id": "c614c3d0",
   "metadata": {},
   "outputs": [],
   "source": [
    "model.load_weights(\"results/models/vgg16_bottleneck.h5\")"
   ]
  },
  {
   "cell_type": "code",
   "execution_count": 14,
   "id": "e458d6b9",
   "metadata": {},
   "outputs": [],
   "source": [
    "datagen = ImageDataGenerator(rescale=1./255)\n",
    "batch_size = 32\n",
    "image_size = (224, 224)\n",
    "train_df = pd.DataFrame(zip(img_paths,labels), columns=[\"image_path\", \"label\"])"
   ]
  },
  {
   "cell_type": "code",
   "execution_count": 15,
   "id": "355ce91a",
   "metadata": {},
   "outputs": [],
   "source": [
    "data_valid = dataset.get_data(train=False)\n",
    "img_paths_valid = ['dataset/'+i['img_path'] for i in data_valid]\n",
    "labels_valid = [str(i['class_label']) for i in data_valid]\n",
    "valid_df = pd.DataFrame(zip(img_paths_valid,labels_valid), columns=[\"image_path\", \"label\"])"
   ]
  },
  {
   "cell_type": "code",
   "execution_count": 16,
   "id": "303e3df6",
   "metadata": {},
   "outputs": [
    {
     "name": "stdout",
     "output_type": "stream",
     "text": [
      "Found 4796 validated image filenames belonging to 200 classes.\n"
     ]
    }
   ],
   "source": [
    "train_generator = datagen.flow_from_dataframe(dataframe=train_df,\n",
    "                                              x_col=\"image_path\",\n",
    "                                              y_col=\"label\",\n",
    "                                              target_size=image_size,\n",
    "                                              batch_size=batch_size,\n",
    "                                              class_mode=\"categorical\",\n",
    "                                              shuffle=True)"
   ]
  },
  {
   "cell_type": "code",
   "execution_count": 17,
   "id": "bce092b6",
   "metadata": {},
   "outputs": [
    {
     "name": "stdout",
     "output_type": "stream",
     "text": [
      "Found 1198 validated image filenames belonging to 200 classes.\n"
     ]
    }
   ],
   "source": [
    "valid_generator = datagen.flow_from_dataframe(dataframe=valid_df,\n",
    "                                              x_col=\"image_path\",\n",
    "                                              y_col=\"label\",\n",
    "                                              target_size=image_size,\n",
    "                                              batch_size=batch_size,\n",
    "                                              class_mode=\"categorical\",\n",
    "                                              shuffle=True)"
   ]
  },
  {
   "cell_type": "code",
   "execution_count": 18,
   "id": "f1dd34e0",
   "metadata": {},
   "outputs": [],
   "source": [
    "# model.fit(train_generator,\n",
    "#           steps_per_epoch=len(train_generator),\n",
    "#           epochs=10)"
   ]
  },
  {
   "cell_type": "code",
   "execution_count": 19,
   "id": "59b9f3e4",
   "metadata": {},
   "outputs": [
    {
     "name": "stdout",
     "output_type": "stream",
     "text": [
      "38/38 [==============================] - 195s 5s/step\n"
     ]
    }
   ],
   "source": [
    "prediction = model.predict(valid_generator)"
   ]
  },
  {
   "cell_type": "code",
   "execution_count": 20,
   "id": "bb00dca1",
   "metadata": {},
   "outputs": [
    {
     "data": {
      "text/plain": [
       "(1198, 200)"
      ]
     },
     "execution_count": 20,
     "metadata": {},
     "output_type": "execute_result"
    }
   ],
   "source": [
    "prediction.shape"
   ]
  },
  {
   "cell_type": "code",
   "execution_count": 21,
   "id": "c43dc7e0",
   "metadata": {},
   "outputs": [],
   "source": [
    "concepts = np.array([i['attribute_label'] for i in data_valid])"
   ]
  },
  {
   "cell_type": "code",
   "execution_count": 22,
   "id": "15c366f0",
   "metadata": {},
   "outputs": [
    {
     "data": {
      "text/plain": [
       "(1198, 112)"
      ]
     },
     "execution_count": 22,
     "metadata": {},
     "output_type": "execute_result"
    }
   ],
   "source": [
    "concepts.shape"
   ]
  },
  {
   "cell_type": "code",
   "execution_count": 23,
   "id": "2b2e321c",
   "metadata": {},
   "outputs": [
    {
     "data": {
      "text/plain": [
       "[102,\n",
       " 74,\n",
       " 482,\n",
       " 303,\n",
       " 293,\n",
       " 305,\n",
       " 55,\n",
       " 470,\n",
       " 247,\n",
       " 161,\n",
       " 276,\n",
       " 363,\n",
       " 82,\n",
       " 484,\n",
       " 205,\n",
       " 155,\n",
       " 79,\n",
       " 110,\n",
       " 155,\n",
       " 195,\n",
       " 526,\n",
       " 180,\n",
       " 757,\n",
       " 100,\n",
       " 99,\n",
       " 266,\n",
       " 329,\n",
       " 48,\n",
       " 308,\n",
       " 139,\n",
       " 139,\n",
       " 368,\n",
       " 212,\n",
       " 231,\n",
       " 345,\n",
       " 138,\n",
       " 109,\n",
       " 61,\n",
       " 245,\n",
       " 82,\n",
       " 102,\n",
       " 160,\n",
       " 203,\n",
       " 443,\n",
       " 146,\n",
       " 63,\n",
       " 118,\n",
       " 242,\n",
       " 437,\n",
       " 78,\n",
       " 1156,\n",
       " 408,\n",
       " 745,\n",
       " 61,\n",
       " 180,\n",
       " 146,\n",
       " 82,\n",
       " 407,\n",
       " 101,\n",
       " 175,\n",
       " 191,\n",
       " 472,\n",
       " 183,\n",
       " 103,\n",
       " 169,\n",
       " 207,\n",
       " 69,\n",
       " 256,\n",
       " 208,\n",
       " 104,\n",
       " 76,\n",
       " 98,\n",
       " 160,\n",
       " 155,\n",
       " 490,\n",
       " 139,\n",
       " 523,\n",
       " 191,\n",
       " 772,\n",
       " 213,\n",
       " 122,\n",
       " 57,\n",
       " 719,\n",
       " 590,\n",
       " 171,\n",
       " 83,\n",
       " 498,\n",
       " 82,\n",
       " 170,\n",
       " 876,\n",
       " 245,\n",
       " 276,\n",
       " 137,\n",
       " 317,\n",
       " 246,\n",
       " 112,\n",
       " 262,\n",
       " 327,\n",
       " 127,\n",
       " 161,\n",
       " 572,\n",
       " 73,\n",
       " 61,\n",
       " 189,\n",
       " 147,\n",
       " 65,\n",
       " 383,\n",
       " 89,\n",
       " 325,\n",
       " 58,\n",
       " 245,\n",
       " 269]"
      ]
     },
     "execution_count": 23,
     "metadata": {},
     "output_type": "execute_result"
    }
   ],
   "source": [
    "[len(concepts[concepts[:,i] == 1]) for i in range(112)]"
   ]
  },
  {
   "cell_type": "code",
   "execution_count": 24,
   "id": "0b25a668",
   "metadata": {},
   "outputs": [],
   "source": [
    "def contribution_score(concept_num,prediction_num):\n",
    "    positive_concept_indices = concepts[:,concept_num] == 1\n",
    "    negative_concept_indices = concepts[:,concept_num] == 0\n",
    "    \n",
    "    logit_values = prediction[positive_concept_indices][:,prediction_num]\n",
    "    logit_values_without = prediction[negative_concept_indices][:,prediction_num]\n",
    "        \n",
    "    return np.mean(logit_values)-np.mean(logit_values_without)"
   ]
  },
  {
   "cell_type": "code",
   "execution_count": 25,
   "id": "d8293d4b",
   "metadata": {},
   "outputs": [
    {
     "data": {
      "text/plain": [
       "0.0076353317"
      ]
     },
     "execution_count": 25,
     "metadata": {},
     "output_type": "execute_result"
    }
   ],
   "source": [
    "contribution_score(0,0)"
   ]
  },
  {
   "cell_type": "code",
   "execution_count": 27,
   "id": "623570c2",
   "metadata": {},
   "outputs": [],
   "source": [
    "contribution_array = [[contribution_score(i,j) for j in range(200)] for i in range(112)]"
   ]
  },
  {
   "cell_type": "code",
   "execution_count": 28,
   "id": "b4a2ebb4",
   "metadata": {},
   "outputs": [],
   "source": [
    "contribution_array = np.array(contribution_array)"
   ]
  },
  {
   "cell_type": "code",
   "execution_count": 33,
   "id": "e3988c6b",
   "metadata": {},
   "outputs": [],
   "source": [
    "def crossentropy(u, v):\n",
    "    ce = np.sum(-u*np.log(v) - (1-u)*np.log(1-v))\n",
    "    dist = np.sqrt(ce)\n",
    "    return dist\n"
   ]
  },
  {
   "cell_type": "code",
   "execution_count": 36,
   "id": "4b0b70a9",
   "metadata": {},
   "outputs": [],
   "source": [
    "dist_array = cdist(contribution_array, contribution_array, metric='cosine')"
   ]
  },
  {
   "cell_type": "code",
   "execution_count": 41,
   "id": "657c336d",
   "metadata": {},
   "outputs": [],
   "source": [
    "similarity_array = 1-dist_array"
   ]
  },
  {
   "cell_type": "code",
   "execution_count": 43,
   "id": "4ceade87",
   "metadata": {},
   "outputs": [
    {
     "data": {
      "text/plain": [
       "array([ 14,  51, 100,  68,   0])"
      ]
     },
     "execution_count": 43,
     "metadata": {},
     "output_type": "execute_result"
    }
   ],
   "source": [
    "largest_indices = np.argsort(similarity_array)[0, -5:]\n",
    "largest_indices"
   ]
  },
  {
   "cell_type": "code",
   "execution_count": null,
   "id": "7ed23151",
   "metadata": {},
   "outputs": [],
   "source": []
  }
 ],
 "metadata": {
  "kernelspec": {
   "display_name": "Python 3 (ipykernel)",
   "language": "python",
   "name": "python3"
  },
  "language_info": {
   "codemirror_mode": {
    "name": "ipython",
    "version": 3
   },
   "file_extension": ".py",
   "mimetype": "text/x-python",
   "name": "python",
   "nbconvert_exporter": "python",
   "pygments_lexer": "ipython3",
   "version": "3.7.12"
  }
 },
 "nbformat": 4,
 "nbformat_minor": 5
}
