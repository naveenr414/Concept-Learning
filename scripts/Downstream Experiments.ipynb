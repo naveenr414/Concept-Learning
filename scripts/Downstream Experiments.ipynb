{
 "cells": [
  {
   "cell_type": "code",
   "execution_count": 1,
   "id": "fa89315b",
   "metadata": {},
   "outputs": [],
   "source": [
    "%load_ext autoreload\n",
    "%autoreload 2"
   ]
  },
  {
   "cell_type": "code",
   "execution_count": 2,
   "id": "e8045af8",
   "metadata": {},
   "outputs": [],
   "source": [
    "import os\n",
    "os.chdir('../')"
   ]
  },
  {
   "cell_type": "code",
   "execution_count": 3,
   "id": "6c385858",
   "metadata": {},
   "outputs": [
    {
     "name": "stderr",
     "output_type": "stream",
     "text": [
      "2023-05-18 10:57:51.840373: I tensorflow/core/platform/cpu_feature_guard.cc:193] This TensorFlow binary is optimized with oneAPI Deep Neural Network Library (oneDNN) to use the following CPU instructions in performance-critical operations:  SSE4.1 SSE4.2 AVX FMA\n",
      "To enable them in other operations, rebuild TensorFlow with the appropriate compiler flags.\n"
     ]
    }
   ],
   "source": [
    "import numpy as np\n",
    "import matplotlib.pyplot as plt\n",
    "import random\n",
    "from scipy.spatial.distance import cdist\n",
    "from src.dataset import *\n",
    "from src.concept_vectors import *\n",
    "from src.util import *\n",
    "from src.plots import *\n",
    "from src.hierarchy import *\n",
    "from src.metrics import *\n",
    "from src.models import * \n",
    "from src.create_vectors import *\n",
    "from sklearn.neighbors import KNeighborsClassifier\n",
    "from sklearn.metrics.pairwise import cosine_similarity\n",
    "from copy import copy\n",
    "from collections import defaultdict, Counter\n",
    "import pickle\n",
    "from sklearn.neural_network import MLPClassifier\n",
    "import time\n",
    "from sklearn.ensemble import RandomForestClassifier"
   ]
  },
  {
   "cell_type": "markdown",
   "id": "80ecb52e",
   "metadata": {},
   "source": [
    "## Dataset and Hierarchy Setup"
   ]
  },
  {
   "cell_type": "code",
   "execution_count": 4,
   "id": "b407e5f8",
   "metadata": {},
   "outputs": [],
   "source": [
    "dataset = CUB_Dataset()"
   ]
  },
  {
   "cell_type": "code",
   "execution_count": 5,
   "id": "12e20aa1",
   "metadata": {},
   "outputs": [],
   "source": [
    "attributes = dataset.get_attributes()"
   ]
  },
  {
   "cell_type": "code",
   "execution_count": 6,
   "id": "6910838a",
   "metadata": {},
   "outputs": [],
   "source": [
    "shapley_hierarchy = create_hierarchy(create_ward_hierarchy, load_shapley_vectors_simple,dataset,'',attributes,43)"
   ]
  },
  {
   "cell_type": "code",
   "execution_count": 7,
   "id": "40c7b653",
   "metadata": {},
   "outputs": [],
   "source": [
    "label_hierarchy = create_hierarchy(create_ward_hierarchy, load_label_vectors_simple,dataset,'',attributes,43)"
   ]
  },
  {
   "cell_type": "code",
   "execution_count": 8,
   "id": "674ebfe8",
   "metadata": {},
   "outputs": [],
   "source": [
    "concept_group_map = defaultdict(list)\n",
    "for i,concept_name in enumerate(attributes):\n",
    "    group = concept_name[:concept_name.find(\"::\")]\n",
    "    concept_group_map[group].append(i)"
   ]
  },
  {
   "cell_type": "code",
   "execution_count": 9,
   "id": "c6519f59",
   "metadata": {},
   "outputs": [],
   "source": [
    "all_groups = list(concept_group_map.keys())"
   ]
  },
  {
   "cell_type": "code",
   "execution_count": 10,
   "id": "1e18d5ce",
   "metadata": {},
   "outputs": [],
   "source": [
    "train = pickle.load(open(\"dataset/{}/preprocessed/train.pkl\".format(dataset.root_folder_name),\"rb\"))\n",
    "val = pickle.load(open(\"dataset/{}/preprocessed/val.pkl\".format(dataset.root_folder_name),\"rb\"))\n",
    "test = pickle.load(open(\"dataset/{}/preprocessed/test.pkl\".format(dataset.root_folder_name),\"rb\"))"
   ]
  },
  {
   "cell_type": "code",
   "execution_count": 11,
   "id": "3798f29b",
   "metadata": {},
   "outputs": [
    {
     "data": {
      "text/plain": [
       "11788"
      ]
     },
     "execution_count": 11,
     "metadata": {},
     "output_type": "execute_result"
    }
   ],
   "source": [
    "len(train) + len(val) + len(test)"
   ]
  },
  {
   "cell_type": "code",
   "execution_count": 12,
   "id": "459695c6",
   "metadata": {},
   "outputs": [],
   "source": [
    "train_paths = set([i['img_path'] for i in train])\n",
    "val_paths = set([i['img_path'] for i in val])\n",
    "test_paths = set([i['img_path'] for i in test])"
   ]
  },
  {
   "cell_type": "code",
   "execution_count": 13,
   "id": "f8dd6ffc",
   "metadata": {},
   "outputs": [
    {
     "data": {
      "text/plain": [
       "set()"
      ]
     },
     "execution_count": 13,
     "metadata": {},
     "output_type": "execute_result"
    }
   ],
   "source": [
    "val_paths.intersection(test_paths)"
   ]
  },
  {
   "cell_type": "code",
   "execution_count": null,
   "id": "2c1499ac",
   "metadata": {},
   "outputs": [],
   "source": [
    "train_data = dataset.get_data()\n",
    "num_columns = train_x.shape[1]"
   ]
  },
  {
   "cell_type": "code",
   "execution_count": null,
   "id": "4106f973",
   "metadata": {},
   "outputs": [],
   "source": [
    "def evaluate_knn(train_x,train_y,valid_x,valid_y):\n",
    "    knn = KNeighborsClassifier(n_neighbors=5)\n",
    "    knn.fit(train_x, train_y)\n",
    "    return sum(knn.predict(valid_x) == valid_y)/len(valid_y)"
   ]
  },
  {
   "cell_type": "markdown",
   "id": "ecc9b961",
   "metadata": {},
   "source": [
    "## Similar Examples"
   ]
  },
  {
   "cell_type": "code",
   "execution_count": 14,
   "id": "bc4e76e7",
   "metadata": {},
   "outputs": [],
   "source": [
    "def find_similar_examples(all_concepts,current_concept,dist_metric):    \n",
    "    distances = cdist(np.atleast_2d(current_concept), all_concepts, metric=dist_metric)\n",
    "    indices = np.argsort(distances.squeeze())[:5]\n",
    "    \n",
    "    return indices"
   ]
  },
  {
   "cell_type": "code",
   "execution_count": 15,
   "id": "ed143cc0",
   "metadata": {},
   "outputs": [],
   "source": [
    "def plot_closest_images(all_concepts,current_concept,concept_idx,dataset,dist_metric):\n",
    "    class_names = dataset.class_names\n",
    "    \n",
    "    close_examples = find_similar_examples(all_concepts,current_concept,dist_metric)\n",
    "    current_img_path = dataset.get_data(train=False)[concept_idx]['img_path']\n",
    "    current_y_val = dataset.get_data(train=False)[concept_idx]['class_label']\n",
    "        \n",
    "    train_data = dataset.get_data()\n",
    "\n",
    "    fig, axes = plt.subplots(1, 6, figsize=(15, 3))\n",
    "    \n",
    "    for i, ax in enumerate(axes):\n",
    "        if i == 0:\n",
    "            ax.set_title(\"Ref: {}\".format(class_names[current_y_val].split(\".\")[1].replace(\"_\",\" \")),fontsize=20)\n",
    "            image = Image.open('dataset/'+current_img_path).resize((64,64))\n",
    "            ax.imshow(image)\n",
    "            ax.axis('off')\n",
    "        else:\n",
    "            j = close_examples[i-1]\n",
    "            ax.set_title(\"{}\".format(class_names[train_data[j]['class_label']].split(\".\")[1].replace(\"_\",\" \")),fontsize=20)\n",
    "            image = Image.open('dataset/'+train_data[j]['img_path']).resize((64,64))\n",
    "            ax.imshow(image)\n",
    "            ax.axis('off')\n",
    "\n",
    "    plt.tight_layout()    "
   ]
  },
  {
   "cell_type": "code",
   "execution_count": 16,
   "id": "a32ef735",
   "metadata": {},
   "outputs": [],
   "source": [
    "def get_new_vals(intervention_idxs,related_concepts,c,true_c=None):\n",
    "    new_c = copy(c)\n",
    "    \n",
    "    if true_c is None:\n",
    "        true_c = copy(c)\n",
    "    else:\n",
    "        for concept_idx in intervention_idxs:\n",
    "            new_c[concept_idx] = true_c[concept_idx]\n",
    "\n",
    "    for concept_idx in range(len(new_c)):\n",
    "        if concept_idx in intervention_idxs:\n",
    "            continue\n",
    "        \n",
    "        full_prob = 0\n",
    "        num_divide = 0\n",
    "        \n",
    "        for reference_concept in related_concepts[concept_idx]:\n",
    "            if reference_concept in intervention_idxs:\n",
    "                num_divide += 1\n",
    "                function, confidence = related_concepts[concept_idx][reference_concept]\n",
    "                true_concept_value = true_c[reference_concept]\n",
    "                \n",
    "                full_prob += confidence*function(true_c[reference_concept]) + (1-confidence)*c[concept_idx]\n",
    "                \n",
    "        if num_divide > 0:\n",
    "            full_prob /= num_divide\n",
    "            new_c[concept_idx] = full_prob\n",
    "            \n",
    "    return new_c"
   ]
  },
  {
   "cell_type": "code",
   "execution_count": 17,
   "id": "0300d3bb",
   "metadata": {},
   "outputs": [],
   "source": [
    "def find_closest_vectors(matrix,num_indices=10):\n",
    "    num_vectors = matrix.shape[0]\n",
    "    sim_matrix = cosine_similarity(matrix)\n",
    "\n",
    "    # Set diagonal to -inf to exclude self-similarity\n",
    "    np.fill_diagonal(sim_matrix, -np.inf)\n",
    "\n",
    "    closest_indices = []\n",
    "    for i in range(num_vectors):\n",
    "        cosine_similarities = sim_matrix[i]\n",
    "        distances = [(j, abs(sim),sim) for j, sim in enumerate(cosine_similarities)]\n",
    "        # Sort by distance in descending order\n",
    "        distances.sort(key=lambda x: x[1], reverse=True)\n",
    "        # Get the indices of the 3 closest vectors (excluding itself)\n",
    "        closest_indices.append([(j, sim) for j, d, sim in distances if j != i][:num_indices])\n",
    "\n",
    "    return closest_indices"
   ]
  },
  {
   "cell_type": "code",
   "execution_count": 18,
   "id": "2197b05a",
   "metadata": {},
   "outputs": [],
   "source": [
    "def get_related_scores(embedding_matrix,power=0,num_indices=10):\n",
    "    closest_vectors = find_closest_vectors(embedding_matrix,num_indices=num_indices)\n",
    "    related_concept2vec = {}\n",
    "    identity_function = lambda s: s\n",
    "    opposite_function = lambda s: 1-s\n",
    "    \n",
    "    n_concepts = num_columns\n",
    "\n",
    "    for i in range(n_concepts):\n",
    "        related_concept2vec[i] = {}\n",
    "\n",
    "        for index,similarity in closest_vectors[i]:\n",
    "            confidence = abs(similarity)**power\n",
    "            if similarity > 0:\n",
    "                related_concept2vec[i][index] = (identity_function,confidence)\n",
    "            else:\n",
    "                related_concept2vec[i][index] = (opposite_function,confidence)\n",
    "                \n",
    "    return related_concept2vec"
   ]
  },
  {
   "cell_type": "code",
   "execution_count": 20,
   "id": "c1c92564",
   "metadata": {},
   "outputs": [],
   "source": [
    "train_x = np.array([i['attribute_label'] for i in dataset.get_data()])\n",
    "train_logits = np.load(\"results/logits/{}/train_c.npy\".format(dataset.experiment_name)) \n",
    "train_y = np.array([i['class_label'] for i in pickle.load(open(\"dataset/{}/preprocessed/train.pkl\".format(dataset.root_folder_name),\"rb\"))])\n",
    "\n",
    "valid_x = np.array([i['attribute_label'] for i in pickle.load(open(\"dataset/{}/preprocessed/val.pkl\".format(dataset.root_folder_name),\"rb\"))])\n",
    "valid_logits = np.load(\"results/logits/{}/valid_c.npy\".format(dataset.experiment_name))\n",
    "valid_y = np.array([i['class_label'] for i in pickle.load(open(\"dataset/{}/preprocessed/val.pkl\".format(dataset.root_folder_name),\"rb\"))])\n",
    "\n",
    "test_x = np.array([i['attribute_label'] for i in pickle.load(open(\"dataset/{}/preprocessed/test.pkl\".format(dataset.root_folder_name),\"rb\"))])\n",
    "test_logits = np.load(\"results/logits/{}/test_c.npy\".format(dataset.experiment_name))\n",
    "test_y = np.array([i['class_label'] for i in pickle.load(open(\"dataset/{}/preprocessed/test.pkl\".format(dataset.root_folder_name),\"rb\"))])"
   ]
  },
  {
   "cell_type": "code",
   "execution_count": 21,
   "id": "070bc123",
   "metadata": {},
   "outputs": [],
   "source": [
    "def dist(x, y, indices):\n",
    "    diff = np.abs(x-y)*indices\n",
    "    return np.mean(diff)"
   ]
  },
  {
   "cell_type": "code",
   "execution_count": 23,
   "id": "33ce608f",
   "metadata": {},
   "outputs": [],
   "source": [
    "def traverse_hierarchy(hierarchy):\n",
    "    all_groups = []\n",
    "    if hierarchy.left_split.leaf or hierarchy.right_split.leaf:\n",
    "        all_groups.append(hierarchy.value)\n",
    "    else:\n",
    "        all_groups += traverse_hierarchy(hierarchy.left_split)\n",
    "        all_groups += traverse_hierarchy(hierarchy.right_split)\n",
    "    \n",
    "    return all_groups \n",
    "\n",
    "def groups_to_indices(groups):\n",
    "    indices = [[dataset.get_attributes().index(j) for j in i] for i in groups]\n",
    "    num_attributes = sum([len(i) for i in indices])\n",
    "    \n",
    "    ret = [1 for i in range(num_attributes)]\n",
    "    \n",
    "    for i in indices:\n",
    "        for j in i:\n",
    "            ret[j] = 1/len(i)\n",
    "            \n",
    "    return np.array(ret)"
   ]
  },
  {
   "cell_type": "code",
   "execution_count": 24,
   "id": "d62f0131",
   "metadata": {},
   "outputs": [],
   "source": [
    "groups_shapley = traverse_hierarchy(shapley_hierarchy.root_split)\n",
    "indices_shapley = groups_to_indices(groups_shapley)"
   ]
  },
  {
   "cell_type": "code",
   "execution_count": 25,
   "id": "fd788ef7",
   "metadata": {},
   "outputs": [
    {
     "data": {
      "image/png": "[encoded data removed]",
      "text/plain": [
       "<Figure size 1500x300 with 6 Axes>"
      ]
     },
     "metadata": {},
     "output_type": "display_data"
    },
    {
     "data": {
      "image/png": "[encoded data removed]",
      "text/plain": [
       "<Figure size 1500x300 with 6 Axes>"
      ]
     },
     "metadata": {},
     "output_type": "display_data"
    }
   ],
   "source": [
    "example_idx = 0\n",
    "plot_closest_images(train_logits,valid_logits[example_idx],example_idx,dataset,lambda x,y: dist(x,y,indices_shapley))\n",
    "plt.savefig(\"./scripts/Figures/close_birds_1.pdf\",bbox_inches=\"tight\")\n",
    "plot_closest_images(train_logits,valid_logits[example_idx+4],example_idx+4,dataset,lambda x,y: dist(x,y,indices_shapley))\n",
    "plt.savefig(\"./scripts/Figures/close_birds_2.pdf\",bbox_inches=\"tight\")"
   ]
  },
  {
   "cell_type": "code",
   "execution_count": 79,
   "id": "4293a1a1",
   "metadata": {},
   "outputs": [],
   "source": [
    "closest_images_y = np.zeros(closest_images.shape)\n",
    "for i in range(len(closest_images_y)):\n",
    "    for j in range(len(closest_images_y[0])):\n",
    "        closest_images_y[i][j] = train_data[closest_images[i][j]]['class_label']"
   ]
  },
  {
   "cell_type": "code",
   "execution_count": 80,
   "id": "aeb35208",
   "metadata": {},
   "outputs": [],
   "source": [
    "real_images_y = np.zeros(real_images.shape)\n",
    "for i in range(len(real_images_y)):\n",
    "    for j in range(len(real_images_y[0])):\n",
    "        real_images_y[i][j] = train_data[real_images[i][j]]['class_label']"
   ]
  },
  {
   "cell_type": "code",
   "execution_count": 81,
   "id": "3ac9e5be",
   "metadata": {},
   "outputs": [
    {
     "data": {
      "text/plain": [
       "0.7561960648947187"
      ]
     },
     "execution_count": 81,
     "metadata": {},
     "output_type": "execute_result"
    }
   ],
   "source": [
    "np.sum(real_images_y == closest_images_y)/(real_images_y.size)"
   ]
  },
  {
   "cell_type": "code",
   "execution_count": 62,
   "id": "71901ad9",
   "metadata": {},
   "outputs": [
    {
     "data": {
      "text/plain": [
       "array([   5,  219,  640, 3124, 1388])"
      ]
     },
     "execution_count": 62,
     "metadata": {},
     "output_type": "execute_result"
    }
   ],
   "source": [
    "find_similar_examples(train_logits,test_logits[0],lambda x,y: dist(x,y,indices_shapley))"
   ]
  },
  {
   "cell_type": "markdown",
   "id": "f96e9aed",
   "metadata": {},
   "source": [
    "## Fixing Classification Errors + Training a KNN"
   ]
  },
  {
   "cell_type": "code",
   "execution_count": 29,
   "id": "f840375e",
   "metadata": {},
   "outputs": [],
   "source": [
    "acc_by_col = [sum(np.round(train_logits[:,i]) == train_x[:,i])/len(train_logits[:,i]) for i in range(num_columns)]\n",
    "best_indices = list(np.argsort(acc_by_col)[::-1])"
   ]
  },
  {
   "cell_type": "code",
   "execution_count": 24,
   "id": "5bf8d91f",
   "metadata": {},
   "outputs": [
    {
     "data": {
      "text/plain": [
       "0.7022222222222222"
      ]
     },
     "execution_count": 24,
     "metadata": {},
     "output_type": "execute_result"
    }
   ],
   "source": [
    "valid_concept_acc = np.sum(np.round(valid_logits) == valid_x)/(valid_x.shape[0]*valid_x.shape[1])\n",
    "valid_concept_acc"
   ]
  },
  {
   "cell_type": "code",
   "execution_count": 25,
   "id": "8cce3104",
   "metadata": {},
   "outputs": [
    {
     "data": {
      "text/plain": [
       "0.7004444444444444"
      ]
     },
     "execution_count": 25,
     "metadata": {},
     "output_type": "execute_result"
    }
   ],
   "source": [
    "test_concept_acc = np.sum(np.round(test_logits) == test_x)/(test_x.shape[0]*test_x.shape[1])\n",
    "test_concept_acc"
   ]
  },
  {
   "cell_type": "code",
   "execution_count": 27,
   "id": "615bc932",
   "metadata": {},
   "outputs": [],
   "source": [
    "def acc(pred,true):\n",
    "    pred = np.array(pred)\n",
    "    true = np.array(true)\n",
    "    return np.sum(pred == true)/true.size"
   ]
  },
  {
   "cell_type": "code",
   "execution_count": null,
   "id": "69dc9ca3",
   "metadata": {},
   "outputs": [],
   "source": [
    "acc(np.round(train_logits), train_x), acc(np.round(valid_logits), valid_x), acc(np.round(test_logits), test_x), "
   ]
  },
  {
   "cell_type": "code",
   "execution_count": 28,
   "id": "2a452093",
   "metadata": {},
   "outputs": [],
   "source": [
    "new_relations_0 = {}\n",
    "new_relations_1 = {}"
   ]
  },
  {
   "cell_type": "code",
   "execution_count": 29,
   "id": "bd9a31d5",
   "metadata": {},
   "outputs": [],
   "source": [
    "for i in range(num_columns):\n",
    "    # See what makes this 0\n",
    "    all_nums = []\n",
    "    \n",
    "    for j in range(num_columns):\n",
    "        if i != j:\n",
    "            times_when_i_0 = 1-train_x[:,i]\n",
    "            times_when_j_0 = 1-train_x[:,j]\n",
    "            total_i_0 = len((times_when_i_0).nonzero()[0])\n",
    "            total_j_0 = len((times_when_j_0).nonzero()[0])\n",
    "            frac_times = len(((times_when_i_0)*(times_when_j_0)).nonzero()[0])\n",
    "            \n",
    "            if total_j_0 != 0:\n",
    "                frac_times /= total_j_0\n",
    "            else:\n",
    "                frac_times = 0\n",
    "            all_nums.append((j,frac_times))\n",
    "            \n",
    "    new_relations_0[i] = sorted(all_nums,key=lambda k: k[1],reverse=True)[:5]"
   ]
  },
  {
   "cell_type": "code",
   "execution_count": 30,
   "id": "b06764d7",
   "metadata": {},
   "outputs": [],
   "source": [
    "for i in range(num_columns):\n",
    "    # See what makes this 0\n",
    "    all_nums = []\n",
    "    \n",
    "    for j in range(num_columns):\n",
    "        if i != j:\n",
    "            times_when_i_1 = train_x[:,i]\n",
    "            times_when_j_1 = train_x[:,j]\n",
    "            total_i_1 = len((times_when_i_1).nonzero()[0])\n",
    "            total_j_1 = len((times_when_j_1).nonzero()[0])\n",
    "            frac_times = len(((times_when_i_1)*(times_when_j_1)).nonzero()[0])\n",
    "            \n",
    "            if total_j_1 != 0:\n",
    "                frac_times /= total_j_1\n",
    "            else:\n",
    "                frac_times = 0\n",
    "            all_nums.append((j,frac_times))\n",
    "            \n",
    "    new_relations_1[i] = sorted(all_nums,key=lambda k: k[1],reverse=True)[:5]"
   ]
  },
  {
   "cell_type": "code",
   "execution_count": 31,
   "id": "53db44bc",
   "metadata": {},
   "outputs": [],
   "source": [
    "def row_to_fix(logits):\n",
    "    x_vals = []\n",
    "    \n",
    "    for i in range(len(logits)):\n",
    "        logit_value = logits[i]\n",
    "        similar_0 = new_relations_0[i]\n",
    "        similar_probs = [k[1] for k in similar_0]\n",
    "        similar_0_logits = [logits[k[0]] for k in similar_0]\n",
    "        \n",
    "        \n",
    "        similar_1 = new_relations_1[i]\n",
    "        similar_probs_1 = [k[1] for k in similar_1]\n",
    "        similar_1_logits = [logits[k[0]] for k in similar_1]\n",
    "        \n",
    "        temp = [logit_value]\n",
    "        temp += similar_probs\n",
    "        temp += similar_0_logits\n",
    "        temp += similar_probs_1\n",
    "        temp += similar_1_logits\n",
    "                \n",
    "        x_vals.append(temp)\n",
    "        \n",
    "    return x_vals\n",
    "\n",
    "def row_to_fix_2(logits):\n",
    "    x_vals = []\n",
    "    \n",
    "    for i in range(len(logits)):\n",
    "        logit_value = logits[i]\n",
    "        similar_0 = new_relations_0[i]\n",
    "        similar_probs = [k[1] for k in similar_0]\n",
    "        similar_0_logits = [logits[k[0]] for k in similar_0]\n",
    "        \n",
    "        \n",
    "        similar_1 = new_relations_1[i]\n",
    "        similar_probs_1 = [k[1] for k in similar_1]\n",
    "        similar_1_logits = [logits[k[0]] for k in similar_1]\n",
    "        \n",
    "        temp = [logit_value]\n",
    "        temp += similar_probs\n",
    "        temp += similar_0_logits\n",
    "        temp += similar_probs_1\n",
    "        temp += similar_1_logits\n",
    "                \n",
    "        x_vals.append(temp)\n",
    "        \n",
    "    return x_vals"
   ]
  },
  {
   "cell_type": "code",
   "execution_count": null,
   "id": "e6a449b0",
   "metadata": {},
   "outputs": [],
   "source": [
    "embedding_matrix = np.array([load_shapley_vectors_simple(a,dataset,\"\",43)[0] for a in dataset.get_attributes()]) #np.load(open(\"results/temp/labels_43.npy\",\"rb\"))\n",
    "sim_matrix = cosine_similarity(embedding_matrix)"
   ]
  },
  {
   "cell_type": "code",
   "execution_count": 32,
   "id": "ae5b35d1",
   "metadata": {},
   "outputs": [],
   "source": [
    "def get_fix_data(logits,x,func=row_to_fix):\n",
    "    fix = []\n",
    "    y = []\n",
    "    \n",
    "    for row in logits:\n",
    "        fix += func(row)\n",
    "    \n",
    "    for row in x:\n",
    "        y += list(row)\n",
    "    fix = np.array(fix)\n",
    "    y = np.array(y)\n",
    "    \n",
    "    return fix, y"
   ]
  },
  {
   "cell_type": "code",
   "execution_count": null,
   "id": "245e11c1",
   "metadata": {},
   "outputs": [],
   "source": [
    "train_fix_concept, train_fix_y = get_fix_data(train_logits,train_x,func=row_to_fix_2)\n",
    "valid_fix_concept, valid_fix_y = get_fix_data(valid_logits,valid_x,func=row_to_fix_2)\n",
    "test_fix_concept, test_fix_y = get_fix_data(test_logits,test_x,func=row_to_fix_2)"
   ]
  },
  {
   "cell_type": "code",
   "execution_count": null,
   "id": "426927f8",
   "metadata": {},
   "outputs": [],
   "source": [
    "clf_concept = MLPClassifier(max_iter=100)\n",
    "start = time.time()\n",
    "clf_concept.fit(train_fix_concept,train_fix_y)\n",
    "print(\"Took {} time\".format(time.time()-start))"
   ]
  },
  {
   "cell_type": "code",
   "execution_count": null,
   "id": "9b1141eb",
   "metadata": {},
   "outputs": [],
   "source": [
    "train_predict_concept_proba = clf_concept.predict_proba(train_fix_concept)[:,1].reshape(train_x.shape)\n",
    "valid_predict_concept_proba = clf_concept.predict_proba(valid_fix_concept)[:,1].reshape(valid_x.shape)\n",
    "test_predict_concept_proba = clf_concept.predict_proba(test_fix_concept)[:,1].reshape(test_x.shape)"
   ]
  },
  {
   "cell_type": "code",
   "execution_count": 44,
   "id": "83124cd0",
   "metadata": {},
   "outputs": [
    {
     "data": {
      "text/plain": [
       "0.6786310517529215"
      ]
     },
     "execution_count": 44,
     "metadata": {},
     "output_type": "execute_result"
    }
   ],
   "source": [
    "evaluate_knn(train_logits,train_y,valid_logits,valid_y)"
   ]
  },
  {
   "cell_type": "code",
   "execution_count": 45,
   "id": "645e782f",
   "metadata": {},
   "outputs": [
    {
     "data": {
      "text/plain": [
       "0.6477462437395659"
      ]
     },
     "execution_count": 45,
     "metadata": {},
     "output_type": "execute_result"
    }
   ],
   "source": [
    "evaluate_knn(np.round(train_logits),train_y,np.round(valid_logits),valid_y)"
   ]
  },
  {
   "cell_type": "code",
   "execution_count": null,
   "id": "044fed71",
   "metadata": {},
   "outputs": [],
   "source": [
    "evaluate_knn(train_predict_concept_proba,train_y,valid_predict_concept_proba,valid_y)"
   ]
  },
  {
   "cell_type": "markdown",
   "id": "0da83029",
   "metadata": {},
   "source": [
    "## Some modifications to this method"
   ]
  },
  {
   "cell_type": "markdown",
   "id": "db2a5fee",
   "metadata": {},
   "source": [
    "### Using a Random Forest"
   ]
  },
  {
   "cell_type": "code",
   "execution_count": 47,
   "id": "9bcbae77",
   "metadata": {},
   "outputs": [],
   "source": [
    "clf_rf = RandomForestClassifier()"
   ]
  },
  {
   "cell_type": "code",
   "execution_count": 48,
   "id": "1a05a1ac",
   "metadata": {},
   "outputs": [
    {
     "name": "stdout",
     "output_type": "stream",
     "text": [
      "Took 303.15066361427307 time\n"
     ]
    }
   ],
   "source": [
    "start = time.time()\n",
    "clf_rf.fit(train_fix,train_fix_y)\n",
    "print(\"Took {} time\".format(time.time()-start))"
   ]
  },
  {
   "cell_type": "code",
   "execution_count": 49,
   "id": "5c31bd5f",
   "metadata": {},
   "outputs": [],
   "source": [
    "train_predict_rf = clf_rf.predict(train_fix).reshape(train_x.shape)\n",
    "valid_predict_rf = clf_rf.predict(valid_fix).reshape(valid_x.shape)\n",
    "test_predict_rf = clf_rf.predict(test_fix).reshape(test_x.shape)"
   ]
  },
  {
   "cell_type": "code",
   "execution_count": 47,
   "id": "6a422016",
   "metadata": {},
   "outputs": [
    {
     "data": {
      "text/plain": [
       "(1.0, 0.8876296296296297, 0.8899259259259259)"
      ]
     },
     "execution_count": 47,
     "metadata": {},
     "output_type": "execute_result"
    }
   ],
   "source": [
    "acc(train_predict_rf, train_x), acc(valid_predict_rf, valid_x), acc(test_predict_rf, test_x)"
   ]
  },
  {
   "cell_type": "code",
   "execution_count": 48,
   "id": "dbc0bba9",
   "metadata": {},
   "outputs": [
    {
     "data": {
      "text/plain": [
       "0.644"
      ]
     },
     "execution_count": 48,
     "metadata": {},
     "output_type": "execute_result"
    }
   ],
   "source": [
    "evaluate_knn(train_predict_rf,train_y,valid_predict_rf,valid_y)"
   ]
  },
  {
   "cell_type": "code",
   "execution_count": 49,
   "id": "09d4b5b2",
   "metadata": {},
   "outputs": [],
   "source": [
    "train_predict_rf_proba = clf_rf.predict_proba(train_fix)[:,1].reshape(train_x.shape)\n",
    "valid_predict_rf_proba = clf_rf.predict_proba(valid_fix)[:,1].reshape(valid_x.shape)\n",
    "test_predict_rf_proba = clf_rf.predict_proba(test_fix)[:,1].reshape(test_x.shape)"
   ]
  },
  {
   "cell_type": "code",
   "execution_count": 50,
   "id": "012a09c0",
   "metadata": {},
   "outputs": [
    {
     "data": {
      "text/plain": [
       "0.6813333333333333"
      ]
     },
     "execution_count": 50,
     "metadata": {},
     "output_type": "execute_result"
    }
   ],
   "source": [
    "evaluate_knn(train_predict_rf_proba,train_y,valid_predict_rf_proba,valid_y)"
   ]
  },
  {
   "cell_type": "markdown",
   "id": "53e49d05",
   "metadata": {},
   "source": [
    "### Use Only the Logits"
   ]
  },
  {
   "cell_type": "code",
   "execution_count": 81,
   "id": "a2354f9e",
   "metadata": {},
   "outputs": [],
   "source": [
    "clf_trimmed = MLPClassifier(max_iter=100)"
   ]
  },
  {
   "cell_type": "code",
   "execution_count": 82,
   "id": "adb1a6d4",
   "metadata": {},
   "outputs": [
    {
     "name": "stdout",
     "output_type": "stream",
     "text": [
      "Took 95.71928715705872 time\n"
     ]
    },
    {
     "name": "stderr",
     "output_type": "stream",
     "text": [
      "/auto/homes/njr61/environments/mambaforge/envs/concepts/lib/python3.7/site-packages/sklearn/neural_network/_multilayer_perceptron.py:696: ConvergenceWarning: Stochastic Optimizer: Maximum iterations (100) reached and the optimization hasn't converged yet.\n",
      "  ConvergenceWarning,\n"
     ]
    }
   ],
   "source": [
    "start = time.time()\n",
    "clf_trimmed.fit(train_fix[:,:1],train_fix_y)\n",
    "print(\"Took {} time\".format(time.time()-start))"
   ]
  },
  {
   "cell_type": "code",
   "execution_count": 83,
   "id": "99d8390e",
   "metadata": {},
   "outputs": [],
   "source": [
    "train_predict_trimmed = clf_trimmed.predict(train_fix[:,:1]).reshape(train_x.shape)\n",
    "valid_predict_trimmed = clf_trimmed.predict(valid_fix[:,:1]).reshape(valid_x.shape)\n",
    "test_predict_trimmed = clf_trimmed.predict(test_fix[:,:1]).reshape(test_x.shape)"
   ]
  },
  {
   "cell_type": "code",
   "execution_count": 84,
   "id": "83c1ec48",
   "metadata": {},
   "outputs": [
    {
     "data": {
      "text/plain": [
       "(0.7588222222222222, 0.7575555555555555, 0.7579259259259259)"
      ]
     },
     "execution_count": 84,
     "metadata": {},
     "output_type": "execute_result"
    }
   ],
   "source": [
    "acc(train_predict_trimmed, train_x), acc(valid_predict_trimmed, valid_x), acc(test_predict_trimmed, test_x)"
   ]
  },
  {
   "cell_type": "code",
   "execution_count": 85,
   "id": "e5ef47ec",
   "metadata": {},
   "outputs": [
    {
     "data": {
      "text/plain": [
       "0.35333333333333333"
      ]
     },
     "execution_count": 85,
     "metadata": {},
     "output_type": "execute_result"
    }
   ],
   "source": [
    "evaluate_knn(train_predict_trimmed,train_y,valid_predict_trimmed,valid_y)"
   ]
  },
  {
   "cell_type": "markdown",
   "id": "52da5f5b",
   "metadata": {},
   "source": [
    "### Test set"
   ]
  },
  {
   "cell_type": "code",
   "execution_count": 50,
   "id": "758fd3b7",
   "metadata": {},
   "outputs": [
    {
     "data": {
      "text/plain": [
       "0.6731101139109423"
      ]
     },
     "execution_count": 50,
     "metadata": {},
     "output_type": "execute_result"
    }
   ],
   "source": [
    "evaluate_knn(train_logits,train_y,test_logits,test_y)"
   ]
  },
  {
   "cell_type": "code",
   "execution_count": 51,
   "id": "4a4fc81d",
   "metadata": {},
   "outputs": [
    {
     "data": {
      "text/plain": [
       "0.6280635139799793"
      ]
     },
     "execution_count": 51,
     "metadata": {},
     "output_type": "execute_result"
    }
   ],
   "source": [
    "evaluate_knn(np.round(train_logits),train_y,np.round(test_logits),test_y)"
   ]
  },
  {
   "cell_type": "code",
   "execution_count": 54,
   "id": "0c7af732",
   "metadata": {},
   "outputs": [
    {
     "data": {
      "text/plain": [
       "0.6556782878840179"
      ]
     },
     "execution_count": 54,
     "metadata": {},
     "output_type": "execute_result"
    }
   ],
   "source": [
    "evaluate_knn(train_predict_rf,train_y,test_predict_rf,test_y)"
   ]
  },
  {
   "cell_type": "code",
   "execution_count": 55,
   "id": "7b004bf7",
   "metadata": {},
   "outputs": [
    {
     "data": {
      "text/plain": [
       "0.6556782878840179"
      ]
     },
     "execution_count": 55,
     "metadata": {},
     "output_type": "execute_result"
    }
   ],
   "source": [
    "evaluate_knn(np.round(train_predict_rf),train_y,np.round(test_predict_rf),test_y)"
   ]
  },
  {
   "cell_type": "code",
   "execution_count": 92,
   "id": "2305cfee",
   "metadata": {},
   "outputs": [
    {
     "data": {
      "text/plain": [
       "0.58"
      ]
     },
     "execution_count": 92,
     "metadata": {},
     "output_type": "execute_result"
    }
   ],
   "source": [
    "evaluate_knn(train_predict_concept_proba,train_y,test_predict_concept_proba,test_y)"
   ]
  },
  {
   "cell_type": "code",
   "execution_count": 94,
   "id": "00985692",
   "metadata": {},
   "outputs": [
    {
     "data": {
      "text/plain": [
       "0.36"
      ]
     },
     "execution_count": 94,
     "metadata": {},
     "output_type": "execute_result"
    }
   ],
   "source": [
    "evaluate_knn(train_predict_trimmed,train_y,test_predict_trimmed,test_y)"
   ]
  },
  {
   "cell_type": "markdown",
   "id": "86d5ddf6",
   "metadata": {},
   "source": [
    "## Running for multiple trials"
   ]
  },
  {
   "cell_type": "code",
   "execution_count": 41,
   "id": "c034114c",
   "metadata": {},
   "outputs": [],
   "source": [
    "eval_baseline = []\n",
    "eval_baseline_round = []\n",
    "for i in range(3):\n",
    "    np.random.seed(i+43)\n",
    "    eval_baseline.append(evaluate_knn(train_logits,train_y,test_logits,test_y))\n",
    "    eval_baseline_round.append(evaluate_knn(np.round(train_logits),train_y,np.round(test_logits),test_y))"
   ]
  },
  {
   "cell_type": "code",
   "execution_count": 42,
   "id": "ed927a63",
   "metadata": {},
   "outputs": [
    {
     "data": {
      "text/plain": [
       "([0.6731101139109423, 0.6731101139109423, 0.6731101139109423],\n",
       " [0.6280635139799793, 0.6280635139799793, 0.6280635139799793])"
      ]
     },
     "execution_count": 42,
     "metadata": {},
     "output_type": "execute_result"
    }
   ],
   "source": [
    "eval_baseline, eval_baseline_round"
   ]
  },
  {
   "cell_type": "code",
   "execution_count": 43,
   "id": "8d4489ec",
   "metadata": {},
   "outputs": [
    {
     "data": {
      "text/plain": [
       "(0.6731101139109423, 0.0, 0.6280635139799793, 0.0)"
      ]
     },
     "execution_count": 43,
     "metadata": {},
     "output_type": "execute_result"
    }
   ],
   "source": [
    "np.mean(eval_baseline), np.std(eval_baseline),np.mean(eval_baseline_round),np.std(eval_baseline_round)"
   ]
  },
  {
   "cell_type": "code",
   "execution_count": 44,
   "id": "d7bfe742",
   "metadata": {},
   "outputs": [
    {
     "name": "stdout",
     "output_type": "stream",
     "text": [
      "On 0\n",
      "On 1\n",
      "On 2\n"
     ]
    }
   ],
   "source": [
    "eval_ours = []\n",
    "eval_ours_round = []\n",
    "for i in range(3):\n",
    "    np.random.seed(i+43)\n",
    "    print(\"On {}\".format(i))\n",
    "    embedding_matrix = np.array([load_label_vectors_simple(a,dataset,\"\",43)[0] for a in dataset.get_attributes()])\n",
    "    sim_matrix = cosine_similarity(embedding_matrix)\n",
    "    clf_concept = MLPClassifier(max_iter=100)\n",
    "    \n",
    "    train_fix_concept, train_fix_y = get_fix_data(train_logits,train_x,func=row_to_fix_2)\n",
    "    valid_fix_concept, valid_fix_y = get_fix_data(valid_logits,valid_x,func=row_to_fix_2)\n",
    "    test_fix_concept, test_fix_y = get_fix_data(test_logits,test_x,func=row_to_fix_2)\n",
    "    \n",
    "    clf_concept.fit(train_fix_concept,train_fix_y)\n",
    "    train_predict_concept_proba = clf_concept.predict_proba(train_fix_concept)[:,1].reshape(train_x.shape)\n",
    "    valid_predict_concept_proba = clf_concept.predict_proba(valid_fix_concept)[:,1].reshape(valid_x.shape)\n",
    "    test_predict_concept_proba = clf_concept.predict_proba(test_fix_concept)[:,1].reshape(test_x.shape)\n",
    "    eval_ours.append(evaluate_knn(train_predict_concept_proba,train_y,test_predict_concept_proba,test_y))\n",
    "    eval_ours_round.append(evaluate_knn(np.round(train_predict_concept_proba),train_y,np.round(test_predict_concept_proba),test_y))"
   ]
  },
  {
   "cell_type": "code",
   "execution_count": 45,
   "id": "c50ff076",
   "metadata": {},
   "outputs": [
    {
     "data": {
      "text/plain": [
       "([0.6762167759751467, 0.6824301001035554, 0.6781152916810493],\n",
       " [0.6534345875043148, 0.6556782878840179, 0.6511908871246117])"
      ]
     },
     "execution_count": 45,
     "metadata": {},
     "output_type": "execute_result"
    }
   ],
   "source": [
    "eval_ours, eval_ours_round"
   ]
  },
  {
   "cell_type": "code",
   "execution_count": 46,
   "id": "e20471c8",
   "metadata": {},
   "outputs": [
    {
     "data": {
      "text/plain": [
       "(0.6789207225865838,\n",
       " 0.002599729266527446,\n",
       " 0.6534345875043148,\n",
       " 0.0018319736886538362)"
      ]
     },
     "execution_count": 46,
     "metadata": {},
     "output_type": "execute_result"
    }
   ],
   "source": [
    "np.mean(eval_ours), np.std(eval_ours),np.mean(eval_ours_round),np.std(eval_ours_round)"
   ]
  },
  {
   "cell_type": "code",
   "execution_count": 49,
   "id": "5385f03e",
   "metadata": {},
   "outputs": [
    {
     "name": "stdout",
     "output_type": "stream",
     "text": [
      "On 0\n",
      "On 1\n",
      "On 2\n"
     ]
    }
   ],
   "source": [
    "eval_rf = []\n",
    "eval_rf_round = []\n",
    "for i in range(3):\n",
    "    np.random.seed(i+43)\n",
    "    print(\"On {}\".format(i))\n",
    "    embedding_matrix = np.array([load_label_vectors_simple(a,dataset,\"\",43)[0] for a in dataset.get_attributes()])\n",
    "    sim_matrix = cosine_similarity(embedding_matrix)\n",
    "    clf_concept = RandomForestClassifier()\n",
    "    \n",
    "    train_fix_concept, train_fix_y = get_fix_data(train_logits,train_x,func=row_to_fix_2)\n",
    "    valid_fix_concept, valid_fix_y = get_fix_data(valid_logits,valid_x,func=row_to_fix_2)\n",
    "    test_fix_concept, test_fix_y = get_fix_data(test_logits,test_x,func=row_to_fix_2)\n",
    "    \n",
    "    clf_concept.fit(train_fix_concept,train_fix_y)\n",
    "    train_predict_concept_proba = clf_concept.predict_proba(train_fix_concept)[:,1].reshape(train_x.shape)\n",
    "    valid_predict_concept_proba = clf_concept.predict_proba(valid_fix_concept)[:,1].reshape(valid_x.shape)\n",
    "    test_predict_concept_proba = clf_concept.predict_proba(test_fix_concept)[:,1].reshape(test_x.shape)\n",
    "    eval_rf.append(evaluate_knn(train_predict_concept_proba,train_y,test_predict_concept_proba,test_y))\n",
    "    eval_rf_round.append(evaluate_knn(np.round(train_predict_concept_proba),train_y,np.round(test_predict_concept_proba),test_y))"
   ]
  },
  {
   "cell_type": "code",
   "execution_count": 50,
   "id": "994815af",
   "metadata": {},
   "outputs": [
    {
     "data": {
      "text/plain": [
       "([0.6767345529858474, 0.6772523299965482, 0.6788056610286504],\n",
       " [0.6527442181567138, 0.6506731101139109, 0.6582671729375216])"
      ]
     },
     "execution_count": 50,
     "metadata": {},
     "output_type": "execute_result"
    }
   ],
   "source": [
    "eval_rf, eval_rf_round"
   ]
  },
  {
   "cell_type": "code",
   "execution_count": 51,
   "id": "294a9b9c",
   "metadata": {},
   "outputs": [
    {
     "data": {
      "text/plain": [
       "(0.6775975146703486,\n",
       " 0.0008800516937509391,\n",
       " 0.6538948337360487,\n",
       " 0.0032052441093508573)"
      ]
     },
     "execution_count": 51,
     "metadata": {},
     "output_type": "execute_result"
    }
   ],
   "source": [
    "np.mean(eval_rf), np.std(eval_rf),np.mean(eval_rf_round),np.std(eval_rf_round)"
   ]
  },
  {
   "cell_type": "markdown",
   "id": "5688be7d",
   "metadata": {},
   "source": [
    "### Write the predict probabilities as the new training dataset; see how MLPs do"
   ]
  },
  {
   "cell_type": "code",
   "execution_count": 121,
   "id": "f01a96ec",
   "metadata": {},
   "outputs": [],
   "source": [
    "np.save(open(\"results/logits/{}/train_c_fixed.npy\".format(dataset.experiment_name),\"wb\"),train_predict_concept_proba)"
   ]
  },
  {
   "cell_type": "code",
   "execution_count": 122,
   "id": "5afa9bc0",
   "metadata": {},
   "outputs": [],
   "source": [
    "np.save(open(\"results/logits/{}/valid_c_fixed.npy\".format(dataset.experiment_name),\"wb\"),valid_predict_concept_proba)"
   ]
  },
  {
   "cell_type": "code",
   "execution_count": 123,
   "id": "b86db702",
   "metadata": {},
   "outputs": [],
   "source": [
    "np.save(open(\"results/logits/{}/test_c_fixed.npy\".format(dataset.experiment_name),\"wb\"),test_predict_concept_proba)"
   ]
  }
 ],
 "metadata": {
  "kernelspec": {
   "display_name": "Python 3 (ipykernel)",
   "language": "python",
   "name": "python3"
  },
  "language_info": {
   "codemirror_mode": {
    "name": "ipython",
    "version": 3
   },
   "file_extension": ".py",
   "mimetype": "text/x-python",
   "name": "python",
   "nbconvert_exporter": "python",
   "pygments_lexer": "ipython3",
   "version": "3.7.12"
  }
 },
 "nbformat": 4,
 "nbformat_minor": 5
}
