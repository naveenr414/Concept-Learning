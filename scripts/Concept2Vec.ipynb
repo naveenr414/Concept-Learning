{
 "cells": [
  {
   "cell_type": "code",
   "execution_count": 1,
   "id": "a48c20d7",
   "metadata": {},
   "outputs": [],
   "source": [
    "%load_ext autoreload\n",
    "%autoreload 2\n",
    "%matplotlib notebook"
   ]
  },
  {
   "cell_type": "code",
   "execution_count": 2,
   "id": "207fcc48",
   "metadata": {},
   "outputs": [],
   "source": [
    "import os\n",
    "os.chdir('../')"
   ]
  },
  {
   "cell_type": "code",
   "execution_count": 3,
   "id": "a7f4489c",
   "metadata": {},
   "outputs": [
    {
     "name": "stderr",
     "output_type": "stream",
     "text": [
      "2023-01-24 18:25:12.398430: I tensorflow/core/platform/cpu_feature_guard.cc:193] This TensorFlow binary is optimized with oneAPI Deep Neural Network Library (oneDNN) to use the following CPU instructions in performance-critical operations:  SSE4.1 SSE4.2 AVX FMA\n",
      "To enable them in other operations, rebuild TensorFlow with the appropriate compiler flags.\n"
     ]
    }
   ],
   "source": [
    "import numpy as np\n",
    "import matplotlib.pyplot as plt\n",
    "import random\n",
    "from src.dataset import *\n",
    "from src.concept_vectors import *\n",
    "from src.util import *\n",
    "from src.plots import *\n",
    "from src.hierarchy import *\n",
    "from src.metrics import *\n",
    "from src.models import * "
   ]
  },
  {
   "cell_type": "code",
   "execution_count": null,
   "id": "539272f3",
   "metadata": {},
   "outputs": [
    {
     "name": "stdout",
     "output_type": "stream",
     "text": [
      "Working on _image_robustness 43\n",
      "498/498 [==============================] - 4s 6ms/step - loss: 0.6104\n",
      "498/498 [==============================] - 3s 6ms/step - loss: 0.4372\n",
      "498/498 [==============================] - 3s 6ms/step - loss: 0.3471\n",
      "498/498 [==============================] - 3s 6ms/step - loss: 0.3104\n",
      "498/498 [==============================] - 3s 7ms/step - loss: 0.3019\n",
      "Working on _image_robustness 44\n",
      "498/498 [==============================] - 4s 6ms/step - loss: 0.6084\n",
      "498/498 [==============================] - 3s 6ms/step - loss: 0.4250\n",
      "498/498 [==============================] - 3s 6ms/step - loss: 0.3402\n",
      "498/498 [==============================] - 3s 6ms/step - loss: 0.3100\n",
      "498/498 [==============================] - 3s 6ms/step - loss: 0.2987\n",
      "Working on _image_robustness 45\n",
      "497/497 [==============================] - 4s 6ms/step - loss: 0.6121\n",
      "497/497 [==============================] - 3s 7ms/step - loss: 0.4321\n",
      "234/497 [=============>................] - ETA: 1s - loss: 0.3511"
     ]
    }
   ],
   "source": [
    "for suffix in [\"_image_robustness\",\"\",\"_model_robustness\",\"_model_responsiveness\",\"_image_responsiveness\"]:\n",
    "    for seed in [43,44,45]:\n",
    "        print(\"Working on {} {}\".format(suffix,seed))\n",
    "        create_concept2vec(MNIST_Dataset(),suffix,seed=seed)"
   ]
  },
  {
   "cell_type": "code",
   "execution_count": 111,
   "id": "410941a0",
   "metadata": {},
   "outputs": [
    {
     "data": {
      "text/plain": [
       "array([[ 0.02956457, -0.06189516,  0.04884454, -0.9613467 ,  0.4477809 ,\n",
       "         0.9250944 ,  0.25644565,  0.0852409 ,  0.2931963 ,  0.2511949 ,\n",
       "         0.6011709 , -0.8512476 , -0.23565903, -0.05664368,  0.85052973,\n",
       "        -0.10240796, -0.01538802, -0.5646163 ,  0.8139029 ,  0.6181807 ,\n",
       "        -0.43473822,  0.42064226, -0.5671809 ,  0.6949103 , -0.7495682 ,\n",
       "        -0.3615581 , -0.3927811 ,  0.69173056,  0.09878936, -1.0515368 ,\n",
       "        -0.1934596 , -0.50426495]], dtype=float32)"
      ]
     },
     "execution_count": 111,
     "metadata": {},
     "output_type": "execute_result"
    }
   ],
   "source": [
    "load_concept2vec_vectors_simple(\"0_number\",MNIST_Dataset(),\"\",seed=43)"
   ]
  }
 ],
 "metadata": {
  "kernelspec": {
   "display_name": "Python 3 (ipykernel)",
   "language": "python",
   "name": "python3"
  },
  "language_info": {
   "codemirror_mode": {
    "name": "ipython",
    "version": 3
   },
   "file_extension": ".py",
   "mimetype": "text/x-python",
   "name": "python",
   "nbconvert_exporter": "python",
   "pygments_lexer": "ipython3",
   "version": "3.7.12"
  }
 },
 "nbformat": 4,
 "nbformat_minor": 5
}
