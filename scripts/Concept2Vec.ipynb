{
 "cells": [
  {
   "cell_type": "code",
   "execution_count": 1,
   "id": "a48c20d7",
   "metadata": {},
   "outputs": [],
   "source": [
    "%load_ext autoreload\n",
    "%autoreload 2\n",
    "%matplotlib notebook"
   ]
  },
  {
   "cell_type": "code",
   "execution_count": 2,
   "id": "207fcc48",
   "metadata": {},
   "outputs": [],
   "source": [
    "import os\n",
    "os.chdir('../')"
   ]
  },
  {
   "cell_type": "code",
   "execution_count": 3,
   "id": "a7f4489c",
   "metadata": {},
   "outputs": [
    {
     "name": "stderr",
     "output_type": "stream",
     "text": [
      "2023-01-25 11:12:38.903397: I tensorflow/core/platform/cpu_feature_guard.cc:193] This TensorFlow binary is optimized with oneAPI Deep Neural Network Library (oneDNN) to use the following CPU instructions in performance-critical operations:  SSE4.1 SSE4.2 AVX FMA\n",
      "To enable them in other operations, rebuild TensorFlow with the appropriate compiler flags.\n"
     ]
    }
   ],
   "source": [
    "import numpy as np\n",
    "import matplotlib.pyplot as plt\n",
    "import random\n",
    "from src.dataset import *\n",
    "from src.concept_vectors import *\n",
    "from src.util import *\n",
    "from src.plots import *\n",
    "from src.hierarchy import *\n",
    "from src.metrics import *\n",
    "from src.models import * "
   ]
  },
  {
   "cell_type": "code",
   "execution_count": 4,
   "id": "539272f3",
   "metadata": {},
   "outputs": [
    {
     "name": "stdout",
     "output_type": "stream",
     "text": [
      "Working on _image_robustness 43\n"
     ]
    },
    {
     "name": "stderr",
     "output_type": "stream",
     "text": [
      "2023-01-25 11:14:02.950822: I tensorflow/core/platform/cpu_feature_guard.cc:193] This TensorFlow binary is optimized with oneAPI Deep Neural Network Library (oneDNN) to use the following CPU instructions in performance-critical operations:  SSE4.1 SSE4.2 AVX FMA\n",
      "To enable them in other operations, rebuild TensorFlow with the appropriate compiler flags.\n",
      "2023-01-25 11:14:02.963852: I tensorflow/core/common_runtime/process_util.cc:146] Creating new thread pool with default inter op setting: 2. Tune using inter_op_parallelism_threads for best performance.\n"
     ]
    },
    {
     "name": "stdout",
     "output_type": "stream",
     "text": [
      "498/498 [==============================] - 4s 6ms/step - loss: 0.6077\n",
      "498/498 [==============================] - 3s 5ms/step - loss: 0.4271\n",
      "498/498 [==============================] - 2s 5ms/step - loss: 0.3414\n",
      "498/498 [==============================] - 3s 5ms/step - loss: 0.3073\n",
      "498/498 [==============================] - 3s 5ms/step - loss: 0.3024\n",
      "Working on _image_robustness 44\n",
      "498/498 [==============================] - 3s 5ms/step - loss: 0.6078\n",
      "498/498 [==============================] - 3s 5ms/step - loss: 0.4272\n",
      "498/498 [==============================] - 3s 5ms/step - loss: 0.3404\n",
      "498/498 [==============================] - 3s 6ms/step - loss: 0.3083\n",
      "498/498 [==============================] - 2s 5ms/step - loss: 0.2980\n",
      "Working on _image_robustness 45\n",
      "497/497 [==============================] - 3s 5ms/step - loss: 0.6126\n",
      "497/497 [==============================] - 3s 6ms/step - loss: 0.4303\n",
      "497/497 [==============================] - 3s 6ms/step - loss: 0.3391\n",
      "497/497 [==============================] - 3s 6ms/step - loss: 0.3160\n",
      "497/497 [==============================] - 3s 6ms/step - loss: 0.3103\n",
      "Working on  43\n",
      "500/500 [==============================] - 3s 5ms/step - loss: 0.5889\n",
      "500/500 [==============================] - 3s 5ms/step - loss: 0.3664\n",
      "500/500 [==============================] - 3s 5ms/step - loss: 0.2392\n",
      "500/500 [==============================] - 3s 6ms/step - loss: 0.1925\n",
      "500/500 [==============================] - 3s 6ms/step - loss: 0.1793\n",
      "Working on  44\n",
      "500/500 [==============================] - 3s 5ms/step - loss: 0.5840\n",
      "500/500 [==============================] - 3s 5ms/step - loss: 0.3630\n",
      "500/500 [==============================] - 3s 6ms/step - loss: 0.2395\n",
      "500/500 [==============================] - 3s 6ms/step - loss: 0.1899\n",
      "500/500 [==============================] - 3s 5ms/step - loss: 0.1738\n",
      "Working on  45\n",
      "500/500 [==============================] - 3s 6ms/step - loss: 0.5856\n",
      "500/500 [==============================] - 3s 6ms/step - loss: 0.3607\n",
      "500/500 [==============================] - 3s 6ms/step - loss: 0.2364\n",
      "500/500 [==============================] - 3s 5ms/step - loss: 0.1919\n",
      "500/500 [==============================] - 3s 6ms/step - loss: 0.1713\n",
      "Working on _model_robustness 43\n",
      "500/500 [==============================] - 4s 7ms/step - loss: 0.5889\n",
      "500/500 [==============================] - 3s 6ms/step - loss: 0.3664\n",
      "500/500 [==============================] - 3s 6ms/step - loss: 0.2392\n",
      "500/500 [==============================] - 3s 5ms/step - loss: 0.1925\n",
      "500/500 [==============================] - 3s 6ms/step - loss: 0.1793\n",
      "Working on _model_robustness 44\n",
      "500/500 [==============================] - 3s 5ms/step - loss: 0.5840\n",
      "500/500 [==============================] - 3s 5ms/step - loss: 0.3630\n",
      "500/500 [==============================] - 3s 5ms/step - loss: 0.2395\n",
      "500/500 [==============================] - 3s 5ms/step - loss: 0.1899\n",
      "500/500 [==============================] - 3s 5ms/step - loss: 0.1738\n",
      "Working on _model_robustness 45\n",
      "500/500 [==============================] - 4s 6ms/step - loss: 0.5856\n",
      "500/500 [==============================] - 3s 5ms/step - loss: 0.3607\n",
      "500/500 [==============================] - 3s 6ms/step - loss: 0.2364\n",
      "500/500 [==============================] - 3s 5ms/step - loss: 0.1919\n",
      "500/500 [==============================] - 3s 5ms/step - loss: 0.1713\n",
      "Working on _model_responsiveness 43\n",
      "500/500 [==============================] - 3s 5ms/step - loss: 0.5889\n",
      "500/500 [==============================] - 3s 5ms/step - loss: 0.3664\n",
      "500/500 [==============================] - 3s 5ms/step - loss: 0.2392\n",
      "500/500 [==============================] - 3s 5ms/step - loss: 0.1925\n",
      "500/500 [==============================] - 3s 6ms/step - loss: 0.1793\n",
      "Working on _model_responsiveness 44\n",
      "500/500 [==============================] - 3s 5ms/step - loss: 0.5840\n",
      "500/500 [==============================] - 3s 5ms/step - loss: 0.3630\n",
      "500/500 [==============================] - 3s 6ms/step - loss: 0.2395\n",
      "500/500 [==============================] - 3s 5ms/step - loss: 0.1899\n",
      "500/500 [==============================] - 3s 5ms/step - loss: 0.1738\n",
      "Working on _model_responsiveness 45\n",
      "500/500 [==============================] - 3s 6ms/step - loss: 0.5856\n",
      "500/500 [==============================] - 3s 6ms/step - loss: 0.3607\n",
      "500/500 [==============================] - 3s 5ms/step - loss: 0.2364\n",
      "500/500 [==============================] - 3s 5ms/step - loss: 0.1919\n",
      "500/500 [==============================] - 3s 5ms/step - loss: 0.1713\n",
      "Working on _image_responsiveness 43\n",
      "500/500 [==============================] - 4s 5ms/step - loss: 0.6931\n",
      "500/500 [==============================] - 2s 5ms/step - loss: 0.6930\n",
      "500/500 [==============================] - 2s 5ms/step - loss: 0.6924\n",
      "500/500 [==============================] - 3s 5ms/step - loss: 0.6924\n",
      "500/500 [==============================] - 3s 5ms/step - loss: 0.6930\n",
      "Working on _image_responsiveness 44\n",
      "500/500 [==============================] - 3s 5ms/step - loss: 0.6930\n",
      "500/500 [==============================] - 2s 5ms/step - loss: 0.6930\n",
      "500/500 [==============================] - 3s 5ms/step - loss: 0.6929\n",
      "500/500 [==============================] - 3s 5ms/step - loss: 0.6928\n",
      "500/500 [==============================] - 2s 5ms/step - loss: 0.6928\n",
      "Working on _image_responsiveness 45\n",
      "500/500 [==============================] - 3s 4ms/step - loss: 0.6931\n",
      "500/500 [==============================] - 2s 5ms/step - loss: 0.6932\n",
      "500/500 [==============================] - 2s 5ms/step - loss: 0.6928\n",
      "500/500 [==============================] - 3s 5ms/step - loss: 0.6930\n",
      "500/500 [==============================] - 3s 5ms/step - loss: 0.6925\n"
     ]
    }
   ],
   "source": [
    "for suffix in [\"_image_robustness\",\"\",\"_model_robustness\",\"_model_responsiveness\",\"_image_responsiveness\"]:\n",
    "    for seed in [43,44,45]:\n",
    "        print(\"Working on {} {}\".format(suffix,seed))\n",
    "        create_concept2vec(MNIST_Dataset(),suffix,seed=seed)"
   ]
  },
  {
   "cell_type": "code",
   "execution_count": 5,
   "id": "410941a0",
   "metadata": {},
   "outputs": [
    {
     "data": {
      "text/plain": [
       "array([[ 0.02175112, -0.12708086,  0.31199324,  0.32384512,  0.56642675,\n",
       "         0.28879303,  0.3798302 , -0.75108737, -0.97226393, -0.88814205,\n",
       "        -0.4588016 ,  0.6143193 , -0.6146153 , -0.6789962 , -0.50093687,\n",
       "        -0.04892226, -0.9679975 ,  0.5341202 ,  0.3450069 ,  0.7249129 ,\n",
       "        -0.32303146,  1.0612236 ,  0.17750809,  0.03078752, -0.8208183 ,\n",
       "        -0.21556042,  0.28055683, -0.2941355 , -0.16175856,  0.14052697,\n",
       "        -0.67818093, -0.13999127]], dtype=float32)"
      ]
     },
     "execution_count": 5,
     "metadata": {},
     "output_type": "execute_result"
    }
   ],
   "source": [
    "load_concept2vec_vectors_simple(\"0_number\",MNIST_Dataset(),\"\",seed=43)"
   ]
  },
  {
   "cell_type": "code",
   "execution_count": null,
   "id": "28b074cc",
   "metadata": {},
   "outputs": [],
   "source": []
  }
 ],
 "metadata": {
  "kernelspec": {
   "display_name": "Python 3 (ipykernel)",
   "language": "python",
   "name": "python3"
  },
  "language_info": {
   "codemirror_mode": {
    "name": "ipython",
    "version": 3
   },
   "file_extension": ".py",
   "mimetype": "text/x-python",
   "name": "python",
   "nbconvert_exporter": "python",
   "pygments_lexer": "ipython3",
   "version": "3.7.12"
  }
 },
 "nbformat": 4,
 "nbformat_minor": 5
}
