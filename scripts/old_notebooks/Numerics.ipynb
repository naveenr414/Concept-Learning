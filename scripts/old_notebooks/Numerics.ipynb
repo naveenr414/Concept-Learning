{
 "cells": [
  {
   "cell_type": "code",
   "execution_count": 1,
   "id": "67558df5",
   "metadata": {},
   "outputs": [],
   "source": [
    "import numpy as np\n",
    "import matplotlib.pyplot as plt\n",
    "from scipy.stats import binom\n",
    "from scipy.special import comb"
   ]
  },
  {
   "cell_type": "markdown",
   "id": "5e59dc98",
   "metadata": {},
   "source": [
    "## Theorem 1: Benefit from Intervention"
   ]
  },
  {
   "cell_type": "code",
   "execution_count": 2,
   "id": "a8ec57ef",
   "metadata": {},
   "outputs": [],
   "source": [
    "def probability_correct(k_1, k_2, k_3, p, e, num_right):\n",
    "    min_needed_to_guess = max(num_right-k_1,0) \n",
    "    max_needed_to_guess = min(k_2,num_right)\n",
    "    probability = 0\n",
    "    \n",
    "    for num_guessed in range(min_needed_to_guess,max_needed_to_guess+1):\n",
    "        probability += binom.pmf(num_right-num_guessed, k_1, e) * binom.pmf(num_guessed, k_2, p)\n",
    "        \n",
    "    return probability"
   ]
  },
  {
   "cell_type": "code",
   "execution_count": 3,
   "id": "d6cbda2b",
   "metadata": {},
   "outputs": [],
   "source": [
    "def probability_of_success(k_1, k_2, k_3, p, e, r):\n",
    "    total_prob = 0\n",
    "    \n",
    "    for num_right in range(r,k_1+k_2+1):\n",
    "        total_prob += probability_correct(k_1, k_2, k_3, p, e, num_right)\n",
    "        \n",
    "    return total_prob"
   ]
  },
  {
   "cell_type": "code",
   "execution_count": 4,
   "id": "44713a12",
   "metadata": {},
   "outputs": [],
   "source": [
    "k_1 = 1\n",
    "k_2 = 2\n",
    "k_3 = 1\n",
    "n = k_1+k_2+k_3\n",
    "r = 1\n",
    "e = 0.85\n",
    "p = 0.8"
   ]
  },
  {
   "cell_type": "code",
   "execution_count": 9,
   "id": "fe439d74",
   "metadata": {},
   "outputs": [
    {
     "data": {
      "text/plain": [
       "0.9920000000000002"
      ]
     },
     "execution_count": 9,
     "metadata": {},
     "output_type": "execute_result"
    }
   ],
   "source": [
    "k_1 = 0\n",
    "k_2 = 3\n",
    "e = 0.85\n",
    "p = 0.8\n",
    "probability_of_success(k_1,k_2,k_3,p,e,r)"
   ]
  },
  {
   "cell_type": "code",
   "execution_count": 10,
   "id": "eef122c5",
   "metadata": {},
   "outputs": [
    {
     "data": {
      "text/plain": [
       "0.9940000000000001"
      ]
     },
     "execution_count": 10,
     "metadata": {},
     "output_type": "execute_result"
    }
   ],
   "source": [
    "k_1 = 1\n",
    "k_2 = 2\n",
    "e = 0.85\n",
    "p = 0.8\n",
    "probability_of_success(k_1,k_2,k_3,p,e,r)"
   ]
  },
  {
   "cell_type": "code",
   "execution_count": 13,
   "id": "b31a0714",
   "metadata": {},
   "outputs": [],
   "source": [
    "def predicted_probability_of_success(k_1,k_2,k_3,p,e,r):\n",
    "    \n",
    "    if k_1 + k_2 == 2:\n",
    "        prob_2 = e**k_1 * p**k_2\n",
    "\n",
    "        if k_2 == 0:\n",
    "            prob_1 = e*(1-e)*2\n",
    "        elif k_2 == 1:\n",
    "            prob_1 = e*(1-p)+p*(1-e)\n",
    "        else:\n",
    "            prob_1 = p*(1-p)*2\n",
    "        \n",
    "        print(prob_1,prob_2)\n",
    "                \n",
    "        return prob_1+prob_2\n",
    "        \n",
    "    elif k_1 + k_2 == 3:\n",
    "        prob_3 = e**k_1 * p**k_2\n",
    "        \n",
    "        if k_2 == 0:\n",
    "            prob_2 = 3*e**2*(1-e)\n",
    "        elif k_2 == 1:\n",
    "            prob_2 = e**2*(1-p)+2*e*(1-e)*p\n",
    "        elif k_2 == 2:\n",
    "            prob_2 = 2*e*p*(1-p) + (1-e)*p**2\n",
    "        else:\n",
    "            prob_2 = 3*p**2*(1-p)\n",
    "            \n",
    "        if k_2 == 0:\n",
    "            prob_1 = 3*e*(1-e)**2\n",
    "        elif k_2 == 1:\n",
    "            prob_1 = 2*e*(1-e)*(1-p)+(1-e)**2*p\n",
    "        elif k_2 == 2:\n",
    "            prob_1 = e*(1-p)**2+2*(1-e)*p*(1-p)\n",
    "        else:\n",
    "            prob_1 = 3*p*(1-p)**2\n",
    "            \n",
    "        print(prob_1,prob_2,prob_3)\n",
    "        return prob_1+prob_2+prob_3"
   ]
  },
  {
   "cell_type": "code",
   "execution_count": 15,
   "id": "8caf6d93",
   "metadata": {},
   "outputs": [
    {
     "name": "stdout",
     "output_type": "stream",
     "text": [
      "0.09599999999999996 0.384 0.5120000000000001\n"
     ]
    },
    {
     "data": {
      "text/plain": [
       "0.9920000000000001"
      ]
     },
     "execution_count": 15,
     "metadata": {},
     "output_type": "execute_result"
    }
   ],
   "source": [
    "k_1 = 0\n",
    "k_2 = 3\n",
    "e = 0.85\n",
    "p = 0.8\n",
    "predicted_probability_of_success(k_1,k_2,k_3,p,e,r)"
   ]
  },
  {
   "cell_type": "code",
   "execution_count": 36,
   "id": "121d2a0d",
   "metadata": {},
   "outputs": [
    {
     "name": "stdout",
     "output_type": "stream",
     "text": [
      "0.05737500000000001 0.325125 0.6141249999999999\n"
     ]
    },
    {
     "data": {
      "text/plain": [
       "0.9966249999999999"
      ]
     },
     "execution_count": 36,
     "metadata": {},
     "output_type": "execute_result"
    }
   ],
   "source": [
    "k_1 = 3\n",
    "k_2 = 0\n",
    "e = 0.85\n",
    "p = 0.8\n",
    "predicted_probability_of_success(k_1,k_2,k_3,p,e,r)"
   ]
  },
  {
   "cell_type": "code",
   "execution_count": 30,
   "id": "e4707660",
   "metadata": {},
   "outputs": [],
   "source": [
    "def predicted_improvement_raw(k_1,k_2,k_3,p,e,r):\n",
    "    if k_1 + k_2 == 2:\n",
    "        improvement_2 = e**(k_1)*p**(k_2)-p**(k_2+k_1)\n",
    "\n",
    "        if k_1 == 1:\n",
    "            improvement_1 = p*(1-e)+e*(1-p)-2*p*(1-p)\n",
    "        elif k_1 == 2:\n",
    "            improvement_1 = 2*e*(1-e)-2*p*(1-p)\n",
    "\n",
    "        improvement_step_2 = -k_1*(e-p)*((3-k_1)*p+(k_1-1)*e-1)\n",
    "        improvement_step_3 = -k_1*(e-p)*(k_1*(e-p)+3*p-e-1)\n",
    "        improvement_step_4 = -k_1*(e-p)*((-k_1+1)*(p-e) + 2*p-1)\n",
    "\n",
    "        total_step_1 = e*p-p**2 - (e-p)*(2*p-1)\n",
    "        total_step_2 = (e-p)+p**2-2*p*e+e*p\n",
    "        total_step_3 = (e-p)*(1-p)\n",
    "\n",
    "        total_step_1 = e**2-p**2-2*(e-p)*(p+e-1)\n",
    "        total_step_2 = (e-p)*(2-e-p)\n",
    "        print(total_step_2)\n",
    "\n",
    "        return improvement_1+improvement_2\n",
    "    \n",
    "    elif k_1 + k_2 == 3:\n",
    "        improvement_3 = e**k_1*p**(3-k_1)-p**3\n",
    "        \n",
    "        if k_1 == 1:\n",
    "            improvement_2 = (e-p)*(2*p-3*p**2)\n",
    "        elif k_1 == 2:\n",
    "            improvement_2 = (e-p)*(-3*p**2-3*e*p+3*p+e)\n",
    "        elif k_1 == 3:\n",
    "            improvement_2 = (e-p)*(-3*p**2-3*e*p+3*p-3*e**2+3*e)\n",
    "\n",
    "        if k_1 == 1:\n",
    "            improvement_1 = (e-p)*(3*p**2-4*p+1)\n",
    "        elif k_1 == 2:\n",
    "            improvement_1 = (e-p)*(3*p**2-6*p+2+3*e*p-2*e)\n",
    "        elif k_1 == 3:\n",
    "            improvement_1 = (e-p)*(3*p**2-6*p+3+3*e*p-6*e+3*e**2)\n",
    "\n",
    "        print(improvement_1, improvement_2, improvement_3)\n",
    "            \n",
    "        return improvement_1+improvement_2+improvement_3"
   ]
  },
  {
   "cell_type": "code",
   "execution_count": 31,
   "id": "e612b4e3",
   "metadata": {},
   "outputs": [],
   "source": [
    "def predicted_improvement(k_1,k_2,k_3,p,e,r):\n",
    "    improvement_2 = e**(k_1)*p**(k_2)-p**(k_2+k_1)\n",
    "    improvement_1 = k_1*(e-p)*((k_1-1)*(e-p) - 2*e+1)\n",
    "            \n",
    "    print(improvement_1, improvement_2)\n",
    "        \n",
    "    return improvement_1+improvement_2"
   ]
  },
  {
   "cell_type": "code",
   "execution_count": 35,
   "id": "5190ea27",
   "metadata": {},
   "outputs": [
    {
     "name": "stdout",
     "output_type": "stream",
     "text": [
      "-0.03862499999999997 -0.05887499999999991 0.1021249999999998\n"
     ]
    },
    {
     "data": {
      "text/plain": [
       "0.004624999999999921"
      ]
     },
     "execution_count": 35,
     "metadata": {},
     "output_type": "execute_result"
    }
   ],
   "source": [
    "k_1 = 3\n",
    "k_2 = 0\n",
    "e = 0.85\n",
    "p = 0.8\n",
    "predicted_improvement_raw(k_1,k_2,k_3,p,e,r)"
   ]
  },
  {
   "cell_type": "code",
   "execution_count": 29,
   "id": "7d191e77",
   "metadata": {},
   "outputs": [
    {
     "data": {
      "text/plain": [
       "0.015999999999999993"
      ]
     },
     "execution_count": 29,
     "metadata": {},
     "output_type": "execute_result"
    }
   ],
   "source": [
    "(p-e)*(2*p-3*p**2)"
   ]
  },
  {
   "cell_type": "code",
   "execution_count": 13,
   "id": "61de0014",
   "metadata": {},
   "outputs": [
    {
     "name": "stdout",
     "output_type": "stream",
     "text": [
      "-0.03499999999999995 0.039999999999999925\n"
     ]
    },
    {
     "data": {
      "text/plain": [
       "0.004999999999999977"
      ]
     },
     "execution_count": 13,
     "metadata": {},
     "output_type": "execute_result"
    }
   ],
   "source": [
    "k_1 = 1\n",
    "k_2 = 1\n",
    "e = 0.85\n",
    "p = 0.8\n",
    "predicted_improvement(k_1,k_2,k_3,p,e,r)"
   ]
  },
  {
   "cell_type": "code",
   "execution_count": 14,
   "id": "c1ba468f",
   "metadata": {},
   "outputs": [],
   "source": [
    "def second_term(k_1,k_2,k_3,p,e,r):\n",
    "    A = -(e-p)**2\n",
    "    B = (-3*p+e+1)*(e-p)\n",
    "    \n",
    "    value_1 = k_1*(k_1*A+B)\n",
    "    value_2 = -k_1*(e-p)*((k_1-1)*(e-p)+2*p-1)\n",
    "    \n",
    "    return value_2"
   ]
  },
  {
   "cell_type": "code",
   "execution_count": 15,
   "id": "4547d851",
   "metadata": {},
   "outputs": [],
   "source": [
    "def total_improvement_1(k_1,k_2,k_3,p,e,r):\n",
    "    return (e-p)*(2-3*p)"
   ]
  },
  {
   "cell_type": "code",
   "execution_count": 16,
   "id": "03d58b45",
   "metadata": {},
   "outputs": [],
   "source": [
    "def total_improvement_2(k_1,k_2,k_3,p,e,r):\n",
    "    return (e-p)*(2-e-p)"
   ]
  },
  {
   "cell_type": "code",
   "execution_count": 17,
   "id": "bf62a9c7",
   "metadata": {},
   "outputs": [
    {
     "data": {
      "text/plain": [
       "-0.01999999999999999"
      ]
     },
     "execution_count": 17,
     "metadata": {},
     "output_type": "execute_result"
    }
   ],
   "source": [
    "k_1 = 1\n",
    "k_2 = 1\n",
    "p = 0.8\n",
    "e = 0.85\n",
    "total_improvement_1(k_1,k_2,k_3,p,e,r)"
   ]
  },
  {
   "cell_type": "code",
   "execution_count": null,
   "id": "d3dec043",
   "metadata": {},
   "outputs": [],
   "source": []
  },
  {
   "cell_type": "code",
   "execution_count": null,
   "id": "9ee04bc8",
   "metadata": {},
   "outputs": [],
   "source": []
  }
 ],
 "metadata": {
  "kernelspec": {
   "display_name": "Python 3 (ipykernel)",
   "language": "python",
   "name": "python3"
  },
  "language_info": {
   "codemirror_mode": {
    "name": "ipython",
    "version": 3
   },
   "file_extension": ".py",
   "mimetype": "text/x-python",
   "name": "python",
   "nbconvert_exporter": "python",
   "pygments_lexer": "ipython3",
   "version": "3.7.12"
  }
 },
 "nbformat": 4,
 "nbformat_minor": 5
}
