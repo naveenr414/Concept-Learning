{
 "cells": [
  {
   "cell_type": "code",
   "execution_count": 1,
   "id": "ddd0e1f6",
   "metadata": {},
   "outputs": [],
   "source": [
    "%load_ext autoreload\n",
    "%autoreload 2\n",
    "%matplotlib notebook"
   ]
  },
  {
   "cell_type": "code",
   "execution_count": 2,
   "id": "011d6db1",
   "metadata": {},
   "outputs": [],
   "source": [
    "import os\n",
    "os.chdir('../')"
   ]
  },
  {
   "cell_type": "code",
   "execution_count": 4,
   "id": "6d4171c9",
   "metadata": {},
   "outputs": [],
   "source": [
    "from src.dataset import *\n",
    "from src.concept_vectors import *\n",
    "from src.util import *\n",
    "from src.hierarchy import *\n",
    "from src.metrics import *\n",
    "import numpy as np\n",
    "import matplotlib.pyplot as plt\n",
    "import glob"
   ]
  },
  {
   "cell_type": "markdown",
   "id": "afe81066",
   "metadata": {},
   "source": [
    "### Plot and evaluate current results"
   ]
  },
  {
   "cell_type": "code",
   "execution_count": 5,
   "id": "78d8cd05",
   "metadata": {},
   "outputs": [],
   "source": [
    "all_result_files = glob.glob(\"results/evaluation/*.txt\")"
   ]
  },
  {
   "cell_type": "code",
   "execution_count": 9,
   "id": "d018b580",
   "metadata": {},
   "outputs": [],
   "source": [
    "results = {}\n",
    "\n",
    "for i in all_result_files:\n",
    "    name = i.replace(\".txt\",\"\").split(\"/\")[-1]\n",
    "    \n",
    "    w = open(i).read().strip().split(\"\\n\")\n",
    "    data = {}\n",
    "    for row in w:\n",
    "        key,value = row.split(\":\")\n",
    "        data[key] = eval(value)[0]\n",
    "\n",
    "    results[name] = data"
   ]
  },
  {
   "cell_type": "code",
   "execution_count": 19,
   "id": "4245c7a2",
   "metadata": {},
   "outputs": [],
   "source": [
    "multiplier_by_metric = {\n",
    "    'Image Responsiveness': 1,\n",
    "    'Model Responsiveness': 1,\n",
    "    'Image Robustness': -1,\n",
    "    'Model Robustness': -1,\n",
    "    'Stability': -1,\n",
    "    'Truthfulness': 1\n",
    "}"
   ]
  },
  {
   "cell_type": "code",
   "execution_count": 31,
   "id": "9cff7a00",
   "metadata": {},
   "outputs": [],
   "source": [
    "avg_robustness = [(results[i]['Model Robustness'] + results[i]['Image Robustness'],i) for i in results]\n",
    "avg_robustness = sorted(avg_robustness,key=lambda k: k[0])"
   ]
  },
  {
   "cell_type": "code",
   "execution_count": 40,
   "id": "9b304188",
   "metadata": {},
   "outputs": [
    {
     "name": "stdout",
     "output_type": "stream",
     "text": [
      "Image Responsiveness [('average', 49.0), ('concept2vec', 47.666666666666664), ('concatenate', 47.666666666666664), ('labels', 47.0), ('tcav', 46.666666666666664), ('cem', 44.0)]\n",
      "Model Responsiveness [('cem', 45.666666666666664), ('average', 35.666666666666664), ('concatenate', 33.666666666666664), ('tcav', 31.333333333333332), ('labels', 0.0), ('concept2vec', 0.0)]\n",
      "Image Robustness [('labels', 0.0), ('concatenate', 29.333333333333332), ('average', 32.0), ('concept2vec', 36.333333333333336), ('tcav', 44.0), ('cem', 44.333333333333336)]\n",
      "Model Robustness [('labels', 0.0), ('concept2vec', 0.0), ('tcav', 9.666666666666666), ('concatenate', 17.333333333333332), ('average', 21.333333333333332), ('cem', 44.0)]\n",
      "Stability [('labels', 0.0), ('tcav', 16.0), ('concatenate', 16.333333333333332), ('average', 16.666666666666668), ('concept2vec', 37.333333333333336), ('cem', 44.0)]\n",
      "Truthfulness [('concatenate', 0.7333333333333333), ('tcav', 0.6444444444444445), ('labels', 0.5555555555555555), ('concept2vec', 0.022222222222222216), ('average', -0.022222222222222244), ('cem', -0.15555555555555553)]\n"
     ]
    }
   ],
   "source": [
    "for key in multiplier_by_metric:\n",
    "    avg_score = [(i,results[i][key]) for i in results]\n",
    "    print(key,sorted(avg_score,key = lambda k: k[1]*multiplier_by_metric[key],reverse=True))"
   ]
  },
  {
   "cell_type": "code",
   "execution_count": 41,
   "id": "d955c2c8",
   "metadata": {},
   "outputs": [],
   "source": [
    "embedding_method = create_model_representation_vectors_simple"
   ]
  },
  {
   "cell_type": "code",
   "execution_count": 54,
   "id": "69f7a2fa",
   "metadata": {},
   "outputs": [
    {
     "ename": "NameError",
     "evalue": "name 'attribute' is not defined",
     "output_type": "error",
     "traceback": [
      "\u001b[0;31m---------------------------------------------------------------------------\u001b[0m",
      "\u001b[0;31mNameError\u001b[0m                                 Traceback (most recent call last)",
      "\u001b[0;32m/tmp/ipykernel_6940/2268248272.py\u001b[0m in \u001b[0;36m<module>\u001b[0;34m\u001b[0m\n\u001b[1;32m      5\u001b[0m \u001b[0mrandom_seeds\u001b[0m \u001b[0;34m=\u001b[0m \u001b[0;34m[\u001b[0m\u001b[0;36m43\u001b[0m\u001b[0;34m,\u001b[0m\u001b[0;36m44\u001b[0m\u001b[0;34m,\u001b[0m\u001b[0;36m45\u001b[0m\u001b[0;34m]\u001b[0m\u001b[0;34m\u001b[0m\u001b[0;34m\u001b[0m\u001b[0m\n\u001b[1;32m      6\u001b[0m \u001b[0mattributes\u001b[0m \u001b[0;34m=\u001b[0m \u001b[0mdataset\u001b[0m\u001b[0;34m.\u001b[0m\u001b[0mget_attributes\u001b[0m\u001b[0;34m(\u001b[0m\u001b[0;34m)\u001b[0m\u001b[0;34m\u001b[0m\u001b[0;34m\u001b[0m\u001b[0m\n\u001b[0;32m----> 7\u001b[0;31m \u001b[0mstability\u001b[0m \u001b[0;34m=\u001b[0m \u001b[0mstability_metric\u001b[0m\u001b[0;34m(\u001b[0m\u001b[0mhierarchy_method\u001b[0m\u001b[0;34m,\u001b[0m\u001b[0membedding_method\u001b[0m\u001b[0;34m,\u001b[0m\u001b[0mdataset\u001b[0m\u001b[0;34m,\u001b[0m\u001b[0mattributes\u001b[0m\u001b[0;34m,\u001b[0m\u001b[0mrandom_seeds\u001b[0m\u001b[0;34m,\u001b[0m\u001b[0mbaseline_hierarchies\u001b[0m\u001b[0;34m=\u001b[0m\u001b[0;32mNone\u001b[0m\u001b[0;34m,\u001b[0m\u001b[0mbulk_attributes\u001b[0m\u001b[0;34m=\u001b[0m\u001b[0;32mTrue\u001b[0m\u001b[0;34m)\u001b[0m\u001b[0;34m\u001b[0m\u001b[0;34m\u001b[0m\u001b[0m\n\u001b[0m\u001b[1;32m      8\u001b[0m \u001b[0mprint\u001b[0m\u001b[0;34m(\u001b[0m\u001b[0;34m\"Took {} time\"\u001b[0m\u001b[0;34m.\u001b[0m\u001b[0mforamt\u001b[0m\u001b[0;34m(\u001b[0m\u001b[0mtime\u001b[0m\u001b[0;34m.\u001b[0m\u001b[0mtime\u001b[0m\u001b[0;34m(\u001b[0m\u001b[0;34m)\u001b[0m\u001b[0;34m-\u001b[0m\u001b[0mstart\u001b[0m\u001b[0;34m)\u001b[0m\u001b[0;34m)\u001b[0m\u001b[0;34m\u001b[0m\u001b[0;34m\u001b[0m\u001b[0m\n\u001b[1;32m      9\u001b[0m \u001b[0mstability\u001b[0m\u001b[0;34m\u001b[0m\u001b[0;34m\u001b[0m\u001b[0m\n",
      "\u001b[0;32m/auto/homes/njr61/main_code/src/metrics.py\u001b[0m in \u001b[0;36mstability_metric\u001b[0;34m(hierarchy_method, embedding_method, dataset, attributes, random_seeds, baseline_hierarchies, bulk_attributes)\u001b[0m\n\u001b[1;32m     26\u001b[0m \u001b[0;34m\u001b[0m\u001b[0m\n\u001b[1;32m     27\u001b[0m     \u001b[0;32mif\u001b[0m \u001b[0mbaseline_hierarchies\u001b[0m \u001b[0;34m==\u001b[0m \u001b[0;32mNone\u001b[0m\u001b[0;34m:\u001b[0m\u001b[0;34m\u001b[0m\u001b[0;34m\u001b[0m\u001b[0m\n\u001b[0;32m---> 28\u001b[0;31m         \u001b[0mbaseline_hierarchies\u001b[0m \u001b[0;34m=\u001b[0m \u001b[0;34m[\u001b[0m\u001b[0mcreate_hierarchy\u001b[0m\u001b[0;34m(\u001b[0m\u001b[0mhierarchy_method\u001b[0m\u001b[0;34m,\u001b[0m\u001b[0membedding_method\u001b[0m\u001b[0;34m,\u001b[0m\u001b[0mdataset\u001b[0m\u001b[0;34m,\u001b[0m\u001b[0;34m\"\"\u001b[0m\u001b[0;34m,\u001b[0m\u001b[0mattributes\u001b[0m\u001b[0;34m,\u001b[0m\u001b[0mseed\u001b[0m\u001b[0;34m,\u001b[0m\u001b[0mbulk_attributes\u001b[0m\u001b[0;34m=\u001b[0m\u001b[0mbulk_attributes\u001b[0m\u001b[0;34m)\u001b[0m \u001b[0;32mfor\u001b[0m \u001b[0mseed\u001b[0m \u001b[0;32min\u001b[0m \u001b[0mrandom_seeds\u001b[0m\u001b[0;34m]\u001b[0m\u001b[0;34m\u001b[0m\u001b[0;34m\u001b[0m\u001b[0m\n\u001b[0m\u001b[1;32m     29\u001b[0m \u001b[0;34m\u001b[0m\u001b[0m\n\u001b[1;32m     30\u001b[0m     \u001b[0mdistance_list\u001b[0m \u001b[0;34m=\u001b[0m \u001b[0;34m[\u001b[0m\u001b[0;34m]\u001b[0m\u001b[0;34m\u001b[0m\u001b[0;34m\u001b[0m\u001b[0m\n",
      "\u001b[0;32m/auto/homes/njr61/main_code/src/metrics.py\u001b[0m in \u001b[0;36m<listcomp>\u001b[0;34m(.0)\u001b[0m\n\u001b[1;32m     26\u001b[0m \u001b[0;34m\u001b[0m\u001b[0m\n\u001b[1;32m     27\u001b[0m     \u001b[0;32mif\u001b[0m \u001b[0mbaseline_hierarchies\u001b[0m \u001b[0;34m==\u001b[0m \u001b[0;32mNone\u001b[0m\u001b[0;34m:\u001b[0m\u001b[0;34m\u001b[0m\u001b[0;34m\u001b[0m\u001b[0m\n\u001b[0;32m---> 28\u001b[0;31m         \u001b[0mbaseline_hierarchies\u001b[0m \u001b[0;34m=\u001b[0m \u001b[0;34m[\u001b[0m\u001b[0mcreate_hierarchy\u001b[0m\u001b[0;34m(\u001b[0m\u001b[0mhierarchy_method\u001b[0m\u001b[0;34m,\u001b[0m\u001b[0membedding_method\u001b[0m\u001b[0;34m,\u001b[0m\u001b[0mdataset\u001b[0m\u001b[0;34m,\u001b[0m\u001b[0;34m\"\"\u001b[0m\u001b[0;34m,\u001b[0m\u001b[0mattributes\u001b[0m\u001b[0;34m,\u001b[0m\u001b[0mseed\u001b[0m\u001b[0;34m,\u001b[0m\u001b[0mbulk_attributes\u001b[0m\u001b[0;34m=\u001b[0m\u001b[0mbulk_attributes\u001b[0m\u001b[0;34m)\u001b[0m \u001b[0;32mfor\u001b[0m \u001b[0mseed\u001b[0m \u001b[0;32min\u001b[0m \u001b[0mrandom_seeds\u001b[0m\u001b[0;34m]\u001b[0m\u001b[0;34m\u001b[0m\u001b[0;34m\u001b[0m\u001b[0m\n\u001b[0m\u001b[1;32m     29\u001b[0m \u001b[0;34m\u001b[0m\u001b[0m\n\u001b[1;32m     30\u001b[0m     \u001b[0mdistance_list\u001b[0m \u001b[0;34m=\u001b[0m \u001b[0;34m[\u001b[0m\u001b[0;34m]\u001b[0m\u001b[0;34m\u001b[0m\u001b[0;34m\u001b[0m\u001b[0m\n",
      "\u001b[0;32m/auto/homes/njr61/main_code/src/hierarchy.py\u001b[0m in \u001b[0;36mcreate_hierarchy\u001b[0;34m(hierarchy_method, embedding_method, dataset, suffix, attributes, random_seed, bulk_attributes)\u001b[0m\n\u001b[1;32m    323\u001b[0m \u001b[0;34m\u001b[0m\u001b[0m\n\u001b[1;32m    324\u001b[0m     \u001b[0;32mif\u001b[0m \u001b[0mbulk_attributes\u001b[0m\u001b[0;34m:\u001b[0m\u001b[0;34m\u001b[0m\u001b[0;34m\u001b[0m\u001b[0m\n\u001b[0;32m--> 325\u001b[0;31m         \u001b[0membeddings_by_attribute\u001b[0m \u001b[0;34m=\u001b[0m \u001b[0membedding_method\u001b[0m\u001b[0;34m(\u001b[0m\u001b[0mattributes\u001b[0m\u001b[0;34m,\u001b[0m\u001b[0mdataset\u001b[0m\u001b[0;34m,\u001b[0m\u001b[0msuffix\u001b[0m\u001b[0;34m,\u001b[0m\u001b[0mseed\u001b[0m\u001b[0;34m=\u001b[0m\u001b[0mrandom_seed\u001b[0m\u001b[0;34m)\u001b[0m\u001b[0;34m\u001b[0m\u001b[0;34m\u001b[0m\u001b[0m\n\u001b[0m\u001b[1;32m    326\u001b[0m \u001b[0;34m\u001b[0m\u001b[0m\n\u001b[1;32m    327\u001b[0m     \u001b[0;32mfor\u001b[0m \u001b[0mattribute\u001b[0m \u001b[0;32min\u001b[0m \u001b[0mattributes\u001b[0m\u001b[0;34m:\u001b[0m\u001b[0;34m\u001b[0m\u001b[0;34m\u001b[0m\u001b[0m\n",
      "\u001b[0;32m/auto/homes/njr61/main_code/src/concept_vectors.py\u001b[0m in \u001b[0;36mcreate_model_representation_vectors_simple\u001b[0;34m(attributes, dataset, suffix, seed)\u001b[0m\n\u001b[1;32m    516\u001b[0m                                                  max_examples=max_images)\n\u001b[1;32m    517\u001b[0m \u001b[0;34m\u001b[0m\u001b[0m\n\u001b[0;32m--> 518\u001b[0;31m     \u001b[0;32mreturn\u001b[0m \u001b[0mactivations\u001b[0m\u001b[0;34m[\u001b[0m\u001b[0mattribute\u001b[0m\u001b[0;34m]\u001b[0m\u001b[0;34m\u001b[0m\u001b[0;34m\u001b[0m\u001b[0m\n\u001b[0m\u001b[1;32m    519\u001b[0m \u001b[0;34m\u001b[0m\u001b[0m\n\u001b[1;32m    520\u001b[0m \u001b[0;34m\u001b[0m\u001b[0m\n",
      "\u001b[0;31mNameError\u001b[0m: name 'attribute' is not defined"
     ]
    }
   ],
   "source": [
    "start = time.time()\n",
    "\n",
    "dataset = MNIST_Dataset()\n",
    "hierarchy_method = create_linkage_hierarchy\n",
    "random_seeds = [43,44,45]\n",
    "attributes = dataset.get_attributes()\n",
    "stability = stability_metric(hierarchy_method,embedding_method,dataset,attributes,random_seeds,baseline_hierarchies=None,bulk_attributes=True)\n",
    "print(\"Took {} time\".foramt(time.time()-start))\n",
    "stability"
   ]
  },
  {
   "cell_type": "code",
   "execution_count": 49,
   "id": "3d4a85ee",
   "metadata": {},
   "outputs": [
    {
     "name": "stdout",
     "output_type": "stream",
     "text": [
      "Took 161.72387886047363 time\n"
     ]
    }
   ],
   "source": [
    "start = time.time()\n",
    "\n",
    "max_images = 25\n",
    "model = \"VGG16\"\n",
    "\n",
    "with tf.compat.v1.Session() as sess:\n",
    "    activation_generator = load_activations_model(dataset.experiment_name,max_images,model,sess)\n",
    "    activations = get_activations_dictionary(dataset.get_attributes(),\n",
    "                                             sess,\n",
    "                                             model_name=model,\n",
    "                                             experiment_name=dataset.experiment_name,\n",
    "                                             max_examples=max_images)\n",
    "\n",
    "\n",
    "print(\"Took {} time\".format(time.time()-start))"
   ]
  },
  {
   "cell_type": "markdown",
   "id": "02b83278",
   "metadata": {},
   "source": [
    "### Evaluate new results"
   ]
  },
  {
   "cell_type": "code",
   "execution_count": 4,
   "id": "91f7d9be",
   "metadata": {},
   "outputs": [],
   "source": [
    "dataset = MNIST_Dataset()"
   ]
  },
  {
   "cell_type": "code",
   "execution_count": 5,
   "id": "08d7ecb3",
   "metadata": {},
   "outputs": [],
   "source": [
    "seeds = [43,44,45]\n",
    "hierarchy_creation_method = create_linkage_hierarchy\n",
    "attributes = dataset.get_attributes()"
   ]
  },
  {
   "cell_type": "code",
   "execution_count": 6,
   "id": "989237f3",
   "metadata": {},
   "outputs": [],
   "source": [
    "metrics = [truthfulness_metric,stability_metric,robustness_image_metric,responsiveness_image_metric,robustness_model_metric,responsiveness_model_metric]\n",
    "metric_names = ['Truthfulness','Stability', 'Image Robustness', 'Image Responsiveness','Model Robustness','Model Responsiveness']"
   ]
  },
  {
   "cell_type": "markdown",
   "id": "886d582a",
   "metadata": {},
   "source": [
    "### Evalaute Labels-Only vectors"
   ]
  },
  {
   "cell_type": "code",
   "execution_count": 20,
   "id": "0bc49cbd",
   "metadata": {},
   "outputs": [
    {
     "name": "stdout",
     "output_type": "stream",
     "text": [
      "Stability: (0.0, 0.0)\n",
      "Image Robustness: (0.0, 0.0)\n",
      "Image Responsiveness: (47.0, 0.0)\n",
      "Model Robustness: (0.0, 0.0)\n",
      "Model Responsiveness: (0.0, 0.0)\n",
      "Truthfulness: (0.8222222222222223, 0.12570787221094182)\n",
      "Took 794.776941537857 time to compute\n"
     ]
    },
    {
     "data": {
      "text/plain": [
       "{'Stability': (0.0, 0.0),\n",
       " 'Image Robustness': (0.0, 0.0),\n",
       " 'Image Responsiveness': (47.0, 0.0),\n",
       " 'Model Robustness': (0.0, 0.0),\n",
       " 'Model Responsiveness': (0.0, 0.0),\n",
       " 'Truthfulness': (0.8222222222222223, 0.12570787221094182)}"
      ]
     },
     "execution_count": 20,
     "metadata": {},
     "output_type": "execute_result"
    }
   ],
   "source": [
    "start = time.time()\n",
    "\n",
    "results_label = compute_all_metrics(hierarchy_creation_method,\n",
    "                                    load_label_vectors_simple,\n",
    "                                    dataset,\n",
    "                                    attributes,\n",
    "                                    seeds)\n",
    "print(\"Took {} time to compute\".format(time.time()-start))\n",
    "results_label"
   ]
  },
  {
   "cell_type": "markdown",
   "id": "83553ffc",
   "metadata": {},
   "source": [
    "### Evaluate concept2vec"
   ]
  },
  {
   "cell_type": "code",
   "execution_count": 23,
   "id": "de4c1ac1",
   "metadata": {},
   "outputs": [
    {
     "data": {
      "text/plain": [
       "432"
      ]
     },
     "execution_count": 23,
     "metadata": {},
     "output_type": "execute_result"
    }
   ],
   "source": [
    "import gc\n",
    "gc.collect()"
   ]
  },
  {
   "cell_type": "code",
   "execution_count": 24,
   "id": "390fbe73",
   "metadata": {},
   "outputs": [
    {
     "name": "stdout",
     "output_type": "stream",
     "text": [
      "Stability: (37.333333333333336, 7.3181661333667165)\n",
      "Image Robustness: (36.333333333333336, 3.299831645537222)\n",
      "Image Responsiveness: (47.666666666666664, 0.9428090415820634)\n",
      "Model Robustness: (0.0, 0.0)\n",
      "Model Responsiveness: (0.0, 0.0)\n"
     ]
    },
    {
     "ename": "RuntimeError",
     "evalue": "can't start new thread",
     "output_type": "error",
     "traceback": [
      "\u001b[0;31m---------------------------------------------------------------------------\u001b[0m",
      "\u001b[0;31mRuntimeError\u001b[0m                              Traceback (most recent call last)",
      "\u001b[0;32m/auto/homes/njr61/environments/mambaforge/envs/concepts/lib/python3.7/contextlib.py\u001b[0m in \u001b[0;36m__exit__\u001b[0;34m(self, type, value, traceback)\u001b[0m\n\u001b[1;32m    129\u001b[0m             \u001b[0;32mtry\u001b[0m\u001b[0;34m:\u001b[0m\u001b[0;34m\u001b[0m\u001b[0;34m\u001b[0m\u001b[0m\n\u001b[0;32m--> 130\u001b[0;31m                 \u001b[0mself\u001b[0m\u001b[0;34m.\u001b[0m\u001b[0mgen\u001b[0m\u001b[0;34m.\u001b[0m\u001b[0mthrow\u001b[0m\u001b[0;34m(\u001b[0m\u001b[0mtype\u001b[0m\u001b[0;34m,\u001b[0m \u001b[0mvalue\u001b[0m\u001b[0;34m,\u001b[0m \u001b[0mtraceback\u001b[0m\u001b[0;34m)\u001b[0m\u001b[0;34m\u001b[0m\u001b[0;34m\u001b[0m\u001b[0m\n\u001b[0m\u001b[1;32m    131\u001b[0m             \u001b[0;32mexcept\u001b[0m \u001b[0mStopIteration\u001b[0m \u001b[0;32mas\u001b[0m \u001b[0mexc\u001b[0m\u001b[0;34m:\u001b[0m\u001b[0;34m\u001b[0m\u001b[0;34m\u001b[0m\u001b[0m\n",
      "\u001b[0;32m/auto/homes/njr61/environments/mambaforge/envs/concepts/lib/python3.7/site-packages/tensorflow/python/framework/ops.py\u001b[0m in \u001b[0;36mget_controller\u001b[0;34m(self, default)\u001b[0m\n\u001b[1;32m   5867\u001b[0m                  self).get_controller(default) as g, context.graph_mode():\n\u001b[0;32m-> 5868\u001b[0;31m         \u001b[0;32myield\u001b[0m \u001b[0mg\u001b[0m\u001b[0;34m\u001b[0m\u001b[0;34m\u001b[0m\u001b[0m\n\u001b[0m\u001b[1;32m   5869\u001b[0m     \u001b[0;32mfinally\u001b[0m\u001b[0;34m:\u001b[0m\u001b[0;34m\u001b[0m\u001b[0;34m\u001b[0m\u001b[0m\n",
      "\u001b[0;32m/auto/homes/njr61/main_code/src/metrics.py\u001b[0m in \u001b[0;36mtruthfulness_metric\u001b[0;34m(hierarchy_method, embedding_method, dataset, attributes, random_seeds, model, baseline_hierarchies)\u001b[0m\n\u001b[1;32m    260\u001b[0m                                                  \u001b[0mexperiment_name\u001b[0m\u001b[0;34m=\u001b[0m\u001b[0mdataset\u001b[0m\u001b[0;34m.\u001b[0m\u001b[0mexperiment_name\u001b[0m\u001b[0;34m,\u001b[0m\u001b[0;34m\u001b[0m\u001b[0;34m\u001b[0m\u001b[0m\n\u001b[0;32m--> 261\u001b[0;31m                                                  max_examples=max_images)\n\u001b[0m\u001b[1;32m    262\u001b[0m \u001b[0;34m\u001b[0m\u001b[0m\n",
      "\u001b[0;32m/auto/homes/njr61/main_code/src/concept_vectors.py\u001b[0m in \u001b[0;36mget_activations_dictionary\u001b[0;34m(attribute_list, sess, model_name, experiment_name, max_examples, bottleneck, delete_activations)\u001b[0m\n\u001b[1;32m    325\u001b[0m         \u001b[0mstart\u001b[0m \u001b[0;34m=\u001b[0m \u001b[0mtime\u001b[0m\u001b[0;34m.\u001b[0m\u001b[0mtime\u001b[0m\u001b[0;34m(\u001b[0m\u001b[0;34m)\u001b[0m\u001b[0;34m\u001b[0m\u001b[0;34m\u001b[0m\u001b[0m\n\u001b[0;32m--> 326\u001b[0;31m         \u001b[0mexamples\u001b[0m \u001b[0;34m=\u001b[0m \u001b[0mact_generator\u001b[0m\u001b[0;34m.\u001b[0m\u001b[0mget_examples_for_concept\u001b[0m\u001b[0;34m(\u001b[0m\u001b[0mi\u001b[0m\u001b[0;34m)\u001b[0m\u001b[0;34m\u001b[0m\u001b[0;34m\u001b[0m\u001b[0m\n\u001b[0m\u001b[1;32m    327\u001b[0m         \u001b[0mactivation_examples\u001b[0m \u001b[0;34m=\u001b[0m \u001b[0mact_generator\u001b[0m\u001b[0;34m.\u001b[0m\u001b[0mmodel\u001b[0m\u001b[0;34m.\u001b[0m\u001b[0mrun_examples\u001b[0m\u001b[0;34m(\u001b[0m\u001b[0mexamples\u001b[0m\u001b[0;34m,\u001b[0m \u001b[0mbottleneck\u001b[0m\u001b[0;34m)\u001b[0m\u001b[0;34m\u001b[0m\u001b[0;34m\u001b[0m\u001b[0m\n",
      "\u001b[0;32m/auto/homes/njr61/environments/mambaforge/envs/concepts/lib/python3.7/site-packages/tcav/activation_generator.py\u001b[0m in \u001b[0;36mget_examples_for_concept\u001b[0;34m(self, concept)\u001b[0m\n\u001b[1;32m    118\u001b[0m     imgs = self.load_images_from_files(\n\u001b[0;32m--> 119\u001b[0;31m         img_paths, self.max_examples, shape=self.model.get_image_shape()[:2])\n\u001b[0m\u001b[1;32m    120\u001b[0m     \u001b[0;32mreturn\u001b[0m \u001b[0mimgs\u001b[0m\u001b[0;34m\u001b[0m\u001b[0;34m\u001b[0m\u001b[0m\n",
      "\u001b[0;32m/auto/homes/njr61/environments/mambaforge/envs/concepts/lib/python3.7/site-packages/tcav/activation_generator.py\u001b[0m in \u001b[0;36mload_images_from_files\u001b[0;34m(self, filenames, max_imgs, do_shuffle, run_parallel, shape, num_workers)\u001b[0m\n\u001b[1;32m    187\u001b[0m     \u001b[0;32mif\u001b[0m \u001b[0mrun_parallel\u001b[0m\u001b[0;34m:\u001b[0m\u001b[0;34m\u001b[0m\u001b[0;34m\u001b[0m\u001b[0m\n\u001b[0;32m--> 188\u001b[0;31m       \u001b[0mpool\u001b[0m \u001b[0;34m=\u001b[0m \u001b[0mmultiprocessing\u001b[0m\u001b[0;34m.\u001b[0m\u001b[0mPool\u001b[0m\u001b[0;34m(\u001b[0m\u001b[0mnum_workers\u001b[0m\u001b[0;34m)\u001b[0m\u001b[0;34m\u001b[0m\u001b[0;34m\u001b[0m\u001b[0m\n\u001b[0m\u001b[1;32m    189\u001b[0m       imgs = pool.map(\n",
      "\u001b[0;32m/auto/homes/njr61/environments/mambaforge/envs/concepts/lib/python3.7/multiprocessing/dummy/__init__.py\u001b[0m in \u001b[0;36mPool\u001b[0;34m(processes, initializer, initargs)\u001b[0m\n\u001b[1;32m    123\u001b[0m     \u001b[0;32mfrom\u001b[0m \u001b[0;34m.\u001b[0m\u001b[0;34m.\u001b[0m\u001b[0mpool\u001b[0m \u001b[0;32mimport\u001b[0m \u001b[0mThreadPool\u001b[0m\u001b[0;34m\u001b[0m\u001b[0;34m\u001b[0m\u001b[0m\n\u001b[0;32m--> 124\u001b[0;31m     \u001b[0;32mreturn\u001b[0m \u001b[0mThreadPool\u001b[0m\u001b[0;34m(\u001b[0m\u001b[0mprocesses\u001b[0m\u001b[0;34m,\u001b[0m \u001b[0minitializer\u001b[0m\u001b[0;34m,\u001b[0m \u001b[0minitargs\u001b[0m\u001b[0;34m)\u001b[0m\u001b[0;34m\u001b[0m\u001b[0;34m\u001b[0m\u001b[0m\n\u001b[0m\u001b[1;32m    125\u001b[0m \u001b[0;34m\u001b[0m\u001b[0m\n",
      "\u001b[0;32m/auto/homes/njr61/environments/mambaforge/envs/concepts/lib/python3.7/multiprocessing/pool.py\u001b[0m in \u001b[0;36m__init__\u001b[0;34m(self, processes, initializer, initargs)\u001b[0m\n\u001b[1;32m    801\u001b[0m     \u001b[0;32mdef\u001b[0m \u001b[0m__init__\u001b[0m\u001b[0;34m(\u001b[0m\u001b[0mself\u001b[0m\u001b[0;34m,\u001b[0m \u001b[0mprocesses\u001b[0m\u001b[0;34m=\u001b[0m\u001b[0;32mNone\u001b[0m\u001b[0;34m,\u001b[0m \u001b[0minitializer\u001b[0m\u001b[0;34m=\u001b[0m\u001b[0;32mNone\u001b[0m\u001b[0;34m,\u001b[0m \u001b[0minitargs\u001b[0m\u001b[0;34m=\u001b[0m\u001b[0;34m(\u001b[0m\u001b[0;34m)\u001b[0m\u001b[0;34m)\u001b[0m\u001b[0;34m:\u001b[0m\u001b[0;34m\u001b[0m\u001b[0;34m\u001b[0m\u001b[0m\n\u001b[0;32m--> 802\u001b[0;31m         \u001b[0mPool\u001b[0m\u001b[0;34m.\u001b[0m\u001b[0m__init__\u001b[0m\u001b[0;34m(\u001b[0m\u001b[0mself\u001b[0m\u001b[0;34m,\u001b[0m \u001b[0mprocesses\u001b[0m\u001b[0;34m,\u001b[0m \u001b[0minitializer\u001b[0m\u001b[0;34m,\u001b[0m \u001b[0minitargs\u001b[0m\u001b[0;34m)\u001b[0m\u001b[0;34m\u001b[0m\u001b[0;34m\u001b[0m\u001b[0m\n\u001b[0m\u001b[1;32m    803\u001b[0m \u001b[0;34m\u001b[0m\u001b[0m\n",
      "\u001b[0;32m/auto/homes/njr61/environments/mambaforge/envs/concepts/lib/python3.7/multiprocessing/pool.py\u001b[0m in \u001b[0;36m__init__\u001b[0;34m(self, processes, initializer, initargs, maxtasksperchild, context)\u001b[0m\n\u001b[1;32m    175\u001b[0m         \u001b[0mself\u001b[0m\u001b[0;34m.\u001b[0m\u001b[0m_pool\u001b[0m \u001b[0;34m=\u001b[0m \u001b[0;34m[\u001b[0m\u001b[0;34m]\u001b[0m\u001b[0;34m\u001b[0m\u001b[0;34m\u001b[0m\u001b[0m\n\u001b[0;32m--> 176\u001b[0;31m         \u001b[0mself\u001b[0m\u001b[0;34m.\u001b[0m\u001b[0m_repopulate_pool\u001b[0m\u001b[0;34m(\u001b[0m\u001b[0;34m)\u001b[0m\u001b[0;34m\u001b[0m\u001b[0;34m\u001b[0m\u001b[0m\n\u001b[0m\u001b[1;32m    177\u001b[0m \u001b[0;34m\u001b[0m\u001b[0m\n",
      "\u001b[0;32m/auto/homes/njr61/environments/mambaforge/envs/concepts/lib/python3.7/multiprocessing/pool.py\u001b[0m in \u001b[0;36m_repopulate_pool\u001b[0;34m(self)\u001b[0m\n\u001b[1;32m    240\u001b[0m             \u001b[0mw\u001b[0m\u001b[0;34m.\u001b[0m\u001b[0mdaemon\u001b[0m \u001b[0;34m=\u001b[0m \u001b[0;32mTrue\u001b[0m\u001b[0;34m\u001b[0m\u001b[0;34m\u001b[0m\u001b[0m\n\u001b[0;32m--> 241\u001b[0;31m             \u001b[0mw\u001b[0m\u001b[0;34m.\u001b[0m\u001b[0mstart\u001b[0m\u001b[0;34m(\u001b[0m\u001b[0;34m)\u001b[0m\u001b[0;34m\u001b[0m\u001b[0;34m\u001b[0m\u001b[0m\n\u001b[0m\u001b[1;32m    242\u001b[0m             \u001b[0mutil\u001b[0m\u001b[0;34m.\u001b[0m\u001b[0mdebug\u001b[0m\u001b[0;34m(\u001b[0m\u001b[0;34m'added worker'\u001b[0m\u001b[0;34m)\u001b[0m\u001b[0;34m\u001b[0m\u001b[0;34m\u001b[0m\u001b[0m\n",
      "\u001b[0;32m/auto/homes/njr61/environments/mambaforge/envs/concepts/lib/python3.7/multiprocessing/dummy/__init__.py\u001b[0m in \u001b[0;36mstart\u001b[0;34m(self)\u001b[0m\n\u001b[1;32m     50\u001b[0m             \u001b[0mself\u001b[0m\u001b[0;34m.\u001b[0m\u001b[0m_parent\u001b[0m\u001b[0;34m.\u001b[0m\u001b[0m_children\u001b[0m\u001b[0;34m[\u001b[0m\u001b[0mself\u001b[0m\u001b[0;34m]\u001b[0m \u001b[0;34m=\u001b[0m \u001b[0;32mNone\u001b[0m\u001b[0;34m\u001b[0m\u001b[0;34m\u001b[0m\u001b[0m\n\u001b[0;32m---> 51\u001b[0;31m         \u001b[0mthreading\u001b[0m\u001b[0;34m.\u001b[0m\u001b[0mThread\u001b[0m\u001b[0;34m.\u001b[0m\u001b[0mstart\u001b[0m\u001b[0;34m(\u001b[0m\u001b[0mself\u001b[0m\u001b[0;34m)\u001b[0m\u001b[0;34m\u001b[0m\u001b[0;34m\u001b[0m\u001b[0m\n\u001b[0m\u001b[1;32m     52\u001b[0m \u001b[0;34m\u001b[0m\u001b[0m\n",
      "\u001b[0;32m/auto/homes/njr61/environments/mambaforge/envs/concepts/lib/python3.7/threading.py\u001b[0m in \u001b[0;36mstart\u001b[0;34m(self)\u001b[0m\n\u001b[1;32m    851\u001b[0m         \u001b[0;32mtry\u001b[0m\u001b[0;34m:\u001b[0m\u001b[0;34m\u001b[0m\u001b[0;34m\u001b[0m\u001b[0m\n\u001b[0;32m--> 852\u001b[0;31m             \u001b[0m_start_new_thread\u001b[0m\u001b[0;34m(\u001b[0m\u001b[0mself\u001b[0m\u001b[0;34m.\u001b[0m\u001b[0m_bootstrap\u001b[0m\u001b[0;34m,\u001b[0m \u001b[0;34m(\u001b[0m\u001b[0;34m)\u001b[0m\u001b[0;34m)\u001b[0m\u001b[0;34m\u001b[0m\u001b[0;34m\u001b[0m\u001b[0m\n\u001b[0m\u001b[1;32m    853\u001b[0m         \u001b[0;32mexcept\u001b[0m \u001b[0mException\u001b[0m\u001b[0;34m:\u001b[0m\u001b[0;34m\u001b[0m\u001b[0;34m\u001b[0m\u001b[0m\n",
      "\u001b[0;31mRuntimeError\u001b[0m: can't start new thread",
      "\nDuring handling of the above exception, another exception occurred:\n",
      "\u001b[0;31mRuntimeError\u001b[0m                              Traceback (most recent call last)",
      "\u001b[0;32m/tmp/ipykernel_18619/3512155441.py\u001b[0m in \u001b[0;36m<module>\u001b[0;34m\u001b[0m\n\u001b[1;32m      5\u001b[0m                                     \u001b[0mdataset\u001b[0m\u001b[0;34m,\u001b[0m\u001b[0;34m\u001b[0m\u001b[0;34m\u001b[0m\u001b[0m\n\u001b[1;32m      6\u001b[0m                                     \u001b[0mattributes\u001b[0m\u001b[0;34m,\u001b[0m\u001b[0;34m\u001b[0m\u001b[0;34m\u001b[0m\u001b[0m\n\u001b[0;32m----> 7\u001b[0;31m                                     seeds)\n\u001b[0m\u001b[1;32m      8\u001b[0m \u001b[0mprint\u001b[0m\u001b[0;34m(\u001b[0m\u001b[0;34m\"Took {} time to compute\"\u001b[0m\u001b[0;34m.\u001b[0m\u001b[0mformat\u001b[0m\u001b[0;34m(\u001b[0m\u001b[0mtime\u001b[0m\u001b[0;34m.\u001b[0m\u001b[0mtime\u001b[0m\u001b[0;34m(\u001b[0m\u001b[0;34m)\u001b[0m\u001b[0;34m-\u001b[0m\u001b[0mstart\u001b[0m\u001b[0;34m)\u001b[0m\u001b[0;34m)\u001b[0m\u001b[0;34m\u001b[0m\u001b[0;34m\u001b[0m\u001b[0m\n\u001b[1;32m      9\u001b[0m \u001b[0mresults_concept2vec\u001b[0m\u001b[0;34m\u001b[0m\u001b[0;34m\u001b[0m\u001b[0m\n",
      "\u001b[0;32m/auto/homes/njr61/main_code/src/metrics.py\u001b[0m in \u001b[0;36mcompute_all_metrics\u001b[0;34m(hierarchy_method, embedding_method, dataset, attributes, random_seeds, model)\u001b[0m\n\u001b[1;32m    300\u001b[0m                         \u001b[0mattributes\u001b[0m\u001b[0;34m,\u001b[0m\u001b[0;34m\u001b[0m\u001b[0;34m\u001b[0m\u001b[0m\n\u001b[1;32m    301\u001b[0m                         \u001b[0mrandom_seeds\u001b[0m\u001b[0;34m,\u001b[0m\u001b[0;34m\u001b[0m\u001b[0;34m\u001b[0m\u001b[0m\n\u001b[0;32m--> 302\u001b[0;31m                         baseline_hierarchies=baseline_hierarchies)\n\u001b[0m\u001b[1;32m    303\u001b[0m         \u001b[0mprint\u001b[0m\u001b[0;34m(\u001b[0m\u001b[0;34m\"{}: {}\"\u001b[0m\u001b[0;34m.\u001b[0m\u001b[0mformat\u001b[0m\u001b[0;34m(\u001b[0m\u001b[0mname\u001b[0m\u001b[0;34m,\u001b[0m \u001b[0mscore\u001b[0m\u001b[0;34m)\u001b[0m\u001b[0;34m)\u001b[0m\u001b[0;34m\u001b[0m\u001b[0;34m\u001b[0m\u001b[0m\n\u001b[1;32m    304\u001b[0m         \u001b[0mresults\u001b[0m\u001b[0;34m[\u001b[0m\u001b[0mname\u001b[0m\u001b[0;34m]\u001b[0m \u001b[0;34m=\u001b[0m \u001b[0mscore\u001b[0m\u001b[0;34m\u001b[0m\u001b[0;34m\u001b[0m\u001b[0m\n",
      "\u001b[0;32m/auto/homes/njr61/main_code/src/metrics.py\u001b[0m in \u001b[0;36mtruthfulness_metric\u001b[0;34m(hierarchy_method, embedding_method, dataset, attributes, random_seeds, model, baseline_hierarchies)\u001b[0m\n\u001b[1;32m    259\u001b[0m                                                  \u001b[0mmodel_name\u001b[0m\u001b[0;34m=\u001b[0m\u001b[0mmodel\u001b[0m\u001b[0;34m,\u001b[0m\u001b[0;34m\u001b[0m\u001b[0;34m\u001b[0m\u001b[0m\n\u001b[1;32m    260\u001b[0m                                                  \u001b[0mexperiment_name\u001b[0m\u001b[0;34m=\u001b[0m\u001b[0mdataset\u001b[0m\u001b[0;34m.\u001b[0m\u001b[0mexperiment_name\u001b[0m\u001b[0;34m,\u001b[0m\u001b[0;34m\u001b[0m\u001b[0;34m\u001b[0m\u001b[0m\n\u001b[0;32m--> 261\u001b[0;31m                                                  max_examples=max_images)\n\u001b[0m\u001b[1;32m    262\u001b[0m \u001b[0;34m\u001b[0m\u001b[0m\n\u001b[1;32m    263\u001b[0m     \u001b[0;32mfor\u001b[0m \u001b[0mseed\u001b[0m \u001b[0;32min\u001b[0m \u001b[0mrandom_seeds\u001b[0m\u001b[0;34m:\u001b[0m\u001b[0;34m\u001b[0m\u001b[0;34m\u001b[0m\u001b[0m\n",
      "\u001b[0;32m/auto/homes/njr61/environments/mambaforge/envs/concepts/lib/python3.7/site-packages/tensorflow/python/client/session.py\u001b[0m in \u001b[0;36m__exit__\u001b[0;34m(self, exec_type, exec_value, exec_tb)\u001b[0m\n\u001b[1;32m   1650\u001b[0m           name='SessionCloseThread', target=self.close)\n\u001b[1;32m   1651\u001b[0m       \u001b[0mclose_thread\u001b[0m\u001b[0;34m.\u001b[0m\u001b[0mdaemon\u001b[0m \u001b[0;34m=\u001b[0m \u001b[0;32mTrue\u001b[0m\u001b[0;34m\u001b[0m\u001b[0;34m\u001b[0m\u001b[0m\n\u001b[0;32m-> 1652\u001b[0;31m       \u001b[0mclose_thread\u001b[0m\u001b[0;34m.\u001b[0m\u001b[0mstart\u001b[0m\u001b[0;34m(\u001b[0m\u001b[0;34m)\u001b[0m\u001b[0;34m\u001b[0m\u001b[0;34m\u001b[0m\u001b[0m\n\u001b[0m\u001b[1;32m   1653\u001b[0m       \u001b[0mclose_thread\u001b[0m\u001b[0;34m.\u001b[0m\u001b[0mjoin\u001b[0m\u001b[0;34m(\u001b[0m\u001b[0;36m30.0\u001b[0m\u001b[0;34m)\u001b[0m\u001b[0;34m\u001b[0m\u001b[0;34m\u001b[0m\u001b[0m\n\u001b[1;32m   1654\u001b[0m       \u001b[0;32mif\u001b[0m \u001b[0mclose_thread\u001b[0m\u001b[0;34m.\u001b[0m\u001b[0mis_alive\u001b[0m\u001b[0;34m(\u001b[0m\u001b[0;34m)\u001b[0m\u001b[0;34m:\u001b[0m\u001b[0;34m\u001b[0m\u001b[0;34m\u001b[0m\u001b[0m\n",
      "\u001b[0;32m/auto/homes/njr61/environments/mambaforge/envs/concepts/lib/python3.7/threading.py\u001b[0m in \u001b[0;36mstart\u001b[0;34m(self)\u001b[0m\n\u001b[1;32m    850\u001b[0m             \u001b[0m_limbo\u001b[0m\u001b[0;34m[\u001b[0m\u001b[0mself\u001b[0m\u001b[0;34m]\u001b[0m \u001b[0;34m=\u001b[0m \u001b[0mself\u001b[0m\u001b[0;34m\u001b[0m\u001b[0;34m\u001b[0m\u001b[0m\n\u001b[1;32m    851\u001b[0m         \u001b[0;32mtry\u001b[0m\u001b[0;34m:\u001b[0m\u001b[0;34m\u001b[0m\u001b[0;34m\u001b[0m\u001b[0m\n\u001b[0;32m--> 852\u001b[0;31m             \u001b[0m_start_new_thread\u001b[0m\u001b[0;34m(\u001b[0m\u001b[0mself\u001b[0m\u001b[0;34m.\u001b[0m\u001b[0m_bootstrap\u001b[0m\u001b[0;34m,\u001b[0m \u001b[0;34m(\u001b[0m\u001b[0;34m)\u001b[0m\u001b[0;34m)\u001b[0m\u001b[0;34m\u001b[0m\u001b[0;34m\u001b[0m\u001b[0m\n\u001b[0m\u001b[1;32m    853\u001b[0m         \u001b[0;32mexcept\u001b[0m \u001b[0mException\u001b[0m\u001b[0;34m:\u001b[0m\u001b[0;34m\u001b[0m\u001b[0;34m\u001b[0m\u001b[0m\n\u001b[1;32m    854\u001b[0m             \u001b[0;32mwith\u001b[0m \u001b[0m_active_limbo_lock\u001b[0m\u001b[0;34m:\u001b[0m\u001b[0;34m\u001b[0m\u001b[0;34m\u001b[0m\u001b[0m\n",
      "\u001b[0;31mRuntimeError\u001b[0m: can't start new thread"
     ]
    }
   ],
   "source": [
    "start = time.time()\n",
    "\n",
    "results_concept2vec = compute_all_metrics(hierarchy_creation_method,\n",
    "                                    load_concept2vec_vectors_simple,\n",
    "                                    dataset,\n",
    "                                    attributes,\n",
    "                                    seeds)\n",
    "print(\"Took {} time to compute\".format(time.time()-start))\n",
    "results_concept2vec"
   ]
  },
  {
   "cell_type": "markdown",
   "id": "96cfecf6",
   "metadata": {},
   "source": [
    "### Evaluate TCAV Vectors"
   ]
  },
  {
   "cell_type": "code",
   "execution_count": null,
   "id": "ce73e945",
   "metadata": {},
   "outputs": [],
   "source": [
    "start = time.time()\n",
    "\n",
    "results_tcav = compute_all_metrics(hierarchy_creation_method,\n",
    "                                    load_tcav_vectors_simple,\n",
    "                                    dataset,\n",
    "                                    attributes,\n",
    "                                    seeds)\n",
    "print(\"Took {} time to compute\".format(time.time()-start))\n",
    "results_tcav"
   ]
  },
  {
   "cell_type": "markdown",
   "id": "3c6ba270",
   "metadata": {},
   "source": [
    "### Evaluate CEM Vectors"
   ]
  },
  {
   "cell_type": "code",
   "execution_count": null,
   "id": "8b523703",
   "metadata": {},
   "outputs": [],
   "source": [
    "start = time.time()\n",
    "\n",
    "results_cem = compute_all_metrics(hierarchy_creation_method,\n",
    "                                    load_cem_vectors_simple,\n",
    "                                    dataset,\n",
    "                                    attributes,\n",
    "                                    seeds)\n",
    "print(\"Took {} time to compute\".format(time.time()-start))\n",
    "results_cem"
   ]
  },
  {
   "cell_type": "markdown",
   "id": "32b37f62",
   "metadata": {},
   "source": [
    "### Evaluate aggregated functions"
   ]
  },
  {
   "cell_type": "code",
   "execution_count": null,
   "id": "735bbd6b",
   "metadata": {},
   "outputs": [],
   "source": [
    "method = combine_embeddings_average(load_label_vectors_simple,load_tcav_vectors_simple)"
   ]
  },
  {
   "cell_type": "code",
   "execution_count": null,
   "id": "eaa94344",
   "metadata": {},
   "outputs": [],
   "source": [
    "start = time.time()\n",
    "\n",
    "results_avg = compute_all_metrics(hierarchy_creation_method,\n",
    "                                    method,\n",
    "                                    dataset,\n",
    "                                    attributes,\n",
    "                                    seeds)\n",
    "print(\"Took {} time to compute\".format(time.time()-start))\n",
    "results_avg"
   ]
  },
  {
   "cell_type": "code",
   "execution_count": null,
   "id": "6467660c",
   "metadata": {},
   "outputs": [],
   "source": [
    "method = combine_embeddings_concatenate(load_label_vectors_simple,load_tcav_vectors_simple)"
   ]
  },
  {
   "cell_type": "code",
   "execution_count": null,
   "id": "06c12fc4",
   "metadata": {},
   "outputs": [],
   "source": [
    "start = time.time()\n",
    "\n",
    "results_concatenate = compute_all_metrics(hierarchy_creation_method,\n",
    "                                    method,\n",
    "                                    dataset,\n",
    "                                    attributes,\n",
    "                                    seeds)\n",
    "print(\"Took {} time to compute\".format(time.time()-start))\n",
    "results_concatenate"
   ]
  },
  {
   "cell_type": "markdown",
   "id": "0a1cc8e1",
   "metadata": {},
   "source": [
    "### Evaluate Model-based Vectors"
   ]
  },
  {
   "cell_type": "code",
   "execution_count": null,
   "id": "5363ea22",
   "metadata": {},
   "outputs": [],
   "source": [
    "start = time.time()\n",
    "\n",
    "results_model = compute_all_metrics(hierarchy_creation_method,\n",
    "                                    create_model_representation_vectors_simple,\n",
    "                                    dataset,\n",
    "                                    attributes,\n",
    "                                    seeds)\n",
    "print(\"Took {} time to compute\".format(time.time()-start))\n",
    "results_model"
   ]
  },
  {
   "cell_type": "code",
   "execution_count": null,
   "id": "f2ad8912",
   "metadata": {},
   "outputs": [],
   "source": []
  }
 ],
 "metadata": {
  "kernelspec": {
   "display_name": "Python 3 (ipykernel)",
   "language": "python",
   "name": "python3"
  },
  "language_info": {
   "codemirror_mode": {
    "name": "ipython",
    "version": 3
   },
   "file_extension": ".py",
   "mimetype": "text/x-python",
   "name": "python",
   "nbconvert_exporter": "python",
   "pygments_lexer": "ipython3",
   "version": "3.7.12"
  }
 },
 "nbformat": 4,
 "nbformat_minor": 5
}
