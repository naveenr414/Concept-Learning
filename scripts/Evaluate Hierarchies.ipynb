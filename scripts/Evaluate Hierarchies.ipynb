{
 "cells": [
  {
   "cell_type": "code",
   "execution_count": 1,
   "id": "ddd0e1f6",
   "metadata": {},
   "outputs": [],
   "source": [
    "%load_ext autoreload\n",
    "%autoreload 2\n",
    "%matplotlib notebook"
   ]
  },
  {
   "cell_type": "code",
   "execution_count": 2,
   "id": "011d6db1",
   "metadata": {},
   "outputs": [],
   "source": [
    "import os\n",
    "os.chdir('../')\n",
    "os.environ[\"CUDA_VISIBLE_DEVICES\"]=\"1\""
   ]
  },
  {
   "cell_type": "code",
   "execution_count": 3,
   "id": "6d4171c9",
   "metadata": {},
   "outputs": [
    {
     "name": "stderr",
     "output_type": "stream",
     "text": [
      "2023-04-30 14:37:36.767707: I tensorflow/core/platform/cpu_feature_guard.cc:193] This TensorFlow binary is optimized with oneAPI Deep Neural Network Library (oneDNN) to use the following CPU instructions in performance-critical operations:  SSE4.1 SSE4.2 AVX FMA\n",
      "To enable them in other operations, rebuild TensorFlow with the appropriate compiler flags.\n"
     ]
    }
   ],
   "source": [
    "from src.dataset import *\n",
    "from src.concept_vectors import *\n",
    "from src.util import *\n",
    "from src.hierarchy import *\n",
    "from src.metrics import *\n",
    "import numpy as np\n",
    "import matplotlib.pyplot as plt\n",
    "import glob\n",
    "import tensorflow as tf"
   ]
  },
  {
   "cell_type": "code",
   "execution_count": 4,
   "id": "333125d0",
   "metadata": {},
   "outputs": [
    {
     "name": "stdout",
     "output_type": "stream",
     "text": [
      "No GPus\n"
     ]
    },
    {
     "name": "stderr",
     "output_type": "stream",
     "text": [
      "2023-04-30 14:37:49.644124: W tensorflow/stream_executor/platform/default/dso_loader.cc:64] Could not load dynamic library 'libcuda.so.1'; dlerror: libcuda.so.1: cannot open shared object file: No such file or directory; LD_LIBRARY_PATH: :/usr/local/cuda/lib64\n",
      "2023-04-30 14:37:49.644177: W tensorflow/stream_executor/cuda/cuda_driver.cc:263] failed call to cuInit: UNKNOWN ERROR (303)\n",
      "2023-04-30 14:37:49.644492: I tensorflow/stream_executor/cuda/cuda_diagnostics.cc:156] kernel driver does not appear to be running on this host (nemo.cl.cam.ac.uk): /proc/driver/nvidia/version does not exist\n"
     ]
    }
   ],
   "source": [
    "gpus = tf.config.experimental.list_physical_devices('GPU')\n",
    "if gpus:\n",
    "    try:\n",
    "        tf.config.experimental.set_virtual_device_configuration(\n",
    "            gpus[0],\n",
    "            [tf.config.experimental.VirtualDeviceConfiguration(memory_limit=2048)]\n",
    "        )\n",
    "    except RuntimeError as e:\n",
    "        print(e)\n",
    "else:\n",
    "    print(\"No GPus\")\n"
   ]
  },
  {
   "cell_type": "code",
   "execution_count": 5,
   "id": "08d7ecb3",
   "metadata": {},
   "outputs": [],
   "source": [
    "seeds = [43,44,45]\n",
    "vector_method = [load_label_vectors_simple,load_shapley_vectors_simple,load_concept2vec_vectors_simple,load_cem_vectors_simple]\n",
    "vector_names = [\"Label\",\"Shapley\",\"Concept2Vec\",\"CEM\"]"
   ]
  },
  {
   "cell_type": "markdown",
   "id": "df1f0128",
   "metadata": {},
   "source": [
    "## Debugging: Check which TCAV Vectors are available"
   ]
  },
  {
   "cell_type": "code",
   "execution_count": 7,
   "id": "7e676fe9",
   "metadata": {},
   "outputs": [],
   "source": [
    "dataset = CUB_Dataset()\n",
    "attributes = dataset.get_attributes()"
   ]
  },
  {
   "cell_type": "code",
   "execution_count": 24,
   "id": "cf6cc7de",
   "metadata": {},
   "outputs": [],
   "source": [
    "def attribute_exists(attribute_name,suffix,seed):\n",
    "    attribute_name = attribute_name.replace(\" \",\"_\")\n",
    "    folder_name = \"results/cavs/cub{}/{}/\".format(suffix,seed)\n",
    "    for i in range(3):\n",
    "        file_name = \"{}-random500_{}-block4_conv1-linear-0.1.pkl\".format(attribute_name,i)\n",
    "        \n",
    "        if not os.path.exists(folder_name + file_name):\n",
    "            print(folder_name+file_name)\n",
    "            return False\n",
    "    return True"
   ]
  },
  {
   "cell_type": "code",
   "execution_count": 27,
   "id": "e767dfd0",
   "metadata": {},
   "outputs": [],
   "source": [
    "for attribute in attributes:\n",
    "    for seed in [43,44,45]:\n",
    "        for suffix in ['','_image_robustness','_image_responsiveness']:\n",
    "            attribute_exists(attribute,suffix,seed)"
   ]
  },
  {
   "cell_type": "markdown",
   "id": "eecdafd0",
   "metadata": {},
   "source": [
    "## Evaluate All Vectors MNIST"
   ]
  },
  {
   "cell_type": "code",
   "execution_count": 10,
   "id": "e8d0a84b",
   "metadata": {},
   "outputs": [],
   "source": [
    "dataset = MNIST_Dataset()\n",
    "attributes = dataset.get_attributes()"
   ]
  },
  {
   "cell_type": "code",
   "execution_count": 15,
   "id": "3dd9a9be",
   "metadata": {},
   "outputs": [
    {
     "name": "stdout",
     "output_type": "stream",
     "text": [
      "Computing Label\n",
      "Stability: (0.0, 0.0)\n",
      "Image Robustness: (0.04761904761904767, 0.0)\n",
      "Image Responsiveness: (1.0, 0.0)\n"
     ]
    },
    {
     "name": "stderr",
     "output_type": "stream",
     "text": [
      "/auto/homes/njr61/environments/mambaforge/envs/concepts/lib/python3.7/site-packages/keras/optimizers/optimizer_v2/adam.py:114: UserWarning: The `lr` argument is deprecated, use `learning_rate` instead.\n",
      "  super().__init__(name, **kwargs)\n"
     ]
    },
    {
     "name": "stdout",
     "output_type": "stream",
     "text": [
      "Found 10000 validated image filenames belonging to 10 classes.\n",
      "313/313 [==============================] - 29s 90ms/step\n",
      "Truthfulness: (0.9523809523809522, 1.1102230246251565e-16)\n",
      "Method Label: {'Stability': (0.0, 0.0), 'Image Robustness': (0.04761904761904767, 0.0), 'Image Responsiveness': (1.0, 0.0), 'Truthfulness': (0.9523809523809522, 1.1102230246251565e-16)}\n",
      "Computing TCAV\n",
      "Stability: (0.03174603174603178, 0.022447834323382487)\n",
      "Image Robustness: (0.9047619047619048, 0.0)\n",
      "Image Responsiveness: (1.0, 0.0)\n"
     ]
    },
    {
     "name": "stderr",
     "output_type": "stream",
     "text": [
      "/auto/homes/njr61/environments/mambaforge/envs/concepts/lib/python3.7/site-packages/keras/optimizers/optimizer_v2/adam.py:114: UserWarning: The `lr` argument is deprecated, use `learning_rate` instead.\n",
      "  super().__init__(name, **kwargs)\n"
     ]
    },
    {
     "name": "stdout",
     "output_type": "stream",
     "text": [
      "Found 10000 validated image filenames belonging to 10 classes.\n",
      "313/313 [==============================] - 29s 91ms/step\n"
     ]
    },
    {
     "name": "stderr",
     "output_type": "stream",
     "text": [
      "/auto/homes/njr61/main_code/src/metrics.py:361: VisibleDeprecationWarning: Creating an ndarray from ragged nested sequences (which is a list-or-tuple of lists-or-tuples-or ndarrays with different lengths or shapes) is deprecated. If you meant to do this, you must specify 'dtype=object' when creating the ndarray.\n",
      "  \n"
     ]
    },
    {
     "name": "stdout",
     "output_type": "stream",
     "text": [
      "Truthfulness: (0.9523809523809522, 1.1102230246251565e-16)\n",
      "Method TCAV: {'Stability': (0.03174603174603178, 0.022447834323382487), 'Image Robustness': (0.9047619047619048, 0.0), 'Image Responsiveness': (1.0, 0.0), 'Truthfulness': (0.9523809523809522, 1.1102230246251565e-16)}\n",
      "Computing Shapley\n",
      "Stability: (0.03174603174603178, 0.022447834323382487)\n",
      "Image Robustness: (0.04761904761904767, 0.0)\n",
      "Image Responsiveness: (0.04761904761904767, 0.0)\n"
     ]
    },
    {
     "name": "stderr",
     "output_type": "stream",
     "text": [
      "/auto/homes/njr61/environments/mambaforge/envs/concepts/lib/python3.7/site-packages/keras/optimizers/optimizer_v2/adam.py:114: UserWarning: The `lr` argument is deprecated, use `learning_rate` instead.\n",
      "  super().__init__(name, **kwargs)\n"
     ]
    },
    {
     "name": "stdout",
     "output_type": "stream",
     "text": [
      "Found 10000 validated image filenames belonging to 10 classes.\n",
      "313/313 [==============================] - 29s 92ms/step\n",
      "Truthfulness: (0.9523809523809522, 1.1102230246251565e-16)\n",
      "Method Shapley: {'Stability': (0.03174603174603178, 0.022447834323382487), 'Image Robustness': (0.04761904761904767, 0.0), 'Image Responsiveness': (0.04761904761904767, 0.0), 'Truthfulness': (0.9523809523809522, 1.1102230246251565e-16)}\n",
      "Computing Concept2Vec\n",
      "Stability: (0.04761904761904767, 0.0)\n",
      "Image Robustness: (0.04761904761904767, 0.0)\n",
      "Image Responsiveness: (0.9682539682539683, 0.022447834323382487)\n"
     ]
    },
    {
     "name": "stderr",
     "output_type": "stream",
     "text": [
      "/auto/homes/njr61/environments/mambaforge/envs/concepts/lib/python3.7/site-packages/keras/optimizers/optimizer_v2/adam.py:114: UserWarning: The `lr` argument is deprecated, use `learning_rate` instead.\n",
      "  super().__init__(name, **kwargs)\n"
     ]
    },
    {
     "name": "stdout",
     "output_type": "stream",
     "text": [
      "Found 10000 validated image filenames belonging to 10 classes.\n",
      "313/313 [==============================] - 29s 94ms/step\n",
      "Truthfulness: (0.9523809523809522, 1.1102230246251565e-16)\n",
      "Method Concept2Vec: {'Stability': (0.04761904761904767, 0.0), 'Image Robustness': (0.04761904761904767, 0.0), 'Image Responsiveness': (0.9682539682539683, 0.022447834323382487), 'Truthfulness': (0.9523809523809522, 1.1102230246251565e-16)}\n",
      "Computing CEM\n",
      "Stability: (0.253968253968254, 0.14720029357929687)\n",
      "Image Robustness: (0.28571428571428575, 0.10286889997472791)\n",
      "Image Responsiveness: (0.9523809523809524, 0.06734350297014735)\n"
     ]
    },
    {
     "name": "stderr",
     "output_type": "stream",
     "text": [
      "/auto/homes/njr61/environments/mambaforge/envs/concepts/lib/python3.7/site-packages/keras/optimizers/optimizer_v2/adam.py:114: UserWarning: The `lr` argument is deprecated, use `learning_rate` instead.\n",
      "  super().__init__(name, **kwargs)\n"
     ]
    },
    {
     "name": "stdout",
     "output_type": "stream",
     "text": [
      "Found 10000 validated image filenames belonging to 10 classes.\n",
      "313/313 [==============================] - 28s 89ms/step\n"
     ]
    },
    {
     "name": "stderr",
     "output_type": "stream",
     "text": [
      "/auto/homes/njr61/main_code/src/metrics.py:361: VisibleDeprecationWarning: Creating an ndarray from ragged nested sequences (which is a list-or-tuple of lists-or-tuples-or ndarrays with different lengths or shapes) is deprecated. If you meant to do this, you must specify 'dtype=object' when creating the ndarray.\n",
      "  \n"
     ]
    },
    {
     "name": "stdout",
     "output_type": "stream",
     "text": [
      "Truthfulness: (0.8253968253968255, 0.17958267458705968)\n",
      "Method CEM: {'Stability': (0.253968253968254, 0.14720029357929687), 'Image Robustness': (0.28571428571428575, 0.10286889997472791), 'Image Responsiveness': (0.9523809523809524, 0.06734350297014735), 'Truthfulness': (0.8253968253968255, 0.17958267458705968)}\n"
     ]
    }
   ],
   "source": [
    "for method,name in zip(vector_method,vector_names):\n",
    "    print(\"Computing {}\".format(name))\n",
    "    start = time.time()\n",
    "\n",
    "    results = compute_all_metrics(method,\n",
    "                                        dataset,\n",
    "                                        attributes,\n",
    "                                        seeds)\n",
    "    print(\"Method {}: {}\".format(name,results))\n",
    "    \n",
    "    name_lower = name.lower()\n",
    "    w = open(\"results/evaluation/{}_{}.txt\".format(dataset.experiment_name,name_lower),\"w\")\n",
    "    for key in results:\n",
    "        w.write(\"{}: {}\\n\".format(key,results[key]))\n",
    "    w.close()\n"
   ]
  },
  {
   "cell_type": "markdown",
   "id": "11209b50",
   "metadata": {},
   "source": [
    "## Evaluate all Vectors CUB"
   ]
  },
  {
   "cell_type": "code",
   "execution_count": 29,
   "id": "4c026bc5",
   "metadata": {},
   "outputs": [],
   "source": [
    "dataset = CUB_Dataset()\n",
    "attributes = dataset.get_attributes()\n",
    "seeds = [43,44,45]"
   ]
  },
  {
   "cell_type": "code",
   "execution_count": null,
   "id": "b78ba214",
   "metadata": {},
   "outputs": [
    {
     "name": "stdout",
     "output_type": "stream",
     "text": [
      "Computing TCAV\n",
      "Stability: (0.9890873015873017, 0.0037119616932281036)\n",
      "Image Robustness: (0.9970238095238096, 0.002430049347999176)\n"
     ]
    }
   ],
   "source": [
    "for method,name in zip([load_tcav_vectors_simple]+vector_method,['TCAV']+vector_names):\n",
    "    print(\"Computing {}\".format(name))\n",
    "    start = time.time()\n",
    "\n",
    "    results = compute_all_metrics(method,\n",
    "                                        dataset,\n",
    "                                        attributes,\n",
    "                                        seeds)\n",
    "    print(\"Method {}: {}\".format(name,results))\n",
    "    \n",
    "    name_lower = name.lower()\n",
    "    w = open(\"results/evaluation/{}_{}.txt\".format(dataset.experiment_name,name_lower),\"w\")\n",
    "    for key in results:\n",
    "        w.write(\"{}: {}\\n\".format(key,results[key]))\n",
    "    w.close()\n",
    "    \n",
    "    break\n"
   ]
  },
  {
   "cell_type": "markdown",
   "id": "5d4eef3a",
   "metadata": {},
   "source": [
    "## Evalaute all Vectors DSprites"
   ]
  },
  {
   "cell_type": "code",
   "execution_count": 6,
   "id": "59fa35e1",
   "metadata": {},
   "outputs": [],
   "source": [
    "dataset = DSprites_Dataset()\n",
    "attributes = dataset.get_attributes()"
   ]
  },
  {
   "cell_type": "code",
   "execution_count": 7,
   "id": "572b96fb",
   "metadata": {},
   "outputs": [
    {
     "name": "stdout",
     "output_type": "stream",
     "text": [
      "Computing Label\n",
      "Stability: (0.0, 0.0)\n",
      "Image Robustness: (0.8148148148148149, 0.0)\n",
      "Image Responsiveness: (0.7777777777777778, 0.0)\n"
     ]
    },
    {
     "name": "stderr",
     "output_type": "stream",
     "text": [
      "2023-04-28 22:24:23.156494: I tensorflow/core/platform/cpu_feature_guard.cc:193] This TensorFlow binary is optimized with oneAPI Deep Neural Network Library (oneDNN) to use the following CPU instructions in performance-critical operations:  SSE4.1 SSE4.2 AVX FMA\n",
      "To enable them in other operations, rebuild TensorFlow with the appropriate compiler flags.\n",
      "/auto/homes/njr61/environments/mambaforge/envs/concepts/lib/python3.7/site-packages/keras/optimizers/optimizer_v2/adam.py:114: UserWarning: The `lr` argument is deprecated, use `learning_rate` instead.\n",
      "  super().__init__(name, **kwargs)\n"
     ]
    },
    {
     "name": "stdout",
     "output_type": "stream",
     "text": [
      "Found 750 validated image filenames belonging to 9 classes.\n",
      "24/24 [==============================] - 123s 5s/step\n"
     ]
    },
    {
     "name": "stderr",
     "output_type": "stream",
     "text": [
      "/auto/homes/njr61/environments/mambaforge/envs/concepts/lib/python3.7/site-packages/numpy/core/fromnumeric.py:3441: RuntimeWarning: Mean of empty slice.\n",
      "  out=out, **kwargs)\n",
      "/auto/homes/njr61/environments/mambaforge/envs/concepts/lib/python3.7/site-packages/numpy/core/_methods.py:189: RuntimeWarning: invalid value encountered in true_divide\n",
      "  ret = ret.dtype.type(ret / rcount)\n"
     ]
    },
    {
     "name": "stdout",
     "output_type": "stream",
     "text": [
      "Truthfulness: (0.5, 0.0)\n",
      "Method Label: {'Stability': (0.0, 0.0), 'Image Robustness': (0.8148148148148149, 0.0), 'Image Responsiveness': (0.7777777777777778, 0.0), 'Truthfulness': (0.5, 0.0)}\n",
      "Computing Shapley\n",
      "Stability: (0.04938271604938275, 0.008729713347982055)\n",
      "Image Robustness: (0.38888888888888884, 0.01512030705421717)\n",
      "Image Responsiveness: (0.5679012345679012, 0.061107993435874475)\n"
     ]
    },
    {
     "name": "stderr",
     "output_type": "stream",
     "text": [
      "/auto/homes/njr61/environments/mambaforge/envs/concepts/lib/python3.7/site-packages/keras/optimizers/optimizer_v2/adam.py:114: UserWarning: The `lr` argument is deprecated, use `learning_rate` instead.\n",
      "  super().__init__(name, **kwargs)\n"
     ]
    },
    {
     "name": "stdout",
     "output_type": "stream",
     "text": [
      "Found 750 validated image filenames belonging to 9 classes.\n",
      "24/24 [==============================] - 124s 5s/step\n"
     ]
    },
    {
     "name": "stderr",
     "output_type": "stream",
     "text": [
      "/auto/homes/njr61/environments/mambaforge/envs/concepts/lib/python3.7/site-packages/numpy/core/fromnumeric.py:3441: RuntimeWarning: Mean of empty slice.\n",
      "  out=out, **kwargs)\n",
      "/auto/homes/njr61/environments/mambaforge/envs/concepts/lib/python3.7/site-packages/numpy/core/_methods.py:189: RuntimeWarning: invalid value encountered in true_divide\n",
      "  ret = ret.dtype.type(ret / rcount)\n"
     ]
    },
    {
     "name": "stdout",
     "output_type": "stream",
     "text": [
      "Truthfulness: (0.4444444444444444, 0.0)\n",
      "Method Shapley: {'Stability': (0.04938271604938275, 0.008729713347982055), 'Image Robustness': (0.38888888888888884, 0.01512030705421717), 'Image Responsiveness': (0.5679012345679012, 0.061107993435874475), 'Truthfulness': (0.4444444444444444, 0.0)}\n",
      "Computing Concept2Vec\n",
      "Stability: (0.1666666666666667, 0.026189140043946214)\n",
      "Image Robustness: (0.8765432098765432, 0.04364856673991033)\n",
      "Image Responsiveness: (0.8395061728395062, 0.031475429096251756)\n"
     ]
    },
    {
     "name": "stderr",
     "output_type": "stream",
     "text": [
      "/auto/homes/njr61/environments/mambaforge/envs/concepts/lib/python3.7/site-packages/keras/optimizers/optimizer_v2/adam.py:114: UserWarning: The `lr` argument is deprecated, use `learning_rate` instead.\n",
      "  super().__init__(name, **kwargs)\n"
     ]
    },
    {
     "name": "stdout",
     "output_type": "stream",
     "text": [
      "Found 750 validated image filenames belonging to 9 classes.\n",
      "24/24 [==============================] - 124s 5s/step\n"
     ]
    },
    {
     "name": "stderr",
     "output_type": "stream",
     "text": [
      "/auto/homes/njr61/environments/mambaforge/envs/concepts/lib/python3.7/site-packages/numpy/core/fromnumeric.py:3441: RuntimeWarning: Mean of empty slice.\n",
      "  out=out, **kwargs)\n",
      "/auto/homes/njr61/environments/mambaforge/envs/concepts/lib/python3.7/site-packages/numpy/core/_methods.py:189: RuntimeWarning: invalid value encountered in true_divide\n",
      "  ret = ret.dtype.type(ret / rcount)\n"
     ]
    },
    {
     "name": "stdout",
     "output_type": "stream",
     "text": [
      "Truthfulness: (0.3074074074074075, 0.027715980642769932)\n",
      "Method Concept2Vec: {'Stability': (0.1666666666666667, 0.026189140043946214), 'Image Robustness': (0.8765432098765432, 0.04364856673991033), 'Image Responsiveness': (0.8395061728395062, 0.031475429096251756), 'Truthfulness': (0.3074074074074075, 0.027715980642769932)}\n",
      "Computing CEM\n",
      "Stability: (0.29012345679012347, 0.031475429096251756)\n",
      "Image Robustness: (0.7592592592592592, 0.15930231976004866)\n",
      "Image Responsiveness: (0.8765432098765432, 0.05310077325334951)\n"
     ]
    },
    {
     "name": "stderr",
     "output_type": "stream",
     "text": [
      "/auto/homes/njr61/environments/mambaforge/envs/concepts/lib/python3.7/site-packages/keras/optimizers/optimizer_v2/adam.py:114: UserWarning: The `lr` argument is deprecated, use `learning_rate` instead.\n",
      "  super().__init__(name, **kwargs)\n"
     ]
    },
    {
     "name": "stdout",
     "output_type": "stream",
     "text": [
      "Found 750 validated image filenames belonging to 9 classes.\n",
      "24/24 [==============================] - 123s 5s/step\n"
     ]
    },
    {
     "name": "stderr",
     "output_type": "stream",
     "text": [
      "/auto/homes/njr61/environments/mambaforge/envs/concepts/lib/python3.7/site-packages/numpy/core/fromnumeric.py:3441: RuntimeWarning: Mean of empty slice.\n",
      "  out=out, **kwargs)\n",
      "/auto/homes/njr61/environments/mambaforge/envs/concepts/lib/python3.7/site-packages/numpy/core/_methods.py:189: RuntimeWarning: invalid value encountered in true_divide\n",
      "  ret = ret.dtype.type(ret / rcount)\n",
      "/auto/homes/njr61/main_code/src/metrics.py:361: VisibleDeprecationWarning: Creating an ndarray from ragged nested sequences (which is a list-or-tuple of lists-or-tuples-or ndarrays with different lengths or shapes) is deprecated. If you meant to do this, you must specify 'dtype=object' when creating the ndarray.\n",
      "  all_concept_embeddings = np.array([embedding_method(i,dataset,\"\",seed=seed) for i in dataset.get_attributes()])\n"
     ]
    },
    {
     "name": "stdout",
     "output_type": "stream",
     "text": [
      "Truthfulness: (0.2703703703703704, 0.010475656017578472)\n",
      "Method CEM: {'Stability': (0.29012345679012347, 0.031475429096251756), 'Image Robustness': (0.7592592592592592, 0.15930231976004866), 'Image Responsiveness': (0.8765432098765432, 0.05310077325334951), 'Truthfulness': (0.2703703703703704, 0.010475656017578472)}\n"
     ]
    }
   ],
   "source": [
    "for method,name in zip(vector_method,vector_names):\n",
    "    print(\"Computing {}\".format(name))\n",
    "    start = time.time()\n",
    "\n",
    "    results = compute_all_metrics(method,\n",
    "                                        dataset,\n",
    "                                        attributes,\n",
    "                                        seeds)\n",
    "    print(\"Method {}: {}\".format(name,results))\n",
    "    \n",
    "    name_lower = name.lower()\n",
    "    w = open(\"results/evaluation/{}_{}.txt\".format(dataset.experiment_name,name_lower),\"w\")\n",
    "    for key in results:\n",
    "        w.write(\"{}: {}\\n\".format(key,results[key]))\n",
    "    w.close()"
   ]
  },
  {
   "cell_type": "markdown",
   "id": "a823b9be",
   "metadata": {},
   "source": [
    "## Evaluate all Vectors Chexpert"
   ]
  },
  {
   "cell_type": "code",
   "execution_count": 8,
   "id": "b0c686a9",
   "metadata": {},
   "outputs": [],
   "source": [
    "dataset = Chexpert_Dataset()\n",
    "attributes = dataset.get_attributes()"
   ]
  },
  {
   "cell_type": "code",
   "execution_count": 9,
   "id": "e6f6475f",
   "metadata": {},
   "outputs": [
    {
     "name": "stdout",
     "output_type": "stream",
     "text": [
      "Computing Label\n",
      "Stability: (0.0, 0.0)\n",
      "Image Robustness: (0.07692307692307687, 0.0)\n",
      "Image Responsiveness: (0.794871794871795, 1.1102230246251565e-16)\n"
     ]
    },
    {
     "name": "stderr",
     "output_type": "stream",
     "text": [
      "/auto/homes/njr61/environments/mambaforge/envs/concepts/lib/python3.7/site-packages/keras/optimizers/optimizer_v2/adam.py:114: UserWarning: The `lr` argument is deprecated, use `learning_rate` instead.\n",
      "  super().__init__(name, **kwargs)\n"
     ]
    },
    {
     "name": "stdout",
     "output_type": "stream",
     "text": [
      "Found 1000 validated image filenames belonging to 2 classes.\n",
      "32/32 [==============================] - 165s 5s/step\n",
      "Truthfulness: (0.5076923076923078, 0.0)\n",
      "Method Label: {'Stability': (0.0, 0.0), 'Image Robustness': (0.07692307692307687, 0.0), 'Image Responsiveness': (0.794871794871795, 1.1102230246251565e-16), 'Truthfulness': (0.5076923076923078, 0.0)}\n",
      "Computing Shapley\n",
      "Stability: (0.03418803418803421, 0.024174590809796514)\n",
      "Image Robustness: (0.6324786324786325, 0.03197997766473456)\n",
      "Image Responsiveness: (0.7008547008547009, 0.0792616965426983)\n"
     ]
    },
    {
     "name": "stderr",
     "output_type": "stream",
     "text": [
      "/auto/homes/njr61/environments/mambaforge/envs/concepts/lib/python3.7/site-packages/keras/optimizers/optimizer_v2/adam.py:114: UserWarning: The `lr` argument is deprecated, use `learning_rate` instead.\n",
      "  super().__init__(name, **kwargs)\n"
     ]
    },
    {
     "name": "stdout",
     "output_type": "stream",
     "text": [
      "Found 1000 validated image filenames belonging to 2 classes.\n",
      "32/32 [==============================] - 165s 5s/step\n",
      "Truthfulness: (0.46666666666666673, 0.026148818018424547)\n",
      "Method Shapley: {'Stability': (0.03418803418803421, 0.024174590809796514), 'Image Robustness': (0.6324786324786325, 0.03197997766473456), 'Image Responsiveness': (0.7008547008547009, 0.0792616965426983), 'Truthfulness': (0.46666666666666673, 0.026148818018424547)}\n",
      "Computing Concept2Vec\n",
      "Stability: (0.5726495726495726, 0.052687299170675)\n",
      "Image Robustness: (0.358974358974359, 0.07548513560963974)\n",
      "Image Responsiveness: (0.7606837606837606, 0.03197997766473456)\n"
     ]
    },
    {
     "name": "stderr",
     "output_type": "stream",
     "text": [
      "/auto/homes/njr61/environments/mambaforge/envs/concepts/lib/python3.7/site-packages/keras/optimizers/optimizer_v2/adam.py:114: UserWarning: The `lr` argument is deprecated, use `learning_rate` instead.\n",
      "  super().__init__(name, **kwargs)\n"
     ]
    },
    {
     "name": "stdout",
     "output_type": "stream",
     "text": [
      "Found 1000 validated image filenames belonging to 2 classes.\n",
      "32/32 [==============================] - 165s 5s/step\n",
      "Truthfulness: (0.4102564102564103, 0.06322475900480998)\n",
      "Method Concept2Vec: {'Stability': (0.5726495726495726, 0.052687299170675), 'Image Robustness': (0.358974358974359, 0.07548513560963974), 'Image Responsiveness': (0.7606837606837606, 0.03197997766473456), 'Truthfulness': (0.4102564102564103, 0.06322475900480998)}\n",
      "Computing CEM\n",
      "Stability: (0.5555555555555557, 0.06729921259839156)\n",
      "Image Robustness: (0.5042735042735043, 0.11530544925839355)\n",
      "Image Responsiveness: (0.7264957264957265, 0.12791991065893818)\n"
     ]
    },
    {
     "name": "stderr",
     "output_type": "stream",
     "text": [
      "/auto/homes/njr61/environments/mambaforge/envs/concepts/lib/python3.7/site-packages/keras/optimizers/optimizer_v2/adam.py:114: UserWarning: The `lr` argument is deprecated, use `learning_rate` instead.\n",
      "  super().__init__(name, **kwargs)\n"
     ]
    },
    {
     "name": "stdout",
     "output_type": "stream",
     "text": [
      "Found 1000 validated image filenames belonging to 2 classes.\n",
      "32/32 [==============================] - 165s 5s/step\n"
     ]
    },
    {
     "name": "stderr",
     "output_type": "stream",
     "text": [
      "/auto/homes/njr61/main_code/src/metrics.py:361: VisibleDeprecationWarning: Creating an ndarray from ragged nested sequences (which is a list-or-tuple of lists-or-tuples-or ndarrays with different lengths or shapes) is deprecated. If you meant to do this, you must specify 'dtype=object' when creating the ndarray.\n",
      "  all_concept_embeddings = np.array([embedding_method(i,dataset,\"\",seed=seed) for i in dataset.get_attributes()])\n"
     ]
    },
    {
     "name": "stdout",
     "output_type": "stream",
     "text": [
      "Truthfulness: (0.4153846153846154, 0.03768445758127969)\n",
      "Method CEM: {'Stability': (0.5555555555555557, 0.06729921259839156), 'Image Robustness': (0.5042735042735043, 0.11530544925839355), 'Image Responsiveness': (0.7264957264957265, 0.12791991065893818), 'Truthfulness': (0.4153846153846154, 0.03768445758127969)}\n"
     ]
    }
   ],
   "source": [
    "for method,name in zip(vector_method,vector_names):\n",
    "    print(\"Computing {}\".format(name))\n",
    "    start = time.time()\n",
    "\n",
    "    results = compute_all_metrics(method,\n",
    "                                        dataset,\n",
    "                                        attributes,\n",
    "                                        seeds)\n",
    "    print(\"Method {}: {}\".format(name,results))\n",
    "    \n",
    "    name_lower = name.lower()\n",
    "    w = open(\"results/evaluation/{}_{}.txt\".format(dataset.experiment_name,name_lower),\"w\")\n",
    "    for key in results:\n",
    "        w.write(\"{}: {}\\n\".format(key,results[key]))\n",
    "    w.close()"
   ]
  },
  {
   "cell_type": "markdown",
   "id": "dc6b3bec",
   "metadata": {},
   "source": [
    "## CUB Ablation Studies"
   ]
  },
  {
   "cell_type": "markdown",
   "id": "a7ce86cc",
   "metadata": {},
   "source": [
    "### Evaluation at different noise levels"
   ]
  },
  {
   "cell_type": "code",
   "execution_count": 17,
   "id": "5d7f54bb",
   "metadata": {},
   "outputs": [],
   "source": [
    "dataset = CUB_Dataset()\n",
    "attributes = dataset.get_attributes()"
   ]
  },
  {
   "cell_type": "code",
   "execution_count": 22,
   "id": "eb94cc8e",
   "metadata": {},
   "outputs": [],
   "source": [
    "embedding_method = load_shapley_vectors_simple\n",
    "name = \"Shapley\"\n",
    "random_seeds = [43]"
   ]
  },
  {
   "cell_type": "code",
   "execution_count": 23,
   "id": "a02241a9",
   "metadata": {},
   "outputs": [],
   "source": [
    "start = time.time()\n",
    "\n",
    "results = {}\n",
    "\n",
    "for flip_prob in ['0.01','0.05','0.1']:\n",
    "    results['flip_prob_{}'.format(flip_prob)] = compare_same_images_by_suffix(embedding_method,\n",
    "                                         dataset,attributes,random_seeds,\"_flip_{}\".format(flip_prob),\n",
    "                                        baseline_hierarchies=None)\n",
    "\n",
    "for noise in [25,50,100]:\n",
    "    results['noise_{}'.format(flip_prob)] = compare_same_images_by_suffix(embedding_method,\n",
    "                                         dataset,attributes,random_seeds,\"_noise_{}\".format(noise),\n",
    "                                        baseline_hierarchies=None)\n",
    "\n",
    "w = open(\"results/evaluation/cub_noise_ablation.txt\",\"w\")\n",
    "for key in results:\n",
    "    w.write(\"{}: {}\\n\".format(key,results[key]))\n",
    "w.close()"
   ]
  },
  {
   "cell_type": "markdown",
   "id": "b0fd4980",
   "metadata": {},
   "source": [
    "### Evalaution with different models"
   ]
  },
  {
   "cell_type": "code",
   "execution_count": null,
   "id": "45029813",
   "metadata": {},
   "outputs": [],
   "source": [
    "for model_name in [\"Resnet50\",\"InceptionV3\"]:\n",
    "    for s in [43,44,45]:\n",
    "        create_shapley_vectors(attributes,dataset,\"\",seed=s,model_name=model_name):"
   ]
  },
  {
   "cell_type": "code",
   "execution_count": null,
   "id": "b230274e",
   "metadata": {},
   "outputs": [],
   "source": [
    "random_seeds = [43,44,45]\n",
    "results = {}\n",
    "\n",
    "for model_name in ['Resnet50','InceptionV3']:\n",
    "    results[model_name] = compare_same_images_by_suffix(embedding_method,\n",
    "                                         dataset,attributes,random_seeds,\"_model_{}\".format(model_name),\n",
    "                                        baseline_hierarchies=None)\n",
    "\n",
    "w = open(\"results/evaluation/cub_model_comparison.txt\",\"w\")\n",
    "for key in results:\n",
    "    w.write(\"{}: {}\\n\".format(key,results[key]))\n",
    "w.close()"
   ]
  },
  {
   "cell_type": "code",
   "execution_count": null,
   "id": "008c9167",
   "metadata": {},
   "outputs": [],
   "source": [
    "def create_embedding_method(model_name):\n",
    "    def f(attribute,dataset,suffix,seed=random_seed):\n",
    "        return load_shapley_vectors_simple(attribute,dataset,\"_model_{}\".format(model_name),seed=random_seed)\n",
    "    return f"
   ]
  },
  {
   "cell_type": "code",
   "execution_count": null,
   "id": "fba8ecb6",
   "metadata": {},
   "outputs": [],
   "source": [
    "hierarchy_resnet = create_hierarchy(create_ward_hierarchy, load_shapley_vectors_simple,\n",
    "                                    dataset,\"_model_{}\".format('resnet50'),attributes,43)"
   ]
  },
  {
   "cell_type": "code",
   "execution_count": null,
   "id": "8b71f0b4",
   "metadata": {},
   "outputs": [],
   "source": [
    "hierarchy_inception = create_hierarchy(create_ward_hierarchy, load_shapley_vectors_simple,\n",
    "                                    dataset,\"_model_{}\".format('inceptionv3'),attributes,43)"
   ]
  },
  {
   "cell_type": "code",
   "execution_count": null,
   "id": "1eceb953",
   "metadata": {},
   "outputs": [],
   "source": [
    "print(hierarchy_resnet)"
   ]
  },
  {
   "cell_type": "code",
   "execution_count": null,
   "id": "24a58abb",
   "metadata": {},
   "outputs": [],
   "source": [
    "print(hierarchy_inception)"
   ]
  }
 ],
 "metadata": {
  "kernelspec": {
   "display_name": "Python 3 (ipykernel)",
   "language": "python",
   "name": "python3"
  },
  "language_info": {
   "codemirror_mode": {
    "name": "ipython",
    "version": 3
   },
   "file_extension": ".py",
   "mimetype": "text/x-python",
   "name": "python",
   "nbconvert_exporter": "python",
   "pygments_lexer": "ipython3",
   "version": "3.7.12"
  }
 },
 "nbformat": 4,
 "nbformat_minor": 5
}
