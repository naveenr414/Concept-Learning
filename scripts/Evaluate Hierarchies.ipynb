{
 "cells": [
  {
   "cell_type": "code",
   "execution_count": 1,
   "id": "ddd0e1f6",
   "metadata": {},
   "outputs": [],
   "source": [
    "%load_ext autoreload\n",
    "%autoreload 2\n",
    "%matplotlib notebook"
   ]
  },
  {
   "cell_type": "code",
   "execution_count": 2,
   "id": "011d6db1",
   "metadata": {},
   "outputs": [],
   "source": [
    "import os\n",
    "os.chdir('../')"
   ]
  },
  {
   "cell_type": "code",
   "execution_count": 5,
   "id": "6d4171c9",
   "metadata": {},
   "outputs": [],
   "source": [
    "from src.dataset import *\n",
    "from src.concept_vectors import *\n",
    "from src.util import *\n",
    "from src.hierarchy import *\n",
    "from src.metrics import *\n",
    "import numpy as np\n",
    "import matplotlib.pyplot as plt"
   ]
  },
  {
   "cell_type": "code",
   "execution_count": 6,
   "id": "8523cc6f",
   "metadata": {},
   "outputs": [],
   "source": [
    "mnist_attributes = get_mnist_attributes()"
   ]
  },
  {
   "cell_type": "code",
   "execution_count": 7,
   "id": "08d7ecb3",
   "metadata": {},
   "outputs": [],
   "source": [
    "seeds = [43,44,45]\n",
    "hierarchy_creation_method = create_linkage_hierarchy\n",
    "dataset = 'mnist'\n",
    "attributes = mnist_attributes"
   ]
  },
  {
   "cell_type": "code",
   "execution_count": 8,
   "id": "989237f3",
   "metadata": {},
   "outputs": [],
   "source": [
    "metrics = [stability_metric,robustness_image_metric,responsiveness_image_metric,truthfulness_metric]\n",
    "metric_names = ['Stability', 'Image Robustness', 'Image Responsiveness',\"Truthfulness\"]"
   ]
  },
  {
   "cell_type": "markdown",
   "id": "886d582a",
   "metadata": {},
   "source": [
    "### Evalaute Labels-Only vectors"
   ]
  },
  {
   "cell_type": "code",
   "execution_count": 11,
   "id": "0bc49cbd",
   "metadata": {},
   "outputs": [
    {
     "name": "stdout",
     "output_type": "stream",
     "text": [
      "Stability: 0.0\n",
      "Image Robustness: 0.0\n",
      "Image Responsiveness: 47.0\n"
     ]
    }
   ],
   "source": [
    "for metric,name in zip(metrics,metric_names):\n",
    "    score = metric(hierarchy_creation_method,\n",
    "                                    load_label_vectors_simple,\n",
    "                                    dataset,\n",
    "                                    attributes,\n",
    "                                    seeds)\n",
    "    print(\"{}: {}\".format(name, score))"
   ]
  },
  {
   "cell_type": "markdown",
   "id": "96cfecf6",
   "metadata": {},
   "source": [
    "### Evaluate TCAV Vectors"
   ]
  },
  {
   "cell_type": "code",
   "execution_count": 12,
   "id": "ce73e945",
   "metadata": {},
   "outputs": [
    {
     "name": "stdout",
     "output_type": "stream",
     "text": [
      "Stability: 43.0\n",
      "Image Robustness: 46.666666666666664\n",
      "Image Responsiveness: 46.0\n"
     ]
    }
   ],
   "source": [
    "for metric,name in zip(metrics,metric_names):\n",
    "    score = metric(hierarchy_creation_method,\n",
    "                                    load_tcav_vectors_simple,\n",
    "                                    dataset,\n",
    "                                    attributes,\n",
    "                                    seeds)\n",
    "    print(\"{}: {}\".format(name, score))"
   ]
  },
  {
   "cell_type": "code",
   "execution_count": null,
   "id": "263fdaec",
   "metadata": {},
   "outputs": [],
   "source": []
  }
 ],
 "metadata": {
  "kernelspec": {
   "display_name": "Python 3 (ipykernel)",
   "language": "python",
   "name": "python3"
  },
  "language_info": {
   "codemirror_mode": {
    "name": "ipython",
    "version": 3
   },
   "file_extension": ".py",
   "mimetype": "text/x-python",
   "name": "python",
   "nbconvert_exporter": "python",
   "pygments_lexer": "ipython3",
   "version": "3.7.12"
  }
 },
 "nbformat": 4,
 "nbformat_minor": 5
}
