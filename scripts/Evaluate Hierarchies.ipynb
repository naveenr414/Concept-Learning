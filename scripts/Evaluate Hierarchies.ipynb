{
 "cells": [
  {
   "cell_type": "code",
   "execution_count": 1,
   "id": "ddd0e1f6",
   "metadata": {},
   "outputs": [],
   "source": [
    "%load_ext autoreload\n",
    "%autoreload 2\n",
    "%matplotlib notebook"
   ]
  },
  {
   "cell_type": "code",
   "execution_count": 2,
   "id": "011d6db1",
   "metadata": {},
   "outputs": [],
   "source": [
    "import os\n",
    "os.chdir('../')"
   ]
  },
  {
   "cell_type": "code",
   "execution_count": 3,
   "id": "6d4171c9",
   "metadata": {},
   "outputs": [
    {
     "name": "stderr",
     "output_type": "stream",
     "text": [
      "2023-01-24 19:08:41.492883: I tensorflow/core/platform/cpu_feature_guard.cc:193] This TensorFlow binary is optimized with oneAPI Deep Neural Network Library (oneDNN) to use the following CPU instructions in performance-critical operations:  SSE4.1 SSE4.2 AVX FMA\n",
      "To enable them in other operations, rebuild TensorFlow with the appropriate compiler flags.\n"
     ]
    }
   ],
   "source": [
    "from src.dataset import *\n",
    "from src.concept_vectors import *\n",
    "from src.util import *\n",
    "from src.hierarchy import *\n",
    "from src.metrics import *\n",
    "import numpy as np\n",
    "import matplotlib.pyplot as plt"
   ]
  },
  {
   "cell_type": "code",
   "execution_count": 5,
   "id": "1c43cac3",
   "metadata": {},
   "outputs": [],
   "source": [
    "dataset = MNIST_Dataset()"
   ]
  },
  {
   "cell_type": "code",
   "execution_count": 6,
   "id": "08d7ecb3",
   "metadata": {},
   "outputs": [],
   "source": [
    "seeds = [43,44,45]\n",
    "hierarchy_creation_method = create_linkage_hierarchy\n",
    "attributes = dataset.get_attributes()"
   ]
  },
  {
   "cell_type": "code",
   "execution_count": 10,
   "id": "989237f3",
   "metadata": {},
   "outputs": [],
   "source": [
    "metrics = [stability_metric,robustness_image_metric,responsiveness_image_metric,robustness_model_metric,responsiveness_model_metric]#truthfulness_metric]\n",
    "metric_names = ['Stability', 'Image Robustness', 'Image Responsiveness','Model Robustness','Model Responsiveness']#\"Truthfulness\"]"
   ]
  },
  {
   "cell_type": "markdown",
   "id": "886d582a",
   "metadata": {},
   "source": [
    "### Evalaute Labels-Only vectors"
   ]
  },
  {
   "cell_type": "code",
   "execution_count": null,
   "id": "0bc49cbd",
   "metadata": {},
   "outputs": [
    {
     "name": "stdout",
     "output_type": "stream",
     "text": [
      "Stability: 0.0\n",
      "Image Robustness: 0.0\n"
     ]
    }
   ],
   "source": [
    "for metric,name in zip(metrics,metric_names):\n",
    "    score = metric(hierarchy_creation_method,\n",
    "                                    load_label_vectors_simple,\n",
    "                                    dataset,\n",
    "                                    attributes,\n",
    "                                    seeds)\n",
    "    print(\"{}: {}\".format(name, score))"
   ]
  },
  {
   "cell_type": "markdown",
   "id": "76b730d4",
   "metadata": {},
   "source": [
    "### Evaluate concept2vec"
   ]
  },
  {
   "cell_type": "code",
   "execution_count": null,
   "id": "7b0f06e3",
   "metadata": {},
   "outputs": [],
   "source": [
    "for metric,name in zip(metrics,metric_names):\n",
    "    score = metric(hierarchy_creation_method,\n",
    "                                    load_concept2vec_vectors_simple,\n",
    "                                    dataset,\n",
    "                                    attributes,\n",
    "                                    seeds)\n",
    "    print(\"{}: {}\".format(name, score))"
   ]
  },
  {
   "cell_type": "markdown",
   "id": "96cfecf6",
   "metadata": {},
   "source": [
    "### Evaluate TCAV Vectors"
   ]
  },
  {
   "cell_type": "code",
   "execution_count": 12,
   "id": "ce73e945",
   "metadata": {},
   "outputs": [
    {
     "name": "stdout",
     "output_type": "stream",
     "text": [
      "Stability: 43.0\n",
      "Image Robustness: 46.666666666666664\n",
      "Image Responsiveness: 46.0\n"
     ]
    }
   ],
   "source": [
    "for metric,name in zip(metrics,metric_names):\n",
    "    score = metric(hierarchy_creation_method,\n",
    "                                    load_tcav_vectors_simple,\n",
    "                                    dataset,\n",
    "                                    attributes,\n",
    "                                    seeds)\n",
    "    print(\"{}: {}\".format(name, score))"
   ]
  }
 ],
 "metadata": {
  "kernelspec": {
   "display_name": "Python 3 (ipykernel)",
   "language": "python",
   "name": "python3"
  },
  "language_info": {
   "codemirror_mode": {
    "name": "ipython",
    "version": 3
   },
   "file_extension": ".py",
   "mimetype": "text/x-python",
   "name": "python",
   "nbconvert_exporter": "python",
   "pygments_lexer": "ipython3",
   "version": "3.7.12"
  }
 },
 "nbformat": 4,
 "nbformat_minor": 5
}
