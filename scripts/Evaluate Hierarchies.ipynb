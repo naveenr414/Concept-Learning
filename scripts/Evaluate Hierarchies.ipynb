{
 "cells": [
  {
   "cell_type": "code",
   "execution_count": 1,
   "id": "ddd0e1f6",
   "metadata": {},
   "outputs": [],
   "source": [
    "%load_ext autoreload\n",
    "%autoreload 2\n",
    "%matplotlib notebook"
   ]
  },
  {
   "cell_type": "code",
   "execution_count": 2,
   "id": "011d6db1",
   "metadata": {},
   "outputs": [],
   "source": [
    "import os\n",
    "os.chdir('../')\n",
    "os.environ[\"CUDA_VISIBLE_DEVICES\"]=\"0\""
   ]
  },
  {
   "cell_type": "code",
   "execution_count": 3,
   "id": "6d4171c9",
   "metadata": {},
   "outputs": [
    {
     "name": "stderr",
     "output_type": "stream",
     "text": [
      "/auto/homes/njr61/environments/mambaforge/envs/concepts/lib/python3.7/site-packages/tensorflow/python/framework/dtypes.py:516: FutureWarning: Passing (type, 1) or '1type' as a synonym of type is deprecated; in a future version of numpy, it will be understood as (type, (1,)) / '(1,)type'.\n",
      "  _np_qint8 = np.dtype([(\"qint8\", np.int8, 1)])\n",
      "/auto/homes/njr61/environments/mambaforge/envs/concepts/lib/python3.7/site-packages/tensorflow/python/framework/dtypes.py:517: FutureWarning: Passing (type, 1) or '1type' as a synonym of type is deprecated; in a future version of numpy, it will be understood as (type, (1,)) / '(1,)type'.\n",
      "  _np_quint8 = np.dtype([(\"quint8\", np.uint8, 1)])\n",
      "/auto/homes/njr61/environments/mambaforge/envs/concepts/lib/python3.7/site-packages/tensorflow/python/framework/dtypes.py:518: FutureWarning: Passing (type, 1) or '1type' as a synonym of type is deprecated; in a future version of numpy, it will be understood as (type, (1,)) / '(1,)type'.\n",
      "  _np_qint16 = np.dtype([(\"qint16\", np.int16, 1)])\n",
      "/auto/homes/njr61/environments/mambaforge/envs/concepts/lib/python3.7/site-packages/tensorflow/python/framework/dtypes.py:519: FutureWarning: Passing (type, 1) or '1type' as a synonym of type is deprecated; in a future version of numpy, it will be understood as (type, (1,)) / '(1,)type'.\n",
      "  _np_quint16 = np.dtype([(\"quint16\", np.uint16, 1)])\n",
      "/auto/homes/njr61/environments/mambaforge/envs/concepts/lib/python3.7/site-packages/tensorflow/python/framework/dtypes.py:520: FutureWarning: Passing (type, 1) or '1type' as a synonym of type is deprecated; in a future version of numpy, it will be understood as (type, (1,)) / '(1,)type'.\n",
      "  _np_qint32 = np.dtype([(\"qint32\", np.int32, 1)])\n",
      "/auto/homes/njr61/environments/mambaforge/envs/concepts/lib/python3.7/site-packages/tensorflow/python/framework/dtypes.py:525: FutureWarning: Passing (type, 1) or '1type' as a synonym of type is deprecated; in a future version of numpy, it will be understood as (type, (1,)) / '(1,)type'.\n",
      "  np_resource = np.dtype([(\"resource\", np.ubyte, 1)])\n",
      "/auto/homes/njr61/environments/mambaforge/envs/concepts/lib/python3.7/site-packages/tensorboard/compat/tensorflow_stub/dtypes.py:541: FutureWarning: Passing (type, 1) or '1type' as a synonym of type is deprecated; in a future version of numpy, it will be understood as (type, (1,)) / '(1,)type'.\n",
      "  _np_qint8 = np.dtype([(\"qint8\", np.int8, 1)])\n",
      "/auto/homes/njr61/environments/mambaforge/envs/concepts/lib/python3.7/site-packages/tensorboard/compat/tensorflow_stub/dtypes.py:542: FutureWarning: Passing (type, 1) or '1type' as a synonym of type is deprecated; in a future version of numpy, it will be understood as (type, (1,)) / '(1,)type'.\n",
      "  _np_quint8 = np.dtype([(\"quint8\", np.uint8, 1)])\n",
      "/auto/homes/njr61/environments/mambaforge/envs/concepts/lib/python3.7/site-packages/tensorboard/compat/tensorflow_stub/dtypes.py:543: FutureWarning: Passing (type, 1) or '1type' as a synonym of type is deprecated; in a future version of numpy, it will be understood as (type, (1,)) / '(1,)type'.\n",
      "  _np_qint16 = np.dtype([(\"qint16\", np.int16, 1)])\n",
      "/auto/homes/njr61/environments/mambaforge/envs/concepts/lib/python3.7/site-packages/tensorboard/compat/tensorflow_stub/dtypes.py:544: FutureWarning: Passing (type, 1) or '1type' as a synonym of type is deprecated; in a future version of numpy, it will be understood as (type, (1,)) / '(1,)type'.\n",
      "  _np_quint16 = np.dtype([(\"quint16\", np.uint16, 1)])\n",
      "/auto/homes/njr61/environments/mambaforge/envs/concepts/lib/python3.7/site-packages/tensorboard/compat/tensorflow_stub/dtypes.py:545: FutureWarning: Passing (type, 1) or '1type' as a synonym of type is deprecated; in a future version of numpy, it will be understood as (type, (1,)) / '(1,)type'.\n",
      "  _np_qint32 = np.dtype([(\"qint32\", np.int32, 1)])\n",
      "/auto/homes/njr61/environments/mambaforge/envs/concepts/lib/python3.7/site-packages/tensorboard/compat/tensorflow_stub/dtypes.py:550: FutureWarning: Passing (type, 1) or '1type' as a synonym of type is deprecated; in a future version of numpy, it will be understood as (type, (1,)) / '(1,)type'.\n",
      "  np_resource = np.dtype([(\"resource\", np.ubyte, 1)])\n",
      "Using TensorFlow backend.\n"
     ]
    }
   ],
   "source": [
    "from src.dataset import *\n",
    "from src.concept_vectors import *\n",
    "from src.util import *\n",
    "from src.hierarchy import *\n",
    "from src.metrics import *\n",
    "import numpy as np\n",
    "import matplotlib.pyplot as plt\n",
    "import glob\n",
    "import tensorflow as tf\n",
    "from src.create_vectors import *"
   ]
  },
  {
   "cell_type": "code",
   "execution_count": 12,
   "id": "0b7d6629",
   "metadata": {},
   "outputs": [
    {
     "data": {
      "text/plain": [
       "[]"
      ]
     },
     "execution_count": 12,
     "metadata": {},
     "output_type": "execute_result"
    }
   ],
   "source": [
    "tf.config.experimental.list_physical_devices('GPU')"
   ]
  },
  {
   "cell_type": "code",
   "execution_count": 10,
   "id": "333125d0",
   "metadata": {},
   "outputs": [
    {
     "name": "stdout",
     "output_type": "stream",
     "text": [
      "No GPus\n"
     ]
    }
   ],
   "source": [
    "gpus = tf.config.experimental.list_physical_devices('GPU')\n",
    "if gpus:\n",
    "    try:\n",
    "        tf.config.experimental.set_virtual_device_configuration(\n",
    "            gpus[0],\n",
    "            [tf.config.experimental.VirtualDeviceConfiguration(memory_limit=4096)]\n",
    "        )\n",
    "    except RuntimeError as e:\n",
    "        print(e)\n",
    "else:\n",
    "    print(\"No GPus\")\n"
   ]
  },
  {
   "cell_type": "code",
   "execution_count": 5,
   "id": "08d7ecb3",
   "metadata": {},
   "outputs": [],
   "source": [
    "seeds = [43,44,45]\n",
    "vector_method = [load_label_vectors_simple,load_shapley_vectors_simple,load_concept2vec_vectors_simple,load_cem_vectors_simple]\n",
    "vector_names = [\"Label\",\"Shapley\",\"Concept2Vec\",\"CEM\"]"
   ]
  },
  {
   "cell_type": "markdown",
   "id": "3e7152c2",
   "metadata": {},
   "source": [
    "## Debugging: Check which TCAV Vectors are available"
   ]
  },
  {
   "cell_type": "code",
   "execution_count": 7,
   "id": "5af6e882",
   "metadata": {},
   "outputs": [],
   "source": [
    "dataset = CUB_Dataset()\n",
    "attributes = dataset.get_attributes()"
   ]
  },
  {
   "cell_type": "code",
   "execution_count": 24,
   "id": "577eebe6",
   "metadata": {},
   "outputs": [],
   "source": [
    "def attribute_exists(attribute_name,suffix,seed):\n",
    "    attribute_name = attribute_name.replace(\" \",\"_\")\n",
    "    folder_name = \"results/cavs/cub{}/{}/\".format(suffix,seed)\n",
    "    for i in range(3):\n",
    "        file_name = \"{}-random500_{}-block4_conv1-linear-0.1.pkl\".format(attribute_name,i)\n",
    "        \n",
    "        if not os.path.exists(folder_name + file_name):\n",
    "            print(folder_name+file_name)\n",
    "            return False\n",
    "    return True"
   ]
  },
  {
   "cell_type": "code",
   "execution_count": 27,
   "id": "a1ec859a",
   "metadata": {},
   "outputs": [],
   "source": [
    "for attribute in attributes:\n",
    "    for seed in [43,44,45]:\n",
    "        for suffix in ['','_image_robustness','_image_responsiveness']:\n",
    "            attribute_exists(attribute,suffix,seed)"
   ]
  },
  {
   "cell_type": "markdown",
   "id": "eecdafd0",
   "metadata": {},
   "source": [
    "## Evaluate All Vectors MNIST"
   ]
  },
  {
   "cell_type": "code",
   "execution_count": 10,
   "id": "e8d0a84b",
   "metadata": {},
   "outputs": [],
   "source": [
    "dataset = MNIST_Dataset()\n",
    "attributes = dataset.get_attributes()"
   ]
  },
  {
   "cell_type": "code",
   "execution_count": 15,
   "id": "3dd9a9be",
   "metadata": {},
   "outputs": [
    {
     "name": "stdout",
     "output_type": "stream",
     "text": [
      "Computing Label\n",
      "Stability: (0.0, 0.0)\n",
      "Image Robustness: (0.04761904761904767, 0.0)\n",
      "Image Responsiveness: (1.0, 0.0)\n"
     ]
    },
    {
     "name": "stderr",
     "output_type": "stream",
     "text": [
      "/auto/homes/njr61/environments/mambaforge/envs/concepts/lib/python3.7/site-packages/keras/optimizers/optimizer_v2/adam.py:114: UserWarning: The `lr` argument is deprecated, use `learning_rate` instead.\n",
      "  super().__init__(name, **kwargs)\n"
     ]
    },
    {
     "name": "stdout",
     "output_type": "stream",
     "text": [
      "Found 10000 validated image filenames belonging to 10 classes.\n",
      "313/313 [==============================] - 29s 90ms/step\n",
      "Truthfulness: (0.9523809523809522, 1.1102230246251565e-16)\n",
      "Method Label: {'Stability': (0.0, 0.0), 'Image Robustness': (0.04761904761904767, 0.0), 'Image Responsiveness': (1.0, 0.0), 'Truthfulness': (0.9523809523809522, 1.1102230246251565e-16)}\n",
      "Computing TCAV\n",
      "Stability: (0.03174603174603178, 0.022447834323382487)\n",
      "Image Robustness: (0.9047619047619048, 0.0)\n",
      "Image Responsiveness: (1.0, 0.0)\n"
     ]
    },
    {
     "name": "stderr",
     "output_type": "stream",
     "text": [
      "/auto/homes/njr61/environments/mambaforge/envs/concepts/lib/python3.7/site-packages/keras/optimizers/optimizer_v2/adam.py:114: UserWarning: The `lr` argument is deprecated, use `learning_rate` instead.\n",
      "  super().__init__(name, **kwargs)\n"
     ]
    },
    {
     "name": "stdout",
     "output_type": "stream",
     "text": [
      "Found 10000 validated image filenames belonging to 10 classes.\n",
      "313/313 [==============================] - 29s 91ms/step\n"
     ]
    },
    {
     "name": "stderr",
     "output_type": "stream",
     "text": [
      "/auto/homes/njr61/main_code/src/metrics.py:361: VisibleDeprecationWarning: Creating an ndarray from ragged nested sequences (which is a list-or-tuple of lists-or-tuples-or ndarrays with different lengths or shapes) is deprecated. If you meant to do this, you must specify 'dtype=object' when creating the ndarray.\n",
      "  \n"
     ]
    },
    {
     "name": "stdout",
     "output_type": "stream",
     "text": [
      "Truthfulness: (0.9523809523809522, 1.1102230246251565e-16)\n",
      "Method TCAV: {'Stability': (0.03174603174603178, 0.022447834323382487), 'Image Robustness': (0.9047619047619048, 0.0), 'Image Responsiveness': (1.0, 0.0), 'Truthfulness': (0.9523809523809522, 1.1102230246251565e-16)}\n",
      "Computing Shapley\n",
      "Stability: (0.03174603174603178, 0.022447834323382487)\n",
      "Image Robustness: (0.04761904761904767, 0.0)\n",
      "Image Responsiveness: (0.04761904761904767, 0.0)\n"
     ]
    },
    {
     "name": "stderr",
     "output_type": "stream",
     "text": [
      "/auto/homes/njr61/environments/mambaforge/envs/concepts/lib/python3.7/site-packages/keras/optimizers/optimizer_v2/adam.py:114: UserWarning: The `lr` argument is deprecated, use `learning_rate` instead.\n",
      "  super().__init__(name, **kwargs)\n"
     ]
    },
    {
     "name": "stdout",
     "output_type": "stream",
     "text": [
      "Found 10000 validated image filenames belonging to 10 classes.\n",
      "313/313 [==============================] - 29s 92ms/step\n",
      "Truthfulness: (0.9523809523809522, 1.1102230246251565e-16)\n",
      "Method Shapley: {'Stability': (0.03174603174603178, 0.022447834323382487), 'Image Robustness': (0.04761904761904767, 0.0), 'Image Responsiveness': (0.04761904761904767, 0.0), 'Truthfulness': (0.9523809523809522, 1.1102230246251565e-16)}\n",
      "Computing Concept2Vec\n",
      "Stability: (0.04761904761904767, 0.0)\n",
      "Image Robustness: (0.04761904761904767, 0.0)\n",
      "Image Responsiveness: (0.9682539682539683, 0.022447834323382487)\n"
     ]
    },
    {
     "name": "stderr",
     "output_type": "stream",
     "text": [
      "/auto/homes/njr61/environments/mambaforge/envs/concepts/lib/python3.7/site-packages/keras/optimizers/optimizer_v2/adam.py:114: UserWarning: The `lr` argument is deprecated, use `learning_rate` instead.\n",
      "  super().__init__(name, **kwargs)\n"
     ]
    },
    {
     "name": "stdout",
     "output_type": "stream",
     "text": [
      "Found 10000 validated image filenames belonging to 10 classes.\n",
      "313/313 [==============================] - 29s 94ms/step\n",
      "Truthfulness: (0.9523809523809522, 1.1102230246251565e-16)\n",
      "Method Concept2Vec: {'Stability': (0.04761904761904767, 0.0), 'Image Robustness': (0.04761904761904767, 0.0), 'Image Responsiveness': (0.9682539682539683, 0.022447834323382487), 'Truthfulness': (0.9523809523809522, 1.1102230246251565e-16)}\n",
      "Computing CEM\n",
      "Stability: (0.253968253968254, 0.14720029357929687)\n",
      "Image Robustness: (0.28571428571428575, 0.10286889997472791)\n",
      "Image Responsiveness: (0.9523809523809524, 0.06734350297014735)\n"
     ]
    },
    {
     "name": "stderr",
     "output_type": "stream",
     "text": [
      "/auto/homes/njr61/environments/mambaforge/envs/concepts/lib/python3.7/site-packages/keras/optimizers/optimizer_v2/adam.py:114: UserWarning: The `lr` argument is deprecated, use `learning_rate` instead.\n",
      "  super().__init__(name, **kwargs)\n"
     ]
    },
    {
     "name": "stdout",
     "output_type": "stream",
     "text": [
      "Found 10000 validated image filenames belonging to 10 classes.\n",
      "313/313 [==============================] - 28s 89ms/step\n"
     ]
    },
    {
     "name": "stderr",
     "output_type": "stream",
     "text": [
      "/auto/homes/njr61/main_code/src/metrics.py:361: VisibleDeprecationWarning: Creating an ndarray from ragged nested sequences (which is a list-or-tuple of lists-or-tuples-or ndarrays with different lengths or shapes) is deprecated. If you meant to do this, you must specify 'dtype=object' when creating the ndarray.\n",
      "  \n"
     ]
    },
    {
     "name": "stdout",
     "output_type": "stream",
     "text": [
      "Truthfulness: (0.8253968253968255, 0.17958267458705968)\n",
      "Method CEM: {'Stability': (0.253968253968254, 0.14720029357929687), 'Image Robustness': (0.28571428571428575, 0.10286889997472791), 'Image Responsiveness': (0.9523809523809524, 0.06734350297014735), 'Truthfulness': (0.8253968253968255, 0.17958267458705968)}\n"
     ]
    }
   ],
   "source": [
    "for method,name in zip(vector_method,vector_names):\n",
    "    print(\"Computing {}\".format(name))\n",
    "    start = time.time()\n",
    "\n",
    "    results = compute_all_metrics(method,\n",
    "                                        dataset,\n",
    "                                        attributes,\n",
    "                                        seeds)\n",
    "    print(\"Method {}: {}\".format(name,results))\n",
    "    \n",
    "    name_lower = name.lower()\n",
    "    w = open(\"results/evaluation/{}_{}.txt\".format(dataset.experiment_name,name_lower),\"w\")\n",
    "    for key in results:\n",
    "        w.write(\"{}: {}\\n\".format(key,results[key]))\n",
    "    w.close()\n"
   ]
  },
  {
   "cell_type": "markdown",
   "id": "11209b50",
   "metadata": {},
   "source": [
    "## Evaluate all Vectors CUB"
   ]
  },
  {
   "cell_type": "code",
   "execution_count": 29,
   "id": "4c026bc5",
   "metadata": {},
   "outputs": [],
   "source": [
    "dataset = CUB_Dataset()\n",
    "attributes = dataset.get_attributes()\n",
    "seeds = [43,44,45]"
   ]
  },
  {
   "cell_type": "code",
   "execution_count": 30,
   "id": "b78ba214",
   "metadata": {},
   "outputs": [
    {
     "name": "stdout",
     "output_type": "stream",
     "text": [
      "Computing TCAV\n",
      "Stability: (0.9890873015873017, 0.0037119616932281036)\n",
      "Image Robustness: (0.9970238095238096, 0.002430049347999176)\n",
      "Image Responsiveness: (0.9880952380952381, 0.004860098695998397)\n"
     ]
    },
    {
     "name": "stderr",
     "output_type": "stream",
     "text": [
      "2023-04-30 15:34:21.521337: I tensorflow/core/platform/cpu_feature_guard.cc:193] This TensorFlow binary is optimized with oneAPI Deep Neural Network Library (oneDNN) to use the following CPU instructions in performance-critical operations:  SSE4.1 SSE4.2 AVX FMA\n",
      "To enable them in other operations, rebuild TensorFlow with the appropriate compiler flags.\n",
      "/auto/homes/njr61/environments/mambaforge/envs/concepts/lib/python3.7/site-packages/keras/optimizers/optimizer_v2/adam.py:114: UserWarning: The `lr` argument is deprecated, use `learning_rate` instead.\n",
      "  super().__init__(name, **kwargs)\n"
     ]
    },
    {
     "name": "stdout",
     "output_type": "stream",
     "text": [
      "Found 1198 validated image filenames belonging to 200 classes.\n",
      "38/38 [==============================] - 199s 5s/step\n"
     ]
    },
    {
     "name": "stderr",
     "output_type": "stream",
     "text": [
      "/auto/homes/njr61/main_code/src/metrics.py:358: VisibleDeprecationWarning: Creating an ndarray from ragged nested sequences (which is a list-or-tuple of lists-or-tuples-or ndarrays with different lengths or shapes) is deprecated. If you meant to do this, you must specify 'dtype=object' when creating the ndarray.\n",
      "  all_concept_embeddings = np.array([embedding_method(i,dataset,\"\",seed=seed) for i in dataset.get_attributes()])\n"
     ]
    },
    {
     "name": "stdout",
     "output_type": "stream",
     "text": [
      "Truthfulness: (0.0755952380952381, 0.008908708063747483)\n",
      "Method TCAV: {'Stability': (0.9890873015873017, 0.0037119616932281036), 'Image Robustness': (0.9970238095238096, 0.002430049347999176), 'Image Responsiveness': (0.9880952380952381, 0.004860098695998397), 'Truthfulness': (0.0755952380952381, 0.008908708063747483)}\n"
     ]
    }
   ],
   "source": [
    "for method,name in zip([load_tcav_vectors_simple]+vector_method,['TCAV']+vector_names):\n",
    "    print(\"Computing {}\".format(name))\n",
    "    start = time.time()\n",
    "\n",
    "    results = compute_all_metrics(method,\n",
    "                                        dataset,\n",
    "                                        attributes,\n",
    "                                        seeds)\n",
    "    print(\"Method {}: {}\".format(name,results))\n",
    "    \n",
    "    name_lower = name.lower()\n",
    "    w = open(\"results/evaluation/{}_{}.txt\".format(dataset.experiment_name,name_lower),\"w\")\n",
    "    for key in results:\n",
    "        w.write(\"{}: {}\\n\".format(key,results[key]))\n",
    "    w.close()\n",
    "    "
   ]
  },
  {
   "cell_type": "markdown",
   "id": "5d4eef3a",
   "metadata": {},
   "source": [
    "## Evalaute all Vectors DSprites"
   ]
  },
  {
   "cell_type": "code",
   "execution_count": 6,
   "id": "59fa35e1",
   "metadata": {},
   "outputs": [],
   "source": [
    "dataset = DSprites_Dataset()\n",
    "attributes = dataset.get_attributes()"
   ]
  },
  {
   "cell_type": "code",
   "execution_count": 7,
   "id": "572b96fb",
   "metadata": {},
   "outputs": [
    {
     "name": "stdout",
     "output_type": "stream",
     "text": [
      "Computing Label\n",
      "Stability: (0.0, 0.0)\n",
      "Image Robustness: (0.8148148148148149, 0.0)\n",
      "Image Responsiveness: (0.7777777777777778, 0.0)\n"
     ]
    },
    {
     "name": "stderr",
     "output_type": "stream",
     "text": [
      "2023-04-28 22:24:23.156494: I tensorflow/core/platform/cpu_feature_guard.cc:193] This TensorFlow binary is optimized with oneAPI Deep Neural Network Library (oneDNN) to use the following CPU instructions in performance-critical operations:  SSE4.1 SSE4.2 AVX FMA\n",
      "To enable them in other operations, rebuild TensorFlow with the appropriate compiler flags.\n",
      "/auto/homes/njr61/environments/mambaforge/envs/concepts/lib/python3.7/site-packages/keras/optimizers/optimizer_v2/adam.py:114: UserWarning: The `lr` argument is deprecated, use `learning_rate` instead.\n",
      "  super().__init__(name, **kwargs)\n"
     ]
    },
    {
     "name": "stdout",
     "output_type": "stream",
     "text": [
      "Found 750 validated image filenames belonging to 9 classes.\n",
      "24/24 [==============================] - 123s 5s/step\n"
     ]
    },
    {
     "name": "stderr",
     "output_type": "stream",
     "text": [
      "/auto/homes/njr61/environments/mambaforge/envs/concepts/lib/python3.7/site-packages/numpy/core/fromnumeric.py:3441: RuntimeWarning: Mean of empty slice.\n",
      "  out=out, **kwargs)\n",
      "/auto/homes/njr61/environments/mambaforge/envs/concepts/lib/python3.7/site-packages/numpy/core/_methods.py:189: RuntimeWarning: invalid value encountered in true_divide\n",
      "  ret = ret.dtype.type(ret / rcount)\n"
     ]
    },
    {
     "name": "stdout",
     "output_type": "stream",
     "text": [
      "Truthfulness: (0.5, 0.0)\n",
      "Method Label: {'Stability': (0.0, 0.0), 'Image Robustness': (0.8148148148148149, 0.0), 'Image Responsiveness': (0.7777777777777778, 0.0), 'Truthfulness': (0.5, 0.0)}\n",
      "Computing Shapley\n",
      "Stability: (0.04938271604938275, 0.008729713347982055)\n",
      "Image Robustness: (0.38888888888888884, 0.01512030705421717)\n",
      "Image Responsiveness: (0.5679012345679012, 0.061107993435874475)\n"
     ]
    },
    {
     "name": "stderr",
     "output_type": "stream",
     "text": [
      "/auto/homes/njr61/environments/mambaforge/envs/concepts/lib/python3.7/site-packages/keras/optimizers/optimizer_v2/adam.py:114: UserWarning: The `lr` argument is deprecated, use `learning_rate` instead.\n",
      "  super().__init__(name, **kwargs)\n"
     ]
    },
    {
     "name": "stdout",
     "output_type": "stream",
     "text": [
      "Found 750 validated image filenames belonging to 9 classes.\n",
      "24/24 [==============================] - 124s 5s/step\n"
     ]
    },
    {
     "name": "stderr",
     "output_type": "stream",
     "text": [
      "/auto/homes/njr61/environments/mambaforge/envs/concepts/lib/python3.7/site-packages/numpy/core/fromnumeric.py:3441: RuntimeWarning: Mean of empty slice.\n",
      "  out=out, **kwargs)\n",
      "/auto/homes/njr61/environments/mambaforge/envs/concepts/lib/python3.7/site-packages/numpy/core/_methods.py:189: RuntimeWarning: invalid value encountered in true_divide\n",
      "  ret = ret.dtype.type(ret / rcount)\n"
     ]
    },
    {
     "name": "stdout",
     "output_type": "stream",
     "text": [
      "Truthfulness: (0.4444444444444444, 0.0)\n",
      "Method Shapley: {'Stability': (0.04938271604938275, 0.008729713347982055), 'Image Robustness': (0.38888888888888884, 0.01512030705421717), 'Image Responsiveness': (0.5679012345679012, 0.061107993435874475), 'Truthfulness': (0.4444444444444444, 0.0)}\n",
      "Computing Concept2Vec\n",
      "Stability: (0.1666666666666667, 0.026189140043946214)\n",
      "Image Robustness: (0.8765432098765432, 0.04364856673991033)\n",
      "Image Responsiveness: (0.8395061728395062, 0.031475429096251756)\n"
     ]
    },
    {
     "name": "stderr",
     "output_type": "stream",
     "text": [
      "/auto/homes/njr61/environments/mambaforge/envs/concepts/lib/python3.7/site-packages/keras/optimizers/optimizer_v2/adam.py:114: UserWarning: The `lr` argument is deprecated, use `learning_rate` instead.\n",
      "  super().__init__(name, **kwargs)\n"
     ]
    },
    {
     "name": "stdout",
     "output_type": "stream",
     "text": [
      "Found 750 validated image filenames belonging to 9 classes.\n",
      "24/24 [==============================] - 124s 5s/step\n"
     ]
    },
    {
     "name": "stderr",
     "output_type": "stream",
     "text": [
      "/auto/homes/njr61/environments/mambaforge/envs/concepts/lib/python3.7/site-packages/numpy/core/fromnumeric.py:3441: RuntimeWarning: Mean of empty slice.\n",
      "  out=out, **kwargs)\n",
      "/auto/homes/njr61/environments/mambaforge/envs/concepts/lib/python3.7/site-packages/numpy/core/_methods.py:189: RuntimeWarning: invalid value encountered in true_divide\n",
      "  ret = ret.dtype.type(ret / rcount)\n"
     ]
    },
    {
     "name": "stdout",
     "output_type": "stream",
     "text": [
      "Truthfulness: (0.3074074074074075, 0.027715980642769932)\n",
      "Method Concept2Vec: {'Stability': (0.1666666666666667, 0.026189140043946214), 'Image Robustness': (0.8765432098765432, 0.04364856673991033), 'Image Responsiveness': (0.8395061728395062, 0.031475429096251756), 'Truthfulness': (0.3074074074074075, 0.027715980642769932)}\n",
      "Computing CEM\n",
      "Stability: (0.29012345679012347, 0.031475429096251756)\n",
      "Image Robustness: (0.7592592592592592, 0.15930231976004866)\n",
      "Image Responsiveness: (0.8765432098765432, 0.05310077325334951)\n"
     ]
    },
    {
     "name": "stderr",
     "output_type": "stream",
     "text": [
      "/auto/homes/njr61/environments/mambaforge/envs/concepts/lib/python3.7/site-packages/keras/optimizers/optimizer_v2/adam.py:114: UserWarning: The `lr` argument is deprecated, use `learning_rate` instead.\n",
      "  super().__init__(name, **kwargs)\n"
     ]
    },
    {
     "name": "stdout",
     "output_type": "stream",
     "text": [
      "Found 750 validated image filenames belonging to 9 classes.\n",
      "24/24 [==============================] - 123s 5s/step\n"
     ]
    },
    {
     "name": "stderr",
     "output_type": "stream",
     "text": [
      "/auto/homes/njr61/environments/mambaforge/envs/concepts/lib/python3.7/site-packages/numpy/core/fromnumeric.py:3441: RuntimeWarning: Mean of empty slice.\n",
      "  out=out, **kwargs)\n",
      "/auto/homes/njr61/environments/mambaforge/envs/concepts/lib/python3.7/site-packages/numpy/core/_methods.py:189: RuntimeWarning: invalid value encountered in true_divide\n",
      "  ret = ret.dtype.type(ret / rcount)\n",
      "/auto/homes/njr61/main_code/src/metrics.py:361: VisibleDeprecationWarning: Creating an ndarray from ragged nested sequences (which is a list-or-tuple of lists-or-tuples-or ndarrays with different lengths or shapes) is deprecated. If you meant to do this, you must specify 'dtype=object' when creating the ndarray.\n",
      "  all_concept_embeddings = np.array([embedding_method(i,dataset,\"\",seed=seed) for i in dataset.get_attributes()])\n"
     ]
    },
    {
     "name": "stdout",
     "output_type": "stream",
     "text": [
      "Truthfulness: (0.2703703703703704, 0.010475656017578472)\n",
      "Method CEM: {'Stability': (0.29012345679012347, 0.031475429096251756), 'Image Robustness': (0.7592592592592592, 0.15930231976004866), 'Image Responsiveness': (0.8765432098765432, 0.05310077325334951), 'Truthfulness': (0.2703703703703704, 0.010475656017578472)}\n"
     ]
    }
   ],
   "source": [
    "for method,name in zip(vector_method,vector_names):\n",
    "    print(\"Computing {}\".format(name))\n",
    "    start = time.time()\n",
    "\n",
    "    results = compute_all_metrics(method,\n",
    "                                        dataset,\n",
    "                                        attributes,\n",
    "                                        seeds)\n",
    "    print(\"Method {}: {}\".format(name,results))\n",
    "    \n",
    "    name_lower = name.lower()\n",
    "    w = open(\"results/evaluation/{}_{}.txt\".format(dataset.experiment_name,name_lower),\"w\")\n",
    "    for key in results:\n",
    "        w.write(\"{}: {}\\n\".format(key,results[key]))\n",
    "    w.close()"
   ]
  },
  {
   "cell_type": "markdown",
   "id": "a823b9be",
   "metadata": {},
   "source": [
    "## Evaluate all Vectors Chexpert"
   ]
  },
  {
   "cell_type": "code",
   "execution_count": 8,
   "id": "b0c686a9",
   "metadata": {},
   "outputs": [],
   "source": [
    "dataset = Chexpert_Dataset()\n",
    "attributes = dataset.get_attributes()"
   ]
  },
  {
   "cell_type": "code",
   "execution_count": 9,
   "id": "e6f6475f",
   "metadata": {},
   "outputs": [
    {
     "name": "stdout",
     "output_type": "stream",
     "text": [
      "Computing Label\n",
      "Stability: (0.0, 0.0)\n",
      "Image Robustness: (0.07692307692307687, 0.0)\n",
      "Image Responsiveness: (0.794871794871795, 1.1102230246251565e-16)\n"
     ]
    },
    {
     "name": "stderr",
     "output_type": "stream",
     "text": [
      "/auto/homes/njr61/environments/mambaforge/envs/concepts/lib/python3.7/site-packages/keras/optimizers/optimizer_v2/adam.py:114: UserWarning: The `lr` argument is deprecated, use `learning_rate` instead.\n",
      "  super().__init__(name, **kwargs)\n"
     ]
    },
    {
     "name": "stdout",
     "output_type": "stream",
     "text": [
      "Found 1000 validated image filenames belonging to 2 classes.\n",
      "32/32 [==============================] - 165s 5s/step\n",
      "Truthfulness: (0.5076923076923078, 0.0)\n",
      "Method Label: {'Stability': (0.0, 0.0), 'Image Robustness': (0.07692307692307687, 0.0), 'Image Responsiveness': (0.794871794871795, 1.1102230246251565e-16), 'Truthfulness': (0.5076923076923078, 0.0)}\n",
      "Computing Shapley\n",
      "Stability: (0.03418803418803421, 0.024174590809796514)\n",
      "Image Robustness: (0.6324786324786325, 0.03197997766473456)\n",
      "Image Responsiveness: (0.7008547008547009, 0.0792616965426983)\n"
     ]
    },
    {
     "name": "stderr",
     "output_type": "stream",
     "text": [
      "/auto/homes/njr61/environments/mambaforge/envs/concepts/lib/python3.7/site-packages/keras/optimizers/optimizer_v2/adam.py:114: UserWarning: The `lr` argument is deprecated, use `learning_rate` instead.\n",
      "  super().__init__(name, **kwargs)\n"
     ]
    },
    {
     "name": "stdout",
     "output_type": "stream",
     "text": [
      "Found 1000 validated image filenames belonging to 2 classes.\n",
      "32/32 [==============================] - 165s 5s/step\n",
      "Truthfulness: (0.46666666666666673, 0.026148818018424547)\n",
      "Method Shapley: {'Stability': (0.03418803418803421, 0.024174590809796514), 'Image Robustness': (0.6324786324786325, 0.03197997766473456), 'Image Responsiveness': (0.7008547008547009, 0.0792616965426983), 'Truthfulness': (0.46666666666666673, 0.026148818018424547)}\n",
      "Computing Concept2Vec\n",
      "Stability: (0.5726495726495726, 0.052687299170675)\n",
      "Image Robustness: (0.358974358974359, 0.07548513560963974)\n",
      "Image Responsiveness: (0.7606837606837606, 0.03197997766473456)\n"
     ]
    },
    {
     "name": "stderr",
     "output_type": "stream",
     "text": [
      "/auto/homes/njr61/environments/mambaforge/envs/concepts/lib/python3.7/site-packages/keras/optimizers/optimizer_v2/adam.py:114: UserWarning: The `lr` argument is deprecated, use `learning_rate` instead.\n",
      "  super().__init__(name, **kwargs)\n"
     ]
    },
    {
     "name": "stdout",
     "output_type": "stream",
     "text": [
      "Found 1000 validated image filenames belonging to 2 classes.\n",
      "32/32 [==============================] - 165s 5s/step\n",
      "Truthfulness: (0.4102564102564103, 0.06322475900480998)\n",
      "Method Concept2Vec: {'Stability': (0.5726495726495726, 0.052687299170675), 'Image Robustness': (0.358974358974359, 0.07548513560963974), 'Image Responsiveness': (0.7606837606837606, 0.03197997766473456), 'Truthfulness': (0.4102564102564103, 0.06322475900480998)}\n",
      "Computing CEM\n",
      "Stability: (0.5555555555555557, 0.06729921259839156)\n",
      "Image Robustness: (0.5042735042735043, 0.11530544925839355)\n",
      "Image Responsiveness: (0.7264957264957265, 0.12791991065893818)\n"
     ]
    },
    {
     "name": "stderr",
     "output_type": "stream",
     "text": [
      "/auto/homes/njr61/environments/mambaforge/envs/concepts/lib/python3.7/site-packages/keras/optimizers/optimizer_v2/adam.py:114: UserWarning: The `lr` argument is deprecated, use `learning_rate` instead.\n",
      "  super().__init__(name, **kwargs)\n"
     ]
    },
    {
     "name": "stdout",
     "output_type": "stream",
     "text": [
      "Found 1000 validated image filenames belonging to 2 classes.\n",
      "32/32 [==============================] - 165s 5s/step\n"
     ]
    },
    {
     "name": "stderr",
     "output_type": "stream",
     "text": [
      "/auto/homes/njr61/main_code/src/metrics.py:361: VisibleDeprecationWarning: Creating an ndarray from ragged nested sequences (which is a list-or-tuple of lists-or-tuples-or ndarrays with different lengths or shapes) is deprecated. If you meant to do this, you must specify 'dtype=object' when creating the ndarray.\n",
      "  all_concept_embeddings = np.array([embedding_method(i,dataset,\"\",seed=seed) for i in dataset.get_attributes()])\n"
     ]
    },
    {
     "name": "stdout",
     "output_type": "stream",
     "text": [
      "Truthfulness: (0.4153846153846154, 0.03768445758127969)\n",
      "Method CEM: {'Stability': (0.5555555555555557, 0.06729921259839156), 'Image Robustness': (0.5042735042735043, 0.11530544925839355), 'Image Responsiveness': (0.7264957264957265, 0.12791991065893818), 'Truthfulness': (0.4153846153846154, 0.03768445758127969)}\n"
     ]
    }
   ],
   "source": [
    "for method,name in zip(vector_method,vector_names):\n",
    "    print(\"Computing {}\".format(name))\n",
    "    start = time.time()\n",
    "\n",
    "    results = compute_all_metrics(method,\n",
    "                                        dataset,\n",
    "                                        attributes,\n",
    "                                        seeds)\n",
    "    print(\"Method {}: {}\".format(name,results))\n",
    "    \n",
    "    name_lower = name.lower()\n",
    "    w = open(\"results/evaluation/{}_{}.txt\".format(dataset.experiment_name,name_lower),\"w\")\n",
    "    for key in results:\n",
    "        w.write(\"{}: {}\\n\".format(key,results[key]))\n",
    "    w.close()"
   ]
  },
  {
   "cell_type": "markdown",
   "id": "bcb37286",
   "metadata": {},
   "source": [
    "## CUB Ablation Studies"
   ]
  },
  {
   "cell_type": "markdown",
   "id": "6c690e1f",
   "metadata": {},
   "source": [
    "### Evaluation at different noise levels"
   ]
  },
  {
   "cell_type": "code",
   "execution_count": 17,
   "id": "c7e6af94",
   "metadata": {},
   "outputs": [],
   "source": [
    "dataset = CUB_Dataset()\n",
    "attributes = dataset.get_attributes()"
   ]
  },
  {
   "cell_type": "code",
   "execution_count": 22,
   "id": "fd48ed4e",
   "metadata": {},
   "outputs": [],
   "source": [
    "embedding_method = load_shapley_vectors_simple\n",
    "name = \"Shapley\"\n",
    "random_seeds = [43]"
   ]
  },
  {
   "cell_type": "code",
   "execution_count": 23,
   "id": "72ba733d",
   "metadata": {},
   "outputs": [],
   "source": [
    "start = time.time()\n",
    "\n",
    "results = {}\n",
    "\n",
    "for flip_prob in ['0.01','0.05','0.1']:\n",
    "    results['flip_prob_{}'.format(flip_prob)] = compare_same_images_by_suffix(embedding_method,\n",
    "                                         dataset,attributes,random_seeds,\"_flip_{}\".format(flip_prob),\n",
    "                                        baseline_hierarchies=None)\n",
    "\n",
    "for noise in [25,50,100]:\n",
    "    results['noise_{}'.format(flip_prob)] = compare_same_images_by_suffix(embedding_method,\n",
    "                                         dataset,attributes,random_seeds,\"_noise_{}\".format(noise),\n",
    "                                        baseline_hierarchies=None)\n",
    "\n",
    "w = open(\"results/evaluation/cub_noise_ablation.txt\",\"w\")\n",
    "for key in results:\n",
    "    w.write(\"{}: {}\\n\".format(key,results[key]))\n",
    "w.close()"
   ]
  },
  {
   "cell_type": "markdown",
   "id": "5964791d",
   "metadata": {},
   "source": [
    "### Evalaution with different models"
   ]
  },
  {
   "cell_type": "code",
   "execution_count": 34,
   "id": "c9c566ea",
   "metadata": {},
   "outputs": [
    {
     "name": "stdout",
     "output_type": "stream",
     "text": [
      "Using directory results/shapley/cub_model_resnet50/43\n",
      "Found 4796 validated image filenames belonging to 200 classes.\n",
      "150/150 [==============================] - 336s 2s/step\n",
      "Using directory results/shapley/cub_model_resnet50/44\n",
      "Found 4796 validated image filenames belonging to 200 classes.\n",
      "150/150 [==============================] - 344s 2s/step\n",
      "Using directory results/shapley/cub_model_resnet50/45\n",
      "Found 4796 validated image filenames belonging to 200 classes.\n",
      "150/150 [==============================] - 339s 2s/step\n",
      "Using directory results/shapley/cub_model_inceptionv3/43\n",
      "Found 4796 validated image filenames belonging to 200 classes.\n",
      "150/150 [==============================] - 177s 1s/step\n",
      "Using directory results/shapley/cub_model_inceptionv3/44\n",
      "Found 4796 validated image filenames belonging to 200 classes.\n",
      "150/150 [==============================] - 176s 1s/step\n",
      "Using directory results/shapley/cub_model_inceptionv3/45\n",
      "Found 4796 validated image filenames belonging to 200 classes.\n",
      "150/150 [==============================] - 176s 1s/step\n"
     ]
    }
   ],
   "source": [
    "for model_name in [\"Resnet50\",\"InceptionV3\"]:\n",
    "    for s in [43,44,45]:\n",
    "        create_shapley_vectors(attributes,dataset,\"\",seed=s,model_name=model_name)"
   ]
  },
  {
   "cell_type": "code",
   "execution_count": 36,
   "id": "a77930ab",
   "metadata": {},
   "outputs": [],
   "source": [
    "random_seeds = [43,44,45]\n",
    "results = {}\n",
    "\n",
    "for model_name in ['resnet50','inceptionv3']:\n",
    "    results[model_name] = compare_same_images_by_suffix(embedding_method,\n",
    "                                         dataset,attributes,random_seeds,\"_model_{}\".format(model_name),\n",
    "                                        baseline_hierarchies=None)\n",
    "\n",
    "w = open(\"results/evaluation/cub_model_comparison.txt\",\"w\")\n",
    "for key in results:\n",
    "    w.write(\"{}: {}\\n\".format(key,results[key]))\n",
    "w.close()"
   ]
  },
  {
   "cell_type": "code",
   "execution_count": 37,
   "id": "d42d7639",
   "metadata": {},
   "outputs": [],
   "source": [
    "def create_embedding_method(model_name):\n",
    "    def f(attribute,dataset,suffix,seed=random_seed):\n",
    "        return load_shapley_vectors_simple(attribute,dataset,\"_model_{}\".format(model_name),seed=random_seed)\n",
    "    return f"
   ]
  },
  {
   "cell_type": "code",
   "execution_count": 38,
   "id": "ac2f7591",
   "metadata": {},
   "outputs": [],
   "source": [
    "hierarchy_resnet = create_hierarchy(create_ward_hierarchy, load_shapley_vectors_simple,\n",
    "                                    dataset,\"_model_{}\".format('resnet50'),attributes,43)"
   ]
  },
  {
   "cell_type": "code",
   "execution_count": 39,
   "id": "2f2e16e3",
   "metadata": {},
   "outputs": [],
   "source": [
    "hierarchy_inception = create_hierarchy(create_ward_hierarchy, load_shapley_vectors_simple,\n",
    "                                    dataset,\"_model_{}\".format('inceptionv3'),attributes,43)"
   ]
  },
  {
   "cell_type": "code",
   "execution_count": 40,
   "id": "397555d8",
   "metadata": {},
   "outputs": [
    {
     "name": "stdout",
     "output_type": "stream",
     "text": [
      "                ---- has_size::medium_(9_-_16_in)\n",
      "           ----|\n",
      "                ---- has_shape::duck-like\n",
      "\n",
      "      ----|\n",
      "                          ---- has_bill_shape::dagger\n",
      "                     ----|\n",
      "                          ---- has_crown_color::white\n",
      "\n",
      "                ----|\n",
      "                          ---- has_bill_length::about_the_same_as_head\n",
      "                     ----|\n",
      "                          ---- has_primary_color::black\n",
      "\n",
      "\n",
      "           ----|\n",
      "                          ---- has_nape_color::white\n",
      "                     ----|\n",
      "                               ---- has_upperparts_color::white\n",
      "                          ----|\n",
      "                               ---- has_back_color::white\n",
      "\n",
      "\n",
      "                ----|\n",
      "                               ---- has_bill_shape::hooked_seabird\n",
      "                          ----|\n",
      "                               ---- has_under_tail_color::white\n",
      "\n",
      "                     ----|\n",
      "                               ---- has_upper_tail_color::white\n",
      "                          ----|\n",
      "                               ---- has_forehead_color::white\n",
      "\n",
      "\n",
      "\n",
      "\n",
      "\n",
      " ----|\n",
      "                ---- has_eye_color::black\n",
      "           ----|\n",
      "                               ---- has_bill_shape::all-purpose\n",
      "                          ----|\n",
      "                               ---- has_crown_color::yellow\n",
      "\n",
      "                     ----|\n",
      "                               ---- has_nape_color::yellow\n",
      "                          ----|\n",
      "                                    ---- has_bill_length::shorter_than_head\n",
      "                               ----|\n",
      "                                    ---- has_nape_color::grey\n",
      "\n",
      "\n",
      "\n",
      "                ----|\n",
      "                          ---- has_shape::perching-like\n",
      "                     ----|\n",
      "                               ---- has_crown_color::grey\n",
      "                          ----|\n",
      "                                    ---- has_size::small_(5_-_9_in)\n",
      "                               ----|\n",
      "                                         ---- has_forehead_color::yellow\n",
      "                                    ----|\n",
      "                                              ---- has_wing_color::yellow\n",
      "                                         ----|\n",
      "                                              ---- has_upperparts_color::yellow\n",
      "\n",
      "\n",
      "\n",
      "\n",
      "\n",
      "\n",
      "\n",
      "      ----|\n",
      "                               ---- has_crown_color::black\n",
      "                          ----|\n",
      "                                    ---- has_forehead_color::black\n",
      "                               ----|\n",
      "                                         ---- has_primary_color::white\n",
      "                                    ----|\n",
      "                                         ---- has_bill_color::buff\n",
      "\n",
      "\n",
      "\n",
      "                     ----|\n",
      "                                    ---- has_size::very_small_(3_-_5_in)\n",
      "                               ----|\n",
      "                                         ---- has_back_color::black\n",
      "                                    ----|\n",
      "                                         ---- has_upper_tail_color::black\n",
      "\n",
      "\n",
      "                          ----|\n",
      "                                    ---- has_under_tail_color::buff\n",
      "                               ----|\n",
      "                                         ---- has_wing_pattern::spotted\n",
      "                                    ----|\n",
      "                                              ---- has_nape_color::black\n",
      "                                         ----|\n",
      "                                                   ---- has_wing_color::white\n",
      "                                              ----|\n",
      "                                                   ---- has_breast_color::white\n",
      "\n",
      "\n",
      "\n",
      "\n",
      "\n",
      "\n",
      "                ----|\n",
      "                                              ---- has_underparts_color::white\n",
      "                                         ----|\n",
      "                                              ---- has_throat_color::white\n",
      "\n",
      "                                    ----|\n",
      "                                              ---- has_belly_color::black\n",
      "                                         ----|\n",
      "                                              ---- has_tail_pattern::solid\n",
      "\n",
      "\n",
      "                               ----|\n",
      "                                         ---- has_wing_color::buff\n",
      "                                    ----|\n",
      "                                              ---- has_back_color::buff\n",
      "                                         ----|\n",
      "                                              ---- has_breast_color::grey\n",
      "\n",
      "\n",
      "\n",
      "                          ----|\n",
      "                                         ---- has_under_tail_color::black\n",
      "                                    ----|\n",
      "                                              ---- has_belly_color::white\n",
      "                                         ----|\n",
      "                                              ---- has_belly_pattern::solid\n",
      "\n",
      "\n",
      "                               ----|\n",
      "                                         ---- has_nape_color::buff\n",
      "                                    ----|\n",
      "                                              ---- has_belly_color::buff\n",
      "                                         ----|\n",
      "                                                   ---- has_underparts_color::black\n",
      "                                              ----|\n",
      "                                                   ---- has_breast_color::black\n",
      "\n",
      "\n",
      "\n",
      "\n",
      "\n",
      "                     ----|\n",
      "                                         ---- has_underparts_color::grey\n",
      "                                    ----|\n",
      "                                              ---- has_breast_color::buff\n",
      "                                         ----|\n",
      "                                              ---- has_nape_color::brown\n",
      "\n",
      "\n",
      "                               ----|\n",
      "                                         ---- has_wing_color::black\n",
      "                                    ----|\n",
      "                                              ---- has_upperparts_color::buff\n",
      "                                         ----|\n",
      "                                              ---- has_throat_color::buff\n",
      "\n",
      "\n",
      "\n",
      "                          ----|\n",
      "                                         ---- has_back_pattern::multi-colored\n",
      "                                    ----|\n",
      "                                              ---- has_upperparts_color::black\n",
      "                                         ----|\n",
      "                                                   ---- has_throat_color::black\n",
      "                                              ----|\n",
      "                                                   ---- has_primary_color::buff\n",
      "\n",
      "\n",
      "\n",
      "                               ----|\n",
      "                                         ---- has_head_pattern::eyebrow\n",
      "                                    ----|\n",
      "                                              ---- has_upper_tail_color::buff\n",
      "                                         ----|\n",
      "                                              ---- has_under_tail_color::brown\n",
      "\n",
      "\n",
      "\n",
      "\n",
      "\n",
      "\n",
      "           ----|\n",
      "                               ---- has_forehead_color::grey\n",
      "                          ----|\n",
      "                                    ---- has_primary_color::yellow\n",
      "                               ----|\n",
      "                                              ---- has_tail_shape::notched_tail\n",
      "                                         ----|\n",
      "                                              ---- has_belly_color::yellow\n",
      "\n",
      "                                    ----|\n",
      "                                              ---- has_underparts_color::yellow\n",
      "                                         ----|\n",
      "                                              ---- has_back_color::yellow\n",
      "\n",
      "\n",
      "\n",
      "\n",
      "                     ----|\n",
      "                                    ---- has_primary_color::brown\n",
      "                               ----|\n",
      "                                         ---- has_leg_color::grey\n",
      "                                    ----|\n",
      "                                              ---- has_upper_tail_color::brown\n",
      "                                         ----|\n",
      "                                              ---- has_belly_color::brown\n",
      "\n",
      "\n",
      "\n",
      "                          ----|\n",
      "                                         ---- has_wing_shape::rounded-wings\n",
      "                                    ----|\n",
      "                                         ---- has_bill_color::grey\n",
      "\n",
      "                               ----|\n",
      "                                         ---- has_throat_color::grey\n",
      "                                    ----|\n",
      "                                              ---- has_breast_color::yellow\n",
      "                                         ----|\n",
      "                                              ---- has_throat_color::yellow\n",
      "\n",
      "\n",
      "\n",
      "\n",
      "\n",
      "                ----|\n",
      "                                    ---- has_bill_shape::cone\n",
      "                               ----|\n",
      "                                         ---- has_forehead_color::blue\n",
      "                                    ----|\n",
      "                                         ---- has_crown_color::blue\n",
      "\n",
      "\n",
      "                          ----|\n",
      "                                         ---- has_wing_shape::pointed-wings\n",
      "                                    ----|\n",
      "                                         ---- has_wing_pattern::striped\n",
      "\n",
      "                               ----|\n",
      "                                         ---- has_wing_color::brown\n",
      "                                    ----|\n",
      "                                              ---- has_back_color::grey\n",
      "                                         ----|\n",
      "                                                        ---- has_underparts_color::brown\n",
      "                                                   ----|\n",
      "                                                        ---- has_back_color::brown\n",
      "\n",
      "                                              ----|\n",
      "                                                        ---- has_upperparts_color::brown\n",
      "                                                   ----|\n",
      "                                                        ---- has_under_tail_color::grey\n",
      "\n",
      "\n",
      "\n",
      "\n",
      "\n",
      "\n",
      "                     ----|\n",
      "                                         ---- has_leg_color::buff\n",
      "                                    ----|\n",
      "                                              ---- has_breast_color::brown\n",
      "                                         ----|\n",
      "                                              ---- has_belly_color::grey\n",
      "\n",
      "\n",
      "                               ----|\n",
      "                                              ---- has_wing_color::grey\n",
      "                                         ----|\n",
      "                                              ---- has_upper_tail_color::grey\n",
      "\n",
      "                                    ----|\n",
      "                                              ---- has_primary_color::grey\n",
      "                                         ----|\n",
      "                                              ---- has_crown_color::brown\n",
      "\n",
      "\n",
      "\n",
      "                          ----|\n",
      "                                                   ---- has_back_pattern::striped\n",
      "                                              ----|\n",
      "                                                   ---- has_tail_pattern::striped\n",
      "\n",
      "                                         ----|\n",
      "                                                   ---- has_underparts_color::buff\n",
      "                                              ----|\n",
      "                                                   ---- has_breast_pattern::solid\n",
      "\n",
      "\n",
      "                                    ----|\n",
      "                                                   ---- has_bill_color::black\n",
      "                                              ----|\n",
      "                                                   ---- has_wing_pattern::solid\n",
      "\n",
      "                                         ----|\n",
      "                                                   ---- has_head_pattern::plain\n",
      "                                              ----|\n",
      "                                                   ---- has_forehead_color::brown\n",
      "\n",
      "\n",
      "\n",
      "                               ----|\n",
      "                                              ---- has_breast_pattern::multi-colored\n",
      "                                         ----|\n",
      "                                              ---- has_tail_pattern::multi-colored\n",
      "\n",
      "                                    ----|\n",
      "                                                   ---- has_back_pattern::solid\n",
      "                                              ----|\n",
      "                                                   ---- has_leg_color::black\n",
      "\n",
      "                                         ----|\n",
      "                                                   ---- has_breast_pattern::striped\n",
      "                                              ----|\n",
      "                                                        ---- has_upperparts_color::grey\n",
      "                                                   ----|\n",
      "                                                        ---- has_wing_pattern::multi-colored\n"
     ]
    }
   ],
   "source": [
    "print(hierarchy_resnet)"
   ]
  },
  {
   "cell_type": "code",
   "execution_count": 41,
   "id": "0b0e24f1",
   "metadata": {},
   "outputs": [
    {
     "name": "stdout",
     "output_type": "stream",
     "text": [
      "                          ---- has_upper_tail_color::buff\n",
      "                     ----|\n",
      "                          ---- has_under_tail_color::buff\n",
      "\n",
      "                ----|\n",
      "                               ---- has_upperparts_color::buff\n",
      "                          ----|\n",
      "                                    ---- has_wing_color::buff\n",
      "                               ----|\n",
      "                                    ---- has_back_color::buff\n",
      "\n",
      "\n",
      "                     ----|\n",
      "                               ---- has_nape_color::buff\n",
      "                          ----|\n",
      "                               ---- has_primary_color::buff\n",
      "\n",
      "\n",
      "\n",
      "           ----|\n",
      "                     ---- has_throat_color::buff\n",
      "                ----|\n",
      "                          ---- has_breast_color::buff\n",
      "                     ----|\n",
      "                               ---- has_underparts_color::buff\n",
      "                          ----|\n",
      "                               ---- has_belly_color::buff\n",
      "\n",
      "\n",
      "\n",
      "\n",
      "      ----|\n",
      "                     ---- has_belly_color::brown\n",
      "                ----|\n",
      "                          ---- has_underparts_color::brown\n",
      "                     ----|\n",
      "                          ---- has_breast_color::brown\n",
      "\n",
      "\n",
      "           ----|\n",
      "                          ---- has_head_pattern::eyebrow\n",
      "                     ----|\n",
      "                          ---- has_wing_pattern::spotted\n",
      "\n",
      "                ----|\n",
      "                                    ---- has_nape_color::brown\n",
      "                               ----|\n",
      "                                         ---- has_forehead_color::brown\n",
      "                                    ----|\n",
      "                                         ---- has_crown_color::brown\n",
      "\n",
      "\n",
      "                          ----|\n",
      "                                         ---- has_upper_tail_color::brown\n",
      "                                    ----|\n",
      "                                         ---- has_under_tail_color::brown\n",
      "\n",
      "                               ----|\n",
      "                                         ---- has_primary_color::brown\n",
      "                                    ----|\n",
      "                                              ---- has_back_color::brown\n",
      "                                         ----|\n",
      "                                                   ---- has_wing_color::brown\n",
      "                                              ----|\n",
      "                                                   ---- has_upperparts_color::brown\n",
      "\n",
      "\n",
      "\n",
      "\n",
      "\n",
      "                     ----|\n",
      "                                    ---- has_size::very_small_(3_-_5_in)\n",
      "                               ----|\n",
      "                                    ---- has_tail_pattern::striped\n",
      "\n",
      "                          ----|\n",
      "                                    ---- has_bill_color::buff\n",
      "                               ----|\n",
      "                                         ---- has_breast_pattern::striped\n",
      "                                    ----|\n",
      "                                              ---- has_leg_color::buff\n",
      "                                         ----|\n",
      "                                                   ---- has_back_pattern::striped\n",
      "                                              ----|\n",
      "                                                   ---- has_wing_pattern::striped\n",
      "\n",
      "\n",
      "\n",
      "\n",
      "\n",
      "\n",
      "\n",
      "\n",
      "\n",
      " ----|\n",
      "                     ---- has_throat_color::yellow\n",
      "                ----|\n",
      "                          ---- has_breast_color::yellow\n",
      "                     ----|\n",
      "                               ---- has_primary_color::yellow\n",
      "                          ----|\n",
      "                                    ---- has_underparts_color::yellow\n",
      "                               ----|\n",
      "                                    ---- has_belly_color::yellow\n",
      "\n",
      "\n",
      "\n",
      "\n",
      "           ----|\n",
      "                          ---- has_nape_color::yellow\n",
      "                     ----|\n",
      "                               ---- has_forehead_color::yellow\n",
      "                          ----|\n",
      "                               ---- has_crown_color::yellow\n",
      "\n",
      "\n",
      "                ----|\n",
      "                          ---- has_back_color::yellow\n",
      "                     ----|\n",
      "                               ---- has_wing_color::yellow\n",
      "                          ----|\n",
      "                               ---- has_upperparts_color::yellow\n",
      "\n",
      "\n",
      "\n",
      "\n",
      "      ----|\n",
      "                          ---- has_forehead_color::blue\n",
      "                     ----|\n",
      "                          ---- has_crown_color::blue\n",
      "\n",
      "                ----|\n",
      "                               ---- has_throat_color::grey\n",
      "                          ----|\n",
      "                                    ---- has_belly_color::grey\n",
      "                               ----|\n",
      "                                         ---- has_underparts_color::grey\n",
      "                                    ----|\n",
      "                                         ---- has_breast_color::grey\n",
      "\n",
      "\n",
      "\n",
      "                     ----|\n",
      "                               ---- has_eye_color::black\n",
      "                          ----|\n",
      "                                              ---- has_nape_color::grey\n",
      "                                         ----|\n",
      "                                                   ---- has_forehead_color::grey\n",
      "                                              ----|\n",
      "                                                   ---- has_crown_color::grey\n",
      "\n",
      "\n",
      "                                    ----|\n",
      "                                                   ---- has_upper_tail_color::grey\n",
      "                                              ----|\n",
      "                                                   ---- has_under_tail_color::grey\n",
      "\n",
      "                                         ----|\n",
      "                                                   ---- has_wing_color::grey\n",
      "                                              ----|\n",
      "                                                        ---- has_primary_color::grey\n",
      "                                                   ----|\n",
      "                                                             ---- has_upperparts_color::grey\n",
      "                                                        ----|\n",
      "                                                             ---- has_back_color::grey\n",
      "\n",
      "\n",
      "\n",
      "\n",
      "\n",
      "                               ----|\n",
      "                                         ---- has_back_pattern::multi-colored\n",
      "                                    ----|\n",
      "                                              ---- has_breast_pattern::multi-colored\n",
      "                                         ----|\n",
      "                                                             ---- has_tail_pattern::multi-colored\n",
      "                                                        ----|\n",
      "                                                             ---- has_wing_pattern::multi-colored\n",
      "\n",
      "                                                   ----|\n",
      "                                                             ---- has_wing_shape::pointed-wings\n",
      "                                                        ----|\n",
      "                                                             ---- has_leg_color::grey\n",
      "\n",
      "\n",
      "                                              ----|\n",
      "                                                        ---- has_bill_color::grey\n",
      "                                                   ----|\n",
      "                                                                  ---- has_bill_shape::cone\n",
      "                                                             ----|\n",
      "                                                                  ---- has_tail_shape::notched_tail\n",
      "\n",
      "                                                        ----|\n",
      "                                                                  ---- has_wing_shape::rounded-wings\n",
      "                                                             ----|\n",
      "                                                                       ---- has_bill_shape::all-purpose\n",
      "                                                                  ----|\n",
      "                                                                            ---- has_size::small_(5_-_9_in)\n",
      "                                                                       ----|\n",
      "                                                                                 ---- has_bill_length::shorter_than_head\n",
      "                                                                            ----|\n",
      "                                                                                 ---- has_shape::perching-like\n",
      "\n",
      "\n",
      "\n",
      "\n",
      "\n",
      "\n",
      "\n",
      "\n",
      "\n",
      "\n",
      "\n",
      "\n",
      "\n",
      "           ----|\n",
      "                          ---- has_shape::duck-like\n",
      "                     ----|\n",
      "                                         ---- has_bill_length::about_the_same_as_head\n",
      "                                    ----|\n",
      "                                         ---- has_size::medium_(9_-_16_in)\n",
      "\n",
      "                               ----|\n",
      "                                              ---- has_head_pattern::plain\n",
      "                                         ----|\n",
      "                                                   ---- has_leg_color::black\n",
      "                                              ----|\n",
      "                                                   ---- has_bill_color::black\n",
      "\n",
      "\n",
      "                                    ----|\n",
      "                                                   ---- has_breast_pattern::solid\n",
      "                                              ----|\n",
      "                                                   ---- has_belly_pattern::solid\n",
      "\n",
      "                                         ----|\n",
      "                                                   ---- has_tail_pattern::solid\n",
      "                                              ----|\n",
      "                                                        ---- has_back_pattern::solid\n",
      "                                                   ----|\n",
      "                                                        ---- has_wing_pattern::solid\n",
      "\n",
      "\n",
      "\n",
      "\n",
      "\n",
      "                          ----|\n",
      "                                         ---- has_breast_color::black\n",
      "                                    ----|\n",
      "                                              ---- has_underparts_color::black\n",
      "                                         ----|\n",
      "                                              ---- has_belly_color::black\n",
      "\n",
      "\n",
      "                               ----|\n",
      "                                                   ---- has_wing_color::black\n",
      "                                              ----|\n",
      "                                                   ---- has_upperparts_color::black\n",
      "\n",
      "                                         ----|\n",
      "                                                   ---- has_upper_tail_color::black\n",
      "                                              ----|\n",
      "                                                   ---- has_under_tail_color::black\n",
      "\n",
      "\n",
      "                                    ----|\n",
      "                                              ---- has_throat_color::black\n",
      "                                         ----|\n",
      "                                                        ---- has_forehead_color::black\n",
      "                                                   ----|\n",
      "                                                        ---- has_crown_color::black\n",
      "\n",
      "                                              ----|\n",
      "                                                        ---- has_nape_color::black\n",
      "                                                   ----|\n",
      "                                                             ---- has_back_color::black\n",
      "                                                        ----|\n",
      "                                                             ---- has_primary_color::black\n",
      "\n",
      "\n",
      "\n",
      "\n",
      "\n",
      "\n",
      "\n",
      "\n",
      "                ----|\n",
      "                                    ---- has_throat_color::white\n",
      "                               ----|\n",
      "                                         ---- has_breast_color::white\n",
      "                                    ----|\n",
      "                                              ---- has_underparts_color::white\n",
      "                                         ----|\n",
      "                                              ---- has_belly_color::white\n",
      "\n",
      "\n",
      "\n",
      "                          ----|\n",
      "                                    ---- has_bill_shape::dagger\n",
      "                               ----|\n",
      "                                              ---- has_wing_color::white\n",
      "                                         ----|\n",
      "                                                   ---- has_upperparts_color::white\n",
      "                                              ----|\n",
      "                                                   ---- has_back_color::white\n",
      "\n",
      "\n",
      "                                    ----|\n",
      "                                                   ---- has_nape_color::white\n",
      "                                              ----|\n",
      "                                                   ---- has_primary_color::white\n",
      "\n",
      "                                         ----|\n",
      "                                                   ---- has_upper_tail_color::white\n",
      "                                              ----|\n",
      "                                                   ---- has_under_tail_color::white\n",
      "\n",
      "\n",
      "\n",
      "\n",
      "\n",
      "                     ----|\n",
      "                               ---- has_bill_shape::hooked_seabird\n",
      "                          ----|\n",
      "                                    ---- has_forehead_color::white\n",
      "                               ----|\n",
      "                                    ---- has_crown_color::white\n"
     ]
    }
   ],
   "source": [
    "print(hierarchy_inception)"
   ]
  },
  {
   "cell_type": "markdown",
   "id": "5328a2b4",
   "metadata": {},
   "source": [
    "### See how truthfulness hyperparameters impact things"
   ]
  },
  {
   "cell_type": "code",
   "execution_count": 43,
   "id": "0dfd1588",
   "metadata": {},
   "outputs": [
    {
     "name": "stdout",
     "output_type": "stream",
     "text": [
      "Found 1198 validated image filenames belonging to 200 classes.\n",
      "38/38 [==============================] - 199s 5s/step\n",
      "Found 1198 validated image filenames belonging to 200 classes.\n",
      "38/38 [==============================] - 199s 5s/step\n",
      "Found 1198 validated image filenames belonging to 200 classes.\n",
      "38/38 [==============================] - 200s 5s/step\n",
      "Found 1198 validated image filenames belonging to 200 classes.\n",
      "38/38 [==============================] - 200s 5s/step\n"
     ]
    }
   ],
   "source": [
    "dataset = CUB_Dataset()\n",
    "attributes = dataset.get_attributes()\n",
    "\n",
    "results = {}\n",
    "\n",
    "for compare_concept in [1,3,5,7]:\n",
    "    results[compare_concept] = truthfulness_metric_shapley(load_shapley_vectors_simple,dataset,attributes,\n",
    "                                                           [43,44,45],model_name=\"VGG16\",compare_concepts=compare_concept)"
   ]
  },
  {
   "cell_type": "code",
   "execution_count": 44,
   "id": "92353971",
   "metadata": {},
   "outputs": [],
   "source": [
    "w = open(\"results/evaluation/cub_truthfulness_ablation.txt\",\"w\")\n",
    "for key in results:\n",
    "    w.write(\"{}: {}\\n\".format(key,results[key]))\n",
    "w.close()"
   ]
  },
  {
   "cell_type": "markdown",
   "id": "9fd502e3",
   "metadata": {},
   "source": [
    "## Evaluate the VAE Method"
   ]
  },
  {
   "cell_type": "code",
   "execution_count": 15,
   "id": "f4ef48e0",
   "metadata": {},
   "outputs": [],
   "source": [
    "dataset = MNIST_Dataset()\n",
    "attributes = dataset.get_attributes()\n",
    "seeds = [43,44,45]"
   ]
  },
  {
   "cell_type": "code",
   "execution_count": 16,
   "id": "2e3d375a",
   "metadata": {},
   "outputs": [
    {
     "name": "stdout",
     "output_type": "stream",
     "text": [
      "Computing VAE\n",
      "Stability: (0.04761904761904767, 0.0)\n",
      "Image Robustness: (0.03174603174603178, 0.022447834323382487)\n",
      "Image Responsiveness: (0.03174603174603178, 0.022447834323382487)\n",
      "Found 10000 validated image filenames belonging to 10 classes.\n",
      "Truthfulness: (0.9523809523809522, 1.1102230246251565e-16)\n",
      "Method VAE: {'Stability': (0.04761904761904767, 0.0), 'Image Robustness': (0.03174603174603178, 0.022447834323382487), 'Image Responsiveness': (0.03174603174603178, 0.022447834323382487), 'Truthfulness': (0.9523809523809522, 1.1102230246251565e-16)}\n"
     ]
    }
   ],
   "source": [
    "method = load_vae_vectors_simple\n",
    "name = \"VAE\"\n",
    "print(\"Computing {}\".format(name))\n",
    "start = time.time()\n",
    "\n",
    "results = compute_all_metrics(method,\n",
    "                                    dataset,\n",
    "                                    attributes,\n",
    "                                    seeds)\n",
    "print(\"Method {}: {}\".format(name,results))\n",
    "\n",
    "name_lower = name.lower()\n",
    "w = open(\"results/evaluation/{}_{}.txt\".format(dataset.experiment_name,name_lower),\"w\")\n",
    "for key in results:\n",
    "    w.write(\"{}: {}\\n\".format(key,results[key]))\n",
    "w.close()\n"
   ]
  },
  {
   "cell_type": "code",
   "execution_count": 17,
   "id": "9ec8afe2",
   "metadata": {},
   "outputs": [],
   "source": [
    "dataset = CUB_Dataset()\n",
    "attributes = dataset.get_attributes()\n",
    "seeds = [43,44,45]"
   ]
  },
  {
   "cell_type": "code",
   "execution_count": 18,
   "id": "6c64e519",
   "metadata": {},
   "outputs": [
    {
     "name": "stdout",
     "output_type": "stream",
     "text": [
      "Computing VAE\n",
      "Stability: (0.9097222222222223, 0.01724022539383214)\n",
      "Image Robustness: (0.2400793650793651, 0.30042657272349843)\n",
      "Image Responsiveness: (0.4087301587301588, 0.2858830244671909)\n",
      "Found 1198 validated image filenames belonging to 200 classes.\n",
      "Truthfulness: (0.20952380952380953, 0.05051464168875505)\n",
      "Method VAE: {'Stability': (0.9097222222222223, 0.01724022539383214), 'Image Robustness': (0.2400793650793651, 0.30042657272349843), 'Image Responsiveness': (0.4087301587301588, 0.2858830244671909), 'Truthfulness': (0.20952380952380953, 0.05051464168875505)}\n"
     ]
    }
   ],
   "source": [
    "method = load_vae_vectors_simple\n",
    "name = \"VAE\"\n",
    "print(\"Computing {}\".format(name))\n",
    "start = time.time()\n",
    "\n",
    "results = compute_all_metrics(method,\n",
    "                                    dataset,\n",
    "                                    attributes,\n",
    "                                    seeds)\n",
    "print(\"Method {}: {}\".format(name,results))\n",
    "\n",
    "name_lower = name.lower()\n",
    "w = open(\"results/evaluation/{}_{}.txt\".format(dataset.experiment_name,name_lower),\"w\")\n",
    "for key in results:\n",
    "    w.write(\"{}: {}\\n\".format(key,results[key]))\n",
    "w.close()\n"
   ]
  },
  {
   "cell_type": "markdown",
   "id": "69bb2ac8",
   "metadata": {},
   "source": [
    "## Evaluate Other CEM Vectors"
   ]
  },
  {
   "cell_type": "code",
   "execution_count": 8,
   "id": "5aae4f6d",
   "metadata": {},
   "outputs": [],
   "source": [
    "dataset = CUB_Dataset()\n",
    "attributes = dataset.get_attributes()\n",
    "seeds = [43,44,45]"
   ]
  },
  {
   "cell_type": "code",
   "execution_count": 13,
   "id": "c07aaa00",
   "metadata": {},
   "outputs": [
    {
     "name": "stdout",
     "output_type": "stream",
     "text": [
      "Computing CEM_Loss\n",
      "Stability: (0.9484126984126985, 0.02837370961522835)\n",
      "Image Robustness: (0.9662698412698413, 0.029395897599263976)\n",
      "Image Responsiveness: (0.9791666666666666, 0.008761667526118915)\n",
      "Found 1198 validated image filenames belonging to 200 classes.\n"
     ]
    },
    {
     "name": "stderr",
     "output_type": "stream",
     "text": [
      "/auto/homes/njr61/main_code/src/metrics.py:359: VisibleDeprecationWarning: Creating an ndarray from ragged nested sequences (which is a list-or-tuple of lists-or-tuples-or ndarrays with different lengths or shapes) is deprecated. If you meant to do this, you must specify 'dtype=object' when creating the ndarray.\n",
      "  all_concept_embeddings = np.array([embedding_method(i,dataset,\"\",seed=seed) for i in dataset.get_attributes()])\n"
     ]
    },
    {
     "name": "stdout",
     "output_type": "stream",
     "text": [
      "Truthfulness: (0.06964285714285713, 0.009560939526314888)\n",
      "Method CEM_Loss: {'Stability': (0.9484126984126985, 0.02837370961522835), 'Image Robustness': (0.9662698412698413, 0.029395897599263976), 'Image Responsiveness': (0.9791666666666666, 0.008761667526118915), 'Truthfulness': (0.06964285714285713, 0.009560939526314888)}\n"
     ]
    }
   ],
   "source": [
    "for method,name in zip([load_cem_loss_vectors_simple],['CEM_Loss']):\n",
    "    print(\"Computing {}\".format(name))\n",
    "    start = time.time()\n",
    "\n",
    "    results = compute_all_metrics(method,\n",
    "                                        dataset,\n",
    "                                        attributes,\n",
    "                                        seeds)\n",
    "    print(\"Method {}: {}\".format(name,results))\n",
    "    \n",
    "    name_lower = name.lower()\n",
    "    w = open(\"results/evaluation/{}_{}.txt\".format(dataset.experiment_name,name_lower),\"w\")\n",
    "    for key in results:\n",
    "        w.write(\"{}: {}\\n\".format(key,results[key]))\n",
    "    w.close()\n",
    "    "
   ]
  },
  {
   "cell_type": "code",
   "execution_count": 14,
   "id": "5484e137",
   "metadata": {},
   "outputs": [
    {
     "name": "stdout",
     "output_type": "stream",
     "text": [
      "Computing CEM_Stratified\n",
      "Stability: (0.7619047619047619, 0.1142898478088466)\n",
      "Found 1198 validated image filenames belonging to 200 classes.\n"
     ]
    },
    {
     "name": "stderr",
     "output_type": "stream",
     "text": [
      "/auto/homes/njr61/main_code/src/metrics.py:359: VisibleDeprecationWarning: Creating an ndarray from ragged nested sequences (which is a list-or-tuple of lists-or-tuples-or ndarrays with different lengths or shapes) is deprecated. If you meant to do this, you must specify 'dtype=object' when creating the ndarray.\n",
      "  all_concept_embeddings = np.array([embedding_method(i,dataset,\"\",seed=seed) for i in dataset.get_attributes()])\n"
     ]
    },
    {
     "name": "stdout",
     "output_type": "stream",
     "text": [
      "Truthfulness: (0.15654761904761905, 0.02568505834570407)\n",
      "Method CEM_Stratified: {'Stability': (0.7619047619047619, 0.1142898478088466), 'Truthfulness': (0.15654761904761905, 0.02568505834570407)}\n"
     ]
    }
   ],
   "source": [
    "for method,name in zip([load_cem_stratified_vectors_simple],['CEM_Stratified']):\n",
    "    print(\"Computing {}\".format(name))\n",
    "    start = time.time()\n",
    "\n",
    "    results = compute_all_metrics(method,\n",
    "                                        dataset,\n",
    "                                        attributes,\n",
    "                                        seeds,metrics=[stability_metric],metric_names=['Stability'])\n",
    "    print(\"Method {}: {}\".format(name,results))\n",
    "    \n",
    "    name_lower = name.lower()\n",
    "    w = open(\"results/evaluation/{}_{}.txt\".format(dataset.experiment_name,name_lower),\"w\")\n",
    "    for key in results:\n",
    "        w.write(\"{}: {}\\n\".format(key,results[key]))\n",
    "    w.close()\n",
    "    "
   ]
  },
  {
   "cell_type": "code",
   "execution_count": null,
   "id": "6d3be59e",
   "metadata": {},
   "outputs": [],
   "source": []
  }
 ],
 "metadata": {
  "kernelspec": {
   "display_name": "Python 3 (ipykernel)",
   "language": "python",
   "name": "python3"
  },
  "language_info": {
   "codemirror_mode": {
    "name": "ipython",
    "version": 3
   },
   "file_extension": ".py",
   "mimetype": "text/x-python",
   "name": "python",
   "nbconvert_exporter": "python",
   "pygments_lexer": "ipython3",
   "version": "3.7.12"
  }
 },
 "nbformat": 4,
 "nbformat_minor": 5
}
