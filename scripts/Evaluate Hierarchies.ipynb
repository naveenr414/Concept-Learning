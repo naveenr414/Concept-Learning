{
 "cells": [
  {
   "cell_type": "code",
   "execution_count": null,
   "id": "ddd0e1f6",
   "metadata": {},
   "outputs": [],
   "source": [
    "%load_ext autoreload\n",
    "%autoreload 2"
   ]
  },
  {
   "cell_type": "code",
   "execution_count": null,
   "id": "011d6db1",
   "metadata": {},
   "outputs": [],
   "source": [
    "import os\n",
    "os.chdir('../')\n",
    "os.environ[\"CUDA_VISIBLE_DEVICES\"]=\"0\"\n",
    "os.environ[\"PROTOCOL_BUFFERS_PYTHON_IMPLEMENTATION\"]=\"python\"\n"
   ]
  },
  {
   "cell_type": "code",
   "execution_count": null,
   "id": "6d4171c9",
   "metadata": {},
   "outputs": [],
   "source": [
    "from src.dataset import *\n",
    "from src.concept_vectors import *\n",
    "from src.util import *\n",
    "from src.hierarchy import *\n",
    "from src.metrics import *\n",
    "import numpy as np\n",
    "import matplotlib.pyplot as plt\n",
    "import glob\n",
    "import tensorflow as tf\n",
    "from src.create_vectors import *\n",
    "import json "
   ]
  },
  {
   "cell_type": "code",
   "execution_count": null,
   "id": "539c3cd3",
   "metadata": {},
   "outputs": [],
   "source": [
    "import os \n",
    "os.system(\"export LD_LIBRARY_PATH=/usr/local/cuda/lib64:$LD_LIBRARY_PATH\")"
   ]
  },
  {
   "cell_type": "code",
   "execution_count": null,
   "id": "08d7ecb3",
   "metadata": {},
   "outputs": [],
   "source": [
    "seeds = [43,44,45]\n",
    "vector_method = [load_cem_vectors_simple,load_concept2vec_vectors_simple,load_label_vectors_simple,load_tcav_vectors_simple]\n",
    "vector_names = [\"CEM\",\"Concept2Vec\",\"Label\",\"TCAV\"]"
   ]
  },
  {
   "cell_type": "markdown",
   "id": "3e7152c2",
   "metadata": {},
   "source": [
    "## Debugging: Check which TCAV Vectors are available"
   ]
  },
  {
   "cell_type": "code",
   "execution_count": null,
   "id": "5af6e882",
   "metadata": {},
   "outputs": [],
   "source": [
    "dataset = CUB_Dataset()\n",
    "attributes = dataset.get_attributes()"
   ]
  },
  {
   "cell_type": "code",
   "execution_count": null,
   "id": "577eebe6",
   "metadata": {},
   "outputs": [],
   "source": [
    "def attribute_exists(attribute_name,suffix,seed):\n",
    "    attribute_name = attribute_name.replace(\" \",\"_\")\n",
    "    folder_name = \"results/bases/tcav/{}{}/{}/\".format(dataset.experiment_name,suffix,seed)\n",
    "    for i in range(3):\n",
    "        file_name = \"{}_{}_{}-random500_{}-block4_conv1-linear-0.1.pkl\".format(attribute_name,seed,suffix,i)\n",
    "\n",
    "        if not os.path.exists(folder_name + file_name):\n",
    "            return False\n",
    "    return True"
   ]
  },
  {
   "cell_type": "code",
   "execution_count": null,
   "id": "a1ec859a",
   "metadata": {},
   "outputs": [],
   "source": [
    "for attribute in attributes:\n",
    "    for seed in [43,44,45]:\n",
    "        for suffix in ['','_image_robustness','_image_responsiveness']:\n",
    "            attribute_exists(attribute,suffix,seed)"
   ]
  },
  {
   "cell_type": "markdown",
   "id": "eecdafd0",
   "metadata": {},
   "source": [
    "## Evaluate All Vectors MNIST"
   ]
  },
  {
   "cell_type": "code",
   "execution_count": null,
   "id": "e8d0a84b",
   "metadata": {},
   "outputs": [],
   "source": [
    "dataset = MNIST_Dataset()\n",
    "attributes = dataset.get_attributes()"
   ]
  },
  {
   "cell_type": "code",
   "execution_count": null,
   "id": "3dd9a9be",
   "metadata": {},
   "outputs": [],
   "source": [
    "for method,name in zip(vector_method,vector_names):\n",
    "    print(\"Computing {}\".format(name))\n",
    "    start = time.time()\n",
    "\n",
    "    results = compute_all_metrics(method,\n",
    "                                        dataset,\n",
    "                                        attributes,\n",
    "                                        seeds)\n",
    "    print(\"Method {}: {}\".format(name,results))\n",
    "    \n",
    "    name_lower = name.lower()\n",
    "    w = open(\"results/evaluation/{}_{}.txt\".format(dataset.experiment_name,name_lower),\"w\")\n",
    "    for key in results:\n",
    "        w.write(\"{}: {}\\n\".format(key,results[key]))\n",
    "    w.close()\n"
   ]
  },
  {
   "cell_type": "code",
   "execution_count": null,
   "id": "5b75c056",
   "metadata": {},
   "outputs": [],
   "source": [
    "baseline_distances = np.zeros((len(attributes),len(attributes)))\n",
    "for i, attribute_1 in enumerate(attributes):\n",
    "    for j, attribute_2 in enumerate(attributes):\n",
    "        baseline_distances[i][j] = (1-int(attribute_1[0] == attribute_2[0]))"
   ]
  },
  {
   "cell_type": "code",
   "execution_count": null,
   "id": "75567fca",
   "metadata": {},
   "outputs": [],
   "source": [
    "distance_by_method_mnist = {}\n",
    "for function,name in zip(vector_method,vector_names):\n",
    "    h_list = [flat_distance_to_square(get_concept_distances(function,MNIST_Dataset(),'',MNIST_Dataset().get_attributes(),seed)) for seed in [43,44,45]]\n",
    "    distance_by_method_mnist[name] = [embedding_distance(h,baseline_distances,k=1) for h in h_list]\n",
    "    distance_by_method_mnist[name] = (np.mean(distance_by_method_mnist[name]),np.std(distance_by_method_mnist[name]))"
   ]
  },
  {
   "cell_type": "code",
   "execution_count": null,
   "id": "6a562fef",
   "metadata": {},
   "outputs": [],
   "source": [
    "json.dump(distance_by_method_mnist,open('results/evaluation/ablation/distance_mnist.json','w'))"
   ]
  },
  {
   "cell_type": "code",
   "execution_count": null,
   "id": "9ce14e3b",
   "metadata": {},
   "outputs": [],
   "source": [
    "method_list = [load_label_vectors_simple,load_cem_vectors_simple,load_concept2vec_vectors_simple,load_tcav_vectors_simple]\n",
    "name_list = ['label','cem','concept2vec','tcav']\n",
    "dataset = MNIST_Dataset()\n",
    "\n",
    "agreement_by_method = {}\n",
    "\n",
    "for method,name in zip(method_list,name_list):\n",
    "    agreement_by_method[name] = []\n",
    "\n",
    "    for seed in [43,44,45]:\n",
    "        all_vectors = [np.mean(np.array(method(a,dataset,\"\",seed)),axis=0) for a in dataset.get_attributes()]\n",
    "        all_vectors = np.array(all_vectors)\n",
    "\n",
    "        closest_vectors = []\n",
    "\n",
    "        # Iterate through each vector in the array\n",
    "        for i in range(len(all_vectors)):\n",
    "            current_vector = all_vectors[i]\n",
    "            \n",
    "            # Compute cosine similarity with all other vectors\n",
    "            similarities = [1 - cosine(current_vector, other_vector) for other_vector in all_vectors]\n",
    "\n",
    "            # Find the index of the vector with the maximum cosine similarity (excluding the current vector)\n",
    "            closest_index = np.argmax(similarities[:i] + similarities[i+1:])  # Exclude the current vector\n",
    "            \n",
    "            if closest_index >= i:\n",
    "                closest_index += 1\n",
    "\n",
    "            # Append the closest vector to the list\n",
    "            closest_vectors.append(closest_index)\n",
    "\n",
    "        # Convert the list to a NumPy array if needed\n",
    "        closest_vectors = np.array(closest_vectors)\n",
    "        correct_vectors = []\n",
    "\n",
    "        for i in range(0,len(dataset.get_attributes()),2):\n",
    "            correct_vectors.append(i+1)\n",
    "            correct_vectors.append(i)\n",
    "        \n",
    "        agreement_by_method[name].append(float(np.sum(np.array(closest_vectors) == np.array(correct_vectors))/len(correct_vectors)))\n",
    "json.dump(agreement_by_method,open('results/evaluation/ablation/agreement_mnist.json','w'))"
   ]
  },
  {
   "cell_type": "markdown",
   "id": "11209b50",
   "metadata": {},
   "source": [
    "## Evaluate all Vectors CUB"
   ]
  },
  {
   "cell_type": "code",
   "execution_count": null,
   "id": "4c026bc5",
   "metadata": {},
   "outputs": [],
   "source": [
    "dataset = CUB_Dataset()\n",
    "attributes = dataset.get_attributes()\n",
    "seeds = [43,44,45]"
   ]
  },
  {
   "cell_type": "code",
   "execution_count": null,
   "id": "b78ba214",
   "metadata": {},
   "outputs": [],
   "source": [
    "for method,name in zip(vector_method[::-1],vector_names[::-1]):\n",
    "    print(\"Computing {}\".format(name))\n",
    "    start = time.time()\n",
    "\n",
    "    results = compute_all_metrics(method,\n",
    "                                        dataset,\n",
    "                                        attributes,\n",
    "                                        seeds)\n",
    "    print(\"Method {}: {}\".format(name,results))\n",
    "    \n",
    "    name_lower = name.lower()\n",
    "    w = open(\"results/evaluation/{}_{}.txt\".format(dataset.experiment_name,name_lower),\"w\")\n",
    "    for key in results:\n",
    "        w.write(\"{}: {}\\n\".format(key,results[key]))\n",
    "    w.close()\n",
    "    "
   ]
  },
  {
   "cell_type": "code",
   "execution_count": null,
   "id": "2adbae40",
   "metadata": {},
   "outputs": [],
   "source": [
    "baseline_distances_color = np.zeros((len(attributes),len(attributes)))\n",
    "for i, attribute_1 in enumerate(attributes):\n",
    "    for j, attribute_2 in enumerate(attributes):\n",
    "        baseline_distances_color[i][j] = (1-int(attribute_1.split(\"::\")[1] == attribute_2.split(\"::\")[1])) + abs(random.random()/100)*int(attribute_1 != attribute_2)"
   ]
  },
  {
   "cell_type": "code",
   "execution_count": null,
   "id": "c219eeb7",
   "metadata": {},
   "outputs": [],
   "source": [
    "distance_by_method_cub = {}\n",
    "for function,name in zip(vector_method,vector_names):\n",
    "    h_list = [flat_distance_to_square(get_concept_distances(function,dataset,'',attributes,seed)) for seed in [43,44,45]]\n",
    "    distance_by_method_cub[name] = [embedding_distance(h,baseline_distances_color,k=3) for h in h_list]\n",
    "    distance_by_method_cub[name] = (np.mean(distance_by_method_cub[name]),np.std(distance_by_method_cub[name]))"
   ]
  },
  {
   "cell_type": "code",
   "execution_count": null,
   "id": "28d9eca0",
   "metadata": {},
   "outputs": [],
   "source": [
    "json.dump(distance_by_method_cub,open('results/evaluation/ablation/distance_cub_second_part.json','w'))"
   ]
  },
  {
   "cell_type": "code",
   "execution_count": null,
   "id": "4d0c8f9d",
   "metadata": {},
   "outputs": [],
   "source": [
    "top_pairs = get_top_k_pairs(baseline_distances_color,k=3)\n",
    "top_pairs = [(attributes[i[0]],attributes[i[1]]) for i in top_pairs]"
   ]
  },
  {
   "cell_type": "code",
   "execution_count": null,
   "id": "d4b45e0c",
   "metadata": {},
   "outputs": [],
   "source": [
    "our_top_pairs = get_top_k_pairs(flat_distance_to_square(get_concept_distances(load_label_vectors_simple,dataset,'',attributes,43)))"
   ]
  },
  {
   "cell_type": "code",
   "execution_count": null,
   "id": "f830b8a5",
   "metadata": {},
   "outputs": [],
   "source": [
    "our_top_pairs = [(attributes[i[0]],attributes[i[1]]) for i in our_top_pairs]"
   ]
  },
  {
   "cell_type": "code",
   "execution_count": null,
   "id": "3e9caccf",
   "metadata": {},
   "outputs": [],
   "source": [
    "baseline_distances_attribute = np.zeros((len(attributes),len(attributes)))"
   ]
  },
  {
   "cell_type": "code",
   "execution_count": null,
   "id": "228adf8a",
   "metadata": {},
   "outputs": [],
   "source": [
    "for i, attribute_1 in enumerate(attributes):\n",
    "    for j, attribute_2 in enumerate(attributes):\n",
    "        baseline_distances_attribute[i][j] = (1-int(attribute_1.split(\"::\")[0] == attribute_2.split(\"::\")[0])) + abs(np.random.random()/100)*int(attribute_1 != attribute_2)"
   ]
  },
  {
   "cell_type": "code",
   "execution_count": null,
   "id": "32b603b5",
   "metadata": {},
   "outputs": [],
   "source": [
    "distance_by_method_cub = {}\n",
    "for function,name in zip(vector_method,vector_names):\n",
    "    h_list = [flat_distance_to_square(get_concept_distances(function,dataset,'',attributes,seed)) for seed in [43,44,45]]\n",
    "    distance_by_method_cub[name] = [embedding_distance(h,baseline_distances_attribute,k=3) for h in h_list]\n",
    "    distance_by_method_cub[name] = (np.mean(distance_by_method_cub[name]),np.std(distance_by_method_cub[name]))"
   ]
  },
  {
   "cell_type": "code",
   "execution_count": null,
   "id": "e2de290c",
   "metadata": {},
   "outputs": [],
   "source": [
    "json.dump(distance_by_method_cub,open('results/evaluation/ablation/distance_cub_first_part.json','w'))"
   ]
  },
  {
   "cell_type": "markdown",
   "id": "5d4eef3a",
   "metadata": {},
   "source": [
    "## Evalaute all Vectors DSprites"
   ]
  },
  {
   "cell_type": "code",
   "execution_count": null,
   "id": "59fa35e1",
   "metadata": {},
   "outputs": [],
   "source": [
    "dataset = DSprites_Dataset()\n",
    "attributes = dataset.get_attributes()"
   ]
  },
  {
   "cell_type": "code",
   "execution_count": null,
   "id": "572b96fb",
   "metadata": {},
   "outputs": [],
   "source": [
    "for method,name in zip(vector_method[::-1],vector_names[::-1]):\n",
    "    print(\"Computing {}\".format(name))\n",
    "    start = time.time()\n",
    "\n",
    "    results = compute_all_metrics(method,\n",
    "                                        dataset,\n",
    "                                        attributes,\n",
    "                                        seeds)\n",
    "    print(\"Method {}: {}\".format(name,results))\n",
    "    \n",
    "    name_lower = name.lower()\n",
    "    w = open(\"results/evaluation/{}_{}.txt\".format(dataset.experiment_name,name_lower),\"w\")\n",
    "    for key in results:\n",
    "        w.write(\"{}: {}\\n\".format(key,results[key]))\n",
    "    w.close()"
   ]
  },
  {
   "cell_type": "markdown",
   "id": "a823b9be",
   "metadata": {},
   "source": [
    "## Evaluate all Vectors Chexpert"
   ]
  },
  {
   "cell_type": "code",
   "execution_count": null,
   "id": "b0c686a9",
   "metadata": {},
   "outputs": [],
   "source": [
    "dataset = Chexpert_Dataset()\n",
    "attributes = dataset.get_attributes()"
   ]
  },
  {
   "cell_type": "code",
   "execution_count": null,
   "id": "e6f6475f",
   "metadata": {},
   "outputs": [],
   "source": [
    "for method,name in zip(vector_method,vector_names):\n",
    "    print(\"Computing {}\".format(name))\n",
    "    start = time.time()\n",
    "\n",
    "    results = compute_all_metrics(method,\n",
    "                                        dataset,\n",
    "                                        attributes,\n",
    "                                        seeds)\n",
    "    print(\"Method {}: {}\".format(name,results))\n",
    "    \n",
    "    name_lower = name.lower()\n",
    "    w = open(\"results/evaluation/{}_{}.txt\".format(dataset.experiment_name,name_lower),\"w\")\n",
    "    for key in results:\n",
    "        w.write(\"{}: {}\\n\".format(key,results[key]))\n",
    "    w.close()"
   ]
  },
  {
   "cell_type": "markdown",
   "id": "005eade6",
   "metadata": {},
   "source": [
    "## Explain why CEM Vectors are Random"
   ]
  },
  {
   "cell_type": "code",
   "execution_count": null,
   "id": "ecd8c055",
   "metadata": {},
   "outputs": [],
   "source": [
    "results_by_method = {'cem': {}, \n",
    "'tcav': {}, \n",
    "'label': {}, \n",
    "'concept2vec': {}}\n",
    "\n",
    "for method,name in zip([load_cem_vectors_simple,load_tcav_vectors_simple,load_label_vectors_simple,load_concept2vec_vectors_simple],['cem','tcav','label','concept2vec']):\n",
    "    for dataset in [CUB_Dataset(),MNIST_Dataset(),Chexpert_Dataset(),DSprites_Dataset()]:\n",
    "        a = dataset.get_attributes() \n",
    "\n",
    "        similarities = []\n",
    "        avg_same_similarity = []\n",
    "        stds = []\n",
    "\n",
    "        for seed in [43,44,45]:\n",
    "            vectors = [np.mean(method(attribute,dataset,\"\",seed),axis=0) for attribute in a]\n",
    "            for i in vectors:\n",
    "                stds.append(np.std(i))\n",
    "            cosine_similarities_max = []\n",
    "            for i in range(len(vectors)):\n",
    "                cosine_similarities = max([1-cosine(vectors[i],vectors[j]) for j in range(len(vectors)) if i!=j])\n",
    "                cosine_similarities_max.append(cosine_similarities)\n",
    "            similarities.append(np.mean(cosine_similarities_max))\n",
    "\n",
    "        d = len(vectors[0])\n",
    "        std = np.mean(stds)\n",
    "        mean = np.mean(similarities)\n",
    "        z_score = (mean-0)/(d*std**4/(3**.5))\n",
    "        z_score *= len(attribute)**.5\n",
    "\n",
    "        results_by_method[name][dataset.experiment_name] = {\n",
    "            'dimension': d,\n",
    "            'std': float(std), \n",
    "            'mean_similarity': float(mean), \n",
    "            'std_similarity': float(np.std(similarities))\n",
    "        }\n",
    "json.dump(results_by_method,open('results/evaluation/ablation/randomness_cem_tcav.json','w'))"
   ]
  },
  {
   "cell_type": "code",
   "execution_count": null,
   "id": "06812c75",
   "metadata": {},
   "outputs": [],
   "source": [
    "results_by_method['tcav']['cub']"
   ]
  },
  {
   "cell_type": "code",
   "execution_count": null,
   "id": "0ef0bad6",
   "metadata": {},
   "outputs": [],
   "source": []
  },
  {
   "cell_type": "code",
   "execution_count": null,
   "id": "9443aa54",
   "metadata": {},
   "outputs": [],
   "source": [
    "CUB_Dataset().get_attributes()"
   ]
  },
  {
   "cell_type": "code",
   "execution_count": null,
   "id": "590e5dab",
   "metadata": {},
   "outputs": [],
   "source": [
    "load_concept2vec_vectors_simple(\"5_color\",MNIST_Dataset(),\"\",43).shape"
   ]
  },
  {
   "cell_type": "code",
   "execution_count": null,
   "id": "4e954226",
   "metadata": {},
   "outputs": [],
   "source": [
    "create_concept2vec(MNIST_Dataset(),\"\",43)"
   ]
  },
  {
   "cell_type": "code",
   "execution_count": null,
   "id": "f723805d",
   "metadata": {},
   "outputs": [],
   "source": []
  },
  {
   "cell_type": "code",
   "execution_count": null,
   "id": "bd22e64e",
   "metadata": {},
   "outputs": [],
   "source": [
    "load_concept2vec_vectors_simple"
   ]
  },
  {
   "cell_type": "code",
   "execution_count": null,
   "id": "e96b6544",
   "metadata": {},
   "outputs": [],
   "source": [
    "results_by_method['label']['mnist']['z_score']"
   ]
  },
  {
   "cell_type": "markdown",
   "id": "f0bcc8f2",
   "metadata": {},
   "source": [
    "## Analyze impact of vector metric"
   ]
  },
  {
   "cell_type": "code",
   "execution_count": null,
   "id": "e11a8b43",
   "metadata": {},
   "outputs": [],
   "source": [
    "hierarchy_by_metric = {}\n",
    "dataset = CUB_Dataset()\n",
    "attributes = dataset.get_attributes()\n",
    "for metric in ['euclidean','cosine','manhattan']:\n",
    "    hierarchy_by_metric[metric] = {}\n",
    "\n",
    "    for function,name in zip([load_label_vectors_simple,\n",
    "    load_shapley_vectors_simple, \n",
    "    load_cem_vectors_simple,\n",
    "    load_concept2vec_vectors_simple\n",
    "    ],['label','shapley','cem','concept2vec']):\n",
    "        hierarchy_by_metric[metric][name] = {}\n",
    "        for seed in [43,44,45]:\n",
    "            hierarchy_by_metric[metric][name][seed] = flat_distance_to_square(get_concept_distances(function,dataset,'',attributes,seed,metric=metric))"
   ]
  },
  {
   "cell_type": "code",
   "execution_count": null,
   "id": "b85df602",
   "metadata": {},
   "outputs": [],
   "source": [
    "avg_pairwise_distance = {}\n",
    "for name in ['label','shapley','cem','concept2vec']:\n",
    "    avg_pairwise_distance[name] = {}\n",
    "    for metric_1 in ['euclidean','cosine','manhattan']:\n",
    "        avg_pairwise_distance[name][metric_1] = {}\n",
    "        for metric_2 in ['euclidean','cosine','manhattan']:\n",
    "            h1 = hierarchy_by_metric[metric_1][name]\n",
    "            h2 = hierarchy_by_metric[metric_2][name]\n",
    "            results = [embedding_distance(h1[seed],h2[seed],k=3) for seed in [43,44,45]]\n",
    "            avg_pairwise_distance[name][metric_1][metric_2] = (np.mean(results),np.std(results))"
   ]
  },
  {
   "cell_type": "code",
   "execution_count": null,
   "id": "94232646",
   "metadata": {},
   "outputs": [],
   "source": [
    "json.dump(avg_pairwise_distance,open('results/evaluation/ablation/metric_distances.json','w'))"
   ]
  },
  {
   "cell_type": "code",
   "execution_count": null,
   "id": "a34ba6fd",
   "metadata": {},
   "outputs": [],
   "source": [
    "hierarchy_object_by_metric = {}\n",
    "dataset = CUB_Dataset()\n",
    "attributes = dataset.get_attributes()\n",
    "for metric in ['euclidean','cosine','manhattan']:\n",
    "    hierarchy_object_by_metric[metric] = {}\n",
    "\n",
    "    for function,name in zip([load_label_vectors_simple,\n",
    "    load_shapley_vectors_simple, \n",
    "    load_cem_vectors_simple,\n",
    "    load_concept2vec_vectors_simple\n",
    "    ],['label','shapley','cem','concept2vec']):\n",
    "        hierarchy_object_by_metric[metric][name] = {}\n",
    "        for seed in [43,44,45]:\n",
    "            hierarchy_object_by_metric[metric][name][seed] = create_hierarchy(create_ward_hierarchy,function,dataset,'',attributes,seed,metric=metric) "
   ]
  },
  {
   "cell_type": "markdown",
   "id": "78ac42b2",
   "metadata": {},
   "source": [
    "### Investigate why this occurs"
   ]
  },
  {
   "cell_type": "code",
   "execution_count": null,
   "id": "0e43a929",
   "metadata": {},
   "outputs": [],
   "source": [
    "cosine_hierarchy = hierarchy_object_by_metric['cosine']['label'][43]\n",
    "euclidean_hierarchy = hierarchy_object_by_metric['euclidean']['label'][43]"
   ]
  },
  {
   "cell_type": "code",
   "execution_count": null,
   "id": "3340f8c2",
   "metadata": {},
   "outputs": [],
   "source": [
    "top_k_euclidean = get_top_k_pairs(hierarchy_by_metric['euclidean']['label'][43],k=3)\n",
    "top_k_cosine = get_top_k_pairs(hierarchy_by_metric['cosine']['label'][43],k=3)\n",
    "\n",
    "top_k_euclidean = [(attributes[i[0]],attributes[i[1]]) for i in top_k_euclidean]\n",
    "top_k_cosine = [(attributes[i[0]],attributes[i[1]]) for i in top_k_cosine]"
   ]
  },
  {
   "cell_type": "code",
   "execution_count": null,
   "id": "84f4f38c",
   "metadata": {},
   "outputs": [],
   "source": [
    "all_distances = [np.mean([embedding_distance(hierarchy_by_metric['cosine']['label'][seed],hierarchy_by_metric['euclidean']['label'][seed],k=k) for seed in [43,44,45]]) for k in range(1,110)]"
   ]
  },
  {
   "cell_type": "code",
   "execution_count": null,
   "id": "bc784de5",
   "metadata": {},
   "outputs": [],
   "source": [
    "percent_euclidean_agree = len([i for i in top_k_euclidean if i[0].split(\"::\")[1] == i[1].split(\"::\")[1]])/len(top_k_euclidean)\n",
    "percent_cosine_agree = len([i for i in top_k_cosine if i[0].split(\"::\")[1] == i[1].split(\"::\")[1]])/len(top_k_euclidean)\n",
    "percent_euclidean_agree,percent_cosine_agree"
   ]
  },
  {
   "cell_type": "code",
   "execution_count": null,
   "id": "5ebda76d",
   "metadata": {},
   "outputs": [],
   "source": [
    "all_top_k_euclidean = []\n",
    "all_top_k_cosine = []\n",
    "\n",
    "for seed in [43,44,45]:\n",
    "    top_k_euclidean = get_top_k_pairs(hierarchy_by_metric['euclidean']['label'][seed],k=3)\n",
    "    top_k_cosine = get_top_k_pairs(hierarchy_by_metric['cosine']['label'][seed],k=3)\n",
    "\n",
    "    top_k_euclidean = [(attributes[i[0]],attributes[i[1]]) for i in top_k_euclidean]\n",
    "    top_k_cosine = [(attributes[i[0]],attributes[i[1]]) for i in top_k_cosine]\n",
    "\n",
    "    all_top_k_euclidean += top_k_euclidean\n",
    "    all_top_k_cosine += top_k_cosine\n",
    "\n",
    "\n",
    "percent_euclidean_agree = len([i for i in all_top_k_euclidean if i[0].split(\"::\")[1] == i[1].split(\"::\")[1]])/len(top_k_euclidean)\n",
    "percent_cosine_agree = len([i for i in all_top_k_cosine if i[0].split(\"::\")[1] == i[1].split(\"::\")[1]])/len(top_k_euclidean)\n",
    "percent_euclidean_agree/3, percent_cosine_agree/3"
   ]
  },
  {
   "cell_type": "code",
   "execution_count": null,
   "id": "9a40b94e",
   "metadata": {},
   "outputs": [],
   "source": [
    "json.dump({\n",
    "    'all_distances': all_distances, \n",
    "    'top_k_euclidean': top_k_euclidean, \n",
    "    'top_k_cosine': top_k_cosine, \n",
    "    'percent_euclidean_agree': percent_euclidean_agree/3, \n",
    "    'percent_cosine_agree': percent_cosine_agree/3, \n",
    "},open('results/evaluation/ablation/distance_cosine_euclidean_top_k.json','w'))"
   ]
  },
  {
   "cell_type": "markdown",
   "id": "4fddfd66",
   "metadata": {},
   "source": [
    "## Analyze Hierarchy Similairty"
   ]
  },
  {
   "cell_type": "code",
   "execution_count": null,
   "id": "22c00faa",
   "metadata": {},
   "outputs": [],
   "source": [
    "hierarchy_by_dataset = defaultdict(lambda: defaultdict(dict))\n",
    "for dataset_function,dataset_name in zip([CUB_Dataset, MNIST_Dataset, DSprites_Dataset, Chexpert_Dataset],['cub','mnist','dsprites','chexpert']):\n",
    "    dataset = dataset_function()\n",
    "    attributes = dataset.get_attributes()\n",
    "\n",
    "    for function,name in zip([load_label_vectors_simple,\n",
    "    load_shapley_vectors_simple, \n",
    "    load_cem_vectors_simple,\n",
    "    load_concept2vec_vectors_simple\n",
    "    ],['label','shapley','cem','concept2vec']):\n",
    "        hierarchy_by_metric[metric][name] = {}\n",
    "        for seed in [43,44,45]:\n",
    "            hierarchy_by_dataset[dataset_name][name][seed] = flat_distance_to_square(get_concept_distances(function,dataset,'',attributes,seed))\n"
   ]
  },
  {
   "cell_type": "code",
   "execution_count": null,
   "id": "505dae68",
   "metadata": {},
   "outputs": [],
   "source": [
    "distance_by_dataset = defaultdict(lambda: defaultdict(dict))\n",
    "\n",
    "for dataset in ['cub','mnist','dsprites','chexpert']:\n",
    "    for name in ['cem','shapley','label','concept2vec']:\n",
    "        for name_2 in ['cem','shapley','label','concept2vec']:\n",
    "            h1 = hierarchy_by_dataset[dataset][name]\n",
    "            h2 = hierarchy_by_dataset[dataset][name_2]\n",
    "            distance_by_dataset[dataset][name][name_2] = [embedding_distance(h1[seed],h2[seed],k=3) for seed in [43,44,45]]\n"
   ]
  },
  {
   "cell_type": "code",
   "execution_count": null,
   "id": "f2e83a22",
   "metadata": {},
   "outputs": [],
   "source": [
    "distances_cub = np.array([[distance_by_dataset['cub'][i][j] for j in distance_by_dataset['cub'][i]] for i in distance_by_dataset['cub']])\n",
    "distances_cub = np.mean(distances_cub,axis=2)"
   ]
  },
  {
   "cell_type": "code",
   "execution_count": null,
   "id": "234a1250",
   "metadata": {},
   "outputs": [],
   "source": [
    "labels = ['cem','shapley','label','concept2vec']"
   ]
  },
  {
   "cell_type": "code",
   "execution_count": null,
   "id": "2941cf50",
   "metadata": {},
   "outputs": [],
   "source": [
    "json.dump(distances_cub.tolist(), open('results/evaluation/ablation/distance_between_hierarchies.json','w'))"
   ]
  },
  {
   "cell_type": "markdown",
   "id": "bcb37286",
   "metadata": {},
   "source": [
    "## CUB Ablation Studies"
   ]
  },
  {
   "cell_type": "markdown",
   "id": "6c690e1f",
   "metadata": {},
   "source": [
    "### Evaluation at different noise levels"
   ]
  },
  {
   "cell_type": "code",
   "execution_count": null,
   "id": "c7e6af94",
   "metadata": {},
   "outputs": [],
   "source": [
    "dataset = CUB_Dataset()\n",
    "attributes = dataset.get_attributes()"
   ]
  },
  {
   "cell_type": "code",
   "execution_count": null,
   "id": "fd48ed4e",
   "metadata": {},
   "outputs": [],
   "source": [
    "embedding_method = load_shapley_vectors_simple\n",
    "name = \"Shapley\"\n",
    "random_seeds = [43]"
   ]
  },
  {
   "cell_type": "code",
   "execution_count": null,
   "id": "72ba733d",
   "metadata": {},
   "outputs": [],
   "source": [
    "start = time.time()\n",
    "\n",
    "results = {}\n",
    "\n",
    "for flip_prob in ['0.01','0.05','0.1']:\n",
    "    results['flip_prob_{}'.format(flip_prob)] = compare_same_images_by_suffix(embedding_method,\n",
    "                                         dataset,attributes,random_seeds,\"_flip_{}\".format(flip_prob),\n",
    "                                        baseline_hierarchies=None)\n",
    "\n",
    "for noise in [25,50,100]:\n",
    "    results['noise_{}'.format(flip_prob)] = compare_same_images_by_suffix(embedding_method,\n",
    "                                         dataset,attributes,random_seeds,\"_noise_{}\".format(noise),\n",
    "                                        baseline_hierarchies=None)\n",
    "\n",
    "w = open(\"results/evaluation/cub_noise_ablation.txt\",\"w\")\n",
    "for key in results:\n",
    "    w.write(\"{}: {}\\n\".format(key,results[key]))\n",
    "w.close()"
   ]
  },
  {
   "cell_type": "markdown",
   "id": "5328a2b4",
   "metadata": {},
   "source": [
    "### See how truthfulness hyperparameters impact things"
   ]
  },
  {
   "cell_type": "code",
   "execution_count": null,
   "id": "0dfd1588",
   "metadata": {},
   "outputs": [],
   "source": [
    "dataset = CUB_Dataset()\n",
    "attributes = dataset.get_attributes()\n",
    "\n",
    "results = {}\n",
    "\n",
    "for compare_concept in [1,3,5,7]:\n",
    "    results[compare_concept] = truthfulness_metric_shapley(load_shapley_vectors_simple,dataset,attributes,\n",
    "                                                           [43,44,45],model_name=\"VGG16\",compare_concepts=compare_concept)"
   ]
  },
  {
   "cell_type": "code",
   "execution_count": null,
   "id": "92353971",
   "metadata": {},
   "outputs": [],
   "source": [
    "w = open(\"results/evaluation/cub_truthfulness_ablation.txt\",\"w\")\n",
    "for key in results:\n",
    "    w.write(\"{}: {}\\n\".format(key,results[key]))\n",
    "w.close()"
   ]
  }
 ],
 "metadata": {
  "kernelspec": {
   "display_name": "Python 3 (ipykernel)",
   "language": "python",
   "name": "python3"
  },
  "language_info": {
   "codemirror_mode": {
    "name": "ipython",
    "version": 3
   },
   "file_extension": ".py",
   "mimetype": "text/x-python",
   "name": "python",
   "nbconvert_exporter": "python",
   "pygments_lexer": "ipython3",
   "version": "3.7.12"
  }
 },
 "nbformat": 4,
 "nbformat_minor": 5
}
