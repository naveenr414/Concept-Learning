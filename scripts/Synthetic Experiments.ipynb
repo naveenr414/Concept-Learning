{
 "cells": [
  {
   "cell_type": "code",
   "execution_count": 1,
   "metadata": {},
   "outputs": [],
   "source": [
    "%load_ext autoreload\n",
    "%autoreload 2"
   ]
  },
  {
   "cell_type": "code",
   "execution_count": 2,
   "metadata": {},
   "outputs": [],
   "source": [
    "import os\n",
    "os.chdir('../')"
   ]
  },
  {
   "cell_type": "code",
   "execution_count": 93,
   "metadata": {},
   "outputs": [],
   "source": [
    "import matplotlib.pyplot as plt\n",
    "import numpy as np\n",
    "from sklearn.linear_model import SGDClassifier\n",
    "from sklearn.model_selection import train_test_split\n",
    "from sklearn.metrics import accuracy_score\n",
    "from scipy.spatial.distance import cosine"
   ]
  },
  {
   "cell_type": "markdown",
   "metadata": {},
   "source": [
    "## Setup Dataset"
   ]
  },
  {
   "cell_type": "code",
   "execution_count": 385,
   "metadata": {},
   "outputs": [],
   "source": [
    "seed = 43"
   ]
  },
  {
   "cell_type": "code",
   "execution_count": 386,
   "metadata": {},
   "outputs": [],
   "source": []
  },
  {
   "cell_type": "code",
   "execution_count": 403,
   "metadata": {},
   "outputs": [],
   "source": [
    "def generate_data(seed,noise=0.1):\n",
    "    np.random.seed(seed)\n",
    "    num_data_points = 10000\n",
    "    x = []\n",
    "    for i in range(num_data_points):\n",
    "        choice = np.random.random() \n",
    "        if choice < 1/3:\n",
    "            x.append([np.random.uniform(0,0.25),np.random.uniform(0,0.25)])\n",
    "        elif choice < 1/2:\n",
    "            x.append([np.random.uniform(0,0.25),np.random.uniform(0.75,1.0)])\n",
    "        elif choice < 2/3:\n",
    "            x.append([np.random.uniform(0.75,1.0),np.random.uniform(0,0.25)])\n",
    "        else:\n",
    "            x.append([np.random.uniform(0.75,1.0),np.random.uniform(0.75,1.0)])\n",
    "    x = np.array(x)\n",
    "\n",
    "    c = []\n",
    "    y = []\n",
    "    for i in range(num_data_points):\n",
    "        x1, x2 = x[i] \n",
    "        c1 = int(x1<=1/4)\n",
    "        c2 = int(x1 >= 3/4)\n",
    "        c3 = int(x2 <= 1/4)\n",
    "        c4 = int(x2 >= 3/4)\n",
    "\n",
    "        if np.random.random() < noise:\n",
    "            c1 = 1-c1 \n",
    "        if np.random.random() < noise:\n",
    "            c2 = 1-c2 \n",
    "        if np.random.random() < noise:\n",
    "            c3 = 1-c3\n",
    "        if np.random.random() < noise:\n",
    "            c4 = 1-c4\n",
    "\n",
    "        y1 = int(min(x1,x2) <= 1/4)\n",
    "        y2 = int(max(x1,x2) >= 3/4)\n",
    "        c.append([c1,c2,c3,c4])\n",
    "        y.append([y1,y2])\n",
    "    c = np.array(c)\n",
    "    y = np.array(y)\n",
    "    return x,y,c\n"
   ]
  },
  {
   "cell_type": "markdown",
   "metadata": {},
   "source": [
    "## Create Concept-Based Models"
   ]
  },
  {
   "cell_type": "code",
   "execution_count": 407,
   "metadata": {},
   "outputs": [],
   "source": [
    "def find_most_similar_groups(x,y,c):\n",
    "    num_data_points = len(x) \n",
    "    c_train = c[:int(4/5*num_data_points)]\n",
    "    c_test = c[int(4/5*num_data_points):]\n",
    "    y_train = y[:int(4/5*num_data_points)]\n",
    "    y_test = y[int(4/5*num_data_points):]\n",
    "\n",
    "    coeffs = []\n",
    "\n",
    "    for i in range(y_train.shape[1]):\n",
    "        linear_classifier = SGDClassifier(loss='hinge', max_iter=1000, tol=1e-3,alpha=0.1)\n",
    "        linear_classifier.fit(c_train, y_train[:,i])\n",
    "\n",
    "        predictions = linear_classifier.predict(c_test)\n",
    "        accuracy = accuracy_score(y_test[:,i], predictions)\n",
    "        coeffs.append(linear_classifier.coef_[0])\n",
    "\n",
    "    coeffs = np.array(coeffs)\n",
    "    print(coeffs.shape)\n",
    "\n",
    "    most_similar = {}\n",
    "    for i in range(c_test.shape[1]):\n",
    "        for j in range(c_test.shape[1]):\n",
    "            u = coeffs[:,i]\n",
    "            v = coeffs[:,j]\n",
    "            cosine_similarity = 1 - cosine(u, v)\n",
    "\n",
    "            if i not in most_similar:\n",
    "                most_similar[i] = (i,-1)\n",
    "            if j not in most_similar:\n",
    "                most_similar[j] = (j,-1)\n",
    "\n",
    "            if i != j and most_similar[i][1] < cosine_similarity:\n",
    "                most_similar[i] = (j,cosine_similarity)\n",
    "            if i != j and most_similar[j][1] < cosine_similarity:\n",
    "                most_similar[j] = (i,cosine_similarity)\n",
    "    return most_similar"
   ]
  },
  {
   "cell_type": "code",
   "execution_count": 408,
   "metadata": {},
   "outputs": [],
   "source": [
    "def find_most_similar_groups_bad(x,y,c):\n",
    "    c_x_combo = np.array([np.append(c[i],x[i]) for i in range(len(c))])\n",
    "    num_data_points = len(x) \n",
    "    x_train = c_x_combo[:int(4/5*num_data_points)]\n",
    "    x_test = c_x_combo[int(4/5*num_data_points):]\n",
    "    y_train = y[:int(4/5*num_data_points)]\n",
    "    y_test = y[int(4/5*num_data_points):]\n",
    "\n",
    "    coeffs = []\n",
    "\n",
    "    for i in range(y_train.shape[1]):\n",
    "        linear_classifier = SGDClassifier(loss='hinge', max_iter=1000, tol=1e-3,alpha=0.1)\n",
    "        linear_classifier.fit(x_train, y_train[:,i])\n",
    "        fixed_coef_indices = list(range(c.shape[1]))  # Indices of features for which coefficients will be fixed\n",
    "        fixed_coef_values = [np.random.random() for i in range(c.shape[1])]\n",
    "        for idx, value in zip(fixed_coef_indices, fixed_coef_values):\n",
    "            linear_classifier.coef_[0][idx] = value\n",
    "        \n",
    "        linear_classifier.fit(np.delete(x_train, fixed_coef_indices, axis=1), y_train[:,i])\n",
    "\n",
    "        predictions =  linear_classifier.predict(np.delete(x_test, fixed_coef_indices, axis=1))\n",
    "        accuracy = accuracy_score(y_test[:,i], predictions)\n",
    "        coeffs.append(fixed_coef_values)\n",
    "\n",
    "    coeffs = np.array(coeffs)\n",
    "    most_similar = {}\n",
    "    for i in range(c.shape[1]):\n",
    "        for j in range(c.shape[1]):\n",
    "            u = coeffs[:,i]\n",
    "            v = coeffs[:,j]\n",
    "            cosine_similarity = 1 - cosine(u, v)\n",
    "\n",
    "            if i not in most_similar:\n",
    "                most_similar[i] = (i,-1)\n",
    "            if j not in most_similar:\n",
    "                most_similar[j] = (j,-1)\n",
    "\n",
    "            if i != j and most_similar[i][1] < cosine_similarity:\n",
    "                most_similar[i] = (j,cosine_similarity)\n",
    "            if i != j and most_similar[j][1] < cosine_similarity:\n",
    "                most_similar[j] = (i,cosine_similarity)\n",
    "    return most_similar"
   ]
  },
  {
   "cell_type": "markdown",
   "metadata": {},
   "source": [
    "## Stability Tests"
   ]
  },
  {
   "cell_type": "code",
   "execution_count": 409,
   "metadata": {},
   "outputs": [
    {
     "name": "stdout",
     "output_type": "stream",
     "text": [
      "(2, 4)\n",
      "(2, 4)\n",
      "(2, 4)\n"
     ]
    }
   ],
   "source": [
    "for seed in [42,43,44]:\n",
    "    x,y,c = generate_data(seed)\n",
    "    good_groups = find_most_similar_groups(x,y,c)\n",
    "    bad_groups = find_most_similar_groups_bad(x,y,c)"
   ]
  },
  {
   "cell_type": "markdown",
   "metadata": {},
   "source": [
    "## Noise Tests"
   ]
  },
  {
   "cell_type": "code",
   "execution_count": 410,
   "metadata": {},
   "outputs": [
    {
     "name": "stdout",
     "output_type": "stream",
     "text": [
      "(2, 4)\n",
      "{0: (2, 0.9999999842074139), 1: (3, 0.9999999838970476), 2: (0, 0.9999999842074139), 3: (1, 0.9999999838970476)}\n",
      "{0: (2, 0.9991897806714082), 1: (3, 0.9992840733680814), 2: (0, 0.9991897806714082), 3: (1, 0.9992840733680814)}\n",
      "(2, 4)\n",
      "{0: (2, 0.9973824798039452), 1: (3, 0.9995112074316401), 2: (0, 0.9973824798039452), 3: (1, 0.9995112074316401)}\n",
      "{0: (2, 0.9991897806714082), 1: (3, 0.9992840733680814), 2: (0, 0.9991897806714082), 3: (1, 0.9992840733680814)}\n",
      "(2, 4)\n",
      "{0: (2, 0.9943091539198102), 1: (3, 0.9578262852211514), 2: (0, 0.9943091539198102), 3: (1, 0.9578262852211514)}\n",
      "{0: (2, 0.9991897806714082), 1: (3, 0.9992840733680814), 2: (0, 0.9991897806714082), 3: (1, 0.9992840733680814)}\n",
      "(2, 4)\n",
      "{0: (2, 0.7999999999999892), 1: (2, 0.707106781186552), 2: (0, 0.7999999999999892), 3: (1, -0.7071067811865586)}\n",
      "{0: (2, 0.9991897806714082), 1: (3, 0.9992840733680814), 2: (0, 0.9991897806714082), 3: (1, 0.9992840733680814)}\n"
     ]
    }
   ],
   "source": [
    "for noise in [0,0.2,0.4,0.5]:\n",
    "    x,y,c = generate_data(44,noise=noise)\n",
    "    good_groups = find_most_similar_groups(x,y,c)\n",
    "    bad_groups = find_most_similar_groups_bad(x,y,c)\n",
    "    print(good_groups)\n",
    "    print(bad_groups)"
   ]
  }
 ],
 "metadata": {
  "kernelspec": {
   "display_name": "concepts",
   "language": "python",
   "name": "python3"
  },
  "language_info": {
   "codemirror_mode": {
    "name": "ipython",
    "version": 3
   },
   "file_extension": ".py",
   "mimetype": "text/x-python",
   "name": "python",
   "nbconvert_exporter": "python",
   "pygments_lexer": "ipython3",
   "version": "3.7.12"
  }
 },
 "nbformat": 4,
 "nbformat_minor": 2
}
