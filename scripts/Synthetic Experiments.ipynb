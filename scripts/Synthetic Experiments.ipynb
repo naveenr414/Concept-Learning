{
 "cells": [
  {
   "cell_type": "code",
   "execution_count": 1,
   "metadata": {},
   "outputs": [],
   "source": [
    "%load_ext autoreload\n",
    "%autoreload 2"
   ]
  },
  {
   "cell_type": "code",
   "execution_count": 2,
   "metadata": {},
   "outputs": [],
   "source": [
    "import os\n",
    "os.chdir('../')"
   ]
  },
  {
   "cell_type": "code",
   "execution_count": 30,
   "metadata": {},
   "outputs": [],
   "source": [
    "import matplotlib.pyplot as plt\n",
    "import numpy as np\n",
    "from sklearn.linear_model import SGDClassifier\n",
    "from sklearn.model_selection import train_test_split\n",
    "from sklearn.metrics import accuracy_score\n",
    "from scipy.spatial.distance import cosine\n",
    "import json"
   ]
  },
  {
   "cell_type": "markdown",
   "metadata": {},
   "source": [
    "## Setup Dataset"
   ]
  },
  {
   "cell_type": "code",
   "execution_count": 4,
   "metadata": {},
   "outputs": [],
   "source": [
    "seed = 43"
   ]
  },
  {
   "cell_type": "code",
   "execution_count": null,
   "metadata": {},
   "outputs": [],
   "source": []
  },
  {
   "cell_type": "code",
   "execution_count": 5,
   "metadata": {},
   "outputs": [],
   "source": [
    "def generate_data(seed,noise=0.1):\n",
    "    np.random.seed(seed)\n",
    "    num_data_points = 10000\n",
    "    x = []\n",
    "    for i in range(num_data_points):\n",
    "        choice = np.random.random() \n",
    "        if choice < 1/3:\n",
    "            x.append([np.random.uniform(0,0.25),np.random.uniform(0,0.25)])\n",
    "        elif choice < 1/2:\n",
    "            x.append([np.random.uniform(0,0.25),np.random.uniform(0.75,1.0)])\n",
    "        elif choice < 2/3:\n",
    "            x.append([np.random.uniform(0.75,1.0),np.random.uniform(0,0.25)])\n",
    "        else:\n",
    "            x.append([np.random.uniform(0.75,1.0),np.random.uniform(0.75,1.0)])\n",
    "    x = np.array(x)\n",
    "\n",
    "    c = []\n",
    "    y = []\n",
    "    for i in range(num_data_points):\n",
    "        x1, x2 = x[i] \n",
    "        c1 = int(x1<=1/4)\n",
    "        c2 = int(x1 >= 3/4)\n",
    "        c3 = int(x2 <= 1/4)\n",
    "        c4 = int(x2 >= 3/4)\n",
    "\n",
    "        if np.random.random() < noise:\n",
    "            c1 = 1-c1 \n",
    "        if np.random.random() < noise:\n",
    "            c2 = 1-c2 \n",
    "        if np.random.random() < noise:\n",
    "            c3 = 1-c3\n",
    "        if np.random.random() < noise:\n",
    "            c4 = 1-c4\n",
    "\n",
    "        y1 = int(min(x1,x2) <= 1/4)\n",
    "        y2 = int(max(x1,x2) >= 3/4)\n",
    "        c.append([c1,c2,c3,c4])\n",
    "        y.append([y1,y2])\n",
    "    c = np.array(c)\n",
    "    y = np.array(y)\n",
    "    return x,y,c\n"
   ]
  },
  {
   "cell_type": "markdown",
   "metadata": {},
   "source": [
    "## Create Concept-Based Models"
   ]
  },
  {
   "cell_type": "code",
   "execution_count": 16,
   "metadata": {},
   "outputs": [],
   "source": [
    "def find_most_similar_groups(x,y,c):\n",
    "    num_data_points = len(x) \n",
    "    c_train = c[:int(4/5*num_data_points)]\n",
    "    c_test = c[int(4/5*num_data_points):]\n",
    "    y_train = y[:int(4/5*num_data_points)]\n",
    "    y_test = y[int(4/5*num_data_points):]\n",
    "\n",
    "    coeffs = []\n",
    "\n",
    "    for i in range(y_train.shape[1]):\n",
    "        linear_classifier = SGDClassifier(loss='hinge', max_iter=1000, tol=1e-3,alpha=0.1)\n",
    "        linear_classifier.fit(c_train, y_train[:,i])\n",
    "\n",
    "        predictions = linear_classifier.predict(c_test)\n",
    "        accuracy = accuracy_score(y_test[:,i], predictions)\n",
    "        coeffs.append(linear_classifier.coef_[0])\n",
    "\n",
    "    coeffs = np.array(coeffs)\n",
    "\n",
    "    most_similar = {}\n",
    "    for i in range(c_test.shape[1]):\n",
    "        for j in range(c_test.shape[1]):\n",
    "            u = coeffs[:,i]\n",
    "            v = coeffs[:,j]\n",
    "            cosine_similarity = 1 - cosine(u, v)\n",
    "\n",
    "            if i not in most_similar:\n",
    "                most_similar[i] = (i,-1)\n",
    "            if j not in most_similar:\n",
    "                most_similar[j] = (j,-1)\n",
    "\n",
    "            if i != j and most_similar[i][1] < cosine_similarity:\n",
    "                most_similar[i] = (j,cosine_similarity)\n",
    "            if i != j and most_similar[j][1] < cosine_similarity:\n",
    "                most_similar[j] = (i,cosine_similarity)\n",
    "    return most_similar"
   ]
  },
  {
   "cell_type": "code",
   "execution_count": 7,
   "metadata": {},
   "outputs": [],
   "source": [
    "def find_most_similar_groups_bad(x,y,c):\n",
    "    c_x_combo = np.array([np.append(c[i],x[i]) for i in range(len(c))])\n",
    "    num_data_points = len(x) \n",
    "    x_train = c_x_combo[:int(4/5*num_data_points)]\n",
    "    x_test = c_x_combo[int(4/5*num_data_points):]\n",
    "    y_train = y[:int(4/5*num_data_points)]\n",
    "    y_test = y[int(4/5*num_data_points):]\n",
    "\n",
    "    coeffs = []\n",
    "\n",
    "    for i in range(y_train.shape[1]):\n",
    "        linear_classifier = SGDClassifier(loss='hinge', max_iter=1000, tol=1e-3,alpha=0.1)\n",
    "        linear_classifier.fit(x_train, y_train[:,i])\n",
    "        fixed_coef_indices = list(range(c.shape[1]))  # Indices of features for which coefficients will be fixed\n",
    "        fixed_coef_values = [np.random.random() for i in range(c.shape[1])]\n",
    "        for idx, value in zip(fixed_coef_indices, fixed_coef_values):\n",
    "            linear_classifier.coef_[0][idx] = value\n",
    "        \n",
    "        linear_classifier.fit(np.delete(x_train, fixed_coef_indices, axis=1), y_train[:,i])\n",
    "\n",
    "        predictions =  linear_classifier.predict(np.delete(x_test, fixed_coef_indices, axis=1))\n",
    "        accuracy = accuracy_score(y_test[:,i], predictions)\n",
    "        coeffs.append(fixed_coef_values)\n",
    "\n",
    "    coeffs = np.array(coeffs)\n",
    "    most_similar = {}\n",
    "    for i in range(c.shape[1]):\n",
    "        for j in range(c.shape[1]):\n",
    "            u = coeffs[:,i]\n",
    "            v = coeffs[:,j]\n",
    "            cosine_similarity = 1 - cosine(u, v)\n",
    "\n",
    "            if i not in most_similar:\n",
    "                most_similar[i] = (i,-1)\n",
    "            if j not in most_similar:\n",
    "                most_similar[j] = (j,-1)\n",
    "\n",
    "            if i != j and most_similar[i][1] < cosine_similarity:\n",
    "                most_similar[i] = (j,cosine_similarity)\n",
    "            if i != j and most_similar[j][1] < cosine_similarity:\n",
    "                most_similar[j] = (i,cosine_similarity)\n",
    "    return most_similar"
   ]
  },
  {
   "cell_type": "markdown",
   "metadata": {},
   "source": [
    "## Stability Tests"
   ]
  },
  {
   "cell_type": "code",
   "execution_count": 24,
   "metadata": {},
   "outputs": [],
   "source": [
    "def get_score(all_groups):\n",
    "    rate = []\n",
    "    for i in range(len(all_groups)):\n",
    "        for j in range(len(all_groups)):\n",
    "            if i!=j:\n",
    "                for k in range(4):\n",
    "                    if all_groups[i][k][0] == all_groups[j][k][0]:\n",
    "                        rate.append(1)\n",
    "                    else:\n",
    "                        rate.append(0)\n",
    "    return np.mean(rate)\n",
    "\n",
    "def get_similarity(group_1,group_2):\n",
    "    rate = []\n",
    "    for k in range(4):\n",
    "        if group_1[k][0] == group_2[k][0]:\n",
    "            rate.append(1)\n",
    "        else:\n",
    "            rate.append(0)\n",
    "    return np.mean(rate)\n",
    "\n"
   ]
  },
  {
   "cell_type": "code",
   "execution_count": 25,
   "metadata": {},
   "outputs": [
    {
     "data": {
      "text/plain": [
       "(1.0, 0.08333333333333333)"
      ]
     },
     "execution_count": 25,
     "metadata": {},
     "output_type": "execute_result"
    }
   ],
   "source": [
    "good_group_list = []\n",
    "bad_group_list = []\n",
    "\n",
    "for seed in [42,43,44]:\n",
    "    x,y,c = generate_data(seed)\n",
    "    good_groups = find_most_similar_groups(x,y,c)\n",
    "    bad_groups = find_most_similar_groups_bad(x,y,c)\n",
    "\n",
    "    good_group_list.append(good_groups)\n",
    "    bad_group_list.append(bad_groups)\n",
    "\n",
    "equality_rate_good = get_score(good_group_list)\n",
    "equality_rate_bad = get_score(bad_group_list)\n",
    "equality_rate_good, equality_rate_bad"
   ]
  },
  {
   "cell_type": "markdown",
   "metadata": {},
   "source": [
    "## Noise Tests"
   ]
  },
  {
   "cell_type": "code",
   "execution_count": 27,
   "metadata": {},
   "outputs": [
    {
     "name": "stdout",
     "output_type": "stream",
     "text": [
      "Noise 0 seed 42 Good 1.0 Bad 1.0\n",
      "Noise 0 seed 43 Good 1.0 Bad 1.0\n",
      "Noise 0 seed 44 Good 1.0 Bad 1.0\n",
      "Noise 0.2 seed 42 Good 1.0 Bad 1.0\n",
      "Noise 0.2 seed 43 Good 1.0 Bad 1.0\n",
      "Noise 0.2 seed 44 Good 1.0 Bad 1.0\n",
      "Noise 0.4 seed 42 Good 1.0 Bad 1.0\n",
      "Noise 0.4 seed 43 Good 1.0 Bad 1.0\n",
      "Noise 0.4 seed 44 Good 1.0 Bad 1.0\n",
      "Noise 0.5 seed 42 Good 0.0 Bad 1.0\n",
      "Noise 0.5 seed 43 Good 0.0 Bad 1.0\n",
      "Noise 0.5 seed 44 Good 0.75 Bad 1.0\n"
     ]
    }
   ],
   "source": [
    "noise_seed_good = {}\n",
    "noise_seed_bad = {}\n",
    "\n",
    "for noise in [0,0.2,0.4,0.5]:\n",
    "    noise_seed_good[noise] = {}\n",
    "    noise_seed_bad[noise] = {}\n",
    "    \n",
    "    for seed in [42,43,44]:\n",
    "        x,y,c = generate_data(seed,noise=noise)\n",
    "        good_groups = find_most_similar_groups(x,y,c)\n",
    "        bad_groups = find_most_similar_groups_bad(x,y,c)\n",
    "\n",
    "        rate_equal_good = get_similarity(good_group_list[seed-42],good_groups)\n",
    "        rate_equal_bad = get_similarity(bad_group_list[seed-42],bad_groups)\n",
    "\n",
    "        noise_seed_good[noise][seed] = rate_equal_good \n",
    "        noise_seed_bad[noise][seed] = rate_equal_bad\n",
    "\n",
    "        print(\"Noise {} seed {} Good {} Bad {}\".format(noise,seed,rate_equal_good,rate_equal_bad))"
   ]
  },
  {
   "cell_type": "markdown",
   "metadata": {},
   "source": [
    "## Writing Data"
   ]
  },
  {
   "cell_type": "code",
   "execution_count": 28,
   "metadata": {},
   "outputs": [],
   "source": [
    "data = {\n",
    "    'stability': \n",
    "    {'concept': equality_rate_good, \n",
    "    'random': equality_rate_bad}, \n",
    "    'robustness': \n",
    "    {'concept': noise_seed_good, \n",
    "    'random': noise_seed_bad}\n",
    "}"
   ]
  },
  {
   "cell_type": "code",
   "execution_count": 31,
   "metadata": {},
   "outputs": [],
   "source": [
    "json.dump(data,open(\"results/evaluation/synthetic/data.json\",\"w\"))"
   ]
  }
 ],
 "metadata": {
  "kernelspec": {
   "display_name": "concepts",
   "language": "python",
   "name": "python3"
  },
  "language_info": {
   "codemirror_mode": {
    "name": "ipython",
    "version": 3
   },
   "file_extension": ".py",
   "mimetype": "text/x-python",
   "name": "python",
   "nbconvert_exporter": "python",
   "pygments_lexer": "ipython3",
   "version": "3.7.12"
  }
 },
 "nbformat": 4,
 "nbformat_minor": 2
}
